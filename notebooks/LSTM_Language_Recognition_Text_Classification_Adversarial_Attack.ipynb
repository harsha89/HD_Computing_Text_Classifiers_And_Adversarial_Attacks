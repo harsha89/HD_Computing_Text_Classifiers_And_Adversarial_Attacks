{
  "cells": [
    {
      "cell_type": "code",
      "source": [
        "!pip install datasets\n"
      ],
      "metadata": {
        "colab": {
          "base_uri": "https://localhost:8080/"
        },
        "id": "hgY6eZUZ1Pca",
        "outputId": "cdd05d91-ea19-4f2b-d215-c1aa72ca8273"
      },
      "execution_count": null,
      "outputs": [
        {
          "output_type": "stream",
          "name": "stdout",
          "text": [
            "Collecting datasets\n",
            "  Downloading datasets-2.2.1-py3-none-any.whl (342 kB)\n",
            "\u001b[?25l\r\u001b[K     |█                               | 10 kB 36.2 MB/s eta 0:00:01\r\u001b[K     |██                              | 20 kB 28.2 MB/s eta 0:00:01\r\u001b[K     |██▉                             | 30 kB 19.6 MB/s eta 0:00:01\r\u001b[K     |███▉                            | 40 kB 16.6 MB/s eta 0:00:01\r\u001b[K     |████▉                           | 51 kB 7.9 MB/s eta 0:00:01\r\u001b[K     |█████▊                          | 61 kB 9.3 MB/s eta 0:00:01\r\u001b[K     |██████▊                         | 71 kB 9.6 MB/s eta 0:00:01\r\u001b[K     |███████▋                        | 81 kB 9.4 MB/s eta 0:00:01\r\u001b[K     |████████▋                       | 92 kB 10.4 MB/s eta 0:00:01\r\u001b[K     |█████████▋                      | 102 kB 8.7 MB/s eta 0:00:01\r\u001b[K     |██████████▌                     | 112 kB 8.7 MB/s eta 0:00:01\r\u001b[K     |███████████▌                    | 122 kB 8.7 MB/s eta 0:00:01\r\u001b[K     |████████████▌                   | 133 kB 8.7 MB/s eta 0:00:01\r\u001b[K     |█████████████▍                  | 143 kB 8.7 MB/s eta 0:00:01\r\u001b[K     |██████████████▍                 | 153 kB 8.7 MB/s eta 0:00:01\r\u001b[K     |███████████████▎                | 163 kB 8.7 MB/s eta 0:00:01\r\u001b[K     |████████████████▎               | 174 kB 8.7 MB/s eta 0:00:01\r\u001b[K     |█████████████████▎              | 184 kB 8.7 MB/s eta 0:00:01\r\u001b[K     |██████████████████▏             | 194 kB 8.7 MB/s eta 0:00:01\r\u001b[K     |███████████████████▏            | 204 kB 8.7 MB/s eta 0:00:01\r\u001b[K     |████████████████████            | 215 kB 8.7 MB/s eta 0:00:01\r\u001b[K     |█████████████████████           | 225 kB 8.7 MB/s eta 0:00:01\r\u001b[K     |██████████████████████          | 235 kB 8.7 MB/s eta 0:00:01\r\u001b[K     |███████████████████████         | 245 kB 8.7 MB/s eta 0:00:01\r\u001b[K     |████████████████████████        | 256 kB 8.7 MB/s eta 0:00:01\r\u001b[K     |█████████████████████████       | 266 kB 8.7 MB/s eta 0:00:01\r\u001b[K     |█████████████████████████▉      | 276 kB 8.7 MB/s eta 0:00:01\r\u001b[K     |██████████████████████████▉     | 286 kB 8.7 MB/s eta 0:00:01\r\u001b[K     |███████████████████████████▊    | 296 kB 8.7 MB/s eta 0:00:01\r\u001b[K     |████████████████████████████▊   | 307 kB 8.7 MB/s eta 0:00:01\r\u001b[K     |█████████████████████████████▊  | 317 kB 8.7 MB/s eta 0:00:01\r\u001b[K     |██████████████████████████████▋ | 327 kB 8.7 MB/s eta 0:00:01\r\u001b[K     |███████████████████████████████▋| 337 kB 8.7 MB/s eta 0:00:01\r\u001b[K     |████████████████████████████████| 342 kB 8.7 MB/s \n",
            "\u001b[?25hCollecting responses<0.19\n",
            "  Downloading responses-0.18.0-py3-none-any.whl (38 kB)\n",
            "Collecting xxhash\n",
            "  Downloading xxhash-3.0.0-cp37-cp37m-manylinux_2_17_x86_64.manylinux2014_x86_64.whl (212 kB)\n",
            "\u001b[K     |████████████████████████████████| 212 kB 73.5 MB/s \n",
            "\u001b[?25hRequirement already satisfied: packaging in /usr/local/lib/python3.7/dist-packages (from datasets) (21.3)\n",
            "Requirement already satisfied: requests>=2.19.0 in /usr/local/lib/python3.7/dist-packages (from datasets) (2.23.0)\n",
            "Collecting fsspec[http]>=2021.05.0\n",
            "  Downloading fsspec-2022.3.0-py3-none-any.whl (136 kB)\n",
            "\u001b[K     |████████████████████████████████| 136 kB 71.5 MB/s \n",
            "\u001b[?25hCollecting aiohttp\n",
            "  Downloading aiohttp-3.8.1-cp37-cp37m-manylinux_2_5_x86_64.manylinux1_x86_64.manylinux_2_12_x86_64.manylinux2010_x86_64.whl (1.1 MB)\n",
            "\u001b[K     |████████████████████████████████| 1.1 MB 77.9 MB/s \n",
            "\u001b[?25hCollecting huggingface-hub<1.0.0,>=0.1.0\n",
            "  Downloading huggingface_hub-0.6.0-py3-none-any.whl (84 kB)\n",
            "\u001b[K     |████████████████████████████████| 84 kB 3.8 MB/s \n",
            "\u001b[?25hRequirement already satisfied: pandas in /usr/local/lib/python3.7/dist-packages (from datasets) (1.3.5)\n",
            "Requirement already satisfied: numpy>=1.17 in /usr/local/lib/python3.7/dist-packages (from datasets) (1.21.6)\n",
            "Requirement already satisfied: multiprocess in /usr/local/lib/python3.7/dist-packages (from datasets) (0.70.12.2)\n",
            "Requirement already satisfied: importlib-metadata in /usr/local/lib/python3.7/dist-packages (from datasets) (4.11.3)\n",
            "Requirement already satisfied: pyarrow>=6.0.0 in /usr/local/lib/python3.7/dist-packages (from datasets) (6.0.1)\n",
            "Requirement already satisfied: dill in /usr/local/lib/python3.7/dist-packages (from datasets) (0.3.4)\n",
            "Requirement already satisfied: tqdm>=4.62.1 in /usr/local/lib/python3.7/dist-packages (from datasets) (4.64.0)\n",
            "Requirement already satisfied: pyyaml in /usr/local/lib/python3.7/dist-packages (from huggingface-hub<1.0.0,>=0.1.0->datasets) (3.13)\n",
            "Requirement already satisfied: typing-extensions>=3.7.4.3 in /usr/local/lib/python3.7/dist-packages (from huggingface-hub<1.0.0,>=0.1.0->datasets) (4.2.0)\n",
            "Requirement already satisfied: filelock in /usr/local/lib/python3.7/dist-packages (from huggingface-hub<1.0.0,>=0.1.0->datasets) (3.6.0)\n",
            "Requirement already satisfied: pyparsing!=3.0.5,>=2.0.2 in /usr/local/lib/python3.7/dist-packages (from packaging->datasets) (3.0.8)\n",
            "Requirement already satisfied: idna<3,>=2.5 in /usr/local/lib/python3.7/dist-packages (from requests>=2.19.0->datasets) (2.10)\n",
            "Requirement already satisfied: urllib3!=1.25.0,!=1.25.1,<1.26,>=1.21.1 in /usr/local/lib/python3.7/dist-packages (from requests>=2.19.0->datasets) (1.24.3)\n",
            "Requirement already satisfied: certifi>=2017.4.17 in /usr/local/lib/python3.7/dist-packages (from requests>=2.19.0->datasets) (2021.10.8)\n",
            "Requirement already satisfied: chardet<4,>=3.0.2 in /usr/local/lib/python3.7/dist-packages (from requests>=2.19.0->datasets) (3.0.4)\n",
            "Collecting urllib3!=1.25.0,!=1.25.1,<1.26,>=1.21.1\n",
            "  Downloading urllib3-1.25.11-py2.py3-none-any.whl (127 kB)\n",
            "\u001b[K     |████████████████████████████████| 127 kB 80.1 MB/s \n",
            "\u001b[?25hCollecting frozenlist>=1.1.1\n",
            "  Downloading frozenlist-1.3.0-cp37-cp37m-manylinux_2_5_x86_64.manylinux1_x86_64.manylinux_2_17_x86_64.manylinux2014_x86_64.whl (144 kB)\n",
            "\u001b[K     |████████████████████████████████| 144 kB 82.4 MB/s \n",
            "\u001b[?25hRequirement already satisfied: charset-normalizer<3.0,>=2.0 in /usr/local/lib/python3.7/dist-packages (from aiohttp->datasets) (2.0.12)\n",
            "Collecting multidict<7.0,>=4.5\n",
            "  Downloading multidict-6.0.2-cp37-cp37m-manylinux_2_17_x86_64.manylinux2014_x86_64.whl (94 kB)\n",
            "\u001b[K     |████████████████████████████████| 94 kB 3.6 MB/s \n",
            "\u001b[?25hCollecting aiosignal>=1.1.2\n",
            "  Downloading aiosignal-1.2.0-py3-none-any.whl (8.2 kB)\n",
            "Collecting yarl<2.0,>=1.0\n",
            "  Downloading yarl-1.7.2-cp37-cp37m-manylinux_2_5_x86_64.manylinux1_x86_64.manylinux_2_12_x86_64.manylinux2010_x86_64.whl (271 kB)\n",
            "\u001b[K     |████████████████████████████████| 271 kB 73.5 MB/s \n",
            "\u001b[?25hRequirement already satisfied: attrs>=17.3.0 in /usr/local/lib/python3.7/dist-packages (from aiohttp->datasets) (21.4.0)\n",
            "Collecting asynctest==0.13.0\n",
            "  Downloading asynctest-0.13.0-py3-none-any.whl (26 kB)\n",
            "Collecting async-timeout<5.0,>=4.0.0a3\n",
            "  Downloading async_timeout-4.0.2-py3-none-any.whl (5.8 kB)\n",
            "Requirement already satisfied: zipp>=0.5 in /usr/local/lib/python3.7/dist-packages (from importlib-metadata->datasets) (3.8.0)\n",
            "Requirement already satisfied: python-dateutil>=2.7.3 in /usr/local/lib/python3.7/dist-packages (from pandas->datasets) (2.8.2)\n",
            "Requirement already satisfied: pytz>=2017.3 in /usr/local/lib/python3.7/dist-packages (from pandas->datasets) (2022.1)\n",
            "Requirement already satisfied: six>=1.5 in /usr/local/lib/python3.7/dist-packages (from python-dateutil>=2.7.3->pandas->datasets) (1.15.0)\n",
            "Installing collected packages: multidict, frozenlist, yarl, urllib3, asynctest, async-timeout, aiosignal, fsspec, aiohttp, xxhash, responses, huggingface-hub, datasets\n",
            "  Attempting uninstall: urllib3\n",
            "    Found existing installation: urllib3 1.24.3\n",
            "    Uninstalling urllib3-1.24.3:\n",
            "      Successfully uninstalled urllib3-1.24.3\n",
            "\u001b[31mERROR: pip's dependency resolver does not currently take into account all the packages that are installed. This behaviour is the source of the following dependency conflicts.\n",
            "datascience 0.10.6 requires folium==0.2.1, but you have folium 0.8.3 which is incompatible.\u001b[0m\n",
            "Successfully installed aiohttp-3.8.1 aiosignal-1.2.0 async-timeout-4.0.2 asynctest-0.13.0 datasets-2.2.1 frozenlist-1.3.0 fsspec-2022.3.0 huggingface-hub-0.6.0 multidict-6.0.2 responses-0.18.0 urllib3-1.25.11 xxhash-3.0.0 yarl-1.7.2\n"
          ]
        }
      ]
    },
    {
      "cell_type": "code",
      "source": [
        "# !pip install torch==1.7.0\n",
        "# !pip install torchtext==0.10.0"
      ],
      "metadata": {
        "colab": {
          "base_uri": "https://localhost:8080/",
          "height": 714
        },
        "id": "rZVoV9qoBINP",
        "outputId": "2d0b73bc-4345-4e6e-b093-008228ef2742"
      },
      "execution_count": null,
      "outputs": [
        {
          "output_type": "stream",
          "name": "stdout",
          "text": [
            "Requirement already satisfied: torch==1.7.0 in /usr/local/lib/python3.7/dist-packages (1.7.0)\n",
            "Requirement already satisfied: dataclasses in /usr/local/lib/python3.7/dist-packages (from torch==1.7.0) (0.6)\n",
            "Requirement already satisfied: numpy in /usr/local/lib/python3.7/dist-packages (from torch==1.7.0) (1.21.6)\n",
            "Requirement already satisfied: future in /usr/local/lib/python3.7/dist-packages (from torch==1.7.0) (0.16.0)\n",
            "Requirement already satisfied: typing-extensions in /usr/local/lib/python3.7/dist-packages (from torch==1.7.0) (4.1.1)\n",
            "Collecting torchtext==0.10.0\n",
            "  Downloading torchtext-0.10.0-cp37-cp37m-manylinux1_x86_64.whl (7.6 MB)\n",
            "\u001b[K     |████████████████████████████████| 7.6 MB 26.9 MB/s \n",
            "\u001b[?25hRequirement already satisfied: requests in /usr/local/lib/python3.7/dist-packages (from torchtext==0.10.0) (2.27.1)\n",
            "Requirement already satisfied: numpy in /usr/local/lib/python3.7/dist-packages (from torchtext==0.10.0) (1.21.6)\n",
            "Requirement already satisfied: tqdm in /usr/local/lib/python3.7/dist-packages (from torchtext==0.10.0) (4.49.0)\n",
            "Collecting torch==1.9.0\n",
            "  Downloading torch-1.9.0-cp37-cp37m-manylinux1_x86_64.whl (831.4 MB)\n",
            "\u001b[K     |████████████████████████████████| 831.4 MB 2.6 kB/s \n",
            "\u001b[?25hRequirement already satisfied: typing-extensions in /usr/local/lib/python3.7/dist-packages (from torch==1.9.0->torchtext==0.10.0) (4.1.1)\n",
            "Requirement already satisfied: certifi>=2017.4.17 in /usr/local/lib/python3.7/dist-packages (from requests->torchtext==0.10.0) (2021.10.8)\n",
            "Requirement already satisfied: charset-normalizer~=2.0.0 in /usr/local/lib/python3.7/dist-packages (from requests->torchtext==0.10.0) (2.0.12)\n",
            "Requirement already satisfied: idna<4,>=2.5 in /usr/local/lib/python3.7/dist-packages (from requests->torchtext==0.10.0) (2.10)\n",
            "Requirement already satisfied: urllib3<1.27,>=1.21.1 in /usr/local/lib/python3.7/dist-packages (from requests->torchtext==0.10.0) (1.25.11)\n",
            "Installing collected packages: torch, torchtext\n",
            "  Attempting uninstall: torch\n",
            "    Found existing installation: torch 1.7.0\n",
            "    Uninstalling torch-1.7.0:\n",
            "      Successfully uninstalled torch-1.7.0\n",
            "  Attempting uninstall: torchtext\n",
            "    Found existing installation: torchtext 0.8.0\n",
            "    Uninstalling torchtext-0.8.0:\n",
            "      Successfully uninstalled torchtext-0.8.0\n",
            "\u001b[31mERROR: pip's dependency resolver does not currently take into account all the packages that are installed. This behaviour is the source of the following dependency conflicts.\n",
            "torchvision 0.11.1+cu111 requires torch==1.10.0, but you have torch 1.9.0 which is incompatible.\n",
            "torchaudio 0.10.0+cu111 requires torch==1.10.0, but you have torch 1.9.0 which is incompatible.\n",
            "textattack 0.3.0 requires numpy<1.19.0, but you have numpy 1.21.6 which is incompatible.\n",
            "textattack 0.3.0 requires torch==1.7.1, but you have torch 1.9.0 which is incompatible.\u001b[0m\n",
            "Successfully installed torch-1.9.0 torchtext-0.10.0\n"
          ]
        },
        {
          "output_type": "display_data",
          "data": {
            "application/vnd.colab-display-data+json": {
              "pip_warning": {
                "packages": [
                  "torch",
                  "torchtext"
                ]
              }
            }
          },
          "metadata": {}
        }
      ]
    },
    {
      "cell_type": "code",
      "execution_count": null,
      "metadata": {
        "id": "kxm8d6UH0Ipk",
        "colab": {
          "base_uri": "https://localhost:8080/",
          "height": 424
        },
        "outputId": "15589e88-a855-42ca-8f96-b86a88d527c2"
      },
      "outputs": [
        {
          "output_type": "execute_result",
          "data": {
            "text/plain": [
              "                                                   text class  label\n",
              "0     computer terminal systems cpml completes sale ...    ac      0\n",
              "1     chemlawn chem rises on hopes for higher bids c...    ac      0\n",
              "2     cofab inc buys gulfex for undisclosed amount c...    ac      0\n",
              "3     investment firms cut cyclops cyl stake a group...    ac      0\n",
              "4     american express axp seen in possible spinnoff...    ac      0\n",
              "...                                                 ...   ...    ...\n",
              "5480  volcker urges quick aid to debtor nations fede...    tr      7\n",
              "5481  volcker pushes spending cuts over trade bill f...    tr      7\n",
              "5482  japan cuts chip supply may produce shortage ja...    tr      7\n",
              "5483  u s urges surplus nations to boost growth lead...    tr      7\n",
              "5484  canadians urge exemption from u s trade bill a...    tr      7\n",
              "\n",
              "[5485 rows x 3 columns]"
            ],
            "text/html": [
              "\n",
              "  <div id=\"df-959ad5f4-a42b-4c78-94a9-da1ce1838a73\">\n",
              "    <div class=\"colab-df-container\">\n",
              "      <div>\n",
              "<style scoped>\n",
              "    .dataframe tbody tr th:only-of-type {\n",
              "        vertical-align: middle;\n",
              "    }\n",
              "\n",
              "    .dataframe tbody tr th {\n",
              "        vertical-align: top;\n",
              "    }\n",
              "\n",
              "    .dataframe thead th {\n",
              "        text-align: right;\n",
              "    }\n",
              "</style>\n",
              "<table border=\"1\" class=\"dataframe\">\n",
              "  <thead>\n",
              "    <tr style=\"text-align: right;\">\n",
              "      <th></th>\n",
              "      <th>text</th>\n",
              "      <th>class</th>\n",
              "      <th>label</th>\n",
              "    </tr>\n",
              "  </thead>\n",
              "  <tbody>\n",
              "    <tr>\n",
              "      <th>0</th>\n",
              "      <td>computer terminal systems cpml completes sale ...</td>\n",
              "      <td>ac</td>\n",
              "      <td>0</td>\n",
              "    </tr>\n",
              "    <tr>\n",
              "      <th>1</th>\n",
              "      <td>chemlawn chem rises on hopes for higher bids c...</td>\n",
              "      <td>ac</td>\n",
              "      <td>0</td>\n",
              "    </tr>\n",
              "    <tr>\n",
              "      <th>2</th>\n",
              "      <td>cofab inc buys gulfex for undisclosed amount c...</td>\n",
              "      <td>ac</td>\n",
              "      <td>0</td>\n",
              "    </tr>\n",
              "    <tr>\n",
              "      <th>3</th>\n",
              "      <td>investment firms cut cyclops cyl stake a group...</td>\n",
              "      <td>ac</td>\n",
              "      <td>0</td>\n",
              "    </tr>\n",
              "    <tr>\n",
              "      <th>4</th>\n",
              "      <td>american express axp seen in possible spinnoff...</td>\n",
              "      <td>ac</td>\n",
              "      <td>0</td>\n",
              "    </tr>\n",
              "    <tr>\n",
              "      <th>...</th>\n",
              "      <td>...</td>\n",
              "      <td>...</td>\n",
              "      <td>...</td>\n",
              "    </tr>\n",
              "    <tr>\n",
              "      <th>5480</th>\n",
              "      <td>volcker urges quick aid to debtor nations fede...</td>\n",
              "      <td>tr</td>\n",
              "      <td>7</td>\n",
              "    </tr>\n",
              "    <tr>\n",
              "      <th>5481</th>\n",
              "      <td>volcker pushes spending cuts over trade bill f...</td>\n",
              "      <td>tr</td>\n",
              "      <td>7</td>\n",
              "    </tr>\n",
              "    <tr>\n",
              "      <th>5482</th>\n",
              "      <td>japan cuts chip supply may produce shortage ja...</td>\n",
              "      <td>tr</td>\n",
              "      <td>7</td>\n",
              "    </tr>\n",
              "    <tr>\n",
              "      <th>5483</th>\n",
              "      <td>u s urges surplus nations to boost growth lead...</td>\n",
              "      <td>tr</td>\n",
              "      <td>7</td>\n",
              "    </tr>\n",
              "    <tr>\n",
              "      <th>5484</th>\n",
              "      <td>canadians urge exemption from u s trade bill a...</td>\n",
              "      <td>tr</td>\n",
              "      <td>7</td>\n",
              "    </tr>\n",
              "  </tbody>\n",
              "</table>\n",
              "<p>5485 rows × 3 columns</p>\n",
              "</div>\n",
              "      <button class=\"colab-df-convert\" onclick=\"convertToInteractive('df-959ad5f4-a42b-4c78-94a9-da1ce1838a73')\"\n",
              "              title=\"Convert this dataframe to an interactive table.\"\n",
              "              style=\"display:none;\">\n",
              "        \n",
              "  <svg xmlns=\"http://www.w3.org/2000/svg\" height=\"24px\"viewBox=\"0 0 24 24\"\n",
              "       width=\"24px\">\n",
              "    <path d=\"M0 0h24v24H0V0z\" fill=\"none\"/>\n",
              "    <path d=\"M18.56 5.44l.94 2.06.94-2.06 2.06-.94-2.06-.94-.94-2.06-.94 2.06-2.06.94zm-11 1L8.5 8.5l.94-2.06 2.06-.94-2.06-.94L8.5 2.5l-.94 2.06-2.06.94zm10 10l.94 2.06.94-2.06 2.06-.94-2.06-.94-.94-2.06-.94 2.06-2.06.94z\"/><path d=\"M17.41 7.96l-1.37-1.37c-.4-.4-.92-.59-1.43-.59-.52 0-1.04.2-1.43.59L10.3 9.45l-7.72 7.72c-.78.78-.78 2.05 0 2.83L4 21.41c.39.39.9.59 1.41.59.51 0 1.02-.2 1.41-.59l7.78-7.78 2.81-2.81c.8-.78.8-2.07 0-2.86zM5.41 20L4 18.59l7.72-7.72 1.47 1.35L5.41 20z\"/>\n",
              "  </svg>\n",
              "      </button>\n",
              "      \n",
              "  <style>\n",
              "    .colab-df-container {\n",
              "      display:flex;\n",
              "      flex-wrap:wrap;\n",
              "      gap: 12px;\n",
              "    }\n",
              "\n",
              "    .colab-df-convert {\n",
              "      background-color: #E8F0FE;\n",
              "      border: none;\n",
              "      border-radius: 50%;\n",
              "      cursor: pointer;\n",
              "      display: none;\n",
              "      fill: #1967D2;\n",
              "      height: 32px;\n",
              "      padding: 0 0 0 0;\n",
              "      width: 32px;\n",
              "    }\n",
              "\n",
              "    .colab-df-convert:hover {\n",
              "      background-color: #E2EBFA;\n",
              "      box-shadow: 0px 1px 2px rgba(60, 64, 67, 0.3), 0px 1px 3px 1px rgba(60, 64, 67, 0.15);\n",
              "      fill: #174EA6;\n",
              "    }\n",
              "\n",
              "    [theme=dark] .colab-df-convert {\n",
              "      background-color: #3B4455;\n",
              "      fill: #D2E3FC;\n",
              "    }\n",
              "\n",
              "    [theme=dark] .colab-df-convert:hover {\n",
              "      background-color: #434B5C;\n",
              "      box-shadow: 0px 1px 3px 1px rgba(0, 0, 0, 0.15);\n",
              "      filter: drop-shadow(0px 1px 2px rgba(0, 0, 0, 0.3));\n",
              "      fill: #FFFFFF;\n",
              "    }\n",
              "  </style>\n",
              "\n",
              "      <script>\n",
              "        const buttonEl =\n",
              "          document.querySelector('#df-959ad5f4-a42b-4c78-94a9-da1ce1838a73 button.colab-df-convert');\n",
              "        buttonEl.style.display =\n",
              "          google.colab.kernel.accessAllowed ? 'block' : 'none';\n",
              "\n",
              "        async function convertToInteractive(key) {\n",
              "          const element = document.querySelector('#df-959ad5f4-a42b-4c78-94a9-da1ce1838a73');\n",
              "          const dataTable =\n",
              "            await google.colab.kernel.invokeFunction('convertToInteractive',\n",
              "                                                     [key], {});\n",
              "          if (!dataTable) return;\n",
              "\n",
              "          const docLinkHtml = 'Like what you see? Visit the ' +\n",
              "            '<a target=\"_blank\" href=https://colab.research.google.com/notebooks/data_table.ipynb>data table notebook</a>'\n",
              "            + ' to learn more about interactive tables.';\n",
              "          element.innerHTML = '';\n",
              "          dataTable['output_type'] = 'display_data';\n",
              "          await google.colab.output.renderOutput(dataTable, element);\n",
              "          const docLink = document.createElement('div');\n",
              "          docLink.innerHTML = docLinkHtml;\n",
              "          element.appendChild(docLink);\n",
              "        }\n",
              "      </script>\n",
              "    </div>\n",
              "  </div>\n",
              "  "
            ]
          },
          "metadata": {},
          "execution_count": 34
        }
      ],
      "source": [
        "from os import listdir\n",
        "from os.path import isfile, join\n",
        "import pandas as pd\n",
        "from sklearn.feature_extraction.text import TfidfVectorizer, CountVectorizer, ENGLISH_STOP_WORDS\n",
        "from sklearn.naive_bayes import MultinomialNB\n",
        "from sklearn.linear_model import LogisticRegression\n",
        "from sklearn.svm import SVC\n",
        "\n",
        "\n",
        "# df_train = pd.read_csv(\"language_train.csv\")\n",
        "# df_test = pd.read_csv(\"language_test.csv\")\n",
        "\n",
        "df_train = pd.read_csv(\"reuters_8_class_train_final.csv\")\n",
        "df_test = pd.read_csv(\"reuters_8_class_test_final.csv\")\n",
        "\n",
        "df_train"
      ]
    },
    {
      "cell_type": "code",
      "source": [
        "# df_train = df_train.rename({'class':'label'}, axis='columns')\n",
        "# df_test = df_test.rename({'class':'label'}, axis='columns')\n",
        "# df_test"
      ],
      "metadata": {
        "colab": {
          "base_uri": "https://localhost:8080/",
          "height": 424
        },
        "id": "ysHLUeZX0f9d",
        "outputId": "8bc96e21-ce73-4d90-d994-8ebee40487ad"
      },
      "execution_count": null,
      "outputs": [
        {
          "output_type": "execute_result",
          "data": {
            "text/plain": [
              "      Unnamed: 0                                               text  label  \\\n",
              "0              0  sumitomo bank aims at quick recovery from merg...     ac   \n",
              "1              1  cra sold forrest gold for mln dlrs whim creek ...     ac   \n",
              "2              2  conrac cax in merger talks with several conrac...     ac   \n",
              "3              3  polycast ptcc reduces spartech sptn stake poly...     ac   \n",
              "4              4  hospital corp says it received dlr a share off...     ac   \n",
              "...          ...                                                ...    ...   \n",
              "2196        2196  u s house speaker denies trade bill hurt stock...     tr   \n",
              "2197        2197  cairns group said influential in trade talks a...     tr   \n",
              "2198        2198  philippine trade gap widens in january august ...     tr   \n",
              "2199        2199  soviet trade deficit with west soars in the so...     tr   \n",
              "2200        2200  canada february trade surplus billion dlrs aft...     tr   \n",
              "\n",
              "      label  \n",
              "0         0  \n",
              "1         0  \n",
              "2         0  \n",
              "3         0  \n",
              "4         0  \n",
              "...     ...  \n",
              "2196      7  \n",
              "2197      7  \n",
              "2198      7  \n",
              "2199      7  \n",
              "2200      7  \n",
              "\n",
              "[2201 rows x 4 columns]"
            ],
            "text/html": [
              "\n",
              "  <div id=\"df-79b09ccd-84ed-45a3-bae4-3356e6bc97da\">\n",
              "    <div class=\"colab-df-container\">\n",
              "      <div>\n",
              "<style scoped>\n",
              "    .dataframe tbody tr th:only-of-type {\n",
              "        vertical-align: middle;\n",
              "    }\n",
              "\n",
              "    .dataframe tbody tr th {\n",
              "        vertical-align: top;\n",
              "    }\n",
              "\n",
              "    .dataframe thead th {\n",
              "        text-align: right;\n",
              "    }\n",
              "</style>\n",
              "<table border=\"1\" class=\"dataframe\">\n",
              "  <thead>\n",
              "    <tr style=\"text-align: right;\">\n",
              "      <th></th>\n",
              "      <th>Unnamed: 0</th>\n",
              "      <th>text</th>\n",
              "      <th>label</th>\n",
              "      <th>label</th>\n",
              "    </tr>\n",
              "  </thead>\n",
              "  <tbody>\n",
              "    <tr>\n",
              "      <th>0</th>\n",
              "      <td>0</td>\n",
              "      <td>sumitomo bank aims at quick recovery from merg...</td>\n",
              "      <td>ac</td>\n",
              "      <td>0</td>\n",
              "    </tr>\n",
              "    <tr>\n",
              "      <th>1</th>\n",
              "      <td>1</td>\n",
              "      <td>cra sold forrest gold for mln dlrs whim creek ...</td>\n",
              "      <td>ac</td>\n",
              "      <td>0</td>\n",
              "    </tr>\n",
              "    <tr>\n",
              "      <th>2</th>\n",
              "      <td>2</td>\n",
              "      <td>conrac cax in merger talks with several conrac...</td>\n",
              "      <td>ac</td>\n",
              "      <td>0</td>\n",
              "    </tr>\n",
              "    <tr>\n",
              "      <th>3</th>\n",
              "      <td>3</td>\n",
              "      <td>polycast ptcc reduces spartech sptn stake poly...</td>\n",
              "      <td>ac</td>\n",
              "      <td>0</td>\n",
              "    </tr>\n",
              "    <tr>\n",
              "      <th>4</th>\n",
              "      <td>4</td>\n",
              "      <td>hospital corp says it received dlr a share off...</td>\n",
              "      <td>ac</td>\n",
              "      <td>0</td>\n",
              "    </tr>\n",
              "    <tr>\n",
              "      <th>...</th>\n",
              "      <td>...</td>\n",
              "      <td>...</td>\n",
              "      <td>...</td>\n",
              "      <td>...</td>\n",
              "    </tr>\n",
              "    <tr>\n",
              "      <th>2196</th>\n",
              "      <td>2196</td>\n",
              "      <td>u s house speaker denies trade bill hurt stock...</td>\n",
              "      <td>tr</td>\n",
              "      <td>7</td>\n",
              "    </tr>\n",
              "    <tr>\n",
              "      <th>2197</th>\n",
              "      <td>2197</td>\n",
              "      <td>cairns group said influential in trade talks a...</td>\n",
              "      <td>tr</td>\n",
              "      <td>7</td>\n",
              "    </tr>\n",
              "    <tr>\n",
              "      <th>2198</th>\n",
              "      <td>2198</td>\n",
              "      <td>philippine trade gap widens in january august ...</td>\n",
              "      <td>tr</td>\n",
              "      <td>7</td>\n",
              "    </tr>\n",
              "    <tr>\n",
              "      <th>2199</th>\n",
              "      <td>2199</td>\n",
              "      <td>soviet trade deficit with west soars in the so...</td>\n",
              "      <td>tr</td>\n",
              "      <td>7</td>\n",
              "    </tr>\n",
              "    <tr>\n",
              "      <th>2200</th>\n",
              "      <td>2200</td>\n",
              "      <td>canada february trade surplus billion dlrs aft...</td>\n",
              "      <td>tr</td>\n",
              "      <td>7</td>\n",
              "    </tr>\n",
              "  </tbody>\n",
              "</table>\n",
              "<p>2201 rows × 4 columns</p>\n",
              "</div>\n",
              "      <button class=\"colab-df-convert\" onclick=\"convertToInteractive('df-79b09ccd-84ed-45a3-bae4-3356e6bc97da')\"\n",
              "              title=\"Convert this dataframe to an interactive table.\"\n",
              "              style=\"display:none;\">\n",
              "        \n",
              "  <svg xmlns=\"http://www.w3.org/2000/svg\" height=\"24px\"viewBox=\"0 0 24 24\"\n",
              "       width=\"24px\">\n",
              "    <path d=\"M0 0h24v24H0V0z\" fill=\"none\"/>\n",
              "    <path d=\"M18.56 5.44l.94 2.06.94-2.06 2.06-.94-2.06-.94-.94-2.06-.94 2.06-2.06.94zm-11 1L8.5 8.5l.94-2.06 2.06-.94-2.06-.94L8.5 2.5l-.94 2.06-2.06.94zm10 10l.94 2.06.94-2.06 2.06-.94-2.06-.94-.94-2.06-.94 2.06-2.06.94z\"/><path d=\"M17.41 7.96l-1.37-1.37c-.4-.4-.92-.59-1.43-.59-.52 0-1.04.2-1.43.59L10.3 9.45l-7.72 7.72c-.78.78-.78 2.05 0 2.83L4 21.41c.39.39.9.59 1.41.59.51 0 1.02-.2 1.41-.59l7.78-7.78 2.81-2.81c.8-.78.8-2.07 0-2.86zM5.41 20L4 18.59l7.72-7.72 1.47 1.35L5.41 20z\"/>\n",
              "  </svg>\n",
              "      </button>\n",
              "      \n",
              "  <style>\n",
              "    .colab-df-container {\n",
              "      display:flex;\n",
              "      flex-wrap:wrap;\n",
              "      gap: 12px;\n",
              "    }\n",
              "\n",
              "    .colab-df-convert {\n",
              "      background-color: #E8F0FE;\n",
              "      border: none;\n",
              "      border-radius: 50%;\n",
              "      cursor: pointer;\n",
              "      display: none;\n",
              "      fill: #1967D2;\n",
              "      height: 32px;\n",
              "      padding: 0 0 0 0;\n",
              "      width: 32px;\n",
              "    }\n",
              "\n",
              "    .colab-df-convert:hover {\n",
              "      background-color: #E2EBFA;\n",
              "      box-shadow: 0px 1px 2px rgba(60, 64, 67, 0.3), 0px 1px 3px 1px rgba(60, 64, 67, 0.15);\n",
              "      fill: #174EA6;\n",
              "    }\n",
              "\n",
              "    [theme=dark] .colab-df-convert {\n",
              "      background-color: #3B4455;\n",
              "      fill: #D2E3FC;\n",
              "    }\n",
              "\n",
              "    [theme=dark] .colab-df-convert:hover {\n",
              "      background-color: #434B5C;\n",
              "      box-shadow: 0px 1px 3px 1px rgba(0, 0, 0, 0.15);\n",
              "      filter: drop-shadow(0px 1px 2px rgba(0, 0, 0, 0.3));\n",
              "      fill: #FFFFFF;\n",
              "    }\n",
              "  </style>\n",
              "\n",
              "      <script>\n",
              "        const buttonEl =\n",
              "          document.querySelector('#df-79b09ccd-84ed-45a3-bae4-3356e6bc97da button.colab-df-convert');\n",
              "        buttonEl.style.display =\n",
              "          google.colab.kernel.accessAllowed ? 'block' : 'none';\n",
              "\n",
              "        async function convertToInteractive(key) {\n",
              "          const element = document.querySelector('#df-79b09ccd-84ed-45a3-bae4-3356e6bc97da');\n",
              "          const dataTable =\n",
              "            await google.colab.kernel.invokeFunction('convertToInteractive',\n",
              "                                                     [key], {});\n",
              "          if (!dataTable) return;\n",
              "\n",
              "          const docLinkHtml = 'Like what you see? Visit the ' +\n",
              "            '<a target=\"_blank\" href=https://colab.research.google.com/notebooks/data_table.ipynb>data table notebook</a>'\n",
              "            + ' to learn more about interactive tables.';\n",
              "          element.innerHTML = '';\n",
              "          dataTable['output_type'] = 'display_data';\n",
              "          await google.colab.output.renderOutput(dataTable, element);\n",
              "          const docLink = document.createElement('div');\n",
              "          docLink.innerHTML = docLinkHtml;\n",
              "          element.appendChild(docLink);\n",
              "        }\n",
              "      </script>\n",
              "    </div>\n",
              "  </div>\n",
              "  "
            ]
          },
          "metadata": {},
          "execution_count": 35
        }
      ]
    },
    {
      "cell_type": "code",
      "execution_count": null,
      "metadata": {
        "colab": {
          "base_uri": "https://localhost:8080/"
        },
        "id": "ur6aU2Ne0Ipn",
        "outputId": "0a0138cc-fd7e-4074-f660-ff3ccc216be7"
      },
      "outputs": [
        {
          "output_type": "execute_result",
          "data": {
            "text/plain": [
              "<torch._C.Generator at 0x7fdac2a52a10>"
            ]
          },
          "metadata": {},
          "execution_count": 35
        }
      ],
      "source": [
        "import functools\n",
        "import sys\n",
        "\n",
        "import datasets\n",
        "import matplotlib.pyplot as plt\n",
        "import numpy as np\n",
        "import torch\n",
        "import torch.nn as nn\n",
        "import torch.optim as optim\n",
        "import torchtext\n",
        "import tqdm\n",
        "from datasets import Dataset\n",
        "\n",
        "seed = 0\n",
        "\n",
        "torch.manual_seed(seed)"
      ]
    },
    {
      "cell_type": "code",
      "execution_count": null,
      "metadata": {
        "id": "YljZ0Qg60Ipo"
      },
      "outputs": [],
      "source": [
        "train_data = Dataset.from_pandas(df_train)\n",
        "test_data = Dataset.from_pandas(df_test)"
      ]
    },
    {
      "cell_type": "code",
      "execution_count": null,
      "metadata": {
        "colab": {
          "base_uri": "https://localhost:8080/"
        },
        "id": "yAA_9gUd0Ipo",
        "outputId": "1df9c489-0591-40d9-92aa-a0922ef9e504"
      },
      "outputs": [
        {
          "output_type": "execute_result",
          "data": {
            "text/plain": [
              "Dataset({\n",
              "    features: ['text', 'class', 'label'],\n",
              "    num_rows: 2201\n",
              "})"
            ]
          },
          "metadata": {},
          "execution_count": 5
        }
      ],
      "source": [
        "test_data"
      ]
    },
    {
      "cell_type": "code",
      "execution_count": null,
      "metadata": {
        "colab": {
          "base_uri": "https://localhost:8080/",
          "height": 594,
          "referenced_widgets": [
            "3137df52422e44dd901a816dcfe5985f",
            "bb90d58ccfc34ceaa40a112cefe15932",
            "ba1520c31ec54ccd9046b186f1f52fec",
            "550f3a06368e4ade95f9842377e9144f",
            "5ee8dd4ca1394403ab933cee152d9bc6",
            "565da5d24ece4be08fad865897ebe3d3",
            "4fc12982e8a24338bddae5c7cb8d3b32",
            "fba249e6ae1848769a7eff10eac72d52",
            "cb1a1ea3f12f4ff1bcca1543a2e95e1c",
            "96628512fd5f4a5da81de78469435b30",
            "a22e2268db1248888a1899b03ca0e7b6",
            "caaf71c3a8d7499d9b3cc20dfe0d0fcf",
            "0686c31aa0c440c587af5a6d96119e32",
            "bfc0363e83c9466498ba71c9ae3d625a",
            "59424aae5fb2463ab761bc30a0e92528",
            "a74de4941fb74ddb92b9ca15868e1440",
            "13897d141e6d40c3bf972c5bb2eacbd3",
            "eb6df43c9e7b46d18742e949f6a3f290",
            "2989e6b050714c24ba8e8e21d3c3fde3",
            "e76626ad6faa4aa48feac3c4bad4a761",
            "32881af61a2c45849b7be244c2ff1996",
            "e3c75c06017441969f5b73ab166fbee8",
            "43d0a0cd21f443b69a8525ab709318f9",
            "112d5cdf80644ea79514326133ecc109",
            "3d20fde968e744099b865837213bf57d",
            "7415328737ea46b399e9df84657b9904",
            "87c95152b6aa4af38accdd12efa10288",
            "d3f2ef0983384bea99ceccacb10fbf59",
            "d1e29df51a30451da42dc6f9a0be7f37",
            "9855f43a73004075a40819917a461db0",
            "7df91cfcb36646c1ba7dd851a11221b7",
            "eef4227989e347cf810a9d5af6d12699",
            "0369a3ed66044cf5aca0861ceb4ba24a",
            "ae3d043381914e7e910d22ec9638b367",
            "28af9aa2aadc483a8794d98f8f6f0cd3",
            "783cdc14bbfd4cc5975c6ad5e39d9f34",
            "3bf7c1e13e2f4f119e2b8d175d4928c2",
            "88f0aa1bb5c5489c8d8234487644dd7b",
            "479249532cdd4decb17012f9ddd9763c",
            "8bdfeea23ed4417196635417f4dc6635",
            "ee5389066ff644969776d1f187e4bbd1",
            "cf75ea1625d0444880e5d614e68a3627",
            "45f9fb22ca8a48e6aba1ea4901b0291e",
            "1691d859c8c14565bd24037c05dd7b02",
            "602515218a2d409782f2dbae09731b97",
            "d1ddc870c16a42cabaed01e450c07e0e",
            "6c07a9f0edcd4e6f9057d20983f1c957",
            "3470f6234e994c99873e9a599fe28a62",
            "ba2b0ac69c2b49a988e58e7fcc4a9a0e",
            "53e351bc1ff2446f89566c7ee7578569",
            "23325d35beb949a7baae731708c2b445",
            "7ddd1d48e59a46488df6bf4014e5d145",
            "35ff1c4479414f53a30ab75c30cdbbd8",
            "ba92b959968c4914b23d6bec5a3acd7a",
            "0b823fe6aebe46a0bdf80c39f16a277e"
          ]
        },
        "id": "FBVvqsOJ0Ipo",
        "outputId": "37d35c4f-77a2-4c41-cc03-eba9f1faed9f"
      },
      "outputs": [
        {
          "output_type": "display_data",
          "data": {
            "text/plain": [
              "  0%|          | 0/5485 [00:00<?, ?ex/s]"
            ],
            "application/vnd.jupyter.widget-view+json": {
              "version_major": 2,
              "version_minor": 0,
              "model_id": "3137df52422e44dd901a816dcfe5985f"
            }
          },
          "metadata": {}
        },
        {
          "output_type": "display_data",
          "data": {
            "text/plain": [
              "  0%|          | 0/2201 [00:00<?, ?ex/s]"
            ],
            "application/vnd.jupyter.widget-view+json": {
              "version_major": 2,
              "version_minor": 0,
              "model_id": "caaf71c3a8d7499d9b3cc20dfe0d0fcf"
            }
          },
          "metadata": {}
        },
        {
          "output_type": "display_data",
          "data": {
            "text/plain": [
              "  0%|          | 0/5485 [00:00<?, ?ex/s]"
            ],
            "application/vnd.jupyter.widget-view+json": {
              "version_major": 2,
              "version_minor": 0,
              "model_id": "43d0a0cd21f443b69a8525ab709318f9"
            }
          },
          "metadata": {}
        },
        {
          "output_type": "display_data",
          "data": {
            "text/plain": [
              "  0%|          | 0/2201 [00:00<?, ?ex/s]"
            ],
            "application/vnd.jupyter.widget-view+json": {
              "version_major": 2,
              "version_minor": 0,
              "model_id": "ae3d043381914e7e910d22ec9638b367"
            }
          },
          "metadata": {}
        },
        {
          "output_type": "display_data",
          "data": {
            "text/plain": [
              "  0%|          | 0/2201 [00:00<?, ?ex/s]"
            ],
            "application/vnd.jupyter.widget-view+json": {
              "version_major": 2,
              "version_minor": 0,
              "model_id": "602515218a2d409782f2dbae09731b97"
            }
          },
          "metadata": {}
        },
        {
          "output_type": "stream",
          "name": "stdout",
          "text": [
            "Dataset({\n",
            "    features: ['text', 'class', 'label', 'tokens', 'length', 'ids'],\n",
            "    num_rows: 2201\n",
            "})\n"
          ]
        },
        {
          "output_type": "execute_result",
          "data": {
            "text/plain": [
              "{'ids': tensor([ 413, 1832,  232,    0,  604,   93,  413, 1832,  232,   25,    7,   13,\n",
              "           37,  291,    2,   93,    3,   41,    3,   19,   85,   51,    9,  901,\n",
              "            4,  180,   42,  428,   53,    8,   41,    4,    0,  378, 1781,    3,\n",
              "            0, 2365,   14,   11,    2,   24,    7,    2,  901,   76, 2405,   14,\n",
              "          108,  233,   35,    6,  196,  131,    3,   11,   68,   36,  413, 1832,\n",
              "            7,    0,   65,   37,    2,  580,    4,  132,  428,   41,    9,  159,\n",
              "           19,  138,  336,   88,    4,   22,    3,    2,  413, 1832,   15,  170,\n",
              "           85,   51,  134,  408, 1787, 2145,  448,    3,  304,   35,    2,   24,\n",
              "            2,   24,    7,  136,    2,  559, 2631,    2,  901,   47,   33, 2405,\n",
              "           35,    6,  131, 1182,    4,   22,    3,   19,   85,   51,   15,   81,\n",
              "          131,   35,    2,  221,   49,    4, 1207,   11,   68,   36,  413, 1832,\n",
              "           65,    7,   13,  284,    2,    0,  449,    4,   19, 1418,    0,  846,\n",
              "          527,  332,  211,  385, 2615,    4,    0,   25,    3, 1290,    0,   14,\n",
              "           11,   62,   13,    7,   13,   47,  344,    4,   33,    2, 3436, 1090,\n",
              "         3777,    3,    2,  527,   14,    0,    2,   24,    7,    2, 1064,   73,\n",
              "          286,    3,   19, 1632,  257,    9,   47,  394,   99,  147,  748,  311,\n",
              "            9, 2129,  664, 1614,  413, 1832,  707,  413, 3045,    0, 3223,    0,\n",
              "            9, 5204,    0,    9, 3892,   16]),\n",
              " 'label': tensor(0),\n",
              " 'length': tensor(210)}"
            ]
          },
          "metadata": {},
          "execution_count": 37
        }
      ],
      "source": [
        "tokenizer = torchtext.data.utils.get_tokenizer('basic_english')\n",
        "def tokenize_data(example, tokenizer, max_length):\n",
        "    tokens = tokenizer(example['text'])[:max_length]\n",
        "    length = len(tokens)\n",
        "    return {'tokens': tokens, 'length': length}\n",
        "\n",
        "max_length = 256\n",
        "\n",
        "train_data = train_data.map(tokenize_data, fn_kwargs={'tokenizer': tokenizer, 'max_length': max_length})\n",
        "test_data = test_data.map(tokenize_data, fn_kwargs={'tokenizer': tokenizer, 'max_length': max_length})\n",
        "\n",
        "test_size = 0.25\n",
        "\n",
        "# train_valid_data = train_data.train_test_split(test_size=test_size)\n",
        "# train_data = train_valid_data['train']\n",
        "valid_data = test_data\n",
        "\n",
        "min_freq = 5\n",
        "special_tokens = ['<unk>', '<pad>']\n",
        "\n",
        "vocab = torchtext.vocab.build_vocab_from_iterator(train_data['tokens'],\n",
        "                                                  min_freq=min_freq,\n",
        "                                                  specials=special_tokens)\n",
        "\n",
        "unk_index = vocab['<unk>']\n",
        "pad_index = vocab['<pad>']\n",
        "\n",
        "vocab.set_default_index(unk_index)\n",
        "def numericalize_data(example, vocab):\n",
        "    ids = [vocab[token] for token in example['tokens']]\n",
        "    return {'ids': ids}\n",
        "\n",
        "train_data = train_data.map(numericalize_data, fn_kwargs={'vocab': vocab})\n",
        "valid_data = valid_data.map(numericalize_data, fn_kwargs={'vocab': vocab})\n",
        "test_data = test_data.map(numericalize_data, fn_kwargs={'vocab': vocab})\n",
        "print(test_data)\n",
        "train_data = train_data.with_format(type='torch', columns=['ids', 'label', 'length'])\n",
        "valid_data = valid_data.with_format(type='torch', columns=['ids', 'label', 'length'])\n",
        "test_data = test_data.with_format(type='torch', columns=['ids', 'label', 'length'])\n",
        "\n",
        "train_data[0]\n"
      ]
    },
    {
      "cell_type": "code",
      "source": [
        "train_data"
      ],
      "metadata": {
        "colab": {
          "base_uri": "https://localhost:8080/"
        },
        "id": "IFTbWWoYC5nb",
        "outputId": "8a7e73b6-7482-4056-88ca-8bee76feaa8d"
      },
      "execution_count": null,
      "outputs": [
        {
          "output_type": "execute_result",
          "data": {
            "text/plain": [
              "Dataset({\n",
              "    features: ['text', 'class', 'label', 'tokens', 'length', 'ids'],\n",
              "    num_rows: 5485\n",
              "})"
            ]
          },
          "metadata": {},
          "execution_count": 38
        }
      ]
    },
    {
      "cell_type": "code",
      "execution_count": null,
      "metadata": {
        "id": "RrDejprl0Ipq"
      },
      "outputs": [],
      "source": [
        "class LSTM(nn.Module):\n",
        "    def __init__(self, vocab_size, embedding_dim, hidden_dim, output_dim, n_layers, bidirectional,\n",
        "                 dropout_rate, pad_index):\n",
        "        super().__init__()\n",
        "        self.embedding = nn.Embedding(vocab_size, embedding_dim, padding_idx=pad_index)\n",
        "        self.lstm = nn.LSTM(embedding_dim, hidden_dim, n_layers, bidirectional=bidirectional,\n",
        "                            dropout=dropout_rate, batch_first=True)\n",
        "        self.fc = nn.Linear(hidden_dim * 2 if bidirectional else hidden_dim, output_dim)\n",
        "        self.dropout = nn.Dropout(dropout_rate)\n",
        "    \n",
        "    def init_weights(self):\n",
        "        initrange = 0.5\n",
        "        self.embedding.weight.data.uniform_(-initrange, initrange)\n",
        "        \n",
        "    def forward(self, ids, length):\n",
        "        # ids = [batch size, seq len]\n",
        "        # length = [batch size]\n",
        "        embedded = self.dropout(self.embedding(ids))\n",
        "        # embedded = [batch size, seq len, embedding dim]\n",
        "        packed_embedded = nn.utils.rnn.pack_padded_sequence(embedded, length, batch_first=True, \n",
        "                                                            enforce_sorted=False)\n",
        "        packed_output, (hidden, cell) = self.lstm(packed_embedded)\n",
        "        # hidden = [n layers * n directions, batch size, hidden dim]\n",
        "        # cell = [n layers * n directions, batch size, hidden dim]\n",
        "        output, output_length = nn.utils.rnn.pad_packed_sequence(packed_output)\n",
        "        # output = [batch size, seq len, hidden dim * n directions]\n",
        "        if self.lstm.bidirectional:\n",
        "            hidden = self.dropout(torch.cat([hidden[-1], hidden[-2]], dim=-1))\n",
        "            # hidden = [batch size, hidden dim * 2]\n",
        "        else:\n",
        "            hidden = self.dropout(hidden[-1])\n",
        "            # hidden = [batch size, hidden dim]\n",
        "        prediction = self.fc(hidden)\n",
        "        # prediction = [batch size, output dim]\n",
        "        return prediction"
      ]
    },
    {
      "cell_type": "code",
      "execution_count": null,
      "metadata": {
        "id": "jWL5jkP30Ipr"
      },
      "outputs": [],
      "source": [
        "vocab_size = len(vocab)\n",
        "embedding_dim = 100\n",
        "hidden_dim = 100\n",
        "output_dim = len(train_data.unique('label'))\n",
        "n_layers = 2\n",
        "bidirectional = True\n",
        "dropout_rate = 0.3\n",
        "\n",
        "model = LSTM(vocab_size, embedding_dim, hidden_dim, output_dim, n_layers, bidirectional, dropout_rate, \n",
        "             pad_index)"
      ]
    },
    {
      "cell_type": "code",
      "source": [
        "output_dim = len(train_data.unique('label'))\n",
        "output_dim"
      ],
      "metadata": {
        "colab": {
          "base_uri": "https://localhost:8080/"
        },
        "id": "RWwTJl9ZHEvw",
        "outputId": "68c45b44-4796-4134-9e24-63236346464a"
      },
      "execution_count": null,
      "outputs": [
        {
          "output_type": "execute_result",
          "data": {
            "text/plain": [
              "8"
            ]
          },
          "metadata": {},
          "execution_count": 54
        }
      ]
    },
    {
      "cell_type": "code",
      "execution_count": null,
      "metadata": {
        "colab": {
          "base_uri": "https://localhost:8080/"
        },
        "id": "Lp6pELHF0Ipr",
        "outputId": "15b8b25f-7cac-4c70-e01a-6c7afd0c8da0"
      },
      "outputs": [
        {
          "output_type": "stream",
          "name": "stdout",
          "text": [
            "The model has 1,009,508 trainable parameters\n"
          ]
        }
      ],
      "source": [
        "def count_parameters(model):\n",
        "    return sum(p.numel() for p in model.parameters() if p.requires_grad)\n",
        "\n",
        "print(f'The model has {count_parameters(model):,} trainable parameters')"
      ]
    },
    {
      "cell_type": "code",
      "execution_count": null,
      "metadata": {
        "id": "03wund7r0Ips"
      },
      "outputs": [],
      "source": [
        "def initialize_weights(m):\n",
        "    if isinstance(m, nn.Linear):\n",
        "        nn.init.xavier_normal_(m.weight)\n",
        "        nn.init.zeros_(m.bias)\n",
        "    elif isinstance(m, nn.LSTM):\n",
        "        for name, param in m.named_parameters():\n",
        "            if 'bias' in name:\n",
        "                nn.init.zeros_(param)\n",
        "            elif 'weight' in name:\n",
        "                nn.init.orthogonal_(param)"
      ]
    },
    {
      "cell_type": "code",
      "execution_count": null,
      "metadata": {
        "id": "YVh27Ar70Ips",
        "colab": {
          "base_uri": "https://localhost:8080/"
        },
        "outputId": "e762139f-aeee-4516-de0f-ce69fc58129c"
      },
      "outputs": [
        {
          "output_type": "execute_result",
          "data": {
            "text/plain": [
              "LSTM(\n",
              "  (embedding): Embedding(6047, 100, padding_idx=1)\n",
              "  (lstm): LSTM(100, 100, num_layers=2, batch_first=True, dropout=0.3, bidirectional=True)\n",
              "  (fc): Linear(in_features=200, out_features=8, bias=True)\n",
              "  (dropout): Dropout(p=0.3, inplace=False)\n",
              ")"
            ]
          },
          "metadata": {},
          "execution_count": 57
        }
      ],
      "source": [
        "model.apply(initialize_weights)\n",
        "# model.init_weights()"
      ]
    },
    {
      "cell_type": "code",
      "source": [
        "vectors = torchtext.vocab.GloVe(name='6B', dim=100)\n",
        "pretrained_embedding = vectors.get_vecs_by_tokens(vocab.get_itos())\n",
        "model.embedding.weight.data = pretrained_embedding"
      ],
      "metadata": {
        "colab": {
          "base_uri": "https://localhost:8080/"
        },
        "id": "2NKy5kOGX8O0",
        "outputId": "ab5ca134-197c-4c1a-caef-ce32bfdd2679"
      },
      "execution_count": null,
      "outputs": [
        {
          "output_type": "stream",
          "name": "stderr",
          "text": [
            ".vector_cache/glove.6B.zip: 862MB [02:39, 5.39MB/s]                           \n",
            "100%|█████████▉| 399999/400000 [00:13<00:00, 29638.02it/s]\n"
          ]
        }
      ]
    },
    {
      "cell_type": "code",
      "execution_count": null,
      "metadata": {
        "id": "pLqx3Sxn0Ips"
      },
      "outputs": [],
      "source": [
        "def categorical_accuracy(preds, y):\n",
        "    \"\"\"\n",
        "    Returns accuracy per batch, i.e. if you get 8/10 right, this returns 0.8, NOT 8\n",
        "    \"\"\"\n",
        "    top_pred = preds.argmax(1, keepdim = True)\n",
        "    correct = top_pred.eq(y.view_as(top_pred)).sum()\n",
        "    acc = correct.float() / y.shape[0]\n",
        "    return acc"
      ]
    },
    {
      "cell_type": "code",
      "execution_count": null,
      "metadata": {
        "id": "qPIVXMU20Ipt"
      },
      "outputs": [],
      "source": [
        "# vectors = torchtext.vocab.FastText()\n",
        "# pretrained_embedding = vectors.get_vecs_by_tokens(vocab.get_itos())\n",
        "# model.embedding.weight.data = pretrained_embedding\n",
        "lr = 5e-4\n",
        "\n",
        "optimizer = optim.Adam(model.parameters(), lr=lr)\n",
        "criterion = nn.CrossEntropyLoss()\n",
        "device = torch.device('cuda' if torch.cuda.is_available() else 'cpu')\n",
        "model = model.to(device)\n",
        "criterion = criterion.to(device)\n",
        "def collate(batch, pad_index):\n",
        "    batch_ids = [i['ids'] for i in batch]\n",
        "    batch_ids = nn.utils.rnn.pad_sequence(batch_ids, padding_value=pad_index, batch_first=True)\n",
        "    batch_length = [i['length'] for i in batch]\n",
        "    batch_length = torch.stack(batch_length)\n",
        "    batch_label = [i['label'] for i in batch]\n",
        "    batch_label = torch.stack(batch_label)\n",
        "    batch = {'ids': batch_ids,\n",
        "             'length': batch_length,\n",
        "             'label': batch_label}\n",
        "    return batch\n",
        "\n",
        "batch_size = 512\n",
        "collate = functools.partial(collate, pad_index=pad_index)\n",
        "train_dataloader = torch.utils.data.DataLoader(train_data, \n",
        "                                               batch_size=batch_size, \n",
        "                                               collate_fn=collate, \n",
        "                                               shuffle=True)\n",
        "\n",
        "valid_dataloader = torch.utils.data.DataLoader(valid_data, batch_size=batch_size, collate_fn=collate)\n",
        "test_dataloader = torch.utils.data.DataLoader(test_data, batch_size=batch_size, collate_fn=collate)\n",
        "\n",
        "def train(dataloader, model, criterion, optimizer, device):\n",
        "\n",
        "    model.train()\n",
        "    epoch_losses = []\n",
        "    epoch_accs = []\n",
        "\n",
        "    for batch in tqdm.tqdm(dataloader, desc='training...', file=sys.stdout):\n",
        "        ids = batch['ids'].to(device)\n",
        "        length = batch['length']\n",
        "        label = batch['label'].to(device)\n",
        "        prediction = model(ids, length)\n",
        "        loss = criterion(prediction, label)\n",
        "        accuracy = categorical_accuracy(prediction, label)\n",
        "        optimizer.zero_grad()\n",
        "        loss.backward()\n",
        "        optimizer.step()\n",
        "        epoch_losses.append(loss.item())\n",
        "        epoch_accs.append(accuracy.item())\n",
        "\n",
        "    return epoch_losses, epoch_accs\n",
        "\n",
        "def evaluate(dataloader, model, criterion, device):\n",
        "    \n",
        "    model.eval()\n",
        "    epoch_losses = []\n",
        "    epoch_accs = []\n",
        "\n",
        "    with torch.no_grad():\n",
        "        for batch in tqdm.tqdm(dataloader, desc='evaluating...', file=sys.stdout):\n",
        "            ids = batch['ids'].to(device)\n",
        "            length = batch['length']\n",
        "            label = batch['label'].to(device)\n",
        "            prediction = model(ids, length)\n",
        "            loss = criterion(prediction, label)\n",
        "            accuracy = categorical_accuracy(prediction, label)\n",
        "            epoch_losses.append(loss.item())\n",
        "            epoch_accs.append(accuracy.item())\n",
        "\n",
        "    return epoch_losses, epoch_accs\n",
        "\n",
        "\n",
        "def get_accuracy(prediction, label):\n",
        "    batch_size, _ = prediction.shape\n",
        "    predicted_classes = prediction.argmax(dim=-1)\n",
        "    correct_predictions = predicted_classes.eq(label).sum()\n",
        "    accuracy = correct_predictions / batch_size\n",
        "    return accuracy\n",
        "\n",
        "best_valid_loss = float('inf')\n",
        "\n"
      ]
    },
    {
      "cell_type": "code",
      "execution_count": null,
      "metadata": {
        "colab": {
          "base_uri": "https://localhost:8080/"
        },
        "id": "ftcYwR-h0Ipt",
        "outputId": "c5941557-56c9-4774-a513-3565251df3e6"
      },
      "outputs": [
        {
          "output_type": "stream",
          "name": "stdout",
          "text": [
            "training...: 100%|██████████| 11/11 [00:02<00:00,  4.34it/s]\n",
            "evaluating...: 100%|██████████| 5/5 [00:00<00:00,  6.77it/s]\n",
            "epoch: 1\n",
            "train_loss: 1.869, train_acc: 0.471\n",
            "valid_loss: 1.680, valid_acc: 0.423\n",
            "training...: 100%|██████████| 11/11 [00:02<00:00,  4.34it/s]\n",
            "evaluating...: 100%|██████████| 5/5 [00:00<00:00,  6.79it/s]\n",
            "epoch: 2\n",
            "train_loss: 1.354, train_acc: 0.531\n",
            "valid_loss: 1.461, valid_acc: 0.594\n",
            "training...: 100%|██████████| 11/11 [00:02<00:00,  4.24it/s]\n",
            "evaluating...: 100%|██████████| 5/5 [00:00<00:00,  6.89it/s]\n",
            "epoch: 3\n",
            "train_loss: 1.067, train_acc: 0.631\n",
            "valid_loss: 1.094, valid_acc: 0.624\n",
            "training...: 100%|██████████| 11/11 [00:02<00:00,  4.25it/s]\n",
            "evaluating...: 100%|██████████| 5/5 [00:00<00:00,  6.79it/s]\n",
            "epoch: 4\n",
            "train_loss: 0.852, train_acc: 0.713\n",
            "valid_loss: 0.946, valid_acc: 0.669\n",
            "training...: 100%|██████████| 11/11 [00:02<00:00,  4.38it/s]\n",
            "evaluating...: 100%|██████████| 5/5 [00:00<00:00,  6.73it/s]\n",
            "epoch: 5\n",
            "train_loss: 0.704, train_acc: 0.750\n",
            "valid_loss: 0.787, valid_acc: 0.687\n",
            "training...: 100%|██████████| 11/11 [00:02<00:00,  4.39it/s]\n",
            "evaluating...: 100%|██████████| 5/5 [00:00<00:00,  6.73it/s]\n",
            "epoch: 6\n",
            "train_loss: 0.549, train_acc: 0.799\n",
            "valid_loss: 0.693, valid_acc: 0.766\n",
            "training...: 100%|██████████| 11/11 [00:02<00:00,  4.34it/s]\n",
            "evaluating...: 100%|██████████| 5/5 [00:00<00:00,  6.84it/s]\n",
            "epoch: 7\n",
            "train_loss: 0.473, train_acc: 0.841\n",
            "valid_loss: 0.606, valid_acc: 0.794\n",
            "training...: 100%|██████████| 11/11 [00:02<00:00,  4.32it/s]\n",
            "evaluating...: 100%|██████████| 5/5 [00:00<00:00,  6.91it/s]\n",
            "epoch: 8\n",
            "train_loss: 0.444, train_acc: 0.853\n",
            "valid_loss: 0.582, valid_acc: 0.808\n",
            "training...: 100%|██████████| 11/11 [00:02<00:00,  4.38it/s]\n",
            "evaluating...: 100%|██████████| 5/5 [00:00<00:00,  6.54it/s]\n",
            "epoch: 9\n",
            "train_loss: 0.399, train_acc: 0.871\n",
            "valid_loss: 0.581, valid_acc: 0.810\n",
            "training...: 100%|██████████| 11/11 [00:02<00:00,  4.08it/s]\n",
            "evaluating...: 100%|██████████| 5/5 [00:00<00:00,  6.85it/s]\n",
            "epoch: 10\n",
            "train_loss: 0.367, train_acc: 0.885\n",
            "valid_loss: 0.512, valid_acc: 0.828\n",
            "training...: 100%|██████████| 11/11 [00:02<00:00,  4.39it/s]\n",
            "evaluating...: 100%|██████████| 5/5 [00:00<00:00,  6.50it/s]\n",
            "epoch: 11\n",
            "train_loss: 0.340, train_acc: 0.892\n",
            "valid_loss: 0.459, valid_acc: 0.834\n",
            "training...: 100%|██████████| 11/11 [00:02<00:00,  4.33it/s]\n",
            "evaluating...: 100%|██████████| 5/5 [00:00<00:00,  6.71it/s]\n",
            "epoch: 12\n",
            "train_loss: 0.294, train_acc: 0.904\n",
            "valid_loss: 0.398, valid_acc: 0.854\n",
            "training...: 100%|██████████| 11/11 [00:02<00:00,  4.34it/s]\n",
            "evaluating...: 100%|██████████| 5/5 [00:00<00:00,  6.93it/s]\n",
            "epoch: 13\n",
            "train_loss: 0.252, train_acc: 0.919\n",
            "valid_loss: 0.348, valid_acc: 0.871\n",
            "training...: 100%|██████████| 11/11 [00:02<00:00,  4.37it/s]\n",
            "evaluating...: 100%|██████████| 5/5 [00:00<00:00,  6.72it/s]\n",
            "epoch: 14\n",
            "train_loss: 0.235, train_acc: 0.921\n",
            "valid_loss: 0.384, valid_acc: 0.841\n",
            "training...: 100%|██████████| 11/11 [00:02<00:00,  4.37it/s]\n",
            "evaluating...: 100%|██████████| 5/5 [00:00<00:00,  6.78it/s]\n",
            "epoch: 15\n",
            "train_loss: 0.220, train_acc: 0.927\n",
            "valid_loss: 0.328, valid_acc: 0.866\n",
            "training...: 100%|██████████| 11/11 [00:02<00:00,  4.18it/s]\n",
            "evaluating...: 100%|██████████| 5/5 [00:00<00:00,  6.61it/s]\n",
            "epoch: 16\n",
            "train_loss: 0.204, train_acc: 0.932\n",
            "valid_loss: 0.290, valid_acc: 0.900\n",
            "training...: 100%|██████████| 11/11 [00:02<00:00,  4.24it/s]\n",
            "evaluating...: 100%|██████████| 5/5 [00:00<00:00,  6.66it/s]\n",
            "epoch: 17\n",
            "train_loss: 0.185, train_acc: 0.940\n",
            "valid_loss: 0.258, valid_acc: 0.905\n",
            "training...: 100%|██████████| 11/11 [00:02<00:00,  4.29it/s]\n",
            "evaluating...: 100%|██████████| 5/5 [00:00<00:00,  5.61it/s]\n",
            "epoch: 18\n",
            "train_loss: 0.170, train_acc: 0.948\n",
            "valid_loss: 0.254, valid_acc: 0.915\n",
            "training...: 100%|██████████| 11/11 [00:02<00:00,  4.33it/s]\n",
            "evaluating...: 100%|██████████| 5/5 [00:00<00:00,  6.87it/s]\n",
            "epoch: 19\n",
            "train_loss: 0.152, train_acc: 0.955\n",
            "valid_loss: 0.267, valid_acc: 0.906\n",
            "training...: 100%|██████████| 11/11 [00:02<00:00,  4.36it/s]\n",
            "evaluating...: 100%|██████████| 5/5 [00:00<00:00,  6.80it/s]\n",
            "epoch: 20\n",
            "train_loss: 0.141, train_acc: 0.956\n",
            "valid_loss: 0.256, valid_acc: 0.909\n",
            "training...: 100%|██████████| 11/11 [00:02<00:00,  4.32it/s]\n",
            "evaluating...: 100%|██████████| 5/5 [00:00<00:00,  6.79it/s]\n",
            "epoch: 21\n",
            "train_loss: 0.132, train_acc: 0.959\n",
            "valid_loss: 0.216, valid_acc: 0.933\n",
            "training...: 100%|██████████| 11/11 [00:02<00:00,  4.24it/s]\n",
            "evaluating...: 100%|██████████| 5/5 [00:00<00:00,  6.62it/s]\n",
            "epoch: 22\n",
            "train_loss: 0.123, train_acc: 0.959\n",
            "valid_loss: 0.222, valid_acc: 0.925\n",
            "training...: 100%|██████████| 11/11 [00:02<00:00,  4.36it/s]\n",
            "evaluating...: 100%|██████████| 5/5 [00:00<00:00,  6.81it/s]\n",
            "epoch: 23\n",
            "train_loss: 0.120, train_acc: 0.961\n",
            "valid_loss: 0.214, valid_acc: 0.930\n",
            "training...: 100%|██████████| 11/11 [00:02<00:00,  4.33it/s]\n",
            "evaluating...: 100%|██████████| 5/5 [00:00<00:00,  6.73it/s]\n",
            "epoch: 24\n",
            "train_loss: 0.115, train_acc: 0.963\n",
            "valid_loss: 0.234, valid_acc: 0.921\n",
            "training...: 100%|██████████| 11/11 [00:02<00:00,  4.33it/s]\n",
            "evaluating...: 100%|██████████| 5/5 [00:00<00:00,  6.87it/s]\n",
            "epoch: 25\n",
            "train_loss: 0.136, train_acc: 0.954\n",
            "valid_loss: 0.226, valid_acc: 0.928\n",
            "training...: 100%|██████████| 11/11 [00:02<00:00,  4.11it/s]\n",
            "evaluating...: 100%|██████████| 5/5 [00:00<00:00,  6.50it/s]\n",
            "epoch: 26\n",
            "train_loss: 0.118, train_acc: 0.963\n",
            "valid_loss: 0.214, valid_acc: 0.926\n",
            "training...: 100%|██████████| 11/11 [00:02<00:00,  4.37it/s]\n",
            "evaluating...: 100%|██████████| 5/5 [00:00<00:00,  6.72it/s]\n",
            "epoch: 27\n",
            "train_loss: 0.109, train_acc: 0.965\n",
            "valid_loss: 0.258, valid_acc: 0.914\n",
            "training...: 100%|██████████| 11/11 [00:02<00:00,  4.32it/s]\n",
            "evaluating...: 100%|██████████| 5/5 [00:00<00:00,  6.90it/s]\n",
            "epoch: 28\n",
            "train_loss: 0.093, train_acc: 0.970\n",
            "valid_loss: 0.211, valid_acc: 0.932\n",
            "training...: 100%|██████████| 11/11 [00:02<00:00,  4.34it/s]\n",
            "evaluating...: 100%|██████████| 5/5 [00:00<00:00,  6.87it/s]\n",
            "epoch: 29\n",
            "train_loss: 0.092, train_acc: 0.970\n",
            "valid_loss: 0.252, valid_acc: 0.921\n",
            "training...: 100%|██████████| 11/11 [00:02<00:00,  4.32it/s]\n",
            "evaluating...: 100%|██████████| 5/5 [00:00<00:00,  6.70it/s]\n",
            "epoch: 30\n",
            "train_loss: 0.091, train_acc: 0.970\n",
            "valid_loss: 0.191, valid_acc: 0.940\n"
          ]
        }
      ],
      "source": [
        "train_losses = []\n",
        "train_accs = []\n",
        "valid_losses = []\n",
        "valid_accs = []\n",
        "n_epochs = 30\n",
        "\n",
        "for epoch in range(n_epochs):\n",
        "\n",
        "    train_loss, train_acc = train(train_dataloader, model, criterion, optimizer, device)\n",
        "    valid_loss, valid_acc = evaluate(valid_dataloader, model, criterion, device)\n",
        "\n",
        "    train_losses.extend(train_loss)\n",
        "    train_accs.extend(train_acc)\n",
        "    valid_losses.extend(valid_loss)\n",
        "    valid_accs.extend(valid_acc)\n",
        "    \n",
        "    epoch_train_loss = np.mean(train_loss)\n",
        "    epoch_train_acc = np.mean(train_acc)\n",
        "    epoch_valid_loss = np.mean(valid_loss)\n",
        "    epoch_valid_acc = np.mean(valid_acc)\n",
        "    \n",
        "    if epoch_valid_loss < best_valid_loss:\n",
        "        best_valid_loss = epoch_valid_loss\n",
        "        torch.save(model.state_dict(), 'lstm.pt')\n",
        "    \n",
        "    print(f'epoch: {epoch+1}')\n",
        "    print(f'train_loss: {epoch_train_loss:.3f}, train_acc: {epoch_train_acc:.3f}')\n",
        "    print(f'valid_loss: {epoch_valid_loss:.3f}, valid_acc: {epoch_valid_acc:.3f}')"
      ]
    },
    {
      "cell_type": "code",
      "execution_count": null,
      "metadata": {
        "colab": {
          "base_uri": "https://localhost:8080/",
          "height": 408
        },
        "id": "-UtGPpY-0Ipu",
        "outputId": "3528817e-3a76-4339-d599-521efc7026fa"
      },
      "outputs": [
        {
          "output_type": "execute_result",
          "data": {
            "text/plain": [
              "Text(0, 0.5, 'loss')"
            ]
          },
          "metadata": {},
          "execution_count": 62
        },
        {
          "output_type": "display_data",
          "data": {
            "text/plain": [
              "<Figure size 720x432 with 1 Axes>"
            ],
            "image/png": "[encoded data removed]"
          },
          "metadata": {
            "needs_background": "light"
          }
        }
      ],
      "source": [
        "fig = plt.figure(figsize=(10,6))\n",
        "ax = fig.add_subplot(1,1,1)\n",
        "ax.plot(train_losses, label='train loss')\n",
        "ax.plot(valid_losses, label='valid loss')\n",
        "plt.legend()\n",
        "ax.set_xlabel('updates')\n",
        "ax.set_ylabel('loss')"
      ]
    },
    {
      "cell_type": "code",
      "execution_count": null,
      "metadata": {
        "colab": {
          "base_uri": "https://localhost:8080/",
          "height": 388
        },
        "id": "4azVYV-B0Ipu",
        "outputId": "839c2f9c-c9e9-4dbf-cb5f-10018f04bd86"
      },
      "outputs": [
        {
          "output_type": "display_data",
          "data": {
            "text/plain": [
              "<Figure size 720x432 with 1 Axes>"
            ],
            "image/png": "[encoded data removed]"
          },
          "metadata": {
            "needs_background": "light"
          }
        }
      ],
      "source": [
        "fig = plt.figure(figsize=(10,6))\n",
        "ax = fig.add_subplot(1,1,1)\n",
        "ax.plot(train_accs, label='train accuracy')\n",
        "ax.plot(valid_accs, label='valid accuracy')\n",
        "plt.legend()\n",
        "ax.set_xlabel('updates')\n",
        "ax.set_ylabel('accuracy');"
      ]
    },
    {
      "cell_type": "code",
      "execution_count": null,
      "metadata": {
        "colab": {
          "base_uri": "https://localhost:8080/"
        },
        "id": "-BDwEvoA0Ipu",
        "outputId": "ae551332-c47a-40b2-a108-60eaa6565b49"
      },
      "outputs": [
        {
          "output_type": "stream",
          "name": "stdout",
          "text": [
            "evaluating...: 100%|██████████| 5/5 [00:00<00:00,  6.80it/s]\n",
            "test_loss: 0.191, test_acc: 0.940\n"
          ]
        }
      ],
      "source": [
        "model.load_state_dict(torch.load('lstm.pt'))\n",
        "\n",
        "test_loss, test_acc = evaluate(test_dataloader, model, criterion, device)\n",
        "\n",
        "epoch_test_loss = np.mean(test_loss)\n",
        "epoch_test_acc = np.mean(test_acc)\n",
        "\n",
        "print(f'test_loss: {epoch_test_loss:.3f}, test_acc: {epoch_test_acc:.3f}')"
      ]
    },
    {
      "cell_type": "code",
      "source": [
        "df_attack = pd.read_csv(\"hd_8_classes_attack_textfooler_new_window_4.csv\")\n",
        "\n",
        "df_attack = df_attack[df_attack['result_type'] == 'Successful']\n",
        "df_attack = df_attack[['perturbed_text', 'ground_truth_output', 'original_text']]\n",
        "df_attack = df_attack.rename(columns={'perturbed_text': 'text', 'ground_truth_output': 'label'})\n",
        "\n",
        "def filter_data(input):\n",
        "    input = input.replace(\"[[\", \"\")\n",
        "    input = input.replace(\"]]\", \"\")\n",
        "    return input\n",
        "\n",
        "df_attack['text'] = df_attack['text'].apply(filter_data)\n",
        "df_attack['original_text'] = df_attack['original_text'].apply(filter_data)\n",
        "\n",
        "\n"
      ],
      "metadata": {
        "id": "djeUDEyhXQtb"
      },
      "execution_count": null,
      "outputs": []
    },
    {
      "cell_type": "code",
      "source": [
        "df_attack['adv_pred'] = df_attack['text'].apply(predict_class_adv)\n",
        "df_attack['adv_pred_org'] = df_attack['original_text'].apply(predict_class_adv)\n",
        "\n",
        "df_attack"
      ],
      "metadata": {
        "colab": {
          "base_uri": "https://localhost:8080/",
          "height": 424
        },
        "id": "P56uisiceMS9",
        "outputId": "799e69f1-8f14-4cba-e7ec-76c5d8963b23"
      },
      "execution_count": null,
      "outputs": [
        {
          "output_type": "execute_result",
          "data": {
            "text/plain": [
              "                                                  text  label  \\\n",
              "0    blount serv blt gerardo qtr net oper shr secre...      2   \n",
              "1    gorman rupp co grc sets quarterly qtly int sec...      2   \n",
              "3    wesbanco wsbc o acquiring bank of sissonville ...      0   \n",
              "4    pepsico unit pep lifts calny o stake taco bell...      0   \n",
              "5    malaysia advised to raise disrespectful hydroc...      1   \n",
              "..                                                 ...    ...   \n",
              "195  ibc s interstate bakeries ibc bid oversubscrib...      0   \n",
              "196  venezuela says opec hydrocarbons results ver m...      1   \n",
              "197  society savings socs o types remembrance socie...      0   \n",
              "198  average japanese cd proportions reductions in ...      5   \n",
              "199  commonwealth stockbroker cuts australia prime ...      5   \n",
              "\n",
              "                                         original_text  adv_pred  adv_pred_org  \n",
              "0    blount inc blt th qtr net oper shr cts vs thre...         2             2  \n",
              "1    gorman rupp co grc sets quarterly qtly div cts...         2             2  \n",
              "3    wesbanco wsbc o acquiring bank of sissonville ...         0             0  \n",
              "4    pepsico unit pep lifts calny o stake taco bell...         0             0  \n",
              "5    malaysia advised to raise crude oil output in ...         1             1  \n",
              "..                                                 ...       ...           ...  \n",
              "195  ibc s interstate bakeries ibc bid oversubscrib...         0             0  \n",
              "196  venezuela says opec oil output ver mln bpd car...         1             1  \n",
              "197  society savings socs o forms holding company s...         2             0  \n",
              "198  average yen cd rates fall in latest week avera...         5             5  \n",
              "199  commonwealth bank cuts australia prime to pct ...         5             5  \n",
              "\n",
              "[148 rows x 5 columns]"
            ],
            "text/html": [
              "\n",
              "  <div id=\"df-8fb986a3-fa82-447f-ad13-8f8a6a280cb6\">\n",
              "    <div class=\"colab-df-container\">\n",
              "      <div>\n",
              "<style scoped>\n",
              "    .dataframe tbody tr th:only-of-type {\n",
              "        vertical-align: middle;\n",
              "    }\n",
              "\n",
              "    .dataframe tbody tr th {\n",
              "        vertical-align: top;\n",
              "    }\n",
              "\n",
              "    .dataframe thead th {\n",
              "        text-align: right;\n",
              "    }\n",
              "</style>\n",
              "<table border=\"1\" class=\"dataframe\">\n",
              "  <thead>\n",
              "    <tr style=\"text-align: right;\">\n",
              "      <th></th>\n",
              "      <th>text</th>\n",
              "      <th>label</th>\n",
              "      <th>original_text</th>\n",
              "      <th>adv_pred</th>\n",
              "      <th>adv_pred_org</th>\n",
              "    </tr>\n",
              "  </thead>\n",
              "  <tbody>\n",
              "    <tr>\n",
              "      <th>0</th>\n",
              "      <td>blount serv blt gerardo qtr net oper shr secre...</td>\n",
              "      <td>2</td>\n",
              "      <td>blount inc blt th qtr net oper shr cts vs thre...</td>\n",
              "      <td>2</td>\n",
              "      <td>2</td>\n",
              "    </tr>\n",
              "    <tr>\n",
              "      <th>1</th>\n",
              "      <td>gorman rupp co grc sets quarterly qtly int sec...</td>\n",
              "      <td>2</td>\n",
              "      <td>gorman rupp co grc sets quarterly qtly div cts...</td>\n",
              "      <td>2</td>\n",
              "      <td>2</td>\n",
              "    </tr>\n",
              "    <tr>\n",
              "      <th>3</th>\n",
              "      <td>wesbanco wsbc o acquiring bank of sissonville ...</td>\n",
              "      <td>0</td>\n",
              "      <td>wesbanco wsbc o acquiring bank of sissonville ...</td>\n",
              "      <td>0</td>\n",
              "      <td>0</td>\n",
              "    </tr>\n",
              "    <tr>\n",
              "      <th>4</th>\n",
              "      <td>pepsico unit pep lifts calny o stake taco bell...</td>\n",
              "      <td>0</td>\n",
              "      <td>pepsico unit pep lifts calny o stake taco bell...</td>\n",
              "      <td>0</td>\n",
              "      <td>0</td>\n",
              "    </tr>\n",
              "    <tr>\n",
              "      <th>5</th>\n",
              "      <td>malaysia advised to raise disrespectful hydroc...</td>\n",
              "      <td>1</td>\n",
              "      <td>malaysia advised to raise crude oil output in ...</td>\n",
              "      <td>1</td>\n",
              "      <td>1</td>\n",
              "    </tr>\n",
              "    <tr>\n",
              "      <th>...</th>\n",
              "      <td>...</td>\n",
              "      <td>...</td>\n",
              "      <td>...</td>\n",
              "      <td>...</td>\n",
              "      <td>...</td>\n",
              "    </tr>\n",
              "    <tr>\n",
              "      <th>195</th>\n",
              "      <td>ibc s interstate bakeries ibc bid oversubscrib...</td>\n",
              "      <td>0</td>\n",
              "      <td>ibc s interstate bakeries ibc bid oversubscrib...</td>\n",
              "      <td>0</td>\n",
              "      <td>0</td>\n",
              "    </tr>\n",
              "    <tr>\n",
              "      <th>196</th>\n",
              "      <td>venezuela says opec hydrocarbons results ver m...</td>\n",
              "      <td>1</td>\n",
              "      <td>venezuela says opec oil output ver mln bpd car...</td>\n",
              "      <td>1</td>\n",
              "      <td>1</td>\n",
              "    </tr>\n",
              "    <tr>\n",
              "      <th>197</th>\n",
              "      <td>society savings socs o types remembrance socie...</td>\n",
              "      <td>0</td>\n",
              "      <td>society savings socs o forms holding company s...</td>\n",
              "      <td>2</td>\n",
              "      <td>0</td>\n",
              "    </tr>\n",
              "    <tr>\n",
              "      <th>198</th>\n",
              "      <td>average japanese cd proportions reductions in ...</td>\n",
              "      <td>5</td>\n",
              "      <td>average yen cd rates fall in latest week avera...</td>\n",
              "      <td>5</td>\n",
              "      <td>5</td>\n",
              "    </tr>\n",
              "    <tr>\n",
              "      <th>199</th>\n",
              "      <td>commonwealth stockbroker cuts australia prime ...</td>\n",
              "      <td>5</td>\n",
              "      <td>commonwealth bank cuts australia prime to pct ...</td>\n",
              "      <td>5</td>\n",
              "      <td>5</td>\n",
              "    </tr>\n",
              "  </tbody>\n",
              "</table>\n",
              "<p>148 rows × 5 columns</p>\n",
              "</div>\n",
              "      <button class=\"colab-df-convert\" onclick=\"convertToInteractive('df-8fb986a3-fa82-447f-ad13-8f8a6a280cb6')\"\n",
              "              title=\"Convert this dataframe to an interactive table.\"\n",
              "              style=\"display:none;\">\n",
              "        \n",
              "  <svg xmlns=\"http://www.w3.org/2000/svg\" height=\"24px\"viewBox=\"0 0 24 24\"\n",
              "       width=\"24px\">\n",
              "    <path d=\"M0 0h24v24H0V0z\" fill=\"none\"/>\n",
              "    <path d=\"M18.56 5.44l.94 2.06.94-2.06 2.06-.94-2.06-.94-.94-2.06-.94 2.06-2.06.94zm-11 1L8.5 8.5l.94-2.06 2.06-.94-2.06-.94L8.5 2.5l-.94 2.06-2.06.94zm10 10l.94 2.06.94-2.06 2.06-.94-2.06-.94-.94-2.06-.94 2.06-2.06.94z\"/><path d=\"M17.41 7.96l-1.37-1.37c-.4-.4-.92-.59-1.43-.59-.52 0-1.04.2-1.43.59L10.3 9.45l-7.72 7.72c-.78.78-.78 2.05 0 2.83L4 21.41c.39.39.9.59 1.41.59.51 0 1.02-.2 1.41-.59l7.78-7.78 2.81-2.81c.8-.78.8-2.07 0-2.86zM5.41 20L4 18.59l7.72-7.72 1.47 1.35L5.41 20z\"/>\n",
              "  </svg>\n",
              "      </button>\n",
              "      \n",
              "  <style>\n",
              "    .colab-df-container {\n",
              "      display:flex;\n",
              "      flex-wrap:wrap;\n",
              "      gap: 12px;\n",
              "    }\n",
              "\n",
              "    .colab-df-convert {\n",
              "      background-color: #E8F0FE;\n",
              "      border: none;\n",
              "      border-radius: 50%;\n",
              "      cursor: pointer;\n",
              "      display: none;\n",
              "      fill: #1967D2;\n",
              "      height: 32px;\n",
              "      padding: 0 0 0 0;\n",
              "      width: 32px;\n",
              "    }\n",
              "\n",
              "    .colab-df-convert:hover {\n",
              "      background-color: #E2EBFA;\n",
              "      box-shadow: 0px 1px 2px rgba(60, 64, 67, 0.3), 0px 1px 3px 1px rgba(60, 64, 67, 0.15);\n",
              "      fill: #174EA6;\n",
              "    }\n",
              "\n",
              "    [theme=dark] .colab-df-convert {\n",
              "      background-color: #3B4455;\n",
              "      fill: #D2E3FC;\n",
              "    }\n",
              "\n",
              "    [theme=dark] .colab-df-convert:hover {\n",
              "      background-color: #434B5C;\n",
              "      box-shadow: 0px 1px 3px 1px rgba(0, 0, 0, 0.15);\n",
              "      filter: drop-shadow(0px 1px 2px rgba(0, 0, 0, 0.3));\n",
              "      fill: #FFFFFF;\n",
              "    }\n",
              "  </style>\n",
              "\n",
              "      <script>\n",
              "        const buttonEl =\n",
              "          document.querySelector('#df-8fb986a3-fa82-447f-ad13-8f8a6a280cb6 button.colab-df-convert');\n",
              "        buttonEl.style.display =\n",
              "          google.colab.kernel.accessAllowed ? 'block' : 'none';\n",
              "\n",
              "        async function convertToInteractive(key) {\n",
              "          const element = document.querySelector('#df-8fb986a3-fa82-447f-ad13-8f8a6a280cb6');\n",
              "          const dataTable =\n",
              "            await google.colab.kernel.invokeFunction('convertToInteractive',\n",
              "                                                     [key], {});\n",
              "          if (!dataTable) return;\n",
              "\n",
              "          const docLinkHtml = 'Like what you see? Visit the ' +\n",
              "            '<a target=\"_blank\" href=https://colab.research.google.com/notebooks/data_table.ipynb>data table notebook</a>'\n",
              "            + ' to learn more about interactive tables.';\n",
              "          element.innerHTML = '';\n",
              "          dataTable['output_type'] = 'display_data';\n",
              "          await google.colab.output.renderOutput(dataTable, element);\n",
              "          const docLink = document.createElement('div');\n",
              "          docLink.innerHTML = docLinkHtml;\n",
              "          element.appendChild(docLink);\n",
              "        }\n",
              "      </script>\n",
              "    </div>\n",
              "  </div>\n",
              "  "
            ]
          },
          "metadata": {},
          "execution_count": 86
        }
      ]
    },
    {
      "cell_type": "code",
      "source": [
        "df_attack['label'].values\n",
        "# df_test['target']\n",
        "np.mean(df_attack['adv_pred'] == df_attack['label'])"
      ],
      "metadata": {
        "colab": {
          "base_uri": "https://localhost:8080/"
        },
        "id": "Wt55SHTAc4H5",
        "outputId": "3c628de4-76d1-4aad-9c55-38189cc524e0"
      },
      "execution_count": null,
      "outputs": [
        {
          "output_type": "execute_result",
          "data": {
            "text/plain": [
              "0.8716216216216216"
            ]
          },
          "metadata": {},
          "execution_count": 87
        }
      ]
    },
    {
      "cell_type": "code",
      "source": [
        "df_attack['label'].values\n",
        "# df_test['target']\n",
        "np.mean(df_attack['adv_pred_org'] == df_attack['label'])"
      ],
      "metadata": {
        "colab": {
          "base_uri": "https://localhost:8080/"
        },
        "id": "bfAc2imEfPBj",
        "outputId": "e07141fd-f6da-4ea3-81dc-1f80a8949ea8"
      },
      "execution_count": null,
      "outputs": [
        {
          "output_type": "execute_result",
          "data": {
            "text/plain": [
              "0.9391891891891891"
            ]
          },
          "metadata": {},
          "execution_count": 88
        }
      ]
    },
    {
      "cell_type": "code",
      "execution_count": null,
      "metadata": {
        "id": "QnWQU8nP0Ipv"
      },
      "outputs": [],
      "source": [
        "def predict_class(text, model, tokenizer, vocab, device):\n",
        "    tokens = tokenizer(text)\n",
        "    ids = [vocab[t] for t in tokens]\n",
        "    length = torch.LongTensor([len(ids)])\n",
        "    tensor = torch.LongTensor(ids).unsqueeze(dim=0).to(device)\n",
        "    prediction = model(tensor, length).squeeze(dim=0)\n",
        "    probability = torch.softmax(prediction, dim=-1)\n",
        "    predicted_class = prediction.argmax(dim=-1).item()\n",
        "    predicted_probability = probability[predicted_class].item()\n",
        "    return predicted_class, predicted_probability\n"
      ]
    },
    {
      "cell_type": "code",
      "source": [
        "def predict_class_adv(text):\n",
        "    tokens = tokenizer(text)\n",
        "    ids = [vocab[t] for t in tokens]\n",
        "    length = torch.LongTensor([len(ids)])\n",
        "    tensor = torch.LongTensor(ids).unsqueeze(dim=0).to(device)\n",
        "    prediction = model(tensor, length).squeeze(dim=0)\n",
        "    probability = torch.softmax(prediction, dim=-1)\n",
        "    predicted_class = prediction.argmax(dim=-1).item()\n",
        "    predicted_probability = probability[predicted_class].item()\n",
        "    return predicted_class"
      ],
      "metadata": {
        "id": "IduByce1b_H3"
      },
      "execution_count": null,
      "outputs": []
    },
    {
      "cell_type": "code",
      "execution_count": null,
      "metadata": {
        "colab": {
          "base_uri": "https://localhost:8080/"
        },
        "id": "kIeuCsLp0Ipv",
        "outputId": "8fc37af4-d9d0-4f17-dd79-35985254faab"
      },
      "outputs": [
        {
          "output_type": "execute_result",
          "data": {
            "text/plain": [
              "(7, 0.8278788924217224)"
            ]
          },
          "metadata": {},
          "execution_count": 23
        }
      ],
      "source": [
        "text = \"Odobrenieto na motorni prevozni sredstva po\"\n",
        "\n",
        "predict_class(text, model, tokenizer, vocab, device)"
      ]
    },
    {
      "cell_type": "code",
      "source": [
        "!pip install textattack\n",
        "!pip install tensorflow_text"
      ],
      "metadata": {
        "colab": {
          "base_uri": "https://localhost:8080/",
          "height": 1000
        },
        "id": "ShFgauVXEyeM",
        "outputId": "efc0a3c8-f9d0-4baf-8551-fb13f12fd88c"
      },
      "execution_count": null,
      "outputs": [
        {
          "output_type": "stream",
          "name": "stdout",
          "text": [
            "Collecting textattack\n",
            "  Downloading textattack-0.3.4-py3-none-any.whl (373 kB)\n",
            "\u001b[?25l\r\u001b[K     |▉                               | 10 kB 39.2 MB/s eta 0:00:01\r\u001b[K     |█▊                              | 20 kB 45.4 MB/s eta 0:00:01\r\u001b[K     |██▋                             | 30 kB 43.9 MB/s eta 0:00:01\r\u001b[K     |███▌                            | 40 kB 46.1 MB/s eta 0:00:01\r\u001b[K     |████▍                           | 51 kB 35.0 MB/s eta 0:00:01\r\u001b[K     |█████▎                          | 61 kB 39.0 MB/s eta 0:00:01\r\u001b[K     |██████▏                         | 71 kB 25.6 MB/s eta 0:00:01\r\u001b[K     |███████                         | 81 kB 27.4 MB/s eta 0:00:01\r\u001b[K     |████████                        | 92 kB 29.5 MB/s eta 0:00:01\r\u001b[K     |████████▊                       | 102 kB 30.8 MB/s eta 0:00:01\r\u001b[K     |█████████▋                      | 112 kB 30.8 MB/s eta 0:00:01\r\u001b[K     |██████████▌                     | 122 kB 30.8 MB/s eta 0:00:01\r\u001b[K     |███████████▍                    | 133 kB 30.8 MB/s eta 0:00:01\r\u001b[K     |████████████▎                   | 143 kB 30.8 MB/s eta 0:00:01\r\u001b[K     |█████████████▏                  | 153 kB 30.8 MB/s eta 0:00:01\r\u001b[K     |██████████████                  | 163 kB 30.8 MB/s eta 0:00:01\r\u001b[K     |███████████████                 | 174 kB 30.8 MB/s eta 0:00:01\r\u001b[K     |███████████████▉                | 184 kB 30.8 MB/s eta 0:00:01\r\u001b[K     |████████████████▋               | 194 kB 30.8 MB/s eta 0:00:01\r\u001b[K     |█████████████████▌              | 204 kB 30.8 MB/s eta 0:00:01\r\u001b[K     |██████████████████▍             | 215 kB 30.8 MB/s eta 0:00:01\r\u001b[K     |███████████████████▎            | 225 kB 30.8 MB/s eta 0:00:01\r\u001b[K     |████████████████████▏           | 235 kB 30.8 MB/s eta 0:00:01\r\u001b[K     |█████████████████████           | 245 kB 30.8 MB/s eta 0:00:01\r\u001b[K     |██████████████████████          | 256 kB 30.8 MB/s eta 0:00:01\r\u001b[K     |██████████████████████▉         | 266 kB 30.8 MB/s eta 0:00:01\r\u001b[K     |███████████████████████▊        | 276 kB 30.8 MB/s eta 0:00:01\r\u001b[K     |████████████████████████▌       | 286 kB 30.8 MB/s eta 0:00:01\r\u001b[K     |█████████████████████████▍      | 296 kB 30.8 MB/s eta 0:00:01\r\u001b[K     |██████████████████████████▎     | 307 kB 30.8 MB/s eta 0:00:01\r\u001b[K     |███████████████████████████▏    | 317 kB 30.8 MB/s eta 0:00:01\r\u001b[K     |████████████████████████████    | 327 kB 30.8 MB/s eta 0:00:01\r\u001b[K     |█████████████████████████████   | 337 kB 30.8 MB/s eta 0:00:01\r\u001b[K     |█████████████████████████████▉  | 348 kB 30.8 MB/s eta 0:00:01\r\u001b[K     |██████████████████████████████▊ | 358 kB 30.8 MB/s eta 0:00:01\r\u001b[K     |███████████████████████████████▋| 368 kB 30.8 MB/s eta 0:00:01\r\u001b[K     |████████████████████████████████| 373 kB 30.8 MB/s \n",
            "\u001b[?25hRequirement already satisfied: torch!=1.8,>=1.7.0 in /usr/local/lib/python3.7/dist-packages (from textattack) (1.11.0+cu113)\n",
            "Requirement already satisfied: PySocks!=1.5.7,>=1.5.6 in /usr/local/lib/python3.7/dist-packages (from textattack) (1.7.1)\n",
            "Collecting word2number\n",
            "  Downloading word2number-1.1.zip (9.7 kB)\n",
            "Collecting bert-score>=0.3.5\n",
            "  Downloading bert_score-0.3.11-py3-none-any.whl (60 kB)\n",
            "\u001b[K     |████████████████████████████████| 60 kB 8.5 MB/s \n",
            "\u001b[?25hRequirement already satisfied: pandas>=1.0.1 in /usr/local/lib/python3.7/dist-packages (from textattack) (1.3.5)\n",
            "Requirement already satisfied: numpy>=1.19.2 in /usr/local/lib/python3.7/dist-packages (from textattack) (1.21.6)\n",
            "Collecting lemminflect\n",
            "  Downloading lemminflect-0.2.2-py3-none-any.whl (769 kB)\n",
            "\u001b[K     |████████████████████████████████| 769 kB 73.2 MB/s \n",
            "\u001b[?25hRequirement already satisfied: more-itertools in /usr/local/lib/python3.7/dist-packages (from textattack) (8.12.0)\n",
            "Requirement already satisfied: datasets in /usr/local/lib/python3.7/dist-packages (from textattack) (2.1.0)\n",
            "Collecting num2words\n",
            "  Downloading num2words-0.5.10-py3-none-any.whl (101 kB)\n",
            "\u001b[K     |████████████████████████████████| 101 kB 14.9 MB/s \n",
            "\u001b[?25hCollecting tqdm<4.50.0,>=4.27\n",
            "  Downloading tqdm-4.49.0-py2.py3-none-any.whl (69 kB)\n",
            "\u001b[K     |████████████████████████████████| 69 kB 9.3 MB/s \n",
            "\u001b[?25hRequirement already satisfied: filelock in /usr/local/lib/python3.7/dist-packages (from textattack) (3.6.0)\n",
            "Requirement already satisfied: nltk in /usr/local/lib/python3.7/dist-packages (from textattack) (3.2.5)\n",
            "Collecting language-tool-python\n",
            "  Downloading language_tool_python-2.7.1-py3-none-any.whl (34 kB)\n",
            "Collecting flair\n",
            "  Downloading flair-0.11.1-py3-none-any.whl (401 kB)\n",
            "\u001b[K     |████████████████████████████████| 401 kB 97.4 MB/s \n",
            "\u001b[?25hRequirement already satisfied: scipy>=1.4.1 in /usr/local/lib/python3.7/dist-packages (from textattack) (1.4.1)\n",
            "Collecting transformers>=3.3.0\n",
            "  Downloading transformers-4.18.0-py3-none-any.whl (4.0 MB)\n",
            "\u001b[K     |████████████████████████████████| 4.0 MB 85.6 MB/s \n",
            "\u001b[?25hCollecting lru-dict\n",
            "  Downloading lru-dict-1.1.7.tar.gz (10 kB)\n",
            "Collecting terminaltables\n",
            "  Downloading terminaltables-3.1.10-py2.py3-none-any.whl (15 kB)\n",
            "Requirement already satisfied: editdistance in /usr/local/lib/python3.7/dist-packages (from textattack) (0.5.3)\n",
            "Requirement already satisfied: packaging>=20.9 in /usr/local/lib/python3.7/dist-packages (from bert-score>=0.3.5->textattack) (21.3)\n",
            "Requirement already satisfied: requests in /usr/local/lib/python3.7/dist-packages (from bert-score>=0.3.5->textattack) (2.23.0)\n",
            "Requirement already satisfied: matplotlib in /usr/local/lib/python3.7/dist-packages (from bert-score>=0.3.5->textattack) (3.2.2)\n",
            "Requirement already satisfied: pyparsing!=3.0.5,>=2.0.2 in /usr/local/lib/python3.7/dist-packages (from packaging>=20.9->bert-score>=0.3.5->textattack) (3.0.8)\n",
            "Requirement already satisfied: pytz>=2017.3 in /usr/local/lib/python3.7/dist-packages (from pandas>=1.0.1->textattack) (2022.1)\n",
            "Requirement already satisfied: python-dateutil>=2.7.3 in /usr/local/lib/python3.7/dist-packages (from pandas>=1.0.1->textattack) (2.8.2)\n",
            "Requirement already satisfied: six>=1.5 in /usr/local/lib/python3.7/dist-packages (from python-dateutil>=2.7.3->pandas>=1.0.1->textattack) (1.15.0)\n",
            "Requirement already satisfied: typing-extensions in /usr/local/lib/python3.7/dist-packages (from torch!=1.8,>=1.7.0->textattack) (4.2.0)\n",
            "Requirement already satisfied: importlib-metadata in /usr/local/lib/python3.7/dist-packages (from transformers>=3.3.0->textattack) (4.11.3)\n",
            "Collecting pyyaml>=5.1\n",
            "  Downloading PyYAML-6.0-cp37-cp37m-manylinux_2_5_x86_64.manylinux1_x86_64.manylinux_2_12_x86_64.manylinux2010_x86_64.whl (596 kB)\n",
            "\u001b[K     |████████████████████████████████| 596 kB 80.5 MB/s \n",
            "\u001b[?25hRequirement already satisfied: huggingface-hub<1.0,>=0.1.0 in /usr/local/lib/python3.7/dist-packages (from transformers>=3.3.0->textattack) (0.5.1)\n",
            "Collecting tokenizers!=0.11.3,<0.13,>=0.11.1\n",
            "  Downloading tokenizers-0.12.1-cp37-cp37m-manylinux_2_12_x86_64.manylinux2010_x86_64.whl (6.6 MB)\n",
            "\u001b[K     |████████████████████████████████| 6.6 MB 68.3 MB/s \n",
            "\u001b[?25hRequirement already satisfied: regex!=2019.12.17 in /usr/local/lib/python3.7/dist-packages (from transformers>=3.3.0->textattack) (2019.12.20)\n",
            "Collecting sacremoses\n",
            "  Downloading sacremoses-0.0.49-py3-none-any.whl (895 kB)\n",
            "\u001b[K     |████████████████████████████████| 895 kB 54.4 MB/s \n",
            "\u001b[?25hRequirement already satisfied: dill in /usr/local/lib/python3.7/dist-packages (from datasets->textattack) (0.3.4)\n",
            "Collecting datasets\n",
            "  Downloading datasets-2.0.0-py3-none-any.whl (325 kB)\n",
            "\u001b[K     |████████████████████████████████| 325 kB 56.2 MB/s \n",
            "\u001b[?25h  Downloading datasets-1.18.4-py3-none-any.whl (312 kB)\n",
            "\u001b[K     |████████████████████████████████| 312 kB 64.4 MB/s \n",
            "\u001b[?25h  Downloading datasets-1.18.3-py3-none-any.whl (311 kB)\n",
            "\u001b[K     |████████████████████████████████| 311 kB 77.7 MB/s \n",
            "\u001b[?25h  Downloading datasets-1.18.2-py3-none-any.whl (312 kB)\n",
            "\u001b[K     |████████████████████████████████| 312 kB 99.0 MB/s \n",
            "\u001b[?25h  Downloading datasets-1.18.1-py3-none-any.whl (311 kB)\n",
            "\u001b[K     |████████████████████████████████| 311 kB 98.9 MB/s \n",
            "\u001b[?25h  Downloading datasets-1.18.0-py3-none-any.whl (311 kB)\n",
            "\u001b[K     |████████████████████████████████| 311 kB 102.5 MB/s \n",
            "\u001b[?25h  Downloading datasets-1.17.0-py3-none-any.whl (306 kB)\n",
            "\u001b[K     |████████████████████████████████| 306 kB 89.9 MB/s \n",
            "\u001b[?25h  Downloading datasets-1.16.1-py3-none-any.whl (298 kB)\n",
            "\u001b[K     |████████████████████████████████| 298 kB 86.4 MB/s \n",
            "\u001b[?25h  Downloading datasets-1.16.0-py3-none-any.whl (298 kB)\n",
            "\u001b[K     |████████████████████████████████| 298 kB 100.2 MB/s \n",
            "\u001b[?25h  Downloading datasets-1.15.1-py3-none-any.whl (290 kB)\n",
            "\u001b[K     |████████████████████████████████| 290 kB 82.2 MB/s \n",
            "\u001b[?25h  Downloading datasets-1.15.0-py3-none-any.whl (290 kB)\n",
            "\u001b[K     |████████████████████████████████| 290 kB 92.4 MB/s \n",
            "\u001b[?25h  Downloading datasets-1.14.0-py3-none-any.whl (290 kB)\n",
            "\u001b[K     |████████████████████████████████| 290 kB 76.4 MB/s \n",
            "\u001b[?25h  Downloading datasets-1.13.3-py3-none-any.whl (287 kB)\n",
            "\u001b[K     |████████████████████████████████| 287 kB 86.8 MB/s \n",
            "\u001b[?25h  Downloading datasets-1.13.2-py3-none-any.whl (287 kB)\n",
            "\u001b[K     |████████████████████████████████| 287 kB 96.6 MB/s \n",
            "\u001b[?25h  Downloading datasets-1.13.1-py3-none-any.whl (287 kB)\n",
            "\u001b[K     |████████████████████████████████| 287 kB 103.5 MB/s \n",
            "\u001b[?25h  Downloading datasets-1.13.0-py3-none-any.whl (285 kB)\n",
            "\u001b[K     |████████████████████████████████| 285 kB 84.1 MB/s \n",
            "\u001b[?25h  Downloading datasets-1.12.1-py3-none-any.whl (270 kB)\n",
            "\u001b[K     |████████████████████████████████| 270 kB 68.5 MB/s \n",
            "\u001b[?25h  Downloading datasets-1.12.0-py3-none-any.whl (269 kB)\n",
            "\u001b[K     |████████████████████████████████| 269 kB 81.1 MB/s \n",
            "\u001b[?25h  Downloading datasets-1.11.0-py3-none-any.whl (264 kB)\n",
            "\u001b[K     |████████████████████████████████| 264 kB 93.9 MB/s \n",
            "\u001b[?25hRequirement already satisfied: fsspec>=2021.05.0 in /usr/local/lib/python3.7/dist-packages (from datasets->textattack) (2022.3.0)\n",
            "Requirement already satisfied: multiprocess in /usr/local/lib/python3.7/dist-packages (from datasets->textattack) (0.70.12.2)\n",
            "  Downloading datasets-1.10.2-py3-none-any.whl (542 kB)\n",
            "\u001b[K     |████████████████████████████████| 542 kB 91.0 MB/s \n",
            "\u001b[?25h  Downloading datasets-1.10.1-py3-none-any.whl (542 kB)\n",
            "\u001b[K     |████████████████████████████████| 542 kB 78.3 MB/s \n",
            "\u001b[?25h  Downloading datasets-1.10.0-py3-none-any.whl (542 kB)\n",
            "\u001b[K     |████████████████████████████████| 542 kB 100.7 MB/s \n",
            "\u001b[?25h  Downloading datasets-1.9.0-py3-none-any.whl (262 kB)\n",
            "\u001b[K     |████████████████████████████████| 262 kB 84.2 MB/s \n",
            "\u001b[?25h  Downloading datasets-1.8.0-py3-none-any.whl (237 kB)\n",
            "\u001b[K     |████████████████████████████████| 237 kB 82.3 MB/s \n",
            "\u001b[?25hCollecting pyarrow<4.0.0,>=1.0.0\n",
            "  Downloading pyarrow-3.0.0-cp37-cp37m-manylinux2014_x86_64.whl (20.7 MB)\n",
            "\u001b[K     |████████████████████████████████| 20.7 MB 75.3 MB/s \n",
            "\u001b[?25hCollecting datasets\n",
            "  Downloading datasets-1.7.0-py3-none-any.whl (234 kB)\n",
            "\u001b[K     |████████████████████████████████| 234 kB 76.2 MB/s \n",
            "\u001b[?25h  Downloading datasets-1.6.2-py3-none-any.whl (221 kB)\n",
            "\u001b[K     |████████████████████████████████| 221 kB 81.8 MB/s \n",
            "\u001b[?25hRequirement already satisfied: pyarrow>=1.0.0<4.0.0 in /usr/local/lib/python3.7/dist-packages (from datasets->textattack) (6.0.1)\n",
            "  Downloading datasets-1.6.1-py3-none-any.whl (220 kB)\n",
            "\u001b[K     |████████████████████████████████| 220 kB 82.8 MB/s \n",
            "\u001b[?25h  Downloading datasets-1.6.0-py3-none-any.whl (202 kB)\n",
            "\u001b[K     |████████████████████████████████| 202 kB 96.0 MB/s \n",
            "\u001b[?25h  Downloading datasets-1.5.0-py3-none-any.whl (192 kB)\n",
            "\u001b[K     |████████████████████████████████| 192 kB 94.9 MB/s \n",
            "\u001b[?25h  Downloading datasets-1.4.1-py3-none-any.whl (186 kB)\n",
            "\u001b[K     |████████████████████████████████| 186 kB 97.6 MB/s \n",
            "\u001b[?25hRequirement already satisfied: xxhash in /usr/local/lib/python3.7/dist-packages (from datasets->textattack) (3.0.0)\n",
            "  Downloading datasets-1.4.0-py3-none-any.whl (186 kB)\n",
            "\u001b[K     |████████████████████████████████| 186 kB 28.8 MB/s \n",
            "\u001b[?25h  Downloading datasets-1.3.0-py3-none-any.whl (181 kB)\n",
            "\u001b[K     |████████████████████████████████| 181 kB 108.1 MB/s \n",
            "\u001b[?25h  Downloading datasets-1.2.1-py3-none-any.whl (159 kB)\n",
            "\u001b[K     |████████████████████████████████| 159 kB 107.2 MB/s \n",
            "\u001b[?25hRequirement already satisfied: urllib3!=1.25.0,!=1.25.1,<1.26,>=1.21.1 in /usr/local/lib/python3.7/dist-packages (from requests->bert-score>=0.3.5->textattack) (1.25.11)\n",
            "Requirement already satisfied: chardet<4,>=3.0.2 in /usr/local/lib/python3.7/dist-packages (from requests->bert-score>=0.3.5->textattack) (3.0.4)\n",
            "Requirement already satisfied: certifi>=2017.4.17 in /usr/local/lib/python3.7/dist-packages (from requests->bert-score>=0.3.5->textattack) (2021.10.8)\n",
            "Requirement already satisfied: idna<3,>=2.5 in /usr/local/lib/python3.7/dist-packages (from requests->bert-score>=0.3.5->textattack) (2.10)\n",
            "Collecting ftfy\n",
            "  Downloading ftfy-6.1.1-py3-none-any.whl (53 kB)\n",
            "\u001b[K     |████████████████████████████████| 53 kB 2.2 MB/s \n",
            "\u001b[?25hCollecting conllu>=4.0\n",
            "  Downloading conllu-4.4.1-py2.py3-none-any.whl (15 kB)\n",
            "Collecting pptree\n",
            "  Downloading pptree-3.1.tar.gz (3.0 kB)\n",
            "Collecting sentencepiece==0.1.95\n",
            "  Downloading sentencepiece-0.1.95-cp37-cp37m-manylinux2014_x86_64.whl (1.2 MB)\n",
            "\u001b[K     |████████████████████████████████| 1.2 MB 88.2 MB/s \n",
            "\u001b[?25hRequirement already satisfied: tabulate in /usr/local/lib/python3.7/dist-packages (from flair->textattack) (0.8.9)\n",
            "Collecting langdetect\n",
            "  Downloading langdetect-1.0.9.tar.gz (981 kB)\n",
            "\u001b[K     |████████████████████████████████| 981 kB 81.7 MB/s \n",
            "\u001b[?25hCollecting bpemb>=0.3.2\n",
            "  Downloading bpemb-0.3.3-py3-none-any.whl (19 kB)\n",
            "Collecting janome\n",
            "  Downloading Janome-0.4.2-py2.py3-none-any.whl (19.7 MB)\n",
            "\u001b[K     |████████████████████████████████| 19.7 MB 45.0 MB/s \n",
            "\u001b[?25hCollecting konoha<5.0.0,>=4.0.0\n",
            "  Downloading konoha-4.6.5-py3-none-any.whl (20 kB)\n",
            "Requirement already satisfied: lxml in /usr/local/lib/python3.7/dist-packages (from flair->textattack) (4.2.6)\n",
            "Collecting mpld3==0.3\n",
            "  Downloading mpld3-0.3.tar.gz (788 kB)\n",
            "\u001b[K     |████████████████████████████████| 788 kB 80.7 MB/s \n",
            "\u001b[?25hRequirement already satisfied: gensim>=3.4.0 in /usr/local/lib/python3.7/dist-packages (from flair->textattack) (3.6.0)\n",
            "Collecting wikipedia-api\n",
            "  Downloading Wikipedia-API-0.5.4.tar.gz (18 kB)\n",
            "Requirement already satisfied: scikit-learn>=0.21.3 in /usr/local/lib/python3.7/dist-packages (from flair->textattack) (1.0.2)\n",
            "Collecting deprecated>=1.2.4\n",
            "  Downloading Deprecated-1.2.13-py2.py3-none-any.whl (9.6 kB)\n",
            "Collecting gdown==3.12.2\n",
            "  Downloading gdown-3.12.2.tar.gz (8.2 kB)\n",
            "  Installing build dependencies ... \u001b[?25l\u001b[?25hdone\n",
            "  Getting requirements to build wheel ... \u001b[?25l\u001b[?25hdone\n",
            "    Preparing wheel metadata ... \u001b[?25l\u001b[?25hdone\n",
            "Collecting more-itertools\n",
            "  Downloading more_itertools-8.8.0-py3-none-any.whl (48 kB)\n",
            "\u001b[K     |████████████████████████████████| 48 kB 5.2 MB/s \n",
            "\u001b[?25hCollecting hyperopt>=0.2.7\n",
            "  Downloading hyperopt-0.2.7-py2.py3-none-any.whl (1.6 MB)\n",
            "\u001b[K     |████████████████████████████████| 1.6 MB 62.0 MB/s \n",
            "\u001b[?25hCollecting sqlitedict>=1.6.0\n",
            "  Downloading sqlitedict-2.0.0.tar.gz (46 kB)\n",
            "\u001b[K     |████████████████████████████████| 46 kB 4.7 MB/s \n",
            "\u001b[?25hCollecting segtok>=1.5.7\n",
            "  Downloading segtok-1.5.11-py3-none-any.whl (24 kB)\n",
            "Requirement already satisfied: wrapt<2,>=1.10 in /usr/local/lib/python3.7/dist-packages (from deprecated>=1.2.4->flair->textattack) (1.14.0)\n",
            "Requirement already satisfied: smart-open>=1.2.1 in /usr/local/lib/python3.7/dist-packages (from gensim>=3.4.0->flair->textattack) (6.0.0)\n",
            "Requirement already satisfied: future in /usr/local/lib/python3.7/dist-packages (from hyperopt>=0.2.7->flair->textattack) (0.16.0)\n",
            "Requirement already satisfied: networkx>=2.2 in /usr/local/lib/python3.7/dist-packages (from hyperopt>=0.2.7->flair->textattack) (2.6.3)\n",
            "Collecting py4j\n",
            "  Downloading py4j-0.10.9.5-py2.py3-none-any.whl (199 kB)\n",
            "\u001b[K     |████████████████████████████████| 199 kB 89.0 MB/s \n",
            "\u001b[?25hRequirement already satisfied: cloudpickle in /usr/local/lib/python3.7/dist-packages (from hyperopt>=0.2.7->flair->textattack) (1.3.0)\n",
            "Collecting overrides<4.0.0,>=3.0.0\n",
            "  Downloading overrides-3.1.0.tar.gz (11 kB)\n",
            "Collecting importlib-metadata\n",
            "  Downloading importlib_metadata-3.10.1-py3-none-any.whl (14 kB)\n",
            "Collecting requests\n",
            "  Downloading requests-2.27.1-py2.py3-none-any.whl (63 kB)\n",
            "\u001b[K     |████████████████████████████████| 63 kB 2.0 MB/s \n",
            "\u001b[?25hRequirement already satisfied: zipp>=0.5 in /usr/local/lib/python3.7/dist-packages (from importlib-metadata->transformers>=3.3.0->textattack) (3.8.0)\n",
            "Requirement already satisfied: kiwisolver>=1.0.1 in /usr/local/lib/python3.7/dist-packages (from matplotlib->bert-score>=0.3.5->textattack) (1.4.2)\n",
            "Requirement already satisfied: cycler>=0.10 in /usr/local/lib/python3.7/dist-packages (from matplotlib->bert-score>=0.3.5->textattack) (0.11.0)\n",
            "Requirement already satisfied: charset-normalizer~=2.0.0 in /usr/local/lib/python3.7/dist-packages (from requests->bert-score>=0.3.5->textattack) (2.0.12)\n",
            "Requirement already satisfied: threadpoolctl>=2.0.0 in /usr/local/lib/python3.7/dist-packages (from scikit-learn>=0.21.3->flair->textattack) (3.1.0)\n",
            "Requirement already satisfied: joblib>=0.11 in /usr/local/lib/python3.7/dist-packages (from scikit-learn>=0.21.3->flair->textattack) (1.1.0)\n",
            "Requirement already satisfied: wcwidth>=0.2.5 in /usr/local/lib/python3.7/dist-packages (from ftfy->flair->textattack) (0.2.5)\n",
            "Requirement already satisfied: docopt>=0.6.2 in /usr/local/lib/python3.7/dist-packages (from num2words->textattack) (0.6.2)\n",
            "Requirement already satisfied: click in /usr/local/lib/python3.7/dist-packages (from sacremoses->transformers>=3.3.0->textattack) (7.1.2)\n",
            "Building wheels for collected packages: gdown, mpld3, overrides, sqlitedict, langdetect, lru-dict, pptree, wikipedia-api, word2number\n",
            "  Building wheel for gdown (PEP 517) ... \u001b[?25l\u001b[?25hdone\n",
            "  Created wheel for gdown: filename=gdown-3.12.2-py3-none-any.whl size=9692 sha256=729ceab504c00347beb919439a3d18e999f937da4452ba3e4c845e1ec3ac2359\n",
            "  Stored in directory: /root/.cache/pip/wheels/ba/e0/7e/726e872a53f7358b4b96a9975b04e98113b005cd8609a63abc\n",
            "  Building wheel for mpld3 (setup.py) ... \u001b[?25l\u001b[?25hdone\n",
            "  Created wheel for mpld3: filename=mpld3-0.3-py3-none-any.whl size=116702 sha256=4940346673e19f41f05e8c0af92e51aef8ed47c53eedac7aea3fd7a203838418\n",
            "  Stored in directory: /root/.cache/pip/wheels/26/70/6a/1c79e59951a41b4045497da187b2724f5659ca64033cf4548e\n",
            "  Building wheel for overrides (setup.py) ... \u001b[?25l\u001b[?25hdone\n",
            "  Created wheel for overrides: filename=overrides-3.1.0-py3-none-any.whl size=10187 sha256=f1c0d3946071789b1825fd5638b6a79a2947aa3ff2fa91d555a13365d6bf4f17\n",
            "  Stored in directory: /root/.cache/pip/wheels/3a/0d/38/01a9bc6e20dcfaf0a6a7b552d03137558ba1c38aea47644682\n",
            "  Building wheel for sqlitedict (setup.py) ... \u001b[?25l\u001b[?25hdone\n",
            "  Created wheel for sqlitedict: filename=sqlitedict-2.0.0-py3-none-any.whl size=15736 sha256=c91c3fceab179518db11fc96c5e6b34b2928ef612a043770de67d219e05e4436\n",
            "  Stored in directory: /root/.cache/pip/wheels/96/dd/2e/0ed4a25cb73fc30c7ea8d10b50acb7226175736067e40a7ea3\n",
            "  Building wheel for langdetect (setup.py) ... \u001b[?25l\u001b[?25hdone\n",
            "  Created wheel for langdetect: filename=langdetect-1.0.9-py3-none-any.whl size=993242 sha256=c6b4c80e96c883e02df7dec0584c1aaf9baed437ab6b90d7ba7912de51afef19\n",
            "  Stored in directory: /root/.cache/pip/wheels/c5/96/8a/f90c59ed25d75e50a8c10a1b1c2d4c402e4dacfa87f3aff36a\n",
            "  Building wheel for lru-dict (setup.py) ... \u001b[?25l\u001b[?25hdone\n",
            "  Created wheel for lru-dict: filename=lru_dict-1.1.7-cp37-cp37m-linux_x86_64.whl size=28425 sha256=49cbdc9b8b433f90ef465092d6cc2af96a7671672dcf9a53be957656a48fbe3e\n",
            "  Stored in directory: /root/.cache/pip/wheels/9d/0b/4e/aa8fec9833090cd52bcd76f92f9d95e1ee7b915c12093663b4\n",
            "  Building wheel for pptree (setup.py) ... \u001b[?25l\u001b[?25hdone\n",
            "  Created wheel for pptree: filename=pptree-3.1-py3-none-any.whl size=4629 sha256=9ee829c8a0bb7b3d7f856cdff590db7b61a8a8181f38347dc7c268e5a714b6c0\n",
            "  Stored in directory: /root/.cache/pip/wheels/9e/e8/7d/a9c3c19b4722608a0d8b05a38c36bc3f230c43becd2a46794b\n",
            "  Building wheel for wikipedia-api (setup.py) ... \u001b[?25l\u001b[?25hdone\n",
            "  Created wheel for wikipedia-api: filename=Wikipedia_API-0.5.4-py3-none-any.whl size=13477 sha256=4a304657c5735950815b72030183e5234f430f6f51e617c46bc90f62fb3ed2cf\n",
            "  Stored in directory: /root/.cache/pip/wheels/d3/24/56/58ba93cf78be162451144e7a9889603f437976ef1ae7013d04\n",
            "  Building wheel for word2number (setup.py) ... \u001b[?25l\u001b[?25hdone\n",
            "  Created wheel for word2number: filename=word2number-1.1-py3-none-any.whl size=5582 sha256=3c75d7dd75b113d679a1a490578ab776cef182b85d0e33370db4e2c58df6a703\n",
            "  Stored in directory: /root/.cache/pip/wheels/4b/c3/77/a5f48aeb0d3efb7cd5ad61cbd3da30bbf9ffc9662b07c9f879\n",
            "Successfully built gdown mpld3 overrides sqlitedict langdetect lru-dict pptree wikipedia-api word2number\n",
            "Installing collected packages: tqdm, requests, pyyaml, importlib-metadata, tokenizers, sentencepiece, sacremoses, py4j, overrides, wikipedia-api, transformers, sqlitedict, segtok, pptree, mpld3, more-itertools, langdetect, konoha, janome, hyperopt, gdown, ftfy, deprecated, conllu, bpemb, word2number, terminaltables, num2words, lru-dict, lemminflect, language-tool-python, flair, datasets, bert-score, textattack\n",
            "  Attempting uninstall: tqdm\n",
            "    Found existing installation: tqdm 4.64.0\n",
            "    Uninstalling tqdm-4.64.0:\n",
            "      Successfully uninstalled tqdm-4.64.0\n",
            "  Attempting uninstall: requests\n",
            "    Found existing installation: requests 2.23.0\n",
            "    Uninstalling requests-2.23.0:\n",
            "      Successfully uninstalled requests-2.23.0\n",
            "  Attempting uninstall: pyyaml\n",
            "    Found existing installation: PyYAML 3.13\n",
            "    Uninstalling PyYAML-3.13:\n",
            "      Successfully uninstalled PyYAML-3.13\n",
            "  Attempting uninstall: importlib-metadata\n",
            "    Found existing installation: importlib-metadata 4.11.3\n",
            "    Uninstalling importlib-metadata-4.11.3:\n",
            "      Successfully uninstalled importlib-metadata-4.11.3\n",
            "  Attempting uninstall: more-itertools\n",
            "    Found existing installation: more-itertools 8.12.0\n",
            "    Uninstalling more-itertools-8.12.0:\n",
            "      Successfully uninstalled more-itertools-8.12.0\n",
            "  Attempting uninstall: hyperopt\n",
            "    Found existing installation: hyperopt 0.1.2\n",
            "    Uninstalling hyperopt-0.1.2:\n",
            "      Successfully uninstalled hyperopt-0.1.2\n",
            "  Attempting uninstall: gdown\n",
            "    Found existing installation: gdown 4.4.0\n",
            "    Uninstalling gdown-4.4.0:\n",
            "      Successfully uninstalled gdown-4.4.0\n",
            "  Attempting uninstall: datasets\n",
            "    Found existing installation: datasets 2.1.0\n",
            "    Uninstalling datasets-2.1.0:\n",
            "      Successfully uninstalled datasets-2.1.0\n",
            "\u001b[31mERROR: pip's dependency resolver does not currently take into account all the packages that are installed. This behaviour is the source of the following dependency conflicts.\n",
            "markdown 3.3.6 requires importlib-metadata>=4.4; python_version < \"3.10\", but you have importlib-metadata 3.10.1 which is incompatible.\n",
            "google-colab 1.0.0 requires requests~=2.23.0, but you have requests 2.27.1 which is incompatible.\n",
            "datascience 0.10.6 requires folium==0.2.1, but you have folium 0.8.3 which is incompatible.\u001b[0m\n",
            "Successfully installed bert-score-0.3.11 bpemb-0.3.3 conllu-4.4.1 datasets-1.2.1 deprecated-1.2.13 flair-0.11.1 ftfy-6.1.1 gdown-3.12.2 hyperopt-0.2.7 importlib-metadata-3.10.1 janome-0.4.2 konoha-4.6.5 langdetect-1.0.9 language-tool-python-2.7.1 lemminflect-0.2.2 lru-dict-1.1.7 more-itertools-8.8.0 mpld3-0.3 num2words-0.5.10 overrides-3.1.0 pptree-3.1 py4j-0.10.9.5 pyyaml-6.0 requests-2.27.1 sacremoses-0.0.49 segtok-1.5.11 sentencepiece-0.1.95 sqlitedict-2.0.0 terminaltables-3.1.10 textattack-0.3.4 tokenizers-0.12.1 tqdm-4.49.0 transformers-4.18.0 wikipedia-api-0.5.4 word2number-1.1\n"
          ]
        },
        {
          "output_type": "display_data",
          "data": {
            "application/vnd.colab-display-data+json": {
              "pip_warning": {
                "packages": [
                  "datasets",
                  "importlib_metadata",
                  "requests",
                  "tqdm",
                  "yaml"
                ]
              }
            }
          },
          "metadata": {}
        },
        {
          "output_type": "stream",
          "name": "stdout",
          "text": [
            "Collecting tensorflow_text\n",
            "  Downloading tensorflow_text-2.8.2-cp37-cp37m-manylinux_2_12_x86_64.manylinux2010_x86_64.whl (4.9 MB)\n",
            "\u001b[K     |████████████████████████████████| 4.9 MB 36.3 MB/s \n",
            "\u001b[?25hRequirement already satisfied: tensorflow-hub>=0.8.0 in /usr/local/lib/python3.7/dist-packages (from tensorflow_text) (0.12.0)\n",
            "Requirement already satisfied: tensorflow<2.9,>=2.8.0 in /usr/local/lib/python3.7/dist-packages (from tensorflow_text) (2.8.0)\n",
            "Requirement already satisfied: libclang>=9.0.1 in /usr/local/lib/python3.7/dist-packages (from tensorflow<2.9,>=2.8.0->tensorflow_text) (14.0.1)\n",
            "Requirement already satisfied: gast>=0.2.1 in /usr/local/lib/python3.7/dist-packages (from tensorflow<2.9,>=2.8.0->tensorflow_text) (0.5.3)\n",
            "Requirement already satisfied: termcolor>=1.1.0 in /usr/local/lib/python3.7/dist-packages (from tensorflow<2.9,>=2.8.0->tensorflow_text) (1.1.0)\n",
            "Requirement already satisfied: absl-py>=0.4.0 in /usr/local/lib/python3.7/dist-packages (from tensorflow<2.9,>=2.8.0->tensorflow_text) (1.0.0)\n",
            "Requirement already satisfied: flatbuffers>=1.12 in /usr/local/lib/python3.7/dist-packages (from tensorflow<2.9,>=2.8.0->tensorflow_text) (2.0)\n",
            "Requirement already satisfied: setuptools in /usr/local/lib/python3.7/dist-packages (from tensorflow<2.9,>=2.8.0->tensorflow_text) (57.4.0)\n",
            "Requirement already satisfied: astunparse>=1.6.0 in /usr/local/lib/python3.7/dist-packages (from tensorflow<2.9,>=2.8.0->tensorflow_text) (1.6.3)\n",
            "Collecting tf-estimator-nightly==2.8.0.dev2021122109\n",
            "  Downloading tf_estimator_nightly-2.8.0.dev2021122109-py2.py3-none-any.whl (462 kB)\n",
            "\u001b[K     |████████████████████████████████| 462 kB 78.9 MB/s \n",
            "\u001b[?25hRequirement already satisfied: opt-einsum>=2.3.2 in /usr/local/lib/python3.7/dist-packages (from tensorflow<2.9,>=2.8.0->tensorflow_text) (3.3.0)\n",
            "Requirement already satisfied: six>=1.12.0 in /usr/local/lib/python3.7/dist-packages (from tensorflow<2.9,>=2.8.0->tensorflow_text) (1.15.0)\n",
            "Requirement already satisfied: numpy>=1.20 in /usr/local/lib/python3.7/dist-packages (from tensorflow<2.9,>=2.8.0->tensorflow_text) (1.21.6)\n",
            "Requirement already satisfied: tensorflow-io-gcs-filesystem>=0.23.1 in /usr/local/lib/python3.7/dist-packages (from tensorflow<2.9,>=2.8.0->tensorflow_text) (0.25.0)\n",
            "Requirement already satisfied: grpcio<2.0,>=1.24.3 in /usr/local/lib/python3.7/dist-packages (from tensorflow<2.9,>=2.8.0->tensorflow_text) (1.44.0)\n",
            "Requirement already satisfied: keras<2.9,>=2.8.0rc0 in /usr/local/lib/python3.7/dist-packages (from tensorflow<2.9,>=2.8.0->tensorflow_text) (2.8.0)\n",
            "Requirement already satisfied: tensorboard<2.9,>=2.8 in /usr/local/lib/python3.7/dist-packages (from tensorflow<2.9,>=2.8.0->tensorflow_text) (2.8.0)\n",
            "Requirement already satisfied: google-pasta>=0.1.1 in /usr/local/lib/python3.7/dist-packages (from tensorflow<2.9,>=2.8.0->tensorflow_text) (0.2.0)\n",
            "Requirement already satisfied: h5py>=2.9.0 in /usr/local/lib/python3.7/dist-packages (from tensorflow<2.9,>=2.8.0->tensorflow_text) (3.1.0)\n",
            "Requirement already satisfied: keras-preprocessing>=1.1.1 in /usr/local/lib/python3.7/dist-packages (from tensorflow<2.9,>=2.8.0->tensorflow_text) (1.1.2)\n",
            "Requirement already satisfied: protobuf>=3.9.2 in /usr/local/lib/python3.7/dist-packages (from tensorflow<2.9,>=2.8.0->tensorflow_text) (3.17.3)\n",
            "Requirement already satisfied: typing-extensions>=3.6.6 in /usr/local/lib/python3.7/dist-packages (from tensorflow<2.9,>=2.8.0->tensorflow_text) (4.2.0)\n",
            "Requirement already satisfied: wrapt>=1.11.0 in /usr/local/lib/python3.7/dist-packages (from tensorflow<2.9,>=2.8.0->tensorflow_text) (1.14.0)\n",
            "Requirement already satisfied: wheel<1.0,>=0.23.0 in /usr/local/lib/python3.7/dist-packages (from astunparse>=1.6.0->tensorflow<2.9,>=2.8.0->tensorflow_text) (0.37.1)\n",
            "Requirement already satisfied: cached-property in /usr/local/lib/python3.7/dist-packages (from h5py>=2.9.0->tensorflow<2.9,>=2.8.0->tensorflow_text) (1.5.2)\n",
            "Requirement already satisfied: requests<3,>=2.21.0 in /usr/local/lib/python3.7/dist-packages (from tensorboard<2.9,>=2.8->tensorflow<2.9,>=2.8.0->tensorflow_text) (2.27.1)\n",
            "Requirement already satisfied: google-auth<3,>=1.6.3 in /usr/local/lib/python3.7/dist-packages (from tensorboard<2.9,>=2.8->tensorflow<2.9,>=2.8.0->tensorflow_text) (1.35.0)\n",
            "Requirement already satisfied: markdown>=2.6.8 in /usr/local/lib/python3.7/dist-packages (from tensorboard<2.9,>=2.8->tensorflow<2.9,>=2.8.0->tensorflow_text) (3.3.6)\n",
            "Requirement already satisfied: tensorboard-plugin-wit>=1.6.0 in /usr/local/lib/python3.7/dist-packages (from tensorboard<2.9,>=2.8->tensorflow<2.9,>=2.8.0->tensorflow_text) (1.8.1)\n",
            "Requirement already satisfied: google-auth-oauthlib<0.5,>=0.4.1 in /usr/local/lib/python3.7/dist-packages (from tensorboard<2.9,>=2.8->tensorflow<2.9,>=2.8.0->tensorflow_text) (0.4.6)\n",
            "Requirement already satisfied: tensorboard-data-server<0.7.0,>=0.6.0 in /usr/local/lib/python3.7/dist-packages (from tensorboard<2.9,>=2.8->tensorflow<2.9,>=2.8.0->tensorflow_text) (0.6.1)\n",
            "Requirement already satisfied: werkzeug>=0.11.15 in /usr/local/lib/python3.7/dist-packages (from tensorboard<2.9,>=2.8->tensorflow<2.9,>=2.8.0->tensorflow_text) (1.0.1)\n",
            "Requirement already satisfied: cachetools<5.0,>=2.0.0 in /usr/local/lib/python3.7/dist-packages (from google-auth<3,>=1.6.3->tensorboard<2.9,>=2.8->tensorflow<2.9,>=2.8.0->tensorflow_text) (4.2.4)\n",
            "Requirement already satisfied: rsa<5,>=3.1.4 in /usr/local/lib/python3.7/dist-packages (from google-auth<3,>=1.6.3->tensorboard<2.9,>=2.8->tensorflow<2.9,>=2.8.0->tensorflow_text) (4.8)\n",
            "Requirement already satisfied: pyasn1-modules>=0.2.1 in /usr/local/lib/python3.7/dist-packages (from google-auth<3,>=1.6.3->tensorboard<2.9,>=2.8->tensorflow<2.9,>=2.8.0->tensorflow_text) (0.2.8)\n",
            "Requirement already satisfied: requests-oauthlib>=0.7.0 in /usr/local/lib/python3.7/dist-packages (from google-auth-oauthlib<0.5,>=0.4.1->tensorboard<2.9,>=2.8->tensorflow<2.9,>=2.8.0->tensorflow_text) (1.3.1)\n",
            "Collecting importlib-metadata>=4.4\n",
            "  Downloading importlib_metadata-4.11.3-py3-none-any.whl (18 kB)\n",
            "Requirement already satisfied: zipp>=0.5 in /usr/local/lib/python3.7/dist-packages (from importlib-metadata>=4.4->markdown>=2.6.8->tensorboard<2.9,>=2.8->tensorflow<2.9,>=2.8.0->tensorflow_text) (3.8.0)\n",
            "Requirement already satisfied: pyasn1<0.5.0,>=0.4.6 in /usr/local/lib/python3.7/dist-packages (from pyasn1-modules>=0.2.1->google-auth<3,>=1.6.3->tensorboard<2.9,>=2.8->tensorflow<2.9,>=2.8.0->tensorflow_text) (0.4.8)\n",
            "Requirement already satisfied: charset-normalizer~=2.0.0 in /usr/local/lib/python3.7/dist-packages (from requests<3,>=2.21.0->tensorboard<2.9,>=2.8->tensorflow<2.9,>=2.8.0->tensorflow_text) (2.0.12)\n",
            "Requirement already satisfied: urllib3<1.27,>=1.21.1 in /usr/local/lib/python3.7/dist-packages (from requests<3,>=2.21.0->tensorboard<2.9,>=2.8->tensorflow<2.9,>=2.8.0->tensorflow_text) (1.25.11)\n",
            "Requirement already satisfied: certifi>=2017.4.17 in /usr/local/lib/python3.7/dist-packages (from requests<3,>=2.21.0->tensorboard<2.9,>=2.8->tensorflow<2.9,>=2.8.0->tensorflow_text) (2021.10.8)\n",
            "Requirement already satisfied: idna<4,>=2.5 in /usr/local/lib/python3.7/dist-packages (from requests<3,>=2.21.0->tensorboard<2.9,>=2.8->tensorflow<2.9,>=2.8.0->tensorflow_text) (2.10)\n",
            "Requirement already satisfied: oauthlib>=3.0.0 in /usr/local/lib/python3.7/dist-packages (from requests-oauthlib>=0.7.0->google-auth-oauthlib<0.5,>=0.4.1->tensorboard<2.9,>=2.8->tensorflow<2.9,>=2.8.0->tensorflow_text) (3.2.0)\n",
            "Installing collected packages: importlib-metadata, tf-estimator-nightly, tensorflow-text\n",
            "  Attempting uninstall: importlib-metadata\n",
            "    Found existing installation: importlib-metadata 3.10.1\n",
            "    Uninstalling importlib-metadata-3.10.1:\n",
            "      Successfully uninstalled importlib-metadata-3.10.1\n",
            "\u001b[31mERROR: pip's dependency resolver does not currently take into account all the packages that are installed. This behaviour is the source of the following dependency conflicts.\n",
            "konoha 4.6.5 requires importlib-metadata<4.0.0,>=3.7.0, but you have importlib-metadata 4.11.3 which is incompatible.\u001b[0m\n",
            "Successfully installed importlib-metadata-4.11.3 tensorflow-text-2.8.2 tf-estimator-nightly-2.8.0.dev2021122109\n"
          ]
        },
        {
          "output_type": "display_data",
          "data": {
            "application/vnd.colab-display-data+json": {
              "pip_warning": {
                "packages": [
                  "importlib_metadata"
                ]
              }
            }
          },
          "metadata": {}
        }
      ]
    },
    {
      "cell_type": "code",
      "source": [
        "sample_text = ('The movie was not good. The animation and the graphics '\n",
        "               'were terrible. I would not recommend this movie.')\n",
        "# predictions = model.predict([\"The movie was not good. The animation and the graphics\"])\n",
        "import textattack\n",
        "\n",
        "import numpy as np\n",
        "import torch\n",
        "from textattack.models.wrappers import ModelWrapper\n",
        "\n",
        "class CustomPytorchModelWrapper(ModelWrapper):\n",
        "    def __init__(self, model, tokenizer, vocab):\n",
        "        self.model = model\n",
        "        self.tokenizer = tokenizer\n",
        "        self.vocab = vocab\n",
        "    def __call__(self, text_input_list):\n",
        "        probabilities = []\n",
        "        for text in text_input_list:\n",
        "          tokens = tokenizer(text)\n",
        "          ids = [vocab[t] for t in tokens]\n",
        "          length = torch.LongTensor([len(ids)])\n",
        "          tensor = torch.LongTensor(ids).unsqueeze(dim=0).to(device)\n",
        "          prediction = model(tensor, length).squeeze(dim=0)\n",
        "          probability = torch.softmax(prediction, dim=-1)\n",
        "          probability = probability.cpu().detach().numpy()\n",
        "          probabilities.append(probability)\n",
        "        return probabilities\n",
        "\n",
        "model_wrapper = CustomPytorchModelWrapper(model, tokenizer, vocab)"
      ],
      "metadata": {
        "id": "XIuBulbP3udJ",
        "colab": {
          "base_uri": "https://localhost:8080/"
        },
        "outputId": "95425f7a-4a08-414e-8aff-1e615b62f051"
      },
      "execution_count": null,
      "outputs": [
        {
          "output_type": "stream",
          "name": "stderr",
          "text": [
            "textattack: Updating TextAttack package dependencies.\n",
            "textattack: Downloading NLTK required packages.\n"
          ]
        },
        {
          "output_type": "stream",
          "name": "stdout",
          "text": [
            "[nltk_data] Downloading package averaged_perceptron_tagger to\n",
            "[nltk_data]     /root/nltk_data...\n",
            "[nltk_data]   Unzipping taggers/averaged_perceptron_tagger.zip.\n",
            "[nltk_data] Downloading package stopwords to /root/nltk_data...\n",
            "[nltk_data]   Unzipping corpora/stopwords.zip.\n",
            "[nltk_data] Downloading package omw to /root/nltk_data...\n",
            "[nltk_data]   Unzipping corpora/omw.zip.\n",
            "[nltk_data] Downloading package universal_tagset to /root/nltk_data...\n",
            "[nltk_data]   Unzipping taggers/universal_tagset.zip.\n",
            "[nltk_data] Downloading package wordnet to /root/nltk_data...\n",
            "[nltk_data]   Unzipping corpora/wordnet.zip.\n",
            "[nltk_data] Downloading package punkt to /root/nltk_data...\n",
            "[nltk_data]   Unzipping tokenizers/punkt.zip.\n"
          ]
        },
        {
          "output_type": "stream",
          "name": "stderr",
          "text": [
            "textattack: Downloading https://textattack.s3.amazonaws.com/word_embeddings/paragramcf.\n",
            "100%|██████████| 481M/481M [00:39<00:00, 12.0MB/s]\n",
            "textattack: Unzipping file /root/.cache/textattack/tmpap_p7xoi.zip to /root/.cache/textattack/word_embeddings/paragramcf.\n",
            "textattack: Successfully saved word_embeddings/paragramcf to cache.\n"
          ]
        }
      ]
    },
    {
      "cell_type": "code",
      "execution_count": null,
      "metadata": {
        "id": "jaZ1zr0F0Ipv"
      },
      "outputs": [],
      "source": [
        "import textattack\n",
        "df_attack = pd.read_csv(\"attack_dataset_8_classes_1.csv\")\n",
        "\n",
        "data = []\n",
        "for index, row in df_attack.iterrows():\n",
        "    data.append((row['text'], row['label']))\n",
        "\n",
        "df_attack_2 = pd.read_csv(\"attack_dataset_8_classes_2.csv\")\n",
        "for index, row in df_attack_2.iterrows():\n",
        "    data.append((row['text'], row['label']))\n",
        "    \n",
        "dataset = textattack.datasets.Dataset(data)"
      ]
    },
    {
      "cell_type": "code",
      "execution_count": null,
      "metadata": {
        "colab": {
          "base_uri": "https://localhost:8080/"
        },
        "id": "TI34LBih0Ipw",
        "outputId": "919a91b0-c681-4e2c-af80-e0ed0c6421c0"
      },
      "outputs": [
        {
          "output_type": "stream",
          "name": "stderr",
          "text": [
            "textattack: Unknown if model of class <class '__main__.LSTM'> compatible with goal function <class 'textattack.goal_functions.classification.untargeted_classification.UntargetedClassification'>.\n",
            "textattack: Logging to CSV at path lstm_attack_deepwordbug_8_classes_pre_trained.csv\n"
          ]
        },
        {
          "output_type": "stream",
          "name": "stdout",
          "text": [
            "Attack(\n",
            "  (search_method): GreedyWordSwapWIR(\n",
            "    (wir_method):  unk\n",
            "  )\n",
            "  (goal_function):  UntargetedClassification\n",
            "  (transformation):  CompositeTransformation(\n",
            "    (0): WordSwapNeighboringCharacterSwap(\n",
            "        (random_one):  True\n",
            "      )\n",
            "    (1): WordSwapRandomCharacterSubstitution(\n",
            "        (random_one):  True\n",
            "      )\n",
            "    (2): WordSwapRandomCharacterDeletion(\n",
            "        (random_one):  True\n",
            "      )\n",
            "    (3): WordSwapRandomCharacterInsertion(\n",
            "        (random_one):  True\n",
            "      )\n",
            "    )\n",
            "  (constraints): \n",
            "    (0): LevenshteinEditDistance(\n",
            "        (max_edit_distance):  30\n",
            "        (compare_against_original):  True\n",
            "      )\n",
            "    (1): RepeatModification\n",
            "    (2): StopwordModification\n",
            "  (is_black_box):  True\n",
            ") \n",
            "\n"
          ]
        },
        {
          "output_type": "stream",
          "name": "stderr",
          "text": [
            "[Succeeded / Failed / Skipped / Total] 1 / 1 / 0 / 2:   1%|          | 2/200 [00:01<01:47,  1.84it/s]"
          ]
        },
        {
          "output_type": "stream",
          "name": "stdout",
          "text": [
            "--------------------------------------------- Result 1 ---------------------------------------------\n",
            "[[2 (100%)]] --> [[[FAILED]]]\n",
            "\n",
            "blount inc blt th qtr net oper shr cts vs three cts oper net vs revs mln vs mln avg shrs mln vs mln year oper shr cts vs cts oper net vs revs billion vs billion avg shrs mln vs mln note prior year net excludes gains dlrs in quarter and dlrs in year from termination of overfunded pension plans backlog billion dlrs vs mln dlrs reuter \n",
            "\n",
            "\n",
            "--------------------------------------------- Result 2 ---------------------------------------------\n",
            "[[2 (100%)]] --> [[5 (47%)]]\n",
            "\n",
            "gorman rupp [[co]] grc sets [[quarterly]] qtly [[div]] [[cts]] [[vs]] [[cts]] prior [[pay]] june record may eight [[reuter]] \n",
            "\n",
            "gorman rupp [[c]] grc sets [[quartely]] qtly [[Pdiv]] [[Ucts]] [[s]] [[Rts]] prior [[ray]] june record may eight [[retuer]] \n",
            "\n",
            "\n"
          ]
        },
        {
          "output_type": "stream",
          "name": "stderr",
          "text": [
            "[Succeeded / Failed / Skipped / Total] 2 / 1 / 0 / 3:   2%|▏         | 3/200 [00:01<01:31,  2.15it/s]"
          ]
        },
        {
          "output_type": "stream",
          "name": "stdout",
          "text": [
            "--------------------------------------------- Result 3 ---------------------------------------------\n",
            "[[2 (94%)]] --> [[0 (64%)]]\n",
            "\n",
            "international thomson to [[report]] in u s funds international thomson organisation ltd said it will [[report]] financial [[results]] in u s funds rather than sterling beginning from jan it said the change will not be applied retroactively to prior financial periods the company said as a result of recent investments most of its assets now are located in the united states reuter \n",
            "\n",
            "international thomson to [[reort]] in u s funds international thomson organisation ltd said it will [[Ireport]] financial [[resulGs]] in u s funds rather than sterling beginning from jan it said the change will not be applied retroactively to prior financial periods the company said as a result of recent investments most of its assets now are located in the united states reuter \n",
            "\n",
            "\n"
          ]
        },
        {
          "output_type": "stream",
          "name": "stderr",
          "text": [
            "[Succeeded / Failed / Skipped / Total] 3 / 1 / 0 / 4:   2%|▏         | 4/200 [00:01<01:34,  2.07it/s]"
          ]
        },
        {
          "output_type": "stream",
          "name": "stdout",
          "text": [
            "--------------------------------------------- Result 4 ---------------------------------------------\n",
            "[[0 (100%)]] --> [[6 (54%)]]\n",
            "\n",
            "wesbanco wsbc o [[acquiring]] [[bank]] of sissonville wesbanco [[inc]] [[said]] its [[board]] executed a [[merger]] [[agreement]] with the bank of sissonville when the [[merger]] is completed each of the [[shares]] of the bank of sissonville common stock outstanding will be converted into [[shares]] of wesbanco common [[stock]] the company said the [[bank]] of sissonville has total [[assets]] of [[mln]] [[dlrs]] as of [[dec]] the [[company]] [[said]] reuter \n",
            "\n",
            "wesbanco wsbc o [[Wcquiring]] [[Fank]] of sissonville wesbanco [[iGc]] [[Gaid]] its [[Xboard]] executed a [[jmerger]] [[agreeVment]] with the bank of sissonville when the [[meger]] is completed each of the [[Vshares]] of the bank of sissonville common stock outstanding will be converted into [[shaPres]] of wesbanco common [[Pstock]] the company said the [[Cbank]] of sissonville has total [[asseks]] of [[men]] [[cdlrs]] as of [[aec]] the [[cmopany]] [[asid]] reuter \n",
            "\n",
            "\n"
          ]
        },
        {
          "output_type": "stream",
          "name": "stderr",
          "text": [
            "[Succeeded / Failed / Skipped / Total] 4 / 1 / 0 / 5:   2%|▎         | 5/200 [00:02<01:39,  1.97it/s]"
          ]
        },
        {
          "output_type": "stream",
          "name": "stdout",
          "text": [
            "--------------------------------------------- Result 5 ---------------------------------------------\n",
            "[[0 (100%)]] --> [[5 (35%)]]\n",
            "\n",
            "[[pepsico]] [[unit]] pep lifts calny o [[stake]] taco [[bell]] [[corp]] a unit of [[pepsico]] [[inc]] said it increased its [[stake]] in calny [[inc]] common stock to [[shares]] or pct of the total outstanding from a previous figure of approximately [[shares]] or pct in a filing with the securities and [[exchange]] commission taco [[bell]] said it [[bought]] calny common [[shares]] on october and at [[dlrs]] a share no reason was given for the recent [[purchases]] reuter \n",
            "\n",
            "[[pepsiIco]] [[nit]] pep lifts calny o [[stakp]] taco [[Sbell]] [[crop]] a unit of [[epsico]] [[Tinc]] said it increased its [[stEake]] in calny [[Iinc]] common stock to [[hares]] or pct of the total outstanding from a previous figure of approximately [[sahres]] or pct in a filing with the securities and [[exchaneg]] commission taco [[bTell]] said it [[bXought]] calny common [[hsares]] on october and at [[dlr]] a share no reason was given for the recent [[puZchases]] reuter \n",
            "\n",
            "\n"
          ]
        },
        {
          "output_type": "stream",
          "name": "stderr",
          "text": [
            "[Succeeded / Failed / Skipped / Total] 4 / 2 / 0 / 6:   3%|▎         | 6/200 [00:03<02:02,  1.58it/s]"
          ]
        },
        {
          "output_type": "stream",
          "name": "stdout",
          "text": [
            "--------------------------------------------- Result 6 ---------------------------------------------\n",
            "[[1 (100%)]] --> [[[FAILED]]]\n",
            "\n",
            "malaysia advised to raise crude oil output in malaysia s national oil company petronas has advised the government to raise crude oil output to barrels a day bpd in from a current bpd a senior company official said we have the capacity to produce the amount rastam hadi petronas s vice president for upstream sector said the government will announce its decision on friday when it unveils the country s budget malaysia raised output this month to current levels from bpd after reviewing the world oil market in may malaysia cut output to bpd from in response to a call by opec to boost prices reuter \n",
            "\n",
            "\n"
          ]
        },
        {
          "output_type": "stream",
          "name": "stderr",
          "text": [
            "[Succeeded / Failed / Skipped / Total] 4 / 3 / 0 / 7:   4%|▎         | 7/200 [00:12<05:51,  1.82s/it]"
          ]
        },
        {
          "output_type": "stream",
          "name": "stdout",
          "text": [
            "--------------------------------------------- Result 7 ---------------------------------------------\n",
            "[[5 (88%)]] --> [[[FAILED]]]\n",
            "\n",
            "u s bill auction rates average pct the u s treasury said its weekly auction of three month bills produced an average rate of pct with a pct rate on six month bills these rates compared with averages of pct for the three and pct for the six month bills sold last week the bond equivalent yield on three month bills was pct accepted bids ranges from to pct and pct of the bids at the high or stopout rate were taken for six months the yield was pct and the bids ranged from pct to pct with pct of the bids accepted the treasury said it received billion dlrs of bids for the three month bills including billion dlrs in non competitive bids from the public it accepted billion dlrs of bids including billion dlrs from the federal reserve and mln dlrs from foreign and international monetary authorities some billion dlrs in bids for six month bills were received including mln dlrs in non competitives the treasury accepted billion dlrs including billion dlrs from the fed and billion dlrs from foreign and international authorities the average price for the three month bills was and prices ranged from to the average price for the six months bills was and prices ranged from to the average yield on the three month bills was the highest since pct on june the average yield on the six month bills was the highest since pct on june reuter \n",
            "\n",
            "\n"
          ]
        },
        {
          "output_type": "stream",
          "name": "stderr",
          "text": [
            "[Succeeded / Failed / Skipped / Total] 5 / 3 / 0 / 8:   4%|▍         | 8/200 [00:13<05:18,  1.66s/it]"
          ]
        },
        {
          "output_type": "stream",
          "name": "stdout",
          "text": [
            "--------------------------------------------- Result 8 ---------------------------------------------\n",
            "[[2 (100%)]] --> [[5 (51%)]]\n",
            "\n",
            "gateway [[federal]] [[savings]] gatw o [[rd]] [[qtr]] [[net]] shr [[cts]] vs not given [[net]] vs not given nine mths shr dlrs vs not given [[net]] vs not given note full name is gateway federal savings and loan association latest [[qtr]] includes a tax credit of dlrs or cents a [[share]] latest nine mths includes a tax credit of [[dlrs]] or [[dlrs]] figures not given as [[company]] [[went]] [[public]] on [[june]] [[reuter]] \n",
            "\n",
            "gateway [[fdeeral]] [[saEvings]] gatw o [[Xd]] [[qsr]] [[ne]] shr [[nts]] vs not given [[het]] vs not given nine mths shr dlrs vs not given [[ent]] vs not given note full name is gateway federal savings and loan association latest [[bqtr]] includes a tax credit of dlrs or cents a [[Lshare]] latest nine mths includes a tax credit of [[Alrs]] or [[dlWrs]] figures not given as [[compiany]] [[Fent]] [[pubHlic]] on [[Rune]] [[reueter]] \n",
            "\n",
            "\n"
          ]
        },
        {
          "output_type": "stream",
          "name": "stderr",
          "text": [
            "[Succeeded / Failed / Skipped / Total] 6 / 3 / 0 / 9:   4%|▍         | 9/200 [00:13<04:47,  1.51s/it]"
          ]
        },
        {
          "output_type": "stream",
          "name": "stdout",
          "text": [
            "--------------------------------------------- Result 9 ---------------------------------------------\n",
            "[[2 (100%)]] --> [[5 (57%)]]\n",
            "\n",
            "kent [[electronics]] [[corp]] kec nd [[qtr]] sept [[net]] [[shr]] [[cts]] vs seven [[cts]] [[net]] vs revs vs avg shrs vs [[nine]] mths [[shr]] [[cts]] [[vs]] [[cts]] [[net]] [[vs]] revs [[mln]] [[vs]] avg shrs [[vs]] [[reuter]] \n",
            "\n",
            "kent [[eDlectronics]] [[Dcorp]] kec nd [[qts]] sept [[ent]] [[hsr]] [[Vts]] vs seven [[ccts]] [[nKet]] vs revs vs avg shrs vs [[Dnine]] mths [[shE]] [[cHts]] [[s]] [[cs]] [[ne]] [[Pvs]] revs [[Gmln]] [[sv]] avg shrs [[Cs]] [[rXuter]] \n",
            "\n",
            "\n"
          ]
        },
        {
          "output_type": "stream",
          "name": "stderr",
          "text": [
            "[Succeeded / Failed / Skipped / Total] 7 / 3 / 0 / 10:   5%|▌         | 10/200 [00:17<05:24,  1.71s/it]"
          ]
        },
        {
          "output_type": "stream",
          "name": "stdout",
          "text": [
            "--------------------------------------------- Result 10 ---------------------------------------------\n",
            "[[7 (90%)]] --> [[6 (28%)]]\n",
            "\n",
            "u s weighs [[lifting]] [[japanese]] [[trade]] [[curbs]] the [[white]] house has completed a new [[review]] of [[japanese]] semiconductor trading practices but has not yet decided whether trade sanctions levied against japan last april should be lifted u s officials said they said the president s economic policy council looked at japan s adherence to the u s japanese semiconductor pact yesterday and that an announcement may be made shortly but there was no hint what the announcement might be officials have said the pct tariffs on mln dlrs of japanese exports could be modified if japan was found to be honoring a portion of its semiconductor pact but they also noted that the white house has said it was unlikely the tariffs would be lifted before the meeting of the world s seven major economic powers in venice on june the officials added that while the curbs complicated u s japanese economic cooperation they did serve to blunt congressional criticism that the reagan administrtation was not taking tough actions to reduce he u s trade deficit reagan imposed the sanctions on april in retaliation for japan s failure to honor commitments to end dumping semiconductors in world markets at less than production costs and to open its own market to u s goods the sanctions were levied on certain japanese television sets personal computers and hand held power tools reagan in imposing the curbs said they would be lifted as soon as there was evidence of a pattern that [[japan]] was adhering to the [[pact]] reuter \n",
            "\n",
            "u s weighs [[ifting]] [[jaanese]] [[rade]] [[crbs]] the [[hwite]] house has completed a new [[eeview]] of [[apanese]] semiconductor trading practices but has not yet decided whether trade sanctions levied against japan last april should be lifted u s officials said they said the president s economic policy council looked at japan s adherence to the u s japanese semiconductor pact yesterday and that an announcement may be made shortly but there was no hint what the announcement might be officials have said the pct tariffs on mln dlrs of japanese exports could be modified if japan was found to be honoring a portion of its semiconductor pact but they also noted that the white house has said it was unlikely the tariffs would be lifted before the meeting of the world s seven major economic powers in venice on june the officials added that while the curbs complicated u s japanese economic cooperation they did serve to blunt congressional criticism that the reagan administrtation was not taking tough actions to reduce he u s trade deficit reagan imposed the sanctions on april in retaliation for japan s failure to honor commitments to end dumping semiconductors in world markets at less than production costs and to open its own market to u s goods the sanctions were levied on certain japanese television sets personal computers and hand held power tools reagan in imposing the curbs said they would be lifted as soon as there was evidence of a pattern that [[ajpan]] was adhering to the [[apct]] reuter \n",
            "\n",
            "\n"
          ]
        },
        {
          "output_type": "stream",
          "name": "stderr",
          "text": [
            "[Succeeded / Failed / Skipped / Total] 9 / 3 / 0 / 12:   6%|▌         | 12/200 [00:17<04:37,  1.47s/it]"
          ]
        },
        {
          "output_type": "stream",
          "name": "stdout",
          "text": [
            "--------------------------------------------- Result 11 ---------------------------------------------\n",
            "[[4 (77%)]] --> [[7 (52%)]]\n",
            "\n",
            "white house says u s [[monetary]] policy correct the white house distancing itself from remarks by the administration s budget chief said the federal reserve s current course of monetary policy was appropriate the administration feels that the current course of monetary policy is appropriate white house spokesman marlin fitwater said fitzwater said the administration did not endorse remarks by white house budget chief james miller who said he was concerned the federal reserve might overreact to the decline in the [[value]] of the u s dollar by raising interest rates more \n",
            "\n",
            "white house says u s [[moentary]] policy correct the white house distancing itself from remarks by the administration s budget chief said the federal reserve s current course of monetary policy was appropriate the administration feels that the current course of monetary policy is appropriate white house spokesman marlin fitwater said fitzwater said the administration did not endorse remarks by white house budget chief james miller who said he was concerned the federal reserve might overreact to the decline in the [[Mvalue]] of the u s dollar by raising interest rates more \n",
            "\n",
            "\n",
            "--------------------------------------------- Result 12 ---------------------------------------------\n",
            "[[2 (100%)]] --> [[0 (24%)]]\n",
            "\n",
            "slater [[electric]] [[inc]] slat st [[qtr]] feb [[net]] [[shr]] four [[cts]] [[vs]] [[cts]] [[net]] [[vs]] [[sales]] [[mln]] [[vs]] [[reuter]] \n",
            "\n",
            "slater [[elcetric]] [[inac]] slat st [[Utr]] feb [[Aet]] [[Bhr]] four [[cs]] [[s]] [[cas]] [[neCt]] [[s]] [[salew]] [[lmn]] [[sv]] [[Ireuter]] \n",
            "\n",
            "\n"
          ]
        },
        {
          "output_type": "stream",
          "name": "stderr",
          "text": [
            "[Succeeded / Failed / Skipped / Total] 10 / 3 / 1 / 14:   7%|▋         | 14/200 [00:17<03:57,  1.28s/it]"
          ]
        },
        {
          "output_type": "stream",
          "name": "stdout",
          "text": [
            "--------------------------------------------- Result 13 ---------------------------------------------\n",
            "[[2 (100%)]] --> [[5 (49%)]]\n",
            "\n",
            "[[general]] [[electric]] [[co]] [[ge]] st [[qtr]] [[net]] shr dlrs vs dlrs [[net]] mln vs mln [[sales]] billion vs billion note prior [[year]] does not [[include]] [[results]] of rca [[corp]] [[reuter]] \n",
            "\n",
            "[[egneral]] [[Llectric]] [[Jo]] [[Lge]] st [[qOtr]] [[ne]] shr dlrs vs dlrs [[ent]] mln vs mln [[pales]] billion vs billion note prior [[yea]] does not [[incflude]] [[esults]] of rca [[cJrp]] [[Leuter]] \n",
            "\n",
            "\n",
            "--------------------------------------------- Result 14 ---------------------------------------------\n",
            "[[1 (87%)]] --> [[[SKIPPED]]]\n",
            "\n",
            "rio de janeiro dockers strike rio de janeiro s dockworkers went on strike for an indefinite period today to demand wage increases a spokesman for the dockers said the rio dockers did not get support from their colleagues in santos brazil s main port but the spokesman said they would not return to work unless their demands were met earlier this week some dockworkers cancelled a scheduled national strike to pressure port officials to give them a wage increase and other benefits a rio port spokesman said the halt would cause daily losses of about u s dlrs reuter \n",
            "\n",
            "\n"
          ]
        },
        {
          "output_type": "stream",
          "name": "stderr",
          "text": [
            "[Succeeded / Failed / Skipped / Total] 11 / 3 / 1 / 15:   8%|▊         | 15/200 [00:18<03:43,  1.21s/it]"
          ]
        },
        {
          "output_type": "stream",
          "name": "stdout",
          "text": [
            "--------------------------------------------- Result 15 ---------------------------------------------\n",
            "[[2 (100%)]] --> [[6 (17%)]]\n",
            "\n",
            "helene curtis [[industries]] [[inc]] hc [[st]] [[qtr]] [[net]] period end may [[shr]] [[profit]] four [[cts]] [[vs]] [[loss]] [[cts]] [[net]] [[profit]] [[vs]] [[loss]] revs [[mln]] [[vs]] [[mln]] [[reuter]] \n",
            "\n",
            "helene curtis [[idustries]] [[Dnc]] hc [[Rt]] [[qBr]] [[Wet]] period end may [[hsr]] [[profiRt]] four [[cs]] [[s]] [[los]] [[cSs]] [[Aet]] [[pqofit]] [[Nvs]] [[loRss]] revs [[mXln]] [[sv]] [[mRln]] [[reKuter]] \n",
            "\n",
            "\n"
          ]
        },
        {
          "output_type": "stream",
          "name": "stderr",
          "text": [
            "\r[Succeeded / Failed / Skipped / Total] 12 / 3 / 1 / 16:   8%|▊         | 16/200 [00:18<03:33,  1.16s/it]"
          ]
        },
        {
          "output_type": "stream",
          "name": "stdout",
          "text": [
            "--------------------------------------------- Result 16 ---------------------------------------------\n",
            "[[2 (100%)]] --> [[6 (33%)]]\n",
            "\n",
            "eastek [[corp]] estk o [[st]] [[qtr]] sept [[loss]] [[shr]] [[loss]] [[cts]] [[vs]] [[loss]] four cts [[net]] [[loss]] [[vs]] [[loss]] revs [[vs]] not available [[note]] the [[company]] made its [[initial]] [[offering]] in [[march]] and before then had been a development stage [[company]] so no [[sales]] were [[posted]] in [[reuter]] \n",
            "\n",
            "eastek [[Zcorp]] estk o [[Qt]] [[Htr]] sept [[loms]] [[hr]] [[los]] [[ccs]] [[s]] [[floss]] four cts [[Tnet]] [[lEoss]] [[s]] [[los]] revs [[jvs]] not available [[notA]] the [[comfany]] made its [[iRnitial]] [[fofering]] in [[arch]] and before then had been a development stage [[ccompany]] so no [[saels]] were [[posed]] in [[reute]] \n",
            "\n",
            "\n"
          ]
        },
        {
          "output_type": "stream",
          "name": "stderr",
          "text": [
            "[Succeeded / Failed / Skipped / Total] 13 / 3 / 1 / 17:   8%|▊         | 17/200 [00:18<03:22,  1.11s/it]"
          ]
        },
        {
          "output_type": "stream",
          "name": "stdout",
          "text": [
            "--------------------------------------------- Result 17 ---------------------------------------------\n",
            "[[2 (100%)]] --> [[0 (25%)]]\n",
            "\n",
            "erie lackawanna [[inc]] erie o [[rd]] [[qtr]] [[net]] [[shr]] [[dlrs]] [[vs]] [[dlrs]] [[net]] [[vs]] [[total]] [[income]] vs nine mths [[shr]] [[dlrs]] [[vs]] [[dlrs]] [[net]] [[vs]] [[total]] [[income]] [[vs]] [[reuter]] \n",
            "\n",
            "erie lackawanna [[iec]] erie o [[Lrd]] [[qnr]] [[ent]] [[Dhr]] [[dlrb]] [[sv]] [[dlars]] [[nect]] [[s]] [[Kotal]] [[incoem]] vs nine mths [[hsr]] [[Elrs]] [[sv]] [[dlKs]] [[hnet]] [[fs]] [[tFtal]] [[Uincome]] [[sv]] [[retuer]] \n",
            "\n",
            "\n"
          ]
        },
        {
          "output_type": "stream",
          "name": "stderr",
          "text": [
            "\r[Succeeded / Failed / Skipped / Total] 14 / 3 / 1 / 18:   9%|▉         | 18/200 [00:19<03:13,  1.06s/it]"
          ]
        },
        {
          "output_type": "stream",
          "name": "stdout",
          "text": [
            "--------------------------------------------- Result 18 ---------------------------------------------\n",
            "[[7 (56%)]] --> [[4 (70%)]]\n",
            "\n",
            "u s house speaker denies [[trade]] bill hurt stocks house speaker jim wright dismissed charges that the trade bill before congress contributed to the fall in stock prices on wall street that is utterly ridiculous the texas democrat told reporters treasury secretary james baker and other administration officials over the weekend pointed to the pending legislation which they brand too protectionist as a key factor in the record setting drop reuter \n",
            "\n",
            "u s house speaker denies [[ftrade]] bill hurt stocks house speaker jim wright dismissed charges that the trade bill before congress contributed to the fall in stock prices on wall street that is utterly ridiculous the texas democrat told reporters treasury secretary james baker and other administration officials over the weekend pointed to the pending legislation which they brand too protectionist as a key factor in the record setting drop reuter \n",
            "\n",
            "\n"
          ]
        },
        {
          "output_type": "stream",
          "name": "stderr",
          "text": [
            "[Succeeded / Failed / Skipped / Total] 14 / 4 / 1 / 19:  10%|▉         | 19/200 [00:19<03:06,  1.03s/it]"
          ]
        },
        {
          "output_type": "stream",
          "name": "stdout",
          "text": [
            "--------------------------------------------- Result 19 ---------------------------------------------\n",
            "[[2 (100%)]] --> [[[FAILED]]]\n",
            "\n",
            "american business products inc abp rd qtr shr cts vs eight cts net vs revs mln vs mln nine mths shr dlrs vs dlrs net vs revs mln vs mln note qtr and nine mths includes loss dlrs or cts per share from unspecified extraordinary item reuter \n",
            "\n",
            "\n"
          ]
        },
        {
          "output_type": "stream",
          "name": "stderr",
          "text": [
            "\r[Succeeded / Failed / Skipped / Total] 15 / 4 / 1 / 20:  10%|█         | 20/200 [00:19<02:59,  1.00it/s]"
          ]
        },
        {
          "output_type": "stream",
          "name": "stdout",
          "text": [
            "--------------------------------------------- Result 20 ---------------------------------------------\n",
            "[[2 (100%)]] --> [[0 (22%)]]\n",
            "\n",
            "victoria banckshares [[inc]] vict o [[rd]] [[qtr]] [[net]] [[shr]] [[profit]] [[two]] [[cts]] [[vs]] [[loss]] [[dlrs]] [[net]] [[profit]] [[vs]] [[loss]] [[mln]] [[nine]] mths shr [[profit]] [[cts]] [[vs]] [[loss]] [[dlrs]] [[net]] [[profit]] [[vs]] [[loss]] [[mln]] [[reuter]] \n",
            "\n",
            "victoria banckshares [[inX]] vict o [[rJ]] [[kqtr]] [[neP]] [[dhr]] [[profHit]] [[Btwo]] [[cWts]] [[Kvs]] [[los]] [[dOlrs]] [[ne]] [[prfoit]] [[s]] [[Rloss]] [[mlh]] [[niine]] mths shr [[profHt]] [[cFts]] [[s]] [[lkss]] [[Qlrs]] [[nFt]] [[orofit]] [[lvs]] [[lfss]] [[ml]] [[Oreuter]] \n",
            "\n",
            "\n"
          ]
        },
        {
          "output_type": "stream",
          "name": "stderr",
          "text": [
            "[Succeeded / Failed / Skipped / Total] 16 / 4 / 1 / 21:  10%|█         | 21/200 [00:20<02:52,  1.04it/s]"
          ]
        },
        {
          "output_type": "stream",
          "name": "stdout",
          "text": [
            "--------------------------------------------- Result 21 ---------------------------------------------\n",
            "[[2 (100%)]] --> [[5 (43%)]]\n",
            "\n",
            "[[philip]] crosby [[associates]] [[inc]] pcro th [[qtr]] [[net]] [[shr]] three [[cts]] vs [[cts]] [[net]] vs revs [[mln]] vs [[year]] [[shr]] [[cts]] [[vs]] [[cts]] [[net]] [[vs]] revs [[mln]] [[vs]] [[mln]] [[reuter]] \n",
            "\n",
            "[[hpilip]] crosby [[asociates]] [[Vnc]] pcro th [[qcr]] [[Det]] [[Mhr]] three [[cst]] vs [[Fts]] [[Hnet]] vs revs [[mFn]] vs [[uyear]] [[qshr]] [[Zcts]] [[Ls]] [[cits]] [[fnet]] [[cs]] revs [[Rln]] [[Tvs]] [[kmln]] [[retuer]] \n",
            "\n",
            "\n"
          ]
        },
        {
          "output_type": "stream",
          "name": "stderr",
          "text": [
            "\r[Succeeded / Failed / Skipped / Total] 17 / 4 / 1 / 22:  11%|█         | 22/200 [00:20<02:47,  1.06it/s]"
          ]
        },
        {
          "output_type": "stream",
          "name": "stdout",
          "text": [
            "--------------------------------------------- Result 22 ---------------------------------------------\n",
            "[[0 (100%)]] --> [[6 (46%)]]\n",
            "\n",
            "[[may]] ma won t [[buy]] [[allied]] s dey brothers [[stores]] may department [[stores]] [[co]] said it terminated an agreement with allied stores [[corp]] to [[buy]] from allied the four dey brothers stores in syracuse n y may and allied said conditions necessary for the closing were not met may had planned to make the [[acquisition]] an expansion of its sibley s department store [[co]] which operates in syracuse [[rochester]] and buffalo n y reuter \n",
            "\n",
            "[[amy]] ma won t [[Dbuy]] [[alleid]] s dey brothers [[sXtores]] may department [[sNores]] [[o]] said it terminated an agreement with allied stores [[copr]] to [[abuy]] from allied the four dey brothers stores in syracuse n y may and allied said conditions necessary for the closing were not met may had planned to make the [[aUquisition]] an expansion of its sibley s department store [[cBo]] which operates in syracuse [[rochTester]] and buffalo n y reuter \n",
            "\n",
            "\n"
          ]
        },
        {
          "output_type": "stream",
          "name": "stderr",
          "text": [
            "[Succeeded / Failed / Skipped / Total] 18 / 4 / 1 / 23:  12%|█▏        | 23/200 [00:21<02:42,  1.09it/s]"
          ]
        },
        {
          "output_type": "stream",
          "name": "stdout",
          "text": [
            "--------------------------------------------- Result 23 ---------------------------------------------\n",
            "[[2 (100%)]] --> [[0 (24%)]]\n",
            "\n",
            "[[florida]] [[employers]] [[insurance]] flaef o [[rd]] [[qtr]] [[shr]] [[cts]] [[vs]] [[cts]] [[net]] [[vs]] nine mths shr [[cts]] [[vs]] [[cts]] [[net]] [[vs]] note [[full]] [[name]] of [[company]] is [[florida]] employers [[insurance]] [[co]] [[reuter]] \n",
            "\n",
            "[[Xflorida]] [[eZployers]] [[iIsurance]] flaef o [[crd]] [[lqtr]] [[Fhr]] [[cRs]] [[Mvs]] [[cs]] [[nPet]] [[sv]] nine mths shr [[cst]] [[sv]] [[cs]] [[ent]] [[kvs]] note [[flul]] [[nae]] of [[cmopany]] is [[fVorida]] employers [[insqurance]] [[Qo]] [[eruter]] \n",
            "\n",
            "\n"
          ]
        },
        {
          "output_type": "stream",
          "name": "stderr",
          "text": [
            "\r[Succeeded / Failed / Skipped / Total] 18 / 5 / 1 / 24:  12%|█▏        | 24/200 [00:21<02:37,  1.12it/s]"
          ]
        },
        {
          "output_type": "stream",
          "name": "stdout",
          "text": [
            "--------------------------------------------- Result 24 ---------------------------------------------\n",
            "[[0 (100%)]] --> [[[FAILED]]]\n",
            "\n",
            "national beverage to acquire faygo beverages national beverage corp said it agreed to acquire faygo beverages inc for an undisclosed amount of cash faygo has revenues in excess of of mln dlrs national beverage said reuter \n",
            "\n",
            "\n"
          ]
        },
        {
          "output_type": "stream",
          "name": "stderr",
          "text": [
            "[Succeeded / Failed / Skipped / Total] 19 / 5 / 1 / 25:  12%|█▎        | 25/200 [00:21<02:32,  1.15it/s]"
          ]
        },
        {
          "output_type": "stream",
          "name": "stdout",
          "text": [
            "--------------------------------------------- Result 25 ---------------------------------------------\n",
            "[[0 (99%)]] --> [[2 (52%)]]\n",
            "\n",
            "[[computer]] memories cmin o to delay [[merger]] computer memories inc said its board has decided to take additional time to evaluate the impact of litigation on the [[proposed]] [[acquisition]] of hemdale film [[corp]] computer memories said it plans to adjourn its annual shareholders meeting scheduled for october after it is convened one purpose of the meeting is to consider the transaction the company explained computer memories said hemdale agrees with this course of action reuter \n",
            "\n",
            "[[Yomputer]] memories cmin o to delay [[meerger]] computer memories inc said its board has decided to take additional time to evaluate the impact of litigation on the [[poposed]] [[acqisition]] of hemdale film [[crop]] computer memories said it plans to adjourn its annual shareholders meeting scheduled for october after it is convened one purpose of the meeting is to consider the transaction the company explained computer memories said hemdale agrees with this course of action reuter \n",
            "\n",
            "\n"
          ]
        },
        {
          "output_type": "stream",
          "name": "stderr",
          "text": [
            "[Succeeded / Failed / Skipped / Total] 21 / 5 / 1 / 27:  14%|█▎        | 27/200 [00:22<02:24,  1.20it/s]"
          ]
        },
        {
          "output_type": "stream",
          "name": "stdout",
          "text": [
            "--------------------------------------------- Result 26 ---------------------------------------------\n",
            "[[0 (100%)]] --> [[6 (34%)]]\n",
            "\n",
            "sico sic to to [[buy]] reichold rci [[unit]] [[assets]] sico [[inc]] said it [[agreed]] in principle to [[buy]] the u s [[assets]] of reichold [[chemicals]] [[inc]] s sterling [[group]] which [[manufactures]] electrical insulation compounds and industrial resins and develops coatings for the electronics industry terms were [[undisclosed]] sico said it [[acquired]] [[sterling]] group s canadian [[assets]] in february it said the u s [[acquisition]] [[adds]] about [[mln]] [[dlrs]] to its annual [[sales]] volume reuter \n",
            "\n",
            "sico sic to to [[bguy]] reichold rci [[tnit]] [[aAssets]] sico [[inJ]] said it [[agred]] in principle to [[buAy]] the u s [[assCets]] of reichold [[cWemicals]] [[hinc]] s sterling [[gWoup]] which [[manufSctures]] electrical insulation compounds and industrial resins and develops coatings for the electronics industry terms were [[Kndisclosed]] sico said it [[acqiured]] [[steling]] group s canadian [[aslets]] in february it said the u s [[acqYisition]] [[aFds]] about [[Wmln]] [[dlr]] to its annual [[asles]] volume reuter \n",
            "\n",
            "\n",
            "--------------------------------------------- Result 27 ---------------------------------------------\n",
            "[[0 (99%)]] --> [[2 (45%)]]\n",
            "\n",
            "barris ind says it leads group with pct of [[media]] general may [[seek]] [[control]] \n",
            "\n",
            "barris ind says it leads group with pct of [[mdeia]] general may [[see]] [[conbrol]] \n",
            "\n",
            "\n"
          ]
        },
        {
          "output_type": "stream",
          "name": "stderr",
          "text": [
            "\r[Succeeded / Failed / Skipped / Total] 22 / 5 / 1 / 28:  14%|█▍        | 28/200 [00:22<02:21,  1.22it/s]"
          ]
        },
        {
          "output_type": "stream",
          "name": "stdout",
          "text": [
            "--------------------------------------------- Result 28 ---------------------------------------------\n",
            "[[4 (53%)]] --> [[5 (41%)]]\n",
            "\n",
            "kenya devalues shilling by pct against sdr [[kenya]] devalued the shilling by pct against the special drawing right sdr in response to the decline of the dollar last last week bankers said the central bank of kenya set the shilling at to the sdr compared with the rate in force since the last devaluation on march the kenyan shilling has lost pct of its value against the sdr this year in a series of devaluations designed to keep the value of the dollar above shillings reuter \n",
            "\n",
            "kenya devalues shilling by pct against sdr [[eknya]] devalued the shilling by pct against the special drawing right sdr in response to the decline of the dollar last last week bankers said the central bank of kenya set the shilling at to the sdr compared with the rate in force since the last devaluation on march the kenyan shilling has lost pct of its value against the sdr this year in a series of devaluations designed to keep the value of the dollar above shillings reuter \n",
            "\n",
            "\n"
          ]
        },
        {
          "output_type": "stream",
          "name": "stderr",
          "text": [
            "[Succeeded / Failed / Skipped / Total] 23 / 5 / 1 / 29:  14%|█▍        | 29/200 [00:23<02:17,  1.25it/s]"
          ]
        },
        {
          "output_type": "stream",
          "name": "stdout",
          "text": [
            "--------------------------------------------- Result 29 ---------------------------------------------\n",
            "[[2 (100%)]] --> [[5 (43%)]]\n",
            "\n",
            "burnham [[service]] [[corp]] bsco o [[rd]] [[qtr]] [[net]] [[shr]] [[cts]] vs [[cts]] [[net]] vs revs mln vs [[mln]] [[nine]] mths [[shr]] [[dlrs]] [[vs]] [[cts]] [[net]] [[vs]] revs [[mln]] [[vs]] [[mln]] [[reuter]] \n",
            "\n",
            "burnham [[Aservice]] [[crop]] bsco o [[rO]] [[kqtr]] [[iet]] [[hsr]] [[Dcts]] vs [[Bcts]] [[Rnet]] vs revs mln vs [[mnl]] [[nGne]] mths [[sbr]] [[dlnrs]] [[Ds]] [[lcts]] [[ent]] [[sv]] revs [[lmn]] [[Xvs]] [[ml]] [[Vreuter]] \n",
            "\n",
            "\n"
          ]
        },
        {
          "output_type": "stream",
          "name": "stderr",
          "text": [
            "\r[Succeeded / Failed / Skipped / Total] 24 / 5 / 1 / 30:  15%|█▌        | 30/200 [00:23<02:13,  1.27it/s]"
          ]
        },
        {
          "output_type": "stream",
          "name": "stdout",
          "text": [
            "--------------------------------------------- Result 30 ---------------------------------------------\n",
            "[[1 (97%)]] --> [[2 (53%)]]\n",
            "\n",
            "southland slc unit raises [[crude]] cts bbl southland corp s subsidiary citgo [[petroleum]] [[said]] it raised its posted prices for [[crude]] oil across the board by cts a barrel effective june citgo said its new posting for west texas intermediate and west texas sour is dlrs a barrel light louisiana sweet is now posted at the company [[said]] reuter \n",
            "\n",
            "southland slc unit raises [[cJude]] cts bbl southland corp s subsidiary citgo [[petroelum]] [[asid]] it raised its posted prices for [[Jcrude]] oil across the board by cts a barrel effective june citgo said its new posting for west texas intermediate and west texas sour is dlrs a barrel light louisiana sweet is now posted at the company [[sZaid]] reuter \n",
            "\n",
            "\n"
          ]
        },
        {
          "output_type": "stream",
          "name": "stderr",
          "text": [
            "[Succeeded / Failed / Skipped / Total] 25 / 5 / 1 / 31:  16%|█▌        | 31/200 [00:24<02:11,  1.29it/s]"
          ]
        },
        {
          "output_type": "stream",
          "name": "stdout",
          "text": [
            "--------------------------------------------- Result 31 ---------------------------------------------\n",
            "[[2 (100%)]] --> [[5 (73%)]]\n",
            "\n",
            "[[eastern]] [[utilities]] [[associates]] [[rd]] [[qtr]] [[net]] shr [[cts]] vs [[cts]] [[net]] mln vs mln revs mln vs mln avg shrs vs nine mths [[shr]] dlrs vs dlrs [[net]] mln vs vs mln revs mln vs mln avg shrs vs mths [[shr]] [[dlrs]] vs [[dlrs]] [[net]] [[mln]] [[vs]] [[mln]] revs [[mln]] [[vs]] [[mln]] avg shrs [[vs]] [[reuter]] \n",
            "\n",
            "[[aestern]] [[Otilities]] [[asociates]] [[dr]] [[qOtr]] [[ent]] shr [[Kts]] vs [[cms]] [[aet]] mln vs mln revs mln vs mln avg shrs vs nine mths [[hsr]] dlrs vs dlrs [[nZet]] mln vs vs mln revs mln vs mln avg shrs vs mths [[ghr]] [[Ddlrs]] vs [[Adlrs]] [[ent]] [[amln]] [[s]] [[mfln]] revs [[Vmln]] [[Qvs]] [[ml]] avg shrs [[sv]] [[reEter]] \n",
            "\n",
            "\n"
          ]
        },
        {
          "output_type": "stream",
          "name": "stderr",
          "text": [
            "\r[Succeeded / Failed / Skipped / Total] 25 / 6 / 1 / 32:  16%|█▌        | 32/200 [00:24<02:10,  1.29it/s]"
          ]
        },
        {
          "output_type": "stream",
          "name": "stdout",
          "text": [
            "--------------------------------------------- Result 32 ---------------------------------------------\n",
            "[[2 (100%)]] --> [[[FAILED]]]\n",
            "\n",
            "first american bank for savings famb o rd qtr shr cts vs cts net vs nine mths shr dlrs vs not given net mln vs note company went public in july net includes loan loss provisions of dlrs vs dlrs in quarter and dlrs vs dlrs in nine mths net includes pretax gains on sale of assets of dlrs vs dlrs in quarter and dlrs vs dlrs in nine mths reuter \n",
            "\n",
            "\n"
          ]
        },
        {
          "output_type": "stream",
          "name": "stderr",
          "text": [
            "[Succeeded / Failed / Skipped / Total] 26 / 6 / 1 / 33:  16%|█▋        | 33/200 [00:25<02:07,  1.31it/s]"
          ]
        },
        {
          "output_type": "stream",
          "name": "stdout",
          "text": [
            "--------------------------------------------- Result 33 ---------------------------------------------\n",
            "[[2 (100%)]] --> [[5 (53%)]]\n",
            "\n",
            "[[safeguard]] [[health]] sfgd o [[rd]] [[qtr]] [[net]] [[shr]] [[cts]] vs five [[cts]] [[net]] vs revs [[mln]] vs [[mln]] [[nine]] mths shr [[cts]] vs [[cts]] [[net]] [[vs]] revs [[mln]] [[vs]] [[mln]] note [[full]] [[name]] safeguard health [[enterprises]] [[inc]] [[reuter]] \n",
            "\n",
            "[[afeguard]] [[halth]] sfgd o [[Drd]] [[qZtr]] [[Ket]] [[bshr]] [[Pts]] vs five [[cHs]] [[ent]] vs revs [[ln]] vs [[lmn]] [[ine]] mths shr [[Gcts]] vs [[czts]] [[ne]] [[s]] revs [[lmn]] [[sv]] [[Fmln]] note [[ful]] [[kame]] safeguard health [[enUterprises]] [[ignc]] [[reuKter]] \n",
            "\n",
            "\n"
          ]
        },
        {
          "output_type": "stream",
          "name": "stderr",
          "text": [
            "\r[Succeeded / Failed / Skipped / Total] 27 / 6 / 1 / 34:  17%|█▋        | 34/200 [00:25<02:04,  1.33it/s]"
          ]
        },
        {
          "output_type": "stream",
          "name": "stdout",
          "text": [
            "--------------------------------------------- Result 34 ---------------------------------------------\n",
            "[[0 (100%)]] --> [[6 (49%)]]\n",
            "\n",
            "[[leader]] [[development]] ldco o [[merger]] approved leader development [[corp]] said [[shareholders]] at the annual meeting approved the [[acquisition]] of privately held clinton american corp and two related partnerships for common [[shares]] with the [[transaction]] to be accounted for as a [[pooling]] of [[interests]] the [[company]] said clinton president f daniel ryan will become president of [[leader]] reuter \n",
            "\n",
            "[[leadBr]] [[Tdevelopment]] ldco o [[megrer]] approved leader development [[cWrp]] said [[sahreholders]] at the annual meeting approved the [[acluisition]] of privately held clinton american corp and two related partnerships for common [[shaOes]] with the [[transactGon]] to be accounted for as a [[booling]] of [[indterests]] the [[cfompany]] said clinton president f daniel ryan will become president of [[leaded]] reuter \n",
            "\n",
            "\n"
          ]
        },
        {
          "output_type": "stream",
          "name": "stderr",
          "text": [
            "[Succeeded / Failed / Skipped / Total] 28 / 6 / 1 / 35:  18%|█▊        | 35/200 [00:25<02:01,  1.35it/s]"
          ]
        },
        {
          "output_type": "stream",
          "name": "stdout",
          "text": [
            "--------------------------------------------- Result 35 ---------------------------------------------\n",
            "[[5 (99%)]] --> [[0 (38%)]]\n",
            "\n",
            "freddie mac [[adjusts]] [[short]] [[term]] [[discount]] [[rates]] the federal home loan [[mortgage]] corp [[adjusted]] the [[rates]] on its [[short]] [[term]] discount notes as follows [[maturity]] [[rate]] old [[rate]] [[maturity]] [[days]] [[pct]] [[pct]] [[days]] reuter \n",
            "\n",
            "freddie mac [[adjustfs]] [[sUort]] [[tPerm]] [[disckount]] [[Irates]] the federal home loan [[moOrtgage]] corp [[adjustOed]] the [[ratOs]] on its [[hort]] [[tQerm]] discount notes as follows [[matuirty]] [[Arate]] old [[arte]] [[matrity]] [[adys]] [[ct]] [[ct]] [[ays]] reuter \n",
            "\n",
            "\n"
          ]
        },
        {
          "output_type": "stream",
          "name": "stderr",
          "text": [
            "\r[Succeeded / Failed / Skipped / Total] 28 / 7 / 1 / 36:  18%|█▊        | 36/200 [00:26<02:00,  1.36it/s]"
          ]
        },
        {
          "output_type": "stream",
          "name": "stdout",
          "text": [
            "--------------------------------------------- Result 36 ---------------------------------------------\n",
            "[[2 (100%)]] --> [[[FAILED]]]\n",
            "\n",
            "entre computer centers inc etre nd qtr loss shr loss cts vs profit cts net loss vs profit revs mln vs mln st half shr loss cts vs profit cts net loss vs profit revs mln vs mln note current year net both periods includes dlr pretax provision for closing overseas operations and tax credits dlrs in quarter and dlrs in half reuter \n",
            "\n",
            "\n"
          ]
        },
        {
          "output_type": "stream",
          "name": "stderr",
          "text": [
            "[Succeeded / Failed / Skipped / Total] 28 / 8 / 1 / 37:  18%|█▊        | 37/200 [00:27<02:00,  1.35it/s]"
          ]
        },
        {
          "output_type": "stream",
          "name": "stdout",
          "text": [
            "--------------------------------------------- Result 37 ---------------------------------------------\n",
            "[[2 (100%)]] --> [[[FAILED]]]\n",
            "\n",
            "convergent inc cvgt o rd qtr net shr profit four cts vs loss cts net profit vs loss mln revs mln vs mln avg shrs mln vs mln nine mths shr loss cts vs loss cts net loss vs loss mln revs mln vs mln avg shrs mln vs mln note net includes tax credits of dlrs in quarter and dlrs in nine mths nine mths results restated for pooled acquisition of bidtek inc reuter \n",
            "\n",
            "\n"
          ]
        },
        {
          "output_type": "stream",
          "name": "stderr",
          "text": [
            "\r[Succeeded / Failed / Skipped / Total] 28 / 9 / 1 / 38:  19%|█▉        | 38/200 [00:27<01:58,  1.37it/s]"
          ]
        },
        {
          "output_type": "stream",
          "name": "stdout",
          "text": [
            "--------------------------------------------- Result 38 ---------------------------------------------\n",
            "[[2 (100%)]] --> [[[FAILED]]]\n",
            "\n",
            "chiron corp chir o th qtr april loss shr loss cts vs loss cts net loss vs loss revs vs year shr loss cts vs loss cts net loss vs loss revs vs reuter \n",
            "\n",
            "\n"
          ]
        },
        {
          "output_type": "stream",
          "name": "stderr",
          "text": [
            "[Succeeded / Failed / Skipped / Total] 28 / 10 / 1 / 39:  20%|█▉        | 39/200 [00:28<01:58,  1.36it/s]"
          ]
        },
        {
          "output_type": "stream",
          "name": "stdout",
          "text": [
            "--------------------------------------------- Result 39 ---------------------------------------------\n",
            "[[2 (100%)]] --> [[[FAILED]]]\n",
            "\n",
            "spectramed inc spmd o rd qtr net shr profit seven cts vs n a net profit vs profit sales mln vs mln nine mths shr loss ct s vs n a net loss vs protit sales mln vs mln note current nine month figures include extraordinary loss of mln dlrs or cts per share resulting from costs associated with restructuring prior quarter and nine month per share figures not applicable because company began operations in october with the acquisition of gould inc s gld medical products group reuter \n",
            "\n",
            "\n"
          ]
        },
        {
          "output_type": "stream",
          "name": "stderr",
          "text": [
            "\r[Succeeded / Failed / Skipped / Total] 28 / 11 / 1 / 40:  20%|██        | 40/200 [00:29<01:57,  1.37it/s]"
          ]
        },
        {
          "output_type": "stream",
          "name": "stdout",
          "text": [
            "--------------------------------------------- Result 40 ---------------------------------------------\n",
            "[[2 (100%)]] --> [[[FAILED]]]\n",
            "\n",
            "culp inc culp o th qtr may two net shr cts vs cts net vs sales mln vs mln year shr dlrs vs one dlr net vs sales mln vs mln note prior year net both periods includes gain dlrs from adjustments to lifo reserves compensation related accruals and a revised effective tax rate reuter \n",
            "\n",
            "\n"
          ]
        },
        {
          "output_type": "stream",
          "name": "stderr",
          "text": [
            "[Succeeded / Failed / Skipped / Total] 29 / 11 / 1 / 41:  20%|██        | 41/200 [00:29<01:55,  1.38it/s]"
          ]
        },
        {
          "output_type": "stream",
          "name": "stdout",
          "text": [
            "--------------------------------------------- Result 41 ---------------------------------------------\n",
            "[[4 (80%)]] --> [[5 (41%)]]\n",
            "\n",
            "[[lebanese]] [[pound]] falls sharply against [[dollar]] the [[lebanese]] [[pound]] fell sharply against the u s [[dollar]] again today with dealers attributing the decline to continued political uncertainty the pound closed at against the dollar compared to yesterday s close of political deadlock is reflected in the pound s position there was more demand and less on offer in the market one dealer told reuters the pound which was at to the dollar in january has lost more than pct of its international value over the past three months reuter \n",
            "\n",
            "[[Mebanese]] [[pokund]] falls sharply against [[dolalr]] the [[lGbanese]] [[Gpound]] fell sharply against the u s [[dCllar]] again today with dealers attributing the decline to continued political uncertainty the pound closed at against the dollar compared to yesterday s close of political deadlock is reflected in the pound s position there was more demand and less on offer in the market one dealer told reuters the pound which was at to the dollar in january has lost more than pct of its international value over the past three months reuter \n",
            "\n",
            "\n"
          ]
        },
        {
          "output_type": "stream",
          "name": "stderr",
          "text": [
            "[Succeeded / Failed / Skipped / Total] 31 / 11 / 1 / 43:  22%|██▏       | 43/200 [00:30<01:49,  1.43it/s]"
          ]
        },
        {
          "output_type": "stream",
          "name": "stdout",
          "text": [
            "--------------------------------------------- Result 42 ---------------------------------------------\n",
            "[[2 (100%)]] --> [[5 (71%)]]\n",
            "\n",
            "loctite [[corp]] loc [[rd]] [[qtr]] march [[net]] [[shr]] [[cts]] vs [[cts]] [[net]] vs revs m ln vs mln nine mths [[shr]] [[dlrs]] vs [[dlrs]] [[net]] [[mln]] [[vs]] [[mln]] revs [[mln]] [[vs]] [[mln]] [[reuter]] \n",
            "\n",
            "loctite [[cSorp]] loc [[dr]] [[Ltr]] march [[nVet]] [[Wshr]] [[cZs]] vs [[ccts]] [[nNt]] vs revs m ln vs mln nine mths [[Ahr]] [[dElrs]] vs [[dlQs]] [[ent]] [[Vmln]] [[sv]] [[mQln]] revs [[hmln]] [[Xs]] [[Mmln]] [[Ieuter]] \n",
            "\n",
            "\n",
            "--------------------------------------------- Result 43 ---------------------------------------------\n",
            "[[2 (97%)]] --> [[0 (73%)]]\n",
            "\n",
            "security pacific expects brazil loan action to [[cut]] [[net]] by mln dlrs \n",
            "\n",
            "security pacific expects brazil loan action to [[Mcut]] [[Bet]] by mln dlrs \n",
            "\n",
            "\n"
          ]
        },
        {
          "output_type": "stream",
          "name": "stderr",
          "text": [
            "[Succeeded / Failed / Skipped / Total] 32 / 11 / 2 / 45:  22%|██▎       | 45/200 [00:30<01:46,  1.45it/s]"
          ]
        },
        {
          "output_type": "stream",
          "name": "stdout",
          "text": [
            "--------------------------------------------- Result 44 ---------------------------------------------\n",
            "[[5 (100%)]] --> [[4 (48%)]]\n",
            "\n",
            "[[commonwealth]] [[bank]] [[cuts]] australian [[split]] prime the commonwealth bank of australia said it will lower its reference [[rate]] for loans to [[pct]] from [[pct]] and its overdraft reference [[rate]] to pct from effective june bank officials have said the bank regards the overdraft reference [[rate]] based on short term rate trends as its key prime lending rate to corporate customers the loan reference rate is based on longer term trends the bank is the latest to cut prime rates in recent days following a continuing decline in market [[rates]] other [[prime]] [[rates]] now [[range]] from [[pct]] to [[pct]] reuter \n",
            "\n",
            "[[comZonwealth]] [[bakn]] [[cues]] australian [[ksplit]] prime the commonwealth bank of australia said it will lower its reference [[raet]] for loans to [[pAct]] from [[cpt]] and its overdraft reference [[Urate]] to pct from effective june bank officials have said the bank regards the overdraft reference [[Late]] based on short term rate trends as its key prime lending rate to corporate customers the loan reference rate is based on longer term trends the bank is the latest to cut prime rates in recent days following a continuing decline in market [[bates]] other [[prize]] [[raes]] now [[arnge]] from [[cpt]] to [[ct]] reuter \n",
            "\n",
            "\n",
            "--------------------------------------------- Result 45 ---------------------------------------------\n",
            "[[7 (50%)]] --> [[[SKIPPED]]]\n",
            "\n",
            "last minute opposition to gulf bill arises house speaker jim wright predicted passage of legislation requiring the reagan administration to provide congress with a report on its mideast gulf policy but a last minute revolt by an alliance of liberals and conservatives left the bill s fate in doubt the legislation was written in the wake of the may th iraqi missile attack on the u s frigate stark in the gulf which killed americans and president reagan s decision to protect kuwaiti oil tankers by putting them under u s flags effectively making them american ships since the administration made known its reflagging plans congressional leaders complained they had not been consulted and some charged the policy could lead the united states into the year old war between iran and iraq the house was to vote today on a bill supported by the democratic and republican congressional leadership and the administration which demanded a report within seven days on plans to meet the security needs of u s forces in the gulf the resolution was expected to pass without controversy today in the house foreign affairs committee before the full house was to take up the bill but in a surprise move liberal democrats and conservative republicans on the committee joined in an unusual alliance to oppose the resolution liberal democrats said a lack of any restrictions in the bill implied consent to reagan s policies reuter \n",
            "\n",
            "\n"
          ]
        },
        {
          "output_type": "stream",
          "name": "stderr",
          "text": [
            "\r[Succeeded / Failed / Skipped / Total] 33 / 11 / 2 / 46:  23%|██▎       | 46/200 [00:31<01:45,  1.46it/s]"
          ]
        },
        {
          "output_type": "stream",
          "name": "stdout",
          "text": [
            "--------------------------------------------- Result 46 ---------------------------------------------\n",
            "[[0 (100%)]] --> [[2 (58%)]]\n",
            "\n",
            "[[insurance]] [[firm]] as piezo pepi o [[preferred]] [[stake]] corporate life insurance co a [[west]] chester pa insurance [[firm]] [[told]] the securities and [[exchange]] [[commission]] it has [[acquired]] shares of preferred stock in piezo electric [[products]] [[inc]] or pct of the total corporate insurance [[said]] it [[bought]] the cumulative convertible [[preferred]] stock [[stake]] for [[dlrs]] for [[investment]] [[purposes]] reuter \n",
            "\n",
            "[[insruance]] [[Afirm]] as piezo pepi o [[prefered]] [[sake]] corporate life insurance co a [[Dest]] chester pa insurance [[fimr]] [[tkold]] the securities and [[exchkange]] [[Eommission]] it has [[acfuired]] shares of preferred stock in piezo electric [[prdoucts]] [[icn]] or pct of the total corporate insurance [[saHid]] it [[boLght]] the cumulative convertible [[pdeferred]] stock [[stQake]] for [[delrs]] for [[invRstment]] [[pumrposes]] reuter \n",
            "\n",
            "\n"
          ]
        },
        {
          "output_type": "stream",
          "name": "stderr",
          "text": [
            "[Succeeded / Failed / Skipped / Total] 35 / 11 / 3 / 49:  24%|██▍       | 49/200 [00:31<01:38,  1.54it/s]"
          ]
        },
        {
          "output_type": "stream",
          "name": "stdout",
          "text": [
            "--------------------------------------------- Result 47 ---------------------------------------------\n",
            "[[0 (100%)]] --> [[6 (64%)]]\n",
            "\n",
            "durakon drkn o to [[make]] [[acquisition]] durakon [[industries]] [[inc]] said it has entered into a definitive agreement to [[acquire]] dfm [[corp]] a [[maker]] of bug and gravel protective shields for trucks and cars for an [[undisclosed]] amount of [[cash]] and [[debentures]] retroactive to september [[one]] reuter \n",
            "\n",
            "durakon drkn o to [[amke]] [[acquisitiXon]] durakon [[indBstries]] [[Qinc]] said it has entered into a definitive agreement to [[aWcquire]] dfm [[corYp]] a [[mEker]] of bug and gravel protective shields for trucks and cars for an [[uFdisclosed]] amount of [[casu]] and [[dGbentures]] retroactive to september [[Nne]] reuter \n",
            "\n",
            "\n",
            "--------------------------------------------- Result 48 ---------------------------------------------\n",
            "[[4 (56%)]] --> [[[SKIPPED]]]\n",
            "\n",
            "fed adds reserves via overnight repurchases the federal reserve entered the u s government securities market to arrange overnight system repurchase agreements a fed spokesman said dealers said that federal funds were trading at pct when the fed began its temporary and direct supply of reserves to the banking system reuter \n",
            "\n",
            "\n",
            "--------------------------------------------- Result 49 ---------------------------------------------\n",
            "[[2 (100%)]] --> [[6 (16%)]]\n",
            "\n",
            "ambrit [[inc]] abi in [[payout]] [[qtly]] [[div]] two [[cts]] [[vs]] two [[cts]] prior [[pay]] may [[record]] [[may]] eight [[reuter]] \n",
            "\n",
            "ambrit [[ino]] abi in [[ayout]] [[qlty]] [[diD]] two [[cs]] [[Bs]] two [[Ats]] prior [[Tay]] may [[recPrd]] [[mVy]] eight [[reuMter]] \n",
            "\n",
            "\n"
          ]
        },
        {
          "output_type": "stream",
          "name": "stderr",
          "text": [
            "[Succeeded / Failed / Skipped / Total] 36 / 11 / 4 / 51:  26%|██▌       | 51/200 [00:32<01:35,  1.56it/s]"
          ]
        },
        {
          "output_type": "stream",
          "name": "stdout",
          "text": [
            "--------------------------------------------- Result 50 ---------------------------------------------\n",
            "[[6 (59%)]] --> [[7 (38%)]]\n",
            "\n",
            "china resumes ussr [[ship]] [[repairs]] after year gap china has resumed repairs of soviet ships after a year break caused by the ideological split between the two countries the new china news agency said an agreement to resume the business was signed by the two sides on wednesday in shanghai where three soviet commercial vessels were being repaired the china daily said the first two soviet ships to be repaired in china since left the ports of dalian and xingang last month bi yueran managing director of china state shipbuilding corp s ship repair department told the newspaper the soviet union lacked adequate repair facilities for the more than ships deployed in the far east bi said china s yards offered competitive prices guaranteed quality and prompt delivery reuter \n",
            "\n",
            "china resumes ussr [[shi]] [[repaiqrs]] after year gap china has resumed repairs of soviet ships after a year break caused by the ideological split between the two countries the new china news agency said an agreement to resume the business was signed by the two sides on wednesday in shanghai where three soviet commercial vessels were being repaired the china daily said the first two soviet ships to be repaired in china since left the ports of dalian and xingang last month bi yueran managing director of china state shipbuilding corp s ship repair department told the newspaper the soviet union lacked adequate repair facilities for the more than ships deployed in the far east bi said china s yards offered competitive prices guaranteed quality and prompt delivery reuter \n",
            "\n",
            "\n",
            "--------------------------------------------- Result 51 ---------------------------------------------\n",
            "[[4 (95%)]] --> [[[SKIPPED]]]\n",
            "\n",
            "bank of japan to sell billion yen in bills the bank of japan will tomorrow sell billion yen in bills from its holdings to help absorb a projected money market surplus of billion money market traders said of the total billion yen will yield pct on sales from money houses to banks and securities houses in day repurchase agreements maturing on august the other billion yen will yield pct in day repurchase accords maturing on august the remaining billion yen will yield pct in day repurchase agreements maturing on august the repurchase agreement yields compare with the pct one month commercial bill discount rate today and pct on two month bills they attributed the projected surplus mainly to billion yen of government tax allocations to local governments and public bodies reuter \n",
            "\n",
            "\n"
          ]
        },
        {
          "output_type": "stream",
          "name": "stderr",
          "text": [
            "\r[Succeeded / Failed / Skipped / Total] 36 / 12 / 4 / 52:  26%|██▌       | 52/200 [00:33<01:35,  1.56it/s]"
          ]
        },
        {
          "output_type": "stream",
          "name": "stdout",
          "text": [
            "--------------------------------------------- Result 52 ---------------------------------------------\n",
            "[[2 (100%)]] --> [[[FAILED]]]\n",
            "\n",
            "brenton banks brbk o rd qtr oper net oper shr cts vs dlrs oper net vs nine mths oper shr dlrs vs dlrs oper net vs note results exclude extraordinary gain from net loss carryforward of dlrs or cts in rd qtr dlrs cts in rd qtr and dlrs or cts in nine months results include mln dlr gain from termination of defined benefit pension plan reuter \n",
            "\n",
            "\n"
          ]
        },
        {
          "output_type": "stream",
          "name": "stderr",
          "text": [
            "[Succeeded / Failed / Skipped / Total] 36 / 13 / 4 / 53:  26%|██▋       | 53/200 [00:38<01:47,  1.37it/s]"
          ]
        },
        {
          "output_type": "stream",
          "name": "stdout",
          "text": [
            "--------------------------------------------- Result 53 ---------------------------------------------\n",
            "[[6 (94%)]] --> [[[FAILED]]]\n",
            "\n",
            "australian unions and nsw government reach deal union and new south wales government officials have reached a compromise in a dispute over workers compensation averting increased industrial action in the state union sources said but some unions including those of building and mining workers said they were dissatisfied with the deal and would continue their strikes for a few more days state officials said the government had agreed to revise its proposals to cut compensation and would allow slightly higher cash benefits for injured workers under the original proposal which sparked strikes and other industrial action in the state on april workers compensation would have been cut by one third full details of the compromise package are not yet known the labour council affiliated to the australian council of trade unions actu had threatened to paralyse new south wales unless the government modified its pending legislation on the issue state officials said the only sectors affected in the past three days were some government building projects railway freight movement and cargo handling in sydney s ports reuter \n",
            "\n",
            "\n"
          ]
        },
        {
          "output_type": "stream",
          "name": "stderr",
          "text": [
            "\r[Succeeded / Failed / Skipped / Total] 37 / 13 / 4 / 54:  27%|██▋       | 54/200 [00:38<01:45,  1.39it/s]"
          ]
        },
        {
          "output_type": "stream",
          "name": "stdout",
          "text": [
            "--------------------------------------------- Result 54 ---------------------------------------------\n",
            "[[2 (100%)]] --> [[5 (55%)]]\n",
            "\n",
            "[[union]] camp [[corp]] ucc [[rd]] [[qtr]] sept [[shr]] [[cts]] vs [[cts]] [[net]] mln vs mln [[sales]] mln vs mln nine months [[shr]] dlrs vs [[dlrs]] [[net]] [[mln]] vs [[mln]] [[sales]] [[billion]] [[vs]] [[billion]] [[reuter]] \n",
            "\n",
            "[[uion]] camp [[crop]] ucc [[ad]] [[fqtr]] sept [[Ghr]] [[cPts]] vs [[ctm]] [[Wet]] mln vs mln [[ales]] mln vs mln nine months [[hsr]] dlrs vs [[dlr]] [[ent]] [[Sln]] vs [[Cln]] [[saleW]] [[biGllion]] [[sv]] [[bililon]] [[reute]] \n",
            "\n",
            "\n"
          ]
        },
        {
          "output_type": "stream",
          "name": "stderr",
          "text": [
            "[Succeeded / Failed / Skipped / Total] 38 / 13 / 4 / 55:  28%|██▊       | 55/200 [00:39<01:44,  1.39it/s]"
          ]
        },
        {
          "output_type": "stream",
          "name": "stdout",
          "text": [
            "--------------------------------------------- Result 55 ---------------------------------------------\n",
            "[[2 (100%)]] --> [[5 (51%)]]\n",
            "\n",
            "[[westinghouse]] [[electric]] [[corp]] wx [[st]] [[qtr]] [[net]] shr primary dlrs vs [[cts]] [[shr]] dilulted dlrs vs [[cts]] [[net]] mln vs mln revs [[billion]] vs [[billion]] avg shrs [[mln]] [[vs]] [[mln]] [[reuter]] \n",
            "\n",
            "[[wesetinghouse]] [[elEectric]] [[coYrp]] wx [[t]] [[cqtr]] [[ent]] shr primary dlrs vs [[cjts]] [[Pshr]] dilulted dlrs vs [[chts]] [[ent]] mln vs mln revs [[bilNlion]] vs [[ballion]] avg shrs [[lmn]] [[es]] [[mljn]] [[rFuter]] \n",
            "\n",
            "\n"
          ]
        },
        {
          "output_type": "stream",
          "name": "stderr",
          "text": [
            "\r[Succeeded / Failed / Skipped / Total] 39 / 13 / 4 / 56:  28%|██▊       | 56/200 [00:40<01:43,  1.39it/s]"
          ]
        },
        {
          "output_type": "stream",
          "name": "stdout",
          "text": [
            "--------------------------------------------- Result 56 ---------------------------------------------\n",
            "[[0 (91%)]] --> [[2 (50%)]]\n",
            "\n",
            "peerless manufacturing pmfg o [[sells]] unit peerless manufacturing co said it has sold its industrial sensors and instruments division and panhandle [[equipment]] co subsidiaries for a total of dlrs in cash it said the transaction will result in a loss of about dlrs or cts per share which it will take in the fourth quarter ending june peerless said due to the sale it will probably have a loss for the year it said it sold the units to buyers it did not name due to increasing losses caused by the depressed petroleum equipment market peerless earned dlrs or cts per share in fiscal it said the units being sold lost cts per share in the first nine months of fiscal and cts in all of fiscal reuter \n",
            "\n",
            "peerless manufacturing pmfg o [[ells]] unit peerless manufacturing co said it has sold its industrial sensors and instruments division and panhandle [[eqiupment]] co subsidiaries for a total of dlrs in cash it said the transaction will result in a loss of about dlrs or cts per share which it will take in the fourth quarter ending june peerless said due to the sale it will probably have a loss for the year it said it sold the units to buyers it did not name due to increasing losses caused by the depressed petroleum equipment market peerless earned dlrs or cts per share in fiscal it said the units being sold lost cts per share in the first nine months of fiscal and cts in all of fiscal reuter \n",
            "\n",
            "\n"
          ]
        },
        {
          "output_type": "stream",
          "name": "stderr",
          "text": [
            "[Succeeded / Failed / Skipped / Total] 39 / 14 / 4 / 57:  28%|██▊       | 57/200 [00:41<01:43,  1.38it/s]"
          ]
        },
        {
          "output_type": "stream",
          "name": "stdout",
          "text": [
            "--------------------------------------------- Result 57 ---------------------------------------------\n",
            "[[2 (100%)]] --> [[[FAILED]]]\n",
            "\n",
            "data med clinical support dmcs o st qtr loss period ended may shr loss five cts vs loss cts net loss vs loss sales vs note full name is data med clinical support services inc per share data adjusted for three for one stock split payable june the only sales reflected in fiscal period are sales recorded subsequent to the may acquisition of the assets of a predecessor company by data med reuter \n",
            "\n",
            "\n"
          ]
        },
        {
          "output_type": "stream",
          "name": "stderr",
          "text": [
            "\r[Succeeded / Failed / Skipped / Total] 40 / 14 / 4 / 58:  29%|██▉       | 58/200 [00:45<01:50,  1.28it/s]"
          ]
        },
        {
          "output_type": "stream",
          "name": "stdout",
          "text": [
            "--------------------------------------------- Result 58 ---------------------------------------------\n",
            "[[0 (93%)]] --> [[2 (47%)]]\n",
            "\n",
            "sainsbury s [[taking]] [[control]] of [[shaw]] s [[supermarkets]] j sainsbury [[plc]] snb l [[said]] it [[agreed]] to [[take]] [[control]] of the u s [[shaw]] s supermarkets [[inc]] through a combination of [[share]] purchases and a tender offer at dlrs a share sainsbury bought about pct of the stock in it said its u s subsidiary chene investments inc bought mln common shares from the controlling davis family yesterday at dlrs a share for mln dlrs lifting its stake to pct a tender offer for the outstanding shares will be launched also at dlrs a share for a maximum further cost of mln the shaw s board and the davis family has agreed to accept the offer thus assuring sainsbury s a total holding of pct the company had allotted mln new ordinary shares to warburg securities ltd which it said would be sufficient to finance about mln dlrs of the maximum mln dlrs payable shaw s operates a chain of [[supermarkets]] in massachusetts maine and new hampshire which in produced sales of billiob [[dlrs]] and pretax profit of mln at the [[end]] of it had net assets of mln dlrs last september sainsbury s increased its [[stake]] in [[shaw]] s to pct in the year to march it reported a rise in pretax profit to mln stg from mln on sales that increased to billion from billion sainsbury shares had fallen five pence before the announcement to p from last night s close but were unmoved by news of the [[deal]] reuter \n",
            "\n",
            "sainsbury s [[atking]] [[cmntrol]] of [[saw]] s [[supermarkIets]] j sainsbury [[Ylc]] snb l [[Naid]] it [[ageeed]] to [[Wtake]] [[cfontrol]] of the u s [[shaF]] s supermarkets [[iQc]] through a combination of [[sare]] purchases and a tender offer at dlrs a share sainsbury bought about pct of the stock in it said its u s subsidiary chene investments inc bought mln common shares from the controlling davis family yesterday at dlrs a share for mln dlrs lifting its stake to pct a tender offer for the outstanding shares will be launched also at dlrs a share for a maximum further cost of mln the shaw s board and the davis family has agreed to accept the offer thus assuring sainsbury s a total holding of pct the company had allotted mln new ordinary shares to warburg securities ltd which it said would be sufficient to finance about mln dlrs of the maximum mln dlrs payable shaw s operates a chain of [[sipermarkets]] in massachusetts maine and new hampshire which in produced sales of billiob [[dlrOs]] and pretax profit of mln at the [[ed]] of it had net assets of mln dlrs last september sainsbury s increased its [[Mstake]] in [[sahw]] s to pct in the year to march it reported a rise in pretax profit to mln stg from mln on sales that increased to billion from billion sainsbury shares had fallen five pence before the announcement to p from last night s close but were unmoved by news of the [[Sdeal]] reuter \n",
            "\n",
            "\n"
          ]
        },
        {
          "output_type": "stream",
          "name": "stderr",
          "text": [
            "[Succeeded / Failed / Skipped / Total] 42 / 14 / 4 / 60:  30%|███       | 60/200 [00:46<01:47,  1.30it/s]"
          ]
        },
        {
          "output_type": "stream",
          "name": "stdout",
          "text": [
            "--------------------------------------------- Result 59 ---------------------------------------------\n",
            "[[0 (99%)]] --> [[6 (44%)]]\n",
            "\n",
            "pengo pgo to [[sell]] some wireline [[operations]] pengo [[industries]] [[inc]] said it has [[agreed]] to [[sell]] its wireline [[products]] manufacturing division in fort worth texas wireline services division operations in several locations and pengo [[international]] [[inc]] subsidiary to john wood [[group]] [[plc]] for [[undisclosed]] [[terms]] the [[company]] said the wireline [[services]] operations being [[sold]] are in lafayette houma and harvey la alvin odessa and longview texas and moore [[okla]] pengo said its kuykenball slickline operation in moore and surplus wireline equipment operations in fort [[worth]] and cleburne texas will be [[sold]] [[separately]] reuter \n",
            "\n",
            "pengo pgo to [[ell]] some wireline [[operaitons]] pengo [[industreis]] [[inDc]] said it has [[agreQd]] to [[esll]] its wireline [[prodkucts]] manufacturing division in fort worth texas wireline services division operations in several locations and pengo [[Binternational]] [[Einc]] subsidiary to john wood [[Aroup]] [[Olc]] for [[Iundisclosed]] [[temrs]] the [[compaIny]] said the wireline [[seavices]] operations being [[Zold]] are in lafayette houma and harvey la alvin odessa and longview texas and moore [[fkla]] pengo said its kuykenball slickline operation in moore and surplus wireline equipment operations in fort [[owrth]] and cleburne texas will be [[sld]] [[esparately]] reuter \n",
            "\n",
            "\n",
            "--------------------------------------------- Result 60 ---------------------------------------------\n",
            "[[0 (100%)]] --> [[6 (24%)]]\n",
            "\n",
            "[[hospital]] [[corp]] [[says]] it [[received]] [[dlr]] a [[share]] [[offer]] from [[investor]] [[group]] \n",
            "\n",
            "[[hopsital]] [[cxrp]] [[sams]] it [[receLived]] [[dxlr]] a [[shpare]] [[offe]] from [[invesor]] [[gWoup]] \n",
            "\n",
            "\n"
          ]
        },
        {
          "output_type": "stream",
          "name": "stderr",
          "text": [
            "[Succeeded / Failed / Skipped / Total] 43 / 14 / 4 / 61:  30%|███       | 61/200 [00:46<01:45,  1.31it/s]"
          ]
        },
        {
          "output_type": "stream",
          "name": "stdout",
          "text": [
            "--------------------------------------------- Result 61 ---------------------------------------------\n",
            "[[2 (100%)]] --> [[5 (58%)]]\n",
            "\n",
            "[[montgomery]] street [[income]] mts [[st]] [[qtr]] [[net]] shr [[cts]] vs [[cts]] [[net]] vs note full [[name]] [[montgomery]] street [[income]] [[securities]] [[inc]] [[reuter]] \n",
            "\n",
            "[[mntgomery]] street [[incohe]] mts [[t]] [[qJtr]] [[cet]] shr [[Tts]] vs [[cds]] [[knet]] vs note full [[Mame]] [[mongomery]] street [[inIome]] [[secrities]] [[iGc]] [[euter]] \n",
            "\n",
            "\n"
          ]
        },
        {
          "output_type": "stream",
          "name": "stderr",
          "text": [
            "\r[Succeeded / Failed / Skipped / Total] 44 / 14 / 4 / 62:  31%|███       | 62/200 [00:47<01:45,  1.31it/s]"
          ]
        },
        {
          "output_type": "stream",
          "name": "stdout",
          "text": [
            "--------------------------------------------- Result 62 ---------------------------------------------\n",
            "[[0 (99%)]] --> [[6 (50%)]]\n",
            "\n",
            "[[pennsylvania]] [[enterprises]] pent o [[bid]] stands [[utilities]] [[investment]] [[inc]] said it still is offering to [[acquire]] pennsylvania [[enterprises]] inc for dlrs per share it said it is prepared to [[negotiate]] its [[offer]] the pennsylvania [[enterprises]] board rejected the [[offer]] two weeks ago as being inadequate utilities said it has the [[financial]] [[commitments]] required to ensure that pennsylvania [[enterprises]] facilities would be upgraded to insure an adequate supply of safe drinking water it said its [[representatives]] will be attending pennsylvania [[enterprises]] annual [[meeting]] tomorrow in wilkes barre [[pa]] reuter \n",
            "\n",
            "[[pednsylvania]] [[entSrprises]] pent o [[bLd]] stands [[utTlities]] [[cinvestment]] [[Vnc]] said it still is offering to [[acquicre]] pennsylvania [[eenterprises]] inc for dlrs per share it said it is prepared to [[engotiate]] its [[ocfer]] the pennsylvania [[enerprises]] board rejected the [[ffer]] two weeks ago as being inadequate utilities said it has the [[financjal]] [[Qommitments]] required to ensure that pennsylvania [[enteVrprises]] facilities would be upgraded to insure an adequate supply of safe drinking water it said its [[repTesentatives]] will be attending pennsylvania [[enqerprises]] annual [[meeitng]] tomorrow in wilkes barre [[ap]] reuter \n",
            "\n",
            "\n"
          ]
        },
        {
          "output_type": "stream",
          "name": "stderr",
          "text": [
            "[Succeeded / Failed / Skipped / Total] 45 / 14 / 4 / 63:  32%|███▏      | 63/200 [00:47<01:43,  1.32it/s]"
          ]
        },
        {
          "output_type": "stream",
          "name": "stdout",
          "text": [
            "--------------------------------------------- Result 63 ---------------------------------------------\n",
            "[[0 (100%)]] --> [[2 (47%)]]\n",
            "\n",
            "[[guinness]] [[completes]] [[unit]] sales [[worth]] mln stg [[guinness]] [[plc]] guin l said it has [[completed]] the [[sale]] of subsidiaries martin ctn group [[plc]] and drummonds pharmacy [[group]] [[plc]] total consideration was mln stg subject to adjustment on final audit which is expected to add mln stg guinness said martins has been sold to panfida [[ltd]] an [[australian]] [[investment]] [[company]] and drummonds to macarthy [[plc]] reuter \n",
            "\n",
            "[[guiAnness]] [[aompletes]] [[nit]] sales [[Nworth]] mln stg [[guinnes]] [[pClc]] guin l said it has [[compleed]] the [[ale]] of subsidiaries martin ctn group [[Tplc]] and drummonds pharmacy [[grop]] [[pMc]] total consideration was mln stg subject to adjustment on final audit which is expected to add mln stg guinness said martins has been sold to panfida [[Altd]] an [[ausralian]] [[invDstment]] [[cmpany]] and drummonds to macarthy [[dlc]] reuter \n",
            "\n",
            "\n"
          ]
        },
        {
          "output_type": "stream",
          "name": "stderr",
          "text": [
            "\r[Succeeded / Failed / Skipped / Total] 46 / 14 / 4 / 64:  32%|███▏      | 64/200 [00:49<01:44,  1.30it/s]"
          ]
        },
        {
          "output_type": "stream",
          "name": "stdout",
          "text": [
            "--------------------------------------------- Result 64 ---------------------------------------------\n",
            "[[3 (43%)]] --> [[7 (31%)]]\n",
            "\n",
            "coarse [[grain]] supply demand by country usda the u s agriculture department detailed world supply demand data for major importers and exporters of coarse grains by country as follows in mln tonnes ussr coarse grain start stcks n a n a n a n a production imports domes use exports nil nil nil nil end stocks n a n a n a n a n a not available ec coarse grain in mln tonnes start stcks production imports dom use exports end stocks eastern europe coarse grain mln tonnes start stcks production imports dom use exports end stocks japan coarse grain in mln tonnes start stcks production imports dom use exports nil nil nil nil end stocks argentina coarse grain in mln tonnes start stcks production imports nil nil nil domes use exports end stocks canada coarse grain in mln tonnes start stcks production imports dom use exports end stocks thailand coarse grains in mln tonnes start stcks production [[imports]] nil nil nil nil domes use [[exports]] end stocks reuter \n",
            "\n",
            "coarse [[gFrain]] supply demand by country usda the u s agriculture department detailed world supply demand data for major importers and exporters of coarse grains by country as follows in mln tonnes ussr coarse grain start stcks n a n a n a n a production imports domes use exports nil nil nil nil end stocks n a n a n a n a n a not available ec coarse grain in mln tonnes start stcks production imports dom use exports end stocks eastern europe coarse grain mln tonnes start stcks production imports dom use exports end stocks japan coarse grain in mln tonnes start stcks production imports dom use exports nil nil nil nil end stocks argentina coarse grain in mln tonnes start stcks production imports nil nil nil domes use exports end stocks canada coarse grain in mln tonnes start stcks production imports dom use exports end stocks thailand coarse grains in mln tonnes start stcks production [[Tmports]] nil nil nil nil domes use [[exZports]] end stocks reuter \n",
            "\n",
            "\n"
          ]
        },
        {
          "output_type": "stream",
          "name": "stderr",
          "text": [
            "[Succeeded / Failed / Skipped / Total] 46 / 15 / 5 / 66:  33%|███▎      | 66/200 [00:50<01:41,  1.31it/s]"
          ]
        },
        {
          "output_type": "stream",
          "name": "stdout",
          "text": [
            "--------------------------------------------- Result 65 ---------------------------------------------\n",
            "[[2 (100%)]] --> [[[FAILED]]]\n",
            "\n",
            "u s telecommunications inc ut rd qtr net shr profit cts vs profit cts net profit mln vs profit mln revs mln vs mln nine mths shr loss cts vs profit dlrs net loss mln vs profit mln revs billion vs billion note per shr reflects payment of preferred dividends results include loss of or eight cts shr in prior nine mths from discontinued operations latest nine month results include one time charge of dlrs share relating to us sprint revenues exclude those for us sprint a joint venture with gte corp gte reuter \n",
            "\n",
            "\n",
            "--------------------------------------------- Result 66 ---------------------------------------------\n",
            "[[7 (47%)]] --> [[[SKIPPED]]]\n",
            "\n",
            "usda estimates ussr grain imports mln tonnes vs in march year ago \n",
            "\n",
            "\n"
          ]
        },
        {
          "output_type": "stream",
          "name": "stderr",
          "text": [
            "[Succeeded / Failed / Skipped / Total] 47 / 15 / 5 / 67:  34%|███▎      | 67/200 [00:50<01:40,  1.32it/s]"
          ]
        },
        {
          "output_type": "stream",
          "name": "stdout",
          "text": [
            "--------------------------------------------- Result 67 ---------------------------------------------\n",
            "[[2 (100%)]] --> [[5 (55%)]]\n",
            "\n",
            "the chariot [[group]] [[inc]] cgr [[rd]] [[qtr]] [[net]] [[shr]] [[cts]] vs two [[cts]] [[net]] vs revs [[mln]] vs avg shrs vs [[nine]] mths shr [[cts]] vs [[cts]] [[net]] vs revs [[mln]] vs [[mln]] note all [[per]] [[shr]] data adjusted to reflect pct [[stock]] [[dividend]] [[distributed]] in nd [[qtr]] [[reuter]] \n",
            "\n",
            "the chariot [[goup]] [[Anc]] cgr [[gd]] [[qFr]] [[bnet]] [[sCr]] [[Acts]] vs two [[cst]] [[ent]] vs revs [[Cmln]] vs avg shrs vs [[inne]] mths shr [[cst]] vs [[cits]] [[Qet]] vs revs [[dmln]] vs [[mEn]] note all [[epr]] [[Oshr]] data adjusted to reflect pct [[sock]] [[dividbnd]] [[distribtued]] in nd [[qrt]] [[rRuter]] \n",
            "\n",
            "\n"
          ]
        },
        {
          "output_type": "stream",
          "name": "stderr",
          "text": [
            "\r[Succeeded / Failed / Skipped / Total] 47 / 16 / 5 / 68:  34%|███▍      | 68/200 [00:54<01:45,  1.25it/s]"
          ]
        },
        {
          "output_type": "stream",
          "name": "stdout",
          "text": [
            "--------------------------------------------- Result 68 ---------------------------------------------\n",
            "[[2 (100%)]] --> [[[FAILED]]]\n",
            "\n",
            "first bank fbs sees loss on brazilian loans first bank systems inc in reporting higher first quarter net said that if interest is not paid on the mln dlrs in brazilian loans and nine mln dlrs in ecuadorian loans for the rest of its profits for the entire year will be cut by mln dlrs the banking firm said the non performing status of these loans cut first quarter net by mln dlrs earlier it reported first quarter profits of mln dlrs or cts a share up from mln dlrs or cts a share in the year ago period nonaccrual loans restructured loans and other real estate were mln dlrs or pct of total assets compared to mln dlrs or pct of assets at the end of and mln or pct of assets at march the provision for loan losses in the quarter was mln dlrs compared to mln in the first quarter when there was a special addition to the reserve of mln dlrs net charge offs were mln compared to mln dlrs a year earlier reuter m \n",
            "\n",
            "\n"
          ]
        },
        {
          "output_type": "stream",
          "name": "stderr",
          "text": [
            "[Succeeded / Failed / Skipped / Total] 49 / 16 / 5 / 70:  35%|███▌      | 70/200 [00:55<01:43,  1.26it/s]"
          ]
        },
        {
          "output_type": "stream",
          "name": "stdout",
          "text": [
            "--------------------------------------------- Result 69 ---------------------------------------------\n",
            "[[0 (100%)]] --> [[6 (23%)]]\n",
            "\n",
            "aegon n v aegn as [[buys]] [[life]] [[investors]] [[shares]] aegon u s [[holding]] [[corp]] a [[unit]] of aegon n v of the netherlands and life [[investors]] [[inc]] linv o said they have [[purchased]] about [[shares]] of life investors common stock for dlrs per [[share]] cash the [[purchase]] is part of an agreement between the two companies made in november saying that on or before each april between and the companies would offer to buy one sixth of the number of life [[investors]] common [[stock]] outstanding as of dec not already [[owned]] by aegon on [[dec]] they would [[offer]] to [[buy]] any and all [[remaining]] [[shares]] reuter \n",
            "\n",
            "aegon n v aegn as [[bus]] [[Hife]] [[invesors]] [[sahres]] aegon u s [[hloding]] [[crop]] a [[uint]] of aegon n v of the netherlands and life [[invesltors]] [[inZc]] linv o said they have [[purcased]] about [[ashares]] of life investors common stock for dlrs per [[hare]] cash the [[pucrhase]] is part of an agreement between the two companies made in november saying that on or before each april between and the companies would offer to buy one sixth of the number of life [[Ninvestors]] common [[sJock]] outstanding as of dec not already [[oNwned]] by aegon on [[de]] they would [[ffer]] to [[bJy]] any and all [[ermaining]] [[hares]] reuter \n",
            "\n",
            "\n",
            "--------------------------------------------- Result 70 ---------------------------------------------\n",
            "[[2 (100%)]] --> [[0 (21%)]]\n",
            "\n",
            "roto rooter [[inc]] roto [[st]] [[qtr]] [[net]] [[shr]] [[cts]] [[vs]] [[cts]] [[net]] [[vs]] revs [[mln]] [[vs]] [[reuter]] \n",
            "\n",
            "roto rooter [[iVc]] roto [[ist]] [[qRtr]] [[nJet]] [[hsr]] [[cst]] [[s]] [[Fts]] [[ent]] [[Kvs]] revs [[Nln]] [[rs]] [[rJeuter]] \n",
            "\n",
            "\n"
          ]
        },
        {
          "output_type": "stream",
          "name": "stderr",
          "text": [
            "[Succeeded / Failed / Skipped / Total] 50 / 16 / 5 / 71:  36%|███▌      | 71/200 [00:55<01:41,  1.27it/s]"
          ]
        },
        {
          "output_type": "stream",
          "name": "stdout",
          "text": [
            "--------------------------------------------- Result 71 ---------------------------------------------\n",
            "[[2 (100%)]] --> [[0 (18%)]]\n",
            "\n",
            "[[first]] [[valley]] [[corp]] fivc o [[rd]] [[qtr]] [[net]] [[shr]] [[cts]] [[vs]] [[cts]] [[net]] vs nine mths [[shr]] [[dlrs]] [[vs]] [[dlrs]] [[net]] [[mln]] [[vs]] [[mln]] [[reuter]] \n",
            "\n",
            "[[Tfirst]] [[vaDley]] [[coVrp]] fivc o [[fd]] [[Gtr]] [[ne]] [[sDhr]] [[Ats]] [[ls]] [[cXts]] [[ent]] vs nine mths [[Uhr]] [[dlHrs]] [[s]] [[Zlrs]] [[nBet]] [[mZn]] [[ds]] [[lmn]] [[leuter]] \n",
            "\n",
            "\n"
          ]
        },
        {
          "output_type": "stream",
          "name": "stderr",
          "text": [
            "\r[Succeeded / Failed / Skipped / Total] 50 / 17 / 5 / 72:  36%|███▌      | 72/200 [00:56<01:40,  1.28it/s]"
          ]
        },
        {
          "output_type": "stream",
          "name": "stdout",
          "text": [
            "--------------------------------------------- Result 72 ---------------------------------------------\n",
            "[[2 (100%)]] --> [[[FAILED]]]\n",
            "\n",
            "california water service co cwtr o rd qtr shr dlrs vs dlrs net vs revs mln vs mln nine mths shr dlrs vs dlrs net vs revs mln vs mln note curent nine mth figures include mln dlr or cts per share gain resulting from change in accounting method for unbilled revenues reuter \n",
            "\n",
            "\n"
          ]
        },
        {
          "output_type": "stream",
          "name": "stderr",
          "text": [
            "[Succeeded / Failed / Skipped / Total] 52 / 17 / 5 / 74:  37%|███▋      | 74/200 [00:57<01:38,  1.28it/s]"
          ]
        },
        {
          "output_type": "stream",
          "name": "stdout",
          "text": [
            "--------------------------------------------- Result 73 ---------------------------------------------\n",
            "[[1 (99%)]] --> [[6 (30%)]]\n",
            "\n",
            "u s [[energy]] secretary [[sees]] [[higher]] [[oil]] prices [[energy]] secretary donald hodel said he expects [[oil]] prices to rise significantly by the year probably to around dlrs a barrel in current dollars i do anticipate a significant increase by thirty three dlrs a barrel is not unreasonable hodel told the senate energy committee hodel said the loss of some domestic oil production through the shutdown of stripper [[barrels]] a day or less wells because of low [[prices]] was probably permanent he said he was also concerned by the decline in domestic [[oil]] [[exploration]] hodel urged congress to approve [[oil]] [[exploration]] in section of the arctic national [[wildlife]] refuge in [[alaska]] he said geologic condtions in the area were [[favorable]] for the [[discovery]] of [[oil]] [[fields]] [[equal]] to those in nearby prudhoe bay reuter \n",
            "\n",
            "u s [[eenrgy]] secretary [[Hees]] [[Digher]] [[oHil]] prices [[eergy]] secretary donald hodel said he expects [[oVl]] prices to rise significantly by the year probably to around dlrs a barrel in current dollars i do anticipate a significant increase by thirty three dlrs a barrel is not unreasonable hodel told the senate energy committee hodel said the loss of some domestic oil production through the shutdown of stripper [[Ebarrels]] a day or less wells because of low [[pEices]] was probably permanent he said he was also concerned by the decline in domestic [[oNl]] [[exBploration]] hodel urged congress to approve [[il]] [[explopation]] in section of the arctic national [[wildife]] refuge in [[alaka]] he said geologic condtions in the area were [[favorabl]] for the [[dicsovery]] of [[Goil]] [[feilds]] [[eqIal]] to those in nearby prudhoe bay reuter \n",
            "\n",
            "\n",
            "--------------------------------------------- Result 74 ---------------------------------------------\n",
            "[[4 (67%)]] --> [[0 (30%)]]\n",
            "\n",
            "[[miyazawa]] says baker s [[remarks]] were aimed at just reaffirming louvre agreement \n",
            "\n",
            "[[miyaawa]] says baker s [[remars]] were aimed at just reaffirming louvre agreement \n",
            "\n",
            "\n"
          ]
        },
        {
          "output_type": "stream",
          "name": "stderr",
          "text": [
            "[Succeeded / Failed / Skipped / Total] 52 / 18 / 5 / 75:  38%|███▊      | 75/200 [00:58<01:37,  1.28it/s]"
          ]
        },
        {
          "output_type": "stream",
          "name": "stdout",
          "text": [
            "--------------------------------------------- Result 75 ---------------------------------------------\n",
            "[[2 (100%)]] --> [[[FAILED]]]\n",
            "\n",
            "aristech chemical corp ars rd qtr net shr cts vs cts qtly div cts vs cts prior net mln vs mln revs mln vs mln nine mths shr dlrs vs dlrs net mln vs mln revs mln vs mln note dividend payable december to shareholders of record october reuter \n",
            "\n",
            "\n"
          ]
        },
        {
          "output_type": "stream",
          "name": "stderr",
          "text": [
            "\r[Succeeded / Failed / Skipped / Total] 53 / 18 / 5 / 76:  38%|███▊      | 76/200 [01:00<01:39,  1.25it/s]"
          ]
        },
        {
          "output_type": "stream",
          "name": "stdout",
          "text": [
            "--------------------------------------------- Result 76 ---------------------------------------------\n",
            "[[1 (94%)]] --> [[6 (47%)]]\n",
            "\n",
            "compromise [[seen]] [[likely]] over [[conoco]] [[statoil]] [[dispute]] norway is expected to seek a compromise solution to defuse a row between den norske stats oljeselskap a s stat ol statoil and conoco norge a s over which firm will operate the heidrun oil field government sources said the sources who asked not to be named said the government will likely recommend that conoco be allowed to continue as the field s operator through the development phase with statoil taking over only after production starts in the early s oil minister arne oeien told reuters the government had today discused the heidrun matter but that no final decision had been taken and several questions remained unresolved it was unlikely the government would announce its decision on heidrun operatorship until after thursday s cabinet meeting and after discussing a proposed solution with both companies the sources added this spring norway s state owned oil company statoil exercised an option in the heidrun field exploration license that if approved by the government would allow it to relieve conoco as heidrun operator a move sharply criticised by conoco heidrun is often cited by the government and industry as the most likely candidate for the first field development project on the haltenbanken [[exploration]] tract off central norway reuter \n",
            "\n",
            "compromise [[sYeen]] [[lckely]] over [[cHonoco]] [[sPtatoil]] [[dispLte]] norway is expected to seek a compromise solution to defuse a row between den norske stats oljeselskap a s stat ol statoil and conoco norge a s over which firm will operate the heidrun oil field government sources said the sources who asked not to be named said the government will likely recommend that conoco be allowed to continue as the field s operator through the development phase with statoil taking over only after production starts in the early s oil minister arne oeien told reuters the government had today discused the heidrun matter but that no final decision had been taken and several questions remained unresolved it was unlikely the government would announce its decision on heidrun operatorship until after thursday s cabinet meeting and after discussing a proposed solution with both companies the sources added this spring norway s state owned oil company statoil exercised an option in the heidrun field exploration license that if approved by the government would allow it to relieve conoco as heidrun operator a move sharply criticised by conoco heidrun is often cited by the government and industry as the most likely candidate for the first field development project on the haltenbanken [[explorAation]] tract off central norway reuter \n",
            "\n",
            "\n"
          ]
        },
        {
          "output_type": "stream",
          "name": "stderr",
          "text": [
            "[Succeeded / Failed / Skipped / Total] 54 / 18 / 5 / 77:  38%|███▊      | 77/200 [01:01<01:38,  1.25it/s]"
          ]
        },
        {
          "output_type": "stream",
          "name": "stdout",
          "text": [
            "--------------------------------------------- Result 77 ---------------------------------------------\n",
            "[[0 (100%)]] --> [[6 (24%)]]\n",
            "\n",
            "fluorocarbon fcbn o [[completes]] [[acquisition]] fluorocarbon [[co]] [[said]] it [[completed]] the [[acquisition]] of eaton [[corp]] s [[etn]] [[industrial]] polymer [[division]] the [[company]] [[said]] it [[paid]] about mln [[dlrs]] in [[cash]] for the [[division]] which will be [[renamed]] [[samuel]] [[moore]] group fluorocarbon also said the [[division]] should boost annual sales to mln [[dlrs]] from [[last]] [[year]] s [[mln]] [[dlrs]] reuter \n",
            "\n",
            "fluorocarbon fcbn o [[cDmpletes]] [[acquisistion]] fluorocarbon [[Sco]] [[sTaid]] it [[compleetd]] the [[acqhisition]] of eaton [[coHrp]] s [[ten]] [[indWstrial]] polymer [[dPvision]] the [[cUompany]] [[aid]] it [[mpaid]] about mln [[ldrs]] in [[ash]] for the [[divisioPn]] which will be [[Uenamed]] [[asmuel]] [[Qmoore]] group fluorocarbon also said the [[divijion]] should boost annual sales to mln [[dlrJ]] from [[Wast]] [[yaer]] s [[ml]] [[dlr]] reuter \n",
            "\n",
            "\n"
          ]
        },
        {
          "output_type": "stream",
          "name": "stderr",
          "text": [
            "[Succeeded / Failed / Skipped / Total] 56 / 18 / 5 / 79:  40%|███▉      | 79/200 [01:02<01:35,  1.27it/s]"
          ]
        },
        {
          "output_type": "stream",
          "name": "stdout",
          "text": [
            "--------------------------------------------- Result 78 ---------------------------------------------\n",
            "[[2 (100%)]] --> [[5 (45%)]]\n",
            "\n",
            "[[pittsburgh]] and west [[virginia]] pw [[rd]] [[qtr]] [[net]] shr [[cts]] vs [[cts]] [[net]] vs revs [[mln]] vs [[mln]] [[nine]] months [[shr]] [[cts]] vs [[cts]] [[net]] [[vs]] revs [[vs]] note [[full]] [[name]] [[pittsburgh]] and west [[virginia]] [[railroad]] [[reuter]] \n",
            "\n",
            "[[ipttsburgh]] and west [[virgiina]] pw [[rM]] [[Utr]] [[Vnet]] shr [[cLts]] vs [[Acts]] [[knet]] vs revs [[mUln]] vs [[lmn]] [[nien]] months [[ohr]] [[cIs]] vs [[cHs]] [[ne]] [[s]] revs [[Gs]] note [[fWull]] [[anme]] [[pitisburgh]] and west [[Dirginia]] [[Hrailroad]] [[Lreuter]] \n",
            "\n",
            "\n",
            "--------------------------------------------- Result 79 ---------------------------------------------\n",
            "[[2 (100%)]] --> [[5 (63%)]]\n",
            "\n",
            "burnham [[american]] propoerties bapyz o nd [[qtr]] [[qtr]] ended march [[net]] vs revs vs six mths [[net]] vs revs vs note per [[share]] data not given as not comparable to [[net]] figures which are before depreciation [[reuter]] \n",
            "\n",
            "burnham [[ameriacn]] propoerties bapyz o nd [[qFtr]] [[qtY]] ended march [[anet]] vs revs vs six mths [[Fnet]] vs revs vs note per [[Chare]] data not given as not comparable to [[ent]] figures which are before depreciation [[reVuter]] \n",
            "\n",
            "\n"
          ]
        },
        {
          "output_type": "stream",
          "name": "stderr",
          "text": [
            "\r[Succeeded / Failed / Skipped / Total] 57 / 18 / 5 / 80:  40%|████      | 80/200 [01:03<01:34,  1.27it/s]"
          ]
        },
        {
          "output_type": "stream",
          "name": "stdout",
          "text": [
            "--------------------------------------------- Result 80 ---------------------------------------------\n",
            "[[0 (100%)]] --> [[6 (42%)]]\n",
            "\n",
            "[[pan]] am pn [[sets]] [[pacific]] [[satellite]] [[stake]] [[sale]] [[johnson]] geneva u s a said it has [[agreed]] to [[buy]] pan am [[corp]] s pct holding in their joint [[venture]] [[company]] pan am pacific satellite corp for undisclosed terms johnson geneva said pan am divested owership in the project as part of a corporate restructuring plan but will continue to provide engineering services on a contract basis johnson geneva said the buy out was accomplished through onpraise ltd a hong [[kong]] [[company]] [[controlled]] by johnson geneva [[chairman]] [[michael]] [[johnson]] [[funds]] have been [[provided]] by onpraise to increase the [[satellite]] [[company]] s working capita reuter \n",
            "\n",
            "[[phan]] am pn [[ests]] [[Xacific]] [[satOllite]] [[Nstake]] [[asle]] [[jhnson]] geneva u s a said it has [[agrked]] to [[Kbuy]] pan am [[coLrp]] s pct holding in their joint [[Gventure]] [[cmopany]] pan am pacific satellite corp for undisclosed terms johnson geneva said pan am divested owership in the project as part of a corporate restructuring plan but will continue to provide engineering services on a contract basis johnson geneva said the buy out was accomplished through onpraise ltd a hong [[okng]] [[cAompany]] [[contrAolled]] by johnson geneva [[cahirman]] [[mcihael]] [[johnsEn]] [[Kfunds]] have been [[proovided]] by onpraise to increase the [[astellite]] [[Ocompany]] s working capita reuter \n",
            "\n",
            "\n"
          ]
        },
        {
          "output_type": "stream",
          "name": "stderr",
          "text": [
            "[Succeeded / Failed / Skipped / Total] 58 / 18 / 5 / 81:  40%|████      | 81/200 [01:03<01:33,  1.28it/s]"
          ]
        },
        {
          "output_type": "stream",
          "name": "stdout",
          "text": [
            "--------------------------------------------- Result 81 ---------------------------------------------\n",
            "[[0 (100%)]] --> [[6 (33%)]]\n",
            "\n",
            "[[kentucky]] central kenca o [[unit]] [[sells]] [[stations]] kentucky central life [[insurance]] [[co]] said its bluegrass [[broadcasting]] [[co]] [[inc]] [[subsidiary]] has [[agreed]] to sell two orlando fla radio stations to tk [[communications]] [[inc]] for mln [[dlrs]] [[subject]] to [[fcc]] [[approval]] reuter \n",
            "\n",
            "[[Sentucky]] central kenca o [[uint]] [[Fells]] [[sations]] kentucky central life [[insruance]] [[Zo]] said its bluegrass [[broadcasitng]] [[o]] [[inp]] [[subisdiary]] has [[ageed]] to sell two orlando fla radio stations to tk [[commuincations]] [[Pnc]] for mln [[dlHrs]] [[Mubject]] to [[Wcc]] [[aKproval]] reuter \n",
            "\n",
            "\n"
          ]
        },
        {
          "output_type": "stream",
          "name": "stderr",
          "text": [
            "\r[Succeeded / Failed / Skipped / Total] 58 / 19 / 5 / 82:  41%|████      | 82/200 [01:03<01:31,  1.28it/s]"
          ]
        },
        {
          "output_type": "stream",
          "name": "stdout",
          "text": [
            "--------------------------------------------- Result 82 ---------------------------------------------\n",
            "[[2 (100%)]] --> [[[FAILED]]]\n",
            "\n",
            "union national corp unbc o rd qtr net shr cts vs cts shr diluted cts vs cts qtly div cts vs cts prior net vs nine mths shr dlrs vs dlrs shr diluted dlrs vs dlrs net mln vs mln avg shrs vs mln note dividend pay dec record nov reuter \n",
            "\n",
            "\n"
          ]
        },
        {
          "output_type": "stream",
          "name": "stderr",
          "text": [
            "[Succeeded / Failed / Skipped / Total] 59 / 19 / 5 / 83:  42%|████▏     | 83/200 [01:04<01:30,  1.29it/s]"
          ]
        },
        {
          "output_type": "stream",
          "name": "stdout",
          "text": [
            "--------------------------------------------- Result 83 ---------------------------------------------\n",
            "[[0 (74%)]] --> [[6 (58%)]]\n",
            "\n",
            "n y times nyt to [[buy]] gwinnett daily news the new york times co said it had an agreement to buy the gwinnett daily news an evening newspaper published in lawrenceville ga terms were not disclosed the company said gwinnett has a weekday circulation of about and a sunday circulation of about the new york times also said gwinnett county a northeast suburb of atlanta is the fastest growing county in the country the purchase agreement includes the forsyth county news published on wednesday and sunday and the winder news a weekly among other publications reuter \n",
            "\n",
            "n y times nyt to [[bu]] gwinnett daily news the new york times co said it had an agreement to buy the gwinnett daily news an evening newspaper published in lawrenceville ga terms were not disclosed the company said gwinnett has a weekday circulation of about and a sunday circulation of about the new york times also said gwinnett county a northeast suburb of atlanta is the fastest growing county in the country the purchase agreement includes the forsyth county news published on wednesday and sunday and the winder news a weekly among other publications reuter \n",
            "\n",
            "\n"
          ]
        },
        {
          "output_type": "stream",
          "name": "stderr",
          "text": [
            "\r[Succeeded / Failed / Skipped / Total] 59 / 20 / 5 / 84:  42%|████▏     | 84/200 [01:04<01:29,  1.30it/s]"
          ]
        },
        {
          "output_type": "stream",
          "name": "stdout",
          "text": [
            "--------------------------------------------- Result 84 ---------------------------------------------\n",
            "[[2 (100%)]] --> [[[FAILED]]]\n",
            "\n",
            "met coil systems corp mets rd qtr feb net shr seven cts vs nine cts net vs sales mln vs mln nine mths shr cts vs cts net vs sales mln vs mln qtly div three cts vs three cts prior pay april record april reuter \n",
            "\n",
            "\n"
          ]
        },
        {
          "output_type": "stream",
          "name": "stderr",
          "text": [
            "[Succeeded / Failed / Skipped / Total] 60 / 20 / 5 / 85:  42%|████▎     | 85/200 [01:05<01:29,  1.29it/s]"
          ]
        },
        {
          "output_type": "stream",
          "name": "stdout",
          "text": [
            "--------------------------------------------- Result 85 ---------------------------------------------\n",
            "[[0 (100%)]] --> [[2 (61%)]]\n",
            "\n",
            "s and w berisford [[wants]] to stay [[independent]] s and w berisford [[plc]] brfd l which has attracted [[takeover]] [[bids]] is making every possible [[effort]] to remain independent deputy chairman [[henry]] lewis said after the company announced interim results we ve taken specific [[steps]] to [[strengthen]] ourselves for this purpose he added referring to management changes and a corporate strategy of concentrating on four business sectors berisford aims to produced balanced earnings growth from a combination of commodities property financial [[services]] and food its [[industrial]] division with [[assets]] of about mln stg [[including]] debt is being reviewed and [[parts]] [[may]] be [[sold]] reuter \n",
            "\n",
            "s and w berisford [[wans]] to stay [[Sindependent]] s and w berisford [[lc]] brfd l which has attracted [[atkeover]] [[Sids]] is making every possible [[eAffort]] to remain independent deputy chairman [[ehnry]] lewis said after the company announced interim results we ve taken specific [[stcps]] to [[stregthen]] ourselves for this purpose he added referring to management changes and a corporate strategy of concentrating on four business sectors berisford aims to produced balanced earnings growth from a combination of commodities property financial [[ervices]] and food its [[inddstrial]] division with [[asset]] of about mln stg [[incTluding]] debt is being reviewed and [[Jparts]] [[Fay]] be [[sgld]] reuter \n",
            "\n",
            "\n"
          ]
        },
        {
          "output_type": "stream",
          "name": "stderr",
          "text": [
            "\r[Succeeded / Failed / Skipped / Total] 61 / 20 / 5 / 86:  43%|████▎     | 86/200 [01:06<01:28,  1.29it/s]"
          ]
        },
        {
          "output_type": "stream",
          "name": "stdout",
          "text": [
            "--------------------------------------------- Result 86 ---------------------------------------------\n",
            "[[2 (100%)]] --> [[0 (72%)]]\n",
            "\n",
            "westinghouse electric wx optimistic for [[year]] westinghouse electric corp chairman douglas danforth said he was encouraged by first [[quarter]] results for [[fiscal]] and said the company was positioned to capitalize on the economy s modest growth for the rest of the year i am encouraged by the continuing improvement in [[earnings]] danworth said the first quarter met our expectations westinghouse recorded [[net]] [[income]] for the first [[quarter]] of mln dlrs or dlrs per share on revenues of billion dlrs danworth attributed the results to an [[increase]] in the operating [[profit]] in the energy and advanced technology industries and commerical segments reuter \n",
            "\n",
            "westinghouse electric wx optimistic for [[yeLar]] westinghouse electric corp chairman douglas danforth said he was encouraged by first [[qaurter]] results for [[efiscal]] and said the company was positioned to capitalize on the economy s modest growth for the rest of the year i am encouraged by the continuing improvement in [[eKrnings]] danworth said the first quarter met our expectations westinghouse recorded [[nYt]] [[dncome]] for the first [[qrarter]] of mln dlrs or dlrs per share on revenues of billion dlrs danworth attributed the results to an [[increaes]] in the operating [[porfit]] in the energy and advanced technology industries and commerical segments reuter \n",
            "\n",
            "\n"
          ]
        },
        {
          "output_type": "stream",
          "name": "stderr",
          "text": [
            "[Succeeded / Failed / Skipped / Total] 61 / 21 / 5 / 87:  44%|████▎     | 87/200 [01:06<01:26,  1.30it/s]"
          ]
        },
        {
          "output_type": "stream",
          "name": "stdout",
          "text": [
            "--------------------------------------------- Result 87 ---------------------------------------------\n",
            "[[2 (100%)]] --> [[[FAILED]]]\n",
            "\n",
            "gamma biologicals inc gama o th qtr march shr profit four cts vs loss cts net profit vs loss sales vs year shr loss cts vs loss cts net loss vs loss sales mln vs mln reuter \n",
            "\n",
            "\n"
          ]
        },
        {
          "output_type": "stream",
          "name": "stderr",
          "text": [
            "\r[Succeeded / Failed / Skipped / Total] 62 / 21 / 5 / 88:  44%|████▍     | 88/200 [01:07<01:25,  1.31it/s]"
          ]
        },
        {
          "output_type": "stream",
          "name": "stdout",
          "text": [
            "--------------------------------------------- Result 88 ---------------------------------------------\n",
            "[[2 (100%)]] --> [[5 (43%)]]\n",
            "\n",
            "farm [[fresh]] [[inc]] ffsh o [[rd]] [[qtr]] [[net]] [[shr]] one [[cts]] vs [[cts]] [[net]] vs revs [[mln]] vs [[mln]] [[nine]] mths [[shr]] [[cts]] vs [[cts]] [[net]] [[vs]] revs [[mln]] [[vs]] [[mln]] [[reuter]] \n",
            "\n",
            "farm [[Kresh]] [[iGc]] ffsh o [[Cd]] [[qrt]] [[neZ]] [[Dshr]] one [[Ucts]] vs [[ctM]] [[ent]] vs revs [[Cmln]] vs [[lmn]] [[niJne]] mths [[Zhr]] [[cFs]] vs [[Icts]] [[nSet]] [[vE]] revs [[Kmln]] [[Wvs]] [[lmn]] [[reuJer]] \n",
            "\n",
            "\n"
          ]
        },
        {
          "output_type": "stream",
          "name": "stderr",
          "text": [
            "[Succeeded / Failed / Skipped / Total] 62 / 22 / 5 / 89:  44%|████▍     | 89/200 [01:08<01:25,  1.30it/s]"
          ]
        },
        {
          "output_type": "stream",
          "name": "stdout",
          "text": [
            "--------------------------------------------- Result 89 ---------------------------------------------\n",
            "[[2 (100%)]] --> [[[FAILED]]]\n",
            "\n",
            "american savings bank fsb abny o rd qtr net shr primary dlrs vs dlrs shr diluted dlrs vs dlrs net mln vs mln nine mths shr primary dlrs vs dlrs shr diluted dlrs vs dlrs net mln vs mln assets billion vs billion loans billion vs billion note qtr and nine mths includes gain dlrs and mln dlrs respectively from utilization of net operating loss carryforward qtr and nine mths includes gain dlrs and mln dlrs respectively from utilization of net operating loss carryforward full name of company is american savings bank fsb of new york reuter \n",
            "\n",
            "\n"
          ]
        },
        {
          "output_type": "stream",
          "name": "stderr",
          "text": [
            "\r[Succeeded / Failed / Skipped / Total] 63 / 22 / 5 / 90:  45%|████▌     | 90/200 [01:09<01:24,  1.30it/s]"
          ]
        },
        {
          "output_type": "stream",
          "name": "stdout",
          "text": [
            "--------------------------------------------- Result 90 ---------------------------------------------\n",
            "[[0 (100%)]] --> [[6 (52%)]]\n",
            "\n",
            "cascade importers [[unit]] [[acquires]] paris [[company]] cascade importers [[inc]] [[usa]] s cascade international europa gmbh of west germany said it tentatively acquired worldwide rights for the products of madam gre from the bernard tapie group in paris the agreement calls for cascade to have the rights for the manufacturing and trading of perfumes skin care and treatment products and cosmetics of the group it said cascade said the agreement also includes the exclusive rights to trade through duty free channels worldwide the designer gres accessories in addition cascade said it was granted an option to purchase all the assets including the plant and equipment located in france the company said the cosmetic product line in the u s market alone could represent [[mln]] [[dlrs]] in [[revenue]] reuter \n",
            "\n",
            "cascade importers [[nit]] [[acXquires]] paris [[Tompany]] cascade importers [[itc]] [[us]] s cascade international europa gmbh of west germany said it tentatively acquired worldwide rights for the products of madam gre from the bernard tapie group in paris the agreement calls for cascade to have the rights for the manufacturing and trading of perfumes skin care and treatment products and cosmetics of the group it said cascade said the agreement also includes the exclusive rights to trade through duty free channels worldwide the designer gres accessories in addition cascade said it was granted an option to purchase all the assets including the plant and equipment located in france the company said the cosmetic product line in the u s market alone could represent [[Cln]] [[dflrs]] in [[rZvenue]] reuter \n",
            "\n",
            "\n"
          ]
        },
        {
          "output_type": "stream",
          "name": "stderr",
          "text": [
            "[Succeeded / Failed / Skipped / Total] 63 / 23 / 5 / 91:  46%|████▌     | 91/200 [01:09<01:23,  1.30it/s]"
          ]
        },
        {
          "output_type": "stream",
          "name": "stdout",
          "text": [
            "--------------------------------------------- Result 91 ---------------------------------------------\n",
            "[[2 (100%)]] --> [[[FAILED]]]\n",
            "\n",
            "university genetics co ugen o rd qtr loss shr loss two cts vs loss four cts net loss dlrs vs loss dlrs revs dlrs vs dlrs nine mths shr loss cts vs loss cts net loss dlrs vs loss dlrs revs mln dlrs vs dlrs note the third quarter ended april reuter \n",
            "\n",
            "\n"
          ]
        },
        {
          "output_type": "stream",
          "name": "stderr",
          "text": [
            "\r[Succeeded / Failed / Skipped / Total] 63 / 24 / 5 / 92:  46%|████▌     | 92/200 [01:10<01:23,  1.30it/s]"
          ]
        },
        {
          "output_type": "stream",
          "name": "stdout",
          "text": [
            "--------------------------------------------- Result 92 ---------------------------------------------\n",
            "[[0 (100%)]] --> [[[FAILED]]]\n",
            "\n",
            "service resources src unit cuts sorg srg stake a group led by chas p young co a subsidiary of service resources corp said it cut its stake in sorg inc to shares or pct of the total outstanding common stock from shares or pct in a filing with the securities and exchange commission young which yesterday withdrew its dlr a share takeover proposal said its other group member sdi partners ltd partnership sold sorg common shares between june and at to dlrs each reuter \n",
            "\n",
            "\n"
          ]
        },
        {
          "output_type": "stream",
          "name": "stderr",
          "text": [
            "[Succeeded / Failed / Skipped / Total] 63 / 25 / 5 / 93:  46%|████▋     | 93/200 [01:11<01:22,  1.29it/s]"
          ]
        },
        {
          "output_type": "stream",
          "name": "stdout",
          "text": [
            "--------------------------------------------- Result 93 ---------------------------------------------\n",
            "[[0 (100%)]] --> [[[FAILED]]]\n",
            "\n",
            "investment firm has pct of blasius blas o fidelity international ltd a bermuda based investment advisory firm and an affiliated investment firm american values iii n v said they have acquired share of blasius industries inc in a filing with the securities and exchange commission the group said it bought the stake which amounts to pct of the total outstanding common stock to acquire an equity interest in the company for investment purposes the group said it may raise its stake or sell some or all of it and has no plans to seek control of the company reuter \n",
            "\n",
            "\n"
          ]
        },
        {
          "output_type": "stream",
          "name": "stderr",
          "text": [
            "\r[Succeeded / Failed / Skipped / Total] 64 / 25 / 5 / 94:  47%|████▋     | 94/200 [01:12<01:21,  1.30it/s]"
          ]
        },
        {
          "output_type": "stream",
          "name": "stdout",
          "text": [
            "--------------------------------------------- Result 94 ---------------------------------------------\n",
            "[[0 (100%)]] --> [[6 (51%)]]\n",
            "\n",
            "kraft kra [[completes]] frostex [[acquisition]] kraft [[inc]] said it completed the [[acquisition]] of frostex foods [[inc]] for undisclosed terms kraft said last month it had signed a letter of intent to [[acquire]] the austin texas [[based]] [[foodservice]] [[distributor]] reuter \n",
            "\n",
            "kraft kra [[combpletes]] frostex [[acqKuisition]] kraft [[iJc]] said it completed the [[acquiistion]] of frostex foods [[in]] for undisclosed terms kraft said last month it had signed a letter of intent to [[acqire]] the austin texas [[absed]] [[foodserviMce]] [[distirbutor]] reuter \n",
            "\n",
            "\n"
          ]
        },
        {
          "output_type": "stream",
          "name": "stderr",
          "text": [
            "[Succeeded / Failed / Skipped / Total] 65 / 25 / 5 / 95:  48%|████▊     | 95/200 [01:12<01:20,  1.31it/s]"
          ]
        },
        {
          "output_type": "stream",
          "name": "stdout",
          "text": [
            "--------------------------------------------- Result 95 ---------------------------------------------\n",
            "[[0 (100%)]] --> [[6 (38%)]]\n",
            "\n",
            "[[bsn]] bsn [[buys]] [[stake]] in macgregor mgs [[bsn]] [[corp]] said it holds less than five pct of macgregor sporting goods the [[company]] said the [[stock]] was [[acquired]] through recent open market [[purchases]] and the [[stake]] does not require [[specific]] [[disclosure]] reuter \n",
            "\n",
            "[[Obsn]] bsn [[bus]] [[Ztake]] in macgregor mgs [[bn]] [[ccorp]] said it holds less than five pct of macgregor sporting goods the [[coBmpany]] said the [[Dtock]] was [[acqfired]] through recent open market [[kurchases]] and the [[stak]] does not require [[specgific]] [[disclWosure]] reuter \n",
            "\n",
            "\n"
          ]
        },
        {
          "output_type": "stream",
          "name": "stderr",
          "text": [
            "\r[Succeeded / Failed / Skipped / Total] 65 / 26 / 5 / 96:  48%|████▊     | 96/200 [01:12<01:18,  1.32it/s]"
          ]
        },
        {
          "output_type": "stream",
          "name": "stdout",
          "text": [
            "--------------------------------------------- Result 96 ---------------------------------------------\n",
            "[[2 (100%)]] --> [[[FAILED]]]\n",
            "\n",
            "parker drilling co pkd nd qtr feb loss shr loss cts vs loss cts net loss vs loss revs mln vs mln six mths shr loss dlrs vs loss dlrs net loss vs loss revs mln vs mln reuter \n",
            "\n",
            "\n"
          ]
        },
        {
          "output_type": "stream",
          "name": "stderr",
          "text": [
            "[Succeeded / Failed / Skipped / Total] 66 / 26 / 5 / 97:  48%|████▊     | 97/200 [01:13<01:17,  1.33it/s]"
          ]
        },
        {
          "output_type": "stream",
          "name": "stdout",
          "text": [
            "--------------------------------------------- Result 97 ---------------------------------------------\n",
            "[[2 (100%)]] --> [[5 (47%)]]\n",
            "\n",
            "rapitech [[systems]] [[inc]] rpsy o [[rd]] [[qtr]] [[loss]] april end [[shr]] [[losses]] not given [[net]] [[loss]] vs [[loss]] revs vs [[nine]] mths shr [[losses]] not given [[net]] [[loss]] [[vs]] [[loss]] revs [[vs]] [[reuter]] \n",
            "\n",
            "rapitech [[sysLtems]] [[Hnc]] rpsy o [[dr]] [[qrt]] [[lLoss]] april end [[hr]] [[loses]] not given [[Met]] [[lPss]] vs [[lRoss]] revs vs [[inne]] mths shr [[lolsses]] not given [[Met]] [[lCss]] [[ls]] [[losHs]] revs [[Kvs]] [[euter]] \n",
            "\n",
            "\n"
          ]
        },
        {
          "output_type": "stream",
          "name": "stderr",
          "text": [
            "\r[Succeeded / Failed / Skipped / Total] 67 / 26 / 5 / 98:  49%|████▉     | 98/200 [01:14<01:17,  1.32it/s]"
          ]
        },
        {
          "output_type": "stream",
          "name": "stdout",
          "text": [
            "--------------------------------------------- Result 98 ---------------------------------------------\n",
            "[[4 (76%)]] --> [[5 (45%)]]\n",
            "\n",
            "[[zambia]] s [[kwacha]] falls at weekly [[auction]] the zambian [[kwacha]] fell at this [[week]] s [[foreign]] [[exchange]] auction to kwacha to the dollar from last week s the bank of zambia said the rate was the lowest since the auctions resumed two weeks ago under a new two tier exchange rate system worked out with the world bank and international monetary fund the bank of zambia said it received bids ranging from to kwacha for the six mln dlrs on offer one hundred and thirty five bids were successful a british high commission spokesman said britain would put eight mln stg into the auction at a rate of one mln a week as soon as zambia reached a full agreement with the imf the money could be spent only on goods produced and supplied by british firms excluding luxuries and defence equipment the spokesman added reuter \n",
            "\n",
            "[[zabia]] s [[kwachTa]] falls at weekly [[aBction]] the zambian [[kawcha]] fell at this [[weRk]] s [[foregin]] [[excange]] auction to kwacha to the dollar from last week s the bank of zambia said the rate was the lowest since the auctions resumed two weeks ago under a new two tier exchange rate system worked out with the world bank and international monetary fund the bank of zambia said it received bids ranging from to kwacha for the six mln dlrs on offer one hundred and thirty five bids were successful a british high commission spokesman said britain would put eight mln stg into the auction at a rate of one mln a week as soon as zambia reached a full agreement with the imf the money could be spent only on goods produced and supplied by british firms excluding luxuries and defence equipment the spokesman added reuter \n",
            "\n",
            "\n"
          ]
        },
        {
          "output_type": "stream",
          "name": "stderr",
          "text": [
            "[Succeeded / Failed / Skipped / Total] 67 / 27 / 5 / 99:  50%|████▉     | 99/200 [01:24<01:25,  1.18it/s]"
          ]
        },
        {
          "output_type": "stream",
          "name": "stdout",
          "text": [
            "--------------------------------------------- Result 99 ---------------------------------------------\n",
            "[[2 (100%)]] --> [[[FAILED]]]\n",
            "\n",
            "security pacific spc loans put on non accrual security pacific corp said it is placing medium and long term loans to brazil and ecuador on a non accrual basis as of march a move that will reduce first quarter earnings by mln dlrs or nine cts per share after taxes despite the anticipated reduction to quarterly earnings security pacific said it still expects to report first quarter earnings higher than the mln dlrs or dlrs per share reported for the first quarter of the bank holding company said the action affects mln dlrs of loans to brazil and mln of loans to ecuador brazil suspended interest payments on its billion dlrs of medium and long term debt on february ecuador which has foreign debt of roughly eight billion dlrs has not paid any interest to foreign banks since february in march ecuador said it would suspend interest payments for the rest of the year because of an earthquake which halted the export of oil which accounts for about pct the country s export revenues in its announcement security pacific said it will record interest income only as it is received in cash the company also said it believes that brazil will reach an agreement with its banks and that interest payments will resume later in the brazilian negotiations resume on friday in new york when central bank governor francisco gros is expected to ask banks for a day roll over of some billion dlrs of term debt that matures on april reuter \n",
            "\n",
            "\n"
          ]
        },
        {
          "output_type": "stream",
          "name": "stderr",
          "text": [
            "[Succeeded / Failed / Skipped / Total] 67 / 28 / 5 / 100:  50%|█████     | 100/200 [01:24<01:24,  1.18it/s]"
          ]
        },
        {
          "output_type": "stream",
          "name": "stdout",
          "text": [
            "--------------------------------------------- Result 100 ---------------------------------------------\n",
            "[[0 (100%)]] --> [[[FAILED]]]\n",
            "\n",
            "barco brc board approves leveraged buyout bacro of california said its board approved an offer from its chairman kenneth donner and president michael donner to purchase all the outstanding barco common shares at dlrs per share in a leveraged transaction the donners currently own about pct of the company s outstanding shares barco said it also said vice chairman david grutman and family members who own about pct of barco s shares have agreed to sell their stock for the offering price reuter \n",
            "\n",
            "\n"
          ]
        },
        {
          "output_type": "stream",
          "name": "stderr",
          "text": [
            "[Succeeded / Failed / Skipped / Total] 67 / 29 / 5 / 101:  50%|█████     | 101/200 [01:26<01:24,  1.17it/s]"
          ]
        },
        {
          "output_type": "stream",
          "name": "stdout",
          "text": [
            "--------------------------------------------- Result 101 ---------------------------------------------\n",
            "[[0 (100%)]] --> [[[FAILED]]]\n",
            "\n",
            "investment firms have pct of midway mdwy o two affiliated investment firms told the securities and exchange commission they have acquired shares of midway airlines inc or pct of the total outstanding common stock the firms boston based fmr corp and fidelity international ltd a bermuda based investment advisory firm said they bought the stake to acquire an equity interest in the company in pursuit of specified investment objectives the firms said they may increase or decrease their stake in the company but have no plans to seek control of the company or representation on its board reuter \n",
            "\n",
            "\n"
          ]
        },
        {
          "output_type": "stream",
          "name": "stderr",
          "text": [
            "[Succeeded / Failed / Skipped / Total] 68 / 29 / 5 / 102:  51%|█████     | 102/200 [01:26<01:22,  1.18it/s]"
          ]
        },
        {
          "output_type": "stream",
          "name": "stdout",
          "text": [
            "--------------------------------------------- Result 102 ---------------------------------------------\n",
            "[[2 (100%)]] --> [[5 (50%)]]\n",
            "\n",
            "cxr telcom [[corp]] cxrl [[rd]] [[qtr]] [[march]] [[net]] [[shr]] nil vs nil [[net]] vs revs [[vs]] [[nine]] mths [[shr]] one [[ct]] [[vs]] nil [[net]] [[vs]] revs [[vs]] [[reuter]] \n",
            "\n",
            "cxr telcom [[coMp]] cxrl [[rI]] [[Bqtr]] [[amrch]] [[Vet]] [[Thr]] nil vs nil [[det]] vs revs [[s]] [[Dine]] mths [[Kshr]] one [[Uct]] [[sv]] nil [[Znet]] [[s]] revs [[Gvs]] [[oreuter]] \n",
            "\n",
            "\n"
          ]
        },
        {
          "output_type": "stream",
          "name": "stderr",
          "text": [
            "[Succeeded / Failed / Skipped / Total] 69 / 29 / 5 / 103:  52%|█████▏    | 103/200 [01:26<01:21,  1.19it/s]"
          ]
        },
        {
          "output_type": "stream",
          "name": "stdout",
          "text": [
            "--------------------------------------------- Result 103 ---------------------------------------------\n",
            "[[2 (100%)]] --> [[5 (48%)]]\n",
            "\n",
            "[[electro]] [[rent]] [[corp]] elrc [[rd]] [[qtr]] feb [[net]] [[shr]] [[cts]] vs [[cts]] [[net]] vs revs [[mln]] vs [[mln]] [[nine]] mths [[shr]] [[cts]] vs [[dlrs]] [[net]] [[vs]] revs [[mln]] [[vs]] [[mln]] [[reuter]] \n",
            "\n",
            "[[elcctro]] [[ernt]] [[crop]] elrc [[rT]] [[Wqtr]] feb [[Oet]] [[sh]] [[cpts]] vs [[cst]] [[new]] vs revs [[ln]] vs [[Bmln]] [[nie]] mths [[hr]] [[cLs]] vs [[dlrrs]] [[nUet]] [[Hvs]] revs [[mnl]] [[sv]] [[Tln]] [[Veuter]] \n",
            "\n",
            "\n"
          ]
        },
        {
          "output_type": "stream",
          "name": "stderr",
          "text": [
            "[Succeeded / Failed / Skipped / Total] 70 / 29 / 5 / 104:  52%|█████▏    | 104/200 [01:26<01:20,  1.20it/s]"
          ]
        },
        {
          "output_type": "stream",
          "name": "stdout",
          "text": [
            "--------------------------------------------- Result 104 ---------------------------------------------\n",
            "[[2 (100%)]] --> [[5 (75%)]]\n",
            "\n",
            "penwest [[inc]] penw o [[rd]] [[qtr]] [[may]] [[net]] shr [[dlrs]] vs [[cts]] [[net]] vs [[sales]] mln vs mln avg shrs vs nine mths [[shr]] [[dlrs]] vs [[cts]] [[net]] vs [[sales]] [[mln]] [[vs]] [[mln]] avg shrs [[vs]] [[reuter]] \n",
            "\n",
            "penwest [[Mnc]] penw o [[red]] [[qKtr]] [[my]] [[ne]] shr [[dblrs]] vs [[ctM]] [[Inet]] vs [[asles]] mln vs mln avg shrs vs nine mths [[bshr]] [[dlrT]] vs [[cfs]] [[Pnet]] vs [[salWs]] [[Vln]] [[ss]] [[lmn]] avg shrs [[sv]] [[reNuter]] \n",
            "\n",
            "\n"
          ]
        },
        {
          "output_type": "stream",
          "name": "stderr",
          "text": [
            "[Succeeded / Failed / Skipped / Total] 70 / 30 / 6 / 106:  53%|█████▎    | 106/200 [01:27<01:17,  1.21it/s]"
          ]
        },
        {
          "output_type": "stream",
          "name": "stdout",
          "text": [
            "--------------------------------------------- Result 105 ---------------------------------------------\n",
            "[[2 (100%)]] --> [[[FAILED]]]\n",
            "\n",
            "vornado inc vno th qtr jan net oper shr dlrs vs cts oper net vs revs mln vs mln avg shrs vs year oper shr dlrs vs dlrs oper net mln vs mln revs mln vs mln avg shrs vs note operating net excludes gains of nothing vs dlrs or cts a share in quarter and dlrs or cts a share vs dlrs or dlrs a share in year from tax loss carryforwards reuter \n",
            "\n",
            "\n",
            "--------------------------------------------- Result 106 ---------------------------------------------\n",
            "[[7 (85%)]] --> [[[SKIPPED]]]\n",
            "\n",
            "u s commerce dept opposes foreign takeover ban commerce undersecretary j michael farren opposed language in the trade bill before congress to limit foreign takeovers of u s companies anything that would serve to have a chilling effect on foreign investment is going to cost us jobs and economic growth farren said before a congressional coittee house and senate negotiators are ironing out differences in trade bills passed by both chambers once the negotiators reach agreement the bill will be sent to president reagan for his signature reuter \n",
            "\n",
            "\n"
          ]
        },
        {
          "output_type": "stream",
          "name": "stderr",
          "text": [
            "[Succeeded / Failed / Skipped / Total] 72 / 30 / 6 / 108:  54%|█████▍    | 108/200 [01:28<01:15,  1.23it/s]"
          ]
        },
        {
          "output_type": "stream",
          "name": "stdout",
          "text": [
            "--------------------------------------------- Result 107 ---------------------------------------------\n",
            "[[2 (100%)]] --> [[5 (60%)]]\n",
            "\n",
            "baybanks [[inc]] bbnk [[st]] [[qtr]] [[net]] oper shr [[dlrs]] vs [[cts]] oper shr [[diluted]] [[dlrs]] vs [[cts]] oper [[net]] mln vs mln avg shrs [[mln]] vs [[mln]] avg shrs [[mln]] vs [[mln]] note [[net]] excludes [[gain]] [[dlrs]] from cumulative effect of change in calculating [[depreciation]] [[expense]] [[reuter]] \n",
            "\n",
            "baybanks [[enc]] bbnk [[nt]] [[Ytr]] [[het]] oper shr [[dilrs]] vs [[Ncts]] oper shr [[dilted]] [[dlKrs]] vs [[bts]] oper [[ent]] mln vs mln avg shrs [[lmn]] vs [[Bmln]] avg shrs [[Zmln]] vs [[mlP]] note [[Yet]] excludes [[agin]] [[dDlrs]] from cumulative effect of change in calculating [[depreciBation]] [[eapense]] [[reNter]] \n",
            "\n",
            "\n",
            "--------------------------------------------- Result 108 ---------------------------------------------\n",
            "[[0 (100%)]] --> [[2 (25%)]]\n",
            "\n",
            "[[entertainment]] [[marketing]] [[seeks]] to [[buy]] crazy eddie for eight [[dlrs]] a [[share]] \n",
            "\n",
            "[[entergtainment]] [[maeketing]] [[sees]] to [[by]] crazy eddie for eight [[dWlrs]] a [[shaare]] \n",
            "\n",
            "\n"
          ]
        },
        {
          "output_type": "stream",
          "name": "stderr",
          "text": [
            "[Succeeded / Failed / Skipped / Total] 73 / 31 / 6 / 110:  55%|█████▌    | 110/200 [01:36<01:19,  1.14it/s]"
          ]
        },
        {
          "output_type": "stream",
          "name": "stdout",
          "text": [
            "--------------------------------------------- Result 109 ---------------------------------------------\n",
            "[[0 (100%)]] --> [[[FAILED]]]\n",
            "\n",
            "idc services idcs o holders offered dlrs idc services inc said a new company will begin a cash tender offer by october to acquire all of idc s outstanding common for dlrs a share the company said the offer is being made under a definitive agreement reached with the new company idc acquisition corp formed by apollo partners ltd and investment clients of equitable capital management inc the agreement calls for the acquisition of idc for about mln dlrs idc acquisition will also tender for all of idc s outstanding nine pct convertible subordinated debentures idc said the merger agreement also provides for payment of an equivalent amount in respect of employee stock options to be cancelled in the merger as part of the transaction the company said it granted idc acquisition an option to acquire up to pct of the company s outstanding shares for dlrs per share it said the planned tender offer is subject to several conditions including the tendering of over pct of the company s outstanding stock mim holdings ltd mima s a substantial shareholder in idc has agreed it will not buy any additional idc shares until february seven and has granted idc acquisition a right of first refusal on any idc shares it sells during that period the company said it said apollo partners was recently organized by three former senior viacom inc via executives terrence a elkes george c catell and kenneth f gorman reuter \n",
            "\n",
            "\n",
            "--------------------------------------------- Result 110 ---------------------------------------------\n",
            "[[2 (100%)]] --> [[0 (66%)]]\n",
            "\n",
            "bank of new england corp bkne o st [[qtr]] [[shr]] dlrs [[vs]] cts [[net]] mln [[vs]] mln [[reuter]] \n",
            "\n",
            "bank of new england corp bkne o st [[qGr]] [[hr]] dlrs [[s]] cts [[het]] mln [[sv]] mln [[retuer]] \n",
            "\n",
            "\n"
          ]
        },
        {
          "output_type": "stream",
          "name": "stderr",
          "text": [
            "[Succeeded / Failed / Skipped / Total] 74 / 31 / 7 / 112:  56%|█████▌    | 112/200 [01:36<01:16,  1.16it/s]"
          ]
        },
        {
          "output_type": "stream",
          "name": "stdout",
          "text": [
            "--------------------------------------------- Result 111 ---------------------------------------------\n",
            "[[0 (100%)]] --> [[6 (60%)]]\n",
            "\n",
            "electrohome el x to to [[sell]] [[unit]] electrohome [[ltd]] said it agreed to [[sell]] certain [[assets]] of the computer service sector of its aabex service division to canadian general electric [[co]] [[ltd]] cge to terms were not [[disclosed]] the [[closing]] date is expected to be may reuter \n",
            "\n",
            "electrohome el x to to [[seRll]] [[nuit]] electrohome [[lt]] said it agreed to [[seRl]] certain [[aNsets]] of the computer service sector of its aabex service division to canadian general electric [[o]] [[Bltd]] cge to terms were not [[dUsclosed]] the [[cloPing]] date is expected to be may reuter \n",
            "\n",
            "\n",
            "--------------------------------------------- Result 112 ---------------------------------------------\n",
            "[[7 (47%)]] --> [[[SKIPPED]]]\n",
            "\n",
            "reagan urges fulfillment of exchange accords president reagan preparing to depart for the venice economic summit on wednesday said the united states and its allies must fulfill agreements on exchange rate stability economic policy decisions made last year in tokyo and at this year s meetings of group of finance ministers in paris and in washington cannot be ignored or forgotten he said the commitments made at these meetings need to be translated into action reagan said in a pre summit speech celebrating the th anniversary of the marshall plan reuter \n",
            "\n",
            "\n"
          ]
        },
        {
          "output_type": "stream",
          "name": "stderr",
          "text": [
            "[Succeeded / Failed / Skipped / Total] 75 / 31 / 7 / 113:  56%|█████▋    | 113/200 [01:37<01:15,  1.15it/s]"
          ]
        },
        {
          "output_type": "stream",
          "name": "stdout",
          "text": [
            "--------------------------------------------- Result 113 ---------------------------------------------\n",
            "[[0 (100%)]] --> [[6 (34%)]]\n",
            "\n",
            "lvi [[group]] lvi to [[make]] [[acquisition]] lvi [[group]] [[inc]] [[said]] it has [[agreed]] in principle to [[purchase]] all [[outstanding]] [[shares]] of spectrum [[holding]] [[corp]] for a [[proposed]] mln dlrs in cash lvi [[said]] an additional mln dlrs in common stock and seven mln dlrs in notes will [[become]] payable if spectrum has [[certain]] minimum future earnings lvi an interior construction [[firm]] said the [[acquisition]] is [[subject]] to execution of a [[definitive]] [[agreement]] and completion of due [[diligence]] lvi and spectrum an asbestos abatement [[concern]] expect to [[close]] the [[deal]] in june lvi [[said]] reuter \n",
            "\n",
            "lvi [[Tgroup]] lvi to [[ake]] [[acquisiiton]] lvi [[agroup]] [[iDnc]] [[Qsaid]] it has [[agAreed]] in principle to [[pMurchase]] all [[ohtstanding]] [[Yhares]] of spectrum [[hoding]] [[cor]] for a [[proopsed]] mln dlrs in cash lvi [[aid]] an additional mln dlrs in common stock and seven mln dlrs in notes will [[bKcome]] payable if spectrum has [[certCin]] minimum future earnings lvi an interior construction [[fHirm]] said the [[acquiHsition]] is [[subect]] to execution of a [[definitie]] [[agreeemnt]] and completion of due [[Liligence]] lvi and spectrum an asbestos abatement [[concenr]] expect to [[Yclose]] the [[del]] in june lvi [[sHid]] reuter \n",
            "\n",
            "\n"
          ]
        },
        {
          "output_type": "stream",
          "name": "stderr",
          "text": [
            "\r[Succeeded / Failed / Skipped / Total] 75 / 32 / 7 / 114:  57%|█████▋    | 114/200 [01:38<01:14,  1.16it/s]"
          ]
        },
        {
          "output_type": "stream",
          "name": "stdout",
          "text": [
            "--------------------------------------------- Result 114 ---------------------------------------------\n",
            "[[2 (100%)]] --> [[[FAILED]]]\n",
            "\n",
            "voplex corp vot rd qtr loss shr loss cts vs loss cts net loss vs loss revs mln vs mln nine mths shr profit six cts vs loss cts net profit vs loss revs mln vs mln reuter \n",
            "\n",
            "\n"
          ]
        },
        {
          "output_type": "stream",
          "name": "stderr",
          "text": [
            "[Succeeded / Failed / Skipped / Total] 76 / 32 / 7 / 115:  57%|█████▊    | 115/200 [01:38<01:13,  1.16it/s]"
          ]
        },
        {
          "output_type": "stream",
          "name": "stdout",
          "text": [
            "--------------------------------------------- Result 115 ---------------------------------------------\n",
            "[[2 (100%)]] --> [[5 (54%)]]\n",
            "\n",
            "[[international]] [[business]] [[machines]] [[corp]] [[ibm]] [[net]] st [[qtr]] [[shr]] dlrs vs dlrs [[net]] mln vs billion gross income billion vs billion avg shrs mln vs mln note [[pretax]] [[net]] billion vs billion sales billion vs billion maintenance gross income billion vs billion program products gross [[income]] billion [[vs]] [[billion]] and rentals and other [[services]] [[mln]] [[vs]] [[billion]] [[reuter]] \n",
            "\n",
            "[[interSational]] [[buisness]] [[Dachines]] [[ceorp]] [[abm]] [[Tnet]] st [[oqtr]] [[sh]] dlrs vs dlrs [[ne]] mln vs billion gross income billion vs billion avg shrs mln vs mln note [[preFax]] [[ent]] billion vs billion sales billion vs billion maintenance gross income billion vs billion program products gross [[Encome]] billion [[s]] [[bililon]] and rentals and other [[Wservices]] [[lmln]] [[Gvs]] [[Xillion]] [[ereuter]] \n",
            "\n",
            "\n"
          ]
        },
        {
          "output_type": "stream",
          "name": "stderr",
          "text": [
            "\r[Succeeded / Failed / Skipped / Total] 76 / 33 / 7 / 116:  58%|█████▊    | 116/200 [01:40<01:12,  1.16it/s]"
          ]
        },
        {
          "output_type": "stream",
          "name": "stdout",
          "text": [
            "--------------------------------------------- Result 116 ---------------------------------------------\n",
            "[[0 (100%)]] --> [[[FAILED]]]\n",
            "\n",
            "general electric ge to buy kraft kra unit general electric co s ge credit corp said it agreed to buy all of the capital stock of kraft inc s wholly owned subsidiary d and k financial corp terms of the acquisition were not disclosed d and k with assets of more than one billion dlrs is one of the leading u s companies involved in the leasing of fleets of cars according to ge credit jim ahtes a spokesman for ge credit s outside public relations firm manning selvage and lee inc emphasized that the terms of the acquisition had not yet been approved reuter \n",
            "\n",
            "\n"
          ]
        },
        {
          "output_type": "stream",
          "name": "stderr",
          "text": [
            "[Succeeded / Failed / Skipped / Total] 76 / 34 / 7 / 117:  58%|█████▊    | 117/200 [01:40<01:11,  1.16it/s]"
          ]
        },
        {
          "output_type": "stream",
          "name": "stdout",
          "text": [
            "--------------------------------------------- Result 117 ---------------------------------------------\n",
            "[[0 (100%)]] --> [[[FAILED]]]\n",
            "\n",
            "service corp srv dumps capital southwest stake service corp international said its investment capital corp unit sold its entire pct stake in capital southwest corp cswc o common stock and no longer holds any capital southwest shares in a filing with the securities and exchange commission investment capital said it sold shares of capital southwest common stock since september at dlrs to dlrs a share no reason was given for the recent sales reuter \n",
            "\n",
            "\n"
          ]
        },
        {
          "output_type": "stream",
          "name": "stderr",
          "text": [
            "\r[Succeeded / Failed / Skipped / Total] 77 / 34 / 7 / 118:  59%|█████▉    | 118/200 [01:41<01:10,  1.16it/s]"
          ]
        },
        {
          "output_type": "stream",
          "name": "stdout",
          "text": [
            "--------------------------------------------- Result 118 ---------------------------------------------\n",
            "[[2 (100%)]] --> [[0 (76%)]]\n",
            "\n",
            "the banking center tbcx o [[rd]] [[qtr]] [[net]] shr cts [[net]] [[vs]] nine months [[shr]] cts [[net]] mln [[vs]] assets billion [[vs]] billion deposits mln [[vs]] mln [[note]] company converted to a stock [[savings]] [[bank]] on [[aug]] [[results]] include operations of realtech realtors which was acquired in [[results]] include operations of burgdorff realtors acquired in [[december]] cornerstone [[mortgage]] co acquired in [[july]] centerbank [[mortgage]] co acquired in [[july]] and center capital corp formed in august [[reuter]] \n",
            "\n",
            "the banking center tbcx o [[dr]] [[qr]] [[ent]] shr cts [[Dnet]] [[sv]] nine months [[sehr]] cts [[ent]] mln [[is]] assets billion [[Ps]] billion deposits mln [[sv]] mln [[nCote]] company converted to a stock [[avings]] [[bakn]] on [[Xaug]] [[reslts]] include operations of realtech realtors which was acquired in [[resultts]] include operations of burgdorff realtors acquired in [[deUcember]] cornerstone [[mortagge]] co acquired in [[jZly]] centerbank [[Dmortgage]] co acquired in [[Ljuly]] and center capital corp formed in august [[reter]] \n",
            "\n",
            "\n"
          ]
        },
        {
          "output_type": "stream",
          "name": "stderr",
          "text": [
            "[Succeeded / Failed / Skipped / Total] 79 / 34 / 7 / 120:  60%|██████    | 120/200 [01:42<01:08,  1.17it/s]"
          ]
        },
        {
          "output_type": "stream",
          "name": "stdout",
          "text": [
            "--------------------------------------------- Result 119 ---------------------------------------------\n",
            "[[2 (100%)]] --> [[5 (75%)]]\n",
            "\n",
            "[[public]] [[service]] [[enterprise]] peg [[rd]] [[qtr]] [[net]] shr [[cts]] vs [[cts]] [[net]] mln vs mln revs one billion vs billion avg shrs vs nine months shr dlrs vs dlrs [[net]] mln vs mln revs billion vs billion avg shrs vs months shr dlrs vs dlrs [[net]] mln vs mln revs [[billion]] vs [[billion]] avg shrs vs note full [[name]] public [[service]] [[enterprise]] [[group]] [[inc]] all [[results]] reflect [[three]] for [[two]] [[stock]] [[split]] effective [[july]] [[reuter]] \n",
            "\n",
            "[[pblic]] [[serRvice]] [[enNterprise]] peg [[rQ]] [[qjr]] [[Bet]] shr [[Ects]] vs [[cs]] [[ent]] mln vs mln revs one billion vs billion avg shrs vs nine months shr dlrs vs dlrs [[nLt]] mln vs mln revs billion vs billion avg shrs vs months shr dlrs vs dlrs [[het]] mln vs mln revs [[bilion]] vs [[Cbillion]] avg shrs vs note full [[Yname]] public [[sQervice]] [[enerprise]] [[Sgroup]] [[iQc]] all [[Iesults]] reflect [[hree]] for [[tIwo]] [[stPock]] [[plit]] effective [[jely]] [[eruter]] \n",
            "\n",
            "\n",
            "--------------------------------------------- Result 120 ---------------------------------------------\n",
            "[[2 (100%)]] --> [[0 (21%)]]\n",
            "\n",
            "walgreen [[co]] wag votes [[quarterly]] [[dividend]] [[qtly]] [[div]] [[cts]] [[vs]] [[cts]] prior [[qtr]] [[pay]] [[june]] [[record]] [[may]] [[reuter]] \n",
            "\n",
            "walgreen [[cr]] wag votes [[quarteVrly]] [[divBdend]] [[ntly]] [[dYiv]] [[Ccts]] [[s]] [[ctFs]] prior [[qEtr]] [[pRay]] [[jnue]] [[rceord]] [[ay]] [[reuetr]] \n",
            "\n",
            "\n"
          ]
        },
        {
          "output_type": "stream",
          "name": "stderr",
          "text": [
            "[Succeeded / Failed / Skipped / Total] 80 / 34 / 7 / 121:  60%|██████    | 121/200 [01:43<01:07,  1.16it/s]"
          ]
        },
        {
          "output_type": "stream",
          "name": "stdout",
          "text": [
            "--------------------------------------------- Result 121 ---------------------------------------------\n",
            "[[5 (64%)]] --> [[4 (41%)]]\n",
            "\n",
            "aquino says manila watching interest [[rates]] closely president corazon aquino said the philippines was closely monitoring interest rates in the wake of monday s record drop on wall street and steep declines in manila and other asian stock markets we will monitor these developments closely and will continue to hope that they do not precipitate large declines in economic activity around the world aquino told a meeting of major philippine business groups the philippines as a trading country in the world economy depends on the continued health and growth of both the world economy and the world trading system she said the manila stock exchange composite index plunged points or pct by the midday close to depressed by the record point fall of the dow jones industrial average on monday the philippines in addition as a large borrower nation is affected by developments in interest rate levels around the world and will carefully monitor the impact of these developments on interest rates on gold and on commodity prices aquino said we welcome the statements from world leaders that urge calm in the present difficult situation she added reuter \n",
            "\n",
            "aquino says manila watching interest [[artes]] closely president corazon aquino said the philippines was closely monitoring interest rates in the wake of monday s record drop on wall street and steep declines in manila and other asian stock markets we will monitor these developments closely and will continue to hope that they do not precipitate large declines in economic activity around the world aquino told a meeting of major philippine business groups the philippines as a trading country in the world economy depends on the continued health and growth of both the world economy and the world trading system she said the manila stock exchange composite index plunged points or pct by the midday close to depressed by the record point fall of the dow jones industrial average on monday the philippines in addition as a large borrower nation is affected by developments in interest rate levels around the world and will carefully monitor the impact of these developments on interest rates on gold and on commodity prices aquino said we welcome the statements from world leaders that urge calm in the present difficult situation she added reuter \n",
            "\n",
            "\n"
          ]
        },
        {
          "output_type": "stream",
          "name": "stderr",
          "text": [
            "[Succeeded / Failed / Skipped / Total] 82 / 34 / 7 / 123:  62%|██████▏   | 123/200 [01:45<01:05,  1.17it/s]"
          ]
        },
        {
          "output_type": "stream",
          "name": "stdout",
          "text": [
            "--------------------------------------------- Result 122 ---------------------------------------------\n",
            "[[0 (100%)]] --> [[6 (32%)]]\n",
            "\n",
            "trafalgar [[house]] [[buys]] u s builder for [[mln]] [[dlrs]] trafalgar [[house]] [[plc]] traf l said it has [[acquired]] the entire [[share]] [[capital]] of [[capital]] homes [[inc]] of the u s for mln dlrs in cash capital homes builds single family homes in the washington d c area and is also active as a land developer both for its own use and for sale to other builders in the financial year to end february [[capital]] [[recorded]] pre tax profits of mln dlrs on a turnover of mln dlrs from the sale of homes [[capital]] has a land [[bank]] of some [[units]] and in the current year the [[company]] expects to [[sell]] [[homes]] trafalgar [[house]] [[said]] reuter \n",
            "\n",
            "trafalgar [[hcuse]] [[Ebuys]] u s builder for [[mlw]] [[dllrs]] trafalgar [[hoDuse]] [[lpc]] traf l said it has [[Qacquired]] the entire [[hsare]] [[Uapital]] of [[caOital]] homes [[inhc]] of the u s for mln dlrs in cash capital homes builds single family homes in the washington d c area and is also active as a land developer both for its own use and for sale to other builders in the financial year to end february [[capita]] [[ecorded]] pre tax profits of mln dlrs on a turnover of mln dlrs from the sale of homes [[capial]] has a land [[ank]] of some [[Gnits]] and in the current year the [[comIpany]] expects to [[sdell]] [[homqes]] trafalgar [[Kouse]] [[sad]] reuter \n",
            "\n",
            "\n",
            "--------------------------------------------- Result 123 ---------------------------------------------\n",
            "[[0 (95%)]] --> [[6 (40%)]]\n",
            "\n",
            "hong kong s dairy farm says it [[bids]] for [[pct]] of kwik save for [[mln]] stg \n",
            "\n",
            "hong kong s dairy farm says it [[bidI]] for [[pJct]] of kwik save for [[mJn]] stg \n",
            "\n",
            "\n"
          ]
        },
        {
          "output_type": "stream",
          "name": "stderr",
          "text": [
            "\r[Succeeded / Failed / Skipped / Total] 83 / 34 / 7 / 124:  62%|██████▏   | 124/200 [01:45<01:04,  1.18it/s]"
          ]
        },
        {
          "output_type": "stream",
          "name": "stdout",
          "text": [
            "--------------------------------------------- Result 124 ---------------------------------------------\n",
            "[[2 (100%)]] --> [[5 (40%)]]\n",
            "\n",
            "roto rooter [[inc]] roto o [[rd]] [[qtr]] [[net]] [[shr]] [[cts]] vs [[cts]] [[net]] vs revs [[mln]] vs [[mln]] [[nine]] mths [[shr]] [[cts]] vs [[cts]] [[net]] [[vs]] revs [[mln]] [[vs]] [[mln]] [[reuter]] \n",
            "\n",
            "roto rooter [[iSc]] roto o [[rjd]] [[qr]] [[Anet]] [[Nshr]] [[cnts]] vs [[Fts]] [[bnet]] vs revs [[lmn]] vs [[mWln]] [[inne]] mths [[ohr]] [[cets]] vs [[cJts]] [[ner]] [[sv]] revs [[mBn]] [[sv]] [[mjn]] [[rSeuter]] \n",
            "\n",
            "\n"
          ]
        },
        {
          "output_type": "stream",
          "name": "stderr",
          "text": [
            "[Succeeded / Failed / Skipped / Total] 83 / 35 / 7 / 125:  62%|██████▎   | 125/200 [01:45<01:03,  1.18it/s]"
          ]
        },
        {
          "output_type": "stream",
          "name": "stdout",
          "text": [
            "--------------------------------------------- Result 125 ---------------------------------------------\n",
            "[[2 (100%)]] --> [[[FAILED]]]\n",
            "\n",
            "allwaste inc alws o nd qtr feb shr profit four cts vs loss one cts net profit vs loss revs mln vs six months shr profit nine cts vs loss four cts net profit vs loss revs mln vs mln avg shrs mln vs mln reuter \n",
            "\n",
            "\n"
          ]
        },
        {
          "output_type": "stream",
          "name": "stderr",
          "text": [
            "\r[Succeeded / Failed / Skipped / Total] 84 / 35 / 7 / 126:  63%|██████▎   | 126/200 [01:46<01:02,  1.19it/s]"
          ]
        },
        {
          "output_type": "stream",
          "name": "stdout",
          "text": [
            "--------------------------------------------- Result 126 ---------------------------------------------\n",
            "[[2 (100%)]] --> [[5 (55%)]]\n",
            "\n",
            "marsh and mclennan [[cos]] [[inc]] mmc [[rd]] [[qtr]] [[net]] shr dlrs vs [[cts]] [[net]] mln vs mln revs mln vs mln avg shrs mln vs mln nine mths [[shr]] dlrs vs [[dlrs]] [[net]] mln vs [[mln]] revs [[billion]] vs [[billion]] avg shrs [[mln]] [[vs]] [[mln]] [[reuter]] \n",
            "\n",
            "marsh and mclennan [[cows]] [[Bnc]] mmc [[dr]] [[eqtr]] [[ne]] shr dlrs vs [[cJs]] [[Ket]] mln vs mln revs mln vs mln avg shrs mln vs mln nine mths [[hr]] dlrs vs [[Hlrs]] [[ent]] mln vs [[lmn]] revs [[Dbillion]] vs [[billin]] avg shrs [[Eln]] [[Tvs]] [[Gln]] [[euter]] \n",
            "\n",
            "\n"
          ]
        },
        {
          "output_type": "stream",
          "name": "stderr",
          "text": [
            "[Succeeded / Failed / Skipped / Total] 85 / 35 / 7 / 127:  64%|██████▎   | 127/200 [01:46<01:01,  1.19it/s]"
          ]
        },
        {
          "output_type": "stream",
          "name": "stdout",
          "text": [
            "--------------------------------------------- Result 127 ---------------------------------------------\n",
            "[[0 (100%)]] --> [[6 (48%)]]\n",
            "\n",
            "[[investor]] [[group]] dumps silicon slcn o [[stake]] a [[group]] of [[boston]] [[investors]] and [[investment]] partnerships [[told]] the [[securities]] and exchange commission it [[sold]] its entire [[stake]] in silicon systems inc of [[shares]] or pct of the total outstanding the group which includes hlm associates hlm [[associates]] ii and their three general [[partners]] said it [[sold]] the [[stock]] between april and june at to [[dlrs]] a [[share]] as the result of an [[investment]] [[decision]] reuter \n",
            "\n",
            "[[Fnvestor]] [[gIoup]] dumps silicon slcn o [[sGtake]] a [[gboup]] of [[bston]] [[inTestors]] and [[inevstment]] partnerships [[old]] the [[seccrities]] and exchange commission it [[sld]] its entire [[Rstake]] in silicon systems inc of [[hares]] or pct of the total outstanding the group which includes hlm associates hlm [[associEates]] ii and their three general [[parZners]] said it [[Msold]] the [[Bstock]] between april and june at to [[dlrws]] a [[hsare]] as the result of an [[inRvestment]] [[deciIsion]] reuter \n",
            "\n",
            "\n"
          ]
        },
        {
          "output_type": "stream",
          "name": "stderr",
          "text": [
            "[Succeeded / Failed / Skipped / Total] 87 / 35 / 7 / 129:  64%|██████▍   | 129/200 [01:47<00:59,  1.20it/s]"
          ]
        },
        {
          "output_type": "stream",
          "name": "stdout",
          "text": [
            "--------------------------------------------- Result 128 ---------------------------------------------\n",
            "[[0 (100%)]] --> [[6 (55%)]]\n",
            "\n",
            "mcdonnell [[douglas]] [[md]] [[buys]] [[computer]] [[firm]] mcdonnell [[douglas]] [[corp]] said it [[acquired]] frampton computer services [[ltd]] a british [[software]] [[company]] that is also known as isis terms of the [[acquisition]] were not disclosed based in bristol england isis employs workers and has annual revenues of about five [[mln]] [[dlrs]] mcdonnell [[douglas]] said the [[company]] added that isis will operate as [[part]] of mcdonnell [[douglas]] [[information]] [[systems]] [[international]] reuter \n",
            "\n",
            "mcdonnell [[dBuglas]] [[dm]] [[bguys]] [[compeuter]] [[Efirm]] mcdonnell [[douglQs]] [[Ocorp]] said it [[acqukired]] frampton computer services [[lGtd]] a british [[softwar]] [[Pompany]] that is also known as isis terms of the [[acqisition]] were not disclosed based in bristol england isis employs workers and has annual revenues of about five [[lmn]] [[dlds]] mcdonnell [[doglas]] said the [[cmopany]] added that isis will operate as [[pat]] of mcdonnell [[dYouglas]] [[iformation]] [[syastems]] [[intSernational]] reuter \n",
            "\n",
            "\n",
            "--------------------------------------------- Result 129 ---------------------------------------------\n",
            "[[2 (100%)]] --> [[0 (81%)]]\n",
            "\n",
            "c and r clothiers inc jan year [[net]] [[shr]] dlrs [[vs]] [[cts]] [[net]] [[vs]] [[sales]] [[mln]] [[vs]] [[mln]] [[reuter]] \n",
            "\n",
            "c and r clothiers inc jan year [[neb]] [[Zhr]] dlrs [[Ws]] [[cEs]] [[ent]] [[s]] [[jsales]] [[lmn]] [[s]] [[Nln]] [[retuer]] \n",
            "\n",
            "\n"
          ]
        },
        {
          "output_type": "stream",
          "name": "stderr",
          "text": [
            "[Succeeded / Failed / Skipped / Total] 88 / 36 / 7 / 131:  66%|██████▌   | 131/200 [01:48<00:57,  1.21it/s]"
          ]
        },
        {
          "output_type": "stream",
          "name": "stdout",
          "text": [
            "--------------------------------------------- Result 130 ---------------------------------------------\n",
            "[[0 (100%)]] --> [[[FAILED]]]\n",
            "\n",
            "group ups stake in tandy brands tab to pct a group of companies including chicago based coronet insurance co and sunstates corp a jacksonville fla real estate firm said it raised its stake in tandy brands inc to shares or pct of the total in a filing with the securities and exchange commission the group said it bought tandy common shares between may and june for dlrs in addition to the shares or pct it had held previously reuter \n",
            "\n",
            "\n",
            "--------------------------------------------- Result 131 ---------------------------------------------\n",
            "[[2 (100%)]] --> [[5 (54%)]]\n",
            "\n",
            "u s west usw rd [[qtr]] [[net]] shr dlrs vs dlrs [[net]] mln vs mln dlrs revs billion vs billion nine mths [[shr]] dlrs vs dlrs [[net]] mln vs mln revs [[billion]] [[vs]] [[billion]] [[reuter]] \n",
            "\n",
            "u s west usw rd [[htr]] [[nedt]] shr dlrs vs dlrs [[Uet]] mln vs mln dlrs revs billion vs billion nine mths [[Rshr]] dlrs vs dlrs [[ent]] mln vs mln revs [[bilion]] [[sv]] [[Jbillion]] [[euter]] \n",
            "\n",
            "\n"
          ]
        },
        {
          "output_type": "stream",
          "name": "stderr",
          "text": [
            "[Succeeded / Failed / Skipped / Total] 90 / 36 / 7 / 133:  66%|██████▋   | 133/200 [01:48<00:54,  1.22it/s]"
          ]
        },
        {
          "output_type": "stream",
          "name": "stdout",
          "text": [
            "--------------------------------------------- Result 132 ---------------------------------------------\n",
            "[[5 (96%)]] --> [[4 (46%)]]\n",
            "\n",
            "french week t bill average [[rate]] [[rises]] to [[pct]] from pct official \n",
            "\n",
            "french week t bill average [[Sate]] [[Iises]] to [[pcD]] from pct official \n",
            "\n",
            "\n",
            "--------------------------------------------- Result 133 ---------------------------------------------\n",
            "[[2 (100%)]] --> [[5 (23%)]]\n",
            "\n",
            "nodaway [[valley]] [[co]] nvco o [[st]] [[qtr]] [[net]] [[qtr]] ended april [[shr]] seven [[cts]] [[vs]] [[cts]] [[net]] [[vs]] revs [[vs]] [[reuter]] \n",
            "\n",
            "nodaway [[Calley]] [[o]] nvco o [[sst]] [[pqtr]] [[ent]] [[qAtr]] ended april [[hr]] seven [[cXts]] [[Tvs]] [[cQs]] [[ent]] [[Cs]] revs [[Ws]] [[beuter]] \n",
            "\n",
            "\n"
          ]
        },
        {
          "output_type": "stream",
          "name": "stderr",
          "text": [
            "\r[Succeeded / Failed / Skipped / Total] 91 / 36 / 7 / 134:  67%|██████▋   | 134/200 [01:49<00:53,  1.23it/s]"
          ]
        },
        {
          "output_type": "stream",
          "name": "stdout",
          "text": [
            "--------------------------------------------- Result 134 ---------------------------------------------\n",
            "[[2 (100%)]] --> [[5 (30%)]]\n",
            "\n",
            "westport [[bancorp]] webat o [[rd]] [[qtr]] [[net]] [[shr]] [[cts]] vs [[cts]] [[net]] vs nine mths [[shr]] [[cts]] vs [[dlrs]] [[net]] [[vs]] note [[company]] [[would]] not provide [[assets]] deposits and [[loans]] figures [[reuter]] \n",
            "\n",
            "westport [[Qancorp]] webat o [[ed]] [[qrt]] [[fnet]] [[sh]] [[Fcts]] vs [[cEts]] [[ne]] vs nine mths [[sRr]] [[cHts]] vs [[ddrs]] [[ent]] [[gvs]] note [[comLpany]] [[Sould]] not provide [[Qassets]] deposits and [[lRans]] figures [[eruter]] \n",
            "\n",
            "\n"
          ]
        },
        {
          "output_type": "stream",
          "name": "stderr",
          "text": [
            "[Succeeded / Failed / Skipped / Total] 92 / 36 / 7 / 135:  68%|██████▊   | 135/200 [01:49<00:52,  1.23it/s]"
          ]
        },
        {
          "output_type": "stream",
          "name": "stdout",
          "text": [
            "--------------------------------------------- Result 135 ---------------------------------------------\n",
            "[[0 (100%)]] --> [[6 (42%)]]\n",
            "\n",
            "[[court]] declines to [[block]] [[viacom]] via [[merger]] [[viacom]] international inc said the u s district court for the southern district of new york denied the motion of carsey werner co for a temporary injunction to block the proposed [[merger]] of [[viacom]] with a subsidiary of national [[amusements]] [[inc]] carsey werner is the producer of the cosby [[show]] reuter \n",
            "\n",
            "[[corut]] declines to [[blZock]] [[vaicom]] via [[meger]] [[ivacom]] international inc said the u s district court for the southern district of new york denied the motion of carsey werner co for a temporary injunction to block the proposed [[erger]] of [[Xviacom]] with a subsidiary of national [[amusementJs]] [[Minc]] carsey werner is the producer of the cosby [[hsow]] reuter \n",
            "\n",
            "\n"
          ]
        },
        {
          "output_type": "stream",
          "name": "stderr",
          "text": [
            "\r[Succeeded / Failed / Skipped / Total] 92 / 37 / 7 / 136:  68%|██████▊   | 136/200 [01:49<00:51,  1.24it/s]"
          ]
        },
        {
          "output_type": "stream",
          "name": "stdout",
          "text": [
            "--------------------------------------------- Result 136 ---------------------------------------------\n",
            "[[2 (100%)]] --> [[[FAILED]]]\n",
            "\n",
            "chemical waste management inc chw rd qtr net shr cts vs cts net vs revs mln vs mln nine mths shr cts vs cts net vs revs mln vs mln reuter \n",
            "\n",
            "\n"
          ]
        },
        {
          "output_type": "stream",
          "name": "stderr",
          "text": [
            "[Succeeded / Failed / Skipped / Total] 93 / 37 / 7 / 137:  68%|██████▊   | 137/200 [01:50<00:50,  1.24it/s]"
          ]
        },
        {
          "output_type": "stream",
          "name": "stdout",
          "text": [
            "--------------------------------------------- Result 137 ---------------------------------------------\n",
            "[[2 (100%)]] --> [[5 (62%)]]\n",
            "\n",
            "j p [[morgan]] and [[co]] [[inc]] jpm [[st]] [[qtr]] [[net]] shr dlrs vs dlrs [[net]] mln vs mln assets billion vs billion loans billion vs billion deposits billion vs billion return on assets pct vs pct return on common [[equity]] pct vs pct note [[qtr]] [[net]] was reduced by mln dlrs because [[billion]] [[dlrs]] of loans to brazil were placed on non accrual [[loan]] [[loss]] provision [[mln]] [[dlrs]] [[vs]] [[mln]] [[year]] [[earlier]] [[reuter]] \n",
            "\n",
            "j p [[mogan]] and [[cOo]] [[Znc]] jpm [[sL]] [[qFtr]] [[ent]] shr dlrs vs dlrs [[ent]] mln vs mln assets billion vs billion loans billion vs billion deposits billion vs billion return on assets pct vs pct return on common [[eqmuity]] pct vs pct note [[qOr]] [[Iet]] was reduced by mln dlrs because [[billioBn]] [[Wdlrs]] of loans to brazil were placed on non accrual [[lloan]] [[losF]] provision [[mCln]] [[dPrs]] [[sv]] [[mBln]] [[Syear]] [[Larlier]] [[retuer]] \n",
            "\n",
            "\n"
          ]
        },
        {
          "output_type": "stream",
          "name": "stderr",
          "text": [
            "[Succeeded / Failed / Skipped / Total] 95 / 37 / 7 / 139:  70%|██████▉   | 139/200 [01:50<00:48,  1.25it/s]"
          ]
        },
        {
          "output_type": "stream",
          "name": "stdout",
          "text": [
            "--------------------------------------------- Result 138 ---------------------------------------------\n",
            "[[0 (100%)]] --> [[6 (53%)]]\n",
            "\n",
            "centel cnt [[completes]] [[acquisition]] centel [[corp]] said it completed the [[acquisition]] of welbac cable television [[corp]] which serves more than cable television subscribers in east central michigan terms were not disclosed with the addition of welbac [[customers]] centel [[cable]] television [[co]] of michigan serves more than [[customers]] overall centel has nearly [[customers]] in seven states reuter \n",
            "\n",
            "centel cnt [[comIletes]] [[acqJuisition]] centel [[coBp]] said it completed the [[acquiNsition]] of welbac cable television [[cLorp]] which serves more than cable television subscribers in east central michigan terms were not disclosed with the addition of welbac [[cAstomers]] centel [[acble]] television [[o]] of michigan serves more than [[cYustomers]] overall centel has nearly [[cstomers]] in seven states reuter \n",
            "\n",
            "\n",
            "--------------------------------------------- Result 139 ---------------------------------------------\n",
            "[[2 (100%)]] --> [[5 (81%)]]\n",
            "\n",
            "wall and redekop [[corp]] wrk to three mths [[net]] [[shr]] five [[cts]] vs one [[ct]] [[net]] vs revs [[mln]] vs [[mln]] note period ended april [[reuter]] \n",
            "\n",
            "wall and redekop [[coorp]] wrk to three mths [[ent]] [[hsr]] five [[cqts]] vs one [[Mt]] [[Oet]] vs revs [[ml]] vs [[mlM]] note period ended april [[rIuter]] \n",
            "\n",
            "\n"
          ]
        },
        {
          "output_type": "stream",
          "name": "stderr",
          "text": [
            "\r[Succeeded / Failed / Skipped / Total] 96 / 37 / 7 / 140:  70%|███████   | 140/200 [01:51<00:47,  1.25it/s]"
          ]
        },
        {
          "output_type": "stream",
          "name": "stdout",
          "text": [
            "--------------------------------------------- Result 140 ---------------------------------------------\n",
            "[[5 (98%)]] --> [[4 (45%)]]\n",
            "\n",
            "saudi [[rates]] [[rise]] as bahrain banks caught short saudi riyal interest [[rates]] rose as bahrain based banks scrambled to cover short positions dealers said several bahrain banks had been lending in the fixed periods and borrowing in the short dates but today they found the day to day money in short supply dealers said everybody s stuck in the spot next one trader said spot next rose to as high as six pct from five pct yesterday and the borrowing interest spilled over into the periods with one month rising to around pct from pct yesterday three months edged up to around pct from pct while six months was quoted a touch firmer by some banks at seven pct commercial banks quoted the spot riyal at to the dollar after yesterday reuter \n",
            "\n",
            "saudi [[ates]] [[irse]] as bahrain banks caught short saudi riyal interest [[artes]] rose as bahrain based banks scrambled to cover short positions dealers said several bahrain banks had been lending in the fixed periods and borrowing in the short dates but today they found the day to day money in short supply dealers said everybody s stuck in the spot next one trader said spot next rose to as high as six pct from five pct yesterday and the borrowing interest spilled over into the periods with one month rising to around pct from pct yesterday three months edged up to around pct from pct while six months was quoted a touch firmer by some banks at seven pct commercial banks quoted the spot riyal at to the dollar after yesterday reuter \n",
            "\n",
            "\n"
          ]
        },
        {
          "output_type": "stream",
          "name": "stderr",
          "text": [
            "[Succeeded / Failed / Skipped / Total] 97 / 37 / 7 / 141:  70%|███████   | 141/200 [01:54<00:47,  1.24it/s]"
          ]
        },
        {
          "output_type": "stream",
          "name": "stdout",
          "text": [
            "--------------------------------------------- Result 141 ---------------------------------------------\n",
            "[[0 (100%)]] --> [[2 (39%)]]\n",
            "\n",
            "[[edelman]] [[group]] committed to telex tc [[bid]] tlx [[partners]] a [[group]] [[led]] by asher [[edelman]] does not see any problems with its dlr per share [[bid]] for telex [[corp]] a [[shearson]] lehman official advising the group said several other [[takeover]] proposals have crumbled following declines in financial markets leading to speculation that edelman might also drop his offer telex fell to earlier today carl icahn dropped his bid to take trans world airlines inc twa private and dart group corp darta o said it abandoned plans to acquire dayton hudson corp dh both cited market conditions nothing fundamental has changed with the company the stock price has changed but the company hasn t changed so there s no reason for us to change said daniel good head of shearson lehman merchant banking things are proceeding as planned and we fully expect that at the time we have to pay for the shares the [[financing]] will be in place good said [[shearson]] has [[agreed]] to [[provide]] bridge [[financing]] of up to [[mln]] [[dlrs]] for the [[edelman]] [[group]] reuter \n",
            "\n",
            "[[deelman]] [[gorup]] committed to telex tc [[Sid]] tlx [[artners]] a [[goup]] [[ld]] by asher [[edelLman]] does not see any problems with its dlr per share [[Pid]] for telex [[Hcorp]] a [[sharson]] lehman official advising the group said several other [[taekover]] proposals have crumbled following declines in financial markets leading to speculation that edelman might also drop his offer telex fell to earlier today carl icahn dropped his bid to take trans world airlines inc twa private and dart group corp darta o said it abandoned plans to acquire dayton hudson corp dh both cited market conditions nothing fundamental has changed with the company the stock price has changed but the company hasn t changed so there s no reason for us to change said daniel good head of shearson lehman merchant banking things are proceeding as planned and we fully expect that at the time we have to pay for the shares the [[finacning]] will be in place good said [[shearfon]] has [[aNreed]] to [[pronvide]] bridge [[finanScing]] of up to [[mn]] [[dlrYs]] for the [[eCdelman]] [[grcup]] reuter \n",
            "\n",
            "\n"
          ]
        },
        {
          "output_type": "stream",
          "name": "stderr",
          "text": [
            "[Succeeded / Failed / Skipped / Total] 99 / 37 / 7 / 143:  72%|███████▏  | 143/200 [01:54<00:45,  1.25it/s]"
          ]
        },
        {
          "output_type": "stream",
          "name": "stdout",
          "text": [
            "--------------------------------------------- Result 142 ---------------------------------------------\n",
            "[[2 (100%)]] --> [[0 (92%)]]\n",
            "\n",
            "trump plaza th [[qtr]] [[net]] [[net]] [[profit]] [[vs]] [[loss]] revs mln [[vs]] mln year [[net]] [[profit]] mln [[vs]] [[profit]] [[revs]] [[mln]] [[vs]] [[mln]] [[note]] company became wholly owned and operated by donald trump in [[may]] when he acquired [[pct]] [[interest]] that had been owned by former operator holiday corp hia [[reuter]] \n",
            "\n",
            "trump plaza th [[kqtr]] [[Inet]] [[Zet]] [[prfoit]] [[qvs]] [[losfs]] revs mln [[s]] mln year [[Vet]] [[Krofit]] mln [[Dvs]] [[porfit]] [[reWs]] [[lmn]] [[pvs]] [[lmn]] [[nKte]] company became wholly owned and operated by donald trump in [[amy]] when he acquired [[pcYt]] [[iknterest]] that had been owned by former operator holiday corp hia [[reuer]] \n",
            "\n",
            "\n",
            "--------------------------------------------- Result 143 ---------------------------------------------\n",
            "[[2 (100%)]] --> [[5 (48%)]]\n",
            "\n",
            "three d departments [[inc]] tdd sets [[payout]] class a qtly [[div]] [[cts]] [[vs]] [[cts]] prior class b qtly [[div]] [[cts]] [[vs]] [[cts]] prior [[pay]] may record april [[reuter]] \n",
            "\n",
            "three d departments [[Znc]] tdd sets [[Nayout]] class a qtly [[diAv]] [[cs]] [[sv]] [[cHs]] prior class b qtly [[Ydiv]] [[cPts]] [[sv]] [[cXs]] prior [[pKay]] may record april [[eruter]] \n",
            "\n",
            "\n"
          ]
        },
        {
          "output_type": "stream",
          "name": "stderr",
          "text": [
            "\r[Succeeded / Failed / Skipped / Total] 99 / 38 / 7 / 144:  72%|███████▏  | 144/200 [01:55<00:44,  1.25it/s]"
          ]
        },
        {
          "output_type": "stream",
          "name": "stdout",
          "text": [
            "--------------------------------------------- Result 144 ---------------------------------------------\n",
            "[[2 (100%)]] --> [[[FAILED]]]\n",
            "\n",
            "yellow freight system yell o rd qtr net shr cts vs cts qtly div cts vs cts prior net mln vs mln revs mln vs mln nine mths shr dlrs vs dlrs net mln vs mln revs billion vs billion note full name is yellow freight system inc dividend is payable november record november reuter \n",
            "\n",
            "\n"
          ]
        },
        {
          "output_type": "stream",
          "name": "stderr",
          "text": [
            "[Succeeded / Failed / Skipped / Total] 100 / 38 / 7 / 145:  72%|███████▎  | 145/200 [01:55<00:43,  1.25it/s]"
          ]
        },
        {
          "output_type": "stream",
          "name": "stdout",
          "text": [
            "--------------------------------------------- Result 145 ---------------------------------------------\n",
            "[[2 (100%)]] --> [[5 (42%)]]\n",
            "\n",
            "isc [[systems]] iscs o [[rd]] [[qtr]] [[march]] [[net]] [[shr]] seven [[cts]] vs [[cts]] [[net]] vs revs [[mln]] vs [[mln]] [[nine]] mths [[shr]] [[cts]] vs [[cts]] [[net]] [[vs]] revs [[mln]] [[vs]] [[mln]] [[reuter]] \n",
            "\n",
            "isc [[sysptems]] iscs o [[rB]] [[qBtr]] [[mach]] [[nt]] [[Lshr]] seven [[cUs]] vs [[Icts]] [[ent]] vs revs [[Gmln]] vs [[Cmln]] [[inne]] mths [[hsr]] [[cs]] vs [[cst]] [[Wnet]] [[sv]] revs [[mGln]] [[Ws]] [[lmn]] [[reter]] \n",
            "\n",
            "\n"
          ]
        },
        {
          "output_type": "stream",
          "name": "stderr",
          "text": [
            "[Succeeded / Failed / Skipped / Total] 101 / 39 / 7 / 147:  74%|███████▎  | 147/200 [01:56<00:42,  1.26it/s]"
          ]
        },
        {
          "output_type": "stream",
          "name": "stdout",
          "text": [
            "--------------------------------------------- Result 146 ---------------------------------------------\n",
            "[[2 (100%)]] --> [[[FAILED]]]\n",
            "\n",
            "southwest bancorp swb rd qtr loss oper shr loss cts vs profit cts oper net loss vs profit avg shrs vs nine mths oper shr loss cts vs profit cts oper net loss vs profit avg shrs vs note net excludes tax loss carryforwards of dlrs in quarter and dlrs in nine mths quarter net includes dlr tax credit net both periods includes dlr addition to loan loss reserves due mostly to one out of state real estate transaction reuter \n",
            "\n",
            "\n",
            "--------------------------------------------- Result 147 ---------------------------------------------\n",
            "[[2 (100%)]] --> [[5 (66%)]]\n",
            "\n",
            "[[toshiba]] [[corp]] tsba t year ended march group [[shr]] yen vs [[net]] billion vs billion [[pretax]] billion vs billion operating billion vs billion sales billion vs billion [[reuter]] \n",
            "\n",
            "[[tosRhiba]] [[Wcorp]] tsba t year ended march group [[Lhr]] yen vs [[het]] billion vs billion [[dpretax]] billion vs billion operating billion vs billion sales billion vs billion [[reXuter]] \n",
            "\n",
            "\n"
          ]
        },
        {
          "output_type": "stream",
          "name": "stderr",
          "text": [
            "\r[Succeeded / Failed / Skipped / Total] 102 / 39 / 7 / 148:  74%|███████▍  | 148/200 [01:56<00:41,  1.27it/s]"
          ]
        },
        {
          "output_type": "stream",
          "name": "stdout",
          "text": [
            "--------------------------------------------- Result 148 ---------------------------------------------\n",
            "[[2 (100%)]] --> [[5 (70%)]]\n",
            "\n",
            "qms [[inc]] aqm th [[qtr]] oct [[net]] [[shr]] [[cts]] vs [[cts]] [[net]] vs revs [[mln]] vs [[mln]] avg shrs vs [[year]] [[shr]] [[cts]] vs [[cts]] [[net]] [[vs]] revs [[mln]] [[vs]] [[mln]] avg shrs [[vs]] [[reuter]] \n",
            "\n",
            "qms [[Cnc]] aqm th [[qOtr]] oct [[eet]] [[Khr]] [[cpts]] vs [[cLs]] [[Unet]] vs revs [[ln]] vs [[ln]] avg shrs vs [[Tyear]] [[hr]] [[cWs]] vs [[cst]] [[ent]] [[Hvs]] revs [[bmln]] [[sv]] [[mDln]] avg shrs [[sv]] [[rNeuter]] \n",
            "\n",
            "\n"
          ]
        },
        {
          "output_type": "stream",
          "name": "stderr",
          "text": [
            "[Succeeded / Failed / Skipped / Total] 103 / 39 / 7 / 149:  74%|███████▍  | 149/200 [01:57<00:40,  1.27it/s]"
          ]
        },
        {
          "output_type": "stream",
          "name": "stdout",
          "text": [
            "--------------------------------------------- Result 149 ---------------------------------------------\n",
            "[[0 (99%)]] --> [[6 (27%)]]\n",
            "\n",
            "becor [[western]] bcw again adjourns [[holder]] meeting becor [[western]] [[inc]] said its reconvened [[shareholders]] meeting has been adjourned to cdt june the [[company]] had previously announced plans to again adjourn the meeting following receipt of a renewed [[offer]] from lynch [[corp]] lgl yesterday the meeting was originally convened on june four when [[shareholders]] approved the sale of becor s western gear corp subsidiary before adjourning the remaining matter to be presented is the proposed acquisition of becor by bcw [[acquisition]] inc now one of four [[offers]] for the [[company]] reuter \n",
            "\n",
            "becor [[wesern]] bcw again adjourns [[holdSer]] meeting becor [[wMestern]] [[ina]] said its reconvened [[sharehnolders]] meeting has been adjourned to cdt june the [[cmpany]] had previously announced plans to again adjourn the meeting following receipt of a renewed [[ffer]] from lynch [[ceorp]] lgl yesterday the meeting was originally convened on june four when [[sahreholders]] approved the sale of becor s western gear corp subsidiary before adjourning the remaining matter to be presented is the proposed acquisition of becor by bcw [[acqeisition]] inc now one of four [[Boffers]] for the [[cmopany]] reuter \n",
            "\n",
            "\n"
          ]
        },
        {
          "output_type": "stream",
          "name": "stderr",
          "text": [
            "\r[Succeeded / Failed / Skipped / Total] 104 / 39 / 7 / 150:  75%|███████▌  | 150/200 [01:57<00:39,  1.27it/s]"
          ]
        },
        {
          "output_type": "stream",
          "name": "stdout",
          "text": [
            "--------------------------------------------- Result 150 ---------------------------------------------\n",
            "[[2 (100%)]] --> [[5 (54%)]]\n",
            "\n",
            "poco petroleums [[ltd]] poc to nd [[qtr]] [[net]] period ended april [[shr]] not given [[net]] vs revs [[mln]] vs [[mln]] six mths [[shr]] [[cts]] vs [[cts]] [[net]] [[vs]] revs [[mln]] [[vs]] [[mln]] [[reuter]] \n",
            "\n",
            "poco petroleums [[lWtd]] poc to nd [[qGtr]] [[ent]] period ended april [[hr]] not given [[nVet]] vs revs [[lmn]] vs [[Cln]] six mths [[sh]] [[Scts]] vs [[Hcts]] [[nAet]] [[sv]] revs [[mNln]] [[Ms]] [[mlhn]] [[ereuter]] \n",
            "\n",
            "\n"
          ]
        },
        {
          "output_type": "stream",
          "name": "stderr",
          "text": [
            "[Succeeded / Failed / Skipped / Total] 105 / 39 / 7 / 151:  76%|███████▌  | 151/200 [01:59<00:38,  1.26it/s]"
          ]
        },
        {
          "output_type": "stream",
          "name": "stdout",
          "text": [
            "--------------------------------------------- Result 151 ---------------------------------------------\n",
            "[[4 (89%)]] --> [[5 (31%)]]\n",
            "\n",
            "[[new]] [[zealand]] will [[continue]] [[firm]] [[monetary]] [[policy]] the reserve [[bank]] of [[new]] [[zealand]] [[said]] there was no evidence to suggest the fall in share prices had affected financial stability and it would maintain its firm monetary policy governor spencer russell said in a statement the central bank did not accept arguments that the battle against inflation should now take a low second priority after the sharemarket s plunge russell said the bank had two statutory responsibilities to implement the government s monetary policy to bring down inflation and to ensure the financial sector s stability unless the bank is directed otherwise the firm monetary policy will continue because it is very much in the national interest that it do so he said and there is yet no evidence available to the bank to suggest that the fall in share [[prices]] has affected the stability of the financial sector the [[barclays]] [[share]] [[index]] [[fell]] a record points to on tuesday a decline of pct reuter \n",
            "\n",
            "[[Mnew]] [[zeaFland]] will [[conteinue]] [[Jfirm]] [[monetVry]] [[oplicy]] the reserve [[bak]] of [[Onew]] [[zaland]] [[Isaid]] there was no evidence to suggest the fall in share prices had affected financial stability and it would maintain its firm monetary policy governor spencer russell said in a statement the central bank did not accept arguments that the battle against inflation should now take a low second priority after the sharemarket s plunge russell said the bank had two statutory responsibilities to implement the government s monetary policy to bring down inflation and to ensure the financial sector s stability unless the bank is directed otherwise the firm monetary policy will continue because it is very much in the national interest that it do so he said and there is yet no evidence available to the bank to suggest that the fall in share [[pices]] has affected the stability of the financial sector the [[barVclays]] [[bhare]] [[idnex]] [[Kfell]] a record points to on tuesday a decline of pct reuter \n",
            "\n",
            "\n"
          ]
        },
        {
          "output_type": "stream",
          "name": "stderr",
          "text": [
            "\r[Succeeded / Failed / Skipped / Total] 105 / 40 / 7 / 152:  76%|███████▌  | 152/200 [02:00<00:37,  1.27it/s]"
          ]
        },
        {
          "output_type": "stream",
          "name": "stdout",
          "text": [
            "--------------------------------------------- Result 152 ---------------------------------------------\n",
            "[[2 (100%)]] --> [[[FAILED]]]\n",
            "\n",
            "monolithic memories inc mmic o rd qtr net qtr ended june shr six cts vs cts net vs sales mln vs mln nine mths shr cts vs cts net vs sales mln vs mln reuter \n",
            "\n",
            "\n"
          ]
        },
        {
          "output_type": "stream",
          "name": "stderr",
          "text": [
            "[Succeeded / Failed / Skipped / Total] 106 / 40 / 7 / 153:  76%|███████▋  | 153/200 [02:00<00:37,  1.27it/s]"
          ]
        },
        {
          "output_type": "stream",
          "name": "stdout",
          "text": [
            "--------------------------------------------- Result 153 ---------------------------------------------\n",
            "[[4 (46%)]] --> [[7 (64%)]]\n",
            "\n",
            "balladur urges g to respect louvre accord french [[finance]] minister edouard balladur said the group of seven g industrial countries should respect pledges on monetary policy made in the february louvre accord on currency stability we have to strengthen the cooperation between the seven major industrial countries and remind ourselves of the pledges we made at the louvre he told journalists they were not simply pledges to maintain currency stability but also to conduct a certain type of economic and monetary policy he added reuter \n",
            "\n",
            "balladur urges g to respect louvre accord french [[Rinance]] minister edouard balladur said the group of seven g industrial countries should respect pledges on monetary policy made in the february louvre accord on currency stability we have to strengthen the cooperation between the seven major industrial countries and remind ourselves of the pledges we made at the louvre he told journalists they were not simply pledges to maintain currency stability but also to conduct a certain type of economic and monetary policy he added reuter \n",
            "\n",
            "\n"
          ]
        },
        {
          "output_type": "stream",
          "name": "stderr",
          "text": [
            "[Succeeded / Failed / Skipped / Total] 107 / 40 / 8 / 155:  78%|███████▊  | 155/200 [02:00<00:35,  1.28it/s]"
          ]
        },
        {
          "output_type": "stream",
          "name": "stdout",
          "text": [
            "--------------------------------------------- Result 154 ---------------------------------------------\n",
            "[[2 (100%)]] --> [[5 (62%)]]\n",
            "\n",
            "[[marine]] [[corp]] mcrp o [[rd]] [[qtr]] [[net]] shr dlrs vs dlrs [[net]] mln vs nine mths [[shr]] dlrs vs dlrs [[net]] mln vs mln [[assets]] billion vs billion deposits billion vs [[billion]] loans [[billion]] [[vs]] [[billion]] [[reuter]] \n",
            "\n",
            "[[mairne]] [[cBrp]] mcrp o [[d]] [[Xtr]] [[nex]] shr dlrs vs dlrs [[neDt]] mln vs nine mths [[hsr]] dlrs vs dlrs [[nNt]] mln vs mln [[Bassets]] billion vs billion deposits billion vs [[biQlion]] loans [[bilZlion]] [[sv]] [[billioI]] [[rEeuter]] \n",
            "\n",
            "\n",
            "--------------------------------------------- Result 155 ---------------------------------------------\n",
            "[[7 (85%)]] --> [[[SKIPPED]]]\n",
            "\n",
            "reagan says u s committed to louvre accord president reagan said the united states remains committed to the louvre accord in which the seven major industrial nations agreed to stabilize currency exchange rates the united states remains committed to the louvre agreement reagan said in a statement following a meeting with his top economic advisers reagan said the united states japan and west germany had all reaffirmed their commitment to coordinate economic policies reagan said japanese prime minister designate noboru takeshita said in a telephone conversation tuesday morning that his takeshita s top priority was to maintain stable economic relations with the united states reagan noted that treasury secretary james baker met with west german financial officials and reaffirmed their commitment to the louvre agreement they reaffirmed our agreement to coordinate economic policies to provide for non inflationary growth and stable exchange rates reagan said reuter \n",
            "\n",
            "\n"
          ]
        },
        {
          "output_type": "stream",
          "name": "stderr",
          "text": [
            "\r[Succeeded / Failed / Skipped / Total] 108 / 40 / 8 / 156:  78%|███████▊  | 156/200 [02:02<00:34,  1.27it/s]"
          ]
        },
        {
          "output_type": "stream",
          "name": "stdout",
          "text": [
            "--------------------------------------------- Result 156 ---------------------------------------------\n",
            "[[0 (100%)]] --> [[6 (41%)]]\n",
            "\n",
            "carolco crc [[may]] [[bid]] for lieberman lman o lieberman [[enterprises]] [[inc]] [[said]] carolco [[pictures]] [[inc]] is [[negotiating]] for the [[acquisition]] of the pct of lieberman [[shares]] held by the families of chairman david lieberman and president harold okinow at dlrs each and if the deal were concluded public shareholders would be offered the same price for their shares lieberman said the carolco bid to its public shareholders would be in cash or shareholders could be offered securities as an alternative the offer would occur within about days after the closing of the sale of the initial pct stake the company said the company said a final agreement has not yet been reached on the first transaction but [[negotiations]] are expected to be concluded in early june present [[management]] is expected to continue to operate lieberman the [[company]] said lieberman [[distributes]] prerecorded music [[video]] movies and other [[products]] reuter \n",
            "\n",
            "carolco crc [[mBy]] [[bd]] for lieberman lman o lieberman [[encerprises]] [[inV]] [[aid]] carolco [[pictres]] [[Pnc]] is [[negotating]] for the [[aBcquisition]] of the pct of lieberman [[hares]] held by the families of chairman david lieberman and president harold okinow at dlrs each and if the deal were concluded public shareholders would be offered the same price for their shares lieberman said the carolco bid to its public shareholders would be in cash or shareholders could be offered securities as an alternative the offer would occur within about days after the closing of the sale of the initial pct stake the company said the company said a final agreement has not yet been reached on the first transaction but [[negotiationq]] are expected to be concluded in early june present [[manageCent]] is expected to continue to operate lieberman the [[comany]] said lieberman [[disrtibutes]] prerecorded music [[tideo]] movies and other [[Oproducts]] reuter \n",
            "\n",
            "\n"
          ]
        },
        {
          "output_type": "stream",
          "name": "stderr",
          "text": [
            "[Succeeded / Failed / Skipped / Total] 108 / 41 / 8 / 157:  78%|███████▊  | 157/200 [02:03<00:33,  1.28it/s]"
          ]
        },
        {
          "output_type": "stream",
          "name": "stdout",
          "text": [
            "--------------------------------------------- Result 157 ---------------------------------------------\n",
            "[[2 (100%)]] --> [[[FAILED]]]\n",
            "\n",
            "owens and minor inc obod o rd qtr net shr cts vs cts shr diluted cts vs cts net vs sales mln vs mln avg shrs vs avg shrs diluted vs nine mths shr dlrs vs cts shr diluted cts vs cts net vs sales mln vs mln avg shrs vs avg shrs diluted vs reuter \n",
            "\n",
            "\n"
          ]
        },
        {
          "output_type": "stream",
          "name": "stderr",
          "text": [
            "\r[Succeeded / Failed / Skipped / Total] 109 / 41 / 8 / 158:  79%|███████▉  | 158/200 [02:03<00:32,  1.28it/s]"
          ]
        },
        {
          "output_type": "stream",
          "name": "stdout",
          "text": [
            "--------------------------------------------- Result 158 ---------------------------------------------\n",
            "[[2 (100%)]] --> [[5 (49%)]]\n",
            "\n",
            "preston [[corp]] ptrk o [[rd]] [[qtr]] [[net]] [[shr]] four [[cts]] vs [[cts]] [[net]] vs revs mln vs [[mln]] [[nine]] mths [[shr]] [[cts]] vs [[dlrs]] [[net]] [[vs]] revs [[mln]] [[vs]] [[mln]] [[reuter]] \n",
            "\n",
            "preston [[coFp]] ptrk o [[drd]] [[qir]] [[nek]] [[hr]] four [[cs]] vs [[ccs]] [[ent]] vs revs mln vs [[Gln]] [[nin]] mths [[sQr]] [[Qts]] vs [[Flrs]] [[ne]] [[sv]] revs [[mlQn]] [[sv]] [[lmn]] [[Rreuter]] \n",
            "\n",
            "\n"
          ]
        },
        {
          "output_type": "stream",
          "name": "stderr",
          "text": [
            "[Succeeded / Failed / Skipped / Total] 110 / 41 / 8 / 159:  80%|███████▉  | 159/200 [02:05<00:32,  1.27it/s]"
          ]
        },
        {
          "output_type": "stream",
          "name": "stdout",
          "text": [
            "--------------------------------------------- Result 159 ---------------------------------------------\n",
            "[[7 (89%)]] --> [[6 (22%)]]\n",
            "\n",
            "cairns group said influential in [[trade]] [[talks]] australian [[minister]] for [[trade]] [[negotiations]] michael duffy said his country and third world commodity producers have formed an effective lobby group against farm export subsidies and market access restrictions duffy told a press conference the cairns group of major agricultural producers to which australia and thailand belong has emerged as an important third force in any multilateral trade talks there s no doubt that the cairns group is being seen as a third force to be reckoned with both inside the general agreement on tariffs and trade and in other international trade negotiations he said duffy here on a three day visit after talks in the united states the european community ec and latin america said considerable progress has been made by the group towards fighting costly protectionist policies pursued by developed countries the minister said the ec commission s new farm trade paper will recognise the heavy financial burdens imposed by its common agricultural policy and its future expansion he said the reagan administration has also displayed a determination to resist the currently strong protectionist [[sentiment]] in the u s [[congress]] reuter \n",
            "\n",
            "cairns group said influential in [[tarde]] [[ptalks]] australian [[mdinister]] for [[tWrade]] [[negotaitions]] michael duffy said his country and third world commodity producers have formed an effective lobby group against farm export subsidies and market access restrictions duffy told a press conference the cairns group of major agricultural producers to which australia and thailand belong has emerged as an important third force in any multilateral trade talks there s no doubt that the cairns group is being seen as a third force to be reckoned with both inside the general agreement on tariffs and trade and in other international trade negotiations he said duffy here on a three day visit after talks in the united states the european community ec and latin america said considerable progress has been made by the group towards fighting costly protectionist policies pursued by developed countries the minister said the ec commission s new farm trade paper will recognise the heavy financial burdens imposed by its common agricultural policy and its future expansion he said the reagan administration has also displayed a determination to resist the currently strong protectionist [[sGentiment]] in the u s [[Ycongress]] reuter \n",
            "\n",
            "\n"
          ]
        },
        {
          "output_type": "stream",
          "name": "stderr",
          "text": [
            "\r[Succeeded / Failed / Skipped / Total] 111 / 41 / 8 / 160:  80%|████████  | 160/200 [02:07<00:31,  1.26it/s]"
          ]
        },
        {
          "output_type": "stream",
          "name": "stdout",
          "text": [
            "--------------------------------------------- Result 160 ---------------------------------------------\n",
            "[[0 (100%)]] --> [[6 (35%)]]\n",
            "\n",
            "[[gordon]] to [[make]] [[bid]] to [[acquire]] pagecorp pgoa to [[gordon]] [[investment]] [[corp]] said it [[plans]] to make an [[offer]] to [[acquire]] all of pagecorp [[inc]] s class a and class b [[shares]] for dlrs cash per [[share]] the bid is conditional upon an examination by gordon of the business and affairs of pagecorp during the days ending december the proposed offer would be condition upon ainimum number of shares being tendered gordon said it did not say what the minimum will be meanwhile pagecorp said it agreed to grant gordon an option to purchaser class a shares at dlrs per share which is exercisable only if gordon makes the acquisition bid before december or if any third party begins a [[takeover]] before december pagecorp also said all class b [[shareholders]] have [[agreed]] to [[deposit]] their [[class]] b [[shares]] if [[gordon]] [[proceeds]] with its [[offer]] reuter \n",
            "\n",
            "[[gXrdon]] to [[amke]] [[Sid]] to [[acqgire]] pagecorp pgoa to [[Eordon]] [[inevstment]] [[crop]] said it [[glans]] to make an [[oXfer]] to [[acquir]] all of pagecorp [[iFc]] s class a and class b [[sharem]] for dlrs cash per [[hsare]] the bid is conditional upon an examination by gordon of the business and affairs of pagecorp during the days ending december the proposed offer would be condition upon ainimum number of shares being tendered gordon said it did not say what the minimum will be meanwhile pagecorp said it agreed to grant gordon an option to purchaser class a shares at dlrs per share which is exercisable only if gordon makes the acquisition bid before december or if any third party begins a [[tBakeover]] before december pagecorp also said all class b [[sharehoders]] have [[Ogreed]] to [[depfosit]] their [[clRss]] b [[shaLes]] if [[goPrdon]] [[prRceeds]] with its [[Sffer]] reuter \n",
            "\n",
            "\n"
          ]
        },
        {
          "output_type": "stream",
          "name": "stderr",
          "text": [
            "[Succeeded / Failed / Skipped / Total] 111 / 42 / 8 / 161:  80%|████████  | 161/200 [02:15<00:32,  1.19it/s]"
          ]
        },
        {
          "output_type": "stream",
          "name": "stdout",
          "text": [
            "--------------------------------------------- Result 161 ---------------------------------------------\n",
            "[[0 (100%)]] --> [[[FAILED]]]\n",
            "\n",
            "industrial equity to make proposal to calmat czm industrial equity pacific ltd a hong kong based investment firm leading a group holding pct of calmat co s common stock said it intends to submit to calmat a proposal for a possible business combination in a filing with the securities and exchange commission industrial equity pacific did not disclose details of the proposal but said it would be delivered to calmat in the near future industrial equity pacific does not intend to remain a passive investor in calmat the firm told the sec in its sec filing industrial equity pacific said its president of north american operations ronald langley met with calmat officials on october to discuss an acquisition of the company at a premium over the market price of calmat stock industrial equity pacific added it is considering launching a tender offer for calmat stock or making a merger proposal to the company but said it has not decided whether it will pursue a calmat acquisition on a non negotiated basis industrial equity pacific which currently holds mln calmat common shares said it is also evaluating the company s recently adopted shareholder rights plan and its potential effect on calmat and on possible acquisition proposals made to the company between october and industrial equity pacific bought shares of calmat common stock at dlrs to dlrs a share or a total of about mln dlrs reuter \n",
            "\n",
            "\n"
          ]
        },
        {
          "output_type": "stream",
          "name": "stderr",
          "text": [
            "[Succeeded / Failed / Skipped / Total] 111 / 43 / 8 / 162:  81%|████████  | 162/200 [02:16<00:32,  1.19it/s]"
          ]
        },
        {
          "output_type": "stream",
          "name": "stdout",
          "text": [
            "--------------------------------------------- Result 162 ---------------------------------------------\n",
            "[[2 (100%)]] --> [[[FAILED]]]\n",
            "\n",
            "lamson and sessions co lms rd qtr net oper shr profit cts vs loss cts oper net profit vs loss revs mln vs mln nine mths oper shr profit cts vs loss cts oper net profit vs loss revs mln vs mln note net excludes losses from discontinued operations of dlrs in quarter and dlrs in nine mths nine mths net excludes gain dlrs from cumulative effect of pension accounting change net excludes tax credits of dlrs in quarter and dlrs in nine mths reuter \n",
            "\n",
            "\n"
          ]
        },
        {
          "output_type": "stream",
          "name": "stderr",
          "text": [
            "[Succeeded / Failed / Skipped / Total] 112 / 43 / 8 / 163:  82%|████████▏ | 163/200 [02:18<00:31,  1.17it/s]"
          ]
        },
        {
          "output_type": "stream",
          "name": "stdout",
          "text": [
            "--------------------------------------------- Result 163 ---------------------------------------------\n",
            "[[2 (100%)]] --> [[5 (75%)]]\n",
            "\n",
            "bowater [[industries]] [[profit]] exceed [[expectations]] bowater [[industries]] [[plc]] bwtr l [[pretax]] [[profits]] of mln stg exceeded market [[expectations]] of around mln and pushed the [[company]] s [[shares]] up sharply to a high of p from p last night dealers said the [[shares]] later eased back to p bowater reported a mln stg [[profit]] in the company said in a statement accompanying the results that the underlying trend showed improvement and it intended to expand further by developing existing businesses and [[seeking]] new opportunities it added that it had appointed david lyon currently managing director of redland plc rdld l as its new chief executive analysts [[noted]] that bowater s profits of mln stg from mln previously had been given a boost by pension benefits of mln stg profit from australia and the [[far]] east showed the greatest percentage rise jumping pct to [[mln]] from [[mln]] while the [[profit]] from u k [[operations]] [[rose]] pct to [[mln]] and [[europe]] pct to [[mln]] [[reuter]] \n",
            "\n",
            "bowater [[indXstries]] [[proOit]] exceed [[expctations]] bowater [[indusjtries]] [[Vlc]] bwtr l [[Rpretax]] [[prfoits]] of mln stg exceeded market [[eupectations]] of around mln and pushed the [[comapny]] s [[sDares]] up sharply to a high of p from p last night dealers said the [[shaJes]] later eased back to p bowater reported a mln stg [[piofit]] in the company said in a statement accompanying the results that the underlying trend showed improvement and it intended to expand further by developing existing businesses and [[nseeking]] new opportunities it added that it had appointed david lyon currently managing director of redland plc rdld l as its new chief executive analysts [[dnoted]] that bowater s profits of mln stg from mln previously had been given a boost by pension benefits of mln stg profit from australia and the [[Dfar]] east showed the greatest percentage rise jumping pct to [[Oln]] from [[ml]] while the [[pofit]] from u k [[Soperations]] [[ose]] pct to [[Imln]] and [[euope]] pct to [[Dln]] [[Lreuter]] \n",
            "\n",
            "\n"
          ]
        },
        {
          "output_type": "stream",
          "name": "stderr",
          "text": [
            "[Succeeded / Failed / Skipped / Total] 114 / 43 / 8 / 165:  82%|████████▎ | 165/200 [02:19<00:29,  1.18it/s]"
          ]
        },
        {
          "output_type": "stream",
          "name": "stdout",
          "text": [
            "--------------------------------------------- Result 164 ---------------------------------------------\n",
            "[[6 (84%)]] --> [[0 (49%)]]\n",
            "\n",
            "world telecoms watchdog relaxes car phone rules the international telecommunications [[union]] which regulates communications worldwide decided at the [[end]] of a five week conference to allow mobile phone systems to be linked with satellites telecommunications officials said until now car phones have been linked with land stations and have been limited mainly to urban areas the new ruling will make it easier for calls to be made from remote regions the meeting which finished over the weekend also decided to allow a radio determination satellite system which would enable fleet owners to trace to within about metres the movements of their lorries or cars or ships around the world reuter \n",
            "\n",
            "world telecoms watchdog relaxes car phone rules the international telecommunications [[uion]] which regulates communications worldwide decided at the [[eGd]] of a five week conference to allow mobile phone systems to be linked with satellites telecommunications officials said until now car phones have been linked with land stations and have been limited mainly to urban areas the new ruling will make it easier for calls to be made from remote regions the meeting which finished over the weekend also decided to allow a radio determination satellite system which would enable fleet owners to trace to within about metres the movements of their lorries or cars or ships around the world reuter \n",
            "\n",
            "\n",
            "--------------------------------------------- Result 165 ---------------------------------------------\n",
            "[[2 (100%)]] --> [[5 (64%)]]\n",
            "\n",
            "emulex [[corp]] emlx o [[st]] [[qtr]] sept [[net]] [[shr]] [[cts]] vs [[cts]] [[net]] vs revs [[mln]] vs [[mln]] avg shrs [[mln]] [[vs]] [[mln]] [[reuter]] \n",
            "\n",
            "emulex [[cor]] emlx o [[s]] [[ltr]] sept [[Uet]] [[Rshr]] [[cats]] vs [[cYts]] [[Iet]] vs revs [[Vmln]] vs [[Fmln]] avg shrs [[lmn]] [[s]] [[lmn]] [[retuer]] \n",
            "\n",
            "\n"
          ]
        },
        {
          "output_type": "stream",
          "name": "stderr",
          "text": [
            "[Succeeded / Failed / Skipped / Total] 114 / 44 / 8 / 166:  83%|████████▎ | 166/200 [02:25<00:29,  1.14it/s]"
          ]
        },
        {
          "output_type": "stream",
          "name": "stdout",
          "text": [
            "--------------------------------------------- Result 166 ---------------------------------------------\n",
            "[[2 (100%)]] --> [[[FAILED]]]\n",
            "\n",
            "national westminster bank usa st qtr net rises national westminster bank usa said higher loans and core deposit volumes as well as a substantial increase in net interest income contributed to a pct rise in first quarter earnings to mln dlrs from mln reported a year earlier the earnings gain came despite a mln dlr reduction of income as a result of placing brazilian loans on non accrual net interest income totalled mln dlrs compared with mln dlrs in the same period as loans mostly to middle market businesses increased by mln dlrs but some of these gains were offset by low levels of interest rates provision for loan losses rose to mln dlrs from mln a year earlier at march the allowance for loan losses was mln dlrs versus mln at end of march non accrual loans rose to mln dlrs from mln at the end of the first quarter of largely because mln dlrs of loans to brazil were put on non accrual status the bank said that if these loans remain on non accrual for the remainder of the year net income for would be reduced by about mln dlrs national westminster bank usa is a wholly owned subsidiary of national westminster bank plc reuter \n",
            "\n",
            "\n"
          ]
        },
        {
          "output_type": "stream",
          "name": "stderr",
          "text": [
            "[Succeeded / Failed / Skipped / Total] 115 / 44 / 9 / 168:  84%|████████▍ | 168/200 [02:26<00:27,  1.15it/s]"
          ]
        },
        {
          "output_type": "stream",
          "name": "stdout",
          "text": [
            "--------------------------------------------- Result 167 ---------------------------------------------\n",
            "[[4 (44%)]] --> [[7 (40%)]]\n",
            "\n",
            "balladur has had contact with g ministers french [[finance]] minister edouard balladur has been in contact with several finance ministers from the group of seven leading industrial countries in particular west german finance minister gerhard stoltenberg to discuss the crisis on world markets finance ministry sources said they did not say whether the contacts had led to concerted action on the markets or merely an exchange of views but they added that french ministry officials were continuing the contacts to exchange views on market performance reuter \n",
            "\n",
            "balladur has had contact with g ministers french [[finace]] minister edouard balladur has been in contact with several finance ministers from the group of seven leading industrial countries in particular west german finance minister gerhard stoltenberg to discuss the crisis on world markets finance ministry sources said they did not say whether the contacts had led to concerted action on the markets or merely an exchange of views but they added that french ministry officials were continuing the contacts to exchange views on market performance reuter \n",
            "\n",
            "\n",
            "--------------------------------------------- Result 168 ---------------------------------------------\n",
            "[[4 (55%)]] --> [[[SKIPPED]]]\n",
            "\n",
            "may ajusted sterling bank lending up billion stg after billion in april official \n",
            "\n",
            "\n"
          ]
        },
        {
          "output_type": "stream",
          "name": "stderr",
          "text": [
            "[Succeeded / Failed / Skipped / Total] 116 / 44 / 9 / 169:  84%|████████▍ | 169/200 [02:29<00:27,  1.13it/s]"
          ]
        },
        {
          "output_type": "stream",
          "name": "stdout",
          "text": [
            "--------------------------------------------- Result 169 ---------------------------------------------\n",
            "[[0 (100%)]] --> [[2 (20%)]]\n",
            "\n",
            "baring [[unit]] sets up [[fund]] for [[management]] [[buy]] outs baring [[capital]] [[investors]] [[ltd]] bci a [[unit]] of the u k merchant bank baring [[brothers]] and [[co]] [[ltd]] said it has raised mln european currency units ecus which will be [[invested]] in [[management]] [[buy]] outs and development capital opportunities in the u k and continental europe the funds were raised through bci s first such fund the baring euaring european capital trust from investors in nine european countries it expects to raise another mln ecus soon through a french fund and a fund for u s investors bci was set up last year by baring brothers to advise buy out and development capital investors bci said the new fund is structured as a guernsey based unit trust which will be listed on the luxembourg stock exchange it will be advised by bci and managed by a company owned jointly by barings and the management of bci individual investments are expected to range between one and mln ecus and are likely to be concentrated in the u k germany and france bci said its aims are to [[invest]] in [[established]] [[companies]] principally [[family]] [[companies]] with succession [[issues]] and [[corporate]] [[spin]] [[offs]] reuter \n",
            "\n",
            "baring [[uniP]] sets up [[und]] for [[manageGment]] [[bbuy]] outs baring [[capitaJl]] [[invesMtors]] [[ld]] bci a [[funit]] of the u k merchant bank baring [[brotPhers]] and [[No]] [[ld]] said it has raised mln european currency units ecus which will be [[invesOed]] in [[manBagement]] [[Suy]] outs and development capital opportunities in the u k and continental europe the funds were raised through bci s first such fund the baring euaring european capital trust from investors in nine european countries it expects to raise another mln ecus soon through a french fund and a fund for u s investors bci was set up last year by baring brothers to advise buy out and development capital investors bci said the new fund is structured as a guernsey based unit trust which will be listed on the luxembourg stock exchange it will be advised by bci and managed by a company owned jointly by barings and the management of bci individual investments are expected to range between one and mln ecus and are likely to be concentrated in the u k germany and france bci said its aims are to [[inveGt]] in [[Destablished]] [[comApanies]] principally [[Xfamily]] [[commpanies]] with succession [[issueRs]] and [[cPrporate]] [[Lspin]] [[Jffs]] reuter \n",
            "\n",
            "\n"
          ]
        },
        {
          "output_type": "stream",
          "name": "stderr",
          "text": [
            "[Succeeded / Failed / Skipped / Total] 117 / 45 / 9 / 171:  86%|████████▌ | 171/200 [02:29<00:25,  1.14it/s]"
          ]
        },
        {
          "output_type": "stream",
          "name": "stdout",
          "text": [
            "--------------------------------------------- Result 170 ---------------------------------------------\n",
            "[[0 (100%)]] --> [[[FAILED]]]\n",
            "\n",
            "coradian cdin o stake acquired by sage coradian corp said a group led by privately held sage equities group agreed to buy a pct interest in coradian in connection with the agreement the company said it sold shares at cts a share it said that in addition to common stock sage equities will receive warrants exercisable at dlrs a share reuter \n",
            "\n",
            "\n",
            "--------------------------------------------- Result 171 ---------------------------------------------\n",
            "[[2 (100%)]] --> [[0 (42%)]]\n",
            "\n",
            "int l [[research]] development irdv o st [[qtr]] [[net]] [[shr]] six cts [[vs]] three [[cts]] [[net]] [[vs]] revs [[vs]] note full name is international research and development [[corp]] [[reuter]] \n",
            "\n",
            "int l [[reUsearch]] development irdv o st [[ntr]] [[nSt]] [[sh]] six cts [[sv]] three [[cs]] [[ent]] [[s]] revs [[sv]] note full name is international research and development [[cormp]] [[Teuter]] \n",
            "\n",
            "\n"
          ]
        },
        {
          "output_type": "stream",
          "name": "stderr",
          "text": [
            "\r[Succeeded / Failed / Skipped / Total] 118 / 45 / 9 / 172:  86%|████████▌ | 172/200 [02:30<00:24,  1.14it/s]"
          ]
        },
        {
          "output_type": "stream",
          "name": "stdout",
          "text": [
            "--------------------------------------------- Result 172 ---------------------------------------------\n",
            "[[2 (100%)]] --> [[0 (37%)]]\n",
            "\n",
            "[[first]] republicbank frb n [[corp]] [[rd]] [[qtr]] [[loss]] [[shr]] [[diluted]] [[loss]] [[cts]] [[net]] [[loss]] nine mths shr diluted [[loss]] dlrs [[net]] [[loss]] [[note]] no [[comparisons]] because company was formed in [[june]] through merger of republicbank corp and interfirst corp nine mths includes [[previously]] [[reported]] provision of [[mln]] [[dlrs]] in [[second]] [[quarter]] for possible [[losses]] on ldc [[loans]] [[reuter]] \n",
            "\n",
            "[[Mirst]] republicbank frb n [[crop]] [[rTd]] [[dtr]] [[Boss]] [[nshr]] [[diluetd]] [[loCs]] [[cst]] [[Inet]] [[Wloss]] nine mths shr diluted [[los]] dlrs [[Xnet]] [[los]] [[Wnote]] no [[coKparisons]] because company was formed in [[Vune]] through merger of republicbank corp and interfirst corp nine mths includes [[previIously]] [[reorted]] provision of [[Lln]] [[dlrDs]] in [[Gecond]] [[quartier]] for possible [[lonses]] on ldc [[laons]] [[Xeuter]] \n",
            "\n",
            "\n"
          ]
        },
        {
          "output_type": "stream",
          "name": "stderr",
          "text": [
            "[Succeeded / Failed / Skipped / Total] 119 / 45 / 9 / 173:  86%|████████▋ | 173/200 [02:30<00:23,  1.15it/s]"
          ]
        },
        {
          "output_type": "stream",
          "name": "stdout",
          "text": [
            "--------------------------------------------- Result 173 ---------------------------------------------\n",
            "[[2 (100%)]] --> [[5 (36%)]]\n",
            "\n",
            "[[king]] [[world]] productions [[inc]] kwp nd [[qtr]] feb [[shr]] [[cts]] [[vs]] eight [[cts]] [[net]] vs revs [[mln]] vs [[mln]] [[st]] [[half]] [[shr]] [[cts]] [[vs]] [[cts]] [[net]] [[mln]] [[vs]] revs [[mln]] [[vs]] [[mln]] [[reuter]] \n",
            "\n",
            "[[Ging]] [[wjrld]] productions [[inm]] kwp nd [[fqtr]] feb [[hr]] [[Ats]] [[s]] eight [[cfs]] [[neE]] vs revs [[Zmln]] vs [[mlX]] [[sL]] [[Calf]] [[hr]] [[cBts]] [[Fvs]] [[cKts]] [[knet]] [[mgln]] [[Uvs]] revs [[lmn]] [[Xvs]] [[lmn]] [[deuter]] \n",
            "\n",
            "\n"
          ]
        },
        {
          "output_type": "stream",
          "name": "stderr",
          "text": [
            "\r[Succeeded / Failed / Skipped / Total] 120 / 45 / 9 / 174:  87%|████████▋ | 174/200 [02:31<00:22,  1.15it/s]"
          ]
        },
        {
          "output_type": "stream",
          "name": "stdout",
          "text": [
            "--------------------------------------------- Result 174 ---------------------------------------------\n",
            "[[0 (96%)]] --> [[1 (83%)]]\n",
            "\n",
            "lasmo canada to [[merge]] with onyx petroleum lasmo exploration canada ltd a [[subsidiary]] of london scottish marine oil [[plc]] lsml l is merging with onyx petroleum exploration co ltd lasmo said the merger is to be made by onyx buying lasmo exploration in a share swap a new company lasmo canada inc will be formed lasmo will control pct of the equity worth some mln canadian dlrs based on the current onyx share price the new company will have proven reserves of mln barrels of oil and billion cubic feet of gas lasmo said reuter \n",
            "\n",
            "lasmo canada to [[emrge]] with onyx petroleum lasmo exploration canada ltd a [[dsubsidiary]] of london scottish marine oil [[lc]] lsml l is merging with onyx petroleum exploration co ltd lasmo said the merger is to be made by onyx buying lasmo exploration in a share swap a new company lasmo canada inc will be formed lasmo will control pct of the equity worth some mln canadian dlrs based on the current onyx share price the new company will have proven reserves of mln barrels of oil and billion cubic feet of gas lasmo said reuter \n",
            "\n",
            "\n"
          ]
        },
        {
          "output_type": "stream",
          "name": "stderr",
          "text": [
            "[Succeeded / Failed / Skipped / Total] 120 / 46 / 9 / 175:  88%|████████▊ | 175/200 [02:32<00:21,  1.15it/s]"
          ]
        },
        {
          "output_type": "stream",
          "name": "stdout",
          "text": [
            "--------------------------------------------- Result 175 ---------------------------------------------\n",
            "[[2 (100%)]] --> [[[FAILED]]]\n",
            "\n",
            "ecolab inc ecl rd qtr oper shr oper shr cts vs cts oper net vs revs mln vs mln nine mths oper shr dlrs vs dlrs oper net mln vs mln revs mln vs mln note results include restructuring and non recurring charge of cts a share to restructure chemlawn acquired in april and other recent acquisitions results exclude gain on sale of discontinued operations of mln dlrs or dlrs a share in rd qtr results also exclude income from discontinued operations of dlrs in nine mths of dlrs or two cts in rd qtr and dlrs or cts in nine mths reuter \n",
            "\n",
            "\n"
          ]
        },
        {
          "output_type": "stream",
          "name": "stderr",
          "text": [
            "[Succeeded / Failed / Skipped / Total] 122 / 46 / 9 / 177:  88%|████████▊ | 177/200 [02:32<00:19,  1.16it/s]"
          ]
        },
        {
          "output_type": "stream",
          "name": "stdout",
          "text": [
            "--------------------------------------------- Result 176 ---------------------------------------------\n",
            "[[2 (100%)]] --> [[5 (63%)]]\n",
            "\n",
            "gateway [[bancorp]] [[inc]] gban [[st]] [[qtr]] [[net]] shr cts vs [[cts]] [[net]] vs deposits mln vs [[mln]] note per [[share]] amounts adjusted to reflect for [[one]] [[stock]] [[split]] effective [[sept]] [[reuter]] \n",
            "\n",
            "gateway [[bancorR]] [[iJc]] gban [[s]] [[qUr]] [[nGet]] shr cts vs [[cst]] [[neB]] vs deposits mln vs [[Dln]] note per [[shore]] amounts adjusted to reflect for [[noe]] [[sotck]] [[slit]] effective [[Msept]] [[greuter]] \n",
            "\n",
            "\n",
            "--------------------------------------------- Result 177 ---------------------------------------------\n",
            "[[2 (100%)]] --> [[5 (77%)]]\n",
            "\n",
            "neworld bank for [[savings]] nwor [[st]] [[qtr]] [[net]] oper shr cts vs [[cts]] oper [[net]] vs note [[net]] excludes [[dlr]] [[tax]] credit [[reuter]] \n",
            "\n",
            "neworld bank for [[osavings]] nwor [[dst]] [[etr]] [[ent]] oper shr cts vs [[Ects]] oper [[Met]] vs note [[ent]] excludes [[dDr]] [[atx]] credit [[ieuter]] \n",
            "\n",
            "\n"
          ]
        },
        {
          "output_type": "stream",
          "name": "stderr",
          "text": [
            "\r[Succeeded / Failed / Skipped / Total] 123 / 46 / 9 / 178:  89%|████████▉ | 178/200 [02:33<00:18,  1.16it/s]"
          ]
        },
        {
          "output_type": "stream",
          "name": "stdout",
          "text": [
            "--------------------------------------------- Result 178 ---------------------------------------------\n",
            "[[0 (100%)]] --> [[6 (39%)]]\n",
            "\n",
            "frontier frtr o [[buys]] malpractice [[business]] frontier [[insurance]] [[group]] [[inc]] said it [[acquired]] the malpractice book of [[business]] generated by medical quadrangle [[inc]] and medical professional liability agency [[ltd]] a producer of medical malpractice [[coverage]] it said the [[acquisition]] will [[enable]] all of frontier s [[medical]] malpractice [[coverage]] to be serviced internally reuter \n",
            "\n",
            "frontier frtr o [[busy]] malpractice [[bsiness]] frontier [[iBnsurance]] [[gorup]] [[Rinc]] said it [[aDquired]] the malpractice book of [[buisness]] generated by medical quadrangle [[inxc]] and medical professional liability agency [[lKd]] a producer of medical malpractice [[cohverage]] it said the [[acquisitOion]] will [[eanble]] all of frontier s [[mHdical]] malpractice [[coDerage]] to be serviced internally reuter \n",
            "\n",
            "\n"
          ]
        },
        {
          "output_type": "stream",
          "name": "stderr",
          "text": [
            "[Succeeded / Failed / Skipped / Total] 124 / 46 / 10 / 180:  90%|█████████ | 180/200 [02:33<00:17,  1.17it/s]"
          ]
        },
        {
          "output_type": "stream",
          "name": "stdout",
          "text": [
            "--------------------------------------------- Result 179 ---------------------------------------------\n",
            "[[2 (100%)]] --> [[5 (54%)]]\n",
            "\n",
            "h f ahmanson and [[co]] ahm [[rd]] [[qtr]] [[net]] shr [[cts]] vs [[cts]] [[net]] mln vs mln nine mths [[shr]] dlrs vs dlrs [[net]] mln vs mln avg shrs vs [[assets]] billion vs billion loans [[billion]] vs [[billion]] deposits [[billion]] [[vs]] [[billion]] [[reuter]] \n",
            "\n",
            "h f ahmanson and [[Uo]] ahm [[d]] [[Dtr]] [[ent]] shr [[Nts]] vs [[Acts]] [[Cnet]] mln vs mln nine mths [[Ehr]] dlrs vs dlrs [[nNet]] mln vs mln avg shrs vs [[Rssets]] billion vs billion loans [[bililon]] vs [[bMllion]] deposits [[bOillion]] [[ovs]] [[billon]] [[redter]] \n",
            "\n",
            "\n",
            "--------------------------------------------- Result 180 ---------------------------------------------\n",
            "[[2 (81%)]] --> [[[SKIPPED]]]\n",
            "\n",
            "freedom frdm to recognize gain on unit sale freedom savings and loan association said it will record a net gain of mln dlrs on the sale of certain assets of its freedom mortgage co subsidiary to chase home mortgage corp a subsidiary of chase manhattan corp cmb freedom also said it had completed the sale the company said about mln dlrs of the gain will be recnogized in the quarter ending june with the remainder derferred and recognized over the remaining life of the serviced mortgage porfolio reuter \n",
            "\n",
            "\n"
          ]
        },
        {
          "output_type": "stream",
          "name": "stderr",
          "text": [
            "[Succeeded / Failed / Skipped / Total] 125 / 46 / 10 / 181:  90%|█████████ | 181/200 [02:33<00:16,  1.18it/s]"
          ]
        },
        {
          "output_type": "stream",
          "name": "stdout",
          "text": [
            "--------------------------------------------- Result 181 ---------------------------------------------\n",
            "[[1 (98%)]] --> [[2 (42%)]]\n",
            "\n",
            "[[national]] intergroup nii [[unit]] raises [[crude]] [[prices]] permian corp a subsidiary of national intergroup [[said]] it raised its [[crude]] oil postings by cts a barrel effective june the company [[said]] its new posted price for west texas intermediate and [[west]] texas sour is dlrs a barrel while light louisiana [[sweet]] is now the price hike follows other increases industrywide reuter \n",
            "\n",
            "[[natioanl]] intergroup nii [[Eunit]] raises [[cRrude]] [[pricEes]] permian corp a subsidiary of national intergroup [[sadi]] it raised its [[crdue]] oil postings by cts a barrel effective june the company [[saad]] its new posted price for west texas intermediate and [[wXst]] texas sour is dlrs a barrel while light louisiana [[swMeet]] is now the price hike follows other increases industrywide reuter \n",
            "\n",
            "\n"
          ]
        },
        {
          "output_type": "stream",
          "name": "stderr",
          "text": [
            "\r[Succeeded / Failed / Skipped / Total] 125 / 47 / 10 / 182:  91%|█████████ | 182/200 [02:36<00:15,  1.16it/s]"
          ]
        },
        {
          "output_type": "stream",
          "name": "stdout",
          "text": [
            "--------------------------------------------- Result 182 ---------------------------------------------\n",
            "[[2 (100%)]] --> [[[FAILED]]]\n",
            "\n",
            "abbott abt sees gains from weaker dollar abbott laboratories inc said its first quarter record results reflected continued productivity improvement higher volume better product mix and a weaker u s dollar abbott reported first quarter earnings rose to a record mln dlrs or cts a share on record sales of one billion dlrs research and development expenses most of which was applied to diagnostic and pharmaceutical products increased by pct to mln dlrs it said sales of pharmaceutical and nutritional products were mln dlrs in the first quarter up pct over a year ago abbott said hospital and laboratory product sales in the first quarter rose pct to mln dlrs it said first quarter sales in domestic markets advanced pct to mln dlrs while international sales jumped pct to mln dlrs abbott said reuter \n",
            "\n",
            "\n"
          ]
        },
        {
          "output_type": "stream",
          "name": "stderr",
          "text": [
            "[Succeeded / Failed / Skipped / Total] 126 / 47 / 10 / 183:  92%|█████████▏| 183/200 [02:37<00:14,  1.17it/s]"
          ]
        },
        {
          "output_type": "stream",
          "name": "stdout",
          "text": [
            "--------------------------------------------- Result 183 ---------------------------------------------\n",
            "[[0 (99%)]] --> [[2 (24%)]]\n",
            "\n",
            "[[circle]] [[express]] cexx o ends overland over o [[buy]] circle [[express]] [[inc]] said [[negotiations]] on its [[proposed]] [[acquisitions]] of overland [[express]] [[inc]] and [[privately]] held continental training services [[inc]] have been terminated by mutual [[agreement]] the [[company]] said the recent declines in stock prices have made it unlikely that the [[transactions]] could qualify as tax [[free]] reorganizations reuter \n",
            "\n",
            "[[circIe]] [[enxpress]] cexx o ends overland over o [[bMuy]] circle [[exBress]] [[Qinc]] said [[Segotiations]] on its [[proWposed]] [[acquVisitions]] of overland [[exXpress]] [[ilnc]] and [[pbivately]] held continental training services [[ic]] have been terminated by mutual [[agreeent]] the [[Wcompany]] said the recent declines in stock prices have made it unlikely that the [[tarnsactions]] could qualify as tax [[fere]] reorganizations reuter \n",
            "\n",
            "\n"
          ]
        },
        {
          "output_type": "stream",
          "name": "stderr",
          "text": [
            "\r[Succeeded / Failed / Skipped / Total] 127 / 47 / 10 / 184:  92%|█████████▏| 184/200 [02:37<00:13,  1.17it/s]"
          ]
        },
        {
          "output_type": "stream",
          "name": "stdout",
          "text": [
            "--------------------------------------------- Result 184 ---------------------------------------------\n",
            "[[7 (90%)]] --> [[6 (33%)]]\n",
            "\n",
            "soviet [[trade]] [[deficit]] with west soars in the soviet [[trade]] [[deficit]] with the west almost quadrupled last year reaching billion roubles compared with mln in official figures showed statistics published by the monthly journal foreign trade showed soviet trade turnover for fell to billion roubles from billion the previous year a drop of pct moscow s trade surplus with east bloc countries continued to grow in western analysts attributed the deficit rise with the west to the world oil price slump which hit moscow s main export and cut hard [[currency]] earnings needed for purchases in the west reuter \n",
            "\n",
            "soviet [[drade]] [[defici]] with west soars in the soviet [[tarde]] [[Ldeficit]] with the west almost quadrupled last year reaching billion roubles compared with mln in official figures showed statistics published by the monthly journal foreign trade showed soviet trade turnover for fell to billion roubles from billion the previous year a drop of pct moscow s trade surplus with east bloc countries continued to grow in western analysts attributed the deficit rise with the west to the world oil price slump which hit moscow s main export and cut hard [[currJency]] earnings needed for purchases in the west reuter \n",
            "\n",
            "\n"
          ]
        },
        {
          "output_type": "stream",
          "name": "stderr",
          "text": [
            "[Succeeded / Failed / Skipped / Total] 129 / 47 / 10 / 186:  93%|█████████▎| 186/200 [02:38<00:11,  1.18it/s]"
          ]
        },
        {
          "output_type": "stream",
          "name": "stdout",
          "text": [
            "--------------------------------------------- Result 185 ---------------------------------------------\n",
            "[[2 (100%)]] --> [[5 (54%)]]\n",
            "\n",
            "[[warner]] [[communications]] [[inc]] wci [[rd]] [[qtr]] [[net]] shr [[cts]] vs [[cts]] [[net]] mln vs mln revs mln vs mln nine mths [[shr]] [[dlrs]] vs [[cts]] [[net]] [[mln]] [[vs]] [[mln]] revs [[billion]] [[vs]] [[billion]] [[reuter]] \n",
            "\n",
            "[[arner]] [[comDmunications]] [[inFc]] wci [[rqd]] [[nqtr]] [[ent]] shr [[cst]] vs [[cIs]] [[Tet]] mln vs mln revs mln vs mln nine mths [[Dshr]] [[Wlrs]] vs [[ctzs]] [[bet]] [[Vln]] [[Rvs]] [[mlo]] revs [[biAlion]] [[Gvs]] [[bilJion]] [[breuter]] \n",
            "\n",
            "\n",
            "--------------------------------------------- Result 186 ---------------------------------------------\n",
            "[[0 (98%)]] --> [[6 (74%)]]\n",
            "\n",
            "raytech ray buys west german [[company]] raytech [[corp]] said it [[acquired]] raybestos industrie produkte gmbh for mln dlrs raybestos with manufacturing facilities in radevormwald west germany produces friction materials for use in clutch and braking applications reuter \n",
            "\n",
            "raytech ray buys west german [[comnpany]] raytech [[crop]] said it [[acquhred]] raybestos industrie produkte gmbh for mln dlrs raybestos with manufacturing facilities in radevormwald west germany produces friction materials for use in clutch and braking applications reuter \n",
            "\n",
            "\n"
          ]
        },
        {
          "output_type": "stream",
          "name": "stderr",
          "text": [
            "[Succeeded / Failed / Skipped / Total] 129 / 48 / 10 / 187:  94%|█████████▎| 187/200 [02:38<00:11,  1.18it/s]"
          ]
        },
        {
          "output_type": "stream",
          "name": "stdout",
          "text": [
            "--------------------------------------------- Result 187 ---------------------------------------------\n",
            "[[2 (100%)]] --> [[[FAILED]]]\n",
            "\n",
            "albany international corp aaica o rd qtr net shr cts vs cts net vs revs mln vs mln nine mths shr cts vs cts net mln vs revs mln vs mln avg shrs mln vs mln reuter \n",
            "\n",
            "\n"
          ]
        },
        {
          "output_type": "stream",
          "name": "stderr",
          "text": [
            "[Succeeded / Failed / Skipped / Total] 131 / 48 / 10 / 189:  94%|█████████▍| 189/200 [02:39<00:09,  1.19it/s]"
          ]
        },
        {
          "output_type": "stream",
          "name": "stdout",
          "text": [
            "--------------------------------------------- Result 188 ---------------------------------------------\n",
            "[[0 (100%)]] --> [[6 (40%)]]\n",
            "\n",
            "[[clark]] copy [[international]] [[buys]] w [[german]] [[stake]] [[clark]] copy [[international]] [[corp]] said it [[acquired]] a [[majority]] interest in datagraph gmbh of lich west germany the [[acquisition]] was made through clark copy s majority owned subsidiary interactive computer aids of norway no price was disclosed for the [[acquisition]] [[clark]] copy said worldwide [[sales]] for datagraph which [[makes]] color [[graphics]] workstations were [[mln]] [[dlrs]] for the [[year]] [[ended]] [[dec]] reuter \n",
            "\n",
            "[[clMark]] copy [[interBnational]] [[bKuys]] w [[gefman]] [[Vtake]] [[claQrk]] copy [[inernational]] [[cdrp]] said it [[acqNuired]] a [[majcority]] interest in datagraph gmbh of lich west germany the [[acqisition]] was made through clark copy s majority owned subsidiary interactive computer aids of norway no price was disclosed for the [[acqbuisition]] [[Kclark]] copy said worldwide [[Gales]] for datagraph which [[Zakes]] color [[graahics]] workstations were [[lmn]] [[Ndlrs]] for the [[Wyear]] [[eAded]] [[ec]] reuter \n",
            "\n",
            "\n",
            "--------------------------------------------- Result 189 ---------------------------------------------\n",
            "[[2 (100%)]] --> [[5 (74%)]]\n",
            "\n",
            "ricoh co ltd rict t year ended march group [[shr]] yen vs [[net]] billion vs billion [[pretax]] billion vs billion operating billion vs billion [[sales]] billion vs billion note no forecast for current year [[reuter]] \n",
            "\n",
            "ricoh co ltd rict t year ended march group [[sfr]] yen vs [[ent]] billion vs billion [[pertax]] billion vs billion operating billion vs billion [[saPes]] billion vs billion note no forecast for current year [[Ieuter]] \n",
            "\n",
            "\n"
          ]
        },
        {
          "output_type": "stream",
          "name": "stderr",
          "text": [
            "\r[Succeeded / Failed / Skipped / Total] 132 / 48 / 10 / 190:  95%|█████████▌| 190/200 [02:39<00:08,  1.19it/s]"
          ]
        },
        {
          "output_type": "stream",
          "name": "stdout",
          "text": [
            "--------------------------------------------- Result 190 ---------------------------------------------\n",
            "[[2 (100%)]] --> [[5 (52%)]]\n",
            "\n",
            "oneok [[inc]] oke nd [[qtr]] feb [[net]] [[shr]] [[dlrs]] vs dlrs [[net]] mln vs mln revs mln vs mln mths shr [[dlrs]] vs [[dlrs]] [[net]] mln vs [[mln]] revs [[mln]] vs [[mln]] note [[company]] [[reports]] [[earnings]] qtrly and [[includes]] the [[previous]] mths figures [[reuter]] \n",
            "\n",
            "oneok [[iRc]] oke nd [[qrt]] feb [[Knet]] [[shNr]] [[dlr]] vs dlrs [[Uet]] mln vs mln revs mln vs mln mths shr [[dlrLs]] vs [[dlrys]] [[ent]] mln vs [[lmn]] revs [[lmn]] vs [[mlK]] note [[cmopany]] [[eports]] [[earings]] qtrly and [[inclMdes]] the [[aprevious]] mths figures [[reuaer]] \n",
            "\n",
            "\n"
          ]
        },
        {
          "output_type": "stream",
          "name": "stderr",
          "text": [
            "[Succeeded / Failed / Skipped / Total] 133 / 48 / 10 / 191:  96%|█████████▌| 191/200 [02:40<00:07,  1.19it/s]"
          ]
        },
        {
          "output_type": "stream",
          "name": "stdout",
          "text": [
            "--------------------------------------------- Result 191 ---------------------------------------------\n",
            "[[0 (100%)]] --> [[6 (30%)]]\n",
            "\n",
            "[[co]] operative cobk o [[completes]] [[acquisition]] [[co]] operative [[bancorp]] [[said]] it [[completed]] the [[acquisition]] of all the [[issued]] and [[outstanding]] [[stock]] of the quincy [[co]] operative bank qbck o under the [[agreement]] quincy stockholders will [[receive]] [[dlrs]] [[cash]] for each [[share]] [[owned]] of the quincy [[co]] operative [[bank]] for a total [[transaction]] of [[approximately]] mln [[dlrs]] [[co]] operative [[said]] reuter \n",
            "\n",
            "[[oc]] operative cobk o [[comletes]] [[acqHisition]] [[mco]] operative [[bacncorp]] [[saPid]] it [[Tompleted]] the [[aacquisition]] of all the [[iessued]] and [[oustanding]] [[itock]] of the quincy [[o]] operative bank qbck o under the [[agUeement]] quincy stockholders will [[Neceive]] [[dlYs]] [[Jash]] for each [[sahre]] [[ownd]] of the quincy [[Zo]] operative [[bUnk]] for a total [[transaciton]] of [[apQproximately]] mln [[Clrs]] [[Dco]] operative [[Osaid]] reuter \n",
            "\n",
            "\n"
          ]
        },
        {
          "output_type": "stream",
          "name": "stderr",
          "text": [
            "\r[Succeeded / Failed / Skipped / Total] 133 / 49 / 10 / 192:  96%|█████████▌| 192/200 [02:40<00:06,  1.19it/s]"
          ]
        },
        {
          "output_type": "stream",
          "name": "stdout",
          "text": [
            "--------------------------------------------- Result 192 ---------------------------------------------\n",
            "[[2 (100%)]] --> [[[FAILED]]]\n",
            "\n",
            "burmah oil profit climbs to mln stg year shr p vs p final div p making p vs p pre tax profit mln stg vs mln net profit before minorities mln vs mln turnover net of duties billion stg vs billion minorities stg vs same extraordinary debit mln vs mln note company s full name is the burmah oil co plc burm l reuter m \n",
            "\n",
            "\n"
          ]
        },
        {
          "output_type": "stream",
          "name": "stderr",
          "text": [
            "[Succeeded / Failed / Skipped / Total] 134 / 49 / 10 / 193:  96%|█████████▋| 193/200 [02:41<00:05,  1.20it/s]"
          ]
        },
        {
          "output_type": "stream",
          "name": "stdout",
          "text": [
            "--------------------------------------------- Result 193 ---------------------------------------------\n",
            "[[2 (100%)]] --> [[0 (29%)]]\n",
            "\n",
            "[[society]] for [[savings]] [[bancorp]] [[inc]] socs o [[rd]] [[qtr]] [[hartford]] conn oct [[shr]] [[cts]] [[vs]] [[cts]] [[net]] [[vs]] nine mths [[shr]] [[dlrs]] [[vs]] [[dlrs]] [[net]] [[mln]] [[vs]] [[mln]] [[reuter]] \n",
            "\n",
            "[[soZiety]] for [[saings]] [[Pancorp]] [[Binc]] socs o [[rRd]] [[qcr]] [[artford]] conn oct [[hr]] [[Mcts]] [[Yvs]] [[cst]] [[Snet]] [[s]] nine mths [[sghr]] [[dlBrs]] [[gvs]] [[dls]] [[ne]] [[lmn]] [[qvs]] [[lmn]] [[eruter]] \n",
            "\n",
            "\n"
          ]
        },
        {
          "output_type": "stream",
          "name": "stderr",
          "text": [
            "\r[Succeeded / Failed / Skipped / Total] 135 / 49 / 10 / 194:  97%|█████████▋| 194/200 [02:41<00:05,  1.20it/s]"
          ]
        },
        {
          "output_type": "stream",
          "name": "stdout",
          "text": [
            "--------------------------------------------- Result 194 ---------------------------------------------\n",
            "[[0 (93%)]] --> [[2 (55%)]]\n",
            "\n",
            "corrected goodyear gt to [[sell]] celeron goodyear tire and rubber co said it expects to [[sell]] its celeron corp oil and gas subsidiary for about two billion dlrs in about two months after the company s annual meeting rober mercer goodyear s chairman and chief executive officer also said goodyear expects to report a profit of more than one dlr a share from continuing operations in the first quarter in the same year ago period goodyear reported a loss of cents a share from continuing operations mercer said about seven companies are interested in buying celeron and they may form a consortium to buy the unit reuter \n",
            "\n",
            "corrected goodyear gt to [[esll]] celeron goodyear tire and rubber co said it expects to [[sel]] its celeron corp oil and gas subsidiary for about two billion dlrs in about two months after the company s annual meeting rober mercer goodyear s chairman and chief executive officer also said goodyear expects to report a profit of more than one dlr a share from continuing operations in the first quarter in the same year ago period goodyear reported a loss of cents a share from continuing operations mercer said about seven companies are interested in buying celeron and they may form a consortium to buy the unit reuter \n",
            "\n",
            "\n"
          ]
        },
        {
          "output_type": "stream",
          "name": "stderr",
          "text": [
            "[Succeeded / Failed / Skipped / Total] 136 / 49 / 10 / 195:  98%|█████████▊| 195/200 [02:42<00:04,  1.20it/s]"
          ]
        },
        {
          "output_type": "stream",
          "name": "stdout",
          "text": [
            "--------------------------------------------- Result 195 ---------------------------------------------\n",
            "[[1 (99%)]] --> [[2 (50%)]]\n",
            "\n",
            "[[petro]] [[canada]] [[crude]] up cts [[canadian]] bbl [[petro]] [[canada]] a [[state]] [[owned]] [[oil]] [[company]] raised the posting prices of [[sweet]] and sour crude oils cts [[canadian]] per barrel [[effective]] [[today]] the company [[said]] the change brings the price of light [[sweet]] crude to dlrs [[canadian]] per barrel and the price of light sour [[crude]] to dlrs [[canadian]] a barrel the [[crude]] [[oils]] are from edmonton swann [[hills]] reuter \n",
            "\n",
            "[[peEro]] [[Wanada]] [[cruQe]] up cts [[canadain]] bbl [[Ppetro]] [[caUnada]] a [[Ktate]] [[onwed]] [[ol]] [[cmopany]] raised the posting prices of [[scweet]] and sour crude oils cts [[anadian]] per barrel [[efZective]] [[tVoday]] the company [[Vsaid]] the change brings the price of light [[oweet]] crude to dlrs [[cadadian]] per barrel and the price of light sour [[Mrude]] to dlrs [[anadian]] a barrel the [[cArude]] [[bils]] are from edmonton swann [[hblls]] reuter \n",
            "\n",
            "\n"
          ]
        },
        {
          "output_type": "stream",
          "name": "stderr",
          "text": [
            "\r[Succeeded / Failed / Skipped / Total] 137 / 49 / 10 / 196:  98%|█████████▊| 196/200 [02:43<00:03,  1.20it/s]"
          ]
        },
        {
          "output_type": "stream",
          "name": "stdout",
          "text": [
            "--------------------------------------------- Result 196 ---------------------------------------------\n",
            "[[0 (100%)]] --> [[6 (42%)]]\n",
            "\n",
            "ibc s [[interstate]] bakeries ibc [[bid]] oversubscribed ibc [[acquisition]] [[corp]] said it [[received]] about interstate bakeries [[corp]] [[shares]] in response to its tender [[offer]] for up to [[shares]] that expired october and it will [[purchase]] about pct of the [[shares]] tendered it said a final proration [[factor]] should be announced and [[payment]] for [[shares]] start october ibc is made up of [[interstate]] [[management]] first [[boston]] [[inc]] [[fbc]] and [[george]] k braun and [[co]] reuter \n",
            "\n",
            "ibc s [[interastate]] bakeries ibc [[bTid]] oversubscribed ibc [[acqisition]] [[crop]] said it [[eceived]] about interstate bakeries [[cDorp]] [[sares]] in response to its tender [[offaer]] for up to [[hsares]] that expired october and it will [[puVchase]] about pct of the [[hsares]] tendered it said a final proration [[facor]] should be announced and [[Qpayment]] for [[sIhares]] start october ibc is made up of [[iEterstate]] [[maJagement]] first [[bUston]] [[ienc]] [[Zbc]] and [[egorge]] k braun and [[cH]] reuter \n",
            "\n",
            "\n"
          ]
        },
        {
          "output_type": "stream",
          "name": "stderr",
          "text": [
            "[Succeeded / Failed / Skipped / Total] 138 / 50 / 10 / 198:  99%|█████████▉| 198/200 [02:47<00:01,  1.18it/s]"
          ]
        },
        {
          "output_type": "stream",
          "name": "stdout",
          "text": [
            "--------------------------------------------- Result 197 ---------------------------------------------\n",
            "[[1 (99%)]] --> [[[FAILED]]]\n",
            "\n",
            "venezuela says opec oil output ver mln bpd caracas oct the current opec oil production is above mln barrels per day bpd and this level threatens the precarious equilibrium of the of oil market venezuelan energy and mines minister arturo hernandez grisanti said on monday he told reporters three or four countries out of opec s members were mainly responsible for the overproduction but declined to identify them opec s production ceiling for the second half of is mln bpd the venezuelan minister said opec s production reached a peak this year when it went over mln bpd in august hernandez grisanti together with the oil ministers of nigeria and indonesia met the heads of state of six mideast gulf countries earlier this month to urge opec members to comply with assigned production quotas he said some of the countries which were complying as venezuela indonesia libya algeria ecuador saudi arabia and iran hernandez declined to say whether the three or four countries he said were overproducing bordered the mideast gulf reuter \n",
            "\n",
            "\n",
            "--------------------------------------------- Result 198 ---------------------------------------------\n",
            "[[0 (100%)]] --> [[2 (54%)]]\n",
            "\n",
            "society savings socs o [[forms]] [[holding]] [[company]] society for savings said it has [[completed]] a [[merger]] into [[newly]] [[formed]] [[holding]] [[company]] society for savings bancorp [[inc]] on a share for share basis reuter \n",
            "\n",
            "society savings socs o [[Horms]] [[holNing]] [[aompany]] society for savings said it has [[cmopleted]] a [[mebrger]] into [[nelwy]] [[folmed]] [[hodling]] [[Tompany]] society for savings bancorp [[ic]] on a share for share basis reuter \n",
            "\n",
            "\n"
          ]
        },
        {
          "output_type": "stream",
          "name": "stderr",
          "text": [
            "[Succeeded / Failed / Skipped / Total] 138 / 51 / 10 / 199: 100%|█████████▉| 199/200 [02:49<00:00,  1.17it/s]"
          ]
        },
        {
          "output_type": "stream",
          "name": "stdout",
          "text": [
            "--------------------------------------------- Result 199 ---------------------------------------------\n",
            "[[5 (99%)]] --> [[[FAILED]]]\n",
            "\n",
            "average yen cd rates fall in latest week average interest rates on yen certificates of deposit cd fell to pct in the week ended april from pct the previous week the bank of japan said new rates previous in brackets average cd rates all banks pct money market certificate mmc ceiling rates for week starting from april pct average cd rates of city trust and long term banks less than days pct days pct average cd rates of city trust and long term banks days pct days pct days unquoted days pct over days pct unqtd average yen bankers acceptance rates of city trust and long term banks to less than days pct days pct days unquoted unqtd reuter \n",
            "\n",
            "\n"
          ]
        },
        {
          "output_type": "stream",
          "name": "stderr",
          "text": [
            "[Succeeded / Failed / Skipped / Total] 139 / 51 / 10 / 200: 100%|██████████| 200/200 [02:50<00:00,  1.17it/s]"
          ]
        },
        {
          "output_type": "stream",
          "name": "stdout",
          "text": [
            "--------------------------------------------- Result 200 ---------------------------------------------\n",
            "[[5 (99%)]] --> [[4 (48%)]]\n",
            "\n",
            "commonwealth [[bank]] [[cuts]] australia prime to [[pct]] the commonwealth bank of australia said it will lower its prime lending [[rate]] to [[pct]] from effective april the bank s new [[rate]] will be the lowest of australia s current prime rates they now range from pct to after a recent series of reductions since late march following an easier trend in short term money market rates two of the three other major trading banks now have prime rates of pct and one of the commonwealth s move reverses an increase from [[pct]] in early february reuter \n",
            "\n",
            "commonwealth [[baXnk]] [[cuFs]] australia prime to [[prt]] the commonwealth bank of australia said it will lower its prime lending [[lrate]] to [[pcRt]] from effective april the bank s new [[aate]] will be the lowest of australia s current prime rates they now range from pct to after a recent series of reductions since late march following an easier trend in short term money market rates two of the three other major trading banks now have prime rates of pct and one of the commonwealth s move reverses an increase from [[ct]] in early february reuter \n",
            "\n",
            "\n",
            "\n",
            "+-------------------------------+--------+\n",
            "| Attack Results                |        |\n",
            "+-------------------------------+--------+\n",
            "| Number of successful attacks: | 139    |\n",
            "| Number of failed attacks:     | 51     |\n",
            "| Number of skipped attacks:    | 10     |\n",
            "| Original accuracy:            | 95.0%  |\n",
            "| Accuracy under attack:        | 25.5%  |\n",
            "| Attack success rate:          | 73.16% |\n",
            "| Average perturbed word %:     | 32.72% |\n",
            "| Average num. words per input: | 73.98  |\n",
            "| Avg num queries:              | 144.14 |\n",
            "+-------------------------------+--------+\n"
          ]
        },
        {
          "output_type": "stream",
          "name": "stderr",
          "text": [
            "\n"
          ]
        },
        {
          "output_type": "execute_result",
          "data": {
            "text/plain": [
              "[<textattack.attack_results.failed_attack_result.FailedAttackResult at 0x7fc58f982790>,\n",
              " <textattack.attack_results.successful_attack_result.SuccessfulAttackResult at 0x7fc59bcc2150>,\n",
              " <textattack.attack_results.successful_attack_result.SuccessfulAttackResult at 0x7fc59bc4d410>,\n",
              " <textattack.attack_results.successful_attack_result.SuccessfulAttackResult at 0x7fc59bfd6e50>,\n",
              " <textattack.attack_results.successful_attack_result.SuccessfulAttackResult at 0x7fc591277dd0>,\n",
              " <textattack.attack_results.failed_attack_result.FailedAttackResult at 0x7fc53dd04150>,\n",
              " <textattack.attack_results.failed_attack_result.FailedAttackResult at 0x7fc59ab64250>,\n",
              " <textattack.attack_results.successful_attack_result.SuccessfulAttackResult at 0x7fc590adb950>,\n",
              " <textattack.attack_results.successful_attack_result.SuccessfulAttackResult at 0x7fc593263610>,\n",
              " <textattack.attack_results.successful_attack_result.SuccessfulAttackResult at 0x7fc59ed26cd0>,\n",
              " <textattack.attack_results.successful_attack_result.SuccessfulAttackResult at 0x7fc592ab0e50>,\n",
              " <textattack.attack_results.successful_attack_result.SuccessfulAttackResult at 0x7fc595375e90>,\n",
              " <textattack.attack_results.successful_attack_result.SuccessfulAttackResult at 0x7fc598fe5050>,\n",
              " <textattack.attack_results.skipped_attack_result.SkippedAttackResult at 0x7fc53e26f8d0>,\n",
              " <textattack.attack_results.successful_attack_result.SuccessfulAttackResult at 0x7fc5884056d0>,\n",
              " <textattack.attack_results.successful_attack_result.SuccessfulAttackResult at 0x7fc5990ed5d0>,\n",
              " <textattack.attack_results.successful_attack_result.SuccessfulAttackResult at 0x7fc58ffcc6d0>,\n",
              " <textattack.attack_results.successful_attack_result.SuccessfulAttackResult at 0x7fc58ffcc550>,\n",
              " <textattack.attack_results.failed_attack_result.FailedAttackResult at 0x7fc59a3cd710>,\n",
              " <textattack.attack_results.successful_attack_result.SuccessfulAttackResult at 0x7fc592c36d10>,\n",
              " <textattack.attack_results.successful_attack_result.SuccessfulAttackResult at 0x7fc59ab87250>,\n",
              " <textattack.attack_results.successful_attack_result.SuccessfulAttackResult at 0x7fc591fe0910>,\n",
              " <textattack.attack_results.successful_attack_result.SuccessfulAttackResult at 0x7fc59a6bfd10>,\n",
              " <textattack.attack_results.failed_attack_result.FailedAttackResult at 0x7fc53e871110>,\n",
              " <textattack.attack_results.successful_attack_result.SuccessfulAttackResult at 0x7fc593811550>,\n",
              " <textattack.attack_results.successful_attack_result.SuccessfulAttackResult at 0x7fc59e6a3190>,\n",
              " <textattack.attack_results.successful_attack_result.SuccessfulAttackResult at 0x7fc5a01c5110>,\n",
              " <textattack.attack_results.successful_attack_result.SuccessfulAttackResult at 0x7fc59dce1f90>,\n",
              " <textattack.attack_results.successful_attack_result.SuccessfulAttackResult at 0x7fc59df39b50>,\n",
              " <textattack.attack_results.successful_attack_result.SuccessfulAttackResult at 0x7fc53d9b42d0>,\n",
              " <textattack.attack_results.successful_attack_result.SuccessfulAttackResult at 0x7fc59f533b10>,\n",
              " <textattack.attack_results.failed_attack_result.FailedAttackResult at 0x7fc59c73b690>,\n",
              " <textattack.attack_results.successful_attack_result.SuccessfulAttackResult at 0x7fc59997bfd0>,\n",
              " <textattack.attack_results.successful_attack_result.SuccessfulAttackResult at 0x7fc592ab0bd0>,\n",
              " <textattack.attack_results.successful_attack_result.SuccessfulAttackResult at 0x7fc59539de10>,\n",
              " <textattack.attack_results.failed_attack_result.FailedAttackResult at 0x7fc59de8a590>,\n",
              " <textattack.attack_results.failed_attack_result.FailedAttackResult at 0x7fc58841ad90>,\n",
              " <textattack.attack_results.failed_attack_result.FailedAttackResult at 0x7fc59015ded0>,\n",
              " <textattack.attack_results.failed_attack_result.FailedAttackResult at 0x7fc59a0be510>,\n",
              " <textattack.attack_results.failed_attack_result.FailedAttackResult at 0x7fc599780bd0>,\n",
              " <textattack.attack_results.successful_attack_result.SuccessfulAttackResult at 0x7fc5884b0ed0>,\n",
              " <textattack.attack_results.successful_attack_result.SuccessfulAttackResult at 0x7fc594d06790>,\n",
              " <textattack.attack_results.successful_attack_result.SuccessfulAttackResult at 0x7fc59b1f5c50>,\n",
              " <textattack.attack_results.successful_attack_result.SuccessfulAttackResult at 0x7fc592839a90>,\n",
              " <textattack.attack_results.skipped_attack_result.SkippedAttackResult at 0x7fc598d67fd0>,\n",
              " <textattack.attack_results.successful_attack_result.SuccessfulAttackResult at 0x7fc597c1a1d0>,\n",
              " <textattack.attack_results.successful_attack_result.SuccessfulAttackResult at 0x7fc59296ee50>,\n",
              " <textattack.attack_results.skipped_attack_result.SkippedAttackResult at 0x7fc59296ed90>,\n",
              " <textattack.attack_results.successful_attack_result.SuccessfulAttackResult at 0x7fc58f28cf50>,\n",
              " <textattack.attack_results.successful_attack_result.SuccessfulAttackResult at 0x7fc53e843990>,\n",
              " <textattack.attack_results.skipped_attack_result.SkippedAttackResult at 0x7fc59d5c3cd0>,\n",
              " <textattack.attack_results.failed_attack_result.FailedAttackResult at 0x7fc53fc1dc90>,\n",
              " <textattack.attack_results.failed_attack_result.FailedAttackResult at 0x7fc59ee15410>,\n",
              " <textattack.attack_results.successful_attack_result.SuccessfulAttackResult at 0x7fc59fd70ed0>,\n",
              " <textattack.attack_results.successful_attack_result.SuccessfulAttackResult at 0x7fc59fd70d90>,\n",
              " <textattack.attack_results.successful_attack_result.SuccessfulAttackResult at 0x7fc5997afa50>,\n",
              " <textattack.attack_results.failed_attack_result.FailedAttackResult at 0x7fc58493a810>,\n",
              " <textattack.attack_results.successful_attack_result.SuccessfulAttackResult at 0x7fc53dc19d90>,\n",
              " <textattack.attack_results.successful_attack_result.SuccessfulAttackResult at 0x7fc53dc53810>,\n",
              " <textattack.attack_results.successful_attack_result.SuccessfulAttackResult at 0x7fc59a4da550>,\n",
              " <textattack.attack_results.successful_attack_result.SuccessfulAttackResult at 0x7fc58ed3a110>,\n",
              " <textattack.attack_results.successful_attack_result.SuccessfulAttackResult at 0x7fc59f651e90>,\n",
              " <textattack.attack_results.successful_attack_result.SuccessfulAttackResult at 0x7fc53db26410>,\n",
              " <textattack.attack_results.successful_attack_result.SuccessfulAttackResult at 0x7fc59ea58590>,\n",
              " <textattack.attack_results.failed_attack_result.FailedAttackResult at 0x7fc595af1290>,\n",
              " <textattack.attack_results.skipped_attack_result.SkippedAttackResult at 0x7fc53ed15190>,\n",
              " <textattack.attack_results.successful_attack_result.SuccessfulAttackResult at 0x7fc53d938b50>,\n",
              " <textattack.attack_results.failed_attack_result.FailedAttackResult at 0x7fc59cd50990>,\n",
              " <textattack.attack_results.successful_attack_result.SuccessfulAttackResult at 0x7fc5887f8a90>,\n",
              " <textattack.attack_results.successful_attack_result.SuccessfulAttackResult at 0x7fc596ebef50>,\n",
              " <textattack.attack_results.successful_attack_result.SuccessfulAttackResult at 0x7fc5a036d050>,\n",
              " <textattack.attack_results.failed_attack_result.FailedAttackResult at 0x7fc595969610>,\n",
              " <textattack.attack_results.successful_attack_result.SuccessfulAttackResult at 0x7fc597eb9e10>,\n",
              " <textattack.attack_results.successful_attack_result.SuccessfulAttackResult at 0x7fc59735f390>,\n",
              " <textattack.attack_results.failed_attack_result.FailedAttackResult at 0x7fc53d2784d0>,\n",
              " <textattack.attack_results.successful_attack_result.SuccessfulAttackResult at 0x7fc5a02caed0>,\n",
              " <textattack.attack_results.successful_attack_result.SuccessfulAttackResult at 0x7fc59e2d7b10>,\n",
              " <textattack.attack_results.successful_attack_result.SuccessfulAttackResult at 0x7fc59fd38190>,\n",
              " <textattack.attack_results.successful_attack_result.SuccessfulAttackResult at 0x7fc59a894a90>,\n",
              " <textattack.attack_results.successful_attack_result.SuccessfulAttackResult at 0x7fc59bb57bd0>,\n",
              " <textattack.attack_results.successful_attack_result.SuccessfulAttackResult at 0x7fc5986ed950>,\n",
              " <textattack.attack_results.failed_attack_result.FailedAttackResult at 0x7fc591fe0490>,\n",
              " <textattack.attack_results.successful_attack_result.SuccessfulAttackResult at 0x7fc594363bd0>,\n",
              " <textattack.attack_results.failed_attack_result.FailedAttackResult at 0x7fc59436f050>,\n",
              " <textattack.attack_results.successful_attack_result.SuccessfulAttackResult at 0x7fc599787650>,\n",
              " <textattack.attack_results.successful_attack_result.SuccessfulAttackResult at 0x7fc59b76e650>,\n",
              " <textattack.attack_results.failed_attack_result.FailedAttackResult at 0x7fc59d316750>,\n",
              " <textattack.attack_results.successful_attack_result.SuccessfulAttackResult at 0x7fc590d0d9d0>,\n",
              " <textattack.attack_results.failed_attack_result.FailedAttackResult at 0x7fc59ea7ddd0>,\n",
              " <textattack.attack_results.successful_attack_result.SuccessfulAttackResult at 0x7fc53e261250>,\n",
              " <textattack.attack_results.failed_attack_result.FailedAttackResult at 0x7fc591fe02d0>,\n",
              " <textattack.attack_results.failed_attack_result.FailedAttackResult at 0x7fc595032c50>,\n",
              " <textattack.attack_results.failed_attack_result.FailedAttackResult at 0x7fc59ac2fc50>,\n",
              " <textattack.attack_results.successful_attack_result.SuccessfulAttackResult at 0x7fc59fd008d0>,\n",
              " <textattack.attack_results.successful_attack_result.SuccessfulAttackResult at 0x7fc5972c88d0>,\n",
              " <textattack.attack_results.failed_attack_result.FailedAttackResult at 0x7fc59bcc84d0>,\n",
              " <textattack.attack_results.successful_attack_result.SuccessfulAttackResult at 0x7fc59ab87c10>,\n",
              " <textattack.attack_results.successful_attack_result.SuccessfulAttackResult at 0x7fc59bccf250>,\n",
              " <textattack.attack_results.failed_attack_result.FailedAttackResult at 0x7fc582e188d0>,\n",
              " <textattack.attack_results.failed_attack_result.FailedAttackResult at 0x7fc594e14e90>,\n",
              " <textattack.attack_results.failed_attack_result.FailedAttackResult at 0x7fc53da44610>,\n",
              " <textattack.attack_results.successful_attack_result.SuccessfulAttackResult at 0x7fc59a144650>,\n",
              " <textattack.attack_results.successful_attack_result.SuccessfulAttackResult at 0x7fc594d023d0>,\n",
              " <textattack.attack_results.successful_attack_result.SuccessfulAttackResult at 0x7fc59aafc410>,\n",
              " <textattack.attack_results.failed_attack_result.FailedAttackResult at 0x7fc59f661b10>,\n",
              " <textattack.attack_results.skipped_attack_result.SkippedAttackResult at 0x7fc59225bfd0>,\n",
              " <textattack.attack_results.successful_attack_result.SuccessfulAttackResult at 0x7fc58a472f10>,\n",
              " <textattack.attack_results.successful_attack_result.SuccessfulAttackResult at 0x7fc53d41dcd0>,\n",
              " <textattack.attack_results.failed_attack_result.FailedAttackResult at 0x7fc597471710>,\n",
              " <textattack.attack_results.successful_attack_result.SuccessfulAttackResult at 0x7fc59bccfdd0>,\n",
              " <textattack.attack_results.successful_attack_result.SuccessfulAttackResult at 0x7fc59ed570d0>,\n",
              " <textattack.attack_results.skipped_attack_result.SkippedAttackResult at 0x7fc53d7042d0>,\n",
              " <textattack.attack_results.successful_attack_result.SuccessfulAttackResult at 0x7fc590091090>,\n",
              " <textattack.attack_results.failed_attack_result.FailedAttackResult at 0x7fc59cad1490>,\n",
              " <textattack.attack_results.successful_attack_result.SuccessfulAttackResult at 0x7fc591352910>,\n",
              " <textattack.attack_results.failed_attack_result.FailedAttackResult at 0x7fc59d71cd90>,\n",
              " <textattack.attack_results.failed_attack_result.FailedAttackResult at 0x7fc59c73b250>,\n",
              " <textattack.attack_results.successful_attack_result.SuccessfulAttackResult at 0x7fc53e117a50>,\n",
              " <textattack.attack_results.successful_attack_result.SuccessfulAttackResult at 0x7fc58f28c750>,\n",
              " <textattack.attack_results.successful_attack_result.SuccessfulAttackResult at 0x7fc59d18a350>,\n",
              " <textattack.attack_results.successful_attack_result.SuccessfulAttackResult at 0x7fc59aaba190>,\n",
              " <textattack.attack_results.successful_attack_result.SuccessfulAttackResult at 0x7fc599bccb10>,\n",
              " <textattack.attack_results.successful_attack_result.SuccessfulAttackResult at 0x7fc59ec08d90>,\n",
              " <textattack.attack_results.successful_attack_result.SuccessfulAttackResult at 0x7fc59296ea50>,\n",
              " <textattack.attack_results.failed_attack_result.FailedAttackResult at 0x7fc53f9a9310>,\n",
              " <textattack.attack_results.successful_attack_result.SuccessfulAttackResult at 0x7fc59a7cab10>,\n",
              " <textattack.attack_results.successful_attack_result.SuccessfulAttackResult at 0x7fc53e3b0f50>,\n",
              " <textattack.attack_results.successful_attack_result.SuccessfulAttackResult at 0x7fc58800abd0>,\n",
              " <textattack.attack_results.successful_attack_result.SuccessfulAttackResult at 0x7fc59c600210>,\n",
              " <textattack.attack_results.failed_attack_result.FailedAttackResult at 0x7fc59c737a50>,\n",
              " <textattack.attack_results.successful_attack_result.SuccessfulAttackResult at 0x7fc591690650>,\n",
              " <textattack.attack_results.successful_attack_result.SuccessfulAttackResult at 0x7fc53db40490>,\n",
              " <textattack.attack_results.successful_attack_result.SuccessfulAttackResult at 0x7fc594cafa50>,\n",
              " <textattack.attack_results.successful_attack_result.SuccessfulAttackResult at 0x7fc58f080b50>,\n",
              " <textattack.attack_results.successful_attack_result.SuccessfulAttackResult at 0x7fc589143a50>,\n",
              " <textattack.attack_results.failed_attack_result.FailedAttackResult at 0x7fc53d005f50>,\n",
              " <textattack.attack_results.successful_attack_result.SuccessfulAttackResult at 0x7fc59f10b9d0>,\n",
              " <textattack.attack_results.successful_attack_result.SuccessfulAttackResult at 0x7fc59bbf7410>,\n",
              " <textattack.attack_results.successful_attack_result.SuccessfulAttackResult at 0x7fc53d0261d0>,\n",
              " <textattack.attack_results.successful_attack_result.SuccessfulAttackResult at 0x7fc594fcd890>,\n",
              " <textattack.attack_results.successful_attack_result.SuccessfulAttackResult at 0x7fc59dfb5a90>,\n",
              " <textattack.attack_results.successful_attack_result.SuccessfulAttackResult at 0x7fc59cb63f50>,\n",
              " <textattack.attack_results.successful_attack_result.SuccessfulAttackResult at 0x7fc59543eb90>,\n",
              " <textattack.attack_results.failed_attack_result.FailedAttackResult at 0x7fc59436fe90>,\n",
              " <textattack.attack_results.successful_attack_result.SuccessfulAttackResult at 0x7fc593cb4090>,\n",
              " <textattack.attack_results.failed_attack_result.FailedAttackResult at 0x7fc59b170110>,\n",
              " <textattack.attack_results.successful_attack_result.SuccessfulAttackResult at 0x7fc59a3d3310>,\n",
              " <textattack.attack_results.successful_attack_result.SuccessfulAttackResult at 0x7fc5a02d5d90>,\n",
              " <textattack.attack_results.successful_attack_result.SuccessfulAttackResult at 0x7fc53dfd20d0>,\n",
              " <textattack.attack_results.successful_attack_result.SuccessfulAttackResult at 0x7fc597434110>,\n",
              " <textattack.attack_results.successful_attack_result.SuccessfulAttackResult at 0x7fc59584e050>,\n",
              " <textattack.attack_results.failed_attack_result.FailedAttackResult at 0x7fc59bbfcf90>,\n",
              " <textattack.attack_results.successful_attack_result.SuccessfulAttackResult at 0x7fc599a30e90>,\n",
              " <textattack.attack_results.successful_attack_result.SuccessfulAttackResult at 0x7fc59d294f90>,\n",
              " <textattack.attack_results.skipped_attack_result.SkippedAttackResult at 0x7fc53e1e9b90>,\n",
              " <textattack.attack_results.successful_attack_result.SuccessfulAttackResult at 0x7fc5a049c710>,\n",
              " <textattack.attack_results.failed_attack_result.FailedAttackResult at 0x7fc53e201250>,\n",
              " <textattack.attack_results.successful_attack_result.SuccessfulAttackResult at 0x7fc592beff90>,\n",
              " <textattack.attack_results.successful_attack_result.SuccessfulAttackResult at 0x7fc59cfe8e50>,\n",
              " <textattack.attack_results.successful_attack_result.SuccessfulAttackResult at 0x7fc58da3e510>,\n",
              " <textattack.attack_results.failed_attack_result.FailedAttackResult at 0x7fc58d6a1f10>,\n",
              " <textattack.attack_results.failed_attack_result.FailedAttackResult at 0x7fc59a10b3d0>,\n",
              " <textattack.attack_results.successful_attack_result.SuccessfulAttackResult at 0x7fc59f39cd90>,\n",
              " <textattack.attack_results.successful_attack_result.SuccessfulAttackResult at 0x7fc598f3ff90>,\n",
              " <textattack.attack_results.successful_attack_result.SuccessfulAttackResult at 0x7fc59569d8d0>,\n",
              " <textattack.attack_results.failed_attack_result.FailedAttackResult at 0x7fc53e0f8b50>,\n",
              " <textattack.attack_results.successful_attack_result.SuccessfulAttackResult at 0x7fc59f3a06d0>,\n",
              " <textattack.attack_results.skipped_attack_result.SkippedAttackResult at 0x7fc59e308650>,\n",
              " <textattack.attack_results.successful_attack_result.SuccessfulAttackResult at 0x7fc59b30ab90>,\n",
              " <textattack.attack_results.failed_attack_result.FailedAttackResult at 0x7fc5953ae4d0>,\n",
              " <textattack.attack_results.successful_attack_result.SuccessfulAttackResult at 0x7fc597892c90>,\n",
              " <textattack.attack_results.successful_attack_result.SuccessfulAttackResult at 0x7fc59df2aa90>,\n",
              " <textattack.attack_results.successful_attack_result.SuccessfulAttackResult at 0x7fc59c9f2450>,\n",
              " <textattack.attack_results.successful_attack_result.SuccessfulAttackResult at 0x7fc593cb4d50>,\n",
              " <textattack.attack_results.failed_attack_result.FailedAttackResult at 0x7fc53df7efd0>,\n",
              " <textattack.attack_results.successful_attack_result.SuccessfulAttackResult at 0x7fc5934dff90>,\n",
              " <textattack.attack_results.successful_attack_result.SuccessfulAttackResult at 0x7fc5949a4050>,\n",
              " <textattack.attack_results.successful_attack_result.SuccessfulAttackResult at 0x7fc53d9fe0d0>,\n",
              " <textattack.attack_results.successful_attack_result.SuccessfulAttackResult at 0x7fc5991d52d0>,\n",
              " <textattack.attack_results.skipped_attack_result.SkippedAttackResult at 0x7fc59bc48a90>,\n",
              " <textattack.attack_results.successful_attack_result.SuccessfulAttackResult at 0x7fc587b53510>,\n",
              " <textattack.attack_results.failed_attack_result.FailedAttackResult at 0x7fc59c20c2d0>,\n",
              " <textattack.attack_results.successful_attack_result.SuccessfulAttackResult at 0x7fc59d66f310>,\n",
              " <textattack.attack_results.successful_attack_result.SuccessfulAttackResult at 0x7fc5924300d0>,\n",
              " <textattack.attack_results.successful_attack_result.SuccessfulAttackResult at 0x7fc53e5bac50>,\n",
              " <textattack.attack_results.successful_attack_result.SuccessfulAttackResult at 0x7fc53cfb8a50>,\n",
              " <textattack.attack_results.failed_attack_result.FailedAttackResult at 0x7fc53dc5e610>,\n",
              " <textattack.attack_results.successful_attack_result.SuccessfulAttackResult at 0x7fc58e919e50>,\n",
              " <textattack.attack_results.successful_attack_result.SuccessfulAttackResult at 0x7fc59c64a690>,\n",
              " <textattack.attack_results.successful_attack_result.SuccessfulAttackResult at 0x7fc59b832c90>,\n",
              " <textattack.attack_results.successful_attack_result.SuccessfulAttackResult at 0x7fc592a94550>,\n",
              " <textattack.attack_results.failed_attack_result.FailedAttackResult at 0x7fc53e9612d0>,\n",
              " <textattack.attack_results.successful_attack_result.SuccessfulAttackResult at 0x7fc59f978cd0>,\n",
              " <textattack.attack_results.successful_attack_result.SuccessfulAttackResult at 0x7fc5921801d0>,\n",
              " <textattack.attack_results.successful_attack_result.SuccessfulAttackResult at 0x7fc5a015fb90>,\n",
              " <textattack.attack_results.successful_attack_result.SuccessfulAttackResult at 0x7fc58ed33b10>,\n",
              " <textattack.attack_results.failed_attack_result.FailedAttackResult at 0x7fc53dc78210>,\n",
              " <textattack.attack_results.successful_attack_result.SuccessfulAttackResult at 0x7fc59dbc9350>,\n",
              " <textattack.attack_results.failed_attack_result.FailedAttackResult at 0x7fc59d29d590>,\n",
              " <textattack.attack_results.successful_attack_result.SuccessfulAttackResult at 0x7fc53e0e13d0>]"
            ]
          },
          "metadata": {},
          "execution_count": 23
        }
      ],
      "source": [
        "from textattack.attack_recipes import TextFoolerJin2019, PWWSRen2019, DeepWordBugGao2018, GeneticAlgorithmAlzantot2018\n",
        "from textattack import Attacker\n",
        "from textattack import AttackArgs\n",
        "\n",
        "# dataset = custom_dataset\n",
        "attack = DeepWordBugGao2018.build(model_wrapper)\n",
        "attack_args = AttackArgs(num_examples=200, log_to_csv=\"lstm_attack_deepwordbug_8_classes_pre_trained.csv\")\n",
        "attacker = Attacker(attack, dataset, attack_args)\n",
        "attacker.attack_dataset()"
      ]
    },
    {
      "cell_type": "code",
      "execution_count": null,
      "metadata": {
        "id": "_ixCGS_80Ipw"
      },
      "outputs": [],
      "source": [
        ""
      ]
    }
  ],
  "metadata": {
    "kernelspec": {
      "display_name": "Python 3",
      "language": "python",
      "name": "python3"
    },
    "language_info": {
      "codemirror_mode": {
        "name": "ipython",
        "version": 3
      },
      "file_extension": ".py",
      "mimetype": "text/x-python",
      "name": "python",
      "nbconvert_exporter": "python",
      "pygments_lexer": "ipython3",
      "version": "3.7.7"
    },
    "colab": {
      "name": "LSTM_HD_Text_Classification.ipynb",
      "provenance": [],
      "machine_shape": "hm",
      "collapsed_sections": []
    },
    "accelerator": "GPU",
    "widgets": {
      "application/vnd.jupyter.widget-state+json": {
        "3137df52422e44dd901a816dcfe5985f": {
          "model_module": "@jupyter-widgets/controls",
          "model_name": "HBoxModel",
          "model_module_version": "1.5.0",
          "state": {
            "_dom_classes": [],
            "_model_module": "@jupyter-widgets/controls",
            "_model_module_version": "1.5.0",
            "_model_name": "HBoxModel",
            "_view_count": null,
            "_view_module": "@jupyter-widgets/controls",
            "_view_module_version": "1.5.0",
            "_view_name": "HBoxView",
            "box_style": "",
            "children": [
              "IPY_MODEL_bb90d58ccfc34ceaa40a112cefe15932",
              "IPY_MODEL_ba1520c31ec54ccd9046b186f1f52fec",
              "IPY_MODEL_550f3a06368e4ade95f9842377e9144f"
            ],
            "layout": "IPY_MODEL_5ee8dd4ca1394403ab933cee152d9bc6"
          }
        },
        "bb90d58ccfc34ceaa40a112cefe15932": {
          "model_module": "@jupyter-widgets/controls",
          "model_name": "HTMLModel",
          "model_module_version": "1.5.0",
          "state": {
            "_dom_classes": [],
            "_model_module": "@jupyter-widgets/controls",
            "_model_module_version": "1.5.0",
            "_model_name": "HTMLModel",
            "_view_count": null,
            "_view_module": "@jupyter-widgets/controls",
            "_view_module_version": "1.5.0",
            "_view_name": "HTMLView",
            "description": "",
            "description_tooltip": null,
            "layout": "IPY_MODEL_565da5d24ece4be08fad865897ebe3d3",
            "placeholder": "​",
            "style": "IPY_MODEL_4fc12982e8a24338bddae5c7cb8d3b32",
            "value": "100%"
          }
        },
        "ba1520c31ec54ccd9046b186f1f52fec": {
          "model_module": "@jupyter-widgets/controls",
          "model_name": "FloatProgressModel",
          "model_module_version": "1.5.0",
          "state": {
            "_dom_classes": [],
            "_model_module": "@jupyter-widgets/controls",
            "_model_module_version": "1.5.0",
            "_model_name": "FloatProgressModel",
            "_view_count": null,
            "_view_module": "@jupyter-widgets/controls",
            "_view_module_version": "1.5.0",
            "_view_name": "ProgressView",
            "bar_style": "success",
            "description": "",
            "description_tooltip": null,
            "layout": "IPY_MODEL_fba249e6ae1848769a7eff10eac72d52",
            "max": 5485,
            "min": 0,
            "orientation": "horizontal",
            "style": "IPY_MODEL_cb1a1ea3f12f4ff1bcca1543a2e95e1c",
            "value": 5485
          }
        },
        "550f3a06368e4ade95f9842377e9144f": {
          "model_module": "@jupyter-widgets/controls",
          "model_name": "HTMLModel",
          "model_module_version": "1.5.0",
          "state": {
            "_dom_classes": [],
            "_model_module": "@jupyter-widgets/controls",
            "_model_module_version": "1.5.0",
            "_model_name": "HTMLModel",
            "_view_count": null,
            "_view_module": "@jupyter-widgets/controls",
            "_view_module_version": "1.5.0",
            "_view_name": "HTMLView",
            "description": "",
            "description_tooltip": null,
            "layout": "IPY_MODEL_96628512fd5f4a5da81de78469435b30",
            "placeholder": "​",
            "style": "IPY_MODEL_a22e2268db1248888a1899b03ca0e7b6",
            "value": " 5485/5485 [00:00&lt;00:00, 8233.64ex/s]"
          }
        },
        "5ee8dd4ca1394403ab933cee152d9bc6": {
          "model_module": "@jupyter-widgets/base",
          "model_name": "LayoutModel",
          "model_module_version": "1.2.0",
          "state": {
            "_model_module": "@jupyter-widgets/base",
            "_model_module_version": "1.2.0",
            "_model_name": "LayoutModel",
            "_view_count": null,
            "_view_module": "@jupyter-widgets/base",
            "_view_module_version": "1.2.0",
            "_view_name": "LayoutView",
            "align_content": null,
            "align_items": null,
            "align_self": null,
            "border": null,
            "bottom": null,
            "display": null,
            "flex": null,
            "flex_flow": null,
            "grid_area": null,
            "grid_auto_columns": null,
            "grid_auto_flow": null,
            "grid_auto_rows": null,
            "grid_column": null,
            "grid_gap": null,
            "grid_row": null,
            "grid_template_areas": null,
            "grid_template_columns": null,
            "grid_template_rows": null,
            "height": null,
            "justify_content": null,
            "justify_items": null,
            "left": null,
            "margin": null,
            "max_height": null,
            "max_width": null,
            "min_height": null,
            "min_width": null,
            "object_fit": null,
            "object_position": null,
            "order": null,
            "overflow": null,
            "overflow_x": null,
            "overflow_y": null,
            "padding": null,
            "right": null,
            "top": null,
            "visibility": null,
            "width": null
          }
        },
        "565da5d24ece4be08fad865897ebe3d3": {
          "model_module": "@jupyter-widgets/base",
          "model_name": "LayoutModel",
          "model_module_version": "1.2.0",
          "state": {
            "_model_module": "@jupyter-widgets/base",
            "_model_module_version": "1.2.0",
            "_model_name": "LayoutModel",
            "_view_count": null,
            "_view_module": "@jupyter-widgets/base",
            "_view_module_version": "1.2.0",
            "_view_name": "LayoutView",
            "align_content": null,
            "align_items": null,
            "align_self": null,
            "border": null,
            "bottom": null,
            "display": null,
            "flex": null,
            "flex_flow": null,
            "grid_area": null,
            "grid_auto_columns": null,
            "grid_auto_flow": null,
            "grid_auto_rows": null,
            "grid_column": null,
            "grid_gap": null,
            "grid_row": null,
            "grid_template_areas": null,
            "grid_template_columns": null,
            "grid_template_rows": null,
            "height": null,
            "justify_content": null,
            "justify_items": null,
            "left": null,
            "margin": null,
            "max_height": null,
            "max_width": null,
            "min_height": null,
            "min_width": null,
            "object_fit": null,
            "object_position": null,
            "order": null,
            "overflow": null,
            "overflow_x": null,
            "overflow_y": null,
            "padding": null,
            "right": null,
            "top": null,
            "visibility": null,
            "width": null
          }
        },
        "4fc12982e8a24338bddae5c7cb8d3b32": {
          "model_module": "@jupyter-widgets/controls",
          "model_name": "DescriptionStyleModel",
          "model_module_version": "1.5.0",
          "state": {
            "_model_module": "@jupyter-widgets/controls",
            "_model_module_version": "1.5.0",
            "_model_name": "DescriptionStyleModel",
            "_view_count": null,
            "_view_module": "@jupyter-widgets/base",
            "_view_module_version": "1.2.0",
            "_view_name": "StyleView",
            "description_width": ""
          }
        },
        "fba249e6ae1848769a7eff10eac72d52": {
          "model_module": "@jupyter-widgets/base",
          "model_name": "LayoutModel",
          "model_module_version": "1.2.0",
          "state": {
            "_model_module": "@jupyter-widgets/base",
            "_model_module_version": "1.2.0",
            "_model_name": "LayoutModel",
            "_view_count": null,
            "_view_module": "@jupyter-widgets/base",
            "_view_module_version": "1.2.0",
            "_view_name": "LayoutView",
            "align_content": null,
            "align_items": null,
            "align_self": null,
            "border": null,
            "bottom": null,
            "display": null,
            "flex": null,
            "flex_flow": null,
            "grid_area": null,
            "grid_auto_columns": null,
            "grid_auto_flow": null,
            "grid_auto_rows": null,
            "grid_column": null,
            "grid_gap": null,
            "grid_row": null,
            "grid_template_areas": null,
            "grid_template_columns": null,
            "grid_template_rows": null,
            "height": null,
            "justify_content": null,
            "justify_items": null,
            "left": null,
            "margin": null,
            "max_height": null,
            "max_width": null,
            "min_height": null,
            "min_width": null,
            "object_fit": null,
            "object_position": null,
            "order": null,
            "overflow": null,
            "overflow_x": null,
            "overflow_y": null,
            "padding": null,
            "right": null,
            "top": null,
            "visibility": null,
            "width": null
          }
        },
        "cb1a1ea3f12f4ff1bcca1543a2e95e1c": {
          "model_module": "@jupyter-widgets/controls",
          "model_name": "ProgressStyleModel",
          "model_module_version": "1.5.0",
          "state": {
            "_model_module": "@jupyter-widgets/controls",
            "_model_module_version": "1.5.0",
            "_model_name": "ProgressStyleModel",
            "_view_count": null,
            "_view_module": "@jupyter-widgets/base",
            "_view_module_version": "1.2.0",
            "_view_name": "StyleView",
            "bar_color": null,
            "description_width": ""
          }
        },
        "96628512fd5f4a5da81de78469435b30": {
          "model_module": "@jupyter-widgets/base",
          "model_name": "LayoutModel",
          "model_module_version": "1.2.0",
          "state": {
            "_model_module": "@jupyter-widgets/base",
            "_model_module_version": "1.2.0",
            "_model_name": "LayoutModel",
            "_view_count": null,
            "_view_module": "@jupyter-widgets/base",
            "_view_module_version": "1.2.0",
            "_view_name": "LayoutView",
            "align_content": null,
            "align_items": null,
            "align_self": null,
            "border": null,
            "bottom": null,
            "display": null,
            "flex": null,
            "flex_flow": null,
            "grid_area": null,
            "grid_auto_columns": null,
            "grid_auto_flow": null,
            "grid_auto_rows": null,
            "grid_column": null,
            "grid_gap": null,
            "grid_row": null,
            "grid_template_areas": null,
            "grid_template_columns": null,
            "grid_template_rows": null,
            "height": null,
            "justify_content": null,
            "justify_items": null,
            "left": null,
            "margin": null,
            "max_height": null,
            "max_width": null,
            "min_height": null,
            "min_width": null,
            "object_fit": null,
            "object_position": null,
            "order": null,
            "overflow": null,
            "overflow_x": null,
            "overflow_y": null,
            "padding": null,
            "right": null,
            "top": null,
            "visibility": null,
            "width": null
          }
        },
        "a22e2268db1248888a1899b03ca0e7b6": {
          "model_module": "@jupyter-widgets/controls",
          "model_name": "DescriptionStyleModel",
          "model_module_version": "1.5.0",
          "state": {
            "_model_module": "@jupyter-widgets/controls",
            "_model_module_version": "1.5.0",
            "_model_name": "DescriptionStyleModel",
            "_view_count": null,
            "_view_module": "@jupyter-widgets/base",
            "_view_module_version": "1.2.0",
            "_view_name": "StyleView",
            "description_width": ""
          }
        },
        "caaf71c3a8d7499d9b3cc20dfe0d0fcf": {
          "model_module": "@jupyter-widgets/controls",
          "model_name": "HBoxModel",
          "model_module_version": "1.5.0",
          "state": {
            "_dom_classes": [],
            "_model_module": "@jupyter-widgets/controls",
            "_model_module_version": "1.5.0",
            "_model_name": "HBoxModel",
            "_view_count": null,
            "_view_module": "@jupyter-widgets/controls",
            "_view_module_version": "1.5.0",
            "_view_name": "HBoxView",
            "box_style": "",
            "children": [
              "IPY_MODEL_0686c31aa0c440c587af5a6d96119e32",
              "IPY_MODEL_bfc0363e83c9466498ba71c9ae3d625a",
              "IPY_MODEL_59424aae5fb2463ab761bc30a0e92528"
            ],
            "layout": "IPY_MODEL_a74de4941fb74ddb92b9ca15868e1440"
          }
        },
        "0686c31aa0c440c587af5a6d96119e32": {
          "model_module": "@jupyter-widgets/controls",
          "model_name": "HTMLModel",
          "model_module_version": "1.5.0",
          "state": {
            "_dom_classes": [],
            "_model_module": "@jupyter-widgets/controls",
            "_model_module_version": "1.5.0",
            "_model_name": "HTMLModel",
            "_view_count": null,
            "_view_module": "@jupyter-widgets/controls",
            "_view_module_version": "1.5.0",
            "_view_name": "HTMLView",
            "description": "",
            "description_tooltip": null,
            "layout": "IPY_MODEL_13897d141e6d40c3bf972c5bb2eacbd3",
            "placeholder": "​",
            "style": "IPY_MODEL_eb6df43c9e7b46d18742e949f6a3f290",
            "value": "100%"
          }
        },
        "bfc0363e83c9466498ba71c9ae3d625a": {
          "model_module": "@jupyter-widgets/controls",
          "model_name": "FloatProgressModel",
          "model_module_version": "1.5.0",
          "state": {
            "_dom_classes": [],
            "_model_module": "@jupyter-widgets/controls",
            "_model_module_version": "1.5.0",
            "_model_name": "FloatProgressModel",
            "_view_count": null,
            "_view_module": "@jupyter-widgets/controls",
            "_view_module_version": "1.5.0",
            "_view_name": "ProgressView",
            "bar_style": "success",
            "description": "",
            "description_tooltip": null,
            "layout": "IPY_MODEL_2989e6b050714c24ba8e8e21d3c3fde3",
            "max": 2201,
            "min": 0,
            "orientation": "horizontal",
            "style": "IPY_MODEL_e76626ad6faa4aa48feac3c4bad4a761",
            "value": 2201
          }
        },
        "59424aae5fb2463ab761bc30a0e92528": {
          "model_module": "@jupyter-widgets/controls",
          "model_name": "HTMLModel",
          "model_module_version": "1.5.0",
          "state": {
            "_dom_classes": [],
            "_model_module": "@jupyter-widgets/controls",
            "_model_module_version": "1.5.0",
            "_model_name": "HTMLModel",
            "_view_count": null,
            "_view_module": "@jupyter-widgets/controls",
            "_view_module_version": "1.5.0",
            "_view_name": "HTMLView",
            "description": "",
            "description_tooltip": null,
            "layout": "IPY_MODEL_32881af61a2c45849b7be244c2ff1996",
            "placeholder": "​",
            "style": "IPY_MODEL_e3c75c06017441969f5b73ab166fbee8",
            "value": " 2201/2201 [00:00&lt;00:00, 7509.91ex/s]"
          }
        },
        "a74de4941fb74ddb92b9ca15868e1440": {
          "model_module": "@jupyter-widgets/base",
          "model_name": "LayoutModel",
          "model_module_version": "1.2.0",
          "state": {
            "_model_module": "@jupyter-widgets/base",
            "_model_module_version": "1.2.0",
            "_model_name": "LayoutModel",
            "_view_count": null,
            "_view_module": "@jupyter-widgets/base",
            "_view_module_version": "1.2.0",
            "_view_name": "LayoutView",
            "align_content": null,
            "align_items": null,
            "align_self": null,
            "border": null,
            "bottom": null,
            "display": null,
            "flex": null,
            "flex_flow": null,
            "grid_area": null,
            "grid_auto_columns": null,
            "grid_auto_flow": null,
            "grid_auto_rows": null,
            "grid_column": null,
            "grid_gap": null,
            "grid_row": null,
            "grid_template_areas": null,
            "grid_template_columns": null,
            "grid_template_rows": null,
            "height": null,
            "justify_content": null,
            "justify_items": null,
            "left": null,
            "margin": null,
            "max_height": null,
            "max_width": null,
            "min_height": null,
            "min_width": null,
            "object_fit": null,
            "object_position": null,
            "order": null,
            "overflow": null,
            "overflow_x": null,
            "overflow_y": null,
            "padding": null,
            "right": null,
            "top": null,
            "visibility": null,
            "width": null
          }
        },
        "13897d141e6d40c3bf972c5bb2eacbd3": {
          "model_module": "@jupyter-widgets/base",
          "model_name": "LayoutModel",
          "model_module_version": "1.2.0",
          "state": {
            "_model_module": "@jupyter-widgets/base",
            "_model_module_version": "1.2.0",
            "_model_name": "LayoutModel",
            "_view_count": null,
            "_view_module": "@jupyter-widgets/base",
            "_view_module_version": "1.2.0",
            "_view_name": "LayoutView",
            "align_content": null,
            "align_items": null,
            "align_self": null,
            "border": null,
            "bottom": null,
            "display": null,
            "flex": null,
            "flex_flow": null,
            "grid_area": null,
            "grid_auto_columns": null,
            "grid_auto_flow": null,
            "grid_auto_rows": null,
            "grid_column": null,
            "grid_gap": null,
            "grid_row": null,
            "grid_template_areas": null,
            "grid_template_columns": null,
            "grid_template_rows": null,
            "height": null,
            "justify_content": null,
            "justify_items": null,
            "left": null,
            "margin": null,
            "max_height": null,
            "max_width": null,
            "min_height": null,
            "min_width": null,
            "object_fit": null,
            "object_position": null,
            "order": null,
            "overflow": null,
            "overflow_x": null,
            "overflow_y": null,
            "padding": null,
            "right": null,
            "top": null,
            "visibility": null,
            "width": null
          }
        },
        "eb6df43c9e7b46d18742e949f6a3f290": {
          "model_module": "@jupyter-widgets/controls",
          "model_name": "DescriptionStyleModel",
          "model_module_version": "1.5.0",
          "state": {
            "_model_module": "@jupyter-widgets/controls",
            "_model_module_version": "1.5.0",
            "_model_name": "DescriptionStyleModel",
            "_view_count": null,
            "_view_module": "@jupyter-widgets/base",
            "_view_module_version": "1.2.0",
            "_view_name": "StyleView",
            "description_width": ""
          }
        },
        "2989e6b050714c24ba8e8e21d3c3fde3": {
          "model_module": "@jupyter-widgets/base",
          "model_name": "LayoutModel",
          "model_module_version": "1.2.0",
          "state": {
            "_model_module": "@jupyter-widgets/base",
            "_model_module_version": "1.2.0",
            "_model_name": "LayoutModel",
            "_view_count": null,
            "_view_module": "@jupyter-widgets/base",
            "_view_module_version": "1.2.0",
            "_view_name": "LayoutView",
            "align_content": null,
            "align_items": null,
            "align_self": null,
            "border": null,
            "bottom": null,
            "display": null,
            "flex": null,
            "flex_flow": null,
            "grid_area": null,
            "grid_auto_columns": null,
            "grid_auto_flow": null,
            "grid_auto_rows": null,
            "grid_column": null,
            "grid_gap": null,
            "grid_row": null,
            "grid_template_areas": null,
            "grid_template_columns": null,
            "grid_template_rows": null,
            "height": null,
            "justify_content": null,
            "justify_items": null,
            "left": null,
            "margin": null,
            "max_height": null,
            "max_width": null,
            "min_height": null,
            "min_width": null,
            "object_fit": null,
            "object_position": null,
            "order": null,
            "overflow": null,
            "overflow_x": null,
            "overflow_y": null,
            "padding": null,
            "right": null,
            "top": null,
            "visibility": null,
            "width": null
          }
        },
        "e76626ad6faa4aa48feac3c4bad4a761": {
          "model_module": "@jupyter-widgets/controls",
          "model_name": "ProgressStyleModel",
          "model_module_version": "1.5.0",
          "state": {
            "_model_module": "@jupyter-widgets/controls",
            "_model_module_version": "1.5.0",
            "_model_name": "ProgressStyleModel",
            "_view_count": null,
            "_view_module": "@jupyter-widgets/base",
            "_view_module_version": "1.2.0",
            "_view_name": "StyleView",
            "bar_color": null,
            "description_width": ""
          }
        },
        "32881af61a2c45849b7be244c2ff1996": {
          "model_module": "@jupyter-widgets/base",
          "model_name": "LayoutModel",
          "model_module_version": "1.2.0",
          "state": {
            "_model_module": "@jupyter-widgets/base",
            "_model_module_version": "1.2.0",
            "_model_name": "LayoutModel",
            "_view_count": null,
            "_view_module": "@jupyter-widgets/base",
            "_view_module_version": "1.2.0",
            "_view_name": "LayoutView",
            "align_content": null,
            "align_items": null,
            "align_self": null,
            "border": null,
            "bottom": null,
            "display": null,
            "flex": null,
            "flex_flow": null,
            "grid_area": null,
            "grid_auto_columns": null,
            "grid_auto_flow": null,
            "grid_auto_rows": null,
            "grid_column": null,
            "grid_gap": null,
            "grid_row": null,
            "grid_template_areas": null,
            "grid_template_columns": null,
            "grid_template_rows": null,
            "height": null,
            "justify_content": null,
            "justify_items": null,
            "left": null,
            "margin": null,
            "max_height": null,
            "max_width": null,
            "min_height": null,
            "min_width": null,
            "object_fit": null,
            "object_position": null,
            "order": null,
            "overflow": null,
            "overflow_x": null,
            "overflow_y": null,
            "padding": null,
            "right": null,
            "top": null,
            "visibility": null,
            "width": null
          }
        },
        "e3c75c06017441969f5b73ab166fbee8": {
          "model_module": "@jupyter-widgets/controls",
          "model_name": "DescriptionStyleModel",
          "model_module_version": "1.5.0",
          "state": {
            "_model_module": "@jupyter-widgets/controls",
            "_model_module_version": "1.5.0",
            "_model_name": "DescriptionStyleModel",
            "_view_count": null,
            "_view_module": "@jupyter-widgets/base",
            "_view_module_version": "1.2.0",
            "_view_name": "StyleView",
            "description_width": ""
          }
        },
        "43d0a0cd21f443b69a8525ab709318f9": {
          "model_module": "@jupyter-widgets/controls",
          "model_name": "HBoxModel",
          "model_module_version": "1.5.0",
          "state": {
            "_dom_classes": [],
            "_model_module": "@jupyter-widgets/controls",
            "_model_module_version": "1.5.0",
            "_model_name": "HBoxModel",
            "_view_count": null,
            "_view_module": "@jupyter-widgets/controls",
            "_view_module_version": "1.5.0",
            "_view_name": "HBoxView",
            "box_style": "",
            "children": [
              "IPY_MODEL_112d5cdf80644ea79514326133ecc109",
              "IPY_MODEL_3d20fde968e744099b865837213bf57d",
              "IPY_MODEL_7415328737ea46b399e9df84657b9904"
            ],
            "layout": "IPY_MODEL_87c95152b6aa4af38accdd12efa10288"
          }
        },
        "112d5cdf80644ea79514326133ecc109": {
          "model_module": "@jupyter-widgets/controls",
          "model_name": "HTMLModel",
          "model_module_version": "1.5.0",
          "state": {
            "_dom_classes": [],
            "_model_module": "@jupyter-widgets/controls",
            "_model_module_version": "1.5.0",
            "_model_name": "HTMLModel",
            "_view_count": null,
            "_view_module": "@jupyter-widgets/controls",
            "_view_module_version": "1.5.0",
            "_view_name": "HTMLView",
            "description": "",
            "description_tooltip": null,
            "layout": "IPY_MODEL_d3f2ef0983384bea99ceccacb10fbf59",
            "placeholder": "​",
            "style": "IPY_MODEL_d1e29df51a30451da42dc6f9a0be7f37",
            "value": "100%"
          }
        },
        "3d20fde968e744099b865837213bf57d": {
          "model_module": "@jupyter-widgets/controls",
          "model_name": "FloatProgressModel",
          "model_module_version": "1.5.0",
          "state": {
            "_dom_classes": [],
            "_model_module": "@jupyter-widgets/controls",
            "_model_module_version": "1.5.0",
            "_model_name": "FloatProgressModel",
            "_view_count": null,
            "_view_module": "@jupyter-widgets/controls",
            "_view_module_version": "1.5.0",
            "_view_name": "ProgressView",
            "bar_style": "success",
            "description": "",
            "description_tooltip": null,
            "layout": "IPY_MODEL_9855f43a73004075a40819917a461db0",
            "max": 5485,
            "min": 0,
            "orientation": "horizontal",
            "style": "IPY_MODEL_7df91cfcb36646c1ba7dd851a11221b7",
            "value": 5485
          }
        },
        "7415328737ea46b399e9df84657b9904": {
          "model_module": "@jupyter-widgets/controls",
          "model_name": "HTMLModel",
          "model_module_version": "1.5.0",
          "state": {
            "_dom_classes": [],
            "_model_module": "@jupyter-widgets/controls",
            "_model_module_version": "1.5.0",
            "_model_name": "HTMLModel",
            "_view_count": null,
            "_view_module": "@jupyter-widgets/controls",
            "_view_module_version": "1.5.0",
            "_view_name": "HTMLView",
            "description": "",
            "description_tooltip": null,
            "layout": "IPY_MODEL_eef4227989e347cf810a9d5af6d12699",
            "placeholder": "​",
            "style": "IPY_MODEL_0369a3ed66044cf5aca0861ceb4ba24a",
            "value": " 5485/5485 [00:01&lt;00:00, 4154.03ex/s]"
          }
        },
        "87c95152b6aa4af38accdd12efa10288": {
          "model_module": "@jupyter-widgets/base",
          "model_name": "LayoutModel",
          "model_module_version": "1.2.0",
          "state": {
            "_model_module": "@jupyter-widgets/base",
            "_model_module_version": "1.2.0",
            "_model_name": "LayoutModel",
            "_view_count": null,
            "_view_module": "@jupyter-widgets/base",
            "_view_module_version": "1.2.0",
            "_view_name": "LayoutView",
            "align_content": null,
            "align_items": null,
            "align_self": null,
            "border": null,
            "bottom": null,
            "display": null,
            "flex": null,
            "flex_flow": null,
            "grid_area": null,
            "grid_auto_columns": null,
            "grid_auto_flow": null,
            "grid_auto_rows": null,
            "grid_column": null,
            "grid_gap": null,
            "grid_row": null,
            "grid_template_areas": null,
            "grid_template_columns": null,
            "grid_template_rows": null,
            "height": null,
            "justify_content": null,
            "justify_items": null,
            "left": null,
            "margin": null,
            "max_height": null,
            "max_width": null,
            "min_height": null,
            "min_width": null,
            "object_fit": null,
            "object_position": null,
            "order": null,
            "overflow": null,
            "overflow_x": null,
            "overflow_y": null,
            "padding": null,
            "right": null,
            "top": null,
            "visibility": null,
            "width": null
          }
        },
        "d3f2ef0983384bea99ceccacb10fbf59": {
          "model_module": "@jupyter-widgets/base",
          "model_name": "LayoutModel",
          "model_module_version": "1.2.0",
          "state": {
            "_model_module": "@jupyter-widgets/base",
            "_model_module_version": "1.2.0",
            "_model_name": "LayoutModel",
            "_view_count": null,
            "_view_module": "@jupyter-widgets/base",
            "_view_module_version": "1.2.0",
            "_view_name": "LayoutView",
            "align_content": null,
            "align_items": null,
            "align_self": null,
            "border": null,
            "bottom": null,
            "display": null,
            "flex": null,
            "flex_flow": null,
            "grid_area": null,
            "grid_auto_columns": null,
            "grid_auto_flow": null,
            "grid_auto_rows": null,
            "grid_column": null,
            "grid_gap": null,
            "grid_row": null,
            "grid_template_areas": null,
            "grid_template_columns": null,
            "grid_template_rows": null,
            "height": null,
            "justify_content": null,
            "justify_items": null,
            "left": null,
            "margin": null,
            "max_height": null,
            "max_width": null,
            "min_height": null,
            "min_width": null,
            "object_fit": null,
            "object_position": null,
            "order": null,
            "overflow": null,
            "overflow_x": null,
            "overflow_y": null,
            "padding": null,
            "right": null,
            "top": null,
            "visibility": null,
            "width": null
          }
        },
        "d1e29df51a30451da42dc6f9a0be7f37": {
          "model_module": "@jupyter-widgets/controls",
          "model_name": "DescriptionStyleModel",
          "model_module_version": "1.5.0",
          "state": {
            "_model_module": "@jupyter-widgets/controls",
            "_model_module_version": "1.5.0",
            "_model_name": "DescriptionStyleModel",
            "_view_count": null,
            "_view_module": "@jupyter-widgets/base",
            "_view_module_version": "1.2.0",
            "_view_name": "StyleView",
            "description_width": ""
          }
        },
        "9855f43a73004075a40819917a461db0": {
          "model_module": "@jupyter-widgets/base",
          "model_name": "LayoutModel",
          "model_module_version": "1.2.0",
          "state": {
            "_model_module": "@jupyter-widgets/base",
            "_model_module_version": "1.2.0",
            "_model_name": "LayoutModel",
            "_view_count": null,
            "_view_module": "@jupyter-widgets/base",
            "_view_module_version": "1.2.0",
            "_view_name": "LayoutView",
            "align_content": null,
            "align_items": null,
            "align_self": null,
            "border": null,
            "bottom": null,
            "display": null,
            "flex": null,
            "flex_flow": null,
            "grid_area": null,
            "grid_auto_columns": null,
            "grid_auto_flow": null,
            "grid_auto_rows": null,
            "grid_column": null,
            "grid_gap": null,
            "grid_row": null,
            "grid_template_areas": null,
            "grid_template_columns": null,
            "grid_template_rows": null,
            "height": null,
            "justify_content": null,
            "justify_items": null,
            "left": null,
            "margin": null,
            "max_height": null,
            "max_width": null,
            "min_height": null,
            "min_width": null,
            "object_fit": null,
            "object_position": null,
            "order": null,
            "overflow": null,
            "overflow_x": null,
            "overflow_y": null,
            "padding": null,
            "right": null,
            "top": null,
            "visibility": null,
            "width": null
          }
        },
        "7df91cfcb36646c1ba7dd851a11221b7": {
          "model_module": "@jupyter-widgets/controls",
          "model_name": "ProgressStyleModel",
          "model_module_version": "1.5.0",
          "state": {
            "_model_module": "@jupyter-widgets/controls",
            "_model_module_version": "1.5.0",
            "_model_name": "ProgressStyleModel",
            "_view_count": null,
            "_view_module": "@jupyter-widgets/base",
            "_view_module_version": "1.2.0",
            "_view_name": "StyleView",
            "bar_color": null,
            "description_width": ""
          }
        },
        "eef4227989e347cf810a9d5af6d12699": {
          "model_module": "@jupyter-widgets/base",
          "model_name": "LayoutModel",
          "model_module_version": "1.2.0",
          "state": {
            "_model_module": "@jupyter-widgets/base",
            "_model_module_version": "1.2.0",
            "_model_name": "LayoutModel",
            "_view_count": null,
            "_view_module": "@jupyter-widgets/base",
            "_view_module_version": "1.2.0",
            "_view_name": "LayoutView",
            "align_content": null,
            "align_items": null,
            "align_self": null,
            "border": null,
            "bottom": null,
            "display": null,
            "flex": null,
            "flex_flow": null,
            "grid_area": null,
            "grid_auto_columns": null,
            "grid_auto_flow": null,
            "grid_auto_rows": null,
            "grid_column": null,
            "grid_gap": null,
            "grid_row": null,
            "grid_template_areas": null,
            "grid_template_columns": null,
            "grid_template_rows": null,
            "height": null,
            "justify_content": null,
            "justify_items": null,
            "left": null,
            "margin": null,
            "max_height": null,
            "max_width": null,
            "min_height": null,
            "min_width": null,
            "object_fit": null,
            "object_position": null,
            "order": null,
            "overflow": null,
            "overflow_x": null,
            "overflow_y": null,
            "padding": null,
            "right": null,
            "top": null,
            "visibility": null,
            "width": null
          }
        },
        "0369a3ed66044cf5aca0861ceb4ba24a": {
          "model_module": "@jupyter-widgets/controls",
          "model_name": "DescriptionStyleModel",
          "model_module_version": "1.5.0",
          "state": {
            "_model_module": "@jupyter-widgets/controls",
            "_model_module_version": "1.5.0",
            "_model_name": "DescriptionStyleModel",
            "_view_count": null,
            "_view_module": "@jupyter-widgets/base",
            "_view_module_version": "1.2.0",
            "_view_name": "StyleView",
            "description_width": ""
          }
        },
        "ae3d043381914e7e910d22ec9638b367": {
          "model_module": "@jupyter-widgets/controls",
          "model_name": "HBoxModel",
          "model_module_version": "1.5.0",
          "state": {
            "_dom_classes": [],
            "_model_module": "@jupyter-widgets/controls",
            "_model_module_version": "1.5.0",
            "_model_name": "HBoxModel",
            "_view_count": null,
            "_view_module": "@jupyter-widgets/controls",
            "_view_module_version": "1.5.0",
            "_view_name": "HBoxView",
            "box_style": "",
            "children": [
              "IPY_MODEL_28af9aa2aadc483a8794d98f8f6f0cd3",
              "IPY_MODEL_783cdc14bbfd4cc5975c6ad5e39d9f34",
              "IPY_MODEL_3bf7c1e13e2f4f119e2b8d175d4928c2"
            ],
            "layout": "IPY_MODEL_88f0aa1bb5c5489c8d8234487644dd7b"
          }
        },
        "28af9aa2aadc483a8794d98f8f6f0cd3": {
          "model_module": "@jupyter-widgets/controls",
          "model_name": "HTMLModel",
          "model_module_version": "1.5.0",
          "state": {
            "_dom_classes": [],
            "_model_module": "@jupyter-widgets/controls",
            "_model_module_version": "1.5.0",
            "_model_name": "HTMLModel",
            "_view_count": null,
            "_view_module": "@jupyter-widgets/controls",
            "_view_module_version": "1.5.0",
            "_view_name": "HTMLView",
            "description": "",
            "description_tooltip": null,
            "layout": "IPY_MODEL_479249532cdd4decb17012f9ddd9763c",
            "placeholder": "​",
            "style": "IPY_MODEL_8bdfeea23ed4417196635417f4dc6635",
            "value": "100%"
          }
        },
        "783cdc14bbfd4cc5975c6ad5e39d9f34": {
          "model_module": "@jupyter-widgets/controls",
          "model_name": "FloatProgressModel",
          "model_module_version": "1.5.0",
          "state": {
            "_dom_classes": [],
            "_model_module": "@jupyter-widgets/controls",
            "_model_module_version": "1.5.0",
            "_model_name": "FloatProgressModel",
            "_view_count": null,
            "_view_module": "@jupyter-widgets/controls",
            "_view_module_version": "1.5.0",
            "_view_name": "ProgressView",
            "bar_style": "success",
            "description": "",
            "description_tooltip": null,
            "layout": "IPY_MODEL_ee5389066ff644969776d1f187e4bbd1",
            "max": 2201,
            "min": 0,
            "orientation": "horizontal",
            "style": "IPY_MODEL_cf75ea1625d0444880e5d614e68a3627",
            "value": 2201
          }
        },
        "3bf7c1e13e2f4f119e2b8d175d4928c2": {
          "model_module": "@jupyter-widgets/controls",
          "model_name": "HTMLModel",
          "model_module_version": "1.5.0",
          "state": {
            "_dom_classes": [],
            "_model_module": "@jupyter-widgets/controls",
            "_model_module_version": "1.5.0",
            "_model_name": "HTMLModel",
            "_view_count": null,
            "_view_module": "@jupyter-widgets/controls",
            "_view_module_version": "1.5.0",
            "_view_name": "HTMLView",
            "description": "",
            "description_tooltip": null,
            "layout": "IPY_MODEL_45f9fb22ca8a48e6aba1ea4901b0291e",
            "placeholder": "​",
            "style": "IPY_MODEL_1691d859c8c14565bd24037c05dd7b02",
            "value": " 2201/2201 [00:00&lt;00:00, 5149.66ex/s]"
          }
        },
        "88f0aa1bb5c5489c8d8234487644dd7b": {
          "model_module": "@jupyter-widgets/base",
          "model_name": "LayoutModel",
          "model_module_version": "1.2.0",
          "state": {
            "_model_module": "@jupyter-widgets/base",
            "_model_module_version": "1.2.0",
            "_model_name": "LayoutModel",
            "_view_count": null,
            "_view_module": "@jupyter-widgets/base",
            "_view_module_version": "1.2.0",
            "_view_name": "LayoutView",
            "align_content": null,
            "align_items": null,
            "align_self": null,
            "border": null,
            "bottom": null,
            "display": null,
            "flex": null,
            "flex_flow": null,
            "grid_area": null,
            "grid_auto_columns": null,
            "grid_auto_flow": null,
            "grid_auto_rows": null,
            "grid_column": null,
            "grid_gap": null,
            "grid_row": null,
            "grid_template_areas": null,
            "grid_template_columns": null,
            "grid_template_rows": null,
            "height": null,
            "justify_content": null,
            "justify_items": null,
            "left": null,
            "margin": null,
            "max_height": null,
            "max_width": null,
            "min_height": null,
            "min_width": null,
            "object_fit": null,
            "object_position": null,
            "order": null,
            "overflow": null,
            "overflow_x": null,
            "overflow_y": null,
            "padding": null,
            "right": null,
            "top": null,
            "visibility": null,
            "width": null
          }
        },
        "479249532cdd4decb17012f9ddd9763c": {
          "model_module": "@jupyter-widgets/base",
          "model_name": "LayoutModel",
          "model_module_version": "1.2.0",
          "state": {
            "_model_module": "@jupyter-widgets/base",
            "_model_module_version": "1.2.0",
            "_model_name": "LayoutModel",
            "_view_count": null,
            "_view_module": "@jupyter-widgets/base",
            "_view_module_version": "1.2.0",
            "_view_name": "LayoutView",
            "align_content": null,
            "align_items": null,
            "align_self": null,
            "border": null,
            "bottom": null,
            "display": null,
            "flex": null,
            "flex_flow": null,
            "grid_area": null,
            "grid_auto_columns": null,
            "grid_auto_flow": null,
            "grid_auto_rows": null,
            "grid_column": null,
            "grid_gap": null,
            "grid_row": null,
            "grid_template_areas": null,
            "grid_template_columns": null,
            "grid_template_rows": null,
            "height": null,
            "justify_content": null,
            "justify_items": null,
            "left": null,
            "margin": null,
            "max_height": null,
            "max_width": null,
            "min_height": null,
            "min_width": null,
            "object_fit": null,
            "object_position": null,
            "order": null,
            "overflow": null,
            "overflow_x": null,
            "overflow_y": null,
            "padding": null,
            "right": null,
            "top": null,
            "visibility": null,
            "width": null
          }
        },
        "8bdfeea23ed4417196635417f4dc6635": {
          "model_module": "@jupyter-widgets/controls",
          "model_name": "DescriptionStyleModel",
          "model_module_version": "1.5.0",
          "state": {
            "_model_module": "@jupyter-widgets/controls",
            "_model_module_version": "1.5.0",
            "_model_name": "DescriptionStyleModel",
            "_view_count": null,
            "_view_module": "@jupyter-widgets/base",
            "_view_module_version": "1.2.0",
            "_view_name": "StyleView",
            "description_width": ""
          }
        },
        "ee5389066ff644969776d1f187e4bbd1": {
          "model_module": "@jupyter-widgets/base",
          "model_name": "LayoutModel",
          "model_module_version": "1.2.0",
          "state": {
            "_model_module": "@jupyter-widgets/base",
            "_model_module_version": "1.2.0",
            "_model_name": "LayoutModel",
            "_view_count": null,
            "_view_module": "@jupyter-widgets/base",
            "_view_module_version": "1.2.0",
            "_view_name": "LayoutView",
            "align_content": null,
            "align_items": null,
            "align_self": null,
            "border": null,
            "bottom": null,
            "display": null,
            "flex": null,
            "flex_flow": null,
            "grid_area": null,
            "grid_auto_columns": null,
            "grid_auto_flow": null,
            "grid_auto_rows": null,
            "grid_column": null,
            "grid_gap": null,
            "grid_row": null,
            "grid_template_areas": null,
            "grid_template_columns": null,
            "grid_template_rows": null,
            "height": null,
            "justify_content": null,
            "justify_items": null,
            "left": null,
            "margin": null,
            "max_height": null,
            "max_width": null,
            "min_height": null,
            "min_width": null,
            "object_fit": null,
            "object_position": null,
            "order": null,
            "overflow": null,
            "overflow_x": null,
            "overflow_y": null,
            "padding": null,
            "right": null,
            "top": null,
            "visibility": null,
            "width": null
          }
        },
        "cf75ea1625d0444880e5d614e68a3627": {
          "model_module": "@jupyter-widgets/controls",
          "model_name": "ProgressStyleModel",
          "model_module_version": "1.5.0",
          "state": {
            "_model_module": "@jupyter-widgets/controls",
            "_model_module_version": "1.5.0",
            "_model_name": "ProgressStyleModel",
            "_view_count": null,
            "_view_module": "@jupyter-widgets/base",
            "_view_module_version": "1.2.0",
            "_view_name": "StyleView",
            "bar_color": null,
            "description_width": ""
          }
        },
        "45f9fb22ca8a48e6aba1ea4901b0291e": {
          "model_module": "@jupyter-widgets/base",
          "model_name": "LayoutModel",
          "model_module_version": "1.2.0",
          "state": {
            "_model_module": "@jupyter-widgets/base",
            "_model_module_version": "1.2.0",
            "_model_name": "LayoutModel",
            "_view_count": null,
            "_view_module": "@jupyter-widgets/base",
            "_view_module_version": "1.2.0",
            "_view_name": "LayoutView",
            "align_content": null,
            "align_items": null,
            "align_self": null,
            "border": null,
            "bottom": null,
            "display": null,
            "flex": null,
            "flex_flow": null,
            "grid_area": null,
            "grid_auto_columns": null,
            "grid_auto_flow": null,
            "grid_auto_rows": null,
            "grid_column": null,
            "grid_gap": null,
            "grid_row": null,
            "grid_template_areas": null,
            "grid_template_columns": null,
            "grid_template_rows": null,
            "height": null,
            "justify_content": null,
            "justify_items": null,
            "left": null,
            "margin": null,
            "max_height": null,
            "max_width": null,
            "min_height": null,
            "min_width": null,
            "object_fit": null,
            "object_position": null,
            "order": null,
            "overflow": null,
            "overflow_x": null,
            "overflow_y": null,
            "padding": null,
            "right": null,
            "top": null,
            "visibility": null,
            "width": null
          }
        },
        "1691d859c8c14565bd24037c05dd7b02": {
          "model_module": "@jupyter-widgets/controls",
          "model_name": "DescriptionStyleModel",
          "model_module_version": "1.5.0",
          "state": {
            "_model_module": "@jupyter-widgets/controls",
            "_model_module_version": "1.5.0",
            "_model_name": "DescriptionStyleModel",
            "_view_count": null,
            "_view_module": "@jupyter-widgets/base",
            "_view_module_version": "1.2.0",
            "_view_name": "StyleView",
            "description_width": ""
          }
        },
        "602515218a2d409782f2dbae09731b97": {
          "model_module": "@jupyter-widgets/controls",
          "model_name": "HBoxModel",
          "model_module_version": "1.5.0",
          "state": {
            "_dom_classes": [],
            "_model_module": "@jupyter-widgets/controls",
            "_model_module_version": "1.5.0",
            "_model_name": "HBoxModel",
            "_view_count": null,
            "_view_module": "@jupyter-widgets/controls",
            "_view_module_version": "1.5.0",
            "_view_name": "HBoxView",
            "box_style": "",
            "children": [
              "IPY_MODEL_d1ddc870c16a42cabaed01e450c07e0e",
              "IPY_MODEL_6c07a9f0edcd4e6f9057d20983f1c957",
              "IPY_MODEL_3470f6234e994c99873e9a599fe28a62"
            ],
            "layout": "IPY_MODEL_ba2b0ac69c2b49a988e58e7fcc4a9a0e"
          }
        },
        "d1ddc870c16a42cabaed01e450c07e0e": {
          "model_module": "@jupyter-widgets/controls",
          "model_name": "HTMLModel",
          "model_module_version": "1.5.0",
          "state": {
            "_dom_classes": [],
            "_model_module": "@jupyter-widgets/controls",
            "_model_module_version": "1.5.0",
            "_model_name": "HTMLModel",
            "_view_count": null,
            "_view_module": "@jupyter-widgets/controls",
            "_view_module_version": "1.5.0",
            "_view_name": "HTMLView",
            "description": "",
            "description_tooltip": null,
            "layout": "IPY_MODEL_53e351bc1ff2446f89566c7ee7578569",
            "placeholder": "​",
            "style": "IPY_MODEL_23325d35beb949a7baae731708c2b445",
            "value": "100%"
          }
        },
        "6c07a9f0edcd4e6f9057d20983f1c957": {
          "model_module": "@jupyter-widgets/controls",
          "model_name": "FloatProgressModel",
          "model_module_version": "1.5.0",
          "state": {
            "_dom_classes": [],
            "_model_module": "@jupyter-widgets/controls",
            "_model_module_version": "1.5.0",
            "_model_name": "FloatProgressModel",
            "_view_count": null,
            "_view_module": "@jupyter-widgets/controls",
            "_view_module_version": "1.5.0",
            "_view_name": "ProgressView",
            "bar_style": "success",
            "description": "",
            "description_tooltip": null,
            "layout": "IPY_MODEL_7ddd1d48e59a46488df6bf4014e5d145",
            "max": 2201,
            "min": 0,
            "orientation": "horizontal",
            "style": "IPY_MODEL_35ff1c4479414f53a30ab75c30cdbbd8",
            "value": 2201
          }
        },
        "3470f6234e994c99873e9a599fe28a62": {
          "model_module": "@jupyter-widgets/controls",
          "model_name": "HTMLModel",
          "model_module_version": "1.5.0",
          "state": {
            "_dom_classes": [],
            "_model_module": "@jupyter-widgets/controls",
            "_model_module_version": "1.5.0",
            "_model_name": "HTMLModel",
            "_view_count": null,
            "_view_module": "@jupyter-widgets/controls",
            "_view_module_version": "1.5.0",
            "_view_name": "HTMLView",
            "description": "",
            "description_tooltip": null,
            "layout": "IPY_MODEL_ba92b959968c4914b23d6bec5a3acd7a",
            "placeholder": "​",
            "style": "IPY_MODEL_0b823fe6aebe46a0bdf80c39f16a277e",
            "value": " 2201/2201 [00:00&lt;00:00, 4774.06ex/s]"
          }
        },
        "ba2b0ac69c2b49a988e58e7fcc4a9a0e": {
          "model_module": "@jupyter-widgets/base",
          "model_name": "LayoutModel",
          "model_module_version": "1.2.0",
          "state": {
            "_model_module": "@jupyter-widgets/base",
            "_model_module_version": "1.2.0",
            "_model_name": "LayoutModel",
            "_view_count": null,
            "_view_module": "@jupyter-widgets/base",
            "_view_module_version": "1.2.0",
            "_view_name": "LayoutView",
            "align_content": null,
            "align_items": null,
            "align_self": null,
            "border": null,
            "bottom": null,
            "display": null,
            "flex": null,
            "flex_flow": null,
            "grid_area": null,
            "grid_auto_columns": null,
            "grid_auto_flow": null,
            "grid_auto_rows": null,
            "grid_column": null,
            "grid_gap": null,
            "grid_row": null,
            "grid_template_areas": null,
            "grid_template_columns": null,
            "grid_template_rows": null,
            "height": null,
            "justify_content": null,
            "justify_items": null,
            "left": null,
            "margin": null,
            "max_height": null,
            "max_width": null,
            "min_height": null,
            "min_width": null,
            "object_fit": null,
            "object_position": null,
            "order": null,
            "overflow": null,
            "overflow_x": null,
            "overflow_y": null,
            "padding": null,
            "right": null,
            "top": null,
            "visibility": null,
            "width": null
          }
        },
        "53e351bc1ff2446f89566c7ee7578569": {
          "model_module": "@jupyter-widgets/base",
          "model_name": "LayoutModel",
          "model_module_version": "1.2.0",
          "state": {
            "_model_module": "@jupyter-widgets/base",
            "_model_module_version": "1.2.0",
            "_model_name": "LayoutModel",
            "_view_count": null,
            "_view_module": "@jupyter-widgets/base",
            "_view_module_version": "1.2.0",
            "_view_name": "LayoutView",
            "align_content": null,
            "align_items": null,
            "align_self": null,
            "border": null,
            "bottom": null,
            "display": null,
            "flex": null,
            "flex_flow": null,
            "grid_area": null,
            "grid_auto_columns": null,
            "grid_auto_flow": null,
            "grid_auto_rows": null,
            "grid_column": null,
            "grid_gap": null,
            "grid_row": null,
            "grid_template_areas": null,
            "grid_template_columns": null,
            "grid_template_rows": null,
            "height": null,
            "justify_content": null,
            "justify_items": null,
            "left": null,
            "margin": null,
            "max_height": null,
            "max_width": null,
            "min_height": null,
            "min_width": null,
            "object_fit": null,
            "object_position": null,
            "order": null,
            "overflow": null,
            "overflow_x": null,
            "overflow_y": null,
            "padding": null,
            "right": null,
            "top": null,
            "visibility": null,
            "width": null
          }
        },
        "23325d35beb949a7baae731708c2b445": {
          "model_module": "@jupyter-widgets/controls",
          "model_name": "DescriptionStyleModel",
          "model_module_version": "1.5.0",
          "state": {
            "_model_module": "@jupyter-widgets/controls",
            "_model_module_version": "1.5.0",
            "_model_name": "DescriptionStyleModel",
            "_view_count": null,
            "_view_module": "@jupyter-widgets/base",
            "_view_module_version": "1.2.0",
            "_view_name": "StyleView",
            "description_width": ""
          }
        },
        "7ddd1d48e59a46488df6bf4014e5d145": {
          "model_module": "@jupyter-widgets/base",
          "model_name": "LayoutModel",
          "model_module_version": "1.2.0",
          "state": {
            "_model_module": "@jupyter-widgets/base",
            "_model_module_version": "1.2.0",
            "_model_name": "LayoutModel",
            "_view_count": null,
            "_view_module": "@jupyter-widgets/base",
            "_view_module_version": "1.2.0",
            "_view_name": "LayoutView",
            "align_content": null,
            "align_items": null,
            "align_self": null,
            "border": null,
            "bottom": null,
            "display": null,
            "flex": null,
            "flex_flow": null,
            "grid_area": null,
            "grid_auto_columns": null,
            "grid_auto_flow": null,
            "grid_auto_rows": null,
            "grid_column": null,
            "grid_gap": null,
            "grid_row": null,
            "grid_template_areas": null,
            "grid_template_columns": null,
            "grid_template_rows": null,
            "height": null,
            "justify_content": null,
            "justify_items": null,
            "left": null,
            "margin": null,
            "max_height": null,
            "max_width": null,
            "min_height": null,
            "min_width": null,
            "object_fit": null,
            "object_position": null,
            "order": null,
            "overflow": null,
            "overflow_x": null,
            "overflow_y": null,
            "padding": null,
            "right": null,
            "top": null,
            "visibility": null,
            "width": null
          }
        },
        "35ff1c4479414f53a30ab75c30cdbbd8": {
          "model_module": "@jupyter-widgets/controls",
          "model_name": "ProgressStyleModel",
          "model_module_version": "1.5.0",
          "state": {
            "_model_module": "@jupyter-widgets/controls",
            "_model_module_version": "1.5.0",
            "_model_name": "ProgressStyleModel",
            "_view_count": null,
            "_view_module": "@jupyter-widgets/base",
            "_view_module_version": "1.2.0",
            "_view_name": "StyleView",
            "bar_color": null,
            "description_width": ""
          }
        },
        "ba92b959968c4914b23d6bec5a3acd7a": {
          "model_module": "@jupyter-widgets/base",
          "model_name": "LayoutModel",
          "model_module_version": "1.2.0",
          "state": {
            "_model_module": "@jupyter-widgets/base",
            "_model_module_version": "1.2.0",
            "_model_name": "LayoutModel",
            "_view_count": null,
            "_view_module": "@jupyter-widgets/base",
            "_view_module_version": "1.2.0",
            "_view_name": "LayoutView",
            "align_content": null,
            "align_items": null,
            "align_self": null,
            "border": null,
            "bottom": null,
            "display": null,
            "flex": null,
            "flex_flow": null,
            "grid_area": null,
            "grid_auto_columns": null,
            "grid_auto_flow": null,
            "grid_auto_rows": null,
            "grid_column": null,
            "grid_gap": null,
            "grid_row": null,
            "grid_template_areas": null,
            "grid_template_columns": null,
            "grid_template_rows": null,
            "height": null,
            "justify_content": null,
            "justify_items": null,
            "left": null,
            "margin": null,
            "max_height": null,
            "max_width": null,
            "min_height": null,
            "min_width": null,
            "object_fit": null,
            "object_position": null,
            "order": null,
            "overflow": null,
            "overflow_x": null,
            "overflow_y": null,
            "padding": null,
            "right": null,
            "top": null,
            "visibility": null,
            "width": null
          }
        },
        "0b823fe6aebe46a0bdf80c39f16a277e": {
          "model_module": "@jupyter-widgets/controls",
          "model_name": "DescriptionStyleModel",
          "model_module_version": "1.5.0",
          "state": {
            "_model_module": "@jupyter-widgets/controls",
            "_model_module_version": "1.5.0",
            "_model_name": "DescriptionStyleModel",
            "_view_count": null,
            "_view_module": "@jupyter-widgets/base",
            "_view_module_version": "1.2.0",
            "_view_name": "StyleView",
            "description_width": ""
          }
        }
      }
    }
  },
  "nbformat": 4,
  "nbformat_minor": 0
}
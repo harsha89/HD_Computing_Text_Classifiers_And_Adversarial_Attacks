{
 "cells": [
  {
   "cell_type": "code",
   "execution_count": null,
   "metadata": {},
   "outputs": [],
   "source": [
    "import re\n",
    "from itertools import product \n",
    "import string\n",
    "import random\n",
    "import numpy as np\n",
    "from os import listdir\n",
    "from os.path import isfile, join\n",
    "from unidecode import unidecode\n",
    "from tqdm import notebook as nb\n",
    "from numpy import dot\n",
    "from numpy.linalg import norm\n",
    "from scipy import spatial\n",
    "import sys\n",
    "from tqdm.notebook import  tqdm\n",
    "from numpy import dot\n",
    "import random\n",
    "import math \n",
    "import copy\n",
    "from numpy.linalg import norm\n",
    "\n",
    "NumOfClass = 16;\n",
    "ClassLabel= [\"acq_1\",\"acq_2\",\"crude1\",\"crude2\",\"earn1\",\"earn2\",\"grain1\",\"grain2\",\"money-fx1\",\"money-fx2\",\"interest1\",\"interest2\",\"ship1\",\"ship2\",\"trade1\",\"trade2\"]\n",
    "ClassMap = [\"ac\",\"ac\",\"cr\",\"cr\",\"ea\",\"ea\",\"gr\",\"gr\",\"mo\",\"mo\",\"in\",\"in\",\"sh\",\"sh\",\"tr\",\"tr\"]\n",
    "\n",
    "# NumOfClass = 4\n",
    "# ClassLabel= [\"grain1\",\"grain2\",\"ship1\",\"ship2\"]\n",
    "# ClassMap = [\"gr\",\"gr\",\"sh\",\"sh\"]\n",
    "\n",
    "# NumOfClass = 1\n",
    "# ClassLabel= [\"acq_1\"]\n",
    "# ClassMap = [\"ac\"]\n",
    "\n",
    "DIMENSION = 10000\n",
    "CHARACTERS = 256\n",
    "\n",
    "def norm_values(vec, n):\n",
    "    result = norm(vec)\n",
    "    return result\n",
    "\n",
    "\n",
    "def cosAngle_val(u, v, n):\n",
    "    dot_prod = dot(u, v)    \n",
    "    temp = (norm_values(u,n)*norm_values(v,n))\n",
    "    result = dot_prod/temp\n",
    "    return result\n",
    "\n",
    "\n",
    "def randPerm(SZ):\n",
    "    perm = [0] * SZ\n",
    "\n",
    "    for i in range(SZ):\n",
    "        perm[i] = i\n",
    "    \n",
    "    for i in range(SZ):\n",
    "        j=0\n",
    "        t=0\n",
    "        j = random.randint(0, 32767) % (SZ-i) + i\n",
    "        t = perm[j]\n",
    "        perm[j] = perm[i]\n",
    "        perm[i] = t\n",
    "    return perm\n",
    "\n",
    "\n",
    "def RandomHV(randomHV):\n",
    "    i=0\n",
    "    perm = randPerm(DIMENSION)\n",
    "    for i in range(int(DIMENSION/2)):\n",
    "        randomHV[perm[i]] = 1\n",
    "    \n",
    "    for i in range(int(DIMENSION/2), DIMENSION):\n",
    "        randomHV[perm[i]] = -1\n",
    "    return randomHV\n",
    "\n",
    "def check_ItemMemory(itemMemory, key):\n",
    "    if not key in itemMemory:\n",
    "        itemMemory[key]  = [0] * DIMENSION\n",
    "        itemMemory[key] = RandomHV(itemMemory[key])\n",
    "    return itemMemory[key]\n",
    "\n",
    "\n",
    "def binary_HV(v, size):\n",
    "    i = 0\n",
    "    threshold = 0\n",
    "    for i in range(size):\n",
    "        if v[i] > threshold:\n",
    "            v[i] = 1\n",
    "        else:\n",
    "            v[i] = -1\n",
    "\n",
    "\n",
    "def permute_val_back(ind, xdim, ydim):\n",
    "    i = 0\n",
    "    j = 0\n",
    "    temp = ind[xdim-1].copy()\n",
    "    print(temp)\n",
    "    for i in reversed(range(1, xdim)):\n",
    "        ind[i] = ind[i-1]\n",
    "    \n",
    "    print(temp)\n",
    "    ind[0] = temp\n",
    "    for i in range(xdim):\n",
    "        tempj = ind[i][ydim-1].copy()\n",
    "    \n",
    "        for j in reversed(range(1, ydim)):\n",
    "            ind[i][j] = ind[i][j-1]\n",
    "        ind[i][0] = tempj\n",
    "\n",
    "def permute_val(ind, xdim, ydim):\n",
    "    np.roll(ind, [1, 1], axis=(0, 1))\n",
    "\n",
    "def computeHvForWord(itemMemory, tempWord, wordLength, sumHV):\n",
    "    isIMChanged = 0\n",
    "    nGrams = None\n",
    "    tempBlock = None\n",
    "    tempBlock = [0] * wordLength\n",
    "    \n",
    "    for i in range(wordLength):\n",
    "        tempBlock[i] = [0] * DIMENSION\n",
    "    \n",
    "\n",
    "    character = ''\n",
    "    nGrams =  [0] * DIMENSION\n",
    "\n",
    "    for wordHead in range(wordLength):\n",
    "        character = tempWord[wordHead]\n",
    "        permute_val(tempBlock, wordLength, DIMENSION)\n",
    "        if not character in itemMemory:\n",
    "            isIMChanged = 1\n",
    "\n",
    "        tempHv = check_ItemMemory(itemMemory, character)\n",
    "        tempBlock[0] = copy.deepcopy(tempHv)\n",
    "        nGrams = copy.deepcopy(tempBlock[0])\n",
    "        \n",
    "        for i in range(1, wordLength):\n",
    "            nGrams = np.multiply(nGrams, tempBlock[i])\n",
    "            sumHV = np.add(sumHV, nGrams)\n",
    "#             print(\"+++++++++++++++++++\")\n",
    "#             print(nGrams_x)\n",
    "#             print(sumHV_y)\n",
    "#             for j in range(DIMENSION):\n",
    "#                 nGrams[j] *= tempBlock[i][j]\n",
    "#                 sumHV[j] += nGrams[j]\n",
    "#             print(\"=======================\")\n",
    "#             print(nGrams)\n",
    "#             print(sumHV)\n",
    "    return itemMemory\n",
    "\n",
    "def compute_topicHV(text, itemMemory, associativeMemory, sumHV):\n",
    "    isIMChanged = 0\n",
    "    wordLength = 0\n",
    "    tempWord = [None] * 15\n",
    "    toolbar_width = len(text)\n",
    "    with tqdm(total=toolbar_width) as pbar:\n",
    "        for head in range(len(text)):\n",
    "            if text[head] != ' ' and wordLength < 14:\n",
    "                tempWord[wordLength] = text[head]\n",
    "                wordLength = wordLength + 1\n",
    "                continue\n",
    "            elif wordLength > 1 and wordLength < 14:\n",
    "                itemMemory = computeHvForWord(itemMemory, tempWord, wordLength, sumHV)\n",
    "                tempWord = [None] * 15\n",
    "\n",
    "            for i in range(15):\n",
    "                tempWord[i] = None\n",
    "            wordLength = 0\n",
    "            pbar.update(head - pbar.n)\n",
    "\n",
    "    return isIMChanged\n",
    "\n",
    "\n",
    "def buildtext(itemMemory, associativeMemory):\n",
    "    i = 0\n",
    "    length = 0\n",
    "    for i in range(NumOfClass):\n",
    "        path = 'train_double'\n",
    "        path = path + \"/\" + ClassLabel[i] + \".txt\"\n",
    "        with open(path, encoding='utf-8') as f:\n",
    "            content = f.read()\n",
    "            print(\"Training file %s \\n\", path)\n",
    "            associativeMemory[i] = [0] * DIMENSION\n",
    "            compute_topicHV(content, itemMemory, associativeMemory, associativeMemory[i])\n",
    "\n",
    "            \n",
    "def test_files(langAM, itemMemory):\n",
    "    total = 0\n",
    "    correct = 0\n",
    "    accuracy = 0\n",
    "\n",
    "    actLabel = ''\n",
    "    preLang = ''\n",
    "    i = 0\n",
    "        \n",
    "    textHV = [0] * DIMENSION\n",
    "\n",
    "    angle = 0\n",
    "    maxAngle = 0\n",
    "    k = 0\n",
    "    actLabel = ''\n",
    "    preLang = ''\n",
    "    \n",
    "    test_path=\"test\"   \n",
    "    onlyfiles = [f for f in listdir(test_path) if isfile(join(test_path, f))]\n",
    "        \n",
    "    for file in onlyfiles:\n",
    "        with open(test_path+\"/\"+file, encoding='utf-8') as f:\n",
    "            print(file)\n",
    "            actLabel = file\n",
    "            content = f.read()\n",
    "            isChanged = compute_topicHV(content, itemMemory, associativeMemory, textHV)\n",
    "            binary_HV(textHV, DIMENSION)\n",
    "            if isChanged:\n",
    "                print(\"Error in File \\n\")\n",
    "                return\n",
    "\n",
    "            maxAngle = 0\n",
    "            for i in range(NumOfClass):\n",
    "                angle = abs(cosAngle_val(langAM[i], textHV, DIMENSION))\n",
    "                if angle > maxAngle:\n",
    "                    maxAngle = angle\n",
    "                    preLang = ClassMap[i]\n",
    "            print(preLang)\n",
    "            print(actLabel[:2])\n",
    "            if preLang == actLabel[:2]:\n",
    "                correct += 1\n",
    "            else:\n",
    "                print(\"No Match: %s --> %s \\n\", actLabel, preLang)\n",
    "            total = total + 1\n",
    "        \n",
    "    accuracy = correct/total * 100\n",
    "    print(\"Accuracy = %f percent\\n\", accuracy)\n",
    "\n",
    "\n",
    "# if __name__ == '__main__':\n",
    "    \n",
    "#     associativeMemory = [0] * NumOfClass\n",
    "#     itemMemory = {}\n",
    "    \n",
    "#     buildtext(itemMemory, associativeMemory)\n",
    "    \n",
    "#     print(associativeMemory)\n",
    "#     print(itemMemory)\n",
    "#     for x in range(NumOfClass):\n",
    "#         for y in range(DIMENSION):\n",
    "#             print(associativeMemory[x][y])\n",
    "\n",
    "#     test_files(associativeMemory, itemMemory)"
   ]
  },
  {
   "cell_type": "code",
   "execution_count": 40,
   "metadata": {},
   "outputs": [],
   "source": [
    "def test_files(langAM, itemMemory):\n",
    "    total = 0\n",
    "    correct = 0\n",
    "    accuracy = 0\n",
    "\n",
    "    actLabel = ''\n",
    "    preLang = ''\n",
    "    i = 0\n",
    "        \n",
    "    textHV = [0] * DIMENSION\n",
    "\n",
    "    angle = 0\n",
    "    maxAngle = 0\n",
    "    k = 0\n",
    "    actLabel = ''\n",
    "    preLang = ''\n",
    "    \n",
    "    test_path=\"test\"   \n",
    "    onlyfiles = [f for f in listdir(test_path) if isfile(join(test_path, f))]\n",
    "        \n",
    "    for file in onlyfiles:\n",
    "        with open(test_path+\"/\"+file, encoding='utf-8') as f:\n",
    "            print(file)\n",
    "            actLabel = file\n",
    "            content = f.read()\n",
    "            isChanged = compute_topicHV(content, itemMemory, associativeMemory, textHV)\n",
    "            binary_HV(textHV, DIMENSION)\n",
    "            if isChanged:\n",
    "                print(\"Error in File \\n\")\n",
    "                return\n",
    "\n",
    "            maxAngle = 0\n",
    "            for i in range(NumOfClass):\n",
    "                angle = abs(cosAngle_val(langAM[i], textHV, DIMENSION))\n",
    "                if angle > maxAngle:\n",
    "                    maxAngle = angle\n",
    "                    preLang = ClassMap[i]\n",
    "            print(preLang)\n",
    "            print(actLabel[:2])\n",
    "            if preLang == actLabel[:2]:\n",
    "                correct += 1\n",
    "            else:\n",
    "                print(\"No Match: %s --> %s \\n\", actLabel, preLang)\n",
    "            total = total + 1\n",
    "        \n",
    "    accuracy = correct/total * 100\n",
    "    print(\"Accuracy = %f percent\\n\", accuracy)\n"
   ]
  },
  {
   "cell_type": "code",
   "execution_count": 6,
   "metadata": {},
   "outputs": [],
   "source": [
    "### for saving the trained language vector to a file\n",
    "import pickle5\n",
    "def save_obj(obj, name ):\n",
    "    with open( 'obj/'+ name + '.pkl', 'wb') as f:\n",
    "        pickle5.dump(obj, f, pickle.HIGHEST_PROTOCOL)\n",
    "\n",
    "def load_obj(name ):\n",
    "    with open('obj/' + name + '.pkl', 'rb') as f:\n",
    "        return pickle5.load(f)  "
   ]
  },
  {
   "cell_type": "code",
   "execution_count": 7,
   "metadata": {},
   "outputs": [],
   "source": [
    "itemMemory = load_obj(\"news_8_languages_item_memory\")\n",
    "associativeMemory = load_obj(\"news_8_languages_associative_memory\")"
   ]
  },
  {
   "cell_type": "code",
   "execution_count": 76,
   "metadata": {},
   "outputs": [
    {
     "name": "stdout",
     "output_type": "stream",
     "text": [
      "[42 43 44 45 46 47 48]\n",
      "[42 43 44 45 46 47 48]\n"
     ]
    },
    {
     "data": {
      "text/plain": [
       "array([[48, 42, 43, 44, 45, 46, 47],\n",
       "       [ 6,  0,  1,  2,  3,  4,  5],\n",
       "       [13,  7,  8,  9, 10, 11, 12],\n",
       "       [20, 14, 15, 16, 17, 18, 19],\n",
       "       [27, 21, 22, 23, 24, 25, 26],\n",
       "       [34, 28, 29, 30, 31, 32, 33],\n",
       "       [41, 35, 36, 37, 38, 39, 40]])"
      ]
     },
     "execution_count": 76,
     "metadata": {},
     "output_type": "execute_result"
    }
   ],
   "source": [
    "x = np.arange(49)\n",
    "x2 = np.reshape(x, (7,7))\n",
    "permute_val(x2, 7,7)\n",
    "x2"
   ]
  },
  {
   "cell_type": "code",
   "execution_count": 79,
   "metadata": {},
   "outputs": [
    {
     "data": {
      "text/plain": [
       "array([0, 1, 2, 3, 4, 5, 6])"
      ]
     },
     "execution_count": 79,
     "metadata": {},
     "output_type": "execute_result"
    }
   ],
   "source": [
    "x3 = np.arange(7)\n",
    "x3"
   ]
  },
  {
   "cell_type": "code",
   "execution_count": 80,
   "metadata": {},
   "outputs": [
    {
     "name": "stdout",
     "output_type": "stream",
     "text": [
      "[  0  42  86 132 180 230 282]\n"
     ]
    }
   ],
   "source": [
    "print(x3 * x2[0])"
   ]
  },
  {
   "cell_type": "code",
   "execution_count": 82,
   "metadata": {},
   "outputs": [
    {
     "data": {
      "text/plain": [
       "array([  0,  42,  86, 132, 180, 230, 282])"
      ]
     },
     "execution_count": 82,
     "metadata": {},
     "output_type": "execute_result"
    }
   ],
   "source": [
    "np.multiply(x3, x2[0])"
   ]
  },
  {
   "cell_type": "code",
   "execution_count": 83,
   "metadata": {},
   "outputs": [
    {
     "data": {
      "text/plain": [
       "array([48, 43, 45, 47, 49, 51, 53])"
      ]
     },
     "execution_count": 83,
     "metadata": {},
     "output_type": "execute_result"
    }
   ],
   "source": [
    "np.add(x3, x2[0])"
   ]
  },
  {
   "cell_type": "code",
   "execution_count": 72,
   "metadata": {},
   "outputs": [
    {
     "name": "stdout",
     "output_type": "stream",
     "text": [
      "[[ 0  1  2  3  4  5  6]\n",
      " [ 7  8  9 10 11 12 13]\n",
      " [14 15 16 17 18 19 20]\n",
      " [21 22 23 24 25 26 27]\n",
      " [28 29 30 31 32 33 34]\n",
      " [35 36 37 38 39 40 41]\n",
      " [42 43 44 45 46 47 48]]\n"
     ]
    },
    {
     "data": {
      "text/plain": [
       "array([[48, 42, 43, 44, 45, 46, 47],\n",
       "       [ 6,  0,  1,  2,  3,  4,  5],\n",
       "       [13,  7,  8,  9, 10, 11, 12],\n",
       "       [20, 14, 15, 16, 17, 18, 19],\n",
       "       [27, 21, 22, 23, 24, 25, 26],\n",
       "       [34, 28, 29, 30, 31, 32, 33],\n",
       "       [41, 35, 36, 37, 38, 39, 40]])"
      ]
     },
     "execution_count": 72,
     "metadata": {},
     "output_type": "execute_result"
    }
   ],
   "source": [
    "x = np.arange(49)\n",
    "x2 = np.reshape(x, (7,7))\n",
    "print(x2)\n",
    "np.roll(x2, [1, 1], axis=(0, 1))"
   ]
  },
  {
   "cell_type": "code",
   "execution_count": 93,
   "metadata": {
    "scrolled": false
   },
   "outputs": [
    {
     "name": "stdout",
     "output_type": "stream",
     "text": [
      "acq0.txt\n"
     ]
    },
    {
     "data": {
      "application/vnd.jupyter.widget-view+json": {
       "model_id": "a293f3913d644ca99c07c2778942d171",
       "version_major": 2,
       "version_minor": 0
      },
      "text/plain": [
       "HBox(children=(FloatProgress(value=0.0, max=351.0), HTML(value='')))"
      ]
     },
     "metadata": {},
     "output_type": "display_data"
    },
    {
     "name": "stdout",
     "output_type": "stream",
     "text": [
      "\n",
      "ac\n",
      "ac\n",
      "acq1.txt\n"
     ]
    },
    {
     "data": {
      "application/vnd.jupyter.widget-view+json": {
       "model_id": "19220636c925417abec723632e55c4a1",
       "version_major": 2,
       "version_minor": 0
      },
      "text/plain": [
       "HBox(children=(FloatProgress(value=0.0, max=552.0), HTML(value='')))"
      ]
     },
     "metadata": {},
     "output_type": "display_data"
    },
    {
     "name": "stdout",
     "output_type": "stream",
     "text": [
      "\n",
      "ac\n",
      "ac\n",
      "acq10.txt\n"
     ]
    },
    {
     "data": {
      "application/vnd.jupyter.widget-view+json": {
       "model_id": "a15ffd62eec64c6580313ec404f5f2bd",
       "version_major": 2,
       "version_minor": 0
      },
      "text/plain": [
       "HBox(children=(FloatProgress(value=0.0, max=759.0), HTML(value='')))"
      ]
     },
     "metadata": {},
     "output_type": "display_data"
    },
    {
     "name": "stdout",
     "output_type": "stream",
     "text": [
      "\n"
     ]
    },
    {
     "ename": "KeyboardInterrupt",
     "evalue": "",
     "output_type": "error",
     "traceback": [
      "\u001b[1;31m---------------------------------------------------------------------------\u001b[0m",
      "\u001b[1;31mKeyboardInterrupt\u001b[0m                         Traceback (most recent call last)",
      "\u001b[1;32m<ipython-input-93-b5c23a2f39e2>\u001b[0m in \u001b[0;36m<module>\u001b[1;34m\u001b[0m\n\u001b[1;32m----> 1\u001b[1;33m \u001b[0mtest_files\u001b[0m\u001b[1;33m(\u001b[0m\u001b[0massociativeMemory\u001b[0m\u001b[1;33m,\u001b[0m \u001b[0mitemMemory\u001b[0m\u001b[1;33m)\u001b[0m\u001b[1;33m\u001b[0m\u001b[1;33m\u001b[0m\u001b[0m\n\u001b[0m",
      "\u001b[1;32m<ipython-input-89-0ad1743e30ff>\u001b[0m in \u001b[0;36mtest_files\u001b[1;34m(langAM, itemMemory)\u001b[0m\n\u001b[0;32m    206\u001b[0m             \u001b[0mactLabel\u001b[0m \u001b[1;33m=\u001b[0m \u001b[0mfile\u001b[0m\u001b[1;33m\u001b[0m\u001b[1;33m\u001b[0m\u001b[0m\n\u001b[0;32m    207\u001b[0m             \u001b[0mcontent\u001b[0m \u001b[1;33m=\u001b[0m \u001b[0mf\u001b[0m\u001b[1;33m.\u001b[0m\u001b[0mread\u001b[0m\u001b[1;33m(\u001b[0m\u001b[1;33m)\u001b[0m\u001b[1;33m\u001b[0m\u001b[1;33m\u001b[0m\u001b[0m\n\u001b[1;32m--> 208\u001b[1;33m             \u001b[0misChanged\u001b[0m \u001b[1;33m=\u001b[0m \u001b[0mcompute_topicHV\u001b[0m\u001b[1;33m(\u001b[0m\u001b[0mcontent\u001b[0m\u001b[1;33m,\u001b[0m \u001b[0mitemMemory\u001b[0m\u001b[1;33m,\u001b[0m \u001b[0massociativeMemory\u001b[0m\u001b[1;33m,\u001b[0m \u001b[0mtextHV\u001b[0m\u001b[1;33m)\u001b[0m\u001b[1;33m\u001b[0m\u001b[1;33m\u001b[0m\u001b[0m\n\u001b[0m\u001b[0;32m    209\u001b[0m             \u001b[0mbinary_HV\u001b[0m\u001b[1;33m(\u001b[0m\u001b[0mtextHV\u001b[0m\u001b[1;33m,\u001b[0m \u001b[0mDIMENSION\u001b[0m\u001b[1;33m)\u001b[0m\u001b[1;33m\u001b[0m\u001b[1;33m\u001b[0m\u001b[0m\n\u001b[0;32m    210\u001b[0m             \u001b[1;32mif\u001b[0m \u001b[0misChanged\u001b[0m\u001b[1;33m:\u001b[0m\u001b[1;33m\u001b[0m\u001b[1;33m\u001b[0m\u001b[0m\n",
      "\u001b[1;32m<ipython-input-89-0ad1743e30ff>\u001b[0m in \u001b[0;36mcompute_topicHV\u001b[1;34m(text, itemMemory, associativeMemory, sumHV)\u001b[0m\n\u001b[0;32m    158\u001b[0m                 \u001b[1;32mcontinue\u001b[0m\u001b[1;33m\u001b[0m\u001b[1;33m\u001b[0m\u001b[0m\n\u001b[0;32m    159\u001b[0m             \u001b[1;32melif\u001b[0m \u001b[0mwordLength\u001b[0m \u001b[1;33m>\u001b[0m \u001b[1;36m1\u001b[0m \u001b[1;32mand\u001b[0m \u001b[0mwordLength\u001b[0m \u001b[1;33m<\u001b[0m \u001b[1;36m14\u001b[0m\u001b[1;33m:\u001b[0m\u001b[1;33m\u001b[0m\u001b[1;33m\u001b[0m\u001b[0m\n\u001b[1;32m--> 160\u001b[1;33m                 \u001b[0mitemMemory\u001b[0m \u001b[1;33m=\u001b[0m \u001b[0mcomputeHvForWord\u001b[0m\u001b[1;33m(\u001b[0m\u001b[0mitemMemory\u001b[0m\u001b[1;33m,\u001b[0m \u001b[0mtempWord\u001b[0m\u001b[1;33m,\u001b[0m \u001b[0mwordLength\u001b[0m\u001b[1;33m,\u001b[0m \u001b[0msumHV\u001b[0m\u001b[1;33m)\u001b[0m\u001b[1;33m\u001b[0m\u001b[1;33m\u001b[0m\u001b[0m\n\u001b[0m\u001b[0;32m    161\u001b[0m                 \u001b[0mtempWord\u001b[0m \u001b[1;33m=\u001b[0m \u001b[1;33m[\u001b[0m\u001b[1;32mNone\u001b[0m\u001b[1;33m]\u001b[0m \u001b[1;33m*\u001b[0m \u001b[1;36m15\u001b[0m\u001b[1;33m\u001b[0m\u001b[1;33m\u001b[0m\u001b[0m\n\u001b[0;32m    162\u001b[0m \u001b[1;33m\u001b[0m\u001b[0m\n",
      "\u001b[1;32m<ipython-input-89-0ad1743e30ff>\u001b[0m in \u001b[0;36mcomputeHvForWord\u001b[1;34m(itemMemory, tempWord, wordLength, sumHV)\u001b[0m\n\u001b[0;32m    134\u001b[0m         \u001b[1;32mfor\u001b[0m \u001b[0mi\u001b[0m \u001b[1;32min\u001b[0m \u001b[0mrange\u001b[0m\u001b[1;33m(\u001b[0m\u001b[1;36m1\u001b[0m\u001b[1;33m,\u001b[0m \u001b[0mwordLength\u001b[0m\u001b[1;33m)\u001b[0m\u001b[1;33m:\u001b[0m\u001b[1;33m\u001b[0m\u001b[1;33m\u001b[0m\u001b[0m\n\u001b[0;32m    135\u001b[0m             \u001b[0mnGrams\u001b[0m \u001b[1;33m=\u001b[0m \u001b[0mnp\u001b[0m\u001b[1;33m.\u001b[0m\u001b[0mmultiply\u001b[0m\u001b[1;33m(\u001b[0m\u001b[0mnGrams\u001b[0m\u001b[1;33m,\u001b[0m \u001b[0mtempBlock\u001b[0m\u001b[1;33m[\u001b[0m\u001b[0mi\u001b[0m\u001b[1;33m]\u001b[0m\u001b[1;33m)\u001b[0m\u001b[1;33m\u001b[0m\u001b[1;33m\u001b[0m\u001b[0m\n\u001b[1;32m--> 136\u001b[1;33m             \u001b[0msumHV\u001b[0m \u001b[1;33m=\u001b[0m \u001b[0mnp\u001b[0m\u001b[1;33m.\u001b[0m\u001b[0madd\u001b[0m\u001b[1;33m(\u001b[0m\u001b[0msumHV\u001b[0m\u001b[1;33m,\u001b[0m \u001b[0mnGrams\u001b[0m\u001b[1;33m)\u001b[0m\u001b[1;33m\u001b[0m\u001b[1;33m\u001b[0m\u001b[0m\n\u001b[0m\u001b[0;32m    137\u001b[0m \u001b[1;31m#             print(\"+++++++++++++++++++\")\u001b[0m\u001b[1;33m\u001b[0m\u001b[1;33m\u001b[0m\u001b[1;33m\u001b[0m\u001b[0m\n\u001b[0;32m    138\u001b[0m \u001b[1;31m#             print(nGrams_x)\u001b[0m\u001b[1;33m\u001b[0m\u001b[1;33m\u001b[0m\u001b[1;33m\u001b[0m\u001b[0m\n",
      "\u001b[1;31mKeyboardInterrupt\u001b[0m: "
     ]
    }
   ],
   "source": [
    "test_files(associativeMemory, itemMemory)"
   ]
  },
  {
   "cell_type": "code",
   "execution_count": 94,
   "metadata": {},
   "outputs": [
    {
     "name": "stdout",
     "output_type": "stream",
     "text": [
      "acq0.txt\n"
     ]
    },
    {
     "data": {
      "application/vnd.jupyter.widget-view+json": {
       "model_id": "4e20832e4544444c846aeef98bc3553d",
       "version_major": 2,
       "version_minor": 0
      },
      "text/plain": [
       "HBox(children=(FloatProgress(value=0.0, max=351.0), HTML(value='')))"
      ]
     },
     "metadata": {},
     "output_type": "display_data"
    },
    {
     "name": "stdout",
     "output_type": "stream",
     "text": [
      "\n",
      "ac\n",
      "ac\n",
      "acq1.txt\n"
     ]
    },
    {
     "data": {
      "application/vnd.jupyter.widget-view+json": {
       "model_id": "2dc6a84ef3614ef2921ca9d5ab9d62d2",
       "version_major": 2,
       "version_minor": 0
      },
      "text/plain": [
       "HBox(children=(FloatProgress(value=0.0, max=552.0), HTML(value='')))"
      ]
     },
     "metadata": {},
     "output_type": "display_data"
    },
    {
     "name": "stdout",
     "output_type": "stream",
     "text": [
      "\n",
      "ac\n",
      "ac\n",
      "acq10.txt\n"
     ]
    },
    {
     "data": {
      "application/vnd.jupyter.widget-view+json": {
       "model_id": "e6906ce2843a4a789adb37e75e68563e",
       "version_major": 2,
       "version_minor": 0
      },
      "text/plain": [
       "HBox(children=(FloatProgress(value=0.0, max=759.0), HTML(value='')))"
      ]
     },
     "metadata": {},
     "output_type": "display_data"
    },
    {
     "name": "stdout",
     "output_type": "stream",
     "text": [
      "\n",
      "ac\n",
      "ac\n",
      "acq100.txt\n"
     ]
    },
    {
     "data": {
      "application/vnd.jupyter.widget-view+json": {
       "model_id": "aacfa248c04d4bb5a532f1e29b50f094",
       "version_major": 2,
       "version_minor": 0
      },
      "text/plain": [
       "HBox(children=(FloatProgress(value=0.0, max=339.0), HTML(value='')))"
      ]
     },
     "metadata": {},
     "output_type": "display_data"
    },
    {
     "name": "stdout",
     "output_type": "stream",
     "text": [
      "\n",
      "ac\n",
      "ac\n",
      "acq101.txt\n"
     ]
    },
    {
     "data": {
      "application/vnd.jupyter.widget-view+json": {
       "model_id": "2c2beee8206c4030acdf4cb6408684d6",
       "version_major": 2,
       "version_minor": 0
      },
      "text/plain": [
       "HBox(children=(FloatProgress(value=0.0, max=69.0), HTML(value='')))"
      ]
     },
     "metadata": {},
     "output_type": "display_data"
    },
    {
     "name": "stdout",
     "output_type": "stream",
     "text": [
      "\n",
      "ac\n",
      "ac\n",
      "acq102.txt\n"
     ]
    },
    {
     "data": {
      "application/vnd.jupyter.widget-view+json": {
       "model_id": "c1329a80333a422880ee9df48d944d9b",
       "version_major": 2,
       "version_minor": 0
      },
      "text/plain": [
       "HBox(children=(FloatProgress(value=0.0, max=541.0), HTML(value='')))"
      ]
     },
     "metadata": {},
     "output_type": "display_data"
    },
    {
     "name": "stdout",
     "output_type": "stream",
     "text": [
      "\n",
      "ac\n",
      "ac\n",
      "acq103.txt\n"
     ]
    },
    {
     "data": {
      "application/vnd.jupyter.widget-view+json": {
       "model_id": "1349a0f4c9c94058a95576aeca6fda76",
       "version_major": 2,
       "version_minor": 0
      },
      "text/plain": [
       "HBox(children=(FloatProgress(value=0.0, max=546.0), HTML(value='')))"
      ]
     },
     "metadata": {},
     "output_type": "display_data"
    },
    {
     "name": "stdout",
     "output_type": "stream",
     "text": [
      "\n",
      "ac\n",
      "ac\n",
      "acq104.txt\n"
     ]
    },
    {
     "data": {
      "application/vnd.jupyter.widget-view+json": {
       "model_id": "db9ab001a3a24f4196351d894f1eec53",
       "version_major": 2,
       "version_minor": 0
      },
      "text/plain": [
       "HBox(children=(FloatProgress(value=0.0, max=677.0), HTML(value='')))"
      ]
     },
     "metadata": {},
     "output_type": "display_data"
    },
    {
     "name": "stdout",
     "output_type": "stream",
     "text": [
      "\n",
      "ac\n",
      "ac\n",
      "acq105.txt\n"
     ]
    },
    {
     "data": {
      "application/vnd.jupyter.widget-view+json": {
       "model_id": "b09cb79997454845aa11ac01a17571e8",
       "version_major": 2,
       "version_minor": 0
      },
      "text/plain": [
       "HBox(children=(FloatProgress(value=0.0, max=66.0), HTML(value='')))"
      ]
     },
     "metadata": {},
     "output_type": "display_data"
    },
    {
     "name": "stdout",
     "output_type": "stream",
     "text": [
      "\n",
      "ac\n",
      "ac\n",
      "acq106.txt\n"
     ]
    },
    {
     "data": {
      "application/vnd.jupyter.widget-view+json": {
       "model_id": "9f0436e167064aca9055c0feec56f659",
       "version_major": 2,
       "version_minor": 0
      },
      "text/plain": [
       "HBox(children=(FloatProgress(value=0.0, max=374.0), HTML(value='')))"
      ]
     },
     "metadata": {},
     "output_type": "display_data"
    },
    {
     "name": "stdout",
     "output_type": "stream",
     "text": [
      "\n",
      "ac\n",
      "ac\n",
      "acq107.txt\n"
     ]
    },
    {
     "data": {
      "application/vnd.jupyter.widget-view+json": {
       "model_id": "a5ae4f8ea05a41fa99aaee67288685fd",
       "version_major": 2,
       "version_minor": 0
      },
      "text/plain": [
       "HBox(children=(FloatProgress(value=0.0, max=218.0), HTML(value='')))"
      ]
     },
     "metadata": {},
     "output_type": "display_data"
    },
    {
     "name": "stdout",
     "output_type": "stream",
     "text": [
      "\n"
     ]
    },
    {
     "ename": "KeyboardInterrupt",
     "evalue": "",
     "output_type": "error",
     "traceback": [
      "\u001b[1;31m---------------------------------------------------------------------------\u001b[0m",
      "\u001b[1;31mKeyboardInterrupt\u001b[0m                         Traceback (most recent call last)",
      "\u001b[1;32m<ipython-input-94-b5c23a2f39e2>\u001b[0m in \u001b[0;36m<module>\u001b[1;34m\u001b[0m\n\u001b[1;32m----> 1\u001b[1;33m \u001b[0mtest_files\u001b[0m\u001b[1;33m(\u001b[0m\u001b[0massociativeMemory\u001b[0m\u001b[1;33m,\u001b[0m \u001b[0mitemMemory\u001b[0m\u001b[1;33m)\u001b[0m\u001b[1;33m\u001b[0m\u001b[1;33m\u001b[0m\u001b[0m\n\u001b[0m",
      "\u001b[1;32m<ipython-input-89-0ad1743e30ff>\u001b[0m in \u001b[0;36mtest_files\u001b[1;34m(langAM, itemMemory)\u001b[0m\n\u001b[0;32m    214\u001b[0m             \u001b[0mmaxAngle\u001b[0m \u001b[1;33m=\u001b[0m \u001b[1;36m0\u001b[0m\u001b[1;33m\u001b[0m\u001b[1;33m\u001b[0m\u001b[0m\n\u001b[0;32m    215\u001b[0m             \u001b[1;32mfor\u001b[0m \u001b[0mi\u001b[0m \u001b[1;32min\u001b[0m \u001b[0mrange\u001b[0m\u001b[1;33m(\u001b[0m\u001b[0mNumOfClass\u001b[0m\u001b[1;33m)\u001b[0m\u001b[1;33m:\u001b[0m\u001b[1;33m\u001b[0m\u001b[1;33m\u001b[0m\u001b[0m\n\u001b[1;32m--> 216\u001b[1;33m                 \u001b[0mangle\u001b[0m \u001b[1;33m=\u001b[0m \u001b[0mabs\u001b[0m\u001b[1;33m(\u001b[0m\u001b[0mcosAngle_val\u001b[0m\u001b[1;33m(\u001b[0m\u001b[0mlangAM\u001b[0m\u001b[1;33m[\u001b[0m\u001b[0mi\u001b[0m\u001b[1;33m]\u001b[0m\u001b[1;33m,\u001b[0m \u001b[0mtextHV\u001b[0m\u001b[1;33m,\u001b[0m \u001b[0mDIMENSION\u001b[0m\u001b[1;33m)\u001b[0m\u001b[1;33m)\u001b[0m\u001b[1;33m\u001b[0m\u001b[1;33m\u001b[0m\u001b[0m\n\u001b[0m\u001b[0;32m    217\u001b[0m                 \u001b[1;32mif\u001b[0m \u001b[0mangle\u001b[0m \u001b[1;33m>\u001b[0m \u001b[0mmaxAngle\u001b[0m\u001b[1;33m:\u001b[0m\u001b[1;33m\u001b[0m\u001b[1;33m\u001b[0m\u001b[0m\n\u001b[0;32m    218\u001b[0m                     \u001b[0mmaxAngle\u001b[0m \u001b[1;33m=\u001b[0m \u001b[0mangle\u001b[0m\u001b[1;33m\u001b[0m\u001b[1;33m\u001b[0m\u001b[0m\n",
      "\u001b[1;32m<ipython-input-89-0ad1743e30ff>\u001b[0m in \u001b[0;36mcosAngle_val\u001b[1;34m(u, v, n)\u001b[0m\n\u001b[0;32m     40\u001b[0m \u001b[1;33m\u001b[0m\u001b[0m\n\u001b[0;32m     41\u001b[0m \u001b[1;32mdef\u001b[0m \u001b[0mcosAngle_val\u001b[0m\u001b[1;33m(\u001b[0m\u001b[0mu\u001b[0m\u001b[1;33m,\u001b[0m \u001b[0mv\u001b[0m\u001b[1;33m,\u001b[0m \u001b[0mn\u001b[0m\u001b[1;33m)\u001b[0m\u001b[1;33m:\u001b[0m\u001b[1;33m\u001b[0m\u001b[1;33m\u001b[0m\u001b[0m\n\u001b[1;32m---> 42\u001b[1;33m     \u001b[0mdot_prod\u001b[0m \u001b[1;33m=\u001b[0m \u001b[0mdot\u001b[0m\u001b[1;33m(\u001b[0m\u001b[0mu\u001b[0m\u001b[1;33m,\u001b[0m \u001b[0mv\u001b[0m\u001b[1;33m)\u001b[0m\u001b[1;33m\u001b[0m\u001b[1;33m\u001b[0m\u001b[0m\n\u001b[0m\u001b[0;32m     43\u001b[0m     \u001b[0mtemp\u001b[0m \u001b[1;33m=\u001b[0m \u001b[1;33m(\u001b[0m\u001b[0mnorm_values\u001b[0m\u001b[1;33m(\u001b[0m\u001b[0mu\u001b[0m\u001b[1;33m,\u001b[0m\u001b[0mn\u001b[0m\u001b[1;33m)\u001b[0m\u001b[1;33m*\u001b[0m\u001b[0mnorm_values\u001b[0m\u001b[1;33m(\u001b[0m\u001b[0mv\u001b[0m\u001b[1;33m,\u001b[0m\u001b[0mn\u001b[0m\u001b[1;33m)\u001b[0m\u001b[1;33m)\u001b[0m\u001b[1;33m\u001b[0m\u001b[1;33m\u001b[0m\u001b[0m\n\u001b[0;32m     44\u001b[0m     \u001b[0mresult\u001b[0m \u001b[1;33m=\u001b[0m \u001b[0mdot_prod\u001b[0m\u001b[1;33m/\u001b[0m\u001b[0mtemp\u001b[0m\u001b[1;33m\u001b[0m\u001b[1;33m\u001b[0m\u001b[0m\n",
      "\u001b[1;32m<__array_function__ internals>\u001b[0m in \u001b[0;36mdot\u001b[1;34m(*args, **kwargs)\u001b[0m\n",
      "\u001b[1;31mKeyboardInterrupt\u001b[0m: "
     ]
    }
   ],
   "source": [
    "test_files(associativeMemory, itemMemory)"
   ]
  },
  {
   "cell_type": "code",
   "execution_count": 95,
   "metadata": {},
   "outputs": [],
   "source": [
    "class HDModel():\n",
    "    def __init__(self, item_memory, associate_memory):\n",
    "        self.item_memory = item_memory\n",
    "        self.associate_memory = associate_memory\n",
    "        \n",
    "    def genTextVector(self, text):\n",
    "        textHV = [0] * DIMENSION\n",
    "        isChanged = compute_topicHV(text, itemMemory, associativeMemory, textHV)\n",
    "        return textHV\n",
    "        \n",
    "    def load_obj(self, name):\n",
    "        with open('obj/' + name + '.pkl', 'rb') as f:\n",
    "            return pickle.load(f)"
   ]
  },
  {
   "cell_type": "code",
   "execution_count": 100,
   "metadata": {},
   "outputs": [],
   "source": [
    "import pandas as pd\n",
    "import pickle\n",
    "import random\n",
    "\n",
    "from textattack.models.wrappers import ModelWrapper\n",
    "from joblib import Parallel, delayed\n",
    "\n",
    "\n",
    "class HDModelWrapper(ModelWrapper):\n",
    "    \"\"\"Loads a scikit-learn model and tokenizer (tokenizer implements\n",
    "    `transform` and model implements `predict_proba`).\n",
    "    May need to be extended and modified for different types of\n",
    "    tokenizers.\n",
    "    \"\"\"\n",
    "\n",
    "    def __init__(self, model):\n",
    "        self.model = model\n",
    "        \n",
    "    def __call__(self, text_input_list, batch_size=None):\n",
    "        results_out = []\n",
    "        for text in text_input_list:\n",
    "            textHV = self.model.genTextVector(text)\n",
    "            binary_HV(textHV, DIMENSION)\n",
    "            results_temp = []\n",
    "            for i in range(0, NumOfClass, 2):\n",
    "                angle_1 = abs(cosAngle_val(self.model.associate_memory[i], textHV, DIMENSION))\n",
    "                angle_2 = abs(cosAngle_val(self.model.associate_memory[i+1], textHV, DIMENSION))\n",
    "                if angle_1 > angle_2:\n",
    "                    results_temp.append(angle_1)\n",
    "                else:\n",
    "                    results_temp.append(angle_2)\n",
    "                \n",
    "            results_out.append(results_temp)\n",
    "            print(results_temp)\n",
    "#         results_out = np.array(results_out)\n",
    "        return results_out\n",
    "        \n",
    "    def get_grad(self, text_input):\n",
    "        raise NotImplementedError()"
   ]
  },
  {
   "cell_type": "code",
   "execution_count": 101,
   "metadata": {},
   "outputs": [],
   "source": [
    "model = HDModel(itemMemory, associativeMemory)\n",
    "model_wrapper = HDModelWrapper(model)"
   ]
  },
  {
   "cell_type": "code",
   "execution_count": 98,
   "metadata": {},
   "outputs": [
    {
     "name": "stdout",
     "output_type": "stream",
     "text": [
      "248\n"
     ]
    }
   ],
   "source": [
    "import textattack\n",
    "\n",
    "text = \"anheuser busch joins bid for san miguel anheuser busch companies inc bud n has joined several other foreign bidders for sequestered shares of the philippines largest food and beverage maker san miguel corp sanm mn the head of a government panel which controls the shares told reuters ramon diaz secretary of the presidential commission on good government pcgg said anheuser busch had told the government it was interested in buying mln b shares of san miguel he did not disclose the offered price diaz said australian brewer alan bond s bond corp holdings ltd had offered pesos per share for the b shares diaz said new york investment bank allen and co inc had earlier said it was interested in buying all mln sequestered shares he told reuters last month elders ixl ltd elxa s the melbourne based brewing company had also bid for the b shares the hong kong economic journal last month quoted a spokesman of australian stock broker jacksons ltd as saying that barwon farmlands ltd an australian firm owned pct by ariadne australia ltd was planning a filipino branch in order to buy the entire block of mln shares anheuser busch last year made a mln dlr bid to buy san miguel brewery ltd a hong kong listed company which is pct owned by neptunia corp ltd a san miguel corp subsidiary the talks broke down last june after the two sides said they could not agree on the terms of the sale reuter\"\n",
    "print(len(text.split()))\n",
    "data = [(text, 0)]\n",
    "\n",
    "dataset = textattack.datasets.Dataset(data)"
   ]
  },
  {
   "cell_type": "code",
   "execution_count": 102,
   "metadata": {},
   "outputs": [
    {
     "name": "stderr",
     "output_type": "stream",
     "text": [
      "textattack: Unknown if model of class <class '__main__.HDModel'> compatible with goal function <class 'textattack.goal_functions.classification.untargeted_classification.UntargetedClassification'>.\n",
      "textattack: Logging to CSV at path log.csv\n",
      "\n",
      "  0%|                                                                                            | 0/1 [00:00<?, ?it/s]\u001b[A"
     ]
    },
    {
     "name": "stdout",
     "output_type": "stream",
     "text": [
      "Attack(\n",
      "  (search_method): GreedyWordSwapWIR(\n",
      "    (wir_method):  unk\n",
      "  )\n",
      "  (goal_function):  UntargetedClassification\n",
      "  (transformation):  CompositeTransformation(\n",
      "    (0): WordSwapNeighboringCharacterSwap(\n",
      "        (random_one):  True\n",
      "      )\n",
      "    (1): WordSwapRandomCharacterSubstitution(\n",
      "        (random_one):  True\n",
      "      )\n",
      "    (2): WordSwapRandomCharacterDeletion(\n",
      "        (random_one):  True\n",
      "      )\n",
      "    (3): WordSwapRandomCharacterInsertion(\n",
      "        (random_one):  True\n",
      "      )\n",
      "    )\n",
      "  (constraints): \n",
      "    (0): LevenshteinEditDistance(\n",
      "        (max_edit_distance):  30\n",
      "        (compare_against_original):  True\n",
      "      )\n",
      "    (1): RepeatModification\n",
      "    (2): StopwordModification\n",
      "  (is_black_box):  True\n",
      ") \n",
      "\n"
     ]
    },
    {
     "data": {
      "application/vnd.jupyter.widget-view+json": {
       "model_id": "ccd6a6411b52475e8cc356839d7e5372",
       "version_major": 2,
       "version_minor": 0
      },
      "text/plain": [
       "HBox(children=(FloatProgress(value=0.0, max=1391.0), HTML(value='')))"
      ]
     },
     "metadata": {},
     "output_type": "display_data"
    },
    {
     "name": "stdout",
     "output_type": "stream",
     "text": [
      "\n",
      "[0.007910862400633715, 0.00448796995858098, 0.006772553451412562, 0.0023690622971027156, 0.0009352933180152169, 0.0014853041766527504, 0.0020745599842239898, 0.007099364417869995]\n"
     ]
    },
    {
     "data": {
      "application/vnd.jupyter.widget-view+json": {
       "model_id": "79ee5141fa724d86b139cdf400008cf2",
       "version_major": 2,
       "version_minor": 0
      },
      "text/plain": [
       "HBox(children=(FloatProgress(value=0.0, max=1388.0), HTML(value='')))"
      ]
     },
     "metadata": {},
     "output_type": "display_data"
    },
    {
     "name": "stdout",
     "output_type": "stream",
     "text": [
      "\n",
      "[0.007910862400633715, 0.00448796995858098, 0.006772553451412562, 0.0023690622971027156, 0.0009352933180152169, 0.0014853041766527504, 0.0020745599842239898, 0.007099364417869995]\n"
     ]
    },
    {
     "data": {
      "application/vnd.jupyter.widget-view+json": {
       "model_id": "4d693fcee97240559b2396c0ff73fd96",
       "version_major": 2,
       "version_minor": 0
      },
      "text/plain": [
       "HBox(children=(FloatProgress(value=0.0, max=1391.0), HTML(value='')))"
      ]
     },
     "metadata": {},
     "output_type": "display_data"
    },
    {
     "name": "stdout",
     "output_type": "stream",
     "text": [
      "\n",
      "[0.007910862400633715, 0.00448796995858098, 0.006772553451412562, 0.0023690622971027156, 0.0009352933180152169, 0.0014853041766527504, 0.0020745599842239898, 0.007099364417869995]\n"
     ]
    },
    {
     "data": {
      "application/vnd.jupyter.widget-view+json": {
       "model_id": "1bca01e0be064d45b99b02c923363e62",
       "version_major": 2,
       "version_minor": 0
      },
      "text/plain": [
       "HBox(children=(FloatProgress(value=0.0, max=1391.0), HTML(value='')))"
      ]
     },
     "metadata": {},
     "output_type": "display_data"
    },
    {
     "name": "stdout",
     "output_type": "stream",
     "text": [
      "\n",
      "[0.007910862400633715, 0.00448796995858098, 0.006772553451412562, 0.0023690622971027156, 0.0009352933180152169, 0.0014853041766527504, 0.0020745599842239898, 0.007099364417869995]\n"
     ]
    },
    {
     "data": {
      "application/vnd.jupyter.widget-view+json": {
       "model_id": "cddbd1765b6147cb8d13eb7405775929",
       "version_major": 2,
       "version_minor": 0
      },
      "text/plain": [
       "HBox(children=(FloatProgress(value=0.0, max=1393.0), HTML(value='')))"
      ]
     },
     "metadata": {},
     "output_type": "display_data"
    },
    {
     "name": "stdout",
     "output_type": "stream",
     "text": [
      "\n",
      "[0.007910862400633715, 0.00448796995858098, 0.006772553451412562, 0.0023690622971027156, 0.0009352933180152169, 0.0014853041766527504, 0.0020745599842239898, 0.007099364417869995]\n"
     ]
    },
    {
     "data": {
      "application/vnd.jupyter.widget-view+json": {
       "model_id": "bea7421640204f8f9ac17bcf01c54da8",
       "version_major": 2,
       "version_minor": 0
      },
      "text/plain": [
       "HBox(children=(FloatProgress(value=0.0, max=1393.0), HTML(value='')))"
      ]
     },
     "metadata": {},
     "output_type": "display_data"
    },
    {
     "name": "stdout",
     "output_type": "stream",
     "text": [
      "\n",
      "[0.007910862400633715, 0.00448796995858098, 0.006772553451412562, 0.0023690622971027156, 0.0009352933180152169, 0.0014853041766527504, 0.0020745599842239898, 0.007099364417869995]\n"
     ]
    },
    {
     "data": {
      "application/vnd.jupyter.widget-view+json": {
       "model_id": "b3f5b2a6815441c4829d92519137bdff",
       "version_major": 2,
       "version_minor": 0
      },
      "text/plain": [
       "HBox(children=(FloatProgress(value=0.0, max=1393.0), HTML(value='')))"
      ]
     },
     "metadata": {},
     "output_type": "display_data"
    },
    {
     "name": "stdout",
     "output_type": "stream",
     "text": [
      "\n",
      "[0.007910862400633715, 0.00448796995858098, 0.006772553451412562, 0.0023690622971027156, 0.0009352933180152169, 0.0014853041766527504, 0.0020745599842239898, 0.007099364417869995]\n"
     ]
    },
    {
     "data": {
      "application/vnd.jupyter.widget-view+json": {
       "model_id": "595eec0a95334dbfb60f144e78f0b7dc",
       "version_major": 2,
       "version_minor": 0
      },
      "text/plain": [
       "HBox(children=(FloatProgress(value=0.0, max=1390.0), HTML(value='')))"
      ]
     },
     "metadata": {},
     "output_type": "display_data"
    },
    {
     "name": "stdout",
     "output_type": "stream",
     "text": [
      "\n",
      "[0.007910862400633715, 0.00448796995858098, 0.006772553451412562, 0.0023690622971027156, 0.0009352933180152169, 0.0014853041766527504, 0.0020745599842239898, 0.007099364417869995]\n"
     ]
    },
    {
     "data": {
      "application/vnd.jupyter.widget-view+json": {
       "model_id": "a52be9148cad438f9ef1145c9b459d15",
       "version_major": 2,
       "version_minor": 0
      },
      "text/plain": [
       "HBox(children=(FloatProgress(value=0.0, max=1388.0), HTML(value='')))"
      ]
     },
     "metadata": {},
     "output_type": "display_data"
    },
    {
     "name": "stdout",
     "output_type": "stream",
     "text": [
      "\n",
      "[0.007910862400633715, 0.00448796995858098, 0.006772553451412562, 0.0023690622971027156, 0.0009352933180152169, 0.0014853041766527504, 0.0020745599842239898, 0.007099364417869995]\n"
     ]
    },
    {
     "data": {
      "application/vnd.jupyter.widget-view+json": {
       "model_id": "faffdc8a8f434e768b6afffd8f264433",
       "version_major": 2,
       "version_minor": 0
      },
      "text/plain": [
       "HBox(children=(FloatProgress(value=0.0, max=1391.0), HTML(value='')))"
      ]
     },
     "metadata": {},
     "output_type": "display_data"
    },
    {
     "name": "stdout",
     "output_type": "stream",
     "text": [
      "\n",
      "[0.007910862400633715, 0.00448796995858098, 0.006772553451412562, 0.0023690622971027156, 0.0009352933180152169, 0.0014853041766527504, 0.0020745599842239898, 0.007099364417869995]\n"
     ]
    },
    {
     "data": {
      "application/vnd.jupyter.widget-view+json": {
       "model_id": "e5c61339d15240b99b35351ccf2db95d",
       "version_major": 2,
       "version_minor": 0
      },
      "text/plain": [
       "HBox(children=(FloatProgress(value=0.0, max=1387.0), HTML(value='')))"
      ]
     },
     "metadata": {},
     "output_type": "display_data"
    },
    {
     "name": "stdout",
     "output_type": "stream",
     "text": [
      "\n",
      "[0.007910862400633715, 0.00448796995858098, 0.006772553451412562, 0.0023690622971027156, 0.0009352933180152169, 0.0014853041766527504, 0.0020745599842239898, 0.007099364417869995]\n"
     ]
    },
    {
     "data": {
      "application/vnd.jupyter.widget-view+json": {
       "model_id": "5962ca891c6d479ab6276549781f9db9",
       "version_major": 2,
       "version_minor": 0
      },
      "text/plain": [
       "HBox(children=(FloatProgress(value=0.0, max=1393.0), HTML(value='')))"
      ]
     },
     "metadata": {},
     "output_type": "display_data"
    },
    {
     "name": "stdout",
     "output_type": "stream",
     "text": [
      "\n",
      "[0.007910862400633715, 0.00448796995858098, 0.006772553451412562, 0.0023690622971027156, 0.0009352933180152169, 0.0014853041766527504, 0.0020745599842239898, 0.007099364417869995]\n"
     ]
    },
    {
     "data": {
      "application/vnd.jupyter.widget-view+json": {
       "model_id": "18eba5ff27c24814ab47111fba56d829",
       "version_major": 2,
       "version_minor": 0
      },
      "text/plain": [
       "HBox(children=(FloatProgress(value=0.0, max=1393.0), HTML(value='')))"
      ]
     },
     "metadata": {},
     "output_type": "display_data"
    },
    {
     "name": "stdout",
     "output_type": "stream",
     "text": [
      "\n",
      "[0.007910862400633715, 0.00448796995858098, 0.006772553451412562, 0.0023690622971027156, 0.0009352933180152169, 0.0014853041766527504, 0.0020745599842239898, 0.007099364417869995]\n"
     ]
    },
    {
     "data": {
      "application/vnd.jupyter.widget-view+json": {
       "model_id": "5d15e86e2d244f6bbdbf34a08d2f960f",
       "version_major": 2,
       "version_minor": 0
      },
      "text/plain": [
       "HBox(children=(FloatProgress(value=0.0, max=1395.0), HTML(value='')))"
      ]
     },
     "metadata": {},
     "output_type": "display_data"
    },
    {
     "name": "stdout",
     "output_type": "stream",
     "text": [
      "\n",
      "[0.007910862400633715, 0.00448796995858098, 0.006772553451412562, 0.0023690622971027156, 0.0009352933180152169, 0.0014853041766527504, 0.0020745599842239898, 0.007099364417869995]\n"
     ]
    },
    {
     "data": {
      "application/vnd.jupyter.widget-view+json": {
       "model_id": "f6208c3f0f8240caae264b3e0fd52c70",
       "version_major": 2,
       "version_minor": 0
      },
      "text/plain": [
       "HBox(children=(FloatProgress(value=0.0, max=1393.0), HTML(value='')))"
      ]
     },
     "metadata": {},
     "output_type": "display_data"
    },
    {
     "name": "stdout",
     "output_type": "stream",
     "text": [
      "\n",
      "[0.007910862400633715, 0.00448796995858098, 0.006772553451412562, 0.0023690622971027156, 0.0009352933180152169, 0.0014853041766527504, 0.0020745599842239898, 0.007099364417869995]\n"
     ]
    },
    {
     "data": {
      "application/vnd.jupyter.widget-view+json": {
       "model_id": "acf49248265145db94bbe28abd505987",
       "version_major": 2,
       "version_minor": 0
      },
      "text/plain": [
       "HBox(children=(FloatProgress(value=0.0, max=1390.0), HTML(value='')))"
      ]
     },
     "metadata": {},
     "output_type": "display_data"
    },
    {
     "name": "stdout",
     "output_type": "stream",
     "text": [
      "\n",
      "[0.007910862400633715, 0.00448796995858098, 0.006772553451412562, 0.0023690622971027156, 0.0009352933180152169, 0.0014853041766527504, 0.0020745599842239898, 0.007099364417869995]\n"
     ]
    },
    {
     "data": {
      "application/vnd.jupyter.widget-view+json": {
       "model_id": "1b50d0e6ac92493d9f36d6ff9d028a0f",
       "version_major": 2,
       "version_minor": 0
      },
      "text/plain": [
       "HBox(children=(FloatProgress(value=0.0, max=1389.0), HTML(value='')))"
      ]
     },
     "metadata": {},
     "output_type": "display_data"
    },
    {
     "name": "stdout",
     "output_type": "stream",
     "text": [
      "\n",
      "[0.007910862400633715, 0.00448796995858098, 0.006772553451412562, 0.0023690622971027156, 0.0009352933180152169, 0.0014853041766527504, 0.0020745599842239898, 0.007099364417869995]\n"
     ]
    },
    {
     "data": {
      "application/vnd.jupyter.widget-view+json": {
       "model_id": "67e94c054b624589bebf7309979066f9",
       "version_major": 2,
       "version_minor": 0
      },
      "text/plain": [
       "HBox(children=(FloatProgress(value=0.0, max=1391.0), HTML(value='')))"
      ]
     },
     "metadata": {},
     "output_type": "display_data"
    },
    {
     "name": "stdout",
     "output_type": "stream",
     "text": [
      "\n",
      "[0.007910862400633715, 0.00448796995858098, 0.006772553451412562, 0.0023690622971027156, 0.0009352933180152169, 0.0014853041766527504, 0.0020745599842239898, 0.007099364417869995]\n"
     ]
    },
    {
     "data": {
      "application/vnd.jupyter.widget-view+json": {
       "model_id": "9842bdf23f764d58b97ebcb7a05a98ce",
       "version_major": 2,
       "version_minor": 0
      },
      "text/plain": [
       "HBox(children=(FloatProgress(value=0.0, max=1389.0), HTML(value='')))"
      ]
     },
     "metadata": {},
     "output_type": "display_data"
    },
    {
     "name": "stdout",
     "output_type": "stream",
     "text": [
      "\n",
      "[0.007910862400633715, 0.00448796995858098, 0.006772553451412562, 0.0023690622971027156, 0.0009352933180152169, 0.0014853041766527504, 0.0020745599842239898, 0.007099364417869995]\n"
     ]
    },
    {
     "data": {
      "application/vnd.jupyter.widget-view+json": {
       "model_id": "a4b3a7146e0e4ed796259b467076c420",
       "version_major": 2,
       "version_minor": 0
      },
      "text/plain": [
       "HBox(children=(FloatProgress(value=0.0, max=1389.0), HTML(value='')))"
      ]
     },
     "metadata": {},
     "output_type": "display_data"
    },
    {
     "name": "stdout",
     "output_type": "stream",
     "text": [
      "\n",
      "[0.007910862400633715, 0.00448796995858098, 0.006772553451412562, 0.0023690622971027156, 0.0009352933180152169, 0.0014853041766527504, 0.0020745599842239898, 0.007099364417869995]\n"
     ]
    },
    {
     "data": {
      "application/vnd.jupyter.widget-view+json": {
       "model_id": "0407301f1d3f4c209a1761d3f82c9f7f",
       "version_major": 2,
       "version_minor": 0
      },
      "text/plain": [
       "HBox(children=(FloatProgress(value=0.0, max=1393.0), HTML(value='')))"
      ]
     },
     "metadata": {},
     "output_type": "display_data"
    },
    {
     "name": "stdout",
     "output_type": "stream",
     "text": [
      "\n",
      "[0.007910862400633715, 0.00448796995858098, 0.006772553451412562, 0.0023690622971027156, 0.0009352933180152169, 0.0014853041766527504, 0.0020745599842239898, 0.007099364417869995]\n"
     ]
    },
    {
     "data": {
      "application/vnd.jupyter.widget-view+json": {
       "model_id": "2f61eb44207b4ffa9fcade925cfac6e5",
       "version_major": 2,
       "version_minor": 0
      },
      "text/plain": [
       "HBox(children=(FloatProgress(value=0.0, max=1385.0), HTML(value='')))"
      ]
     },
     "metadata": {},
     "output_type": "display_data"
    },
    {
     "name": "stdout",
     "output_type": "stream",
     "text": [
      "\n",
      "[0.007910862400633715, 0.00448796995858098, 0.006772553451412562, 0.0023690622971027156, 0.0009352933180152169, 0.0014853041766527504, 0.0020745599842239898, 0.007099364417869995]\n"
     ]
    },
    {
     "data": {
      "application/vnd.jupyter.widget-view+json": {
       "model_id": "86d371b038e94d72ae75f162341057a4",
       "version_major": 2,
       "version_minor": 0
      },
      "text/plain": [
       "HBox(children=(FloatProgress(value=0.0, max=1390.0), HTML(value='')))"
      ]
     },
     "metadata": {},
     "output_type": "display_data"
    },
    {
     "name": "stdout",
     "output_type": "stream",
     "text": [
      "\n",
      "[0.007910862400633715, 0.00448796995858098, 0.006772553451412562, 0.0023690622971027156, 0.0009352933180152169, 0.0014853041766527504, 0.0020745599842239898, 0.007099364417869995]\n"
     ]
    },
    {
     "data": {
      "application/vnd.jupyter.widget-view+json": {
       "model_id": "8d46fd13c1f643f2a4380781b7698c9a",
       "version_major": 2,
       "version_minor": 0
      },
      "text/plain": [
       "HBox(children=(FloatProgress(value=0.0, max=1394.0), HTML(value='')))"
      ]
     },
     "metadata": {},
     "output_type": "display_data"
    },
    {
     "name": "stdout",
     "output_type": "stream",
     "text": [
      "\n",
      "[0.007910862400633715, 0.00448796995858098, 0.006772553451412562, 0.0023690622971027156, 0.0009352933180152169, 0.0014853041766527504, 0.0020745599842239898, 0.007099364417869995]\n"
     ]
    },
    {
     "data": {
      "application/vnd.jupyter.widget-view+json": {
       "model_id": "436868da72b44964a487369c03ccbdfd",
       "version_major": 2,
       "version_minor": 0
      },
      "text/plain": [
       "HBox(children=(FloatProgress(value=0.0, max=1393.0), HTML(value='')))"
      ]
     },
     "metadata": {},
     "output_type": "display_data"
    },
    {
     "name": "stdout",
     "output_type": "stream",
     "text": [
      "\n",
      "[0.007910862400633715, 0.00448796995858098, 0.006772553451412562, 0.0023690622971027156, 0.0009352933180152169, 0.0014853041766527504, 0.0020745599842239898, 0.007099364417869995]\n"
     ]
    },
    {
     "data": {
      "application/vnd.jupyter.widget-view+json": {
       "model_id": "1fa42a8ecb374f36a88989a7290af87a",
       "version_major": 2,
       "version_minor": 0
      },
      "text/plain": [
       "HBox(children=(FloatProgress(value=0.0, max=1385.0), HTML(value='')))"
      ]
     },
     "metadata": {},
     "output_type": "display_data"
    },
    {
     "name": "stdout",
     "output_type": "stream",
     "text": [
      "\n",
      "[0.007910862400633715, 0.00448796995858098, 0.006772553451412562, 0.0023690622971027156, 0.0009352933180152169, 0.0014853041766527504, 0.0020745599842239898, 0.007099364417869995]\n"
     ]
    },
    {
     "data": {
      "application/vnd.jupyter.widget-view+json": {
       "model_id": "a80ce1d1562b478cb66671a79b19cd8c",
       "version_major": 2,
       "version_minor": 0
      },
      "text/plain": [
       "HBox(children=(FloatProgress(value=0.0, max=1389.0), HTML(value='')))"
      ]
     },
     "metadata": {},
     "output_type": "display_data"
    },
    {
     "name": "stdout",
     "output_type": "stream",
     "text": [
      "\n",
      "[0.007910862400633715, 0.00448796995858098, 0.006772553451412562, 0.0023690622971027156, 0.0009352933180152169, 0.0014853041766527504, 0.0020745599842239898, 0.007099364417869995]\n"
     ]
    },
    {
     "data": {
      "application/vnd.jupyter.widget-view+json": {
       "model_id": "87ce7c33a65d4e498f1f58b278512f98",
       "version_major": 2,
       "version_minor": 0
      },
      "text/plain": [
       "HBox(children=(FloatProgress(value=0.0, max=1392.0), HTML(value='')))"
      ]
     },
     "metadata": {},
     "output_type": "display_data"
    },
    {
     "name": "stdout",
     "output_type": "stream",
     "text": [
      "\n",
      "[0.007910862400633715, 0.00448796995858098, 0.006772553451412562, 0.0023690622971027156, 0.0009352933180152169, 0.0014853041766527504, 0.0020745599842239898, 0.007099364417869995]\n"
     ]
    },
    {
     "data": {
      "application/vnd.jupyter.widget-view+json": {
       "model_id": "940c93d209464274a9565b989c22289c",
       "version_major": 2,
       "version_minor": 0
      },
      "text/plain": [
       "HBox(children=(FloatProgress(value=0.0, max=1393.0), HTML(value='')))"
      ]
     },
     "metadata": {},
     "output_type": "display_data"
    },
    {
     "name": "stdout",
     "output_type": "stream",
     "text": [
      "\n",
      "[0.007910862400633715, 0.00448796995858098, 0.006772553451412562, 0.0023690622971027156, 0.0009352933180152169, 0.0014853041766527504, 0.0020745599842239898, 0.007099364417869995]\n"
     ]
    },
    {
     "data": {
      "application/vnd.jupyter.widget-view+json": {
       "model_id": "18970422588a4647bff3fe550dbce03e",
       "version_major": 2,
       "version_minor": 0
      },
      "text/plain": [
       "HBox(children=(FloatProgress(value=0.0, max=1388.0), HTML(value='')))"
      ]
     },
     "metadata": {},
     "output_type": "display_data"
    },
    {
     "name": "stdout",
     "output_type": "stream",
     "text": [
      "\n",
      "[0.007910862400633715, 0.00448796995858098, 0.006772553451412562, 0.0023690622971027156, 0.0009352933180152169, 0.0014853041766527504, 0.0020745599842239898, 0.007099364417869995]\n"
     ]
    },
    {
     "data": {
      "application/vnd.jupyter.widget-view+json": {
       "model_id": "e4b85eeff12c4a4c9d3be1550dca1c43",
       "version_major": 2,
       "version_minor": 0
      },
      "text/plain": [
       "HBox(children=(FloatProgress(value=0.0, max=1391.0), HTML(value='')))"
      ]
     },
     "metadata": {},
     "output_type": "display_data"
    },
    {
     "name": "stdout",
     "output_type": "stream",
     "text": [
      "\n",
      "[0.007910862400633715, 0.00448796995858098, 0.006772553451412562, 0.0023690622971027156, 0.0009352933180152169, 0.0014853041766527504, 0.0020745599842239898, 0.007099364417869995]\n"
     ]
    },
    {
     "data": {
      "application/vnd.jupyter.widget-view+json": {
       "model_id": "98b3fe8323434e52b4531557582f14a1",
       "version_major": 2,
       "version_minor": 0
      },
      "text/plain": [
       "HBox(children=(FloatProgress(value=0.0, max=1393.0), HTML(value='')))"
      ]
     },
     "metadata": {},
     "output_type": "display_data"
    },
    {
     "name": "stdout",
     "output_type": "stream",
     "text": [
      "\n",
      "[0.007910862400633715, 0.00448796995858098, 0.006772553451412562, 0.0023690622971027156, 0.0009352933180152169, 0.0014853041766527504, 0.0020745599842239898, 0.007099364417869995]\n"
     ]
    },
    {
     "data": {
      "application/vnd.jupyter.widget-view+json": {
       "model_id": "abf6effb0d16472da2fdc44b6ceea816",
       "version_major": 2,
       "version_minor": 0
      },
      "text/plain": [
       "HBox(children=(FloatProgress(value=0.0, max=1390.0), HTML(value='')))"
      ]
     },
     "metadata": {},
     "output_type": "display_data"
    },
    {
     "name": "stdout",
     "output_type": "stream",
     "text": [
      "\n",
      "[0.007910862400633715, 0.00448796995858098, 0.006772553451412562, 0.0023690622971027156, 0.0009352933180152169, 0.0014853041766527504, 0.0020745599842239898, 0.007099364417869995]\n"
     ]
    },
    {
     "data": {
      "application/vnd.jupyter.widget-view+json": {
       "model_id": "f0c0b98c7b10441f8bd5eb8b01a7e473",
       "version_major": 2,
       "version_minor": 0
      },
      "text/plain": [
       "HBox(children=(FloatProgress(value=0.0, max=1392.0), HTML(value='')))"
      ]
     },
     "metadata": {},
     "output_type": "display_data"
    },
    {
     "name": "stdout",
     "output_type": "stream",
     "text": [
      "\n",
      "[0.007910862400633715, 0.00448796995858098, 0.006772553451412562, 0.0023690622971027156, 0.0009352933180152169, 0.0014853041766527504, 0.0020745599842239898, 0.007099364417869995]\n"
     ]
    },
    {
     "data": {
      "application/vnd.jupyter.widget-view+json": {
       "model_id": "19ef5d1eff124f5197d58ad3c0e127b3",
       "version_major": 2,
       "version_minor": 0
      },
      "text/plain": [
       "HBox(children=(FloatProgress(value=0.0, max=1392.0), HTML(value='')))"
      ]
     },
     "metadata": {},
     "output_type": "display_data"
    },
    {
     "name": "stdout",
     "output_type": "stream",
     "text": [
      "\n",
      "[0.007910862400633715, 0.00448796995858098, 0.006772553451412562, 0.0023690622971027156, 0.0009352933180152169, 0.0014853041766527504, 0.0020745599842239898, 0.007099364417869995]\n"
     ]
    },
    {
     "data": {
      "application/vnd.jupyter.widget-view+json": {
       "model_id": "9155f34c1375407ea73bb8915af67033",
       "version_major": 2,
       "version_minor": 0
      },
      "text/plain": [
       "HBox(children=(FloatProgress(value=0.0, max=1394.0), HTML(value='')))"
      ]
     },
     "metadata": {},
     "output_type": "display_data"
    },
    {
     "name": "stdout",
     "output_type": "stream",
     "text": [
      "\n",
      "[0.007910862400633715, 0.00448796995858098, 0.006772553451412562, 0.0023690622971027156, 0.0009352933180152169, 0.0014853041766527504, 0.0020745599842239898, 0.007099364417869995]\n"
     ]
    },
    {
     "data": {
      "application/vnd.jupyter.widget-view+json": {
       "model_id": "f9acd0bc50b44ba5b953b21a22e1bc1d",
       "version_major": 2,
       "version_minor": 0
      },
      "text/plain": [
       "HBox(children=(FloatProgress(value=0.0, max=1393.0), HTML(value='')))"
      ]
     },
     "metadata": {},
     "output_type": "display_data"
    },
    {
     "name": "stdout",
     "output_type": "stream",
     "text": [
      "\n",
      "[0.007910862400633715, 0.00448796995858098, 0.006772553451412562, 0.0023690622971027156, 0.0009352933180152169, 0.0014853041766527504, 0.0020745599842239898, 0.007099364417869995]\n"
     ]
    },
    {
     "data": {
      "application/vnd.jupyter.widget-view+json": {
       "model_id": "2c2088814f9247b28882ba2c26918cec",
       "version_major": 2,
       "version_minor": 0
      },
      "text/plain": [
       "HBox(children=(FloatProgress(value=0.0, max=1392.0), HTML(value='')))"
      ]
     },
     "metadata": {},
     "output_type": "display_data"
    },
    {
     "name": "stdout",
     "output_type": "stream",
     "text": [
      "\n",
      "[0.007910862400633715, 0.00448796995858098, 0.006772553451412562, 0.0023690622971027156, 0.0009352933180152169, 0.0014853041766527504, 0.0020745599842239898, 0.007099364417869995]\n"
     ]
    },
    {
     "data": {
      "application/vnd.jupyter.widget-view+json": {
       "model_id": "f7af02bed43745239323a85c5661fff8",
       "version_major": 2,
       "version_minor": 0
      },
      "text/plain": [
       "HBox(children=(FloatProgress(value=0.0, max=1394.0), HTML(value='')))"
      ]
     },
     "metadata": {},
     "output_type": "display_data"
    },
    {
     "name": "stdout",
     "output_type": "stream",
     "text": [
      "\n",
      "[0.007910862400633715, 0.00448796995858098, 0.006772553451412562, 0.0023690622971027156, 0.0009352933180152169, 0.0014853041766527504, 0.0020745599842239898, 0.007099364417869995]\n"
     ]
    },
    {
     "data": {
      "application/vnd.jupyter.widget-view+json": {
       "model_id": "e183d4ae1f2f4226bf44dbfcc9c245a7",
       "version_major": 2,
       "version_minor": 0
      },
      "text/plain": [
       "HBox(children=(FloatProgress(value=0.0, max=1395.0), HTML(value='')))"
      ]
     },
     "metadata": {},
     "output_type": "display_data"
    },
    {
     "name": "stdout",
     "output_type": "stream",
     "text": [
      "\n",
      "[0.007910862400633715, 0.00448796995858098, 0.006772553451412562, 0.0023690622971027156, 0.0009352933180152169, 0.0014853041766527504, 0.0020745599842239898, 0.007099364417869995]\n"
     ]
    },
    {
     "data": {
      "application/vnd.jupyter.widget-view+json": {
       "model_id": "b107b1cd378348a7bdc5146bd1eb5c64",
       "version_major": 2,
       "version_minor": 0
      },
      "text/plain": [
       "HBox(children=(FloatProgress(value=0.0, max=1386.0), HTML(value='')))"
      ]
     },
     "metadata": {},
     "output_type": "display_data"
    },
    {
     "name": "stdout",
     "output_type": "stream",
     "text": [
      "\n",
      "[0.007910862400633715, 0.00448796995858098, 0.006772553451412562, 0.0023690622971027156, 0.0009352933180152169, 0.0014853041766527504, 0.0020745599842239898, 0.007099364417869995]\n"
     ]
    },
    {
     "data": {
      "application/vnd.jupyter.widget-view+json": {
       "model_id": "8317cdbf705d454f8054e8c06bec8717",
       "version_major": 2,
       "version_minor": 0
      },
      "text/plain": [
       "HBox(children=(FloatProgress(value=0.0, max=1391.0), HTML(value='')))"
      ]
     },
     "metadata": {},
     "output_type": "display_data"
    },
    {
     "name": "stdout",
     "output_type": "stream",
     "text": [
      "\n",
      "[0.007910862400633715, 0.00448796995858098, 0.006772553451412562, 0.0023690622971027156, 0.0009352933180152169, 0.0014853041766527504, 0.0020745599842239898, 0.007099364417869995]\n"
     ]
    },
    {
     "data": {
      "application/vnd.jupyter.widget-view+json": {
       "model_id": "fa17766859ae44a1b0e5d5399a98226d",
       "version_major": 2,
       "version_minor": 0
      },
      "text/plain": [
       "HBox(children=(FloatProgress(value=0.0, max=1391.0), HTML(value='')))"
      ]
     },
     "metadata": {},
     "output_type": "display_data"
    },
    {
     "name": "stdout",
     "output_type": "stream",
     "text": [
      "\n",
      "[0.007910862400633715, 0.00448796995858098, 0.006772553451412562, 0.0023690622971027156, 0.0009352933180152169, 0.0014853041766527504, 0.0020745599842239898, 0.007099364417869995]\n"
     ]
    },
    {
     "data": {
      "application/vnd.jupyter.widget-view+json": {
       "model_id": "c2f75919cae3480588c03aaee48ace63",
       "version_major": 2,
       "version_minor": 0
      },
      "text/plain": [
       "HBox(children=(FloatProgress(value=0.0, max=1388.0), HTML(value='')))"
      ]
     },
     "metadata": {},
     "output_type": "display_data"
    },
    {
     "name": "stdout",
     "output_type": "stream",
     "text": [
      "\n",
      "[0.007910862400633715, 0.00448796995858098, 0.006772553451412562, 0.0023690622971027156, 0.0009352933180152169, 0.0014853041766527504, 0.0020745599842239898, 0.007099364417869995]\n"
     ]
    },
    {
     "data": {
      "application/vnd.jupyter.widget-view+json": {
       "model_id": "b44f0a6cef1e4839aa4a5a8e735eea31",
       "version_major": 2,
       "version_minor": 0
      },
      "text/plain": [
       "HBox(children=(FloatProgress(value=0.0, max=1393.0), HTML(value='')))"
      ]
     },
     "metadata": {},
     "output_type": "display_data"
    },
    {
     "name": "stdout",
     "output_type": "stream",
     "text": [
      "\n",
      "[0.007910862400633715, 0.00448796995858098, 0.006772553451412562, 0.0023690622971027156, 0.0009352933180152169, 0.0014853041766527504, 0.0020745599842239898, 0.007099364417869995]\n"
     ]
    },
    {
     "data": {
      "application/vnd.jupyter.widget-view+json": {
       "model_id": "468dfcc62e114fbfbcabd8cfaced9d45",
       "version_major": 2,
       "version_minor": 0
      },
      "text/plain": [
       "HBox(children=(FloatProgress(value=0.0, max=1390.0), HTML(value='')))"
      ]
     },
     "metadata": {},
     "output_type": "display_data"
    },
    {
     "name": "stdout",
     "output_type": "stream",
     "text": [
      "\n",
      "[0.007910862400633715, 0.00448796995858098, 0.006772553451412562, 0.0023690622971027156, 0.0009352933180152169, 0.0014853041766527504, 0.0020745599842239898, 0.007099364417869995]\n"
     ]
    },
    {
     "data": {
      "application/vnd.jupyter.widget-view+json": {
       "model_id": "0909dc27e4884b8f9294f3122e70b6d2",
       "version_major": 2,
       "version_minor": 0
      },
      "text/plain": [
       "HBox(children=(FloatProgress(value=0.0, max=1392.0), HTML(value='')))"
      ]
     },
     "metadata": {},
     "output_type": "display_data"
    },
    {
     "name": "stdout",
     "output_type": "stream",
     "text": [
      "\n",
      "[0.007910862400633715, 0.00448796995858098, 0.006772553451412562, 0.0023690622971027156, 0.0009352933180152169, 0.0014853041766527504, 0.0020745599842239898, 0.007099364417869995]\n"
     ]
    },
    {
     "data": {
      "application/vnd.jupyter.widget-view+json": {
       "model_id": "66ef3d0aa88047a89dcdd2f2067dd6b7",
       "version_major": 2,
       "version_minor": 0
      },
      "text/plain": [
       "HBox(children=(FloatProgress(value=0.0, max=1389.0), HTML(value='')))"
      ]
     },
     "metadata": {},
     "output_type": "display_data"
    },
    {
     "name": "stdout",
     "output_type": "stream",
     "text": [
      "\n",
      "[0.007910862400633715, 0.00448796995858098, 0.006772553451412562, 0.0023690622971027156, 0.0009352933180152169, 0.0014853041766527504, 0.0020745599842239898, 0.007099364417869995]\n"
     ]
    },
    {
     "data": {
      "application/vnd.jupyter.widget-view+json": {
       "model_id": "58c983cfcabf48e287ceb7bb76d147b3",
       "version_major": 2,
       "version_minor": 0
      },
      "text/plain": [
       "HBox(children=(FloatProgress(value=0.0, max=1391.0), HTML(value='')))"
      ]
     },
     "metadata": {},
     "output_type": "display_data"
    },
    {
     "name": "stdout",
     "output_type": "stream",
     "text": [
      "\n",
      "[0.007910862400633715, 0.00448796995858098, 0.006772553451412562, 0.0023690622971027156, 0.0009352933180152169, 0.0014853041766527504, 0.0020745599842239898, 0.007099364417869995]\n"
     ]
    },
    {
     "data": {
      "application/vnd.jupyter.widget-view+json": {
       "model_id": "08b144a7c2c64f80bf5b5ee8b8456419",
       "version_major": 2,
       "version_minor": 0
      },
      "text/plain": [
       "HBox(children=(FloatProgress(value=0.0, max=1392.0), HTML(value='')))"
      ]
     },
     "metadata": {},
     "output_type": "display_data"
    },
    {
     "name": "stdout",
     "output_type": "stream",
     "text": [
      "\n",
      "[0.007910862400633715, 0.00448796995858098, 0.006772553451412562, 0.0023690622971027156, 0.0009352933180152169, 0.0014853041766527504, 0.0020745599842239898, 0.007099364417869995]\n"
     ]
    },
    {
     "data": {
      "application/vnd.jupyter.widget-view+json": {
       "model_id": "b2dbd5d5ec764a73a26c2483a5d07851",
       "version_major": 2,
       "version_minor": 0
      },
      "text/plain": [
       "HBox(children=(FloatProgress(value=0.0, max=1387.0), HTML(value='')))"
      ]
     },
     "metadata": {},
     "output_type": "display_data"
    },
    {
     "name": "stdout",
     "output_type": "stream",
     "text": [
      "\n",
      "[0.007910862400633715, 0.00448796995858098, 0.006772553451412562, 0.0023690622971027156, 0.0009352933180152169, 0.0014853041766527504, 0.0020745599842239898, 0.007099364417869995]\n"
     ]
    },
    {
     "data": {
      "application/vnd.jupyter.widget-view+json": {
       "model_id": "33df77182c354f5ca68b7c02f7c634af",
       "version_major": 2,
       "version_minor": 0
      },
      "text/plain": [
       "HBox(children=(FloatProgress(value=0.0, max=1394.0), HTML(value='')))"
      ]
     },
     "metadata": {},
     "output_type": "display_data"
    },
    {
     "name": "stdout",
     "output_type": "stream",
     "text": [
      "\n",
      "[0.007910862400633715, 0.00448796995858098, 0.006772553451412562, 0.0023690622971027156, 0.0009352933180152169, 0.0014853041766527504, 0.0020745599842239898, 0.007099364417869995]\n"
     ]
    },
    {
     "data": {
      "application/vnd.jupyter.widget-view+json": {
       "model_id": "74be74da259143cf88d12f21d736c9e4",
       "version_major": 2,
       "version_minor": 0
      },
      "text/plain": [
       "HBox(children=(FloatProgress(value=0.0, max=1393.0), HTML(value='')))"
      ]
     },
     "metadata": {},
     "output_type": "display_data"
    },
    {
     "name": "stdout",
     "output_type": "stream",
     "text": [
      "\n",
      "[0.007910862400633715, 0.00448796995858098, 0.006772553451412562, 0.0023690622971027156, 0.0009352933180152169, 0.0014853041766527504, 0.0020745599842239898, 0.007099364417869995]\n"
     ]
    },
    {
     "data": {
      "application/vnd.jupyter.widget-view+json": {
       "model_id": "b5d768edb0af419ba3e6b286ca4c9d5a",
       "version_major": 2,
       "version_minor": 0
      },
      "text/plain": [
       "HBox(children=(FloatProgress(value=0.0, max=1384.0), HTML(value='')))"
      ]
     },
     "metadata": {},
     "output_type": "display_data"
    },
    {
     "name": "stdout",
     "output_type": "stream",
     "text": [
      "\n",
      "[0.007910862400633715, 0.00448796995858098, 0.006772553451412562, 0.0023690622971027156, 0.0009352933180152169, 0.0014853041766527504, 0.0020745599842239898, 0.007099364417869995]\n"
     ]
    },
    {
     "data": {
      "application/vnd.jupyter.widget-view+json": {
       "model_id": "fe80021aa4524f83a7939486c50040cf",
       "version_major": 2,
       "version_minor": 0
      },
      "text/plain": [
       "HBox(children=(FloatProgress(value=0.0, max=1386.0), HTML(value='')))"
      ]
     },
     "metadata": {},
     "output_type": "display_data"
    },
    {
     "name": "stdout",
     "output_type": "stream",
     "text": [
      "\n",
      "[0.007910862400633715, 0.00448796995858098, 0.006772553451412562, 0.0023690622971027156, 0.0009352933180152169, 0.0014853041766527504, 0.0020745599842239898, 0.007099364417869995]\n"
     ]
    },
    {
     "data": {
      "application/vnd.jupyter.widget-view+json": {
       "model_id": "7f12084e1043460c8a7600f3dec81734",
       "version_major": 2,
       "version_minor": 0
      },
      "text/plain": [
       "HBox(children=(FloatProgress(value=0.0, max=1394.0), HTML(value='')))"
      ]
     },
     "metadata": {},
     "output_type": "display_data"
    },
    {
     "name": "stdout",
     "output_type": "stream",
     "text": [
      "\n",
      "[0.007910862400633715, 0.00448796995858098, 0.006772553451412562, 0.0023690622971027156, 0.0009352933180152169, 0.0014853041766527504, 0.0020745599842239898, 0.007099364417869995]\n"
     ]
    },
    {
     "data": {
      "application/vnd.jupyter.widget-view+json": {
       "model_id": "732f8b9f118d47a6b70948a78da3fcd2",
       "version_major": 2,
       "version_minor": 0
      },
      "text/plain": [
       "HBox(children=(FloatProgress(value=0.0, max=1392.0), HTML(value='')))"
      ]
     },
     "metadata": {},
     "output_type": "display_data"
    },
    {
     "name": "stdout",
     "output_type": "stream",
     "text": [
      "\n",
      "[0.007910862400633715, 0.00448796995858098, 0.006772553451412562, 0.0023690622971027156, 0.0009352933180152169, 0.0014853041766527504, 0.0020745599842239898, 0.007099364417869995]\n"
     ]
    },
    {
     "data": {
      "application/vnd.jupyter.widget-view+json": {
       "model_id": "efd6c535ef3348808a2e46c774928865",
       "version_major": 2,
       "version_minor": 0
      },
      "text/plain": [
       "HBox(children=(FloatProgress(value=0.0, max=1386.0), HTML(value='')))"
      ]
     },
     "metadata": {},
     "output_type": "display_data"
    },
    {
     "name": "stdout",
     "output_type": "stream",
     "text": [
      "\n",
      "[0.007910862400633715, 0.00448796995858098, 0.006772553451412562, 0.0023690622971027156, 0.0009352933180152169, 0.0014853041766527504, 0.0020745599842239898, 0.007099364417869995]\n"
     ]
    },
    {
     "data": {
      "application/vnd.jupyter.widget-view+json": {
       "model_id": "3e677c7e5a0447958293f30c95286cbd",
       "version_major": 2,
       "version_minor": 0
      },
      "text/plain": [
       "HBox(children=(FloatProgress(value=0.0, max=1392.0), HTML(value='')))"
      ]
     },
     "metadata": {},
     "output_type": "display_data"
    },
    {
     "name": "stdout",
     "output_type": "stream",
     "text": [
      "\n",
      "[0.007910862400633715, 0.00448796995858098, 0.006772553451412562, 0.0023690622971027156, 0.0009352933180152169, 0.0014853041766527504, 0.0020745599842239898, 0.007099364417869995]\n"
     ]
    },
    {
     "data": {
      "application/vnd.jupyter.widget-view+json": {
       "model_id": "a1987776049a438f90fb9c4bf6767f94",
       "version_major": 2,
       "version_minor": 0
      },
      "text/plain": [
       "HBox(children=(FloatProgress(value=0.0, max=1392.0), HTML(value='')))"
      ]
     },
     "metadata": {},
     "output_type": "display_data"
    },
    {
     "name": "stdout",
     "output_type": "stream",
     "text": [
      "\n",
      "[0.007910862400633715, 0.00448796995858098, 0.006772553451412562, 0.0023690622971027156, 0.0009352933180152169, 0.0014853041766527504, 0.0020745599842239898, 0.007099364417869995]\n"
     ]
    },
    {
     "data": {
      "application/vnd.jupyter.widget-view+json": {
       "model_id": "aa21c860d08844cf88c7650c245814b7",
       "version_major": 2,
       "version_minor": 0
      },
      "text/plain": [
       "HBox(children=(FloatProgress(value=0.0, max=1388.0), HTML(value='')))"
      ]
     },
     "metadata": {},
     "output_type": "display_data"
    },
    {
     "name": "stdout",
     "output_type": "stream",
     "text": [
      "\n",
      "[0.007910862400633715, 0.00448796995858098, 0.006772553451412562, 0.0023690622971027156, 0.0009352933180152169, 0.0014853041766527504, 0.0020745599842239898, 0.007099364417869995]\n"
     ]
    },
    {
     "data": {
      "application/vnd.jupyter.widget-view+json": {
       "model_id": "ae79cc2508af471297965afe6e15f427",
       "version_major": 2,
       "version_minor": 0
      },
      "text/plain": [
       "HBox(children=(FloatProgress(value=0.0, max=1391.0), HTML(value='')))"
      ]
     },
     "metadata": {},
     "output_type": "display_data"
    },
    {
     "name": "stdout",
     "output_type": "stream",
     "text": [
      "\n",
      "[0.007910862400633715, 0.00448796995858098, 0.006772553451412562, 0.0023690622971027156, 0.0009352933180152169, 0.0014853041766527504, 0.0020745599842239898, 0.007099364417869995]\n"
     ]
    },
    {
     "data": {
      "application/vnd.jupyter.widget-view+json": {
       "model_id": "72093ad1ef9c40b3b8b510fa2a83d4a5",
       "version_major": 2,
       "version_minor": 0
      },
      "text/plain": [
       "HBox(children=(FloatProgress(value=0.0, max=1393.0), HTML(value='')))"
      ]
     },
     "metadata": {},
     "output_type": "display_data"
    },
    {
     "name": "stdout",
     "output_type": "stream",
     "text": [
      "\n",
      "[0.007910862400633715, 0.00448796995858098, 0.006772553451412562, 0.0023690622971027156, 0.0009352933180152169, 0.0014853041766527504, 0.0020745599842239898, 0.007099364417869995]\n"
     ]
    },
    {
     "data": {
      "application/vnd.jupyter.widget-view+json": {
       "model_id": "ef05412ea8784a13a032f50ea7a74db9",
       "version_major": 2,
       "version_minor": 0
      },
      "text/plain": [
       "HBox(children=(FloatProgress(value=0.0, max=1392.0), HTML(value='')))"
      ]
     },
     "metadata": {},
     "output_type": "display_data"
    },
    {
     "name": "stdout",
     "output_type": "stream",
     "text": [
      "\n",
      "[0.007910862400633715, 0.00448796995858098, 0.006772553451412562, 0.0023690622971027156, 0.0009352933180152169, 0.0014853041766527504, 0.0020745599842239898, 0.007099364417869995]\n"
     ]
    },
    {
     "data": {
      "application/vnd.jupyter.widget-view+json": {
       "model_id": "0e423158f6694ecc80dd6e8373be118e",
       "version_major": 2,
       "version_minor": 0
      },
      "text/plain": [
       "HBox(children=(FloatProgress(value=0.0, max=1393.0), HTML(value='')))"
      ]
     },
     "metadata": {},
     "output_type": "display_data"
    },
    {
     "name": "stdout",
     "output_type": "stream",
     "text": [
      "\n",
      "[0.007910862400633715, 0.00448796995858098, 0.006772553451412562, 0.0023690622971027156, 0.0009352933180152169, 0.0014853041766527504, 0.0020745599842239898, 0.007099364417869995]\n"
     ]
    },
    {
     "data": {
      "application/vnd.jupyter.widget-view+json": {
       "model_id": "35dfef03804547c6ad3882581cd06ea3",
       "version_major": 2,
       "version_minor": 0
      },
      "text/plain": [
       "HBox(children=(FloatProgress(value=0.0, max=1386.0), HTML(value='')))"
      ]
     },
     "metadata": {},
     "output_type": "display_data"
    },
    {
     "name": "stdout",
     "output_type": "stream",
     "text": [
      "\n",
      "[0.007910862400633715, 0.00448796995858098, 0.006772553451412562, 0.0023690622971027156, 0.0009352933180152169, 0.0014853041766527504, 0.0020745599842239898, 0.007099364417869995]\n"
     ]
    },
    {
     "data": {
      "application/vnd.jupyter.widget-view+json": {
       "model_id": "129718c54433457c99e9233389d8c77e",
       "version_major": 2,
       "version_minor": 0
      },
      "text/plain": [
       "HBox(children=(FloatProgress(value=0.0, max=1394.0), HTML(value='')))"
      ]
     },
     "metadata": {},
     "output_type": "display_data"
    },
    {
     "name": "stdout",
     "output_type": "stream",
     "text": [
      "\n",
      "[0.007910862400633715, 0.00448796995858098, 0.006772553451412562, 0.0023690622971027156, 0.0009352933180152169, 0.0014853041766527504, 0.0020745599842239898, 0.007099364417869995]\n"
     ]
    },
    {
     "data": {
      "application/vnd.jupyter.widget-view+json": {
       "model_id": "ac027c820f984393863b4ca466f4a807",
       "version_major": 2,
       "version_minor": 0
      },
      "text/plain": [
       "HBox(children=(FloatProgress(value=0.0, max=1393.0), HTML(value='')))"
      ]
     },
     "metadata": {},
     "output_type": "display_data"
    },
    {
     "name": "stdout",
     "output_type": "stream",
     "text": [
      "\n",
      "[0.007910862400633715, 0.00448796995858098, 0.006772553451412562, 0.0023690622971027156, 0.0009352933180152169, 0.0014853041766527504, 0.0020745599842239898, 0.007099364417869995]\n"
     ]
    },
    {
     "data": {
      "application/vnd.jupyter.widget-view+json": {
       "model_id": "5315a7495d1d44f3907da340373dcd48",
       "version_major": 2,
       "version_minor": 0
      },
      "text/plain": [
       "HBox(children=(FloatProgress(value=0.0, max=1386.0), HTML(value='')))"
      ]
     },
     "metadata": {},
     "output_type": "display_data"
    },
    {
     "name": "stdout",
     "output_type": "stream",
     "text": [
      "\n",
      "[0.007910862400633715, 0.00448796995858098, 0.006772553451412562, 0.0023690622971027156, 0.0009352933180152169, 0.0014853041766527504, 0.0020745599842239898, 0.007099364417869995]\n"
     ]
    },
    {
     "data": {
      "application/vnd.jupyter.widget-view+json": {
       "model_id": "2b3e0f2e50ba4fc3a47a40e2861e1711",
       "version_major": 2,
       "version_minor": 0
      },
      "text/plain": [
       "HBox(children=(FloatProgress(value=0.0, max=1394.0), HTML(value='')))"
      ]
     },
     "metadata": {},
     "output_type": "display_data"
    },
    {
     "name": "stdout",
     "output_type": "stream",
     "text": [
      "\n",
      "[0.007910862400633715, 0.00448796995858098, 0.006772553451412562, 0.0023690622971027156, 0.0009352933180152169, 0.0014853041766527504, 0.0020745599842239898, 0.007099364417869995]\n"
     ]
    },
    {
     "data": {
      "application/vnd.jupyter.widget-view+json": {
       "model_id": "9b4127024e7d49369e7dd10dad3c9b4a",
       "version_major": 2,
       "version_minor": 0
      },
      "text/plain": [
       "HBox(children=(FloatProgress(value=0.0, max=1390.0), HTML(value='')))"
      ]
     },
     "metadata": {},
     "output_type": "display_data"
    },
    {
     "name": "stdout",
     "output_type": "stream",
     "text": [
      "\n",
      "[0.007910862400633715, 0.00448796995858098, 0.006772553451412562, 0.0023690622971027156, 0.0009352933180152169, 0.0014853041766527504, 0.0020745599842239898, 0.007099364417869995]\n"
     ]
    },
    {
     "data": {
      "application/vnd.jupyter.widget-view+json": {
       "model_id": "b6794b3c3f114d3888d40107f0b99bfb",
       "version_major": 2,
       "version_minor": 0
      },
      "text/plain": [
       "HBox(children=(FloatProgress(value=0.0, max=1393.0), HTML(value='')))"
      ]
     },
     "metadata": {},
     "output_type": "display_data"
    },
    {
     "name": "stdout",
     "output_type": "stream",
     "text": [
      "\n",
      "[0.007910862400633715, 0.00448796995858098, 0.006772553451412562, 0.0023690622971027156, 0.0009352933180152169, 0.0014853041766527504, 0.0020745599842239898, 0.007099364417869995]\n"
     ]
    },
    {
     "data": {
      "application/vnd.jupyter.widget-view+json": {
       "model_id": "e410e7020bf94aad9753c8a3150886c7",
       "version_major": 2,
       "version_minor": 0
      },
      "text/plain": [
       "HBox(children=(FloatProgress(value=0.0, max=1395.0), HTML(value='')))"
      ]
     },
     "metadata": {},
     "output_type": "display_data"
    },
    {
     "name": "stdout",
     "output_type": "stream",
     "text": [
      "\n",
      "[0.007910862400633715, 0.00448796995858098, 0.006772553451412562, 0.0023690622971027156, 0.0009352933180152169, 0.0014853041766527504, 0.0020745599842239898, 0.007099364417869995]\n"
     ]
    },
    {
     "data": {
      "application/vnd.jupyter.widget-view+json": {
       "model_id": "4666c90ddce648db99f385a6af5f543a",
       "version_major": 2,
       "version_minor": 0
      },
      "text/plain": [
       "HBox(children=(FloatProgress(value=0.0, max=1390.0), HTML(value='')))"
      ]
     },
     "metadata": {},
     "output_type": "display_data"
    },
    {
     "name": "stdout",
     "output_type": "stream",
     "text": [
      "\n",
      "[0.007910862400633715, 0.00448796995858098, 0.006772553451412562, 0.0023690622971027156, 0.0009352933180152169, 0.0014853041766527504, 0.0020745599842239898, 0.007099364417869995]\n"
     ]
    },
    {
     "data": {
      "application/vnd.jupyter.widget-view+json": {
       "model_id": "7dfb58daab604bed9d1361990a6931da",
       "version_major": 2,
       "version_minor": 0
      },
      "text/plain": [
       "HBox(children=(FloatProgress(value=0.0, max=1394.0), HTML(value='')))"
      ]
     },
     "metadata": {},
     "output_type": "display_data"
    },
    {
     "name": "stdout",
     "output_type": "stream",
     "text": [
      "\n",
      "[0.007910862400633715, 0.00448796995858098, 0.006772553451412562, 0.0023690622971027156, 0.0009352933180152169, 0.0014853041766527504, 0.0020745599842239898, 0.007099364417869995]\n"
     ]
    },
    {
     "data": {
      "application/vnd.jupyter.widget-view+json": {
       "model_id": "30d485d9c0e048fea465f88da26edd83",
       "version_major": 2,
       "version_minor": 0
      },
      "text/plain": [
       "HBox(children=(FloatProgress(value=0.0, max=1393.0), HTML(value='')))"
      ]
     },
     "metadata": {},
     "output_type": "display_data"
    },
    {
     "name": "stdout",
     "output_type": "stream",
     "text": [
      "\n",
      "[0.007910862400633715, 0.00448796995858098, 0.006772553451412562, 0.0023690622971027156, 0.0009352933180152169, 0.0014853041766527504, 0.0020745599842239898, 0.007099364417869995]\n"
     ]
    },
    {
     "data": {
      "application/vnd.jupyter.widget-view+json": {
       "model_id": "4c1724e24e9f40bbaa1ca571a3495520",
       "version_major": 2,
       "version_minor": 0
      },
      "text/plain": [
       "HBox(children=(FloatProgress(value=0.0, max=1390.0), HTML(value='')))"
      ]
     },
     "metadata": {},
     "output_type": "display_data"
    },
    {
     "name": "stdout",
     "output_type": "stream",
     "text": [
      "\n",
      "[0.007910862400633715, 0.00448796995858098, 0.006772553451412562, 0.0023690622971027156, 0.0009352933180152169, 0.0014853041766527504, 0.0020745599842239898, 0.007099364417869995]\n"
     ]
    },
    {
     "data": {
      "application/vnd.jupyter.widget-view+json": {
       "model_id": "d72d414aee704c72a5218a8e5af1910d",
       "version_major": 2,
       "version_minor": 0
      },
      "text/plain": [
       "HBox(children=(FloatProgress(value=0.0, max=1394.0), HTML(value='')))"
      ]
     },
     "metadata": {},
     "output_type": "display_data"
    },
    {
     "name": "stdout",
     "output_type": "stream",
     "text": [
      "\n",
      "[0.007910862400633715, 0.00448796995858098, 0.006772553451412562, 0.0023690622971027156, 0.0009352933180152169, 0.0014853041766527504, 0.0020745599842239898, 0.007099364417869995]\n"
     ]
    },
    {
     "data": {
      "application/vnd.jupyter.widget-view+json": {
       "model_id": "2efe4445d5b940cea89027cb9d9e6c8d",
       "version_major": 2,
       "version_minor": 0
      },
      "text/plain": [
       "HBox(children=(FloatProgress(value=0.0, max=1393.0), HTML(value='')))"
      ]
     },
     "metadata": {},
     "output_type": "display_data"
    },
    {
     "name": "stdout",
     "output_type": "stream",
     "text": [
      "\n",
      "[0.007910862400633715, 0.00448796995858098, 0.006772553451412562, 0.0023690622971027156, 0.0009352933180152169, 0.0014853041766527504, 0.0020745599842239898, 0.007099364417869995]\n"
     ]
    },
    {
     "data": {
      "application/vnd.jupyter.widget-view+json": {
       "model_id": "517e3cdf26ce4cc685dad313790e594a",
       "version_major": 2,
       "version_minor": 0
      },
      "text/plain": [
       "HBox(children=(FloatProgress(value=0.0, max=1393.0), HTML(value='')))"
      ]
     },
     "metadata": {},
     "output_type": "display_data"
    },
    {
     "name": "stdout",
     "output_type": "stream",
     "text": [
      "\n",
      "[0.007910862400633715, 0.00448796995858098, 0.006772553451412562, 0.0023690622971027156, 0.0009352933180152169, 0.0014853041766527504, 0.0020745599842239898, 0.007099364417869995]\n"
     ]
    },
    {
     "data": {
      "application/vnd.jupyter.widget-view+json": {
       "model_id": "f22c6323e4c14e51a89808d4f83eb31e",
       "version_major": 2,
       "version_minor": 0
      },
      "text/plain": [
       "HBox(children=(FloatProgress(value=0.0, max=1388.0), HTML(value='')))"
      ]
     },
     "metadata": {},
     "output_type": "display_data"
    },
    {
     "name": "stdout",
     "output_type": "stream",
     "text": [
      "\n",
      "[0.007910862400633715, 0.00448796995858098, 0.006772553451412562, 0.0023690622971027156, 0.0009352933180152169, 0.0014853041766527504, 0.0020745599842239898, 0.007099364417869995]\n"
     ]
    },
    {
     "data": {
      "application/vnd.jupyter.widget-view+json": {
       "model_id": "0637ae0ac0ca44c7bbbe9dc76d54ece6",
       "version_major": 2,
       "version_minor": 0
      },
      "text/plain": [
       "HBox(children=(FloatProgress(value=0.0, max=1393.0), HTML(value='')))"
      ]
     },
     "metadata": {},
     "output_type": "display_data"
    },
    {
     "name": "stdout",
     "output_type": "stream",
     "text": [
      "\n",
      "[0.007910862400633715, 0.00448796995858098, 0.006772553451412562, 0.0023690622971027156, 0.0009352933180152169, 0.0014853041766527504, 0.0020745599842239898, 0.007099364417869995]\n"
     ]
    },
    {
     "data": {
      "application/vnd.jupyter.widget-view+json": {
       "model_id": "e567d5708f24416ea73fcb9a525f4c49",
       "version_major": 2,
       "version_minor": 0
      },
      "text/plain": [
       "HBox(children=(FloatProgress(value=0.0, max=1389.0), HTML(value='')))"
      ]
     },
     "metadata": {},
     "output_type": "display_data"
    },
    {
     "name": "stdout",
     "output_type": "stream",
     "text": [
      "\n",
      "[0.007910862400633715, 0.00448796995858098, 0.006772553451412562, 0.0023690622971027156, 0.0009352933180152169, 0.0014853041766527504, 0.0020745599842239898, 0.007099364417869995]\n"
     ]
    },
    {
     "data": {
      "application/vnd.jupyter.widget-view+json": {
       "model_id": "d6a83acad02e4ca1bd90fd14b6444579",
       "version_major": 2,
       "version_minor": 0
      },
      "text/plain": [
       "HBox(children=(FloatProgress(value=0.0, max=1391.0), HTML(value='')))"
      ]
     },
     "metadata": {},
     "output_type": "display_data"
    },
    {
     "name": "stdout",
     "output_type": "stream",
     "text": [
      "\n",
      "[0.007910862400633715, 0.00448796995858098, 0.006772553451412562, 0.0023690622971027156, 0.0009352933180152169, 0.0014853041766527504, 0.0020745599842239898, 0.007099364417869995]\n"
     ]
    },
    {
     "data": {
      "application/vnd.jupyter.widget-view+json": {
       "model_id": "7d1fd7fdf6b040268d16c5174057a38c",
       "version_major": 2,
       "version_minor": 0
      },
      "text/plain": [
       "HBox(children=(FloatProgress(value=0.0, max=1392.0), HTML(value='')))"
      ]
     },
     "metadata": {},
     "output_type": "display_data"
    },
    {
     "name": "stdout",
     "output_type": "stream",
     "text": [
      "\n",
      "[0.007910862400633715, 0.00448796995858098, 0.006772553451412562, 0.0023690622971027156, 0.0009352933180152169, 0.0014853041766527504, 0.0020745599842239898, 0.007099364417869995]\n"
     ]
    },
    {
     "data": {
      "application/vnd.jupyter.widget-view+json": {
       "model_id": "0cae284ff60e4be59df3d47d62660cbf",
       "version_major": 2,
       "version_minor": 0
      },
      "text/plain": [
       "HBox(children=(FloatProgress(value=0.0, max=1392.0), HTML(value='')))"
      ]
     },
     "metadata": {},
     "output_type": "display_data"
    },
    {
     "name": "stdout",
     "output_type": "stream",
     "text": [
      "\n",
      "[0.007910862400633715, 0.00448796995858098, 0.006772553451412562, 0.0023690622971027156, 0.0009352933180152169, 0.0014853041766527504, 0.0020745599842239898, 0.007099364417869995]\n"
     ]
    },
    {
     "data": {
      "application/vnd.jupyter.widget-view+json": {
       "model_id": "180297dd4c584a1b8dd25fd4e48e96a0",
       "version_major": 2,
       "version_minor": 0
      },
      "text/plain": [
       "HBox(children=(FloatProgress(value=0.0, max=1386.0), HTML(value='')))"
      ]
     },
     "metadata": {},
     "output_type": "display_data"
    },
    {
     "name": "stdout",
     "output_type": "stream",
     "text": [
      "\n",
      "[0.007910862400633715, 0.00448796995858098, 0.006772553451412562, 0.0023690622971027156, 0.0009352933180152169, 0.0014853041766527504, 0.0020745599842239898, 0.007099364417869995]\n"
     ]
    },
    {
     "data": {
      "application/vnd.jupyter.widget-view+json": {
       "model_id": "046ef58ba2094b2e8d43dd02dec0af29",
       "version_major": 2,
       "version_minor": 0
      },
      "text/plain": [
       "HBox(children=(FloatProgress(value=0.0, max=1390.0), HTML(value='')))"
      ]
     },
     "metadata": {},
     "output_type": "display_data"
    },
    {
     "name": "stdout",
     "output_type": "stream",
     "text": [
      "\n",
      "[0.007910862400633715, 0.00448796995858098, 0.006772553451412562, 0.0023690622971027156, 0.0009352933180152169, 0.0014853041766527504, 0.0020745599842239898, 0.007099364417869995]\n"
     ]
    },
    {
     "data": {
      "application/vnd.jupyter.widget-view+json": {
       "model_id": "9775cb10d25644b4b2dc3e2950fd34a8",
       "version_major": 2,
       "version_minor": 0
      },
      "text/plain": [
       "HBox(children=(FloatProgress(value=0.0, max=1392.0), HTML(value='')))"
      ]
     },
     "metadata": {},
     "output_type": "display_data"
    },
    {
     "name": "stdout",
     "output_type": "stream",
     "text": [
      "\n",
      "[0.007910862400633715, 0.00448796995858098, 0.006772553451412562, 0.0023690622971027156, 0.0009352933180152169, 0.0014853041766527504, 0.0020745599842239898, 0.007099364417869995]\n"
     ]
    },
    {
     "data": {
      "application/vnd.jupyter.widget-view+json": {
       "model_id": "595decece6e444a2b8718db38b998f18",
       "version_major": 2,
       "version_minor": 0
      },
      "text/plain": [
       "HBox(children=(FloatProgress(value=0.0, max=1392.0), HTML(value='')))"
      ]
     },
     "metadata": {},
     "output_type": "display_data"
    },
    {
     "name": "stdout",
     "output_type": "stream",
     "text": [
      "\n",
      "[0.007910862400633715, 0.00448796995858098, 0.006772553451412562, 0.0023690622971027156, 0.0009352933180152169, 0.0014853041766527504, 0.0020745599842239898, 0.007099364417869995]\n"
     ]
    },
    {
     "data": {
      "application/vnd.jupyter.widget-view+json": {
       "model_id": "732f70189c0441ac93f941025f0cfc1e",
       "version_major": 2,
       "version_minor": 0
      },
      "text/plain": [
       "HBox(children=(FloatProgress(value=0.0, max=1395.0), HTML(value='')))"
      ]
     },
     "metadata": {},
     "output_type": "display_data"
    },
    {
     "name": "stdout",
     "output_type": "stream",
     "text": [
      "\n",
      "[0.007910862400633715, 0.00448796995858098, 0.006772553451412562, 0.0023690622971027156, 0.0009352933180152169, 0.0014853041766527504, 0.0020745599842239898, 0.007099364417869995]\n"
     ]
    },
    {
     "data": {
      "application/vnd.jupyter.widget-view+json": {
       "model_id": "8a74d5441a6448d693803c03c756c5db",
       "version_major": 2,
       "version_minor": 0
      },
      "text/plain": [
       "HBox(children=(FloatProgress(value=0.0, max=1392.0), HTML(value='')))"
      ]
     },
     "metadata": {},
     "output_type": "display_data"
    },
    {
     "name": "stdout",
     "output_type": "stream",
     "text": [
      "\n",
      "[0.007910862400633715, 0.00448796995858098, 0.006772553451412562, 0.0023690622971027156, 0.0009352933180152169, 0.0014853041766527504, 0.0020745599842239898, 0.007099364417869995]\n"
     ]
    },
    {
     "data": {
      "application/vnd.jupyter.widget-view+json": {
       "model_id": "faa7200c95864c799fb5c353fad4682b",
       "version_major": 2,
       "version_minor": 0
      },
      "text/plain": [
       "HBox(children=(FloatProgress(value=0.0, max=1392.0), HTML(value='')))"
      ]
     },
     "metadata": {},
     "output_type": "display_data"
    },
    {
     "name": "stdout",
     "output_type": "stream",
     "text": [
      "\n",
      "[0.007910862400633715, 0.00448796995858098, 0.006772553451412562, 0.0023690622971027156, 0.0009352933180152169, 0.0014853041766527504, 0.0020745599842239898, 0.007099364417869995]\n"
     ]
    },
    {
     "data": {
      "application/vnd.jupyter.widget-view+json": {
       "model_id": "3a95dbdf91ce42038a55cd98af9c7a68",
       "version_major": 2,
       "version_minor": 0
      },
      "text/plain": [
       "HBox(children=(FloatProgress(value=0.0, max=1388.0), HTML(value='')))"
      ]
     },
     "metadata": {},
     "output_type": "display_data"
    },
    {
     "name": "stdout",
     "output_type": "stream",
     "text": [
      "\n",
      "[0.007910862400633715, 0.00448796995858098, 0.006772553451412562, 0.0023690622971027156, 0.0009352933180152169, 0.0014853041766527504, 0.0020745599842239898, 0.007099364417869995]\n"
     ]
    },
    {
     "data": {
      "application/vnd.jupyter.widget-view+json": {
       "model_id": "072faeb1aa20466482f1c4e50eb568ba",
       "version_major": 2,
       "version_minor": 0
      },
      "text/plain": [
       "HBox(children=(FloatProgress(value=0.0, max=1393.0), HTML(value='')))"
      ]
     },
     "metadata": {},
     "output_type": "display_data"
    },
    {
     "name": "stdout",
     "output_type": "stream",
     "text": [
      "\n",
      "[0.007910862400633715, 0.00448796995858098, 0.006772553451412562, 0.0023690622971027156, 0.0009352933180152169, 0.0014853041766527504, 0.0020745599842239898, 0.007099364417869995]\n"
     ]
    },
    {
     "data": {
      "application/vnd.jupyter.widget-view+json": {
       "model_id": "169a4de4c78a4c259d57c420d9dfa309",
       "version_major": 2,
       "version_minor": 0
      },
      "text/plain": [
       "HBox(children=(FloatProgress(value=0.0, max=1393.0), HTML(value='')))"
      ]
     },
     "metadata": {},
     "output_type": "display_data"
    },
    {
     "name": "stdout",
     "output_type": "stream",
     "text": [
      "\n",
      "[0.007910862400633715, 0.00448796995858098, 0.006772553451412562, 0.0023690622971027156, 0.0009352933180152169, 0.0014853041766527504, 0.0020745599842239898, 0.007099364417869995]\n"
     ]
    },
    {
     "data": {
      "application/vnd.jupyter.widget-view+json": {
       "model_id": "3873a2ce866e409ca9924c176fe99484",
       "version_major": 2,
       "version_minor": 0
      },
      "text/plain": [
       "HBox(children=(FloatProgress(value=0.0, max=1389.0), HTML(value='')))"
      ]
     },
     "metadata": {},
     "output_type": "display_data"
    },
    {
     "name": "stdout",
     "output_type": "stream",
     "text": [
      "\n",
      "[0.007910862400633715, 0.00448796995858098, 0.006772553451412562, 0.0023690622971027156, 0.0009352933180152169, 0.0014853041766527504, 0.0020745599842239898, 0.007099364417869995]\n"
     ]
    },
    {
     "data": {
      "application/vnd.jupyter.widget-view+json": {
       "model_id": "e76244d904a3451e974936b25cd457cb",
       "version_major": 2,
       "version_minor": 0
      },
      "text/plain": [
       "HBox(children=(FloatProgress(value=0.0, max=1391.0), HTML(value='')))"
      ]
     },
     "metadata": {},
     "output_type": "display_data"
    },
    {
     "name": "stdout",
     "output_type": "stream",
     "text": [
      "\n",
      "[0.007910862400633715, 0.00448796995858098, 0.006772553451412562, 0.0023690622971027156, 0.0009352933180152169, 0.0014853041766527504, 0.0020745599842239898, 0.007099364417869995]\n"
     ]
    },
    {
     "data": {
      "application/vnd.jupyter.widget-view+json": {
       "model_id": "8f9c5f67df35458e9263edff25b45a10",
       "version_major": 2,
       "version_minor": 0
      },
      "text/plain": [
       "HBox(children=(FloatProgress(value=0.0, max=1393.0), HTML(value='')))"
      ]
     },
     "metadata": {},
     "output_type": "display_data"
    },
    {
     "name": "stdout",
     "output_type": "stream",
     "text": [
      "\n",
      "[0.007910862400633715, 0.00448796995858098, 0.006772553451412562, 0.0023690622971027156, 0.0009352933180152169, 0.0014853041766527504, 0.0020745599842239898, 0.007099364417869995]\n"
     ]
    },
    {
     "data": {
      "application/vnd.jupyter.widget-view+json": {
       "model_id": "fd4ae42464e6467abe292cbb6b5d344c",
       "version_major": 2,
       "version_minor": 0
      },
      "text/plain": [
       "HBox(children=(FloatProgress(value=0.0, max=1391.0), HTML(value='')))"
      ]
     },
     "metadata": {},
     "output_type": "display_data"
    },
    {
     "name": "stdout",
     "output_type": "stream",
     "text": [
      "\n",
      "[0.007910862400633715, 0.00448796995858098, 0.006772553451412562, 0.0023690622971027156, 0.0009352933180152169, 0.0014853041766527504, 0.0020745599842239898, 0.007099364417869995]\n"
     ]
    },
    {
     "data": {
      "application/vnd.jupyter.widget-view+json": {
       "model_id": "a3c3600e60cf45a1a41848a2ce5e8f71",
       "version_major": 2,
       "version_minor": 0
      },
      "text/plain": [
       "HBox(children=(FloatProgress(value=0.0, max=1393.0), HTML(value='')))"
      ]
     },
     "metadata": {},
     "output_type": "display_data"
    },
    {
     "name": "stdout",
     "output_type": "stream",
     "text": [
      "\n",
      "[0.007910862400633715, 0.00448796995858098, 0.006772553451412562, 0.0023690622971027156, 0.0009352933180152169, 0.0014853041766527504, 0.0020745599842239898, 0.007099364417869995]\n"
     ]
    },
    {
     "data": {
      "application/vnd.jupyter.widget-view+json": {
       "model_id": "bab498233ba34967a167bcc7a30f0181",
       "version_major": 2,
       "version_minor": 0
      },
      "text/plain": [
       "HBox(children=(FloatProgress(value=0.0, max=1393.0), HTML(value='')))"
      ]
     },
     "metadata": {},
     "output_type": "display_data"
    },
    {
     "name": "stdout",
     "output_type": "stream",
     "text": [
      "\n",
      "[0.007910862400633715, 0.00448796995858098, 0.006772553451412562, 0.0023690622971027156, 0.0009352933180152169, 0.0014853041766527504, 0.0020745599842239898, 0.007099364417869995]\n"
     ]
    },
    {
     "data": {
      "application/vnd.jupyter.widget-view+json": {
       "model_id": "29f361d8d9e54f6e9e82792ce097abc3",
       "version_major": 2,
       "version_minor": 0
      },
      "text/plain": [
       "HBox(children=(FloatProgress(value=0.0, max=1395.0), HTML(value='')))"
      ]
     },
     "metadata": {},
     "output_type": "display_data"
    },
    {
     "name": "stdout",
     "output_type": "stream",
     "text": [
      "\n",
      "[0.007910862400633715, 0.00448796995858098, 0.006772553451412562, 0.0023690622971027156, 0.0009352933180152169, 0.0014853041766527504, 0.0020745599842239898, 0.007099364417869995]\n"
     ]
    },
    {
     "data": {
      "application/vnd.jupyter.widget-view+json": {
       "model_id": "e3f54c3165f141c18ddfedd9f1233fcc",
       "version_major": 2,
       "version_minor": 0
      },
      "text/plain": [
       "HBox(children=(FloatProgress(value=0.0, max=1390.0), HTML(value='')))"
      ]
     },
     "metadata": {},
     "output_type": "display_data"
    },
    {
     "name": "stdout",
     "output_type": "stream",
     "text": [
      "\n",
      "[0.007910862400633715, 0.00448796995858098, 0.006772553451412562, 0.0023690622971027156, 0.0009352933180152169, 0.0014853041766527504, 0.0020745599842239898, 0.007099364417869995]\n"
     ]
    },
    {
     "data": {
      "application/vnd.jupyter.widget-view+json": {
       "model_id": "4049da79103b4d43bf900ec45124a7b8",
       "version_major": 2,
       "version_minor": 0
      },
      "text/plain": [
       "HBox(children=(FloatProgress(value=0.0, max=1392.0), HTML(value='')))"
      ]
     },
     "metadata": {},
     "output_type": "display_data"
    },
    {
     "name": "stdout",
     "output_type": "stream",
     "text": [
      "\n",
      "[0.007910862400633715, 0.00448796995858098, 0.006772553451412562, 0.0023690622971027156, 0.0009352933180152169, 0.0014853041766527504, 0.0020745599842239898, 0.007099364417869995]\n"
     ]
    },
    {
     "data": {
      "application/vnd.jupyter.widget-view+json": {
       "model_id": "63edd87391f34afd9d1fc796fcffce0d",
       "version_major": 2,
       "version_minor": 0
      },
      "text/plain": [
       "HBox(children=(FloatProgress(value=0.0, max=1392.0), HTML(value='')))"
      ]
     },
     "metadata": {},
     "output_type": "display_data"
    },
    {
     "name": "stdout",
     "output_type": "stream",
     "text": [
      "\n",
      "[0.007910862400633715, 0.00448796995858098, 0.006772553451412562, 0.0023690622971027156, 0.0009352933180152169, 0.0014853041766527504, 0.0020745599842239898, 0.007099364417869995]\n"
     ]
    },
    {
     "data": {
      "application/vnd.jupyter.widget-view+json": {
       "model_id": "ff158c895c0f4a4783338357d6298787",
       "version_major": 2,
       "version_minor": 0
      },
      "text/plain": [
       "HBox(children=(FloatProgress(value=0.0, max=1393.0), HTML(value='')))"
      ]
     },
     "metadata": {},
     "output_type": "display_data"
    },
    {
     "name": "stdout",
     "output_type": "stream",
     "text": [
      "\n",
      "[0.007910862400633715, 0.00448796995858098, 0.006772553451412562, 0.0023690622971027156, 0.0009352933180152169, 0.0014853041766527504, 0.0020745599842239898, 0.007099364417869995]\n"
     ]
    },
    {
     "data": {
      "application/vnd.jupyter.widget-view+json": {
       "model_id": "c9c9b78b703f45daa7073a5b66f63259",
       "version_major": 2,
       "version_minor": 0
      },
      "text/plain": [
       "HBox(children=(FloatProgress(value=0.0, max=1392.0), HTML(value='')))"
      ]
     },
     "metadata": {},
     "output_type": "display_data"
    },
    {
     "name": "stdout",
     "output_type": "stream",
     "text": [
      "\n",
      "[0.007910862400633715, 0.00448796995858098, 0.006772553451412562, 0.0023690622971027156, 0.0009352933180152169, 0.0014853041766527504, 0.0020745599842239898, 0.007099364417869995]\n"
     ]
    },
    {
     "data": {
      "application/vnd.jupyter.widget-view+json": {
       "model_id": "4c9ad69f40464d6088df3e544b610f31",
       "version_major": 2,
       "version_minor": 0
      },
      "text/plain": [
       "HBox(children=(FloatProgress(value=0.0, max=1386.0), HTML(value='')))"
      ]
     },
     "metadata": {},
     "output_type": "display_data"
    },
    {
     "name": "stdout",
     "output_type": "stream",
     "text": [
      "\n",
      "[0.007910862400633715, 0.00448796995858098, 0.006772553451412562, 0.0023690622971027156, 0.0009352933180152169, 0.0014853041766527504, 0.0020745599842239898, 0.007099364417869995]\n"
     ]
    },
    {
     "data": {
      "application/vnd.jupyter.widget-view+json": {
       "model_id": "4020a607cdd1475782652ba2e81e0f7c",
       "version_major": 2,
       "version_minor": 0
      },
      "text/plain": [
       "HBox(children=(FloatProgress(value=0.0, max=1392.0), HTML(value='')))"
      ]
     },
     "metadata": {},
     "output_type": "display_data"
    },
    {
     "name": "stdout",
     "output_type": "stream",
     "text": [
      "\n",
      "[0.007910862400633715, 0.00448796995858098, 0.006772553451412562, 0.0023690622971027156, 0.0009352933180152169, 0.0014853041766527504, 0.0020745599842239898, 0.007099364417869995]\n"
     ]
    },
    {
     "data": {
      "application/vnd.jupyter.widget-view+json": {
       "model_id": "ef73e8243e0c44839b2c5ab63c4d34a0",
       "version_major": 2,
       "version_minor": 0
      },
      "text/plain": [
       "HBox(children=(FloatProgress(value=0.0, max=1391.0), HTML(value='')))"
      ]
     },
     "metadata": {},
     "output_type": "display_data"
    },
    {
     "name": "stdout",
     "output_type": "stream",
     "text": [
      "\n",
      "[0.007910862400633715, 0.00448796995858098, 0.006772553451412562, 0.0023690622971027156, 0.0009352933180152169, 0.0014853041766527504, 0.0020745599842239898, 0.007099364417869995]\n"
     ]
    },
    {
     "data": {
      "application/vnd.jupyter.widget-view+json": {
       "model_id": "c93d08321b5b4dafaf22b10446340b74",
       "version_major": 2,
       "version_minor": 0
      },
      "text/plain": [
       "HBox(children=(FloatProgress(value=0.0, max=1393.0), HTML(value='')))"
      ]
     },
     "metadata": {},
     "output_type": "display_data"
    },
    {
     "name": "stdout",
     "output_type": "stream",
     "text": [
      "\n",
      "[0.007910862400633715, 0.00448796995858098, 0.006772553451412562, 0.0023690622971027156, 0.0009352933180152169, 0.0014853041766527504, 0.0020745599842239898, 0.007099364417869995]\n"
     ]
    },
    {
     "data": {
      "application/vnd.jupyter.widget-view+json": {
       "model_id": "fccb32f7c80843188eb76fdc17ad7c9f",
       "version_major": 2,
       "version_minor": 0
      },
      "text/plain": [
       "HBox(children=(FloatProgress(value=0.0, max=1394.0), HTML(value='')))"
      ]
     },
     "metadata": {},
     "output_type": "display_data"
    },
    {
     "name": "stdout",
     "output_type": "stream",
     "text": [
      "\n",
      "[0.007910862400633715, 0.00448796995858098, 0.006772553451412562, 0.0023690622971027156, 0.0009352933180152169, 0.0014853041766527504, 0.0020745599842239898, 0.007099364417869995]\n"
     ]
    },
    {
     "data": {
      "application/vnd.jupyter.widget-view+json": {
       "model_id": "894fadb28547416590dda55b72c69f89",
       "version_major": 2,
       "version_minor": 0
      },
      "text/plain": [
       "HBox(children=(FloatProgress(value=0.0, max=1393.0), HTML(value='')))"
      ]
     },
     "metadata": {},
     "output_type": "display_data"
    },
    {
     "name": "stdout",
     "output_type": "stream",
     "text": [
      "\n",
      "[0.007910862400633715, 0.00448796995858098, 0.006772553451412562, 0.0023690622971027156, 0.0009352933180152169, 0.0014853041766527504, 0.0020745599842239898, 0.007099364417869995]\n"
     ]
    },
    {
     "data": {
      "application/vnd.jupyter.widget-view+json": {
       "model_id": "105d81690e93455fb9b419d41cc4a508",
       "version_major": 2,
       "version_minor": 0
      },
      "text/plain": [
       "HBox(children=(FloatProgress(value=0.0, max=1393.0), HTML(value='')))"
      ]
     },
     "metadata": {},
     "output_type": "display_data"
    },
    {
     "name": "stdout",
     "output_type": "stream",
     "text": [
      "\n",
      "[0.007910862400633715, 0.00448796995858098, 0.006772553451412562, 0.0023690622971027156, 0.0009352933180152169, 0.0014853041766527504, 0.0020745599842239898, 0.007099364417869995]\n"
     ]
    },
    {
     "data": {
      "application/vnd.jupyter.widget-view+json": {
       "model_id": "dde2426a646c444f8e7ef5791e39d770",
       "version_major": 2,
       "version_minor": 0
      },
      "text/plain": [
       "HBox(children=(FloatProgress(value=0.0, max=1389.0), HTML(value='')))"
      ]
     },
     "metadata": {},
     "output_type": "display_data"
    },
    {
     "name": "stdout",
     "output_type": "stream",
     "text": [
      "\n",
      "[0.007910862400633715, 0.00448796995858098, 0.006772553451412562, 0.0023690622971027156, 0.0009352933180152169, 0.0014853041766527504, 0.0020745599842239898, 0.007099364417869995]\n"
     ]
    },
    {
     "data": {
      "application/vnd.jupyter.widget-view+json": {
       "model_id": "17f5550ad58e40818ee1424924d4d7ab",
       "version_major": 2,
       "version_minor": 0
      },
      "text/plain": [
       "HBox(children=(FloatProgress(value=0.0, max=1392.0), HTML(value='')))"
      ]
     },
     "metadata": {},
     "output_type": "display_data"
    },
    {
     "name": "stdout",
     "output_type": "stream",
     "text": [
      "\n",
      "[0.007910862400633715, 0.00448796995858098, 0.006772553451412562, 0.0023690622971027156, 0.0009352933180152169, 0.0014853041766527504, 0.0020745599842239898, 0.007099364417869995]\n"
     ]
    },
    {
     "data": {
      "application/vnd.jupyter.widget-view+json": {
       "model_id": "f588073730974a269349cdee10893728",
       "version_major": 2,
       "version_minor": 0
      },
      "text/plain": [
       "HBox(children=(FloatProgress(value=0.0, max=1394.0), HTML(value='')))"
      ]
     },
     "metadata": {},
     "output_type": "display_data"
    },
    {
     "name": "stdout",
     "output_type": "stream",
     "text": [
      "\n",
      "[0.007910862400633715, 0.00448796995858098, 0.006772553451412562, 0.0023690622971027156, 0.0009352933180152169, 0.0014853041766527504, 0.0020745599842239898, 0.007099364417869995]\n"
     ]
    },
    {
     "data": {
      "application/vnd.jupyter.widget-view+json": {
       "model_id": "06839bb6b5ac4598ad54fd69920bae9b",
       "version_major": 2,
       "version_minor": 0
      },
      "text/plain": [
       "HBox(children=(FloatProgress(value=0.0, max=1393.0), HTML(value='')))"
      ]
     },
     "metadata": {},
     "output_type": "display_data"
    },
    {
     "name": "stdout",
     "output_type": "stream",
     "text": [
      "\n",
      "[0.007910862400633715, 0.00448796995858098, 0.006772553451412562, 0.0023690622971027156, 0.0009352933180152169, 0.0014853041766527504, 0.0020745599842239898, 0.007099364417869995]\n"
     ]
    },
    {
     "data": {
      "application/vnd.jupyter.widget-view+json": {
       "model_id": "821d3af070e24913869e11fa22f917fa",
       "version_major": 2,
       "version_minor": 0
      },
      "text/plain": [
       "HBox(children=(FloatProgress(value=0.0, max=1386.0), HTML(value='')))"
      ]
     },
     "metadata": {},
     "output_type": "display_data"
    },
    {
     "name": "stdout",
     "output_type": "stream",
     "text": [
      "\n",
      "[0.007910862400633715, 0.00448796995858098, 0.006772553451412562, 0.0023690622971027156, 0.0009352933180152169, 0.0014853041766527504, 0.0020745599842239898, 0.007099364417869995]\n"
     ]
    },
    {
     "data": {
      "application/vnd.jupyter.widget-view+json": {
       "model_id": "baf965057fb6416094ba125ef8a5b057",
       "version_major": 2,
       "version_minor": 0
      },
      "text/plain": [
       "HBox(children=(FloatProgress(value=0.0, max=1394.0), HTML(value='')))"
      ]
     },
     "metadata": {},
     "output_type": "display_data"
    },
    {
     "name": "stdout",
     "output_type": "stream",
     "text": [
      "\n",
      "[0.007910862400633715, 0.00448796995858098, 0.006772553451412562, 0.0023690622971027156, 0.0009352933180152169, 0.0014853041766527504, 0.0020745599842239898, 0.007099364417869995]\n"
     ]
    },
    {
     "data": {
      "application/vnd.jupyter.widget-view+json": {
       "model_id": "abf5f3f37345473d8da6cfe154f58d42",
       "version_major": 2,
       "version_minor": 0
      },
      "text/plain": [
       "HBox(children=(FloatProgress(value=0.0, max=1390.0), HTML(value='')))"
      ]
     },
     "metadata": {},
     "output_type": "display_data"
    },
    {
     "name": "stdout",
     "output_type": "stream",
     "text": [
      "\n",
      "[0.007910862400633715, 0.00448796995858098, 0.006772553451412562, 0.0023690622971027156, 0.0009352933180152169, 0.0014853041766527504, 0.0020745599842239898, 0.007099364417869995]\n"
     ]
    },
    {
     "data": {
      "application/vnd.jupyter.widget-view+json": {
       "model_id": "dee909db968b42cca6ce4975ec77647f",
       "version_major": 2,
       "version_minor": 0
      },
      "text/plain": [
       "HBox(children=(FloatProgress(value=0.0, max=1393.0), HTML(value='')))"
      ]
     },
     "metadata": {},
     "output_type": "display_data"
    },
    {
     "name": "stdout",
     "output_type": "stream",
     "text": [
      "\n",
      "[0.007910862400633715, 0.00448796995858098, 0.006772553451412562, 0.0023690622971027156, 0.0009352933180152169, 0.0014853041766527504, 0.0020745599842239898, 0.007099364417869995]\n"
     ]
    },
    {
     "data": {
      "application/vnd.jupyter.widget-view+json": {
       "model_id": "28d52bfb1faa4d22bfede0abc792b20b",
       "version_major": 2,
       "version_minor": 0
      },
      "text/plain": [
       "HBox(children=(FloatProgress(value=0.0, max=1393.0), HTML(value='')))"
      ]
     },
     "metadata": {},
     "output_type": "display_data"
    },
    {
     "name": "stdout",
     "output_type": "stream",
     "text": [
      "\n",
      "[0.007910862400633715, 0.00448796995858098, 0.006772553451412562, 0.0023690622971027156, 0.0009352933180152169, 0.0014853041766527504, 0.0020745599842239898, 0.007099364417869995]\n"
     ]
    },
    {
     "data": {
      "application/vnd.jupyter.widget-view+json": {
       "model_id": "5bc20048dcc04df2a083718f7acff847",
       "version_major": 2,
       "version_minor": 0
      },
      "text/plain": [
       "HBox(children=(FloatProgress(value=0.0, max=1385.0), HTML(value='')))"
      ]
     },
     "metadata": {},
     "output_type": "display_data"
    },
    {
     "name": "stdout",
     "output_type": "stream",
     "text": [
      "\n",
      "[0.007910862400633715, 0.00448796995858098, 0.006772553451412562, 0.0023690622971027156, 0.0009352933180152169, 0.0014853041766527504, 0.0020745599842239898, 0.007099364417869995]\n"
     ]
    },
    {
     "data": {
      "application/vnd.jupyter.widget-view+json": {
       "model_id": "ad7ee06687d14ab18dda6fcfa106c258",
       "version_major": 2,
       "version_minor": 0
      },
      "text/plain": [
       "HBox(children=(FloatProgress(value=0.0, max=1390.0), HTML(value='')))"
      ]
     },
     "metadata": {},
     "output_type": "display_data"
    },
    {
     "name": "stdout",
     "output_type": "stream",
     "text": [
      "\n",
      "[0.007910862400633715, 0.00448796995858098, 0.006772553451412562, 0.0023690622971027156, 0.0009352933180152169, 0.0014853041766527504, 0.0020745599842239898, 0.007099364417869995]\n"
     ]
    },
    {
     "data": {
      "application/vnd.jupyter.widget-view+json": {
       "model_id": "21f5b62771da4f33b2cb9d99cc162b9c",
       "version_major": 2,
       "version_minor": 0
      },
      "text/plain": [
       "HBox(children=(FloatProgress(value=0.0, max=1394.0), HTML(value='')))"
      ]
     },
     "metadata": {},
     "output_type": "display_data"
    },
    {
     "name": "stdout",
     "output_type": "stream",
     "text": [
      "\n",
      "[0.007910862400633715, 0.00448796995858098, 0.006772553451412562, 0.0023690622971027156, 0.0009352933180152169, 0.0014853041766527504, 0.0020745599842239898, 0.007099364417869995]\n"
     ]
    },
    {
     "data": {
      "application/vnd.jupyter.widget-view+json": {
       "model_id": "8f28b1a3d32441839189b898ebd39d6a",
       "version_major": 2,
       "version_minor": 0
      },
      "text/plain": [
       "HBox(children=(FloatProgress(value=0.0, max=1392.0), HTML(value='')))"
      ]
     },
     "metadata": {},
     "output_type": "display_data"
    },
    {
     "name": "stdout",
     "output_type": "stream",
     "text": [
      "\n",
      "[0.007910862400633715, 0.00448796995858098, 0.006772553451412562, 0.0023690622971027156, 0.0009352933180152169, 0.0014853041766527504, 0.0020745599842239898, 0.007099364417869995]\n"
     ]
    },
    {
     "data": {
      "application/vnd.jupyter.widget-view+json": {
       "model_id": "6f4fbbb992314968a8afe80991a2a475",
       "version_major": 2,
       "version_minor": 0
      },
      "text/plain": [
       "HBox(children=(FloatProgress(value=0.0, max=1389.0), HTML(value='')))"
      ]
     },
     "metadata": {},
     "output_type": "display_data"
    },
    {
     "name": "stdout",
     "output_type": "stream",
     "text": [
      "\n",
      "[0.007910862400633715, 0.00448796995858098, 0.006772553451412562, 0.0023690622971027156, 0.0009352933180152169, 0.0014853041766527504, 0.0020745599842239898, 0.007099364417869995]\n"
     ]
    },
    {
     "data": {
      "application/vnd.jupyter.widget-view+json": {
       "model_id": "94ffce8570d04ff6a8b8ba73a91d7513",
       "version_major": 2,
       "version_minor": 0
      },
      "text/plain": [
       "HBox(children=(FloatProgress(value=0.0, max=1392.0), HTML(value='')))"
      ]
     },
     "metadata": {},
     "output_type": "display_data"
    },
    {
     "name": "stdout",
     "output_type": "stream",
     "text": [
      "\n",
      "[0.007910862400633715, 0.00448796995858098, 0.006772553451412562, 0.0023690622971027156, 0.0009352933180152169, 0.0014853041766527504, 0.0020745599842239898, 0.007099364417869995]\n"
     ]
    },
    {
     "data": {
      "application/vnd.jupyter.widget-view+json": {
       "model_id": "fd872ec41b42464ca024a4db0e296ce0",
       "version_major": 2,
       "version_minor": 0
      },
      "text/plain": [
       "HBox(children=(FloatProgress(value=0.0, max=1391.0), HTML(value='')))"
      ]
     },
     "metadata": {},
     "output_type": "display_data"
    },
    {
     "name": "stdout",
     "output_type": "stream",
     "text": [
      "\n",
      "[0.007910862400633715, 0.00448796995858098, 0.006772553451412562, 0.0023690622971027156, 0.0009352933180152169, 0.0014853041766527504, 0.0020745599842239898, 0.007099364417869995]\n"
     ]
    },
    {
     "data": {
      "application/vnd.jupyter.widget-view+json": {
       "model_id": "68ea867995b24c208b41ec4a0e9109a4",
       "version_major": 2,
       "version_minor": 0
      },
      "text/plain": [
       "HBox(children=(FloatProgress(value=0.0, max=1390.0), HTML(value='')))"
      ]
     },
     "metadata": {},
     "output_type": "display_data"
    },
    {
     "name": "stdout",
     "output_type": "stream",
     "text": [
      "\n",
      "[0.007910862400633715, 0.00448796995858098, 0.006772553451412562, 0.0023690622971027156, 0.0009352933180152169, 0.0014853041766527504, 0.0020745599842239898, 0.007099364417869995]\n"
     ]
    },
    {
     "data": {
      "application/vnd.jupyter.widget-view+json": {
       "model_id": "6dee860d99d9435b93842b7bddf1866f",
       "version_major": 2,
       "version_minor": 0
      },
      "text/plain": [
       "HBox(children=(FloatProgress(value=0.0, max=1393.0), HTML(value='')))"
      ]
     },
     "metadata": {},
     "output_type": "display_data"
    },
    {
     "name": "stdout",
     "output_type": "stream",
     "text": [
      "\n",
      "[0.007910862400633715, 0.00448796995858098, 0.006772553451412562, 0.0023690622971027156, 0.0009352933180152169, 0.0014853041766527504, 0.0020745599842239898, 0.007099364417869995]\n"
     ]
    },
    {
     "data": {
      "application/vnd.jupyter.widget-view+json": {
       "model_id": "c464560e5dec4552b088b94226d04b82",
       "version_major": 2,
       "version_minor": 0
      },
      "text/plain": [
       "HBox(children=(FloatProgress(value=0.0, max=1393.0), HTML(value='')))"
      ]
     },
     "metadata": {},
     "output_type": "display_data"
    },
    {
     "name": "stdout",
     "output_type": "stream",
     "text": [
      "\n",
      "[0.007910862400633715, 0.00448796995858098, 0.006772553451412562, 0.0023690622971027156, 0.0009352933180152169, 0.0014853041766527504, 0.0020745599842239898, 0.007099364417869995]\n"
     ]
    },
    {
     "data": {
      "application/vnd.jupyter.widget-view+json": {
       "model_id": "b27e77b8e4ba4fb8946c679f5ce7ad3b",
       "version_major": 2,
       "version_minor": 0
      },
      "text/plain": [
       "HBox(children=(FloatProgress(value=0.0, max=1392.0), HTML(value='')))"
      ]
     },
     "metadata": {},
     "output_type": "display_data"
    },
    {
     "name": "stdout",
     "output_type": "stream",
     "text": [
      "\n",
      "[0.007910862400633715, 0.00448796995858098, 0.006772553451412562, 0.0023690622971027156, 0.0009352933180152169, 0.0014853041766527504, 0.0020745599842239898, 0.007099364417869995]\n"
     ]
    },
    {
     "data": {
      "application/vnd.jupyter.widget-view+json": {
       "model_id": "f54380d8f3084440bf860bd86567f5e0",
       "version_major": 2,
       "version_minor": 0
      },
      "text/plain": [
       "HBox(children=(FloatProgress(value=0.0, max=1395.0), HTML(value='')))"
      ]
     },
     "metadata": {},
     "output_type": "display_data"
    },
    {
     "name": "stdout",
     "output_type": "stream",
     "text": [
      "\n",
      "[0.007910862400633715, 0.00448796995858098, 0.006772553451412562, 0.0023690622971027156, 0.0009352933180152169, 0.0014853041766527504, 0.0020745599842239898, 0.007099364417869995]\n"
     ]
    },
    {
     "data": {
      "application/vnd.jupyter.widget-view+json": {
       "model_id": "ed00188bc17d4c8db85c33e4a9f4d29f",
       "version_major": 2,
       "version_minor": 0
      },
      "text/plain": [
       "HBox(children=(FloatProgress(value=0.0, max=1393.0), HTML(value='')))"
      ]
     },
     "metadata": {},
     "output_type": "display_data"
    },
    {
     "name": "stdout",
     "output_type": "stream",
     "text": [
      "\n",
      "[0.007910862400633715, 0.00448796995858098, 0.006772553451412562, 0.0023690622971027156, 0.0009352933180152169, 0.0014853041766527504, 0.0020745599842239898, 0.007099364417869995]\n"
     ]
    },
    {
     "data": {
      "application/vnd.jupyter.widget-view+json": {
       "model_id": "2daf94f052f54de0b7132a6fd8f064cb",
       "version_major": 2,
       "version_minor": 0
      },
      "text/plain": [
       "HBox(children=(FloatProgress(value=0.0, max=1387.0), HTML(value='')))"
      ]
     },
     "metadata": {},
     "output_type": "display_data"
    },
    {
     "name": "stdout",
     "output_type": "stream",
     "text": [
      "\n",
      "[0.007910862400633715, 0.00448796995858098, 0.006772553451412562, 0.0023690622971027156, 0.0009352933180152169, 0.0014853041766527504, 0.0020745599842239898, 0.007099364417869995]\n"
     ]
    },
    {
     "data": {
      "application/vnd.jupyter.widget-view+json": {
       "model_id": "487eab6c0fd7470eb06a24f39100a33b",
       "version_major": 2,
       "version_minor": 0
      },
      "text/plain": [
       "HBox(children=(FloatProgress(value=0.0, max=1391.0), HTML(value='')))"
      ]
     },
     "metadata": {},
     "output_type": "display_data"
    },
    {
     "name": "stdout",
     "output_type": "stream",
     "text": [
      "\n",
      "[0.007910862400633715, 0.00448796995858098, 0.006772553451412562, 0.0023690622971027156, 0.0009352933180152169, 0.0014853041766527504, 0.0020745599842239898, 0.007099364417869995]\n"
     ]
    },
    {
     "data": {
      "application/vnd.jupyter.widget-view+json": {
       "model_id": "e0d18a1eb7dc499d80d040725543a1ec",
       "version_major": 2,
       "version_minor": 0
      },
      "text/plain": [
       "HBox(children=(FloatProgress(value=0.0, max=1389.0), HTML(value='')))"
      ]
     },
     "metadata": {},
     "output_type": "display_data"
    },
    {
     "name": "stdout",
     "output_type": "stream",
     "text": [
      "\n",
      "[0.007910862400633715, 0.00448796995858098, 0.006772553451412562, 0.0023690622971027156, 0.0009352933180152169, 0.0014853041766527504, 0.0020745599842239898, 0.007099364417869995]\n"
     ]
    },
    {
     "data": {
      "application/vnd.jupyter.widget-view+json": {
       "model_id": "15c00fa98cce42f19e031e0049e25e1a",
       "version_major": 2,
       "version_minor": 0
      },
      "text/plain": [
       "HBox(children=(FloatProgress(value=0.0, max=1389.0), HTML(value='')))"
      ]
     },
     "metadata": {},
     "output_type": "display_data"
    },
    {
     "name": "stdout",
     "output_type": "stream",
     "text": [
      "\n",
      "[0.007910862400633715, 0.00448796995858098, 0.006772553451412562, 0.0023690622971027156, 0.0009352933180152169, 0.0014853041766527504, 0.0020745599842239898, 0.007099364417869995]\n"
     ]
    },
    {
     "data": {
      "application/vnd.jupyter.widget-view+json": {
       "model_id": "8daee330f1c34fc29452627944e6d3cc",
       "version_major": 2,
       "version_minor": 0
      },
      "text/plain": [
       "HBox(children=(FloatProgress(value=0.0, max=1393.0), HTML(value='')))"
      ]
     },
     "metadata": {},
     "output_type": "display_data"
    },
    {
     "name": "stdout",
     "output_type": "stream",
     "text": [
      "\n",
      "[0.007910862400633715, 0.00448796995858098, 0.006772553451412562, 0.0023690622971027156, 0.0009352933180152169, 0.0014853041766527504, 0.0020745599842239898, 0.007099364417869995]\n"
     ]
    },
    {
     "data": {
      "application/vnd.jupyter.widget-view+json": {
       "model_id": "b147ededa38a49df845e4bd63d738c74",
       "version_major": 2,
       "version_minor": 0
      },
      "text/plain": [
       "HBox(children=(FloatProgress(value=0.0, max=1392.0), HTML(value='')))"
      ]
     },
     "metadata": {},
     "output_type": "display_data"
    },
    {
     "name": "stdout",
     "output_type": "stream",
     "text": [
      "\n",
      "[0.007910862400633715, 0.00448796995858098, 0.006772553451412562, 0.0023690622971027156, 0.0009352933180152169, 0.0014853041766527504, 0.0020745599842239898, 0.007099364417869995]\n"
     ]
    },
    {
     "data": {
      "application/vnd.jupyter.widget-view+json": {
       "model_id": "2dee798971144e27a4d27c77ea861fee",
       "version_major": 2,
       "version_minor": 0
      },
      "text/plain": [
       "HBox(children=(FloatProgress(value=0.0, max=1393.0), HTML(value='')))"
      ]
     },
     "metadata": {},
     "output_type": "display_data"
    },
    {
     "name": "stdout",
     "output_type": "stream",
     "text": [
      "\n",
      "[0.007910862400633715, 0.00448796995858098, 0.006772553451412562, 0.0023690622971027156, 0.0009352933180152169, 0.0014853041766527504, 0.0020745599842239898, 0.007099364417869995]\n"
     ]
    },
    {
     "data": {
      "application/vnd.jupyter.widget-view+json": {
       "model_id": "65fe08f67bb5451ab4514977bad887bd",
       "version_major": 2,
       "version_minor": 0
      },
      "text/plain": [
       "HBox(children=(FloatProgress(value=0.0, max=1393.0), HTML(value='')))"
      ]
     },
     "metadata": {},
     "output_type": "display_data"
    },
    {
     "name": "stdout",
     "output_type": "stream",
     "text": [
      "\n",
      "[0.007910862400633715, 0.00448796995858098, 0.006772553451412562, 0.0023690622971027156, 0.0009352933180152169, 0.0014853041766527504, 0.0020745599842239898, 0.007099364417869995]\n"
     ]
    },
    {
     "data": {
      "application/vnd.jupyter.widget-view+json": {
       "model_id": "6b389427ec4d444f8adce2fbcfdf266e",
       "version_major": 2,
       "version_minor": 0
      },
      "text/plain": [
       "HBox(children=(FloatProgress(value=0.0, max=1393.0), HTML(value='')))"
      ]
     },
     "metadata": {},
     "output_type": "display_data"
    },
    {
     "name": "stdout",
     "output_type": "stream",
     "text": [
      "\n",
      "[0.007910862400633715, 0.00448796995858098, 0.006772553451412562, 0.0023690622971027156, 0.0009352933180152169, 0.0014853041766527504, 0.0020745599842239898, 0.007099364417869995]\n"
     ]
    },
    {
     "data": {
      "application/vnd.jupyter.widget-view+json": {
       "model_id": "d0919f7dfd9843e499b9de59f0cc8a98",
       "version_major": 2,
       "version_minor": 0
      },
      "text/plain": [
       "HBox(children=(FloatProgress(value=0.0, max=1395.0), HTML(value='')))"
      ]
     },
     "metadata": {},
     "output_type": "display_data"
    },
    {
     "name": "stdout",
     "output_type": "stream",
     "text": [
      "\n",
      "[0.007910862400633715, 0.00448796995858098, 0.006772553451412562, 0.0023690622971027156, 0.0009352933180152169, 0.0014853041766527504, 0.0020745599842239898, 0.007099364417869995]\n"
     ]
    },
    {
     "data": {
      "application/vnd.jupyter.widget-view+json": {
       "model_id": "ff86f17be4ab44d89b56397716ed0326",
       "version_major": 2,
       "version_minor": 0
      },
      "text/plain": [
       "HBox(children=(FloatProgress(value=0.0, max=1390.0), HTML(value='')))"
      ]
     },
     "metadata": {},
     "output_type": "display_data"
    },
    {
     "name": "stdout",
     "output_type": "stream",
     "text": [
      "\n",
      "[0.007910862400633715, 0.00448796995858098, 0.006772553451412562, 0.0023690622971027156, 0.0009352933180152169, 0.0014853041766527504, 0.0020745599842239898, 0.007099364417869995]\n"
     ]
    },
    {
     "data": {
      "application/vnd.jupyter.widget-view+json": {
       "model_id": "4665f596399c4f1f9b61983f9d84a81b",
       "version_major": 2,
       "version_minor": 0
      },
      "text/plain": [
       "HBox(children=(FloatProgress(value=0.0, max=1393.0), HTML(value='')))"
      ]
     },
     "metadata": {},
     "output_type": "display_data"
    },
    {
     "name": "stdout",
     "output_type": "stream",
     "text": [
      "\n",
      "[0.007910862400633715, 0.00448796995858098, 0.006772553451412562, 0.0023690622971027156, 0.0009352933180152169, 0.0014853041766527504, 0.0020745599842239898, 0.007099364417869995]\n"
     ]
    },
    {
     "data": {
      "application/vnd.jupyter.widget-view+json": {
       "model_id": "b2c288d4707e464c90796485dcfbd542",
       "version_major": 2,
       "version_minor": 0
      },
      "text/plain": [
       "HBox(children=(FloatProgress(value=0.0, max=1392.0), HTML(value='')))"
      ]
     },
     "metadata": {},
     "output_type": "display_data"
    },
    {
     "name": "stdout",
     "output_type": "stream",
     "text": [
      "\n",
      "[0.007910862400633715, 0.00448796995858098, 0.006772553451412562, 0.0023690622971027156, 0.0009352933180152169, 0.0014853041766527504, 0.0020745599842239898, 0.007099364417869995]\n"
     ]
    },
    {
     "data": {
      "application/vnd.jupyter.widget-view+json": {
       "model_id": "8152967773d347b29fea381429e83c2b",
       "version_major": 2,
       "version_minor": 0
      },
      "text/plain": [
       "HBox(children=(FloatProgress(value=0.0, max=1392.0), HTML(value='')))"
      ]
     },
     "metadata": {},
     "output_type": "display_data"
    },
    {
     "name": "stdout",
     "output_type": "stream",
     "text": [
      "\n",
      "[0.007910862400633715, 0.00448796995858098, 0.006772553451412562, 0.0023690622971027156, 0.0009352933180152169, 0.0014853041766527504, 0.0020745599842239898, 0.007099364417869995]\n"
     ]
    },
    {
     "data": {
      "application/vnd.jupyter.widget-view+json": {
       "model_id": "de6e68273523425aaceed2392c53c1a4",
       "version_major": 2,
       "version_minor": 0
      },
      "text/plain": [
       "HBox(children=(FloatProgress(value=0.0, max=1388.0), HTML(value='')))"
      ]
     },
     "metadata": {},
     "output_type": "display_data"
    },
    {
     "name": "stdout",
     "output_type": "stream",
     "text": [
      "\n",
      "[0.007910862400633715, 0.00448796995858098, 0.006772553451412562, 0.0023690622971027156, 0.0009352933180152169, 0.0014853041766527504, 0.0020745599842239898, 0.007099364417869995]\n"
     ]
    },
    {
     "data": {
      "application/vnd.jupyter.widget-view+json": {
       "model_id": "75f643b3231f4da7801ed20994f2050f",
       "version_major": 2,
       "version_minor": 0
      },
      "text/plain": [
       "HBox(children=(FloatProgress(value=0.0, max=1389.0), HTML(value='')))"
      ]
     },
     "metadata": {},
     "output_type": "display_data"
    },
    {
     "name": "stdout",
     "output_type": "stream",
     "text": [
      "\n",
      "[0.007910862400633715, 0.00448796995858098, 0.006772553451412562, 0.0023690622971027156, 0.0009352933180152169, 0.0014853041766527504, 0.0020745599842239898, 0.007099364417869995]\n"
     ]
    },
    {
     "data": {
      "application/vnd.jupyter.widget-view+json": {
       "model_id": "b9a0a5b5aaf44f12bd484ea314d38816",
       "version_major": 2,
       "version_minor": 0
      },
      "text/plain": [
       "HBox(children=(FloatProgress(value=0.0, max=1392.0), HTML(value='')))"
      ]
     },
     "metadata": {},
     "output_type": "display_data"
    },
    {
     "name": "stdout",
     "output_type": "stream",
     "text": [
      "\n",
      "[0.007910862400633715, 0.00448796995858098, 0.006772553451412562, 0.0023690622971027156, 0.0009352933180152169, 0.0014853041766527504, 0.0020745599842239898, 0.007099364417869995]\n"
     ]
    },
    {
     "data": {
      "application/vnd.jupyter.widget-view+json": {
       "model_id": "2907c90e302a42b697e7d56a0cb2bb0f",
       "version_major": 2,
       "version_minor": 0
      },
      "text/plain": [
       "HBox(children=(FloatProgress(value=0.0, max=1391.0), HTML(value='')))"
      ]
     },
     "metadata": {},
     "output_type": "display_data"
    },
    {
     "name": "stdout",
     "output_type": "stream",
     "text": [
      "\n",
      "[0.007910862400633715, 0.00448796995858098, 0.006772553451412562, 0.0023690622971027156, 0.0009352933180152169, 0.0014853041766527504, 0.0020745599842239898, 0.007099364417869995]\n"
     ]
    },
    {
     "data": {
      "application/vnd.jupyter.widget-view+json": {
       "model_id": "1ddf6a762ca04fbea35d8c31d811e108",
       "version_major": 2,
       "version_minor": 0
      },
      "text/plain": [
       "HBox(children=(FloatProgress(value=0.0, max=1390.0), HTML(value='')))"
      ]
     },
     "metadata": {},
     "output_type": "display_data"
    },
    {
     "name": "stdout",
     "output_type": "stream",
     "text": [
      "\n",
      "[0.007910862400633715, 0.00448796995858098, 0.006772553451412562, 0.0023690622971027156, 0.0009352933180152169, 0.0014853041766527504, 0.0020745599842239898, 0.007099364417869995]\n"
     ]
    },
    {
     "data": {
      "application/vnd.jupyter.widget-view+json": {
       "model_id": "4c6c5cd04e424506b0f7083d910af3b5",
       "version_major": 2,
       "version_minor": 0
      },
      "text/plain": [
       "HBox(children=(FloatProgress(value=0.0, max=1395.0), HTML(value='')))"
      ]
     },
     "metadata": {},
     "output_type": "display_data"
    },
    {
     "name": "stdout",
     "output_type": "stream",
     "text": [
      "\n",
      "[0.007910862400633715, 0.00448796995858098, 0.006772553451412562, 0.0023690622971027156, 0.0009352933180152169, 0.0014853041766527504, 0.0020745599842239898, 0.007099364417869995]\n"
     ]
    },
    {
     "data": {
      "application/vnd.jupyter.widget-view+json": {
       "model_id": "119d515f516d4eb089239a0b2d1106a5",
       "version_major": 2,
       "version_minor": 0
      },
      "text/plain": [
       "HBox(children=(FloatProgress(value=0.0, max=1387.0), HTML(value='')))"
      ]
     },
     "metadata": {},
     "output_type": "display_data"
    },
    {
     "name": "stdout",
     "output_type": "stream",
     "text": [
      "\n",
      "[0.007910862400633715, 0.00448796995858098, 0.006772553451412562, 0.0023690622971027156, 0.0009352933180152169, 0.0014853041766527504, 0.0020745599842239898, 0.007099364417869995]\n"
     ]
    },
    {
     "data": {
      "application/vnd.jupyter.widget-view+json": {
       "model_id": "70024f12aec249af84f547360d424149",
       "version_major": 2,
       "version_minor": 0
      },
      "text/plain": [
       "HBox(children=(FloatProgress(value=0.0, max=1394.0), HTML(value='')))"
      ]
     },
     "metadata": {},
     "output_type": "display_data"
    },
    {
     "name": "stdout",
     "output_type": "stream",
     "text": [
      "\n",
      "[0.007910862400633715, 0.00448796995858098, 0.006772553451412562, 0.0023690622971027156, 0.0009352933180152169, 0.0014853041766527504, 0.0020745599842239898, 0.007099364417869995]\n"
     ]
    },
    {
     "data": {
      "application/vnd.jupyter.widget-view+json": {
       "model_id": "f621de237f8b48d89b6a35978d81816d",
       "version_major": 2,
       "version_minor": 0
      },
      "text/plain": [
       "HBox(children=(FloatProgress(value=0.0, max=1386.0), HTML(value='')))"
      ]
     },
     "metadata": {},
     "output_type": "display_data"
    },
    {
     "name": "stdout",
     "output_type": "stream",
     "text": [
      "\n",
      "[0.007910862400633715, 0.00448796995858098, 0.006772553451412562, 0.0023690622971027156, 0.0009352933180152169, 0.0014853041766527504, 0.0020745599842239898, 0.007099364417869995]\n"
     ]
    },
    {
     "data": {
      "application/vnd.jupyter.widget-view+json": {
       "model_id": "e0a7dbecb4a04f73a36709e8e287b861",
       "version_major": 2,
       "version_minor": 0
      },
      "text/plain": [
       "HBox(children=(FloatProgress(value=0.0, max=1391.0), HTML(value='')))"
      ]
     },
     "metadata": {},
     "output_type": "display_data"
    },
    {
     "name": "stdout",
     "output_type": "stream",
     "text": [
      "\n",
      "[0.007910862400633715, 0.00448796995858098, 0.006772553451412562, 0.0023690622971027156, 0.0009352933180152169, 0.0014853041766527504, 0.0020745599842239898, 0.007099364417869995]\n"
     ]
    },
    {
     "data": {
      "application/vnd.jupyter.widget-view+json": {
       "model_id": "b0a67837d5e240abbdf51fe001a551db",
       "version_major": 2,
       "version_minor": 0
      },
      "text/plain": [
       "HBox(children=(FloatProgress(value=0.0, max=1390.0), HTML(value='')))"
      ]
     },
     "metadata": {},
     "output_type": "display_data"
    },
    {
     "name": "stdout",
     "output_type": "stream",
     "text": [
      "\n",
      "[0.007910862400633715, 0.00448796995858098, 0.006772553451412562, 0.0023690622971027156, 0.0009352933180152169, 0.0014853041766527504, 0.0020745599842239898, 0.007099364417869995]\n"
     ]
    },
    {
     "data": {
      "application/vnd.jupyter.widget-view+json": {
       "model_id": "30e46aa9724b46c2b889130893799d63",
       "version_major": 2,
       "version_minor": 0
      },
      "text/plain": [
       "HBox(children=(FloatProgress(value=0.0, max=1388.0), HTML(value='')))"
      ]
     },
     "metadata": {},
     "output_type": "display_data"
    },
    {
     "name": "stdout",
     "output_type": "stream",
     "text": [
      "\n",
      "[0.007910862400633715, 0.00448796995858098, 0.006772553451412562, 0.0023690622971027156, 0.0009352933180152169, 0.0014853041766527504, 0.0020745599842239898, 0.007099364417869995]\n"
     ]
    },
    {
     "data": {
      "application/vnd.jupyter.widget-view+json": {
       "model_id": "0816a35ff8ef461ab2bd4b5c089add9e",
       "version_major": 2,
       "version_minor": 0
      },
      "text/plain": [
       "HBox(children=(FloatProgress(value=0.0, max=1393.0), HTML(value='')))"
      ]
     },
     "metadata": {},
     "output_type": "display_data"
    },
    {
     "name": "stdout",
     "output_type": "stream",
     "text": [
      "\n",
      "[0.007910862400633715, 0.00448796995858098, 0.006772553451412562, 0.0023690622971027156, 0.0009352933180152169, 0.0014853041766527504, 0.0020745599842239898, 0.007099364417869995]\n"
     ]
    },
    {
     "data": {
      "application/vnd.jupyter.widget-view+json": {
       "model_id": "10fb7e7f089d49d7a6f300869c7de941",
       "version_major": 2,
       "version_minor": 0
      },
      "text/plain": [
       "HBox(children=(FloatProgress(value=0.0, max=1394.0), HTML(value='')))"
      ]
     },
     "metadata": {},
     "output_type": "display_data"
    },
    {
     "name": "stdout",
     "output_type": "stream",
     "text": [
      "\n",
      "[0.007910862400633715, 0.00448796995858098, 0.006772553451412562, 0.0023690622971027156, 0.0009352933180152169, 0.0014853041766527504, 0.0020745599842239898, 0.007099364417869995]\n"
     ]
    },
    {
     "data": {
      "application/vnd.jupyter.widget-view+json": {
       "model_id": "cbf78166472647169751bb8ab068c8b6",
       "version_major": 2,
       "version_minor": 0
      },
      "text/plain": [
       "HBox(children=(FloatProgress(value=0.0, max=1390.0), HTML(value='')))"
      ]
     },
     "metadata": {},
     "output_type": "display_data"
    },
    {
     "name": "stdout",
     "output_type": "stream",
     "text": [
      "\n",
      "[0.007910862400633715, 0.00448796995858098, 0.006772553451412562, 0.0023690622971027156, 0.0009352933180152169, 0.0014853041766527504, 0.0020745599842239898, 0.007099364417869995]\n"
     ]
    },
    {
     "data": {
      "application/vnd.jupyter.widget-view+json": {
       "model_id": "a0eaafe0990f48219a3d3dc37bc5a05a",
       "version_major": 2,
       "version_minor": 0
      },
      "text/plain": [
       "HBox(children=(FloatProgress(value=0.0, max=1392.0), HTML(value='')))"
      ]
     },
     "metadata": {},
     "output_type": "display_data"
    },
    {
     "name": "stdout",
     "output_type": "stream",
     "text": [
      "\n",
      "[0.007910862400633715, 0.00448796995858098, 0.006772553451412562, 0.0023690622971027156, 0.0009352933180152169, 0.0014853041766527504, 0.0020745599842239898, 0.007099364417869995]\n"
     ]
    },
    {
     "data": {
      "application/vnd.jupyter.widget-view+json": {
       "model_id": "97fd1816e6f6433aadaf3d380d22672e",
       "version_major": 2,
       "version_minor": 0
      },
      "text/plain": [
       "HBox(children=(FloatProgress(value=0.0, max=1390.0), HTML(value='')))"
      ]
     },
     "metadata": {},
     "output_type": "display_data"
    },
    {
     "name": "stdout",
     "output_type": "stream",
     "text": [
      "\n",
      "[0.007910862400633715, 0.00448796995858098, 0.006772553451412562, 0.0023690622971027156, 0.0009352933180152169, 0.0014853041766527504, 0.0020745599842239898, 0.007099364417869995]\n"
     ]
    },
    {
     "data": {
      "application/vnd.jupyter.widget-view+json": {
       "model_id": "38e71e93f6dd4322a71788fc348795c7",
       "version_major": 2,
       "version_minor": 0
      },
      "text/plain": [
       "HBox(children=(FloatProgress(value=0.0, max=1387.0), HTML(value='')))"
      ]
     },
     "metadata": {},
     "output_type": "display_data"
    },
    {
     "name": "stdout",
     "output_type": "stream",
     "text": [
      "\n",
      "[0.007910862400633715, 0.00448796995858098, 0.006772553451412562, 0.0023690622971027156, 0.0009352933180152169, 0.0014853041766527504, 0.0020745599842239898, 0.007099364417869995]\n"
     ]
    },
    {
     "data": {
      "application/vnd.jupyter.widget-view+json": {
       "model_id": "7a8eb29bed8d4f13a368e1b12d53c65c",
       "version_major": 2,
       "version_minor": 0
      },
      "text/plain": [
       "HBox(children=(FloatProgress(value=0.0, max=1393.0), HTML(value='')))"
      ]
     },
     "metadata": {},
     "output_type": "display_data"
    },
    {
     "name": "stdout",
     "output_type": "stream",
     "text": [
      "\n",
      "[0.007910862400633715, 0.00448796995858098, 0.006772553451412562, 0.0023690622971027156, 0.0009352933180152169, 0.0014853041766527504, 0.0020745599842239898, 0.007099364417869995]\n"
     ]
    },
    {
     "data": {
      "application/vnd.jupyter.widget-view+json": {
       "model_id": "e96454d10fa745cab5983f96e1f06d17",
       "version_major": 2,
       "version_minor": 0
      },
      "text/plain": [
       "HBox(children=(FloatProgress(value=0.0, max=1394.0), HTML(value='')))"
      ]
     },
     "metadata": {},
     "output_type": "display_data"
    },
    {
     "name": "stdout",
     "output_type": "stream",
     "text": [
      "\n",
      "[0.007910862400633715, 0.00448796995858098, 0.006772553451412562, 0.0023690622971027156, 0.0009352933180152169, 0.0014853041766527504, 0.0020745599842239898, 0.007099364417869995]\n"
     ]
    },
    {
     "data": {
      "application/vnd.jupyter.widget-view+json": {
       "model_id": "0b46a771bce247fbbf298e2c7b4333d9",
       "version_major": 2,
       "version_minor": 0
      },
      "text/plain": [
       "HBox(children=(FloatProgress(value=0.0, max=1386.0), HTML(value='')))"
      ]
     },
     "metadata": {},
     "output_type": "display_data"
    },
    {
     "name": "stdout",
     "output_type": "stream",
     "text": [
      "\n",
      "[0.007910862400633715, 0.00448796995858098, 0.006772553451412562, 0.0023690622971027156, 0.0009352933180152169, 0.0014853041766527504, 0.0020745599842239898, 0.007099364417869995]\n"
     ]
    },
    {
     "data": {
      "application/vnd.jupyter.widget-view+json": {
       "model_id": "3856b49b276746fd8979c6814f043b0b",
       "version_major": 2,
       "version_minor": 0
      },
      "text/plain": [
       "HBox(children=(FloatProgress(value=0.0, max=1392.0), HTML(value='')))"
      ]
     },
     "metadata": {},
     "output_type": "display_data"
    },
    {
     "name": "stdout",
     "output_type": "stream",
     "text": [
      "\n",
      "[0.007910862400633715, 0.00448796995858098, 0.006772553451412562, 0.0023690622971027156, 0.0009352933180152169, 0.0014853041766527504, 0.0020745599842239898, 0.007099364417869995]\n"
     ]
    },
    {
     "data": {
      "application/vnd.jupyter.widget-view+json": {
       "model_id": "4ca2aa3a8887465580432b60afed4a97",
       "version_major": 2,
       "version_minor": 0
      },
      "text/plain": [
       "HBox(children=(FloatProgress(value=0.0, max=1391.0), HTML(value='')))"
      ]
     },
     "metadata": {},
     "output_type": "display_data"
    },
    {
     "name": "stdout",
     "output_type": "stream",
     "text": [
      "\n",
      "[0.007910862400633715, 0.00448796995858098, 0.006772553451412562, 0.0023690622971027156, 0.0009352933180152169, 0.0014853041766527504, 0.0020745599842239898, 0.007099364417869995]\n"
     ]
    },
    {
     "data": {
      "application/vnd.jupyter.widget-view+json": {
       "model_id": "f5f78abcd4ce42a48058f22b97b88e29",
       "version_major": 2,
       "version_minor": 0
      },
      "text/plain": [
       "HBox(children=(FloatProgress(value=0.0, max=1393.0), HTML(value='')))"
      ]
     },
     "metadata": {},
     "output_type": "display_data"
    },
    {
     "name": "stdout",
     "output_type": "stream",
     "text": [
      "\n",
      "[0.007910862400633715, 0.00448796995858098, 0.006772553451412562, 0.0023690622971027156, 0.0009352933180152169, 0.0014853041766527504, 0.0020745599842239898, 0.007099364417869995]\n"
     ]
    },
    {
     "data": {
      "application/vnd.jupyter.widget-view+json": {
       "model_id": "9e465acdaae144a7a360a86372545ec5",
       "version_major": 2,
       "version_minor": 0
      },
      "text/plain": [
       "HBox(children=(FloatProgress(value=0.0, max=1394.0), HTML(value='')))"
      ]
     },
     "metadata": {},
     "output_type": "display_data"
    },
    {
     "name": "stdout",
     "output_type": "stream",
     "text": [
      "\n",
      "[0.007910862400633715, 0.00448796995858098, 0.006772553451412562, 0.0023690622971027156, 0.0009352933180152169, 0.0014853041766527504, 0.0020745599842239898, 0.007099364417869995]\n"
     ]
    },
    {
     "data": {
      "application/vnd.jupyter.widget-view+json": {
       "model_id": "8c1bacc1ab7746f48fb242a90e137d24",
       "version_major": 2,
       "version_minor": 0
      },
      "text/plain": [
       "HBox(children=(FloatProgress(value=0.0, max=1389.0), HTML(value='')))"
      ]
     },
     "metadata": {},
     "output_type": "display_data"
    },
    {
     "name": "stdout",
     "output_type": "stream",
     "text": [
      "\n",
      "[0.007910862400633715, 0.00448796995858098, 0.006772553451412562, 0.0023690622971027156, 0.0009352933180152169, 0.0014853041766527504, 0.0020745599842239898, 0.007099364417869995]\n"
     ]
    },
    {
     "data": {
      "application/vnd.jupyter.widget-view+json": {
       "model_id": "3837b82434d548ecb027949d25163d6b",
       "version_major": 2,
       "version_minor": 0
      },
      "text/plain": [
       "HBox(children=(FloatProgress(value=0.0, max=1387.0), HTML(value='')))"
      ]
     },
     "metadata": {},
     "output_type": "display_data"
    },
    {
     "name": "stdout",
     "output_type": "stream",
     "text": [
      "\n",
      "[0.007910862400633715, 0.00448796995858098, 0.006772553451412562, 0.0023690622971027156, 0.0009352933180152169, 0.0014853041766527504, 0.0020745599842239898, 0.007099364417869995]\n"
     ]
    },
    {
     "data": {
      "application/vnd.jupyter.widget-view+json": {
       "model_id": "f410953bf76d483da652741f917a33c5",
       "version_major": 2,
       "version_minor": 0
      },
      "text/plain": [
       "HBox(children=(FloatProgress(value=0.0, max=1393.0), HTML(value='')))"
      ]
     },
     "metadata": {},
     "output_type": "display_data"
    },
    {
     "name": "stdout",
     "output_type": "stream",
     "text": [
      "\n",
      "[0.007910862400633715, 0.00448796995858098, 0.006772553451412562, 0.0023690622971027156, 0.0009352933180152169, 0.0014853041766527504, 0.0020745599842239898, 0.007099364417869995]\n"
     ]
    },
    {
     "data": {
      "application/vnd.jupyter.widget-view+json": {
       "model_id": "75df849a333c4aebbb8b117266bf7b26",
       "version_major": 2,
       "version_minor": 0
      },
      "text/plain": [
       "HBox(children=(FloatProgress(value=0.0, max=1393.0), HTML(value='')))"
      ]
     },
     "metadata": {},
     "output_type": "display_data"
    },
    {
     "name": "stdout",
     "output_type": "stream",
     "text": [
      "\n",
      "[0.007910862400633715, 0.00448796995858098, 0.006772553451412562, 0.0023690622971027156, 0.0009352933180152169, 0.0014853041766527504, 0.0020745599842239898, 0.007099364417869995]\n"
     ]
    },
    {
     "data": {
      "application/vnd.jupyter.widget-view+json": {
       "model_id": "553dbb900c93405e9493d283532e311e",
       "version_major": 2,
       "version_minor": 0
      },
      "text/plain": [
       "HBox(children=(FloatProgress(value=0.0, max=1388.0), HTML(value='')))"
      ]
     },
     "metadata": {},
     "output_type": "display_data"
    },
    {
     "name": "stdout",
     "output_type": "stream",
     "text": [
      "\n",
      "[0.007910862400633715, 0.00448796995858098, 0.006772553451412562, 0.0023690622971027156, 0.0009352933180152169, 0.0014853041766527504, 0.0020745599842239898, 0.007099364417869995]\n"
     ]
    },
    {
     "data": {
      "application/vnd.jupyter.widget-view+json": {
       "model_id": "8968ce379cd4435084107dcc36742555",
       "version_major": 2,
       "version_minor": 0
      },
      "text/plain": [
       "HBox(children=(FloatProgress(value=0.0, max=1395.0), HTML(value='')))"
      ]
     },
     "metadata": {},
     "output_type": "display_data"
    },
    {
     "name": "stdout",
     "output_type": "stream",
     "text": [
      "\n",
      "[0.007910862400633715, 0.00448796995858098, 0.006772553451412562, 0.0023690622971027156, 0.0009352933180152169, 0.0014853041766527504, 0.0020745599842239898, 0.007099364417869995]\n"
     ]
    },
    {
     "data": {
      "application/vnd.jupyter.widget-view+json": {
       "model_id": "bbca9281c29f46bca4373accde23d069",
       "version_major": 2,
       "version_minor": 0
      },
      "text/plain": [
       "HBox(children=(FloatProgress(value=0.0, max=1388.0), HTML(value='')))"
      ]
     },
     "metadata": {},
     "output_type": "display_data"
    },
    {
     "name": "stdout",
     "output_type": "stream",
     "text": [
      "\n",
      "[0.007910862400633715, 0.00448796995858098, 0.006772553451412562, 0.0023690622971027156, 0.0009352933180152169, 0.0014853041766527504, 0.0020745599842239898, 0.007099364417869995]\n"
     ]
    },
    {
     "data": {
      "application/vnd.jupyter.widget-view+json": {
       "model_id": "9c390f91562c41f2bb2fc013f17021b9",
       "version_major": 2,
       "version_minor": 0
      },
      "text/plain": [
       "HBox(children=(FloatProgress(value=0.0, max=1390.0), HTML(value='')))"
      ]
     },
     "metadata": {},
     "output_type": "display_data"
    },
    {
     "name": "stdout",
     "output_type": "stream",
     "text": [
      "\n",
      "[0.007910862400633715, 0.00448796995858098, 0.006772553451412562, 0.0023690622971027156, 0.0009352933180152169, 0.0014853041766527504, 0.0020745599842239898, 0.007099364417869995]\n"
     ]
    },
    {
     "data": {
      "application/vnd.jupyter.widget-view+json": {
       "model_id": "d54f7dd2a8ff4733b179bbf93c74ebf5",
       "version_major": 2,
       "version_minor": 0
      },
      "text/plain": [
       "HBox(children=(FloatProgress(value=0.0, max=1394.0), HTML(value='')))"
      ]
     },
     "metadata": {},
     "output_type": "display_data"
    },
    {
     "name": "stdout",
     "output_type": "stream",
     "text": [
      "\n",
      "[0.007910862400633715, 0.00448796995858098, 0.006772553451412562, 0.0023690622971027156, 0.0009352933180152169, 0.0014853041766527504, 0.0020745599842239898, 0.007099364417869995]\n"
     ]
    },
    {
     "data": {
      "application/vnd.jupyter.widget-view+json": {
       "model_id": "d58b43bb6b6246718841c2f2c9290712",
       "version_major": 2,
       "version_minor": 0
      },
      "text/plain": [
       "HBox(children=(FloatProgress(value=0.0, max=1391.0), HTML(value='')))"
      ]
     },
     "metadata": {},
     "output_type": "display_data"
    },
    {
     "name": "stdout",
     "output_type": "stream",
     "text": [
      "\n",
      "[0.007910862400633715, 0.00448796995858098, 0.006772553451412562, 0.0023690622971027156, 0.0009352933180152169, 0.0014853041766527504, 0.0020745599842239898, 0.007099364417869995]\n"
     ]
    },
    {
     "data": {
      "application/vnd.jupyter.widget-view+json": {
       "model_id": "a3a7a31a92d249a9b5574b626288a491",
       "version_major": 2,
       "version_minor": 0
      },
      "text/plain": [
       "HBox(children=(FloatProgress(value=0.0, max=1394.0), HTML(value='')))"
      ]
     },
     "metadata": {},
     "output_type": "display_data"
    },
    {
     "name": "stdout",
     "output_type": "stream",
     "text": [
      "\n",
      "[0.007910862400633715, 0.00448796995858098, 0.006772553451412562, 0.0023690622971027156, 0.0009352933180152169, 0.0014853041766527504, 0.0020745599842239898, 0.007099364417869995]\n"
     ]
    },
    {
     "data": {
      "application/vnd.jupyter.widget-view+json": {
       "model_id": "61ee37824d53463ebd761a70645ce583",
       "version_major": 2,
       "version_minor": 0
      },
      "text/plain": [
       "HBox(children=(FloatProgress(value=0.0, max=1393.0), HTML(value='')))"
      ]
     },
     "metadata": {},
     "output_type": "display_data"
    },
    {
     "name": "stdout",
     "output_type": "stream",
     "text": [
      "\n",
      "[0.007910862400633715, 0.00448796995858098, 0.006772553451412562, 0.0023690622971027156, 0.0009352933180152169, 0.0014853041766527504, 0.0020745599842239898, 0.007099364417869995]\n"
     ]
    },
    {
     "data": {
      "application/vnd.jupyter.widget-view+json": {
       "model_id": "a7741bd56a1f43898e14a015889411a8",
       "version_major": 2,
       "version_minor": 0
      },
      "text/plain": [
       "HBox(children=(FloatProgress(value=0.0, max=1393.0), HTML(value='')))"
      ]
     },
     "metadata": {},
     "output_type": "display_data"
    },
    {
     "name": "stdout",
     "output_type": "stream",
     "text": [
      "\n",
      "[0.007910862400633715, 0.00448796995858098, 0.006772553451412562, 0.0023690622971027156, 0.0009352933180152169, 0.0014853041766527504, 0.0020745599842239898, 0.007099364417869995]\n"
     ]
    },
    {
     "data": {
      "application/vnd.jupyter.widget-view+json": {
       "model_id": "4acee50eb1b14b45bacf019a38b4297b",
       "version_major": 2,
       "version_minor": 0
      },
      "text/plain": [
       "HBox(children=(FloatProgress(value=0.0, max=1390.0), HTML(value='')))"
      ]
     },
     "metadata": {},
     "output_type": "display_data"
    },
    {
     "name": "stdout",
     "output_type": "stream",
     "text": [
      "\n",
      "[0.007910862400633715, 0.00448796995858098, 0.006772553451412562, 0.0023690622971027156, 0.0009352933180152169, 0.0014853041766527504, 0.0020745599842239898, 0.007099364417869995]\n"
     ]
    },
    {
     "data": {
      "application/vnd.jupyter.widget-view+json": {
       "model_id": "ea85b7a3902649508daf22d7ff77362b",
       "version_major": 2,
       "version_minor": 0
      },
      "text/plain": [
       "HBox(children=(FloatProgress(value=0.0, max=1391.0), HTML(value='')))"
      ]
     },
     "metadata": {},
     "output_type": "display_data"
    },
    {
     "name": "stdout",
     "output_type": "stream",
     "text": [
      "\n",
      "[0.007910862400633715, 0.00448796995858098, 0.006772553451412562, 0.0023690622971027156, 0.0009352933180152169, 0.0014853041766527504, 0.0020745599842239898, 0.007099364417869995]\n"
     ]
    },
    {
     "data": {
      "application/vnd.jupyter.widget-view+json": {
       "model_id": "57011ade23f94494a9285b2f6cd09e1b",
       "version_major": 2,
       "version_minor": 0
      },
      "text/plain": [
       "HBox(children=(FloatProgress(value=0.0, max=1394.0), HTML(value='')))"
      ]
     },
     "metadata": {},
     "output_type": "display_data"
    },
    {
     "name": "stdout",
     "output_type": "stream",
     "text": [
      "\n",
      "[0.007910862400633715, 0.00448796995858098, 0.006772553451412562, 0.0023690622971027156, 0.0009352933180152169, 0.0014853041766527504, 0.0020745599842239898, 0.007099364417869995]\n"
     ]
    },
    {
     "data": {
      "application/vnd.jupyter.widget-view+json": {
       "model_id": "f18f242130b4417288970e58bc4e20d9",
       "version_major": 2,
       "version_minor": 0
      },
      "text/plain": [
       "HBox(children=(FloatProgress(value=0.0, max=1393.0), HTML(value='')))"
      ]
     },
     "metadata": {},
     "output_type": "display_data"
    },
    {
     "name": "stdout",
     "output_type": "stream",
     "text": [
      "\n",
      "[0.007910862400633715, 0.00448796995858098, 0.006772553451412562, 0.0023690622971027156, 0.0009352933180152169, 0.0014853041766527504, 0.0020745599842239898, 0.007099364417869995]\n"
     ]
    },
    {
     "data": {
      "application/vnd.jupyter.widget-view+json": {
       "model_id": "949e17e9a2b74741ba52164a0fdb69f6",
       "version_major": 2,
       "version_minor": 0
      },
      "text/plain": [
       "HBox(children=(FloatProgress(value=0.0, max=1390.0), HTML(value='')))"
      ]
     },
     "metadata": {},
     "output_type": "display_data"
    },
    {
     "name": "stdout",
     "output_type": "stream",
     "text": [
      "\n",
      "[0.007910862400633715, 0.00448796995858098, 0.006772553451412562, 0.0023690622971027156, 0.0009352933180152169, 0.0014853041766527504, 0.0020745599842239898, 0.007099364417869995]\n"
     ]
    },
    {
     "data": {
      "application/vnd.jupyter.widget-view+json": {
       "model_id": "8878163835a84b8b83b9f83854c26f22",
       "version_major": 2,
       "version_minor": 0
      },
      "text/plain": [
       "HBox(children=(FloatProgress(value=0.0, max=1388.0), HTML(value='')))"
      ]
     },
     "metadata": {},
     "output_type": "display_data"
    },
    {
     "name": "stdout",
     "output_type": "stream",
     "text": [
      "\n",
      "[0.007910862400633715, 0.00448796995858098, 0.006772553451412562, 0.0023690622971027156, 0.0009352933180152169, 0.0014853041766527504, 0.0020745599842239898, 0.007099364417869995]\n"
     ]
    },
    {
     "data": {
      "application/vnd.jupyter.widget-view+json": {
       "model_id": "5293d8abb772464c8f3482cc294fc380",
       "version_major": 2,
       "version_minor": 0
      },
      "text/plain": [
       "HBox(children=(FloatProgress(value=0.0, max=1391.0), HTML(value='')))"
      ]
     },
     "metadata": {},
     "output_type": "display_data"
    },
    {
     "name": "stdout",
     "output_type": "stream",
     "text": [
      "\n",
      "[0.007910862400633715, 0.00448796995858098, 0.006772553451412562, 0.0023690622971027156, 0.0009352933180152169, 0.0014853041766527504, 0.0020745599842239898, 0.007099364417869995]\n"
     ]
    },
    {
     "data": {
      "application/vnd.jupyter.widget-view+json": {
       "model_id": "8f51a751db1f43de9f7323bbaa8bfcdb",
       "version_major": 2,
       "version_minor": 0
      },
      "text/plain": [
       "HBox(children=(FloatProgress(value=0.0, max=1392.0), HTML(value='')))"
      ]
     },
     "metadata": {},
     "output_type": "display_data"
    },
    {
     "name": "stdout",
     "output_type": "stream",
     "text": [
      "\n",
      "[0.007910862400633715, 0.00448796995858098, 0.006772553451412562, 0.0023690622971027156, 0.0009352933180152169, 0.0014853041766527504, 0.0020745599842239898, 0.007099364417869995]\n"
     ]
    },
    {
     "data": {
      "application/vnd.jupyter.widget-view+json": {
       "model_id": "a051a66535874c52bfb83ac1a297406b",
       "version_major": 2,
       "version_minor": 0
      },
      "text/plain": [
       "HBox(children=(FloatProgress(value=0.0, max=1392.0), HTML(value='')))"
      ]
     },
     "metadata": {},
     "output_type": "display_data"
    },
    {
     "name": "stdout",
     "output_type": "stream",
     "text": [
      "\n",
      "[0.007910862400633715, 0.00448796995858098, 0.006772553451412562, 0.0023690622971027156, 0.0009352933180152169, 0.0014853041766527504, 0.0020745599842239898, 0.007099364417869995]\n"
     ]
    },
    {
     "data": {
      "application/vnd.jupyter.widget-view+json": {
       "model_id": "5df99d28f8ae4e6297e982e16856d9d0",
       "version_major": 2,
       "version_minor": 0
      },
      "text/plain": [
       "HBox(children=(FloatProgress(value=0.0, max=1392.0), HTML(value='')))"
      ]
     },
     "metadata": {},
     "output_type": "display_data"
    },
    {
     "name": "stdout",
     "output_type": "stream",
     "text": [
      "\n",
      "[0.007910862400633715, 0.00448796995858098, 0.006772553451412562, 0.0023690622971027156, 0.0009352933180152169, 0.0014853041766527504, 0.0020745599842239898, 0.007099364417869995]\n"
     ]
    },
    {
     "data": {
      "application/vnd.jupyter.widget-view+json": {
       "model_id": "94303aa68a9c4153a546a9ee1524c288",
       "version_major": 2,
       "version_minor": 0
      },
      "text/plain": [
       "HBox(children=(FloatProgress(value=0.0, max=1395.0), HTML(value='')))"
      ]
     },
     "metadata": {},
     "output_type": "display_data"
    },
    {
     "name": "stdout",
     "output_type": "stream",
     "text": [
      "\n",
      "[0.007910862400633715, 0.00448796995858098, 0.006772553451412562, 0.0023690622971027156, 0.0009352933180152169, 0.0014853041766527504, 0.0020745599842239898, 0.007099364417869995]\n"
     ]
    },
    {
     "data": {
      "application/vnd.jupyter.widget-view+json": {
       "model_id": "6311dd320b0c414f89326b8b6480aebf",
       "version_major": 2,
       "version_minor": 0
      },
      "text/plain": [
       "HBox(children=(FloatProgress(value=0.0, max=1393.0), HTML(value='')))"
      ]
     },
     "metadata": {},
     "output_type": "display_data"
    },
    {
     "name": "stdout",
     "output_type": "stream",
     "text": [
      "\n",
      "[0.007910862400633715, 0.00448796995858098, 0.006772553451412562, 0.0023690622971027156, 0.0009352933180152169, 0.0014853041766527504, 0.0020745599842239898, 0.007099364417869995]\n"
     ]
    },
    {
     "data": {
      "application/vnd.jupyter.widget-view+json": {
       "model_id": "fd47ec4d82bc4a9a80ffc595c33d7afa",
       "version_major": 2,
       "version_minor": 0
      },
      "text/plain": [
       "HBox(children=(FloatProgress(value=0.0, max=1393.0), HTML(value='')))"
      ]
     },
     "metadata": {},
     "output_type": "display_data"
    },
    {
     "name": "stdout",
     "output_type": "stream",
     "text": [
      "\n",
      "[0.007910862400633715, 0.00448796995858098, 0.006772553451412562, 0.0023690622971027156, 0.0009352933180152169, 0.0014853041766527504, 0.0020745599842239898, 0.007099364417869995]\n"
     ]
    },
    {
     "data": {
      "application/vnd.jupyter.widget-view+json": {
       "model_id": "1067998115d446378e919306fd4f2068",
       "version_major": 2,
       "version_minor": 0
      },
      "text/plain": [
       "HBox(children=(FloatProgress(value=0.0, max=1393.0), HTML(value='')))"
      ]
     },
     "metadata": {},
     "output_type": "display_data"
    },
    {
     "name": "stdout",
     "output_type": "stream",
     "text": [
      "\n",
      "[0.007910862400633715, 0.00448796995858098, 0.006772553451412562, 0.0023690622971027156, 0.0009352933180152169, 0.0014853041766527504, 0.0020745599842239898, 0.007099364417869995]\n"
     ]
    },
    {
     "data": {
      "application/vnd.jupyter.widget-view+json": {
       "model_id": "67b7e5e7a0bf455cb0c50e31668cb4b9",
       "version_major": 2,
       "version_minor": 0
      },
      "text/plain": [
       "HBox(children=(FloatProgress(value=0.0, max=1394.0), HTML(value='')))"
      ]
     },
     "metadata": {},
     "output_type": "display_data"
    },
    {
     "name": "stdout",
     "output_type": "stream",
     "text": [
      "\n",
      "[0.007910862400633715, 0.00448796995858098, 0.006772553451412562, 0.0023690622971027156, 0.0009352933180152169, 0.0014853041766527504, 0.0020745599842239898, 0.007099364417869995]\n"
     ]
    },
    {
     "data": {
      "application/vnd.jupyter.widget-view+json": {
       "model_id": "5b88d87dd5a740bf85aed9f0ec77a16d",
       "version_major": 2,
       "version_minor": 0
      },
      "text/plain": [
       "HBox(children=(FloatProgress(value=0.0, max=1393.0), HTML(value='')))"
      ]
     },
     "metadata": {},
     "output_type": "display_data"
    },
    {
     "name": "stdout",
     "output_type": "stream",
     "text": [
      "\n",
      "[0.007910862400633715, 0.00448796995858098, 0.006772553451412562, 0.0023690622971027156, 0.0009352933180152169, 0.0014853041766527504, 0.0020745599842239898, 0.007099364417869995]\n"
     ]
    },
    {
     "data": {
      "application/vnd.jupyter.widget-view+json": {
       "model_id": "e7292c6f974b4a71a066f21f2497e9b6",
       "version_major": 2,
       "version_minor": 0
      },
      "text/plain": [
       "HBox(children=(FloatProgress(value=0.0, max=1393.0), HTML(value='')))"
      ]
     },
     "metadata": {},
     "output_type": "display_data"
    },
    {
     "name": "stdout",
     "output_type": "stream",
     "text": [
      "\n",
      "[0.007910862400633715, 0.00448796995858098, 0.006772553451412562, 0.0023690622971027156, 0.0009352933180152169, 0.0014853041766527504, 0.0020745599842239898, 0.007099364417869995]\n"
     ]
    },
    {
     "data": {
      "application/vnd.jupyter.widget-view+json": {
       "model_id": "465e8955f63647549cb14b24965e7b53",
       "version_major": 2,
       "version_minor": 0
      },
      "text/plain": [
       "HBox(children=(FloatProgress(value=0.0, max=1390.0), HTML(value='')))"
      ]
     },
     "metadata": {},
     "output_type": "display_data"
    },
    {
     "name": "stdout",
     "output_type": "stream",
     "text": [
      "\n",
      "[0.007910862400633715, 0.00448796995858098, 0.006772553451412562, 0.0023690622971027156, 0.0009352933180152169, 0.0014853041766527504, 0.0020745599842239898, 0.007099364417869995]\n"
     ]
    },
    {
     "data": {
      "application/vnd.jupyter.widget-view+json": {
       "model_id": "6f31309d0ac3408a996ca2e0cee4d615",
       "version_major": 2,
       "version_minor": 0
      },
      "text/plain": [
       "HBox(children=(FloatProgress(value=0.0, max=1389.0), HTML(value='')))"
      ]
     },
     "metadata": {},
     "output_type": "display_data"
    },
    {
     "name": "stdout",
     "output_type": "stream",
     "text": [
      "\n",
      "[0.007910862400633715, 0.00448796995858098, 0.006772553451412562, 0.0023690622971027156, 0.0009352933180152169, 0.0014853041766527504, 0.0020745599842239898, 0.007099364417869995]\n"
     ]
    },
    {
     "data": {
      "application/vnd.jupyter.widget-view+json": {
       "model_id": "b710c53fc17648eb806f46b27394a05b",
       "version_major": 2,
       "version_minor": 0
      },
      "text/plain": [
       "HBox(children=(FloatProgress(value=0.0, max=1393.0), HTML(value='')))"
      ]
     },
     "metadata": {},
     "output_type": "display_data"
    },
    {
     "name": "stdout",
     "output_type": "stream",
     "text": [
      "\n",
      "[0.007910862400633715, 0.00448796995858098, 0.006772553451412562, 0.0023690622971027156, 0.0009352933180152169, 0.0014853041766527504, 0.0020745599842239898, 0.007099364417869995]\n"
     ]
    },
    {
     "data": {
      "application/vnd.jupyter.widget-view+json": {
       "model_id": "9caf849178c642f6a121825f7838a7d1",
       "version_major": 2,
       "version_minor": 0
      },
      "text/plain": [
       "HBox(children=(FloatProgress(value=0.0, max=1395.0), HTML(value='')))"
      ]
     },
     "metadata": {},
     "output_type": "display_data"
    },
    {
     "name": "stdout",
     "output_type": "stream",
     "text": [
      "\n",
      "[0.007910862400633715, 0.00448796995858098, 0.006772553451412562, 0.0023690622971027156, 0.0009352933180152169, 0.0014853041766527504, 0.0020745599842239898, 0.007099364417869995]\n"
     ]
    },
    {
     "data": {
      "application/vnd.jupyter.widget-view+json": {
       "model_id": "b8812531b39b4e1891ef4e6c1f4c0f4a",
       "version_major": 2,
       "version_minor": 0
      },
      "text/plain": [
       "HBox(children=(FloatProgress(value=0.0, max=1392.0), HTML(value='')))"
      ]
     },
     "metadata": {},
     "output_type": "display_data"
    },
    {
     "name": "stdout",
     "output_type": "stream",
     "text": [
      "\n",
      "[0.007910862400633715, 0.00448796995858098, 0.006772553451412562, 0.0023690622971027156, 0.0009352933180152169, 0.0014853041766527504, 0.0020745599842239898, 0.007099364417869995]\n"
     ]
    },
    {
     "data": {
      "application/vnd.jupyter.widget-view+json": {
       "model_id": "0f285fec901e49058a9c4a36feae2ac9",
       "version_major": 2,
       "version_minor": 0
      },
      "text/plain": [
       "HBox(children=(FloatProgress(value=0.0, max=1392.0), HTML(value='')))"
      ]
     },
     "metadata": {},
     "output_type": "display_data"
    },
    {
     "name": "stdout",
     "output_type": "stream",
     "text": [
      "\n",
      "[0.007910862400633715, 0.00448796995858098, 0.006772553451412562, 0.0023690622971027156, 0.0009352933180152169, 0.0014853041766527504, 0.0020745599842239898, 0.007099364417869995]\n"
     ]
    },
    {
     "data": {
      "application/vnd.jupyter.widget-view+json": {
       "model_id": "8a9fb1d3dfca4a1bb55b970b18e05a54",
       "version_major": 2,
       "version_minor": 0
      },
      "text/plain": [
       "HBox(children=(FloatProgress(value=0.0, max=1390.0), HTML(value='')))"
      ]
     },
     "metadata": {},
     "output_type": "display_data"
    },
    {
     "name": "stdout",
     "output_type": "stream",
     "text": [
      "\n",
      "[0.007910862400633715, 0.00448796995858098, 0.006772553451412562, 0.0023690622971027156, 0.0009352933180152169, 0.0014853041766527504, 0.0020745599842239898, 0.007099364417869995]\n"
     ]
    },
    {
     "data": {
      "application/vnd.jupyter.widget-view+json": {
       "model_id": "ed4f9e253f8346aa9bebbf572d8d4c99",
       "version_major": 2,
       "version_minor": 0
      },
      "text/plain": [
       "HBox(children=(FloatProgress(value=0.0, max=1389.0), HTML(value='')))"
      ]
     },
     "metadata": {},
     "output_type": "display_data"
    },
    {
     "name": "stdout",
     "output_type": "stream",
     "text": [
      "\n",
      "[0.007910862400633715, 0.00448796995858098, 0.006772553451412562, 0.0023690622971027156, 0.0009352933180152169, 0.0014853041766527504, 0.0020745599842239898, 0.007099364417869995]\n"
     ]
    },
    {
     "data": {
      "application/vnd.jupyter.widget-view+json": {
       "model_id": "5192a63b5a6e496298ad19a1c70cecbf",
       "version_major": 2,
       "version_minor": 0
      },
      "text/plain": [
       "HBox(children=(FloatProgress(value=0.0, max=1391.0), HTML(value='')))"
      ]
     },
     "metadata": {},
     "output_type": "display_data"
    },
    {
     "name": "stdout",
     "output_type": "stream",
     "text": [
      "\n",
      "[0.007910862400633715, 0.00448796995858098, 0.006772553451412562, 0.0023690622971027156, 0.0009352933180152169, 0.0014853041766527504, 0.0020745599842239898, 0.007099364417869995]\n"
     ]
    },
    {
     "data": {
      "application/vnd.jupyter.widget-view+json": {
       "model_id": "490e495dc5ac43bbb142dd276c4be263",
       "version_major": 2,
       "version_minor": 0
      },
      "text/plain": [
       "HBox(children=(FloatProgress(value=0.0, max=1394.0), HTML(value='')))"
      ]
     },
     "metadata": {},
     "output_type": "display_data"
    },
    {
     "name": "stdout",
     "output_type": "stream",
     "text": [
      "\n",
      "[0.007910862400633715, 0.00448796995858098, 0.006772553451412562, 0.0023690622971027156, 0.0009352933180152169, 0.0014853041766527504, 0.0020745599842239898, 0.007099364417869995]\n"
     ]
    },
    {
     "data": {
      "application/vnd.jupyter.widget-view+json": {
       "model_id": "db53e9e02df544f1a528e24735adb8a6",
       "version_major": 2,
       "version_minor": 0
      },
      "text/plain": [
       "HBox(children=(FloatProgress(value=0.0, max=1393.0), HTML(value='')))"
      ]
     },
     "metadata": {},
     "output_type": "display_data"
    },
    {
     "name": "stdout",
     "output_type": "stream",
     "text": [
      "\n",
      "[0.007910862400633715, 0.00448796995858098, 0.006772553451412562, 0.0023690622971027156, 0.0009352933180152169, 0.0014853041766527504, 0.0020745599842239898, 0.007099364417869995]\n"
     ]
    },
    {
     "data": {
      "application/vnd.jupyter.widget-view+json": {
       "model_id": "5a8c9741c10e4d0f817f8488701dad7e",
       "version_major": 2,
       "version_minor": 0
      },
      "text/plain": [
       "HBox(children=(FloatProgress(value=0.0, max=1391.0), HTML(value='')))"
      ]
     },
     "metadata": {},
     "output_type": "display_data"
    },
    {
     "name": "stdout",
     "output_type": "stream",
     "text": [
      "\n",
      "[0.007910862400633715, 0.00448796995858098, 0.006772553451412562, 0.0023690622971027156, 0.0009352933180152169, 0.0014853041766527504, 0.0020745599842239898, 0.007099364417869995]\n"
     ]
    },
    {
     "data": {
      "application/vnd.jupyter.widget-view+json": {
       "model_id": "69a427d473544997ae2b4c880b72c706",
       "version_major": 2,
       "version_minor": 0
      },
      "text/plain": [
       "HBox(children=(FloatProgress(value=0.0, max=1394.0), HTML(value='')))"
      ]
     },
     "metadata": {},
     "output_type": "display_data"
    },
    {
     "name": "stdout",
     "output_type": "stream",
     "text": [
      "\n",
      "[0.007910862400633715, 0.00448796995858098, 0.006772553451412562, 0.0023690622971027156, 0.0009352933180152169, 0.0014853041766527504, 0.0020745599842239898, 0.007099364417869995]\n"
     ]
    },
    {
     "data": {
      "application/vnd.jupyter.widget-view+json": {
       "model_id": "84063636ae4c44e9b9101939c729df87",
       "version_major": 2,
       "version_minor": 0
      },
      "text/plain": [
       "HBox(children=(FloatProgress(value=0.0, max=1388.0), HTML(value='')))"
      ]
     },
     "metadata": {},
     "output_type": "display_data"
    },
    {
     "name": "stdout",
     "output_type": "stream",
     "text": [
      "\n",
      "[0.007910862400633715, 0.00448796995858098, 0.006772553451412562, 0.0023690622971027156, 0.0009352933180152169, 0.0014853041766527504, 0.0020745599842239898, 0.007099364417869995]\n"
     ]
    },
    {
     "data": {
      "application/vnd.jupyter.widget-view+json": {
       "model_id": "0275537b992a419bb01a356913cad15e",
       "version_major": 2,
       "version_minor": 0
      },
      "text/plain": [
       "HBox(children=(FloatProgress(value=0.0, max=1392.0), HTML(value='')))"
      ]
     },
     "metadata": {},
     "output_type": "display_data"
    },
    {
     "name": "stdout",
     "output_type": "stream",
     "text": [
      "\n",
      "[0.007910862400633715, 0.00448796995858098, 0.006772553451412562, 0.0023690622971027156, 0.0009352933180152169, 0.0014853041766527504, 0.0020745599842239898, 0.007099364417869995]\n"
     ]
    },
    {
     "data": {
      "application/vnd.jupyter.widget-view+json": {
       "model_id": "66b8833bb6544f699a8bee32b60298d4",
       "version_major": 2,
       "version_minor": 0
      },
      "text/plain": [
       "HBox(children=(FloatProgress(value=0.0, max=1393.0), HTML(value='')))"
      ]
     },
     "metadata": {},
     "output_type": "display_data"
    },
    {
     "name": "stdout",
     "output_type": "stream",
     "text": [
      "\n",
      "[0.007910862400633715, 0.00448796995858098, 0.006772553451412562, 0.0023690622971027156, 0.0009352933180152169, 0.0014853041766527504, 0.0020745599842239898, 0.007099364417869995]\n"
     ]
    },
    {
     "data": {
      "application/vnd.jupyter.widget-view+json": {
       "model_id": "c0cc8939b4d84f339bb186ad6ab92436",
       "version_major": 2,
       "version_minor": 0
      },
      "text/plain": [
       "HBox(children=(FloatProgress(value=0.0, max=1395.0), HTML(value='')))"
      ]
     },
     "metadata": {},
     "output_type": "display_data"
    },
    {
     "name": "stdout",
     "output_type": "stream",
     "text": [
      "\n",
      "[0.007910862400633715, 0.00448796995858098, 0.006772553451412562, 0.0023690622971027156, 0.0009352933180152169, 0.0014853041766527504, 0.0020745599842239898, 0.007099364417869995]\n"
     ]
    },
    {
     "data": {
      "application/vnd.jupyter.widget-view+json": {
       "model_id": "764e5c8ee63c4242a85c23542a2c1de9",
       "version_major": 2,
       "version_minor": 0
      },
      "text/plain": [
       "HBox(children=(FloatProgress(value=0.0, max=1393.0), HTML(value='')))"
      ]
     },
     "metadata": {},
     "output_type": "display_data"
    },
    {
     "name": "stdout",
     "output_type": "stream",
     "text": [
      "\n",
      "[0.007910862400633715, 0.00448796995858098, 0.006772553451412562, 0.0023690622971027156, 0.0009352933180152169, 0.0014853041766527504, 0.0020745599842239898, 0.007099364417869995]\n"
     ]
    },
    {
     "data": {
      "application/vnd.jupyter.widget-view+json": {
       "model_id": "bffe649fe38b4677b6dd0721d8b985aa",
       "version_major": 2,
       "version_minor": 0
      },
      "text/plain": [
       "HBox(children=(FloatProgress(value=0.0, max=1390.0), HTML(value='')))"
      ]
     },
     "metadata": {},
     "output_type": "display_data"
    },
    {
     "name": "stdout",
     "output_type": "stream",
     "text": [
      "\n",
      "[0.007910862400633715, 0.00448796995858098, 0.006772553451412562, 0.0023690622971027156, 0.0009352933180152169, 0.0014853041766527504, 0.0020745599842239898, 0.007099364417869995]\n"
     ]
    },
    {
     "data": {
      "application/vnd.jupyter.widget-view+json": {
       "model_id": "ebefe5e244c44046b4651002b4d4e105",
       "version_major": 2,
       "version_minor": 0
      },
      "text/plain": [
       "HBox(children=(FloatProgress(value=0.0, max=1392.0), HTML(value='')))"
      ]
     },
     "metadata": {},
     "output_type": "display_data"
    },
    {
     "name": "stdout",
     "output_type": "stream",
     "text": [
      "\n",
      "[0.007910862400633715, 0.00448796995858098, 0.006772553451412562, 0.0023690622971027156, 0.0009352933180152169, 0.0014853041766527504, 0.0020745599842239898, 0.007099364417869995]\n"
     ]
    },
    {
     "data": {
      "application/vnd.jupyter.widget-view+json": {
       "model_id": "da9ce8b434c94ca3a713717b4fef3821",
       "version_major": 2,
       "version_minor": 0
      },
      "text/plain": [
       "HBox(children=(FloatProgress(value=0.0, max=1386.0), HTML(value='')))"
      ]
     },
     "metadata": {},
     "output_type": "display_data"
    },
    {
     "name": "stdout",
     "output_type": "stream",
     "text": [
      "\n",
      "[0.007910862400633715, 0.00448796995858098, 0.006772553451412562, 0.0023690622971027156, 0.0009352933180152169, 0.0014853041766527504, 0.0020745599842239898, 0.007099364417869995]\n"
     ]
    },
    {
     "data": {
      "application/vnd.jupyter.widget-view+json": {
       "model_id": "06d1ea8661ff410b8330a855a671e947",
       "version_major": 2,
       "version_minor": 0
      },
      "text/plain": [
       "HBox(children=(FloatProgress(value=0.0, max=1393.0), HTML(value='')))"
      ]
     },
     "metadata": {},
     "output_type": "display_data"
    },
    {
     "name": "stdout",
     "output_type": "stream",
     "text": [
      "\n",
      "[0.007910862400633715, 0.00448796995858098, 0.006772553451412562, 0.0023690622971027156, 0.0009352933180152169, 0.0014853041766527504, 0.0020745599842239898, 0.007099364417869995]\n"
     ]
    },
    {
     "data": {
      "application/vnd.jupyter.widget-view+json": {
       "model_id": "6aa3440ed0a74f09a6436b22981769e1",
       "version_major": 2,
       "version_minor": 0
      },
      "text/plain": [
       "HBox(children=(FloatProgress(value=0.0, max=1391.0), HTML(value='')))"
      ]
     },
     "metadata": {},
     "output_type": "display_data"
    },
    {
     "name": "stdout",
     "output_type": "stream",
     "text": [
      "\n",
      "[0.007910862400633715, 0.00448796995858098, 0.006772553451412562, 0.0023690622971027156, 0.0009352933180152169, 0.0014853041766527504, 0.0020745599842239898, 0.007099364417869995]\n"
     ]
    },
    {
     "data": {
      "application/vnd.jupyter.widget-view+json": {
       "model_id": "94e4562433c3418c93348e1cbe228075",
       "version_major": 2,
       "version_minor": 0
      },
      "text/plain": [
       "HBox(children=(FloatProgress(value=0.0, max=1391.0), HTML(value='')))"
      ]
     },
     "metadata": {},
     "output_type": "display_data"
    },
    {
     "name": "stdout",
     "output_type": "stream",
     "text": [
      "\n",
      "[0.007910862400633715, 0.00448796995858098, 0.006772553451412562, 0.0023690622971027156, 0.0009352933180152169, 0.0014853041766527504, 0.0020745599842239898, 0.007099364417869995]\n"
     ]
    },
    {
     "data": {
      "application/vnd.jupyter.widget-view+json": {
       "model_id": "8038b651d6af4c50ae57af29850d3750",
       "version_major": 2,
       "version_minor": 0
      },
      "text/plain": [
       "HBox(children=(FloatProgress(value=0.0, max=1392.0), HTML(value='')))"
      ]
     },
     "metadata": {},
     "output_type": "display_data"
    },
    {
     "name": "stdout",
     "output_type": "stream",
     "text": [
      "\n",
      "[0.007910862400633715, 0.00448796995858098, 0.006772553451412562, 0.0023690622971027156, 0.0009352933180152169, 0.0014853041766527504, 0.0020745599842239898, 0.007099364417869995]\n"
     ]
    },
    {
     "data": {
      "application/vnd.jupyter.widget-view+json": {
       "model_id": "016a05b730d94531ad57f03f5930bf7c",
       "version_major": 2,
       "version_minor": 0
      },
      "text/plain": [
       "HBox(children=(FloatProgress(value=0.0, max=1392.0), HTML(value='')))"
      ]
     },
     "metadata": {},
     "output_type": "display_data"
    },
    {
     "name": "stdout",
     "output_type": "stream",
     "text": [
      "\n",
      "[0.007910862400633715, 0.00448796995858098, 0.006772553451412562, 0.0023690622971027156, 0.0009352933180152169, 0.0014853041766527504, 0.0020745599842239898, 0.007099364417869995]\n"
     ]
    },
    {
     "data": {
      "application/vnd.jupyter.widget-view+json": {
       "model_id": "93ff95bcaf4a49e68810144a56a79423",
       "version_major": 2,
       "version_minor": 0
      },
      "text/plain": [
       "HBox(children=(FloatProgress(value=0.0, max=1392.0), HTML(value='')))"
      ]
     },
     "metadata": {},
     "output_type": "display_data"
    },
    {
     "name": "stdout",
     "output_type": "stream",
     "text": [
      "\n",
      "[0.007910862400633715, 0.00448796995858098, 0.006772553451412562, 0.0023690622971027156, 0.0009352933180152169, 0.0014853041766527504, 0.0020745599842239898, 0.007099364417869995]\n"
     ]
    },
    {
     "data": {
      "application/vnd.jupyter.widget-view+json": {
       "model_id": "4c468b9bce3b4f55a9fa7baba4c35a51",
       "version_major": 2,
       "version_minor": 0
      },
      "text/plain": [
       "HBox(children=(FloatProgress(value=0.0, max=1391.0), HTML(value='')))"
      ]
     },
     "metadata": {},
     "output_type": "display_data"
    },
    {
     "name": "stdout",
     "output_type": "stream",
     "text": [
      "\n",
      "[0.007910862400633715, 0.00448796995858098, 0.006772553451412562, 0.0023690622971027156, 0.0009352933180152169, 0.0014853041766527504, 0.0020745599842239898, 0.007099364417869995]\n"
     ]
    },
    {
     "data": {
      "application/vnd.jupyter.widget-view+json": {
       "model_id": "32cb07a8bf3349ad9fa0a3b4683f4ca7",
       "version_major": 2,
       "version_minor": 0
      },
      "text/plain": [
       "HBox(children=(FloatProgress(value=0.0, max=1393.0), HTML(value='')))"
      ]
     },
     "metadata": {},
     "output_type": "display_data"
    },
    {
     "name": "stdout",
     "output_type": "stream",
     "text": [
      "\n",
      "[0.007910862400633715, 0.00448796995858098, 0.006772553451412562, 0.0023690622971027156, 0.0009352933180152169, 0.0014853041766527504, 0.0020745599842239898, 0.007099364417869995]\n"
     ]
    },
    {
     "data": {
      "application/vnd.jupyter.widget-view+json": {
       "model_id": "e07e8bc58ce6489b87d6fc3e35ea52a5",
       "version_major": 2,
       "version_minor": 0
      },
      "text/plain": [
       "HBox(children=(FloatProgress(value=0.0, max=1393.0), HTML(value='')))"
      ]
     },
     "metadata": {},
     "output_type": "display_data"
    },
    {
     "name": "stdout",
     "output_type": "stream",
     "text": [
      "\n",
      "[0.007910862400633715, 0.00448796995858098, 0.006772553451412562, 0.0023690622971027156, 0.0009352933180152169, 0.0014853041766527504, 0.0020745599842239898, 0.007099364417869995]\n"
     ]
    },
    {
     "data": {
      "application/vnd.jupyter.widget-view+json": {
       "model_id": "e858ab1c04fb4de9a7ef28093df151c3",
       "version_major": 2,
       "version_minor": 0
      },
      "text/plain": [
       "HBox(children=(FloatProgress(value=0.0, max=1391.0), HTML(value='')))"
      ]
     },
     "metadata": {},
     "output_type": "display_data"
    },
    {
     "name": "stdout",
     "output_type": "stream",
     "text": [
      "\n",
      "[0.007910862400633715, 0.00448796995858098, 0.006772553451412562, 0.0023690622971027156, 0.0009352933180152169, 0.0014853041766527504, 0.0020745599842239898, 0.007099364417869995]\n"
     ]
    },
    {
     "data": {
      "application/vnd.jupyter.widget-view+json": {
       "model_id": "e77532a2883b41b88bfd398bb25ff576",
       "version_major": 2,
       "version_minor": 0
      },
      "text/plain": [
       "HBox(children=(FloatProgress(value=0.0, max=1392.0), HTML(value='')))"
      ]
     },
     "metadata": {},
     "output_type": "display_data"
    },
    {
     "name": "stdout",
     "output_type": "stream",
     "text": [
      "\n",
      "[0.007910862400633715, 0.00448796995858098, 0.006772553451412562, 0.0023690622971027156, 0.0009352933180152169, 0.0014853041766527504, 0.0020745599842239898, 0.007099364417869995]\n"
     ]
    },
    {
     "data": {
      "application/vnd.jupyter.widget-view+json": {
       "model_id": "5535891769b2443780ed3c58e1df1909",
       "version_major": 2,
       "version_minor": 0
      },
      "text/plain": [
       "HBox(children=(FloatProgress(value=0.0, max=1392.0), HTML(value='')))"
      ]
     },
     "metadata": {},
     "output_type": "display_data"
    },
    {
     "name": "stdout",
     "output_type": "stream",
     "text": [
      "\n",
      "[0.007910862400633715, 0.00448796995858098, 0.006772553451412562, 0.0023690622971027156, 0.0009352933180152169, 0.0014853041766527504, 0.0020745599842239898, 0.007099364417869995]\n"
     ]
    },
    {
     "data": {
      "application/vnd.jupyter.widget-view+json": {
       "model_id": "df2e88fe83c943198993f302330aca8f",
       "version_major": 2,
       "version_minor": 0
      },
      "text/plain": [
       "HBox(children=(FloatProgress(value=0.0, max=1391.0), HTML(value='')))"
      ]
     },
     "metadata": {},
     "output_type": "display_data"
    },
    {
     "name": "stdout",
     "output_type": "stream",
     "text": [
      "\n",
      "[0.007910862400633715, 0.00448796995858098, 0.006772553451412562, 0.0023690622971027156, 0.0009352933180152169, 0.0014853041766527504, 0.0020745599842239898, 0.007099364417869995]\n"
     ]
    },
    {
     "data": {
      "application/vnd.jupyter.widget-view+json": {
       "model_id": "97bcb1b017634acc909c72e187e84d82",
       "version_major": 2,
       "version_minor": 0
      },
      "text/plain": [
       "HBox(children=(FloatProgress(value=0.0, max=1393.0), HTML(value='')))"
      ]
     },
     "metadata": {},
     "output_type": "display_data"
    },
    {
     "name": "stdout",
     "output_type": "stream",
     "text": [
      "\n",
      "[0.007910862400633715, 0.00448796995858098, 0.006772553451412562, 0.0023690622971027156, 0.0009352933180152169, 0.0014853041766527504, 0.0020745599842239898, 0.007099364417869995]\n"
     ]
    },
    {
     "data": {
      "application/vnd.jupyter.widget-view+json": {
       "model_id": "3a2185aefbb14532b836cc47cc449c4d",
       "version_major": 2,
       "version_minor": 0
      },
      "text/plain": [
       "HBox(children=(FloatProgress(value=0.0, max=1391.0), HTML(value='')))"
      ]
     },
     "metadata": {},
     "output_type": "display_data"
    },
    {
     "name": "stdout",
     "output_type": "stream",
     "text": [
      "\n",
      "[0.007910862400633715, 0.00448796995858098, 0.006772553451412562, 0.0023690622971027156, 0.0009352933180152169, 0.0014853041766527504, 0.0020745599842239898, 0.007099364417869995]\n"
     ]
    },
    {
     "data": {
      "application/vnd.jupyter.widget-view+json": {
       "model_id": "d2b439e07cd044389680f2c35dc09c6b",
       "version_major": 2,
       "version_minor": 0
      },
      "text/plain": [
       "HBox(children=(FloatProgress(value=0.0, max=1394.0), HTML(value='')))"
      ]
     },
     "metadata": {},
     "output_type": "display_data"
    },
    {
     "name": "stdout",
     "output_type": "stream",
     "text": [
      "\n",
      "[0.007910862400633715, 0.00448796995858098, 0.006772553451412562, 0.0023690622971027156, 0.0009352933180152169, 0.0014853041766527504, 0.0020745599842239898, 0.007099364417869995]\n"
     ]
    },
    {
     "data": {
      "application/vnd.jupyter.widget-view+json": {
       "model_id": "b1608dc62b0d49cdb43e3a731335e27c",
       "version_major": 2,
       "version_minor": 0
      },
      "text/plain": [
       "HBox(children=(FloatProgress(value=0.0, max=1393.0), HTML(value='')))"
      ]
     },
     "metadata": {},
     "output_type": "display_data"
    },
    {
     "name": "stdout",
     "output_type": "stream",
     "text": [
      "\n",
      "[0.007910862400633715, 0.00448796995858098, 0.006772553451412562, 0.0023690622971027156, 0.0009352933180152169, 0.0014853041766527504, 0.0020745599842239898, 0.007099364417869995]\n"
     ]
    },
    {
     "data": {
      "application/vnd.jupyter.widget-view+json": {
       "model_id": "2b15f14200ee488496244b2a4b6f2f92",
       "version_major": 2,
       "version_minor": 0
      },
      "text/plain": [
       "HBox(children=(FloatProgress(value=0.0, max=1391.0), HTML(value='')))"
      ]
     },
     "metadata": {},
     "output_type": "display_data"
    },
    {
     "name": "stdout",
     "output_type": "stream",
     "text": [
      "\n",
      "[0.007910862400633715, 0.00448796995858098, 0.006772553451412562, 0.0023690622971027156, 0.0009352933180152169, 0.0014853041766527504, 0.0020745599842239898, 0.007099364417869995]\n"
     ]
    },
    {
     "data": {
      "application/vnd.jupyter.widget-view+json": {
       "model_id": "98ab9b087d104ebc99b8f880e962ad9b",
       "version_major": 2,
       "version_minor": 0
      },
      "text/plain": [
       "HBox(children=(FloatProgress(value=0.0, max=1394.0), HTML(value='')))"
      ]
     },
     "metadata": {},
     "output_type": "display_data"
    },
    {
     "name": "stdout",
     "output_type": "stream",
     "text": [
      "\n",
      "[0.007910862400633715, 0.00448796995858098, 0.006772553451412562, 0.0023690622971027156, 0.0009352933180152169, 0.0014853041766527504, 0.0020745599842239898, 0.007099364417869995]\n"
     ]
    },
    {
     "data": {
      "application/vnd.jupyter.widget-view+json": {
       "model_id": "d5600380796c49cf885092b121221f3d",
       "version_major": 2,
       "version_minor": 0
      },
      "text/plain": [
       "HBox(children=(FloatProgress(value=0.0, max=1393.0), HTML(value='')))"
      ]
     },
     "metadata": {},
     "output_type": "display_data"
    },
    {
     "name": "stdout",
     "output_type": "stream",
     "text": [
      "\n",
      "[0.007910862400633715, 0.00448796995858098, 0.006772553451412562, 0.0023690622971027156, 0.0009352933180152169, 0.0014853041766527504, 0.0020745599842239898, 0.007099364417869995]\n"
     ]
    },
    {
     "data": {
      "application/vnd.jupyter.widget-view+json": {
       "model_id": "bf4e57b6f6154adf884fc4b02a98d09b",
       "version_major": 2,
       "version_minor": 0
      },
      "text/plain": [
       "HBox(children=(FloatProgress(value=0.0, max=1392.0), HTML(value='')))"
      ]
     },
     "metadata": {},
     "output_type": "display_data"
    },
    {
     "name": "stdout",
     "output_type": "stream",
     "text": [
      "\n",
      "[0.007910862400633715, 0.00448796995858098, 0.006772553451412562, 0.0023690622971027156, 0.0009352933180152169, 0.0014853041766527504, 0.0020745599842239898, 0.007099364417869995]\n"
     ]
    },
    {
     "data": {
      "application/vnd.jupyter.widget-view+json": {
       "model_id": "b0cd96447576495d9dbc6bac99988618",
       "version_major": 2,
       "version_minor": 0
      },
      "text/plain": [
       "HBox(children=(FloatProgress(value=0.0, max=1390.0), HTML(value='')))"
      ]
     },
     "metadata": {},
     "output_type": "display_data"
    },
    {
     "name": "stdout",
     "output_type": "stream",
     "text": [
      "\n",
      "[0.007910862400633715, 0.00448796995858098, 0.006772553451412562, 0.0023690622971027156, 0.0009352933180152169, 0.0014853041766527504, 0.0020745599842239898, 0.007099364417869995]\n"
     ]
    },
    {
     "data": {
      "application/vnd.jupyter.widget-view+json": {
       "model_id": "b146e0c9d1d24da2bca15e8f94477a7c",
       "version_major": 2,
       "version_minor": 0
      },
      "text/plain": [
       "HBox(children=(FloatProgress(value=0.0, max=1391.0), HTML(value='')))"
      ]
     },
     "metadata": {},
     "output_type": "display_data"
    },
    {
     "name": "stdout",
     "output_type": "stream",
     "text": [
      "\n",
      "[0.007910862400633715, 0.00448796995858098, 0.006772553451412562, 0.0023690622971027156, 0.0009352933180152169, 0.0014853041766527504, 0.0020745599842239898, 0.007099364417869995]\n"
     ]
    },
    {
     "data": {
      "application/vnd.jupyter.widget-view+json": {
       "model_id": "3233d1f4bb7b4f8f8c25319c47cf8ce2",
       "version_major": 2,
       "version_minor": 0
      },
      "text/plain": [
       "HBox(children=(FloatProgress(value=0.0, max=1392.0), HTML(value='')))"
      ]
     },
     "metadata": {},
     "output_type": "display_data"
    },
    {
     "name": "stdout",
     "output_type": "stream",
     "text": [
      "\n",
      "[0.007910862400633715, 0.00448796995858098, 0.006772553451412562, 0.0023690622971027156, 0.0009352933180152169, 0.0014853041766527504, 0.0020745599842239898, 0.007099364417869995]\n"
     ]
    },
    {
     "data": {
      "application/vnd.jupyter.widget-view+json": {
       "model_id": "8f3e4b913ffe4a25a3d4b6f6b878afd3",
       "version_major": 2,
       "version_minor": 0
      },
      "text/plain": [
       "HBox(children=(FloatProgress(value=0.0, max=1391.0), HTML(value='')))"
      ]
     },
     "metadata": {},
     "output_type": "display_data"
    },
    {
     "name": "stdout",
     "output_type": "stream",
     "text": [
      "\n",
      "[0.007910862400633715, 0.00448796995858098, 0.006772553451412562, 0.0023690622971027156, 0.0009352933180152169, 0.0014853041766527504, 0.0020745599842239898, 0.007099364417869995]\n"
     ]
    },
    {
     "data": {
      "application/vnd.jupyter.widget-view+json": {
       "model_id": "488a8c7776f649ce9e89c23c657061f6",
       "version_major": 2,
       "version_minor": 0
      },
      "text/plain": [
       "HBox(children=(FloatProgress(value=0.0, max=1390.0), HTML(value='')))"
      ]
     },
     "metadata": {},
     "output_type": "display_data"
    },
    {
     "name": "stdout",
     "output_type": "stream",
     "text": [
      "\n",
      "[0.007910862400633715, 0.00448796995858098, 0.006772553451412562, 0.0023690622971027156, 0.0009352933180152169, 0.0014853041766527504, 0.0020745599842239898, 0.007099364417869995]\n"
     ]
    },
    {
     "data": {
      "application/vnd.jupyter.widget-view+json": {
       "model_id": "8275238266ee4ef2aa9c34d35d4ca47b",
       "version_major": 2,
       "version_minor": 0
      },
      "text/plain": [
       "HBox(children=(FloatProgress(value=0.0, max=1391.0), HTML(value='')))"
      ]
     },
     "metadata": {},
     "output_type": "display_data"
    },
    {
     "name": "stdout",
     "output_type": "stream",
     "text": [
      "\n",
      "[0.007910862400633715, 0.00448796995858098, 0.006772553451412562, 0.0023690622971027156, 0.0009352933180152169, 0.0014853041766527504, 0.0020745599842239898, 0.007099364417869995]\n"
     ]
    },
    {
     "data": {
      "application/vnd.jupyter.widget-view+json": {
       "model_id": "4cb8fa1db4a946a3a37a2fd3c14aee60",
       "version_major": 2,
       "version_minor": 0
      },
      "text/plain": [
       "HBox(children=(FloatProgress(value=0.0, max=1390.0), HTML(value='')))"
      ]
     },
     "metadata": {},
     "output_type": "display_data"
    },
    {
     "name": "stdout",
     "output_type": "stream",
     "text": [
      "\n",
      "[0.007910862400633715, 0.00448796995858098, 0.006772553451412562, 0.0023690622971027156, 0.0009352933180152169, 0.0014853041766527504, 0.0020745599842239898, 0.007099364417869995]\n"
     ]
    },
    {
     "data": {
      "application/vnd.jupyter.widget-view+json": {
       "model_id": "573f5dd03b034fe7b344747f5ed3319a",
       "version_major": 2,
       "version_minor": 0
      },
      "text/plain": [
       "HBox(children=(FloatProgress(value=0.0, max=1391.0), HTML(value='')))"
      ]
     },
     "metadata": {},
     "output_type": "display_data"
    },
    {
     "name": "stdout",
     "output_type": "stream",
     "text": [
      "\n",
      "[0.007910862400633715, 0.00448796995858098, 0.006772553451412562, 0.0023690622971027156, 0.0009352933180152169, 0.0014853041766527504, 0.0020745599842239898, 0.007099364417869995]\n"
     ]
    },
    {
     "data": {
      "application/vnd.jupyter.widget-view+json": {
       "model_id": "8b25bdf3ec5945f4a5b818512a7963fd",
       "version_major": 2,
       "version_minor": 0
      },
      "text/plain": [
       "HBox(children=(FloatProgress(value=0.0, max=1392.0), HTML(value='')))"
      ]
     },
     "metadata": {},
     "output_type": "display_data"
    },
    {
     "name": "stdout",
     "output_type": "stream",
     "text": [
      "\n",
      "[0.007910862400633715, 0.00448796995858098, 0.006772553451412562, 0.0023690622971027156, 0.0009352933180152169, 0.0014853041766527504, 0.0020745599842239898, 0.007099364417869995]\n"
     ]
    },
    {
     "data": {
      "application/vnd.jupyter.widget-view+json": {
       "model_id": "fd885b1750514d4d8e27d8c4d2ef9c90",
       "version_major": 2,
       "version_minor": 0
      },
      "text/plain": [
       "HBox(children=(FloatProgress(value=0.0, max=1392.0), HTML(value='')))"
      ]
     },
     "metadata": {},
     "output_type": "display_data"
    },
    {
     "name": "stdout",
     "output_type": "stream",
     "text": [
      "\n",
      "[0.007910862400633715, 0.00448796995858098, 0.006772553451412562, 0.0023690622971027156, 0.0009352933180152169, 0.0014853041766527504, 0.0020745599842239898, 0.007099364417869995]\n"
     ]
    },
    {
     "data": {
      "application/vnd.jupyter.widget-view+json": {
       "model_id": "7580639f233a4b8a9887288dacd08416",
       "version_major": 2,
       "version_minor": 0
      },
      "text/plain": [
       "HBox(children=(FloatProgress(value=0.0, max=1390.0), HTML(value='')))"
      ]
     },
     "metadata": {},
     "output_type": "display_data"
    },
    {
     "name": "stdout",
     "output_type": "stream",
     "text": [
      "\n",
      "[0.007910862400633715, 0.00448796995858098, 0.006772553451412562, 0.0023690622971027156, 0.0009352933180152169, 0.0014853041766527504, 0.0020745599842239898, 0.007099364417869995]\n"
     ]
    },
    {
     "data": {
      "application/vnd.jupyter.widget-view+json": {
       "model_id": "11cb873bbbb546a497366d9aa35482ae",
       "version_major": 2,
       "version_minor": 0
      },
      "text/plain": [
       "HBox(children=(FloatProgress(value=0.0, max=1391.0), HTML(value='')))"
      ]
     },
     "metadata": {},
     "output_type": "display_data"
    },
    {
     "name": "stdout",
     "output_type": "stream",
     "text": [
      "\n",
      "[0.007910862400633715, 0.00448796995858098, 0.006772553451412562, 0.0023690622971027156, 0.0009352933180152169, 0.0014853041766527504, 0.0020745599842239898, 0.007099364417869995]\n"
     ]
    },
    {
     "data": {
      "application/vnd.jupyter.widget-view+json": {
       "model_id": "7fc36be4874d490b85ccc36faf6efbb2",
       "version_major": 2,
       "version_minor": 0
      },
      "text/plain": [
       "HBox(children=(FloatProgress(value=0.0, max=1391.0), HTML(value='')))"
      ]
     },
     "metadata": {},
     "output_type": "display_data"
    },
    {
     "name": "stdout",
     "output_type": "stream",
     "text": [
      "\n",
      "[0.007910862400633715, 0.00448796995858098, 0.006772553451412562, 0.0023690622971027156, 0.0009352933180152169, 0.0014853041766527504, 0.0020745599842239898, 0.007099364417869995]\n"
     ]
    },
    {
     "data": {
      "application/vnd.jupyter.widget-view+json": {
       "model_id": "016dc8de873b4aa9a7d2b08604204b8d",
       "version_major": 2,
       "version_minor": 0
      },
      "text/plain": [
       "HBox(children=(FloatProgress(value=0.0, max=1391.0), HTML(value='')))"
      ]
     },
     "metadata": {},
     "output_type": "display_data"
    },
    {
     "name": "stdout",
     "output_type": "stream",
     "text": [
      "\n",
      "[0.007910862400633715, 0.00448796995858098, 0.006772553451412562, 0.0023690622971027156, 0.0009352933180152169, 0.0014853041766527504, 0.0020745599842239898, 0.007099364417869995]\n"
     ]
    },
    {
     "data": {
      "application/vnd.jupyter.widget-view+json": {
       "model_id": "895da58115594093874e5c94ac63edaa",
       "version_major": 2,
       "version_minor": 0
      },
      "text/plain": [
       "HBox(children=(FloatProgress(value=0.0, max=1392.0), HTML(value='')))"
      ]
     },
     "metadata": {},
     "output_type": "display_data"
    },
    {
     "name": "stdout",
     "output_type": "stream",
     "text": [
      "\n",
      "[0.007910862400633715, 0.00448796995858098, 0.006772553451412562, 0.0023690622971027156, 0.0009352933180152169, 0.0014853041766527504, 0.0020745599842239898, 0.007099364417869995]\n"
     ]
    },
    {
     "data": {
      "application/vnd.jupyter.widget-view+json": {
       "model_id": "a374cc8f3e49465c8355cfbc3c5b2559",
       "version_major": 2,
       "version_minor": 0
      },
      "text/plain": [
       "HBox(children=(FloatProgress(value=0.0, max=1390.0), HTML(value='')))"
      ]
     },
     "metadata": {},
     "output_type": "display_data"
    },
    {
     "name": "stdout",
     "output_type": "stream",
     "text": [
      "\n",
      "[0.007910862400633715, 0.00448796995858098, 0.006772553451412562, 0.0023690622971027156, 0.0009352933180152169, 0.0014853041766527504, 0.0020745599842239898, 0.007099364417869995]\n"
     ]
    },
    {
     "data": {
      "application/vnd.jupyter.widget-view+json": {
       "model_id": "0968f8d0901446168dd366ee538c81d3",
       "version_major": 2,
       "version_minor": 0
      },
      "text/plain": [
       "HBox(children=(FloatProgress(value=0.0, max=1391.0), HTML(value='')))"
      ]
     },
     "metadata": {},
     "output_type": "display_data"
    },
    {
     "name": "stdout",
     "output_type": "stream",
     "text": [
      "\n",
      "[0.007910862400633715, 0.00448796995858098, 0.006772553451412562, 0.0023690622971027156, 0.0009352933180152169, 0.0014853041766527504, 0.0020745599842239898, 0.007099364417869995]\n"
     ]
    },
    {
     "data": {
      "application/vnd.jupyter.widget-view+json": {
       "model_id": "6660ae48c8464ba18626825e81ee88dc",
       "version_major": 2,
       "version_minor": 0
      },
      "text/plain": [
       "HBox(children=(FloatProgress(value=0.0, max=1390.0), HTML(value='')))"
      ]
     },
     "metadata": {},
     "output_type": "display_data"
    },
    {
     "name": "stdout",
     "output_type": "stream",
     "text": [
      "\n",
      "[0.007910862400633715, 0.00448796995858098, 0.006772553451412562, 0.0023690622971027156, 0.0009352933180152169, 0.0014853041766527504, 0.0020745599842239898, 0.007099364417869995]\n"
     ]
    },
    {
     "data": {
      "application/vnd.jupyter.widget-view+json": {
       "model_id": "efda98e5f6694c8fb017cefe73b608db",
       "version_major": 2,
       "version_minor": 0
      },
      "text/plain": [
       "HBox(children=(FloatProgress(value=0.0, max=1391.0), HTML(value='')))"
      ]
     },
     "metadata": {},
     "output_type": "display_data"
    },
    {
     "name": "stdout",
     "output_type": "stream",
     "text": [
      "\n",
      "[0.007910862400633715, 0.00448796995858098, 0.006772553451412562, 0.0023690622971027156, 0.0009352933180152169, 0.0014853041766527504, 0.0020745599842239898, 0.007099364417869995]\n"
     ]
    },
    {
     "data": {
      "application/vnd.jupyter.widget-view+json": {
       "model_id": "d5ad46645413451787ed2dcd67aa45f7",
       "version_major": 2,
       "version_minor": 0
      },
      "text/plain": [
       "HBox(children=(FloatProgress(value=0.0, max=1392.0), HTML(value='')))"
      ]
     },
     "metadata": {},
     "output_type": "display_data"
    },
    {
     "name": "stdout",
     "output_type": "stream",
     "text": [
      "\n",
      "[0.007910862400633715, 0.00448796995858098, 0.006772553451412562, 0.0023690622971027156, 0.0009352933180152169, 0.0014853041766527504, 0.0020745599842239898, 0.007099364417869995]\n"
     ]
    },
    {
     "data": {
      "application/vnd.jupyter.widget-view+json": {
       "model_id": "19bd125b7e56408d8300b592b88c9ee0",
       "version_major": 2,
       "version_minor": 0
      },
      "text/plain": [
       "HBox(children=(FloatProgress(value=0.0, max=1391.0), HTML(value='')))"
      ]
     },
     "metadata": {},
     "output_type": "display_data"
    },
    {
     "name": "stdout",
     "output_type": "stream",
     "text": [
      "\n",
      "[0.007910862400633715, 0.00448796995858098, 0.006772553451412562, 0.0023690622971027156, 0.0009352933180152169, 0.0014853041766527504, 0.0020745599842239898, 0.007099364417869995]\n"
     ]
    },
    {
     "data": {
      "application/vnd.jupyter.widget-view+json": {
       "model_id": "37b391a7795c4fb9bf712fb9d297112a",
       "version_major": 2,
       "version_minor": 0
      },
      "text/plain": [
       "HBox(children=(FloatProgress(value=0.0, max=1391.0), HTML(value='')))"
      ]
     },
     "metadata": {},
     "output_type": "display_data"
    },
    {
     "name": "stdout",
     "output_type": "stream",
     "text": [
      "\n",
      "[0.007910862400633715, 0.00448796995858098, 0.006772553451412562, 0.0023690622971027156, 0.0009352933180152169, 0.0014853041766527504, 0.0020745599842239898, 0.007099364417869995]\n"
     ]
    },
    {
     "data": {
      "application/vnd.jupyter.widget-view+json": {
       "model_id": "d029c9f165ab4f05acedd44043cf0d7b",
       "version_major": 2,
       "version_minor": 0
      },
      "text/plain": [
       "HBox(children=(FloatProgress(value=0.0, max=1392.0), HTML(value='')))"
      ]
     },
     "metadata": {},
     "output_type": "display_data"
    },
    {
     "name": "stdout",
     "output_type": "stream",
     "text": [
      "\n",
      "[0.007910862400633715, 0.00448796995858098, 0.006772553451412562, 0.0023690622971027156, 0.0009352933180152169, 0.0014853041766527504, 0.0020745599842239898, 0.007099364417869995]\n"
     ]
    },
    {
     "data": {
      "application/vnd.jupyter.widget-view+json": {
       "model_id": "7c9df556f12d4d34aac92e300b0068ab",
       "version_major": 2,
       "version_minor": 0
      },
      "text/plain": [
       "HBox(children=(FloatProgress(value=0.0, max=1391.0), HTML(value='')))"
      ]
     },
     "metadata": {},
     "output_type": "display_data"
    },
    {
     "name": "stdout",
     "output_type": "stream",
     "text": [
      "\n",
      "[0.007910862400633715, 0.00448796995858098, 0.006772553451412562, 0.0023690622971027156, 0.0009352933180152169, 0.0014853041766527504, 0.0020745599842239898, 0.007099364417869995]\n"
     ]
    },
    {
     "data": {
      "application/vnd.jupyter.widget-view+json": {
       "model_id": "a622b6f7254443918892088c02c6a0bb",
       "version_major": 2,
       "version_minor": 0
      },
      "text/plain": [
       "HBox(children=(FloatProgress(value=0.0, max=1390.0), HTML(value='')))"
      ]
     },
     "metadata": {},
     "output_type": "display_data"
    },
    {
     "name": "stdout",
     "output_type": "stream",
     "text": [
      "\n",
      "[0.007910862400633715, 0.00448796995858098, 0.006772553451412562, 0.0023690622971027156, 0.0009352933180152169, 0.0014853041766527504, 0.0020745599842239898, 0.007099364417869995]\n"
     ]
    },
    {
     "data": {
      "application/vnd.jupyter.widget-view+json": {
       "model_id": "40f8e0b4fe1b49a098197f8942c46e67",
       "version_major": 2,
       "version_minor": 0
      },
      "text/plain": [
       "HBox(children=(FloatProgress(value=0.0, max=1391.0), HTML(value='')))"
      ]
     },
     "metadata": {},
     "output_type": "display_data"
    },
    {
     "name": "stdout",
     "output_type": "stream",
     "text": [
      "\n",
      "[0.007910862400633715, 0.00448796995858098, 0.006772553451412562, 0.0023690622971027156, 0.0009352933180152169, 0.0014853041766527504, 0.0020745599842239898, 0.007099364417869995]\n"
     ]
    },
    {
     "data": {
      "application/vnd.jupyter.widget-view+json": {
       "model_id": "3c85381e6d24488cb350b736019dce6f",
       "version_major": 2,
       "version_minor": 0
      },
      "text/plain": [
       "HBox(children=(FloatProgress(value=0.0, max=1390.0), HTML(value='')))"
      ]
     },
     "metadata": {},
     "output_type": "display_data"
    },
    {
     "name": "stdout",
     "output_type": "stream",
     "text": [
      "\n",
      "[0.007910862400633715, 0.00448796995858098, 0.006772553451412562, 0.0023690622971027156, 0.0009352933180152169, 0.0014853041766527504, 0.0020745599842239898, 0.007099364417869995]\n"
     ]
    },
    {
     "data": {
      "application/vnd.jupyter.widget-view+json": {
       "model_id": "6093a87b44f14329b4083bca93d8e49f",
       "version_major": 2,
       "version_minor": 0
      },
      "text/plain": [
       "HBox(children=(FloatProgress(value=0.0, max=1391.0), HTML(value='')))"
      ]
     },
     "metadata": {},
     "output_type": "display_data"
    },
    {
     "name": "stdout",
     "output_type": "stream",
     "text": [
      "\n",
      "[0.007910862400633715, 0.00448796995858098, 0.006772553451412562, 0.0023690622971027156, 0.0009352933180152169, 0.0014853041766527504, 0.0020745599842239898, 0.007099364417869995]\n"
     ]
    },
    {
     "data": {
      "application/vnd.jupyter.widget-view+json": {
       "model_id": "83d976efba884997b37a5fcf082e8a87",
       "version_major": 2,
       "version_minor": 0
      },
      "text/plain": [
       "HBox(children=(FloatProgress(value=0.0, max=1392.0), HTML(value='')))"
      ]
     },
     "metadata": {},
     "output_type": "display_data"
    },
    {
     "name": "stdout",
     "output_type": "stream",
     "text": [
      "\n",
      "[0.007910862400633715, 0.00448796995858098, 0.006772553451412562, 0.0023690622971027156, 0.0009352933180152169, 0.0014853041766527504, 0.0020745599842239898, 0.007099364417869995]\n"
     ]
    },
    {
     "data": {
      "application/vnd.jupyter.widget-view+json": {
       "model_id": "c7291a194ad141aab25c0178d6ca4b14",
       "version_major": 2,
       "version_minor": 0
      },
      "text/plain": [
       "HBox(children=(FloatProgress(value=0.0, max=1392.0), HTML(value='')))"
      ]
     },
     "metadata": {},
     "output_type": "display_data"
    },
    {
     "name": "stdout",
     "output_type": "stream",
     "text": [
      "\n",
      "[0.007910862400633715, 0.00448796995858098, 0.006772553451412562, 0.0023690622971027156, 0.0009352933180152169, 0.0014853041766527504, 0.0020745599842239898, 0.007099364417869995]\n"
     ]
    },
    {
     "data": {
      "application/vnd.jupyter.widget-view+json": {
       "model_id": "964633a7c01f4a3e939be19d0180ee5e",
       "version_major": 2,
       "version_minor": 0
      },
      "text/plain": [
       "HBox(children=(FloatProgress(value=0.0, max=1390.0), HTML(value='')))"
      ]
     },
     "metadata": {},
     "output_type": "display_data"
    },
    {
     "name": "stdout",
     "output_type": "stream",
     "text": [
      "\n",
      "[0.007910862400633715, 0.00448796995858098, 0.006772553451412562, 0.0023690622971027156, 0.0009352933180152169, 0.0014853041766527504, 0.0020745599842239898, 0.007099364417869995]\n"
     ]
    },
    {
     "data": {
      "application/vnd.jupyter.widget-view+json": {
       "model_id": "430fdf74861443978a5b0ff254a38a65",
       "version_major": 2,
       "version_minor": 0
      },
      "text/plain": [
       "HBox(children=(FloatProgress(value=0.0, max=1391.0), HTML(value='')))"
      ]
     },
     "metadata": {},
     "output_type": "display_data"
    },
    {
     "name": "stdout",
     "output_type": "stream",
     "text": [
      "\n",
      "[0.007910862400633715, 0.00448796995858098, 0.006772553451412562, 0.0023690622971027156, 0.0009352933180152169, 0.0014853041766527504, 0.0020745599842239898, 0.007099364417869995]\n"
     ]
    },
    {
     "data": {
      "application/vnd.jupyter.widget-view+json": {
       "model_id": "1938be9332574c9bbd05065bfb0b152f",
       "version_major": 2,
       "version_minor": 0
      },
      "text/plain": [
       "HBox(children=(FloatProgress(value=0.0, max=1391.0), HTML(value='')))"
      ]
     },
     "metadata": {},
     "output_type": "display_data"
    },
    {
     "name": "stdout",
     "output_type": "stream",
     "text": [
      "\n",
      "[0.007910862400633715, 0.00448796995858098, 0.006772553451412562, 0.0023690622971027156, 0.0009352933180152169, 0.0014853041766527504, 0.0020745599842239898, 0.007099364417869995]\n"
     ]
    },
    {
     "data": {
      "application/vnd.jupyter.widget-view+json": {
       "model_id": "23c31d6d1e194b8d85c2dd46f8695257",
       "version_major": 2,
       "version_minor": 0
      },
      "text/plain": [
       "HBox(children=(FloatProgress(value=0.0, max=1391.0), HTML(value='')))"
      ]
     },
     "metadata": {},
     "output_type": "display_data"
    },
    {
     "name": "stdout",
     "output_type": "stream",
     "text": [
      "\n",
      "[0.007910862400633715, 0.00448796995858098, 0.006772553451412562, 0.0023690622971027156, 0.0009352933180152169, 0.0014853041766527504, 0.0020745599842239898, 0.007099364417869995]\n"
     ]
    },
    {
     "data": {
      "application/vnd.jupyter.widget-view+json": {
       "model_id": "4aab5e58b6e54794ba433ead0ffabd24",
       "version_major": 2,
       "version_minor": 0
      },
      "text/plain": [
       "HBox(children=(FloatProgress(value=0.0, max=1392.0), HTML(value='')))"
      ]
     },
     "metadata": {},
     "output_type": "display_data"
    },
    {
     "name": "stdout",
     "output_type": "stream",
     "text": [
      "\n",
      "[0.007910862400633715, 0.00448796995858098, 0.006772553451412562, 0.0023690622971027156, 0.0009352933180152169, 0.0014853041766527504, 0.0020745599842239898, 0.007099364417869995]\n"
     ]
    },
    {
     "data": {
      "application/vnd.jupyter.widget-view+json": {
       "model_id": "c62b11233a4c4c249bf2144108769fc4",
       "version_major": 2,
       "version_minor": 0
      },
      "text/plain": [
       "HBox(children=(FloatProgress(value=0.0, max=1391.0), HTML(value='')))"
      ]
     },
     "metadata": {},
     "output_type": "display_data"
    },
    {
     "name": "stdout",
     "output_type": "stream",
     "text": [
      "\n",
      "[0.007910862400633715, 0.00448796995858098, 0.006772553451412562, 0.0023690622971027156, 0.0009352933180152169, 0.0014853041766527504, 0.0020745599842239898, 0.007099364417869995]\n"
     ]
    },
    {
     "data": {
      "application/vnd.jupyter.widget-view+json": {
       "model_id": "9a1df25905454371a90b0605ecf7f254",
       "version_major": 2,
       "version_minor": 0
      },
      "text/plain": [
       "HBox(children=(FloatProgress(value=0.0, max=1390.0), HTML(value='')))"
      ]
     },
     "metadata": {},
     "output_type": "display_data"
    },
    {
     "name": "stdout",
     "output_type": "stream",
     "text": [
      "\n",
      "[0.007910862400633715, 0.00448796995858098, 0.006772553451412562, 0.0023690622971027156, 0.0009352933180152169, 0.0014853041766527504, 0.0020745599842239898, 0.007099364417869995]\n"
     ]
    },
    {
     "data": {
      "application/vnd.jupyter.widget-view+json": {
       "model_id": "b9bd98bbb6ef40fcb529247b53b1312f",
       "version_major": 2,
       "version_minor": 0
      },
      "text/plain": [
       "HBox(children=(FloatProgress(value=0.0, max=1390.0), HTML(value='')))"
      ]
     },
     "metadata": {},
     "output_type": "display_data"
    },
    {
     "name": "stdout",
     "output_type": "stream",
     "text": [
      "\n",
      "[0.007910862400633715, 0.00448796995858098, 0.006772553451412562, 0.0023690622971027156, 0.0009352933180152169, 0.0014853041766527504, 0.0020745599842239898, 0.007099364417869995]\n"
     ]
    },
    {
     "data": {
      "application/vnd.jupyter.widget-view+json": {
       "model_id": "5ec0f8ea051d499b826011519c6ece73",
       "version_major": 2,
       "version_minor": 0
      },
      "text/plain": [
       "HBox(children=(FloatProgress(value=0.0, max=1392.0), HTML(value='')))"
      ]
     },
     "metadata": {},
     "output_type": "display_data"
    },
    {
     "name": "stdout",
     "output_type": "stream",
     "text": [
      "\n",
      "[0.007910862400633715, 0.00448796995858098, 0.006772553451412562, 0.0023690622971027156, 0.0009352933180152169, 0.0014853041766527504, 0.0020745599842239898, 0.007099364417869995]\n"
     ]
    },
    {
     "data": {
      "application/vnd.jupyter.widget-view+json": {
       "model_id": "62b080dce78c4f62b7584cfd909ae1d7",
       "version_major": 2,
       "version_minor": 0
      },
      "text/plain": [
       "HBox(children=(FloatProgress(value=0.0, max=1391.0), HTML(value='')))"
      ]
     },
     "metadata": {},
     "output_type": "display_data"
    },
    {
     "name": "stdout",
     "output_type": "stream",
     "text": [
      "\n",
      "[0.007910862400633715, 0.00448796995858098, 0.006772553451412562, 0.0023690622971027156, 0.0009352933180152169, 0.0014853041766527504, 0.0020745599842239898, 0.007099364417869995]\n"
     ]
    },
    {
     "data": {
      "application/vnd.jupyter.widget-view+json": {
       "model_id": "a62a0a8af1704cba8aecb3b5c7113e77",
       "version_major": 2,
       "version_minor": 0
      },
      "text/plain": [
       "HBox(children=(FloatProgress(value=0.0, max=1391.0), HTML(value='')))"
      ]
     },
     "metadata": {},
     "output_type": "display_data"
    },
    {
     "name": "stdout",
     "output_type": "stream",
     "text": [
      "\n",
      "[0.007910862400633715, 0.00448796995858098, 0.006772553451412562, 0.0023690622971027156, 0.0009352933180152169, 0.0014853041766527504, 0.0020745599842239898, 0.007099364417869995]\n"
     ]
    },
    {
     "data": {
      "application/vnd.jupyter.widget-view+json": {
       "model_id": "54f88c5572474bb1a05c42ae14e040e4",
       "version_major": 2,
       "version_minor": 0
      },
      "text/plain": [
       "HBox(children=(FloatProgress(value=0.0, max=1391.0), HTML(value='')))"
      ]
     },
     "metadata": {},
     "output_type": "display_data"
    },
    {
     "name": "stdout",
     "output_type": "stream",
     "text": [
      "\n",
      "[0.007910862400633715, 0.00448796995858098, 0.006772553451412562, 0.0023690622971027156, 0.0009352933180152169, 0.0014853041766527504, 0.0020745599842239898, 0.007099364417869995]\n"
     ]
    },
    {
     "data": {
      "application/vnd.jupyter.widget-view+json": {
       "model_id": "76f5eae0f66e4f8ea7c9ee08dd660cb6",
       "version_major": 2,
       "version_minor": 0
      },
      "text/plain": [
       "HBox(children=(FloatProgress(value=0.0, max=1390.0), HTML(value='')))"
      ]
     },
     "metadata": {},
     "output_type": "display_data"
    },
    {
     "name": "stdout",
     "output_type": "stream",
     "text": [
      "\n",
      "[0.007910862400633715, 0.00448796995858098, 0.006772553451412562, 0.0023690622971027156, 0.0009352933180152169, 0.0014853041766527504, 0.0020745599842239898, 0.007099364417869995]\n"
     ]
    },
    {
     "data": {
      "application/vnd.jupyter.widget-view+json": {
       "model_id": "b6c214e317c148759fcabd595a14722a",
       "version_major": 2,
       "version_minor": 0
      },
      "text/plain": [
       "HBox(children=(FloatProgress(value=0.0, max=1392.0), HTML(value='')))"
      ]
     },
     "metadata": {},
     "output_type": "display_data"
    },
    {
     "name": "stdout",
     "output_type": "stream",
     "text": [
      "\n",
      "[0.007910862400633715, 0.00448796995858098, 0.006772553451412562, 0.0023690622971027156, 0.0009352933180152169, 0.0014853041766527504, 0.0020745599842239898, 0.007099364417869995]\n"
     ]
    },
    {
     "data": {
      "application/vnd.jupyter.widget-view+json": {
       "model_id": "a13815256e1c4a7d95e7dfeb526b7ca9",
       "version_major": 2,
       "version_minor": 0
      },
      "text/plain": [
       "HBox(children=(FloatProgress(value=0.0, max=1391.0), HTML(value='')))"
      ]
     },
     "metadata": {},
     "output_type": "display_data"
    },
    {
     "name": "stdout",
     "output_type": "stream",
     "text": [
      "\n",
      "[0.007910862400633715, 0.00448796995858098, 0.006772553451412562, 0.0023690622971027156, 0.0009352933180152169, 0.0014853041766527504, 0.0020745599842239898, 0.007099364417869995]\n"
     ]
    },
    {
     "data": {
      "application/vnd.jupyter.widget-view+json": {
       "model_id": "04f0cc8039694cdcb28d6e8fa731e281",
       "version_major": 2,
       "version_minor": 0
      },
      "text/plain": [
       "HBox(children=(FloatProgress(value=0.0, max=1391.0), HTML(value='')))"
      ]
     },
     "metadata": {},
     "output_type": "display_data"
    },
    {
     "name": "stdout",
     "output_type": "stream",
     "text": [
      "\n",
      "[0.007910862400633715, 0.00448796995858098, 0.006772553451412562, 0.0023690622971027156, 0.0009352933180152169, 0.0014853041766527504, 0.0020745599842239898, 0.007099364417869995]\n"
     ]
    },
    {
     "data": {
      "application/vnd.jupyter.widget-view+json": {
       "model_id": "157b32f0135f4131be54d8bfc409522d",
       "version_major": 2,
       "version_minor": 0
      },
      "text/plain": [
       "HBox(children=(FloatProgress(value=0.0, max=1392.0), HTML(value='')))"
      ]
     },
     "metadata": {},
     "output_type": "display_data"
    },
    {
     "name": "stdout",
     "output_type": "stream",
     "text": [
      "\n",
      "[0.007910862400633715, 0.00448796995858098, 0.006772553451412562, 0.0023690622971027156, 0.0009352933180152169, 0.0014853041766527504, 0.0020745599842239898, 0.007099364417869995]\n"
     ]
    },
    {
     "data": {
      "application/vnd.jupyter.widget-view+json": {
       "model_id": "c5a379099184446382eafbacb6e6d177",
       "version_major": 2,
       "version_minor": 0
      },
      "text/plain": [
       "HBox(children=(FloatProgress(value=0.0, max=1391.0), HTML(value='')))"
      ]
     },
     "metadata": {},
     "output_type": "display_data"
    },
    {
     "name": "stdout",
     "output_type": "stream",
     "text": [
      "\n",
      "[0.007910862400633715, 0.00448796995858098, 0.006772553451412562, 0.0023690622971027156, 0.0009352933180152169, 0.0014853041766527504, 0.0020745599842239898, 0.007099364417869995]\n"
     ]
    },
    {
     "data": {
      "application/vnd.jupyter.widget-view+json": {
       "model_id": "aea678a7a7c84e93ac34df7f875a1a38",
       "version_major": 2,
       "version_minor": 0
      },
      "text/plain": [
       "HBox(children=(FloatProgress(value=0.0, max=1390.0), HTML(value='')))"
      ]
     },
     "metadata": {},
     "output_type": "display_data"
    },
    {
     "name": "stdout",
     "output_type": "stream",
     "text": [
      "\n",
      "[0.007910862400633715, 0.00448796995858098, 0.006772553451412562, 0.0023690622971027156, 0.0009352933180152169, 0.0014853041766527504, 0.0020745599842239898, 0.007099364417869995]\n"
     ]
    },
    {
     "data": {
      "application/vnd.jupyter.widget-view+json": {
       "model_id": "d1e2f8ec43d14d8c9c7ca59dfb43972f",
       "version_major": 2,
       "version_minor": 0
      },
      "text/plain": [
       "HBox(children=(FloatProgress(value=0.0, max=1391.0), HTML(value='')))"
      ]
     },
     "metadata": {},
     "output_type": "display_data"
    },
    {
     "name": "stdout",
     "output_type": "stream",
     "text": [
      "\n",
      "[0.007910862400633715, 0.00448796995858098, 0.006772553451412562, 0.0023690622971027156, 0.0009352933180152169, 0.0014853041766527504, 0.0020745599842239898, 0.007099364417869995]\n"
     ]
    },
    {
     "data": {
      "application/vnd.jupyter.widget-view+json": {
       "model_id": "1f93c2a1df6b4637b46f2e3ba39795b4",
       "version_major": 2,
       "version_minor": 0
      },
      "text/plain": [
       "HBox(children=(FloatProgress(value=0.0, max=1391.0), HTML(value='')))"
      ]
     },
     "metadata": {},
     "output_type": "display_data"
    },
    {
     "name": "stdout",
     "output_type": "stream",
     "text": [
      "\n",
      "[0.007910862400633715, 0.00448796995858098, 0.006772553451412562, 0.0023690622971027156, 0.0009352933180152169, 0.0014853041766527504, 0.0020745599842239898, 0.007099364417869995]\n"
     ]
    },
    {
     "data": {
      "application/vnd.jupyter.widget-view+json": {
       "model_id": "0d2fd2496dfa43d5a3f156f2e364cc08",
       "version_major": 2,
       "version_minor": 0
      },
      "text/plain": [
       "HBox(children=(FloatProgress(value=0.0, max=1392.0), HTML(value='')))"
      ]
     },
     "metadata": {},
     "output_type": "display_data"
    },
    {
     "name": "stdout",
     "output_type": "stream",
     "text": [
      "\n",
      "[0.007910862400633715, 0.00448796995858098, 0.006772553451412562, 0.0023690622971027156, 0.0009352933180152169, 0.0014853041766527504, 0.0020745599842239898, 0.007099364417869995]\n"
     ]
    },
    {
     "data": {
      "application/vnd.jupyter.widget-view+json": {
       "model_id": "ace5541e02444a59ad831b7a82b99d31",
       "version_major": 2,
       "version_minor": 0
      },
      "text/plain": [
       "HBox(children=(FloatProgress(value=0.0, max=1390.0), HTML(value='')))"
      ]
     },
     "metadata": {},
     "output_type": "display_data"
    },
    {
     "name": "stdout",
     "output_type": "stream",
     "text": [
      "\n",
      "[0.007910862400633715, 0.00448796995858098, 0.006772553451412562, 0.0023690622971027156, 0.0009352933180152169, 0.0014853041766527504, 0.0020745599842239898, 0.007099364417869995]\n"
     ]
    },
    {
     "data": {
      "application/vnd.jupyter.widget-view+json": {
       "model_id": "c60977ba527b49f5a69268ca06d37003",
       "version_major": 2,
       "version_minor": 0
      },
      "text/plain": [
       "HBox(children=(FloatProgress(value=0.0, max=1391.0), HTML(value='')))"
      ]
     },
     "metadata": {},
     "output_type": "display_data"
    },
    {
     "name": "stdout",
     "output_type": "stream",
     "text": [
      "\n",
      "[0.007910862400633715, 0.00448796995858098, 0.006772553451412562, 0.0023690622971027156, 0.0009352933180152169, 0.0014853041766527504, 0.0020745599842239898, 0.007099364417869995]\n"
     ]
    },
    {
     "data": {
      "application/vnd.jupyter.widget-view+json": {
       "model_id": "e24708124302455eaf098afa2a61f50b",
       "version_major": 2,
       "version_minor": 0
      },
      "text/plain": [
       "HBox(children=(FloatProgress(value=0.0, max=1392.0), HTML(value='')))"
      ]
     },
     "metadata": {},
     "output_type": "display_data"
    },
    {
     "name": "stdout",
     "output_type": "stream",
     "text": [
      "\n",
      "[0.007910862400633715, 0.00448796995858098, 0.006772553451412562, 0.0023690622971027156, 0.0009352933180152169, 0.0014853041766527504, 0.0020745599842239898, 0.007099364417869995]\n"
     ]
    },
    {
     "data": {
      "application/vnd.jupyter.widget-view+json": {
       "model_id": "da7440886e8d43f8b3e726103e5382cf",
       "version_major": 2,
       "version_minor": 0
      },
      "text/plain": [
       "HBox(children=(FloatProgress(value=0.0, max=1390.0), HTML(value='')))"
      ]
     },
     "metadata": {},
     "output_type": "display_data"
    },
    {
     "name": "stdout",
     "output_type": "stream",
     "text": [
      "\n",
      "[0.007910862400633715, 0.00448796995858098, 0.006772553451412562, 0.0023690622971027156, 0.0009352933180152169, 0.0014853041766527504, 0.0020745599842239898, 0.007099364417869995]\n"
     ]
    },
    {
     "data": {
      "application/vnd.jupyter.widget-view+json": {
       "model_id": "9a75b227e2154874972a024dc8f472e3",
       "version_major": 2,
       "version_minor": 0
      },
      "text/plain": [
       "HBox(children=(FloatProgress(value=0.0, max=1391.0), HTML(value='')))"
      ]
     },
     "metadata": {},
     "output_type": "display_data"
    },
    {
     "name": "stdout",
     "output_type": "stream",
     "text": [
      "\n",
      "[0.007910862400633715, 0.00448796995858098, 0.006772553451412562, 0.0023690622971027156, 0.0009352933180152169, 0.0014853041766527504, 0.0020745599842239898, 0.007099364417869995]\n"
     ]
    },
    {
     "data": {
      "application/vnd.jupyter.widget-view+json": {
       "model_id": "8a6d9d4d2bd14ac58353e15238045e90",
       "version_major": 2,
       "version_minor": 0
      },
      "text/plain": [
       "HBox(children=(FloatProgress(value=0.0, max=1390.0), HTML(value='')))"
      ]
     },
     "metadata": {},
     "output_type": "display_data"
    },
    {
     "name": "stdout",
     "output_type": "stream",
     "text": [
      "\n",
      "[0.007910862400633715, 0.00448796995858098, 0.006772553451412562, 0.0023690622971027156, 0.0009352933180152169, 0.0014853041766527504, 0.0020745599842239898, 0.007099364417869995]\n"
     ]
    },
    {
     "data": {
      "application/vnd.jupyter.widget-view+json": {
       "model_id": "3b161a2d6b3043348fba688420e30c25",
       "version_major": 2,
       "version_minor": 0
      },
      "text/plain": [
       "HBox(children=(FloatProgress(value=0.0, max=1392.0), HTML(value='')))"
      ]
     },
     "metadata": {},
     "output_type": "display_data"
    },
    {
     "name": "stdout",
     "output_type": "stream",
     "text": [
      "\n",
      "[0.007910862400633715, 0.00448796995858098, 0.006772553451412562, 0.0023690622971027156, 0.0009352933180152169, 0.0014853041766527504, 0.0020745599842239898, 0.007099364417869995]\n"
     ]
    },
    {
     "data": {
      "application/vnd.jupyter.widget-view+json": {
       "model_id": "96c8c1770b8f49cb94565b10bd82bfef",
       "version_major": 2,
       "version_minor": 0
      },
      "text/plain": [
       "HBox(children=(FloatProgress(value=0.0, max=1391.0), HTML(value='')))"
      ]
     },
     "metadata": {},
     "output_type": "display_data"
    },
    {
     "name": "stdout",
     "output_type": "stream",
     "text": [
      "\n",
      "[0.007910862400633715, 0.00448796995858098, 0.006772553451412562, 0.0023690622971027156, 0.0009352933180152169, 0.0014853041766527504, 0.0020745599842239898, 0.007099364417869995]\n"
     ]
    },
    {
     "data": {
      "application/vnd.jupyter.widget-view+json": {
       "model_id": "f8eb8b2da434491394eeecc17e62cfde",
       "version_major": 2,
       "version_minor": 0
      },
      "text/plain": [
       "HBox(children=(FloatProgress(value=0.0, max=1391.0), HTML(value='')))"
      ]
     },
     "metadata": {},
     "output_type": "display_data"
    },
    {
     "name": "stdout",
     "output_type": "stream",
     "text": [
      "\n",
      "[0.007910862400633715, 0.00448796995858098, 0.006772553451412562, 0.0023690622971027156, 0.0009352933180152169, 0.0014853041766527504, 0.0020745599842239898, 0.007099364417869995]\n"
     ]
    },
    {
     "data": {
      "application/vnd.jupyter.widget-view+json": {
       "model_id": "c9ea0af846a141c08a19573390cc7e55",
       "version_major": 2,
       "version_minor": 0
      },
      "text/plain": [
       "HBox(children=(FloatProgress(value=0.0, max=1390.0), HTML(value='')))"
      ]
     },
     "metadata": {},
     "output_type": "display_data"
    },
    {
     "name": "stdout",
     "output_type": "stream",
     "text": [
      "\n",
      "[0.007910862400633715, 0.00448796995858098, 0.006772553451412562, 0.0023690622971027156, 0.0009352933180152169, 0.0014853041766527504, 0.0020745599842239898, 0.007099364417869995]\n"
     ]
    },
    {
     "data": {
      "application/vnd.jupyter.widget-view+json": {
       "model_id": "161919e472574c2585a928c2565a76bd",
       "version_major": 2,
       "version_minor": 0
      },
      "text/plain": [
       "HBox(children=(FloatProgress(value=0.0, max=1392.0), HTML(value='')))"
      ]
     },
     "metadata": {},
     "output_type": "display_data"
    },
    {
     "name": "stdout",
     "output_type": "stream",
     "text": [
      "\n",
      "[0.007910862400633715, 0.00448796995858098, 0.006772553451412562, 0.0023690622971027156, 0.0009352933180152169, 0.0014853041766527504, 0.0020745599842239898, 0.007099364417869995]\n"
     ]
    },
    {
     "data": {
      "application/vnd.jupyter.widget-view+json": {
       "model_id": "0d1487fa07a74d70aa18b84a921ceb45",
       "version_major": 2,
       "version_minor": 0
      },
      "text/plain": [
       "HBox(children=(FloatProgress(value=0.0, max=1391.0), HTML(value='')))"
      ]
     },
     "metadata": {},
     "output_type": "display_data"
    },
    {
     "name": "stdout",
     "output_type": "stream",
     "text": [
      "\n",
      "[0.007910862400633715, 0.00448796995858098, 0.006772553451412562, 0.0023690622971027156, 0.0009352933180152169, 0.0014853041766527504, 0.0020745599842239898, 0.007099364417869995]\n"
     ]
    },
    {
     "data": {
      "application/vnd.jupyter.widget-view+json": {
       "model_id": "80b8d50a7c5c44fda08d082b36663d5e",
       "version_major": 2,
       "version_minor": 0
      },
      "text/plain": [
       "HBox(children=(FloatProgress(value=0.0, max=1391.0), HTML(value='')))"
      ]
     },
     "metadata": {},
     "output_type": "display_data"
    },
    {
     "name": "stdout",
     "output_type": "stream",
     "text": [
      "\n",
      "[0.007910862400633715, 0.00448796995858098, 0.006772553451412562, 0.0023690622971027156, 0.0009352933180152169, 0.0014853041766527504, 0.0020745599842239898, 0.007099364417869995]\n"
     ]
    },
    {
     "data": {
      "application/vnd.jupyter.widget-view+json": {
       "model_id": "ee649a93efdd4c7e96759ab995986329",
       "version_major": 2,
       "version_minor": 0
      },
      "text/plain": [
       "HBox(children=(FloatProgress(value=0.0, max=1391.0), HTML(value='')))"
      ]
     },
     "metadata": {},
     "output_type": "display_data"
    },
    {
     "name": "stdout",
     "output_type": "stream",
     "text": [
      "\n",
      "[0.007910862400633715, 0.00448796995858098, 0.006772553451412562, 0.0023690622971027156, 0.0009352933180152169, 0.0014853041766527504, 0.0020745599842239898, 0.007099364417869995]\n"
     ]
    },
    {
     "data": {
      "application/vnd.jupyter.widget-view+json": {
       "model_id": "858731feff124062985a643ddcde3fab",
       "version_major": 2,
       "version_minor": 0
      },
      "text/plain": [
       "HBox(children=(FloatProgress(value=0.0, max=1392.0), HTML(value='')))"
      ]
     },
     "metadata": {},
     "output_type": "display_data"
    },
    {
     "name": "stdout",
     "output_type": "stream",
     "text": [
      "\n",
      "[0.007910862400633715, 0.00448796995858098, 0.006772553451412562, 0.0023690622971027156, 0.0009352933180152169, 0.0014853041766527504, 0.0020745599842239898, 0.007099364417869995]\n"
     ]
    },
    {
     "data": {
      "application/vnd.jupyter.widget-view+json": {
       "model_id": "af9fcba79b23449dbbce71a7aa55b6c8",
       "version_major": 2,
       "version_minor": 0
      },
      "text/plain": [
       "HBox(children=(FloatProgress(value=0.0, max=1390.0), HTML(value='')))"
      ]
     },
     "metadata": {},
     "output_type": "display_data"
    },
    {
     "name": "stdout",
     "output_type": "stream",
     "text": [
      "\n",
      "[0.007910862400633715, 0.00448796995858098, 0.006772553451412562, 0.0023690622971027156, 0.0009352933180152169, 0.0014853041766527504, 0.0020745599842239898, 0.007099364417869995]\n"
     ]
    },
    {
     "data": {
      "application/vnd.jupyter.widget-view+json": {
       "model_id": "2f21a611db6d497ea6655eda54c685b2",
       "version_major": 2,
       "version_minor": 0
      },
      "text/plain": [
       "HBox(children=(FloatProgress(value=0.0, max=1391.0), HTML(value='')))"
      ]
     },
     "metadata": {},
     "output_type": "display_data"
    },
    {
     "name": "stdout",
     "output_type": "stream",
     "text": [
      "\n",
      "[0.007910862400633715, 0.00448796995858098, 0.006772553451412562, 0.0023690622971027156, 0.0009352933180152169, 0.0014853041766527504, 0.0020745599842239898, 0.007099364417869995]\n"
     ]
    },
    {
     "data": {
      "application/vnd.jupyter.widget-view+json": {
       "model_id": "a489a8feb80248949706a23cd9b0dc21",
       "version_major": 2,
       "version_minor": 0
      },
      "text/plain": [
       "HBox(children=(FloatProgress(value=0.0, max=1391.0), HTML(value='')))"
      ]
     },
     "metadata": {},
     "output_type": "display_data"
    },
    {
     "name": "stdout",
     "output_type": "stream",
     "text": [
      "\n",
      "[0.007910862400633715, 0.00448796995858098, 0.006772553451412562, 0.0023690622971027156, 0.0009352933180152169, 0.0014853041766527504, 0.0020745599842239898, 0.007099364417869995]\n"
     ]
    },
    {
     "data": {
      "application/vnd.jupyter.widget-view+json": {
       "model_id": "79ae0925ede842999ba0b74da3907d38",
       "version_major": 2,
       "version_minor": 0
      },
      "text/plain": [
       "HBox(children=(FloatProgress(value=0.0, max=1392.0), HTML(value='')))"
      ]
     },
     "metadata": {},
     "output_type": "display_data"
    },
    {
     "name": "stdout",
     "output_type": "stream",
     "text": [
      "\n",
      "[0.007910862400633715, 0.00448796995858098, 0.006772553451412562, 0.0023690622971027156, 0.0009352933180152169, 0.0014853041766527504, 0.0020745599842239898, 0.007099364417869995]\n"
     ]
    },
    {
     "data": {
      "application/vnd.jupyter.widget-view+json": {
       "model_id": "144a20a5f39347c4b8c631b65067a1ba",
       "version_major": 2,
       "version_minor": 0
      },
      "text/plain": [
       "HBox(children=(FloatProgress(value=0.0, max=1390.0), HTML(value='')))"
      ]
     },
     "metadata": {},
     "output_type": "display_data"
    },
    {
     "name": "stdout",
     "output_type": "stream",
     "text": [
      "\n",
      "[0.007910862400633715, 0.00448796995858098, 0.006772553451412562, 0.0023690622971027156, 0.0009352933180152169, 0.0014853041766527504, 0.0020745599842239898, 0.007099364417869995]\n"
     ]
    },
    {
     "data": {
      "application/vnd.jupyter.widget-view+json": {
       "model_id": "ee45c8877546498eb167dab4915fb564",
       "version_major": 2,
       "version_minor": 0
      },
      "text/plain": [
       "HBox(children=(FloatProgress(value=0.0, max=1391.0), HTML(value='')))"
      ]
     },
     "metadata": {},
     "output_type": "display_data"
    },
    {
     "name": "stdout",
     "output_type": "stream",
     "text": [
      "\n",
      "[0.007910862400633715, 0.00448796995858098, 0.006772553451412562, 0.0023690622971027156, 0.0009352933180152169, 0.0014853041766527504, 0.0020745599842239898, 0.007099364417869995]\n"
     ]
    },
    {
     "data": {
      "application/vnd.jupyter.widget-view+json": {
       "model_id": "7d0c23963a3d45d59940461c3ce4fde2",
       "version_major": 2,
       "version_minor": 0
      },
      "text/plain": [
       "HBox(children=(FloatProgress(value=0.0, max=1392.0), HTML(value='')))"
      ]
     },
     "metadata": {},
     "output_type": "display_data"
    },
    {
     "name": "stdout",
     "output_type": "stream",
     "text": [
      "\n",
      "[0.007910862400633715, 0.00448796995858098, 0.006772553451412562, 0.0023690622971027156, 0.0009352933180152169, 0.0014853041766527504, 0.0020745599842239898, 0.007099364417869995]\n"
     ]
    },
    {
     "data": {
      "application/vnd.jupyter.widget-view+json": {
       "model_id": "2edfab6eab6b4dc99a7f532c2e58f807",
       "version_major": 2,
       "version_minor": 0
      },
      "text/plain": [
       "HBox(children=(FloatProgress(value=0.0, max=1391.0), HTML(value='')))"
      ]
     },
     "metadata": {},
     "output_type": "display_data"
    },
    {
     "name": "stdout",
     "output_type": "stream",
     "text": [
      "\n",
      "[0.007910862400633715, 0.00448796995858098, 0.006772553451412562, 0.0023690622971027156, 0.0009352933180152169, 0.0014853041766527504, 0.0020745599842239898, 0.007099364417869995]\n"
     ]
    },
    {
     "data": {
      "application/vnd.jupyter.widget-view+json": {
       "model_id": "104cd99e4fd14a82afa7272e9794bcb2",
       "version_major": 2,
       "version_minor": 0
      },
      "text/plain": [
       "HBox(children=(FloatProgress(value=0.0, max=1390.0), HTML(value='')))"
      ]
     },
     "metadata": {},
     "output_type": "display_data"
    },
    {
     "name": "stdout",
     "output_type": "stream",
     "text": [
      "\n",
      "[0.007910862400633715, 0.00448796995858098, 0.006772553451412562, 0.0023690622971027156, 0.0009352933180152169, 0.0014853041766527504, 0.0020745599842239898, 0.007099364417869995]\n"
     ]
    },
    {
     "data": {
      "application/vnd.jupyter.widget-view+json": {
       "model_id": "2c67e0db8997467aba7cd5d2eb92e3f5",
       "version_major": 2,
       "version_minor": 0
      },
      "text/plain": [
       "HBox(children=(FloatProgress(value=0.0, max=1391.0), HTML(value='')))"
      ]
     },
     "metadata": {},
     "output_type": "display_data"
    },
    {
     "name": "stdout",
     "output_type": "stream",
     "text": [
      "\n",
      "[0.007910862400633715, 0.00448796995858098, 0.006772553451412562, 0.0023690622971027156, 0.0009352933180152169, 0.0014853041766527504, 0.0020745599842239898, 0.007099364417869995]\n"
     ]
    },
    {
     "data": {
      "application/vnd.jupyter.widget-view+json": {
       "model_id": "8a412b1cd24e43d984bd314296cfb672",
       "version_major": 2,
       "version_minor": 0
      },
      "text/plain": [
       "HBox(children=(FloatProgress(value=0.0, max=1391.0), HTML(value='')))"
      ]
     },
     "metadata": {},
     "output_type": "display_data"
    },
    {
     "name": "stdout",
     "output_type": "stream",
     "text": [
      "\n",
      "[0.007910862400633715, 0.00448796995858098, 0.006772553451412562, 0.0023690622971027156, 0.0009352933180152169, 0.0014853041766527504, 0.0020745599842239898, 0.007099364417869995]\n"
     ]
    },
    {
     "data": {
      "application/vnd.jupyter.widget-view+json": {
       "model_id": "d85ee7c394284c77a8d6df32c601ef6d",
       "version_major": 2,
       "version_minor": 0
      },
      "text/plain": [
       "HBox(children=(FloatProgress(value=0.0, max=1392.0), HTML(value='')))"
      ]
     },
     "metadata": {},
     "output_type": "display_data"
    },
    {
     "name": "stdout",
     "output_type": "stream",
     "text": [
      "\n",
      "[0.007910862400633715, 0.00448796995858098, 0.006772553451412562, 0.0023690622971027156, 0.0009352933180152169, 0.0014853041766527504, 0.0020745599842239898, 0.007099364417869995]\n"
     ]
    },
    {
     "data": {
      "application/vnd.jupyter.widget-view+json": {
       "model_id": "0c1e9ebe0aea44adba422fc6fac097b1",
       "version_major": 2,
       "version_minor": 0
      },
      "text/plain": [
       "HBox(children=(FloatProgress(value=0.0, max=1391.0), HTML(value='')))"
      ]
     },
     "metadata": {},
     "output_type": "display_data"
    },
    {
     "name": "stdout",
     "output_type": "stream",
     "text": [
      "\n",
      "[0.007910862400633715, 0.00448796995858098, 0.006772553451412562, 0.0023690622971027156, 0.0009352933180152169, 0.0014853041766527504, 0.0020745599842239898, 0.007099364417869995]\n"
     ]
    },
    {
     "data": {
      "application/vnd.jupyter.widget-view+json": {
       "model_id": "8cdc3dd76f144b5db740ead55f468b2a",
       "version_major": 2,
       "version_minor": 0
      },
      "text/plain": [
       "HBox(children=(FloatProgress(value=0.0, max=1390.0), HTML(value='')))"
      ]
     },
     "metadata": {},
     "output_type": "display_data"
    },
    {
     "name": "stdout",
     "output_type": "stream",
     "text": [
      "\n",
      "[0.007910862400633715, 0.00448796995858098, 0.006772553451412562, 0.0023690622971027156, 0.0009352933180152169, 0.0014853041766527504, 0.0020745599842239898, 0.007099364417869995]\n"
     ]
    },
    {
     "data": {
      "application/vnd.jupyter.widget-view+json": {
       "model_id": "5a99f034891d4e7eaecf353989069ec2",
       "version_major": 2,
       "version_minor": 0
      },
      "text/plain": [
       "HBox(children=(FloatProgress(value=0.0, max=1390.0), HTML(value='')))"
      ]
     },
     "metadata": {},
     "output_type": "display_data"
    },
    {
     "name": "stdout",
     "output_type": "stream",
     "text": [
      "\n",
      "[0.007910862400633715, 0.00448796995858098, 0.006772553451412562, 0.0023690622971027156, 0.0009352933180152169, 0.0014853041766527504, 0.0020745599842239898, 0.007099364417869995]\n"
     ]
    },
    {
     "data": {
      "application/vnd.jupyter.widget-view+json": {
       "model_id": "d639ceae950b455aa118773c20637299",
       "version_major": 2,
       "version_minor": 0
      },
      "text/plain": [
       "HBox(children=(FloatProgress(value=0.0, max=1391.0), HTML(value='')))"
      ]
     },
     "metadata": {},
     "output_type": "display_data"
    },
    {
     "name": "stdout",
     "output_type": "stream",
     "text": [
      "\n",
      "[0.007910862400633715, 0.00448796995858098, 0.006772553451412562, 0.0023690622971027156, 0.0009352933180152169, 0.0014853041766527504, 0.0020745599842239898, 0.007099364417869995]\n"
     ]
    },
    {
     "data": {
      "application/vnd.jupyter.widget-view+json": {
       "model_id": "8d1243ae723e4bf48f488a81576cb401",
       "version_major": 2,
       "version_minor": 0
      },
      "text/plain": [
       "HBox(children=(FloatProgress(value=0.0, max=1392.0), HTML(value='')))"
      ]
     },
     "metadata": {},
     "output_type": "display_data"
    },
    {
     "name": "stdout",
     "output_type": "stream",
     "text": [
      "\n",
      "[0.007910862400633715, 0.00448796995858098, 0.006772553451412562, 0.0023690622971027156, 0.0009352933180152169, 0.0014853041766527504, 0.0020745599842239898, 0.007099364417869995]\n"
     ]
    },
    {
     "data": {
      "application/vnd.jupyter.widget-view+json": {
       "model_id": "2c9682b2a6d848a38497809c7c12ce59",
       "version_major": 2,
       "version_minor": 0
      },
      "text/plain": [
       "HBox(children=(FloatProgress(value=0.0, max=1391.0), HTML(value='')))"
      ]
     },
     "metadata": {},
     "output_type": "display_data"
    },
    {
     "name": "stdout",
     "output_type": "stream",
     "text": [
      "\n",
      "[0.007910862400633715, 0.00448796995858098, 0.006772553451412562, 0.0023690622971027156, 0.0009352933180152169, 0.0014853041766527504, 0.0020745599842239898, 0.007099364417869995]\n"
     ]
    },
    {
     "data": {
      "application/vnd.jupyter.widget-view+json": {
       "model_id": "6ff018dfcb494cc6b7bbaecb40628358",
       "version_major": 2,
       "version_minor": 0
      },
      "text/plain": [
       "HBox(children=(FloatProgress(value=0.0, max=1391.0), HTML(value='')))"
      ]
     },
     "metadata": {},
     "output_type": "display_data"
    },
    {
     "name": "stdout",
     "output_type": "stream",
     "text": [
      "\n",
      "[0.007910862400633715, 0.00448796995858098, 0.006772553451412562, 0.0023690622971027156, 0.0009352933180152169, 0.0014853041766527504, 0.0020745599842239898, 0.007099364417869995]\n"
     ]
    },
    {
     "data": {
      "application/vnd.jupyter.widget-view+json": {
       "model_id": "4125bff8574b42f39f1f3bba08268b44",
       "version_major": 2,
       "version_minor": 0
      },
      "text/plain": [
       "HBox(children=(FloatProgress(value=0.0, max=1392.0), HTML(value='')))"
      ]
     },
     "metadata": {},
     "output_type": "display_data"
    },
    {
     "name": "stdout",
     "output_type": "stream",
     "text": [
      "\n",
      "[0.007910862400633715, 0.00448796995858098, 0.006772553451412562, 0.0023690622971027156, 0.0009352933180152169, 0.0014853041766527504, 0.0020745599842239898, 0.007099364417869995]\n"
     ]
    },
    {
     "data": {
      "application/vnd.jupyter.widget-view+json": {
       "model_id": "04b370336b064ddbaaff37a06441a94f",
       "version_major": 2,
       "version_minor": 0
      },
      "text/plain": [
       "HBox(children=(FloatProgress(value=0.0, max=1391.0), HTML(value='')))"
      ]
     },
     "metadata": {},
     "output_type": "display_data"
    },
    {
     "name": "stdout",
     "output_type": "stream",
     "text": [
      "\n",
      "[0.007910862400633715, 0.00448796995858098, 0.006772553451412562, 0.0023690622971027156, 0.0009352933180152169, 0.0014853041766527504, 0.0020745599842239898, 0.007099364417869995]\n"
     ]
    },
    {
     "data": {
      "application/vnd.jupyter.widget-view+json": {
       "model_id": "a25bcea238ec4c489704ce7c42fa5a79",
       "version_major": 2,
       "version_minor": 0
      },
      "text/plain": [
       "HBox(children=(FloatProgress(value=0.0, max=1390.0), HTML(value='')))"
      ]
     },
     "metadata": {},
     "output_type": "display_data"
    },
    {
     "name": "stdout",
     "output_type": "stream",
     "text": [
      "\n",
      "[0.007910862400633715, 0.00448796995858098, 0.006772553451412562, 0.0023690622971027156, 0.0009352933180152169, 0.0014853041766527504, 0.0020745599842239898, 0.007099364417869995]\n"
     ]
    },
    {
     "data": {
      "application/vnd.jupyter.widget-view+json": {
       "model_id": "700df5b6792d4100b8fef6fa9ad05691",
       "version_major": 2,
       "version_minor": 0
      },
      "text/plain": [
       "HBox(children=(FloatProgress(value=0.0, max=1392.0), HTML(value='')))"
      ]
     },
     "metadata": {},
     "output_type": "display_data"
    },
    {
     "name": "stdout",
     "output_type": "stream",
     "text": [
      "\n",
      "[0.007910862400633715, 0.00448796995858098, 0.006772553451412562, 0.0023690622971027156, 0.0009352933180152169, 0.0014853041766527504, 0.0020745599842239898, 0.007099364417869995]\n"
     ]
    },
    {
     "data": {
      "application/vnd.jupyter.widget-view+json": {
       "model_id": "5fa9a0f08cb241979ce6d7d4612bc0d3",
       "version_major": 2,
       "version_minor": 0
      },
      "text/plain": [
       "HBox(children=(FloatProgress(value=0.0, max=1391.0), HTML(value='')))"
      ]
     },
     "metadata": {},
     "output_type": "display_data"
    },
    {
     "name": "stdout",
     "output_type": "stream",
     "text": [
      "\n",
      "[0.007910862400633715, 0.00448796995858098, 0.006772553451412562, 0.0023690622971027156, 0.0009352933180152169, 0.0014853041766527504, 0.0020745599842239898, 0.007099364417869995]\n"
     ]
    },
    {
     "data": {
      "application/vnd.jupyter.widget-view+json": {
       "model_id": "15f5c0e82184420184a7b4960513cfeb",
       "version_major": 2,
       "version_minor": 0
      },
      "text/plain": [
       "HBox(children=(FloatProgress(value=0.0, max=1390.0), HTML(value='')))"
      ]
     },
     "metadata": {},
     "output_type": "display_data"
    },
    {
     "name": "stdout",
     "output_type": "stream",
     "text": [
      "\n",
      "[0.007910862400633715, 0.00448796995858098, 0.006772553451412562, 0.0023690622971027156, 0.0009352933180152169, 0.0014853041766527504, 0.0020745599842239898, 0.007099364417869995]\n"
     ]
    },
    {
     "data": {
      "application/vnd.jupyter.widget-view+json": {
       "model_id": "511f5cd1ebda45c6a2cb627500a17c3b",
       "version_major": 2,
       "version_minor": 0
      },
      "text/plain": [
       "HBox(children=(FloatProgress(value=0.0, max=1391.0), HTML(value='')))"
      ]
     },
     "metadata": {},
     "output_type": "display_data"
    },
    {
     "name": "stdout",
     "output_type": "stream",
     "text": [
      "\n",
      "[0.007910862400633715, 0.00448796995858098, 0.006772553451412562, 0.0023690622971027156, 0.0009352933180152169, 0.0014853041766527504, 0.0020745599842239898, 0.007099364417869995]\n"
     ]
    },
    {
     "data": {
      "application/vnd.jupyter.widget-view+json": {
       "model_id": "297c62dbc3ff42e6af5748fffdc75c58",
       "version_major": 2,
       "version_minor": 0
      },
      "text/plain": [
       "HBox(children=(FloatProgress(value=0.0, max=1390.0), HTML(value='')))"
      ]
     },
     "metadata": {},
     "output_type": "display_data"
    },
    {
     "name": "stdout",
     "output_type": "stream",
     "text": [
      "\n",
      "[0.007910862400633715, 0.00448796995858098, 0.006772553451412562, 0.0023690622971027156, 0.0009352933180152169, 0.0014853041766527504, 0.0020745599842239898, 0.007099364417869995]\n"
     ]
    },
    {
     "data": {
      "application/vnd.jupyter.widget-view+json": {
       "model_id": "2569d5aa06ca44de91fe38d2bda5d958",
       "version_major": 2,
       "version_minor": 0
      },
      "text/plain": [
       "HBox(children=(FloatProgress(value=0.0, max=1391.0), HTML(value='')))"
      ]
     },
     "metadata": {},
     "output_type": "display_data"
    },
    {
     "name": "stdout",
     "output_type": "stream",
     "text": [
      "\n",
      "[0.007910862400633715, 0.00448796995858098, 0.006772553451412562, 0.0023690622971027156, 0.0009352933180152169, 0.0014853041766527504, 0.0020745599842239898, 0.007099364417869995]\n"
     ]
    },
    {
     "data": {
      "application/vnd.jupyter.widget-view+json": {
       "model_id": "ce79503974414193bf5e12598a7a55fe",
       "version_major": 2,
       "version_minor": 0
      },
      "text/plain": [
       "HBox(children=(FloatProgress(value=0.0, max=1392.0), HTML(value='')))"
      ]
     },
     "metadata": {},
     "output_type": "display_data"
    },
    {
     "name": "stdout",
     "output_type": "stream",
     "text": [
      "\n",
      "[0.007910862400633715, 0.00448796995858098, 0.006772553451412562, 0.0023690622971027156, 0.0009352933180152169, 0.0014853041766527504, 0.0020745599842239898, 0.007099364417869995]\n"
     ]
    },
    {
     "data": {
      "application/vnd.jupyter.widget-view+json": {
       "model_id": "d3aa918d766b45f9b9a6ed1831bfcf43",
       "version_major": 2,
       "version_minor": 0
      },
      "text/plain": [
       "HBox(children=(FloatProgress(value=0.0, max=1391.0), HTML(value='')))"
      ]
     },
     "metadata": {},
     "output_type": "display_data"
    },
    {
     "name": "stdout",
     "output_type": "stream",
     "text": [
      "\n",
      "[0.007910862400633715, 0.00448796995858098, 0.006772553451412562, 0.0023690622971027156, 0.0009352933180152169, 0.0014853041766527504, 0.0020745599842239898, 0.007099364417869995]\n"
     ]
    },
    {
     "data": {
      "application/vnd.jupyter.widget-view+json": {
       "model_id": "c151381b1702495da399291fbc4639d2",
       "version_major": 2,
       "version_minor": 0
      },
      "text/plain": [
       "HBox(children=(FloatProgress(value=0.0, max=1390.0), HTML(value='')))"
      ]
     },
     "metadata": {},
     "output_type": "display_data"
    },
    {
     "name": "stdout",
     "output_type": "stream",
     "text": [
      "\n",
      "[0.007910862400633715, 0.00448796995858098, 0.006772553451412562, 0.0023690622971027156, 0.0009352933180152169, 0.0014853041766527504, 0.0020745599842239898, 0.007099364417869995]\n"
     ]
    },
    {
     "data": {
      "application/vnd.jupyter.widget-view+json": {
       "model_id": "9326b48072804b45921e0b92a86ffd9d",
       "version_major": 2,
       "version_minor": 0
      },
      "text/plain": [
       "HBox(children=(FloatProgress(value=0.0, max=1392.0), HTML(value='')))"
      ]
     },
     "metadata": {},
     "output_type": "display_data"
    },
    {
     "name": "stdout",
     "output_type": "stream",
     "text": [
      "\n",
      "[0.007910862400633715, 0.00448796995858098, 0.006772553451412562, 0.0023690622971027156, 0.0009352933180152169, 0.0014853041766527504, 0.0020745599842239898, 0.007099364417869995]\n"
     ]
    },
    {
     "data": {
      "application/vnd.jupyter.widget-view+json": {
       "model_id": "fa5726eae04047098864d630d07937f1",
       "version_major": 2,
       "version_minor": 0
      },
      "text/plain": [
       "HBox(children=(FloatProgress(value=0.0, max=1391.0), HTML(value='')))"
      ]
     },
     "metadata": {},
     "output_type": "display_data"
    },
    {
     "name": "stdout",
     "output_type": "stream",
     "text": [
      "\n",
      "[0.007910862400633715, 0.00448796995858098, 0.006772553451412562, 0.0023690622971027156, 0.0009352933180152169, 0.0014853041766527504, 0.0020745599842239898, 0.007099364417869995]\n"
     ]
    },
    {
     "data": {
      "application/vnd.jupyter.widget-view+json": {
       "model_id": "971a50f5b72c4b968e731d1c233e5448",
       "version_major": 2,
       "version_minor": 0
      },
      "text/plain": [
       "HBox(children=(FloatProgress(value=0.0, max=1391.0), HTML(value='')))"
      ]
     },
     "metadata": {},
     "output_type": "display_data"
    },
    {
     "name": "stdout",
     "output_type": "stream",
     "text": [
      "\n",
      "[0.007910862400633715, 0.00448796995858098, 0.006772553451412562, 0.0023690622971027156, 0.0009352933180152169, 0.0014853041766527504, 0.0020745599842239898, 0.007099364417869995]\n"
     ]
    },
    {
     "data": {
      "application/vnd.jupyter.widget-view+json": {
       "model_id": "abed4ed239774cf196039fc2ced3d5b1",
       "version_major": 2,
       "version_minor": 0
      },
      "text/plain": [
       "HBox(children=(FloatProgress(value=0.0, max=1390.0), HTML(value='')))"
      ]
     },
     "metadata": {},
     "output_type": "display_data"
    },
    {
     "name": "stdout",
     "output_type": "stream",
     "text": [
      "\n",
      "[0.007910862400633715, 0.00448796995858098, 0.006772553451412562, 0.0023690622971027156, 0.0009352933180152169, 0.0014853041766527504, 0.0020745599842239898, 0.007099364417869995]\n"
     ]
    },
    {
     "data": {
      "application/vnd.jupyter.widget-view+json": {
       "model_id": "7487232d24b9487e91747de560171ea0",
       "version_major": 2,
       "version_minor": 0
      },
      "text/plain": [
       "HBox(children=(FloatProgress(value=0.0, max=1392.0), HTML(value='')))"
      ]
     },
     "metadata": {},
     "output_type": "display_data"
    },
    {
     "name": "stdout",
     "output_type": "stream",
     "text": [
      "\n",
      "[0.007910862400633715, 0.00448796995858098, 0.006772553451412562, 0.0023690622971027156, 0.0009352933180152169, 0.0014853041766527504, 0.0020745599842239898, 0.007099364417869995]\n"
     ]
    },
    {
     "data": {
      "application/vnd.jupyter.widget-view+json": {
       "model_id": "b9d66d43d7e24e039808c46413499be2",
       "version_major": 2,
       "version_minor": 0
      },
      "text/plain": [
       "HBox(children=(FloatProgress(value=0.0, max=1391.0), HTML(value='')))"
      ]
     },
     "metadata": {},
     "output_type": "display_data"
    },
    {
     "name": "stdout",
     "output_type": "stream",
     "text": [
      "\n",
      "[0.007910862400633715, 0.00448796995858098, 0.006772553451412562, 0.0023690622971027156, 0.0009352933180152169, 0.0014853041766527504, 0.0020745599842239898, 0.007099364417869995]\n"
     ]
    },
    {
     "data": {
      "application/vnd.jupyter.widget-view+json": {
       "model_id": "1abb6c4bef8a49e1af38cd02c2ea53c5",
       "version_major": 2,
       "version_minor": 0
      },
      "text/plain": [
       "HBox(children=(FloatProgress(value=0.0, max=1391.0), HTML(value='')))"
      ]
     },
     "metadata": {},
     "output_type": "display_data"
    },
    {
     "name": "stdout",
     "output_type": "stream",
     "text": [
      "\n",
      "[0.007910862400633715, 0.00448796995858098, 0.006772553451412562, 0.0023690622971027156, 0.0009352933180152169, 0.0014853041766527504, 0.0020745599842239898, 0.007099364417869995]\n"
     ]
    },
    {
     "data": {
      "application/vnd.jupyter.widget-view+json": {
       "model_id": "e50c9091820946cf9a4cd58be2edf955",
       "version_major": 2,
       "version_minor": 0
      },
      "text/plain": [
       "HBox(children=(FloatProgress(value=0.0, max=1391.0), HTML(value='')))"
      ]
     },
     "metadata": {},
     "output_type": "display_data"
    },
    {
     "name": "stdout",
     "output_type": "stream",
     "text": [
      "\n",
      "[0.007910862400633715, 0.00448796995858098, 0.006772553451412562, 0.0023690622971027156, 0.0009352933180152169, 0.0014853041766527504, 0.0020745599842239898, 0.007099364417869995]\n"
     ]
    },
    {
     "data": {
      "application/vnd.jupyter.widget-view+json": {
       "model_id": "483b9cacb8484125b7d8ce332596670f",
       "version_major": 2,
       "version_minor": 0
      },
      "text/plain": [
       "HBox(children=(FloatProgress(value=0.0, max=1392.0), HTML(value='')))"
      ]
     },
     "metadata": {},
     "output_type": "display_data"
    },
    {
     "name": "stdout",
     "output_type": "stream",
     "text": [
      "\n",
      "[0.007910862400633715, 0.00448796995858098, 0.006772553451412562, 0.0023690622971027156, 0.0009352933180152169, 0.0014853041766527504, 0.0020745599842239898, 0.007099364417869995]\n"
     ]
    },
    {
     "data": {
      "application/vnd.jupyter.widget-view+json": {
       "model_id": "8893e3c99c65456893268348aa5e0e9a",
       "version_major": 2,
       "version_minor": 0
      },
      "text/plain": [
       "HBox(children=(FloatProgress(value=0.0, max=1390.0), HTML(value='')))"
      ]
     },
     "metadata": {},
     "output_type": "display_data"
    },
    {
     "name": "stdout",
     "output_type": "stream",
     "text": [
      "\n",
      "[0.007910862400633715, 0.00448796995858098, 0.006772553451412562, 0.0023690622971027156, 0.0009352933180152169, 0.0014853041766527504, 0.0020745599842239898, 0.007099364417869995]\n"
     ]
    },
    {
     "data": {
      "application/vnd.jupyter.widget-view+json": {
       "model_id": "753e4233fa954ca1951486281da27776",
       "version_major": 2,
       "version_minor": 0
      },
      "text/plain": [
       "HBox(children=(FloatProgress(value=0.0, max=1391.0), HTML(value='')))"
      ]
     },
     "metadata": {},
     "output_type": "display_data"
    },
    {
     "name": "stdout",
     "output_type": "stream",
     "text": [
      "\n",
      "[0.007910862400633715, 0.00448796995858098, 0.006772553451412562, 0.0023690622971027156, 0.0009352933180152169, 0.0014853041766527504, 0.0020745599842239898, 0.007099364417869995]\n"
     ]
    },
    {
     "data": {
      "application/vnd.jupyter.widget-view+json": {
       "model_id": "7e6b01f52d6649388fcd69d524f72036",
       "version_major": 2,
       "version_minor": 0
      },
      "text/plain": [
       "HBox(children=(FloatProgress(value=0.0, max=1391.0), HTML(value='')))"
      ]
     },
     "metadata": {},
     "output_type": "display_data"
    },
    {
     "name": "stdout",
     "output_type": "stream",
     "text": [
      "\n",
      "[0.007910862400633715, 0.00448796995858098, 0.006772553451412562, 0.0023690622971027156, 0.0009352933180152169, 0.0014853041766527504, 0.0020745599842239898, 0.007099364417869995]\n"
     ]
    },
    {
     "data": {
      "application/vnd.jupyter.widget-view+json": {
       "model_id": "fcb21aa6b62a40dc81771c85e728148b",
       "version_major": 2,
       "version_minor": 0
      },
      "text/plain": [
       "HBox(children=(FloatProgress(value=0.0, max=1391.0), HTML(value='')))"
      ]
     },
     "metadata": {},
     "output_type": "display_data"
    },
    {
     "name": "stdout",
     "output_type": "stream",
     "text": [
      "\n",
      "[0.007910862400633715, 0.00448796995858098, 0.006772553451412562, 0.0023690622971027156, 0.0009352933180152169, 0.0014853041766527504, 0.0020745599842239898, 0.007099364417869995]\n"
     ]
    },
    {
     "data": {
      "application/vnd.jupyter.widget-view+json": {
       "model_id": "8424f0b2602e48f59abb641578935593",
       "version_major": 2,
       "version_minor": 0
      },
      "text/plain": [
       "HBox(children=(FloatProgress(value=0.0, max=1392.0), HTML(value='')))"
      ]
     },
     "metadata": {},
     "output_type": "display_data"
    },
    {
     "name": "stdout",
     "output_type": "stream",
     "text": [
      "\n",
      "[0.007910862400633715, 0.00448796995858098, 0.006772553451412562, 0.0023690622971027156, 0.0009352933180152169, 0.0014853041766527504, 0.0020745599842239898, 0.007099364417869995]\n"
     ]
    },
    {
     "data": {
      "application/vnd.jupyter.widget-view+json": {
       "model_id": "f9fe155bcbe748d29024a99bf6f0f70f",
       "version_major": 2,
       "version_minor": 0
      },
      "text/plain": [
       "HBox(children=(FloatProgress(value=0.0, max=1390.0), HTML(value='')))"
      ]
     },
     "metadata": {},
     "output_type": "display_data"
    },
    {
     "name": "stdout",
     "output_type": "stream",
     "text": [
      "\n",
      "[0.007910862400633715, 0.00448796995858098, 0.006772553451412562, 0.0023690622971027156, 0.0009352933180152169, 0.0014853041766527504, 0.0020745599842239898, 0.007099364417869995]\n"
     ]
    },
    {
     "data": {
      "application/vnd.jupyter.widget-view+json": {
       "model_id": "490a996ad78542d1965e95dc0cd9923a",
       "version_major": 2,
       "version_minor": 0
      },
      "text/plain": [
       "HBox(children=(FloatProgress(value=0.0, max=1391.0), HTML(value='')))"
      ]
     },
     "metadata": {},
     "output_type": "display_data"
    },
    {
     "name": "stdout",
     "output_type": "stream",
     "text": [
      "\n",
      "[0.007910862400633715, 0.00448796995858098, 0.006772553451412562, 0.0023690622971027156, 0.0009352933180152169, 0.0014853041766527504, 0.0020745599842239898, 0.007099364417869995]\n"
     ]
    },
    {
     "data": {
      "application/vnd.jupyter.widget-view+json": {
       "model_id": "b9015c7d324d42daaae5915f2fafa8a1",
       "version_major": 2,
       "version_minor": 0
      },
      "text/plain": [
       "HBox(children=(FloatProgress(value=0.0, max=1390.0), HTML(value='')))"
      ]
     },
     "metadata": {},
     "output_type": "display_data"
    },
    {
     "name": "stdout",
     "output_type": "stream",
     "text": [
      "\n",
      "[0.007910862400633715, 0.00448796995858098, 0.006772553451412562, 0.0023690622971027156, 0.0009352933180152169, 0.0014853041766527504, 0.0020745599842239898, 0.007099364417869995]\n"
     ]
    },
    {
     "data": {
      "application/vnd.jupyter.widget-view+json": {
       "model_id": "b570763e060744edbfbca03d1c957e73",
       "version_major": 2,
       "version_minor": 0
      },
      "text/plain": [
       "HBox(children=(FloatProgress(value=0.0, max=1392.0), HTML(value='')))"
      ]
     },
     "metadata": {},
     "output_type": "display_data"
    },
    {
     "name": "stdout",
     "output_type": "stream",
     "text": [
      "\n",
      "[0.007910862400633715, 0.00448796995858098, 0.006772553451412562, 0.0023690622971027156, 0.0009352933180152169, 0.0014853041766527504, 0.0020745599842239898, 0.007099364417869995]\n"
     ]
    },
    {
     "data": {
      "application/vnd.jupyter.widget-view+json": {
       "model_id": "b18c25be353b44ad8139397dabfdfdf3",
       "version_major": 2,
       "version_minor": 0
      },
      "text/plain": [
       "HBox(children=(FloatProgress(value=0.0, max=1391.0), HTML(value='')))"
      ]
     },
     "metadata": {},
     "output_type": "display_data"
    },
    {
     "name": "stdout",
     "output_type": "stream",
     "text": [
      "\n",
      "[0.007910862400633715, 0.00448796995858098, 0.006772553451412562, 0.0023690622971027156, 0.0009352933180152169, 0.0014853041766527504, 0.0020745599842239898, 0.007099364417869995]\n"
     ]
    },
    {
     "data": {
      "application/vnd.jupyter.widget-view+json": {
       "model_id": "163cd078bfcf4b50bb9fcfec1d191614",
       "version_major": 2,
       "version_minor": 0
      },
      "text/plain": [
       "HBox(children=(FloatProgress(value=0.0, max=1392.0), HTML(value='')))"
      ]
     },
     "metadata": {},
     "output_type": "display_data"
    },
    {
     "name": "stdout",
     "output_type": "stream",
     "text": [
      "\n",
      "[0.007910862400633715, 0.00448796995858098, 0.006772553451412562, 0.0023690622971027156, 0.0009352933180152169, 0.0014853041766527504, 0.0020745599842239898, 0.007099364417869995]\n"
     ]
    },
    {
     "data": {
      "application/vnd.jupyter.widget-view+json": {
       "model_id": "9401bce61e6c4c869ef973903ebe15ef",
       "version_major": 2,
       "version_minor": 0
      },
      "text/plain": [
       "HBox(children=(FloatProgress(value=0.0, max=1390.0), HTML(value='')))"
      ]
     },
     "metadata": {},
     "output_type": "display_data"
    },
    {
     "name": "stdout",
     "output_type": "stream",
     "text": [
      "\n",
      "[0.007910862400633715, 0.00448796995858098, 0.006772553451412562, 0.0023690622971027156, 0.0009352933180152169, 0.0014853041766527504, 0.0020745599842239898, 0.007099364417869995]\n"
     ]
    },
    {
     "data": {
      "application/vnd.jupyter.widget-view+json": {
       "model_id": "2d92268dcda841578fb7fa42765d0854",
       "version_major": 2,
       "version_minor": 0
      },
      "text/plain": [
       "HBox(children=(FloatProgress(value=0.0, max=1391.0), HTML(value='')))"
      ]
     },
     "metadata": {},
     "output_type": "display_data"
    },
    {
     "name": "stdout",
     "output_type": "stream",
     "text": [
      "\n",
      "[0.007910862400633715, 0.00448796995858098, 0.006772553451412562, 0.0023690622971027156, 0.0009352933180152169, 0.0014853041766527504, 0.0020745599842239898, 0.007099364417869995]\n"
     ]
    },
    {
     "data": {
      "application/vnd.jupyter.widget-view+json": {
       "model_id": "6c6fb360643c46b9b2e7943756d97d1a",
       "version_major": 2,
       "version_minor": 0
      },
      "text/plain": [
       "HBox(children=(FloatProgress(value=0.0, max=1391.0), HTML(value='')))"
      ]
     },
     "metadata": {},
     "output_type": "display_data"
    },
    {
     "name": "stdout",
     "output_type": "stream",
     "text": [
      "\n",
      "[0.007910862400633715, 0.00448796995858098, 0.006772553451412562, 0.0023690622971027156, 0.0009352933180152169, 0.0014853041766527504, 0.0020745599842239898, 0.007099364417869995]\n"
     ]
    },
    {
     "data": {
      "application/vnd.jupyter.widget-view+json": {
       "model_id": "10ebfa39ccde41358725193b6a9279e7",
       "version_major": 2,
       "version_minor": 0
      },
      "text/plain": [
       "HBox(children=(FloatProgress(value=0.0, max=1392.0), HTML(value='')))"
      ]
     },
     "metadata": {},
     "output_type": "display_data"
    },
    {
     "name": "stdout",
     "output_type": "stream",
     "text": [
      "\n",
      "[0.007910862400633715, 0.00448796995858098, 0.006772553451412562, 0.0023690622971027156, 0.0009352933180152169, 0.0014853041766527504, 0.0020745599842239898, 0.007099364417869995]\n"
     ]
    },
    {
     "data": {
      "application/vnd.jupyter.widget-view+json": {
       "model_id": "f5d0011cf41e4509ad80bd9497be182b",
       "version_major": 2,
       "version_minor": 0
      },
      "text/plain": [
       "HBox(children=(FloatProgress(value=0.0, max=1390.0), HTML(value='')))"
      ]
     },
     "metadata": {},
     "output_type": "display_data"
    },
    {
     "name": "stdout",
     "output_type": "stream",
     "text": [
      "\n",
      "[0.007910862400633715, 0.00448796995858098, 0.006772553451412562, 0.0023690622971027156, 0.0009352933180152169, 0.0014853041766527504, 0.0020745599842239898, 0.007099364417869995]\n"
     ]
    },
    {
     "data": {
      "application/vnd.jupyter.widget-view+json": {
       "model_id": "ac884c3561d24724bb832ba974f1b0af",
       "version_major": 2,
       "version_minor": 0
      },
      "text/plain": [
       "HBox(children=(FloatProgress(value=0.0, max=1391.0), HTML(value='')))"
      ]
     },
     "metadata": {},
     "output_type": "display_data"
    },
    {
     "name": "stdout",
     "output_type": "stream",
     "text": [
      "\n",
      "[0.007910862400633715, 0.00448796995858098, 0.006772553451412562, 0.0023690622971027156, 0.0009352933180152169, 0.0014853041766527504, 0.0020745599842239898, 0.007099364417869995]\n"
     ]
    },
    {
     "data": {
      "application/vnd.jupyter.widget-view+json": {
       "model_id": "fea05e573c1547cf958a1fc4874a587f",
       "version_major": 2,
       "version_minor": 0
      },
      "text/plain": [
       "HBox(children=(FloatProgress(value=0.0, max=1391.0), HTML(value='')))"
      ]
     },
     "metadata": {},
     "output_type": "display_data"
    },
    {
     "name": "stdout",
     "output_type": "stream",
     "text": [
      "\n",
      "[0.007910862400633715, 0.00448796995858098, 0.006772553451412562, 0.0023690622971027156, 0.0009352933180152169, 0.0014853041766527504, 0.0020745599842239898, 0.007099364417869995]\n"
     ]
    },
    {
     "data": {
      "application/vnd.jupyter.widget-view+json": {
       "model_id": "1aba17f728f8428e8628edf412f0637f",
       "version_major": 2,
       "version_minor": 0
      },
      "text/plain": [
       "HBox(children=(FloatProgress(value=0.0, max=1392.0), HTML(value='')))"
      ]
     },
     "metadata": {},
     "output_type": "display_data"
    },
    {
     "name": "stdout",
     "output_type": "stream",
     "text": [
      "\n",
      "[0.007910862400633715, 0.00448796995858098, 0.006772553451412562, 0.0023690622971027156, 0.0009352933180152169, 0.0014853041766527504, 0.0020745599842239898, 0.007099364417869995]\n"
     ]
    },
    {
     "data": {
      "application/vnd.jupyter.widget-view+json": {
       "model_id": "67f51cbc478944dcb3a162990a6413f1",
       "version_major": 2,
       "version_minor": 0
      },
      "text/plain": [
       "HBox(children=(FloatProgress(value=0.0, max=1390.0), HTML(value='')))"
      ]
     },
     "metadata": {},
     "output_type": "display_data"
    },
    {
     "name": "stdout",
     "output_type": "stream",
     "text": [
      "\n",
      "[0.007910862400633715, 0.00448796995858098, 0.006772553451412562, 0.0023690622971027156, 0.0009352933180152169, 0.0014853041766527504, 0.0020745599842239898, 0.007099364417869995]\n"
     ]
    },
    {
     "data": {
      "application/vnd.jupyter.widget-view+json": {
       "model_id": "da73b8c1f7d94d91a995d57207de12c0",
       "version_major": 2,
       "version_minor": 0
      },
      "text/plain": [
       "HBox(children=(FloatProgress(value=0.0, max=1391.0), HTML(value='')))"
      ]
     },
     "metadata": {},
     "output_type": "display_data"
    },
    {
     "name": "stdout",
     "output_type": "stream",
     "text": [
      "\n",
      "[0.007910862400633715, 0.00448796995858098, 0.006772553451412562, 0.0023690622971027156, 0.0009352933180152169, 0.0014853041766527504, 0.0020745599842239898, 0.007099364417869995]\n"
     ]
    },
    {
     "data": {
      "application/vnd.jupyter.widget-view+json": {
       "model_id": "edf5332cfd544d6ca93f827f3c69a93f",
       "version_major": 2,
       "version_minor": 0
      },
      "text/plain": [
       "HBox(children=(FloatProgress(value=0.0, max=1391.0), HTML(value='')))"
      ]
     },
     "metadata": {},
     "output_type": "display_data"
    },
    {
     "name": "stdout",
     "output_type": "stream",
     "text": [
      "\n",
      "[0.007910862400633715, 0.00448796995858098, 0.006772553451412562, 0.0023690622971027156, 0.0009352933180152169, 0.0014853041766527504, 0.0020745599842239898, 0.007099364417869995]\n"
     ]
    },
    {
     "data": {
      "application/vnd.jupyter.widget-view+json": {
       "model_id": "b242ab73da9c4967b3b6bfe63c1801e7",
       "version_major": 2,
       "version_minor": 0
      },
      "text/plain": [
       "HBox(children=(FloatProgress(value=0.0, max=1390.0), HTML(value='')))"
      ]
     },
     "metadata": {},
     "output_type": "display_data"
    },
    {
     "name": "stdout",
     "output_type": "stream",
     "text": [
      "\n",
      "[0.007910862400633715, 0.00448796995858098, 0.006772553451412562, 0.0023690622971027156, 0.0009352933180152169, 0.0014853041766527504, 0.0020745599842239898, 0.007099364417869995]\n"
     ]
    },
    {
     "data": {
      "application/vnd.jupyter.widget-view+json": {
       "model_id": "3b2a5a9d6c944cf9bca879d0b98a297d",
       "version_major": 2,
       "version_minor": 0
      },
      "text/plain": [
       "HBox(children=(FloatProgress(value=0.0, max=1391.0), HTML(value='')))"
      ]
     },
     "metadata": {},
     "output_type": "display_data"
    },
    {
     "name": "stdout",
     "output_type": "stream",
     "text": [
      "\n",
      "[0.007910862400633715, 0.00448796995858098, 0.006772553451412562, 0.0023690622971027156, 0.0009352933180152169, 0.0014853041766527504, 0.0020745599842239898, 0.007099364417869995]\n"
     ]
    },
    {
     "data": {
      "application/vnd.jupyter.widget-view+json": {
       "model_id": "00ef9fc57b5744db81e341f3a5cbfa82",
       "version_major": 2,
       "version_minor": 0
      },
      "text/plain": [
       "HBox(children=(FloatProgress(value=0.0, max=1391.0), HTML(value='')))"
      ]
     },
     "metadata": {},
     "output_type": "display_data"
    },
    {
     "name": "stdout",
     "output_type": "stream",
     "text": [
      "\n",
      "[0.007910862400633715, 0.00448796995858098, 0.006772553451412562, 0.0023690622971027156, 0.0009352933180152169, 0.0014853041766527504, 0.0020745599842239898, 0.007099364417869995]\n"
     ]
    },
    {
     "data": {
      "application/vnd.jupyter.widget-view+json": {
       "model_id": "ca00513dc5e84279b58e35f48e1594f1",
       "version_major": 2,
       "version_minor": 0
      },
      "text/plain": [
       "HBox(children=(FloatProgress(value=0.0, max=1392.0), HTML(value='')))"
      ]
     },
     "metadata": {},
     "output_type": "display_data"
    },
    {
     "name": "stdout",
     "output_type": "stream",
     "text": [
      "\n",
      "[0.007910862400633715, 0.00448796995858098, 0.006772553451412562, 0.0023690622971027156, 0.0009352933180152169, 0.0014853041766527504, 0.0020745599842239898, 0.007099364417869995]\n"
     ]
    },
    {
     "data": {
      "application/vnd.jupyter.widget-view+json": {
       "model_id": "ac7af8de98a546f689b3765568734926",
       "version_major": 2,
       "version_minor": 0
      },
      "text/plain": [
       "HBox(children=(FloatProgress(value=0.0, max=1391.0), HTML(value='')))"
      ]
     },
     "metadata": {},
     "output_type": "display_data"
    },
    {
     "name": "stdout",
     "output_type": "stream",
     "text": [
      "\n",
      "[0.007910862400633715, 0.00448796995858098, 0.006772553451412562, 0.0023690622971027156, 0.0009352933180152169, 0.0014853041766527504, 0.0020745599842239898, 0.007099364417869995]\n"
     ]
    },
    {
     "data": {
      "application/vnd.jupyter.widget-view+json": {
       "model_id": "619bd568367343d79072573ea86b696b",
       "version_major": 2,
       "version_minor": 0
      },
      "text/plain": [
       "HBox(children=(FloatProgress(value=0.0, max=1392.0), HTML(value='')))"
      ]
     },
     "metadata": {},
     "output_type": "display_data"
    },
    {
     "name": "stdout",
     "output_type": "stream",
     "text": [
      "\n",
      "[0.007910862400633715, 0.00448796995858098, 0.006772553451412562, 0.0023690622971027156, 0.0009352933180152169, 0.0014853041766527504, 0.0020745599842239898, 0.007099364417869995]\n"
     ]
    },
    {
     "data": {
      "application/vnd.jupyter.widget-view+json": {
       "model_id": "21ac0132f1ed45338fc884320421dd71",
       "version_major": 2,
       "version_minor": 0
      },
      "text/plain": [
       "HBox(children=(FloatProgress(value=0.0, max=1391.0), HTML(value='')))"
      ]
     },
     "metadata": {},
     "output_type": "display_data"
    },
    {
     "name": "stdout",
     "output_type": "stream",
     "text": [
      "\n",
      "[0.007910862400633715, 0.00448796995858098, 0.006772553451412562, 0.0023690622971027156, 0.0009352933180152169, 0.0014853041766527504, 0.0020745599842239898, 0.007099364417869995]\n"
     ]
    },
    {
     "data": {
      "application/vnd.jupyter.widget-view+json": {
       "model_id": "f8089dd84f804effb8d123c1cdee3b8f",
       "version_major": 2,
       "version_minor": 0
      },
      "text/plain": [
       "HBox(children=(FloatProgress(value=0.0, max=1390.0), HTML(value='')))"
      ]
     },
     "metadata": {},
     "output_type": "display_data"
    },
    {
     "name": "stdout",
     "output_type": "stream",
     "text": [
      "\n",
      "[0.007910862400633715, 0.00448796995858098, 0.006772553451412562, 0.0023690622971027156, 0.0009352933180152169, 0.0014853041766527504, 0.0020745599842239898, 0.007099364417869995]\n"
     ]
    },
    {
     "data": {
      "application/vnd.jupyter.widget-view+json": {
       "model_id": "0043ea44107a41f1af9cf1e72298e16b",
       "version_major": 2,
       "version_minor": 0
      },
      "text/plain": [
       "HBox(children=(FloatProgress(value=0.0, max=1392.0), HTML(value='')))"
      ]
     },
     "metadata": {},
     "output_type": "display_data"
    },
    {
     "name": "stdout",
     "output_type": "stream",
     "text": [
      "\n",
      "[0.007910862400633715, 0.00448796995858098, 0.006772553451412562, 0.0023690622971027156, 0.0009352933180152169, 0.0014853041766527504, 0.0020745599842239898, 0.007099364417869995]\n"
     ]
    },
    {
     "data": {
      "application/vnd.jupyter.widget-view+json": {
       "model_id": "f54592358b284c4ab93ccfdd5d22e335",
       "version_major": 2,
       "version_minor": 0
      },
      "text/plain": [
       "HBox(children=(FloatProgress(value=0.0, max=1391.0), HTML(value='')))"
      ]
     },
     "metadata": {},
     "output_type": "display_data"
    },
    {
     "name": "stdout",
     "output_type": "stream",
     "text": [
      "\n",
      "[0.007910862400633715, 0.00448796995858098, 0.006772553451412562, 0.0023690622971027156, 0.0009352933180152169, 0.0014853041766527504, 0.0020745599842239898, 0.007099364417869995]\n"
     ]
    },
    {
     "data": {
      "application/vnd.jupyter.widget-view+json": {
       "model_id": "407eab8fbb52451f80cd717fb4c4cc42",
       "version_major": 2,
       "version_minor": 0
      },
      "text/plain": [
       "HBox(children=(FloatProgress(value=0.0, max=1391.0), HTML(value='')))"
      ]
     },
     "metadata": {},
     "output_type": "display_data"
    },
    {
     "name": "stdout",
     "output_type": "stream",
     "text": [
      "\n",
      "[0.007910862400633715, 0.00448796995858098, 0.006772553451412562, 0.0023690622971027156, 0.0009352933180152169, 0.0014853041766527504, 0.0020745599842239898, 0.007099364417869995]\n"
     ]
    },
    {
     "data": {
      "application/vnd.jupyter.widget-view+json": {
       "model_id": "c64ee3ac20f14d2fbfa138606f1f4522",
       "version_major": 2,
       "version_minor": 0
      },
      "text/plain": [
       "HBox(children=(FloatProgress(value=0.0, max=1390.0), HTML(value='')))"
      ]
     },
     "metadata": {},
     "output_type": "display_data"
    },
    {
     "name": "stdout",
     "output_type": "stream",
     "text": [
      "\n",
      "[0.007910862400633715, 0.00448796995858098, 0.006772553451412562, 0.0023690622971027156, 0.0009352933180152169, 0.0014853041766527504, 0.0020745599842239898, 0.007099364417869995]\n"
     ]
    },
    {
     "data": {
      "application/vnd.jupyter.widget-view+json": {
       "model_id": "c4044933bdc1470ea4bcdf80932fe3b6",
       "version_major": 2,
       "version_minor": 0
      },
      "text/plain": [
       "HBox(children=(FloatProgress(value=0.0, max=1391.0), HTML(value='')))"
      ]
     },
     "metadata": {},
     "output_type": "display_data"
    },
    {
     "name": "stdout",
     "output_type": "stream",
     "text": [
      "\n",
      "[0.007910862400633715, 0.00448796995858098, 0.006772553451412562, 0.0023690622971027156, 0.0009352933180152169, 0.0014853041766527504, 0.0020745599842239898, 0.007099364417869995]\n"
     ]
    },
    {
     "data": {
      "application/vnd.jupyter.widget-view+json": {
       "model_id": "72514f43e6cf4c6b9eaa6b83ab2aa9e0",
       "version_major": 2,
       "version_minor": 0
      },
      "text/plain": [
       "HBox(children=(FloatProgress(value=0.0, max=1390.0), HTML(value='')))"
      ]
     },
     "metadata": {},
     "output_type": "display_data"
    },
    {
     "name": "stdout",
     "output_type": "stream",
     "text": [
      "\n",
      "[0.007910862400633715, 0.00448796995858098, 0.006772553451412562, 0.0023690622971027156, 0.0009352933180152169, 0.0014853041766527504, 0.0020745599842239898, 0.007099364417869995]\n"
     ]
    },
    {
     "data": {
      "application/vnd.jupyter.widget-view+json": {
       "model_id": "792f05cbc7d04157b14630967c6276c2",
       "version_major": 2,
       "version_minor": 0
      },
      "text/plain": [
       "HBox(children=(FloatProgress(value=0.0, max=1392.0), HTML(value='')))"
      ]
     },
     "metadata": {},
     "output_type": "display_data"
    },
    {
     "name": "stdout",
     "output_type": "stream",
     "text": [
      "\n",
      "[0.007910862400633715, 0.00448796995858098, 0.006772553451412562, 0.0023690622971027156, 0.0009352933180152169, 0.0014853041766527504, 0.0020745599842239898, 0.007099364417869995]\n"
     ]
    },
    {
     "data": {
      "application/vnd.jupyter.widget-view+json": {
       "model_id": "e3f6343180f1468d8990fafc19411679",
       "version_major": 2,
       "version_minor": 0
      },
      "text/plain": [
       "HBox(children=(FloatProgress(value=0.0, max=1391.0), HTML(value='')))"
      ]
     },
     "metadata": {},
     "output_type": "display_data"
    },
    {
     "name": "stdout",
     "output_type": "stream",
     "text": [
      "\n",
      "[0.007910862400633715, 0.00448796995858098, 0.006772553451412562, 0.0023690622971027156, 0.0009352933180152169, 0.0014853041766527504, 0.0020745599842239898, 0.007099364417869995]\n"
     ]
    },
    {
     "data": {
      "application/vnd.jupyter.widget-view+json": {
       "model_id": "42c3285aee4a42768308a9d8bc208d0d",
       "version_major": 2,
       "version_minor": 0
      },
      "text/plain": [
       "HBox(children=(FloatProgress(value=0.0, max=1392.0), HTML(value='')))"
      ]
     },
     "metadata": {},
     "output_type": "display_data"
    },
    {
     "name": "stdout",
     "output_type": "stream",
     "text": [
      "\n",
      "[0.007910862400633715, 0.00448796995858098, 0.006772553451412562, 0.0023690622971027156, 0.0009352933180152169, 0.0014853041766527504, 0.0020745599842239898, 0.007099364417869995]\n"
     ]
    },
    {
     "data": {
      "application/vnd.jupyter.widget-view+json": {
       "model_id": "9c495325cbcd421987bf8b22c36a1679",
       "version_major": 2,
       "version_minor": 0
      },
      "text/plain": [
       "HBox(children=(FloatProgress(value=0.0, max=1391.0), HTML(value='')))"
      ]
     },
     "metadata": {},
     "output_type": "display_data"
    },
    {
     "name": "stdout",
     "output_type": "stream",
     "text": [
      "\n",
      "[0.007910862400633715, 0.00448796995858098, 0.006772553451412562, 0.0023690622971027156, 0.0009352933180152169, 0.0014853041766527504, 0.0020745599842239898, 0.007099364417869995]\n"
     ]
    },
    {
     "data": {
      "application/vnd.jupyter.widget-view+json": {
       "model_id": "1f27bf5b082244f5b66c265cb0f4d9d3",
       "version_major": 2,
       "version_minor": 0
      },
      "text/plain": [
       "HBox(children=(FloatProgress(value=0.0, max=1390.0), HTML(value='')))"
      ]
     },
     "metadata": {},
     "output_type": "display_data"
    },
    {
     "name": "stdout",
     "output_type": "stream",
     "text": [
      "\n",
      "[0.007910862400633715, 0.00448796995858098, 0.006772553451412562, 0.0023690622971027156, 0.0009352933180152169, 0.0014853041766527504, 0.0020745599842239898, 0.007099364417869995]\n"
     ]
    },
    {
     "data": {
      "application/vnd.jupyter.widget-view+json": {
       "model_id": "803b6c077c7240d8859aed9e25634fa6",
       "version_major": 2,
       "version_minor": 0
      },
      "text/plain": [
       "HBox(children=(FloatProgress(value=0.0, max=1391.0), HTML(value='')))"
      ]
     },
     "metadata": {},
     "output_type": "display_data"
    },
    {
     "name": "stdout",
     "output_type": "stream",
     "text": [
      "\n",
      "[0.007910862400633715, 0.00448796995858098, 0.006772553451412562, 0.0023690622971027156, 0.0009352933180152169, 0.0014853041766527504, 0.0020745599842239898, 0.007099364417869995]\n"
     ]
    },
    {
     "data": {
      "application/vnd.jupyter.widget-view+json": {
       "model_id": "57a53243fd854d779147352c201de82c",
       "version_major": 2,
       "version_minor": 0
      },
      "text/plain": [
       "HBox(children=(FloatProgress(value=0.0, max=1391.0), HTML(value='')))"
      ]
     },
     "metadata": {},
     "output_type": "display_data"
    },
    {
     "name": "stdout",
     "output_type": "stream",
     "text": [
      "\n",
      "[0.007910862400633715, 0.00448796995858098, 0.006772553451412562, 0.0023690622971027156, 0.0009352933180152169, 0.0014853041766527504, 0.0020745599842239898, 0.007099364417869995]\n"
     ]
    },
    {
     "data": {
      "application/vnd.jupyter.widget-view+json": {
       "model_id": "448a61695210453699a9121d682136a5",
       "version_major": 2,
       "version_minor": 0
      },
      "text/plain": [
       "HBox(children=(FloatProgress(value=0.0, max=1390.0), HTML(value='')))"
      ]
     },
     "metadata": {},
     "output_type": "display_data"
    },
    {
     "name": "stdout",
     "output_type": "stream",
     "text": [
      "\n",
      "[0.007910862400633715, 0.00448796995858098, 0.006772553451412562, 0.0023690622971027156, 0.0009352933180152169, 0.0014853041766527504, 0.0020745599842239898, 0.007099364417869995]\n"
     ]
    },
    {
     "data": {
      "application/vnd.jupyter.widget-view+json": {
       "model_id": "c515a48b360f4b238552f90016692460",
       "version_major": 2,
       "version_minor": 0
      },
      "text/plain": [
       "HBox(children=(FloatProgress(value=0.0, max=1392.0), HTML(value='')))"
      ]
     },
     "metadata": {},
     "output_type": "display_data"
    },
    {
     "name": "stdout",
     "output_type": "stream",
     "text": [
      "\n",
      "[0.007910862400633715, 0.00448796995858098, 0.006772553451412562, 0.0023690622971027156, 0.0009352933180152169, 0.0014853041766527504, 0.0020745599842239898, 0.007099364417869995]\n"
     ]
    },
    {
     "data": {
      "application/vnd.jupyter.widget-view+json": {
       "model_id": "0a3fd11b07d142f089d47774d3bfa87b",
       "version_major": 2,
       "version_minor": 0
      },
      "text/plain": [
       "HBox(children=(FloatProgress(value=0.0, max=1392.0), HTML(value='')))"
      ]
     },
     "metadata": {},
     "output_type": "display_data"
    },
    {
     "name": "stdout",
     "output_type": "stream",
     "text": [
      "\n",
      "[0.007910862400633715, 0.00448796995858098, 0.006772553451412562, 0.0023690622971027156, 0.0009352933180152169, 0.0014853041766527504, 0.0020745599842239898, 0.007099364417869995]\n"
     ]
    },
    {
     "data": {
      "application/vnd.jupyter.widget-view+json": {
       "model_id": "fdabfa84a3334f0eb5ba1cdb333ad3fa",
       "version_major": 2,
       "version_minor": 0
      },
      "text/plain": [
       "HBox(children=(FloatProgress(value=0.0, max=1390.0), HTML(value='')))"
      ]
     },
     "metadata": {},
     "output_type": "display_data"
    },
    {
     "name": "stdout",
     "output_type": "stream",
     "text": [
      "\n",
      "[0.007910862400633715, 0.00448796995858098, 0.006772553451412562, 0.0023690622971027156, 0.0009352933180152169, 0.0014853041766527504, 0.0020745599842239898, 0.007099364417869995]\n"
     ]
    },
    {
     "data": {
      "application/vnd.jupyter.widget-view+json": {
       "model_id": "fc9f611294244823bc1c70e2d5f36a3c",
       "version_major": 2,
       "version_minor": 0
      },
      "text/plain": [
       "HBox(children=(FloatProgress(value=0.0, max=1391.0), HTML(value='')))"
      ]
     },
     "metadata": {},
     "output_type": "display_data"
    },
    {
     "name": "stdout",
     "output_type": "stream",
     "text": [
      "\n",
      "[0.007910862400633715, 0.00448796995858098, 0.006772553451412562, 0.0023690622971027156, 0.0009352933180152169, 0.0014853041766527504, 0.0020745599842239898, 0.007099364417869995]\n"
     ]
    },
    {
     "data": {
      "application/vnd.jupyter.widget-view+json": {
       "model_id": "03ddfc8da46f4ec0bd02b7a4dfa2e9d0",
       "version_major": 2,
       "version_minor": 0
      },
      "text/plain": [
       "HBox(children=(FloatProgress(value=0.0, max=1391.0), HTML(value='')))"
      ]
     },
     "metadata": {},
     "output_type": "display_data"
    },
    {
     "name": "stdout",
     "output_type": "stream",
     "text": [
      "\n",
      "[0.007910862400633715, 0.00448796995858098, 0.006772553451412562, 0.0023690622971027156, 0.0009352933180152169, 0.0014853041766527504, 0.0020745599842239898, 0.007099364417869995]\n"
     ]
    },
    {
     "data": {
      "application/vnd.jupyter.widget-view+json": {
       "model_id": "da87179adee1436d95a028260f517250",
       "version_major": 2,
       "version_minor": 0
      },
      "text/plain": [
       "HBox(children=(FloatProgress(value=0.0, max=1392.0), HTML(value='')))"
      ]
     },
     "metadata": {},
     "output_type": "display_data"
    },
    {
     "name": "stdout",
     "output_type": "stream",
     "text": [
      "\n",
      "[0.007910862400633715, 0.00448796995858098, 0.006772553451412562, 0.0023690622971027156, 0.0009352933180152169, 0.0014853041766527504, 0.0020745599842239898, 0.007099364417869995]\n"
     ]
    },
    {
     "data": {
      "application/vnd.jupyter.widget-view+json": {
       "model_id": "bdc8310e2f5d43a1b4e33e841e29d69d",
       "version_major": 2,
       "version_minor": 0
      },
      "text/plain": [
       "HBox(children=(FloatProgress(value=0.0, max=1390.0), HTML(value='')))"
      ]
     },
     "metadata": {},
     "output_type": "display_data"
    },
    {
     "name": "stdout",
     "output_type": "stream",
     "text": [
      "\n",
      "[0.007910862400633715, 0.00448796995858098, 0.006772553451412562, 0.0023690622971027156, 0.0009352933180152169, 0.0014853041766527504, 0.0020745599842239898, 0.007099364417869995]\n"
     ]
    },
    {
     "data": {
      "application/vnd.jupyter.widget-view+json": {
       "model_id": "65f99ee420f14c75ab23beebcb6c3886",
       "version_major": 2,
       "version_minor": 0
      },
      "text/plain": [
       "HBox(children=(FloatProgress(value=0.0, max=1391.0), HTML(value='')))"
      ]
     },
     "metadata": {},
     "output_type": "display_data"
    },
    {
     "name": "stdout",
     "output_type": "stream",
     "text": [
      "\n",
      "[0.007910862400633715, 0.00448796995858098, 0.006772553451412562, 0.0023690622971027156, 0.0009352933180152169, 0.0014853041766527504, 0.0020745599842239898, 0.007099364417869995]\n"
     ]
    },
    {
     "data": {
      "application/vnd.jupyter.widget-view+json": {
       "model_id": "d50abedd743f4e4f910cefeef0ab5366",
       "version_major": 2,
       "version_minor": 0
      },
      "text/plain": [
       "HBox(children=(FloatProgress(value=0.0, max=1391.0), HTML(value='')))"
      ]
     },
     "metadata": {},
     "output_type": "display_data"
    },
    {
     "name": "stdout",
     "output_type": "stream",
     "text": [
      "\n",
      "[0.007910862400633715, 0.00448796995858098, 0.006772553451412562, 0.0023690622971027156, 0.0009352933180152169, 0.0014853041766527504, 0.0020745599842239898, 0.007099364417869995]\n"
     ]
    },
    {
     "data": {
      "application/vnd.jupyter.widget-view+json": {
       "model_id": "714549055b0b4ca6ae3654b24787a2a9",
       "version_major": 2,
       "version_minor": 0
      },
      "text/plain": [
       "HBox(children=(FloatProgress(value=0.0, max=1391.0), HTML(value='')))"
      ]
     },
     "metadata": {},
     "output_type": "display_data"
    },
    {
     "name": "stdout",
     "output_type": "stream",
     "text": [
      "\n",
      "[0.007910862400633715, 0.00448796995858098, 0.006772553451412562, 0.0023690622971027156, 0.0009352933180152169, 0.0014853041766527504, 0.0020745599842239898, 0.007099364417869995]\n"
     ]
    },
    {
     "data": {
      "application/vnd.jupyter.widget-view+json": {
       "model_id": "f5464fedc7d545d38aaa4610ebea9000",
       "version_major": 2,
       "version_minor": 0
      },
      "text/plain": [
       "HBox(children=(FloatProgress(value=0.0, max=1392.0), HTML(value='')))"
      ]
     },
     "metadata": {},
     "output_type": "display_data"
    },
    {
     "name": "stdout",
     "output_type": "stream",
     "text": [
      "\n",
      "[0.007910862400633715, 0.00448796995858098, 0.006772553451412562, 0.0023690622971027156, 0.0009352933180152169, 0.0014853041766527504, 0.0020745599842239898, 0.007099364417869995]\n"
     ]
    },
    {
     "data": {
      "application/vnd.jupyter.widget-view+json": {
       "model_id": "8078b4f672784139bc3060e6c3cb7e2e",
       "version_major": 2,
       "version_minor": 0
      },
      "text/plain": [
       "HBox(children=(FloatProgress(value=0.0, max=1390.0), HTML(value='')))"
      ]
     },
     "metadata": {},
     "output_type": "display_data"
    },
    {
     "name": "stdout",
     "output_type": "stream",
     "text": [
      "\n",
      "[0.007910862400633715, 0.00448796995858098, 0.006772553451412562, 0.0023690622971027156, 0.0009352933180152169, 0.0014853041766527504, 0.0020745599842239898, 0.007099364417869995]\n"
     ]
    },
    {
     "data": {
      "application/vnd.jupyter.widget-view+json": {
       "model_id": "95f84160a7b44fd5aced6e64b541b0cc",
       "version_major": 2,
       "version_minor": 0
      },
      "text/plain": [
       "HBox(children=(FloatProgress(value=0.0, max=1391.0), HTML(value='')))"
      ]
     },
     "metadata": {},
     "output_type": "display_data"
    },
    {
     "name": "stdout",
     "output_type": "stream",
     "text": [
      "\n",
      "[0.007910862400633715, 0.00448796995858098, 0.006772553451412562, 0.0023690622971027156, 0.0009352933180152169, 0.0014853041766527504, 0.0020745599842239898, 0.007099364417869995]\n"
     ]
    },
    {
     "data": {
      "application/vnd.jupyter.widget-view+json": {
       "model_id": "f71b1da52ab74759b213021766ac10a4",
       "version_major": 2,
       "version_minor": 0
      },
      "text/plain": [
       "HBox(children=(FloatProgress(value=0.0, max=1391.0), HTML(value='')))"
      ]
     },
     "metadata": {},
     "output_type": "display_data"
    },
    {
     "name": "stdout",
     "output_type": "stream",
     "text": [
      "\n",
      "[0.007910862400633715, 0.00448796995858098, 0.006772553451412562, 0.0023690622971027156, 0.0009352933180152169, 0.0014853041766527504, 0.0020745599842239898, 0.007099364417869995]\n"
     ]
    },
    {
     "data": {
      "application/vnd.jupyter.widget-view+json": {
       "model_id": "ce6d4cbd50734f1daeb27def26331852",
       "version_major": 2,
       "version_minor": 0
      },
      "text/plain": [
       "HBox(children=(FloatProgress(value=0.0, max=1390.0), HTML(value='')))"
      ]
     },
     "metadata": {},
     "output_type": "display_data"
    },
    {
     "name": "stdout",
     "output_type": "stream",
     "text": [
      "\n",
      "[0.007910862400633715, 0.00448796995858098, 0.006772553451412562, 0.0023690622971027156, 0.0009352933180152169, 0.0014853041766527504, 0.0020745599842239898, 0.007099364417869995]\n"
     ]
    },
    {
     "data": {
      "application/vnd.jupyter.widget-view+json": {
       "model_id": "8e6f647e283c47aba5c39d2705d6dcdb",
       "version_major": 2,
       "version_minor": 0
      },
      "text/plain": [
       "HBox(children=(FloatProgress(value=0.0, max=1392.0), HTML(value='')))"
      ]
     },
     "metadata": {},
     "output_type": "display_data"
    },
    {
     "name": "stdout",
     "output_type": "stream",
     "text": [
      "\n",
      "[0.007910862400633715, 0.00448796995858098, 0.006772553451412562, 0.0023690622971027156, 0.0009352933180152169, 0.0014853041766527504, 0.0020745599842239898, 0.007099364417869995]\n"
     ]
    },
    {
     "data": {
      "application/vnd.jupyter.widget-view+json": {
       "model_id": "b84b4c3a7b634243b4a9faed84493229",
       "version_major": 2,
       "version_minor": 0
      },
      "text/plain": [
       "HBox(children=(FloatProgress(value=0.0, max=1391.0), HTML(value='')))"
      ]
     },
     "metadata": {},
     "output_type": "display_data"
    },
    {
     "name": "stdout",
     "output_type": "stream",
     "text": [
      "\n",
      "[0.007910862400633715, 0.00448796995858098, 0.006772553451412562, 0.0023690622971027156, 0.0009352933180152169, 0.0014853041766527504, 0.0020745599842239898, 0.007099364417869995]\n"
     ]
    },
    {
     "data": {
      "application/vnd.jupyter.widget-view+json": {
       "model_id": "6e3b096cd3eb434da74bb3983759878b",
       "version_major": 2,
       "version_minor": 0
      },
      "text/plain": [
       "HBox(children=(FloatProgress(value=0.0, max=1390.0), HTML(value='')))"
      ]
     },
     "metadata": {},
     "output_type": "display_data"
    },
    {
     "name": "stdout",
     "output_type": "stream",
     "text": [
      "\n",
      "[0.007910862400633715, 0.00448796995858098, 0.006772553451412562, 0.0023690622971027156, 0.0009352933180152169, 0.0014853041766527504, 0.0020745599842239898, 0.007099364417869995]\n"
     ]
    },
    {
     "data": {
      "application/vnd.jupyter.widget-view+json": {
       "model_id": "5dc34f1823b44852b20da97a6e44b4a2",
       "version_major": 2,
       "version_minor": 0
      },
      "text/plain": [
       "HBox(children=(FloatProgress(value=0.0, max=1391.0), HTML(value='')))"
      ]
     },
     "metadata": {},
     "output_type": "display_data"
    },
    {
     "name": "stdout",
     "output_type": "stream",
     "text": [
      "\n",
      "[0.007910862400633715, 0.00448796995858098, 0.006772553451412562, 0.0023690622971027156, 0.0009352933180152169, 0.0014853041766527504, 0.0020745599842239898, 0.007099364417869995]\n"
     ]
    },
    {
     "data": {
      "application/vnd.jupyter.widget-view+json": {
       "model_id": "600e19f479d4422397193f06111273be",
       "version_major": 2,
       "version_minor": 0
      },
      "text/plain": [
       "HBox(children=(FloatProgress(value=0.0, max=1392.0), HTML(value='')))"
      ]
     },
     "metadata": {},
     "output_type": "display_data"
    },
    {
     "name": "stdout",
     "output_type": "stream",
     "text": [
      "\n",
      "[0.007910862400633715, 0.00448796995858098, 0.006772553451412562, 0.0023690622971027156, 0.0009352933180152169, 0.0014853041766527504, 0.0020745599842239898, 0.007099364417869995]\n"
     ]
    },
    {
     "data": {
      "application/vnd.jupyter.widget-view+json": {
       "model_id": "4f2c9cef641940b49e151d16ca518e09",
       "version_major": 2,
       "version_minor": 0
      },
      "text/plain": [
       "HBox(children=(FloatProgress(value=0.0, max=1391.0), HTML(value='')))"
      ]
     },
     "metadata": {},
     "output_type": "display_data"
    },
    {
     "name": "stdout",
     "output_type": "stream",
     "text": [
      "\n",
      "[0.007910862400633715, 0.00448796995858098, 0.006772553451412562, 0.0023690622971027156, 0.0009352933180152169, 0.0014853041766527504, 0.0020745599842239898, 0.007099364417869995]\n"
     ]
    },
    {
     "data": {
      "application/vnd.jupyter.widget-view+json": {
       "model_id": "64557431ef844491bc3936ea97390ec9",
       "version_major": 2,
       "version_minor": 0
      },
      "text/plain": [
       "HBox(children=(FloatProgress(value=0.0, max=1391.0), HTML(value='')))"
      ]
     },
     "metadata": {},
     "output_type": "display_data"
    },
    {
     "name": "stdout",
     "output_type": "stream",
     "text": [
      "\n",
      "[0.007910862400633715, 0.00448796995858098, 0.006772553451412562, 0.0023690622971027156, 0.0009352933180152169, 0.0014853041766527504, 0.0020745599842239898, 0.007099364417869995]\n"
     ]
    },
    {
     "data": {
      "application/vnd.jupyter.widget-view+json": {
       "model_id": "df1acc496b19497cba392ec1896cd02f",
       "version_major": 2,
       "version_minor": 0
      },
      "text/plain": [
       "HBox(children=(FloatProgress(value=0.0, max=1391.0), HTML(value='')))"
      ]
     },
     "metadata": {},
     "output_type": "display_data"
    },
    {
     "name": "stdout",
     "output_type": "stream",
     "text": [
      "\n",
      "[0.007910862400633715, 0.00448796995858098, 0.006772553451412562, 0.0023690622971027156, 0.0009352933180152169, 0.0014853041766527504, 0.0020745599842239898, 0.007099364417869995]\n"
     ]
    },
    {
     "data": {
      "application/vnd.jupyter.widget-view+json": {
       "model_id": "54554189858f4f11b40d5025f7e34bfc",
       "version_major": 2,
       "version_minor": 0
      },
      "text/plain": [
       "HBox(children=(FloatProgress(value=0.0, max=1392.0), HTML(value='')))"
      ]
     },
     "metadata": {},
     "output_type": "display_data"
    },
    {
     "name": "stdout",
     "output_type": "stream",
     "text": [
      "\n",
      "[0.007910862400633715, 0.00448796995858098, 0.006772553451412562, 0.0023690622971027156, 0.0009352933180152169, 0.0014853041766527504, 0.0020745599842239898, 0.007099364417869995]\n"
     ]
    },
    {
     "data": {
      "application/vnd.jupyter.widget-view+json": {
       "model_id": "9a3762ed34f9470e831bf70b49355ba1",
       "version_major": 2,
       "version_minor": 0
      },
      "text/plain": [
       "HBox(children=(FloatProgress(value=0.0, max=1390.0), HTML(value='')))"
      ]
     },
     "metadata": {},
     "output_type": "display_data"
    },
    {
     "name": "stdout",
     "output_type": "stream",
     "text": [
      "\n",
      "[0.007910862400633715, 0.00448796995858098, 0.006772553451412562, 0.0023690622971027156, 0.0009352933180152169, 0.0014853041766527504, 0.0020745599842239898, 0.007099364417869995]\n"
     ]
    },
    {
     "data": {
      "application/vnd.jupyter.widget-view+json": {
       "model_id": "da6ccbd2a9d74d2fa9e4d2a4924362e3",
       "version_major": 2,
       "version_minor": 0
      },
      "text/plain": [
       "HBox(children=(FloatProgress(value=0.0, max=1390.0), HTML(value='')))"
      ]
     },
     "metadata": {},
     "output_type": "display_data"
    },
    {
     "name": "stdout",
     "output_type": "stream",
     "text": [
      "\n",
      "[0.007910862400633715, 0.00448796995858098, 0.006772553451412562, 0.0023690622971027156, 0.0009352933180152169, 0.0014853041766527504, 0.0020745599842239898, 0.007099364417869995]\n"
     ]
    },
    {
     "data": {
      "application/vnd.jupyter.widget-view+json": {
       "model_id": "5a93e64967d7420f9bd1e6ced0157f83",
       "version_major": 2,
       "version_minor": 0
      },
      "text/plain": [
       "HBox(children=(FloatProgress(value=0.0, max=1392.0), HTML(value='')))"
      ]
     },
     "metadata": {},
     "output_type": "display_data"
    },
    {
     "name": "stdout",
     "output_type": "stream",
     "text": [
      "\n",
      "[0.007910862400633715, 0.00448796995858098, 0.006772553451412562, 0.0023690622971027156, 0.0009352933180152169, 0.0014853041766527504, 0.0020745599842239898, 0.007099364417869995]\n"
     ]
    },
    {
     "data": {
      "application/vnd.jupyter.widget-view+json": {
       "model_id": "dc29d272ca16439baabff4a903d2c11d",
       "version_major": 2,
       "version_minor": 0
      },
      "text/plain": [
       "HBox(children=(FloatProgress(value=0.0, max=1391.0), HTML(value='')))"
      ]
     },
     "metadata": {},
     "output_type": "display_data"
    },
    {
     "name": "stdout",
     "output_type": "stream",
     "text": [
      "\n",
      "[0.007910862400633715, 0.00448796995858098, 0.006772553451412562, 0.0023690622971027156, 0.0009352933180152169, 0.0014853041766527504, 0.0020745599842239898, 0.007099364417869995]\n"
     ]
    },
    {
     "data": {
      "application/vnd.jupyter.widget-view+json": {
       "model_id": "eb6b07b44aed43e2a4f8a2292b999f03",
       "version_major": 2,
       "version_minor": 0
      },
      "text/plain": [
       "HBox(children=(FloatProgress(value=0.0, max=1391.0), HTML(value='')))"
      ]
     },
     "metadata": {},
     "output_type": "display_data"
    },
    {
     "name": "stdout",
     "output_type": "stream",
     "text": [
      "\n",
      "[0.007910862400633715, 0.00448796995858098, 0.006772553451412562, 0.0023690622971027156, 0.0009352933180152169, 0.0014853041766527504, 0.0020745599842239898, 0.007099364417869995]\n"
     ]
    },
    {
     "data": {
      "application/vnd.jupyter.widget-view+json": {
       "model_id": "d6c1d29d4cb8456786c1baf8d31bcd18",
       "version_major": 2,
       "version_minor": 0
      },
      "text/plain": [
       "HBox(children=(FloatProgress(value=0.0, max=1392.0), HTML(value='')))"
      ]
     },
     "metadata": {},
     "output_type": "display_data"
    },
    {
     "name": "stdout",
     "output_type": "stream",
     "text": [
      "\n",
      "[0.007910862400633715, 0.00448796995858098, 0.006772553451412562, 0.0023690622971027156, 0.0009352933180152169, 0.0014853041766527504, 0.0020745599842239898, 0.007099364417869995]\n"
     ]
    },
    {
     "data": {
      "application/vnd.jupyter.widget-view+json": {
       "model_id": "af56b79d49384fccb65d47afe4b3bd2d",
       "version_major": 2,
       "version_minor": 0
      },
      "text/plain": [
       "HBox(children=(FloatProgress(value=0.0, max=1391.0), HTML(value='')))"
      ]
     },
     "metadata": {},
     "output_type": "display_data"
    },
    {
     "name": "stdout",
     "output_type": "stream",
     "text": [
      "\n",
      "[0.007910862400633715, 0.00448796995858098, 0.006772553451412562, 0.0023690622971027156, 0.0009352933180152169, 0.0014853041766527504, 0.0020745599842239898, 0.007099364417869995]\n"
     ]
    },
    {
     "data": {
      "application/vnd.jupyter.widget-view+json": {
       "model_id": "57118a7b70364e1f9de4bc50ba483258",
       "version_major": 2,
       "version_minor": 0
      },
      "text/plain": [
       "HBox(children=(FloatProgress(value=0.0, max=1390.0), HTML(value='')))"
      ]
     },
     "metadata": {},
     "output_type": "display_data"
    },
    {
     "name": "stdout",
     "output_type": "stream",
     "text": [
      "\n",
      "[0.007910862400633715, 0.00448796995858098, 0.006772553451412562, 0.0023690622971027156, 0.0009352933180152169, 0.0014853041766527504, 0.0020745599842239898, 0.007099364417869995]\n"
     ]
    },
    {
     "data": {
      "application/vnd.jupyter.widget-view+json": {
       "model_id": "286f17074d4744eb8a54fafb6750c8b5",
       "version_major": 2,
       "version_minor": 0
      },
      "text/plain": [
       "HBox(children=(FloatProgress(value=0.0, max=1391.0), HTML(value='')))"
      ]
     },
     "metadata": {},
     "output_type": "display_data"
    },
    {
     "name": "stdout",
     "output_type": "stream",
     "text": [
      "\n",
      "[0.007910862400633715, 0.00448796995858098, 0.006772553451412562, 0.0023690622971027156, 0.0009352933180152169, 0.0014853041766527504, 0.0020745599842239898, 0.007099364417869995]\n"
     ]
    },
    {
     "data": {
      "application/vnd.jupyter.widget-view+json": {
       "model_id": "149884549f754f6cb30a851801e06956",
       "version_major": 2,
       "version_minor": 0
      },
      "text/plain": [
       "HBox(children=(FloatProgress(value=0.0, max=1391.0), HTML(value='')))"
      ]
     },
     "metadata": {},
     "output_type": "display_data"
    },
    {
     "name": "stdout",
     "output_type": "stream",
     "text": [
      "\n",
      "[0.007910862400633715, 0.00448796995858098, 0.006772553451412562, 0.0023690622971027156, 0.0009352933180152169, 0.0014853041766527504, 0.0020745599842239898, 0.007099364417869995]\n"
     ]
    },
    {
     "data": {
      "application/vnd.jupyter.widget-view+json": {
       "model_id": "e9eabb92b21346f9894f1445e90a6fcd",
       "version_major": 2,
       "version_minor": 0
      },
      "text/plain": [
       "HBox(children=(FloatProgress(value=0.0, max=1391.0), HTML(value='')))"
      ]
     },
     "metadata": {},
     "output_type": "display_data"
    },
    {
     "name": "stdout",
     "output_type": "stream",
     "text": [
      "\n",
      "[0.007910862400633715, 0.00448796995858098, 0.006772553451412562, 0.0023690622971027156, 0.0009352933180152169, 0.0014853041766527504, 0.0020745599842239898, 0.007099364417869995]\n"
     ]
    },
    {
     "data": {
      "application/vnd.jupyter.widget-view+json": {
       "model_id": "6d3b8773d21e4b5eada9021c0b9c4478",
       "version_major": 2,
       "version_minor": 0
      },
      "text/plain": [
       "HBox(children=(FloatProgress(value=0.0, max=1392.0), HTML(value='')))"
      ]
     },
     "metadata": {},
     "output_type": "display_data"
    },
    {
     "name": "stdout",
     "output_type": "stream",
     "text": [
      "\n",
      "[0.007910862400633715, 0.00448796995858098, 0.006772553451412562, 0.0023690622971027156, 0.0009352933180152169, 0.0014853041766527504, 0.0020745599842239898, 0.007099364417869995]\n"
     ]
    },
    {
     "data": {
      "application/vnd.jupyter.widget-view+json": {
       "model_id": "52bd73d5ecb24330ab3145eaf87ab05a",
       "version_major": 2,
       "version_minor": 0
      },
      "text/plain": [
       "HBox(children=(FloatProgress(value=0.0, max=1390.0), HTML(value='')))"
      ]
     },
     "metadata": {},
     "output_type": "display_data"
    },
    {
     "name": "stdout",
     "output_type": "stream",
     "text": [
      "\n",
      "[0.007910862400633715, 0.00448796995858098, 0.006772553451412562, 0.0023690622971027156, 0.0009352933180152169, 0.0014853041766527504, 0.0020745599842239898, 0.007099364417869995]\n"
     ]
    },
    {
     "data": {
      "application/vnd.jupyter.widget-view+json": {
       "model_id": "76024ad9e98b45c490e2e40b90736cfd",
       "version_major": 2,
       "version_minor": 0
      },
      "text/plain": [
       "HBox(children=(FloatProgress(value=0.0, max=1391.0), HTML(value='')))"
      ]
     },
     "metadata": {},
     "output_type": "display_data"
    },
    {
     "name": "stdout",
     "output_type": "stream",
     "text": [
      "\n",
      "[0.007910862400633715, 0.00448796995858098, 0.006772553451412562, 0.0023690622971027156, 0.0009352933180152169, 0.0014853041766527504, 0.0020745599842239898, 0.007099364417869995]\n"
     ]
    },
    {
     "data": {
      "application/vnd.jupyter.widget-view+json": {
       "model_id": "0eb34e7f744d424d93cc971c4ddcff79",
       "version_major": 2,
       "version_minor": 0
      },
      "text/plain": [
       "HBox(children=(FloatProgress(value=0.0, max=1392.0), HTML(value='')))"
      ]
     },
     "metadata": {},
     "output_type": "display_data"
    },
    {
     "name": "stdout",
     "output_type": "stream",
     "text": [
      "\n",
      "[0.007910862400633715, 0.00448796995858098, 0.006772553451412562, 0.0023690622971027156, 0.0009352933180152169, 0.0014853041766527504, 0.0020745599842239898, 0.007099364417869995]\n"
     ]
    },
    {
     "data": {
      "application/vnd.jupyter.widget-view+json": {
       "model_id": "36d859176ccb4cd8be89c7ddbfde5c80",
       "version_major": 2,
       "version_minor": 0
      },
      "text/plain": [
       "HBox(children=(FloatProgress(value=0.0, max=1390.0), HTML(value='')))"
      ]
     },
     "metadata": {},
     "output_type": "display_data"
    },
    {
     "name": "stdout",
     "output_type": "stream",
     "text": [
      "\n",
      "[0.007910862400633715, 0.00448796995858098, 0.006772553451412562, 0.0023690622971027156, 0.0009352933180152169, 0.0014853041766527504, 0.0020745599842239898, 0.007099364417869995]\n"
     ]
    },
    {
     "data": {
      "application/vnd.jupyter.widget-view+json": {
       "model_id": "17372ecdfa504f0996f7ad90074e6797",
       "version_major": 2,
       "version_minor": 0
      },
      "text/plain": [
       "HBox(children=(FloatProgress(value=0.0, max=1391.0), HTML(value='')))"
      ]
     },
     "metadata": {},
     "output_type": "display_data"
    },
    {
     "name": "stdout",
     "output_type": "stream",
     "text": [
      "\n",
      "[0.007910862400633715, 0.00448796995858098, 0.006772553451412562, 0.0023690622971027156, 0.0009352933180152169, 0.0014853041766527504, 0.0020745599842239898, 0.007099364417869995]\n"
     ]
    },
    {
     "data": {
      "application/vnd.jupyter.widget-view+json": {
       "model_id": "95c47992d1c14ba3943899f98849bcdd",
       "version_major": 2,
       "version_minor": 0
      },
      "text/plain": [
       "HBox(children=(FloatProgress(value=0.0, max=1391.0), HTML(value='')))"
      ]
     },
     "metadata": {},
     "output_type": "display_data"
    },
    {
     "name": "stdout",
     "output_type": "stream",
     "text": [
      "\n",
      "[0.007910862400633715, 0.00448796995858098, 0.006772553451412562, 0.0023690622971027156, 0.0009352933180152169, 0.0014853041766527504, 0.0020745599842239898, 0.007099364417869995]\n"
     ]
    },
    {
     "data": {
      "application/vnd.jupyter.widget-view+json": {
       "model_id": "d88802c91e0d445a9eb57d0209c46548",
       "version_major": 2,
       "version_minor": 0
      },
      "text/plain": [
       "HBox(children=(FloatProgress(value=0.0, max=1392.0), HTML(value='')))"
      ]
     },
     "metadata": {},
     "output_type": "display_data"
    },
    {
     "name": "stdout",
     "output_type": "stream",
     "text": [
      "\n",
      "[0.007910862400633715, 0.00448796995858098, 0.006772553451412562, 0.0023690622971027156, 0.0009352933180152169, 0.0014853041766527504, 0.0020745599842239898, 0.007099364417869995]\n"
     ]
    },
    {
     "data": {
      "application/vnd.jupyter.widget-view+json": {
       "model_id": "c5254b38840b425fbbe9c28f6f6fe5a5",
       "version_major": 2,
       "version_minor": 0
      },
      "text/plain": [
       "HBox(children=(FloatProgress(value=0.0, max=1391.0), HTML(value='')))"
      ]
     },
     "metadata": {},
     "output_type": "display_data"
    },
    {
     "name": "stdout",
     "output_type": "stream",
     "text": [
      "\n",
      "[0.007910862400633715, 0.00448796995858098, 0.006772553451412562, 0.0023690622971027156, 0.0009352933180152169, 0.0014853041766527504, 0.0020745599842239898, 0.007099364417869995]\n"
     ]
    },
    {
     "data": {
      "application/vnd.jupyter.widget-view+json": {
       "model_id": "da8a50b29d9d40ab8cb83dd3ac572ba6",
       "version_major": 2,
       "version_minor": 0
      },
      "text/plain": [
       "HBox(children=(FloatProgress(value=0.0, max=1390.0), HTML(value='')))"
      ]
     },
     "metadata": {},
     "output_type": "display_data"
    },
    {
     "name": "stdout",
     "output_type": "stream",
     "text": [
      "\n",
      "[0.007910862400633715, 0.00448796995858098, 0.006772553451412562, 0.0023690622971027156, 0.0009352933180152169, 0.0014853041766527504, 0.0020745599842239898, 0.007099364417869995]\n"
     ]
    },
    {
     "data": {
      "application/vnd.jupyter.widget-view+json": {
       "model_id": "4126edefcab44148b8fbea4687ec3a78",
       "version_major": 2,
       "version_minor": 0
      },
      "text/plain": [
       "HBox(children=(FloatProgress(value=0.0, max=1391.0), HTML(value='')))"
      ]
     },
     "metadata": {},
     "output_type": "display_data"
    },
    {
     "name": "stdout",
     "output_type": "stream",
     "text": [
      "\n",
      "[0.007910862400633715, 0.00448796995858098, 0.006772553451412562, 0.0023690622971027156, 0.0009352933180152169, 0.0014853041766527504, 0.0020745599842239898, 0.007099364417869995]\n"
     ]
    },
    {
     "data": {
      "application/vnd.jupyter.widget-view+json": {
       "model_id": "5574a343948841efab8332576fd1d02b",
       "version_major": 2,
       "version_minor": 0
      },
      "text/plain": [
       "HBox(children=(FloatProgress(value=0.0, max=1390.0), HTML(value='')))"
      ]
     },
     "metadata": {},
     "output_type": "display_data"
    },
    {
     "name": "stdout",
     "output_type": "stream",
     "text": [
      "\n",
      "[0.007910862400633715, 0.00448796995858098, 0.006772553451412562, 0.0023690622971027156, 0.0009352933180152169, 0.0014853041766527504, 0.0020745599842239898, 0.007099364417869995]\n"
     ]
    },
    {
     "data": {
      "application/vnd.jupyter.widget-view+json": {
       "model_id": "15369836c625441dbead88ef182c6692",
       "version_major": 2,
       "version_minor": 0
      },
      "text/plain": [
       "HBox(children=(FloatProgress(value=0.0, max=1392.0), HTML(value='')))"
      ]
     },
     "metadata": {},
     "output_type": "display_data"
    },
    {
     "name": "stdout",
     "output_type": "stream",
     "text": [
      "\n",
      "[0.007910862400633715, 0.00448796995858098, 0.006772553451412562, 0.0023690622971027156, 0.0009352933180152169, 0.0014853041766527504, 0.0020745599842239898, 0.007099364417869995]\n"
     ]
    },
    {
     "data": {
      "application/vnd.jupyter.widget-view+json": {
       "model_id": "007eb214c3a04eb990fe48b4a5c1909b",
       "version_major": 2,
       "version_minor": 0
      },
      "text/plain": [
       "HBox(children=(FloatProgress(value=0.0, max=1391.0), HTML(value='')))"
      ]
     },
     "metadata": {},
     "output_type": "display_data"
    },
    {
     "name": "stdout",
     "output_type": "stream",
     "text": [
      "\n",
      "[0.007910862400633715, 0.00448796995858098, 0.006772553451412562, 0.0023690622971027156, 0.0009352933180152169, 0.0014853041766527504, 0.0020745599842239898, 0.007099364417869995]\n"
     ]
    },
    {
     "data": {
      "application/vnd.jupyter.widget-view+json": {
       "model_id": "17fa10c5008743a59ed1634d8ee335f8",
       "version_major": 2,
       "version_minor": 0
      },
      "text/plain": [
       "HBox(children=(FloatProgress(value=0.0, max=1390.0), HTML(value='')))"
      ]
     },
     "metadata": {},
     "output_type": "display_data"
    },
    {
     "name": "stdout",
     "output_type": "stream",
     "text": [
      "\n",
      "[0.007910862400633715, 0.00448796995858098, 0.006772553451412562, 0.0023690622971027156, 0.0009352933180152169, 0.0014853041766527504, 0.0020745599842239898, 0.007099364417869995]\n"
     ]
    },
    {
     "data": {
      "application/vnd.jupyter.widget-view+json": {
       "model_id": "574c9f633e2e431da887c914c5f39314",
       "version_major": 2,
       "version_minor": 0
      },
      "text/plain": [
       "HBox(children=(FloatProgress(value=0.0, max=1391.0), HTML(value='')))"
      ]
     },
     "metadata": {},
     "output_type": "display_data"
    },
    {
     "name": "stdout",
     "output_type": "stream",
     "text": [
      "\n",
      "[0.007910862400633715, 0.00448796995858098, 0.006772553451412562, 0.0023690622971027156, 0.0009352933180152169, 0.0014853041766527504, 0.0020745599842239898, 0.007099364417869995]\n"
     ]
    },
    {
     "data": {
      "application/vnd.jupyter.widget-view+json": {
       "model_id": "09b814a0249c47d088d6890699cc4beb",
       "version_major": 2,
       "version_minor": 0
      },
      "text/plain": [
       "HBox(children=(FloatProgress(value=0.0, max=1392.0), HTML(value='')))"
      ]
     },
     "metadata": {},
     "output_type": "display_data"
    },
    {
     "name": "stdout",
     "output_type": "stream",
     "text": [
      "\n",
      "[0.007910862400633715, 0.00448796995858098, 0.006772553451412562, 0.0023690622971027156, 0.0009352933180152169, 0.0014853041766527504, 0.0020745599842239898, 0.007099364417869995]\n"
     ]
    },
    {
     "data": {
      "application/vnd.jupyter.widget-view+json": {
       "model_id": "623f3f0919204960aaa2e8f0fd28fe02",
       "version_major": 2,
       "version_minor": 0
      },
      "text/plain": [
       "HBox(children=(FloatProgress(value=0.0, max=1391.0), HTML(value='')))"
      ]
     },
     "metadata": {},
     "output_type": "display_data"
    },
    {
     "name": "stdout",
     "output_type": "stream",
     "text": [
      "\n",
      "[0.007910862400633715, 0.00448796995858098, 0.006772553451412562, 0.0023690622971027156, 0.0009352933180152169, 0.0014853041766527504, 0.0020745599842239898, 0.007099364417869995]\n"
     ]
    },
    {
     "data": {
      "application/vnd.jupyter.widget-view+json": {
       "model_id": "d0843e5a2259498ea994223e78f499dc",
       "version_major": 2,
       "version_minor": 0
      },
      "text/plain": [
       "HBox(children=(FloatProgress(value=0.0, max=1391.0), HTML(value='')))"
      ]
     },
     "metadata": {},
     "output_type": "display_data"
    },
    {
     "name": "stdout",
     "output_type": "stream",
     "text": [
      "\n",
      "[0.007910862400633715, 0.00448796995858098, 0.006772553451412562, 0.0023690622971027156, 0.0009352933180152169, 0.0014853041766527504, 0.0020745599842239898, 0.007099364417869995]\n"
     ]
    },
    {
     "data": {
      "application/vnd.jupyter.widget-view+json": {
       "model_id": "f1252ee15c7a47eba36cd4b6342ed85b",
       "version_major": 2,
       "version_minor": 0
      },
      "text/plain": [
       "HBox(children=(FloatProgress(value=0.0, max=1392.0), HTML(value='')))"
      ]
     },
     "metadata": {},
     "output_type": "display_data"
    },
    {
     "name": "stdout",
     "output_type": "stream",
     "text": [
      "\n",
      "[0.007910862400633715, 0.00448796995858098, 0.006772553451412562, 0.0023690622971027156, 0.0009352933180152169, 0.0014853041766527504, 0.0020745599842239898, 0.007099364417869995]\n"
     ]
    },
    {
     "data": {
      "application/vnd.jupyter.widget-view+json": {
       "model_id": "7be1e89c15c14047a2f7ef49925b5f16",
       "version_major": 2,
       "version_minor": 0
      },
      "text/plain": [
       "HBox(children=(FloatProgress(value=0.0, max=1390.0), HTML(value='')))"
      ]
     },
     "metadata": {},
     "output_type": "display_data"
    },
    {
     "name": "stdout",
     "output_type": "stream",
     "text": [
      "\n",
      "[0.007910862400633715, 0.00448796995858098, 0.006772553451412562, 0.0023690622971027156, 0.0009352933180152169, 0.0014853041766527504, 0.0020745599842239898, 0.007099364417869995]\n"
     ]
    },
    {
     "data": {
      "application/vnd.jupyter.widget-view+json": {
       "model_id": "ad7ca771cb264d6b9c8b8f4b6c4b2599",
       "version_major": 2,
       "version_minor": 0
      },
      "text/plain": [
       "HBox(children=(FloatProgress(value=0.0, max=1391.0), HTML(value='')))"
      ]
     },
     "metadata": {},
     "output_type": "display_data"
    },
    {
     "name": "stdout",
     "output_type": "stream",
     "text": [
      "\n",
      "[0.007910862400633715, 0.00448796995858098, 0.006772553451412562, 0.0023690622971027156, 0.0009352933180152169, 0.0014853041766527504, 0.0020745599842239898, 0.007099364417869995]\n"
     ]
    },
    {
     "data": {
      "application/vnd.jupyter.widget-view+json": {
       "model_id": "11c323a8063b4c159ed96404bf39ed5c",
       "version_major": 2,
       "version_minor": 0
      },
      "text/plain": [
       "HBox(children=(FloatProgress(value=0.0, max=1391.0), HTML(value='')))"
      ]
     },
     "metadata": {},
     "output_type": "display_data"
    },
    {
     "name": "stdout",
     "output_type": "stream",
     "text": [
      "\n",
      "[0.007910862400633715, 0.00448796995858098, 0.006772553451412562, 0.0023690622971027156, 0.0009352933180152169, 0.0014853041766527504, 0.0020745599842239898, 0.007099364417869995]\n"
     ]
    },
    {
     "data": {
      "application/vnd.jupyter.widget-view+json": {
       "model_id": "454ed2b4e94d44c1be5de33f0e1f3fc6",
       "version_major": 2,
       "version_minor": 0
      },
      "text/plain": [
       "HBox(children=(FloatProgress(value=0.0, max=1390.0), HTML(value='')))"
      ]
     },
     "metadata": {},
     "output_type": "display_data"
    },
    {
     "name": "stdout",
     "output_type": "stream",
     "text": [
      "\n",
      "[0.007910862400633715, 0.00448796995858098, 0.006772553451412562, 0.0023690622971027156, 0.0009352933180152169, 0.0014853041766527504, 0.0020745599842239898, 0.007099364417869995]\n"
     ]
    },
    {
     "data": {
      "application/vnd.jupyter.widget-view+json": {
       "model_id": "a1fcd15f5a61402281e9370c984c8578",
       "version_major": 2,
       "version_minor": 0
      },
      "text/plain": [
       "HBox(children=(FloatProgress(value=0.0, max=1392.0), HTML(value='')))"
      ]
     },
     "metadata": {},
     "output_type": "display_data"
    },
    {
     "name": "stdout",
     "output_type": "stream",
     "text": [
      "\n",
      "[0.007910862400633715, 0.00448796995858098, 0.006772553451412562, 0.0023690622971027156, 0.0009352933180152169, 0.0014853041766527504, 0.0020745599842239898, 0.007099364417869995]\n"
     ]
    },
    {
     "data": {
      "application/vnd.jupyter.widget-view+json": {
       "model_id": "0cae9f67ac0846cf91c047c01a9c33a6",
       "version_major": 2,
       "version_minor": 0
      },
      "text/plain": [
       "HBox(children=(FloatProgress(value=0.0, max=1391.0), HTML(value='')))"
      ]
     },
     "metadata": {},
     "output_type": "display_data"
    },
    {
     "name": "stdout",
     "output_type": "stream",
     "text": [
      "\n",
      "[0.007910862400633715, 0.00448796995858098, 0.006772553451412562, 0.0023690622971027156, 0.0009352933180152169, 0.0014853041766527504, 0.0020745599842239898, 0.007099364417869995]\n"
     ]
    },
    {
     "data": {
      "application/vnd.jupyter.widget-view+json": {
       "model_id": "3c5eb1b1b2a2478bbed77a89a675d7c1",
       "version_major": 2,
       "version_minor": 0
      },
      "text/plain": [
       "HBox(children=(FloatProgress(value=0.0, max=1392.0), HTML(value='')))"
      ]
     },
     "metadata": {},
     "output_type": "display_data"
    },
    {
     "name": "stdout",
     "output_type": "stream",
     "text": [
      "\n",
      "[0.007910862400633715, 0.00448796995858098, 0.006772553451412562, 0.0023690622971027156, 0.0009352933180152169, 0.0014853041766527504, 0.0020745599842239898, 0.007099364417869995]\n"
     ]
    },
    {
     "data": {
      "application/vnd.jupyter.widget-view+json": {
       "model_id": "0ab6816e30f145fa92ccd77d06e227e2",
       "version_major": 2,
       "version_minor": 0
      },
      "text/plain": [
       "HBox(children=(FloatProgress(value=0.0, max=1391.0), HTML(value='')))"
      ]
     },
     "metadata": {},
     "output_type": "display_data"
    },
    {
     "name": "stdout",
     "output_type": "stream",
     "text": [
      "\n",
      "[0.007910862400633715, 0.00448796995858098, 0.006772553451412562, 0.0023690622971027156, 0.0009352933180152169, 0.0014853041766527504, 0.0020745599842239898, 0.007099364417869995]\n"
     ]
    },
    {
     "data": {
      "application/vnd.jupyter.widget-view+json": {
       "model_id": "b74a13260b6d408a9d6a1fcf6b15769e",
       "version_major": 2,
       "version_minor": 0
      },
      "text/plain": [
       "HBox(children=(FloatProgress(value=0.0, max=1390.0), HTML(value='')))"
      ]
     },
     "metadata": {},
     "output_type": "display_data"
    },
    {
     "name": "stdout",
     "output_type": "stream",
     "text": [
      "\n",
      "[0.007910862400633715, 0.00448796995858098, 0.006772553451412562, 0.0023690622971027156, 0.0009352933180152169, 0.0014853041766527504, 0.0020745599842239898, 0.007099364417869995]\n"
     ]
    },
    {
     "data": {
      "application/vnd.jupyter.widget-view+json": {
       "model_id": "2ebd0d03b1a8456dba459131760db08e",
       "version_major": 2,
       "version_minor": 0
      },
      "text/plain": [
       "HBox(children=(FloatProgress(value=0.0, max=1391.0), HTML(value='')))"
      ]
     },
     "metadata": {},
     "output_type": "display_data"
    },
    {
     "name": "stdout",
     "output_type": "stream",
     "text": [
      "\n",
      "[0.007910862400633715, 0.00448796995858098, 0.006772553451412562, 0.0023690622971027156, 0.0009352933180152169, 0.0014853041766527504, 0.0020745599842239898, 0.007099364417869995]\n"
     ]
    },
    {
     "data": {
      "application/vnd.jupyter.widget-view+json": {
       "model_id": "1296da8b6fc44fefa0681148f0218165",
       "version_major": 2,
       "version_minor": 0
      },
      "text/plain": [
       "HBox(children=(FloatProgress(value=0.0, max=1391.0), HTML(value='')))"
      ]
     },
     "metadata": {},
     "output_type": "display_data"
    },
    {
     "name": "stdout",
     "output_type": "stream",
     "text": [
      "\n",
      "[0.007910862400633715, 0.00448796995858098, 0.006772553451412562, 0.0023690622971027156, 0.0009352933180152169, 0.0014853041766527504, 0.0020745599842239898, 0.007099364417869995]\n"
     ]
    },
    {
     "data": {
      "application/vnd.jupyter.widget-view+json": {
       "model_id": "2302d85c80a64fb89f132f38614cc672",
       "version_major": 2,
       "version_minor": 0
      },
      "text/plain": [
       "HBox(children=(FloatProgress(value=0.0, max=1390.0), HTML(value='')))"
      ]
     },
     "metadata": {},
     "output_type": "display_data"
    },
    {
     "name": "stdout",
     "output_type": "stream",
     "text": [
      "\n",
      "[0.007910862400633715, 0.00448796995858098, 0.006772553451412562, 0.0023690622971027156, 0.0009352933180152169, 0.0014853041766527504, 0.0020745599842239898, 0.007099364417869995]\n"
     ]
    },
    {
     "data": {
      "application/vnd.jupyter.widget-view+json": {
       "model_id": "71e5400fa30f4939a6e54f80d6375909",
       "version_major": 2,
       "version_minor": 0
      },
      "text/plain": [
       "HBox(children=(FloatProgress(value=0.0, max=1392.0), HTML(value='')))"
      ]
     },
     "metadata": {},
     "output_type": "display_data"
    },
    {
     "name": "stdout",
     "output_type": "stream",
     "text": [
      "\n",
      "[0.007910862400633715, 0.00448796995858098, 0.006772553451412562, 0.0023690622971027156, 0.0009352933180152169, 0.0014853041766527504, 0.0020745599842239898, 0.007099364417869995]\n"
     ]
    },
    {
     "data": {
      "application/vnd.jupyter.widget-view+json": {
       "model_id": "00f3db99a2e44c138812b1d90c1035b8",
       "version_major": 2,
       "version_minor": 0
      },
      "text/plain": [
       "HBox(children=(FloatProgress(value=0.0, max=1391.0), HTML(value='')))"
      ]
     },
     "metadata": {},
     "output_type": "display_data"
    },
    {
     "name": "stdout",
     "output_type": "stream",
     "text": [
      "\n",
      "[0.007910862400633715, 0.00448796995858098, 0.006772553451412562, 0.0023690622971027156, 0.0009352933180152169, 0.0014853041766527504, 0.0020745599842239898, 0.007099364417869995]\n"
     ]
    },
    {
     "data": {
      "application/vnd.jupyter.widget-view+json": {
       "model_id": "29a74f1b5f7a4c32a976cd13400b45bb",
       "version_major": 2,
       "version_minor": 0
      },
      "text/plain": [
       "HBox(children=(FloatProgress(value=0.0, max=1390.0), HTML(value='')))"
      ]
     },
     "metadata": {},
     "output_type": "display_data"
    },
    {
     "name": "stdout",
     "output_type": "stream",
     "text": [
      "\n",
      "[0.007910862400633715, 0.00448796995858098, 0.006772553451412562, 0.0023690622971027156, 0.0009352933180152169, 0.0014853041766527504, 0.0020745599842239898, 0.007099364417869995]\n"
     ]
    },
    {
     "data": {
      "application/vnd.jupyter.widget-view+json": {
       "model_id": "2adcfb2c7e8c44a285716cab8d75f32c",
       "version_major": 2,
       "version_minor": 0
      },
      "text/plain": [
       "HBox(children=(FloatProgress(value=0.0, max=1391.0), HTML(value='')))"
      ]
     },
     "metadata": {},
     "output_type": "display_data"
    },
    {
     "name": "stdout",
     "output_type": "stream",
     "text": [
      "\n",
      "[0.007910862400633715, 0.00448796995858098, 0.006772553451412562, 0.0023690622971027156, 0.0009352933180152169, 0.0014853041766527504, 0.0020745599842239898, 0.007099364417869995]\n"
     ]
    },
    {
     "data": {
      "application/vnd.jupyter.widget-view+json": {
       "model_id": "c66b938419ed4c60abeacf02562aff05",
       "version_major": 2,
       "version_minor": 0
      },
      "text/plain": [
       "HBox(children=(FloatProgress(value=0.0, max=1392.0), HTML(value='')))"
      ]
     },
     "metadata": {},
     "output_type": "display_data"
    },
    {
     "name": "stdout",
     "output_type": "stream",
     "text": [
      "\n",
      "[0.007910862400633715, 0.00448796995858098, 0.006772553451412562, 0.0023690622971027156, 0.0009352933180152169, 0.0014853041766527504, 0.0020745599842239898, 0.007099364417869995]\n"
     ]
    },
    {
     "data": {
      "application/vnd.jupyter.widget-view+json": {
       "model_id": "052258c884b54d668a96a770f1e73d9a",
       "version_major": 2,
       "version_minor": 0
      },
      "text/plain": [
       "HBox(children=(FloatProgress(value=0.0, max=1390.0), HTML(value='')))"
      ]
     },
     "metadata": {},
     "output_type": "display_data"
    },
    {
     "name": "stdout",
     "output_type": "stream",
     "text": [
      "\n",
      "[0.007910862400633715, 0.00448796995858098, 0.006772553451412562, 0.0023690622971027156, 0.0009352933180152169, 0.0014853041766527504, 0.0020745599842239898, 0.007099364417869995]\n"
     ]
    },
    {
     "data": {
      "application/vnd.jupyter.widget-view+json": {
       "model_id": "ed548e968f1c4ab4a06ce2e5f29f43b5",
       "version_major": 2,
       "version_minor": 0
      },
      "text/plain": [
       "HBox(children=(FloatProgress(value=0.0, max=1391.0), HTML(value='')))"
      ]
     },
     "metadata": {},
     "output_type": "display_data"
    },
    {
     "name": "stdout",
     "output_type": "stream",
     "text": [
      "\n",
      "[0.007910862400633715, 0.00448796995858098, 0.006772553451412562, 0.0023690622971027156, 0.0009352933180152169, 0.0014853041766527504, 0.0020745599842239898, 0.007099364417869995]\n"
     ]
    },
    {
     "data": {
      "application/vnd.jupyter.widget-view+json": {
       "model_id": "ac3c9faea01849d586120b25c0b5e20b",
       "version_major": 2,
       "version_minor": 0
      },
      "text/plain": [
       "HBox(children=(FloatProgress(value=0.0, max=1391.0), HTML(value='')))"
      ]
     },
     "metadata": {},
     "output_type": "display_data"
    },
    {
     "name": "stdout",
     "output_type": "stream",
     "text": [
      "\n",
      "[0.007910862400633715, 0.00448796995858098, 0.006772553451412562, 0.0023690622971027156, 0.0009352933180152169, 0.0014853041766527504, 0.0020745599842239898, 0.007099364417869995]\n"
     ]
    },
    {
     "data": {
      "application/vnd.jupyter.widget-view+json": {
       "model_id": "7c65e8a1cfa44c4e817c15df3c4d1b58",
       "version_major": 2,
       "version_minor": 0
      },
      "text/plain": [
       "HBox(children=(FloatProgress(value=0.0, max=1392.0), HTML(value='')))"
      ]
     },
     "metadata": {},
     "output_type": "display_data"
    },
    {
     "name": "stdout",
     "output_type": "stream",
     "text": [
      "\n",
      "[0.007910862400633715, 0.00448796995858098, 0.006772553451412562, 0.0023690622971027156, 0.0009352933180152169, 0.0014853041766527504, 0.0020745599842239898, 0.007099364417869995]\n"
     ]
    },
    {
     "data": {
      "application/vnd.jupyter.widget-view+json": {
       "model_id": "d6719423606d42529d614be06627e3d0",
       "version_major": 2,
       "version_minor": 0
      },
      "text/plain": [
       "HBox(children=(FloatProgress(value=0.0, max=1390.0), HTML(value='')))"
      ]
     },
     "metadata": {},
     "output_type": "display_data"
    },
    {
     "name": "stdout",
     "output_type": "stream",
     "text": [
      "\n",
      "[0.007910862400633715, 0.00448796995858098, 0.006772553451412562, 0.0023690622971027156, 0.0009352933180152169, 0.0014853041766527504, 0.0020745599842239898, 0.007099364417869995]\n"
     ]
    },
    {
     "data": {
      "application/vnd.jupyter.widget-view+json": {
       "model_id": "342234f09a2549bfa8ad0f76d3d899e6",
       "version_major": 2,
       "version_minor": 0
      },
      "text/plain": [
       "HBox(children=(FloatProgress(value=0.0, max=1392.0), HTML(value='')))"
      ]
     },
     "metadata": {},
     "output_type": "display_data"
    },
    {
     "name": "stdout",
     "output_type": "stream",
     "text": [
      "\n",
      "[0.007910862400633715, 0.00448796995858098, 0.006772553451412562, 0.0023690622971027156, 0.0009352933180152169, 0.0014853041766527504, 0.0020745599842239898, 0.007099364417869995]\n"
     ]
    },
    {
     "data": {
      "application/vnd.jupyter.widget-view+json": {
       "model_id": "bf069c0a22ee40a2b449f06c3cff3740",
       "version_major": 2,
       "version_minor": 0
      },
      "text/plain": [
       "HBox(children=(FloatProgress(value=0.0, max=1391.0), HTML(value='')))"
      ]
     },
     "metadata": {},
     "output_type": "display_data"
    },
    {
     "name": "stdout",
     "output_type": "stream",
     "text": [
      "\n",
      "[0.007910862400633715, 0.00448796995858098, 0.006772553451412562, 0.0023690622971027156, 0.0009352933180152169, 0.0014853041766527504, 0.0020745599842239898, 0.007099364417869995]\n"
     ]
    },
    {
     "data": {
      "application/vnd.jupyter.widget-view+json": {
       "model_id": "7eacbb2165794968b1e799acf5cd5806",
       "version_major": 2,
       "version_minor": 0
      },
      "text/plain": [
       "HBox(children=(FloatProgress(value=0.0, max=1391.0), HTML(value='')))"
      ]
     },
     "metadata": {},
     "output_type": "display_data"
    },
    {
     "name": "stdout",
     "output_type": "stream",
     "text": [
      "\n",
      "[0.007910862400633715, 0.00448796995858098, 0.006772553451412562, 0.0023690622971027156, 0.0009352933180152169, 0.0014853041766527504, 0.0020745599842239898, 0.007099364417869995]\n"
     ]
    },
    {
     "data": {
      "application/vnd.jupyter.widget-view+json": {
       "model_id": "ff8c06978b2d4849b55775235696289d",
       "version_major": 2,
       "version_minor": 0
      },
      "text/plain": [
       "HBox(children=(FloatProgress(value=0.0, max=1391.0), HTML(value='')))"
      ]
     },
     "metadata": {},
     "output_type": "display_data"
    },
    {
     "name": "stdout",
     "output_type": "stream",
     "text": [
      "\n",
      "[0.007910862400633715, 0.00448796995858098, 0.006772553451412562, 0.0023690622971027156, 0.0009352933180152169, 0.0014853041766527504, 0.0020745599842239898, 0.007099364417869995]\n"
     ]
    },
    {
     "data": {
      "application/vnd.jupyter.widget-view+json": {
       "model_id": "e61ad611abc6461f9d6e8c9179cbfadb",
       "version_major": 2,
       "version_minor": 0
      },
      "text/plain": [
       "HBox(children=(FloatProgress(value=0.0, max=1392.0), HTML(value='')))"
      ]
     },
     "metadata": {},
     "output_type": "display_data"
    },
    {
     "name": "stdout",
     "output_type": "stream",
     "text": [
      "\n",
      "[0.007910862400633715, 0.00448796995858098, 0.006772553451412562, 0.0023690622971027156, 0.0009352933180152169, 0.0014853041766527504, 0.0020745599842239898, 0.007099364417869995]\n"
     ]
    },
    {
     "data": {
      "application/vnd.jupyter.widget-view+json": {
       "model_id": "8866f13923594a608128f0013327fe60",
       "version_major": 2,
       "version_minor": 0
      },
      "text/plain": [
       "HBox(children=(FloatProgress(value=0.0, max=1390.0), HTML(value='')))"
      ]
     },
     "metadata": {},
     "output_type": "display_data"
    },
    {
     "name": "stdout",
     "output_type": "stream",
     "text": [
      "\n",
      "[0.007910862400633715, 0.00448796995858098, 0.006772553451412562, 0.0023690622971027156, 0.0009352933180152169, 0.0014853041766527504, 0.0020745599842239898, 0.007099364417869995]\n"
     ]
    },
    {
     "data": {
      "application/vnd.jupyter.widget-view+json": {
       "model_id": "a3b760e43b0e43219532e1a89841eac5",
       "version_major": 2,
       "version_minor": 0
      },
      "text/plain": [
       "HBox(children=(FloatProgress(value=0.0, max=1391.0), HTML(value='')))"
      ]
     },
     "metadata": {},
     "output_type": "display_data"
    },
    {
     "name": "stdout",
     "output_type": "stream",
     "text": [
      "\n",
      "[0.007910862400633715, 0.00448796995858098, 0.006772553451412562, 0.0023690622971027156, 0.0009352933180152169, 0.0014853041766527504, 0.0020745599842239898, 0.007099364417869995]\n"
     ]
    },
    {
     "data": {
      "application/vnd.jupyter.widget-view+json": {
       "model_id": "0a70e429313444e8a680f3b4b91d014d",
       "version_major": 2,
       "version_minor": 0
      },
      "text/plain": [
       "HBox(children=(FloatProgress(value=0.0, max=1392.0), HTML(value='')))"
      ]
     },
     "metadata": {},
     "output_type": "display_data"
    },
    {
     "name": "stdout",
     "output_type": "stream",
     "text": [
      "\n",
      "[0.007910862400633715, 0.00448796995858098, 0.006772553451412562, 0.0023690622971027156, 0.0009352933180152169, 0.0014853041766527504, 0.0020745599842239898, 0.007099364417869995]\n"
     ]
    },
    {
     "data": {
      "application/vnd.jupyter.widget-view+json": {
       "model_id": "4a006cf21689459db863f13e46e91e41",
       "version_major": 2,
       "version_minor": 0
      },
      "text/plain": [
       "HBox(children=(FloatProgress(value=0.0, max=1390.0), HTML(value='')))"
      ]
     },
     "metadata": {},
     "output_type": "display_data"
    },
    {
     "name": "stdout",
     "output_type": "stream",
     "text": [
      "\n",
      "[0.007910862400633715, 0.00448796995858098, 0.006772553451412562, 0.0023690622971027156, 0.0009352933180152169, 0.0014853041766527504, 0.0020745599842239898, 0.007099364417869995]\n"
     ]
    },
    {
     "data": {
      "application/vnd.jupyter.widget-view+json": {
       "model_id": "7b809e4c24cc46e0bafa9494a45ed20d",
       "version_major": 2,
       "version_minor": 0
      },
      "text/plain": [
       "HBox(children=(FloatProgress(value=0.0, max=1391.0), HTML(value='')))"
      ]
     },
     "metadata": {},
     "output_type": "display_data"
    },
    {
     "name": "stdout",
     "output_type": "stream",
     "text": [
      "\n",
      "[0.007910862400633715, 0.00448796995858098, 0.006772553451412562, 0.0023690622971027156, 0.0009352933180152169, 0.0014853041766527504, 0.0020745599842239898, 0.007099364417869995]\n"
     ]
    },
    {
     "data": {
      "application/vnd.jupyter.widget-view+json": {
       "model_id": "860a112873e047599719100f050fff59",
       "version_major": 2,
       "version_minor": 0
      },
      "text/plain": [
       "HBox(children=(FloatProgress(value=0.0, max=1390.0), HTML(value='')))"
      ]
     },
     "metadata": {},
     "output_type": "display_data"
    },
    {
     "name": "stdout",
     "output_type": "stream",
     "text": [
      "\n",
      "[0.007910862400633715, 0.00448796995858098, 0.006772553451412562, 0.0023690622971027156, 0.0009352933180152169, 0.0014853041766527504, 0.0020745599842239898, 0.007099364417869995]\n"
     ]
    },
    {
     "data": {
      "application/vnd.jupyter.widget-view+json": {
       "model_id": "e1465bd10e3249259303f01f3088c3c9",
       "version_major": 2,
       "version_minor": 0
      },
      "text/plain": [
       "HBox(children=(FloatProgress(value=0.0, max=1392.0), HTML(value='')))"
      ]
     },
     "metadata": {},
     "output_type": "display_data"
    },
    {
     "name": "stdout",
     "output_type": "stream",
     "text": [
      "\n",
      "[0.007910862400633715, 0.00448796995858098, 0.006772553451412562, 0.0023690622971027156, 0.0009352933180152169, 0.0014853041766527504, 0.0020745599842239898, 0.007099364417869995]\n"
     ]
    },
    {
     "data": {
      "application/vnd.jupyter.widget-view+json": {
       "model_id": "4036fe9dc7e048a3a7ef58f8760027e3",
       "version_major": 2,
       "version_minor": 0
      },
      "text/plain": [
       "HBox(children=(FloatProgress(value=0.0, max=1391.0), HTML(value='')))"
      ]
     },
     "metadata": {},
     "output_type": "display_data"
    },
    {
     "name": "stdout",
     "output_type": "stream",
     "text": [
      "\n",
      "[0.007910862400633715, 0.00448796995858098, 0.006772553451412562, 0.0023690622971027156, 0.0009352933180152169, 0.0014853041766527504, 0.0020745599842239898, 0.007099364417869995]\n"
     ]
    },
    {
     "data": {
      "application/vnd.jupyter.widget-view+json": {
       "model_id": "e8c1475e7e4c47e0a89045036a090df5",
       "version_major": 2,
       "version_minor": 0
      },
      "text/plain": [
       "HBox(children=(FloatProgress(value=0.0, max=1391.0), HTML(value='')))"
      ]
     },
     "metadata": {},
     "output_type": "display_data"
    },
    {
     "name": "stdout",
     "output_type": "stream",
     "text": [
      "\n",
      "[0.007910862400633715, 0.00448796995858098, 0.006772553451412562, 0.0023690622971027156, 0.0009352933180152169, 0.0014853041766527504, 0.0020745599842239898, 0.007099364417869995]\n"
     ]
    },
    {
     "data": {
      "application/vnd.jupyter.widget-view+json": {
       "model_id": "6f5559b63f8e4bbd9d877ca742399f4a",
       "version_major": 2,
       "version_minor": 0
      },
      "text/plain": [
       "HBox(children=(FloatProgress(value=0.0, max=1391.0), HTML(value='')))"
      ]
     },
     "metadata": {},
     "output_type": "display_data"
    },
    {
     "name": "stdout",
     "output_type": "stream",
     "text": [
      "\n",
      "[0.007910862400633715, 0.00448796995858098, 0.006772553451412562, 0.0023690622971027156, 0.0009352933180152169, 0.0014853041766527504, 0.0020745599842239898, 0.007099364417869995]\n"
     ]
    },
    {
     "data": {
      "application/vnd.jupyter.widget-view+json": {
       "model_id": "a2a336972ac948af8770c398fb6e8727",
       "version_major": 2,
       "version_minor": 0
      },
      "text/plain": [
       "HBox(children=(FloatProgress(value=0.0, max=1392.0), HTML(value='')))"
      ]
     },
     "metadata": {},
     "output_type": "display_data"
    },
    {
     "name": "stdout",
     "output_type": "stream",
     "text": [
      "\n",
      "[0.007910862400633715, 0.00448796995858098, 0.006772553451412562, 0.0023690622971027156, 0.0009352933180152169, 0.0014853041766527504, 0.0020745599842239898, 0.007099364417869995]\n"
     ]
    },
    {
     "data": {
      "application/vnd.jupyter.widget-view+json": {
       "model_id": "0891bed476d843b08762ab60a782ed7d",
       "version_major": 2,
       "version_minor": 0
      },
      "text/plain": [
       "HBox(children=(FloatProgress(value=0.0, max=1390.0), HTML(value='')))"
      ]
     },
     "metadata": {},
     "output_type": "display_data"
    },
    {
     "name": "stdout",
     "output_type": "stream",
     "text": [
      "\n",
      "[0.007910862400633715, 0.00448796995858098, 0.006772553451412562, 0.0023690622971027156, 0.0009352933180152169, 0.0014853041766527504, 0.0020745599842239898, 0.007099364417869995]\n"
     ]
    },
    {
     "data": {
      "application/vnd.jupyter.widget-view+json": {
       "model_id": "4cc0e8905f6a434cb1011333934b1976",
       "version_major": 2,
       "version_minor": 0
      },
      "text/plain": [
       "HBox(children=(FloatProgress(value=0.0, max=1391.0), HTML(value='')))"
      ]
     },
     "metadata": {},
     "output_type": "display_data"
    },
    {
     "name": "stdout",
     "output_type": "stream",
     "text": [
      "\n",
      "[0.007910862400633715, 0.00448796995858098, 0.006772553451412562, 0.0023690622971027156, 0.0009352933180152169, 0.0014853041766527504, 0.0020745599842239898, 0.007099364417869995]\n"
     ]
    },
    {
     "data": {
      "application/vnd.jupyter.widget-view+json": {
       "model_id": "defa2c676f8c4c55aa3833c7d6481be1",
       "version_major": 2,
       "version_minor": 0
      },
      "text/plain": [
       "HBox(children=(FloatProgress(value=0.0, max=1392.0), HTML(value='')))"
      ]
     },
     "metadata": {},
     "output_type": "display_data"
    },
    {
     "name": "stdout",
     "output_type": "stream",
     "text": [
      "\n",
      "[0.007910862400633715, 0.00448796995858098, 0.006772553451412562, 0.0023690622971027156, 0.0009352933180152169, 0.0014853041766527504, 0.0020745599842239898, 0.007099364417869995]\n"
     ]
    },
    {
     "data": {
      "application/vnd.jupyter.widget-view+json": {
       "model_id": "7b6ba567ce944203a6704ac0d741c65b",
       "version_major": 2,
       "version_minor": 0
      },
      "text/plain": [
       "HBox(children=(FloatProgress(value=0.0, max=1390.0), HTML(value='')))"
      ]
     },
     "metadata": {},
     "output_type": "display_data"
    },
    {
     "name": "stdout",
     "output_type": "stream",
     "text": [
      "\n",
      "[0.007910862400633715, 0.00448796995858098, 0.006772553451412562, 0.0023690622971027156, 0.0009352933180152169, 0.0014853041766527504, 0.0020745599842239898, 0.007099364417869995]\n"
     ]
    },
    {
     "data": {
      "application/vnd.jupyter.widget-view+json": {
       "model_id": "cd6a8887ae6b401e9e82d0371f787a18",
       "version_major": 2,
       "version_minor": 0
      },
      "text/plain": [
       "HBox(children=(FloatProgress(value=0.0, max=1391.0), HTML(value='')))"
      ]
     },
     "metadata": {},
     "output_type": "display_data"
    },
    {
     "name": "stdout",
     "output_type": "stream",
     "text": [
      "\n",
      "[0.007910862400633715, 0.00448796995858098, 0.006772553451412562, 0.0023690622971027156, 0.0009352933180152169, 0.0014853041766527504, 0.0020745599842239898, 0.007099364417869995]\n"
     ]
    },
    {
     "data": {
      "application/vnd.jupyter.widget-view+json": {
       "model_id": "c85e35acafc44f8cb980773e2a33ddcd",
       "version_major": 2,
       "version_minor": 0
      },
      "text/plain": [
       "HBox(children=(FloatProgress(value=0.0, max=1391.0), HTML(value='')))"
      ]
     },
     "metadata": {},
     "output_type": "display_data"
    },
    {
     "name": "stdout",
     "output_type": "stream",
     "text": [
      "\n",
      "[0.007910862400633715, 0.00448796995858098, 0.006772553451412562, 0.0023690622971027156, 0.0009352933180152169, 0.0014853041766527504, 0.0020745599842239898, 0.007099364417869995]\n"
     ]
    },
    {
     "data": {
      "application/vnd.jupyter.widget-view+json": {
       "model_id": "dc89cb28b37940c2a6bbee73a86a8535",
       "version_major": 2,
       "version_minor": 0
      },
      "text/plain": [
       "HBox(children=(FloatProgress(value=0.0, max=1392.0), HTML(value='')))"
      ]
     },
     "metadata": {},
     "output_type": "display_data"
    },
    {
     "name": "stdout",
     "output_type": "stream",
     "text": [
      "\n",
      "[0.007910862400633715, 0.00448796995858098, 0.006772553451412562, 0.0023690622971027156, 0.0009352933180152169, 0.0014853041766527504, 0.0020745599842239898, 0.007099364417869995]\n"
     ]
    },
    {
     "data": {
      "application/vnd.jupyter.widget-view+json": {
       "model_id": "3cd5d5204261407181d99c10b5102065",
       "version_major": 2,
       "version_minor": 0
      },
      "text/plain": [
       "HBox(children=(FloatProgress(value=0.0, max=1391.0), HTML(value='')))"
      ]
     },
     "metadata": {},
     "output_type": "display_data"
    },
    {
     "name": "stdout",
     "output_type": "stream",
     "text": [
      "\n",
      "[0.007910862400633715, 0.00448796995858098, 0.006772553451412562, 0.0023690622971027156, 0.0009352933180152169, 0.0014853041766527504, 0.0020745599842239898, 0.007099364417869995]\n"
     ]
    },
    {
     "data": {
      "application/vnd.jupyter.widget-view+json": {
       "model_id": "5e7f8a3c12204cfaa514a03f94f807ea",
       "version_major": 2,
       "version_minor": 0
      },
      "text/plain": [
       "HBox(children=(FloatProgress(value=0.0, max=1391.0), HTML(value='')))"
      ]
     },
     "metadata": {},
     "output_type": "display_data"
    },
    {
     "name": "stdout",
     "output_type": "stream",
     "text": [
      "\n",
      "[0.007910862400633715, 0.00448796995858098, 0.006772553451412562, 0.0023690622971027156, 0.0009352933180152169, 0.0014853041766527504, 0.0020745599842239898, 0.007099364417869995]\n"
     ]
    },
    {
     "data": {
      "application/vnd.jupyter.widget-view+json": {
       "model_id": "6fd8ad483bd94e6e932b367d11c54e99",
       "version_major": 2,
       "version_minor": 0
      },
      "text/plain": [
       "HBox(children=(FloatProgress(value=0.0, max=1390.0), HTML(value='')))"
      ]
     },
     "metadata": {},
     "output_type": "display_data"
    },
    {
     "name": "stdout",
     "output_type": "stream",
     "text": [
      "\n",
      "[0.007910862400633715, 0.00448796995858098, 0.006772553451412562, 0.0023690622971027156, 0.0009352933180152169, 0.0014853041766527504, 0.0020745599842239898, 0.007099364417869995]\n"
     ]
    },
    {
     "data": {
      "application/vnd.jupyter.widget-view+json": {
       "model_id": "773b1c46e0ab4a969b86045f8ad2a16a",
       "version_major": 2,
       "version_minor": 0
      },
      "text/plain": [
       "HBox(children=(FloatProgress(value=0.0, max=1391.0), HTML(value='')))"
      ]
     },
     "metadata": {},
     "output_type": "display_data"
    },
    {
     "name": "stdout",
     "output_type": "stream",
     "text": [
      "\n",
      "[0.007910862400633715, 0.00448796995858098, 0.006772553451412562, 0.0023690622971027156, 0.0009352933180152169, 0.0014853041766527504, 0.0020745599842239898, 0.007099364417869995]\n"
     ]
    },
    {
     "data": {
      "application/vnd.jupyter.widget-view+json": {
       "model_id": "757f07df74514691aa4b6d2df03c41f2",
       "version_major": 2,
       "version_minor": 0
      },
      "text/plain": [
       "HBox(children=(FloatProgress(value=0.0, max=1392.0), HTML(value='')))"
      ]
     },
     "metadata": {},
     "output_type": "display_data"
    },
    {
     "name": "stdout",
     "output_type": "stream",
     "text": [
      "\n",
      "[0.007910862400633715, 0.00448796995858098, 0.006772553451412562, 0.0023690622971027156, 0.0009352933180152169, 0.0014853041766527504, 0.0020745599842239898, 0.007099364417869995]\n"
     ]
    },
    {
     "data": {
      "application/vnd.jupyter.widget-view+json": {
       "model_id": "e555fdde35ec4a14bc85d8dcd4eda529",
       "version_major": 2,
       "version_minor": 0
      },
      "text/plain": [
       "HBox(children=(FloatProgress(value=0.0, max=1391.0), HTML(value='')))"
      ]
     },
     "metadata": {},
     "output_type": "display_data"
    },
    {
     "name": "stdout",
     "output_type": "stream",
     "text": [
      "\n",
      "[0.007910862400633715, 0.00448796995858098, 0.006772553451412562, 0.0023690622971027156, 0.0009352933180152169, 0.0014853041766527504, 0.0020745599842239898, 0.007099364417869995]\n"
     ]
    },
    {
     "data": {
      "application/vnd.jupyter.widget-view+json": {
       "model_id": "28308b0b492d4ccd9dd17ae72a66f555",
       "version_major": 2,
       "version_minor": 0
      },
      "text/plain": [
       "HBox(children=(FloatProgress(value=0.0, max=1390.0), HTML(value='')))"
      ]
     },
     "metadata": {},
     "output_type": "display_data"
    },
    {
     "name": "stdout",
     "output_type": "stream",
     "text": [
      "\n",
      "[0.007910862400633715, 0.00448796995858098, 0.006772553451412562, 0.0023690622971027156, 0.0009352933180152169, 0.0014853041766527504, 0.0020745599842239898, 0.007099364417869995]\n"
     ]
    },
    {
     "data": {
      "application/vnd.jupyter.widget-view+json": {
       "model_id": "687642957790424fa2b65f1169155d78",
       "version_major": 2,
       "version_minor": 0
      },
      "text/plain": [
       "HBox(children=(FloatProgress(value=0.0, max=1392.0), HTML(value='')))"
      ]
     },
     "metadata": {},
     "output_type": "display_data"
    },
    {
     "name": "stdout",
     "output_type": "stream",
     "text": [
      "\n",
      "[0.007910862400633715, 0.00448796995858098, 0.006772553451412562, 0.0023690622971027156, 0.0009352933180152169, 0.0014853041766527504, 0.0020745599842239898, 0.007099364417869995]\n"
     ]
    },
    {
     "data": {
      "application/vnd.jupyter.widget-view+json": {
       "model_id": "46a805c136e144e0ad98c4d5e25faae7",
       "version_major": 2,
       "version_minor": 0
      },
      "text/plain": [
       "HBox(children=(FloatProgress(value=0.0, max=1391.0), HTML(value='')))"
      ]
     },
     "metadata": {},
     "output_type": "display_data"
    },
    {
     "name": "stdout",
     "output_type": "stream",
     "text": [
      "\n",
      "[0.007910862400633715, 0.00448796995858098, 0.006772553451412562, 0.0023690622971027156, 0.0009352933180152169, 0.0014853041766527504, 0.0020745599842239898, 0.007099364417869995]\n"
     ]
    },
    {
     "data": {
      "application/vnd.jupyter.widget-view+json": {
       "model_id": "fb2bb9c552634fb89b4ea9724b87bd1a",
       "version_major": 2,
       "version_minor": 0
      },
      "text/plain": [
       "HBox(children=(FloatProgress(value=0.0, max=1390.0), HTML(value='')))"
      ]
     },
     "metadata": {},
     "output_type": "display_data"
    },
    {
     "name": "stdout",
     "output_type": "stream",
     "text": [
      "\n",
      "[0.007910862400633715, 0.00448796995858098, 0.006772553451412562, 0.0023690622971027156, 0.0009352933180152169, 0.0014853041766527504, 0.0020745599842239898, 0.007099364417869995]\n"
     ]
    },
    {
     "data": {
      "application/vnd.jupyter.widget-view+json": {
       "model_id": "40ccb396f04242caa017d8a1924ccc12",
       "version_major": 2,
       "version_minor": 0
      },
      "text/plain": [
       "HBox(children=(FloatProgress(value=0.0, max=1391.0), HTML(value='')))"
      ]
     },
     "metadata": {},
     "output_type": "display_data"
    },
    {
     "name": "stdout",
     "output_type": "stream",
     "text": [
      "\n",
      "[0.007910862400633715, 0.00448796995858098, 0.006772553451412562, 0.0023690622971027156, 0.0009352933180152169, 0.0014853041766527504, 0.0020745599842239898, 0.007099364417869995]\n"
     ]
    },
    {
     "data": {
      "application/vnd.jupyter.widget-view+json": {
       "model_id": "023e4363b55644dda32246f5350fdfd8",
       "version_major": 2,
       "version_minor": 0
      },
      "text/plain": [
       "HBox(children=(FloatProgress(value=0.0, max=1392.0), HTML(value='')))"
      ]
     },
     "metadata": {},
     "output_type": "display_data"
    },
    {
     "name": "stdout",
     "output_type": "stream",
     "text": [
      "\n",
      "[0.007910862400633715, 0.00448796995858098, 0.006772553451412562, 0.0023690622971027156, 0.0009352933180152169, 0.0014853041766527504, 0.0020745599842239898, 0.007099364417869995]\n"
     ]
    },
    {
     "data": {
      "application/vnd.jupyter.widget-view+json": {
       "model_id": "ede131d5f85848fbba6d2b47371338bc",
       "version_major": 2,
       "version_minor": 0
      },
      "text/plain": [
       "HBox(children=(FloatProgress(value=0.0, max=1391.0), HTML(value='')))"
      ]
     },
     "metadata": {},
     "output_type": "display_data"
    },
    {
     "name": "stdout",
     "output_type": "stream",
     "text": [
      "\n",
      "[0.007910862400633715, 0.00448796995858098, 0.006772553451412562, 0.0023690622971027156, 0.0009352933180152169, 0.0014853041766527504, 0.0020745599842239898, 0.007099364417869995]\n"
     ]
    },
    {
     "data": {
      "application/vnd.jupyter.widget-view+json": {
       "model_id": "c28d8ff8d75742a0a0e6fd9699be0571",
       "version_major": 2,
       "version_minor": 0
      },
      "text/plain": [
       "HBox(children=(FloatProgress(value=0.0, max=1390.0), HTML(value='')))"
      ]
     },
     "metadata": {},
     "output_type": "display_data"
    },
    {
     "name": "stdout",
     "output_type": "stream",
     "text": [
      "\n",
      "[0.007910862400633715, 0.00448796995858098, 0.006772553451412562, 0.0023690622971027156, 0.0009352933180152169, 0.0014853041766527504, 0.0020745599842239898, 0.007099364417869995]\n"
     ]
    },
    {
     "data": {
      "application/vnd.jupyter.widget-view+json": {
       "model_id": "827cbf8352aa4c43bf2d5aa927e3a52e",
       "version_major": 2,
       "version_minor": 0
      },
      "text/plain": [
       "HBox(children=(FloatProgress(value=0.0, max=1391.0), HTML(value='')))"
      ]
     },
     "metadata": {},
     "output_type": "display_data"
    },
    {
     "name": "stdout",
     "output_type": "stream",
     "text": [
      "\n",
      "[0.007910862400633715, 0.00448796995858098, 0.006772553451412562, 0.0023690622971027156, 0.0009352933180152169, 0.0014853041766527504, 0.0020745599842239898, 0.007099364417869995]\n"
     ]
    },
    {
     "data": {
      "application/vnd.jupyter.widget-view+json": {
       "model_id": "2895344f1362412aa3b6196513e341d7",
       "version_major": 2,
       "version_minor": 0
      },
      "text/plain": [
       "HBox(children=(FloatProgress(value=0.0, max=1390.0), HTML(value='')))"
      ]
     },
     "metadata": {},
     "output_type": "display_data"
    },
    {
     "name": "stdout",
     "output_type": "stream",
     "text": [
      "\n",
      "[0.007910862400633715, 0.00448796995858098, 0.006772553451412562, 0.0023690622971027156, 0.0009352933180152169, 0.0014853041766527504, 0.0020745599842239898, 0.007099364417869995]\n"
     ]
    },
    {
     "data": {
      "application/vnd.jupyter.widget-view+json": {
       "model_id": "9b8efcb40b2e46f2a1135a47ea426a8e",
       "version_major": 2,
       "version_minor": 0
      },
      "text/plain": [
       "HBox(children=(FloatProgress(value=0.0, max=1391.0), HTML(value='')))"
      ]
     },
     "metadata": {},
     "output_type": "display_data"
    },
    {
     "name": "stdout",
     "output_type": "stream",
     "text": [
      "\n",
      "[0.007910862400633715, 0.00448796995858098, 0.006772553451412562, 0.0023690622971027156, 0.0009352933180152169, 0.0014853041766527504, 0.0020745599842239898, 0.007099364417869995]\n"
     ]
    },
    {
     "data": {
      "application/vnd.jupyter.widget-view+json": {
       "model_id": "2c33ac5a384d4a20a279eca09044aaac",
       "version_major": 2,
       "version_minor": 0
      },
      "text/plain": [
       "HBox(children=(FloatProgress(value=0.0, max=1392.0), HTML(value='')))"
      ]
     },
     "metadata": {},
     "output_type": "display_data"
    },
    {
     "name": "stdout",
     "output_type": "stream",
     "text": [
      "\n",
      "[0.007910862400633715, 0.00448796995858098, 0.006772553451412562, 0.0023690622971027156, 0.0009352933180152169, 0.0014853041766527504, 0.0020745599842239898, 0.007099364417869995]\n"
     ]
    },
    {
     "data": {
      "application/vnd.jupyter.widget-view+json": {
       "model_id": "86488d6a88a542df9cbf8900f5699e62",
       "version_major": 2,
       "version_minor": 0
      },
      "text/plain": [
       "HBox(children=(FloatProgress(value=0.0, max=1391.0), HTML(value='')))"
      ]
     },
     "metadata": {},
     "output_type": "display_data"
    },
    {
     "name": "stdout",
     "output_type": "stream",
     "text": [
      "\n",
      "[0.007910862400633715, 0.00448796995858098, 0.006772553451412562, 0.0023690622971027156, 0.0009352933180152169, 0.0014853041766527504, 0.0020745599842239898, 0.007099364417869995]\n"
     ]
    },
    {
     "data": {
      "application/vnd.jupyter.widget-view+json": {
       "model_id": "4e7d677780ba40319c907d6670566f8a",
       "version_major": 2,
       "version_minor": 0
      },
      "text/plain": [
       "HBox(children=(FloatProgress(value=0.0, max=1392.0), HTML(value='')))"
      ]
     },
     "metadata": {},
     "output_type": "display_data"
    },
    {
     "name": "stdout",
     "output_type": "stream",
     "text": [
      "\n",
      "[0.007910862400633715, 0.00448796995858098, 0.006772553451412562, 0.0023690622971027156, 0.0009352933180152169, 0.0014853041766527504, 0.0020745599842239898, 0.007099364417869995]\n"
     ]
    },
    {
     "data": {
      "application/vnd.jupyter.widget-view+json": {
       "model_id": "fca15a4101f440298c92d1796da9e9a7",
       "version_major": 2,
       "version_minor": 0
      },
      "text/plain": [
       "HBox(children=(FloatProgress(value=0.0, max=1391.0), HTML(value='')))"
      ]
     },
     "metadata": {},
     "output_type": "display_data"
    },
    {
     "name": "stdout",
     "output_type": "stream",
     "text": [
      "\n",
      "[0.007910862400633715, 0.00448796995858098, 0.006772553451412562, 0.0023690622971027156, 0.0009352933180152169, 0.0014853041766527504, 0.0020745599842239898, 0.007099364417869995]\n"
     ]
    },
    {
     "data": {
      "application/vnd.jupyter.widget-view+json": {
       "model_id": "f49ce1ca7e4e4719a8c4c1a066ae043e",
       "version_major": 2,
       "version_minor": 0
      },
      "text/plain": [
       "HBox(children=(FloatProgress(value=0.0, max=1390.0), HTML(value='')))"
      ]
     },
     "metadata": {},
     "output_type": "display_data"
    },
    {
     "name": "stdout",
     "output_type": "stream",
     "text": [
      "\n",
      "[0.007910862400633715, 0.00448796995858098, 0.006772553451412562, 0.0023690622971027156, 0.0009352933180152169, 0.0014853041766527504, 0.0020745599842239898, 0.007099364417869995]\n"
     ]
    },
    {
     "data": {
      "application/vnd.jupyter.widget-view+json": {
       "model_id": "374cc91f494d4daea0c8db1fd71b9f0b",
       "version_major": 2,
       "version_minor": 0
      },
      "text/plain": [
       "HBox(children=(FloatProgress(value=0.0, max=1391.0), HTML(value='')))"
      ]
     },
     "metadata": {},
     "output_type": "display_data"
    },
    {
     "name": "stdout",
     "output_type": "stream",
     "text": [
      "\n",
      "[0.007910862400633715, 0.00448796995858098, 0.006772553451412562, 0.0023690622971027156, 0.0009352933180152169, 0.0014853041766527504, 0.0020745599842239898, 0.007099364417869995]\n"
     ]
    },
    {
     "data": {
      "application/vnd.jupyter.widget-view+json": {
       "model_id": "3dab269849344d7ab90b659f3c5d7ba8",
       "version_major": 2,
       "version_minor": 0
      },
      "text/plain": [
       "HBox(children=(FloatProgress(value=0.0, max=1392.0), HTML(value='')))"
      ]
     },
     "metadata": {},
     "output_type": "display_data"
    },
    {
     "name": "stdout",
     "output_type": "stream",
     "text": [
      "\n",
      "[0.007910862400633715, 0.00448796995858098, 0.006772553451412562, 0.0023690622971027156, 0.0009352933180152169, 0.0014853041766527504, 0.0020745599842239898, 0.007099364417869995]\n"
     ]
    },
    {
     "data": {
      "application/vnd.jupyter.widget-view+json": {
       "model_id": "7cd3d5d8770f48099c3e194080403807",
       "version_major": 2,
       "version_minor": 0
      },
      "text/plain": [
       "HBox(children=(FloatProgress(value=0.0, max=1391.0), HTML(value='')))"
      ]
     },
     "metadata": {},
     "output_type": "display_data"
    },
    {
     "name": "stdout",
     "output_type": "stream",
     "text": [
      "\n",
      "[0.007910862400633715, 0.00448796995858098, 0.006772553451412562, 0.0023690622971027156, 0.0009352933180152169, 0.0014853041766527504, 0.0020745599842239898, 0.007099364417869995]\n"
     ]
    },
    {
     "data": {
      "application/vnd.jupyter.widget-view+json": {
       "model_id": "9b54b74f1a044f199c479cccb0c10aa4",
       "version_major": 2,
       "version_minor": 0
      },
      "text/plain": [
       "HBox(children=(FloatProgress(value=0.0, max=1390.0), HTML(value='')))"
      ]
     },
     "metadata": {},
     "output_type": "display_data"
    },
    {
     "name": "stdout",
     "output_type": "stream",
     "text": [
      "\n",
      "[0.007910862400633715, 0.00448796995858098, 0.006772553451412562, 0.0023690622971027156, 0.0009352933180152169, 0.0014853041766527504, 0.0020745599842239898, 0.007099364417869995]\n"
     ]
    },
    {
     "data": {
      "application/vnd.jupyter.widget-view+json": {
       "model_id": "6eaf6f531ddd44fbb58325087ce5556a",
       "version_major": 2,
       "version_minor": 0
      },
      "text/plain": [
       "HBox(children=(FloatProgress(value=0.0, max=1391.0), HTML(value='')))"
      ]
     },
     "metadata": {},
     "output_type": "display_data"
    },
    {
     "name": "stdout",
     "output_type": "stream",
     "text": [
      "\n",
      "[0.007910862400633715, 0.00448796995858098, 0.006772553451412562, 0.0023690622971027156, 0.0009352933180152169, 0.0014853041766527504, 0.0020745599842239898, 0.007099364417869995]\n"
     ]
    },
    {
     "data": {
      "application/vnd.jupyter.widget-view+json": {
       "model_id": "24647c7fecd74cbe9a584654bb671eaa",
       "version_major": 2,
       "version_minor": 0
      },
      "text/plain": [
       "HBox(children=(FloatProgress(value=0.0, max=1391.0), HTML(value='')))"
      ]
     },
     "metadata": {},
     "output_type": "display_data"
    },
    {
     "name": "stdout",
     "output_type": "stream",
     "text": [
      "\n",
      "[0.007910862400633715, 0.00448796995858098, 0.006772553451412562, 0.0023690622971027156, 0.0009352933180152169, 0.0014853041766527504, 0.0020745599842239898, 0.007099364417869995]\n"
     ]
    },
    {
     "data": {
      "application/vnd.jupyter.widget-view+json": {
       "model_id": "d6b954baf8e34a78a8c9dfa68eba4d58",
       "version_major": 2,
       "version_minor": 0
      },
      "text/plain": [
       "HBox(children=(FloatProgress(value=0.0, max=1391.0), HTML(value='')))"
      ]
     },
     "metadata": {},
     "output_type": "display_data"
    },
    {
     "name": "stdout",
     "output_type": "stream",
     "text": [
      "\n",
      "[0.007910862400633715, 0.00448796995858098, 0.006772553451412562, 0.0023690622971027156, 0.0009352933180152169, 0.0014853041766527504, 0.0020745599842239898, 0.007099364417869995]\n"
     ]
    },
    {
     "data": {
      "application/vnd.jupyter.widget-view+json": {
       "model_id": "54cce46f2a2f4a55b2755d21ee5fbb66",
       "version_major": 2,
       "version_minor": 0
      },
      "text/plain": [
       "HBox(children=(FloatProgress(value=0.0, max=1392.0), HTML(value='')))"
      ]
     },
     "metadata": {},
     "output_type": "display_data"
    },
    {
     "name": "stdout",
     "output_type": "stream",
     "text": [
      "\n",
      "[0.007910862400633715, 0.00448796995858098, 0.006772553451412562, 0.0023690622971027156, 0.0009352933180152169, 0.0014853041766527504, 0.0020745599842239898, 0.007099364417869995]\n"
     ]
    },
    {
     "data": {
      "application/vnd.jupyter.widget-view+json": {
       "model_id": "ecffb3b9d5204292a5fdb26d3dc0fb63",
       "version_major": 2,
       "version_minor": 0
      },
      "text/plain": [
       "HBox(children=(FloatProgress(value=0.0, max=1390.0), HTML(value='')))"
      ]
     },
     "metadata": {},
     "output_type": "display_data"
    },
    {
     "name": "stdout",
     "output_type": "stream",
     "text": [
      "\n",
      "[0.007910862400633715, 0.00448796995858098, 0.006772553451412562, 0.0023690622971027156, 0.0009352933180152169, 0.0014853041766527504, 0.0020745599842239898, 0.007099364417869995]\n"
     ]
    },
    {
     "data": {
      "application/vnd.jupyter.widget-view+json": {
       "model_id": "7eb77fa4394f427d8898f66315f75a4d",
       "version_major": 2,
       "version_minor": 0
      },
      "text/plain": [
       "HBox(children=(FloatProgress(value=0.0, max=1392.0), HTML(value='')))"
      ]
     },
     "metadata": {},
     "output_type": "display_data"
    },
    {
     "name": "stdout",
     "output_type": "stream",
     "text": [
      "\n",
      "[0.007910862400633715, 0.00448796995858098, 0.006772553451412562, 0.0023690622971027156, 0.0009352933180152169, 0.0014853041766527504, 0.0020745599842239898, 0.007099364417869995]\n"
     ]
    },
    {
     "data": {
      "application/vnd.jupyter.widget-view+json": {
       "model_id": "99d0f5af93994db796b31c1fbe4869be",
       "version_major": 2,
       "version_minor": 0
      },
      "text/plain": [
       "HBox(children=(FloatProgress(value=0.0, max=1390.0), HTML(value='')))"
      ]
     },
     "metadata": {},
     "output_type": "display_data"
    },
    {
     "name": "stdout",
     "output_type": "stream",
     "text": [
      "\n",
      "[0.007910862400633715, 0.00448796995858098, 0.006772553451412562, 0.0023690622971027156, 0.0009352933180152169, 0.0014853041766527504, 0.0020745599842239898, 0.007099364417869995]\n"
     ]
    },
    {
     "data": {
      "application/vnd.jupyter.widget-view+json": {
       "model_id": "7f6803e4be57470494558f6c2ace59bc",
       "version_major": 2,
       "version_minor": 0
      },
      "text/plain": [
       "HBox(children=(FloatProgress(value=0.0, max=1391.0), HTML(value='')))"
      ]
     },
     "metadata": {},
     "output_type": "display_data"
    },
    {
     "name": "stdout",
     "output_type": "stream",
     "text": [
      "\n",
      "[0.007910862400633715, 0.00448796995858098, 0.006772553451412562, 0.0023690622971027156, 0.0009352933180152169, 0.0014853041766527504, 0.0020745599842239898, 0.007099364417869995]\n"
     ]
    },
    {
     "data": {
      "application/vnd.jupyter.widget-view+json": {
       "model_id": "d7ed7294ce0e48c1bd4183a7478a8f8b",
       "version_major": 2,
       "version_minor": 0
      },
      "text/plain": [
       "HBox(children=(FloatProgress(value=0.0, max=1391.0), HTML(value='')))"
      ]
     },
     "metadata": {},
     "output_type": "display_data"
    },
    {
     "name": "stdout",
     "output_type": "stream",
     "text": [
      "\n",
      "[0.007910862400633715, 0.00448796995858098, 0.006772553451412562, 0.0023690622971027156, 0.0009352933180152169, 0.0014853041766527504, 0.0020745599842239898, 0.007099364417869995]\n"
     ]
    },
    {
     "data": {
      "application/vnd.jupyter.widget-view+json": {
       "model_id": "b6e24e41ace04713a295b1a813840a98",
       "version_major": 2,
       "version_minor": 0
      },
      "text/plain": [
       "HBox(children=(FloatProgress(value=0.0, max=1391.0), HTML(value='')))"
      ]
     },
     "metadata": {},
     "output_type": "display_data"
    },
    {
     "name": "stdout",
     "output_type": "stream",
     "text": [
      "\n",
      "[0.007910862400633715, 0.00448796995858098, 0.006772553451412562, 0.0023690622971027156, 0.0009352933180152169, 0.0014853041766527504, 0.0020745599842239898, 0.007099364417869995]\n"
     ]
    },
    {
     "data": {
      "application/vnd.jupyter.widget-view+json": {
       "model_id": "5c22ae92ddf64e3981a5dfd76e86c823",
       "version_major": 2,
       "version_minor": 0
      },
      "text/plain": [
       "HBox(children=(FloatProgress(value=0.0, max=1390.0), HTML(value='')))"
      ]
     },
     "metadata": {},
     "output_type": "display_data"
    },
    {
     "name": "stdout",
     "output_type": "stream",
     "text": [
      "\n",
      "[0.007910862400633715, 0.00448796995858098, 0.006772553451412562, 0.0023690622971027156, 0.0009352933180152169, 0.0014853041766527504, 0.0020745599842239898, 0.007099364417869995]\n"
     ]
    },
    {
     "data": {
      "application/vnd.jupyter.widget-view+json": {
       "model_id": "e47f9817ca554a608b04f3720f14198c",
       "version_major": 2,
       "version_minor": 0
      },
      "text/plain": [
       "HBox(children=(FloatProgress(value=0.0, max=1391.0), HTML(value='')))"
      ]
     },
     "metadata": {},
     "output_type": "display_data"
    },
    {
     "name": "stdout",
     "output_type": "stream",
     "text": [
      "\n",
      "[0.007910862400633715, 0.00448796995858098, 0.006772553451412562, 0.0023690622971027156, 0.0009352933180152169, 0.0014853041766527504, 0.0020745599842239898, 0.007099364417869995]\n"
     ]
    },
    {
     "data": {
      "application/vnd.jupyter.widget-view+json": {
       "model_id": "baef70d061dc4033abd5c6a46df8ea83",
       "version_major": 2,
       "version_minor": 0
      },
      "text/plain": [
       "HBox(children=(FloatProgress(value=0.0, max=1392.0), HTML(value='')))"
      ]
     },
     "metadata": {},
     "output_type": "display_data"
    },
    {
     "name": "stdout",
     "output_type": "stream",
     "text": [
      "\n",
      "[0.007910862400633715, 0.00448796995858098, 0.006772553451412562, 0.0023690622971027156, 0.0009352933180152169, 0.0014853041766527504, 0.0020745599842239898, 0.007099364417869995]\n"
     ]
    },
    {
     "data": {
      "application/vnd.jupyter.widget-view+json": {
       "model_id": "df9e704a170246508f46c12432f4b914",
       "version_major": 2,
       "version_minor": 0
      },
      "text/plain": [
       "HBox(children=(FloatProgress(value=0.0, max=1391.0), HTML(value='')))"
      ]
     },
     "metadata": {},
     "output_type": "display_data"
    },
    {
     "name": "stdout",
     "output_type": "stream",
     "text": [
      "\n",
      "[0.007910862400633715, 0.00448796995858098, 0.006772553451412562, 0.0023690622971027156, 0.0009352933180152169, 0.0014853041766527504, 0.0020745599842239898, 0.007099364417869995]\n"
     ]
    },
    {
     "data": {
      "application/vnd.jupyter.widget-view+json": {
       "model_id": "5999cb1df4874f849468ddd061575ed2",
       "version_major": 2,
       "version_minor": 0
      },
      "text/plain": [
       "HBox(children=(FloatProgress(value=0.0, max=1390.0), HTML(value='')))"
      ]
     },
     "metadata": {},
     "output_type": "display_data"
    },
    {
     "name": "stdout",
     "output_type": "stream",
     "text": [
      "\n",
      "[0.007910862400633715, 0.00448796995858098, 0.006772553451412562, 0.0023690622971027156, 0.0009352933180152169, 0.0014853041766527504, 0.0020745599842239898, 0.007099364417869995]\n"
     ]
    },
    {
     "data": {
      "application/vnd.jupyter.widget-view+json": {
       "model_id": "333039bb9a8245039fa7fcdf4c66576c",
       "version_major": 2,
       "version_minor": 0
      },
      "text/plain": [
       "HBox(children=(FloatProgress(value=0.0, max=1391.0), HTML(value='')))"
      ]
     },
     "metadata": {},
     "output_type": "display_data"
    },
    {
     "name": "stdout",
     "output_type": "stream",
     "text": [
      "\n",
      "[0.007910862400633715, 0.00448796995858098, 0.006772553451412562, 0.0023690622971027156, 0.0009352933180152169, 0.0014853041766527504, 0.0020745599842239898, 0.007099364417869995]\n"
     ]
    },
    {
     "data": {
      "application/vnd.jupyter.widget-view+json": {
       "model_id": "2d9fc22f64bb40218c36d04f56037f17",
       "version_major": 2,
       "version_minor": 0
      },
      "text/plain": [
       "HBox(children=(FloatProgress(value=0.0, max=1392.0), HTML(value='')))"
      ]
     },
     "metadata": {},
     "output_type": "display_data"
    },
    {
     "name": "stdout",
     "output_type": "stream",
     "text": [
      "\n",
      "[0.007910862400633715, 0.00448796995858098, 0.006772553451412562, 0.0023690622971027156, 0.0009352933180152169, 0.0014853041766527504, 0.0020745599842239898, 0.007099364417869995]\n"
     ]
    },
    {
     "data": {
      "application/vnd.jupyter.widget-view+json": {
       "model_id": "2bedf3f614ab4132a2c78f51af431858",
       "version_major": 2,
       "version_minor": 0
      },
      "text/plain": [
       "HBox(children=(FloatProgress(value=0.0, max=1391.0), HTML(value='')))"
      ]
     },
     "metadata": {},
     "output_type": "display_data"
    },
    {
     "name": "stdout",
     "output_type": "stream",
     "text": [
      "\n",
      "[0.007910862400633715, 0.00448796995858098, 0.006772553451412562, 0.0023690622971027156, 0.0009352933180152169, 0.0014853041766527504, 0.0020745599842239898, 0.007099364417869995]\n"
     ]
    },
    {
     "data": {
      "application/vnd.jupyter.widget-view+json": {
       "model_id": "7feb8a6b21734c8f94bf4621e5b5d81b",
       "version_major": 2,
       "version_minor": 0
      },
      "text/plain": [
       "HBox(children=(FloatProgress(value=0.0, max=1390.0), HTML(value='')))"
      ]
     },
     "metadata": {},
     "output_type": "display_data"
    },
    {
     "name": "stdout",
     "output_type": "stream",
     "text": [
      "\n",
      "[0.007910862400633715, 0.00448796995858098, 0.006772553451412562, 0.0023690622971027156, 0.0009352933180152169, 0.0014853041766527504, 0.0020745599842239898, 0.007099364417869995]\n"
     ]
    },
    {
     "data": {
      "application/vnd.jupyter.widget-view+json": {
       "model_id": "790016443b0d4430bfc3c46c07c5873d",
       "version_major": 2,
       "version_minor": 0
      },
      "text/plain": [
       "HBox(children=(FloatProgress(value=0.0, max=1392.0), HTML(value='')))"
      ]
     },
     "metadata": {},
     "output_type": "display_data"
    },
    {
     "name": "stdout",
     "output_type": "stream",
     "text": [
      "\n",
      "[0.007910862400633715, 0.00448796995858098, 0.006772553451412562, 0.0023690622971027156, 0.0009352933180152169, 0.0014853041766527504, 0.0020745599842239898, 0.007099364417869995]\n"
     ]
    },
    {
     "data": {
      "application/vnd.jupyter.widget-view+json": {
       "model_id": "efdbbe5c84b9478d8646b747a052a92d",
       "version_major": 2,
       "version_minor": 0
      },
      "text/plain": [
       "HBox(children=(FloatProgress(value=0.0, max=1391.0), HTML(value='')))"
      ]
     },
     "metadata": {},
     "output_type": "display_data"
    },
    {
     "name": "stdout",
     "output_type": "stream",
     "text": [
      "\n",
      "[0.007910862400633715, 0.00448796995858098, 0.006772553451412562, 0.0023690622971027156, 0.0009352933180152169, 0.0014853041766527504, 0.0020745599842239898, 0.007099364417869995]\n"
     ]
    },
    {
     "data": {
      "application/vnd.jupyter.widget-view+json": {
       "model_id": "e0ba778d8a484e8ca1f9ed6de910d33e",
       "version_major": 2,
       "version_minor": 0
      },
      "text/plain": [
       "HBox(children=(FloatProgress(value=0.0, max=1392.0), HTML(value='')))"
      ]
     },
     "metadata": {},
     "output_type": "display_data"
    },
    {
     "name": "stdout",
     "output_type": "stream",
     "text": [
      "\n",
      "[0.007910862400633715, 0.00448796995858098, 0.006772553451412562, 0.0023690622971027156, 0.0009352933180152169, 0.0014853041766527504, 0.0020745599842239898, 0.007099364417869995]\n"
     ]
    },
    {
     "data": {
      "application/vnd.jupyter.widget-view+json": {
       "model_id": "4e6ae4b14f38416fa684b84170ca7b4b",
       "version_major": 2,
       "version_minor": 0
      },
      "text/plain": [
       "HBox(children=(FloatProgress(value=0.0, max=1391.0), HTML(value='')))"
      ]
     },
     "metadata": {},
     "output_type": "display_data"
    },
    {
     "name": "stdout",
     "output_type": "stream",
     "text": [
      "\n",
      "[0.007910862400633715, 0.00448796995858098, 0.006772553451412562, 0.0023690622971027156, 0.0009352933180152169, 0.0014853041766527504, 0.0020745599842239898, 0.007099364417869995]\n"
     ]
    },
    {
     "data": {
      "application/vnd.jupyter.widget-view+json": {
       "model_id": "efe0d594ff414c59b0f4acdf7032269b",
       "version_major": 2,
       "version_minor": 0
      },
      "text/plain": [
       "HBox(children=(FloatProgress(value=0.0, max=1391.0), HTML(value='')))"
      ]
     },
     "metadata": {},
     "output_type": "display_data"
    },
    {
     "name": "stdout",
     "output_type": "stream",
     "text": [
      "\n",
      "[0.007910862400633715, 0.00448796995858098, 0.006772553451412562, 0.0023690622971027156, 0.0009352933180152169, 0.0014853041766527504, 0.0020745599842239898, 0.007099364417869995]\n"
     ]
    },
    {
     "data": {
      "application/vnd.jupyter.widget-view+json": {
       "model_id": "ad2df66bfb10445391075f2dd7ac87ba",
       "version_major": 2,
       "version_minor": 0
      },
      "text/plain": [
       "HBox(children=(FloatProgress(value=0.0, max=1390.0), HTML(value='')))"
      ]
     },
     "metadata": {},
     "output_type": "display_data"
    },
    {
     "name": "stdout",
     "output_type": "stream",
     "text": [
      "\n",
      "[0.007910862400633715, 0.00448796995858098, 0.006772553451412562, 0.0023690622971027156, 0.0009352933180152169, 0.0014853041766527504, 0.0020745599842239898, 0.007099364417869995]\n"
     ]
    },
    {
     "data": {
      "application/vnd.jupyter.widget-view+json": {
       "model_id": "a7d6294b9a7141bf8254e993dc931ba5",
       "version_major": 2,
       "version_minor": 0
      },
      "text/plain": [
       "HBox(children=(FloatProgress(value=0.0, max=1391.0), HTML(value='')))"
      ]
     },
     "metadata": {},
     "output_type": "display_data"
    },
    {
     "name": "stdout",
     "output_type": "stream",
     "text": [
      "\n",
      "[0.007910862400633715, 0.00448796995858098, 0.006772553451412562, 0.0023690622971027156, 0.0009352933180152169, 0.0014853041766527504, 0.0020745599842239898, 0.007099364417869995]\n"
     ]
    },
    {
     "data": {
      "application/vnd.jupyter.widget-view+json": {
       "model_id": "6e6f56d90e714127a3ab16737068d920",
       "version_major": 2,
       "version_minor": 0
      },
      "text/plain": [
       "HBox(children=(FloatProgress(value=0.0, max=1392.0), HTML(value='')))"
      ]
     },
     "metadata": {},
     "output_type": "display_data"
    },
    {
     "name": "stdout",
     "output_type": "stream",
     "text": [
      "\n",
      "[0.007910862400633715, 0.00448796995858098, 0.006772553451412562, 0.0023690622971027156, 0.0009352933180152169, 0.0014853041766527504, 0.0020745599842239898, 0.007099364417869995]\n"
     ]
    },
    {
     "data": {
      "application/vnd.jupyter.widget-view+json": {
       "model_id": "212df61280b54ea58c789de4975122c9",
       "version_major": 2,
       "version_minor": 0
      },
      "text/plain": [
       "HBox(children=(FloatProgress(value=0.0, max=1390.0), HTML(value='')))"
      ]
     },
     "metadata": {},
     "output_type": "display_data"
    },
    {
     "name": "stdout",
     "output_type": "stream",
     "text": [
      "\n",
      "[0.007910862400633715, 0.00448796995858098, 0.006772553451412562, 0.0023690622971027156, 0.0009352933180152169, 0.0014853041766527504, 0.0020745599842239898, 0.007099364417869995]\n"
     ]
    },
    {
     "data": {
      "application/vnd.jupyter.widget-view+json": {
       "model_id": "3bdcfac72a3d4aa0b260a430d056880b",
       "version_major": 2,
       "version_minor": 0
      },
      "text/plain": [
       "HBox(children=(FloatProgress(value=0.0, max=1391.0), HTML(value='')))"
      ]
     },
     "metadata": {},
     "output_type": "display_data"
    },
    {
     "name": "stdout",
     "output_type": "stream",
     "text": [
      "\n",
      "[0.007910862400633715, 0.00448796995858098, 0.006772553451412562, 0.0023690622971027156, 0.0009352933180152169, 0.0014853041766527504, 0.0020745599842239898, 0.007099364417869995]\n"
     ]
    },
    {
     "data": {
      "application/vnd.jupyter.widget-view+json": {
       "model_id": "642fdd3fb10f48f4b4db7272d1081f48",
       "version_major": 2,
       "version_minor": 0
      },
      "text/plain": [
       "HBox(children=(FloatProgress(value=0.0, max=1391.0), HTML(value='')))"
      ]
     },
     "metadata": {},
     "output_type": "display_data"
    },
    {
     "name": "stdout",
     "output_type": "stream",
     "text": [
      "\n",
      "[0.007910862400633715, 0.00448796995858098, 0.006772553451412562, 0.0023690622971027156, 0.0009352933180152169, 0.0014853041766527504, 0.0020745599842239898, 0.007099364417869995]\n"
     ]
    },
    {
     "data": {
      "application/vnd.jupyter.widget-view+json": {
       "model_id": "4aed7a5cb07d4982a5603890dc987594",
       "version_major": 2,
       "version_minor": 0
      },
      "text/plain": [
       "HBox(children=(FloatProgress(value=0.0, max=1391.0), HTML(value='')))"
      ]
     },
     "metadata": {},
     "output_type": "display_data"
    },
    {
     "name": "stdout",
     "output_type": "stream",
     "text": [
      "\n",
      "[0.007910862400633715, 0.00448796995858098, 0.006772553451412562, 0.0023690622971027156, 0.0009352933180152169, 0.0014853041766527504, 0.0020745599842239898, 0.007099364417869995]\n"
     ]
    },
    {
     "data": {
      "application/vnd.jupyter.widget-view+json": {
       "model_id": "293ba3f7780947b093ea1c18cba493b7",
       "version_major": 2,
       "version_minor": 0
      },
      "text/plain": [
       "HBox(children=(FloatProgress(value=0.0, max=1392.0), HTML(value='')))"
      ]
     },
     "metadata": {},
     "output_type": "display_data"
    },
    {
     "name": "stdout",
     "output_type": "stream",
     "text": [
      "\n",
      "[0.007910862400633715, 0.00448796995858098, 0.006772553451412562, 0.0023690622971027156, 0.0009352933180152169, 0.0014853041766527504, 0.0020745599842239898, 0.007099364417869995]\n"
     ]
    },
    {
     "data": {
      "application/vnd.jupyter.widget-view+json": {
       "model_id": "bcce1509ce374e3699189c6c2fd6009d",
       "version_major": 2,
       "version_minor": 0
      },
      "text/plain": [
       "HBox(children=(FloatProgress(value=0.0, max=1390.0), HTML(value='')))"
      ]
     },
     "metadata": {},
     "output_type": "display_data"
    },
    {
     "name": "stdout",
     "output_type": "stream",
     "text": [
      "\n",
      "[0.007910862400633715, 0.00448796995858098, 0.006772553451412562, 0.0023690622971027156, 0.0009352933180152169, 0.0014853041766527504, 0.0020745599842239898, 0.007099364417869995]\n"
     ]
    },
    {
     "data": {
      "application/vnd.jupyter.widget-view+json": {
       "model_id": "a20456248ac748c889d23d35465e1a55",
       "version_major": 2,
       "version_minor": 0
      },
      "text/plain": [
       "HBox(children=(FloatProgress(value=0.0, max=1391.0), HTML(value='')))"
      ]
     },
     "metadata": {},
     "output_type": "display_data"
    },
    {
     "name": "stdout",
     "output_type": "stream",
     "text": [
      "\n",
      "[0.007910862400633715, 0.00448796995858098, 0.006772553451412562, 0.0023690622971027156, 0.0009352933180152169, 0.0014853041766527504, 0.0020745599842239898, 0.007099364417869995]\n"
     ]
    },
    {
     "data": {
      "application/vnd.jupyter.widget-view+json": {
       "model_id": "f98a3e991e1c404a866c4aa9eac58a5e",
       "version_major": 2,
       "version_minor": 0
      },
      "text/plain": [
       "HBox(children=(FloatProgress(value=0.0, max=1390.0), HTML(value='')))"
      ]
     },
     "metadata": {},
     "output_type": "display_data"
    },
    {
     "name": "stdout",
     "output_type": "stream",
     "text": [
      "\n",
      "[0.007910862400633715, 0.00448796995858098, 0.006772553451412562, 0.0023690622971027156, 0.0009352933180152169, 0.0014853041766527504, 0.0020745599842239898, 0.007099364417869995]\n"
     ]
    },
    {
     "data": {
      "application/vnd.jupyter.widget-view+json": {
       "model_id": "78ecebe88fef420d8634594be8c5cfbe",
       "version_major": 2,
       "version_minor": 0
      },
      "text/plain": [
       "HBox(children=(FloatProgress(value=0.0, max=1392.0), HTML(value='')))"
      ]
     },
     "metadata": {},
     "output_type": "display_data"
    },
    {
     "name": "stdout",
     "output_type": "stream",
     "text": [
      "\n",
      "[0.007910862400633715, 0.00448796995858098, 0.006772553451412562, 0.0023690622971027156, 0.0009352933180152169, 0.0014853041766527504, 0.0020745599842239898, 0.007099364417869995]\n"
     ]
    },
    {
     "data": {
      "application/vnd.jupyter.widget-view+json": {
       "model_id": "895b0d884cc54b8fa15b624a38e9cd4a",
       "version_major": 2,
       "version_minor": 0
      },
      "text/plain": [
       "HBox(children=(FloatProgress(value=0.0, max=1391.0), HTML(value='')))"
      ]
     },
     "metadata": {},
     "output_type": "display_data"
    },
    {
     "name": "stdout",
     "output_type": "stream",
     "text": [
      "\n",
      "[0.007910862400633715, 0.00448796995858098, 0.006772553451412562, 0.0023690622971027156, 0.0009352933180152169, 0.0014853041766527504, 0.0020745599842239898, 0.007099364417869995]\n"
     ]
    },
    {
     "data": {
      "application/vnd.jupyter.widget-view+json": {
       "model_id": "ba590c5078214633b6b031251d72788f",
       "version_major": 2,
       "version_minor": 0
      },
      "text/plain": [
       "HBox(children=(FloatProgress(value=0.0, max=1392.0), HTML(value='')))"
      ]
     },
     "metadata": {},
     "output_type": "display_data"
    },
    {
     "name": "stdout",
     "output_type": "stream",
     "text": [
      "\n",
      "[0.007910862400633715, 0.00448796995858098, 0.006772553451412562, 0.0023690622971027156, 0.0009352933180152169, 0.0014853041766527504, 0.0020745599842239898, 0.007099364417869995]\n"
     ]
    },
    {
     "data": {
      "application/vnd.jupyter.widget-view+json": {
       "model_id": "a004fdce021c4e79941842be74f78835",
       "version_major": 2,
       "version_minor": 0
      },
      "text/plain": [
       "HBox(children=(FloatProgress(value=0.0, max=1391.0), HTML(value='')))"
      ]
     },
     "metadata": {},
     "output_type": "display_data"
    },
    {
     "name": "stdout",
     "output_type": "stream",
     "text": [
      "\n",
      "[0.007910862400633715, 0.00448796995858098, 0.006772553451412562, 0.0023690622971027156, 0.0009352933180152169, 0.0014853041766527504, 0.0020745599842239898, 0.007099364417869995]\n"
     ]
    },
    {
     "data": {
      "application/vnd.jupyter.widget-view+json": {
       "model_id": "2415202b018e41d9aeca4d364982576f",
       "version_major": 2,
       "version_minor": 0
      },
      "text/plain": [
       "HBox(children=(FloatProgress(value=0.0, max=1390.0), HTML(value='')))"
      ]
     },
     "metadata": {},
     "output_type": "display_data"
    },
    {
     "name": "stdout",
     "output_type": "stream",
     "text": [
      "\n",
      "[0.007910862400633715, 0.00448796995858098, 0.006772553451412562, 0.0023690622971027156, 0.0009352933180152169, 0.0014853041766527504, 0.0020745599842239898, 0.007099364417869995]\n"
     ]
    },
    {
     "data": {
      "application/vnd.jupyter.widget-view+json": {
       "model_id": "353e7c12cc3d4c24bfa8e80940a44120",
       "version_major": 2,
       "version_minor": 0
      },
      "text/plain": [
       "HBox(children=(FloatProgress(value=0.0, max=1391.0), HTML(value='')))"
      ]
     },
     "metadata": {},
     "output_type": "display_data"
    },
    {
     "name": "stdout",
     "output_type": "stream",
     "text": [
      "\n",
      "[0.007910862400633715, 0.00448796995858098, 0.006772553451412562, 0.0023690622971027156, 0.0009352933180152169, 0.0014853041766527504, 0.0020745599842239898, 0.007099364417869995]\n"
     ]
    },
    {
     "data": {
      "application/vnd.jupyter.widget-view+json": {
       "model_id": "208c3d13192442cfb1defc70671a29ef",
       "version_major": 2,
       "version_minor": 0
      },
      "text/plain": [
       "HBox(children=(FloatProgress(value=0.0, max=1392.0), HTML(value='')))"
      ]
     },
     "metadata": {},
     "output_type": "display_data"
    },
    {
     "name": "stdout",
     "output_type": "stream",
     "text": [
      "\n",
      "[0.007910862400633715, 0.00448796995858098, 0.006772553451412562, 0.0023690622971027156, 0.0009352933180152169, 0.0014853041766527504, 0.0020745599842239898, 0.007099364417869995]\n"
     ]
    },
    {
     "data": {
      "application/vnd.jupyter.widget-view+json": {
       "model_id": "9c445a94f2d44730b3a56eaea5636a93",
       "version_major": 2,
       "version_minor": 0
      },
      "text/plain": [
       "HBox(children=(FloatProgress(value=0.0, max=1390.0), HTML(value='')))"
      ]
     },
     "metadata": {},
     "output_type": "display_data"
    },
    {
     "name": "stdout",
     "output_type": "stream",
     "text": [
      "\n",
      "[0.007910862400633715, 0.00448796995858098, 0.006772553451412562, 0.0023690622971027156, 0.0009352933180152169, 0.0014853041766527504, 0.0020745599842239898, 0.007099364417869995]\n"
     ]
    },
    {
     "data": {
      "application/vnd.jupyter.widget-view+json": {
       "model_id": "e659765a6f0243b0a406271dc373a1d2",
       "version_major": 2,
       "version_minor": 0
      },
      "text/plain": [
       "HBox(children=(FloatProgress(value=0.0, max=1391.0), HTML(value='')))"
      ]
     },
     "metadata": {},
     "output_type": "display_data"
    },
    {
     "name": "stdout",
     "output_type": "stream",
     "text": [
      "\n",
      "[0.007910862400633715, 0.00448796995858098, 0.006772553451412562, 0.0023690622971027156, 0.0009352933180152169, 0.0014853041766527504, 0.0020745599842239898, 0.007099364417869995]\n"
     ]
    },
    {
     "data": {
      "application/vnd.jupyter.widget-view+json": {
       "model_id": "e91779e9ca1548258c99282ad930c976",
       "version_major": 2,
       "version_minor": 0
      },
      "text/plain": [
       "HBox(children=(FloatProgress(value=0.0, max=1391.0), HTML(value='')))"
      ]
     },
     "metadata": {},
     "output_type": "display_data"
    },
    {
     "name": "stdout",
     "output_type": "stream",
     "text": [
      "\n",
      "[0.007910862400633715, 0.00448796995858098, 0.006772553451412562, 0.0023690622971027156, 0.0009352933180152169, 0.0014853041766527504, 0.0020745599842239898, 0.007099364417869995]\n"
     ]
    },
    {
     "data": {
      "application/vnd.jupyter.widget-view+json": {
       "model_id": "ddc6637d380f4cb4838201cc9f266f7a",
       "version_major": 2,
       "version_minor": 0
      },
      "text/plain": [
       "HBox(children=(FloatProgress(value=0.0, max=1392.0), HTML(value='')))"
      ]
     },
     "metadata": {},
     "output_type": "display_data"
    },
    {
     "name": "stdout",
     "output_type": "stream",
     "text": [
      "\n",
      "[0.007910862400633715, 0.00448796995858098, 0.006772553451412562, 0.0023690622971027156, 0.0009352933180152169, 0.0014853041766527504, 0.0020745599842239898, 0.007099364417869995]\n"
     ]
    },
    {
     "data": {
      "application/vnd.jupyter.widget-view+json": {
       "model_id": "32dcd308fc96497d807c9a80f1698717",
       "version_major": 2,
       "version_minor": 0
      },
      "text/plain": [
       "HBox(children=(FloatProgress(value=0.0, max=1390.0), HTML(value='')))"
      ]
     },
     "metadata": {},
     "output_type": "display_data"
    },
    {
     "name": "stdout",
     "output_type": "stream",
     "text": [
      "\n",
      "[0.007910862400633715, 0.00448796995858098, 0.006772553451412562, 0.0023690622971027156, 0.0009352933180152169, 0.0014853041766527504, 0.0020745599842239898, 0.007099364417869995]\n"
     ]
    },
    {
     "data": {
      "application/vnd.jupyter.widget-view+json": {
       "model_id": "55164b1072294ec1a9e301fe1add3509",
       "version_major": 2,
       "version_minor": 0
      },
      "text/plain": [
       "HBox(children=(FloatProgress(value=0.0, max=1391.0), HTML(value='')))"
      ]
     },
     "metadata": {},
     "output_type": "display_data"
    },
    {
     "name": "stdout",
     "output_type": "stream",
     "text": [
      "\n",
      "[0.007910862400633715, 0.00448796995858098, 0.006772553451412562, 0.0023690622971027156, 0.0009352933180152169, 0.0014853041766527504, 0.0020745599842239898, 0.007099364417869995]\n"
     ]
    },
    {
     "data": {
      "application/vnd.jupyter.widget-view+json": {
       "model_id": "0b7c50b23d314dc0ae8b1002c8478d0b",
       "version_major": 2,
       "version_minor": 0
      },
      "text/plain": [
       "HBox(children=(FloatProgress(value=0.0, max=1391.0), HTML(value='')))"
      ]
     },
     "metadata": {},
     "output_type": "display_data"
    },
    {
     "name": "stdout",
     "output_type": "stream",
     "text": [
      "\n",
      "[0.007910862400633715, 0.00448796995858098, 0.006772553451412562, 0.0023690622971027156, 0.0009352933180152169, 0.0014853041766527504, 0.0020745599842239898, 0.007099364417869995]\n"
     ]
    },
    {
     "data": {
      "application/vnd.jupyter.widget-view+json": {
       "model_id": "aefde1f047c142f89baae408f7fc195e",
       "version_major": 2,
       "version_minor": 0
      },
      "text/plain": [
       "HBox(children=(FloatProgress(value=0.0, max=1390.0), HTML(value='')))"
      ]
     },
     "metadata": {},
     "output_type": "display_data"
    },
    {
     "name": "stdout",
     "output_type": "stream",
     "text": [
      "\n",
      "[0.007910862400633715, 0.00448796995858098, 0.006772553451412562, 0.0023690622971027156, 0.0009352933180152169, 0.0014853041766527504, 0.0020745599842239898, 0.007099364417869995]\n"
     ]
    },
    {
     "data": {
      "application/vnd.jupyter.widget-view+json": {
       "model_id": "428e3097807b474fb429d07f3248ae50",
       "version_major": 2,
       "version_minor": 0
      },
      "text/plain": [
       "HBox(children=(FloatProgress(value=0.0, max=1391.0), HTML(value='')))"
      ]
     },
     "metadata": {},
     "output_type": "display_data"
    },
    {
     "name": "stdout",
     "output_type": "stream",
     "text": [
      "\n",
      "[0.007910862400633715, 0.00448796995858098, 0.006772553451412562, 0.0023690622971027156, 0.0009352933180152169, 0.0014853041766527504, 0.0020745599842239898, 0.007099364417869995]\n"
     ]
    },
    {
     "data": {
      "application/vnd.jupyter.widget-view+json": {
       "model_id": "ed7b42d302804644aa9a82fb3b8210ae",
       "version_major": 2,
       "version_minor": 0
      },
      "text/plain": [
       "HBox(children=(FloatProgress(value=0.0, max=1391.0), HTML(value='')))"
      ]
     },
     "metadata": {},
     "output_type": "display_data"
    },
    {
     "name": "stdout",
     "output_type": "stream",
     "text": [
      "\n",
      "[0.007910862400633715, 0.00448796995858098, 0.006772553451412562, 0.0023690622971027156, 0.0009352933180152169, 0.0014853041766527504, 0.0020745599842239898, 0.007099364417869995]\n"
     ]
    },
    {
     "data": {
      "application/vnd.jupyter.widget-view+json": {
       "model_id": "7fb80082756a4bd0b544a094e396898f",
       "version_major": 2,
       "version_minor": 0
      },
      "text/plain": [
       "HBox(children=(FloatProgress(value=0.0, max=1392.0), HTML(value='')))"
      ]
     },
     "metadata": {},
     "output_type": "display_data"
    },
    {
     "name": "stdout",
     "output_type": "stream",
     "text": [
      "\n",
      "[0.007910862400633715, 0.00448796995858098, 0.006772553451412562, 0.0023690622971027156, 0.0009352933180152169, 0.0014853041766527504, 0.0020745599842239898, 0.007099364417869995]\n"
     ]
    },
    {
     "data": {
      "application/vnd.jupyter.widget-view+json": {
       "model_id": "e58d33897b32478c9345c19e5a6a5b1f",
       "version_major": 2,
       "version_minor": 0
      },
      "text/plain": [
       "HBox(children=(FloatProgress(value=0.0, max=1392.0), HTML(value='')))"
      ]
     },
     "metadata": {},
     "output_type": "display_data"
    },
    {
     "name": "stdout",
     "output_type": "stream",
     "text": [
      "\n",
      "[0.007910862400633715, 0.00448796995858098, 0.006772553451412562, 0.0023690622971027156, 0.0009352933180152169, 0.0014853041766527504, 0.0020745599842239898, 0.007099364417869995]\n"
     ]
    },
    {
     "data": {
      "application/vnd.jupyter.widget-view+json": {
       "model_id": "22c9b439cb1b4b11ac073256d41b2ae9",
       "version_major": 2,
       "version_minor": 0
      },
      "text/plain": [
       "HBox(children=(FloatProgress(value=0.0, max=1390.0), HTML(value='')))"
      ]
     },
     "metadata": {},
     "output_type": "display_data"
    },
    {
     "name": "stdout",
     "output_type": "stream",
     "text": [
      "\n",
      "[0.007910862400633715, 0.00448796995858098, 0.006772553451412562, 0.0023690622971027156, 0.0009352933180152169, 0.0014853041766527504, 0.0020745599842239898, 0.007099364417869995]\n"
     ]
    },
    {
     "data": {
      "application/vnd.jupyter.widget-view+json": {
       "model_id": "80fe638b3fa44f3394d472a9427c3e7a",
       "version_major": 2,
       "version_minor": 0
      },
      "text/plain": [
       "HBox(children=(FloatProgress(value=0.0, max=1391.0), HTML(value='')))"
      ]
     },
     "metadata": {},
     "output_type": "display_data"
    },
    {
     "name": "stdout",
     "output_type": "stream",
     "text": [
      "\n",
      "[0.007910862400633715, 0.00448796995858098, 0.006772553451412562, 0.0023690622971027156, 0.0009352933180152169, 0.0014853041766527504, 0.0020745599842239898, 0.007099364417869995]\n"
     ]
    },
    {
     "data": {
      "application/vnd.jupyter.widget-view+json": {
       "model_id": "ad08bcbf9ce54786b0cfac68a28640f0",
       "version_major": 2,
       "version_minor": 0
      },
      "text/plain": [
       "HBox(children=(FloatProgress(value=0.0, max=1391.0), HTML(value='')))"
      ]
     },
     "metadata": {},
     "output_type": "display_data"
    },
    {
     "name": "stdout",
     "output_type": "stream",
     "text": [
      "\n",
      "[0.007910862400633715, 0.00448796995858098, 0.006772553451412562, 0.0023690622971027156, 0.0009352933180152169, 0.0014853041766527504, 0.0020745599842239898, 0.007099364417869995]\n"
     ]
    },
    {
     "data": {
      "application/vnd.jupyter.widget-view+json": {
       "model_id": "e2a42d49d9a34ca4a4624424d1190707",
       "version_major": 2,
       "version_minor": 0
      },
      "text/plain": [
       "HBox(children=(FloatProgress(value=0.0, max=1390.0), HTML(value='')))"
      ]
     },
     "metadata": {},
     "output_type": "display_data"
    },
    {
     "name": "stdout",
     "output_type": "stream",
     "text": [
      "\n",
      "[0.007910862400633715, 0.00448796995858098, 0.006772553451412562, 0.0023690622971027156, 0.0009352933180152169, 0.0014853041766527504, 0.0020745599842239898, 0.007099364417869995]\n"
     ]
    },
    {
     "data": {
      "application/vnd.jupyter.widget-view+json": {
       "model_id": "0ab57e6f66b14d68a1b4b08a1daa6770",
       "version_major": 2,
       "version_minor": 0
      },
      "text/plain": [
       "HBox(children=(FloatProgress(value=0.0, max=1391.0), HTML(value='')))"
      ]
     },
     "metadata": {},
     "output_type": "display_data"
    },
    {
     "name": "stdout",
     "output_type": "stream",
     "text": [
      "\n",
      "[0.007910862400633715, 0.00448796995858098, 0.006772553451412562, 0.0023690622971027156, 0.0009352933180152169, 0.0014853041766527504, 0.0020745599842239898, 0.007099364417869995]\n"
     ]
    },
    {
     "data": {
      "application/vnd.jupyter.widget-view+json": {
       "model_id": "c1af146fc87340cbad482a59ffe1ff05",
       "version_major": 2,
       "version_minor": 0
      },
      "text/plain": [
       "HBox(children=(FloatProgress(value=0.0, max=1391.0), HTML(value='')))"
      ]
     },
     "metadata": {},
     "output_type": "display_data"
    },
    {
     "name": "stdout",
     "output_type": "stream",
     "text": [
      "\n",
      "[0.007910862400633715, 0.00448796995858098, 0.006772553451412562, 0.0023690622971027156, 0.0009352933180152169, 0.0014853041766527504, 0.0020745599842239898, 0.007099364417869995]\n"
     ]
    },
    {
     "data": {
      "application/vnd.jupyter.widget-view+json": {
       "model_id": "79f2f3f2a9c4429eb5e98e86cc7b12b1",
       "version_major": 2,
       "version_minor": 0
      },
      "text/plain": [
       "HBox(children=(FloatProgress(value=0.0, max=1392.0), HTML(value='')))"
      ]
     },
     "metadata": {},
     "output_type": "display_data"
    },
    {
     "name": "stdout",
     "output_type": "stream",
     "text": [
      "\n",
      "[0.007910862400633715, 0.00448796995858098, 0.006772553451412562, 0.0023690622971027156, 0.0009352933180152169, 0.0014853041766527504, 0.0020745599842239898, 0.007099364417869995]\n"
     ]
    },
    {
     "data": {
      "application/vnd.jupyter.widget-view+json": {
       "model_id": "3ef70953807440e1863888f5dba46242",
       "version_major": 2,
       "version_minor": 0
      },
      "text/plain": [
       "HBox(children=(FloatProgress(value=0.0, max=1391.0), HTML(value='')))"
      ]
     },
     "metadata": {},
     "output_type": "display_data"
    },
    {
     "name": "stdout",
     "output_type": "stream",
     "text": [
      "\n",
      "[0.007910862400633715, 0.00448796995858098, 0.006772553451412562, 0.0023690622971027156, 0.0009352933180152169, 0.0014853041766527504, 0.0020745599842239898, 0.007099364417869995]\n"
     ]
    },
    {
     "data": {
      "application/vnd.jupyter.widget-view+json": {
       "model_id": "d59255bc7e7c4de388f0b782f352a82b",
       "version_major": 2,
       "version_minor": 0
      },
      "text/plain": [
       "HBox(children=(FloatProgress(value=0.0, max=1390.0), HTML(value='')))"
      ]
     },
     "metadata": {},
     "output_type": "display_data"
    },
    {
     "name": "stdout",
     "output_type": "stream",
     "text": [
      "\n",
      "[0.007910862400633715, 0.00448796995858098, 0.006772553451412562, 0.0023690622971027156, 0.0009352933180152169, 0.0014853041766527504, 0.0020745599842239898, 0.007099364417869995]\n"
     ]
    },
    {
     "data": {
      "application/vnd.jupyter.widget-view+json": {
       "model_id": "b092bbb5f5774c5e98d6b48cb556e060",
       "version_major": 2,
       "version_minor": 0
      },
      "text/plain": [
       "HBox(children=(FloatProgress(value=0.0, max=1391.0), HTML(value='')))"
      ]
     },
     "metadata": {},
     "output_type": "display_data"
    },
    {
     "name": "stdout",
     "output_type": "stream",
     "text": [
      "\n",
      "[0.007910862400633715, 0.00448796995858098, 0.006772553451412562, 0.0023690622971027156, 0.0009352933180152169, 0.0014853041766527504, 0.0020745599842239898, 0.007099364417869995]\n"
     ]
    },
    {
     "data": {
      "application/vnd.jupyter.widget-view+json": {
       "model_id": "a7e33f23dd6f4ffdac2815c309dd077b",
       "version_major": 2,
       "version_minor": 0
      },
      "text/plain": [
       "HBox(children=(FloatProgress(value=0.0, max=1392.0), HTML(value='')))"
      ]
     },
     "metadata": {},
     "output_type": "display_data"
    },
    {
     "name": "stdout",
     "output_type": "stream",
     "text": [
      "\n",
      "[0.007910862400633715, 0.00448796995858098, 0.006772553451412562, 0.0023690622971027156, 0.0009352933180152169, 0.0014853041766527504, 0.0020745599842239898, 0.007099364417869995]\n"
     ]
    },
    {
     "data": {
      "application/vnd.jupyter.widget-view+json": {
       "model_id": "d146032553e34a3eac127230ae8a28eb",
       "version_major": 2,
       "version_minor": 0
      },
      "text/plain": [
       "HBox(children=(FloatProgress(value=0.0, max=1391.0), HTML(value='')))"
      ]
     },
     "metadata": {},
     "output_type": "display_data"
    },
    {
     "name": "stdout",
     "output_type": "stream",
     "text": [
      "\n",
      "[0.007910862400633715, 0.00448796995858098, 0.006772553451412562, 0.0023690622971027156, 0.0009352933180152169, 0.0014853041766527504, 0.0020745599842239898, 0.007099364417869995]\n"
     ]
    },
    {
     "data": {
      "application/vnd.jupyter.widget-view+json": {
       "model_id": "4a130f14fd2b40689c1bf779a189a30c",
       "version_major": 2,
       "version_minor": 0
      },
      "text/plain": [
       "HBox(children=(FloatProgress(value=0.0, max=1391.0), HTML(value='')))"
      ]
     },
     "metadata": {},
     "output_type": "display_data"
    },
    {
     "name": "stdout",
     "output_type": "stream",
     "text": [
      "\n",
      "[0.007910862400633715, 0.00448796995858098, 0.006772553451412562, 0.0023690622971027156, 0.0009352933180152169, 0.0014853041766527504, 0.0020745599842239898, 0.007099364417869995]\n"
     ]
    },
    {
     "data": {
      "application/vnd.jupyter.widget-view+json": {
       "model_id": "083cbe23a8dc40828846bac97dfe1b3a",
       "version_major": 2,
       "version_minor": 0
      },
      "text/plain": [
       "HBox(children=(FloatProgress(value=0.0, max=1390.0), HTML(value='')))"
      ]
     },
     "metadata": {},
     "output_type": "display_data"
    },
    {
     "name": "stdout",
     "output_type": "stream",
     "text": [
      "\n",
      "[0.007910862400633715, 0.00448796995858098, 0.006772553451412562, 0.0023690622971027156, 0.0009352933180152169, 0.0014853041766527504, 0.0020745599842239898, 0.007099364417869995]\n"
     ]
    },
    {
     "data": {
      "application/vnd.jupyter.widget-view+json": {
       "model_id": "20311cacbc57424aacb43a20226af2f3",
       "version_major": 2,
       "version_minor": 0
      },
      "text/plain": [
       "HBox(children=(FloatProgress(value=0.0, max=1392.0), HTML(value='')))"
      ]
     },
     "metadata": {},
     "output_type": "display_data"
    },
    {
     "name": "stdout",
     "output_type": "stream",
     "text": [
      "\n",
      "[0.007910862400633715, 0.00448796995858098, 0.006772553451412562, 0.0023690622971027156, 0.0009352933180152169, 0.0014853041766527504, 0.0020745599842239898, 0.007099364417869995]\n"
     ]
    },
    {
     "data": {
      "application/vnd.jupyter.widget-view+json": {
       "model_id": "1e4dfd107a594cf1b51ee9d938301346",
       "version_major": 2,
       "version_minor": 0
      },
      "text/plain": [
       "HBox(children=(FloatProgress(value=0.0, max=1390.0), HTML(value='')))"
      ]
     },
     "metadata": {},
     "output_type": "display_data"
    },
    {
     "name": "stdout",
     "output_type": "stream",
     "text": [
      "\n",
      "[0.007910862400633715, 0.00448796995858098, 0.006772553451412562, 0.0023690622971027156, 0.0009352933180152169, 0.0014853041766527504, 0.0020745599842239898, 0.007099364417869995]\n"
     ]
    },
    {
     "data": {
      "application/vnd.jupyter.widget-view+json": {
       "model_id": "45f3b045e31c4079a8003c42761a27fe",
       "version_major": 2,
       "version_minor": 0
      },
      "text/plain": [
       "HBox(children=(FloatProgress(value=0.0, max=1392.0), HTML(value='')))"
      ]
     },
     "metadata": {},
     "output_type": "display_data"
    },
    {
     "name": "stdout",
     "output_type": "stream",
     "text": [
      "\n",
      "[0.007910862400633715, 0.00448796995858098, 0.006772553451412562, 0.0023690622971027156, 0.0009352933180152169, 0.0014853041766527504, 0.0020745599842239898, 0.007099364417869995]\n"
     ]
    },
    {
     "data": {
      "application/vnd.jupyter.widget-view+json": {
       "model_id": "df39d0ae40604151a5af9fcfc3a9c223",
       "version_major": 2,
       "version_minor": 0
      },
      "text/plain": [
       "HBox(children=(FloatProgress(value=0.0, max=1391.0), HTML(value='')))"
      ]
     },
     "metadata": {},
     "output_type": "display_data"
    },
    {
     "name": "stdout",
     "output_type": "stream",
     "text": [
      "\n",
      "[0.007910862400633715, 0.00448796995858098, 0.006772553451412562, 0.0023690622971027156, 0.0009352933180152169, 0.0014853041766527504, 0.0020745599842239898, 0.007099364417869995]\n"
     ]
    },
    {
     "data": {
      "application/vnd.jupyter.widget-view+json": {
       "model_id": "a28adc9641f843e5a32966bc02ee8805",
       "version_major": 2,
       "version_minor": 0
      },
      "text/plain": [
       "HBox(children=(FloatProgress(value=0.0, max=1391.0), HTML(value='')))"
      ]
     },
     "metadata": {},
     "output_type": "display_data"
    },
    {
     "name": "stdout",
     "output_type": "stream",
     "text": [
      "\n",
      "[0.007910862400633715, 0.00448796995858098, 0.006772553451412562, 0.0023690622971027156, 0.0009352933180152169, 0.0014853041766527504, 0.0020745599842239898, 0.007099364417869995]\n"
     ]
    },
    {
     "data": {
      "application/vnd.jupyter.widget-view+json": {
       "model_id": "30f44b30395e4ba096eabfdc326f9ad0",
       "version_major": 2,
       "version_minor": 0
      },
      "text/plain": [
       "HBox(children=(FloatProgress(value=0.0, max=1391.0), HTML(value='')))"
      ]
     },
     "metadata": {},
     "output_type": "display_data"
    },
    {
     "name": "stdout",
     "output_type": "stream",
     "text": [
      "\n",
      "[0.007910862400633715, 0.00448796995858098, 0.006772553451412562, 0.0023690622971027156, 0.0009352933180152169, 0.0014853041766527504, 0.0020745599842239898, 0.007099364417869995]\n"
     ]
    },
    {
     "data": {
      "application/vnd.jupyter.widget-view+json": {
       "model_id": "43d24109102c45f699aa81ae361d2da5",
       "version_major": 2,
       "version_minor": 0
      },
      "text/plain": [
       "HBox(children=(FloatProgress(value=0.0, max=1392.0), HTML(value='')))"
      ]
     },
     "metadata": {},
     "output_type": "display_data"
    },
    {
     "name": "stdout",
     "output_type": "stream",
     "text": [
      "\n",
      "[0.007910862400633715, 0.00448796995858098, 0.006772553451412562, 0.0023690622971027156, 0.0009352933180152169, 0.0014853041766527504, 0.0020745599842239898, 0.007099364417869995]\n"
     ]
    },
    {
     "data": {
      "application/vnd.jupyter.widget-view+json": {
       "model_id": "b995ff2eb1ba484a9f96b09f6740a028",
       "version_major": 2,
       "version_minor": 0
      },
      "text/plain": [
       "HBox(children=(FloatProgress(value=0.0, max=1391.0), HTML(value='')))"
      ]
     },
     "metadata": {},
     "output_type": "display_data"
    },
    {
     "name": "stdout",
     "output_type": "stream",
     "text": [
      "\n",
      "[0.007910862400633715, 0.00448796995858098, 0.006772553451412562, 0.0023690622971027156, 0.0009352933180152169, 0.0014853041766527504, 0.0020745599842239898, 0.007099364417869995]\n"
     ]
    },
    {
     "data": {
      "application/vnd.jupyter.widget-view+json": {
       "model_id": "69338bd5335c4351a0b25ea8be232a3a",
       "version_major": 2,
       "version_minor": 0
      },
      "text/plain": [
       "HBox(children=(FloatProgress(value=0.0, max=1390.0), HTML(value='')))"
      ]
     },
     "metadata": {},
     "output_type": "display_data"
    },
    {
     "name": "stdout",
     "output_type": "stream",
     "text": [
      "\n",
      "[0.007910862400633715, 0.00448796995858098, 0.006772553451412562, 0.0023690622971027156, 0.0009352933180152169, 0.0014853041766527504, 0.0020745599842239898, 0.007099364417869995]\n"
     ]
    },
    {
     "data": {
      "application/vnd.jupyter.widget-view+json": {
       "model_id": "f0c483a281ca42269018dbe1abb69ac0",
       "version_major": 2,
       "version_minor": 0
      },
      "text/plain": [
       "HBox(children=(FloatProgress(value=0.0, max=1391.0), HTML(value='')))"
      ]
     },
     "metadata": {},
     "output_type": "display_data"
    },
    {
     "name": "stdout",
     "output_type": "stream",
     "text": [
      "\n",
      "[0.007910862400633715, 0.00448796995858098, 0.006772553451412562, 0.0023690622971027156, 0.0009352933180152169, 0.0014853041766527504, 0.0020745599842239898, 0.007099364417869995]\n"
     ]
    },
    {
     "data": {
      "application/vnd.jupyter.widget-view+json": {
       "model_id": "a88faa74904143ed81d07711feb4d350",
       "version_major": 2,
       "version_minor": 0
      },
      "text/plain": [
       "HBox(children=(FloatProgress(value=0.0, max=1391.0), HTML(value='')))"
      ]
     },
     "metadata": {},
     "output_type": "display_data"
    },
    {
     "name": "stdout",
     "output_type": "stream",
     "text": [
      "\n",
      "[0.007910862400633715, 0.00448796995858098, 0.006772553451412562, 0.0023690622971027156, 0.0009352933180152169, 0.0014853041766527504, 0.0020745599842239898, 0.007099364417869995]\n"
     ]
    },
    {
     "data": {
      "application/vnd.jupyter.widget-view+json": {
       "model_id": "b59337c12a274ac89330ce25ca0390e7",
       "version_major": 2,
       "version_minor": 0
      },
      "text/plain": [
       "HBox(children=(FloatProgress(value=0.0, max=1390.0), HTML(value='')))"
      ]
     },
     "metadata": {},
     "output_type": "display_data"
    },
    {
     "name": "stdout",
     "output_type": "stream",
     "text": [
      "\n",
      "[0.007910862400633715, 0.00448796995858098, 0.006772553451412562, 0.0023690622971027156, 0.0009352933180152169, 0.0014853041766527504, 0.0020745599842239898, 0.007099364417869995]\n"
     ]
    },
    {
     "data": {
      "application/vnd.jupyter.widget-view+json": {
       "model_id": "61ace270c3864128b6ac3f55eb73121c",
       "version_major": 2,
       "version_minor": 0
      },
      "text/plain": [
       "HBox(children=(FloatProgress(value=0.0, max=1392.0), HTML(value='')))"
      ]
     },
     "metadata": {},
     "output_type": "display_data"
    },
    {
     "name": "stdout",
     "output_type": "stream",
     "text": [
      "\n",
      "[0.007910862400633715, 0.00448796995858098, 0.006772553451412562, 0.0023690622971027156, 0.0009352933180152169, 0.0014853041766527504, 0.0020745599842239898, 0.007099364417869995]\n"
     ]
    },
    {
     "data": {
      "application/vnd.jupyter.widget-view+json": {
       "model_id": "cded3f9900e04eb480a37f7780b8e8fd",
       "version_major": 2,
       "version_minor": 0
      },
      "text/plain": [
       "HBox(children=(FloatProgress(value=0.0, max=1392.0), HTML(value='')))"
      ]
     },
     "metadata": {},
     "output_type": "display_data"
    },
    {
     "name": "stdout",
     "output_type": "stream",
     "text": [
      "\n",
      "[0.007910862400633715, 0.00448796995858098, 0.006772553451412562, 0.0023690622971027156, 0.0009352933180152169, 0.0014853041766527504, 0.0020745599842239898, 0.007099364417869995]\n"
     ]
    },
    {
     "data": {
      "application/vnd.jupyter.widget-view+json": {
       "model_id": "8c5b47cbe21e49d68f36290c881a3e35",
       "version_major": 2,
       "version_minor": 0
      },
      "text/plain": [
       "HBox(children=(FloatProgress(value=0.0, max=1390.0), HTML(value='')))"
      ]
     },
     "metadata": {},
     "output_type": "display_data"
    },
    {
     "name": "stdout",
     "output_type": "stream",
     "text": [
      "\n",
      "[0.007910862400633715, 0.00448796995858098, 0.006772553451412562, 0.0023690622971027156, 0.0009352933180152169, 0.0014853041766527504, 0.0020745599842239898, 0.007099364417869995]\n"
     ]
    },
    {
     "data": {
      "application/vnd.jupyter.widget-view+json": {
       "model_id": "a9a53865e9f9449ab39effe6eec59b0a",
       "version_major": 2,
       "version_minor": 0
      },
      "text/plain": [
       "HBox(children=(FloatProgress(value=0.0, max=1391.0), HTML(value='')))"
      ]
     },
     "metadata": {},
     "output_type": "display_data"
    },
    {
     "name": "stdout",
     "output_type": "stream",
     "text": [
      "\n",
      "[0.007910862400633715, 0.00448796995858098, 0.006772553451412562, 0.0023690622971027156, 0.0009352933180152169, 0.0014853041766527504, 0.0020745599842239898, 0.007099364417869995]\n"
     ]
    },
    {
     "data": {
      "application/vnd.jupyter.widget-view+json": {
       "model_id": "c13169be83904da8a999e4c83344e4fd",
       "version_major": 2,
       "version_minor": 0
      },
      "text/plain": [
       "HBox(children=(FloatProgress(value=0.0, max=1391.0), HTML(value='')))"
      ]
     },
     "metadata": {},
     "output_type": "display_data"
    },
    {
     "name": "stdout",
     "output_type": "stream",
     "text": [
      "\n",
      "[0.007910862400633715, 0.00448796995858098, 0.006772553451412562, 0.0023690622971027156, 0.0009352933180152169, 0.0014853041766527504, 0.0020745599842239898, 0.007099364417869995]\n"
     ]
    },
    {
     "data": {
      "application/vnd.jupyter.widget-view+json": {
       "model_id": "d3c04744fac8440681cd5409bc44aad0",
       "version_major": 2,
       "version_minor": 0
      },
      "text/plain": [
       "HBox(children=(FloatProgress(value=0.0, max=1391.0), HTML(value='')))"
      ]
     },
     "metadata": {},
     "output_type": "display_data"
    },
    {
     "name": "stdout",
     "output_type": "stream",
     "text": [
      "\n",
      "[0.007910862400633715, 0.00448796995858098, 0.006772553451412562, 0.0023690622971027156, 0.0009352933180152169, 0.0014853041766527504, 0.0020745599842239898, 0.007099364417869995]\n"
     ]
    },
    {
     "data": {
      "application/vnd.jupyter.widget-view+json": {
       "model_id": "2ac0c1cca8a34b8fb0b71338baa3d836",
       "version_major": 2,
       "version_minor": 0
      },
      "text/plain": [
       "HBox(children=(FloatProgress(value=0.0, max=1390.0), HTML(value='')))"
      ]
     },
     "metadata": {},
     "output_type": "display_data"
    },
    {
     "name": "stdout",
     "output_type": "stream",
     "text": [
      "\n",
      "[0.007910862400633715, 0.00448796995858098, 0.006772553451412562, 0.0023690622971027156, 0.0009352933180152169, 0.0014853041766527504, 0.0020745599842239898, 0.007099364417869995]\n"
     ]
    },
    {
     "data": {
      "application/vnd.jupyter.widget-view+json": {
       "model_id": "a03d033d922742db82765bcf7ac0c6e4",
       "version_major": 2,
       "version_minor": 0
      },
      "text/plain": [
       "HBox(children=(FloatProgress(value=0.0, max=1391.0), HTML(value='')))"
      ]
     },
     "metadata": {},
     "output_type": "display_data"
    },
    {
     "name": "stdout",
     "output_type": "stream",
     "text": [
      "\n",
      "[0.007910862400633715, 0.00448796995858098, 0.006772553451412562, 0.0023690622971027156, 0.0009352933180152169, 0.0014853041766527504, 0.0020745599842239898, 0.007099364417869995]\n"
     ]
    },
    {
     "data": {
      "application/vnd.jupyter.widget-view+json": {
       "model_id": "6d86b8e24c3a4e8fb0bac6e9e8e9aa95",
       "version_major": 2,
       "version_minor": 0
      },
      "text/plain": [
       "HBox(children=(FloatProgress(value=0.0, max=1392.0), HTML(value='')))"
      ]
     },
     "metadata": {},
     "output_type": "display_data"
    },
    {
     "name": "stdout",
     "output_type": "stream",
     "text": [
      "\n",
      "[0.007910862400633715, 0.00448796995858098, 0.006772553451412562, 0.0023690622971027156, 0.0009352933180152169, 0.0014853041766527504, 0.0020745599842239898, 0.007099364417869995]\n"
     ]
    },
    {
     "data": {
      "application/vnd.jupyter.widget-view+json": {
       "model_id": "153d76e813db4d24b2f8a4aeb4d430c2",
       "version_major": 2,
       "version_minor": 0
      },
      "text/plain": [
       "HBox(children=(FloatProgress(value=0.0, max=1392.0), HTML(value='')))"
      ]
     },
     "metadata": {},
     "output_type": "display_data"
    },
    {
     "name": "stdout",
     "output_type": "stream",
     "text": [
      "\n",
      "[0.007910862400633715, 0.00448796995858098, 0.006772553451412562, 0.0023690622971027156, 0.0009352933180152169, 0.0014853041766527504, 0.0020745599842239898, 0.007099364417869995]\n"
     ]
    },
    {
     "data": {
      "application/vnd.jupyter.widget-view+json": {
       "model_id": "aa9348dcdf874234a494092bbfafbafd",
       "version_major": 2,
       "version_minor": 0
      },
      "text/plain": [
       "HBox(children=(FloatProgress(value=0.0, max=1390.0), HTML(value='')))"
      ]
     },
     "metadata": {},
     "output_type": "display_data"
    },
    {
     "name": "stdout",
     "output_type": "stream",
     "text": [
      "\n",
      "[0.007910862400633715, 0.00448796995858098, 0.006772553451412562, 0.0023690622971027156, 0.0009352933180152169, 0.0014853041766527504, 0.0020745599842239898, 0.007099364417869995]\n"
     ]
    },
    {
     "data": {
      "application/vnd.jupyter.widget-view+json": {
       "model_id": "8b846135635a47438726a3647ad634c8",
       "version_major": 2,
       "version_minor": 0
      },
      "text/plain": [
       "HBox(children=(FloatProgress(value=0.0, max=1391.0), HTML(value='')))"
      ]
     },
     "metadata": {},
     "output_type": "display_data"
    },
    {
     "name": "stdout",
     "output_type": "stream",
     "text": [
      "\n",
      "[0.007910862400633715, 0.00448796995858098, 0.006772553451412562, 0.0023690622971027156, 0.0009352933180152169, 0.0014853041766527504, 0.0020745599842239898, 0.007099364417869995]\n"
     ]
    },
    {
     "data": {
      "application/vnd.jupyter.widget-view+json": {
       "model_id": "df931cd0b10840e4863610bf6121dc36",
       "version_major": 2,
       "version_minor": 0
      },
      "text/plain": [
       "HBox(children=(FloatProgress(value=0.0, max=1391.0), HTML(value='')))"
      ]
     },
     "metadata": {},
     "output_type": "display_data"
    },
    {
     "name": "stdout",
     "output_type": "stream",
     "text": [
      "\n",
      "[0.007910862400633715, 0.00448796995858098, 0.006772553451412562, 0.0023690622971027156, 0.0009352933180152169, 0.0014853041766527504, 0.0020745599842239898, 0.007099364417869995]\n"
     ]
    },
    {
     "data": {
      "application/vnd.jupyter.widget-view+json": {
       "model_id": "78363153cf5e4eb7ba7646d392e0f9ce",
       "version_major": 2,
       "version_minor": 0
      },
      "text/plain": [
       "HBox(children=(FloatProgress(value=0.0, max=1390.0), HTML(value='')))"
      ]
     },
     "metadata": {},
     "output_type": "display_data"
    },
    {
     "name": "stdout",
     "output_type": "stream",
     "text": [
      "\n",
      "[0.007910862400633715, 0.00448796995858098, 0.006772553451412562, 0.0023690622971027156, 0.0009352933180152169, 0.0014853041766527504, 0.0020745599842239898, 0.007099364417869995]\n"
     ]
    },
    {
     "data": {
      "application/vnd.jupyter.widget-view+json": {
       "model_id": "24e167fb8b7445f4adb1aa41ed405de6",
       "version_major": 2,
       "version_minor": 0
      },
      "text/plain": [
       "HBox(children=(FloatProgress(value=0.0, max=1391.0), HTML(value='')))"
      ]
     },
     "metadata": {},
     "output_type": "display_data"
    },
    {
     "name": "stdout",
     "output_type": "stream",
     "text": [
      "\n",
      "[0.007910862400633715, 0.00448796995858098, 0.006772553451412562, 0.0023690622971027156, 0.0009352933180152169, 0.0014853041766527504, 0.0020745599842239898, 0.007099364417869995]\n"
     ]
    },
    {
     "data": {
      "application/vnd.jupyter.widget-view+json": {
       "model_id": "09555e4f251e44ec9352e8af444a5975",
       "version_major": 2,
       "version_minor": 0
      },
      "text/plain": [
       "HBox(children=(FloatProgress(value=0.0, max=1391.0), HTML(value='')))"
      ]
     },
     "metadata": {},
     "output_type": "display_data"
    },
    {
     "name": "stdout",
     "output_type": "stream",
     "text": [
      "\n",
      "[0.007910862400633715, 0.00448796995858098, 0.006772553451412562, 0.0023690622971027156, 0.0009352933180152169, 0.0014853041766527504, 0.0020745599842239898, 0.007099364417869995]\n"
     ]
    },
    {
     "data": {
      "application/vnd.jupyter.widget-view+json": {
       "model_id": "6dce560a46484e2ba30265b6f27cfa31",
       "version_major": 2,
       "version_minor": 0
      },
      "text/plain": [
       "HBox(children=(FloatProgress(value=0.0, max=1392.0), HTML(value='')))"
      ]
     },
     "metadata": {},
     "output_type": "display_data"
    },
    {
     "name": "stdout",
     "output_type": "stream",
     "text": [
      "\n",
      "[0.007910862400633715, 0.00448796995858098, 0.006772553451412562, 0.0023690622971027156, 0.0009352933180152169, 0.0014853041766527504, 0.0020745599842239898, 0.007099364417869995]\n"
     ]
    },
    {
     "data": {
      "application/vnd.jupyter.widget-view+json": {
       "model_id": "a63a975979ba410597599cbdf33ce995",
       "version_major": 2,
       "version_minor": 0
      },
      "text/plain": [
       "HBox(children=(FloatProgress(value=0.0, max=1390.0), HTML(value='')))"
      ]
     },
     "metadata": {},
     "output_type": "display_data"
    },
    {
     "name": "stdout",
     "output_type": "stream",
     "text": [
      "\n",
      "[0.007910862400633715, 0.00448796995858098, 0.006772553451412562, 0.0023690622971027156, 0.0009352933180152169, 0.0014853041766527504, 0.0020745599842239898, 0.007099364417869995]\n"
     ]
    },
    {
     "data": {
      "application/vnd.jupyter.widget-view+json": {
       "model_id": "27562919b2324d7d8ae791756e4961da",
       "version_major": 2,
       "version_minor": 0
      },
      "text/plain": [
       "HBox(children=(FloatProgress(value=0.0, max=1391.0), HTML(value='')))"
      ]
     },
     "metadata": {},
     "output_type": "display_data"
    },
    {
     "name": "stdout",
     "output_type": "stream",
     "text": [
      "\n",
      "[0.007910862400633715, 0.00448796995858098, 0.006772553451412562, 0.0023690622971027156, 0.0009352933180152169, 0.0014853041766527504, 0.0020745599842239898, 0.007099364417869995]\n"
     ]
    },
    {
     "data": {
      "application/vnd.jupyter.widget-view+json": {
       "model_id": "b807612257fd48f0ba03b1ea201061e7",
       "version_major": 2,
       "version_minor": 0
      },
      "text/plain": [
       "HBox(children=(FloatProgress(value=0.0, max=1392.0), HTML(value='')))"
      ]
     },
     "metadata": {},
     "output_type": "display_data"
    },
    {
     "name": "stdout",
     "output_type": "stream",
     "text": [
      "\n",
      "[0.007910862400633715, 0.00448796995858098, 0.006772553451412562, 0.0023690622971027156, 0.0009352933180152169, 0.0014853041766527504, 0.0020745599842239898, 0.007099364417869995]\n"
     ]
    },
    {
     "data": {
      "application/vnd.jupyter.widget-view+json": {
       "model_id": "cc225b44e99e4ef79334e93ce0d660b2",
       "version_major": 2,
       "version_minor": 0
      },
      "text/plain": [
       "HBox(children=(FloatProgress(value=0.0, max=1391.0), HTML(value='')))"
      ]
     },
     "metadata": {},
     "output_type": "display_data"
    },
    {
     "name": "stdout",
     "output_type": "stream",
     "text": [
      "\n",
      "[0.007910862400633715, 0.00448796995858098, 0.006772553451412562, 0.0023690622971027156, 0.0009352933180152169, 0.0014853041766527504, 0.0020745599842239898, 0.007099364417869995]\n"
     ]
    },
    {
     "data": {
      "application/vnd.jupyter.widget-view+json": {
       "model_id": "9a272ea5a62b428d9fb93805deea401d",
       "version_major": 2,
       "version_minor": 0
      },
      "text/plain": [
       "HBox(children=(FloatProgress(value=0.0, max=1390.0), HTML(value='')))"
      ]
     },
     "metadata": {},
     "output_type": "display_data"
    },
    {
     "name": "stdout",
     "output_type": "stream",
     "text": [
      "\n",
      "[0.007910862400633715, 0.00448796995858098, 0.006772553451412562, 0.0023690622971027156, 0.0009352933180152169, 0.0014853041766527504, 0.0020745599842239898, 0.007099364417869995]\n"
     ]
    },
    {
     "data": {
      "application/vnd.jupyter.widget-view+json": {
       "model_id": "b4407a2c80e147358c5e6de7f5c5f889",
       "version_major": 2,
       "version_minor": 0
      },
      "text/plain": [
       "HBox(children=(FloatProgress(value=0.0, max=1391.0), HTML(value='')))"
      ]
     },
     "metadata": {},
     "output_type": "display_data"
    },
    {
     "name": "stdout",
     "output_type": "stream",
     "text": [
      "\n",
      "[0.007910862400633715, 0.00448796995858098, 0.006772553451412562, 0.0023690622971027156, 0.0009352933180152169, 0.0014853041766527504, 0.0020745599842239898, 0.007099364417869995]\n"
     ]
    },
    {
     "data": {
      "application/vnd.jupyter.widget-view+json": {
       "model_id": "8a073751385c480f8032f6af978057a5",
       "version_major": 2,
       "version_minor": 0
      },
      "text/plain": [
       "HBox(children=(FloatProgress(value=0.0, max=1391.0), HTML(value='')))"
      ]
     },
     "metadata": {},
     "output_type": "display_data"
    },
    {
     "name": "stdout",
     "output_type": "stream",
     "text": [
      "\n",
      "[0.007910862400633715, 0.00448796995858098, 0.006772553451412562, 0.0023690622971027156, 0.0009352933180152169, 0.0014853041766527504, 0.0020745599842239898, 0.007099364417869995]\n"
     ]
    },
    {
     "data": {
      "application/vnd.jupyter.widget-view+json": {
       "model_id": "bab6050306a44849a7e17ddb1b302ac7",
       "version_major": 2,
       "version_minor": 0
      },
      "text/plain": [
       "HBox(children=(FloatProgress(value=0.0, max=1392.0), HTML(value='')))"
      ]
     },
     "metadata": {},
     "output_type": "display_data"
    },
    {
     "name": "stdout",
     "output_type": "stream",
     "text": [
      "\n",
      "[0.007910862400633715, 0.00448796995858098, 0.006772553451412562, 0.0023690622971027156, 0.0009352933180152169, 0.0014853041766527504, 0.0020745599842239898, 0.007099364417869995]\n"
     ]
    },
    {
     "data": {
      "application/vnd.jupyter.widget-view+json": {
       "model_id": "0323543055244e7ca17b0be851951c74",
       "version_major": 2,
       "version_minor": 0
      },
      "text/plain": [
       "HBox(children=(FloatProgress(value=0.0, max=1391.0), HTML(value='')))"
      ]
     },
     "metadata": {},
     "output_type": "display_data"
    },
    {
     "name": "stdout",
     "output_type": "stream",
     "text": [
      "\n",
      "[0.007910862400633715, 0.00448796995858098, 0.006772553451412562, 0.0023690622971027156, 0.0009352933180152169, 0.0014853041766527504, 0.0020745599842239898, 0.007099364417869995]\n"
     ]
    },
    {
     "data": {
      "application/vnd.jupyter.widget-view+json": {
       "model_id": "11ae9b747258470b9fe2520d1e6f79a6",
       "version_major": 2,
       "version_minor": 0
      },
      "text/plain": [
       "HBox(children=(FloatProgress(value=0.0, max=1390.0), HTML(value='')))"
      ]
     },
     "metadata": {},
     "output_type": "display_data"
    },
    {
     "name": "stdout",
     "output_type": "stream",
     "text": [
      "\n",
      "[0.007910862400633715, 0.00448796995858098, 0.006772553451412562, 0.0023690622971027156, 0.0009352933180152169, 0.0014853041766527504, 0.0020745599842239898, 0.007099364417869995]\n"
     ]
    },
    {
     "data": {
      "application/vnd.jupyter.widget-view+json": {
       "model_id": "2150fb66759f4030b52d49d5648f99c4",
       "version_major": 2,
       "version_minor": 0
      },
      "text/plain": [
       "HBox(children=(FloatProgress(value=0.0, max=1391.0), HTML(value='')))"
      ]
     },
     "metadata": {},
     "output_type": "display_data"
    },
    {
     "name": "stdout",
     "output_type": "stream",
     "text": [
      "\n",
      "[0.007910862400633715, 0.00448796995858098, 0.006772553451412562, 0.0023690622971027156, 0.0009352933180152169, 0.0014853041766527504, 0.0020745599842239898, 0.007099364417869995]\n"
     ]
    },
    {
     "data": {
      "application/vnd.jupyter.widget-view+json": {
       "model_id": "21035dafd8514009a00dc6efcf3ffbb7",
       "version_major": 2,
       "version_minor": 0
      },
      "text/plain": [
       "HBox(children=(FloatProgress(value=0.0, max=1392.0), HTML(value='')))"
      ]
     },
     "metadata": {},
     "output_type": "display_data"
    },
    {
     "name": "stdout",
     "output_type": "stream",
     "text": [
      "\n",
      "[0.007910862400633715, 0.00448796995858098, 0.006772553451412562, 0.0023690622971027156, 0.0009352933180152169, 0.0014853041766527504, 0.0020745599842239898, 0.007099364417869995]\n"
     ]
    },
    {
     "data": {
      "application/vnd.jupyter.widget-view+json": {
       "model_id": "41d05233fe1e45c69535e30d599863c9",
       "version_major": 2,
       "version_minor": 0
      },
      "text/plain": [
       "HBox(children=(FloatProgress(value=0.0, max=1392.0), HTML(value='')))"
      ]
     },
     "metadata": {},
     "output_type": "display_data"
    },
    {
     "name": "stdout",
     "output_type": "stream",
     "text": [
      "\n",
      "[0.007910862400633715, 0.00448796995858098, 0.006772553451412562, 0.0023690622971027156, 0.0009352933180152169, 0.0014853041766527504, 0.0020745599842239898, 0.007099364417869995]\n"
     ]
    },
    {
     "data": {
      "application/vnd.jupyter.widget-view+json": {
       "model_id": "9dea7d18e248487283363d6c8494bf05",
       "version_major": 2,
       "version_minor": 0
      },
      "text/plain": [
       "HBox(children=(FloatProgress(value=0.0, max=1391.0), HTML(value='')))"
      ]
     },
     "metadata": {},
     "output_type": "display_data"
    },
    {
     "name": "stdout",
     "output_type": "stream",
     "text": [
      "\n",
      "[0.007910862400633715, 0.00448796995858098, 0.006772553451412562, 0.0023690622971027156, 0.0009352933180152169, 0.0014853041766527504, 0.0020745599842239898, 0.007099364417869995]\n"
     ]
    },
    {
     "data": {
      "application/vnd.jupyter.widget-view+json": {
       "model_id": "7aef5a2ee6a94952baa6c120ba7ffa49",
       "version_major": 2,
       "version_minor": 0
      },
      "text/plain": [
       "HBox(children=(FloatProgress(value=0.0, max=1391.0), HTML(value='')))"
      ]
     },
     "metadata": {},
     "output_type": "display_data"
    },
    {
     "name": "stdout",
     "output_type": "stream",
     "text": [
      "\n",
      "[0.007910862400633715, 0.00448796995858098, 0.006772553451412562, 0.0023690622971027156, 0.0009352933180152169, 0.0014853041766527504, 0.0020745599842239898, 0.007099364417869995]\n"
     ]
    },
    {
     "data": {
      "application/vnd.jupyter.widget-view+json": {
       "model_id": "b5ebd3742b064bb6a66f465aa420c8c0",
       "version_major": 2,
       "version_minor": 0
      },
      "text/plain": [
       "HBox(children=(FloatProgress(value=0.0, max=1390.0), HTML(value='')))"
      ]
     },
     "metadata": {},
     "output_type": "display_data"
    },
    {
     "name": "stdout",
     "output_type": "stream",
     "text": [
      "\n",
      "[0.007910862400633715, 0.00448796995858098, 0.006772553451412562, 0.0023690622971027156, 0.0009352933180152169, 0.0014853041766527504, 0.0020745599842239898, 0.007099364417869995]\n"
     ]
    },
    {
     "data": {
      "application/vnd.jupyter.widget-view+json": {
       "model_id": "23b1fd5765fb4b21bc8612ec2290d0cf",
       "version_major": 2,
       "version_minor": 0
      },
      "text/plain": [
       "HBox(children=(FloatProgress(value=0.0, max=1391.0), HTML(value='')))"
      ]
     },
     "metadata": {},
     "output_type": "display_data"
    },
    {
     "name": "stdout",
     "output_type": "stream",
     "text": [
      "\n",
      "[0.007910862400633715, 0.00448796995858098, 0.006772553451412562, 0.0023690622971027156, 0.0009352933180152169, 0.0014853041766527504, 0.0020745599842239898, 0.007099364417869995]\n"
     ]
    },
    {
     "data": {
      "application/vnd.jupyter.widget-view+json": {
       "model_id": "0b65915ece08449fb083365e96ad5629",
       "version_major": 2,
       "version_minor": 0
      },
      "text/plain": [
       "HBox(children=(FloatProgress(value=0.0, max=1390.0), HTML(value='')))"
      ]
     },
     "metadata": {},
     "output_type": "display_data"
    },
    {
     "name": "stdout",
     "output_type": "stream",
     "text": [
      "\n",
      "[0.007910862400633715, 0.00448796995858098, 0.006772553451412562, 0.0023690622971027156, 0.0009352933180152169, 0.0014853041766527504, 0.0020745599842239898, 0.007099364417869995]\n"
     ]
    },
    {
     "data": {
      "application/vnd.jupyter.widget-view+json": {
       "model_id": "0ffc8412d22949219f15f7f6b4b44e92",
       "version_major": 2,
       "version_minor": 0
      },
      "text/plain": [
       "HBox(children=(FloatProgress(value=0.0, max=1392.0), HTML(value='')))"
      ]
     },
     "metadata": {},
     "output_type": "display_data"
    },
    {
     "name": "stdout",
     "output_type": "stream",
     "text": [
      "\n",
      "[0.007910862400633715, 0.00448796995858098, 0.006772553451412562, 0.0023690622971027156, 0.0009352933180152169, 0.0014853041766527504, 0.0020745599842239898, 0.007099364417869995]\n"
     ]
    },
    {
     "data": {
      "application/vnd.jupyter.widget-view+json": {
       "model_id": "90dba382be5b411295e6ed30c3d1eb35",
       "version_major": 2,
       "version_minor": 0
      },
      "text/plain": [
       "HBox(children=(FloatProgress(value=0.0, max=1391.0), HTML(value='')))"
      ]
     },
     "metadata": {},
     "output_type": "display_data"
    },
    {
     "name": "stdout",
     "output_type": "stream",
     "text": [
      "\n",
      "[0.007910862400633715, 0.00448796995858098, 0.006772553451412562, 0.0023690622971027156, 0.0009352933180152169, 0.0014853041766527504, 0.0020745599842239898, 0.007099364417869995]\n"
     ]
    },
    {
     "data": {
      "application/vnd.jupyter.widget-view+json": {
       "model_id": "2ae99ef5d0b44ecbbcf298f36a20410d",
       "version_major": 2,
       "version_minor": 0
      },
      "text/plain": [
       "HBox(children=(FloatProgress(value=0.0, max=1392.0), HTML(value='')))"
      ]
     },
     "metadata": {},
     "output_type": "display_data"
    },
    {
     "name": "stdout",
     "output_type": "stream",
     "text": [
      "\n",
      "[0.007910862400633715, 0.00448796995858098, 0.006772553451412562, 0.0023690622971027156, 0.0009352933180152169, 0.0014853041766527504, 0.0020745599842239898, 0.007099364417869995]\n"
     ]
    },
    {
     "data": {
      "application/vnd.jupyter.widget-view+json": {
       "model_id": "608ec60ab38740c591e3dd88b35437de",
       "version_major": 2,
       "version_minor": 0
      },
      "text/plain": [
       "HBox(children=(FloatProgress(value=0.0, max=1391.0), HTML(value='')))"
      ]
     },
     "metadata": {},
     "output_type": "display_data"
    },
    {
     "name": "stdout",
     "output_type": "stream",
     "text": [
      "\n",
      "[0.007910862400633715, 0.00448796995858098, 0.006772553451412562, 0.0023690622971027156, 0.0009352933180152169, 0.0014853041766527504, 0.0020745599842239898, 0.007099364417869995]\n"
     ]
    },
    {
     "data": {
      "application/vnd.jupyter.widget-view+json": {
       "model_id": "43e0139e42c24c348de35995a6962038",
       "version_major": 2,
       "version_minor": 0
      },
      "text/plain": [
       "HBox(children=(FloatProgress(value=0.0, max=1390.0), HTML(value='')))"
      ]
     },
     "metadata": {},
     "output_type": "display_data"
    },
    {
     "name": "stdout",
     "output_type": "stream",
     "text": [
      "\n",
      "[0.007910862400633715, 0.00448796995858098, 0.006772553451412562, 0.0023690622971027156, 0.0009352933180152169, 0.0014853041766527504, 0.0020745599842239898, 0.007099364417869995]\n"
     ]
    },
    {
     "data": {
      "application/vnd.jupyter.widget-view+json": {
       "model_id": "04bfc8bacf104d83a1c4f74aab6efb5b",
       "version_major": 2,
       "version_minor": 0
      },
      "text/plain": [
       "HBox(children=(FloatProgress(value=0.0, max=1391.0), HTML(value='')))"
      ]
     },
     "metadata": {},
     "output_type": "display_data"
    },
    {
     "name": "stdout",
     "output_type": "stream",
     "text": [
      "\n",
      "[0.007910862400633715, 0.00448796995858098, 0.006772553451412562, 0.0023690622971027156, 0.0009352933180152169, 0.0014853041766527504, 0.0020745599842239898, 0.007099364417869995]\n"
     ]
    },
    {
     "data": {
      "application/vnd.jupyter.widget-view+json": {
       "model_id": "cd2dd75bad04409997937645bec614ec",
       "version_major": 2,
       "version_minor": 0
      },
      "text/plain": [
       "HBox(children=(FloatProgress(value=0.0, max=1392.0), HTML(value='')))"
      ]
     },
     "metadata": {},
     "output_type": "display_data"
    },
    {
     "name": "stdout",
     "output_type": "stream",
     "text": [
      "\n",
      "[0.007910862400633715, 0.00448796995858098, 0.006772553451412562, 0.0023690622971027156, 0.0009352933180152169, 0.0014853041766527504, 0.0020745599842239898, 0.007099364417869995]\n"
     ]
    },
    {
     "data": {
      "application/vnd.jupyter.widget-view+json": {
       "model_id": "fc9de9558d5544a585862c14e3e8dba9",
       "version_major": 2,
       "version_minor": 0
      },
      "text/plain": [
       "HBox(children=(FloatProgress(value=0.0, max=1390.0), HTML(value='')))"
      ]
     },
     "metadata": {},
     "output_type": "display_data"
    },
    {
     "name": "stdout",
     "output_type": "stream",
     "text": [
      "\n",
      "[0.007910862400633715, 0.00448796995858098, 0.006772553451412562, 0.0023690622971027156, 0.0009352933180152169, 0.0014853041766527504, 0.0020745599842239898, 0.007099364417869995]\n"
     ]
    },
    {
     "data": {
      "application/vnd.jupyter.widget-view+json": {
       "model_id": "80dcb3601d8b4575bdc098053716175a",
       "version_major": 2,
       "version_minor": 0
      },
      "text/plain": [
       "HBox(children=(FloatProgress(value=0.0, max=1391.0), HTML(value='')))"
      ]
     },
     "metadata": {},
     "output_type": "display_data"
    },
    {
     "name": "stdout",
     "output_type": "stream",
     "text": [
      "\n",
      "[0.007910862400633715, 0.00448796995858098, 0.006772553451412562, 0.0023690622971027156, 0.0009352933180152169, 0.0014853041766527504, 0.0020745599842239898, 0.007099364417869995]\n"
     ]
    },
    {
     "data": {
      "application/vnd.jupyter.widget-view+json": {
       "model_id": "eac3294b180444af8a0746924e1969f5",
       "version_major": 2,
       "version_minor": 0
      },
      "text/plain": [
       "HBox(children=(FloatProgress(value=0.0, max=1391.0), HTML(value='')))"
      ]
     },
     "metadata": {},
     "output_type": "display_data"
    },
    {
     "name": "stdout",
     "output_type": "stream",
     "text": [
      "\n",
      "[0.007910862400633715, 0.00448796995858098, 0.006772553451412562, 0.0023690622971027156, 0.0009352933180152169, 0.0014853041766527504, 0.0020745599842239898, 0.007099364417869995]\n"
     ]
    },
    {
     "data": {
      "application/vnd.jupyter.widget-view+json": {
       "model_id": "fbb92458074c4eb88f8d30cb72958077",
       "version_major": 2,
       "version_minor": 0
      },
      "text/plain": [
       "HBox(children=(FloatProgress(value=0.0, max=1391.0), HTML(value='')))"
      ]
     },
     "metadata": {},
     "output_type": "display_data"
    },
    {
     "name": "stdout",
     "output_type": "stream",
     "text": [
      "\n",
      "[0.007910862400633715, 0.00448796995858098, 0.006772553451412562, 0.0023690622971027156, 0.0009352933180152169, 0.0014853041766527504, 0.0020745599842239898, 0.007099364417869995]\n"
     ]
    },
    {
     "data": {
      "application/vnd.jupyter.widget-view+json": {
       "model_id": "b71add85c93a45ec8374239e53925edd",
       "version_major": 2,
       "version_minor": 0
      },
      "text/plain": [
       "HBox(children=(FloatProgress(value=0.0, max=1390.0), HTML(value='')))"
      ]
     },
     "metadata": {},
     "output_type": "display_data"
    },
    {
     "name": "stdout",
     "output_type": "stream",
     "text": [
      "\n",
      "[0.007910862400633715, 0.00448796995858098, 0.006772553451412562, 0.0023690622971027156, 0.0009352933180152169, 0.0014853041766527504, 0.0020745599842239898, 0.007099364417869995]\n"
     ]
    },
    {
     "data": {
      "application/vnd.jupyter.widget-view+json": {
       "model_id": "c35e1ff6678648458acd48bb672d8a1d",
       "version_major": 2,
       "version_minor": 0
      },
      "text/plain": [
       "HBox(children=(FloatProgress(value=0.0, max=1392.0), HTML(value='')))"
      ]
     },
     "metadata": {},
     "output_type": "display_data"
    },
    {
     "name": "stdout",
     "output_type": "stream",
     "text": [
      "\n",
      "[0.007910862400633715, 0.00448796995858098, 0.006772553451412562, 0.0023690622971027156, 0.0009352933180152169, 0.0014853041766527504, 0.0020745599842239898, 0.007099364417869995]\n"
     ]
    },
    {
     "data": {
      "application/vnd.jupyter.widget-view+json": {
       "model_id": "a6a87339f25f4628945ad4503eef9d86",
       "version_major": 2,
       "version_minor": 0
      },
      "text/plain": [
       "HBox(children=(FloatProgress(value=0.0, max=1391.0), HTML(value='')))"
      ]
     },
     "metadata": {},
     "output_type": "display_data"
    },
    {
     "name": "stdout",
     "output_type": "stream",
     "text": [
      "\n",
      "[0.007910862400633715, 0.00448796995858098, 0.006772553451412562, 0.0023690622971027156, 0.0009352933180152169, 0.0014853041766527504, 0.0020745599842239898, 0.007099364417869995]\n"
     ]
    },
    {
     "data": {
      "application/vnd.jupyter.widget-view+json": {
       "model_id": "f99343592c474fdf99eddf17c87683c5",
       "version_major": 2,
       "version_minor": 0
      },
      "text/plain": [
       "HBox(children=(FloatProgress(value=0.0, max=1391.0), HTML(value='')))"
      ]
     },
     "metadata": {},
     "output_type": "display_data"
    },
    {
     "name": "stdout",
     "output_type": "stream",
     "text": [
      "\n",
      "[0.007910862400633715, 0.00448796995858098, 0.006772553451412562, 0.0023690622971027156, 0.0009352933180152169, 0.0014853041766527504, 0.0020745599842239898, 0.007099364417869995]\n"
     ]
    },
    {
     "data": {
      "application/vnd.jupyter.widget-view+json": {
       "model_id": "9ce6a043f2f448958a2a6afe20dda87d",
       "version_major": 2,
       "version_minor": 0
      },
      "text/plain": [
       "HBox(children=(FloatProgress(value=0.0, max=1390.0), HTML(value='')))"
      ]
     },
     "metadata": {},
     "output_type": "display_data"
    },
    {
     "name": "stdout",
     "output_type": "stream",
     "text": [
      "\n",
      "[0.007910862400633715, 0.00448796995858098, 0.006772553451412562, 0.0023690622971027156, 0.0009352933180152169, 0.0014853041766527504, 0.0020745599842239898, 0.007099364417869995]\n"
     ]
    },
    {
     "data": {
      "application/vnd.jupyter.widget-view+json": {
       "model_id": "2fa4a91df91e40aeace3505ff3d84a62",
       "version_major": 2,
       "version_minor": 0
      },
      "text/plain": [
       "HBox(children=(FloatProgress(value=0.0, max=1392.0), HTML(value='')))"
      ]
     },
     "metadata": {},
     "output_type": "display_data"
    },
    {
     "name": "stdout",
     "output_type": "stream",
     "text": [
      "\n",
      "[0.007910862400633715, 0.00448796995858098, 0.006772553451412562, 0.0023690622971027156, 0.0009352933180152169, 0.0014853041766527504, 0.0020745599842239898, 0.007099364417869995]\n"
     ]
    },
    {
     "data": {
      "application/vnd.jupyter.widget-view+json": {
       "model_id": "63f4c4df746a4e58a68aed4d4036b672",
       "version_major": 2,
       "version_minor": 0
      },
      "text/plain": [
       "HBox(children=(FloatProgress(value=0.0, max=1391.0), HTML(value='')))"
      ]
     },
     "metadata": {},
     "output_type": "display_data"
    },
    {
     "name": "stdout",
     "output_type": "stream",
     "text": [
      "\n",
      "[0.007910862400633715, 0.00448796995858098, 0.006772553451412562, 0.0023690622971027156, 0.0009352933180152169, 0.0014853041766527504, 0.0020745599842239898, 0.007099364417869995]\n"
     ]
    },
    {
     "data": {
      "application/vnd.jupyter.widget-view+json": {
       "model_id": "6cf09624a13a4cb693bba7009800bab3",
       "version_major": 2,
       "version_minor": 0
      },
      "text/plain": [
       "HBox(children=(FloatProgress(value=0.0, max=1392.0), HTML(value='')))"
      ]
     },
     "metadata": {},
     "output_type": "display_data"
    },
    {
     "name": "stdout",
     "output_type": "stream",
     "text": [
      "\n",
      "[0.007910862400633715, 0.00448796995858098, 0.006772553451412562, 0.0023690622971027156, 0.0009352933180152169, 0.0014853041766527504, 0.0020745599842239898, 0.007099364417869995]\n"
     ]
    },
    {
     "data": {
      "application/vnd.jupyter.widget-view+json": {
       "model_id": "f98201885ad04444a43ac8d413993353",
       "version_major": 2,
       "version_minor": 0
      },
      "text/plain": [
       "HBox(children=(FloatProgress(value=0.0, max=1391.0), HTML(value='')))"
      ]
     },
     "metadata": {},
     "output_type": "display_data"
    },
    {
     "name": "stdout",
     "output_type": "stream",
     "text": [
      "\n",
      "[0.007910862400633715, 0.00448796995858098, 0.006772553451412562, 0.0023690622971027156, 0.0009352933180152169, 0.0014853041766527504, 0.0020745599842239898, 0.007099364417869995]\n"
     ]
    },
    {
     "data": {
      "application/vnd.jupyter.widget-view+json": {
       "model_id": "252d600fdfce465f982851c025561da3",
       "version_major": 2,
       "version_minor": 0
      },
      "text/plain": [
       "HBox(children=(FloatProgress(value=0.0, max=1390.0), HTML(value='')))"
      ]
     },
     "metadata": {},
     "output_type": "display_data"
    },
    {
     "name": "stdout",
     "output_type": "stream",
     "text": [
      "\n",
      "[0.007910862400633715, 0.00448796995858098, 0.006772553451412562, 0.0023690622971027156, 0.0009352933180152169, 0.0014853041766527504, 0.0020745599842239898, 0.007099364417869995]\n"
     ]
    },
    {
     "data": {
      "application/vnd.jupyter.widget-view+json": {
       "model_id": "3e76e0545e5945cfb3737b35ecca101e",
       "version_major": 2,
       "version_minor": 0
      },
      "text/plain": [
       "HBox(children=(FloatProgress(value=0.0, max=1392.0), HTML(value='')))"
      ]
     },
     "metadata": {},
     "output_type": "display_data"
    },
    {
     "name": "stdout",
     "output_type": "stream",
     "text": [
      "\n",
      "[0.007910862400633715, 0.00448796995858098, 0.006772553451412562, 0.0023690622971027156, 0.0009352933180152169, 0.0014853041766527504, 0.0020745599842239898, 0.007099364417869995]\n"
     ]
    },
    {
     "data": {
      "application/vnd.jupyter.widget-view+json": {
       "model_id": "d25930f7b51549648db9298473bbf03b",
       "version_major": 2,
       "version_minor": 0
      },
      "text/plain": [
       "HBox(children=(FloatProgress(value=0.0, max=1391.0), HTML(value='')))"
      ]
     },
     "metadata": {},
     "output_type": "display_data"
    },
    {
     "name": "stdout",
     "output_type": "stream",
     "text": [
      "\n",
      "[0.007910862400633715, 0.00448796995858098, 0.006772553451412562, 0.0023690622971027156, 0.0009352933180152169, 0.0014853041766527504, 0.0020745599842239898, 0.007099364417869995]\n"
     ]
    },
    {
     "data": {
      "application/vnd.jupyter.widget-view+json": {
       "model_id": "11b6c13c1e24476ab558498549e524fc",
       "version_major": 2,
       "version_minor": 0
      },
      "text/plain": [
       "HBox(children=(FloatProgress(value=0.0, max=1390.0), HTML(value='')))"
      ]
     },
     "metadata": {},
     "output_type": "display_data"
    },
    {
     "name": "stdout",
     "output_type": "stream",
     "text": [
      "\n",
      "[0.007910862400633715, 0.00448796995858098, 0.006772553451412562, 0.0023690622971027156, 0.0009352933180152169, 0.0014853041766527504, 0.0020745599842239898, 0.007099364417869995]\n"
     ]
    },
    {
     "data": {
      "application/vnd.jupyter.widget-view+json": {
       "model_id": "43b1d6e297564345baedf6079536644c",
       "version_major": 2,
       "version_minor": 0
      },
      "text/plain": [
       "HBox(children=(FloatProgress(value=0.0, max=1391.0), HTML(value='')))"
      ]
     },
     "metadata": {},
     "output_type": "display_data"
    },
    {
     "name": "stdout",
     "output_type": "stream",
     "text": [
      "\n",
      "[0.007910862400633715, 0.00448796995858098, 0.006772553451412562, 0.0023690622971027156, 0.0009352933180152169, 0.0014853041766527504, 0.0020745599842239898, 0.007099364417869995]\n"
     ]
    },
    {
     "data": {
      "application/vnd.jupyter.widget-view+json": {
       "model_id": "37dff0b1660a49c68225462f25c66c4c",
       "version_major": 2,
       "version_minor": 0
      },
      "text/plain": [
       "HBox(children=(FloatProgress(value=0.0, max=1391.0), HTML(value='')))"
      ]
     },
     "metadata": {},
     "output_type": "display_data"
    },
    {
     "name": "stdout",
     "output_type": "stream",
     "text": [
      "\n",
      "[0.007910862400633715, 0.00448796995858098, 0.006772553451412562, 0.0023690622971027156, 0.0009352933180152169, 0.0014853041766527504, 0.0020745599842239898, 0.007099364417869995]\n"
     ]
    },
    {
     "data": {
      "application/vnd.jupyter.widget-view+json": {
       "model_id": "829dc24bfd6d4e329b74bba180fbf42f",
       "version_major": 2,
       "version_minor": 0
      },
      "text/plain": [
       "HBox(children=(FloatProgress(value=0.0, max=1390.0), HTML(value='')))"
      ]
     },
     "metadata": {},
     "output_type": "display_data"
    },
    {
     "name": "stdout",
     "output_type": "stream",
     "text": [
      "\n",
      "[0.007910862400633715, 0.00448796995858098, 0.006772553451412562, 0.0023690622971027156, 0.0009352933180152169, 0.0014853041766527504, 0.0020745599842239898, 0.007099364417869995]\n"
     ]
    },
    {
     "data": {
      "application/vnd.jupyter.widget-view+json": {
       "model_id": "cf9eb2e6cd0a440caec840708c5ec401",
       "version_major": 2,
       "version_minor": 0
      },
      "text/plain": [
       "HBox(children=(FloatProgress(value=0.0, max=1392.0), HTML(value='')))"
      ]
     },
     "metadata": {},
     "output_type": "display_data"
    },
    {
     "name": "stdout",
     "output_type": "stream",
     "text": [
      "\n",
      "[0.007910862400633715, 0.00448796995858098, 0.006772553451412562, 0.0023690622971027156, 0.0009352933180152169, 0.0014853041766527504, 0.0020745599842239898, 0.007099364417869995]\n"
     ]
    },
    {
     "data": {
      "application/vnd.jupyter.widget-view+json": {
       "model_id": "aa1e5171a47444cba7e7ef3164d8b476",
       "version_major": 2,
       "version_minor": 0
      },
      "text/plain": [
       "HBox(children=(FloatProgress(value=0.0, max=1392.0), HTML(value='')))"
      ]
     },
     "metadata": {},
     "output_type": "display_data"
    },
    {
     "name": "stdout",
     "output_type": "stream",
     "text": [
      "\n",
      "[0.007910862400633715, 0.00448796995858098, 0.006772553451412562, 0.0023690622971027156, 0.0009352933180152169, 0.0014853041766527504, 0.0020745599842239898, 0.007099364417869995]\n"
     ]
    },
    {
     "data": {
      "application/vnd.jupyter.widget-view+json": {
       "model_id": "5e8722e6407a4d2a9c42bb574abb3e43",
       "version_major": 2,
       "version_minor": 0
      },
      "text/plain": [
       "HBox(children=(FloatProgress(value=0.0, max=1390.0), HTML(value='')))"
      ]
     },
     "metadata": {},
     "output_type": "display_data"
    },
    {
     "name": "stdout",
     "output_type": "stream",
     "text": [
      "\n",
      "[0.007910862400633715, 0.00448796995858098, 0.006772553451412562, 0.0023690622971027156, 0.0009352933180152169, 0.0014853041766527504, 0.0020745599842239898, 0.007099364417869995]\n"
     ]
    },
    {
     "data": {
      "application/vnd.jupyter.widget-view+json": {
       "model_id": "f79389aca93f46899b9360a10d318423",
       "version_major": 2,
       "version_minor": 0
      },
      "text/plain": [
       "HBox(children=(FloatProgress(value=0.0, max=1391.0), HTML(value='')))"
      ]
     },
     "metadata": {},
     "output_type": "display_data"
    },
    {
     "name": "stdout",
     "output_type": "stream",
     "text": [
      "\n",
      "[0.007910862400633715, 0.00448796995858098, 0.006772553451412562, 0.0023690622971027156, 0.0009352933180152169, 0.0014853041766527504, 0.0020745599842239898, 0.007099364417869995]\n"
     ]
    },
    {
     "data": {
      "application/vnd.jupyter.widget-view+json": {
       "model_id": "301a8f64bbfb491992cc187fa33c1ef9",
       "version_major": 2,
       "version_minor": 0
      },
      "text/plain": [
       "HBox(children=(FloatProgress(value=0.0, max=1391.0), HTML(value='')))"
      ]
     },
     "metadata": {},
     "output_type": "display_data"
    },
    {
     "name": "stdout",
     "output_type": "stream",
     "text": [
      "\n",
      "[0.007910862400633715, 0.00448796995858098, 0.006772553451412562, 0.0023690622971027156, 0.0009352933180152169, 0.0014853041766527504, 0.0020745599842239898, 0.007099364417869995]\n"
     ]
    },
    {
     "data": {
      "application/vnd.jupyter.widget-view+json": {
       "model_id": "13e60429d63d4bd3825e1627978fc803",
       "version_major": 2,
       "version_minor": 0
      },
      "text/plain": [
       "HBox(children=(FloatProgress(value=0.0, max=1392.0), HTML(value='')))"
      ]
     },
     "metadata": {},
     "output_type": "display_data"
    },
    {
     "name": "stdout",
     "output_type": "stream",
     "text": [
      "\n",
      "[0.007910862400633715, 0.00448796995858098, 0.006772553451412562, 0.0023690622971027156, 0.0009352933180152169, 0.0014853041766527504, 0.0020745599842239898, 0.007099364417869995]\n"
     ]
    },
    {
     "data": {
      "application/vnd.jupyter.widget-view+json": {
       "model_id": "1d84db2ba4444ec7ad26407acdeafaa6",
       "version_major": 2,
       "version_minor": 0
      },
      "text/plain": [
       "HBox(children=(FloatProgress(value=0.0, max=1391.0), HTML(value='')))"
      ]
     },
     "metadata": {},
     "output_type": "display_data"
    },
    {
     "name": "stdout",
     "output_type": "stream",
     "text": [
      "\n",
      "[0.007910862400633715, 0.00448796995858098, 0.006772553451412562, 0.0023690622971027156, 0.0009352933180152169, 0.0014853041766527504, 0.0020745599842239898, 0.007099364417869995]\n"
     ]
    },
    {
     "data": {
      "application/vnd.jupyter.widget-view+json": {
       "model_id": "ef6ad642c2274b03a0de4211edd7210d",
       "version_major": 2,
       "version_minor": 0
      },
      "text/plain": [
       "HBox(children=(FloatProgress(value=0.0, max=1391.0), HTML(value='')))"
      ]
     },
     "metadata": {},
     "output_type": "display_data"
    },
    {
     "name": "stdout",
     "output_type": "stream",
     "text": [
      "\n",
      "[0.007910862400633715, 0.00448796995858098, 0.006772553451412562, 0.0023690622971027156, 0.0009352933180152169, 0.0014853041766527504, 0.0020745599842239898, 0.007099364417869995]\n"
     ]
    },
    {
     "data": {
      "application/vnd.jupyter.widget-view+json": {
       "model_id": "55bb5a0df33943b280945e581cbaa773",
       "version_major": 2,
       "version_minor": 0
      },
      "text/plain": [
       "HBox(children=(FloatProgress(value=0.0, max=1390.0), HTML(value='')))"
      ]
     },
     "metadata": {},
     "output_type": "display_data"
    },
    {
     "name": "stdout",
     "output_type": "stream",
     "text": [
      "\n",
      "[0.007910862400633715, 0.00448796995858098, 0.006772553451412562, 0.0023690622971027156, 0.0009352933180152169, 0.0014853041766527504, 0.0020745599842239898, 0.007099364417869995]\n"
     ]
    },
    {
     "data": {
      "application/vnd.jupyter.widget-view+json": {
       "model_id": "2bf6ceaaaced4863a924be719929d693",
       "version_major": 2,
       "version_minor": 0
      },
      "text/plain": [
       "HBox(children=(FloatProgress(value=0.0, max=1392.0), HTML(value='')))"
      ]
     },
     "metadata": {},
     "output_type": "display_data"
    },
    {
     "name": "stdout",
     "output_type": "stream",
     "text": [
      "\n",
      "[0.007910862400633715, 0.00448796995858098, 0.006772553451412562, 0.0023690622971027156, 0.0009352933180152169, 0.0014853041766527504, 0.0020745599842239898, 0.007099364417869995]\n"
     ]
    },
    {
     "data": {
      "application/vnd.jupyter.widget-view+json": {
       "model_id": "e58f03e7841c4150a4ffcc4674f24e2b",
       "version_major": 2,
       "version_minor": 0
      },
      "text/plain": [
       "HBox(children=(FloatProgress(value=0.0, max=1391.0), HTML(value='')))"
      ]
     },
     "metadata": {},
     "output_type": "display_data"
    },
    {
     "name": "stdout",
     "output_type": "stream",
     "text": [
      "\n",
      "[0.007910862400633715, 0.00448796995858098, 0.006772553451412562, 0.0023690622971027156, 0.0009352933180152169, 0.0014853041766527504, 0.0020745599842239898, 0.007099364417869995]\n"
     ]
    },
    {
     "data": {
      "application/vnd.jupyter.widget-view+json": {
       "model_id": "a0368ddcc09447f1bf2004a2226f39f9",
       "version_major": 2,
       "version_minor": 0
      },
      "text/plain": [
       "HBox(children=(FloatProgress(value=0.0, max=1390.0), HTML(value='')))"
      ]
     },
     "metadata": {},
     "output_type": "display_data"
    },
    {
     "name": "stdout",
     "output_type": "stream",
     "text": [
      "\n",
      "[0.007910862400633715, 0.00448796995858098, 0.006772553451412562, 0.0023690622971027156, 0.0009352933180152169, 0.0014853041766527504, 0.0020745599842239898, 0.007099364417869995]\n"
     ]
    },
    {
     "data": {
      "application/vnd.jupyter.widget-view+json": {
       "model_id": "651fc1f00c6241078014870696ce14df",
       "version_major": 2,
       "version_minor": 0
      },
      "text/plain": [
       "HBox(children=(FloatProgress(value=0.0, max=1391.0), HTML(value='')))"
      ]
     },
     "metadata": {},
     "output_type": "display_data"
    },
    {
     "name": "stdout",
     "output_type": "stream",
     "text": [
      "\n",
      "[0.007910862400633715, 0.00448796995858098, 0.006772553451412562, 0.0023690622971027156, 0.0009352933180152169, 0.0014853041766527504, 0.0020745599842239898, 0.007099364417869995]\n"
     ]
    },
    {
     "data": {
      "application/vnd.jupyter.widget-view+json": {
       "model_id": "9042cb88d0da439a8ecc1b91089d196b",
       "version_major": 2,
       "version_minor": 0
      },
      "text/plain": [
       "HBox(children=(FloatProgress(value=0.0, max=1392.0), HTML(value='')))"
      ]
     },
     "metadata": {},
     "output_type": "display_data"
    },
    {
     "name": "stdout",
     "output_type": "stream",
     "text": [
      "\n",
      "[0.007910862400633715, 0.00448796995858098, 0.006772553451412562, 0.0023690622971027156, 0.0009352933180152169, 0.0014853041766527504, 0.0020745599842239898, 0.007099364417869995]\n"
     ]
    },
    {
     "data": {
      "application/vnd.jupyter.widget-view+json": {
       "model_id": "d22ff1ddf9974702b03f2068b05e9cee",
       "version_major": 2,
       "version_minor": 0
      },
      "text/plain": [
       "HBox(children=(FloatProgress(value=0.0, max=1391.0), HTML(value='')))"
      ]
     },
     "metadata": {},
     "output_type": "display_data"
    },
    {
     "name": "stdout",
     "output_type": "stream",
     "text": [
      "\n",
      "[0.007910862400633715, 0.00448796995858098, 0.006772553451412562, 0.0023690622971027156, 0.0009352933180152169, 0.0014853041766527504, 0.0020745599842239898, 0.007099364417869995]\n"
     ]
    },
    {
     "data": {
      "application/vnd.jupyter.widget-view+json": {
       "model_id": "b5bd66b2767149109ced67625b077803",
       "version_major": 2,
       "version_minor": 0
      },
      "text/plain": [
       "HBox(children=(FloatProgress(value=0.0, max=1390.0), HTML(value='')))"
      ]
     },
     "metadata": {},
     "output_type": "display_data"
    },
    {
     "name": "stdout",
     "output_type": "stream",
     "text": [
      "\n",
      "[0.007910862400633715, 0.00448796995858098, 0.006772553451412562, 0.0023690622971027156, 0.0009352933180152169, 0.0014853041766527504, 0.0020745599842239898, 0.007099364417869995]\n"
     ]
    },
    {
     "data": {
      "application/vnd.jupyter.widget-view+json": {
       "model_id": "ce186e7d2f1546ccabaa6f395314dbe4",
       "version_major": 2,
       "version_minor": 0
      },
      "text/plain": [
       "HBox(children=(FloatProgress(value=0.0, max=1391.0), HTML(value='')))"
      ]
     },
     "metadata": {},
     "output_type": "display_data"
    },
    {
     "name": "stdout",
     "output_type": "stream",
     "text": [
      "\n",
      "[0.007910862400633715, 0.00448796995858098, 0.006772553451412562, 0.0023690622971027156, 0.0009352933180152169, 0.0014853041766527504, 0.0020745599842239898, 0.007099364417869995]\n"
     ]
    },
    {
     "data": {
      "application/vnd.jupyter.widget-view+json": {
       "model_id": "6d0b20812ea54803951d5148cd2b6a65",
       "version_major": 2,
       "version_minor": 0
      },
      "text/plain": [
       "HBox(children=(FloatProgress(value=0.0, max=1392.0), HTML(value='')))"
      ]
     },
     "metadata": {},
     "output_type": "display_data"
    },
    {
     "name": "stdout",
     "output_type": "stream",
     "text": [
      "\n",
      "[0.007910862400633715, 0.00448796995858098, 0.006772553451412562, 0.0023690622971027156, 0.0009352933180152169, 0.0014853041766527504, 0.0020745599842239898, 0.007099364417869995]\n"
     ]
    },
    {
     "data": {
      "application/vnd.jupyter.widget-view+json": {
       "model_id": "df66b41dfe5f4307a389a43cf3e03f65",
       "version_major": 2,
       "version_minor": 0
      },
      "text/plain": [
       "HBox(children=(FloatProgress(value=0.0, max=1391.0), HTML(value='')))"
      ]
     },
     "metadata": {},
     "output_type": "display_data"
    },
    {
     "name": "stdout",
     "output_type": "stream",
     "text": [
      "\n",
      "[0.007910862400633715, 0.00448796995858098, 0.006772553451412562, 0.0023690622971027156, 0.0009352933180152169, 0.0014853041766527504, 0.0020745599842239898, 0.007099364417869995]\n"
     ]
    },
    {
     "data": {
      "application/vnd.jupyter.widget-view+json": {
       "model_id": "7666d2b27ba347459b9b7cf389b1e70b",
       "version_major": 2,
       "version_minor": 0
      },
      "text/plain": [
       "HBox(children=(FloatProgress(value=0.0, max=1391.0), HTML(value='')))"
      ]
     },
     "metadata": {},
     "output_type": "display_data"
    },
    {
     "name": "stdout",
     "output_type": "stream",
     "text": [
      "\n",
      "[0.007910862400633715, 0.00448796995858098, 0.006772553451412562, 0.0023690622971027156, 0.0009352933180152169, 0.0014853041766527504, 0.0020745599842239898, 0.007099364417869995]\n"
     ]
    },
    {
     "data": {
      "application/vnd.jupyter.widget-view+json": {
       "model_id": "db82863a8b714fc4b48a8cbfd31e6f44",
       "version_major": 2,
       "version_minor": 0
      },
      "text/plain": [
       "HBox(children=(FloatProgress(value=0.0, max=1390.0), HTML(value='')))"
      ]
     },
     "metadata": {},
     "output_type": "display_data"
    },
    {
     "name": "stdout",
     "output_type": "stream",
     "text": [
      "\n",
      "[0.007910862400633715, 0.00448796995858098, 0.006772553451412562, 0.0023690622971027156, 0.0009352933180152169, 0.0014853041766527504, 0.0020745599842239898, 0.007099364417869995]\n"
     ]
    },
    {
     "data": {
      "application/vnd.jupyter.widget-view+json": {
       "model_id": "fd6ad9fcd6994283a2896d328e21ae0f",
       "version_major": 2,
       "version_minor": 0
      },
      "text/plain": [
       "HBox(children=(FloatProgress(value=0.0, max=1391.0), HTML(value='')))"
      ]
     },
     "metadata": {},
     "output_type": "display_data"
    },
    {
     "name": "stdout",
     "output_type": "stream",
     "text": [
      "\n",
      "[0.007910862400633715, 0.00448796995858098, 0.006772553451412562, 0.0023690622971027156, 0.0009352933180152169, 0.0014853041766527504, 0.0020745599842239898, 0.007099364417869995]\n"
     ]
    },
    {
     "data": {
      "application/vnd.jupyter.widget-view+json": {
       "model_id": "a4ca863dfd504a57b41941c525819000",
       "version_major": 2,
       "version_minor": 0
      },
      "text/plain": [
       "HBox(children=(FloatProgress(value=0.0, max=1392.0), HTML(value='')))"
      ]
     },
     "metadata": {},
     "output_type": "display_data"
    },
    {
     "name": "stdout",
     "output_type": "stream",
     "text": [
      "\n",
      "[0.007910862400633715, 0.00448796995858098, 0.006772553451412562, 0.0023690622971027156, 0.0009352933180152169, 0.0014853041766527504, 0.0020745599842239898, 0.007099364417869995]\n"
     ]
    },
    {
     "data": {
      "application/vnd.jupyter.widget-view+json": {
       "model_id": "4d3e9cb701c948d1959f6a6bf704afc7",
       "version_major": 2,
       "version_minor": 0
      },
      "text/plain": [
       "HBox(children=(FloatProgress(value=0.0, max=1391.0), HTML(value='')))"
      ]
     },
     "metadata": {},
     "output_type": "display_data"
    },
    {
     "name": "stdout",
     "output_type": "stream",
     "text": [
      "\n",
      "[0.007910862400633715, 0.00448796995858098, 0.006772553451412562, 0.0023690622971027156, 0.0009352933180152169, 0.0014853041766527504, 0.0020745599842239898, 0.007099364417869995]\n"
     ]
    },
    {
     "data": {
      "application/vnd.jupyter.widget-view+json": {
       "model_id": "8bda14e5b06d4df3be1c979a8444362d",
       "version_major": 2,
       "version_minor": 0
      },
      "text/plain": [
       "HBox(children=(FloatProgress(value=0.0, max=1390.0), HTML(value='')))"
      ]
     },
     "metadata": {},
     "output_type": "display_data"
    },
    {
     "name": "stdout",
     "output_type": "stream",
     "text": [
      "\n",
      "[0.007910862400633715, 0.00448796995858098, 0.006772553451412562, 0.0023690622971027156, 0.0009352933180152169, 0.0014853041766527504, 0.0020745599842239898, 0.007099364417869995]\n"
     ]
    },
    {
     "data": {
      "application/vnd.jupyter.widget-view+json": {
       "model_id": "9ee06b08ca0c4b5a9daf345f627c6d30",
       "version_major": 2,
       "version_minor": 0
      },
      "text/plain": [
       "HBox(children=(FloatProgress(value=0.0, max=1392.0), HTML(value='')))"
      ]
     },
     "metadata": {},
     "output_type": "display_data"
    },
    {
     "name": "stdout",
     "output_type": "stream",
     "text": [
      "\n",
      "[0.007910862400633715, 0.00448796995858098, 0.006772553451412562, 0.0023690622971027156, 0.0009352933180152169, 0.0014853041766527504, 0.0020745599842239898, 0.007099364417869995]\n"
     ]
    },
    {
     "data": {
      "application/vnd.jupyter.widget-view+json": {
       "model_id": "3f95676c86154596a396c2dd621f91ce",
       "version_major": 2,
       "version_minor": 0
      },
      "text/plain": [
       "HBox(children=(FloatProgress(value=0.0, max=1391.0), HTML(value='')))"
      ]
     },
     "metadata": {},
     "output_type": "display_data"
    },
    {
     "name": "stdout",
     "output_type": "stream",
     "text": [
      "\n",
      "[0.007910862400633715, 0.00448796995858098, 0.006772553451412562, 0.0023690622971027156, 0.0009352933180152169, 0.0014853041766527504, 0.0020745599842239898, 0.007099364417869995]\n"
     ]
    },
    {
     "data": {
      "application/vnd.jupyter.widget-view+json": {
       "model_id": "b48afa863ef045d0bd033dde5aef723b",
       "version_major": 2,
       "version_minor": 0
      },
      "text/plain": [
       "HBox(children=(FloatProgress(value=0.0, max=1391.0), HTML(value='')))"
      ]
     },
     "metadata": {},
     "output_type": "display_data"
    },
    {
     "name": "stdout",
     "output_type": "stream",
     "text": [
      "\n",
      "[0.007910862400633715, 0.00448796995858098, 0.006772553451412562, 0.0023690622971027156, 0.0009352933180152169, 0.0014853041766527504, 0.0020745599842239898, 0.007099364417869995]\n"
     ]
    },
    {
     "data": {
      "application/vnd.jupyter.widget-view+json": {
       "model_id": "b1ec18c1913640b4be72373b13def3e5",
       "version_major": 2,
       "version_minor": 0
      },
      "text/plain": [
       "HBox(children=(FloatProgress(value=0.0, max=1390.0), HTML(value='')))"
      ]
     },
     "metadata": {},
     "output_type": "display_data"
    },
    {
     "name": "stdout",
     "output_type": "stream",
     "text": [
      "\n",
      "[0.007910862400633715, 0.00448796995858098, 0.006772553451412562, 0.0023690622971027156, 0.0009352933180152169, 0.0014853041766527504, 0.0020745599842239898, 0.007099364417869995]\n"
     ]
    },
    {
     "data": {
      "application/vnd.jupyter.widget-view+json": {
       "model_id": "9fa05482f938499eb3c21da4e9ad01c4",
       "version_major": 2,
       "version_minor": 0
      },
      "text/plain": [
       "HBox(children=(FloatProgress(value=0.0, max=1391.0), HTML(value='')))"
      ]
     },
     "metadata": {},
     "output_type": "display_data"
    },
    {
     "name": "stdout",
     "output_type": "stream",
     "text": [
      "\n",
      "[0.007910862400633715, 0.00448796995858098, 0.006772553451412562, 0.0023690622971027156, 0.0009352933180152169, 0.0014853041766527504, 0.0020745599842239898, 0.007099364417869995]\n"
     ]
    },
    {
     "data": {
      "application/vnd.jupyter.widget-view+json": {
       "model_id": "5d0e4636ac2c4924862444e9b476c4c9",
       "version_major": 2,
       "version_minor": 0
      },
      "text/plain": [
       "HBox(children=(FloatProgress(value=0.0, max=1391.0), HTML(value='')))"
      ]
     },
     "metadata": {},
     "output_type": "display_data"
    },
    {
     "name": "stdout",
     "output_type": "stream",
     "text": [
      "\n",
      "[0.007910862400633715, 0.00448796995858098, 0.006772553451412562, 0.0023690622971027156, 0.0009352933180152169, 0.0014853041766527504, 0.0020745599842239898, 0.007099364417869995]\n"
     ]
    },
    {
     "data": {
      "application/vnd.jupyter.widget-view+json": {
       "model_id": "f5eea2e75a8b4b67a2fca404fc9d6272",
       "version_major": 2,
       "version_minor": 0
      },
      "text/plain": [
       "HBox(children=(FloatProgress(value=0.0, max=1390.0), HTML(value='')))"
      ]
     },
     "metadata": {},
     "output_type": "display_data"
    },
    {
     "name": "stdout",
     "output_type": "stream",
     "text": [
      "\n",
      "[0.007910862400633715, 0.00448796995858098, 0.006772553451412562, 0.0023690622971027156, 0.0009352933180152169, 0.0014853041766527504, 0.0020745599842239898, 0.007099364417869995]\n"
     ]
    },
    {
     "data": {
      "application/vnd.jupyter.widget-view+json": {
       "model_id": "54eb5977b4fa4c50bdaf4ea22d5eea58",
       "version_major": 2,
       "version_minor": 0
      },
      "text/plain": [
       "HBox(children=(FloatProgress(value=0.0, max=1392.0), HTML(value='')))"
      ]
     },
     "metadata": {},
     "output_type": "display_data"
    },
    {
     "name": "stdout",
     "output_type": "stream",
     "text": [
      "\n",
      "[0.007910862400633715, 0.00448796995858098, 0.006772553451412562, 0.0023690622971027156, 0.0009352933180152169, 0.0014853041766527504, 0.0020745599842239898, 0.007099364417869995]\n"
     ]
    },
    {
     "data": {
      "application/vnd.jupyter.widget-view+json": {
       "model_id": "46d7d848501746af9cd36eea8c53d89e",
       "version_major": 2,
       "version_minor": 0
      },
      "text/plain": [
       "HBox(children=(FloatProgress(value=0.0, max=1391.0), HTML(value='')))"
      ]
     },
     "metadata": {},
     "output_type": "display_data"
    },
    {
     "name": "stdout",
     "output_type": "stream",
     "text": [
      "\n",
      "[0.007910862400633715, 0.00448796995858098, 0.006772553451412562, 0.0023690622971027156, 0.0009352933180152169, 0.0014853041766527504, 0.0020745599842239898, 0.007099364417869995]\n"
     ]
    },
    {
     "data": {
      "application/vnd.jupyter.widget-view+json": {
       "model_id": "b6992116d8f647d08ec5b8f06cf4c12e",
       "version_major": 2,
       "version_minor": 0
      },
      "text/plain": [
       "HBox(children=(FloatProgress(value=0.0, max=1392.0), HTML(value='')))"
      ]
     },
     "metadata": {},
     "output_type": "display_data"
    },
    {
     "name": "stdout",
     "output_type": "stream",
     "text": [
      "\n",
      "[0.007910862400633715, 0.00448796995858098, 0.006772553451412562, 0.0023690622971027156, 0.0009352933180152169, 0.0014853041766527504, 0.0020745599842239898, 0.007099364417869995]\n"
     ]
    },
    {
     "data": {
      "application/vnd.jupyter.widget-view+json": {
       "model_id": "d7a513af86c345beba8fa518e6f2b987",
       "version_major": 2,
       "version_minor": 0
      },
      "text/plain": [
       "HBox(children=(FloatProgress(value=0.0, max=1391.0), HTML(value='')))"
      ]
     },
     "metadata": {},
     "output_type": "display_data"
    },
    {
     "name": "stdout",
     "output_type": "stream",
     "text": [
      "\n",
      "[0.007910862400633715, 0.00448796995858098, 0.006772553451412562, 0.0023690622971027156, 0.0009352933180152169, 0.0014853041766527504, 0.0020745599842239898, 0.007099364417869995]\n"
     ]
    },
    {
     "data": {
      "application/vnd.jupyter.widget-view+json": {
       "model_id": "80d2c3bbd27443329b4e6cb962ca92a0",
       "version_major": 2,
       "version_minor": 0
      },
      "text/plain": [
       "HBox(children=(FloatProgress(value=0.0, max=1390.0), HTML(value='')))"
      ]
     },
     "metadata": {},
     "output_type": "display_data"
    },
    {
     "name": "stdout",
     "output_type": "stream",
     "text": [
      "\n",
      "[0.007910862400633715, 0.00448796995858098, 0.006772553451412562, 0.0023690622971027156, 0.0009352933180152169, 0.0014853041766527504, 0.0020745599842239898, 0.007099364417869995]\n"
     ]
    },
    {
     "data": {
      "application/vnd.jupyter.widget-view+json": {
       "model_id": "9d75b66b1db149a0ac3f0f9e4adff14f",
       "version_major": 2,
       "version_minor": 0
      },
      "text/plain": [
       "HBox(children=(FloatProgress(value=0.0, max=1391.0), HTML(value='')))"
      ]
     },
     "metadata": {},
     "output_type": "display_data"
    },
    {
     "name": "stdout",
     "output_type": "stream",
     "text": [
      "\n",
      "[0.007910862400633715, 0.00448796995858098, 0.006772553451412562, 0.0023690622971027156, 0.0009352933180152169, 0.0014853041766527504, 0.0020745599842239898, 0.007099364417869995]\n"
     ]
    },
    {
     "data": {
      "application/vnd.jupyter.widget-view+json": {
       "model_id": "153efba49d85405ba65b3b2aeeebcee3",
       "version_major": 2,
       "version_minor": 0
      },
      "text/plain": [
       "HBox(children=(FloatProgress(value=0.0, max=1390.0), HTML(value='')))"
      ]
     },
     "metadata": {},
     "output_type": "display_data"
    },
    {
     "name": "stdout",
     "output_type": "stream",
     "text": [
      "\n",
      "[0.007910862400633715, 0.00448796995858098, 0.006772553451412562, 0.0023690622971027156, 0.0009352933180152169, 0.0014853041766527504, 0.0020745599842239898, 0.007099364417869995]\n"
     ]
    },
    {
     "data": {
      "application/vnd.jupyter.widget-view+json": {
       "model_id": "91db6371c31a42618b3f8a597eef0fdd",
       "version_major": 2,
       "version_minor": 0
      },
      "text/plain": [
       "HBox(children=(FloatProgress(value=0.0, max=1392.0), HTML(value='')))"
      ]
     },
     "metadata": {},
     "output_type": "display_data"
    },
    {
     "name": "stdout",
     "output_type": "stream",
     "text": [
      "\n",
      "[0.007910862400633715, 0.00448796995858098, 0.006772553451412562, 0.0023690622971027156, 0.0009352933180152169, 0.0014853041766527504, 0.0020745599842239898, 0.007099364417869995]\n"
     ]
    },
    {
     "data": {
      "application/vnd.jupyter.widget-view+json": {
       "model_id": "ab75e8b3435948938661dd406c914133",
       "version_major": 2,
       "version_minor": 0
      },
      "text/plain": [
       "HBox(children=(FloatProgress(value=0.0, max=1391.0), HTML(value='')))"
      ]
     },
     "metadata": {},
     "output_type": "display_data"
    },
    {
     "name": "stdout",
     "output_type": "stream",
     "text": [
      "\n",
      "[0.007910862400633715, 0.00448796995858098, 0.006772553451412562, 0.0023690622971027156, 0.0009352933180152169, 0.0014853041766527504, 0.0020745599842239898, 0.007099364417869995]\n"
     ]
    },
    {
     "data": {
      "application/vnd.jupyter.widget-view+json": {
       "model_id": "1fe1269fdea44e38a5ca3a4f3b972ad4",
       "version_major": 2,
       "version_minor": 0
      },
      "text/plain": [
       "HBox(children=(FloatProgress(value=0.0, max=1391.0), HTML(value='')))"
      ]
     },
     "metadata": {},
     "output_type": "display_data"
    },
    {
     "name": "stdout",
     "output_type": "stream",
     "text": [
      "\n",
      "[0.007910862400633715, 0.00448796995858098, 0.006772553451412562, 0.0023690622971027156, 0.0009352933180152169, 0.0014853041766527504, 0.0020745599842239898, 0.007099364417869995]\n"
     ]
    },
    {
     "data": {
      "application/vnd.jupyter.widget-view+json": {
       "model_id": "d1db83f45cc640569ce01f88ffea2974",
       "version_major": 2,
       "version_minor": 0
      },
      "text/plain": [
       "HBox(children=(FloatProgress(value=0.0, max=1391.0), HTML(value='')))"
      ]
     },
     "metadata": {},
     "output_type": "display_data"
    },
    {
     "name": "stdout",
     "output_type": "stream",
     "text": [
      "\n",
      "[0.007910862400633715, 0.00448796995858098, 0.006772553451412562, 0.0023690622971027156, 0.0009352933180152169, 0.0014853041766527504, 0.0020745599842239898, 0.007099364417869995]\n"
     ]
    },
    {
     "data": {
      "application/vnd.jupyter.widget-view+json": {
       "model_id": "2cbdc278d3bf424a8d2b073ac80ab368",
       "version_major": 2,
       "version_minor": 0
      },
      "text/plain": [
       "HBox(children=(FloatProgress(value=0.0, max=1392.0), HTML(value='')))"
      ]
     },
     "metadata": {},
     "output_type": "display_data"
    },
    {
     "name": "stdout",
     "output_type": "stream",
     "text": [
      "\n",
      "[0.007910862400633715, 0.00448796995858098, 0.006772553451412562, 0.0023690622971027156, 0.0009352933180152169, 0.0014853041766527504, 0.0020745599842239898, 0.007099364417869995]\n"
     ]
    },
    {
     "data": {
      "application/vnd.jupyter.widget-view+json": {
       "model_id": "d594328d53ad40869af4b1a3e9d65b5a",
       "version_major": 2,
       "version_minor": 0
      },
      "text/plain": [
       "HBox(children=(FloatProgress(value=0.0, max=1390.0), HTML(value='')))"
      ]
     },
     "metadata": {},
     "output_type": "display_data"
    },
    {
     "name": "stdout",
     "output_type": "stream",
     "text": [
      "\n",
      "[0.007910862400633715, 0.00448796995858098, 0.006772553451412562, 0.0023690622971027156, 0.0009352933180152169, 0.0014853041766527504, 0.0020745599842239898, 0.007099364417869995]\n"
     ]
    },
    {
     "data": {
      "application/vnd.jupyter.widget-view+json": {
       "model_id": "9cc866e7c8654aa4a610e2d8c925281a",
       "version_major": 2,
       "version_minor": 0
      },
      "text/plain": [
       "HBox(children=(FloatProgress(value=0.0, max=1391.0), HTML(value='')))"
      ]
     },
     "metadata": {},
     "output_type": "display_data"
    },
    {
     "name": "stdout",
     "output_type": "stream",
     "text": [
      "\n",
      "[0.007910862400633715, 0.00448796995858098, 0.006772553451412562, 0.0023690622971027156, 0.0009352933180152169, 0.0014853041766527504, 0.0020745599842239898, 0.007099364417869995]\n"
     ]
    },
    {
     "data": {
      "application/vnd.jupyter.widget-view+json": {
       "model_id": "869d7211c57242ef839d558ba9ea85e1",
       "version_major": 2,
       "version_minor": 0
      },
      "text/plain": [
       "HBox(children=(FloatProgress(value=0.0, max=1390.0), HTML(value='')))"
      ]
     },
     "metadata": {},
     "output_type": "display_data"
    },
    {
     "name": "stdout",
     "output_type": "stream",
     "text": [
      "\n",
      "[0.007910862400633715, 0.00448796995858098, 0.006772553451412562, 0.0023690622971027156, 0.0009352933180152169, 0.0014853041766527504, 0.0020745599842239898, 0.007099364417869995]\n"
     ]
    },
    {
     "data": {
      "application/vnd.jupyter.widget-view+json": {
       "model_id": "43a48de5741a447183d0b9e22fce393f",
       "version_major": 2,
       "version_minor": 0
      },
      "text/plain": [
       "HBox(children=(FloatProgress(value=0.0, max=1391.0), HTML(value='')))"
      ]
     },
     "metadata": {},
     "output_type": "display_data"
    },
    {
     "name": "stdout",
     "output_type": "stream",
     "text": [
      "\n",
      "[0.007910862400633715, 0.00448796995858098, 0.006772553451412562, 0.0023690622971027156, 0.0009352933180152169, 0.0014853041766527504, 0.0020745599842239898, 0.007099364417869995]\n"
     ]
    },
    {
     "data": {
      "application/vnd.jupyter.widget-view+json": {
       "model_id": "7d714d071a234889869034e480254059",
       "version_major": 2,
       "version_minor": 0
      },
      "text/plain": [
       "HBox(children=(FloatProgress(value=0.0, max=1392.0), HTML(value='')))"
      ]
     },
     "metadata": {},
     "output_type": "display_data"
    },
    {
     "name": "stdout",
     "output_type": "stream",
     "text": [
      "\n",
      "[0.007910862400633715, 0.00448796995858098, 0.006772553451412562, 0.0023690622971027156, 0.0009352933180152169, 0.0014853041766527504, 0.0020745599842239898, 0.007099364417869995]\n"
     ]
    },
    {
     "data": {
      "application/vnd.jupyter.widget-view+json": {
       "model_id": "3a2d3a1f870e494188e27f4d7493bcab",
       "version_major": 2,
       "version_minor": 0
      },
      "text/plain": [
       "HBox(children=(FloatProgress(value=0.0, max=1390.0), HTML(value='')))"
      ]
     },
     "metadata": {},
     "output_type": "display_data"
    },
    {
     "name": "stdout",
     "output_type": "stream",
     "text": [
      "\n",
      "[0.007910862400633715, 0.00448796995858098, 0.006772553451412562, 0.0023690622971027156, 0.0009352933180152169, 0.0014853041766527504, 0.0020745599842239898, 0.007099364417869995]\n"
     ]
    },
    {
     "data": {
      "application/vnd.jupyter.widget-view+json": {
       "model_id": "c72c9adf63554cf587f289c2781c50c1",
       "version_major": 2,
       "version_minor": 0
      },
      "text/plain": [
       "HBox(children=(FloatProgress(value=0.0, max=1392.0), HTML(value='')))"
      ]
     },
     "metadata": {},
     "output_type": "display_data"
    },
    {
     "name": "stdout",
     "output_type": "stream",
     "text": [
      "\n",
      "[0.007910862400633715, 0.00448796995858098, 0.006772553451412562, 0.0023690622971027156, 0.0009352933180152169, 0.0014853041766527504, 0.0020745599842239898, 0.007099364417869995]\n"
     ]
    },
    {
     "data": {
      "application/vnd.jupyter.widget-view+json": {
       "model_id": "96d36cfaf8f849eeae7192c2f19ffced",
       "version_major": 2,
       "version_minor": 0
      },
      "text/plain": [
       "HBox(children=(FloatProgress(value=0.0, max=1391.0), HTML(value='')))"
      ]
     },
     "metadata": {},
     "output_type": "display_data"
    },
    {
     "name": "stdout",
     "output_type": "stream",
     "text": [
      "\n",
      "[0.007910862400633715, 0.00448796995858098, 0.006772553451412562, 0.0023690622971027156, 0.0009352933180152169, 0.0014853041766527504, 0.0020745599842239898, 0.007099364417869995]\n"
     ]
    },
    {
     "data": {
      "application/vnd.jupyter.widget-view+json": {
       "model_id": "118f601c8ae84c2683c9669709b0e3e6",
       "version_major": 2,
       "version_minor": 0
      },
      "text/plain": [
       "HBox(children=(FloatProgress(value=0.0, max=1391.0), HTML(value='')))"
      ]
     },
     "metadata": {},
     "output_type": "display_data"
    },
    {
     "name": "stdout",
     "output_type": "stream",
     "text": [
      "\n",
      "[0.007910862400633715, 0.00448796995858098, 0.006772553451412562, 0.0023690622971027156, 0.0009352933180152169, 0.0014853041766527504, 0.0020745599842239898, 0.007099364417869995]\n"
     ]
    },
    {
     "data": {
      "application/vnd.jupyter.widget-view+json": {
       "model_id": "29e574b1dbb144449862526cc918b52e",
       "version_major": 2,
       "version_minor": 0
      },
      "text/plain": [
       "HBox(children=(FloatProgress(value=0.0, max=1390.0), HTML(value='')))"
      ]
     },
     "metadata": {},
     "output_type": "display_data"
    },
    {
     "name": "stdout",
     "output_type": "stream",
     "text": [
      "\n",
      "[0.007910862400633715, 0.00448796995858098, 0.006772553451412562, 0.0023690622971027156, 0.0009352933180152169, 0.0014853041766527504, 0.0020745599842239898, 0.007099364417869995]\n"
     ]
    },
    {
     "data": {
      "application/vnd.jupyter.widget-view+json": {
       "model_id": "6075be858cc54923a7ddf1e15590182b",
       "version_major": 2,
       "version_minor": 0
      },
      "text/plain": [
       "HBox(children=(FloatProgress(value=0.0, max=1392.0), HTML(value='')))"
      ]
     },
     "metadata": {},
     "output_type": "display_data"
    },
    {
     "name": "stdout",
     "output_type": "stream",
     "text": [
      "\n",
      "[0.007910862400633715, 0.00448796995858098, 0.006772553451412562, 0.0023690622971027156, 0.0009352933180152169, 0.0014853041766527504, 0.0020745599842239898, 0.007099364417869995]\n"
     ]
    },
    {
     "data": {
      "application/vnd.jupyter.widget-view+json": {
       "model_id": "180b5e1d8fe54e1a8a2792311d8265ca",
       "version_major": 2,
       "version_minor": 0
      },
      "text/plain": [
       "HBox(children=(FloatProgress(value=0.0, max=1391.0), HTML(value='')))"
      ]
     },
     "metadata": {},
     "output_type": "display_data"
    },
    {
     "name": "stdout",
     "output_type": "stream",
     "text": [
      "\n",
      "[0.007910862400633715, 0.00448796995858098, 0.006772553451412562, 0.0023690622971027156, 0.0009352933180152169, 0.0014853041766527504, 0.0020745599842239898, 0.007099364417869995]\n"
     ]
    },
    {
     "data": {
      "application/vnd.jupyter.widget-view+json": {
       "model_id": "633832a20b9547818fd0ad159a2f44c9",
       "version_major": 2,
       "version_minor": 0
      },
      "text/plain": [
       "HBox(children=(FloatProgress(value=0.0, max=1391.0), HTML(value='')))"
      ]
     },
     "metadata": {},
     "output_type": "display_data"
    },
    {
     "name": "stdout",
     "output_type": "stream",
     "text": [
      "\n",
      "[0.007910862400633715, 0.00448796995858098, 0.006772553451412562, 0.0023690622971027156, 0.0009352933180152169, 0.0014853041766527504, 0.0020745599842239898, 0.007099364417869995]\n"
     ]
    },
    {
     "data": {
      "application/vnd.jupyter.widget-view+json": {
       "model_id": "884e9046656048c9a5d5a05c8230833f",
       "version_major": 2,
       "version_minor": 0
      },
      "text/plain": [
       "HBox(children=(FloatProgress(value=0.0, max=1391.0), HTML(value='')))"
      ]
     },
     "metadata": {},
     "output_type": "display_data"
    },
    {
     "name": "stdout",
     "output_type": "stream",
     "text": [
      "\n",
      "[0.007910862400633715, 0.00448796995858098, 0.006772553451412562, 0.0023690622971027156, 0.0009352933180152169, 0.0014853041766527504, 0.0020745599842239898, 0.007099364417869995]\n"
     ]
    },
    {
     "data": {
      "application/vnd.jupyter.widget-view+json": {
       "model_id": "d2de39e2f1b14d7887da4487d6339601",
       "version_major": 2,
       "version_minor": 0
      },
      "text/plain": [
       "HBox(children=(FloatProgress(value=0.0, max=1390.0), HTML(value='')))"
      ]
     },
     "metadata": {},
     "output_type": "display_data"
    },
    {
     "name": "stdout",
     "output_type": "stream",
     "text": [
      "\n",
      "[0.007910862400633715, 0.00448796995858098, 0.006772553451412562, 0.0023690622971027156, 0.0009352933180152169, 0.0014853041766527504, 0.0020745599842239898, 0.007099364417869995]\n"
     ]
    },
    {
     "data": {
      "application/vnd.jupyter.widget-view+json": {
       "model_id": "cab32614f08a49d1b6a342fdb76345f3",
       "version_major": 2,
       "version_minor": 0
      },
      "text/plain": [
       "HBox(children=(FloatProgress(value=0.0, max=1391.0), HTML(value='')))"
      ]
     },
     "metadata": {},
     "output_type": "display_data"
    },
    {
     "name": "stdout",
     "output_type": "stream",
     "text": [
      "\n",
      "[0.007910862400633715, 0.00448796995858098, 0.006772553451412562, 0.0023690622971027156, 0.0009352933180152169, 0.0014853041766527504, 0.0020745599842239898, 0.007099364417869995]\n"
     ]
    },
    {
     "data": {
      "application/vnd.jupyter.widget-view+json": {
       "model_id": "91d5261f16884703ae11113fecc69123",
       "version_major": 2,
       "version_minor": 0
      },
      "text/plain": [
       "HBox(children=(FloatProgress(value=0.0, max=1392.0), HTML(value='')))"
      ]
     },
     "metadata": {},
     "output_type": "display_data"
    },
    {
     "name": "stdout",
     "output_type": "stream",
     "text": [
      "\n",
      "[0.007910862400633715, 0.00448796995858098, 0.006772553451412562, 0.0023690622971027156, 0.0009352933180152169, 0.0014853041766527504, 0.0020745599842239898, 0.007099364417869995]\n"
     ]
    },
    {
     "data": {
      "application/vnd.jupyter.widget-view+json": {
       "model_id": "0b69a4d897634e6fa74092287f9a402b",
       "version_major": 2,
       "version_minor": 0
      },
      "text/plain": [
       "HBox(children=(FloatProgress(value=0.0, max=1391.0), HTML(value='')))"
      ]
     },
     "metadata": {},
     "output_type": "display_data"
    },
    {
     "name": "stdout",
     "output_type": "stream",
     "text": [
      "\n",
      "[0.007910862400633715, 0.00448796995858098, 0.006772553451412562, 0.0023690622971027156, 0.0009352933180152169, 0.0014853041766527504, 0.0020745599842239898, 0.007099364417869995]\n"
     ]
    },
    {
     "data": {
      "application/vnd.jupyter.widget-view+json": {
       "model_id": "348e86d640c044159508dfa09a4da3be",
       "version_major": 2,
       "version_minor": 0
      },
      "text/plain": [
       "HBox(children=(FloatProgress(value=0.0, max=1392.0), HTML(value='')))"
      ]
     },
     "metadata": {},
     "output_type": "display_data"
    },
    {
     "name": "stdout",
     "output_type": "stream",
     "text": [
      "\n",
      "[0.007910862400633715, 0.00448796995858098, 0.006772553451412562, 0.0023690622971027156, 0.0009352933180152169, 0.0014853041766527504, 0.0020745599842239898, 0.007099364417869995]\n"
     ]
    },
    {
     "data": {
      "application/vnd.jupyter.widget-view+json": {
       "model_id": "e6f5739176be4e29a905e591f189a8a3",
       "version_major": 2,
       "version_minor": 0
      },
      "text/plain": [
       "HBox(children=(FloatProgress(value=0.0, max=1390.0), HTML(value='')))"
      ]
     },
     "metadata": {},
     "output_type": "display_data"
    },
    {
     "name": "stdout",
     "output_type": "stream",
     "text": [
      "\n",
      "[0.007910862400633715, 0.00448796995858098, 0.006772553451412562, 0.0023690622971027156, 0.0009352933180152169, 0.0014853041766527504, 0.0020745599842239898, 0.007099364417869995]\n"
     ]
    },
    {
     "data": {
      "application/vnd.jupyter.widget-view+json": {
       "model_id": "88715f04ffea4c819a394ba251722f87",
       "version_major": 2,
       "version_minor": 0
      },
      "text/plain": [
       "HBox(children=(FloatProgress(value=0.0, max=1391.0), HTML(value='')))"
      ]
     },
     "metadata": {},
     "output_type": "display_data"
    },
    {
     "name": "stdout",
     "output_type": "stream",
     "text": [
      "\n",
      "[0.007910862400633715, 0.00448796995858098, 0.006772553451412562, 0.0023690622971027156, 0.0009352933180152169, 0.0014853041766527504, 0.0020745599842239898, 0.007099364417869995]\n"
     ]
    },
    {
     "data": {
      "application/vnd.jupyter.widget-view+json": {
       "model_id": "41febabafcd5433591ddf56fc66340e8",
       "version_major": 2,
       "version_minor": 0
      },
      "text/plain": [
       "HBox(children=(FloatProgress(value=0.0, max=1392.0), HTML(value='')))"
      ]
     },
     "metadata": {},
     "output_type": "display_data"
    },
    {
     "name": "stdout",
     "output_type": "stream",
     "text": [
      "\n",
      "[0.007910862400633715, 0.00448796995858098, 0.006772553451412562, 0.0023690622971027156, 0.0009352933180152169, 0.0014853041766527504, 0.0020745599842239898, 0.007099364417869995]\n"
     ]
    },
    {
     "data": {
      "application/vnd.jupyter.widget-view+json": {
       "model_id": "249ea0f47cf7406db9d0d8a5421a130b",
       "version_major": 2,
       "version_minor": 0
      },
      "text/plain": [
       "HBox(children=(FloatProgress(value=0.0, max=1391.0), HTML(value='')))"
      ]
     },
     "metadata": {},
     "output_type": "display_data"
    },
    {
     "name": "stdout",
     "output_type": "stream",
     "text": [
      "\n",
      "[0.007910862400633715, 0.00448796995858098, 0.006772553451412562, 0.0023690622971027156, 0.0009352933180152169, 0.0014853041766527504, 0.0020745599842239898, 0.007099364417869995]\n"
     ]
    },
    {
     "data": {
      "application/vnd.jupyter.widget-view+json": {
       "model_id": "56df224bac8b429d844179c58c9b8cff",
       "version_major": 2,
       "version_minor": 0
      },
      "text/plain": [
       "HBox(children=(FloatProgress(value=0.0, max=1391.0), HTML(value='')))"
      ]
     },
     "metadata": {},
     "output_type": "display_data"
    },
    {
     "name": "stdout",
     "output_type": "stream",
     "text": [
      "\n",
      "[0.007910862400633715, 0.00448796995858098, 0.006772553451412562, 0.0023690622971027156, 0.0009352933180152169, 0.0014853041766527504, 0.0020745599842239898, 0.007099364417869995]\n"
     ]
    },
    {
     "data": {
      "application/vnd.jupyter.widget-view+json": {
       "model_id": "5c5a3a3f7696451f8913fe1891795aa5",
       "version_major": 2,
       "version_minor": 0
      },
      "text/plain": [
       "HBox(children=(FloatProgress(value=0.0, max=1390.0), HTML(value='')))"
      ]
     },
     "metadata": {},
     "output_type": "display_data"
    },
    {
     "name": "stdout",
     "output_type": "stream",
     "text": [
      "\n",
      "[0.007910862400633715, 0.00448796995858098, 0.006772553451412562, 0.0023690622971027156, 0.0009352933180152169, 0.0014853041766527504, 0.0020745599842239898, 0.007099364417869995]\n"
     ]
    },
    {
     "data": {
      "application/vnd.jupyter.widget-view+json": {
       "model_id": "145776e4ab6e40e08841e23357516459",
       "version_major": 2,
       "version_minor": 0
      },
      "text/plain": [
       "HBox(children=(FloatProgress(value=0.0, max=1390.0), HTML(value='')))"
      ]
     },
     "metadata": {},
     "output_type": "display_data"
    },
    {
     "name": "stdout",
     "output_type": "stream",
     "text": [
      "\n",
      "[0.007910862400633715, 0.00448796995858098, 0.006772553451412562, 0.0023690622971027156, 0.0009352933180152169, 0.0014853041766527504, 0.0020745599842239898, 0.007099364417869995]\n"
     ]
    },
    {
     "data": {
      "application/vnd.jupyter.widget-view+json": {
       "model_id": "00174ad836024285981afa6f1825821e",
       "version_major": 2,
       "version_minor": 0
      },
      "text/plain": [
       "HBox(children=(FloatProgress(value=0.0, max=1391.0), HTML(value='')))"
      ]
     },
     "metadata": {},
     "output_type": "display_data"
    },
    {
     "name": "stdout",
     "output_type": "stream",
     "text": [
      "\n",
      "[0.007910862400633715, 0.00448796995858098, 0.006772553451412562, 0.0023690622971027156, 0.0009352933180152169, 0.0014853041766527504, 0.0020745599842239898, 0.007099364417869995]\n"
     ]
    },
    {
     "data": {
      "application/vnd.jupyter.widget-view+json": {
       "model_id": "e48ebc0bfb4e4d628d95cf480c4c2778",
       "version_major": 2,
       "version_minor": 0
      },
      "text/plain": [
       "HBox(children=(FloatProgress(value=0.0, max=1392.0), HTML(value='')))"
      ]
     },
     "metadata": {},
     "output_type": "display_data"
    },
    {
     "name": "stdout",
     "output_type": "stream",
     "text": [
      "\n",
      "[0.007910862400633715, 0.00448796995858098, 0.006772553451412562, 0.0023690622971027156, 0.0009352933180152169, 0.0014853041766527504, 0.0020745599842239898, 0.007099364417869995]\n"
     ]
    },
    {
     "data": {
      "application/vnd.jupyter.widget-view+json": {
       "model_id": "832cf83aeb6348fda2b6be9901788a8b",
       "version_major": 2,
       "version_minor": 0
      },
      "text/plain": [
       "HBox(children=(FloatProgress(value=0.0, max=1391.0), HTML(value='')))"
      ]
     },
     "metadata": {},
     "output_type": "display_data"
    },
    {
     "name": "stdout",
     "output_type": "stream",
     "text": [
      "\n",
      "[0.007910862400633715, 0.00448796995858098, 0.006772553451412562, 0.0023690622971027156, 0.0009352933180152169, 0.0014853041766527504, 0.0020745599842239898, 0.007099364417869995]\n"
     ]
    },
    {
     "data": {
      "application/vnd.jupyter.widget-view+json": {
       "model_id": "6697463568d848eb8fba5e699578f657",
       "version_major": 2,
       "version_minor": 0
      },
      "text/plain": [
       "HBox(children=(FloatProgress(value=0.0, max=1392.0), HTML(value='')))"
      ]
     },
     "metadata": {},
     "output_type": "display_data"
    },
    {
     "name": "stdout",
     "output_type": "stream",
     "text": [
      "\n",
      "[0.007910862400633715, 0.00448796995858098, 0.006772553451412562, 0.0023690622971027156, 0.0009352933180152169, 0.0014853041766527504, 0.0020745599842239898, 0.007099364417869995]\n"
     ]
    },
    {
     "data": {
      "application/vnd.jupyter.widget-view+json": {
       "model_id": "a33ac170acdb451b95ffb24ebee8f3a0",
       "version_major": 2,
       "version_minor": 0
      },
      "text/plain": [
       "HBox(children=(FloatProgress(value=0.0, max=1391.0), HTML(value='')))"
      ]
     },
     "metadata": {},
     "output_type": "display_data"
    },
    {
     "name": "stdout",
     "output_type": "stream",
     "text": [
      "\n",
      "[0.007910862400633715, 0.00448796995858098, 0.006772553451412562, 0.0023690622971027156, 0.0009352933180152169, 0.0014853041766527504, 0.0020745599842239898, 0.007099364417869995]\n"
     ]
    },
    {
     "data": {
      "application/vnd.jupyter.widget-view+json": {
       "model_id": "38f868fdc9f04ea8a3a901ef1875b6d1",
       "version_major": 2,
       "version_minor": 0
      },
      "text/plain": [
       "HBox(children=(FloatProgress(value=0.0, max=1390.0), HTML(value='')))"
      ]
     },
     "metadata": {},
     "output_type": "display_data"
    },
    {
     "name": "stdout",
     "output_type": "stream",
     "text": [
      "\n",
      "[0.007910862400633715, 0.00448796995858098, 0.006772553451412562, 0.0023690622971027156, 0.0009352933180152169, 0.0014853041766527504, 0.0020745599842239898, 0.007099364417869995]\n"
     ]
    },
    {
     "data": {
      "application/vnd.jupyter.widget-view+json": {
       "model_id": "b5a47d844c35411e97f0bba8129f54b3",
       "version_major": 2,
       "version_minor": 0
      },
      "text/plain": [
       "HBox(children=(FloatProgress(value=0.0, max=1391.0), HTML(value='')))"
      ]
     },
     "metadata": {},
     "output_type": "display_data"
    },
    {
     "name": "stdout",
     "output_type": "stream",
     "text": [
      "\n",
      "[0.007910862400633715, 0.00448796995858098, 0.006772553451412562, 0.0023690622971027156, 0.0009352933180152169, 0.0014853041766527504, 0.0020745599842239898, 0.007099364417869995]\n"
     ]
    },
    {
     "data": {
      "application/vnd.jupyter.widget-view+json": {
       "model_id": "5e82973d52bd4248bbe8dbd610acf36d",
       "version_major": 2,
       "version_minor": 0
      },
      "text/plain": [
       "HBox(children=(FloatProgress(value=0.0, max=1391.0), HTML(value='')))"
      ]
     },
     "metadata": {},
     "output_type": "display_data"
    },
    {
     "name": "stdout",
     "output_type": "stream",
     "text": [
      "\n",
      "[0.007910862400633715, 0.00448796995858098, 0.006772553451412562, 0.0023690622971027156, 0.0009352933180152169, 0.0014853041766527504, 0.0020745599842239898, 0.007099364417869995]\n"
     ]
    },
    {
     "data": {
      "application/vnd.jupyter.widget-view+json": {
       "model_id": "1637b11da6384fab8532026bb40d3358",
       "version_major": 2,
       "version_minor": 0
      },
      "text/plain": [
       "HBox(children=(FloatProgress(value=0.0, max=1392.0), HTML(value='')))"
      ]
     },
     "metadata": {},
     "output_type": "display_data"
    },
    {
     "name": "stdout",
     "output_type": "stream",
     "text": [
      "\n",
      "[0.007910862400633715, 0.00448796995858098, 0.006772553451412562, 0.0023690622971027156, 0.0009352933180152169, 0.0014853041766527504, 0.0020745599842239898, 0.007099364417869995]\n"
     ]
    },
    {
     "data": {
      "application/vnd.jupyter.widget-view+json": {
       "model_id": "44c4f6db1fd2415bb4207cd0345ffb3c",
       "version_major": 2,
       "version_minor": 0
      },
      "text/plain": [
       "HBox(children=(FloatProgress(value=0.0, max=1390.0), HTML(value='')))"
      ]
     },
     "metadata": {},
     "output_type": "display_data"
    },
    {
     "name": "stdout",
     "output_type": "stream",
     "text": [
      "\n",
      "[0.007910862400633715, 0.00448796995858098, 0.006772553451412562, 0.0023690622971027156, 0.0009352933180152169, 0.0014853041766527504, 0.0020745599842239898, 0.007099364417869995]\n"
     ]
    },
    {
     "data": {
      "application/vnd.jupyter.widget-view+json": {
       "model_id": "ae997a80ca3041a8aa9ddb61a1c8cc55",
       "version_major": 2,
       "version_minor": 0
      },
      "text/plain": [
       "HBox(children=(FloatProgress(value=0.0, max=1391.0), HTML(value='')))"
      ]
     },
     "metadata": {},
     "output_type": "display_data"
    },
    {
     "name": "stdout",
     "output_type": "stream",
     "text": [
      "\n",
      "[0.007910862400633715, 0.00448796995858098, 0.006772553451412562, 0.0023690622971027156, 0.0009352933180152169, 0.0014853041766527504, 0.0020745599842239898, 0.007099364417869995]\n"
     ]
    },
    {
     "data": {
      "application/vnd.jupyter.widget-view+json": {
       "model_id": "d449ce0cc5a1478ea903aeedc13d31fa",
       "version_major": 2,
       "version_minor": 0
      },
      "text/plain": [
       "HBox(children=(FloatProgress(value=0.0, max=1390.0), HTML(value='')))"
      ]
     },
     "metadata": {},
     "output_type": "display_data"
    },
    {
     "name": "stdout",
     "output_type": "stream",
     "text": [
      "\n",
      "[0.007910862400633715, 0.00448796995858098, 0.006772553451412562, 0.0023690622971027156, 0.0009352933180152169, 0.0014853041766527504, 0.0020745599842239898, 0.007099364417869995]\n"
     ]
    },
    {
     "data": {
      "application/vnd.jupyter.widget-view+json": {
       "model_id": "a1d6f87bbac34e0f87955a9f04c3f55d",
       "version_major": 2,
       "version_minor": 0
      },
      "text/plain": [
       "HBox(children=(FloatProgress(value=0.0, max=1391.0), HTML(value='')))"
      ]
     },
     "metadata": {},
     "output_type": "display_data"
    },
    {
     "name": "stdout",
     "output_type": "stream",
     "text": [
      "\n",
      "[0.007910862400633715, 0.00448796995858098, 0.006772553451412562, 0.0023690622971027156, 0.0009352933180152169, 0.0014853041766527504, 0.0020745599842239898, 0.007099364417869995]\n"
     ]
    },
    {
     "data": {
      "application/vnd.jupyter.widget-view+json": {
       "model_id": "5b0d000ae5e74d39b2c19b6d20277c7d",
       "version_major": 2,
       "version_minor": 0
      },
      "text/plain": [
       "HBox(children=(FloatProgress(value=0.0, max=1391.0), HTML(value='')))"
      ]
     },
     "metadata": {},
     "output_type": "display_data"
    },
    {
     "name": "stdout",
     "output_type": "stream",
     "text": [
      "\n",
      "[0.007910862400633715, 0.00448796995858098, 0.006772553451412562, 0.0023690622971027156, 0.0009352933180152169, 0.0014853041766527504, 0.0020745599842239898, 0.007099364417869995]\n"
     ]
    },
    {
     "data": {
      "application/vnd.jupyter.widget-view+json": {
       "model_id": "cdd348a62d4c402f9c07d2b7e73fa205",
       "version_major": 2,
       "version_minor": 0
      },
      "text/plain": [
       "HBox(children=(FloatProgress(value=0.0, max=1392.0), HTML(value='')))"
      ]
     },
     "metadata": {},
     "output_type": "display_data"
    },
    {
     "name": "stdout",
     "output_type": "stream",
     "text": [
      "\n",
      "[0.007910862400633715, 0.00448796995858098, 0.006772553451412562, 0.0023690622971027156, 0.0009352933180152169, 0.0014853041766527504, 0.0020745599842239898, 0.007099364417869995]\n"
     ]
    },
    {
     "data": {
      "application/vnd.jupyter.widget-view+json": {
       "model_id": "64c3e52a3b3f400ba742c9cbbe7132fa",
       "version_major": 2,
       "version_minor": 0
      },
      "text/plain": [
       "HBox(children=(FloatProgress(value=0.0, max=1391.0), HTML(value='')))"
      ]
     },
     "metadata": {},
     "output_type": "display_data"
    },
    {
     "name": "stdout",
     "output_type": "stream",
     "text": [
      "\n",
      "[0.007910862400633715, 0.00448796995858098, 0.006772553451412562, 0.0023690622971027156, 0.0009352933180152169, 0.0014853041766527504, 0.0020745599842239898, 0.007099364417869995]\n"
     ]
    },
    {
     "data": {
      "application/vnd.jupyter.widget-view+json": {
       "model_id": "bd91f18a80bc43ec813b230bef83fb1c",
       "version_major": 2,
       "version_minor": 0
      },
      "text/plain": [
       "HBox(children=(FloatProgress(value=0.0, max=1392.0), HTML(value='')))"
      ]
     },
     "metadata": {},
     "output_type": "display_data"
    },
    {
     "name": "stdout",
     "output_type": "stream",
     "text": [
      "\n",
      "[0.007910862400633715, 0.00448796995858098, 0.006772553451412562, 0.0023690622971027156, 0.0009352933180152169, 0.0014853041766527504, 0.0020745599842239898, 0.007099364417869995]\n"
     ]
    },
    {
     "data": {
      "application/vnd.jupyter.widget-view+json": {
       "model_id": "b3c0a4c5b82e4e0198ce1d17c7e6b2f2",
       "version_major": 2,
       "version_minor": 0
      },
      "text/plain": [
       "HBox(children=(FloatProgress(value=0.0, max=1390.0), HTML(value='')))"
      ]
     },
     "metadata": {},
     "output_type": "display_data"
    },
    {
     "name": "stdout",
     "output_type": "stream",
     "text": [
      "\n",
      "[0.007910862400633715, 0.00448796995858098, 0.006772553451412562, 0.0023690622971027156, 0.0009352933180152169, 0.0014853041766527504, 0.0020745599842239898, 0.007099364417869995]\n"
     ]
    },
    {
     "data": {
      "application/vnd.jupyter.widget-view+json": {
       "model_id": "ebbc0d4bb184468a851333c5eea3b528",
       "version_major": 2,
       "version_minor": 0
      },
      "text/plain": [
       "HBox(children=(FloatProgress(value=0.0, max=1392.0), HTML(value='')))"
      ]
     },
     "metadata": {},
     "output_type": "display_data"
    },
    {
     "name": "stdout",
     "output_type": "stream",
     "text": [
      "\n",
      "[0.007910862400633715, 0.00448796995858098, 0.006772553451412562, 0.0023690622971027156, 0.0009352933180152169, 0.0014853041766527504, 0.0020745599842239898, 0.007099364417869995]\n"
     ]
    },
    {
     "data": {
      "application/vnd.jupyter.widget-view+json": {
       "model_id": "568f8830b7454919b48c07bf76387960",
       "version_major": 2,
       "version_minor": 0
      },
      "text/plain": [
       "HBox(children=(FloatProgress(value=0.0, max=1390.0), HTML(value='')))"
      ]
     },
     "metadata": {},
     "output_type": "display_data"
    },
    {
     "name": "stdout",
     "output_type": "stream",
     "text": [
      "\n",
      "[0.007910862400633715, 0.00448796995858098, 0.006772553451412562, 0.0023690622971027156, 0.0009352933180152169, 0.0014853041766527504, 0.0020745599842239898, 0.007099364417869995]\n"
     ]
    },
    {
     "data": {
      "application/vnd.jupyter.widget-view+json": {
       "model_id": "832a511693484b00b6cd096cd17876a8",
       "version_major": 2,
       "version_minor": 0
      },
      "text/plain": [
       "HBox(children=(FloatProgress(value=0.0, max=1391.0), HTML(value='')))"
      ]
     },
     "metadata": {},
     "output_type": "display_data"
    },
    {
     "name": "stdout",
     "output_type": "stream",
     "text": [
      "\n",
      "[0.007910862400633715, 0.00448796995858098, 0.006772553451412562, 0.0023690622971027156, 0.0009352933180152169, 0.0014853041766527504, 0.0020745599842239898, 0.007099364417869995]\n"
     ]
    },
    {
     "data": {
      "application/vnd.jupyter.widget-view+json": {
       "model_id": "29ca227dc41e4eb1a2e3b32ec997f767",
       "version_major": 2,
       "version_minor": 0
      },
      "text/plain": [
       "HBox(children=(FloatProgress(value=0.0, max=1391.0), HTML(value='')))"
      ]
     },
     "metadata": {},
     "output_type": "display_data"
    },
    {
     "name": "stdout",
     "output_type": "stream",
     "text": [
      "\n",
      "[0.007910862400633715, 0.00448796995858098, 0.006772553451412562, 0.0023690622971027156, 0.0009352933180152169, 0.0014853041766527504, 0.0020745599842239898, 0.007099364417869995]\n"
     ]
    },
    {
     "data": {
      "application/vnd.jupyter.widget-view+json": {
       "model_id": "54cca50cf189486f88e321e2a87f434b",
       "version_major": 2,
       "version_minor": 0
      },
      "text/plain": [
       "HBox(children=(FloatProgress(value=0.0, max=1392.0), HTML(value='')))"
      ]
     },
     "metadata": {},
     "output_type": "display_data"
    },
    {
     "name": "stdout",
     "output_type": "stream",
     "text": [
      "\n",
      "[0.007910862400633715, 0.00448796995858098, 0.006772553451412562, 0.0023690622971027156, 0.0009352933180152169, 0.0014853041766527504, 0.0020745599842239898, 0.007099364417869995]\n"
     ]
    },
    {
     "data": {
      "application/vnd.jupyter.widget-view+json": {
       "model_id": "74a67628fad1443199ce21a6e73fc091",
       "version_major": 2,
       "version_minor": 0
      },
      "text/plain": [
       "HBox(children=(FloatProgress(value=0.0, max=1390.0), HTML(value='')))"
      ]
     },
     "metadata": {},
     "output_type": "display_data"
    },
    {
     "name": "stdout",
     "output_type": "stream",
     "text": [
      "\n",
      "[0.007910862400633715, 0.00448796995858098, 0.006772553451412562, 0.0023690622971027156, 0.0009352933180152169, 0.0014853041766527504, 0.0020745599842239898, 0.007099364417869995]\n"
     ]
    },
    {
     "data": {
      "application/vnd.jupyter.widget-view+json": {
       "model_id": "2789ee367ba246c4a90a4bb90c82c923",
       "version_major": 2,
       "version_minor": 0
      },
      "text/plain": [
       "HBox(children=(FloatProgress(value=0.0, max=1391.0), HTML(value='')))"
      ]
     },
     "metadata": {},
     "output_type": "display_data"
    },
    {
     "name": "stdout",
     "output_type": "stream",
     "text": [
      "\n",
      "[0.007910862400633715, 0.00448796995858098, 0.006772553451412562, 0.0023690622971027156, 0.0009352933180152169, 0.0014853041766527504, 0.0020745599842239898, 0.007099364417869995]\n"
     ]
    },
    {
     "data": {
      "application/vnd.jupyter.widget-view+json": {
       "model_id": "6635c31a2ee145ab94f0c8d2524164c3",
       "version_major": 2,
       "version_minor": 0
      },
      "text/plain": [
       "HBox(children=(FloatProgress(value=0.0, max=1391.0), HTML(value='')))"
      ]
     },
     "metadata": {},
     "output_type": "display_data"
    },
    {
     "name": "stdout",
     "output_type": "stream",
     "text": [
      "\n",
      "[0.007910862400633715, 0.00448796995858098, 0.006772553451412562, 0.0023690622971027156, 0.0009352933180152169, 0.0014853041766527504, 0.0020745599842239898, 0.007099364417869995]\n"
     ]
    },
    {
     "data": {
      "application/vnd.jupyter.widget-view+json": {
       "model_id": "b680d6e8112742708b99db63dd37524d",
       "version_major": 2,
       "version_minor": 0
      },
      "text/plain": [
       "HBox(children=(FloatProgress(value=0.0, max=1390.0), HTML(value='')))"
      ]
     },
     "metadata": {},
     "output_type": "display_data"
    },
    {
     "name": "stdout",
     "output_type": "stream",
     "text": [
      "\n",
      "[0.007910862400633715, 0.00448796995858098, 0.006772553451412562, 0.0023690622971027156, 0.0009352933180152169, 0.0014853041766527504, 0.0020745599842239898, 0.007099364417869995]\n"
     ]
    },
    {
     "data": {
      "application/vnd.jupyter.widget-view+json": {
       "model_id": "07d57e4c77fe4e9a91b202fa55d311d3",
       "version_major": 2,
       "version_minor": 0
      },
      "text/plain": [
       "HBox(children=(FloatProgress(value=0.0, max=1392.0), HTML(value='')))"
      ]
     },
     "metadata": {},
     "output_type": "display_data"
    },
    {
     "name": "stdout",
     "output_type": "stream",
     "text": [
      "\n",
      "[0.007910862400633715, 0.00448796995858098, 0.006772553451412562, 0.0023690622971027156, 0.0009352933180152169, 0.0014853041766527504, 0.0020745599842239898, 0.007099364417869995]\n"
     ]
    },
    {
     "data": {
      "application/vnd.jupyter.widget-view+json": {
       "model_id": "fe886358f11f4257a83e4cd2a36d54ae",
       "version_major": 2,
       "version_minor": 0
      },
      "text/plain": [
       "HBox(children=(FloatProgress(value=0.0, max=1391.0), HTML(value='')))"
      ]
     },
     "metadata": {},
     "output_type": "display_data"
    },
    {
     "name": "stdout",
     "output_type": "stream",
     "text": [
      "\n",
      "[0.007910862400633715, 0.00448796995858098, 0.006772553451412562, 0.0023690622971027156, 0.0009352933180152169, 0.0014853041766527504, 0.0020745599842239898, 0.007099364417869995]\n"
     ]
    },
    {
     "data": {
      "application/vnd.jupyter.widget-view+json": {
       "model_id": "dab3012e3f8748a4afa8df065093c788",
       "version_major": 2,
       "version_minor": 0
      },
      "text/plain": [
       "HBox(children=(FloatProgress(value=0.0, max=1391.0), HTML(value='')))"
      ]
     },
     "metadata": {},
     "output_type": "display_data"
    },
    {
     "name": "stdout",
     "output_type": "stream",
     "text": [
      "\n",
      "[0.007910862400633715, 0.00448796995858098, 0.006772553451412562, 0.0023690622971027156, 0.0009352933180152169, 0.0014853041766527504, 0.0020745599842239898, 0.007099364417869995]\n"
     ]
    },
    {
     "data": {
      "application/vnd.jupyter.widget-view+json": {
       "model_id": "e7ce681dd33149c7885aa3cae99719c7",
       "version_major": 2,
       "version_minor": 0
      },
      "text/plain": [
       "HBox(children=(FloatProgress(value=0.0, max=1390.0), HTML(value='')))"
      ]
     },
     "metadata": {},
     "output_type": "display_data"
    },
    {
     "name": "stdout",
     "output_type": "stream",
     "text": [
      "\n",
      "[0.007910862400633715, 0.00448796995858098, 0.006772553451412562, 0.0023690622971027156, 0.0009352933180152169, 0.0014853041766527504, 0.0020745599842239898, 0.007099364417869995]\n"
     ]
    },
    {
     "data": {
      "application/vnd.jupyter.widget-view+json": {
       "model_id": "af523b154abb474d981d8470d2ce7cbd",
       "version_major": 2,
       "version_minor": 0
      },
      "text/plain": [
       "HBox(children=(FloatProgress(value=0.0, max=1391.0), HTML(value='')))"
      ]
     },
     "metadata": {},
     "output_type": "display_data"
    },
    {
     "name": "stdout",
     "output_type": "stream",
     "text": [
      "\n",
      "[0.007910862400633715, 0.00448796995858098, 0.006772553451412562, 0.0023690622971027156, 0.0009352933180152169, 0.0014853041766527504, 0.0020745599842239898, 0.007099364417869995]\n"
     ]
    },
    {
     "data": {
      "application/vnd.jupyter.widget-view+json": {
       "model_id": "0c3f3001f63f49ba9b5cd83468e22806",
       "version_major": 2,
       "version_minor": 0
      },
      "text/plain": [
       "HBox(children=(FloatProgress(value=0.0, max=1392.0), HTML(value='')))"
      ]
     },
     "metadata": {},
     "output_type": "display_data"
    },
    {
     "name": "stdout",
     "output_type": "stream",
     "text": [
      "\n",
      "[0.007910862400633715, 0.00448796995858098, 0.006772553451412562, 0.0023690622971027156, 0.0009352933180152169, 0.0014853041766527504, 0.0020745599842239898, 0.007099364417869995]\n"
     ]
    },
    {
     "data": {
      "application/vnd.jupyter.widget-view+json": {
       "model_id": "f80edac318ca4796aa2d2fe7d89931bb",
       "version_major": 2,
       "version_minor": 0
      },
      "text/plain": [
       "HBox(children=(FloatProgress(value=0.0, max=1391.0), HTML(value='')))"
      ]
     },
     "metadata": {},
     "output_type": "display_data"
    },
    {
     "name": "stdout",
     "output_type": "stream",
     "text": [
      "\n",
      "[0.007910862400633715, 0.00448796995858098, 0.006772553451412562, 0.0023690622971027156, 0.0009352933180152169, 0.0014853041766527504, 0.0020745599842239898, 0.007099364417869995]\n"
     ]
    },
    {
     "data": {
      "application/vnd.jupyter.widget-view+json": {
       "model_id": "d9e12e64eca24c76a53565715a21886a",
       "version_major": 2,
       "version_minor": 0
      },
      "text/plain": [
       "HBox(children=(FloatProgress(value=0.0, max=1392.0), HTML(value='')))"
      ]
     },
     "metadata": {},
     "output_type": "display_data"
    },
    {
     "name": "stdout",
     "output_type": "stream",
     "text": [
      "\n",
      "[0.007910862400633715, 0.00448796995858098, 0.006772553451412562, 0.0023690622971027156, 0.0009352933180152169, 0.0014853041766527504, 0.0020745599842239898, 0.007099364417869995]\n"
     ]
    },
    {
     "data": {
      "application/vnd.jupyter.widget-view+json": {
       "model_id": "3c9d4e60aacf47a6a3091a5b74ee8db4",
       "version_major": 2,
       "version_minor": 0
      },
      "text/plain": [
       "HBox(children=(FloatProgress(value=0.0, max=1391.0), HTML(value='')))"
      ]
     },
     "metadata": {},
     "output_type": "display_data"
    },
    {
     "name": "stdout",
     "output_type": "stream",
     "text": [
      "\n",
      "[0.007910862400633715, 0.00448796995858098, 0.006772553451412562, 0.0023690622971027156, 0.0009352933180152169, 0.0014853041766527504, 0.0020745599842239898, 0.007099364417869995]\n"
     ]
    },
    {
     "data": {
      "application/vnd.jupyter.widget-view+json": {
       "model_id": "e7a72a94d1134b7e94c69d1dba144252",
       "version_major": 2,
       "version_minor": 0
      },
      "text/plain": [
       "HBox(children=(FloatProgress(value=0.0, max=1391.0), HTML(value='')))"
      ]
     },
     "metadata": {},
     "output_type": "display_data"
    },
    {
     "name": "stdout",
     "output_type": "stream",
     "text": [
      "\n",
      "[0.007910862400633715, 0.00448796995858098, 0.006772553451412562, 0.0023690622971027156, 0.0009352933180152169, 0.0014853041766527504, 0.0020745599842239898, 0.007099364417869995]\n"
     ]
    },
    {
     "data": {
      "application/vnd.jupyter.widget-view+json": {
       "model_id": "cf5ec4386a1941308d3e1cfeeb2fec25",
       "version_major": 2,
       "version_minor": 0
      },
      "text/plain": [
       "HBox(children=(FloatProgress(value=0.0, max=1390.0), HTML(value='')))"
      ]
     },
     "metadata": {},
     "output_type": "display_data"
    },
    {
     "name": "stdout",
     "output_type": "stream",
     "text": [
      "\n",
      "[0.007910862400633715, 0.00448796995858098, 0.006772553451412562, 0.0023690622971027156, 0.0009352933180152169, 0.0014853041766527504, 0.0020745599842239898, 0.007099364417869995]\n"
     ]
    },
    {
     "data": {
      "application/vnd.jupyter.widget-view+json": {
       "model_id": "ae94edf909814eb3a593b05dffb6aae3",
       "version_major": 2,
       "version_minor": 0
      },
      "text/plain": [
       "HBox(children=(FloatProgress(value=0.0, max=1391.0), HTML(value='')))"
      ]
     },
     "metadata": {},
     "output_type": "display_data"
    },
    {
     "name": "stdout",
     "output_type": "stream",
     "text": [
      "\n",
      "[0.007910862400633715, 0.00448796995858098, 0.006772553451412562, 0.0023690622971027156, 0.0009352933180152169, 0.0014853041766527504, 0.0020745599842239898, 0.007099364417869995]\n"
     ]
    },
    {
     "data": {
      "application/vnd.jupyter.widget-view+json": {
       "model_id": "b012ad31a3d2445f975996caaa6ebd1f",
       "version_major": 2,
       "version_minor": 0
      },
      "text/plain": [
       "HBox(children=(FloatProgress(value=0.0, max=1392.0), HTML(value='')))"
      ]
     },
     "metadata": {},
     "output_type": "display_data"
    },
    {
     "name": "stdout",
     "output_type": "stream",
     "text": [
      "\n",
      "[0.007910862400633715, 0.00448796995858098, 0.006772553451412562, 0.0023690622971027156, 0.0009352933180152169, 0.0014853041766527504, 0.0020745599842239898, 0.007099364417869995]\n"
     ]
    },
    {
     "data": {
      "application/vnd.jupyter.widget-view+json": {
       "model_id": "ab6ca431a7c840daad162fa6cfefea62",
       "version_major": 2,
       "version_minor": 0
      },
      "text/plain": [
       "HBox(children=(FloatProgress(value=0.0, max=1390.0), HTML(value='')))"
      ]
     },
     "metadata": {},
     "output_type": "display_data"
    },
    {
     "name": "stdout",
     "output_type": "stream",
     "text": [
      "\n",
      "[0.007910862400633715, 0.00448796995858098, 0.006772553451412562, 0.0023690622971027156, 0.0009352933180152169, 0.0014853041766527504, 0.0020745599842239898, 0.007099364417869995]\n"
     ]
    },
    {
     "data": {
      "application/vnd.jupyter.widget-view+json": {
       "model_id": "572f4535f0ba49469d5dc3a932918864",
       "version_major": 2,
       "version_minor": 0
      },
      "text/plain": [
       "HBox(children=(FloatProgress(value=0.0, max=1391.0), HTML(value='')))"
      ]
     },
     "metadata": {},
     "output_type": "display_data"
    },
    {
     "name": "stdout",
     "output_type": "stream",
     "text": [
      "\n",
      "[0.007910862400633715, 0.00448796995858098, 0.006772553451412562, 0.0023690622971027156, 0.0009352933180152169, 0.0014853041766527504, 0.0020745599842239898, 0.007099364417869995]\n"
     ]
    },
    {
     "data": {
      "application/vnd.jupyter.widget-view+json": {
       "model_id": "fb3a4a470c114c1bb01b54831b94600d",
       "version_major": 2,
       "version_minor": 0
      },
      "text/plain": [
       "HBox(children=(FloatProgress(value=0.0, max=1390.0), HTML(value='')))"
      ]
     },
     "metadata": {},
     "output_type": "display_data"
    },
    {
     "name": "stdout",
     "output_type": "stream",
     "text": [
      "\n",
      "[0.007910862400633715, 0.00448796995858098, 0.006772553451412562, 0.0023690622971027156, 0.0009352933180152169, 0.0014853041766527504, 0.0020745599842239898, 0.007099364417869995]\n"
     ]
    },
    {
     "data": {
      "application/vnd.jupyter.widget-view+json": {
       "model_id": "6ce2306827fe440caa491d53711dcd20",
       "version_major": 2,
       "version_minor": 0
      },
      "text/plain": [
       "HBox(children=(FloatProgress(value=0.0, max=1391.0), HTML(value='')))"
      ]
     },
     "metadata": {},
     "output_type": "display_data"
    },
    {
     "name": "stdout",
     "output_type": "stream",
     "text": [
      "\n",
      "[0.007910862400633715, 0.00448796995858098, 0.006772553451412562, 0.0023690622971027156, 0.0009352933180152169, 0.0014853041766527504, 0.0020745599842239898, 0.007099364417869995]\n"
     ]
    },
    {
     "data": {
      "application/vnd.jupyter.widget-view+json": {
       "model_id": "42e18a9cd1604c15841b18075e003111",
       "version_major": 2,
       "version_minor": 0
      },
      "text/plain": [
       "HBox(children=(FloatProgress(value=0.0, max=1392.0), HTML(value='')))"
      ]
     },
     "metadata": {},
     "output_type": "display_data"
    },
    {
     "name": "stdout",
     "output_type": "stream",
     "text": [
      "\n",
      "[0.007910862400633715, 0.00448796995858098, 0.006772553451412562, 0.0023690622971027156, 0.0009352933180152169, 0.0014853041766527504, 0.0020745599842239898, 0.007099364417869995]\n"
     ]
    },
    {
     "data": {
      "application/vnd.jupyter.widget-view+json": {
       "model_id": "8f51a8f2ae494557aec62dc9e703f56b",
       "version_major": 2,
       "version_minor": 0
      },
      "text/plain": [
       "HBox(children=(FloatProgress(value=0.0, max=1391.0), HTML(value='')))"
      ]
     },
     "metadata": {},
     "output_type": "display_data"
    },
    {
     "name": "stdout",
     "output_type": "stream",
     "text": [
      "\n",
      "[0.007910862400633715, 0.00448796995858098, 0.006772553451412562, 0.0023690622971027156, 0.0009352933180152169, 0.0014853041766527504, 0.0020745599842239898, 0.007099364417869995]\n"
     ]
    },
    {
     "data": {
      "application/vnd.jupyter.widget-view+json": {
       "model_id": "4ca55bed2c2e413196c8024051c505e9",
       "version_major": 2,
       "version_minor": 0
      },
      "text/plain": [
       "HBox(children=(FloatProgress(value=0.0, max=1391.0), HTML(value='')))"
      ]
     },
     "metadata": {},
     "output_type": "display_data"
    },
    {
     "name": "stdout",
     "output_type": "stream",
     "text": [
      "\n",
      "[0.007910862400633715, 0.00448796995858098, 0.006772553451412562, 0.0023690622971027156, 0.0009352933180152169, 0.0014853041766527504, 0.0020745599842239898, 0.007099364417869995]\n"
     ]
    },
    {
     "data": {
      "application/vnd.jupyter.widget-view+json": {
       "model_id": "3a4112c362ce48fca3fa4be4ff7aeb13",
       "version_major": 2,
       "version_minor": 0
      },
      "text/plain": [
       "HBox(children=(FloatProgress(value=0.0, max=1391.0), HTML(value='')))"
      ]
     },
     "metadata": {},
     "output_type": "display_data"
    },
    {
     "name": "stdout",
     "output_type": "stream",
     "text": [
      "\n",
      "[0.007910862400633715, 0.00448796995858098, 0.006772553451412562, 0.0023690622971027156, 0.0009352933180152169, 0.0014853041766527504, 0.0020745599842239898, 0.007099364417869995]\n"
     ]
    },
    {
     "data": {
      "application/vnd.jupyter.widget-view+json": {
       "model_id": "5068cf87e5a840ab9ac0f0311cef0293",
       "version_major": 2,
       "version_minor": 0
      },
      "text/plain": [
       "HBox(children=(FloatProgress(value=0.0, max=1390.0), HTML(value='')))"
      ]
     },
     "metadata": {},
     "output_type": "display_data"
    },
    {
     "name": "stdout",
     "output_type": "stream",
     "text": [
      "\n",
      "[0.007910862400633715, 0.00448796995858098, 0.006772553451412562, 0.0023690622971027156, 0.0009352933180152169, 0.0014853041766527504, 0.0020745599842239898, 0.007099364417869995]\n"
     ]
    },
    {
     "data": {
      "application/vnd.jupyter.widget-view+json": {
       "model_id": "2a08edeb416249cc885920641dbdde89",
       "version_major": 2,
       "version_minor": 0
      },
      "text/plain": [
       "HBox(children=(FloatProgress(value=0.0, max=1392.0), HTML(value='')))"
      ]
     },
     "metadata": {},
     "output_type": "display_data"
    },
    {
     "name": "stdout",
     "output_type": "stream",
     "text": [
      "\n",
      "[0.007910862400633715, 0.00448796995858098, 0.006772553451412562, 0.0023690622971027156, 0.0009352933180152169, 0.0014853041766527504, 0.0020745599842239898, 0.007099364417869995]\n"
     ]
    },
    {
     "data": {
      "application/vnd.jupyter.widget-view+json": {
       "model_id": "5086b82a33ba4951ac91717b9c914e07",
       "version_major": 2,
       "version_minor": 0
      },
      "text/plain": [
       "HBox(children=(FloatProgress(value=0.0, max=1391.0), HTML(value='')))"
      ]
     },
     "metadata": {},
     "output_type": "display_data"
    },
    {
     "name": "stdout",
     "output_type": "stream",
     "text": [
      "\n",
      "[0.007910862400633715, 0.00448796995858098, 0.006772553451412562, 0.0023690622971027156, 0.0009352933180152169, 0.0014853041766527504, 0.0020745599842239898, 0.007099364417869995]\n"
     ]
    },
    {
     "data": {
      "application/vnd.jupyter.widget-view+json": {
       "model_id": "98927bea2d4a43d0871092d4c35ae276",
       "version_major": 2,
       "version_minor": 0
      },
      "text/plain": [
       "HBox(children=(FloatProgress(value=0.0, max=1390.0), HTML(value='')))"
      ]
     },
     "metadata": {},
     "output_type": "display_data"
    },
    {
     "name": "stdout",
     "output_type": "stream",
     "text": [
      "\n",
      "[0.007910862400633715, 0.00448796995858098, 0.006772553451412562, 0.0023690622971027156, 0.0009352933180152169, 0.0014853041766527504, 0.0020745599842239898, 0.007099364417869995]\n"
     ]
    },
    {
     "data": {
      "application/vnd.jupyter.widget-view+json": {
       "model_id": "9091d3943e7346aa9ae5ef3bfbaa7450",
       "version_major": 2,
       "version_minor": 0
      },
      "text/plain": [
       "HBox(children=(FloatProgress(value=0.0, max=1392.0), HTML(value='')))"
      ]
     },
     "metadata": {},
     "output_type": "display_data"
    },
    {
     "name": "stdout",
     "output_type": "stream",
     "text": [
      "\n",
      "[0.007910862400633715, 0.00448796995858098, 0.006772553451412562, 0.0023690622971027156, 0.0009352933180152169, 0.0014853041766527504, 0.0020745599842239898, 0.007099364417869995]\n"
     ]
    },
    {
     "data": {
      "application/vnd.jupyter.widget-view+json": {
       "model_id": "c0a619ba27ab41d79d02cc5ee2c44a25",
       "version_major": 2,
       "version_minor": 0
      },
      "text/plain": [
       "HBox(children=(FloatProgress(value=0.0, max=1391.0), HTML(value='')))"
      ]
     },
     "metadata": {},
     "output_type": "display_data"
    },
    {
     "name": "stdout",
     "output_type": "stream",
     "text": [
      "\n",
      "[0.007910862400633715, 0.00448796995858098, 0.006772553451412562, 0.0023690622971027156, 0.0009352933180152169, 0.0014853041766527504, 0.0020745599842239898, 0.007099364417869995]\n"
     ]
    },
    {
     "data": {
      "application/vnd.jupyter.widget-view+json": {
       "model_id": "feee0bdbc0ef47619196d2a7d9ce17bc",
       "version_major": 2,
       "version_minor": 0
      },
      "text/plain": [
       "HBox(children=(FloatProgress(value=0.0, max=1392.0), HTML(value='')))"
      ]
     },
     "metadata": {},
     "output_type": "display_data"
    },
    {
     "name": "stdout",
     "output_type": "stream",
     "text": [
      "\n",
      "[0.007910862400633715, 0.00448796995858098, 0.006772553451412562, 0.0023690622971027156, 0.0009352933180152169, 0.0014853041766527504, 0.0020745599842239898, 0.007099364417869995]\n"
     ]
    },
    {
     "data": {
      "application/vnd.jupyter.widget-view+json": {
       "model_id": "a370d19486d040d18c13c360481fc9cf",
       "version_major": 2,
       "version_minor": 0
      },
      "text/plain": [
       "HBox(children=(FloatProgress(value=0.0, max=1390.0), HTML(value='')))"
      ]
     },
     "metadata": {},
     "output_type": "display_data"
    },
    {
     "name": "stdout",
     "output_type": "stream",
     "text": [
      "\n",
      "[0.007910862400633715, 0.00448796995858098, 0.006772553451412562, 0.0023690622971027156, 0.0009352933180152169, 0.0014853041766527504, 0.0020745599842239898, 0.007099364417869995]\n"
     ]
    },
    {
     "data": {
      "application/vnd.jupyter.widget-view+json": {
       "model_id": "6bd5da323bbd4fca88b16aa652ffed35",
       "version_major": 2,
       "version_minor": 0
      },
      "text/plain": [
       "HBox(children=(FloatProgress(value=0.0, max=1391.0), HTML(value='')))"
      ]
     },
     "metadata": {},
     "output_type": "display_data"
    },
    {
     "name": "stdout",
     "output_type": "stream",
     "text": [
      "\n",
      "[0.007910862400633715, 0.00448796995858098, 0.006772553451412562, 0.0023690622971027156, 0.0009352933180152169, 0.0014853041766527504, 0.0020745599842239898, 0.007099364417869995]\n"
     ]
    },
    {
     "data": {
      "application/vnd.jupyter.widget-view+json": {
       "model_id": "e31ed8e903ab43c8a0d4380199dcd14b",
       "version_major": 2,
       "version_minor": 0
      },
      "text/plain": [
       "HBox(children=(FloatProgress(value=0.0, max=1391.0), HTML(value='')))"
      ]
     },
     "metadata": {},
     "output_type": "display_data"
    },
    {
     "name": "stdout",
     "output_type": "stream",
     "text": [
      "\n",
      "[0.007910862400633715, 0.00448796995858098, 0.006772553451412562, 0.0023690622971027156, 0.0009352933180152169, 0.0014853041766527504, 0.0020745599842239898, 0.007099364417869995]\n"
     ]
    },
    {
     "data": {
      "application/vnd.jupyter.widget-view+json": {
       "model_id": "460d1b72f3ce4d5ea8a94f92d19da940",
       "version_major": 2,
       "version_minor": 0
      },
      "text/plain": [
       "HBox(children=(FloatProgress(value=0.0, max=1392.0), HTML(value='')))"
      ]
     },
     "metadata": {},
     "output_type": "display_data"
    },
    {
     "name": "stdout",
     "output_type": "stream",
     "text": [
      "\n",
      "[0.007910862400633715, 0.00448796995858098, 0.006772553451412562, 0.0023690622971027156, 0.0009352933180152169, 0.0014853041766527504, 0.0020745599842239898, 0.007099364417869995]\n"
     ]
    },
    {
     "data": {
      "application/vnd.jupyter.widget-view+json": {
       "model_id": "1c8a41d3bf874267b713afdcd22782c8",
       "version_major": 2,
       "version_minor": 0
      },
      "text/plain": [
       "HBox(children=(FloatProgress(value=0.0, max=1391.0), HTML(value='')))"
      ]
     },
     "metadata": {},
     "output_type": "display_data"
    },
    {
     "name": "stdout",
     "output_type": "stream",
     "text": [
      "\n",
      "[0.007910862400633715, 0.00448796995858098, 0.006772553451412562, 0.0023690622971027156, 0.0009352933180152169, 0.0014853041766527504, 0.0020745599842239898, 0.007099364417869995]\n"
     ]
    },
    {
     "data": {
      "application/vnd.jupyter.widget-view+json": {
       "model_id": "68fc9438617c4f1d9a7c6b066acb8260",
       "version_major": 2,
       "version_minor": 0
      },
      "text/plain": [
       "HBox(children=(FloatProgress(value=0.0, max=1391.0), HTML(value='')))"
      ]
     },
     "metadata": {},
     "output_type": "display_data"
    },
    {
     "name": "stdout",
     "output_type": "stream",
     "text": [
      "\n",
      "[0.007910862400633715, 0.00448796995858098, 0.006772553451412562, 0.0023690622971027156, 0.0009352933180152169, 0.0014853041766527504, 0.0020745599842239898, 0.007099364417869995]\n"
     ]
    },
    {
     "data": {
      "application/vnd.jupyter.widget-view+json": {
       "model_id": "e9997476545045aba235b423397dbea1",
       "version_major": 2,
       "version_minor": 0
      },
      "text/plain": [
       "HBox(children=(FloatProgress(value=0.0, max=1390.0), HTML(value='')))"
      ]
     },
     "metadata": {},
     "output_type": "display_data"
    },
    {
     "name": "stdout",
     "output_type": "stream",
     "text": [
      "\n",
      "[0.007910862400633715, 0.00448796995858098, 0.006772553451412562, 0.0023690622971027156, 0.0009352933180152169, 0.0014853041766527504, 0.0020745599842239898, 0.007099364417869995]\n"
     ]
    },
    {
     "data": {
      "application/vnd.jupyter.widget-view+json": {
       "model_id": "9bd2460ba3af40f5b7df5b5ab33285b8",
       "version_major": 2,
       "version_minor": 0
      },
      "text/plain": [
       "HBox(children=(FloatProgress(value=0.0, max=1390.0), HTML(value='')))"
      ]
     },
     "metadata": {},
     "output_type": "display_data"
    },
    {
     "name": "stdout",
     "output_type": "stream",
     "text": [
      "\n",
      "[0.007910862400633715, 0.00448796995858098, 0.006772553451412562, 0.0023690622971027156, 0.0009352933180152169, 0.0014853041766527504, 0.0020745599842239898, 0.007099364417869995]\n"
     ]
    },
    {
     "data": {
      "application/vnd.jupyter.widget-view+json": {
       "model_id": "f1df51131a754fa9bb1036305b801253",
       "version_major": 2,
       "version_minor": 0
      },
      "text/plain": [
       "HBox(children=(FloatProgress(value=0.0, max=1392.0), HTML(value='')))"
      ]
     },
     "metadata": {},
     "output_type": "display_data"
    },
    {
     "name": "stdout",
     "output_type": "stream",
     "text": [
      "\n",
      "[0.007910862400633715, 0.00448796995858098, 0.006772553451412562, 0.0023690622971027156, 0.0009352933180152169, 0.0014853041766527504, 0.0020745599842239898, 0.007099364417869995]\n"
     ]
    },
    {
     "data": {
      "application/vnd.jupyter.widget-view+json": {
       "model_id": "c081d49560294d3bbbd4fe14d217862c",
       "version_major": 2,
       "version_minor": 0
      },
      "text/plain": [
       "HBox(children=(FloatProgress(value=0.0, max=1391.0), HTML(value='')))"
      ]
     },
     "metadata": {},
     "output_type": "display_data"
    },
    {
     "name": "stdout",
     "output_type": "stream",
     "text": [
      "\n",
      "[0.007910862400633715, 0.00448796995858098, 0.006772553451412562, 0.0023690622971027156, 0.0009352933180152169, 0.0014853041766527504, 0.0020745599842239898, 0.007099364417869995]\n"
     ]
    },
    {
     "data": {
      "application/vnd.jupyter.widget-view+json": {
       "model_id": "52b6b9f0b5714873bd4a4d4fc5d20a9a",
       "version_major": 2,
       "version_minor": 0
      },
      "text/plain": [
       "HBox(children=(FloatProgress(value=0.0, max=1391.0), HTML(value='')))"
      ]
     },
     "metadata": {},
     "output_type": "display_data"
    },
    {
     "name": "stdout",
     "output_type": "stream",
     "text": [
      "\n",
      "[0.007910862400633715, 0.00448796995858098, 0.006772553451412562, 0.0023690622971027156, 0.0009352933180152169, 0.0014853041766527504, 0.0020745599842239898, 0.007099364417869995]\n"
     ]
    },
    {
     "data": {
      "application/vnd.jupyter.widget-view+json": {
       "model_id": "8a453ddc56ed417cb0ea477ca2dce728",
       "version_major": 2,
       "version_minor": 0
      },
      "text/plain": [
       "HBox(children=(FloatProgress(value=0.0, max=1391.0), HTML(value='')))"
      ]
     },
     "metadata": {},
     "output_type": "display_data"
    },
    {
     "name": "stdout",
     "output_type": "stream",
     "text": [
      "\n",
      "[0.007910862400633715, 0.00448796995858098, 0.006772553451412562, 0.0023690622971027156, 0.0009352933180152169, 0.0014853041766527504, 0.0020745599842239898, 0.007099364417869995]\n"
     ]
    },
    {
     "data": {
      "application/vnd.jupyter.widget-view+json": {
       "model_id": "c013bba4d7fb492691e185663ced89c5",
       "version_major": 2,
       "version_minor": 0
      },
      "text/plain": [
       "HBox(children=(FloatProgress(value=0.0, max=1391.0), HTML(value='')))"
      ]
     },
     "metadata": {},
     "output_type": "display_data"
    },
    {
     "name": "stdout",
     "output_type": "stream",
     "text": [
      "\n",
      "[0.007910862400633715, 0.00448796995858098, 0.006772553451412562, 0.0023690622971027156, 0.0009352933180152169, 0.0014853041766527504, 0.0020745599842239898, 0.007099364417869995]\n"
     ]
    },
    {
     "data": {
      "application/vnd.jupyter.widget-view+json": {
       "model_id": "1798aa380a454b4595ee160d74e30e44",
       "version_major": 2,
       "version_minor": 0
      },
      "text/plain": [
       "HBox(children=(FloatProgress(value=0.0, max=1392.0), HTML(value='')))"
      ]
     },
     "metadata": {},
     "output_type": "display_data"
    },
    {
     "name": "stdout",
     "output_type": "stream",
     "text": [
      "\n",
      "[0.007910862400633715, 0.00448796995858098, 0.006772553451412562, 0.0023690622971027156, 0.0009352933180152169, 0.0014853041766527504, 0.0020745599842239898, 0.007099364417869995]\n"
     ]
    },
    {
     "data": {
      "application/vnd.jupyter.widget-view+json": {
       "model_id": "fe298349e9694f179937e8fbb8524d67",
       "version_major": 2,
       "version_minor": 0
      },
      "text/plain": [
       "HBox(children=(FloatProgress(value=0.0, max=1390.0), HTML(value='')))"
      ]
     },
     "metadata": {},
     "output_type": "display_data"
    },
    {
     "name": "stdout",
     "output_type": "stream",
     "text": [
      "\n",
      "[0.007910862400633715, 0.00448796995858098, 0.006772553451412562, 0.0023690622971027156, 0.0009352933180152169, 0.0014853041766527504, 0.0020745599842239898, 0.007099364417869995]\n"
     ]
    },
    {
     "data": {
      "application/vnd.jupyter.widget-view+json": {
       "model_id": "cc53230ecd404667a8e180c3ee98761a",
       "version_major": 2,
       "version_minor": 0
      },
      "text/plain": [
       "HBox(children=(FloatProgress(value=0.0, max=1391.0), HTML(value='')))"
      ]
     },
     "metadata": {},
     "output_type": "display_data"
    },
    {
     "name": "stdout",
     "output_type": "stream",
     "text": [
      "\n",
      "[0.007910862400633715, 0.00448796995858098, 0.006772553451412562, 0.0023690622971027156, 0.0009352933180152169, 0.0014853041766527504, 0.0020745599842239898, 0.007099364417869995]\n"
     ]
    },
    {
     "data": {
      "application/vnd.jupyter.widget-view+json": {
       "model_id": "fa7e2de3f57c4e08a77aa032a0f0fbaa",
       "version_major": 2,
       "version_minor": 0
      },
      "text/plain": [
       "HBox(children=(FloatProgress(value=0.0, max=1392.0), HTML(value='')))"
      ]
     },
     "metadata": {},
     "output_type": "display_data"
    },
    {
     "name": "stdout",
     "output_type": "stream",
     "text": [
      "\n",
      "[0.007910862400633715, 0.00448796995858098, 0.006772553451412562, 0.0023690622971027156, 0.0009352933180152169, 0.0014853041766527504, 0.0020745599842239898, 0.007099364417869995]\n"
     ]
    },
    {
     "data": {
      "application/vnd.jupyter.widget-view+json": {
       "model_id": "fb9c8cbe19844cfa813bde8dec737a5c",
       "version_major": 2,
       "version_minor": 0
      },
      "text/plain": [
       "HBox(children=(FloatProgress(value=0.0, max=1391.0), HTML(value='')))"
      ]
     },
     "metadata": {},
     "output_type": "display_data"
    },
    {
     "name": "stdout",
     "output_type": "stream",
     "text": [
      "\n",
      "[0.007910862400633715, 0.00448796995858098, 0.006772553451412562, 0.0023690622971027156, 0.0009352933180152169, 0.0014853041766527504, 0.0020745599842239898, 0.007099364417869995]\n"
     ]
    },
    {
     "data": {
      "application/vnd.jupyter.widget-view+json": {
       "model_id": "e6873bc7a46140d08f547221f8d4d24b",
       "version_major": 2,
       "version_minor": 0
      },
      "text/plain": [
       "HBox(children=(FloatProgress(value=0.0, max=1390.0), HTML(value='')))"
      ]
     },
     "metadata": {},
     "output_type": "display_data"
    },
    {
     "name": "stdout",
     "output_type": "stream",
     "text": [
      "\n",
      "[0.007910862400633715, 0.00448796995858098, 0.006772553451412562, 0.0023690622971027156, 0.0009352933180152169, 0.0014853041766527504, 0.0020745599842239898, 0.007099364417869995]\n"
     ]
    },
    {
     "data": {
      "application/vnd.jupyter.widget-view+json": {
       "model_id": "db6834fe517746f6b4e824ceb61f0fd1",
       "version_major": 2,
       "version_minor": 0
      },
      "text/plain": [
       "HBox(children=(FloatProgress(value=0.0, max=1392.0), HTML(value='')))"
      ]
     },
     "metadata": {},
     "output_type": "display_data"
    },
    {
     "name": "stdout",
     "output_type": "stream",
     "text": [
      "\n",
      "[0.007910862400633715, 0.00448796995858098, 0.006772553451412562, 0.0023690622971027156, 0.0009352933180152169, 0.0014853041766527504, 0.0020745599842239898, 0.007099364417869995]\n"
     ]
    },
    {
     "data": {
      "application/vnd.jupyter.widget-view+json": {
       "model_id": "7d652c38ca4142cbab988290c63b0cf2",
       "version_major": 2,
       "version_minor": 0
      },
      "text/plain": [
       "HBox(children=(FloatProgress(value=0.0, max=1390.0), HTML(value='')))"
      ]
     },
     "metadata": {},
     "output_type": "display_data"
    },
    {
     "name": "stdout",
     "output_type": "stream",
     "text": [
      "\n",
      "[0.007910862400633715, 0.00448796995858098, 0.006772553451412562, 0.0023690622971027156, 0.0009352933180152169, 0.0014853041766527504, 0.0020745599842239898, 0.007099364417869995]\n"
     ]
    },
    {
     "data": {
      "application/vnd.jupyter.widget-view+json": {
       "model_id": "ba8ec93e41d64834ba30cfbd12603d6c",
       "version_major": 2,
       "version_minor": 0
      },
      "text/plain": [
       "HBox(children=(FloatProgress(value=0.0, max=1391.0), HTML(value='')))"
      ]
     },
     "metadata": {},
     "output_type": "display_data"
    },
    {
     "name": "stdout",
     "output_type": "stream",
     "text": [
      "\n",
      "[0.007910862400633715, 0.00448796995858098, 0.006772553451412562, 0.0023690622971027156, 0.0009352933180152169, 0.0014853041766527504, 0.0020745599842239898, 0.007099364417869995]\n"
     ]
    },
    {
     "data": {
      "application/vnd.jupyter.widget-view+json": {
       "model_id": "6b2ad883050a467a844883477832c83f",
       "version_major": 2,
       "version_minor": 0
      },
      "text/plain": [
       "HBox(children=(FloatProgress(value=0.0, max=1391.0), HTML(value='')))"
      ]
     },
     "metadata": {},
     "output_type": "display_data"
    },
    {
     "name": "stdout",
     "output_type": "stream",
     "text": [
      "\n",
      "[0.007910862400633715, 0.00448796995858098, 0.006772553451412562, 0.0023690622971027156, 0.0009352933180152169, 0.0014853041766527504, 0.0020745599842239898, 0.007099364417869995]\n"
     ]
    },
    {
     "data": {
      "application/vnd.jupyter.widget-view+json": {
       "model_id": "61896eed1485463687fd407cb0ae27a6",
       "version_major": 2,
       "version_minor": 0
      },
      "text/plain": [
       "HBox(children=(FloatProgress(value=0.0, max=1391.0), HTML(value='')))"
      ]
     },
     "metadata": {},
     "output_type": "display_data"
    },
    {
     "name": "stdout",
     "output_type": "stream",
     "text": [
      "\n",
      "[0.007910862400633715, 0.00448796995858098, 0.006772553451412562, 0.0023690622971027156, 0.0009352933180152169, 0.0014853041766527504, 0.0020745599842239898, 0.007099364417869995]\n"
     ]
    },
    {
     "data": {
      "application/vnd.jupyter.widget-view+json": {
       "model_id": "ee94f1ad02084ef9a400e7c532170bae",
       "version_major": 2,
       "version_minor": 0
      },
      "text/plain": [
       "HBox(children=(FloatProgress(value=0.0, max=1391.0), HTML(value='')))"
      ]
     },
     "metadata": {},
     "output_type": "display_data"
    },
    {
     "name": "stdout",
     "output_type": "stream",
     "text": [
      "\n",
      "[0.007910862400633715, 0.00448796995858098, 0.006772553451412562, 0.0023690622971027156, 0.0009352933180152169, 0.0014853041766527504, 0.0020745599842239898, 0.007099364417869995]\n"
     ]
    },
    {
     "data": {
      "application/vnd.jupyter.widget-view+json": {
       "model_id": "583154aea79144a2b11ea77468000d3a",
       "version_major": 2,
       "version_minor": 0
      },
      "text/plain": [
       "HBox(children=(FloatProgress(value=0.0, max=1392.0), HTML(value='')))"
      ]
     },
     "metadata": {},
     "output_type": "display_data"
    },
    {
     "name": "stdout",
     "output_type": "stream",
     "text": [
      "\n",
      "[0.007910862400633715, 0.00448796995858098, 0.006772553451412562, 0.0023690622971027156, 0.0009352933180152169, 0.0014853041766527504, 0.0020745599842239898, 0.007099364417869995]\n"
     ]
    },
    {
     "data": {
      "application/vnd.jupyter.widget-view+json": {
       "model_id": "462efb08759b4167b805eacd1d70ab59",
       "version_major": 2,
       "version_minor": 0
      },
      "text/plain": [
       "HBox(children=(FloatProgress(value=0.0, max=1390.0), HTML(value='')))"
      ]
     },
     "metadata": {},
     "output_type": "display_data"
    },
    {
     "name": "stdout",
     "output_type": "stream",
     "text": [
      "\n",
      "[0.007910862400633715, 0.00448796995858098, 0.006772553451412562, 0.0023690622971027156, 0.0009352933180152169, 0.0014853041766527504, 0.0020745599842239898, 0.007099364417869995]\n"
     ]
    },
    {
     "data": {
      "application/vnd.jupyter.widget-view+json": {
       "model_id": "e7c50d23b25940929a7ec1badea350e2",
       "version_major": 2,
       "version_minor": 0
      },
      "text/plain": [
       "HBox(children=(FloatProgress(value=0.0, max=1391.0), HTML(value='')))"
      ]
     },
     "metadata": {},
     "output_type": "display_data"
    },
    {
     "name": "stdout",
     "output_type": "stream",
     "text": [
      "\n",
      "[0.007910862400633715, 0.00448796995858098, 0.006772553451412562, 0.0023690622971027156, 0.0009352933180152169, 0.0014853041766527504, 0.0020745599842239898, 0.007099364417869995]\n"
     ]
    },
    {
     "data": {
      "application/vnd.jupyter.widget-view+json": {
       "model_id": "87913e4b6806428898033042ee0facfb",
       "version_major": 2,
       "version_minor": 0
      },
      "text/plain": [
       "HBox(children=(FloatProgress(value=0.0, max=1392.0), HTML(value='')))"
      ]
     },
     "metadata": {},
     "output_type": "display_data"
    },
    {
     "name": "stdout",
     "output_type": "stream",
     "text": [
      "\n",
      "[0.007910862400633715, 0.00448796995858098, 0.006772553451412562, 0.0023690622971027156, 0.0009352933180152169, 0.0014853041766527504, 0.0020745599842239898, 0.007099364417869995]\n"
     ]
    },
    {
     "data": {
      "application/vnd.jupyter.widget-view+json": {
       "model_id": "aadc71cc29564b6193ebf0e95a4bc5c8",
       "version_major": 2,
       "version_minor": 0
      },
      "text/plain": [
       "HBox(children=(FloatProgress(value=0.0, max=1390.0), HTML(value='')))"
      ]
     },
     "metadata": {},
     "output_type": "display_data"
    },
    {
     "name": "stdout",
     "output_type": "stream",
     "text": [
      "\n",
      "[0.007910862400633715, 0.00448796995858098, 0.006772553451412562, 0.0023690622971027156, 0.0009352933180152169, 0.0014853041766527504, 0.0020745599842239898, 0.007099364417869995]\n"
     ]
    },
    {
     "data": {
      "application/vnd.jupyter.widget-view+json": {
       "model_id": "131863302857483d9f3413d3caf13650",
       "version_major": 2,
       "version_minor": 0
      },
      "text/plain": [
       "HBox(children=(FloatProgress(value=0.0, max=1390.0), HTML(value='')))"
      ]
     },
     "metadata": {},
     "output_type": "display_data"
    },
    {
     "name": "stdout",
     "output_type": "stream",
     "text": [
      "\n",
      "[0.007910862400633715, 0.00448796995858098, 0.006772553451412562, 0.0023690622971027156, 0.0009352933180152169, 0.0014853041766527504, 0.0020745599842239898, 0.007099364417869995]\n"
     ]
    },
    {
     "data": {
      "application/vnd.jupyter.widget-view+json": {
       "model_id": "1eeae87c02ee406cadf3560ef8ed4dfb",
       "version_major": 2,
       "version_minor": 0
      },
      "text/plain": [
       "HBox(children=(FloatProgress(value=0.0, max=1392.0), HTML(value='')))"
      ]
     },
     "metadata": {},
     "output_type": "display_data"
    },
    {
     "name": "stdout",
     "output_type": "stream",
     "text": [
      "\n",
      "[0.007910862400633715, 0.00448796995858098, 0.006772553451412562, 0.0023690622971027156, 0.0009352933180152169, 0.0014853041766527504, 0.0020745599842239898, 0.007099364417869995]\n"
     ]
    },
    {
     "data": {
      "application/vnd.jupyter.widget-view+json": {
       "model_id": "ea6db5e0c2bd47c1975e912eca2f1bee",
       "version_major": 2,
       "version_minor": 0
      },
      "text/plain": [
       "HBox(children=(FloatProgress(value=0.0, max=1391.0), HTML(value='')))"
      ]
     },
     "metadata": {},
     "output_type": "display_data"
    },
    {
     "name": "stdout",
     "output_type": "stream",
     "text": [
      "\n",
      "[0.007910862400633715, 0.00448796995858098, 0.006772553451412562, 0.0023690622971027156, 0.0009352933180152169, 0.0014853041766527504, 0.0020745599842239898, 0.007099364417869995]\n"
     ]
    },
    {
     "data": {
      "application/vnd.jupyter.widget-view+json": {
       "model_id": "e2f0cf2aab204ea3ab8c11dfa09f1fdd",
       "version_major": 2,
       "version_minor": 0
      },
      "text/plain": [
       "HBox(children=(FloatProgress(value=0.0, max=1390.0), HTML(value='')))"
      ]
     },
     "metadata": {},
     "output_type": "display_data"
    },
    {
     "name": "stdout",
     "output_type": "stream",
     "text": [
      "\n",
      "[0.007910862400633715, 0.00448796995858098, 0.006772553451412562, 0.0023690622971027156, 0.0009352933180152169, 0.0014853041766527504, 0.0020745599842239898, 0.007099364417869995]\n"
     ]
    },
    {
     "data": {
      "application/vnd.jupyter.widget-view+json": {
       "model_id": "e11000606c9d4649aee2277c982d7610",
       "version_major": 2,
       "version_minor": 0
      },
      "text/plain": [
       "HBox(children=(FloatProgress(value=0.0, max=1391.0), HTML(value='')))"
      ]
     },
     "metadata": {},
     "output_type": "display_data"
    },
    {
     "name": "stdout",
     "output_type": "stream",
     "text": [
      "\n",
      "[0.007910862400633715, 0.00448796995858098, 0.006772553451412562, 0.0023690622971027156, 0.0009352933180152169, 0.0014853041766527504, 0.0020745599842239898, 0.007099364417869995]\n"
     ]
    },
    {
     "data": {
      "application/vnd.jupyter.widget-view+json": {
       "model_id": "d882db0dfc46410e90dd466bb26ad0c8",
       "version_major": 2,
       "version_minor": 0
      },
      "text/plain": [
       "HBox(children=(FloatProgress(value=0.0, max=1392.0), HTML(value='')))"
      ]
     },
     "metadata": {},
     "output_type": "display_data"
    },
    {
     "name": "stdout",
     "output_type": "stream",
     "text": [
      "\n",
      "[0.007910862400633715, 0.00448796995858098, 0.006772553451412562, 0.0023690622971027156, 0.0009352933180152169, 0.0014853041766527504, 0.0020745599842239898, 0.007099364417869995]\n"
     ]
    },
    {
     "data": {
      "application/vnd.jupyter.widget-view+json": {
       "model_id": "4242e366b7334b7093b424a612d7b2f9",
       "version_major": 2,
       "version_minor": 0
      },
      "text/plain": [
       "HBox(children=(FloatProgress(value=0.0, max=1391.0), HTML(value='')))"
      ]
     },
     "metadata": {},
     "output_type": "display_data"
    },
    {
     "name": "stdout",
     "output_type": "stream",
     "text": [
      "\n",
      "[0.007910862400633715, 0.00448796995858098, 0.006772553451412562, 0.0023690622971027156, 0.0009352933180152169, 0.0014853041766527504, 0.0020745599842239898, 0.007099364417869995]\n"
     ]
    },
    {
     "data": {
      "application/vnd.jupyter.widget-view+json": {
       "model_id": "ade3c0f5814348e19f51d53fb19aee64",
       "version_major": 2,
       "version_minor": 0
      },
      "text/plain": [
       "HBox(children=(FloatProgress(value=0.0, max=1391.0), HTML(value='')))"
      ]
     },
     "metadata": {},
     "output_type": "display_data"
    },
    {
     "name": "stdout",
     "output_type": "stream",
     "text": [
      "\n",
      "[0.007910862400633715, 0.00448796995858098, 0.006772553451412562, 0.0023690622971027156, 0.0009352933180152169, 0.0014853041766527504, 0.0020745599842239898, 0.007099364417869995]\n"
     ]
    },
    {
     "data": {
      "application/vnd.jupyter.widget-view+json": {
       "model_id": "4b2336badae640ef924292fb15a6dd1c",
       "version_major": 2,
       "version_minor": 0
      },
      "text/plain": [
       "HBox(children=(FloatProgress(value=0.0, max=1391.0), HTML(value='')))"
      ]
     },
     "metadata": {},
     "output_type": "display_data"
    },
    {
     "name": "stdout",
     "output_type": "stream",
     "text": [
      "\n",
      "[0.007910862400633715, 0.00448796995858098, 0.006772553451412562, 0.0023690622971027156, 0.0009352933180152169, 0.0014853041766527504, 0.0020745599842239898, 0.007099364417869995]\n"
     ]
    },
    {
     "data": {
      "application/vnd.jupyter.widget-view+json": {
       "model_id": "e2aff07e19b149bfb9ab04996d282f4a",
       "version_major": 2,
       "version_minor": 0
      },
      "text/plain": [
       "HBox(children=(FloatProgress(value=0.0, max=1390.0), HTML(value='')))"
      ]
     },
     "metadata": {},
     "output_type": "display_data"
    },
    {
     "name": "stdout",
     "output_type": "stream",
     "text": [
      "\n",
      "[0.007910862400633715, 0.00448796995858098, 0.006772553451412562, 0.0023690622971027156, 0.0009352933180152169, 0.0014853041766527504, 0.0020745599842239898, 0.007099364417869995]\n"
     ]
    },
    {
     "data": {
      "application/vnd.jupyter.widget-view+json": {
       "model_id": "9b8769967bfc41ad9151639a0db0e3b2",
       "version_major": 2,
       "version_minor": 0
      },
      "text/plain": [
       "HBox(children=(FloatProgress(value=0.0, max=1392.0), HTML(value='')))"
      ]
     },
     "metadata": {},
     "output_type": "display_data"
    },
    {
     "name": "stdout",
     "output_type": "stream",
     "text": [
      "\n",
      "[0.007910862400633715, 0.00448796995858098, 0.006772553451412562, 0.0023690622971027156, 0.0009352933180152169, 0.0014853041766527504, 0.0020745599842239898, 0.007099364417869995]\n"
     ]
    },
    {
     "data": {
      "application/vnd.jupyter.widget-view+json": {
       "model_id": "5c3a98fb557947e180d0e1b9a28728f7",
       "version_major": 2,
       "version_minor": 0
      },
      "text/plain": [
       "HBox(children=(FloatProgress(value=0.0, max=1391.0), HTML(value='')))"
      ]
     },
     "metadata": {},
     "output_type": "display_data"
    },
    {
     "name": "stdout",
     "output_type": "stream",
     "text": [
      "\n",
      "[0.007910862400633715, 0.00448796995858098, 0.006772553451412562, 0.0023690622971027156, 0.0009352933180152169, 0.0014853041766527504, 0.0020745599842239898, 0.007099364417869995]\n"
     ]
    },
    {
     "data": {
      "application/vnd.jupyter.widget-view+json": {
       "model_id": "67c05bdb1c7c4f72980f38efed09f661",
       "version_major": 2,
       "version_minor": 0
      },
      "text/plain": [
       "HBox(children=(FloatProgress(value=0.0, max=1390.0), HTML(value='')))"
      ]
     },
     "metadata": {},
     "output_type": "display_data"
    },
    {
     "name": "stdout",
     "output_type": "stream",
     "text": [
      "\n",
      "[0.007910862400633715, 0.00448796995858098, 0.006772553451412562, 0.0023690622971027156, 0.0009352933180152169, 0.0014853041766527504, 0.0020745599842239898, 0.007099364417869995]\n"
     ]
    },
    {
     "data": {
      "application/vnd.jupyter.widget-view+json": {
       "model_id": "acb89f508f744901a0ec14cc20159274",
       "version_major": 2,
       "version_minor": 0
      },
      "text/plain": [
       "HBox(children=(FloatProgress(value=0.0, max=1391.0), HTML(value='')))"
      ]
     },
     "metadata": {},
     "output_type": "display_data"
    },
    {
     "name": "stdout",
     "output_type": "stream",
     "text": [
      "\n",
      "[0.007910862400633715, 0.00448796995858098, 0.006772553451412562, 0.0023690622971027156, 0.0009352933180152169, 0.0014853041766527504, 0.0020745599842239898, 0.007099364417869995]\n"
     ]
    },
    {
     "data": {
      "application/vnd.jupyter.widget-view+json": {
       "model_id": "2bae6616608948d18c8fe4924bdd5574",
       "version_major": 2,
       "version_minor": 0
      },
      "text/plain": [
       "HBox(children=(FloatProgress(value=0.0, max=1392.0), HTML(value='')))"
      ]
     },
     "metadata": {},
     "output_type": "display_data"
    },
    {
     "name": "stdout",
     "output_type": "stream",
     "text": [
      "\n",
      "[0.007910862400633715, 0.00448796995858098, 0.006772553451412562, 0.0023690622971027156, 0.0009352933180152169, 0.0014853041766527504, 0.0020745599842239898, 0.007099364417869995]\n"
     ]
    },
    {
     "data": {
      "application/vnd.jupyter.widget-view+json": {
       "model_id": "7583622f8fcf447b86788716f5562736",
       "version_major": 2,
       "version_minor": 0
      },
      "text/plain": [
       "HBox(children=(FloatProgress(value=0.0, max=1391.0), HTML(value='')))"
      ]
     },
     "metadata": {},
     "output_type": "display_data"
    },
    {
     "name": "stdout",
     "output_type": "stream",
     "text": [
      "\n",
      "[0.007910862400633715, 0.00448796995858098, 0.006772553451412562, 0.0023690622971027156, 0.0009352933180152169, 0.0014853041766527504, 0.0020745599842239898, 0.007099364417869995]\n"
     ]
    },
    {
     "data": {
      "application/vnd.jupyter.widget-view+json": {
       "model_id": "0f7fc014ea4c4cbebaef3c6df7091f17",
       "version_major": 2,
       "version_minor": 0
      },
      "text/plain": [
       "HBox(children=(FloatProgress(value=0.0, max=1390.0), HTML(value='')))"
      ]
     },
     "metadata": {},
     "output_type": "display_data"
    },
    {
     "name": "stdout",
     "output_type": "stream",
     "text": [
      "\n",
      "[0.007910862400633715, 0.00448796995858098, 0.006772553451412562, 0.0023690622971027156, 0.0009352933180152169, 0.0014853041766527504, 0.0020745599842239898, 0.007099364417869995]\n"
     ]
    },
    {
     "data": {
      "application/vnd.jupyter.widget-view+json": {
       "model_id": "ffbf4c928ec44034989743fbcf3c7602",
       "version_major": 2,
       "version_minor": 0
      },
      "text/plain": [
       "HBox(children=(FloatProgress(value=0.0, max=1392.0), HTML(value='')))"
      ]
     },
     "metadata": {},
     "output_type": "display_data"
    },
    {
     "name": "stdout",
     "output_type": "stream",
     "text": [
      "\n",
      "[0.007910862400633715, 0.00448796995858098, 0.006772553451412562, 0.0023690622971027156, 0.0009352933180152169, 0.0014853041766527504, 0.0020745599842239898, 0.007099364417869995]\n"
     ]
    },
    {
     "data": {
      "application/vnd.jupyter.widget-view+json": {
       "model_id": "ce3bf294bd2f482bac233db763ea8a4b",
       "version_major": 2,
       "version_minor": 0
      },
      "text/plain": [
       "HBox(children=(FloatProgress(value=0.0, max=1391.0), HTML(value='')))"
      ]
     },
     "metadata": {},
     "output_type": "display_data"
    },
    {
     "name": "stdout",
     "output_type": "stream",
     "text": [
      "\n",
      "[0.007910862400633715, 0.00448796995858098, 0.006772553451412562, 0.0023690622971027156, 0.0009352933180152169, 0.0014853041766527504, 0.0020745599842239898, 0.007099364417869995]\n"
     ]
    },
    {
     "data": {
      "application/vnd.jupyter.widget-view+json": {
       "model_id": "3aceb04b5c3c411bb93e5e91a188df7b",
       "version_major": 2,
       "version_minor": 0
      },
      "text/plain": [
       "HBox(children=(FloatProgress(value=0.0, max=1390.0), HTML(value='')))"
      ]
     },
     "metadata": {},
     "output_type": "display_data"
    },
    {
     "name": "stdout",
     "output_type": "stream",
     "text": [
      "\n",
      "[0.007910862400633715, 0.00448796995858098, 0.006772553451412562, 0.0023690622971027156, 0.0009352933180152169, 0.0014853041766527504, 0.0020745599842239898, 0.007099364417869995]\n"
     ]
    },
    {
     "data": {
      "application/vnd.jupyter.widget-view+json": {
       "model_id": "dc83964b71a74065b063ab01f5e68ee8",
       "version_major": 2,
       "version_minor": 0
      },
      "text/plain": [
       "HBox(children=(FloatProgress(value=0.0, max=1392.0), HTML(value='')))"
      ]
     },
     "metadata": {},
     "output_type": "display_data"
    },
    {
     "name": "stdout",
     "output_type": "stream",
     "text": [
      "\n",
      "[0.007910862400633715, 0.00448796995858098, 0.006772553451412562, 0.0023690622971027156, 0.0009352933180152169, 0.0014853041766527504, 0.0020745599842239898, 0.007099364417869995]\n"
     ]
    },
    {
     "data": {
      "application/vnd.jupyter.widget-view+json": {
       "model_id": "f4f93be358fa45cda942932013e6218a",
       "version_major": 2,
       "version_minor": 0
      },
      "text/plain": [
       "HBox(children=(FloatProgress(value=0.0, max=1391.0), HTML(value='')))"
      ]
     },
     "metadata": {},
     "output_type": "display_data"
    },
    {
     "name": "stdout",
     "output_type": "stream",
     "text": [
      "\n",
      "[0.007910862400633715, 0.00448796995858098, 0.006772553451412562, 0.0023690622971027156, 0.0009352933180152169, 0.0014853041766527504, 0.0020745599842239898, 0.007099364417869995]\n"
     ]
    },
    {
     "data": {
      "application/vnd.jupyter.widget-view+json": {
       "model_id": "f134c556108d4440ab5510ffe9bf1a78",
       "version_major": 2,
       "version_minor": 0
      },
      "text/plain": [
       "HBox(children=(FloatProgress(value=0.0, max=1391.0), HTML(value='')))"
      ]
     },
     "metadata": {},
     "output_type": "display_data"
    },
    {
     "name": "stdout",
     "output_type": "stream",
     "text": [
      "\n",
      "[0.007910862400633715, 0.00448796995858098, 0.006772553451412562, 0.0023690622971027156, 0.0009352933180152169, 0.0014853041766527504, 0.0020745599842239898, 0.007099364417869995]\n"
     ]
    },
    {
     "data": {
      "application/vnd.jupyter.widget-view+json": {
       "model_id": "89a2b74e4fcc4976a3088eaacdaffac6",
       "version_major": 2,
       "version_minor": 0
      },
      "text/plain": [
       "HBox(children=(FloatProgress(value=0.0, max=1390.0), HTML(value='')))"
      ]
     },
     "metadata": {},
     "output_type": "display_data"
    },
    {
     "name": "stdout",
     "output_type": "stream",
     "text": [
      "\n",
      "[0.007910862400633715, 0.00448796995858098, 0.006772553451412562, 0.0023690622971027156, 0.0009352933180152169, 0.0014853041766527504, 0.0020745599842239898, 0.007099364417869995]\n"
     ]
    },
    {
     "data": {
      "application/vnd.jupyter.widget-view+json": {
       "model_id": "6a3f8549985d4720bf43f2c2d7ab91b3",
       "version_major": 2,
       "version_minor": 0
      },
      "text/plain": [
       "HBox(children=(FloatProgress(value=0.0, max=1391.0), HTML(value='')))"
      ]
     },
     "metadata": {},
     "output_type": "display_data"
    },
    {
     "name": "stdout",
     "output_type": "stream",
     "text": [
      "\n",
      "[0.007910862400633715, 0.00448796995858098, 0.006772553451412562, 0.0023690622971027156, 0.0009352933180152169, 0.0014853041766527504, 0.0020745599842239898, 0.007099364417869995]\n"
     ]
    },
    {
     "data": {
      "application/vnd.jupyter.widget-view+json": {
       "model_id": "17e0d9e7d0de493dba0f2e11a5452390",
       "version_major": 2,
       "version_minor": 0
      },
      "text/plain": [
       "HBox(children=(FloatProgress(value=0.0, max=1392.0), HTML(value='')))"
      ]
     },
     "metadata": {},
     "output_type": "display_data"
    },
    {
     "name": "stdout",
     "output_type": "stream",
     "text": [
      "\n",
      "[0.007910862400633715, 0.00448796995858098, 0.006772553451412562, 0.0023690622971027156, 0.0009352933180152169, 0.0014853041766527504, 0.0020745599842239898, 0.007099364417869995]\n"
     ]
    },
    {
     "data": {
      "application/vnd.jupyter.widget-view+json": {
       "model_id": "0caa432cc60c44128e9f1e893620743b",
       "version_major": 2,
       "version_minor": 0
      },
      "text/plain": [
       "HBox(children=(FloatProgress(value=0.0, max=1391.0), HTML(value='')))"
      ]
     },
     "metadata": {},
     "output_type": "display_data"
    },
    {
     "name": "stdout",
     "output_type": "stream",
     "text": [
      "\n",
      "[0.007910862400633715, 0.00448796995858098, 0.006772553451412562, 0.0023690622971027156, 0.0009352933180152169, 0.0014853041766527504, 0.0020745599842239898, 0.007099364417869995]\n"
     ]
    },
    {
     "data": {
      "application/vnd.jupyter.widget-view+json": {
       "model_id": "28018a4005ad4591aa3b9de5e54a0ceb",
       "version_major": 2,
       "version_minor": 0
      },
      "text/plain": [
       "HBox(children=(FloatProgress(value=0.0, max=1392.0), HTML(value='')))"
      ]
     },
     "metadata": {},
     "output_type": "display_data"
    },
    {
     "name": "stdout",
     "output_type": "stream",
     "text": [
      "\n",
      "[0.007910862400633715, 0.00448796995858098, 0.006772553451412562, 0.0023690622971027156, 0.0009352933180152169, 0.0014853041766527504, 0.0020745599842239898, 0.007099364417869995]\n"
     ]
    },
    {
     "data": {
      "application/vnd.jupyter.widget-view+json": {
       "model_id": "552fb5fb56d04b579d8ef45570720f2b",
       "version_major": 2,
       "version_minor": 0
      },
      "text/plain": [
       "HBox(children=(FloatProgress(value=0.0, max=1391.0), HTML(value='')))"
      ]
     },
     "metadata": {},
     "output_type": "display_data"
    },
    {
     "name": "stdout",
     "output_type": "stream",
     "text": [
      "\n",
      "[0.007910862400633715, 0.00448796995858098, 0.006772553451412562, 0.0023690622971027156, 0.0009352933180152169, 0.0014853041766527504, 0.0020745599842239898, 0.007099364417869995]\n"
     ]
    },
    {
     "data": {
      "application/vnd.jupyter.widget-view+json": {
       "model_id": "1038ff09e2b94ac78b057743ad6eb398",
       "version_major": 2,
       "version_minor": 0
      },
      "text/plain": [
       "HBox(children=(FloatProgress(value=0.0, max=1391.0), HTML(value='')))"
      ]
     },
     "metadata": {},
     "output_type": "display_data"
    },
    {
     "name": "stdout",
     "output_type": "stream",
     "text": [
      "\n",
      "[0.007910862400633715, 0.00448796995858098, 0.006772553451412562, 0.0023690622971027156, 0.0009352933180152169, 0.0014853041766527504, 0.0020745599842239898, 0.007099364417869995]\n"
     ]
    },
    {
     "data": {
      "application/vnd.jupyter.widget-view+json": {
       "model_id": "5e07cbd6a18e4c60bcf3e11db2ebd1f7",
       "version_major": 2,
       "version_minor": 0
      },
      "text/plain": [
       "HBox(children=(FloatProgress(value=0.0, max=1390.0), HTML(value='')))"
      ]
     },
     "metadata": {},
     "output_type": "display_data"
    },
    {
     "name": "stdout",
     "output_type": "stream",
     "text": [
      "\n",
      "[0.007910862400633715, 0.00448796995858098, 0.006772553451412562, 0.0023690622971027156, 0.0009352933180152169, 0.0014853041766527504, 0.0020745599842239898, 0.007099364417869995]\n"
     ]
    },
    {
     "data": {
      "application/vnd.jupyter.widget-view+json": {
       "model_id": "f59a45574b654fefada552f2425da13d",
       "version_major": 2,
       "version_minor": 0
      },
      "text/plain": [
       "HBox(children=(FloatProgress(value=0.0, max=1391.0), HTML(value='')))"
      ]
     },
     "metadata": {},
     "output_type": "display_data"
    },
    {
     "name": "stdout",
     "output_type": "stream",
     "text": [
      "\n",
      "[0.007910862400633715, 0.00448796995858098, 0.006772553451412562, 0.0023690622971027156, 0.0009352933180152169, 0.0014853041766527504, 0.0020745599842239898, 0.007099364417869995]\n"
     ]
    },
    {
     "data": {
      "application/vnd.jupyter.widget-view+json": {
       "model_id": "c0b6da7b1acd4e2aa3f33d78bb21aa4f",
       "version_major": 2,
       "version_minor": 0
      },
      "text/plain": [
       "HBox(children=(FloatProgress(value=0.0, max=1391.0), HTML(value='')))"
      ]
     },
     "metadata": {},
     "output_type": "display_data"
    },
    {
     "name": "stdout",
     "output_type": "stream",
     "text": [
      "\n",
      "[0.007910862400633715, 0.00448796995858098, 0.006772553451412562, 0.0023690622971027156, 0.0009352933180152169, 0.0014853041766527504, 0.0020745599842239898, 0.007099364417869995]\n"
     ]
    },
    {
     "data": {
      "application/vnd.jupyter.widget-view+json": {
       "model_id": "db21341a3913406c97a93a87619e5391",
       "version_major": 2,
       "version_minor": 0
      },
      "text/plain": [
       "HBox(children=(FloatProgress(value=0.0, max=1392.0), HTML(value='')))"
      ]
     },
     "metadata": {},
     "output_type": "display_data"
    },
    {
     "name": "stdout",
     "output_type": "stream",
     "text": [
      "\n",
      "[0.007910862400633715, 0.00448796995858098, 0.006772553451412562, 0.0023690622971027156, 0.0009352933180152169, 0.0014853041766527504, 0.0020745599842239898, 0.007099364417869995]\n"
     ]
    },
    {
     "data": {
      "application/vnd.jupyter.widget-view+json": {
       "model_id": "ba9d646a0fb244a88b64376268803394",
       "version_major": 2,
       "version_minor": 0
      },
      "text/plain": [
       "HBox(children=(FloatProgress(value=0.0, max=1390.0), HTML(value='')))"
      ]
     },
     "metadata": {},
     "output_type": "display_data"
    },
    {
     "name": "stdout",
     "output_type": "stream",
     "text": [
      "\n",
      "[0.007910862400633715, 0.00448796995858098, 0.006772553451412562, 0.0023690622971027156, 0.0009352933180152169, 0.0014853041766527504, 0.0020745599842239898, 0.007099364417869995]\n"
     ]
    },
    {
     "data": {
      "application/vnd.jupyter.widget-view+json": {
       "model_id": "7b7496164a414358b13265b2295c9dfc",
       "version_major": 2,
       "version_minor": 0
      },
      "text/plain": [
       "HBox(children=(FloatProgress(value=0.0, max=1391.0), HTML(value='')))"
      ]
     },
     "metadata": {},
     "output_type": "display_data"
    },
    {
     "name": "stdout",
     "output_type": "stream",
     "text": [
      "\n",
      "[0.007910862400633715, 0.00448796995858098, 0.006772553451412562, 0.0023690622971027156, 0.0009352933180152169, 0.0014853041766527504, 0.0020745599842239898, 0.007099364417869995]\n"
     ]
    },
    {
     "data": {
      "application/vnd.jupyter.widget-view+json": {
       "model_id": "f29a527e0f9248f79a95c17b4a17b46a",
       "version_major": 2,
       "version_minor": 0
      },
      "text/plain": [
       "HBox(children=(FloatProgress(value=0.0, max=1392.0), HTML(value='')))"
      ]
     },
     "metadata": {},
     "output_type": "display_data"
    },
    {
     "name": "stdout",
     "output_type": "stream",
     "text": [
      "\n",
      "[0.007910862400633715, 0.00448796995858098, 0.006772553451412562, 0.0023690622971027156, 0.0009352933180152169, 0.0014853041766527504, 0.0020745599842239898, 0.007099364417869995]\n"
     ]
    },
    {
     "data": {
      "application/vnd.jupyter.widget-view+json": {
       "model_id": "acd51ed067974415afe3a32b351579df",
       "version_major": 2,
       "version_minor": 0
      },
      "text/plain": [
       "HBox(children=(FloatProgress(value=0.0, max=1391.0), HTML(value='')))"
      ]
     },
     "metadata": {},
     "output_type": "display_data"
    },
    {
     "name": "stdout",
     "output_type": "stream",
     "text": [
      "\n",
      "[0.007910862400633715, 0.00448796995858098, 0.006772553451412562, 0.0023690622971027156, 0.0009352933180152169, 0.0014853041766527504, 0.0020745599842239898, 0.007099364417869995]\n"
     ]
    },
    {
     "data": {
      "application/vnd.jupyter.widget-view+json": {
       "model_id": "3233e9f1b3354f979168f5c0b3e1754b",
       "version_major": 2,
       "version_minor": 0
      },
      "text/plain": [
       "HBox(children=(FloatProgress(value=0.0, max=1390.0), HTML(value='')))"
      ]
     },
     "metadata": {},
     "output_type": "display_data"
    },
    {
     "name": "stdout",
     "output_type": "stream",
     "text": [
      "\n",
      "[0.007910862400633715, 0.00448796995858098, 0.006772553451412562, 0.0023690622971027156, 0.0009352933180152169, 0.0014853041766527504, 0.0020745599842239898, 0.007099364417869995]\n"
     ]
    },
    {
     "data": {
      "application/vnd.jupyter.widget-view+json": {
       "model_id": "212b1358c18c4bc49b94fbe9df083f7d",
       "version_major": 2,
       "version_minor": 0
      },
      "text/plain": [
       "HBox(children=(FloatProgress(value=0.0, max=1392.0), HTML(value='')))"
      ]
     },
     "metadata": {},
     "output_type": "display_data"
    },
    {
     "name": "stdout",
     "output_type": "stream",
     "text": [
      "\n",
      "[0.007910862400633715, 0.00448796995858098, 0.006772553451412562, 0.0023690622971027156, 0.0009352933180152169, 0.0014853041766527504, 0.0020745599842239898, 0.007099364417869995]\n"
     ]
    },
    {
     "data": {
      "application/vnd.jupyter.widget-view+json": {
       "model_id": "f68e1826feec4ec89a3961a8e719f3bc",
       "version_major": 2,
       "version_minor": 0
      },
      "text/plain": [
       "HBox(children=(FloatProgress(value=0.0, max=1390.0), HTML(value='')))"
      ]
     },
     "metadata": {},
     "output_type": "display_data"
    },
    {
     "name": "stdout",
     "output_type": "stream",
     "text": [
      "\n",
      "[0.007910862400633715, 0.00448796995858098, 0.006772553451412562, 0.0023690622971027156, 0.0009352933180152169, 0.0014853041766527504, 0.0020745599842239898, 0.007099364417869995]\n"
     ]
    },
    {
     "data": {
      "application/vnd.jupyter.widget-view+json": {
       "model_id": "6c96f7e4390c43b8be3886e4f983aae6",
       "version_major": 2,
       "version_minor": 0
      },
      "text/plain": [
       "HBox(children=(FloatProgress(value=0.0, max=1391.0), HTML(value='')))"
      ]
     },
     "metadata": {},
     "output_type": "display_data"
    },
    {
     "name": "stdout",
     "output_type": "stream",
     "text": [
      "\n",
      "[0.007910862400633715, 0.00448796995858098, 0.006772553451412562, 0.0023690622971027156, 0.0009352933180152169, 0.0014853041766527504, 0.0020745599842239898, 0.007099364417869995]\n"
     ]
    },
    {
     "data": {
      "application/vnd.jupyter.widget-view+json": {
       "model_id": "e66909b345094ddf891b106510b515f5",
       "version_major": 2,
       "version_minor": 0
      },
      "text/plain": [
       "HBox(children=(FloatProgress(value=0.0, max=1391.0), HTML(value='')))"
      ]
     },
     "metadata": {},
     "output_type": "display_data"
    },
    {
     "name": "stdout",
     "output_type": "stream",
     "text": [
      "\n",
      "[0.007910862400633715, 0.00448796995858098, 0.006772553451412562, 0.0023690622971027156, 0.0009352933180152169, 0.0014853041766527504, 0.0020745599842239898, 0.007099364417869995]\n"
     ]
    },
    {
     "data": {
      "application/vnd.jupyter.widget-view+json": {
       "model_id": "181e2910fd604d478550dc07fc84c2ee",
       "version_major": 2,
       "version_minor": 0
      },
      "text/plain": [
       "HBox(children=(FloatProgress(value=0.0, max=1392.0), HTML(value='')))"
      ]
     },
     "metadata": {},
     "output_type": "display_data"
    },
    {
     "name": "stdout",
     "output_type": "stream",
     "text": [
      "\n",
      "[0.007910862400633715, 0.00448796995858098, 0.006772553451412562, 0.0023690622971027156, 0.0009352933180152169, 0.0014853041766527504, 0.0020745599842239898, 0.007099364417869995]\n"
     ]
    },
    {
     "data": {
      "application/vnd.jupyter.widget-view+json": {
       "model_id": "2e891d0701864dac94a7b65ba6491db9",
       "version_major": 2,
       "version_minor": 0
      },
      "text/plain": [
       "HBox(children=(FloatProgress(value=0.0, max=1391.0), HTML(value='')))"
      ]
     },
     "metadata": {},
     "output_type": "display_data"
    },
    {
     "name": "stdout",
     "output_type": "stream",
     "text": [
      "\n",
      "[0.007910862400633715, 0.00448796995858098, 0.006772553451412562, 0.0023690622971027156, 0.0009352933180152169, 0.0014853041766527504, 0.0020745599842239898, 0.007099364417869995]\n"
     ]
    },
    {
     "data": {
      "application/vnd.jupyter.widget-view+json": {
       "model_id": "55cef969a245445ba685ffe648b795bb",
       "version_major": 2,
       "version_minor": 0
      },
      "text/plain": [
       "HBox(children=(FloatProgress(value=0.0, max=1390.0), HTML(value='')))"
      ]
     },
     "metadata": {},
     "output_type": "display_data"
    },
    {
     "name": "stdout",
     "output_type": "stream",
     "text": [
      "\n",
      "[0.007910862400633715, 0.00448796995858098, 0.006772553451412562, 0.0023690622971027156, 0.0009352933180152169, 0.0014853041766527504, 0.0020745599842239898, 0.007099364417869995]\n"
     ]
    },
    {
     "data": {
      "application/vnd.jupyter.widget-view+json": {
       "model_id": "0439906c1eea45c6beee902437f5f933",
       "version_major": 2,
       "version_minor": 0
      },
      "text/plain": [
       "HBox(children=(FloatProgress(value=0.0, max=1391.0), HTML(value='')))"
      ]
     },
     "metadata": {},
     "output_type": "display_data"
    },
    {
     "name": "stdout",
     "output_type": "stream",
     "text": [
      "\n",
      "[0.007910862400633715, 0.00448796995858098, 0.006772553451412562, 0.0023690622971027156, 0.0009352933180152169, 0.0014853041766527504, 0.0020745599842239898, 0.007099364417869995]\n"
     ]
    },
    {
     "data": {
      "application/vnd.jupyter.widget-view+json": {
       "model_id": "b772a14cc3a7491880a315dd20242614",
       "version_major": 2,
       "version_minor": 0
      },
      "text/plain": [
       "HBox(children=(FloatProgress(value=0.0, max=1391.0), HTML(value='')))"
      ]
     },
     "metadata": {},
     "output_type": "display_data"
    },
    {
     "name": "stdout",
     "output_type": "stream",
     "text": [
      "\n",
      "[0.007910862400633715, 0.00448796995858098, 0.006772553451412562, 0.0023690622971027156, 0.0009352933180152169, 0.0014853041766527504, 0.0020745599842239898, 0.007099364417869995]\n"
     ]
    },
    {
     "data": {
      "application/vnd.jupyter.widget-view+json": {
       "model_id": "f73d1efccf5e4ffebad2732541dd1d51",
       "version_major": 2,
       "version_minor": 0
      },
      "text/plain": [
       "HBox(children=(FloatProgress(value=0.0, max=1390.0), HTML(value='')))"
      ]
     },
     "metadata": {},
     "output_type": "display_data"
    },
    {
     "name": "stdout",
     "output_type": "stream",
     "text": [
      "\n",
      "[0.007910862400633715, 0.00448796995858098, 0.006772553451412562, 0.0023690622971027156, 0.0009352933180152169, 0.0014853041766527504, 0.0020745599842239898, 0.007099364417869995]\n"
     ]
    },
    {
     "data": {
      "application/vnd.jupyter.widget-view+json": {
       "model_id": "fec5222808f94d4ab99cb7a8cfcd6d71",
       "version_major": 2,
       "version_minor": 0
      },
      "text/plain": [
       "HBox(children=(FloatProgress(value=0.0, max=1392.0), HTML(value='')))"
      ]
     },
     "metadata": {},
     "output_type": "display_data"
    },
    {
     "name": "stdout",
     "output_type": "stream",
     "text": [
      "\n",
      "[0.007910862400633715, 0.00448796995858098, 0.006772553451412562, 0.0023690622971027156, 0.0009352933180152169, 0.0014853041766527504, 0.0020745599842239898, 0.007099364417869995]\n"
     ]
    },
    {
     "data": {
      "application/vnd.jupyter.widget-view+json": {
       "model_id": "3e3552bb2f9348669c6eb233fe090899",
       "version_major": 2,
       "version_minor": 0
      },
      "text/plain": [
       "HBox(children=(FloatProgress(value=0.0, max=1391.0), HTML(value='')))"
      ]
     },
     "metadata": {},
     "output_type": "display_data"
    },
    {
     "name": "stdout",
     "output_type": "stream",
     "text": [
      "\n",
      "[0.007910862400633715, 0.00448796995858098, 0.006772553451412562, 0.0023690622971027156, 0.0009352933180152169, 0.0014853041766527504, 0.0020745599842239898, 0.007099364417869995]\n"
     ]
    },
    {
     "data": {
      "application/vnd.jupyter.widget-view+json": {
       "model_id": "a1f5f86036df46a89bc6841a07f0ab1c",
       "version_major": 2,
       "version_minor": 0
      },
      "text/plain": [
       "HBox(children=(FloatProgress(value=0.0, max=1392.0), HTML(value='')))"
      ]
     },
     "metadata": {},
     "output_type": "display_data"
    },
    {
     "name": "stdout",
     "output_type": "stream",
     "text": [
      "\n",
      "[0.007910862400633715, 0.00448796995858098, 0.006772553451412562, 0.0023690622971027156, 0.0009352933180152169, 0.0014853041766527504, 0.0020745599842239898, 0.007099364417869995]\n"
     ]
    },
    {
     "data": {
      "application/vnd.jupyter.widget-view+json": {
       "model_id": "ba5271b826c6471d8dbea7f8088e7eaf",
       "version_major": 2,
       "version_minor": 0
      },
      "text/plain": [
       "HBox(children=(FloatProgress(value=0.0, max=1390.0), HTML(value='')))"
      ]
     },
     "metadata": {},
     "output_type": "display_data"
    },
    {
     "name": "stdout",
     "output_type": "stream",
     "text": [
      "\n",
      "[0.007910862400633715, 0.00448796995858098, 0.006772553451412562, 0.0023690622971027156, 0.0009352933180152169, 0.0014853041766527504, 0.0020745599842239898, 0.007099364417869995]\n"
     ]
    },
    {
     "data": {
      "application/vnd.jupyter.widget-view+json": {
       "model_id": "3e9911187aab48b097725b7947a4841b",
       "version_major": 2,
       "version_minor": 0
      },
      "text/plain": [
       "HBox(children=(FloatProgress(value=0.0, max=1391.0), HTML(value='')))"
      ]
     },
     "metadata": {},
     "output_type": "display_data"
    },
    {
     "name": "stdout",
     "output_type": "stream",
     "text": [
      "\n",
      "[0.007910862400633715, 0.00448796995858098, 0.006772553451412562, 0.0023690622971027156, 0.0009352933180152169, 0.0014853041766527504, 0.0020745599842239898, 0.007099364417869995]\n"
     ]
    },
    {
     "data": {
      "application/vnd.jupyter.widget-view+json": {
       "model_id": "e856038de81e4311869e5e8dce22e329",
       "version_major": 2,
       "version_minor": 0
      },
      "text/plain": [
       "HBox(children=(FloatProgress(value=0.0, max=1391.0), HTML(value='')))"
      ]
     },
     "metadata": {},
     "output_type": "display_data"
    },
    {
     "name": "stdout",
     "output_type": "stream",
     "text": [
      "\n",
      "[0.007910862400633715, 0.00448796995858098, 0.006772553451412562, 0.0023690622971027156, 0.0009352933180152169, 0.0014853041766527504, 0.0020745599842239898, 0.007099364417869995]\n"
     ]
    },
    {
     "data": {
      "application/vnd.jupyter.widget-view+json": {
       "model_id": "e2fabc9f356e43e48659585cf4a81d0c",
       "version_major": 2,
       "version_minor": 0
      },
      "text/plain": [
       "HBox(children=(FloatProgress(value=0.0, max=1390.0), HTML(value='')))"
      ]
     },
     "metadata": {},
     "output_type": "display_data"
    },
    {
     "name": "stdout",
     "output_type": "stream",
     "text": [
      "\n",
      "[0.007910862400633715, 0.00448796995858098, 0.006772553451412562, 0.0023690622971027156, 0.0009352933180152169, 0.0014853041766527504, 0.0020745599842239898, 0.007099364417869995]\n"
     ]
    },
    {
     "data": {
      "application/vnd.jupyter.widget-view+json": {
       "model_id": "000d38abf99c42e2801af909d78dbb53",
       "version_major": 2,
       "version_minor": 0
      },
      "text/plain": [
       "HBox(children=(FloatProgress(value=0.0, max=1391.0), HTML(value='')))"
      ]
     },
     "metadata": {},
     "output_type": "display_data"
    },
    {
     "name": "stdout",
     "output_type": "stream",
     "text": [
      "\n",
      "[0.007910862400633715, 0.00448796995858098, 0.006772553451412562, 0.0023690622971027156, 0.0009352933180152169, 0.0014853041766527504, 0.0020745599842239898, 0.007099364417869995]\n"
     ]
    },
    {
     "data": {
      "application/vnd.jupyter.widget-view+json": {
       "model_id": "c10f7f2af1be488198b6ffc6bf5d8834",
       "version_major": 2,
       "version_minor": 0
      },
      "text/plain": [
       "HBox(children=(FloatProgress(value=0.0, max=1392.0), HTML(value='')))"
      ]
     },
     "metadata": {},
     "output_type": "display_data"
    },
    {
     "name": "stdout",
     "output_type": "stream",
     "text": [
      "\n",
      "[0.007910862400633715, 0.00448796995858098, 0.006772553451412562, 0.0023690622971027156, 0.0009352933180152169, 0.0014853041766527504, 0.0020745599842239898, 0.007099364417869995]\n"
     ]
    },
    {
     "data": {
      "application/vnd.jupyter.widget-view+json": {
       "model_id": "bc5d4454b60544d08e19d6c76d8877e0",
       "version_major": 2,
       "version_minor": 0
      },
      "text/plain": [
       "HBox(children=(FloatProgress(value=0.0, max=1390.0), HTML(value='')))"
      ]
     },
     "metadata": {},
     "output_type": "display_data"
    },
    {
     "name": "stdout",
     "output_type": "stream",
     "text": [
      "\n",
      "[0.007910862400633715, 0.00448796995858098, 0.006772553451412562, 0.0023690622971027156, 0.0009352933180152169, 0.0014853041766527504, 0.0020745599842239898, 0.007099364417869995]\n"
     ]
    },
    {
     "data": {
      "application/vnd.jupyter.widget-view+json": {
       "model_id": "83c41cf15d11441385bf8280d7652cc3",
       "version_major": 2,
       "version_minor": 0
      },
      "text/plain": [
       "HBox(children=(FloatProgress(value=0.0, max=1392.0), HTML(value='')))"
      ]
     },
     "metadata": {},
     "output_type": "display_data"
    },
    {
     "name": "stdout",
     "output_type": "stream",
     "text": [
      "\n",
      "[0.007910862400633715, 0.00448796995858098, 0.006772553451412562, 0.0023690622971027156, 0.0009352933180152169, 0.0014853041766527504, 0.0020745599842239898, 0.007099364417869995]\n"
     ]
    },
    {
     "data": {
      "application/vnd.jupyter.widget-view+json": {
       "model_id": "f4fa6d98dee84ba0b5ef15b144418fc4",
       "version_major": 2,
       "version_minor": 0
      },
      "text/plain": [
       "HBox(children=(FloatProgress(value=0.0, max=1391.0), HTML(value='')))"
      ]
     },
     "metadata": {},
     "output_type": "display_data"
    },
    {
     "name": "stdout",
     "output_type": "stream",
     "text": [
      "\n",
      "[0.007910862400633715, 0.00448796995858098, 0.006772553451412562, 0.0023690622971027156, 0.0009352933180152169, 0.0014853041766527504, 0.0020745599842239898, 0.007099364417869995]\n"
     ]
    },
    {
     "data": {
      "application/vnd.jupyter.widget-view+json": {
       "model_id": "de99799f68aa4a95b606322d59dd82cd",
       "version_major": 2,
       "version_minor": 0
      },
      "text/plain": [
       "HBox(children=(FloatProgress(value=0.0, max=1391.0), HTML(value='')))"
      ]
     },
     "metadata": {},
     "output_type": "display_data"
    },
    {
     "name": "stdout",
     "output_type": "stream",
     "text": [
      "\n",
      "[0.007910862400633715, 0.00448796995858098, 0.006772553451412562, 0.0023690622971027156, 0.0009352933180152169, 0.0014853041766527504, 0.0020745599842239898, 0.007099364417869995]\n"
     ]
    },
    {
     "data": {
      "application/vnd.jupyter.widget-view+json": {
       "model_id": "7825a5ee6d1b4b739783d69030adc53f",
       "version_major": 2,
       "version_minor": 0
      },
      "text/plain": [
       "HBox(children=(FloatProgress(value=0.0, max=1390.0), HTML(value='')))"
      ]
     },
     "metadata": {},
     "output_type": "display_data"
    },
    {
     "name": "stdout",
     "output_type": "stream",
     "text": [
      "\n",
      "[0.007910862400633715, 0.00448796995858098, 0.006772553451412562, 0.0023690622971027156, 0.0009352933180152169, 0.0014853041766527504, 0.0020745599842239898, 0.007099364417869995]\n"
     ]
    },
    {
     "data": {
      "application/vnd.jupyter.widget-view+json": {
       "model_id": "5f04464ddec146c0aab927379a98379b",
       "version_major": 2,
       "version_minor": 0
      },
      "text/plain": [
       "HBox(children=(FloatProgress(value=0.0, max=1391.0), HTML(value='')))"
      ]
     },
     "metadata": {},
     "output_type": "display_data"
    },
    {
     "name": "stdout",
     "output_type": "stream",
     "text": [
      "\n",
      "[0.007910862400633715, 0.00448796995858098, 0.006772553451412562, 0.0023690622971027156, 0.0009352933180152169, 0.0014853041766527504, 0.0020745599842239898, 0.007099364417869995]\n"
     ]
    },
    {
     "data": {
      "application/vnd.jupyter.widget-view+json": {
       "model_id": "7a0d2950d1fd4f26b5478bffb1bbef18",
       "version_major": 2,
       "version_minor": 0
      },
      "text/plain": [
       "HBox(children=(FloatProgress(value=0.0, max=1391.0), HTML(value='')))"
      ]
     },
     "metadata": {},
     "output_type": "display_data"
    },
    {
     "name": "stdout",
     "output_type": "stream",
     "text": [
      "\n",
      "[0.007910862400633715, 0.00448796995858098, 0.006772553451412562, 0.0023690622971027156, 0.0009352933180152169, 0.0014853041766527504, 0.0020745599842239898, 0.007099364417869995]\n"
     ]
    },
    {
     "data": {
      "application/vnd.jupyter.widget-view+json": {
       "model_id": "192080f383824d78b042572213137faa",
       "version_major": 2,
       "version_minor": 0
      },
      "text/plain": [
       "HBox(children=(FloatProgress(value=0.0, max=1392.0), HTML(value='')))"
      ]
     },
     "metadata": {},
     "output_type": "display_data"
    },
    {
     "name": "stdout",
     "output_type": "stream",
     "text": [
      "\n",
      "[0.007910862400633715, 0.00448796995858098, 0.006772553451412562, 0.0023690622971027156, 0.0009352933180152169, 0.0014853041766527504, 0.0020745599842239898, 0.007099364417869995]\n"
     ]
    },
    {
     "data": {
      "application/vnd.jupyter.widget-view+json": {
       "model_id": "ea47253bf15d4ce5bb6a35c094cca53f",
       "version_major": 2,
       "version_minor": 0
      },
      "text/plain": [
       "HBox(children=(FloatProgress(value=0.0, max=1391.0), HTML(value='')))"
      ]
     },
     "metadata": {},
     "output_type": "display_data"
    },
    {
     "name": "stdout",
     "output_type": "stream",
     "text": [
      "\n",
      "[0.007910862400633715, 0.00448796995858098, 0.006772553451412562, 0.0023690622971027156, 0.0009352933180152169, 0.0014853041766527504, 0.0020745599842239898, 0.007099364417869995]\n"
     ]
    },
    {
     "data": {
      "application/vnd.jupyter.widget-view+json": {
       "model_id": "5424a87ea7fb40eaad215aff5dfc3e99",
       "version_major": 2,
       "version_minor": 0
      },
      "text/plain": [
       "HBox(children=(FloatProgress(value=0.0, max=1390.0), HTML(value='')))"
      ]
     },
     "metadata": {},
     "output_type": "display_data"
    },
    {
     "name": "stdout",
     "output_type": "stream",
     "text": [
      "\n",
      "[0.007910862400633715, 0.00448796995858098, 0.006772553451412562, 0.0023690622971027156, 0.0009352933180152169, 0.0014853041766527504, 0.0020745599842239898, 0.007099364417869995]\n"
     ]
    },
    {
     "data": {
      "application/vnd.jupyter.widget-view+json": {
       "model_id": "147a993afb684e71ae52de7ff282cf81",
       "version_major": 2,
       "version_minor": 0
      },
      "text/plain": [
       "HBox(children=(FloatProgress(value=0.0, max=1392.0), HTML(value='')))"
      ]
     },
     "metadata": {},
     "output_type": "display_data"
    },
    {
     "name": "stdout",
     "output_type": "stream",
     "text": [
      "\n",
      "[0.007910862400633715, 0.00448796995858098, 0.006772553451412562, 0.0023690622971027156, 0.0009352933180152169, 0.0014853041766527504, 0.0020745599842239898, 0.007099364417869995]\n"
     ]
    },
    {
     "data": {
      "application/vnd.jupyter.widget-view+json": {
       "model_id": "44dabb986399414eb69b31d3749bf3f8",
       "version_major": 2,
       "version_minor": 0
      },
      "text/plain": [
       "HBox(children=(FloatProgress(value=0.0, max=1391.0), HTML(value='')))"
      ]
     },
     "metadata": {},
     "output_type": "display_data"
    },
    {
     "name": "stdout",
     "output_type": "stream",
     "text": [
      "\n",
      "[0.007910862400633715, 0.00448796995858098, 0.006772553451412562, 0.0023690622971027156, 0.0009352933180152169, 0.0014853041766527504, 0.0020745599842239898, 0.007099364417869995]\n"
     ]
    },
    {
     "data": {
      "application/vnd.jupyter.widget-view+json": {
       "model_id": "a8a3f1f2e7374124aa1f7ccae9a8d5c2",
       "version_major": 2,
       "version_minor": 0
      },
      "text/plain": [
       "HBox(children=(FloatProgress(value=0.0, max=1391.0), HTML(value='')))"
      ]
     },
     "metadata": {},
     "output_type": "display_data"
    },
    {
     "name": "stdout",
     "output_type": "stream",
     "text": [
      "\n",
      "[0.007910862400633715, 0.00448796995858098, 0.006772553451412562, 0.0023690622971027156, 0.0009352933180152169, 0.0014853041766527504, 0.0020745599842239898, 0.007099364417869995]\n"
     ]
    },
    {
     "data": {
      "application/vnd.jupyter.widget-view+json": {
       "model_id": "fc97853c75ea4c9ab143b994f9c30938",
       "version_major": 2,
       "version_minor": 0
      },
      "text/plain": [
       "HBox(children=(FloatProgress(value=0.0, max=1392.0), HTML(value='')))"
      ]
     },
     "metadata": {},
     "output_type": "display_data"
    },
    {
     "name": "stdout",
     "output_type": "stream",
     "text": [
      "\n",
      "[0.007910862400633715, 0.00448796995858098, 0.006772553451412562, 0.0023690622971027156, 0.0009352933180152169, 0.0014853041766527504, 0.0020745599842239898, 0.007099364417869995]\n"
     ]
    },
    {
     "data": {
      "application/vnd.jupyter.widget-view+json": {
       "model_id": "d9032b61cdf34b42a59278b566361242",
       "version_major": 2,
       "version_minor": 0
      },
      "text/plain": [
       "HBox(children=(FloatProgress(value=0.0, max=1390.0), HTML(value='')))"
      ]
     },
     "metadata": {},
     "output_type": "display_data"
    },
    {
     "name": "stdout",
     "output_type": "stream",
     "text": [
      "\n",
      "[0.007910862400633715, 0.00448796995858098, 0.006772553451412562, 0.0023690622971027156, 0.0009352933180152169, 0.0014853041766527504, 0.0020745599842239898, 0.007099364417869995]\n"
     ]
    },
    {
     "data": {
      "application/vnd.jupyter.widget-view+json": {
       "model_id": "4a725d766b6d46d4a6dbb6db28fc3af2",
       "version_major": 2,
       "version_minor": 0
      },
      "text/plain": [
       "HBox(children=(FloatProgress(value=0.0, max=1391.0), HTML(value='')))"
      ]
     },
     "metadata": {},
     "output_type": "display_data"
    },
    {
     "name": "stdout",
     "output_type": "stream",
     "text": [
      "\n",
      "[0.007910862400633715, 0.00448796995858098, 0.006772553451412562, 0.0023690622971027156, 0.0009352933180152169, 0.0014853041766527504, 0.0020745599842239898, 0.007099364417869995]\n"
     ]
    },
    {
     "data": {
      "application/vnd.jupyter.widget-view+json": {
       "model_id": "519a395e8ce241f8a9790ddf5ce329b7",
       "version_major": 2,
       "version_minor": 0
      },
      "text/plain": [
       "HBox(children=(FloatProgress(value=0.0, max=1392.0), HTML(value='')))"
      ]
     },
     "metadata": {},
     "output_type": "display_data"
    },
    {
     "name": "stdout",
     "output_type": "stream",
     "text": [
      "\n",
      "[0.007910862400633715, 0.00448796995858098, 0.006772553451412562, 0.0023690622971027156, 0.0009352933180152169, 0.0014853041766527504, 0.0020745599842239898, 0.007099364417869995]\n"
     ]
    },
    {
     "data": {
      "application/vnd.jupyter.widget-view+json": {
       "model_id": "11fe04b0906647fba43c067a72bdf177",
       "version_major": 2,
       "version_minor": 0
      },
      "text/plain": [
       "HBox(children=(FloatProgress(value=0.0, max=1390.0), HTML(value='')))"
      ]
     },
     "metadata": {},
     "output_type": "display_data"
    },
    {
     "name": "stdout",
     "output_type": "stream",
     "text": [
      "\n",
      "[0.007910862400633715, 0.00448796995858098, 0.006772553451412562, 0.0023690622971027156, 0.0009352933180152169, 0.0014853041766527504, 0.0020745599842239898, 0.007099364417869995]\n"
     ]
    },
    {
     "data": {
      "application/vnd.jupyter.widget-view+json": {
       "model_id": "7f01284d0859480ea11e01e36c1f2a9c",
       "version_major": 2,
       "version_minor": 0
      },
      "text/plain": [
       "HBox(children=(FloatProgress(value=0.0, max=1391.0), HTML(value='')))"
      ]
     },
     "metadata": {},
     "output_type": "display_data"
    },
    {
     "name": "stdout",
     "output_type": "stream",
     "text": [
      "\n",
      "[0.007910862400633715, 0.00448796995858098, 0.006772553451412562, 0.0023690622971027156, 0.0009352933180152169, 0.0014853041766527504, 0.0020745599842239898, 0.007099364417869995]\n"
     ]
    },
    {
     "data": {
      "application/vnd.jupyter.widget-view+json": {
       "model_id": "665348d66e2942a78e9928f945a0164f",
       "version_major": 2,
       "version_minor": 0
      },
      "text/plain": [
       "HBox(children=(FloatProgress(value=0.0, max=1391.0), HTML(value='')))"
      ]
     },
     "metadata": {},
     "output_type": "display_data"
    },
    {
     "name": "stdout",
     "output_type": "stream",
     "text": [
      "\n",
      "[0.007910862400633715, 0.00448796995858098, 0.006772553451412562, 0.0023690622971027156, 0.0009352933180152169, 0.0014853041766527504, 0.0020745599842239898, 0.007099364417869995]\n"
     ]
    },
    {
     "data": {
      "application/vnd.jupyter.widget-view+json": {
       "model_id": "8c4fe483f4ec41a5b0f0c067b98ff197",
       "version_major": 2,
       "version_minor": 0
      },
      "text/plain": [
       "HBox(children=(FloatProgress(value=0.0, max=1392.0), HTML(value='')))"
      ]
     },
     "metadata": {},
     "output_type": "display_data"
    },
    {
     "name": "stdout",
     "output_type": "stream",
     "text": [
      "\n",
      "[0.007910862400633715, 0.00448796995858098, 0.006772553451412562, 0.0023690622971027156, 0.0009352933180152169, 0.0014853041766527504, 0.0020745599842239898, 0.007099364417869995]\n"
     ]
    },
    {
     "data": {
      "application/vnd.jupyter.widget-view+json": {
       "model_id": "aab26ef660e84b8b99dd5a170d3f0c04",
       "version_major": 2,
       "version_minor": 0
      },
      "text/plain": [
       "HBox(children=(FloatProgress(value=0.0, max=1391.0), HTML(value='')))"
      ]
     },
     "metadata": {},
     "output_type": "display_data"
    },
    {
     "name": "stdout",
     "output_type": "stream",
     "text": [
      "\n",
      "[0.007910862400633715, 0.00448796995858098, 0.006772553451412562, 0.0023690622971027156, 0.0009352933180152169, 0.0014853041766527504, 0.0020745599842239898, 0.007099364417869995]\n"
     ]
    },
    {
     "data": {
      "application/vnd.jupyter.widget-view+json": {
       "model_id": "b25ba56c4f614ec2a579e420b01adefd",
       "version_major": 2,
       "version_minor": 0
      },
      "text/plain": [
       "HBox(children=(FloatProgress(value=0.0, max=1391.0), HTML(value='')))"
      ]
     },
     "metadata": {},
     "output_type": "display_data"
    },
    {
     "name": "stdout",
     "output_type": "stream",
     "text": [
      "\n",
      "[0.007910862400633715, 0.00448796995858098, 0.006772553451412562, 0.0023690622971027156, 0.0009352933180152169, 0.0014853041766527504, 0.0020745599842239898, 0.007099364417869995]\n"
     ]
    },
    {
     "data": {
      "application/vnd.jupyter.widget-view+json": {
       "model_id": "78cbcc6f39bd4a7895d2918e7e8e29bb",
       "version_major": 2,
       "version_minor": 0
      },
      "text/plain": [
       "HBox(children=(FloatProgress(value=0.0, max=1390.0), HTML(value='')))"
      ]
     },
     "metadata": {},
     "output_type": "display_data"
    },
    {
     "name": "stdout",
     "output_type": "stream",
     "text": [
      "\n",
      "[0.007910862400633715, 0.00448796995858098, 0.006772553451412562, 0.0023690622971027156, 0.0009352933180152169, 0.0014853041766527504, 0.0020745599842239898, 0.007099364417869995]\n"
     ]
    },
    {
     "data": {
      "application/vnd.jupyter.widget-view+json": {
       "model_id": "aafe6124351a42698c32d659152c5cf7",
       "version_major": 2,
       "version_minor": 0
      },
      "text/plain": [
       "HBox(children=(FloatProgress(value=0.0, max=1392.0), HTML(value='')))"
      ]
     },
     "metadata": {},
     "output_type": "display_data"
    },
    {
     "name": "stdout",
     "output_type": "stream",
     "text": [
      "\n",
      "[0.007910862400633715, 0.00448796995858098, 0.006772553451412562, 0.0023690622971027156, 0.0009352933180152169, 0.0014853041766527504, 0.0020745599842239898, 0.007099364417869995]\n"
     ]
    },
    {
     "data": {
      "application/vnd.jupyter.widget-view+json": {
       "model_id": "91a2f9b10e26408aa1a14e6d9bdce604",
       "version_major": 2,
       "version_minor": 0
      },
      "text/plain": [
       "HBox(children=(FloatProgress(value=0.0, max=1391.0), HTML(value='')))"
      ]
     },
     "metadata": {},
     "output_type": "display_data"
    },
    {
     "name": "stdout",
     "output_type": "stream",
     "text": [
      "\n",
      "[0.007910862400633715, 0.00448796995858098, 0.006772553451412562, 0.0023690622971027156, 0.0009352933180152169, 0.0014853041766527504, 0.0020745599842239898, 0.007099364417869995]\n"
     ]
    },
    {
     "data": {
      "application/vnd.jupyter.widget-view+json": {
       "model_id": "671c57e979334920ac105997bf3cc2d9",
       "version_major": 2,
       "version_minor": 0
      },
      "text/plain": [
       "HBox(children=(FloatProgress(value=0.0, max=1390.0), HTML(value='')))"
      ]
     },
     "metadata": {},
     "output_type": "display_data"
    },
    {
     "name": "stdout",
     "output_type": "stream",
     "text": [
      "\n",
      "[0.007910862400633715, 0.00448796995858098, 0.006772553451412562, 0.0023690622971027156, 0.0009352933180152169, 0.0014853041766527504, 0.0020745599842239898, 0.007099364417869995]\n"
     ]
    },
    {
     "data": {
      "application/vnd.jupyter.widget-view+json": {
       "model_id": "0ce52fb72e23483189d02b7c585bfb19",
       "version_major": 2,
       "version_minor": 0
      },
      "text/plain": [
       "HBox(children=(FloatProgress(value=0.0, max=1391.0), HTML(value='')))"
      ]
     },
     "metadata": {},
     "output_type": "display_data"
    },
    {
     "name": "stdout",
     "output_type": "stream",
     "text": [
      "\n",
      "[0.007910862400633715, 0.00448796995858098, 0.006772553451412562, 0.0023690622971027156, 0.0009352933180152169, 0.0014853041766527504, 0.0020745599842239898, 0.007099364417869995]\n"
     ]
    },
    {
     "data": {
      "application/vnd.jupyter.widget-view+json": {
       "model_id": "ae71d9b4186445b688671378acd82c78",
       "version_major": 2,
       "version_minor": 0
      },
      "text/plain": [
       "HBox(children=(FloatProgress(value=0.0, max=1391.0), HTML(value='')))"
      ]
     },
     "metadata": {},
     "output_type": "display_data"
    },
    {
     "name": "stdout",
     "output_type": "stream",
     "text": [
      "\n",
      "[0.007910862400633715, 0.00448796995858098, 0.006772553451412562, 0.0023690622971027156, 0.0009352933180152169, 0.0014853041766527504, 0.0020745599842239898, 0.007099364417869995]\n"
     ]
    },
    {
     "data": {
      "application/vnd.jupyter.widget-view+json": {
       "model_id": "5fc9a48861f344c6b1203cdddd725bac",
       "version_major": 2,
       "version_minor": 0
      },
      "text/plain": [
       "HBox(children=(FloatProgress(value=0.0, max=1391.0), HTML(value='')))"
      ]
     },
     "metadata": {},
     "output_type": "display_data"
    },
    {
     "name": "stdout",
     "output_type": "stream",
     "text": [
      "\n",
      "[0.007910862400633715, 0.00448796995858098, 0.006772553451412562, 0.0023690622971027156, 0.0009352933180152169, 0.0014853041766527504, 0.0020745599842239898, 0.007099364417869995]\n"
     ]
    },
    {
     "data": {
      "application/vnd.jupyter.widget-view+json": {
       "model_id": "2a939713f5ae4fe3b052ef7314883720",
       "version_major": 2,
       "version_minor": 0
      },
      "text/plain": [
       "HBox(children=(FloatProgress(value=0.0, max=1392.0), HTML(value='')))"
      ]
     },
     "metadata": {},
     "output_type": "display_data"
    },
    {
     "name": "stdout",
     "output_type": "stream",
     "text": [
      "\n",
      "[0.007910862400633715, 0.00448796995858098, 0.006772553451412562, 0.0023690622971027156, 0.0009352933180152169, 0.0014853041766527504, 0.0020745599842239898, 0.007099364417869995]\n"
     ]
    },
    {
     "data": {
      "application/vnd.jupyter.widget-view+json": {
       "model_id": "35cc580295fb4c9ca1601a58164646a0",
       "version_major": 2,
       "version_minor": 0
      },
      "text/plain": [
       "HBox(children=(FloatProgress(value=0.0, max=1390.0), HTML(value='')))"
      ]
     },
     "metadata": {},
     "output_type": "display_data"
    },
    {
     "name": "stdout",
     "output_type": "stream",
     "text": [
      "\n",
      "[0.007910862400633715, 0.00448796995858098, 0.006772553451412562, 0.0023690622971027156, 0.0009352933180152169, 0.0014853041766527504, 0.0020745599842239898, 0.007099364417869995]\n"
     ]
    },
    {
     "data": {
      "application/vnd.jupyter.widget-view+json": {
       "model_id": "fdf44c28d55d401b961cfbc7b81c4e8f",
       "version_major": 2,
       "version_minor": 0
      },
      "text/plain": [
       "HBox(children=(FloatProgress(value=0.0, max=1390.0), HTML(value='')))"
      ]
     },
     "metadata": {},
     "output_type": "display_data"
    },
    {
     "name": "stdout",
     "output_type": "stream",
     "text": [
      "\n",
      "[0.007910862400633715, 0.00448796995858098, 0.006772553451412562, 0.0023690622971027156, 0.0009352933180152169, 0.0014853041766527504, 0.0020745599842239898, 0.007099364417869995]\n"
     ]
    },
    {
     "data": {
      "application/vnd.jupyter.widget-view+json": {
       "model_id": "7fa313fc77a441c89c6833a4e9c5a661",
       "version_major": 2,
       "version_minor": 0
      },
      "text/plain": [
       "HBox(children=(FloatProgress(value=0.0, max=1392.0), HTML(value='')))"
      ]
     },
     "metadata": {},
     "output_type": "display_data"
    },
    {
     "name": "stdout",
     "output_type": "stream",
     "text": [
      "\n",
      "[0.007910862400633715, 0.00448796995858098, 0.006772553451412562, 0.0023690622971027156, 0.0009352933180152169, 0.0014853041766527504, 0.0020745599842239898, 0.007099364417869995]\n"
     ]
    },
    {
     "data": {
      "application/vnd.jupyter.widget-view+json": {
       "model_id": "6d829ca15568477c8edeb68800fc749b",
       "version_major": 2,
       "version_minor": 0
      },
      "text/plain": [
       "HBox(children=(FloatProgress(value=0.0, max=1391.0), HTML(value='')))"
      ]
     },
     "metadata": {},
     "output_type": "display_data"
    },
    {
     "name": "stdout",
     "output_type": "stream",
     "text": [
      "\n",
      "[0.007910862400633715, 0.00448796995858098, 0.006772553451412562, 0.0023690622971027156, 0.0009352933180152169, 0.0014853041766527504, 0.0020745599842239898, 0.007099364417869995]\n"
     ]
    },
    {
     "data": {
      "application/vnd.jupyter.widget-view+json": {
       "model_id": "14f07be42cb4436895ee4c50062215c6",
       "version_major": 2,
       "version_minor": 0
      },
      "text/plain": [
       "HBox(children=(FloatProgress(value=0.0, max=1391.0), HTML(value='')))"
      ]
     },
     "metadata": {},
     "output_type": "display_data"
    },
    {
     "name": "stdout",
     "output_type": "stream",
     "text": [
      "\n",
      "[0.007910862400633715, 0.00448796995858098, 0.006772553451412562, 0.0023690622971027156, 0.0009352933180152169, 0.0014853041766527504, 0.0020745599842239898, 0.007099364417869995]\n"
     ]
    },
    {
     "data": {
      "application/vnd.jupyter.widget-view+json": {
       "model_id": "8db5a60332534b86b9f37229e7c7f636",
       "version_major": 2,
       "version_minor": 0
      },
      "text/plain": [
       "HBox(children=(FloatProgress(value=0.0, max=1390.0), HTML(value='')))"
      ]
     },
     "metadata": {},
     "output_type": "display_data"
    },
    {
     "name": "stdout",
     "output_type": "stream",
     "text": [
      "\n",
      "[0.007910862400633715, 0.00448796995858098, 0.006772553451412562, 0.0023690622971027156, 0.0009352933180152169, 0.0014853041766527504, 0.0020745599842239898, 0.007099364417869995]\n"
     ]
    },
    {
     "data": {
      "application/vnd.jupyter.widget-view+json": {
       "model_id": "6852e67e008549c2ad93c77f66c9ba49",
       "version_major": 2,
       "version_minor": 0
      },
      "text/plain": [
       "HBox(children=(FloatProgress(value=0.0, max=1391.0), HTML(value='')))"
      ]
     },
     "metadata": {},
     "output_type": "display_data"
    },
    {
     "name": "stdout",
     "output_type": "stream",
     "text": [
      "\n",
      "[0.007910862400633715, 0.00448796995858098, 0.006772553451412562, 0.0023690622971027156, 0.0009352933180152169, 0.0014853041766527504, 0.0020745599842239898, 0.007099364417869995]\n"
     ]
    },
    {
     "data": {
      "application/vnd.jupyter.widget-view+json": {
       "model_id": "622cc18de6a04c25976537f91d0dbcf6",
       "version_major": 2,
       "version_minor": 0
      },
      "text/plain": [
       "HBox(children=(FloatProgress(value=0.0, max=1392.0), HTML(value='')))"
      ]
     },
     "metadata": {},
     "output_type": "display_data"
    },
    {
     "name": "stdout",
     "output_type": "stream",
     "text": [
      "\n",
      "[0.007910862400633715, 0.00448796995858098, 0.006772553451412562, 0.0023690622971027156, 0.0009352933180152169, 0.0014853041766527504, 0.0020745599842239898, 0.007099364417869995]\n"
     ]
    },
    {
     "data": {
      "application/vnd.jupyter.widget-view+json": {
       "model_id": "0cc4b5eaae9c4419a7c600ad32b606fe",
       "version_major": 2,
       "version_minor": 0
      },
      "text/plain": [
       "HBox(children=(FloatProgress(value=0.0, max=1391.0), HTML(value='')))"
      ]
     },
     "metadata": {},
     "output_type": "display_data"
    },
    {
     "name": "stdout",
     "output_type": "stream",
     "text": [
      "\n",
      "[0.007910862400633715, 0.00448796995858098, 0.006772553451412562, 0.0023690622971027156, 0.0009352933180152169, 0.0014853041766527504, 0.0020745599842239898, 0.007099364417869995]\n"
     ]
    },
    {
     "data": {
      "application/vnd.jupyter.widget-view+json": {
       "model_id": "4fa51918815944ca85c19524737123ed",
       "version_major": 2,
       "version_minor": 0
      },
      "text/plain": [
       "HBox(children=(FloatProgress(value=0.0, max=1390.0), HTML(value='')))"
      ]
     },
     "metadata": {},
     "output_type": "display_data"
    },
    {
     "name": "stdout",
     "output_type": "stream",
     "text": [
      "\n",
      "[0.007910862400633715, 0.00448796995858098, 0.006772553451412562, 0.0023690622971027156, 0.0009352933180152169, 0.0014853041766527504, 0.0020745599842239898, 0.007099364417869995]\n"
     ]
    },
    {
     "data": {
      "application/vnd.jupyter.widget-view+json": {
       "model_id": "cec417e398634530af57f07ba8d9ade0",
       "version_major": 2,
       "version_minor": 0
      },
      "text/plain": [
       "HBox(children=(FloatProgress(value=0.0, max=1391.0), HTML(value='')))"
      ]
     },
     "metadata": {},
     "output_type": "display_data"
    },
    {
     "name": "stdout",
     "output_type": "stream",
     "text": [
      "\n",
      "[0.007910862400633715, 0.00448796995858098, 0.006772553451412562, 0.0023690622971027156, 0.0009352933180152169, 0.0014853041766527504, 0.0020745599842239898, 0.007099364417869995]\n"
     ]
    },
    {
     "data": {
      "application/vnd.jupyter.widget-view+json": {
       "model_id": "c289214d1b3b41f0bc5cf4df2f9597ec",
       "version_major": 2,
       "version_minor": 0
      },
      "text/plain": [
       "HBox(children=(FloatProgress(value=0.0, max=1392.0), HTML(value='')))"
      ]
     },
     "metadata": {},
     "output_type": "display_data"
    },
    {
     "name": "stdout",
     "output_type": "stream",
     "text": [
      "\n",
      "[0.007910862400633715, 0.00448796995858098, 0.006772553451412562, 0.0023690622971027156, 0.0009352933180152169, 0.0014853041766527504, 0.0020745599842239898, 0.007099364417869995]\n"
     ]
    },
    {
     "data": {
      "application/vnd.jupyter.widget-view+json": {
       "model_id": "7748d2015e134638b8367cc8951e87ff",
       "version_major": 2,
       "version_minor": 0
      },
      "text/plain": [
       "HBox(children=(FloatProgress(value=0.0, max=1391.0), HTML(value='')))"
      ]
     },
     "metadata": {},
     "output_type": "display_data"
    },
    {
     "name": "stdout",
     "output_type": "stream",
     "text": [
      "\n",
      "[0.007910862400633715, 0.00448796995858098, 0.006772553451412562, 0.0023690622971027156, 0.0009352933180152169, 0.0014853041766527504, 0.0020745599842239898, 0.007099364417869995]\n"
     ]
    },
    {
     "data": {
      "application/vnd.jupyter.widget-view+json": {
       "model_id": "f2494ce638384f58a9d5a17f87c582a2",
       "version_major": 2,
       "version_minor": 0
      },
      "text/plain": [
       "HBox(children=(FloatProgress(value=0.0, max=1392.0), HTML(value='')))"
      ]
     },
     "metadata": {},
     "output_type": "display_data"
    },
    {
     "name": "stdout",
     "output_type": "stream",
     "text": [
      "\n",
      "[0.007910862400633715, 0.00448796995858098, 0.006772553451412562, 0.0023690622971027156, 0.0009352933180152169, 0.0014853041766527504, 0.0020745599842239898, 0.007099364417869995]\n"
     ]
    },
    {
     "data": {
      "application/vnd.jupyter.widget-view+json": {
       "model_id": "10155f45b3fb49ba8a03f94dac909646",
       "version_major": 2,
       "version_minor": 0
      },
      "text/plain": [
       "HBox(children=(FloatProgress(value=0.0, max=1391.0), HTML(value='')))"
      ]
     },
     "metadata": {},
     "output_type": "display_data"
    },
    {
     "name": "stdout",
     "output_type": "stream",
     "text": [
      "\n",
      "[0.007910862400633715, 0.00448796995858098, 0.006772553451412562, 0.0023690622971027156, 0.0009352933180152169, 0.0014853041766527504, 0.0020745599842239898, 0.007099364417869995]\n"
     ]
    },
    {
     "data": {
      "application/vnd.jupyter.widget-view+json": {
       "model_id": "e4badcd7c1fd4394a44ebd264f103692",
       "version_major": 2,
       "version_minor": 0
      },
      "text/plain": [
       "HBox(children=(FloatProgress(value=0.0, max=1390.0), HTML(value='')))"
      ]
     },
     "metadata": {},
     "output_type": "display_data"
    },
    {
     "name": "stdout",
     "output_type": "stream",
     "text": [
      "\n",
      "[0.007910862400633715, 0.00448796995858098, 0.006772553451412562, 0.0023690622971027156, 0.0009352933180152169, 0.0014853041766527504, 0.0020745599842239898, 0.007099364417869995]\n"
     ]
    },
    {
     "data": {
      "application/vnd.jupyter.widget-view+json": {
       "model_id": "bd4800e852254fa6a5d4ef8f28d7d329",
       "version_major": 2,
       "version_minor": 0
      },
      "text/plain": [
       "HBox(children=(FloatProgress(value=0.0, max=1391.0), HTML(value='')))"
      ]
     },
     "metadata": {},
     "output_type": "display_data"
    },
    {
     "name": "stdout",
     "output_type": "stream",
     "text": [
      "\n",
      "[0.007910862400633715, 0.00448796995858098, 0.006772553451412562, 0.0023690622971027156, 0.0009352933180152169, 0.0014853041766527504, 0.0020745599842239898, 0.007099364417869995]\n"
     ]
    },
    {
     "data": {
      "application/vnd.jupyter.widget-view+json": {
       "model_id": "25dc65ca1d1f49db989f518ea928e18f",
       "version_major": 2,
       "version_minor": 0
      },
      "text/plain": [
       "HBox(children=(FloatProgress(value=0.0, max=1391.0), HTML(value='')))"
      ]
     },
     "metadata": {},
     "output_type": "display_data"
    },
    {
     "name": "stdout",
     "output_type": "stream",
     "text": [
      "\n",
      "[0.007910862400633715, 0.00448796995858098, 0.006772553451412562, 0.0023690622971027156, 0.0009352933180152169, 0.0014853041766527504, 0.0020745599842239898, 0.007099364417869995]\n"
     ]
    },
    {
     "data": {
      "application/vnd.jupyter.widget-view+json": {
       "model_id": "e35a48495b22483f95ec292251673a41",
       "version_major": 2,
       "version_minor": 0
      },
      "text/plain": [
       "HBox(children=(FloatProgress(value=0.0, max=1391.0), HTML(value='')))"
      ]
     },
     "metadata": {},
     "output_type": "display_data"
    },
    {
     "name": "stdout",
     "output_type": "stream",
     "text": [
      "\n",
      "[0.007910862400633715, 0.00448796995858098, 0.006772553451412562, 0.0023690622971027156, 0.0009352933180152169, 0.0014853041766527504, 0.0020745599842239898, 0.007099364417869995]\n"
     ]
    },
    {
     "data": {
      "application/vnd.jupyter.widget-view+json": {
       "model_id": "2cbd7dee1af34b85ad3918c83be86bb1",
       "version_major": 2,
       "version_minor": 0
      },
      "text/plain": [
       "HBox(children=(FloatProgress(value=0.0, max=1390.0), HTML(value='')))"
      ]
     },
     "metadata": {},
     "output_type": "display_data"
    },
    {
     "name": "stdout",
     "output_type": "stream",
     "text": [
      "\n",
      "[0.007910862400633715, 0.00448796995858098, 0.006772553451412562, 0.0023690622971027156, 0.0009352933180152169, 0.0014853041766527504, 0.0020745599842239898, 0.007099364417869995]\n"
     ]
    },
    {
     "data": {
      "application/vnd.jupyter.widget-view+json": {
       "model_id": "dc016efaaadb4965911645ed09f3ec9e",
       "version_major": 2,
       "version_minor": 0
      },
      "text/plain": [
       "HBox(children=(FloatProgress(value=0.0, max=1392.0), HTML(value='')))"
      ]
     },
     "metadata": {},
     "output_type": "display_data"
    },
    {
     "name": "stdout",
     "output_type": "stream",
     "text": [
      "\n",
      "[0.007910862400633715, 0.00448796995858098, 0.006772553451412562, 0.0023690622971027156, 0.0009352933180152169, 0.0014853041766527504, 0.0020745599842239898, 0.007099364417869995]\n"
     ]
    },
    {
     "name": "stderr",
     "output_type": "stream",
     "text": [
      "\n",
      "100%|██████████████████████████████████████████████████████████████████████████████| 1/1 [15:19:21<00:00, 55161.62s/it]\u001b[A\n",
      "[Succeeded / Failed / Skipped / Total] 0 / 1 / 0 / 1: 100%|████████████████████████| 1/1 [15:19:22<00:00, 55162.07s/it]\u001b[A"
     ]
    },
    {
     "name": "stdout",
     "output_type": "stream",
     "text": [
      "--------------------------------------------- Result 1 ---------------------------------------------\n",
      "\u001b[91m0 (13%)\u001b[0m --> \u001b[91m[FAILED]\u001b[0m\n",
      "\n",
      "anheuser busch joins bid for san miguel anheuser busch companies inc bud n has joined several other foreign bidders for sequestered shares of the philippines largest food and beverage maker san miguel corp sanm mn the head of a government panel which controls the shares told reuters ramon diaz secretary of the presidential commission on good government pcgg said anheuser busch had told the government it was interested in buying mln b shares of san miguel he did not disclose the offered price diaz said australian brewer alan bond s bond corp holdings ltd had offered pesos per share for the b shares diaz said new york investment bank allen and co inc had earlier said it was interested in buying all mln sequestered shares he told reuters last month elders ixl ltd elxa s the melbourne based brewing company had also bid for the b shares the hong kong economic journal last month quoted a spokesman of australian stock broker jacksons ltd as saying that barwon farmlands ltd an australian firm owned pct by ariadne australia ltd was planning a filipino branch in order to buy the entire block of mln shares anheuser busch last year made a mln dlr bid to buy san miguel brewery ltd a hong kong listed company which is pct owned by neptunia corp ltd a san miguel corp subsidiary the talks broke down last june after the two sides said they could not agree on the terms of the sale reuter\n",
      "\n",
      "\n",
      "\n",
      "+-------------------------------+--------+\n",
      "| Attack Results                |        |\n",
      "+-------------------------------+--------+\n",
      "| Number of successful attacks: | 0      |\n",
      "| Number of failed attacks:     | 1      |\n",
      "| Number of skipped attacks:    | 0      |\n",
      "| Original accuracy:            | 100.0% |\n",
      "| Accuracy under attack:        | 100.0% |\n",
      "| Attack success rate:          | 0.0%   |\n",
      "| Average perturbed word %:     | nan%   |\n",
      "| Average num. words per input: | 248.0  |\n",
      "| Avg num queries:              | 932.0  |\n",
      "+-------------------------------+--------+"
     ]
    },
    {
     "name": "stderr",
     "output_type": "stream",
     "text": [
      "\n",
      "c:\\users\\20522516\\appdata\\local\\programs\\python\\python37\\lib\\site-packages\\textattack\\loggers\\attack_log_manager.py:135: RuntimeWarning: Mean of empty slice.\n",
      "  average_perc_words_perturbed = perturbed_word_percentages.mean()\n",
      "c:\\users\\20522516\\appdata\\local\\programs\\python\\python37\\lib\\site-packages\\numpy\\core\\_methods.py:161: RuntimeWarning: invalid value encountered in double_scalars\n",
      "  ret = ret.dtype.type(ret / rcount)\n"
     ]
    },
    {
     "name": "stdout",
     "output_type": "stream",
     "text": [
      "\n"
     ]
    },
    {
     "data": {
      "text/plain": [
       "[<textattack.attack_results.failed_attack_result.FailedAttackResult at 0x22de6410088>]"
      ]
     },
     "execution_count": 102,
     "metadata": {},
     "output_type": "execute_result"
    }
   ],
   "source": [
    "from textattack.datasets import HuggingFaceDataset\n",
    "from textattack.attack_recipes import TextFoolerJin2019, DeepWordBugGao2018, TextBuggerLi2018, GeneticAlgorithmAlzantot2018, PWWSRen2019\n",
    "from textattack import Attacker\n",
    "from textattack import AttackArgs\n",
    "\n",
    "# dataset = custom_dataset\n",
    "attack = DeepWordBugGao2018.build(model_wrapper)\n",
    "\n",
    "# dataset = HuggingFaceDataset(\"newsgroup\", None, \"test\")\n",
    "\n",
    "attack_args = AttackArgs(num_examples=1, log_to_csv=\"log.csv\")\n",
    "attacker = Attacker(attack, dataset, attack_args)\n",
    "attacker.attack_dataset()\n",
    "\n"
   ]
  },
  {
   "cell_type": "code",
   "execution_count": null,
   "metadata": {},
   "outputs": [],
   "source": []
  }
 ],
 "metadata": {
  "kernelspec": {
   "display_name": "Python 3",
   "language": "python",
   "name": "python3"
  },
  "language_info": {
   "codemirror_mode": {
    "name": "ipython",
    "version": 3
   },
   "file_extension": ".py",
   "mimetype": "text/x-python",
   "name": "python",
   "nbconvert_exporter": "python",
   "pygments_lexer": "ipython3",
   "version": "3.7.7"
  }
 },
 "nbformat": 4,
 "nbformat_minor": 2
}

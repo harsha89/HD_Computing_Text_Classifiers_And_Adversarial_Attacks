{
  "cells": [
    {
      "cell_type": "code",
      "source": [
        "!pip install datasets\n"
      ],
      "metadata": {
        "colab": {
          "base_uri": "https://localhost:8080/"
        },
        "id": "hgY6eZUZ1Pca",
        "outputId": "c53729ae-313f-4844-eb06-c5454ee0ad69"
      },
      "execution_count": null,
      "outputs": [
        {
          "output_type": "stream",
          "name": "stdout",
          "text": [
            "Collecting datasets\n",
            "  Downloading datasets-2.2.1-py3-none-any.whl (342 kB)\n",
            "\u001b[K     |████████████████████████████████| 342 kB 15.6 MB/s \n",
            "\u001b[?25hCollecting huggingface-hub<1.0.0,>=0.1.0\n",
            "  Downloading huggingface_hub-0.6.0-py3-none-any.whl (84 kB)\n",
            "\u001b[K     |████████████████████████████████| 84 kB 3.8 MB/s \n",
            "\u001b[?25hRequirement already satisfied: packaging in /usr/local/lib/python3.7/dist-packages (from datasets) (21.3)\n",
            "Collecting xxhash\n",
            "  Downloading xxhash-3.0.0-cp37-cp37m-manylinux_2_17_x86_64.manylinux2014_x86_64.whl (212 kB)\n",
            "\u001b[K     |████████████████████████████████| 212 kB 54.9 MB/s \n",
            "\u001b[?25hRequirement already satisfied: importlib-metadata in /usr/local/lib/python3.7/dist-packages (from datasets) (4.11.3)\n",
            "Collecting fsspec[http]>=2021.05.0\n",
            "  Downloading fsspec-2022.3.0-py3-none-any.whl (136 kB)\n",
            "\u001b[K     |████████████████████████████████| 136 kB 71.9 MB/s \n",
            "\u001b[?25hRequirement already satisfied: tqdm>=4.62.1 in /usr/local/lib/python3.7/dist-packages (from datasets) (4.64.0)\n",
            "Requirement already satisfied: multiprocess in /usr/local/lib/python3.7/dist-packages (from datasets) (0.70.12.2)\n",
            "Requirement already satisfied: numpy>=1.17 in /usr/local/lib/python3.7/dist-packages (from datasets) (1.21.6)\n",
            "Requirement already satisfied: dill in /usr/local/lib/python3.7/dist-packages (from datasets) (0.3.4)\n",
            "Requirement already satisfied: pyarrow>=6.0.0 in /usr/local/lib/python3.7/dist-packages (from datasets) (6.0.1)\n",
            "Requirement already satisfied: pandas in /usr/local/lib/python3.7/dist-packages (from datasets) (1.3.5)\n",
            "Collecting aiohttp\n",
            "  Downloading aiohttp-3.8.1-cp37-cp37m-manylinux_2_5_x86_64.manylinux1_x86_64.manylinux_2_12_x86_64.manylinux2010_x86_64.whl (1.1 MB)\n",
            "\u001b[K     |████████████████████████████████| 1.1 MB 62.2 MB/s \n",
            "\u001b[?25hRequirement already satisfied: requests>=2.19.0 in /usr/local/lib/python3.7/dist-packages (from datasets) (2.23.0)\n",
            "Collecting responses<0.19\n",
            "  Downloading responses-0.18.0-py3-none-any.whl (38 kB)\n",
            "Requirement already satisfied: pyyaml in /usr/local/lib/python3.7/dist-packages (from huggingface-hub<1.0.0,>=0.1.0->datasets) (3.13)\n",
            "Requirement already satisfied: typing-extensions>=3.7.4.3 in /usr/local/lib/python3.7/dist-packages (from huggingface-hub<1.0.0,>=0.1.0->datasets) (4.2.0)\n",
            "Requirement already satisfied: filelock in /usr/local/lib/python3.7/dist-packages (from huggingface-hub<1.0.0,>=0.1.0->datasets) (3.6.0)\n",
            "Requirement already satisfied: pyparsing!=3.0.5,>=2.0.2 in /usr/local/lib/python3.7/dist-packages (from packaging->datasets) (3.0.8)\n",
            "Requirement already satisfied: certifi>=2017.4.17 in /usr/local/lib/python3.7/dist-packages (from requests>=2.19.0->datasets) (2021.10.8)\n",
            "Requirement already satisfied: urllib3!=1.25.0,!=1.25.1,<1.26,>=1.21.1 in /usr/local/lib/python3.7/dist-packages (from requests>=2.19.0->datasets) (1.24.3)\n",
            "Requirement already satisfied: idna<3,>=2.5 in /usr/local/lib/python3.7/dist-packages (from requests>=2.19.0->datasets) (2.10)\n",
            "Requirement already satisfied: chardet<4,>=3.0.2 in /usr/local/lib/python3.7/dist-packages (from requests>=2.19.0->datasets) (3.0.4)\n",
            "Collecting urllib3!=1.25.0,!=1.25.1,<1.26,>=1.21.1\n",
            "  Downloading urllib3-1.25.11-py2.py3-none-any.whl (127 kB)\n",
            "\u001b[K     |████████████████████████████████| 127 kB 73.4 MB/s \n",
            "\u001b[?25hCollecting async-timeout<5.0,>=4.0.0a3\n",
            "  Downloading async_timeout-4.0.2-py3-none-any.whl (5.8 kB)\n",
            "Requirement already satisfied: attrs>=17.3.0 in /usr/local/lib/python3.7/dist-packages (from aiohttp->datasets) (21.4.0)\n",
            "Requirement already satisfied: charset-normalizer<3.0,>=2.0 in /usr/local/lib/python3.7/dist-packages (from aiohttp->datasets) (2.0.12)\n",
            "Collecting multidict<7.0,>=4.5\n",
            "  Downloading multidict-6.0.2-cp37-cp37m-manylinux_2_17_x86_64.manylinux2014_x86_64.whl (94 kB)\n",
            "\u001b[K     |████████████████████████████████| 94 kB 4.4 MB/s \n",
            "\u001b[?25hCollecting aiosignal>=1.1.2\n",
            "  Downloading aiosignal-1.2.0-py3-none-any.whl (8.2 kB)\n",
            "Collecting yarl<2.0,>=1.0\n",
            "  Downloading yarl-1.7.2-cp37-cp37m-manylinux_2_5_x86_64.manylinux1_x86_64.manylinux_2_12_x86_64.manylinux2010_x86_64.whl (271 kB)\n",
            "\u001b[K     |████████████████████████████████| 271 kB 75.1 MB/s \n",
            "\u001b[?25hCollecting frozenlist>=1.1.1\n",
            "  Downloading frozenlist-1.3.0-cp37-cp37m-manylinux_2_5_x86_64.manylinux1_x86_64.manylinux_2_17_x86_64.manylinux2014_x86_64.whl (144 kB)\n",
            "\u001b[K     |████████████████████████████████| 144 kB 55.5 MB/s \n",
            "\u001b[?25hCollecting asynctest==0.13.0\n",
            "  Downloading asynctest-0.13.0-py3-none-any.whl (26 kB)\n",
            "Requirement already satisfied: zipp>=0.5 in /usr/local/lib/python3.7/dist-packages (from importlib-metadata->datasets) (3.8.0)\n",
            "Requirement already satisfied: python-dateutil>=2.7.3 in /usr/local/lib/python3.7/dist-packages (from pandas->datasets) (2.8.2)\n",
            "Requirement already satisfied: pytz>=2017.3 in /usr/local/lib/python3.7/dist-packages (from pandas->datasets) (2022.1)\n",
            "Requirement already satisfied: six>=1.5 in /usr/local/lib/python3.7/dist-packages (from python-dateutil>=2.7.3->pandas->datasets) (1.15.0)\n",
            "Installing collected packages: multidict, frozenlist, yarl, urllib3, asynctest, async-timeout, aiosignal, fsspec, aiohttp, xxhash, responses, huggingface-hub, datasets\n",
            "  Attempting uninstall: urllib3\n",
            "    Found existing installation: urllib3 1.24.3\n",
            "    Uninstalling urllib3-1.24.3:\n",
            "      Successfully uninstalled urllib3-1.24.3\n",
            "\u001b[31mERROR: pip's dependency resolver does not currently take into account all the packages that are installed. This behaviour is the source of the following dependency conflicts.\n",
            "datascience 0.10.6 requires folium==0.2.1, but you have folium 0.8.3 which is incompatible.\u001b[0m\n",
            "Successfully installed aiohttp-3.8.1 aiosignal-1.2.0 async-timeout-4.0.2 asynctest-0.13.0 datasets-2.2.1 frozenlist-1.3.0 fsspec-2022.3.0 huggingface-hub-0.6.0 multidict-6.0.2 responses-0.18.0 urllib3-1.25.11 xxhash-3.0.0 yarl-1.7.2\n"
          ]
        }
      ]
    },
    {
      "cell_type": "code",
      "source": [
        "# !pip install torch==1.7.0\n",
        "# !pip install torchtext==0.10.0"
      ],
      "metadata": {
        "colab": {
          "base_uri": "https://localhost:8080/",
          "height": 714
        },
        "id": "rZVoV9qoBINP",
        "outputId": "2d0b73bc-4345-4e6e-b093-008228ef2742"
      },
      "execution_count": null,
      "outputs": [
        {
          "output_type": "stream",
          "name": "stdout",
          "text": [
            "Requirement already satisfied: torch==1.7.0 in /usr/local/lib/python3.7/dist-packages (1.7.0)\n",
            "Requirement already satisfied: dataclasses in /usr/local/lib/python3.7/dist-packages (from torch==1.7.0) (0.6)\n",
            "Requirement already satisfied: numpy in /usr/local/lib/python3.7/dist-packages (from torch==1.7.0) (1.21.6)\n",
            "Requirement already satisfied: future in /usr/local/lib/python3.7/dist-packages (from torch==1.7.0) (0.16.0)\n",
            "Requirement already satisfied: typing-extensions in /usr/local/lib/python3.7/dist-packages (from torch==1.7.0) (4.1.1)\n",
            "Collecting torchtext==0.10.0\n",
            "  Downloading torchtext-0.10.0-cp37-cp37m-manylinux1_x86_64.whl (7.6 MB)\n",
            "\u001b[K     |████████████████████████████████| 7.6 MB 26.9 MB/s \n",
            "\u001b[?25hRequirement already satisfied: requests in /usr/local/lib/python3.7/dist-packages (from torchtext==0.10.0) (2.27.1)\n",
            "Requirement already satisfied: numpy in /usr/local/lib/python3.7/dist-packages (from torchtext==0.10.0) (1.21.6)\n",
            "Requirement already satisfied: tqdm in /usr/local/lib/python3.7/dist-packages (from torchtext==0.10.0) (4.49.0)\n",
            "Collecting torch==1.9.0\n",
            "  Downloading torch-1.9.0-cp37-cp37m-manylinux1_x86_64.whl (831.4 MB)\n",
            "\u001b[K     |████████████████████████████████| 831.4 MB 2.6 kB/s \n",
            "\u001b[?25hRequirement already satisfied: typing-extensions in /usr/local/lib/python3.7/dist-packages (from torch==1.9.0->torchtext==0.10.0) (4.1.1)\n",
            "Requirement already satisfied: certifi>=2017.4.17 in /usr/local/lib/python3.7/dist-packages (from requests->torchtext==0.10.0) (2021.10.8)\n",
            "Requirement already satisfied: charset-normalizer~=2.0.0 in /usr/local/lib/python3.7/dist-packages (from requests->torchtext==0.10.0) (2.0.12)\n",
            "Requirement already satisfied: idna<4,>=2.5 in /usr/local/lib/python3.7/dist-packages (from requests->torchtext==0.10.0) (2.10)\n",
            "Requirement already satisfied: urllib3<1.27,>=1.21.1 in /usr/local/lib/python3.7/dist-packages (from requests->torchtext==0.10.0) (1.25.11)\n",
            "Installing collected packages: torch, torchtext\n",
            "  Attempting uninstall: torch\n",
            "    Found existing installation: torch 1.7.0\n",
            "    Uninstalling torch-1.7.0:\n",
            "      Successfully uninstalled torch-1.7.0\n",
            "  Attempting uninstall: torchtext\n",
            "    Found existing installation: torchtext 0.8.0\n",
            "    Uninstalling torchtext-0.8.0:\n",
            "      Successfully uninstalled torchtext-0.8.0\n",
            "\u001b[31mERROR: pip's dependency resolver does not currently take into account all the packages that are installed. This behaviour is the source of the following dependency conflicts.\n",
            "torchvision 0.11.1+cu111 requires torch==1.10.0, but you have torch 1.9.0 which is incompatible.\n",
            "torchaudio 0.10.0+cu111 requires torch==1.10.0, but you have torch 1.9.0 which is incompatible.\n",
            "textattack 0.3.0 requires numpy<1.19.0, but you have numpy 1.21.6 which is incompatible.\n",
            "textattack 0.3.0 requires torch==1.7.1, but you have torch 1.9.0 which is incompatible.\u001b[0m\n",
            "Successfully installed torch-1.9.0 torchtext-0.10.0\n"
          ]
        },
        {
          "output_type": "display_data",
          "data": {
            "application/vnd.colab-display-data+json": {
              "pip_warning": {
                "packages": [
                  "torch",
                  "torchtext"
                ]
              }
            }
          },
          "metadata": {}
        }
      ]
    },
    {
      "cell_type": "code",
      "execution_count": null,
      "metadata": {
        "id": "kxm8d6UH0Ipk",
        "colab": {
          "base_uri": "https://localhost:8080/",
          "height": 424
        },
        "outputId": "703f1314-869d-4154-b108-5fa4b3833318"
      },
      "outputs": [
        {
          "output_type": "execute_result",
          "data": {
            "text/plain": [
              "       Unnamed: 0                                               text  class  \\\n",
              "0               0  10 fakta za Dzhanet Iel'n - zhenata, koiato ve...      0   \n",
              "1               1  11. Nie viarvame, che edna znachitelna chast o...      0   \n",
              "2               2  120 khil. lv. biakha otkradnati kato na kino o...      0   \n",
              "3               3  12:10 - t'rsiat Karbovski ot Sofiiskiia univer...      0   \n",
              "4               4  12-godishno momichentse se obesi chas sled igr...      0   \n",
              "...           ...                                                ...    ...   \n",
              "80995       80995  Vielleicht verdienen diese Menschen oftmals au...      1   \n",
              "80996       80996  Vielleicht wird diese eine der wenigen Moglich...      1   \n",
              "80997       80997  \"Vielleicht wirkt so eine Verkurzung ja als Si...      1   \n",
              "80998       80998  Vielleicht wurde der Norweger deshalb vom Publ...      1   \n",
              "80999       80999  Vielleicht wurden die Politiker auch wieder be...      1   \n",
              "\n",
              "      lang  \n",
              "0      bul  \n",
              "1      bul  \n",
              "2      bul  \n",
              "3      bul  \n",
              "4      bul  \n",
              "...    ...  \n",
              "80995  deu  \n",
              "80996  deu  \n",
              "80997  deu  \n",
              "80998  deu  \n",
              "80999  deu  \n",
              "\n",
              "[81000 rows x 4 columns]"
            ],
            "text/html": [
              "\n",
              "  <div id=\"df-2ce02dfe-7e86-4a62-93d5-7b70827d81b4\">\n",
              "    <div class=\"colab-df-container\">\n",
              "      <div>\n",
              "<style scoped>\n",
              "    .dataframe tbody tr th:only-of-type {\n",
              "        vertical-align: middle;\n",
              "    }\n",
              "\n",
              "    .dataframe tbody tr th {\n",
              "        vertical-align: top;\n",
              "    }\n",
              "\n",
              "    .dataframe thead th {\n",
              "        text-align: right;\n",
              "    }\n",
              "</style>\n",
              "<table border=\"1\" class=\"dataframe\">\n",
              "  <thead>\n",
              "    <tr style=\"text-align: right;\">\n",
              "      <th></th>\n",
              "      <th>Unnamed: 0</th>\n",
              "      <th>text</th>\n",
              "      <th>class</th>\n",
              "      <th>lang</th>\n",
              "    </tr>\n",
              "  </thead>\n",
              "  <tbody>\n",
              "    <tr>\n",
              "      <th>0</th>\n",
              "      <td>0</td>\n",
              "      <td>10 fakta za Dzhanet Iel'n - zhenata, koiato ve...</td>\n",
              "      <td>0</td>\n",
              "      <td>bul</td>\n",
              "    </tr>\n",
              "    <tr>\n",
              "      <th>1</th>\n",
              "      <td>1</td>\n",
              "      <td>11. Nie viarvame, che edna znachitelna chast o...</td>\n",
              "      <td>0</td>\n",
              "      <td>bul</td>\n",
              "    </tr>\n",
              "    <tr>\n",
              "      <th>2</th>\n",
              "      <td>2</td>\n",
              "      <td>120 khil. lv. biakha otkradnati kato na kino o...</td>\n",
              "      <td>0</td>\n",
              "      <td>bul</td>\n",
              "    </tr>\n",
              "    <tr>\n",
              "      <th>3</th>\n",
              "      <td>3</td>\n",
              "      <td>12:10 - t'rsiat Karbovski ot Sofiiskiia univer...</td>\n",
              "      <td>0</td>\n",
              "      <td>bul</td>\n",
              "    </tr>\n",
              "    <tr>\n",
              "      <th>4</th>\n",
              "      <td>4</td>\n",
              "      <td>12-godishno momichentse se obesi chas sled igr...</td>\n",
              "      <td>0</td>\n",
              "      <td>bul</td>\n",
              "    </tr>\n",
              "    <tr>\n",
              "      <th>...</th>\n",
              "      <td>...</td>\n",
              "      <td>...</td>\n",
              "      <td>...</td>\n",
              "      <td>...</td>\n",
              "    </tr>\n",
              "    <tr>\n",
              "      <th>80995</th>\n",
              "      <td>80995</td>\n",
              "      <td>Vielleicht verdienen diese Menschen oftmals au...</td>\n",
              "      <td>1</td>\n",
              "      <td>deu</td>\n",
              "    </tr>\n",
              "    <tr>\n",
              "      <th>80996</th>\n",
              "      <td>80996</td>\n",
              "      <td>Vielleicht wird diese eine der wenigen Moglich...</td>\n",
              "      <td>1</td>\n",
              "      <td>deu</td>\n",
              "    </tr>\n",
              "    <tr>\n",
              "      <th>80997</th>\n",
              "      <td>80997</td>\n",
              "      <td>\"Vielleicht wirkt so eine Verkurzung ja als Si...</td>\n",
              "      <td>1</td>\n",
              "      <td>deu</td>\n",
              "    </tr>\n",
              "    <tr>\n",
              "      <th>80998</th>\n",
              "      <td>80998</td>\n",
              "      <td>Vielleicht wurde der Norweger deshalb vom Publ...</td>\n",
              "      <td>1</td>\n",
              "      <td>deu</td>\n",
              "    </tr>\n",
              "    <tr>\n",
              "      <th>80999</th>\n",
              "      <td>80999</td>\n",
              "      <td>Vielleicht wurden die Politiker auch wieder be...</td>\n",
              "      <td>1</td>\n",
              "      <td>deu</td>\n",
              "    </tr>\n",
              "  </tbody>\n",
              "</table>\n",
              "<p>81000 rows × 4 columns</p>\n",
              "</div>\n",
              "      <button class=\"colab-df-convert\" onclick=\"convertToInteractive('df-2ce02dfe-7e86-4a62-93d5-7b70827d81b4')\"\n",
              "              title=\"Convert this dataframe to an interactive table.\"\n",
              "              style=\"display:none;\">\n",
              "        \n",
              "  <svg xmlns=\"http://www.w3.org/2000/svg\" height=\"24px\"viewBox=\"0 0 24 24\"\n",
              "       width=\"24px\">\n",
              "    <path d=\"M0 0h24v24H0V0z\" fill=\"none\"/>\n",
              "    <path d=\"M18.56 5.44l.94 2.06.94-2.06 2.06-.94-2.06-.94-.94-2.06-.94 2.06-2.06.94zm-11 1L8.5 8.5l.94-2.06 2.06-.94-2.06-.94L8.5 2.5l-.94 2.06-2.06.94zm10 10l.94 2.06.94-2.06 2.06-.94-2.06-.94-.94-2.06-.94 2.06-2.06.94z\"/><path d=\"M17.41 7.96l-1.37-1.37c-.4-.4-.92-.59-1.43-.59-.52 0-1.04.2-1.43.59L10.3 9.45l-7.72 7.72c-.78.78-.78 2.05 0 2.83L4 21.41c.39.39.9.59 1.41.59.51 0 1.02-.2 1.41-.59l7.78-7.78 2.81-2.81c.8-.78.8-2.07 0-2.86zM5.41 20L4 18.59l7.72-7.72 1.47 1.35L5.41 20z\"/>\n",
              "  </svg>\n",
              "      </button>\n",
              "      \n",
              "  <style>\n",
              "    .colab-df-container {\n",
              "      display:flex;\n",
              "      flex-wrap:wrap;\n",
              "      gap: 12px;\n",
              "    }\n",
              "\n",
              "    .colab-df-convert {\n",
              "      background-color: #E8F0FE;\n",
              "      border: none;\n",
              "      border-radius: 50%;\n",
              "      cursor: pointer;\n",
              "      display: none;\n",
              "      fill: #1967D2;\n",
              "      height: 32px;\n",
              "      padding: 0 0 0 0;\n",
              "      width: 32px;\n",
              "    }\n",
              "\n",
              "    .colab-df-convert:hover {\n",
              "      background-color: #E2EBFA;\n",
              "      box-shadow: 0px 1px 2px rgba(60, 64, 67, 0.3), 0px 1px 3px 1px rgba(60, 64, 67, 0.15);\n",
              "      fill: #174EA6;\n",
              "    }\n",
              "\n",
              "    [theme=dark] .colab-df-convert {\n",
              "      background-color: #3B4455;\n",
              "      fill: #D2E3FC;\n",
              "    }\n",
              "\n",
              "    [theme=dark] .colab-df-convert:hover {\n",
              "      background-color: #434B5C;\n",
              "      box-shadow: 0px 1px 3px 1px rgba(0, 0, 0, 0.15);\n",
              "      filter: drop-shadow(0px 1px 2px rgba(0, 0, 0, 0.3));\n",
              "      fill: #FFFFFF;\n",
              "    }\n",
              "  </style>\n",
              "\n",
              "      <script>\n",
              "        const buttonEl =\n",
              "          document.querySelector('#df-2ce02dfe-7e86-4a62-93d5-7b70827d81b4 button.colab-df-convert');\n",
              "        buttonEl.style.display =\n",
              "          google.colab.kernel.accessAllowed ? 'block' : 'none';\n",
              "\n",
              "        async function convertToInteractive(key) {\n",
              "          const element = document.querySelector('#df-2ce02dfe-7e86-4a62-93d5-7b70827d81b4');\n",
              "          const dataTable =\n",
              "            await google.colab.kernel.invokeFunction('convertToInteractive',\n",
              "                                                     [key], {});\n",
              "          if (!dataTable) return;\n",
              "\n",
              "          const docLinkHtml = 'Like what you see? Visit the ' +\n",
              "            '<a target=\"_blank\" href=https://colab.research.google.com/notebooks/data_table.ipynb>data table notebook</a>'\n",
              "            + ' to learn more about interactive tables.';\n",
              "          element.innerHTML = '';\n",
              "          dataTable['output_type'] = 'display_data';\n",
              "          await google.colab.output.renderOutput(dataTable, element);\n",
              "          const docLink = document.createElement('div');\n",
              "          docLink.innerHTML = docLinkHtml;\n",
              "          element.appendChild(docLink);\n",
              "        }\n",
              "      </script>\n",
              "    </div>\n",
              "  </div>\n",
              "  "
            ]
          },
          "metadata": {},
          "execution_count": 11
        }
      ],
      "source": [
        "from os import listdir\n",
        "from os.path import isfile, join\n",
        "import pandas as pd\n",
        "from sklearn.feature_extraction.text import TfidfVectorizer, CountVectorizer, ENGLISH_STOP_WORDS\n",
        "from sklearn.naive_bayes import MultinomialNB\n",
        "from sklearn.linear_model import LogisticRegression\n",
        "from sklearn.svm import SVC\n",
        "\n",
        "\n",
        "df_train = pd.read_csv(\"train_dataset_final.csv\")\n",
        "df_test = pd.read_csv(\"test_dataset_final.csv\")\n",
        "\n",
        "df_train"
      ]
    },
    {
      "cell_type": "code",
      "source": [
        "df_train = df_train.rename({'class':'label'}, axis='columns')\n",
        "df_test = df_test.rename({'class':'label'}, axis='columns')\n",
        "df_test"
      ],
      "metadata": {
        "colab": {
          "base_uri": "https://localhost:8080/",
          "height": 424
        },
        "id": "ysHLUeZX0f9d",
        "outputId": "099195cb-11f0-49de-e25b-9433c2f95b1e"
      },
      "execution_count": null,
      "outputs": [
        {
          "output_type": "execute_result",
          "data": {
            "text/plain": [
              "      Unnamed: 0                                               text  label  \\\n",
              "0              0  Tova s'obshchi vchera shefkata Vsichki prava z...      0   \n",
              "1              1  Tova s'obshchi govoriteliat na TsIK Kameliia N...      0   \n",
              "2              2  Tova s'obshchi za dezhurniiat sinoptik Martin ...      0   \n",
              "3              3  Tova s'obshchi za Martina Tsvetanova - dezhure...      0   \n",
              "4              4  Tova s'obshchi za Radio \"Fokus\" - Varna d-r Pe...      0   \n",
              "...          ...                                                ...    ...   \n",
              "8995        8995  Zwischen Regierungen, Unternehmen, Burgern und...      1   \n",
              "8996        8996  Zwischen Schloss- und Kaiserstrasse wird sie a...      1   \n",
              "8997        8997  Zwischen und nach den Auftritten wird die Band...      1   \n",
              "8998        8998  Zwischenzeitlich rutschte er als Industrieller...      1   \n",
              "8999        8999  Zypern-Zwangsabgabe schockt FinanzmarkteDer Sc...      1   \n",
              "\n",
              "     lang  \n",
              "0     bul  \n",
              "1     bul  \n",
              "2     bul  \n",
              "3     bul  \n",
              "4     bul  \n",
              "...   ...  \n",
              "8995  deu  \n",
              "8996  deu  \n",
              "8997  deu  \n",
              "8998  deu  \n",
              "8999  deu  \n",
              "\n",
              "[9000 rows x 4 columns]"
            ],
            "text/html": [
              "\n",
              "  <div id=\"df-54a07973-304e-45f5-a043-e40273eeb95e\">\n",
              "    <div class=\"colab-df-container\">\n",
              "      <div>\n",
              "<style scoped>\n",
              "    .dataframe tbody tr th:only-of-type {\n",
              "        vertical-align: middle;\n",
              "    }\n",
              "\n",
              "    .dataframe tbody tr th {\n",
              "        vertical-align: top;\n",
              "    }\n",
              "\n",
              "    .dataframe thead th {\n",
              "        text-align: right;\n",
              "    }\n",
              "</style>\n",
              "<table border=\"1\" class=\"dataframe\">\n",
              "  <thead>\n",
              "    <tr style=\"text-align: right;\">\n",
              "      <th></th>\n",
              "      <th>Unnamed: 0</th>\n",
              "      <th>text</th>\n",
              "      <th>label</th>\n",
              "      <th>lang</th>\n",
              "    </tr>\n",
              "  </thead>\n",
              "  <tbody>\n",
              "    <tr>\n",
              "      <th>0</th>\n",
              "      <td>0</td>\n",
              "      <td>Tova s'obshchi vchera shefkata Vsichki prava z...</td>\n",
              "      <td>0</td>\n",
              "      <td>bul</td>\n",
              "    </tr>\n",
              "    <tr>\n",
              "      <th>1</th>\n",
              "      <td>1</td>\n",
              "      <td>Tova s'obshchi govoriteliat na TsIK Kameliia N...</td>\n",
              "      <td>0</td>\n",
              "      <td>bul</td>\n",
              "    </tr>\n",
              "    <tr>\n",
              "      <th>2</th>\n",
              "      <td>2</td>\n",
              "      <td>Tova s'obshchi za dezhurniiat sinoptik Martin ...</td>\n",
              "      <td>0</td>\n",
              "      <td>bul</td>\n",
              "    </tr>\n",
              "    <tr>\n",
              "      <th>3</th>\n",
              "      <td>3</td>\n",
              "      <td>Tova s'obshchi za Martina Tsvetanova - dezhure...</td>\n",
              "      <td>0</td>\n",
              "      <td>bul</td>\n",
              "    </tr>\n",
              "    <tr>\n",
              "      <th>4</th>\n",
              "      <td>4</td>\n",
              "      <td>Tova s'obshchi za Radio \"Fokus\" - Varna d-r Pe...</td>\n",
              "      <td>0</td>\n",
              "      <td>bul</td>\n",
              "    </tr>\n",
              "    <tr>\n",
              "      <th>...</th>\n",
              "      <td>...</td>\n",
              "      <td>...</td>\n",
              "      <td>...</td>\n",
              "      <td>...</td>\n",
              "    </tr>\n",
              "    <tr>\n",
              "      <th>8995</th>\n",
              "      <td>8995</td>\n",
              "      <td>Zwischen Regierungen, Unternehmen, Burgern und...</td>\n",
              "      <td>1</td>\n",
              "      <td>deu</td>\n",
              "    </tr>\n",
              "    <tr>\n",
              "      <th>8996</th>\n",
              "      <td>8996</td>\n",
              "      <td>Zwischen Schloss- und Kaiserstrasse wird sie a...</td>\n",
              "      <td>1</td>\n",
              "      <td>deu</td>\n",
              "    </tr>\n",
              "    <tr>\n",
              "      <th>8997</th>\n",
              "      <td>8997</td>\n",
              "      <td>Zwischen und nach den Auftritten wird die Band...</td>\n",
              "      <td>1</td>\n",
              "      <td>deu</td>\n",
              "    </tr>\n",
              "    <tr>\n",
              "      <th>8998</th>\n",
              "      <td>8998</td>\n",
              "      <td>Zwischenzeitlich rutschte er als Industrieller...</td>\n",
              "      <td>1</td>\n",
              "      <td>deu</td>\n",
              "    </tr>\n",
              "    <tr>\n",
              "      <th>8999</th>\n",
              "      <td>8999</td>\n",
              "      <td>Zypern-Zwangsabgabe schockt FinanzmarkteDer Sc...</td>\n",
              "      <td>1</td>\n",
              "      <td>deu</td>\n",
              "    </tr>\n",
              "  </tbody>\n",
              "</table>\n",
              "<p>9000 rows × 4 columns</p>\n",
              "</div>\n",
              "      <button class=\"colab-df-convert\" onclick=\"convertToInteractive('df-54a07973-304e-45f5-a043-e40273eeb95e')\"\n",
              "              title=\"Convert this dataframe to an interactive table.\"\n",
              "              style=\"display:none;\">\n",
              "        \n",
              "  <svg xmlns=\"http://www.w3.org/2000/svg\" height=\"24px\"viewBox=\"0 0 24 24\"\n",
              "       width=\"24px\">\n",
              "    <path d=\"M0 0h24v24H0V0z\" fill=\"none\"/>\n",
              "    <path d=\"M18.56 5.44l.94 2.06.94-2.06 2.06-.94-2.06-.94-.94-2.06-.94 2.06-2.06.94zm-11 1L8.5 8.5l.94-2.06 2.06-.94-2.06-.94L8.5 2.5l-.94 2.06-2.06.94zm10 10l.94 2.06.94-2.06 2.06-.94-2.06-.94-.94-2.06-.94 2.06-2.06.94z\"/><path d=\"M17.41 7.96l-1.37-1.37c-.4-.4-.92-.59-1.43-.59-.52 0-1.04.2-1.43.59L10.3 9.45l-7.72 7.72c-.78.78-.78 2.05 0 2.83L4 21.41c.39.39.9.59 1.41.59.51 0 1.02-.2 1.41-.59l7.78-7.78 2.81-2.81c.8-.78.8-2.07 0-2.86zM5.41 20L4 18.59l7.72-7.72 1.47 1.35L5.41 20z\"/>\n",
              "  </svg>\n",
              "      </button>\n",
              "      \n",
              "  <style>\n",
              "    .colab-df-container {\n",
              "      display:flex;\n",
              "      flex-wrap:wrap;\n",
              "      gap: 12px;\n",
              "    }\n",
              "\n",
              "    .colab-df-convert {\n",
              "      background-color: #E8F0FE;\n",
              "      border: none;\n",
              "      border-radius: 50%;\n",
              "      cursor: pointer;\n",
              "      display: none;\n",
              "      fill: #1967D2;\n",
              "      height: 32px;\n",
              "      padding: 0 0 0 0;\n",
              "      width: 32px;\n",
              "    }\n",
              "\n",
              "    .colab-df-convert:hover {\n",
              "      background-color: #E2EBFA;\n",
              "      box-shadow: 0px 1px 2px rgba(60, 64, 67, 0.3), 0px 1px 3px 1px rgba(60, 64, 67, 0.15);\n",
              "      fill: #174EA6;\n",
              "    }\n",
              "\n",
              "    [theme=dark] .colab-df-convert {\n",
              "      background-color: #3B4455;\n",
              "      fill: #D2E3FC;\n",
              "    }\n",
              "\n",
              "    [theme=dark] .colab-df-convert:hover {\n",
              "      background-color: #434B5C;\n",
              "      box-shadow: 0px 1px 3px 1px rgba(0, 0, 0, 0.15);\n",
              "      filter: drop-shadow(0px 1px 2px rgba(0, 0, 0, 0.3));\n",
              "      fill: #FFFFFF;\n",
              "    }\n",
              "  </style>\n",
              "\n",
              "      <script>\n",
              "        const buttonEl =\n",
              "          document.querySelector('#df-54a07973-304e-45f5-a043-e40273eeb95e button.colab-df-convert');\n",
              "        buttonEl.style.display =\n",
              "          google.colab.kernel.accessAllowed ? 'block' : 'none';\n",
              "\n",
              "        async function convertToInteractive(key) {\n",
              "          const element = document.querySelector('#df-54a07973-304e-45f5-a043-e40273eeb95e');\n",
              "          const dataTable =\n",
              "            await google.colab.kernel.invokeFunction('convertToInteractive',\n",
              "                                                     [key], {});\n",
              "          if (!dataTable) return;\n",
              "\n",
              "          const docLinkHtml = 'Like what you see? Visit the ' +\n",
              "            '<a target=\"_blank\" href=https://colab.research.google.com/notebooks/data_table.ipynb>data table notebook</a>'\n",
              "            + ' to learn more about interactive tables.';\n",
              "          element.innerHTML = '';\n",
              "          dataTable['output_type'] = 'display_data';\n",
              "          await google.colab.output.renderOutput(dataTable, element);\n",
              "          const docLink = document.createElement('div');\n",
              "          docLink.innerHTML = docLinkHtml;\n",
              "          element.appendChild(docLink);\n",
              "        }\n",
              "      </script>\n",
              "    </div>\n",
              "  </div>\n",
              "  "
            ]
          },
          "metadata": {},
          "execution_count": 12
        }
      ]
    },
    {
      "cell_type": "code",
      "execution_count": null,
      "metadata": {
        "colab": {
          "base_uri": "https://localhost:8080/"
        },
        "id": "ur6aU2Ne0Ipn",
        "outputId": "20166bcb-560e-46ac-c570-cca7f6e1f3e3"
      },
      "outputs": [
        {
          "output_type": "execute_result",
          "data": {
            "text/plain": [
              "<torch._C.Generator at 0x7fe0cda492f0>"
            ]
          },
          "metadata": {},
          "execution_count": 13
        }
      ],
      "source": [
        "import functools\n",
        "import sys\n",
        "\n",
        "import datasets\n",
        "import matplotlib.pyplot as plt\n",
        "import numpy as np\n",
        "import torch\n",
        "import torch.nn as nn\n",
        "import torch.optim as optim\n",
        "import torchtext\n",
        "import tqdm\n",
        "from datasets import Dataset\n",
        "\n",
        "seed = 0\n",
        "\n",
        "torch.manual_seed(seed)"
      ]
    },
    {
      "cell_type": "code",
      "execution_count": null,
      "metadata": {
        "id": "YljZ0Qg60Ipo"
      },
      "outputs": [],
      "source": [
        "train_data = Dataset.from_pandas(df_train)\n",
        "test_data = Dataset.from_pandas(df_test)"
      ]
    },
    {
      "cell_type": "code",
      "execution_count": null,
      "metadata": {
        "colab": {
          "base_uri": "https://localhost:8080/"
        },
        "id": "yAA_9gUd0Ipo",
        "outputId": "ce7910dd-3f58-4447-f0fb-a4906203fcd4"
      },
      "outputs": [
        {
          "output_type": "execute_result",
          "data": {
            "text/plain": [
              "Dataset({\n",
              "    features: ['text', 'class', 'label'],\n",
              "    num_rows: 5485\n",
              "})"
            ]
          },
          "metadata": {},
          "execution_count": 6
        }
      ],
      "source": [
        "train_data"
      ]
    },
    {
      "cell_type": "code",
      "execution_count": null,
      "metadata": {
        "colab": {
          "base_uri": "https://localhost:8080/",
          "height": 351,
          "referenced_widgets": [
            "194034b75694480d80a14aacfe806d49",
            "3c1edb6a5826450486b56eed17c4c19d",
            "d484216e48674324a8f1335e808ef6ef",
            "968c46e91d8041d093d201176e30724c",
            "25a3a443b0d74eda8d588b60816d0fe5",
            "2b435ae9b6cf4303be1389b0f1f4a5fe",
            "8f105da64d244636afd8ea66debe57d3",
            "96273b1a220e447897c18748605e9332",
            "aa8b6a07f72342d6816151d2a6a3af11",
            "7b303e7945494b11bf647880a10ff4f3",
            "81ee53ffac764e008144aa2c0963ddd5",
            "2648afa898874cb09526a1ce97203874",
            "72ee8efb1d2247399fa78a566c5c3aab",
            "d9c11c4ae1e9443fb61d6ce1a84d9dbe",
            "59d6abfd6fb942dd8a507c32196bf56d",
            "1f635ee6c2644ba5b35f05f785bae788",
            "020cdc36a7c74db8add3fe1bca04b6a9",
            "42b9a166d56c4d24a089bf2e45bcd791",
            "948e6f013f4746fe9e36ec7c019204c0",
            "2bb311129cc149e9a75b538c3bcd5063",
            "521851b3c31c4fd1bed326f07b7d4f7b",
            "c331b768c90348369c65265550360f8a",
            "269c32eb0b8c41f1a7b2bc2183a371a4",
            "7c6e8a31a73341cfa6474708e4ce4f6d",
            "ca1b60ede4d74c429fe8be42bdf52ff6",
            "d20e06ca6f504dda86841c2c39f6d72c",
            "d90682d2e5e04227b579b5ec9f99413a",
            "62b853f2f27948db8e3988ad1393a383",
            "0b24cb1adf124e05b5cc2a7877ada8df",
            "bbbd9eebeaab4fa2afce80f35a1df652",
            "6b0bf71f84834bd48a92ccf131d915cd",
            "4d544527b5bd4955acea754e4bad4555",
            "cad34ce570a3438cb9753d3a795fc62a",
            "de5106beb1154eaea2bb7d3184266011",
            "502fc58b157f4f3ab81e6eb975ba63aa",
            "6a636b37fa2340df899409cbd7f5e529",
            "f402a08aa4ca4f6381200888791ffedb",
            "63d007a885c949598410895c850f8022",
            "1f4c0a9f1f244ea09879e29f2f7b7ad8",
            "83afbb22c4e04bfd94e7c9455ab76e6c",
            "de96daf6ce7e47cbb01e11762c5520b3",
            "52b2a557d5b8422396d57b37efddadf2",
            "e250e9bbc3e9419e80618d2e18fcaea3",
            "8a675db8287c4146bf99e605d3561a1d",
            "b3b2499c5a614e38b5bc810c5ba3f2b9",
            "d7c1a71b80d34d65b902bf667040153c",
            "94c4ac4b047c478e914c65da7af3b7a9",
            "336e4851025e4d8b8e63c91301e3f396",
            "497c422a7bb54b3a9e06daafe6e237e9",
            "7d1deebfe51e49f3a3e1a7cae91c86e5",
            "1c58b64018a44b8189fc4792c2ede0f6",
            "4d1cd7baca58497fab24803051565dc0",
            "3a5102ac90114c46978dc068060df1f3",
            "6eae0381855545eca9d20a630eac5c49",
            "9bd145303f434478a7a33f45dba434d3"
          ]
        },
        "id": "FBVvqsOJ0Ipo",
        "outputId": "2efeedae-0732-49f3-935e-c46fabeba94e"
      },
      "outputs": [
        {
          "output_type": "display_data",
          "data": {
            "text/plain": [
              "  0%|          | 0/81000 [00:00<?, ?ex/s]"
            ],
            "application/vnd.jupyter.widget-view+json": {
              "version_major": 2,
              "version_minor": 0,
              "model_id": "194034b75694480d80a14aacfe806d49"
            }
          },
          "metadata": {}
        },
        {
          "output_type": "display_data",
          "data": {
            "text/plain": [
              "  0%|          | 0/9000 [00:00<?, ?ex/s]"
            ],
            "application/vnd.jupyter.widget-view+json": {
              "version_major": 2,
              "version_minor": 0,
              "model_id": "2648afa898874cb09526a1ce97203874"
            }
          },
          "metadata": {}
        },
        {
          "output_type": "display_data",
          "data": {
            "text/plain": [
              "  0%|          | 0/81000 [00:00<?, ?ex/s]"
            ],
            "application/vnd.jupyter.widget-view+json": {
              "version_major": 2,
              "version_minor": 0,
              "model_id": "269c32eb0b8c41f1a7b2bc2183a371a4"
            }
          },
          "metadata": {}
        },
        {
          "output_type": "display_data",
          "data": {
            "text/plain": [
              "  0%|          | 0/9000 [00:00<?, ?ex/s]"
            ],
            "application/vnd.jupyter.widget-view+json": {
              "version_major": 2,
              "version_minor": 0,
              "model_id": "de5106beb1154eaea2bb7d3184266011"
            }
          },
          "metadata": {}
        },
        {
          "output_type": "display_data",
          "data": {
            "text/plain": [
              "  0%|          | 0/9000 [00:00<?, ?ex/s]"
            ],
            "application/vnd.jupyter.widget-view+json": {
              "version_major": 2,
              "version_minor": 0,
              "model_id": "b3b2499c5a614e38b5bc810c5ba3f2b9"
            }
          },
          "metadata": {}
        },
        {
          "output_type": "stream",
          "name": "stdout",
          "text": [
            "Dataset({\n",
            "    features: ['Unnamed: 0', 'text', 'label', 'lang', 'tokens', 'ids'],\n",
            "    num_rows: 9000\n",
            "})\n"
          ]
        },
        {
          "output_type": "execute_result",
          "data": {
            "text/plain": [
              "{'ids': tensor([  212,  9903,    44,     0,     0,     4,   143,    21,  8070,     3,\n",
              "           536,  5435,   131,     0,     0,     0,    17,     4, 12831,    45,\n",
              "             4, 25584,  6019,     0, 19641,  3895,    12,     0,   198,     4,\n",
              "         16519,    12,  8525,    44,     0,     0,   642,   113,     4,     0,\n",
              "             3, 13196,  2502,     0,    30,  1972,    12,  4915,     2]),\n",
              " 'label': tensor(0)}"
            ]
          },
          "metadata": {},
          "execution_count": 15
        }
      ],
      "source": [
        "tokenizer = torchtext.data.utils.get_tokenizer('basic_english')\n",
        "\n",
        "def tokenize_data(example, tokenizer, max_length):\n",
        "    tokens = tokenizer(example['text'])[:max_length]\n",
        "    return {'tokens': tokens}\n",
        "\n",
        "max_length = 256\n",
        "\n",
        "train_data = train_data.map(tokenize_data, fn_kwargs={'tokenizer': tokenizer, 'max_length': max_length})\n",
        "test_data = test_data.map(tokenize_data, fn_kwargs={'tokenizer': tokenizer, 'max_length': max_length})\n",
        "\n",
        "test_size = 0.25\n",
        "\n",
        "valid_data = test_data\n",
        "\n",
        "min_freq = 5\n",
        "special_tokens = ['<unk>', '<pad>']\n",
        "\n",
        "vocab = torchtext.vocab.build_vocab_from_iterator(train_data['tokens'],\n",
        "                                                  min_freq=min_freq,\n",
        "                                                  specials=special_tokens)\n",
        "\n",
        "\n",
        "unk_index = vocab['<unk>']\n",
        "pad_index = vocab['<pad>']\n",
        "\n",
        "vocab.set_default_index(unk_index)\n",
        "\n",
        "def numericalize_data(example, vocab):\n",
        "    ids = [vocab[token] for token in example['tokens']]\n",
        "    return {'ids': ids}\n",
        "\n",
        "train_data = train_data.map(numericalize_data, fn_kwargs={'vocab': vocab})\n",
        "valid_data = valid_data.map(numericalize_data, fn_kwargs={'vocab': vocab})\n",
        "test_data = test_data.map(numericalize_data, fn_kwargs={'vocab': vocab})\n",
        "\n",
        "\n",
        "print(test_data)\n",
        "train_data = train_data.with_format(type='torch', columns=['ids', 'label'])\n",
        "valid_data = valid_data.with_format(type='torch', columns=['ids', 'label'])\n",
        "test_data = test_data.with_format(type='torch', columns=['ids', 'label'])\n",
        "\n",
        "train_data[0]\n"
      ]
    },
    {
      "cell_type": "code",
      "source": [
        "import torch.nn as nn\n",
        "import torch.nn.functional as F\n",
        "\n",
        "class CNN(nn.Module):\n",
        "    def __init__(self, vocab_size, embedding_dim, n_filters, filter_sizes, output_dim, dropout_rate, \n",
        "                 pad_index):\n",
        "        super().__init__()\n",
        "        self.embedding = nn.Embedding(vocab_size, embedding_dim, padding_idx=pad_index)\n",
        "        self.convs = nn.ModuleList([\n",
        "                                    nn.Conv2d(in_channels = 1, \n",
        "                                              out_channels = n_filters, \n",
        "                                              kernel_size = (fs, embedding_dim)) \n",
        "                                    for fs in filter_sizes\n",
        "                                    ])\n",
        "        \n",
        "        self.fc = nn.Linear(len(filter_sizes) * n_filters, output_dim)\n",
        "        self.dropout = nn.Dropout(dropout_rate)\n",
        "    \n",
        "    def init_weights(self):\n",
        "        initrange = 0.5\n",
        "        self.embedding.weight.data.uniform_(-initrange, initrange)\n",
        "        \n",
        "    def forward(self, ids):\n",
        "        #text = [batch size, sent len]\n",
        "        embedded = self.embedding(ids)\n",
        "        #embedded = [batch size, sent len, emb dim]\n",
        "        embedded = embedded.unsqueeze(1)\n",
        "        #embedded = [batch size, 1, sent len, emb dim]\n",
        "        conved = [F.relu(conv(embedded)).squeeze(3) for conv in self.convs]\n",
        "        #conved_n = [batch size, n_filters, sent len - filter_sizes[n] + 1]\n",
        "        pooled = [F.max_pool1d(conv, conv.shape[2]).squeeze(2) for conv in conved]\n",
        "        #pooled_n = [batch size, n_filters]\n",
        "        cat = self.dropout(torch.cat(pooled, dim = 1))\n",
        "        #cat = [batch size, n_filters * len(filter_sizes)]\n",
        "        return self.fc(cat)"
      ],
      "metadata": {
        "id": "Jl4fu-_d-KqG"
      },
      "execution_count": null,
      "outputs": []
    },
    {
      "cell_type": "code",
      "execution_count": null,
      "metadata": {
        "id": "jWL5jkP30Ipr"
      },
      "outputs": [],
      "source": [
        "vocab_size = len(vocab)\n",
        "embedding_dim = 100\n",
        "n_filters = 100\n",
        "filter_sizes = [3,5,7]\n",
        "output_dim = len(train_data.unique('label'))\n",
        "dropout_rate = 0.25\n",
        "\n",
        "model = CNN(vocab_size, embedding_dim, n_filters, filter_sizes, output_dim, dropout_rate, pad_index)\n",
        "\n"
      ]
    },
    {
      "cell_type": "code",
      "execution_count": null,
      "metadata": {
        "colab": {
          "base_uri": "https://localhost:8080/"
        },
        "id": "Lp6pELHF0Ipr",
        "outputId": "1b1ea4b0-f7e1-4628-ebba-c378217f5971"
      },
      "outputs": [
        {
          "output_type": "stream",
          "name": "stdout",
          "text": [
            "The model has 3,328,409 trainable parameters\n"
          ]
        }
      ],
      "source": [
        "def count_parameters(model):\n",
        "    return sum(p.numel() for p in model.parameters() if p.requires_grad)\n",
        "\n",
        "print(f'The model has {count_parameters(model):,} trainable parameters')"
      ]
    },
    {
      "cell_type": "code",
      "execution_count": null,
      "metadata": {
        "id": "YVh27Ar70Ips"
      },
      "outputs": [],
      "source": [
        "model.init_weights()\n",
        "# vectors = torchtext.vocab.GloVe(name='6B', dim=100)\n",
        "# pretrained_embedding = vectors.get_vecs_by_tokens(vocab.get_itos())\n",
        "# model.embedding.weight.data = pretrained_embedding"
      ]
    },
    {
      "cell_type": "code",
      "execution_count": null,
      "metadata": {
        "id": "pLqx3Sxn0Ips"
      },
      "outputs": [],
      "source": [
        "def categorical_accuracy(preds, y):\n",
        "    \"\"\"\n",
        "    Returns accuracy per batch, i.e. if you get 8/10 right, this returns 0.8, NOT 8\n",
        "    \"\"\"\n",
        "    top_pred = preds.argmax(1, keepdim = True)\n",
        "    correct = top_pred.eq(y.view_as(top_pred)).sum()\n",
        "    acc = correct.float() / y.shape[0]\n",
        "    return acc"
      ]
    },
    {
      "cell_type": "code",
      "execution_count": null,
      "metadata": {
        "id": "qPIVXMU20Ipt"
      },
      "outputs": [],
      "source": [
        "# vectors = torchtext.vocab.FastText()\n",
        "# pretrained_embedding = vectors.get_vecs_by_tokens(vocab.get_itos())\n",
        "# model.embedding.weight.data = pretrained_embedding\n",
        "lr = 5e-4\n",
        "\n",
        "optimizer = optim.Adam(model.parameters(), lr=lr)\n",
        "criterion = nn.CrossEntropyLoss()\n",
        "device = torch.device('cuda' if torch.cuda.is_available() else 'cpu')\n",
        "model = model.to(device)\n",
        "criterion = criterion.to(device)\n",
        "\n",
        "\n",
        "def collate(batch, pad_index):\n",
        "    batch_ids = [i['ids'] for i in batch]\n",
        "    batch_ids = nn.utils.rnn.pad_sequence(batch_ids, padding_value=pad_index, batch_first=True)\n",
        "    batch_label = [i['label'] for i in batch]\n",
        "    batch_label = torch.stack(batch_label)\n",
        "    batch = {'ids': batch_ids,\n",
        "             'label': batch_label}\n",
        "    return batch\n",
        "\n",
        "\n",
        "batch_size = 512\n",
        "collate = functools.partial(collate, pad_index=pad_index)\n",
        "train_dataloader = torch.utils.data.DataLoader(train_data, \n",
        "                                               batch_size=batch_size, \n",
        "                                               collate_fn=collate, \n",
        "                                               shuffle=True)\n",
        "\n",
        "valid_dataloader = torch.utils.data.DataLoader(valid_data, batch_size=batch_size, collate_fn=collate)\n",
        "test_dataloader = torch.utils.data.DataLoader(test_data, batch_size=batch_size, collate_fn=collate)\n",
        "\n",
        "\n",
        "def train(dataloader, model, criterion, optimizer, device):\n",
        "\n",
        "    model.train()\n",
        "    epoch_losses = []\n",
        "    epoch_accs = []\n",
        "\n",
        "    for batch in tqdm.tqdm(dataloader, desc='training...', file=sys.stdout):\n",
        "        ids = batch['ids'].to(device)\n",
        "        label = batch['label'].to(device)\n",
        "        prediction = model(ids)\n",
        "        loss = criterion(prediction, label)\n",
        "        accuracy = categorical_accuracy(prediction, label)\n",
        "        optimizer.zero_grad()\n",
        "        loss.backward()\n",
        "        optimizer.step()\n",
        "        epoch_losses.append(loss.item())\n",
        "        epoch_accs.append(accuracy.item())\n",
        "\n",
        "    return epoch_losses, epoch_accs\n",
        "\n",
        "def evaluate(dataloader, model, criterion, device):\n",
        "    \n",
        "    model.eval()\n",
        "    epoch_losses = []\n",
        "    epoch_accs = []\n",
        "\n",
        "    with torch.no_grad():\n",
        "        for batch in tqdm.tqdm(dataloader, desc='evaluating...', file=sys.stdout):\n",
        "            ids = batch['ids'].to(device)\n",
        "            label = batch['label'].to(device)\n",
        "            prediction = model(ids)\n",
        "            loss = criterion(prediction, label)\n",
        "            accuracy = categorical_accuracy(prediction, label)\n",
        "            epoch_losses.append(loss.item())\n",
        "            epoch_accs.append(accuracy.item())\n",
        "\n",
        "    return epoch_losses, epoch_accs\n",
        "\n",
        "def get_accuracy(prediction, label):\n",
        "    batch_size, _ = prediction.shape\n",
        "    predicted_classes = prediction.argmax(dim=-1)\n",
        "    correct_predictions = predicted_classes.eq(label).sum()\n",
        "    accuracy = correct_predictions / batch_size\n",
        "    return accuracy\n",
        "\n"
      ]
    },
    {
      "cell_type": "code",
      "execution_count": null,
      "metadata": {
        "colab": {
          "base_uri": "https://localhost:8080/"
        },
        "id": "ftcYwR-h0Ipt",
        "outputId": "507c39f5-7e3a-4650-a023-d8c1111afb0b"
      },
      "outputs": [
        {
          "output_type": "stream",
          "name": "stdout",
          "text": [
            "training...: 100%|██████████| 159/159 [00:31<00:00,  5.01it/s]\n",
            "evaluating...: 100%|██████████| 18/18 [00:03<00:00,  5.99it/s]\n",
            "epoch: 1\n",
            "train_loss: 1.031, train_acc: 0.764\n",
            "valid_loss: 0.261, valid_acc: 0.942\n",
            "training...: 100%|██████████| 159/159 [00:31<00:00,  5.04it/s]\n",
            "evaluating...: 100%|██████████| 18/18 [00:03<00:00,  5.68it/s]\n",
            "epoch: 2\n",
            "train_loss: 0.131, train_acc: 0.973\n",
            "valid_loss: 0.096, valid_acc: 0.974\n",
            "training...: 100%|██████████| 159/159 [00:30<00:00,  5.25it/s]\n",
            "evaluating...: 100%|██████████| 18/18 [00:03<00:00,  5.93it/s]\n",
            "epoch: 3\n",
            "train_loss: 0.054, train_acc: 0.988\n",
            "valid_loss: 0.060, valid_acc: 0.983\n",
            "training...: 100%|██████████| 159/159 [00:30<00:00,  5.25it/s]\n",
            "evaluating...: 100%|██████████| 18/18 [00:03<00:00,  5.92it/s]\n",
            "epoch: 4\n",
            "train_loss: 0.030, train_acc: 0.994\n",
            "valid_loss: 0.044, valid_acc: 0.987\n",
            "training...: 100%|██████████| 159/159 [00:30<00:00,  5.28it/s]\n",
            "evaluating...: 100%|██████████| 18/18 [00:02<00:00,  6.01it/s]\n",
            "epoch: 5\n",
            "train_loss: 0.018, train_acc: 0.997\n",
            "valid_loss: 0.036, valid_acc: 0.989\n"
          ]
        }
      ],
      "source": [
        "n_epochs = 5\n",
        "best_valid_loss = float('inf')\n",
        "\n",
        "train_losses = []\n",
        "train_accs = []\n",
        "valid_losses = []\n",
        "valid_accs = []\n",
        "\n",
        "for epoch in range(n_epochs):\n",
        "\n",
        "    train_loss, train_acc = train(train_dataloader, model, criterion, optimizer, device)\n",
        "    valid_loss, valid_acc = evaluate(valid_dataloader, model, criterion, device)\n",
        "\n",
        "    train_losses.extend(train_loss)\n",
        "    train_accs.extend(train_acc)\n",
        "    valid_losses.extend(valid_loss)\n",
        "    valid_accs.extend(valid_acc)\n",
        "    \n",
        "    epoch_train_loss = np.mean(train_loss)\n",
        "    epoch_train_acc = np.mean(train_acc)\n",
        "    epoch_valid_loss = np.mean(valid_loss)\n",
        "    epoch_valid_acc = np.mean(valid_acc)\n",
        "    \n",
        "    if epoch_valid_loss < best_valid_loss:\n",
        "        best_valid_loss = epoch_valid_loss\n",
        "        torch.save(model.state_dict(), 'cnn.pt')\n",
        "    \n",
        "    print(f'epoch: {epoch+1}')\n",
        "    print(f'train_loss: {epoch_train_loss:.3f}, train_acc: {epoch_train_acc:.3f}')\n",
        "    print(f'valid_loss: {epoch_valid_loss:.3f}, valid_acc: {epoch_valid_acc:.3f}')"
      ]
    },
    {
      "cell_type": "code",
      "execution_count": null,
      "metadata": {
        "colab": {
          "base_uri": "https://localhost:8080/",
          "height": 405
        },
        "id": "-UtGPpY-0Ipu",
        "outputId": "92e8fa33-3c88-410d-ea7c-8e84b00bd6e4"
      },
      "outputs": [
        {
          "output_type": "execute_result",
          "data": {
            "text/plain": [
              "Text(0, 0.5, 'loss')"
            ]
          },
          "metadata": {},
          "execution_count": 20
        },
        {
          "output_type": "display_data",
          "data": {
            "text/plain": [
              "<Figure size 720x432 with 1 Axes>"
            ],
            "image/png": "[encoded data removed]"
          },
          "metadata": {
            "needs_background": "light"
          }
        }
      ],
      "source": [
        "fig = plt.figure(figsize=(10,6))\n",
        "ax = fig.add_subplot(1,1,1)\n",
        "ax.plot(train_losses, label='train loss')\n",
        "ax.plot(valid_losses, label='valid loss')\n",
        "plt.legend()\n",
        "ax.set_xlabel('updates')\n",
        "ax.set_ylabel('loss')"
      ]
    },
    {
      "cell_type": "code",
      "execution_count": null,
      "metadata": {
        "colab": {
          "base_uri": "https://localhost:8080/",
          "height": 388
        },
        "id": "4azVYV-B0Ipu",
        "outputId": "f87e9953-be61-48d8-b005-fcabb0e3f206"
      },
      "outputs": [
        {
          "output_type": "display_data",
          "data": {
            "text/plain": [
              "<Figure size 720x432 with 1 Axes>"
            ],
            "image/png": "[encoded data removed]"
          },
          "metadata": {
            "needs_background": "light"
          }
        }
      ],
      "source": [
        "fig = plt.figure(figsize=(10,6))\n",
        "ax = fig.add_subplot(1,1,1)\n",
        "ax.plot(train_accs, label='train accuracy')\n",
        "ax.plot(valid_accs, label='valid accuracy')\n",
        "plt.legend()\n",
        "ax.set_xlabel('updates')\n",
        "ax.set_ylabel('accuracy');"
      ]
    },
    {
      "cell_type": "code",
      "execution_count": null,
      "metadata": {
        "colab": {
          "base_uri": "https://localhost:8080/"
        },
        "id": "-BDwEvoA0Ipu",
        "outputId": "9626e030-167d-4567-e72a-35754cc2dc9c"
      },
      "outputs": [
        {
          "output_type": "stream",
          "name": "stdout",
          "text": [
            "evaluating...: 100%|██████████| 18/18 [00:03<00:00,  5.93it/s]\n",
            "test_loss: 0.036, test_acc: 0.989\n"
          ]
        }
      ],
      "source": [
        "model.load_state_dict(torch.load('cnn.pt'))\n",
        "\n",
        "test_loss, test_acc = evaluate(test_dataloader, model, criterion, device)\n",
        "\n",
        "epoch_test_loss = np.mean(test_loss)\n",
        "epoch_test_acc = np.mean(test_acc)\n",
        "\n",
        "print(f'test_loss: {epoch_test_loss:.3f}, test_acc: {epoch_test_acc:.3f}')"
      ]
    },
    {
      "cell_type": "code",
      "source": [
        "min_length=7"
      ],
      "metadata": {
        "id": "wlK5RE-CdVkc"
      },
      "execution_count": null,
      "outputs": []
    },
    {
      "cell_type": "code",
      "source": [
        "def predict_class(text, model, tokenizer, vocab, device, min_length, pad_index):\n",
        "    tokens = tokenizer(text)\n",
        "    ids = [vocab[t] for t in tokens]\n",
        "    if len(ids) < min_length:\n",
        "        ids += [pad_index] * (min_length - len(ids))\n",
        "    tensor = torch.LongTensor(ids).unsqueeze(dim=0).to(device)\n",
        "    prediction = model(tensor).squeeze(dim=0)\n",
        "    probability = torch.softmax(prediction, dim=-1)\n",
        "    predicted_class = prediction.argmax(dim=-1).item()\n",
        "    predicted_probability = probability[predicted_class].item()\n",
        "    return predicted_class, predicted_probability"
      ],
      "metadata": {
        "id": "0v1H59SvUR8I"
      },
      "execution_count": null,
      "outputs": []
    },
    {
      "cell_type": "code",
      "execution_count": null,
      "metadata": {
        "colab": {
          "base_uri": "https://localhost:8080/"
        },
        "id": "kIeuCsLp0Ipv",
        "outputId": "cd372b53-8e5d-41c5-828a-906a3829fb5a"
      },
      "outputs": [
        {
          "output_type": "execute_result",
          "data": {
            "text/plain": [
              "(2, 0.999862551689148)"
            ]
          },
          "metadata": {},
          "execution_count": 22
        }
      ],
      "source": [
        "text = \"With cas, we must assurance that, if we offers report on Members' activities, affirm, that such informations is complete.\"\n",
        "\n",
        "predict_class(text, model, tokenizer, vocab, device, min_length, pad_index)"
      ]
    },
    {
      "cell_type": "code",
      "source": [
        "max(filter_sizes)"
      ],
      "metadata": {
        "colab": {
          "base_uri": "https://localhost:8080/"
        },
        "id": "0XntJJJDaL5s",
        "outputId": "ebd2175c-e941-443e-e813-4213f3c817e5"
      },
      "execution_count": null,
      "outputs": [
        {
          "output_type": "execute_result",
          "data": {
            "text/plain": [
              "7"
            ]
          },
          "metadata": {},
          "execution_count": 21
        }
      ]
    },
    {
      "cell_type": "code",
      "source": [
        "!pip install textattack\n",
        "!pip install tensorflow_text"
      ],
      "metadata": {
        "colab": {
          "base_uri": "https://localhost:8080/",
          "height": 1000
        },
        "id": "ShFgauVXEyeM",
        "outputId": "4a9b3178-6294-4acb-f20f-1f03bc90f32f"
      },
      "execution_count": null,
      "outputs": [
        {
          "output_type": "stream",
          "name": "stdout",
          "text": [
            "Collecting textattack\n",
            "  Downloading textattack-0.3.4-py3-none-any.whl (373 kB)\n",
            "\u001b[?25l\r\u001b[K     |▉                               | 10 kB 8.4 MB/s eta 0:00:01\r\u001b[K     |█▊                              | 20 kB 13.2 MB/s eta 0:00:01\r\u001b[K     |██▋                             | 30 kB 17.4 MB/s eta 0:00:01\r\u001b[K     |███▌                            | 40 kB 13.7 MB/s eta 0:00:01\r\u001b[K     |████▍                           | 51 kB 13.2 MB/s eta 0:00:01\r\u001b[K     |█████▎                          | 61 kB 15.3 MB/s eta 0:00:01\r\u001b[K     |██████▏                         | 71 kB 10.6 MB/s eta 0:00:01\r\u001b[K     |███████                         | 81 kB 11.8 MB/s eta 0:00:01\r\u001b[K     |████████                        | 92 kB 13.0 MB/s eta 0:00:01\r\u001b[K     |████████▊                       | 102 kB 14.1 MB/s eta 0:00:01\r\u001b[K     |█████████▋                      | 112 kB 14.1 MB/s eta 0:00:01\r\u001b[K     |██████████▌                     | 122 kB 14.1 MB/s eta 0:00:01\r\u001b[K     |███████████▍                    | 133 kB 14.1 MB/s eta 0:00:01\r\u001b[K     |████████████▎                   | 143 kB 14.1 MB/s eta 0:00:01\r\u001b[K     |█████████████▏                  | 153 kB 14.1 MB/s eta 0:00:01\r\u001b[K     |██████████████                  | 163 kB 14.1 MB/s eta 0:00:01\r\u001b[K     |███████████████                 | 174 kB 14.1 MB/s eta 0:00:01\r\u001b[K     |███████████████▉                | 184 kB 14.1 MB/s eta 0:00:01\r\u001b[K     |████████████████▋               | 194 kB 14.1 MB/s eta 0:00:01\r\u001b[K     |█████████████████▌              | 204 kB 14.1 MB/s eta 0:00:01\r\u001b[K     |██████████████████▍             | 215 kB 14.1 MB/s eta 0:00:01\r\u001b[K     |███████████████████▎            | 225 kB 14.1 MB/s eta 0:00:01\r\u001b[K     |████████████████████▏           | 235 kB 14.1 MB/s eta 0:00:01\r\u001b[K     |█████████████████████           | 245 kB 14.1 MB/s eta 0:00:01\r\u001b[K     |██████████████████████          | 256 kB 14.1 MB/s eta 0:00:01\r\u001b[K     |██████████████████████▉         | 266 kB 14.1 MB/s eta 0:00:01\r\u001b[K     |███████████████████████▊        | 276 kB 14.1 MB/s eta 0:00:01\r\u001b[K     |████████████████████████▌       | 286 kB 14.1 MB/s eta 0:00:01\r\u001b[K     |█████████████████████████▍      | 296 kB 14.1 MB/s eta 0:00:01\r\u001b[K     |██████████████████████████▎     | 307 kB 14.1 MB/s eta 0:00:01\r\u001b[K     |███████████████████████████▏    | 317 kB 14.1 MB/s eta 0:00:01\r\u001b[K     |████████████████████████████    | 327 kB 14.1 MB/s eta 0:00:01\r\u001b[K     |█████████████████████████████   | 337 kB 14.1 MB/s eta 0:00:01\r\u001b[K     |█████████████████████████████▉  | 348 kB 14.1 MB/s eta 0:00:01\r\u001b[K     |██████████████████████████████▊ | 358 kB 14.1 MB/s eta 0:00:01\r\u001b[K     |███████████████████████████████▋| 368 kB 14.1 MB/s eta 0:00:01\r\u001b[K     |████████████████████████████████| 373 kB 14.1 MB/s \n",
            "\u001b[?25hCollecting terminaltables\n",
            "  Downloading terminaltables-3.1.10-py2.py3-none-any.whl (15 kB)\n",
            "Requirement already satisfied: torch!=1.8,>=1.7.0 in /usr/local/lib/python3.7/dist-packages (from textattack) (1.11.0+cu113)\n",
            "Collecting word2number\n",
            "  Downloading word2number-1.1.zip (9.7 kB)\n",
            "Collecting transformers>=3.3.0\n",
            "  Downloading transformers-4.18.0-py3-none-any.whl (4.0 MB)\n",
            "\u001b[K     |████████████████████████████████| 4.0 MB 60.3 MB/s \n",
            "\u001b[?25hRequirement already satisfied: scipy>=1.4.1 in /usr/local/lib/python3.7/dist-packages (from textattack) (1.4.1)\n",
            "Collecting flair\n",
            "  Downloading flair-0.11.1-py3-none-any.whl (401 kB)\n",
            "\u001b[K     |████████████████████████████████| 401 kB 75.5 MB/s \n",
            "\u001b[?25hCollecting num2words\n",
            "  Downloading num2words-0.5.10-py3-none-any.whl (101 kB)\n",
            "\u001b[K     |████████████████████████████████| 101 kB 11.9 MB/s \n",
            "\u001b[?25hRequirement already satisfied: pandas>=1.0.1 in /usr/local/lib/python3.7/dist-packages (from textattack) (1.3.5)\n",
            "Collecting lemminflect\n",
            "  Downloading lemminflect-0.2.2-py3-none-any.whl (769 kB)\n",
            "\u001b[K     |████████████████████████████████| 769 kB 61.6 MB/s \n",
            "\u001b[?25hRequirement already satisfied: nltk in /usr/local/lib/python3.7/dist-packages (from textattack) (3.2.5)\n",
            "Collecting tqdm<4.50.0,>=4.27\n",
            "  Downloading tqdm-4.49.0-py2.py3-none-any.whl (69 kB)\n",
            "\u001b[K     |████████████████████████████████| 69 kB 10.1 MB/s \n",
            "\u001b[?25hRequirement already satisfied: filelock in /usr/local/lib/python3.7/dist-packages (from textattack) (3.6.0)\n",
            "Collecting language-tool-python\n",
            "  Downloading language_tool_python-2.7.1-py3-none-any.whl (34 kB)\n",
            "Requirement already satisfied: editdistance in /usr/local/lib/python3.7/dist-packages (from textattack) (0.5.3)\n",
            "Requirement already satisfied: numpy>=1.19.2 in /usr/local/lib/python3.7/dist-packages (from textattack) (1.21.6)\n",
            "Requirement already satisfied: datasets in /usr/local/lib/python3.7/dist-packages (from textattack) (2.1.0)\n",
            "Requirement already satisfied: more-itertools in /usr/local/lib/python3.7/dist-packages (from textattack) (8.12.0)\n",
            "Requirement already satisfied: PySocks!=1.5.7,>=1.5.6 in /usr/local/lib/python3.7/dist-packages (from textattack) (1.7.1)\n",
            "Collecting lru-dict\n",
            "  Downloading lru-dict-1.1.7.tar.gz (10 kB)\n",
            "Collecting bert-score>=0.3.5\n",
            "  Downloading bert_score-0.3.11-py3-none-any.whl (60 kB)\n",
            "\u001b[K     |████████████████████████████████| 60 kB 9.1 MB/s \n",
            "\u001b[?25hRequirement already satisfied: requests in /usr/local/lib/python3.7/dist-packages (from bert-score>=0.3.5->textattack) (2.23.0)\n",
            "Requirement already satisfied: packaging>=20.9 in /usr/local/lib/python3.7/dist-packages (from bert-score>=0.3.5->textattack) (21.3)\n",
            "Requirement already satisfied: matplotlib in /usr/local/lib/python3.7/dist-packages (from bert-score>=0.3.5->textattack) (3.2.2)\n",
            "Requirement already satisfied: pyparsing!=3.0.5,>=2.0.2 in /usr/local/lib/python3.7/dist-packages (from packaging>=20.9->bert-score>=0.3.5->textattack) (3.0.8)\n",
            "Requirement already satisfied: python-dateutil>=2.7.3 in /usr/local/lib/python3.7/dist-packages (from pandas>=1.0.1->textattack) (2.8.2)\n",
            "Requirement already satisfied: pytz>=2017.3 in /usr/local/lib/python3.7/dist-packages (from pandas>=1.0.1->textattack) (2022.1)\n",
            "Requirement already satisfied: six>=1.5 in /usr/local/lib/python3.7/dist-packages (from python-dateutil>=2.7.3->pandas>=1.0.1->textattack) (1.15.0)\n",
            "Requirement already satisfied: typing-extensions in /usr/local/lib/python3.7/dist-packages (from torch!=1.8,>=1.7.0->textattack) (4.2.0)\n",
            "Collecting tokenizers!=0.11.3,<0.13,>=0.11.1\n",
            "  Downloading tokenizers-0.12.1-cp37-cp37m-manylinux_2_12_x86_64.manylinux2010_x86_64.whl (6.6 MB)\n",
            "\u001b[K     |████████████████████████████████| 6.6 MB 52.6 MB/s \n",
            "\u001b[?25hCollecting pyyaml>=5.1\n",
            "  Downloading PyYAML-6.0-cp37-cp37m-manylinux_2_5_x86_64.manylinux1_x86_64.manylinux_2_12_x86_64.manylinux2010_x86_64.whl (596 kB)\n",
            "\u001b[K     |████████████████████████████████| 596 kB 72.9 MB/s \n",
            "\u001b[?25hRequirement already satisfied: importlib-metadata in /usr/local/lib/python3.7/dist-packages (from transformers>=3.3.0->textattack) (4.11.3)\n",
            "Requirement already satisfied: huggingface-hub<1.0,>=0.1.0 in /usr/local/lib/python3.7/dist-packages (from transformers>=3.3.0->textattack) (0.5.1)\n",
            "Requirement already satisfied: regex!=2019.12.17 in /usr/local/lib/python3.7/dist-packages (from transformers>=3.3.0->textattack) (2019.12.20)\n",
            "Collecting sacremoses\n",
            "  Downloading sacremoses-0.0.49-py3-none-any.whl (895 kB)\n",
            "\u001b[K     |████████████████████████████████| 895 kB 64.1 MB/s \n",
            "\u001b[?25hCollecting datasets\n",
            "  Downloading datasets-2.0.0-py3-none-any.whl (325 kB)\n",
            "\u001b[K     |████████████████████████████████| 325 kB 62.6 MB/s \n",
            "\u001b[?25h  Downloading datasets-1.18.4-py3-none-any.whl (312 kB)\n",
            "\u001b[K     |████████████████████████████████| 312 kB 74.6 MB/s \n",
            "\u001b[?25h  Downloading datasets-1.18.3-py3-none-any.whl (311 kB)\n",
            "\u001b[K     |████████████████████████████████| 311 kB 71.0 MB/s \n",
            "\u001b[?25h  Downloading datasets-1.18.2-py3-none-any.whl (312 kB)\n",
            "\u001b[K     |████████████████████████████████| 312 kB 78.6 MB/s \n",
            "\u001b[?25h  Downloading datasets-1.18.1-py3-none-any.whl (311 kB)\n",
            "\u001b[K     |████████████████████████████████| 311 kB 75.7 MB/s \n",
            "\u001b[?25h  Downloading datasets-1.18.0-py3-none-any.whl (311 kB)\n",
            "\u001b[K     |████████████████████████████████| 311 kB 76.3 MB/s \n",
            "\u001b[?25h  Downloading datasets-1.17.0-py3-none-any.whl (306 kB)\n",
            "\u001b[K     |████████████████████████████████| 306 kB 71.0 MB/s \n",
            "\u001b[?25h  Downloading datasets-1.16.1-py3-none-any.whl (298 kB)\n",
            "\u001b[K     |████████████████████████████████| 298 kB 77.6 MB/s \n",
            "\u001b[?25h  Downloading datasets-1.16.0-py3-none-any.whl (298 kB)\n",
            "\u001b[K     |████████████████████████████████| 298 kB 77.7 MB/s \n",
            "\u001b[?25h  Downloading datasets-1.15.1-py3-none-any.whl (290 kB)\n",
            "\u001b[K     |████████████████████████████████| 290 kB 77.6 MB/s \n",
            "\u001b[?25h  Downloading datasets-1.15.0-py3-none-any.whl (290 kB)\n",
            "\u001b[K     |████████████████████████████████| 290 kB 79.2 MB/s \n",
            "\u001b[?25h  Downloading datasets-1.14.0-py3-none-any.whl (290 kB)\n",
            "\u001b[K     |████████████████████████████████| 290 kB 69.7 MB/s \n",
            "\u001b[?25h  Downloading datasets-1.13.3-py3-none-any.whl (287 kB)\n",
            "\u001b[K     |████████████████████████████████| 287 kB 78.0 MB/s \n",
            "\u001b[?25h  Downloading datasets-1.13.2-py3-none-any.whl (287 kB)\n",
            "\u001b[K     |████████████████████████████████| 287 kB 77.1 MB/s \n",
            "\u001b[?25h  Downloading datasets-1.13.1-py3-none-any.whl (287 kB)\n",
            "\u001b[K     |████████████████████████████████| 287 kB 78.4 MB/s \n",
            "\u001b[?25h  Downloading datasets-1.13.0-py3-none-any.whl (285 kB)\n",
            "\u001b[K     |████████████████████████████████| 285 kB 44.3 MB/s \n",
            "\u001b[?25h  Downloading datasets-1.12.1-py3-none-any.whl (270 kB)\n",
            "\u001b[K     |████████████████████████████████| 270 kB 65.2 MB/s \n",
            "\u001b[?25h  Downloading datasets-1.12.0-py3-none-any.whl (269 kB)\n",
            "\u001b[K     |████████████████████████████████| 269 kB 80.9 MB/s \n",
            "\u001b[?25h  Downloading datasets-1.11.0-py3-none-any.whl (264 kB)\n",
            "\u001b[K     |████████████████████████████████| 264 kB 72.8 MB/s \n",
            "\u001b[?25h  Downloading datasets-1.10.2-py3-none-any.whl (542 kB)\n",
            "\u001b[K     |████████████████████████████████| 542 kB 75.7 MB/s \n",
            "\u001b[?25h  Downloading datasets-1.10.1-py3-none-any.whl (542 kB)\n",
            "\u001b[K     |████████████████████████████████| 542 kB 73.0 MB/s \n",
            "\u001b[?25h  Downloading datasets-1.10.0-py3-none-any.whl (542 kB)\n",
            "\u001b[K     |████████████████████████████████| 542 kB 72.3 MB/s \n",
            "\u001b[?25h  Downloading datasets-1.9.0-py3-none-any.whl (262 kB)\n",
            "\u001b[K     |████████████████████████████████| 262 kB 77.6 MB/s \n",
            "\u001b[?25h  Downloading datasets-1.8.0-py3-none-any.whl (237 kB)\n",
            "\u001b[K     |████████████████████████████████| 237 kB 60.8 MB/s \n",
            "\u001b[?25h  Downloading datasets-1.7.0-py3-none-any.whl (234 kB)\n",
            "\u001b[K     |████████████████████████████████| 234 kB 13.9 MB/s \n",
            "\u001b[?25h  Downloading datasets-1.6.2-py3-none-any.whl (221 kB)\n",
            "\u001b[K     |████████████████████████████████| 221 kB 62.0 MB/s \n",
            "\u001b[?25h  Downloading datasets-1.6.1-py3-none-any.whl (220 kB)\n",
            "\u001b[K     |████████████████████████████████| 220 kB 72.6 MB/s \n",
            "\u001b[?25h  Downloading datasets-1.6.0-py3-none-any.whl (202 kB)\n",
            "\u001b[K     |████████████████████████████████| 202 kB 57.7 MB/s \n",
            "\u001b[?25h  Downloading datasets-1.5.0-py3-none-any.whl (192 kB)\n",
            "\u001b[K     |████████████████████████████████| 192 kB 66.0 MB/s \n",
            "\u001b[?25h  Downloading datasets-1.4.1-py3-none-any.whl (186 kB)\n",
            "\u001b[K     |████████████████████████████████| 186 kB 37.6 MB/s \n",
            "\u001b[?25hRequirement already satisfied: dill in /usr/local/lib/python3.7/dist-packages (from datasets->textattack) (0.3.4)\n",
            "Requirement already satisfied: fsspec in /usr/local/lib/python3.7/dist-packages (from datasets->textattack) (2022.3.0)\n",
            "Requirement already satisfied: multiprocess in /usr/local/lib/python3.7/dist-packages (from datasets->textattack) (0.70.12.2)\n",
            "Requirement already satisfied: xxhash in /usr/local/lib/python3.7/dist-packages (from datasets->textattack) (3.0.0)\n",
            "  Downloading datasets-1.4.0-py3-none-any.whl (186 kB)\n",
            "\u001b[K     |████████████████████████████████| 186 kB 47.0 MB/s \n",
            "\u001b[?25h  Downloading datasets-1.3.0-py3-none-any.whl (181 kB)\n",
            "\u001b[K     |████████████████████████████████| 181 kB 55.9 MB/s \n",
            "\u001b[?25h  Downloading datasets-1.2.1-py3-none-any.whl (159 kB)\n",
            "\u001b[K     |████████████████████████████████| 159 kB 60.0 MB/s \n",
            "\u001b[?25hRequirement already satisfied: pyarrow>=0.17.1 in /usr/local/lib/python3.7/dist-packages (from datasets->textattack) (6.0.1)\n",
            "Requirement already satisfied: urllib3!=1.25.0,!=1.25.1,<1.26,>=1.21.1 in /usr/local/lib/python3.7/dist-packages (from requests->bert-score>=0.3.5->textattack) (1.25.11)\n",
            "Requirement already satisfied: chardet<4,>=3.0.2 in /usr/local/lib/python3.7/dist-packages (from requests->bert-score>=0.3.5->textattack) (3.0.4)\n",
            "Requirement already satisfied: idna<3,>=2.5 in /usr/local/lib/python3.7/dist-packages (from requests->bert-score>=0.3.5->textattack) (2.10)\n",
            "Requirement already satisfied: certifi>=2017.4.17 in /usr/local/lib/python3.7/dist-packages (from requests->bert-score>=0.3.5->textattack) (2021.10.8)\n",
            "Collecting sentencepiece==0.1.95\n",
            "  Downloading sentencepiece-0.1.95-cp37-cp37m-manylinux2014_x86_64.whl (1.2 MB)\n",
            "\u001b[K     |████████████████████████████████| 1.2 MB 51.1 MB/s \n",
            "\u001b[?25hRequirement already satisfied: scikit-learn>=0.21.3 in /usr/local/lib/python3.7/dist-packages (from flair->textattack) (1.0.2)\n",
            "Collecting conllu>=4.0\n",
            "  Downloading conllu-4.4.1-py2.py3-none-any.whl (15 kB)\n",
            "Collecting sqlitedict>=1.6.0\n",
            "  Downloading sqlitedict-2.0.0.tar.gz (46 kB)\n",
            "\u001b[K     |████████████████████████████████| 46 kB 4.6 MB/s \n",
            "\u001b[?25hCollecting more-itertools\n",
            "  Downloading more_itertools-8.8.0-py3-none-any.whl (48 kB)\n",
            "\u001b[K     |████████████████████████████████| 48 kB 6.5 MB/s \n",
            "\u001b[?25hCollecting bpemb>=0.3.2\n",
            "  Downloading bpemb-0.3.3-py3-none-any.whl (19 kB)\n",
            "Collecting hyperopt>=0.2.7\n",
            "  Downloading hyperopt-0.2.7-py2.py3-none-any.whl (1.6 MB)\n",
            "\u001b[K     |████████████████████████████████| 1.6 MB 50.7 MB/s \n",
            "\u001b[?25hRequirement already satisfied: gensim>=3.4.0 in /usr/local/lib/python3.7/dist-packages (from flair->textattack) (3.6.0)\n",
            "Requirement already satisfied: tabulate in /usr/local/lib/python3.7/dist-packages (from flair->textattack) (0.8.9)\n",
            "Collecting wikipedia-api\n",
            "  Downloading Wikipedia-API-0.5.4.tar.gz (18 kB)\n",
            "Collecting langdetect\n",
            "  Downloading langdetect-1.0.9.tar.gz (981 kB)\n",
            "\u001b[K     |████████████████████████████████| 981 kB 57.0 MB/s \n",
            "\u001b[?25hCollecting janome\n",
            "  Downloading Janome-0.4.2-py2.py3-none-any.whl (19.7 MB)\n",
            "\u001b[K     |████████████████████████████████| 19.7 MB 1.2 MB/s \n",
            "\u001b[?25hRequirement already satisfied: lxml in /usr/local/lib/python3.7/dist-packages (from flair->textattack) (4.2.6)\n",
            "Collecting mpld3==0.3\n",
            "  Downloading mpld3-0.3.tar.gz (788 kB)\n",
            "\u001b[K     |████████████████████████████████| 788 kB 69.6 MB/s \n",
            "\u001b[?25hCollecting segtok>=1.5.7\n",
            "  Downloading segtok-1.5.11-py3-none-any.whl (24 kB)\n",
            "Collecting gdown==3.12.2\n",
            "  Downloading gdown-3.12.2.tar.gz (8.2 kB)\n",
            "  Installing build dependencies ... \u001b[?25l\u001b[?25hdone\n",
            "  Getting requirements to build wheel ... \u001b[?25l\u001b[?25hdone\n",
            "    Preparing wheel metadata ... \u001b[?25l\u001b[?25hdone\n",
            "Collecting ftfy\n",
            "  Downloading ftfy-6.1.1-py3-none-any.whl (53 kB)\n",
            "\u001b[K     |████████████████████████████████| 53 kB 2.1 MB/s \n",
            "\u001b[?25hCollecting konoha<5.0.0,>=4.0.0\n",
            "  Downloading konoha-4.6.5-py3-none-any.whl (20 kB)\n",
            "Collecting pptree\n",
            "  Downloading pptree-3.1.tar.gz (3.0 kB)\n",
            "Collecting deprecated>=1.2.4\n",
            "  Downloading Deprecated-1.2.13-py2.py3-none-any.whl (9.6 kB)\n",
            "Requirement already satisfied: wrapt<2,>=1.10 in /usr/local/lib/python3.7/dist-packages (from deprecated>=1.2.4->flair->textattack) (1.14.0)\n",
            "Requirement already satisfied: smart-open>=1.2.1 in /usr/local/lib/python3.7/dist-packages (from gensim>=3.4.0->flair->textattack) (6.0.0)\n",
            "Requirement already satisfied: future in /usr/local/lib/python3.7/dist-packages (from hyperopt>=0.2.7->flair->textattack) (0.16.0)\n",
            "Collecting py4j\n",
            "  Downloading py4j-0.10.9.5-py2.py3-none-any.whl (199 kB)\n",
            "\u001b[K     |████████████████████████████████| 199 kB 73.1 MB/s \n",
            "\u001b[?25hRequirement already satisfied: networkx>=2.2 in /usr/local/lib/python3.7/dist-packages (from hyperopt>=0.2.7->flair->textattack) (2.6.3)\n",
            "Requirement already satisfied: cloudpickle in /usr/local/lib/python3.7/dist-packages (from hyperopt>=0.2.7->flair->textattack) (1.3.0)\n",
            "Collecting overrides<4.0.0,>=3.0.0\n",
            "  Downloading overrides-3.1.0.tar.gz (11 kB)\n",
            "Collecting importlib-metadata\n",
            "  Downloading importlib_metadata-3.10.1-py3-none-any.whl (14 kB)\n",
            "Collecting requests\n",
            "  Downloading requests-2.27.1-py2.py3-none-any.whl (63 kB)\n",
            "\u001b[K     |████████████████████████████████| 63 kB 2.0 MB/s \n",
            "\u001b[?25hRequirement already satisfied: zipp>=0.5 in /usr/local/lib/python3.7/dist-packages (from importlib-metadata->transformers>=3.3.0->textattack) (3.8.0)\n",
            "Requirement already satisfied: cycler>=0.10 in /usr/local/lib/python3.7/dist-packages (from matplotlib->bert-score>=0.3.5->textattack) (0.11.0)\n",
            "Requirement already satisfied: kiwisolver>=1.0.1 in /usr/local/lib/python3.7/dist-packages (from matplotlib->bert-score>=0.3.5->textattack) (1.4.2)\n",
            "Requirement already satisfied: charset-normalizer~=2.0.0 in /usr/local/lib/python3.7/dist-packages (from requests->bert-score>=0.3.5->textattack) (2.0.12)\n",
            "Requirement already satisfied: joblib>=0.11 in /usr/local/lib/python3.7/dist-packages (from scikit-learn>=0.21.3->flair->textattack) (1.1.0)\n",
            "Requirement already satisfied: threadpoolctl>=2.0.0 in /usr/local/lib/python3.7/dist-packages (from scikit-learn>=0.21.3->flair->textattack) (3.1.0)\n",
            "Requirement already satisfied: wcwidth>=0.2.5 in /usr/local/lib/python3.7/dist-packages (from ftfy->flair->textattack) (0.2.5)\n",
            "Requirement already satisfied: docopt>=0.6.2 in /usr/local/lib/python3.7/dist-packages (from num2words->textattack) (0.6.2)\n",
            "Requirement already satisfied: click in /usr/local/lib/python3.7/dist-packages (from sacremoses->transformers>=3.3.0->textattack) (7.1.2)\n",
            "Building wheels for collected packages: gdown, mpld3, overrides, sqlitedict, langdetect, lru-dict, pptree, wikipedia-api, word2number\n",
            "  Building wheel for gdown (PEP 517) ... \u001b[?25l\u001b[?25hdone\n",
            "  Created wheel for gdown: filename=gdown-3.12.2-py3-none-any.whl size=9692 sha256=ee0bbb9273757310171e42e7aa822be24dfaa5e60e597aab3a66c7e36ae96e1f\n",
            "  Stored in directory: /root/.cache/pip/wheels/ba/e0/7e/726e872a53f7358b4b96a9975b04e98113b005cd8609a63abc\n",
            "  Building wheel for mpld3 (setup.py) ... \u001b[?25l\u001b[?25hdone\n",
            "  Created wheel for mpld3: filename=mpld3-0.3-py3-none-any.whl size=116702 sha256=47bbcf0595aed28def67a01252367e6e010fcc288450e8024165b7fbe4858977\n",
            "  Stored in directory: /root/.cache/pip/wheels/26/70/6a/1c79e59951a41b4045497da187b2724f5659ca64033cf4548e\n",
            "  Building wheel for overrides (setup.py) ... \u001b[?25l\u001b[?25hdone\n",
            "  Created wheel for overrides: filename=overrides-3.1.0-py3-none-any.whl size=10187 sha256=fd6beba9072bbbe52a1862f88fad746b2b22a812651fa87c7e5e6ad118be0716\n",
            "  Stored in directory: /root/.cache/pip/wheels/3a/0d/38/01a9bc6e20dcfaf0a6a7b552d03137558ba1c38aea47644682\n",
            "  Building wheel for sqlitedict (setup.py) ... \u001b[?25l\u001b[?25hdone\n",
            "  Created wheel for sqlitedict: filename=sqlitedict-2.0.0-py3-none-any.whl size=15736 sha256=74ab5a668472ebe3efa4959b48bceb2be2bb46437749240ca11261ddfbe951fa\n",
            "  Stored in directory: /root/.cache/pip/wheels/96/dd/2e/0ed4a25cb73fc30c7ea8d10b50acb7226175736067e40a7ea3\n",
            "  Building wheel for langdetect (setup.py) ... \u001b[?25l\u001b[?25hdone\n",
            "  Created wheel for langdetect: filename=langdetect-1.0.9-py3-none-any.whl size=993242 sha256=34ede7788b39f231424264b0fd01b4a1e4fd57e1e1692140d1143141f866025a\n",
            "  Stored in directory: /root/.cache/pip/wheels/c5/96/8a/f90c59ed25d75e50a8c10a1b1c2d4c402e4dacfa87f3aff36a\n",
            "  Building wheel for lru-dict (setup.py) ... \u001b[?25l\u001b[?25hdone\n",
            "  Created wheel for lru-dict: filename=lru_dict-1.1.7-cp37-cp37m-linux_x86_64.whl size=28427 sha256=ca0a3663da2f5421e27293f2ed9d2fedb9d688da47555e93284a7df6a35ef7c5\n",
            "  Stored in directory: /root/.cache/pip/wheels/9d/0b/4e/aa8fec9833090cd52bcd76f92f9d95e1ee7b915c12093663b4\n",
            "  Building wheel for pptree (setup.py) ... \u001b[?25l\u001b[?25hdone\n",
            "  Created wheel for pptree: filename=pptree-3.1-py3-none-any.whl size=4629 sha256=19528f7bd0913b4e6bddd8376b899222cfdea507905e1d0d8a41b1771ef54628\n",
            "  Stored in directory: /root/.cache/pip/wheels/9e/e8/7d/a9c3c19b4722608a0d8b05a38c36bc3f230c43becd2a46794b\n",
            "  Building wheel for wikipedia-api (setup.py) ... \u001b[?25l\u001b[?25hdone\n",
            "  Created wheel for wikipedia-api: filename=Wikipedia_API-0.5.4-py3-none-any.whl size=13477 sha256=ce304fc0f2ccdeb7a9405e827134fdf1b13a6081bff0c911b2f0d85992addefa\n",
            "  Stored in directory: /root/.cache/pip/wheels/d3/24/56/58ba93cf78be162451144e7a9889603f437976ef1ae7013d04\n",
            "  Building wheel for word2number (setup.py) ... \u001b[?25l\u001b[?25hdone\n",
            "  Created wheel for word2number: filename=word2number-1.1-py3-none-any.whl size=5582 sha256=62b840676c00a5a5022c60199a53c7ed4ac7cab24263f99d16fad183c7fefa56\n",
            "  Stored in directory: /root/.cache/pip/wheels/4b/c3/77/a5f48aeb0d3efb7cd5ad61cbd3da30bbf9ffc9662b07c9f879\n",
            "Successfully built gdown mpld3 overrides sqlitedict langdetect lru-dict pptree wikipedia-api word2number\n",
            "Installing collected packages: tqdm, requests, pyyaml, importlib-metadata, tokenizers, sentencepiece, sacremoses, py4j, overrides, wikipedia-api, transformers, sqlitedict, segtok, pptree, mpld3, more-itertools, langdetect, konoha, janome, hyperopt, gdown, ftfy, deprecated, conllu, bpemb, word2number, terminaltables, num2words, lru-dict, lemminflect, language-tool-python, flair, datasets, bert-score, textattack\n",
            "  Attempting uninstall: tqdm\n",
            "    Found existing installation: tqdm 4.64.0\n",
            "    Uninstalling tqdm-4.64.0:\n",
            "      Successfully uninstalled tqdm-4.64.0\n",
            "  Attempting uninstall: requests\n",
            "    Found existing installation: requests 2.23.0\n",
            "    Uninstalling requests-2.23.0:\n",
            "      Successfully uninstalled requests-2.23.0\n",
            "  Attempting uninstall: pyyaml\n",
            "    Found existing installation: PyYAML 3.13\n",
            "    Uninstalling PyYAML-3.13:\n",
            "      Successfully uninstalled PyYAML-3.13\n",
            "  Attempting uninstall: importlib-metadata\n",
            "    Found existing installation: importlib-metadata 4.11.3\n",
            "    Uninstalling importlib-metadata-4.11.3:\n",
            "      Successfully uninstalled importlib-metadata-4.11.3\n",
            "  Attempting uninstall: more-itertools\n",
            "    Found existing installation: more-itertools 8.12.0\n",
            "    Uninstalling more-itertools-8.12.0:\n",
            "      Successfully uninstalled more-itertools-8.12.0\n",
            "  Attempting uninstall: hyperopt\n",
            "    Found existing installation: hyperopt 0.1.2\n",
            "    Uninstalling hyperopt-0.1.2:\n",
            "      Successfully uninstalled hyperopt-0.1.2\n",
            "  Attempting uninstall: gdown\n",
            "    Found existing installation: gdown 4.4.0\n",
            "    Uninstalling gdown-4.4.0:\n",
            "      Successfully uninstalled gdown-4.4.0\n",
            "  Attempting uninstall: datasets\n",
            "    Found existing installation: datasets 2.1.0\n",
            "    Uninstalling datasets-2.1.0:\n",
            "      Successfully uninstalled datasets-2.1.0\n",
            "\u001b[31mERROR: pip's dependency resolver does not currently take into account all the packages that are installed. This behaviour is the source of the following dependency conflicts.\n",
            "markdown 3.3.6 requires importlib-metadata>=4.4; python_version < \"3.10\", but you have importlib-metadata 3.10.1 which is incompatible.\n",
            "google-colab 1.0.0 requires requests~=2.23.0, but you have requests 2.27.1 which is incompatible.\n",
            "datascience 0.10.6 requires folium==0.2.1, but you have folium 0.8.3 which is incompatible.\u001b[0m\n",
            "Successfully installed bert-score-0.3.11 bpemb-0.3.3 conllu-4.4.1 datasets-1.2.1 deprecated-1.2.13 flair-0.11.1 ftfy-6.1.1 gdown-3.12.2 hyperopt-0.2.7 importlib-metadata-3.10.1 janome-0.4.2 konoha-4.6.5 langdetect-1.0.9 language-tool-python-2.7.1 lemminflect-0.2.2 lru-dict-1.1.7 more-itertools-8.8.0 mpld3-0.3 num2words-0.5.10 overrides-3.1.0 pptree-3.1 py4j-0.10.9.5 pyyaml-6.0 requests-2.27.1 sacremoses-0.0.49 segtok-1.5.11 sentencepiece-0.1.95 sqlitedict-2.0.0 terminaltables-3.1.10 textattack-0.3.4 tokenizers-0.12.1 tqdm-4.49.0 transformers-4.18.0 wikipedia-api-0.5.4 word2number-1.1\n"
          ]
        },
        {
          "output_type": "display_data",
          "data": {
            "application/vnd.colab-display-data+json": {
              "pip_warning": {
                "packages": [
                  "datasets",
                  "importlib_metadata",
                  "requests",
                  "tqdm",
                  "yaml"
                ]
              }
            }
          },
          "metadata": {}
        },
        {
          "output_type": "stream",
          "name": "stdout",
          "text": [
            "Collecting tensorflow_text\n",
            "  Downloading tensorflow_text-2.8.2-cp37-cp37m-manylinux_2_12_x86_64.manylinux2010_x86_64.whl (4.9 MB)\n",
            "\u001b[K     |████████████████████████████████| 4.9 MB 15.4 MB/s \n",
            "\u001b[?25hRequirement already satisfied: tensorflow-hub>=0.8.0 in /usr/local/lib/python3.7/dist-packages (from tensorflow_text) (0.12.0)\n",
            "Requirement already satisfied: tensorflow<2.9,>=2.8.0 in /usr/local/lib/python3.7/dist-packages (from tensorflow_text) (2.8.0)\n",
            "Requirement already satisfied: gast>=0.2.1 in /usr/local/lib/python3.7/dist-packages (from tensorflow<2.9,>=2.8.0->tensorflow_text) (0.5.3)\n",
            "Requirement already satisfied: libclang>=9.0.1 in /usr/local/lib/python3.7/dist-packages (from tensorflow<2.9,>=2.8.0->tensorflow_text) (14.0.1)\n",
            "Requirement already satisfied: keras<2.9,>=2.8.0rc0 in /usr/local/lib/python3.7/dist-packages (from tensorflow<2.9,>=2.8.0->tensorflow_text) (2.8.0)\n",
            "Requirement already satisfied: keras-preprocessing>=1.1.1 in /usr/local/lib/python3.7/dist-packages (from tensorflow<2.9,>=2.8.0->tensorflow_text) (1.1.2)\n",
            "Requirement already satisfied: termcolor>=1.1.0 in /usr/local/lib/python3.7/dist-packages (from tensorflow<2.9,>=2.8.0->tensorflow_text) (1.1.0)\n",
            "Requirement already satisfied: typing-extensions>=3.6.6 in /usr/local/lib/python3.7/dist-packages (from tensorflow<2.9,>=2.8.0->tensorflow_text) (4.2.0)\n",
            "Requirement already satisfied: grpcio<2.0,>=1.24.3 in /usr/local/lib/python3.7/dist-packages (from tensorflow<2.9,>=2.8.0->tensorflow_text) (1.44.0)\n",
            "Requirement already satisfied: absl-py>=0.4.0 in /usr/local/lib/python3.7/dist-packages (from tensorflow<2.9,>=2.8.0->tensorflow_text) (1.0.0)\n",
            "Requirement already satisfied: numpy>=1.20 in /usr/local/lib/python3.7/dist-packages (from tensorflow<2.9,>=2.8.0->tensorflow_text) (1.21.6)\n",
            "Requirement already satisfied: h5py>=2.9.0 in /usr/local/lib/python3.7/dist-packages (from tensorflow<2.9,>=2.8.0->tensorflow_text) (3.1.0)\n",
            "Requirement already satisfied: tensorboard<2.9,>=2.8 in /usr/local/lib/python3.7/dist-packages (from tensorflow<2.9,>=2.8.0->tensorflow_text) (2.8.0)\n",
            "Collecting tf-estimator-nightly==2.8.0.dev2021122109\n",
            "  Downloading tf_estimator_nightly-2.8.0.dev2021122109-py2.py3-none-any.whl (462 kB)\n",
            "\u001b[K     |████████████████████████████████| 462 kB 64.8 MB/s \n",
            "\u001b[?25hRequirement already satisfied: six>=1.12.0 in /usr/local/lib/python3.7/dist-packages (from tensorflow<2.9,>=2.8.0->tensorflow_text) (1.15.0)\n",
            "Requirement already satisfied: flatbuffers>=1.12 in /usr/local/lib/python3.7/dist-packages (from tensorflow<2.9,>=2.8.0->tensorflow_text) (2.0)\n",
            "Requirement already satisfied: astunparse>=1.6.0 in /usr/local/lib/python3.7/dist-packages (from tensorflow<2.9,>=2.8.0->tensorflow_text) (1.6.3)\n",
            "Requirement already satisfied: protobuf>=3.9.2 in /usr/local/lib/python3.7/dist-packages (from tensorflow<2.9,>=2.8.0->tensorflow_text) (3.17.3)\n",
            "Requirement already satisfied: wrapt>=1.11.0 in /usr/local/lib/python3.7/dist-packages (from tensorflow<2.9,>=2.8.0->tensorflow_text) (1.14.0)\n",
            "Requirement already satisfied: opt-einsum>=2.3.2 in /usr/local/lib/python3.7/dist-packages (from tensorflow<2.9,>=2.8.0->tensorflow_text) (3.3.0)\n",
            "Requirement already satisfied: google-pasta>=0.1.1 in /usr/local/lib/python3.7/dist-packages (from tensorflow<2.9,>=2.8.0->tensorflow_text) (0.2.0)\n",
            "Requirement already satisfied: setuptools in /usr/local/lib/python3.7/dist-packages (from tensorflow<2.9,>=2.8.0->tensorflow_text) (57.4.0)\n",
            "Requirement already satisfied: tensorflow-io-gcs-filesystem>=0.23.1 in /usr/local/lib/python3.7/dist-packages (from tensorflow<2.9,>=2.8.0->tensorflow_text) (0.25.0)\n",
            "Requirement already satisfied: wheel<1.0,>=0.23.0 in /usr/local/lib/python3.7/dist-packages (from astunparse>=1.6.0->tensorflow<2.9,>=2.8.0->tensorflow_text) (0.37.1)\n",
            "Requirement already satisfied: cached-property in /usr/local/lib/python3.7/dist-packages (from h5py>=2.9.0->tensorflow<2.9,>=2.8.0->tensorflow_text) (1.5.2)\n",
            "Requirement already satisfied: tensorboard-data-server<0.7.0,>=0.6.0 in /usr/local/lib/python3.7/dist-packages (from tensorboard<2.9,>=2.8->tensorflow<2.9,>=2.8.0->tensorflow_text) (0.6.1)\n",
            "Requirement already satisfied: tensorboard-plugin-wit>=1.6.0 in /usr/local/lib/python3.7/dist-packages (from tensorboard<2.9,>=2.8->tensorflow<2.9,>=2.8.0->tensorflow_text) (1.8.1)\n",
            "Requirement already satisfied: werkzeug>=0.11.15 in /usr/local/lib/python3.7/dist-packages (from tensorboard<2.9,>=2.8->tensorflow<2.9,>=2.8.0->tensorflow_text) (1.0.1)\n",
            "Requirement already satisfied: markdown>=2.6.8 in /usr/local/lib/python3.7/dist-packages (from tensorboard<2.9,>=2.8->tensorflow<2.9,>=2.8.0->tensorflow_text) (3.3.6)\n",
            "Requirement already satisfied: google-auth<3,>=1.6.3 in /usr/local/lib/python3.7/dist-packages (from tensorboard<2.9,>=2.8->tensorflow<2.9,>=2.8.0->tensorflow_text) (1.35.0)\n",
            "Requirement already satisfied: google-auth-oauthlib<0.5,>=0.4.1 in /usr/local/lib/python3.7/dist-packages (from tensorboard<2.9,>=2.8->tensorflow<2.9,>=2.8.0->tensorflow_text) (0.4.6)\n",
            "Requirement already satisfied: requests<3,>=2.21.0 in /usr/local/lib/python3.7/dist-packages (from tensorboard<2.9,>=2.8->tensorflow<2.9,>=2.8.0->tensorflow_text) (2.27.1)\n",
            "Requirement already satisfied: pyasn1-modules>=0.2.1 in /usr/local/lib/python3.7/dist-packages (from google-auth<3,>=1.6.3->tensorboard<2.9,>=2.8->tensorflow<2.9,>=2.8.0->tensorflow_text) (0.2.8)\n",
            "Requirement already satisfied: cachetools<5.0,>=2.0.0 in /usr/local/lib/python3.7/dist-packages (from google-auth<3,>=1.6.3->tensorboard<2.9,>=2.8->tensorflow<2.9,>=2.8.0->tensorflow_text) (4.2.4)\n",
            "Requirement already satisfied: rsa<5,>=3.1.4 in /usr/local/lib/python3.7/dist-packages (from google-auth<3,>=1.6.3->tensorboard<2.9,>=2.8->tensorflow<2.9,>=2.8.0->tensorflow_text) (4.8)\n",
            "Requirement already satisfied: requests-oauthlib>=0.7.0 in /usr/local/lib/python3.7/dist-packages (from google-auth-oauthlib<0.5,>=0.4.1->tensorboard<2.9,>=2.8->tensorflow<2.9,>=2.8.0->tensorflow_text) (1.3.1)\n",
            "Collecting importlib-metadata>=4.4\n",
            "  Downloading importlib_metadata-4.11.3-py3-none-any.whl (18 kB)\n",
            "Requirement already satisfied: zipp>=0.5 in /usr/local/lib/python3.7/dist-packages (from importlib-metadata>=4.4->markdown>=2.6.8->tensorboard<2.9,>=2.8->tensorflow<2.9,>=2.8.0->tensorflow_text) (3.8.0)\n",
            "Requirement already satisfied: pyasn1<0.5.0,>=0.4.6 in /usr/local/lib/python3.7/dist-packages (from pyasn1-modules>=0.2.1->google-auth<3,>=1.6.3->tensorboard<2.9,>=2.8->tensorflow<2.9,>=2.8.0->tensorflow_text) (0.4.8)\n",
            "Requirement already satisfied: idna<4,>=2.5 in /usr/local/lib/python3.7/dist-packages (from requests<3,>=2.21.0->tensorboard<2.9,>=2.8->tensorflow<2.9,>=2.8.0->tensorflow_text) (2.10)\n",
            "Requirement already satisfied: urllib3<1.27,>=1.21.1 in /usr/local/lib/python3.7/dist-packages (from requests<3,>=2.21.0->tensorboard<2.9,>=2.8->tensorflow<2.9,>=2.8.0->tensorflow_text) (1.25.11)\n",
            "Requirement already satisfied: charset-normalizer~=2.0.0 in /usr/local/lib/python3.7/dist-packages (from requests<3,>=2.21.0->tensorboard<2.9,>=2.8->tensorflow<2.9,>=2.8.0->tensorflow_text) (2.0.12)\n",
            "Requirement already satisfied: certifi>=2017.4.17 in /usr/local/lib/python3.7/dist-packages (from requests<3,>=2.21.0->tensorboard<2.9,>=2.8->tensorflow<2.9,>=2.8.0->tensorflow_text) (2021.10.8)\n",
            "Requirement already satisfied: oauthlib>=3.0.0 in /usr/local/lib/python3.7/dist-packages (from requests-oauthlib>=0.7.0->google-auth-oauthlib<0.5,>=0.4.1->tensorboard<2.9,>=2.8->tensorflow<2.9,>=2.8.0->tensorflow_text) (3.2.0)\n",
            "Installing collected packages: importlib-metadata, tf-estimator-nightly, tensorflow-text\n",
            "  Attempting uninstall: importlib-metadata\n",
            "    Found existing installation: importlib-metadata 3.10.1\n",
            "    Uninstalling importlib-metadata-3.10.1:\n",
            "      Successfully uninstalled importlib-metadata-3.10.1\n",
            "\u001b[31mERROR: pip's dependency resolver does not currently take into account all the packages that are installed. This behaviour is the source of the following dependency conflicts.\n",
            "konoha 4.6.5 requires importlib-metadata<4.0.0,>=3.7.0, but you have importlib-metadata 4.11.3 which is incompatible.\u001b[0m\n",
            "Successfully installed importlib-metadata-4.11.3 tensorflow-text-2.8.2 tf-estimator-nightly-2.8.0.dev2021122109\n"
          ]
        },
        {
          "output_type": "display_data",
          "data": {
            "application/vnd.colab-display-data+json": {
              "pip_warning": {
                "packages": [
                  "importlib_metadata"
                ]
              }
            }
          },
          "metadata": {}
        }
      ]
    },
    {
      "cell_type": "code",
      "source": [
        "sample_text = ('The movie was not good. The animation and the graphics '\n",
        "               'were terrible. I would not recommend this movie.')\n",
        "min_length = 7\n",
        "# predictions = model.predict([\"The movie was not good. The animation and the graphics\"])\n",
        "import textattack\n",
        "\n",
        "import numpy as np\n",
        "import torch\n",
        "from textattack.models.wrappers import ModelWrapper\n",
        "\n",
        "class CustomPytorchModelWrapper(ModelWrapper):\n",
        "    def __init__(self, model, tokenizer, vocab):\n",
        "        self.model = model\n",
        "        self.tokenizer = tokenizer\n",
        "        self.vocab = vocab\n",
        "    def __call__(self, text_input_list):\n",
        "        probabilities = []\n",
        "        for text in text_input_list:\n",
        "          tokens = tokenizer(text)\n",
        "          ids = [vocab[t] for t in tokens]\n",
        "          if len(ids) < min_length:\n",
        "              ids += [pad_index] * (min_length - len(ids))\n",
        "          tensor = torch.LongTensor(ids).unsqueeze(dim=0).to(device)\n",
        "          prediction = model(tensor).squeeze(dim=0)\n",
        "          probability = torch.softmax(prediction, dim=-1)\n",
        "          probability = probability.cpu().detach().numpy()\n",
        "          probabilities.append(probability)\n",
        "        return probabilities\n",
        "\n",
        "model_wrapper = CustomPytorchModelWrapper(model, tokenizer, vocab)"
      ],
      "metadata": {
        "id": "XIuBulbP3udJ",
        "colab": {
          "base_uri": "https://localhost:8080/"
        },
        "outputId": "5addf6df-7819-4dc2-80de-4d9afffca48d"
      },
      "execution_count": null,
      "outputs": [
        {
          "output_type": "stream",
          "name": "stderr",
          "text": [
            "textattack: Updating TextAttack package dependencies.\n",
            "textattack: Downloading NLTK required packages.\n"
          ]
        },
        {
          "output_type": "stream",
          "name": "stdout",
          "text": [
            "[nltk_data] Downloading package averaged_perceptron_tagger to\n",
            "[nltk_data]     /root/nltk_data...\n",
            "[nltk_data]   Unzipping taggers/averaged_perceptron_tagger.zip.\n",
            "[nltk_data] Downloading package stopwords to /root/nltk_data...\n",
            "[nltk_data]   Unzipping corpora/stopwords.zip.\n",
            "[nltk_data] Downloading package omw to /root/nltk_data...\n",
            "[nltk_data]   Unzipping corpora/omw.zip.\n",
            "[nltk_data] Downloading package universal_tagset to /root/nltk_data...\n",
            "[nltk_data]   Unzipping taggers/universal_tagset.zip.\n",
            "[nltk_data] Downloading package wordnet to /root/nltk_data...\n",
            "[nltk_data]   Unzipping corpora/wordnet.zip.\n",
            "[nltk_data] Downloading package punkt to /root/nltk_data...\n",
            "[nltk_data]   Unzipping tokenizers/punkt.zip.\n"
          ]
        },
        {
          "output_type": "stream",
          "name": "stderr",
          "text": [
            "textattack: Downloading https://textattack.s3.amazonaws.com/word_embeddings/paragramcf.\n",
            "100%|██████████| 481M/481M [00:19<00:00, 24.9MB/s]\n",
            "textattack: Unzipping file /root/.cache/textattack/tmpcvlk6z4u.zip to /root/.cache/textattack/word_embeddings/paragramcf.\n",
            "textattack: Successfully saved word_embeddings/paragramcf to cache.\n"
          ]
        }
      ]
    },
    {
      "cell_type": "code",
      "execution_count": null,
      "metadata": {
        "id": "jaZ1zr0F0Ipv"
      },
      "outputs": [],
      "source": [
        "import textattack\n",
        "df_attack = pd.read_csv(\"attack_test_data.csv\")\n",
        "\n",
        "data = []\n",
        "for index, row in df_attack.iterrows():\n",
        "    data.append((row['text'], row['class']))\n",
        "\n",
        "# df_attack_2 = pd.read_csv(\"attack_dataset_8_classes_2.csv\")\n",
        "# for index, row in df_attack_2.iterrows():\n",
        "#     data.append((row['text'], row['label']))\n",
        "    \n",
        "dataset = textattack.datasets.Dataset(data)"
      ]
    },
    {
      "cell_type": "code",
      "execution_count": null,
      "metadata": {
        "colab": {
          "base_uri": "https://localhost:8080/"
        },
        "id": "TI34LBih0Ipw",
        "outputId": "cc11af1e-de24-43a5-b7cf-91c705b86819"
      },
      "outputs": [
        {
          "output_type": "stream",
          "name": "stderr",
          "text": [
            "textattack: Unknown if model of class <class '__main__.CNN'> compatible with goal function <class 'textattack.goal_functions.classification.untargeted_classification.UntargetedClassification'>.\n",
            "textattack: Logging to CSV at path cnn_attack_deepwordbug_lang_recog.csv\n"
          ]
        },
        {
          "output_type": "stream",
          "name": "stdout",
          "text": [
            "Attack(\n",
            "  (search_method): GreedyWordSwapWIR(\n",
            "    (wir_method):  unk\n",
            "  )\n",
            "  (goal_function):  UntargetedClassification\n",
            "  (transformation):  CompositeTransformation(\n",
            "    (0): WordSwapNeighboringCharacterSwap(\n",
            "        (random_one):  True\n",
            "      )\n",
            "    (1): WordSwapRandomCharacterSubstitution(\n",
            "        (random_one):  True\n",
            "      )\n",
            "    (2): WordSwapRandomCharacterDeletion(\n",
            "        (random_one):  True\n",
            "      )\n",
            "    (3): WordSwapRandomCharacterInsertion(\n",
            "        (random_one):  True\n",
            "      )\n",
            "    )\n",
            "  (constraints): \n",
            "    (0): LevenshteinEditDistance(\n",
            "        (max_edit_distance):  30\n",
            "        (compare_against_original):  True\n",
            "      )\n",
            "    (1): RepeatModification\n",
            "    (2): StopwordModification\n",
            "  (is_black_box):  True\n",
            ") \n",
            "\n"
          ]
        },
        {
          "output_type": "stream",
          "name": "stderr",
          "text": [
            "  0%|          | 0/200 [00:00<?, ?it/s]/usr/local/lib/python3.7/dist-packages/textattack/goal_functions/classification/classification_goal_function.py:26: UserWarning: Creating a tensor from a list of numpy.ndarrays is extremely slow. Please consider converting the list to a single numpy.ndarray with numpy.array() before converting to a tensor. (Triggered internally at  ../torch/csrc/utils/tensor_new.cpp:210.)\n",
            "  scores = torch.tensor(scores)\n",
            "[Succeeded / Failed / Skipped / Total] 0 / 1 / 0 / 1:   0%|          | 1/200 [00:00<00:18, 10.60it/s]"
          ]
        },
        {
          "output_type": "stream",
          "name": "stdout",
          "text": [
            "--------------------------------------------- Result 1 ---------------------------------------------\n",
            "[[2 (100%)]] --> [[[FAILED]]]\n",
            "\n",
            "United Kingdom and United States sanctions against Zimbabwe illustrate the \"warm-up\" approach, followed by a \"knock-out\" punch.\r\n",
            "\n",
            "\n",
            "\n"
          ]
        },
        {
          "output_type": "stream",
          "name": "stderr",
          "text": [
            "[Succeeded / Failed / Skipped / Total] 0 / 2 / 0 / 2:   1%|          | 2/200 [00:00<00:24,  8.24it/s]"
          ]
        },
        {
          "output_type": "stream",
          "name": "stdout",
          "text": [
            "--------------------------------------------- Result 2 ---------------------------------------------\n",
            "[[2 (100%)]] --> [[[FAILED]]]\n",
            "\n",
            "While presenting the report, Hon. Bright pleaded that in view of the sacrifices Mrs. Jonathan's husband made for the country while he was president, the House should wade into the matter and call the security agencies to order.\r\n",
            "\n",
            "\n",
            "\n"
          ]
        },
        {
          "output_type": "stream",
          "name": "stderr",
          "text": [
            "[Succeeded / Failed / Skipped / Total] 0 / 4 / 0 / 4:   2%|▏         | 4/200 [00:00<00:19, 10.01it/s]"
          ]
        },
        {
          "output_type": "stream",
          "name": "stdout",
          "text": [
            "--------------------------------------------- Result 3 ---------------------------------------------\n",
            "[[2 (100%)]] --> [[[FAILED]]]\n",
            "\n",
            "\"You have the two extremes as far as different reasons for crop insurance,\" he said.\r\n",
            "\n",
            "\n",
            "\n",
            "--------------------------------------------- Result 4 ---------------------------------------------\n",
            "[[2 (100%)]] --> [[[FAILED]]]\n",
            "\n",
            "While the nation has seen 7.6 percent job growth since 2013, Kansas has lagged far behind, with an anemic rate of 3.5 percent.\r\n",
            "\n",
            "\n",
            "\n"
          ]
        },
        {
          "output_type": "stream",
          "name": "stderr",
          "text": [
            "\r[Succeeded / Failed / Skipped / Total] 0 / 5 / 0 / 5:   2%|▎         | 5/200 [00:00<00:19,  9.95it/s]"
          ]
        },
        {
          "output_type": "stream",
          "name": "stdout",
          "text": [
            "--------------------------------------------- Result 5 ---------------------------------------------\n",
            "[[2 (100%)]] --> [[[FAILED]]]\n",
            "\n",
            "WASHINGTON, D.C. -- President George Bush has praised efforts by Colombian President Alvaro Uribe to crack down on terrorism in the South American country.\r\n",
            "\n",
            "\n",
            "\n"
          ]
        },
        {
          "output_type": "stream",
          "name": "stderr",
          "text": [
            "[Succeeded / Failed / Skipped / Total] 0 / 7 / 0 / 7:   4%|▎         | 7/200 [00:00<00:18, 10.16it/s]"
          ]
        },
        {
          "output_type": "stream",
          "name": "stdout",
          "text": [
            "--------------------------------------------- Result 6 ---------------------------------------------\n",
            "[[2 (100%)]] --> [[[FAILED]]]\n",
            "\n",
            "While the federal government is up and running, at least for a few weeks, many Greenbelters felt the stress of preparing for a shutdown.\r\n",
            "\n",
            "\n",
            "\n",
            "--------------------------------------------- Result 7 ---------------------------------------------\n",
            "[[2 (100%)]] --> [[[FAILED]]]\n",
            "\n",
            "Your insistence, your determination to stick to your opinion in the face of all the new evidence makes you look like a closed-mined idiot.\r\n",
            "\n",
            "\n",
            "\n"
          ]
        },
        {
          "output_type": "stream",
          "name": "stderr",
          "text": [
            "[Succeeded / Failed / Skipped / Total] 0 / 10 / 0 / 10:   5%|▌         | 10/200 [00:00<00:18, 10.36it/s]"
          ]
        },
        {
          "output_type": "stream",
          "name": "stdout",
          "text": [
            "--------------------------------------------- Result 8 ---------------------------------------------\n",
            "[[2 (100%)]] --> [[[FAILED]]]\n",
            "\n",
            "\"When we say the rule of law doesn't apply because you are not a U.S. citizen, when we say it doesn't apply because you've admitted killing people, then the rule of law doesn't apply to all of us.\"\r\n",
            "\n",
            "\n",
            "\n",
            "--------------------------------------------- Result 9 ---------------------------------------------\n",
            "[[2 (100%)]] --> [[[FAILED]]]\n",
            "\n",
            "\"Yet he has not once told the public about the child abuse allegations he faced in 2007 and the discretionary decisions of my office, and more specifically by me as the DA.\"\r\n",
            "\n",
            "\n",
            "\n",
            "--------------------------------------------- Result 10 ---------------------------------------------\n",
            "[[2 (100%)]] --> [[[FAILED]]]\n",
            "\n",
            "With about 30 percent of carbon emissions coming from the fossil fuel.\r\n",
            "\n",
            "\n",
            "\n"
          ]
        },
        {
          "output_type": "stream",
          "name": "stderr",
          "text": [
            "[Succeeded / Failed / Skipped / Total] 0 / 13 / 0 / 13:   6%|▋         | 13/200 [00:01<00:17, 10.66it/s]"
          ]
        },
        {
          "output_type": "stream",
          "name": "stdout",
          "text": [
            "--------------------------------------------- Result 11 ---------------------------------------------\n",
            "[[2 (100%)]] --> [[[FAILED]]]\n",
            "\n",
            "You'll be able to choose to play as either the male Alexios or the female Kassandra, both of whom are Spartan \"outcasts-turned-mercenaries\" who appear to have joined the Assassins Brotherhood.\r\n",
            "\n",
            "\n",
            "\n",
            "--------------------------------------------- Result 12 ---------------------------------------------\n",
            "[[2 (100%)]] --> [[[FAILED]]]\n",
            "\n",
            "\"Under the EU mechanism for distributing 160,000 refugees Hungary would have to take in just 1,294 people currently living in Greece and Italy.\r\n",
            "\n",
            "\n",
            "\n",
            "--------------------------------------------- Result 13 ---------------------------------------------\n",
            "[[2 (100%)]] --> [[[FAILED]]]\n",
            "\n",
            "We are going to have this demonstration tomorrow, it's a peaceful protest.\r\n",
            "\n",
            "\n",
            "\n"
          ]
        },
        {
          "output_type": "stream",
          "name": "stderr",
          "text": [
            "[Succeeded / Failed / Skipped / Total] 0 / 16 / 0 / 16:   8%|▊         | 16/200 [00:01<00:17, 10.40it/s]"
          ]
        },
        {
          "output_type": "stream",
          "name": "stdout",
          "text": [
            "--------------------------------------------- Result 14 ---------------------------------------------\n",
            "[[2 (100%)]] --> [[[FAILED]]]\n",
            "\n",
            "YouTuber Logan Paul says sorry after posting sickening video of suicide victim hanging from a treeThe American vlogger is hugely popular with children and he provoked outrage after he uploaded the video to his 15 million followers.\r\n",
            "\n",
            "\n",
            "\n",
            "--------------------------------------------- Result 15 ---------------------------------------------\n",
            "[[2 (100%)]] --> [[[FAILED]]]\n",
            "\n",
            "Who ever is DPM now will take the office of the PM.\r\n",
            "\n",
            "\n",
            "\n",
            "--------------------------------------------- Result 16 ---------------------------------------------\n",
            "[[2 (100%)]] --> [[[FAILED]]]\n",
            "\n",
            "We've also previously told you how the health board has flown in consultants from Europe and as far as the Middle East to plug gaps within the service.\r\n",
            "\n",
            "\n",
            "\n"
          ]
        },
        {
          "output_type": "stream",
          "name": "stderr",
          "text": [
            "[Succeeded / Failed / Skipped / Total] 0 / 18 / 0 / 18:   9%|▉         | 18/200 [00:01<00:17, 10.39it/s]"
          ]
        },
        {
          "output_type": "stream",
          "name": "stdout",
          "text": [
            "--------------------------------------------- Result 17 ---------------------------------------------\n",
            "[[2 (100%)]] --> [[[FAILED]]]\n",
            "\n",
            "We are in the hospital suffering,\" Deivis' mother, Sandra Galindez, told me and my colleagues.\r\n",
            "\n",
            "\n",
            "\n",
            "--------------------------------------------- Result 18 ---------------------------------------------\n",
            "[[2 (100%)]] --> [[[FAILED]]]\n",
            "\n",
            "While the menu has expanded to pizzas and other items in the past decade, Fatiga's strength -- and what makes it one of the truly best eating experiences in Arkansas -- is its selection of Italian subs.\r\n",
            "\n",
            "\n",
            "\n"
          ]
        },
        {
          "output_type": "stream",
          "name": "stderr",
          "text": [
            "[Succeeded / Failed / Skipped / Total] 0 / 20 / 0 / 20:  10%|█         | 20/200 [00:01<00:17, 10.49it/s]"
          ]
        },
        {
          "output_type": "stream",
          "name": "stdout",
          "text": [
            "--------------------------------------------- Result 19 ---------------------------------------------\n",
            "[[2 (100%)]] --> [[[FAILED]]]\n",
            "\n",
            "\"You can do far more than you ever expected if you just push yourself and keep going, and if someone tells you no, you just continue on.\"\r\n",
            "\n",
            "\n",
            "\n",
            "--------------------------------------------- Result 20 ---------------------------------------------\n",
            "[[2 (100%)]] --> [[[FAILED]]]\n",
            "\n",
            "\"What makes the F1 in Schools Technology Challenge different,\" said Mr Sangari, \"is that it entails a comprehensive and inclusive learning approach.\r\n",
            "\n",
            "\n",
            "\n"
          ]
        },
        {
          "output_type": "stream",
          "name": "stderr",
          "text": [
            "[Succeeded / Failed / Skipped / Total] 0 / 23 / 0 / 23:  12%|█▏        | 23/200 [00:02<00:16, 10.49it/s]"
          ]
        },
        {
          "output_type": "stream",
          "name": "stdout",
          "text": [
            "--------------------------------------------- Result 21 ---------------------------------------------\n",
            "[[2 (100%)]] --> [[[FAILED]]]\n",
            "\n",
            "Washington has shown signs of shrugging off its role as a world leader, and nations such as Russia and China, which do not see Western humanitarian values as universal, wield growing global clout.\r\n",
            "\n",
            "\n",
            "\n",
            "--------------------------------------------- Result 22 ---------------------------------------------\n",
            "[[2 (100%)]] --> [[[FAILED]]]\n",
            "\n",
            "While fewer people may have died in Las Vegas if bump stocks were banned, the devices have rarely, if ever, been used in prior shootings.\r\n",
            "\n",
            "\n",
            "\n",
            "--------------------------------------------- Result 23 ---------------------------------------------\n",
            "[[2 (100%)]] --> [[[FAILED]]]\n",
            "\n",
            "When a dispute occurred, the latter asked for the return of the deposits.\r\n",
            "\n",
            "\n",
            "\n"
          ]
        },
        {
          "output_type": "stream",
          "name": "stderr",
          "text": [
            "[Succeeded / Failed / Skipped / Total] 1 / 26 / 0 / 27:  14%|█▎        | 27/200 [00:02<00:15, 10.99it/s]"
          ]
        },
        {
          "output_type": "stream",
          "name": "stdout",
          "text": [
            "--------------------------------------------- Result 24 ---------------------------------------------\n",
            "[[2 (100%)]] --> [[[FAILED]]]\n",
            "\n",
            "When Uber came to Sri Lanka they will use someone else's assets though it is over Uber's arrival that we will have a big bash!\r\n",
            "\n",
            "\n",
            "\n",
            "--------------------------------------------- Result 25 ---------------------------------------------\n",
            "[[2 (100%)]] --> [[[FAILED]]]\n",
            "\n",
            "We'll see a bigger cool down and the chance for some heavy snow across parts of Colorado.\r\n",
            "\n",
            "\n",
            "\n",
            "--------------------------------------------- Result 26 ---------------------------------------------\n",
            "[[2 (100%)]] --> [[[FAILED]]]\n",
            "\n",
            "What I learned about Budapest the morning we arrived was that it hid some secret gardens we were about to discover.\r\n",
            "\n",
            "\n",
            "\n",
            "--------------------------------------------- Result 27 ---------------------------------------------\n",
            "[[2 (97%)]] --> [[0 (48%)]]\n",
            "\n",
            "Wildflower, from that [[day]] forward, excelled almost [[like]] no dog I've ever trained.\r\n",
            "\n",
            "\n",
            "Wildflower, from that [[daC]] forward, excelled almost [[Dlike]] no dog I've ever trained.\r\n",
            "\n",
            "\n",
            "\n"
          ]
        },
        {
          "output_type": "stream",
          "name": "stderr",
          "text": [
            "[Succeeded / Failed / Skipped / Total] 1 / 29 / 0 / 30:  15%|█▌        | 30/200 [00:02<00:15, 11.08it/s]"
          ]
        },
        {
          "output_type": "stream",
          "name": "stdout",
          "text": [
            "--------------------------------------------- Result 28 ---------------------------------------------\n",
            "[[2 (100%)]] --> [[[FAILED]]]\n",
            "\n",
            "\"What we're trying to do, is we're trying to build up our capacity to do projects with the Ring of Fire.\"\r\n",
            "\n",
            "\n",
            "\n",
            "--------------------------------------------- Result 29 ---------------------------------------------\n",
            "[[2 (100%)]] --> [[[FAILED]]]\n",
            "\n",
            "While proponents of the legislation argued the existing regulations hindered economic growth, conservationists fear the price paid for environmental degradation is often lost in the debate.\r\n",
            "\n",
            "\n",
            "\n",
            "--------------------------------------------- Result 30 ---------------------------------------------\n",
            "[[2 (100%)]] --> [[[FAILED]]]\n",
            "\n",
            "We desperately need to spend more on health, public services and education.\r\n",
            "\n",
            "\n",
            "\n"
          ]
        },
        {
          "output_type": "stream",
          "name": "stderr",
          "text": [
            "[Succeeded / Failed / Skipped / Total] 1 / 31 / 0 / 32:  16%|█▌        | 32/200 [00:02<00:15, 11.12it/s]"
          ]
        },
        {
          "output_type": "stream",
          "name": "stdout",
          "text": [
            "--------------------------------------------- Result 31 ---------------------------------------------\n",
            "[[2 (100%)]] --> [[[FAILED]]]\n",
            "\n",
            "You chose to think of materialism and greed when you walk through those \"heavy glass doors.\"\r\n",
            "\n",
            "\n",
            "\n",
            "--------------------------------------------- Result 32 ---------------------------------------------\n",
            "[[2 (100%)]] --> [[[FAILED]]]\n",
            "\n",
            "We also plan to grow in the business, at the moment in 2010 the capacity is 3.2 MMt but we expected to 5.3 MMt by Q1'11 and 5.8 MMt by end of 2011.\r\n",
            "\n",
            "\n",
            "\n"
          ]
        },
        {
          "output_type": "stream",
          "name": "stderr",
          "text": [
            "[Succeeded / Failed / Skipped / Total] 1 / 34 / 0 / 35:  18%|█▊        | 35/200 [00:03<00:15, 10.89it/s]"
          ]
        },
        {
          "output_type": "stream",
          "name": "stdout",
          "text": [
            "--------------------------------------------- Result 33 ---------------------------------------------\n",
            "[[2 (100%)]] --> [[[FAILED]]]\n",
            "\n",
            "Zhu Xiaohu, founder of GSR Ventures, said at a speech in April that mini programs will overturn the giants of PC and mobile Internet, and that total investment in mini programs could reach the tens of billions of yuan this year.\r\n",
            "\n",
            "\n",
            "\n",
            "--------------------------------------------- Result 34 ---------------------------------------------\n",
            "[[2 (100%)]] --> [[[FAILED]]]\n",
            "\n",
            "What's to keep corporate interests from complaining that our land use laws are at variance with future congressional legisltion, affect inter-state commerce, and don't have to be followed by out of state developers?\r\n",
            "\n",
            "\n",
            "\n",
            "--------------------------------------------- Result 35 ---------------------------------------------\n",
            "[[2 (100%)]] --> [[[FAILED]]]\n",
            "\n",
            "When a person dies, his soul passes on to the next World.\r\n",
            "\n",
            "\n",
            "\n"
          ]
        },
        {
          "output_type": "stream",
          "name": "stderr",
          "text": [
            "[Succeeded / Failed / Skipped / Total] 1 / 36 / 0 / 37:  18%|█▊        | 37/200 [00:03<00:15, 10.83it/s]"
          ]
        },
        {
          "output_type": "stream",
          "name": "stdout",
          "text": [
            "--------------------------------------------- Result 36 ---------------------------------------------\n",
            "[[2 (100%)]] --> [[[FAILED]]]\n",
            "\n",
            "We've got to do a good job of selling our kids on what we're trying to do and what we're trying to build at Smiths Station.\r\n",
            "\n",
            "\n",
            "\n",
            "--------------------------------------------- Result 37 ---------------------------------------------\n",
            "[[2 (100%)]] --> [[[FAILED]]]\n",
            "\n",
            "Your next chance to see the team is tomorrow (Tuesday) night at the Brindy, when they again take on the Glacier Kings before heading down-Island for a rematch against Oceanside Friday night.\r\n",
            "\n",
            "\n",
            "\n"
          ]
        },
        {
          "output_type": "stream",
          "name": "stderr",
          "text": [
            "[Succeeded / Failed / Skipped / Total] 1 / 39 / 0 / 40:  20%|██        | 40/200 [00:03<00:14, 10.82it/s]"
          ]
        },
        {
          "output_type": "stream",
          "name": "stdout",
          "text": [
            "--------------------------------------------- Result 38 ---------------------------------------------\n",
            "[[2 (100%)]] --> [[[FAILED]]]\n",
            "\n",
            "Yet when Ponderosa swept Longmont just as they had Berthoud earlier in the day, Berthoud was consigned to the fact that the next day's match, their final of the season, would be for nothing but pride.\r\n",
            "\n",
            "\n",
            "\n",
            "--------------------------------------------- Result 39 ---------------------------------------------\n",
            "[[2 (100%)]] --> [[[FAILED]]]\n",
            "\n",
            "Where were these investors when public fund was being committed to the same project?\r\n",
            "\n",
            "\n",
            "\n",
            "--------------------------------------------- Result 40 ---------------------------------------------\n",
            "[[2 (100%)]] --> [[[FAILED]]]\n",
            "\n",
            "What I can't find anywhere online is the names of the photographers in the exhibition -- I'd run their names if I could find them all.\r\n",
            "\n",
            "\n",
            "\n"
          ]
        },
        {
          "output_type": "stream",
          "name": "stderr",
          "text": [
            "[Succeeded / Failed / Skipped / Total] 1 / 42 / 0 / 43:  22%|██▏       | 44/200 [00:03<00:14, 11.11it/s]"
          ]
        },
        {
          "output_type": "stream",
          "name": "stdout",
          "text": [
            "--------------------------------------------- Result 41 ---------------------------------------------\n",
            "[[2 (100%)]] --> [[[FAILED]]]\n",
            "\n",
            "Walk north on Cadman, past some mansions built on the leafy hillside, and enter the woods.\r\n",
            "\n",
            "\n",
            "\n",
            "--------------------------------------------- Result 42 ---------------------------------------------\n",
            "[[2 (100%)]] --> [[[FAILED]]]\n",
            "\n",
            "While it contained methylone, a chemical nearly identical to MDMA, it was a different drug altogether.\r\n",
            "\n",
            "\n",
            "\n",
            "--------------------------------------------- Result 43 ---------------------------------------------\n",
            "[[2 (100%)]] --> [[[FAILED]]]\n",
            "\n",
            "We are running more and more trains all the time and that is what is causing the problem, the capacity on the track.\r\n",
            "\n",
            "\n",
            "\n"
          ]
        },
        {
          "output_type": "stream",
          "name": "stderr",
          "text": [
            "[Succeeded / Failed / Skipped / Total] 1 / 45 / 0 / 46:  23%|██▎       | 46/200 [00:04<00:13, 11.16it/s]"
          ]
        },
        {
          "output_type": "stream",
          "name": "stdout",
          "text": [
            "--------------------------------------------- Result 44 ---------------------------------------------\n",
            "[[2 (100%)]] --> [[[FAILED]]]\n",
            "\n",
            "With older artists, the law of diminishing returns often applies, and it's sad when our musical heroes overstay their welcome.\r\n",
            "\n",
            "\n",
            "\n",
            "--------------------------------------------- Result 45 ---------------------------------------------\n",
            "[[2 (100%)]] --> [[[FAILED]]]\n",
            "\n",
            "We hope Malala can avoid being manipulated on China-related issues while striving for education equality and the global human rights cause.\r\n",
            "\n",
            "\n",
            "\n",
            "--------------------------------------------- Result 46 ---------------------------------------------\n",
            "[[2 (100%)]] --> [[[FAILED]]]\n",
            "\n",
            "\"We don't receive any inspections from the Ministry of Manpower in these hills, as these quarries are part of the informal sector.\r\n",
            "\n",
            "\n",
            "\n"
          ]
        },
        {
          "output_type": "stream",
          "name": "stderr",
          "text": [
            "[Succeeded / Failed / Skipped / Total] 1 / 47 / 0 / 48:  24%|██▍       | 48/200 [00:04<00:13, 11.20it/s]"
          ]
        },
        {
          "output_type": "stream",
          "name": "stdout",
          "text": [
            "--------------------------------------------- Result 47 ---------------------------------------------\n",
            "[[2 (100%)]] --> [[[FAILED]]]\n",
            "\n",
            "Vince Cate visited the Sandy Ground site and reports that they are finding a great deal of Amerindian material.\r\n",
            "\n",
            "\n",
            "\n",
            "--------------------------------------------- Result 48 ---------------------------------------------\n",
            "[[2 (100%)]] --> [[[FAILED]]]\n",
            "\n",
            "\"We got a goot chance to look at a lot of kids and most of them got a lot of playing time.\"\r\n",
            "\n",
            "\n",
            "\n"
          ]
        },
        {
          "output_type": "stream",
          "name": "stderr",
          "text": [
            "[Succeeded / Failed / Skipped / Total] 1 / 50 / 0 / 51:  26%|██▌       | 51/200 [00:04<00:13, 11.14it/s]"
          ]
        },
        {
          "output_type": "stream",
          "name": "stdout",
          "text": [
            "--------------------------------------------- Result 49 ---------------------------------------------\n",
            "[[2 (100%)]] --> [[[FAILED]]]\n",
            "\n",
            "Vancouver lawyer Kyla Lee and her firm, Acumen Law Corp., claimed at trial that a Google Plus review calling her the \"worstest lawyer\" led to a decline in client calls.\r\n",
            "\n",
            "\n",
            "\n",
            "--------------------------------------------- Result 50 ---------------------------------------------\n",
            "[[2 (100%)]] --> [[[FAILED]]]\n",
            "\n",
            "While the kingdom has borrowed heavily on the Saudi money markets, it can easily float sovereign debt on the international debt market to ease its domestic credit crunch.\r\n",
            "\n",
            "\n",
            "\n",
            "--------------------------------------------- Result 51 ---------------------------------------------\n",
            "[[2 (100%)]] --> [[[FAILED]]]\n",
            "\n",
            "Will people need to go to the electoral district to vote?\r\n",
            "\n",
            "\n",
            "\n"
          ]
        },
        {
          "output_type": "stream",
          "name": "stderr",
          "text": [
            "[Succeeded / Failed / Skipped / Total] 1 / 53 / 0 / 54:  27%|██▋       | 54/200 [00:04<00:13, 11.15it/s]"
          ]
        },
        {
          "output_type": "stream",
          "name": "stdout",
          "text": [
            "--------------------------------------------- Result 52 ---------------------------------------------\n",
            "[[2 (100%)]] --> [[[FAILED]]]\n",
            "\n",
            "\"We are extremely honored to win this award, as we feel it really highlights our efforts to make it easier for our EuroBonus members to access and redeem their points.\r\n",
            "\n",
            "\n",
            "\n",
            "--------------------------------------------- Result 53 ---------------------------------------------\n",
            "[[2 (100%)]] --> [[[FAILED]]]\n",
            "\n",
            "When the next chance came his way he slotted coolly into the top right corner.\r\n",
            "\n",
            "\n",
            "\n",
            "--------------------------------------------- Result 54 ---------------------------------------------\n",
            "[[2 (100%)]] --> [[[FAILED]]]\n",
            "\n",
            "You should be known to be producing from information gathered from either extension officers or records from the Grain Marketing Board and one should have an offer letter.\"\r\n",
            "\n",
            "\n",
            "\n"
          ]
        },
        {
          "output_type": "stream",
          "name": "stderr",
          "text": [
            "[Succeeded / Failed / Skipped / Total] 1 / 55 / 0 / 56:  28%|██▊       | 56/200 [00:05<00:13, 11.06it/s]"
          ]
        },
        {
          "output_type": "stream",
          "name": "stdout",
          "text": [
            "--------------------------------------------- Result 55 ---------------------------------------------\n",
            "[[2 (100%)]] --> [[[FAILED]]]\n",
            "\n",
            "You can go outside and go for a walk or a run without shivering the entire time.\r\n",
            "\n",
            "\n",
            "\n",
            "--------------------------------------------- Result 56 ---------------------------------------------\n",
            "[[2 (100%)]] --> [[[FAILED]]]\n",
            "\n",
            "While living at the lodge in the early 1960s, Fox was hired by the former Burnet County Judge to help sell lots for a new subdivision on the lake at Granite Shoals (later renamed Lake LBJ).\r\n",
            "\n",
            "\n",
            "\n"
          ]
        },
        {
          "output_type": "stream",
          "name": "stderr",
          "text": [
            "[Succeeded / Failed / Skipped / Total] 1 / 58 / 0 / 59:  30%|██▉       | 59/200 [00:05<00:12, 11.14it/s]"
          ]
        },
        {
          "output_type": "stream",
          "name": "stdout",
          "text": [
            "--------------------------------------------- Result 57 ---------------------------------------------\n",
            "[[2 (100%)]] --> [[[FAILED]]]\n",
            "\n",
            "We also held three seminars and a special meeting of the board of directors to discuss the theme.\r\n",
            "\n",
            "\n",
            "\n",
            "--------------------------------------------- Result 58 ---------------------------------------------\n",
            "[[2 (100%)]] --> [[[FAILED]]]\n",
            "\n",
            "\"We were by the water comparing our swimwear and laughing about how ill-fitting and unsupportive our contraptions were,\" the pair told news.\r\n",
            "\n",
            "\n",
            "\n",
            "--------------------------------------------- Result 59 ---------------------------------------------\n",
            "[[2 (100%)]] --> [[[FAILED]]]\n",
            "\n",
            "Whether Asset Value Investors would hold onto their TBS shares after its demand was accepted \"depends on how the valuation goes.\"\r\n",
            "\n",
            "\n",
            "\n"
          ]
        },
        {
          "output_type": "stream",
          "name": "stderr",
          "text": [
            "[Succeeded / Failed / Skipped / Total] 1 / 61 / 0 / 62:  31%|███       | 62/200 [00:05<00:12, 11.02it/s]"
          ]
        },
        {
          "output_type": "stream",
          "name": "stdout",
          "text": [
            "--------------------------------------------- Result 60 ---------------------------------------------\n",
            "[[2 (100%)]] --> [[[FAILED]]]\n",
            "\n",
            "\"We have also met the panchayat minister to brief him about how the compound wall of the church of this sect is of a height above the permissible limit.\r\n",
            "\n",
            "\n",
            "\n",
            "--------------------------------------------- Result 61 ---------------------------------------------\n",
            "[[2 (100%)]] --> [[[FAILED]]]\n",
            "\n",
            "Various congressional committees worked on drafting multiple versions of the bill that would become the Affordable Care Act -- a lengthy process that took over a year.\r\n",
            "\n",
            "\n",
            "\n",
            "--------------------------------------------- Result 62 ---------------------------------------------\n",
            "[[2 (100%)]] --> [[[FAILED]]]\n",
            "\n",
            "Various religious backgrounds will be represented as people from all over the U.S. and Canada travel to John Brown University to attend the Paradosis Conference.\r\n",
            "\n",
            "\n",
            "\n"
          ]
        },
        {
          "output_type": "stream",
          "name": "stderr",
          "text": [
            "[Succeeded / Failed / Skipped / Total] 1 / 64 / 0 / 65:  32%|███▎      | 65/200 [00:05<00:12, 11.10it/s]"
          ]
        },
        {
          "output_type": "stream",
          "name": "stdout",
          "text": [
            "--------------------------------------------- Result 63 ---------------------------------------------\n",
            "[[2 (100%)]] --> [[[FAILED]]]\n",
            "\n",
            "\"Unions can be reactive, but if we could be proactive, then we would be happy to have discussions.\r\n",
            "\n",
            "\n",
            "\n",
            "--------------------------------------------- Result 64 ---------------------------------------------\n",
            "[[2 (100%)]] --> [[[FAILED]]]\n",
            "\n",
            "Unfortunately people's true mandate was not reflected in the allocation of seats due to unrealistic and horrendous proportionate system.\r\n",
            "\n",
            "\n",
            "\n",
            "--------------------------------------------- Result 65 ---------------------------------------------\n",
            "[[2 (100%)]] --> [[[FAILED]]]\n",
            "\n",
            "University Union hosted their annual Block Party in the Carrier Dome on Friday night, featuring DJ Orange Calderon, SZA and Gucci Mane.\r\n",
            "\n",
            "\n",
            "\n"
          ]
        },
        {
          "output_type": "stream",
          "name": "stderr",
          "text": [
            "[Succeeded / Failed / Skipped / Total] 1 / 66 / 0 / 67:  34%|███▎      | 67/200 [00:06<00:12, 11.07it/s]"
          ]
        },
        {
          "output_type": "stream",
          "name": "stdout",
          "text": [
            "--------------------------------------------- Result 66 ---------------------------------------------\n",
            "[[2 (100%)]] --> [[[FAILED]]]\n",
            "\n",
            "\"We've recently finished a fabulous office makeover, and we're having an open house to show it off,\" said agency director Ronda B. Goldfein.\r\n",
            "\n",
            "\n",
            "\n",
            "--------------------------------------------- Result 67 ---------------------------------------------\n",
            "[[2 (100%)]] --> [[[FAILED]]]\n",
            "\n",
            "Youth mental health, suicide and bullying was thrust in to the national spotlight following the highly-publicised death of 14-year-old Amy 'Dolly' Everett in January.\r\n",
            "\n",
            "\n",
            "\n"
          ]
        },
        {
          "output_type": "stream",
          "name": "stderr",
          "text": [
            "[Succeeded / Failed / Skipped / Total] 1 / 68 / 0 / 69:  34%|███▍      | 69/200 [00:06<00:12, 10.84it/s]"
          ]
        },
        {
          "output_type": "stream",
          "name": "stdout",
          "text": [
            "--------------------------------------------- Result 68 ---------------------------------------------\n",
            "[[2 (100%)]] --> [[[FAILED]]]\n",
            "\n",
            "William and Kate Middleton's daughter was born at St. Mary's Hospital on May 2. Just 10 hours after giving birth, the Duchess of Cambridge left the hospital looking gorgeous in a floral white and yellow Jenny Packman dress.\r\n",
            "\n",
            "\n",
            "\n",
            "--------------------------------------------- Result 69 ---------------------------------------------\n",
            "[[2 (100%)]] --> [[[FAILED]]]\n",
            "\n",
            "We will keep monitoring the situation and make sure that we will be able to maintain the drive for the growth so that we could assure our target of trimming off poverty at the rate of 1% per annum.\r\n",
            "\n",
            "\n",
            "\n"
          ]
        },
        {
          "output_type": "stream",
          "name": "stderr",
          "text": [
            "[Succeeded / Failed / Skipped / Total] 1 / 71 / 0 / 72:  36%|███▌      | 72/200 [00:06<00:11, 10.78it/s]"
          ]
        },
        {
          "output_type": "stream",
          "name": "stdout",
          "text": [
            "--------------------------------------------- Result 70 ---------------------------------------------\n",
            "[[2 (100%)]] --> [[[FAILED]]]\n",
            "\n",
            "\"You would be surprised how many people will drive in from an hour or two hours away to come in and spend an afternoon at Great Shots,\" North said.\r\n",
            "\n",
            "\n",
            "\n",
            "--------------------------------------------- Result 71 ---------------------------------------------\n",
            "[[2 (100%)]] --> [[[FAILED]]]\n",
            "\n",
            "Usage of a time fuse also seems out of the question, since not only the murderers, but also Vazagashvili himself likely didn't know when he would arrive at his son's grave.\r\n",
            "\n",
            "\n",
            "\n",
            "--------------------------------------------- Result 72 ---------------------------------------------\n",
            "[[2 (100%)]] --> [[[FAILED]]]\n",
            "\n",
            "\"You are not a little dictator to do whatever you want - and that's what we have right now in Houston, Texas,\" he said.\r\n",
            "\n",
            "\n",
            "\n"
          ]
        },
        {
          "output_type": "stream",
          "name": "stderr",
          "text": [
            "[Succeeded / Failed / Skipped / Total] 1 / 74 / 0 / 75:  38%|███▊      | 75/200 [00:06<00:11, 10.82it/s]"
          ]
        },
        {
          "output_type": "stream",
          "name": "stdout",
          "text": [
            "--------------------------------------------- Result 73 ---------------------------------------------\n",
            "[[2 (100%)]] --> [[[FAILED]]]\n",
            "\n",
            "Until the government receives confirmation of e-cigarette benefits, it would continue treating them as other tobacco products.\r\n",
            "\n",
            "\n",
            "\n",
            "--------------------------------------------- Result 74 ---------------------------------------------\n",
            "[[2 (100%)]] --> [[[FAILED]]]\n",
            "\n",
            "\"We hope that it will initiate a more informed debate about what represents fair, proportionate pay for workers at all levels,\" he said.\r\n",
            "\n",
            "\n",
            "\n",
            "--------------------------------------------- Result 75 ---------------------------------------------\n",
            "[[2 (100%)]] --> [[[FAILED]]]\n",
            "\n",
            "What we asked from RMB in our previous letter, was \"a guarantee from your bank that your capital not be used for the illegal oil exploration in the occupied country\".\r\n",
            "\n",
            "\n",
            "\n"
          ]
        },
        {
          "output_type": "stream",
          "name": "stderr",
          "text": [
            "[Succeeded / Failed / Skipped / Total] 1 / 77 / 0 / 78:  39%|███▉      | 78/200 [00:07<00:11, 10.95it/s]"
          ]
        },
        {
          "output_type": "stream",
          "name": "stdout",
          "text": [
            "--------------------------------------------- Result 76 ---------------------------------------------\n",
            "[[2 (100%)]] --> [[[FAILED]]]\n",
            "\n",
            "Visitors will also be treated to a top-notch, interactive trick rope show.\r\n",
            "\n",
            "\n",
            "\n",
            "--------------------------------------------- Result 77 ---------------------------------------------\n",
            "[[2 (100%)]] --> [[[FAILED]]]\n",
            "\n",
            "With the summer fast approaching, you're sure to be spending lots of time outdoors.\r\n",
            "\n",
            "\n",
            "\n",
            "--------------------------------------------- Result 78 ---------------------------------------------\n",
            "[[2 (100%)]] --> [[[FAILED]]]\n",
            "\n",
            "While they are working to tackle crime, they won't guarantee that the money you invest will be 'safe' in every sense of the word.\r\n",
            "\n",
            "\n",
            "\n"
          ]
        },
        {
          "output_type": "stream",
          "name": "stderr",
          "text": [
            "[Succeeded / Failed / Skipped / Total] 1 / 79 / 0 / 80:  40%|████      | 80/200 [00:07<00:11, 10.86it/s]"
          ]
        },
        {
          "output_type": "stream",
          "name": "stdout",
          "text": [
            "--------------------------------------------- Result 79 ---------------------------------------------\n",
            "[[2 (100%)]] --> [[[FAILED]]]\n",
            "\n",
            "You wouldn't go to buy fighter jets because there is no possibility of creating a balance of power against \"Israel\" on that level, instead you would go buy air defense systems.\r\n",
            "\n",
            "\n",
            "\n",
            "--------------------------------------------- Result 80 ---------------------------------------------\n",
            "[[2 (100%)]] --> [[[FAILED]]]\n",
            "\n",
            "When asked about funding concerns before the Senate vote on the Mission Act, key lawmakers who helped pass the bill claimed it wouldn't be a challenge.\r\n",
            "\n",
            "\n",
            "\n"
          ]
        },
        {
          "output_type": "stream",
          "name": "stderr",
          "text": [
            "[Succeeded / Failed / Skipped / Total] 1 / 82 / 0 / 83:  42%|████▏     | 83/200 [00:07<00:10, 10.78it/s]"
          ]
        },
        {
          "output_type": "stream",
          "name": "stdout",
          "text": [
            "--------------------------------------------- Result 81 ---------------------------------------------\n",
            "[[2 (100%)]] --> [[[FAILED]]]\n",
            "\n",
            "Victoria Vivians scored 22 points and second-ranked Mississippi State remained in position to add a Southeastern Conference Tournament title to its regular-season championship, beating No. 15 Texas A&M 70-55 on.\r\n",
            "\n",
            "\n",
            "\n",
            "--------------------------------------------- Result 82 ---------------------------------------------\n",
            "[[2 (100%)]] --> [[[FAILED]]]\n",
            "\n",
            "We expected a tough beginning but still believed we could play in the finals, which we did.\r\n",
            "\n",
            "\n",
            "\n",
            "--------------------------------------------- Result 83 ---------------------------------------------\n",
            "[[2 (100%)]] --> [[[FAILED]]]\n",
            "\n",
            "While today's sea level rise is only about 10% the rate about 13,000 years ago, it is expected to rise rapidly in the coming years, notes the report.\r\n",
            "\n",
            "\n",
            "\n"
          ]
        },
        {
          "output_type": "stream",
          "name": "stderr",
          "text": [
            "[Succeeded / Failed / Skipped / Total] 1 / 84 / 0 / 85:  42%|████▎     | 85/200 [00:07<00:10, 10.63it/s]"
          ]
        },
        {
          "output_type": "stream",
          "name": "stdout",
          "text": [
            "--------------------------------------------- Result 84 ---------------------------------------------\n",
            "[[2 (100%)]] --> [[[FAILED]]]\n",
            "\n",
            "With changes to GATE, many are wondering if they're going to get funding and with the recent scare of an old memo being leaked, fears were raised.\r\n",
            "\n",
            "\n",
            "\n",
            "--------------------------------------------- Result 85 ---------------------------------------------\n",
            "[[2 (100%)]] --> [[[FAILED]]]\n",
            "\n",
            "When coming from Tanzania, lifts depart from Mtwara and Kilambo to the Rovuma river.\r\n",
            "\n",
            "\n",
            "\n"
          ]
        },
        {
          "output_type": "stream",
          "name": "stderr",
          "text": [
            "[Succeeded / Failed / Skipped / Total] 1 / 86 / 0 / 87:  44%|████▎     | 87/200 [00:08<00:10, 10.47it/s]"
          ]
        },
        {
          "output_type": "stream",
          "name": "stdout",
          "text": [
            "--------------------------------------------- Result 86 ---------------------------------------------\n",
            "[[2 (100%)]] --> [[[FAILED]]]\n",
            "\n",
            "\"We want to deliver your $2.5 million to you before your bank closes, so you can put it in a safe place.\r\n",
            "\n",
            "\n",
            "\n",
            "--------------------------------------------- Result 87 ---------------------------------------------\n",
            "[[2 (100%)]] --> [[[FAILED]]]\n",
            "\n",
            "What is floated right now will come back, perhaps in a watered-down version, but the progressives will keep coming after you.\r\n",
            "\n",
            "\n",
            "\n"
          ]
        },
        {
          "output_type": "stream",
          "name": "stderr",
          "text": [
            "[Succeeded / Failed / Skipped / Total] 1 / 87 / 0 / 88:  44%|████▍     | 88/200 [00:08<00:10, 10.28it/s]"
          ]
        },
        {
          "output_type": "stream",
          "name": "stdout",
          "text": [
            "--------------------------------------------- Result 88 ---------------------------------------------\n",
            "[[2 (100%)]] --> [[[FAILED]]]\n",
            "\n",
            "What the suit calls the pharmaceutical's \"aggressive marketing,\" the sheriff and his attorney feel have contributed to the rise in opioid use, addiction and overdose.\r\n",
            "\n",
            "\n",
            "\n"
          ]
        },
        {
          "output_type": "stream",
          "name": "stderr",
          "text": [
            "[Succeeded / Failed / Skipped / Total] 1 / 89 / 0 / 90:  45%|████▌     | 90/200 [00:08<00:10, 10.12it/s]"
          ]
        },
        {
          "output_type": "stream",
          "name": "stdout",
          "text": [
            "--------------------------------------------- Result 89 ---------------------------------------------\n",
            "[[2 (100%)]] --> [[[FAILED]]]\n",
            "\n",
            "We share border with other countries and cannot afford to just point finger at whichever direction.\r\n",
            "\n",
            "\n",
            "\n",
            "--------------------------------------------- Result 90 ---------------------------------------------\n",
            "[[2 (100%)]] --> [[[FAILED]]]\n",
            "\n",
            "\"We came out in the third period, we were ready to play, and we had some unlucky bounces.\r\n",
            "\n",
            "\n",
            "\n"
          ]
        },
        {
          "output_type": "stream",
          "name": "stderr",
          "text": [
            "[Succeeded / Failed / Skipped / Total] 1 / 91 / 0 / 92:  46%|████▌     | 92/200 [00:09<00:10, 10.09it/s]"
          ]
        },
        {
          "output_type": "stream",
          "name": "stdout",
          "text": [
            "--------------------------------------------- Result 91 ---------------------------------------------\n",
            "[[2 (100%)]] --> [[[FAILED]]]\n",
            "\n",
            "\"We're just good friends, and he's been incredibly loyal to me,\" Paxton in a 1998 interview.\r\n",
            "\n",
            "\n",
            "\n",
            "--------------------------------------------- Result 92 ---------------------------------------------\n",
            "[[2 (100%)]] --> [[[FAILED]]]\n",
            "\n",
            "Where can you ask questions and talk about bullying, harassment and discrimination on campus?\r\n",
            "\n",
            "\n",
            "\n"
          ]
        },
        {
          "output_type": "stream",
          "name": "stderr",
          "text": [
            "[Succeeded / Failed / Skipped / Total] 1 / 94 / 0 / 95:  48%|████▊     | 95/200 [00:09<00:10, 10.03it/s]"
          ]
        },
        {
          "output_type": "stream",
          "name": "stdout",
          "text": [
            "--------------------------------------------- Result 93 ---------------------------------------------\n",
            "[[2 (100%)]] --> [[[FAILED]]]\n",
            "\n",
            "Wisdom's small plot, a few steps from his front step, is located right beside the main road in the community.\r\n",
            "\n",
            "\n",
            "\n",
            "--------------------------------------------- Result 94 ---------------------------------------------\n",
            "[[2 (100%)]] --> [[[FAILED]]]\n",
            "\n",
            "Women invited her to their homes to deliver lectures on religious subjects.\r\n",
            "\n",
            "\n",
            "\n",
            "--------------------------------------------- Result 95 ---------------------------------------------\n",
            "[[2 (100%)]] --> [[[FAILED]]]\n",
            "\n",
            "Whoever that was, I don't know any names or who that family was,\" Berube says.\r\n",
            "\n",
            "\n",
            "\n"
          ]
        },
        {
          "output_type": "stream",
          "name": "stderr",
          "text": [
            "[Succeeded / Failed / Skipped / Total] 1 / 95 / 0 / 96:  48%|████▊     | 96/200 [00:09<00:10,  9.98it/s]"
          ]
        },
        {
          "output_type": "stream",
          "name": "stdout",
          "text": [
            "--------------------------------------------- Result 96 ---------------------------------------------\n",
            "[[2 (99%)]] --> [[[FAILED]]]\n",
            "\n",
            "Wellness Medical Supplies offers medical equipment rental options for those in need of short-term assistance.\r\n",
            "\n",
            "\n",
            "\n"
          ]
        },
        {
          "output_type": "stream",
          "name": "stderr",
          "text": [
            "[Succeeded / Failed / Skipped / Total] 1 / 97 / 0 / 98:  49%|████▉     | 98/200 [00:09<00:10,  9.87it/s]"
          ]
        },
        {
          "output_type": "stream",
          "name": "stdout",
          "text": [
            "--------------------------------------------- Result 97 ---------------------------------------------\n",
            "[[2 (100%)]] --> [[[FAILED]]]\n",
            "\n",
            "\"We have a couple of our junior members that have came in just for certain particular roles that required a younger cast member for,\" said Smith.\r\n",
            "\n",
            "\n",
            "\n",
            "--------------------------------------------- Result 98 ---------------------------------------------\n",
            "[[2 (100%)]] --> [[[FAILED]]]\n",
            "\n",
            "Your information will be saved and you can get the SIM card legally.\r\n",
            "\n",
            "\n",
            "\n"
          ]
        },
        {
          "output_type": "stream",
          "name": "stderr",
          "text": [
            "[Succeeded / Failed / Skipped / Total] 1 / 99 / 0 / 100:  50%|█████     | 100/200 [00:10<00:10,  9.69it/s]"
          ]
        },
        {
          "output_type": "stream",
          "name": "stdout",
          "text": [
            "--------------------------------------------- Result 99 ---------------------------------------------\n",
            "[[2 (100%)]] --> [[[FAILED]]]\n",
            "\n",
            "Very close friends of the family would always come from Pittsburgh to visit and we would spend the day and evening together.\r\n",
            "\n",
            "\n",
            "\n",
            "--------------------------------------------- Result 100 ---------------------------------------------\n",
            "[[2 (100%)]] --> [[[FAILED]]]\n",
            "\n",
            "You know how in the most somber of situations something happens that makes you almost want to giggle?\r\n",
            "\n",
            "\n",
            "\n"
          ]
        },
        {
          "output_type": "stream",
          "name": "stderr",
          "text": [
            "[Succeeded / Failed / Skipped / Total] 1 / 101 / 0 / 102:  51%|█████     | 102/200 [00:10<00:10,  9.42it/s]"
          ]
        },
        {
          "output_type": "stream",
          "name": "stdout",
          "text": [
            "--------------------------------------------- Result 101 ---------------------------------------------\n",
            "[[2 (100%)]] --> [[[FAILED]]]\n",
            "\n",
            "\"We want to create new ways for students to get involved where they feel they contribute in the way we operate, or in ideas they can bring forward to us,\" said Hartung.\r\n",
            "\n",
            "\n",
            "\n",
            "--------------------------------------------- Result 102 ---------------------------------------------\n",
            "[[2 (100%)]] --> [[[FAILED]]]\n",
            "\n",
            "With his wife's diagnosis of ovarian cancer in the 2000s, the nursery became more difficult to keep up with.\r\n",
            "\n",
            "\n",
            "\n"
          ]
        },
        {
          "output_type": "stream",
          "name": "stderr",
          "text": [
            "\r[Succeeded / Failed / Skipped / Total] 1 / 102 / 0 / 103:  52%|█████▏    | 103/200 [00:10<00:10,  9.36it/s]"
          ]
        },
        {
          "output_type": "stream",
          "name": "stdout",
          "text": [
            "--------------------------------------------- Result 103 ---------------------------------------------\n",
            "[[2 (100%)]] --> [[[FAILED]]]\n",
            "\n",
            "Youths are comparable to bamboo shoots, as they will become the country's future leaders and officials.\r\n",
            "\n",
            "\n",
            "\n"
          ]
        },
        {
          "output_type": "stream",
          "name": "stderr",
          "text": [
            "[Succeeded / Failed / Skipped / Total] 1 / 104 / 0 / 105:  52%|█████▎    | 105/200 [00:11<00:10,  9.23it/s]"
          ]
        },
        {
          "output_type": "stream",
          "name": "stdout",
          "text": [
            "--------------------------------------------- Result 104 ---------------------------------------------\n",
            "[[2 (100%)]] --> [[[FAILED]]]\n",
            "\n",
            "We stand with communities across Colorado in calling on Governor Hickenlooper and the state legislature to reject any legislation that will undermine local control.\"\r\n",
            "\n",
            "\n",
            "\n",
            "--------------------------------------------- Result 105 ---------------------------------------------\n",
            "[[2 (100%)]] --> [[[FAILED]]]\n",
            "\n",
            "Were they considered likely to succeed or more of a long shot?\r\n",
            "\n",
            "\n",
            "\n"
          ]
        },
        {
          "output_type": "stream",
          "name": "stderr",
          "text": [
            "[Succeeded / Failed / Skipped / Total] 2 / 106 / 0 / 108:  54%|█████▍    | 108/200 [00:11<00:10,  9.20it/s]"
          ]
        },
        {
          "output_type": "stream",
          "name": "stdout",
          "text": [
            "--------------------------------------------- Result 106 ---------------------------------------------\n",
            "[[2 (100%)]] --> [[[FAILED]]]\n",
            "\n",
            "Wahlberg was also part of a number of concentrated efforts to revitalize downtown Bay Shore over the years.\r\n",
            "\n",
            "\n",
            "\n",
            "--------------------------------------------- Result 107 ---------------------------------------------\n",
            "[[2 (100%)]] --> [[4 (64%)]]\n",
            "\n",
            "\"You [[get]] a cycle where [[one]] thing [[leads]] to the other.\"\r\n",
            "\n",
            "\n",
            "\"You [[et]] a cycle where [[ne]] thing [[eads]] to the other.\"\r\n",
            "\n",
            "\n",
            "\n",
            "--------------------------------------------- Result 108 ---------------------------------------------\n",
            "[[2 (100%)]] --> [[[FAILED]]]\n",
            "\n",
            "Yesterday, protestors were met with a small scale counter-protest led by Georgian March, a far-right, ultra-nationalist, neo-nazi group that has a history of staging counter demonstrations and threatening violence.\r\n",
            "\n",
            "\n",
            "\n"
          ]
        },
        {
          "output_type": "stream",
          "name": "stderr",
          "text": [
            "[Succeeded / Failed / Skipped / Total] 2 / 108 / 0 / 110:  55%|█████▌    | 110/200 [00:11<00:09,  9.23it/s]"
          ]
        },
        {
          "output_type": "stream",
          "name": "stdout",
          "text": [
            "--------------------------------------------- Result 109 ---------------------------------------------\n",
            "[[2 (100%)]] --> [[[FAILED]]]\n",
            "\n",
            "What the servant owed the master is expressed as a myriad of talents.\r\n",
            "\n",
            "\n",
            "\n",
            "--------------------------------------------- Result 110 ---------------------------------------------\n",
            "[[2 (100%)]] --> [[[FAILED]]]\n",
            "\n",
            "\"We made an effort to promote relations between Iran and Brazil in public and private sectors and we are capable of having useful bilateral relations,\" he concluded.\r\n",
            "\n",
            "\n",
            "\n"
          ]
        },
        {
          "output_type": "stream",
          "name": "stderr",
          "text": [
            "[Succeeded / Failed / Skipped / Total] 2 / 112 / 0 / 114:  57%|█████▋    | 114/200 [00:12<00:09,  9.34it/s]"
          ]
        },
        {
          "output_type": "stream",
          "name": "stdout",
          "text": [
            "--------------------------------------------- Result 111 ---------------------------------------------\n",
            "[[2 (100%)]] --> [[[FAILED]]]\n",
            "\n",
            "\"We made changes in terms of the shape and dynamic of the team at half-time and I thought the boys were brilliant in the second half.\r\n",
            "\n",
            "\n",
            "\n",
            "--------------------------------------------- Result 112 ---------------------------------------------\n",
            "[[2 (100%)]] --> [[[FAILED]]]\n",
            "\n",
            "Your the only Santa and that makes you special to me!\r\n",
            "\n",
            "\n",
            "\n",
            "--------------------------------------------- Result 113 ---------------------------------------------\n",
            "[[2 (100%)]] --> [[[FAILED]]]\n",
            "\n",
            "Welcoming the probe, he said the truth would finally come out now and Khaunte would ultimately be exposed.\r\n",
            "\n",
            "\n",
            "\n",
            "--------------------------------------------- Result 114 ---------------------------------------------\n",
            "[[2 (100%)]] --> [[[FAILED]]]\n",
            "\n",
            "\"When that's all they're living in then that's how they perceive the world to be,\" she said of the children in her care.\r\n",
            "\n",
            "\n",
            "\n"
          ]
        },
        {
          "output_type": "stream",
          "name": "stderr",
          "text": [
            "[Succeeded / Failed / Skipped / Total] 2 / 115 / 0 / 117:  58%|█████▊    | 117/200 [00:12<00:08,  9.43it/s]"
          ]
        },
        {
          "output_type": "stream",
          "name": "stdout",
          "text": [
            "--------------------------------------------- Result 115 ---------------------------------------------\n",
            "[[2 (98%)]] --> [[[FAILED]]]\n",
            "\n",
            "Youth unemployment in Australia is currently sitting at 13.3 per cent.\r\n",
            "\n",
            "\n",
            "\n",
            "--------------------------------------------- Result 116 ---------------------------------------------\n",
            "[[2 (100%)]] --> [[[FAILED]]]\n",
            "\n",
            "Winners accumulate points for the next edition, where the winners of the 2017 circuit are defined.\r\n",
            "\n",
            "\n",
            "\n",
            "--------------------------------------------- Result 117 ---------------------------------------------\n",
            "[[2 (99%)]] --> [[[FAILED]]]\n",
            "\n",
            "Wednesday, August 16, 2017Excitedly families stood in anticipation as the food packages were distributed.\r\n",
            "\n",
            "\n",
            "\n"
          ]
        },
        {
          "output_type": "stream",
          "name": "stderr",
          "text": [
            "[Succeeded / Failed / Skipped / Total] 2 / 119 / 0 / 121:  60%|██████    | 121/200 [00:12<00:08,  9.53it/s]"
          ]
        },
        {
          "output_type": "stream",
          "name": "stdout",
          "text": [
            "--------------------------------------------- Result 118 ---------------------------------------------\n",
            "[[2 (100%)]] --> [[[FAILED]]]\n",
            "\n",
            "Under Carpenter's plan, the Freda Markley Center and Ervin (expected to be renamed the Ervin Early Learning Center) will house pre-school and kindergarten students.\r\n",
            "\n",
            "\n",
            "\n",
            "--------------------------------------------- Result 119 ---------------------------------------------\n",
            "[[2 (100%)]] --> [[[FAILED]]]\n",
            "\n",
            "You are doing a sport that any able-bodied person can do.\r\n",
            "\n",
            "\n",
            "\n",
            "--------------------------------------------- Result 120 ---------------------------------------------\n",
            "[[2 (100%)]] --> [[[FAILED]]]\n",
            "\n",
            "We are also going to build a 200ft pier into the sea and that will be a 200 ft by 30 ft pier and that will allow for interaction with the water.\r\n",
            "\n",
            "\n",
            "\n",
            "--------------------------------------------- Result 121 ---------------------------------------------\n",
            "[[2 (100%)]] --> [[[FAILED]]]\n",
            "\n",
            "We are delighted that Ballinamore have come on board this year.\r\n",
            "\n",
            "\n",
            "\n"
          ]
        },
        {
          "output_type": "stream",
          "name": "stderr",
          "text": [
            "[Succeeded / Failed / Skipped / Total] 2 / 123 / 0 / 125:  62%|██████▎   | 125/200 [00:12<00:07,  9.67it/s]"
          ]
        },
        {
          "output_type": "stream",
          "name": "stdout",
          "text": [
            "--------------------------------------------- Result 122 ---------------------------------------------\n",
            "[[2 (100%)]] --> [[[FAILED]]]\n",
            "\n",
            "We say it with all conceit and arrogance: the midan is ours.\r\n",
            "\n",
            "\n",
            "\n",
            "--------------------------------------------- Result 123 ---------------------------------------------\n",
            "[[2 (100%)]] --> [[[FAILED]]]\n",
            "\n",
            "We are very proud of the work and effort our students put into their program,\" Sanchez said.\r\n",
            "\n",
            "\n",
            "\n",
            "--------------------------------------------- Result 124 ---------------------------------------------\n",
            "[[2 (100%)]] --> [[[FAILED]]]\n",
            "\n",
            "When it was being proposed the city change its bylaws to allow food trucks to serve their wares by the roadside in...\r\n",
            "\n",
            "\n",
            "\n",
            "--------------------------------------------- Result 125 ---------------------------------------------\n",
            "[[2 (100%)]] --> [[[FAILED]]]\n",
            "\n",
            "When the census finally took place in 1998, it did have soldiers accompanying enumerators.\r\n",
            "\n",
            "\n",
            "\n"
          ]
        },
        {
          "output_type": "stream",
          "name": "stderr",
          "text": [
            "[Succeeded / Failed / Skipped / Total] 2 / 126 / 0 / 128:  64%|██████▍   | 129/200 [00:13<00:07,  9.74it/s]"
          ]
        },
        {
          "output_type": "stream",
          "name": "stdout",
          "text": [
            "--------------------------------------------- Result 126 ---------------------------------------------\n",
            "[[2 (100%)]] --> [[[FAILED]]]\n",
            "\n",
            "We have always worked to be a positive force on campus, collaborating with other student organizations and supporting their efforts in a spirit of sincere respect and cooperation.\r\n",
            "\n",
            "\n",
            "\n",
            "--------------------------------------------- Result 127 ---------------------------------------------\n",
            "[[2 (98%)]] --> [[[FAILED]]]\n",
            "\n",
            "Without regulation, these vaping cartridges could contain just as many carcinogens as cigarettes, or possibly even more.\r\n",
            "\n",
            "\n",
            "\n",
            "--------------------------------------------- Result 128 ---------------------------------------------\n",
            "[[2 (100%)]] --> [[[FAILED]]]\n",
            "\n",
            "\"We did not have a good option for the individual in their 80s or who had other high risk features that made open heart surgery dangerous for them.\r\n",
            "\n",
            "\n",
            "\n"
          ]
        },
        {
          "output_type": "stream",
          "name": "stderr",
          "text": [
            "[Succeeded / Failed / Skipped / Total] 2 / 131 / 0 / 133:  66%|██████▋   | 133/200 [00:13<00:06,  9.86it/s]"
          ]
        },
        {
          "output_type": "stream",
          "name": "stdout",
          "text": [
            "--------------------------------------------- Result 129 ---------------------------------------------\n",
            "[[2 (100%)]] --> [[[FAILED]]]\n",
            "\n",
            "We don't even really know for sure how much he did pay.\r\n",
            "\n",
            "\n",
            "\n",
            "--------------------------------------------- Result 130 ---------------------------------------------\n",
            "[[2 (100%)]] --> [[[FAILED]]]\n",
            "\n",
            "\"Why put extra fertilizer onto parts of the fields that don't need it?\"\r\n",
            "\n",
            "\n",
            "\n",
            "--------------------------------------------- Result 131 ---------------------------------------------\n",
            "[[2 (100%)]] --> [[[FAILED]]]\n",
            "\n",
            "Winners of the following Knox County Council Parent Teacher Association Awards are:.\r\n",
            "\n",
            "\n",
            "\n",
            "--------------------------------------------- Result 132 ---------------------------------------------\n",
            "[[2 (100%)]] --> [[[FAILED]]]\n",
            "\n",
            "Why feel a constant need to retaliate rather than listen in earnest?\r\n",
            "\n",
            "\n",
            "\n",
            "--------------------------------------------- Result 133 ---------------------------------------------\n",
            "[[2 (100%)]] --> [[[FAILED]]]\n",
            "\n",
            "With the demand for Cuba extremely high at present, there are other alternatives to consider, writes Simon Calder.\r\n",
            "\n",
            "\n",
            "\n"
          ]
        },
        {
          "output_type": "stream",
          "name": "stderr",
          "text": [
            "[Succeeded / Failed / Skipped / Total] 2 / 134 / 0 / 136:  68%|██████▊   | 136/200 [00:13<00:06,  9.86it/s]"
          ]
        },
        {
          "output_type": "stream",
          "name": "stdout",
          "text": [
            "--------------------------------------------- Result 134 ---------------------------------------------\n",
            "[[2 (100%)]] --> [[[FAILED]]]\n",
            "\n",
            "When she makes pasta for dinner, she stores the leftovers in Tupperware and wraps the containers in grocery bags in the refrigerator to hide them from John David because \"it's almost like he doesn't know when to stop eating or drinking.\"\r\n",
            "\n",
            "\n",
            "\n",
            "--------------------------------------------- Result 135 ---------------------------------------------\n",
            "[[2 (100%)]] --> [[[FAILED]]]\n",
            "\n",
            "Works on the 1,000 metre scheme at Kilgortnaleague are due to be completed on Friday, October 21st.\r\n",
            "\n",
            "\n",
            "\n",
            "--------------------------------------------- Result 136 ---------------------------------------------\n",
            "[[2 (100%)]] --> [[[FAILED]]]\n",
            "\n",
            "\"While we respect the fiscal challenges facing the government and the nation, we believe that cutting ARENA's budget would be short-sighted,\" the letter reads.\r\n",
            "\n",
            "\n",
            "\n"
          ]
        },
        {
          "output_type": "stream",
          "name": "stderr",
          "text": [
            "[Succeeded / Failed / Skipped / Total] 2 / 137 / 0 / 139:  70%|██████▉   | 139/200 [00:14<00:06,  9.89it/s]"
          ]
        },
        {
          "output_type": "stream",
          "name": "stdout",
          "text": [
            "--------------------------------------------- Result 137 ---------------------------------------------\n",
            "[[2 (100%)]] --> [[[FAILED]]]\n",
            "\n",
            "We put in a bagging system last year so we can bag whole corn, cracked corn and sunflower seed.\"\r\n",
            "\n",
            "\n",
            "\n",
            "--------------------------------------------- Result 138 ---------------------------------------------\n",
            "[[2 (100%)]] --> [[[FAILED]]]\n",
            "\n",
            "With respect to the recent revolution in Georgia, the popular movement there had \"very strong diplomatic support from the west\" which was bolstered by little resistance from the political elite.\r\n",
            "\n",
            "\n",
            "\n",
            "--------------------------------------------- Result 139 ---------------------------------------------\n",
            "[[2 (100%)]] --> [[[FAILED]]]\n",
            "\n",
            "When asked the secret to a long life, Irma Koch said simply, \"Don't smoke, and have a happy,.\r\n",
            "\n",
            "\n",
            "\n"
          ]
        },
        {
          "output_type": "stream",
          "name": "stderr",
          "text": [
            "[Succeeded / Failed / Skipped / Total] 2 / 140 / 0 / 142:  71%|███████   | 142/200 [00:14<00:05,  9.93it/s]"
          ]
        },
        {
          "output_type": "stream",
          "name": "stdout",
          "text": [
            "--------------------------------------------- Result 140 ---------------------------------------------\n",
            "[[2 (100%)]] --> [[[FAILED]]]\n",
            "\n",
            "\"We could have been a bit more comfortable but we came here and got three good points.\r\n",
            "\n",
            "\n",
            "\n",
            "--------------------------------------------- Result 141 ---------------------------------------------\n",
            "[[2 (100%)]] --> [[[FAILED]]]\n",
            "\n",
            "When asked about the plans of Global expansion, The Producer Director, Mr. Vikas Puri said\" We have already been doing our wedding shoots globally.\r\n",
            "\n",
            "\n",
            "\n",
            "--------------------------------------------- Result 142 ---------------------------------------------\n",
            "[[2 (100%)]] --> [[[FAILED]]]\n",
            "\n",
            "While land is undervalued, the claimed social benefits of large monocultures are typically over-stated.\r\n",
            "\n",
            "\n",
            "\n"
          ]
        },
        {
          "output_type": "stream",
          "name": "stderr",
          "text": [
            "[Succeeded / Failed / Skipped / Total] 2 / 143 / 0 / 145:  72%|███████▎  | 145/200 [00:14<00:05,  9.89it/s]"
          ]
        },
        {
          "output_type": "stream",
          "name": "stdout",
          "text": [
            "--------------------------------------------- Result 143 ---------------------------------------------\n",
            "[[2 (100%)]] --> [[[FAILED]]]\n",
            "\n",
            "WASHINGTON -- During an April 11 homily in Washington, Salvadoran Archbishop Jose Luis Escobar Alas said the canonization of Blessed Oscar Romero will \"probably\" be in Rome and \"probably\" take place at end of October after a meeting of bishops.\r\n",
            "\n",
            "\n",
            "\n",
            "--------------------------------------------- Result 144 ---------------------------------------------\n",
            "[[2 (100%)]] --> [[[FAILED]]]\n",
            "\n",
            "\"Where we lost our numbers, were in the so-called good weather months, which weren't such good weather this year,\" he said.\r\n",
            "\n",
            "\n",
            "\n",
            "--------------------------------------------- Result 145 ---------------------------------------------\n",
            "[[2 (100%)]] --> [[[FAILED]]]\n",
            "\n",
            "\"When tragedy happens like that, people tend to rally,\" she said, adding that August, the month after the fire, was the best month ever for business at Bothell Chiropractic and Wellness.\r\n",
            "\n",
            "\n",
            "\n"
          ]
        },
        {
          "output_type": "stream",
          "name": "stderr",
          "text": [
            "[Succeeded / Failed / Skipped / Total] 2 / 146 / 0 / 148:  74%|███████▍  | 148/200 [00:14<00:05,  9.99it/s]"
          ]
        },
        {
          "output_type": "stream",
          "name": "stdout",
          "text": [
            "--------------------------------------------- Result 146 ---------------------------------------------\n",
            "[[2 (100%)]] --> [[[FAILED]]]\n",
            "\n",
            "We were all looking for and expecting the snipers to be White men.\r\n",
            "\n",
            "\n",
            "\n",
            "--------------------------------------------- Result 147 ---------------------------------------------\n",
            "[[2 (100%)]] --> [[[FAILED]]]\n",
            "\n",
            "Your $50 tax credit isn't going to get you far in this election.\r\n",
            "\n",
            "\n",
            "\n",
            "--------------------------------------------- Result 148 ---------------------------------------------\n",
            "[[2 (100%)]] --> [[[FAILED]]]\n",
            "\n",
            "When you get to a point where you realise I'm not living for you.\r\n",
            "\n",
            "\n",
            "\n"
          ]
        },
        {
          "output_type": "stream",
          "name": "stderr",
          "text": [
            "[Succeeded / Failed / Skipped / Total] 2 / 149 / 0 / 151:  76%|███████▌  | 151/200 [00:15<00:04, 10.05it/s]"
          ]
        },
        {
          "output_type": "stream",
          "name": "stdout",
          "text": [
            "--------------------------------------------- Result 149 ---------------------------------------------\n",
            "[[2 (100%)]] --> [[[FAILED]]]\n",
            "\n",
            "When it comes to the three business promotion organisations, that is MDC, METCO and IPSE, the survey has highlighted quite significant differences in perceptions.\r\n",
            "\n",
            "\n",
            "\n",
            "--------------------------------------------- Result 150 ---------------------------------------------\n",
            "[[2 (100%)]] --> [[[FAILED]]]\n",
            "\n",
            "What makes it really special is it was David's first and last car.\r\n",
            "\n",
            "\n",
            "\n",
            "--------------------------------------------- Result 151 ---------------------------------------------\n",
            "[[2 (100%)]] --> [[[FAILED]]]\n",
            "\n",
            "Vladimir Putin approved a composition of the Public Chamber of the Russian Federation.\r\n",
            "\n",
            "\n",
            "\n"
          ]
        },
        {
          "output_type": "stream",
          "name": "stderr",
          "text": [
            "[Succeeded / Failed / Skipped / Total] 2 / 151 / 0 / 153:  76%|███████▋  | 153/200 [00:15<00:04, 10.02it/s]"
          ]
        },
        {
          "output_type": "stream",
          "name": "stdout",
          "text": [
            "--------------------------------------------- Result 152 ---------------------------------------------\n",
            "[[2 (100%)]] --> [[[FAILED]]]\n",
            "\n",
            "Wessen had complained to the Office of the Attorney General claiming that Lidet has committed a breach of conduct in taking away clients from her father's law firm without his consent.\r\n",
            "\n",
            "\n",
            "\n",
            "--------------------------------------------- Result 153 ---------------------------------------------\n",
            "[[2 (100%)]] --> [[[FAILED]]]\n",
            "\n",
            "Well known travel writer Rick Steves is busy writing his guidebook Rick Steve's Iceland, On his blog however he's published a few budget tips for Iceland travels.\r\n",
            "\n",
            "\n",
            "\n"
          ]
        },
        {
          "output_type": "stream",
          "name": "stderr",
          "text": [
            "[Succeeded / Failed / Skipped / Total] 3 / 153 / 0 / 156:  78%|███████▊  | 156/200 [00:15<00:04, 10.03it/s]"
          ]
        },
        {
          "output_type": "stream",
          "name": "stdout",
          "text": [
            "--------------------------------------------- Result 154 ---------------------------------------------\n",
            "[[2 (100%)]] --> [[[FAILED]]]\n",
            "\n",
            "\"Within seconds, minutes, it's going to become deadly,\" said Captain Andy Skaggs of TFD about flooding in washes and streets in Tucson.\r\n",
            "\n",
            "\n",
            "\n",
            "--------------------------------------------- Result 155 ---------------------------------------------\n",
            "[[2 (100%)]] --> [[[FAILED]]]\n",
            "\n",
            "We are till date yet to see a five (5) inches cement block laid for the first of the 200 senior high schools as promised ahead of elections 2012.\r\n",
            "\n",
            "\n",
            "\n",
            "--------------------------------------------- Result 156 ---------------------------------------------\n",
            "[[2 (99%)]] --> [[7 (99%)]]\n",
            "\n",
            "User Udugu [[Wa]] Kiislamu regularly [[posts]] [[news]] bulletins from the ISIS-affiliated Wilayat [[News]] Network (WNN).\r\n",
            "\n",
            "\n",
            "User Udugu [[W]] Kiislamu regularly [[Uosts]] [[Oews]] bulletins from the ISIS-affiliated Wilayat [[NUws]] Network (WNN).\r\n",
            "\n",
            "\n",
            "\n"
          ]
        },
        {
          "output_type": "stream",
          "name": "stderr",
          "text": [
            "[Succeeded / Failed / Skipped / Total] 3 / 156 / 0 / 159:  80%|███████▉  | 159/200 [00:15<00:04, 10.06it/s]"
          ]
        },
        {
          "output_type": "stream",
          "name": "stdout",
          "text": [
            "--------------------------------------------- Result 157 ---------------------------------------------\n",
            "[[2 (100%)]] --> [[[FAILED]]]\n",
            "\n",
            "\"We're not in the business of trading good players for prospects when your team has a chance to win the (Stanley) Cup.\r\n",
            "\n",
            "\n",
            "\n",
            "--------------------------------------------- Result 158 ---------------------------------------------\n",
            "[[2 (100%)]] --> [[[FAILED]]]\n",
            "\n",
            "We tried the octopus carpaccio to start, which was soft and delicate, served with the unlikely combination of truffle cream and marinated apples.\r\n",
            "\n",
            "\n",
            "\n",
            "--------------------------------------------- Result 159 ---------------------------------------------\n",
            "[[2 (100%)]] --> [[[FAILED]]]\n",
            "\n",
            "Yet, even in the absence of feelings of hunger, she looked forward to what had become ritualized bouts of food stuffing and self induced vomiting.\r\n",
            "\n",
            "\n",
            "\n"
          ]
        },
        {
          "output_type": "stream",
          "name": "stderr",
          "text": [
            "[Succeeded / Failed / Skipped / Total] 3 / 159 / 0 / 162:  81%|████████  | 162/200 [00:16<00:03, 10.05it/s]"
          ]
        },
        {
          "output_type": "stream",
          "name": "stdout",
          "text": [
            "--------------------------------------------- Result 160 ---------------------------------------------\n",
            "[[2 (100%)]] --> [[[FAILED]]]\n",
            "\n",
            "We are proud of our contribution to the growth and development of healthcare in Qatar and proud to be part of the private sector's active partnership in achieving the developmental goals of Qatar.\"\r\n",
            "\n",
            "\n",
            "\n",
            "--------------------------------------------- Result 161 ---------------------------------------------\n",
            "[[2 (100%)]] --> [[[FAILED]]]\n",
            "\n",
            "You are invited to support the Foundation by individual gifts of cash, planned gifts, life insurance, retirement accounts, securities, real estate, grant funding and also corporate contributions.\r\n",
            "\n",
            "\n",
            "\n",
            "--------------------------------------------- Result 162 ---------------------------------------------\n",
            "[[2 (100%)]] --> [[[FAILED]]]\n",
            "\n",
            "You either drop out right now, or you lose by the biggest landslide in American political history.\"\r\n",
            "\n",
            "\n",
            "\n"
          ]
        },
        {
          "output_type": "stream",
          "name": "stderr",
          "text": [
            "[Succeeded / Failed / Skipped / Total] 3 / 162 / 0 / 165:  82%|████████▎ | 165/200 [00:16<00:03, 10.04it/s]"
          ]
        },
        {
          "output_type": "stream",
          "name": "stdout",
          "text": [
            "--------------------------------------------- Result 163 ---------------------------------------------\n",
            "[[2 (100%)]] --> [[[FAILED]]]\n",
            "\n",
            "\"We came across the amazing work of pioneers like Daphne Oram back in the 1940s and 50s -- she pushed ahead with the development of electronic works, and even built her own synthesiser before they had really taken off,\" Melania Jack said.\r\n",
            "\n",
            "\n",
            "\n",
            "--------------------------------------------- Result 164 ---------------------------------------------\n",
            "[[2 (100%)]] --> [[[FAILED]]]\n",
            "\n",
            "Whether it is a tie game, or we have a lead, or we are down one or two goals, we are going to be the best team in the third period every time.\r\n",
            "\n",
            "\n",
            "\n",
            "--------------------------------------------- Result 165 ---------------------------------------------\n",
            "[[2 (100%)]] --> [[[FAILED]]]\n",
            "\n",
            "Whatever the age or occasion, there is something for all the family.\r\n",
            "\n",
            "\n",
            "\n"
          ]
        },
        {
          "output_type": "stream",
          "name": "stderr",
          "text": [
            "[Succeeded / Failed / Skipped / Total] 3 / 164 / 0 / 167:  84%|████████▎ | 167/200 [00:16<00:03, 10.07it/s]"
          ]
        },
        {
          "output_type": "stream",
          "name": "stdout",
          "text": [
            "--------------------------------------------- Result 166 ---------------------------------------------\n",
            "[[2 (100%)]] --> [[[FAILED]]]\n",
            "\n",
            "What he really replied (according to one report) was, \"I have not yet thought of it, but I am determined to make you strike.\"\r\n",
            "\n",
            "\n",
            "\n",
            "--------------------------------------------- Result 167 ---------------------------------------------\n",
            "[[2 (100%)]] --> [[[FAILED]]]\n",
            "\n",
            "Yet, the senator did not worry about the legality or repercussions of the continued targeted killings in Somalia, Yemen or Pakistan.\r\n",
            "\n",
            "\n",
            "\n"
          ]
        },
        {
          "output_type": "stream",
          "name": "stderr",
          "text": [
            "[Succeeded / Failed / Skipped / Total] 3 / 166 / 0 / 169:  84%|████████▍ | 169/200 [00:16<00:03, 10.05it/s]"
          ]
        },
        {
          "output_type": "stream",
          "name": "stdout",
          "text": [
            "--------------------------------------------- Result 168 ---------------------------------------------\n",
            "[[2 (100%)]] --> [[[FAILED]]]\n",
            "\n",
            "\"We really needed to get down to 140 to make it small enough to continue to sort of hold the line in terms of our entering LSAT and undergraduate GPA scores,\" said Craig Boise, dean of C-M Law.\r\n",
            "\n",
            "\n",
            "\n",
            "--------------------------------------------- Result 169 ---------------------------------------------\n",
            "[[2 (99%)]] --> [[[FAILED]]]\n",
            "\n",
            "Unemployment is officially at 14% and per capita income is officially $2200/year.\r\n",
            "\n",
            "\n",
            "\n"
          ]
        },
        {
          "output_type": "stream",
          "name": "stderr",
          "text": [
            "[Succeeded / Failed / Skipped / Total] 3 / 169 / 0 / 172:  86%|████████▌ | 172/200 [00:17<00:02, 10.04it/s]"
          ]
        },
        {
          "output_type": "stream",
          "name": "stdout",
          "text": [
            "--------------------------------------------- Result 170 ---------------------------------------------\n",
            "[[2 (100%)]] --> [[[FAILED]]]\n",
            "\n",
            "While most of Sweden's schools are run by the local municipality, there are also a large number of independent schools (), which are publicly funded and must follow government guidelines on the curriculum, but operate independently.\r\n",
            "\n",
            "\n",
            "\n",
            "--------------------------------------------- Result 171 ---------------------------------------------\n",
            "[[2 (100%)]] --> [[[FAILED]]]\n",
            "\n",
            "With the Irish question threatening to hold up any agreement on the transition period, a deal, has been struck, said Barnier.\r\n",
            "\n",
            "\n",
            "\n",
            "--------------------------------------------- Result 172 ---------------------------------------------\n",
            "[[2 (100%)]] --> [[[FAILED]]]\n",
            "\n",
            "VIRGIN Media has asked Ofcom to pause the auction of TV rights for Premier League football.\r\n",
            "\n",
            "\n",
            "\n"
          ]
        },
        {
          "output_type": "stream",
          "name": "stderr",
          "text": [
            "[Succeeded / Failed / Skipped / Total] 3 / 171 / 0 / 174:  87%|████████▋ | 174/200 [00:17<00:02, 10.05it/s]"
          ]
        },
        {
          "output_type": "stream",
          "name": "stdout",
          "text": [
            "--------------------------------------------- Result 173 ---------------------------------------------\n",
            "[[2 (100%)]] --> [[[FAILED]]]\n",
            "\n",
            "U.S. troops in Afghanistan are relying more and more on the superior noses of military working dogs to sniff out deadly improvised explosive devices.\r\n",
            "\n",
            "\n",
            "\n",
            "--------------------------------------------- Result 174 ---------------------------------------------\n",
            "[[2 (100%)]] --> [[[FAILED]]]\n",
            "\n",
            "With the integrated system, every item is accounted for: from the moment the stock arrives, all the way through to delivery.\r\n",
            "\n",
            "\n",
            "\n"
          ]
        },
        {
          "output_type": "stream",
          "name": "stderr",
          "text": [
            "[Succeeded / Failed / Skipped / Total] 3 / 174 / 0 / 177:  88%|████████▊ | 177/200 [00:17<00:02, 10.05it/s]"
          ]
        },
        {
          "output_type": "stream",
          "name": "stdout",
          "text": [
            "--------------------------------------------- Result 175 ---------------------------------------------\n",
            "[[2 (100%)]] --> [[[FAILED]]]\n",
            "\n",
            "When the LTTE lost Jaffna in 1995, it had places to retreat to as the Kumaratunga government had captured that town at the expense of the Eastern Province which the UNP government of the late President D. B. Wijetunge had cleared.\r\n",
            "\n",
            "\n",
            "\n",
            "--------------------------------------------- Result 176 ---------------------------------------------\n",
            "[[2 (100%)]] --> [[[FAILED]]]\n",
            "\n",
            "With the district administration declaring holiday after 1 pm, parents rushed to schools to pick up their wards.\r\n",
            "\n",
            "\n",
            "\n",
            "--------------------------------------------- Result 177 ---------------------------------------------\n",
            "[[2 (100%)]] --> [[[FAILED]]]\n",
            "\n",
            "We transfer your personally identifiable information if Conley acquires or is acquired by, or merges with another company.\r\n",
            "\n",
            "\n",
            "\n"
          ]
        },
        {
          "output_type": "stream",
          "name": "stderr",
          "text": [
            "[Succeeded / Failed / Skipped / Total] 3 / 178 / 0 / 181:  90%|█████████ | 181/200 [00:17<00:01, 10.10it/s]"
          ]
        },
        {
          "output_type": "stream",
          "name": "stdout",
          "text": [
            "--------------------------------------------- Result 178 ---------------------------------------------\n",
            "[[2 (100%)]] --> [[[FAILED]]]\n",
            "\n",
            "\"We shuffle our program around and try to fit all the work we need to do into seven days instead of eight,\" Mercedes technical director James Allison said.\r\n",
            "\n",
            "\n",
            "\n",
            "--------------------------------------------- Result 179 ---------------------------------------------\n",
            "[[2 (100%)]] --> [[[FAILED]]]\n",
            "\n",
            "\"We share the attorney general's concern about the opioid crisis,\" the company said in a statement.\r\n",
            "\n",
            "\n",
            "\n",
            "--------------------------------------------- Result 180 ---------------------------------------------\n",
            "[[2 (98%)]] --> [[[FAILED]]]\n",
            "\n",
            "\"When it comes to covering religion, reporters tend to veer between being overly cynical to being overly credulous,\" he says.\r\n",
            "\n",
            "\n",
            "\n",
            "--------------------------------------------- Result 181 ---------------------------------------------\n",
            "[[2 (90%)]] --> [[[FAILED]]]\n",
            "\n",
            "\"We watched as these beams were being trucked down Blithedale,\" Jovinta Addeo said.\r\n",
            "\n",
            "\n",
            "\n"
          ]
        },
        {
          "output_type": "stream",
          "name": "stderr",
          "text": [
            "[Succeeded / Failed / Skipped / Total] 3 / 181 / 0 / 184:  92%|█████████▏| 184/200 [00:18<00:01, 10.11it/s]"
          ]
        },
        {
          "output_type": "stream",
          "name": "stdout",
          "text": [
            "--------------------------------------------- Result 182 ---------------------------------------------\n",
            "[[2 (100%)]] --> [[[FAILED]]]\n",
            "\n",
            "While the Bay Area has other ranges, club officials estimate the Chabot Gun Club accounts for nearly 25 percent of rifle shooting positions in the region.\r\n",
            "\n",
            "\n",
            "\n",
            "--------------------------------------------- Result 183 ---------------------------------------------\n",
            "[[2 (100%)]] --> [[[FAILED]]]\n",
            "\n",
            "When the team returned to campus, she informed coach Geno Auriemma that she would not use her final year of eligibility.\r\n",
            "\n",
            "\n",
            "\n",
            "--------------------------------------------- Result 184 ---------------------------------------------\n",
            "[[2 (100%)]] --> [[[FAILED]]]\n",
            "\n",
            "Without international organizations of women abusers to point our finger at, we relegate misogyny to \"the act of a lone madman.\"\r\n",
            "\n",
            "\n",
            "\n"
          ]
        },
        {
          "output_type": "stream",
          "name": "stderr",
          "text": [
            "[Succeeded / Failed / Skipped / Total] 3 / 183 / 0 / 186:  93%|█████████▎| 186/200 [00:18<00:01, 10.09it/s]"
          ]
        },
        {
          "output_type": "stream",
          "name": "stdout",
          "text": [
            "--------------------------------------------- Result 185 ---------------------------------------------\n",
            "[[2 (100%)]] --> [[[FAILED]]]\n",
            "\n",
            "\"We can safely say that our men and women in uniform can work with greater hope in all parts of the country.\r\n",
            "\n",
            "\n",
            "\n",
            "--------------------------------------------- Result 186 ---------------------------------------------\n",
            "[[2 (100%)]] --> [[[FAILED]]]\n",
            "\n",
            "We camped outside the town, just within view of the Turkish fort on the hill, and beside huge middens of shells, gathered from the mangroves as sustenance for an unknown people long ago.\r\n",
            "\n",
            "\n",
            "\n"
          ]
        },
        {
          "output_type": "stream",
          "name": "stderr",
          "text": [
            "[Succeeded / Failed / Skipped / Total] 3 / 186 / 0 / 189:  94%|█████████▍| 189/200 [00:18<00:01, 10.14it/s]"
          ]
        },
        {
          "output_type": "stream",
          "name": "stdout",
          "text": [
            "--------------------------------------------- Result 187 ---------------------------------------------\n",
            "[[2 (100%)]] --> [[[FAILED]]]\n",
            "\n",
            "U.S. Women's National Team's Julie Ertz complains about a call in Sandy on Thursday, June 7, 2018.\r\n",
            "\n",
            "\n",
            "\n",
            "--------------------------------------------- Result 188 ---------------------------------------------\n",
            "[[2 (100%)]] --> [[[FAILED]]]\n",
            "\n",
            "We are not suggesting that any but the most experienced investors look at EISs and SEISs.\r\n",
            "\n",
            "\n",
            "\n",
            "--------------------------------------------- Result 189 ---------------------------------------------\n",
            "[[2 (100%)]] --> [[[FAILED]]]\n",
            "\n",
            "With All Access, listen to everything, everywhere, in your car and on your computer, smartphone or tablet.\r\n",
            "\n",
            "\n",
            "\n"
          ]
        },
        {
          "output_type": "stream",
          "name": "stderr",
          "text": [
            "[Succeeded / Failed / Skipped / Total] 3 / 189 / 0 / 192:  96%|█████████▌| 192/200 [00:18<00:00, 10.16it/s]"
          ]
        },
        {
          "output_type": "stream",
          "name": "stdout",
          "text": [
            "--------------------------------------------- Result 190 ---------------------------------------------\n",
            "[[2 (100%)]] --> [[[FAILED]]]\n",
            "\n",
            "With a physical paper, you will see everything, you can read anything, and when you get to the end, you're done.\r\n",
            "\n",
            "\n",
            "\n",
            "--------------------------------------------- Result 191 ---------------------------------------------\n",
            "[[2 (100%)]] --> [[[FAILED]]]\n",
            "\n",
            "Unfortunately, the Founders also presumed that people charged with making electoral decisions in our representative democracy would have a quite different goal than many today.\r\n",
            "\n",
            "\n",
            "\n",
            "--------------------------------------------- Result 192 ---------------------------------------------\n",
            "[[2 (100%)]] --> [[[FAILED]]]\n",
            "\n",
            "\"We need to get a letter of approval from the EPD to make it a viable option,\" Grant said.\r\n",
            "\n",
            "\n",
            "\n"
          ]
        },
        {
          "output_type": "stream",
          "name": "stderr",
          "text": [
            "[Succeeded / Failed / Skipped / Total] 4 / 191 / 0 / 195:  98%|█████████▊| 195/200 [00:19<00:00, 10.18it/s]"
          ]
        },
        {
          "output_type": "stream",
          "name": "stdout",
          "text": [
            "--------------------------------------------- Result 193 ---------------------------------------------\n",
            "[[2 (95%)]] --> [[7 (95%)]]\n",
            "\n",
            "[[We've]] gotten defendants [[back]] from Mexico, from [[Canada]], from [[Europe]],\" [[said]] Corey.\r\n",
            "\n",
            "\n",
            "[[W'eve]] gotten defendants [[abck]] from Mexico, from [[CInada]], from [[Eurbpe]],\" [[sadi]] Corey.\r\n",
            "\n",
            "\n",
            "\n",
            "--------------------------------------------- Result 194 ---------------------------------------------\n",
            "[[2 (100%)]] --> [[[FAILED]]]\n",
            "\n",
            "When they arrived in 1992, they were assigned a lieutenant from the Interior Ministry's industrial and scientific espionage division as a handler: Jose Cohen.\r\n",
            "\n",
            "\n",
            "\n",
            "--------------------------------------------- Result 195 ---------------------------------------------\n",
            "[[2 (100%)]] --> [[[FAILED]]]\n",
            "\n",
            "With a purple-pink interface for women and brown for men, the site denotes itself with a calculated discretion.\r\n",
            "\n",
            "\n",
            "\n"
          ]
        },
        {
          "output_type": "stream",
          "name": "stderr",
          "text": [
            "[Succeeded / Failed / Skipped / Total] 4 / 193 / 0 / 197:  98%|█████████▊| 197/200 [00:19<00:00, 10.21it/s]"
          ]
        },
        {
          "output_type": "stream",
          "name": "stdout",
          "text": [
            "--------------------------------------------- Result 196 ---------------------------------------------\n",
            "[[2 (100%)]] --> [[[FAILED]]]\n",
            "\n",
            "We need your support to be able to protect your from men like these.\"\r\n",
            "\n",
            "\n",
            "\n",
            "--------------------------------------------- Result 197 ---------------------------------------------\n",
            "[[2 (100%)]] --> [[[FAILED]]]\n",
            "\n",
            "Without the legal practitioners who devoted their time, skill and knowledge, the rate of clearance would certainly have looked very different.\r\n",
            "\n",
            "\n",
            "\n"
          ]
        },
        {
          "output_type": "stream",
          "name": "stderr",
          "text": [
            "[Succeeded / Failed / Skipped / Total] 5 / 195 / 0 / 200: 100%|██████████| 200/200 [00:19<00:00, 10.24it/s]"
          ]
        },
        {
          "output_type": "stream",
          "name": "stdout",
          "text": [
            "--------------------------------------------- Result 198 ---------------------------------------------\n",
            "[[2 (100%)]] --> [[[FAILED]]]\n",
            "\n",
            "\"We felt that, over time, fundraising had maybe taken priority over reading and writing at BookFest, and that we should think more about hands-on book-related activities for the kids,\" says Peter Laughton, festival organizer.\r\n",
            "\n",
            "\n",
            "\n",
            "--------------------------------------------- Result 199 ---------------------------------------------\n",
            "[[2 (99%)]] --> [[7 (61%)]]\n",
            "\n",
            "[[We]] [[need]] to [[limit]] radio station ownership to no more than 20 [[stations]].\r\n",
            "\n",
            "\n",
            "[[W]] [[eed]] to [[imit]] radio station ownership to no more than 20 [[statiNons]].\r\n",
            "\n",
            "\n",
            "\n",
            "--------------------------------------------- Result 200 ---------------------------------------------\n",
            "[[2 (100%)]] --> [[[FAILED]]]\n",
            "\n",
            "\"We then start moving into the next new set of brands,\" she says.\r\n",
            "\n",
            "\n",
            "\n",
            "\n",
            "+-------------------------------+--------+\n",
            "| Attack Results                |        |\n",
            "+-------------------------------+--------+\n",
            "| Number of successful attacks: | 5      |\n",
            "| Number of failed attacks:     | 195    |\n",
            "| Number of skipped attacks:    | 0      |\n",
            "| Original accuracy:            | 100.0% |\n",
            "| Accuracy under attack:        | 97.5%  |\n",
            "| Attack success rate:          | 2.5%   |\n",
            "| Average perturbed word %:     | 28.35% |\n",
            "| Average num. words per input: | 22.02  |\n",
            "| Avg num queries:              | 72.52  |\n",
            "+-------------------------------+--------+\n"
          ]
        },
        {
          "output_type": "stream",
          "name": "stderr",
          "text": [
            "\n"
          ]
        },
        {
          "output_type": "execute_result",
          "data": {
            "text/plain": [
              "[<textattack.attack_results.failed_attack_result.FailedAttackResult at 0x7fde4de55bd0>,\n",
              " <textattack.attack_results.failed_attack_result.FailedAttackResult at 0x7fde4fadec10>,\n",
              " <textattack.attack_results.failed_attack_result.FailedAttackResult at 0x7fde4e066b90>,\n",
              " <textattack.attack_results.failed_attack_result.FailedAttackResult at 0x7fde4d510750>,\n",
              " <textattack.attack_results.failed_attack_result.FailedAttackResult at 0x7fde4df97410>,\n",
              " <textattack.attack_results.failed_attack_result.FailedAttackResult at 0x7fde4d877690>,\n",
              " <textattack.attack_results.failed_attack_result.FailedAttackResult at 0x7fe1a63ea710>,\n",
              " <textattack.attack_results.failed_attack_result.FailedAttackResult at 0x7fde4e58d6d0>,\n",
              " <textattack.attack_results.failed_attack_result.FailedAttackResult at 0x7fde4db5ec50>,\n",
              " <textattack.attack_results.failed_attack_result.FailedAttackResult at 0x7fde4e496b10>,\n",
              " <textattack.attack_results.failed_attack_result.FailedAttackResult at 0x7fde4dc240d0>,\n",
              " <textattack.attack_results.failed_attack_result.FailedAttackResult at 0x7fde4df7e250>,\n",
              " <textattack.attack_results.failed_attack_result.FailedAttackResult at 0x7fde4db5e350>,\n",
              " <textattack.attack_results.failed_attack_result.FailedAttackResult at 0x7fde4d279f90>,\n",
              " <textattack.attack_results.failed_attack_result.FailedAttackResult at 0x7fde4dc24350>,\n",
              " <textattack.attack_results.failed_attack_result.FailedAttackResult at 0x7fde4d29b810>,\n",
              " <textattack.attack_results.failed_attack_result.FailedAttackResult at 0x7fde4e0b7b10>,\n",
              " <textattack.attack_results.failed_attack_result.FailedAttackResult at 0x7fde4e038dd0>,\n",
              " <textattack.attack_results.failed_attack_result.FailedAttackResult at 0x7fde4e066910>,\n",
              " <textattack.attack_results.failed_attack_result.FailedAttackResult at 0x7fde4e038490>,\n",
              " <textattack.attack_results.failed_attack_result.FailedAttackResult at 0x7fde4e066ed0>,\n",
              " <textattack.attack_results.failed_attack_result.FailedAttackResult at 0x7fde4daf8b90>,\n",
              " <textattack.attack_results.failed_attack_result.FailedAttackResult at 0x7fde4d851d10>,\n",
              " <textattack.attack_results.failed_attack_result.FailedAttackResult at 0x7fde4dd38310>,\n",
              " <textattack.attack_results.failed_attack_result.FailedAttackResult at 0x7fde4d29b610>,\n",
              " <textattack.attack_results.failed_attack_result.FailedAttackResult at 0x7fde4daba110>,\n",
              " <textattack.attack_results.successful_attack_result.SuccessfulAttackResult at 0x7fde4d6a50d0>,\n",
              " <textattack.attack_results.failed_attack_result.FailedAttackResult at 0x7fde4dd13ad0>,\n",
              " <textattack.attack_results.failed_attack_result.FailedAttackResult at 0x7fde4d376cd0>,\n",
              " <textattack.attack_results.failed_attack_result.FailedAttackResult at 0x7fde4df97710>,\n",
              " <textattack.attack_results.failed_attack_result.FailedAttackResult at 0x7fde4d6c8ed0>,\n",
              " <textattack.attack_results.failed_attack_result.FailedAttackResult at 0x7fde4d410f50>,\n",
              " <textattack.attack_results.failed_attack_result.FailedAttackResult at 0x7fde4cff5910>,\n",
              " <textattack.attack_results.failed_attack_result.FailedAttackResult at 0x7fde4d147c50>,\n",
              " <textattack.attack_results.failed_attack_result.FailedAttackResult at 0x7fde4decd1d0>,\n",
              " <textattack.attack_results.failed_attack_result.FailedAttackResult at 0x7fde4d6c8d90>,\n",
              " <textattack.attack_results.failed_attack_result.FailedAttackResult at 0x7fde4d02e110>,\n",
              " <textattack.attack_results.failed_attack_result.FailedAttackResult at 0x7fde4cf43050>,\n",
              " <textattack.attack_results.failed_attack_result.FailedAttackResult at 0x7fde4d29b150>,\n",
              " <textattack.attack_results.failed_attack_result.FailedAttackResult at 0x7fde4d60b610>,\n",
              " <textattack.attack_results.failed_attack_result.FailedAttackResult at 0x7fde4dc242d0>,\n",
              " <textattack.attack_results.failed_attack_result.FailedAttackResult at 0x7fde4d877910>,\n",
              " <textattack.attack_results.failed_attack_result.FailedAttackResult at 0x7fde4d13fe90>,\n",
              " <textattack.attack_results.failed_attack_result.FailedAttackResult at 0x7fde4d9dac50>,\n",
              " <textattack.attack_results.failed_attack_result.FailedAttackResult at 0x7fde4db5eed0>,\n",
              " <textattack.attack_results.failed_attack_result.FailedAttackResult at 0x7fde4d6a5390>,\n",
              " <textattack.attack_results.failed_attack_result.FailedAttackResult at 0x7fde4d60b890>,\n",
              " <textattack.attack_results.failed_attack_result.FailedAttackResult at 0x7fde4d638890>,\n",
              " <textattack.attack_results.failed_attack_result.FailedAttackResult at 0x7fde4d15ec90>,\n",
              " <textattack.attack_results.failed_attack_result.FailedAttackResult at 0x7fde4da50150>,\n",
              " <textattack.attack_results.failed_attack_result.FailedAttackResult at 0x7fde4dc24ad0>,\n",
              " <textattack.attack_results.failed_attack_result.FailedAttackResult at 0x7fde4d434d10>,\n",
              " <textattack.attack_results.failed_attack_result.FailedAttackResult at 0x7fde4d422d10>,\n",
              " <textattack.attack_results.failed_attack_result.FailedAttackResult at 0x7fde4cf4d7d0>,\n",
              " <textattack.attack_results.failed_attack_result.FailedAttackResult at 0x7fde4d279710>,\n",
              " <textattack.attack_results.failed_attack_result.FailedAttackResult at 0x7fde4cef9e10>,\n",
              " <textattack.attack_results.failed_attack_result.FailedAttackResult at 0x7fde4d6035d0>,\n",
              " <textattack.attack_results.failed_attack_result.FailedAttackResult at 0x7fde4d2ef510>,\n",
              " <textattack.attack_results.failed_attack_result.FailedAttackResult at 0x7fde4d69bbd0>,\n",
              " <textattack.attack_results.failed_attack_result.FailedAttackResult at 0x7fde4d776550>,\n",
              " <textattack.attack_results.failed_attack_result.FailedAttackResult at 0x7fde4d9ee150>,\n",
              " <textattack.attack_results.failed_attack_result.FailedAttackResult at 0x7fde4cf43290>,\n",
              " <textattack.attack_results.failed_attack_result.FailedAttackResult at 0x7fde4e0382d0>,\n",
              " <textattack.attack_results.failed_attack_result.FailedAttackResult at 0x7fde4df977d0>,\n",
              " <textattack.attack_results.failed_attack_result.FailedAttackResult at 0x7fde4d603f90>,\n",
              " <textattack.attack_results.failed_attack_result.FailedAttackResult at 0x7fde4d13ff50>,\n",
              " <textattack.attack_results.failed_attack_result.FailedAttackResult at 0x7fde4cfc5310>,\n",
              " <textattack.attack_results.failed_attack_result.FailedAttackResult at 0x7fde4cec5a90>,\n",
              " <textattack.attack_results.failed_attack_result.FailedAttackResult at 0x7fde4cb83ed0>,\n",
              " <textattack.attack_results.failed_attack_result.FailedAttackResult at 0x7fde4cee4c10>,\n",
              " <textattack.attack_results.failed_attack_result.FailedAttackResult at 0x7fde4cb916d0>,\n",
              " <textattack.attack_results.failed_attack_result.FailedAttackResult at 0x7fde4d6a5490>,\n",
              " <textattack.attack_results.failed_attack_result.FailedAttackResult at 0x7fde4cfa4c90>,\n",
              " <textattack.attack_results.failed_attack_result.FailedAttackResult at 0x7fde4d510610>,\n",
              " <textattack.attack_results.failed_attack_result.FailedAttackResult at 0x7fde4cee9090>,\n",
              " <textattack.attack_results.failed_attack_result.FailedAttackResult at 0x7fde4d13fc90>,\n",
              " <textattack.attack_results.failed_attack_result.FailedAttackResult at 0x7fde4cff5b90>,\n",
              " <textattack.attack_results.failed_attack_result.FailedAttackResult at 0x7fde4dfb8fd0>,\n",
              " <textattack.attack_results.failed_attack_result.FailedAttackResult at 0x7fde4db51390>,\n",
              " <textattack.attack_results.failed_attack_result.FailedAttackResult at 0x7fde4cef9c50>,\n",
              " <textattack.attack_results.failed_attack_result.FailedAttackResult at 0x7fde4cd38450>,\n",
              " <textattack.attack_results.failed_attack_result.FailedAttackResult at 0x7fde4cb91c90>,\n",
              " <textattack.attack_results.failed_attack_result.FailedAttackResult at 0x7fde4d245d90>,\n",
              " <textattack.attack_results.failed_attack_result.FailedAttackResult at 0x7fde4ccf91d0>,\n",
              " <textattack.attack_results.failed_attack_result.FailedAttackResult at 0x7fde4db55750>,\n",
              " <textattack.attack_results.failed_attack_result.FailedAttackResult at 0x7fde4d29b410>,\n",
              " <textattack.attack_results.failed_attack_result.FailedAttackResult at 0x7fde4dad5bd0>,\n",
              " <textattack.attack_results.failed_attack_result.FailedAttackResult at 0x7fde4d41ab90>,\n",
              " <textattack.attack_results.failed_attack_result.FailedAttackResult at 0x7fde4db55550>,\n",
              " <textattack.attack_results.failed_attack_result.FailedAttackResult at 0x7fde4cf4d5d0>,\n",
              " <textattack.attack_results.failed_attack_result.FailedAttackResult at 0x7fde4d277390>,\n",
              " <textattack.attack_results.failed_attack_result.FailedAttackResult at 0x7fde4ccf9210>,\n",
              " <textattack.attack_results.failed_attack_result.FailedAttackResult at 0x7fde4cb91c50>,\n",
              " <textattack.attack_results.failed_attack_result.FailedAttackResult at 0x7fde4d41ae90>,\n",
              " <textattack.attack_results.failed_attack_result.FailedAttackResult at 0x7fde4d6d3e50>,\n",
              " <textattack.attack_results.failed_attack_result.FailedAttackResult at 0x7fde4d12d2d0>,\n",
              " <textattack.attack_results.failed_attack_result.FailedAttackResult at 0x7fde4d20e050>,\n",
              " <textattack.attack_results.failed_attack_result.FailedAttackResult at 0x7fde4d2e2b90>,\n",
              " <textattack.attack_results.failed_attack_result.FailedAttackResult at 0x7fde4cef9bd0>,\n",
              " <textattack.attack_results.failed_attack_result.FailedAttackResult at 0x7fde4cfc5490>,\n",
              " <textattack.attack_results.failed_attack_result.FailedAttackResult at 0x7fde4cb3ca50>,\n",
              " <textattack.attack_results.failed_attack_result.FailedAttackResult at 0x7fde4cffca50>,\n",
              " <textattack.attack_results.failed_attack_result.FailedAttackResult at 0x7fde4da775d0>,\n",
              " <textattack.attack_results.failed_attack_result.FailedAttackResult at 0x7fde4d222390>,\n",
              " <textattack.attack_results.failed_attack_result.FailedAttackResult at 0x7fde4d2e2350>,\n",
              " <textattack.attack_results.failed_attack_result.FailedAttackResult at 0x7fde4d22f550>,\n",
              " <textattack.attack_results.successful_attack_result.SuccessfulAttackResult at 0x7fde4d434390>,\n",
              " <textattack.attack_results.failed_attack_result.FailedAttackResult at 0x7fde4dad5a90>,\n",
              " <textattack.attack_results.failed_attack_result.FailedAttackResult at 0x7fde4d2a4210>,\n",
              " <textattack.attack_results.failed_attack_result.FailedAttackResult at 0x7fde4d657f50>,\n",
              " <textattack.attack_results.failed_attack_result.FailedAttackResult at 0x7fde4cf4d750>,\n",
              " <textattack.attack_results.failed_attack_result.FailedAttackResult at 0x7fde4da50f10>,\n",
              " <textattack.attack_results.failed_attack_result.FailedAttackResult at 0x7fde4d147850>,\n",
              " <textattack.attack_results.failed_attack_result.FailedAttackResult at 0x7fde4d22ff90>,\n",
              " <textattack.attack_results.failed_attack_result.FailedAttackResult at 0x7fde4cd387d0>,\n",
              " <textattack.attack_results.failed_attack_result.FailedAttackResult at 0x7fde4d245750>,\n",
              " <textattack.attack_results.failed_attack_result.FailedAttackResult at 0x7fde4cb91d10>,\n",
              " <textattack.attack_results.failed_attack_result.FailedAttackResult at 0x7fde4d2ef2d0>,\n",
              " <textattack.attack_results.failed_attack_result.FailedAttackResult at 0x7fde4d807150>,\n",
              " <textattack.attack_results.failed_attack_result.FailedAttackResult at 0x7fde4cae47d0>,\n",
              " <textattack.attack_results.failed_attack_result.FailedAttackResult at 0x7fde4cb83490>,\n",
              " <textattack.attack_results.failed_attack_result.FailedAttackResult at 0x7fde4d245710>,\n",
              " <textattack.attack_results.failed_attack_result.FailedAttackResult at 0x7fde4dad5e90>,\n",
              " <textattack.attack_results.failed_attack_result.FailedAttackResult at 0x7fde4d6e4350>,\n",
              " <textattack.attack_results.failed_attack_result.FailedAttackResult at 0x7fde4cf63d10>,\n",
              " <textattack.attack_results.failed_attack_result.FailedAttackResult at 0x7fde4ca19810>,\n",
              " <textattack.attack_results.failed_attack_result.FailedAttackResult at 0x7fde4cf63090>,\n",
              " <textattack.attack_results.failed_attack_result.FailedAttackResult at 0x7fde4d1518d0>,\n",
              " <textattack.attack_results.failed_attack_result.FailedAttackResult at 0x7fde4cf0be10>,\n",
              " <textattack.attack_results.failed_attack_result.FailedAttackResult at 0x7fde4d807890>,\n",
              " <textattack.attack_results.failed_attack_result.FailedAttackResult at 0x7fde4d6e4d50>,\n",
              " <textattack.attack_results.failed_attack_result.FailedAttackResult at 0x7fde4cb91b50>,\n",
              " <textattack.attack_results.failed_attack_result.FailedAttackResult at 0x7fde4d510b10>,\n",
              " <textattack.attack_results.failed_attack_result.FailedAttackResult at 0x7fde4c2cd390>,\n",
              " <textattack.attack_results.failed_attack_result.FailedAttackResult at 0x7fde4d2386d0>,\n",
              " <textattack.attack_results.failed_attack_result.FailedAttackResult at 0x7fde4ca47fd0>,\n",
              " <textattack.attack_results.failed_attack_result.FailedAttackResult at 0x7fde4cf2d2d0>,\n",
              " <textattack.attack_results.failed_attack_result.FailedAttackResult at 0x7fde4cadfa90>,\n",
              " <textattack.attack_results.failed_attack_result.FailedAttackResult at 0x7fde4dc12cd0>,\n",
              " <textattack.attack_results.failed_attack_result.FailedAttackResult at 0x7fde4cb53e50>,\n",
              " <textattack.attack_results.failed_attack_result.FailedAttackResult at 0x7fde4c97f210>,\n",
              " <textattack.attack_results.failed_attack_result.FailedAttackResult at 0x7fde4d222150>,\n",
              " <textattack.attack_results.failed_attack_result.FailedAttackResult at 0x7fde4c093050>,\n",
              " <textattack.attack_results.failed_attack_result.FailedAttackResult at 0x7fde4cb832d0>,\n",
              " <textattack.attack_results.failed_attack_result.FailedAttackResult at 0x7fde4c6d4a90>,\n",
              " <textattack.attack_results.failed_attack_result.FailedAttackResult at 0x7fde4d815590>,\n",
              " <textattack.attack_results.failed_attack_result.FailedAttackResult at 0x7fde4dc12310>,\n",
              " <textattack.attack_results.failed_attack_result.FailedAttackResult at 0x7fde4cae4410>,\n",
              " <textattack.attack_results.failed_attack_result.FailedAttackResult at 0x7fde4c276bd0>,\n",
              " <textattack.attack_results.failed_attack_result.FailedAttackResult at 0x7fde4dd38e90>,\n",
              " <textattack.attack_results.failed_attack_result.FailedAttackResult at 0x7fde4cd38750>,\n",
              " <textattack.attack_results.failed_attack_result.FailedAttackResult at 0x7fde4c66b850>,\n",
              " <textattack.attack_results.failed_attack_result.FailedAttackResult at 0x7fde4c18ea10>,\n",
              " <textattack.attack_results.failed_attack_result.FailedAttackResult at 0x7fde4e006850>,\n",
              " <textattack.attack_results.failed_attack_result.FailedAttackResult at 0x7fde4c0a2fd0>,\n",
              " <textattack.attack_results.successful_attack_result.SuccessfulAttackResult at 0x7fde4cadf910>,\n",
              " <textattack.attack_results.failed_attack_result.FailedAttackResult at 0x7fde4d2459d0>,\n",
              " <textattack.attack_results.failed_attack_result.FailedAttackResult at 0x7fde4d2ef410>,\n",
              " <textattack.attack_results.failed_attack_result.FailedAttackResult at 0x7fde4ca47a90>,\n",
              " <textattack.attack_results.failed_attack_result.FailedAttackResult at 0x7fde4c2dbbd0>,\n",
              " <textattack.attack_results.failed_attack_result.FailedAttackResult at 0x7fde5424a410>,\n",
              " <textattack.attack_results.failed_attack_result.FailedAttackResult at 0x7fde4d4b6490>,\n",
              " <textattack.attack_results.failed_attack_result.FailedAttackResult at 0x7fde4d42ce10>,\n",
              " <textattack.attack_results.failed_attack_result.FailedAttackResult at 0x7fde4c0b0250>,\n",
              " <textattack.attack_results.failed_attack_result.FailedAttackResult at 0x7fde4d222890>,\n",
              " <textattack.attack_results.failed_attack_result.FailedAttackResult at 0x7fde4cdeb690>,\n",
              " <textattack.attack_results.failed_attack_result.FailedAttackResult at 0x7fde4cd2a4d0>,\n",
              " <textattack.attack_results.failed_attack_result.FailedAttackResult at 0x7fde4bd64ed0>,\n",
              " <textattack.attack_results.failed_attack_result.FailedAttackResult at 0x7fde4c77f6d0>,\n",
              " <textattack.attack_results.failed_attack_result.FailedAttackResult at 0x7fde4cbaf950>,\n",
              " <textattack.attack_results.failed_attack_result.FailedAttackResult at 0x7fde4cf553d0>,\n",
              " <textattack.attack_results.failed_attack_result.FailedAttackResult at 0x7fde4d10d290>,\n",
              " <textattack.attack_results.failed_attack_result.FailedAttackResult at 0x7fde4d2b9050>,\n",
              " <textattack.attack_results.failed_attack_result.FailedAttackResult at 0x7fde4d10d210>,\n",
              " <textattack.attack_results.failed_attack_result.FailedAttackResult at 0x7fde4c90cf10>,\n",
              " <textattack.attack_results.failed_attack_result.FailedAttackResult at 0x7fde4c23c750>,\n",
              " <textattack.attack_results.failed_attack_result.FailedAttackResult at 0x7fde4cb69f10>,\n",
              " <textattack.attack_results.failed_attack_result.FailedAttackResult at 0x7fde4c65cdd0>,\n",
              " <textattack.attack_results.failed_attack_result.FailedAttackResult at 0x7fde4cb536d0>,\n",
              " <textattack.attack_results.failed_attack_result.FailedAttackResult at 0x7fde4c90ca50>,\n",
              " <textattack.attack_results.failed_attack_result.FailedAttackResult at 0x7fde4cbaf090>,\n",
              " <textattack.attack_results.failed_attack_result.FailedAttackResult at 0x7fde4dc12190>,\n",
              " <textattack.attack_results.failed_attack_result.FailedAttackResult at 0x7fde4c18ec10>,\n",
              " <textattack.attack_results.failed_attack_result.FailedAttackResult at 0x7fde4c0934d0>,\n",
              " <textattack.attack_results.failed_attack_result.FailedAttackResult at 0x7fde4d25c310>,\n",
              " <textattack.attack_results.failed_attack_result.FailedAttackResult at 0x7fde4c832390>,\n",
              " <textattack.attack_results.failed_attack_result.FailedAttackResult at 0x7fde4c97f110>,\n",
              " <textattack.attack_results.failed_attack_result.FailedAttackResult at 0x7fde4ca19090>,\n",
              " <textattack.attack_results.failed_attack_result.FailedAttackResult at 0x7fde4cdc9690>,\n",
              " <textattack.attack_results.failed_attack_result.FailedAttackResult at 0x7fde4daccb90>,\n",
              " <textattack.attack_results.failed_attack_result.FailedAttackResult at 0x7fde4c6bd0d0>,\n",
              " <textattack.attack_results.failed_attack_result.FailedAttackResult at 0x7fde4c1455d0>,\n",
              " <textattack.attack_results.successful_attack_result.SuccessfulAttackResult at 0x7fde4d83d290>,\n",
              " <textattack.attack_results.failed_attack_result.FailedAttackResult at 0x7fde4c9b7b10>,\n",
              " <textattack.attack_results.failed_attack_result.FailedAttackResult at 0x7fde4cdd2a90>,\n",
              " <textattack.attack_results.failed_attack_result.FailedAttackResult at 0x7fde4c842850>,\n",
              " <textattack.attack_results.failed_attack_result.FailedAttackResult at 0x7fde4d222710>,\n",
              " <textattack.attack_results.failed_attack_result.FailedAttackResult at 0x7fde4bb02dd0>,\n",
              " <textattack.attack_results.successful_attack_result.SuccessfulAttackResult at 0x7fde4d20e6d0>,\n",
              " <textattack.attack_results.failed_attack_result.FailedAttackResult at 0x7fde4cae4d50>]"
            ]
          },
          "metadata": {},
          "execution_count": 28
        }
      ],
      "source": [
        "from textattack.attack_recipes import TextFoolerJin2019, PWWSRen2019, DeepWordBugGao2018, GeneticAlgorithmAlzantot2018\n",
        "from textattack import Attacker\n",
        "from textattack import AttackArgs\n",
        "\n",
        "# dataset = custom_dataset\n",
        "attack = DeepWordBugGao2018.build(model_wrapper)\n",
        "attack_args = AttackArgs(num_examples=200, log_to_csv=\"cnn_attack_deepwordbug_lang_recog.csv\")\n",
        "attacker = Attacker(attack, dataset, attack_args)\n",
        "attacker.attack_dataset()"
      ]
    },
    {
      "cell_type": "code",
      "execution_count": null,
      "metadata": {
        "id": "_ixCGS_80Ipw",
        "colab": {
          "base_uri": "https://localhost:8080/"
        },
        "outputId": "91f5ecc9-5f5f-4857-ca3a-d73c81ed8148"
      },
      "outputs": [
        {
          "output_type": "stream",
          "name": "stderr",
          "text": [
            "textattack: Unknown if model of class <class '__main__.CNN'> compatible with goal function <class 'textattack.goal_functions.classification.untargeted_classification.UntargetedClassification'>.\n",
            "textattack: Logging to CSV at path cnn_attack_pwws_lang_recog.csv\n"
          ]
        },
        {
          "output_type": "stream",
          "name": "stdout",
          "text": [
            "Attack(\n",
            "  (search_method): GreedyWordSwapWIR(\n",
            "    (wir_method):  weighted-saliency\n",
            "  )\n",
            "  (goal_function):  UntargetedClassification\n",
            "  (transformation):  WordSwapWordNet\n",
            "  (constraints): \n",
            "    (0): RepeatModification\n",
            "    (1): StopwordModification\n",
            "  (is_black_box):  True\n",
            ") \n",
            "\n"
          ]
        },
        {
          "output_type": "stream",
          "name": "stderr",
          "text": [
            "[Succeeded / Failed / Skipped / Total] 0 / 1 / 0 / 1:   0%|          | 1/200 [00:00<00:55,  3.59it/s]"
          ]
        },
        {
          "output_type": "stream",
          "name": "stdout",
          "text": [
            "--------------------------------------------- Result 1 ---------------------------------------------\n",
            "[[2 (100%)]] --> [[[FAILED]]]\n",
            "\n",
            "United Kingdom and United States sanctions against Zimbabwe illustrate the \"warm-up\" approach, followed by a \"knock-out\" punch.\r\n",
            "\n",
            "\n",
            "\n"
          ]
        },
        {
          "output_type": "stream",
          "name": "stderr",
          "text": [
            "[Succeeded / Failed / Skipped / Total] 0 / 3 / 0 / 3:   2%|▏         | 3/200 [00:01<01:13,  2.70it/s]"
          ]
        },
        {
          "output_type": "stream",
          "name": "stdout",
          "text": [
            "--------------------------------------------- Result 2 ---------------------------------------------\n",
            "[[2 (100%)]] --> [[[FAILED]]]\n",
            "\n",
            "While presenting the report, Hon. Bright pleaded that in view of the sacrifices Mrs. Jonathan's husband made for the country while he was president, the House should wade into the matter and call the security agencies to order.\r\n",
            "\n",
            "\n",
            "\n",
            "--------------------------------------------- Result 3 ---------------------------------------------\n",
            "[[2 (100%)]] --> [[[FAILED]]]\n",
            "\n",
            "\"You have the two extremes as far as different reasons for crop insurance,\" he said.\r\n",
            "\n",
            "\n",
            "\n"
          ]
        },
        {
          "output_type": "stream",
          "name": "stderr",
          "text": [
            "[Succeeded / Failed / Skipped / Total] 0 / 4 / 0 / 4:   2%|▏         | 4/200 [00:01<01:13,  2.66it/s]"
          ]
        },
        {
          "output_type": "stream",
          "name": "stdout",
          "text": [
            "--------------------------------------------- Result 4 ---------------------------------------------\n",
            "[[2 (100%)]] --> [[[FAILED]]]\n",
            "\n",
            "While the nation has seen 7.6 percent job growth since 2013, Kansas has lagged far behind, with an anemic rate of 3.5 percent.\r\n",
            "\n",
            "\n",
            "\n"
          ]
        },
        {
          "output_type": "stream",
          "name": "stderr",
          "text": [
            "[Succeeded / Failed / Skipped / Total] 0 / 5 / 0 / 5:   2%|▎         | 5/200 [00:01<01:09,  2.81it/s]"
          ]
        },
        {
          "output_type": "stream",
          "name": "stdout",
          "text": [
            "--------------------------------------------- Result 5 ---------------------------------------------\n",
            "[[2 (100%)]] --> [[[FAILED]]]\n",
            "\n",
            "WASHINGTON, D.C. -- President George Bush has praised efforts by Colombian President Alvaro Uribe to crack down on terrorism in the South American country.\r\n",
            "\n",
            "\n",
            "\n"
          ]
        },
        {
          "output_type": "stream",
          "name": "stderr",
          "text": [
            "[Succeeded / Failed / Skipped / Total] 0 / 6 / 0 / 6:   3%|▎         | 6/200 [00:02<01:04,  2.99it/s]"
          ]
        },
        {
          "output_type": "stream",
          "name": "stdout",
          "text": [
            "--------------------------------------------- Result 6 ---------------------------------------------\n",
            "[[2 (100%)]] --> [[[FAILED]]]\n",
            "\n",
            "While the federal government is up and running, at least for a few weeks, many Greenbelters felt the stress of preparing for a shutdown.\r\n",
            "\n",
            "\n",
            "\n"
          ]
        },
        {
          "output_type": "stream",
          "name": "stderr",
          "text": [
            "[Succeeded / Failed / Skipped / Total] 0 / 7 / 0 / 7:   4%|▎         | 7/200 [00:02<01:06,  2.90it/s]"
          ]
        },
        {
          "output_type": "stream",
          "name": "stdout",
          "text": [
            "--------------------------------------------- Result 7 ---------------------------------------------\n",
            "[[2 (100%)]] --> [[[FAILED]]]\n",
            "\n",
            "Your insistence, your determination to stick to your opinion in the face of all the new evidence makes you look like a closed-mined idiot.\r\n",
            "\n",
            "\n",
            "\n"
          ]
        },
        {
          "output_type": "stream",
          "name": "stderr",
          "text": [
            "[Succeeded / Failed / Skipped / Total] 0 / 8 / 0 / 8:   4%|▍         | 8/200 [00:02<01:06,  2.89it/s]"
          ]
        },
        {
          "output_type": "stream",
          "name": "stdout",
          "text": [
            "--------------------------------------------- Result 8 ---------------------------------------------\n",
            "[[2 (100%)]] --> [[[FAILED]]]\n",
            "\n",
            "\"When we say the rule of law doesn't apply because you are not a U.S. citizen, when we say it doesn't apply because you've admitted killing people, then the rule of law doesn't apply to all of us.\"\r\n",
            "\n",
            "\n",
            "\n"
          ]
        },
        {
          "output_type": "stream",
          "name": "stderr",
          "text": [
            "[Succeeded / Failed / Skipped / Total] 0 / 10 / 0 / 10:   5%|▌         | 10/200 [00:03<00:58,  3.24it/s]"
          ]
        },
        {
          "output_type": "stream",
          "name": "stdout",
          "text": [
            "--------------------------------------------- Result 9 ---------------------------------------------\n",
            "[[2 (100%)]] --> [[[FAILED]]]\n",
            "\n",
            "\"Yet he has not once told the public about the child abuse allegations he faced in 2007 and the discretionary decisions of my office, and more specifically by me as the DA.\"\r\n",
            "\n",
            "\n",
            "\n",
            "--------------------------------------------- Result 10 ---------------------------------------------\n",
            "[[2 (100%)]] --> [[[FAILED]]]\n",
            "\n",
            "With about 30 percent of carbon emissions coming from the fossil fuel.\r\n",
            "\n",
            "\n",
            "\n"
          ]
        },
        {
          "output_type": "stream",
          "name": "stderr",
          "text": [
            "[Succeeded / Failed / Skipped / Total] 0 / 11 / 0 / 11:   6%|▌         | 11/200 [00:03<00:56,  3.35it/s]"
          ]
        },
        {
          "output_type": "stream",
          "name": "stdout",
          "text": [
            "--------------------------------------------- Result 11 ---------------------------------------------\n",
            "[[2 (100%)]] --> [[[FAILED]]]\n",
            "\n",
            "You'll be able to choose to play as either the male Alexios or the female Kassandra, both of whom are Spartan \"outcasts-turned-mercenaries\" who appear to have joined the Assassins Brotherhood.\r\n",
            "\n",
            "\n",
            "\n"
          ]
        },
        {
          "output_type": "stream",
          "name": "stderr",
          "text": [
            "[Succeeded / Failed / Skipped / Total] 0 / 13 / 0 / 13:   6%|▋         | 13/200 [00:03<00:52,  3.58it/s]"
          ]
        },
        {
          "output_type": "stream",
          "name": "stdout",
          "text": [
            "--------------------------------------------- Result 12 ---------------------------------------------\n",
            "[[2 (100%)]] --> [[[FAILED]]]\n",
            "\n",
            "\"Under the EU mechanism for distributing 160,000 refugees Hungary would have to take in just 1,294 people currently living in Greece and Italy.\r\n",
            "\n",
            "\n",
            "\n",
            "--------------------------------------------- Result 13 ---------------------------------------------\n",
            "[[2 (100%)]] --> [[[FAILED]]]\n",
            "\n",
            "We are going to have this demonstration tomorrow, it's a peaceful protest.\r\n",
            "\n",
            "\n",
            "\n"
          ]
        },
        {
          "output_type": "stream",
          "name": "stderr",
          "text": [
            "[Succeeded / Failed / Skipped / Total] 0 / 15 / 0 / 15:   8%|▊         | 15/200 [00:04<00:51,  3.59it/s]"
          ]
        },
        {
          "output_type": "stream",
          "name": "stdout",
          "text": [
            "--------------------------------------------- Result 14 ---------------------------------------------\n",
            "[[2 (100%)]] --> [[[FAILED]]]\n",
            "\n",
            "YouTuber Logan Paul says sorry after posting sickening video of suicide victim hanging from a treeThe American vlogger is hugely popular with children and he provoked outrage after he uploaded the video to his 15 million followers.\r\n",
            "\n",
            "\n",
            "\n",
            "--------------------------------------------- Result 15 ---------------------------------------------\n",
            "[[2 (100%)]] --> [[[FAILED]]]\n",
            "\n",
            "Who ever is DPM now will take the office of the PM.\r\n",
            "\n",
            "\n",
            "\n"
          ]
        },
        {
          "output_type": "stream",
          "name": "stderr",
          "text": [
            "[Succeeded / Failed / Skipped / Total] 0 / 17 / 0 / 17:   8%|▊         | 17/200 [00:04<00:48,  3.74it/s]"
          ]
        },
        {
          "output_type": "stream",
          "name": "stdout",
          "text": [
            "--------------------------------------------- Result 16 ---------------------------------------------\n",
            "[[2 (100%)]] --> [[[FAILED]]]\n",
            "\n",
            "We've also previously told you how the health board has flown in consultants from Europe and as far as the Middle East to plug gaps within the service.\r\n",
            "\n",
            "\n",
            "\n",
            "--------------------------------------------- Result 17 ---------------------------------------------\n",
            "[[2 (100%)]] --> [[[FAILED]]]\n",
            "\n",
            "We are in the hospital suffering,\" Deivis' mother, Sandra Galindez, told me and my colleagues.\r\n",
            "\n",
            "\n",
            "\n"
          ]
        },
        {
          "output_type": "stream",
          "name": "stderr",
          "text": [
            "\r[Succeeded / Failed / Skipped / Total] 0 / 18 / 0 / 18:   9%|▉         | 18/200 [00:05<00:50,  3.57it/s]"
          ]
        },
        {
          "output_type": "stream",
          "name": "stdout",
          "text": [
            "--------------------------------------------- Result 18 ---------------------------------------------\n",
            "[[2 (100%)]] --> [[[FAILED]]]\n",
            "\n",
            "While the menu has expanded to pizzas and other items in the past decade, Fatiga's strength -- and what makes it one of the truly best eating experiences in Arkansas -- is its selection of Italian subs.\r\n",
            "\n",
            "\n",
            "\n"
          ]
        },
        {
          "output_type": "stream",
          "name": "stderr",
          "text": [
            "[Succeeded / Failed / Skipped / Total] 0 / 19 / 0 / 19:  10%|▉         | 19/200 [00:05<00:50,  3.57it/s]"
          ]
        },
        {
          "output_type": "stream",
          "name": "stdout",
          "text": [
            "--------------------------------------------- Result 19 ---------------------------------------------\n",
            "[[2 (100%)]] --> [[[FAILED]]]\n",
            "\n",
            "\"You can do far more than you ever expected if you just push yourself and keep going, and if someone tells you no, you just continue on.\"\r\n",
            "\n",
            "\n",
            "\n"
          ]
        },
        {
          "output_type": "stream",
          "name": "stderr",
          "text": [
            "\r[Succeeded / Failed / Skipped / Total] 0 / 20 / 0 / 20:  10%|█         | 20/200 [00:05<00:50,  3.58it/s]"
          ]
        },
        {
          "output_type": "stream",
          "name": "stdout",
          "text": [
            "--------------------------------------------- Result 20 ---------------------------------------------\n",
            "[[2 (100%)]] --> [[[FAILED]]]\n",
            "\n",
            "\"What makes the F1 in Schools Technology Challenge different,\" said Mr Sangari, \"is that it entails a comprehensive and inclusive learning approach.\r\n",
            "\n",
            "\n",
            "\n"
          ]
        },
        {
          "output_type": "stream",
          "name": "stderr",
          "text": [
            "[Succeeded / Failed / Skipped / Total] 0 / 21 / 0 / 21:  10%|█         | 21/200 [00:06<00:51,  3.49it/s]"
          ]
        },
        {
          "output_type": "stream",
          "name": "stdout",
          "text": [
            "--------------------------------------------- Result 21 ---------------------------------------------\n",
            "[[2 (100%)]] --> [[[FAILED]]]\n",
            "\n",
            "Washington has shown signs of shrugging off its role as a world leader, and nations such as Russia and China, which do not see Western humanitarian values as universal, wield growing global clout.\r\n",
            "\n",
            "\n",
            "\n"
          ]
        },
        {
          "output_type": "stream",
          "name": "stderr",
          "text": [
            "[Succeeded / Failed / Skipped / Total] 1 / 22 / 0 / 23:  12%|█▏        | 23/200 [00:06<00:49,  3.58it/s]"
          ]
        },
        {
          "output_type": "stream",
          "name": "stdout",
          "text": [
            "--------------------------------------------- Result 22 ---------------------------------------------\n",
            "[[2 (100%)]] --> [[5 (55%)]]\n",
            "\n",
            "[[While]] fewer [[people]] [[may]] have [[died]] in [[Las]] Vegas if [[bump]] stocks were [[banned]], the devices have rarely, if [[ever]], been [[used]] in [[prior]] [[shootings]].\r\n",
            "\n",
            "\n",
            "[[piece]] fewer [[citizenry]] [[whitethorn]] have [[fail]] in [[LA]] Vegas if [[knock]] stocks were [[banish]], the devices have rarely, if [[e'er]], been [[employ]] in [[anterior]] [[shoot]].\r\n",
            "\n",
            "\n",
            "\n",
            "--------------------------------------------- Result 23 ---------------------------------------------\n",
            "[[2 (100%)]] --> [[[FAILED]]]\n",
            "\n",
            "When a dispute occurred, the latter asked for the return of the deposits.\r\n",
            "\n",
            "\n",
            "\n"
          ]
        },
        {
          "output_type": "stream",
          "name": "stderr",
          "text": [
            "\r[Succeeded / Failed / Skipped / Total] 1 / 23 / 0 / 24:  12%|█▏        | 24/200 [00:06<00:48,  3.62it/s]"
          ]
        },
        {
          "output_type": "stream",
          "name": "stdout",
          "text": [
            "--------------------------------------------- Result 24 ---------------------------------------------\n",
            "[[2 (100%)]] --> [[[FAILED]]]\n",
            "\n",
            "When Uber came to Sri Lanka they will use someone else's assets though it is over Uber's arrival that we will have a big bash!\r\n",
            "\n",
            "\n",
            "\n"
          ]
        },
        {
          "output_type": "stream",
          "name": "stderr",
          "text": [
            "[Succeeded / Failed / Skipped / Total] 1 / 24 / 0 / 25:  12%|█▎        | 25/200 [00:06<00:48,  3.59it/s]"
          ]
        },
        {
          "output_type": "stream",
          "name": "stdout",
          "text": [
            "--------------------------------------------- Result 25 ---------------------------------------------\n",
            "[[2 (100%)]] --> [[[FAILED]]]\n",
            "\n",
            "We'll see a bigger cool down and the chance for some heavy snow across parts of Colorado.\r\n",
            "\n",
            "\n",
            "\n"
          ]
        },
        {
          "output_type": "stream",
          "name": "stderr",
          "text": [
            "[Succeeded / Failed / Skipped / Total] 2 / 25 / 0 / 27:  14%|█▎        | 27/200 [00:07<00:46,  3.70it/s]"
          ]
        },
        {
          "output_type": "stream",
          "name": "stdout",
          "text": [
            "--------------------------------------------- Result 26 ---------------------------------------------\n",
            "[[2 (100%)]] --> [[[FAILED]]]\n",
            "\n",
            "What I learned about Budapest the morning we arrived was that it hid some secret gardens we were about to discover.\r\n",
            "\n",
            "\n",
            "\n",
            "--------------------------------------------- Result 27 ---------------------------------------------\n",
            "[[2 (97%)]] --> [[0 (45%)]]\n",
            "\n",
            "Wildflower, from that day forward, excelled almost [[like]] no dog I've [[ever]] trained.\r\n",
            "\n",
            "\n",
            "Wildflower, from that day forward, excelled almost [[alike]] no dog I've [[e'er]] trained.\r\n",
            "\n",
            "\n",
            "\n"
          ]
        },
        {
          "output_type": "stream",
          "name": "stderr",
          "text": [
            "\r[Succeeded / Failed / Skipped / Total] 2 / 26 / 0 / 28:  14%|█▍        | 28/200 [00:07<00:46,  3.71it/s]"
          ]
        },
        {
          "output_type": "stream",
          "name": "stdout",
          "text": [
            "--------------------------------------------- Result 28 ---------------------------------------------\n",
            "[[2 (100%)]] --> [[[FAILED]]]\n",
            "\n",
            "\"What we're trying to do, is we're trying to build up our capacity to do projects with the Ring of Fire.\"\r\n",
            "\n",
            "\n",
            "\n"
          ]
        },
        {
          "output_type": "stream",
          "name": "stderr",
          "text": [
            "[Succeeded / Failed / Skipped / Total] 2 / 28 / 0 / 30:  15%|█▌        | 30/200 [00:07<00:44,  3.80it/s]"
          ]
        },
        {
          "output_type": "stream",
          "name": "stdout",
          "text": [
            "--------------------------------------------- Result 29 ---------------------------------------------\n",
            "[[2 (100%)]] --> [[[FAILED]]]\n",
            "\n",
            "While proponents of the legislation argued the existing regulations hindered economic growth, conservationists fear the price paid for environmental degradation is often lost in the debate.\r\n",
            "\n",
            "\n",
            "\n",
            "--------------------------------------------- Result 30 ---------------------------------------------\n",
            "[[2 (100%)]] --> [[[FAILED]]]\n",
            "\n",
            "We desperately need to spend more on health, public services and education.\r\n",
            "\n",
            "\n",
            "\n"
          ]
        },
        {
          "output_type": "stream",
          "name": "stderr",
          "text": [
            "[Succeeded / Failed / Skipped / Total] 2 / 29 / 0 / 31:  16%|█▌        | 31/200 [00:08<00:44,  3.84it/s]"
          ]
        },
        {
          "output_type": "stream",
          "name": "stdout",
          "text": [
            "--------------------------------------------- Result 31 ---------------------------------------------\n",
            "[[2 (100%)]] --> [[[FAILED]]]\n",
            "\n",
            "You chose to think of materialism and greed when you walk through those \"heavy glass doors.\"\r\n",
            "\n",
            "\n",
            "\n"
          ]
        },
        {
          "output_type": "stream",
          "name": "stderr",
          "text": [
            "\r[Succeeded / Failed / Skipped / Total] 2 / 30 / 0 / 32:  16%|█▌        | 32/200 [00:08<00:44,  3.81it/s]"
          ]
        },
        {
          "output_type": "stream",
          "name": "stdout",
          "text": [
            "--------------------------------------------- Result 32 ---------------------------------------------\n",
            "[[2 (100%)]] --> [[[FAILED]]]\n",
            "\n",
            "We also plan to grow in the business, at the moment in 2010 the capacity is 3.2 MMt but we expected to 5.3 MMt by Q1'11 and 5.8 MMt by end of 2011.\r\n",
            "\n",
            "\n",
            "\n"
          ]
        },
        {
          "output_type": "stream",
          "name": "stderr",
          "text": [
            "[Succeeded / Failed / Skipped / Total] 2 / 31 / 0 / 33:  16%|█▋        | 33/200 [00:08<00:44,  3.76it/s]"
          ]
        },
        {
          "output_type": "stream",
          "name": "stdout",
          "text": [
            "--------------------------------------------- Result 33 ---------------------------------------------\n",
            "[[2 (100%)]] --> [[[FAILED]]]\n",
            "\n",
            "Zhu Xiaohu, founder of GSR Ventures, said at a speech in April that mini programs will overturn the giants of PC and mobile Internet, and that total investment in mini programs could reach the tens of billions of yuan this year.\r\n",
            "\n",
            "\n",
            "\n"
          ]
        },
        {
          "output_type": "stream",
          "name": "stderr",
          "text": [
            "\r[Succeeded / Failed / Skipped / Total] 2 / 32 / 0 / 34:  17%|█▋        | 34/200 [00:09<00:44,  3.74it/s]"
          ]
        },
        {
          "output_type": "stream",
          "name": "stdout",
          "text": [
            "--------------------------------------------- Result 34 ---------------------------------------------\n",
            "[[2 (100%)]] --> [[[FAILED]]]\n",
            "\n",
            "What's to keep corporate interests from complaining that our land use laws are at variance with future congressional legisltion, affect inter-state commerce, and don't have to be followed by out of state developers?\r\n",
            "\n",
            "\n",
            "\n"
          ]
        },
        {
          "output_type": "stream",
          "name": "stderr",
          "text": [
            "[Succeeded / Failed / Skipped / Total] 2 / 33 / 0 / 35:  18%|█▊        | 35/200 [00:09<00:43,  3.76it/s]"
          ]
        },
        {
          "output_type": "stream",
          "name": "stdout",
          "text": [
            "--------------------------------------------- Result 35 ---------------------------------------------\n",
            "[[2 (100%)]] --> [[[FAILED]]]\n",
            "\n",
            "When a person dies, his soul passes on to the next World.\r\n",
            "\n",
            "\n",
            "\n"
          ]
        },
        {
          "output_type": "stream",
          "name": "stderr",
          "text": [
            "\r[Succeeded / Failed / Skipped / Total] 2 / 34 / 0 / 36:  18%|█▊        | 36/200 [00:09<00:44,  3.72it/s]"
          ]
        },
        {
          "output_type": "stream",
          "name": "stdout",
          "text": [
            "--------------------------------------------- Result 36 ---------------------------------------------\n",
            "[[2 (100%)]] --> [[[FAILED]]]\n",
            "\n",
            "We've got to do a good job of selling our kids on what we're trying to do and what we're trying to build at Smiths Station.\r\n",
            "\n",
            "\n",
            "\n"
          ]
        },
        {
          "output_type": "stream",
          "name": "stderr",
          "text": [
            "[Succeeded / Failed / Skipped / Total] 2 / 35 / 0 / 37:  18%|█▊        | 37/200 [00:10<00:44,  3.69it/s]"
          ]
        },
        {
          "output_type": "stream",
          "name": "stdout",
          "text": [
            "--------------------------------------------- Result 37 ---------------------------------------------\n",
            "[[2 (100%)]] --> [[[FAILED]]]\n",
            "\n",
            "Your next chance to see the team is tomorrow (Tuesday) night at the Brindy, when they again take on the Glacier Kings before heading down-Island for a rematch against Oceanside Friday night.\r\n",
            "\n",
            "\n",
            "\n"
          ]
        },
        {
          "output_type": "stream",
          "name": "stderr",
          "text": [
            "[Succeeded / Failed / Skipped / Total] 2 / 37 / 0 / 39:  20%|█▉        | 39/200 [00:10<00:42,  3.76it/s]"
          ]
        },
        {
          "output_type": "stream",
          "name": "stdout",
          "text": [
            "--------------------------------------------- Result 38 ---------------------------------------------\n",
            "[[2 (100%)]] --> [[[FAILED]]]\n",
            "\n",
            "Yet when Ponderosa swept Longmont just as they had Berthoud earlier in the day, Berthoud was consigned to the fact that the next day's match, their final of the season, would be for nothing but pride.\r\n",
            "\n",
            "\n",
            "\n",
            "--------------------------------------------- Result 39 ---------------------------------------------\n",
            "[[2 (100%)]] --> [[[FAILED]]]\n",
            "\n",
            "Where were these investors when public fund was being committed to the same project?\r\n",
            "\n",
            "\n",
            "\n"
          ]
        },
        {
          "output_type": "stream",
          "name": "stderr",
          "text": [
            "[Succeeded / Failed / Skipped / Total] 2 / 39 / 0 / 41:  20%|██        | 41/200 [00:10<00:41,  3.81it/s]"
          ]
        },
        {
          "output_type": "stream",
          "name": "stdout",
          "text": [
            "--------------------------------------------- Result 40 ---------------------------------------------\n",
            "[[2 (100%)]] --> [[[FAILED]]]\n",
            "\n",
            "What I can't find anywhere online is the names of the photographers in the exhibition -- I'd run their names if I could find them all.\r\n",
            "\n",
            "\n",
            "\n",
            "--------------------------------------------- Result 41 ---------------------------------------------\n",
            "[[2 (100%)]] --> [[[FAILED]]]\n",
            "\n",
            "Walk north on Cadman, past some mansions built on the leafy hillside, and enter the woods.\r\n",
            "\n",
            "\n",
            "\n",
            "--------------------------------------------- Result 42 ---------------------------------------------\n",
            "[[2 (100%)]] --> [[[FAILED]]]\n",
            "\n",
            "While it contained methylone, a chemical nearly identical to MDMA, it was a different drug altogether.\r\n",
            "\n"
          ]
        },
        {
          "output_type": "stream",
          "name": "stderr",
          "text": [
            "[Succeeded / Failed / Skipped / Total] 2 / 41 / 0 / 43:  22%|██▏       | 43/200 [00:11<00:40,  3.89it/s]"
          ]
        },
        {
          "output_type": "stream",
          "name": "stdout",
          "text": [
            "\n",
            "\n",
            "--------------------------------------------- Result 43 ---------------------------------------------\n",
            "[[2 (100%)]] --> [[[FAILED]]]\n",
            "\n",
            "We are running more and more trains all the time and that is what is causing the problem, the capacity on the track.\r\n",
            "\n",
            "\n",
            "\n"
          ]
        },
        {
          "output_type": "stream",
          "name": "stderr",
          "text": [
            "\r[Succeeded / Failed / Skipped / Total] 2 / 42 / 0 / 44:  22%|██▏       | 44/200 [00:11<00:39,  3.91it/s]"
          ]
        },
        {
          "output_type": "stream",
          "name": "stdout",
          "text": [
            "--------------------------------------------- Result 44 ---------------------------------------------\n",
            "[[2 (100%)]] --> [[[FAILED]]]\n",
            "\n",
            "With older artists, the law of diminishing returns often applies, and it's sad when our musical heroes overstay their welcome.\r\n",
            "\n",
            "\n",
            "\n"
          ]
        },
        {
          "output_type": "stream",
          "name": "stderr",
          "text": [
            "[Succeeded / Failed / Skipped / Total] 2 / 44 / 0 / 46:  23%|██▎       | 46/200 [00:11<00:38,  3.96it/s]"
          ]
        },
        {
          "output_type": "stream",
          "name": "stdout",
          "text": [
            "--------------------------------------------- Result 45 ---------------------------------------------\n",
            "[[2 (100%)]] --> [[[FAILED]]]\n",
            "\n",
            "We hope Malala can avoid being manipulated on China-related issues while striving for education equality and the global human rights cause.\r\n",
            "\n",
            "\n",
            "\n",
            "--------------------------------------------- Result 46 ---------------------------------------------\n",
            "[[2 (100%)]] --> [[[FAILED]]]\n",
            "\n",
            "\"We don't receive any inspections from the Ministry of Manpower in these hills, as these quarries are part of the informal sector.\r\n",
            "\n",
            "\n",
            "\n"
          ]
        },
        {
          "output_type": "stream",
          "name": "stderr",
          "text": [
            "[Succeeded / Failed / Skipped / Total] 2 / 45 / 0 / 47:  24%|██▎       | 47/200 [00:11<00:38,  3.94it/s]"
          ]
        },
        {
          "output_type": "stream",
          "name": "stdout",
          "text": [
            "--------------------------------------------- Result 47 ---------------------------------------------\n",
            "[[2 (100%)]] --> [[[FAILED]]]\n",
            "\n",
            "Vince Cate visited the Sandy Ground site and reports that they are finding a great deal of Amerindian material.\r\n",
            "\n",
            "\n",
            "\n"
          ]
        },
        {
          "output_type": "stream",
          "name": "stderr",
          "text": [
            "\r[Succeeded / Failed / Skipped / Total] 2 / 46 / 0 / 48:  24%|██▍       | 48/200 [00:12<00:39,  3.86it/s]"
          ]
        },
        {
          "output_type": "stream",
          "name": "stdout",
          "text": [
            "--------------------------------------------- Result 48 ---------------------------------------------\n",
            "[[2 (100%)]] --> [[[FAILED]]]\n",
            "\n",
            "\"We got a goot chance to look at a lot of kids and most of them got a lot of playing time.\"\r\n",
            "\n",
            "\n",
            "\n"
          ]
        },
        {
          "output_type": "stream",
          "name": "stderr",
          "text": [
            "[Succeeded / Failed / Skipped / Total] 2 / 48 / 0 / 50:  25%|██▌       | 50/200 [00:12<00:38,  3.87it/s]"
          ]
        },
        {
          "output_type": "stream",
          "name": "stdout",
          "text": [
            "--------------------------------------------- Result 49 ---------------------------------------------\n",
            "[[2 (100%)]] --> [[[FAILED]]]\n",
            "\n",
            "Vancouver lawyer Kyla Lee and her firm, Acumen Law Corp., claimed at trial that a Google Plus review calling her the \"worstest lawyer\" led to a decline in client calls.\r\n",
            "\n",
            "\n",
            "\n",
            "--------------------------------------------- Result 50 ---------------------------------------------\n",
            "[[2 (100%)]] --> [[[FAILED]]]\n",
            "\n",
            "While the kingdom has borrowed heavily on the Saudi money markets, it can easily float sovereign debt on the international debt market to ease its domestic credit crunch.\r\n",
            "\n",
            "\n",
            "\n"
          ]
        },
        {
          "output_type": "stream",
          "name": "stderr",
          "text": [
            "[Succeeded / Failed / Skipped / Total] 2 / 49 / 0 / 51:  26%|██▌       | 51/200 [00:13<00:38,  3.90it/s]"
          ]
        },
        {
          "output_type": "stream",
          "name": "stdout",
          "text": [
            "--------------------------------------------- Result 51 ---------------------------------------------\n",
            "[[2 (100%)]] --> [[[FAILED]]]\n",
            "\n",
            "Will people need to go to the electoral district to vote?\r\n",
            "\n",
            "\n",
            "\n"
          ]
        },
        {
          "output_type": "stream",
          "name": "stderr",
          "text": [
            "[Succeeded / Failed / Skipped / Total] 2 / 51 / 0 / 53:  26%|██▋       | 53/200 [00:13<00:37,  3.87it/s]"
          ]
        },
        {
          "output_type": "stream",
          "name": "stdout",
          "text": [
            "--------------------------------------------- Result 52 ---------------------------------------------\n",
            "[[2 (100%)]] --> [[[FAILED]]]\n",
            "\n",
            "\"We are extremely honored to win this award, as we feel it really highlights our efforts to make it easier for our EuroBonus members to access and redeem their points.\r\n",
            "\n",
            "\n",
            "\n",
            "--------------------------------------------- Result 53 ---------------------------------------------\n",
            "[[2 (100%)]] --> [[[FAILED]]]\n",
            "\n",
            "When the next chance came his way he slotted coolly into the top right corner.\r\n",
            "\n",
            "\n",
            "\n"
          ]
        },
        {
          "output_type": "stream",
          "name": "stderr",
          "text": [
            "\r[Succeeded / Failed / Skipped / Total] 2 / 52 / 0 / 54:  27%|██▋       | 54/200 [00:13<00:37,  3.86it/s]"
          ]
        },
        {
          "output_type": "stream",
          "name": "stdout",
          "text": [
            "--------------------------------------------- Result 54 ---------------------------------------------\n",
            "[[2 (100%)]] --> [[[FAILED]]]\n",
            "\n",
            "You should be known to be producing from information gathered from either extension officers or records from the Grain Marketing Board and one should have an offer letter.\"\r\n",
            "\n",
            "\n",
            "\n"
          ]
        },
        {
          "output_type": "stream",
          "name": "stderr",
          "text": [
            "[Succeeded / Failed / Skipped / Total] 2 / 53 / 0 / 55:  28%|██▊       | 55/200 [00:14<00:37,  3.85it/s]"
          ]
        },
        {
          "output_type": "stream",
          "name": "stdout",
          "text": [
            "--------------------------------------------- Result 55 ---------------------------------------------\n",
            "[[2 (100%)]] --> [[[FAILED]]]\n",
            "\n",
            "You can go outside and go for a walk or a run without shivering the entire time.\r\n",
            "\n",
            "\n",
            "\n"
          ]
        },
        {
          "output_type": "stream",
          "name": "stderr",
          "text": [
            "\r[Succeeded / Failed / Skipped / Total] 2 / 54 / 0 / 56:  28%|██▊       | 56/200 [00:14<00:37,  3.81it/s]"
          ]
        },
        {
          "output_type": "stream",
          "name": "stdout",
          "text": [
            "--------------------------------------------- Result 56 ---------------------------------------------\n",
            "[[2 (100%)]] --> [[[FAILED]]]\n",
            "\n",
            "While living at the lodge in the early 1960s, Fox was hired by the former Burnet County Judge to help sell lots for a new subdivision on the lake at Granite Shoals (later renamed Lake LBJ).\r\n",
            "\n",
            "\n",
            "\n"
          ]
        },
        {
          "output_type": "stream",
          "name": "stderr",
          "text": [
            "[Succeeded / Failed / Skipped / Total] 2 / 56 / 0 / 58:  29%|██▉       | 58/200 [00:15<00:36,  3.85it/s]"
          ]
        },
        {
          "output_type": "stream",
          "name": "stdout",
          "text": [
            "--------------------------------------------- Result 57 ---------------------------------------------\n",
            "[[2 (100%)]] --> [[[FAILED]]]\n",
            "\n",
            "We also held three seminars and a special meeting of the board of directors to discuss the theme.\r\n",
            "\n",
            "\n",
            "\n",
            "--------------------------------------------- Result 58 ---------------------------------------------\n",
            "[[2 (100%)]] --> [[[FAILED]]]\n",
            "\n",
            "\"We were by the water comparing our swimwear and laughing about how ill-fitting and unsupportive our contraptions were,\" the pair told news.\r\n",
            "\n",
            "\n",
            "\n"
          ]
        },
        {
          "output_type": "stream",
          "name": "stderr",
          "text": [
            "[Succeeded / Failed / Skipped / Total] 2 / 58 / 0 / 60:  30%|███       | 60/200 [00:15<00:36,  3.85it/s]"
          ]
        },
        {
          "output_type": "stream",
          "name": "stdout",
          "text": [
            "--------------------------------------------- Result 59 ---------------------------------------------\n",
            "[[2 (100%)]] --> [[[FAILED]]]\n",
            "\n",
            "Whether Asset Value Investors would hold onto their TBS shares after its demand was accepted \"depends on how the valuation goes.\"\r\n",
            "\n",
            "\n",
            "\n",
            "--------------------------------------------- Result 60 ---------------------------------------------\n",
            "[[2 (100%)]] --> [[[FAILED]]]\n",
            "\n",
            "\"We have also met the panchayat minister to brief him about how the compound wall of the church of this sect is of a height above the permissible limit.\r\n",
            "\n",
            "\n",
            "\n"
          ]
        },
        {
          "output_type": "stream",
          "name": "stderr",
          "text": [
            "[Succeeded / Failed / Skipped / Total] 2 / 60 / 0 / 62:  31%|███       | 62/200 [00:16<00:36,  3.83it/s]"
          ]
        },
        {
          "output_type": "stream",
          "name": "stdout",
          "text": [
            "--------------------------------------------- Result 61 ---------------------------------------------\n",
            "[[2 (100%)]] --> [[[FAILED]]]\n",
            "\n",
            "Various congressional committees worked on drafting multiple versions of the bill that would become the Affordable Care Act -- a lengthy process that took over a year.\r\n",
            "\n",
            "\n",
            "\n",
            "--------------------------------------------- Result 62 ---------------------------------------------\n",
            "[[2 (100%)]] --> [[[FAILED]]]\n",
            "\n",
            "Various religious backgrounds will be represented as people from all over the U.S. and Canada travel to John Brown University to attend the Paradosis Conference.\r\n",
            "\n",
            "\n",
            "\n"
          ]
        },
        {
          "output_type": "stream",
          "name": "stderr",
          "text": [
            "[Succeeded / Failed / Skipped / Total] 2 / 61 / 0 / 63:  32%|███▏      | 63/200 [00:16<00:35,  3.87it/s]"
          ]
        },
        {
          "output_type": "stream",
          "name": "stdout",
          "text": [
            "--------------------------------------------- Result 63 ---------------------------------------------\n",
            "[[2 (100%)]] --> [[[FAILED]]]\n",
            "\n",
            "\"Unions can be reactive, but if we could be proactive, then we would be happy to have discussions.\r\n",
            "\n",
            "\n",
            "\n"
          ]
        },
        {
          "output_type": "stream",
          "name": "stderr",
          "text": [
            "[Succeeded / Failed / Skipped / Total] 2 / 63 / 0 / 65:  32%|███▎      | 65/200 [00:16<00:35,  3.84it/s]"
          ]
        },
        {
          "output_type": "stream",
          "name": "stdout",
          "text": [
            "--------------------------------------------- Result 64 ---------------------------------------------\n",
            "[[2 (100%)]] --> [[[FAILED]]]\n",
            "\n",
            "Unfortunately people's true mandate was not reflected in the allocation of seats due to unrealistic and horrendous proportionate system.\r\n",
            "\n",
            "\n",
            "\n",
            "--------------------------------------------- Result 65 ---------------------------------------------\n",
            "[[2 (100%)]] --> [[[FAILED]]]\n",
            "\n",
            "University Union hosted their annual Block Party in the Carrier Dome on Friday night, featuring DJ Orange Calderon, SZA and Gucci Mane.\r\n",
            "\n",
            "\n",
            "\n"
          ]
        },
        {
          "output_type": "stream",
          "name": "stderr",
          "text": [
            "[Succeeded / Failed / Skipped / Total] 2 / 65 / 0 / 67:  34%|███▎      | 67/200 [00:17<00:34,  3.86it/s]"
          ]
        },
        {
          "output_type": "stream",
          "name": "stdout",
          "text": [
            "--------------------------------------------- Result 66 ---------------------------------------------\n",
            "[[2 (100%)]] --> [[[FAILED]]]\n",
            "\n",
            "\"We've recently finished a fabulous office makeover, and we're having an open house to show it off,\" said agency director Ronda B. Goldfein.\r\n",
            "\n",
            "\n",
            "\n",
            "--------------------------------------------- Result 67 ---------------------------------------------\n",
            "[[2 (100%)]] --> [[[FAILED]]]\n",
            "\n",
            "Youth mental health, suicide and bullying was thrust in to the national spotlight following the highly-publicised death of 14-year-old Amy 'Dolly' Everett in January.\r\n",
            "\n",
            "\n",
            "\n"
          ]
        },
        {
          "output_type": "stream",
          "name": "stderr",
          "text": [
            "\r[Succeeded / Failed / Skipped / Total] 2 / 66 / 0 / 68:  34%|███▍      | 68/200 [00:17<00:34,  3.80it/s]"
          ]
        },
        {
          "output_type": "stream",
          "name": "stdout",
          "text": [
            "--------------------------------------------- Result 68 ---------------------------------------------\n",
            "[[2 (100%)]] --> [[[FAILED]]]\n",
            "\n",
            "William and Kate Middleton's daughter was born at St. Mary's Hospital on May 2. Just 10 hours after giving birth, the Duchess of Cambridge left the hospital looking gorgeous in a floral white and yellow Jenny Packman dress.\r\n",
            "\n",
            "\n",
            "\n"
          ]
        },
        {
          "output_type": "stream",
          "name": "stderr",
          "text": [
            "[Succeeded / Failed / Skipped / Total] 2 / 67 / 0 / 69:  34%|███▍      | 69/200 [00:18<00:34,  3.76it/s]"
          ]
        },
        {
          "output_type": "stream",
          "name": "stdout",
          "text": [
            "--------------------------------------------- Result 69 ---------------------------------------------\n",
            "[[2 (100%)]] --> [[[FAILED]]]\n",
            "\n",
            "We will keep monitoring the situation and make sure that we will be able to maintain the drive for the growth so that we could assure our target of trimming off poverty at the rate of 1% per annum.\r\n",
            "\n",
            "\n",
            "\n"
          ]
        },
        {
          "output_type": "stream",
          "name": "stderr",
          "text": [
            "\r[Succeeded / Failed / Skipped / Total] 2 / 68 / 0 / 70:  35%|███▌      | 70/200 [00:18<00:34,  3.76it/s]"
          ]
        },
        {
          "output_type": "stream",
          "name": "stdout",
          "text": [
            "--------------------------------------------- Result 70 ---------------------------------------------\n",
            "[[2 (100%)]] --> [[[FAILED]]]\n",
            "\n",
            "\"You would be surprised how many people will drive in from an hour or two hours away to come in and spend an afternoon at Great Shots,\" North said.\r\n",
            "\n",
            "\n",
            "\n"
          ]
        },
        {
          "output_type": "stream",
          "name": "stderr",
          "text": [
            "[Succeeded / Failed / Skipped / Total] 2 / 70 / 0 / 72:  36%|███▌      | 72/200 [00:19<00:33,  3.78it/s]"
          ]
        },
        {
          "output_type": "stream",
          "name": "stdout",
          "text": [
            "--------------------------------------------- Result 71 ---------------------------------------------\n",
            "[[2 (100%)]] --> [[[FAILED]]]\n",
            "\n",
            "Usage of a time fuse also seems out of the question, since not only the murderers, but also Vazagashvili himself likely didn't know when he would arrive at his son's grave.\r\n",
            "\n",
            "\n",
            "\n",
            "--------------------------------------------- Result 72 ---------------------------------------------\n",
            "[[2 (100%)]] --> [[[FAILED]]]\n",
            "\n",
            "\"You are not a little dictator to do whatever you want - and that's what we have right now in Houston, Texas,\" he said.\r\n",
            "\n",
            "\n",
            "\n"
          ]
        },
        {
          "output_type": "stream",
          "name": "stderr",
          "text": [
            "[Succeeded / Failed / Skipped / Total] 2 / 71 / 0 / 73:  36%|███▋      | 73/200 [00:19<00:33,  3.81it/s]"
          ]
        },
        {
          "output_type": "stream",
          "name": "stdout",
          "text": [
            "--------------------------------------------- Result 73 ---------------------------------------------\n",
            "[[2 (100%)]] --> [[[FAILED]]]\n",
            "\n",
            "Until the government receives confirmation of e-cigarette benefits, it would continue treating them as other tobacco products.\r\n",
            "\n",
            "\n",
            "\n"
          ]
        },
        {
          "output_type": "stream",
          "name": "stderr",
          "text": [
            "\r[Succeeded / Failed / Skipped / Total] 2 / 72 / 0 / 74:  37%|███▋      | 74/200 [00:19<00:33,  3.81it/s]"
          ]
        },
        {
          "output_type": "stream",
          "name": "stdout",
          "text": [
            "--------------------------------------------- Result 74 ---------------------------------------------\n",
            "[[2 (100%)]] --> [[[FAILED]]]\n",
            "\n",
            "\"We hope that it will initiate a more informed debate about what represents fair, proportionate pay for workers at all levels,\" he said.\r\n",
            "\n",
            "\n",
            "\n"
          ]
        },
        {
          "output_type": "stream",
          "name": "stderr",
          "text": [
            "[Succeeded / Failed / Skipped / Total] 2 / 74 / 0 / 76:  38%|███▊      | 76/200 [00:19<00:32,  3.85it/s]"
          ]
        },
        {
          "output_type": "stream",
          "name": "stdout",
          "text": [
            "--------------------------------------------- Result 75 ---------------------------------------------\n",
            "[[2 (100%)]] --> [[[FAILED]]]\n",
            "\n",
            "What we asked from RMB in our previous letter, was \"a guarantee from your bank that your capital not be used for the illegal oil exploration in the occupied country\".\r\n",
            "\n",
            "\n",
            "\n",
            "--------------------------------------------- Result 76 ---------------------------------------------\n",
            "[[2 (100%)]] --> [[[FAILED]]]\n",
            "\n",
            "Visitors will also be treated to a top-notch, interactive trick rope show.\r\n",
            "\n",
            "\n",
            "\n"
          ]
        },
        {
          "output_type": "stream",
          "name": "stderr",
          "text": [
            "[Succeeded / Failed / Skipped / Total] 2 / 76 / 0 / 78:  39%|███▉      | 78/200 [00:20<00:31,  3.87it/s]"
          ]
        },
        {
          "output_type": "stream",
          "name": "stdout",
          "text": [
            "--------------------------------------------- Result 77 ---------------------------------------------\n",
            "[[2 (100%)]] --> [[[FAILED]]]\n",
            "\n",
            "With the summer fast approaching, you're sure to be spending lots of time outdoors.\r\n",
            "\n",
            "\n",
            "\n",
            "--------------------------------------------- Result 78 ---------------------------------------------\n",
            "[[2 (100%)]] --> [[[FAILED]]]\n",
            "\n",
            "While they are working to tackle crime, they won't guarantee that the money you invest will be 'safe' in every sense of the word.\r\n",
            "\n",
            "\n",
            "\n"
          ]
        },
        {
          "output_type": "stream",
          "name": "stderr",
          "text": [
            "[Succeeded / Failed / Skipped / Total] 2 / 77 / 0 / 79:  40%|███▉      | 79/200 [00:20<00:31,  3.83it/s]"
          ]
        },
        {
          "output_type": "stream",
          "name": "stdout",
          "text": [
            "--------------------------------------------- Result 79 ---------------------------------------------\n",
            "[[2 (100%)]] --> [[[FAILED]]]\n",
            "\n",
            "You wouldn't go to buy fighter jets because there is no possibility of creating a balance of power against \"Israel\" on that level, instead you would go buy air defense systems.\r\n",
            "\n",
            "\n",
            "\n"
          ]
        },
        {
          "output_type": "stream",
          "name": "stderr",
          "text": [
            "\r[Succeeded / Failed / Skipped / Total] 2 / 78 / 0 / 80:  40%|████      | 80/200 [00:20<00:31,  3.82it/s]"
          ]
        },
        {
          "output_type": "stream",
          "name": "stdout",
          "text": [
            "--------------------------------------------- Result 80 ---------------------------------------------\n",
            "[[2 (100%)]] --> [[[FAILED]]]\n",
            "\n",
            "When asked about funding concerns before the Senate vote on the Mission Act, key lawmakers who helped pass the bill claimed it wouldn't be a challenge.\r\n",
            "\n",
            "\n",
            "\n"
          ]
        },
        {
          "output_type": "stream",
          "name": "stderr",
          "text": [
            "[Succeeded / Failed / Skipped / Total] 2 / 79 / 0 / 81:  40%|████      | 81/200 [00:21<00:31,  3.78it/s]"
          ]
        },
        {
          "output_type": "stream",
          "name": "stdout",
          "text": [
            "--------------------------------------------- Result 81 ---------------------------------------------\n",
            "[[2 (100%)]] --> [[[FAILED]]]\n",
            "\n",
            "Victoria Vivians scored 22 points and second-ranked Mississippi State remained in position to add a Southeastern Conference Tournament title to its regular-season championship, beating No. 15 Texas A&M 70-55 on.\r\n",
            "\n",
            "\n",
            "\n"
          ]
        },
        {
          "output_type": "stream",
          "name": "stderr",
          "text": [
            "\r[Succeeded / Failed / Skipped / Total] 2 / 80 / 0 / 82:  41%|████      | 82/200 [00:21<00:31,  3.79it/s]"
          ]
        },
        {
          "output_type": "stream",
          "name": "stdout",
          "text": [
            "--------------------------------------------- Result 82 ---------------------------------------------\n",
            "[[2 (100%)]] --> [[[FAILED]]]\n",
            "\n",
            "We expected a tough beginning but still believed we could play in the finals, which we did.\r\n",
            "\n",
            "\n",
            "\n"
          ]
        },
        {
          "output_type": "stream",
          "name": "stderr",
          "text": [
            "[Succeeded / Failed / Skipped / Total] 2 / 81 / 0 / 83:  42%|████▏     | 83/200 [00:22<00:31,  3.77it/s]"
          ]
        },
        {
          "output_type": "stream",
          "name": "stdout",
          "text": [
            "--------------------------------------------- Result 83 ---------------------------------------------\n",
            "[[2 (100%)]] --> [[[FAILED]]]\n",
            "\n",
            "While today's sea level rise is only about 10% the rate about 13,000 years ago, it is expected to rise rapidly in the coming years, notes the report.\r\n",
            "\n",
            "\n",
            "\n"
          ]
        },
        {
          "output_type": "stream",
          "name": "stderr",
          "text": [
            "[Succeeded / Failed / Skipped / Total] 2 / 83 / 0 / 85:  42%|████▎     | 85/200 [00:22<00:30,  3.77it/s]"
          ]
        },
        {
          "output_type": "stream",
          "name": "stdout",
          "text": [
            "--------------------------------------------- Result 84 ---------------------------------------------\n",
            "[[2 (100%)]] --> [[[FAILED]]]\n",
            "\n",
            "With changes to GATE, many are wondering if they're going to get funding and with the recent scare of an old memo being leaked, fears were raised.\r\n",
            "\n",
            "\n",
            "\n",
            "--------------------------------------------- Result 85 ---------------------------------------------\n",
            "[[2 (100%)]] --> [[[FAILED]]]\n",
            "\n",
            "When coming from Tanzania, lifts depart from Mtwara and Kilambo to the Rovuma river.\r\n",
            "\n",
            "\n",
            "\n"
          ]
        },
        {
          "output_type": "stream",
          "name": "stderr",
          "text": [
            "\r[Succeeded / Failed / Skipped / Total] 2 / 84 / 0 / 86:  43%|████▎     | 86/200 [00:22<00:30,  3.77it/s]"
          ]
        },
        {
          "output_type": "stream",
          "name": "stdout",
          "text": [
            "--------------------------------------------- Result 86 ---------------------------------------------\n",
            "[[2 (100%)]] --> [[[FAILED]]]\n",
            "\n",
            "\"We want to deliver your $2.5 million to you before your bank closes, so you can put it in a safe place.\r\n",
            "\n",
            "\n",
            "\n"
          ]
        },
        {
          "output_type": "stream",
          "name": "stderr",
          "text": [
            "[Succeeded / Failed / Skipped / Total] 2 / 85 / 0 / 87:  44%|████▎     | 87/200 [00:23<00:29,  3.77it/s]"
          ]
        },
        {
          "output_type": "stream",
          "name": "stdout",
          "text": [
            "--------------------------------------------- Result 87 ---------------------------------------------\n",
            "[[2 (100%)]] --> [[[FAILED]]]\n",
            "\n",
            "What is floated right now will come back, perhaps in a watered-down version, but the progressives will keep coming after you.\r\n",
            "\n",
            "\n",
            "\n"
          ]
        },
        {
          "output_type": "stream",
          "name": "stderr",
          "text": [
            "[Succeeded / Failed / Skipped / Total] 2 / 87 / 0 / 89:  44%|████▍     | 89/200 [00:23<00:29,  3.79it/s]"
          ]
        },
        {
          "output_type": "stream",
          "name": "stdout",
          "text": [
            "--------------------------------------------- Result 88 ---------------------------------------------\n",
            "[[2 (100%)]] --> [[[FAILED]]]\n",
            "\n",
            "What the suit calls the pharmaceutical's \"aggressive marketing,\" the sheriff and his attorney feel have contributed to the rise in opioid use, addiction and overdose.\r\n",
            "\n",
            "\n",
            "\n",
            "--------------------------------------------- Result 89 ---------------------------------------------\n",
            "[[2 (100%)]] --> [[[FAILED]]]\n",
            "\n",
            "We share border with other countries and cannot afford to just point finger at whichever direction.\r\n",
            "\n",
            "\n",
            "\n"
          ]
        },
        {
          "output_type": "stream",
          "name": "stderr",
          "text": [
            "[Succeeded / Failed / Skipped / Total] 2 / 89 / 0 / 91:  46%|████▌     | 91/200 [00:23<00:28,  3.83it/s]"
          ]
        },
        {
          "output_type": "stream",
          "name": "stdout",
          "text": [
            "--------------------------------------------- Result 90 ---------------------------------------------\n",
            "[[2 (100%)]] --> [[[FAILED]]]\n",
            "\n",
            "\"We came out in the third period, we were ready to play, and we had some unlucky bounces.\r\n",
            "\n",
            "\n",
            "\n",
            "--------------------------------------------- Result 91 ---------------------------------------------\n",
            "[[2 (100%)]] --> [[[FAILED]]]\n",
            "\n",
            "\"We're just good friends, and he's been incredibly loyal to me,\" Paxton in a 1998 interview.\r\n",
            "\n",
            "\n",
            "\n"
          ]
        },
        {
          "output_type": "stream",
          "name": "stderr",
          "text": [
            "[Succeeded / Failed / Skipped / Total] 2 / 91 / 0 / 93:  46%|████▋     | 93/200 [00:24<00:27,  3.86it/s]"
          ]
        },
        {
          "output_type": "stream",
          "name": "stdout",
          "text": [
            "--------------------------------------------- Result 92 ---------------------------------------------\n",
            "[[2 (100%)]] --> [[[FAILED]]]\n",
            "\n",
            "Where can you ask questions and talk about bullying, harassment and discrimination on campus?\r\n",
            "\n",
            "\n",
            "\n",
            "--------------------------------------------- Result 93 ---------------------------------------------\n",
            "[[2 (100%)]] --> [[[FAILED]]]\n",
            "\n",
            "Wisdom's small plot, a few steps from his front step, is located right beside the main road in the community.\r\n",
            "\n",
            "\n",
            "\n"
          ]
        },
        {
          "output_type": "stream",
          "name": "stderr",
          "text": [
            "[Succeeded / Failed / Skipped / Total] 2 / 93 / 0 / 95:  48%|████▊     | 95/200 [00:24<00:26,  3.90it/s]"
          ]
        },
        {
          "output_type": "stream",
          "name": "stdout",
          "text": [
            "--------------------------------------------- Result 94 ---------------------------------------------\n",
            "[[2 (100%)]] --> [[[FAILED]]]\n",
            "\n",
            "Women invited her to their homes to deliver lectures on religious subjects.\r\n",
            "\n",
            "\n",
            "\n",
            "--------------------------------------------- Result 95 ---------------------------------------------\n",
            "[[2 (100%)]] --> [[[FAILED]]]\n",
            "\n",
            "Whoever that was, I don't know any names or who that family was,\" Berube says.\r\n",
            "\n",
            "\n",
            "\n"
          ]
        },
        {
          "output_type": "stream",
          "name": "stderr",
          "text": [
            "\r[Succeeded / Failed / Skipped / Total] 2 / 94 / 0 / 96:  48%|████▊     | 96/200 [00:24<00:26,  3.92it/s]"
          ]
        },
        {
          "output_type": "stream",
          "name": "stdout",
          "text": [
            "--------------------------------------------- Result 96 ---------------------------------------------\n",
            "[[2 (99%)]] --> [[[FAILED]]]\n",
            "\n",
            "Wellness Medical Supplies offers medical equipment rental options for those in need of short-term assistance.\r\n",
            "\n",
            "\n",
            "\n"
          ]
        },
        {
          "output_type": "stream",
          "name": "stderr",
          "text": [
            "[Succeeded / Failed / Skipped / Total] 2 / 96 / 0 / 98:  49%|████▉     | 98/200 [00:24<00:25,  3.93it/s]"
          ]
        },
        {
          "output_type": "stream",
          "name": "stdout",
          "text": [
            "--------------------------------------------- Result 97 ---------------------------------------------\n",
            "[[2 (100%)]] --> [[[FAILED]]]\n",
            "\n",
            "\"We have a couple of our junior members that have came in just for certain particular roles that required a younger cast member for,\" said Smith.\r\n",
            "\n",
            "\n",
            "\n",
            "--------------------------------------------- Result 98 ---------------------------------------------\n",
            "[[2 (100%)]] --> [[[FAILED]]]\n",
            "\n",
            "Your information will be saved and you can get the SIM card legally.\r\n",
            "\n",
            "\n",
            "\n"
          ]
        },
        {
          "output_type": "stream",
          "name": "stderr",
          "text": [
            "[Succeeded / Failed / Skipped / Total] 2 / 98 / 0 / 100:  50%|█████     | 100/200 [00:25<00:25,  3.94it/s]"
          ]
        },
        {
          "output_type": "stream",
          "name": "stdout",
          "text": [
            "--------------------------------------------- Result 99 ---------------------------------------------\n",
            "[[2 (100%)]] --> [[[FAILED]]]\n",
            "\n",
            "Very close friends of the family would always come from Pittsburgh to visit and we would spend the day and evening together.\r\n",
            "\n",
            "\n",
            "\n",
            "--------------------------------------------- Result 100 ---------------------------------------------\n",
            "[[2 (100%)]] --> [[[FAILED]]]\n",
            "\n",
            "You know how in the most somber of situations something happens that makes you almost want to giggle?\r\n",
            "\n",
            "\n",
            "\n"
          ]
        },
        {
          "output_type": "stream",
          "name": "stderr",
          "text": [
            "[Succeeded / Failed / Skipped / Total] 2 / 101 / 0 / 103:  52%|█████▏    | 103/200 [00:26<00:24,  3.96it/s]"
          ]
        },
        {
          "output_type": "stream",
          "name": "stdout",
          "text": [
            "--------------------------------------------- Result 101 ---------------------------------------------\n",
            "[[2 (100%)]] --> [[[FAILED]]]\n",
            "\n",
            "\"We want to create new ways for students to get involved where they feel they contribute in the way we operate, or in ideas they can bring forward to us,\" said Hartung.\r\n",
            "\n",
            "\n",
            "\n",
            "--------------------------------------------- Result 102 ---------------------------------------------\n",
            "[[2 (100%)]] --> [[[FAILED]]]\n",
            "\n",
            "With his wife's diagnosis of ovarian cancer in the 2000s, the nursery became more difficult to keep up with.\r\n",
            "\n",
            "\n",
            "\n",
            "--------------------------------------------- Result 103 ---------------------------------------------\n",
            "[[2 (100%)]] --> [[[FAILED]]]\n",
            "\n",
            "Youths are comparable to bamboo shoots, as they will become the country's future leaders and officials.\r\n",
            "\n",
            "\n",
            "\n"
          ]
        },
        {
          "output_type": "stream",
          "name": "stderr",
          "text": [
            "[Succeeded / Failed / Skipped / Total] 2 / 103 / 0 / 105:  52%|█████▎    | 105/200 [00:26<00:23,  3.97it/s]"
          ]
        },
        {
          "output_type": "stream",
          "name": "stdout",
          "text": [
            "--------------------------------------------- Result 104 ---------------------------------------------\n",
            "[[2 (100%)]] --> [[[FAILED]]]\n",
            "\n",
            "We stand with communities across Colorado in calling on Governor Hickenlooper and the state legislature to reject any legislation that will undermine local control.\"\r\n",
            "\n",
            "\n",
            "\n",
            "--------------------------------------------- Result 105 ---------------------------------------------\n",
            "[[2 (100%)]] --> [[[FAILED]]]\n",
            "\n",
            "Were they considered likely to succeed or more of a long shot?\r\n",
            "\n",
            "\n",
            "\n"
          ]
        },
        {
          "output_type": "stream",
          "name": "stderr",
          "text": [
            "[Succeeded / Failed / Skipped / Total] 2 / 104 / 0 / 106:  54%|█████▎    | 107/200 [00:26<00:23,  3.99it/s]"
          ]
        },
        {
          "output_type": "stream",
          "name": "stdout",
          "text": [
            "--------------------------------------------- Result 106 ---------------------------------------------\n",
            "[[2 (100%)]] --> [[[FAILED]]]\n",
            "\n",
            "Wahlberg was also part of a number of concentrated efforts to revitalize downtown Bay Shore over the years.\r\n",
            "\n",
            "\n",
            "\n"
          ]
        },
        {
          "output_type": "stream",
          "name": "stderr",
          "text": [
            "[Succeeded / Failed / Skipped / Total] 2 / 107 / 0 / 109:  55%|█████▍    | 109/200 [00:27<00:22,  4.00it/s]"
          ]
        },
        {
          "output_type": "stream",
          "name": "stdout",
          "text": [
            "--------------------------------------------- Result 107 ---------------------------------------------\n",
            "[[2 (100%)]] --> [[[FAILED]]]\n",
            "\n",
            "\"You get a cycle where one thing leads to the other.\"\r\n",
            "\n",
            "\n",
            "\n",
            "--------------------------------------------- Result 108 ---------------------------------------------\n",
            "[[2 (100%)]] --> [[[FAILED]]]\n",
            "\n",
            "Yesterday, protestors were met with a small scale counter-protest led by Georgian March, a far-right, ultra-nationalist, neo-nazi group that has a history of staging counter demonstrations and threatening violence.\r\n",
            "\n",
            "\n",
            "\n",
            "--------------------------------------------- Result 109 ---------------------------------------------\n",
            "[[2 (100%)]] --> [[[FAILED]]]\n",
            "\n",
            "What the servant owed the master is expressed as a myriad of talents.\r\n",
            "\n",
            "\n",
            "\n"
          ]
        },
        {
          "output_type": "stream",
          "name": "stderr",
          "text": [
            "\r[Succeeded / Failed / Skipped / Total] 2 / 108 / 0 / 110:  55%|█████▌    | 110/200 [00:27<00:22,  4.00it/s]"
          ]
        },
        {
          "output_type": "stream",
          "name": "stdout",
          "text": [
            "--------------------------------------------- Result 110 ---------------------------------------------\n",
            "[[2 (100%)]] --> [[[FAILED]]]\n",
            "\n",
            "\"We made an effort to promote relations between Iran and Brazil in public and private sectors and we are capable of having useful bilateral relations,\" he concluded.\r\n",
            "\n",
            "\n",
            "\n"
          ]
        },
        {
          "output_type": "stream",
          "name": "stderr",
          "text": [
            "[Succeeded / Failed / Skipped / Total] 2 / 110 / 0 / 112:  56%|█████▌    | 112/200 [00:27<00:21,  4.00it/s]"
          ]
        },
        {
          "output_type": "stream",
          "name": "stdout",
          "text": [
            "--------------------------------------------- Result 111 ---------------------------------------------\n",
            "[[2 (100%)]] --> [[[FAILED]]]\n",
            "\n",
            "\"We made changes in terms of the shape and dynamic of the team at half-time and I thought the boys were brilliant in the second half.\r\n",
            "\n",
            "\n",
            "\n",
            "--------------------------------------------- Result 112 ---------------------------------------------\n",
            "[[2 (100%)]] --> [[[FAILED]]]\n",
            "\n",
            "Your the only Santa and that makes you special to me!\r\n",
            "\n",
            "\n",
            "\n"
          ]
        },
        {
          "output_type": "stream",
          "name": "stderr",
          "text": [
            "[Succeeded / Failed / Skipped / Total] 2 / 112 / 0 / 114:  57%|█████▋    | 114/200 [00:28<00:21,  4.03it/s]"
          ]
        },
        {
          "output_type": "stream",
          "name": "stdout",
          "text": [
            "--------------------------------------------- Result 113 ---------------------------------------------\n",
            "[[2 (100%)]] --> [[[FAILED]]]\n",
            "\n",
            "Welcoming the probe, he said the truth would finally come out now and Khaunte would ultimately be exposed.\r\n",
            "\n",
            "\n",
            "\n",
            "--------------------------------------------- Result 114 ---------------------------------------------\n",
            "[[2 (100%)]] --> [[[FAILED]]]\n",
            "\n",
            "\"When that's all they're living in then that's how they perceive the world to be,\" she said of the children in her care.\r\n",
            "\n",
            "\n",
            "\n"
          ]
        },
        {
          "output_type": "stream",
          "name": "stderr",
          "text": [
            "[Succeeded / Failed / Skipped / Total] 2 / 114 / 0 / 116:  58%|█████▊    | 116/200 [00:28<00:20,  4.06it/s]"
          ]
        },
        {
          "output_type": "stream",
          "name": "stdout",
          "text": [
            "--------------------------------------------- Result 115 ---------------------------------------------\n",
            "[[2 (98%)]] --> [[[FAILED]]]\n",
            "\n",
            "Youth unemployment in Australia is currently sitting at 13.3 per cent.\r\n",
            "\n",
            "\n",
            "\n",
            "--------------------------------------------- Result 116 ---------------------------------------------\n",
            "[[2 (100%)]] --> [[[FAILED]]]\n",
            "\n",
            "Winners accumulate points for the next edition, where the winners of the 2017 circuit are defined.\r\n",
            "\n",
            "\n",
            "\n"
          ]
        },
        {
          "output_type": "stream",
          "name": "stderr",
          "text": [
            "[Succeeded / Failed / Skipped / Total] 2 / 115 / 0 / 117:  58%|█████▊    | 117/200 [00:28<00:20,  4.07it/s]"
          ]
        },
        {
          "output_type": "stream",
          "name": "stdout",
          "text": [
            "--------------------------------------------- Result 117 ---------------------------------------------\n",
            "[[2 (99%)]] --> [[[FAILED]]]\n",
            "\n",
            "Wednesday, August 16, 2017Excitedly families stood in anticipation as the food packages were distributed.\r\n",
            "\n",
            "\n",
            "\n"
          ]
        },
        {
          "output_type": "stream",
          "name": "stderr",
          "text": [
            "[Succeeded / Failed / Skipped / Total] 2 / 117 / 0 / 119:  60%|█████▉    | 119/200 [00:29<00:19,  4.09it/s]"
          ]
        },
        {
          "output_type": "stream",
          "name": "stdout",
          "text": [
            "--------------------------------------------- Result 118 ---------------------------------------------\n",
            "[[2 (100%)]] --> [[[FAILED]]]\n",
            "\n",
            "Under Carpenter's plan, the Freda Markley Center and Ervin (expected to be renamed the Ervin Early Learning Center) will house pre-school and kindergarten students.\r\n",
            "\n",
            "\n",
            "\n",
            "--------------------------------------------- Result 119 ---------------------------------------------\n",
            "[[2 (100%)]] --> [[[FAILED]]]\n",
            "\n",
            "You are doing a sport that any able-bodied person can do.\r\n",
            "\n",
            "\n",
            "\n"
          ]
        },
        {
          "output_type": "stream",
          "name": "stderr",
          "text": [
            "[Succeeded / Failed / Skipped / Total] 2 / 120 / 0 / 122:  61%|██████    | 122/200 [00:29<00:18,  4.14it/s]"
          ]
        },
        {
          "output_type": "stream",
          "name": "stdout",
          "text": [
            "--------------------------------------------- Result 120 ---------------------------------------------\n",
            "[[2 (100%)]] --> [[[FAILED]]]\n",
            "\n",
            "We are also going to build a 200ft pier into the sea and that will be a 200 ft by 30 ft pier and that will allow for interaction with the water.\r\n",
            "\n",
            "\n",
            "\n",
            "--------------------------------------------- Result 121 ---------------------------------------------\n",
            "[[2 (100%)]] --> [[[FAILED]]]\n",
            "\n",
            "We are delighted that Ballinamore have come on board this year.\r\n",
            "\n",
            "\n",
            "\n",
            "--------------------------------------------- Result 122 ---------------------------------------------\n",
            "[[2 (100%)]] --> [[[FAILED]]]\n",
            "\n",
            "We say it with all conceit and arrogance: the midan is ours.\r\n",
            "\n",
            "\n",
            "\n"
          ]
        },
        {
          "output_type": "stream",
          "name": "stderr",
          "text": [
            "[Succeeded / Failed / Skipped / Total] 2 / 122 / 0 / 124:  62%|██████▏   | 124/200 [00:29<00:18,  4.17it/s]"
          ]
        },
        {
          "output_type": "stream",
          "name": "stdout",
          "text": [
            "--------------------------------------------- Result 123 ---------------------------------------------\n",
            "[[2 (100%)]] --> [[[FAILED]]]\n",
            "\n",
            "We are very proud of the work and effort our students put into their program,\" Sanchez said.\r\n",
            "\n",
            "\n",
            "\n",
            "--------------------------------------------- Result 124 ---------------------------------------------\n",
            "[[2 (100%)]] --> [[[FAILED]]]\n",
            "\n",
            "When it was being proposed the city change its bylaws to allow food trucks to serve their wares by the roadside in...\r\n",
            "\n",
            "\n",
            "\n"
          ]
        },
        {
          "output_type": "stream",
          "name": "stderr",
          "text": [
            "[Succeeded / Failed / Skipped / Total] 2 / 123 / 0 / 125:  62%|██████▎   | 125/200 [00:29<00:17,  4.18it/s]"
          ]
        },
        {
          "output_type": "stream",
          "name": "stdout",
          "text": [
            "--------------------------------------------- Result 125 ---------------------------------------------\n",
            "[[2 (100%)]] --> [[[FAILED]]]\n",
            "\n",
            "When the census finally took place in 1998, it did have soldiers accompanying enumerators.\r\n",
            "\n",
            "\n",
            "\n"
          ]
        },
        {
          "output_type": "stream",
          "name": "stderr",
          "text": [
            "[Succeeded / Failed / Skipped / Total] 2 / 125 / 0 / 127:  64%|██████▎   | 127/200 [00:30<00:17,  4.18it/s]"
          ]
        },
        {
          "output_type": "stream",
          "name": "stdout",
          "text": [
            "--------------------------------------------- Result 126 ---------------------------------------------\n",
            "[[2 (100%)]] --> [[[FAILED]]]\n",
            "\n",
            "We have always worked to be a positive force on campus, collaborating with other student organizations and supporting their efforts in a spirit of sincere respect and cooperation.\r\n",
            "\n",
            "\n",
            "\n",
            "--------------------------------------------- Result 127 ---------------------------------------------\n",
            "[[2 (98%)]] --> [[[FAILED]]]\n",
            "\n",
            "Without regulation, these vaping cartridges could contain just as many carcinogens as cigarettes, or possibly even more.\r\n",
            "\n",
            "\n",
            "\n"
          ]
        },
        {
          "output_type": "stream",
          "name": "stderr",
          "text": [
            "[Succeeded / Failed / Skipped / Total] 2 / 127 / 0 / 129:  64%|██████▍   | 129/200 [00:30<00:16,  4.18it/s]"
          ]
        },
        {
          "output_type": "stream",
          "name": "stdout",
          "text": [
            "--------------------------------------------- Result 128 ---------------------------------------------\n",
            "[[2 (100%)]] --> [[[FAILED]]]\n",
            "\n",
            "\"We did not have a good option for the individual in their 80s or who had other high risk features that made open heart surgery dangerous for them.\r\n",
            "\n",
            "\n",
            "\n",
            "--------------------------------------------- Result 129 ---------------------------------------------\n",
            "[[2 (100%)]] --> [[[FAILED]]]\n",
            "\n",
            "We don't even really know for sure how much he did pay.\r\n",
            "\n",
            "\n",
            "\n"
          ]
        },
        {
          "output_type": "stream",
          "name": "stderr",
          "text": [
            "[Succeeded / Failed / Skipped / Total] 2 / 129 / 0 / 131:  66%|██████▌   | 131/200 [00:31<00:16,  4.21it/s]"
          ]
        },
        {
          "output_type": "stream",
          "name": "stdout",
          "text": [
            "--------------------------------------------- Result 130 ---------------------------------------------\n",
            "[[2 (100%)]] --> [[[FAILED]]]\n",
            "\n",
            "\"Why put extra fertilizer onto parts of the fields that don't need it?\"\r\n",
            "\n",
            "\n",
            "\n",
            "--------------------------------------------- Result 131 ---------------------------------------------\n",
            "[[2 (100%)]] --> [[[FAILED]]]\n",
            "\n",
            "Winners of the following Knox County Council Parent Teacher Association Awards are:.\r\n",
            "\n",
            "\n",
            "\n"
          ]
        },
        {
          "output_type": "stream",
          "name": "stderr",
          "text": [
            "[Succeeded / Failed / Skipped / Total] 2 / 131 / 0 / 133:  66%|██████▋   | 133/200 [00:31<00:15,  4.24it/s]"
          ]
        },
        {
          "output_type": "stream",
          "name": "stdout",
          "text": [
            "--------------------------------------------- Result 132 ---------------------------------------------\n",
            "[[2 (100%)]] --> [[[FAILED]]]\n",
            "\n",
            "Why feel a constant need to retaliate rather than listen in earnest?\r\n",
            "\n",
            "\n",
            "\n",
            "--------------------------------------------- Result 133 ---------------------------------------------\n",
            "[[2 (100%)]] --> [[[FAILED]]]\n",
            "\n",
            "With the demand for Cuba extremely high at present, there are other alternatives to consider, writes Simon Calder.\r\n",
            "\n",
            "\n",
            "\n"
          ]
        },
        {
          "output_type": "stream",
          "name": "stderr",
          "text": [
            "[Succeeded / Failed / Skipped / Total] 2 / 133 / 0 / 135:  68%|██████▊   | 135/200 [00:32<00:15,  4.21it/s]"
          ]
        },
        {
          "output_type": "stream",
          "name": "stdout",
          "text": [
            "--------------------------------------------- Result 134 ---------------------------------------------\n",
            "[[2 (100%)]] --> [[[FAILED]]]\n",
            "\n",
            "When she makes pasta for dinner, she stores the leftovers in Tupperware and wraps the containers in grocery bags in the refrigerator to hide them from John David because \"it's almost like he doesn't know when to stop eating or drinking.\"\r\n",
            "\n",
            "\n",
            "\n",
            "--------------------------------------------- Result 135 ---------------------------------------------\n",
            "[[2 (100%)]] --> [[[FAILED]]]\n",
            "\n",
            "Works on the 1,000 metre scheme at Kilgortnaleague are due to be completed on Friday, October 21st.\r\n",
            "\n",
            "\n",
            "\n"
          ]
        },
        {
          "output_type": "stream",
          "name": "stderr",
          "text": [
            "\r[Succeeded / Failed / Skipped / Total] 2 / 134 / 0 / 136:  68%|██████▊   | 136/200 [00:32<00:15,  4.22it/s]"
          ]
        },
        {
          "output_type": "stream",
          "name": "stdout",
          "text": [
            "--------------------------------------------- Result 136 ---------------------------------------------\n",
            "[[2 (100%)]] --> [[[FAILED]]]\n",
            "\n",
            "\"While we respect the fiscal challenges facing the government and the nation, we believe that cutting ARENA's budget would be short-sighted,\" the letter reads.\r\n",
            "\n",
            "\n",
            "\n"
          ]
        },
        {
          "output_type": "stream",
          "name": "stderr",
          "text": [
            "[Succeeded / Failed / Skipped / Total] 2 / 135 / 0 / 137:  68%|██████▊   | 137/200 [00:32<00:14,  4.22it/s]"
          ]
        },
        {
          "output_type": "stream",
          "name": "stdout",
          "text": [
            "--------------------------------------------- Result 137 ---------------------------------------------\n",
            "[[2 (100%)]] --> [[[FAILED]]]\n",
            "\n",
            "We put in a bagging system last year so we can bag whole corn, cracked corn and sunflower seed.\"\r\n",
            "\n",
            "\n",
            "\n"
          ]
        },
        {
          "output_type": "stream",
          "name": "stderr",
          "text": [
            "[Succeeded / Failed / Skipped / Total] 2 / 137 / 0 / 139:  70%|██████▉   | 139/200 [00:32<00:14,  4.22it/s]"
          ]
        },
        {
          "output_type": "stream",
          "name": "stdout",
          "text": [
            "--------------------------------------------- Result 138 ---------------------------------------------\n",
            "[[2 (100%)]] --> [[[FAILED]]]\n",
            "\n",
            "With respect to the recent revolution in Georgia, the popular movement there had \"very strong diplomatic support from the west\" which was bolstered by little resistance from the political elite.\r\n",
            "\n",
            "\n",
            "\n",
            "--------------------------------------------- Result 139 ---------------------------------------------\n",
            "[[2 (100%)]] --> [[[FAILED]]]\n",
            "\n",
            "When asked the secret to a long life, Irma Koch said simply, \"Don't smoke, and have a happy,.\r\n",
            "\n",
            "\n",
            "\n"
          ]
        },
        {
          "output_type": "stream",
          "name": "stderr",
          "text": [
            "[Succeeded / Failed / Skipped / Total] 2 / 138 / 0 / 140:  70%|███████   | 141/200 [00:33<00:14,  4.21it/s]"
          ]
        },
        {
          "output_type": "stream",
          "name": "stdout",
          "text": [
            "--------------------------------------------- Result 140 ---------------------------------------------\n",
            "[[2 (100%)]] --> [[[FAILED]]]\n",
            "\n",
            "\"We could have been a bit more comfortable but we came here and got three good points.\r\n",
            "\n",
            "\n",
            "\n"
          ]
        },
        {
          "output_type": "stream",
          "name": "stderr",
          "text": [
            "[Succeeded / Failed / Skipped / Total] 2 / 140 / 0 / 142:  71%|███████   | 142/200 [00:33<00:13,  4.22it/s]"
          ]
        },
        {
          "output_type": "stream",
          "name": "stdout",
          "text": [
            "--------------------------------------------- Result 141 ---------------------------------------------\n",
            "[[2 (100%)]] --> [[[FAILED]]]\n",
            "\n",
            "When asked about the plans of Global expansion, The Producer Director, Mr. Vikas Puri said\" We have already been doing our wedding shoots globally.\r\n",
            "\n",
            "\n",
            "\n",
            "--------------------------------------------- Result 142 ---------------------------------------------\n",
            "[[2 (100%)]] --> [[[FAILED]]]\n",
            "\n",
            "While land is undervalued, the claimed social benefits of large monocultures are typically over-stated.\r\n",
            "\n",
            "\n",
            "\n"
          ]
        },
        {
          "output_type": "stream",
          "name": "stderr",
          "text": [
            "[Succeeded / Failed / Skipped / Total] 2 / 141 / 0 / 143:  72%|███████▏  | 143/200 [00:34<00:13,  4.19it/s]"
          ]
        },
        {
          "output_type": "stream",
          "name": "stdout",
          "text": [
            "--------------------------------------------- Result 143 ---------------------------------------------\n",
            "[[2 (100%)]] --> [[[FAILED]]]\n",
            "\n",
            "WASHINGTON -- During an April 11 homily in Washington, Salvadoran Archbishop Jose Luis Escobar Alas said the canonization of Blessed Oscar Romero will \"probably\" be in Rome and \"probably\" take place at end of October after a meeting of bishops.\r\n",
            "\n",
            "\n",
            "\n"
          ]
        },
        {
          "output_type": "stream",
          "name": "stderr",
          "text": [
            "\r[Succeeded / Failed / Skipped / Total] 2 / 142 / 0 / 144:  72%|███████▏  | 144/200 [00:34<00:13,  4.19it/s]"
          ]
        },
        {
          "output_type": "stream",
          "name": "stdout",
          "text": [
            "--------------------------------------------- Result 144 ---------------------------------------------\n",
            "[[2 (100%)]] --> [[[FAILED]]]\n",
            "\n",
            "\"Where we lost our numbers, were in the so-called good weather months, which weren't such good weather this year,\" he said.\r\n",
            "\n",
            "\n",
            "\n"
          ]
        },
        {
          "output_type": "stream",
          "name": "stderr",
          "text": [
            "[Succeeded / Failed / Skipped / Total] 2 / 144 / 0 / 146:  73%|███████▎  | 146/200 [00:34<00:12,  4.19it/s]"
          ]
        },
        {
          "output_type": "stream",
          "name": "stdout",
          "text": [
            "--------------------------------------------- Result 145 ---------------------------------------------\n",
            "[[2 (100%)]] --> [[[FAILED]]]\n",
            "\n",
            "\"When tragedy happens like that, people tend to rally,\" she said, adding that August, the month after the fire, was the best month ever for business at Bothell Chiropractic and Wellness.\r\n",
            "\n",
            "\n",
            "\n",
            "--------------------------------------------- Result 146 ---------------------------------------------\n",
            "[[2 (100%)]] --> [[[FAILED]]]\n",
            "\n",
            "We were all looking for and expecting the snipers to be White men.\r\n",
            "\n",
            "\n",
            "\n"
          ]
        },
        {
          "output_type": "stream",
          "name": "stderr",
          "text": [
            "[Succeeded / Failed / Skipped / Total] 2 / 145 / 0 / 147:  74%|███████▎  | 147/200 [00:35<00:12,  4.20it/s]"
          ]
        },
        {
          "output_type": "stream",
          "name": "stdout",
          "text": [
            "--------------------------------------------- Result 147 ---------------------------------------------\n",
            "[[2 (100%)]] --> [[[FAILED]]]\n",
            "\n",
            "Your $50 tax credit isn't going to get you far in this election.\r\n",
            "\n",
            "\n",
            "\n"
          ]
        },
        {
          "output_type": "stream",
          "name": "stderr",
          "text": [
            "[Succeeded / Failed / Skipped / Total] 2 / 147 / 0 / 149:  74%|███████▍  | 149/200 [00:35<00:12,  4.20it/s]"
          ]
        },
        {
          "output_type": "stream",
          "name": "stdout",
          "text": [
            "--------------------------------------------- Result 148 ---------------------------------------------\n",
            "[[2 (100%)]] --> [[[FAILED]]]\n",
            "\n",
            "When you get to a point where you realise I'm not living for you.\r\n",
            "\n",
            "\n",
            "\n",
            "--------------------------------------------- Result 149 ---------------------------------------------\n",
            "[[2 (100%)]] --> [[[FAILED]]]\n",
            "\n",
            "When it comes to the three business promotion organisations, that is MDC, METCO and IPSE, the survey has highlighted quite significant differences in perceptions.\r\n",
            "\n",
            "\n",
            "\n"
          ]
        },
        {
          "output_type": "stream",
          "name": "stderr",
          "text": [
            "[Succeeded / Failed / Skipped / Total] 2 / 149 / 0 / 151:  76%|███████▌  | 151/200 [00:35<00:11,  4.22it/s]"
          ]
        },
        {
          "output_type": "stream",
          "name": "stdout",
          "text": [
            "--------------------------------------------- Result 150 ---------------------------------------------\n",
            "[[2 (100%)]] --> [[[FAILED]]]\n",
            "\n",
            "What makes it really special is it was David's first and last car.\r\n",
            "\n",
            "\n",
            "\n",
            "--------------------------------------------- Result 151 ---------------------------------------------\n",
            "[[2 (100%)]] --> [[[FAILED]]]\n",
            "\n",
            "Vladimir Putin approved a composition of the Public Chamber of the Russian Federation.\r\n",
            "\n",
            "\n",
            "\n"
          ]
        },
        {
          "output_type": "stream",
          "name": "stderr",
          "text": [
            "\r[Succeeded / Failed / Skipped / Total] 2 / 150 / 0 / 152:  76%|███████▌  | 152/200 [00:36<00:11,  4.21it/s]"
          ]
        },
        {
          "output_type": "stream",
          "name": "stdout",
          "text": [
            "--------------------------------------------- Result 152 ---------------------------------------------\n",
            "[[2 (100%)]] --> [[[FAILED]]]\n",
            "\n",
            "Wessen had complained to the Office of the Attorney General claiming that Lidet has committed a breach of conduct in taking away clients from her father's law firm without his consent.\r\n",
            "\n",
            "\n",
            "\n"
          ]
        },
        {
          "output_type": "stream",
          "name": "stderr",
          "text": [
            "[Succeeded / Failed / Skipped / Total] 2 / 151 / 0 / 153:  76%|███████▋  | 153/200 [00:36<00:11,  4.20it/s]"
          ]
        },
        {
          "output_type": "stream",
          "name": "stdout",
          "text": [
            "--------------------------------------------- Result 153 ---------------------------------------------\n",
            "[[2 (100%)]] --> [[[FAILED]]]\n",
            "\n",
            "Well known travel writer Rick Steves is busy writing his guidebook Rick Steve's Iceland, On his blog however he's published a few budget tips for Iceland travels.\r\n",
            "\n",
            "\n",
            "\n"
          ]
        },
        {
          "output_type": "stream",
          "name": "stderr",
          "text": [
            "\r[Succeeded / Failed / Skipped / Total] 2 / 152 / 0 / 154:  77%|███████▋  | 154/200 [00:36<00:10,  4.20it/s]"
          ]
        },
        {
          "output_type": "stream",
          "name": "stdout",
          "text": [
            "--------------------------------------------- Result 154 ---------------------------------------------\n",
            "[[2 (100%)]] --> [[[FAILED]]]\n",
            "\n",
            "\"Within seconds, minutes, it's going to become deadly,\" said Captain Andy Skaggs of TFD about flooding in washes and streets in Tucson.\r\n",
            "\n",
            "\n",
            "\n"
          ]
        },
        {
          "output_type": "stream",
          "name": "stderr",
          "text": [
            "[Succeeded / Failed / Skipped / Total] 2 / 154 / 0 / 156:  78%|███████▊  | 156/200 [00:37<00:10,  4.20it/s]"
          ]
        },
        {
          "output_type": "stream",
          "name": "stdout",
          "text": [
            "--------------------------------------------- Result 155 ---------------------------------------------\n",
            "[[2 (100%)]] --> [[[FAILED]]]\n",
            "\n",
            "We are till date yet to see a five (5) inches cement block laid for the first of the 200 senior high schools as promised ahead of elections 2012.\r\n",
            "\n",
            "\n",
            "\n",
            "--------------------------------------------- Result 156 ---------------------------------------------\n",
            "[[2 (99%)]] --> [[[FAILED]]]\n",
            "\n",
            "User Udugu Wa Kiislamu regularly posts news bulletins from the ISIS-affiliated Wilayat News Network (WNN).\r\n",
            "\n",
            "\n",
            "\n"
          ]
        },
        {
          "output_type": "stream",
          "name": "stderr",
          "text": [
            "[Succeeded / Failed / Skipped / Total] 2 / 155 / 0 / 157:  78%|███████▊  | 157/200 [00:37<00:10,  4.21it/s]"
          ]
        },
        {
          "output_type": "stream",
          "name": "stdout",
          "text": [
            "--------------------------------------------- Result 157 ---------------------------------------------\n",
            "[[2 (100%)]] --> [[[FAILED]]]\n",
            "\n",
            "\"We're not in the business of trading good players for prospects when your team has a chance to win the (Stanley) Cup.\r\n",
            "\n",
            "\n",
            "\n"
          ]
        },
        {
          "output_type": "stream",
          "name": "stderr",
          "text": [
            "\r[Succeeded / Failed / Skipped / Total] 2 / 156 / 0 / 158:  79%|███████▉  | 158/200 [00:37<00:09,  4.21it/s]"
          ]
        },
        {
          "output_type": "stream",
          "name": "stdout",
          "text": [
            "--------------------------------------------- Result 158 ---------------------------------------------\n",
            "[[2 (100%)]] --> [[[FAILED]]]\n",
            "\n",
            "We tried the octopus carpaccio to start, which was soft and delicate, served with the unlikely combination of truffle cream and marinated apples.\r\n",
            "\n",
            "\n",
            "\n"
          ]
        },
        {
          "output_type": "stream",
          "name": "stderr",
          "text": [
            "[Succeeded / Failed / Skipped / Total] 2 / 158 / 0 / 160:  80%|████████  | 160/200 [00:38<00:09,  4.21it/s]"
          ]
        },
        {
          "output_type": "stream",
          "name": "stdout",
          "text": [
            "--------------------------------------------- Result 159 ---------------------------------------------\n",
            "[[2 (100%)]] --> [[[FAILED]]]\n",
            "\n",
            "Yet, even in the absence of feelings of hunger, she looked forward to what had become ritualized bouts of food stuffing and self induced vomiting.\r\n",
            "\n",
            "\n",
            "\n",
            "--------------------------------------------- Result 160 ---------------------------------------------\n",
            "[[2 (100%)]] --> [[[FAILED]]]\n",
            "\n",
            "We are proud of our contribution to the growth and development of healthcare in Qatar and proud to be part of the private sector's active partnership in achieving the developmental goals of Qatar.\"\r\n",
            "\n",
            "\n",
            "\n"
          ]
        },
        {
          "output_type": "stream",
          "name": "stderr",
          "text": [
            "[Succeeded / Failed / Skipped / Total] 2 / 160 / 0 / 162:  81%|████████  | 162/200 [00:38<00:09,  4.20it/s]"
          ]
        },
        {
          "output_type": "stream",
          "name": "stdout",
          "text": [
            "--------------------------------------------- Result 161 ---------------------------------------------\n",
            "[[2 (100%)]] --> [[[FAILED]]]\n",
            "\n",
            "You are invited to support the Foundation by individual gifts of cash, planned gifts, life insurance, retirement accounts, securities, real estate, grant funding and also corporate contributions.\r\n",
            "\n",
            "\n",
            "\n",
            "--------------------------------------------- Result 162 ---------------------------------------------\n",
            "[[2 (100%)]] --> [[[FAILED]]]\n",
            "\n",
            "You either drop out right now, or you lose by the biggest landslide in American political history.\"\r\n",
            "\n",
            "\n",
            "\n"
          ]
        },
        {
          "output_type": "stream",
          "name": "stderr",
          "text": [
            "[Succeeded / Failed / Skipped / Total] 2 / 161 / 0 / 163:  82%|████████▏ | 163/200 [00:39<00:08,  4.15it/s]"
          ]
        },
        {
          "output_type": "stream",
          "name": "stdout",
          "text": [
            "--------------------------------------------- Result 163 ---------------------------------------------\n",
            "[[2 (100%)]] --> [[[FAILED]]]\n",
            "\n",
            "\"We came across the amazing work of pioneers like Daphne Oram back in the 1940s and 50s -- she pushed ahead with the development of electronic works, and even built her own synthesiser before they had really taken off,\" Melania Jack said.\r\n",
            "\n",
            "\n",
            "\n"
          ]
        },
        {
          "output_type": "stream",
          "name": "stderr",
          "text": [
            "[Succeeded / Failed / Skipped / Total] 2 / 163 / 0 / 165:  82%|████████▎ | 165/200 [00:39<00:08,  4.16it/s]"
          ]
        },
        {
          "output_type": "stream",
          "name": "stdout",
          "text": [
            "--------------------------------------------- Result 164 ---------------------------------------------\n",
            "[[2 (100%)]] --> [[[FAILED]]]\n",
            "\n",
            "Whether it is a tie game, or we have a lead, or we are down one or two goals, we are going to be the best team in the third period every time.\r\n",
            "\n",
            "\n",
            "\n",
            "--------------------------------------------- Result 165 ---------------------------------------------\n",
            "[[2 (100%)]] --> [[[FAILED]]]\n",
            "\n",
            "Whatever the age or occasion, there is something for all the family.\r\n",
            "\n",
            "\n",
            "\n"
          ]
        },
        {
          "output_type": "stream",
          "name": "stderr",
          "text": [
            "[Succeeded / Failed / Skipped / Total] 2 / 165 / 0 / 167:  84%|████████▎ | 167/200 [00:40<00:07,  4.15it/s]"
          ]
        },
        {
          "output_type": "stream",
          "name": "stdout",
          "text": [
            "--------------------------------------------- Result 166 ---------------------------------------------\n",
            "[[2 (100%)]] --> [[[FAILED]]]\n",
            "\n",
            "What he really replied (according to one report) was, \"I have not yet thought of it, but I am determined to make you strike.\"\r\n",
            "\n",
            "\n",
            "\n",
            "--------------------------------------------- Result 167 ---------------------------------------------\n",
            "[[2 (100%)]] --> [[[FAILED]]]\n",
            "\n",
            "Yet, the senator did not worry about the legality or repercussions of the continued targeted killings in Somalia, Yemen or Pakistan.\r\n",
            "\n",
            "\n",
            "\n"
          ]
        },
        {
          "output_type": "stream",
          "name": "stderr",
          "text": [
            "[Succeeded / Failed / Skipped / Total] 2 / 167 / 0 / 169:  84%|████████▍ | 169/200 [00:40<00:07,  4.13it/s]"
          ]
        },
        {
          "output_type": "stream",
          "name": "stdout",
          "text": [
            "--------------------------------------------- Result 168 ---------------------------------------------\n",
            "[[2 (100%)]] --> [[[FAILED]]]\n",
            "\n",
            "\"We really needed to get down to 140 to make it small enough to continue to sort of hold the line in terms of our entering LSAT and undergraduate GPA scores,\" said Craig Boise, dean of C-M Law.\r\n",
            "\n",
            "\n",
            "\n",
            "--------------------------------------------- Result 169 ---------------------------------------------\n",
            "[[2 (99%)]] --> [[[FAILED]]]\n",
            "\n",
            "Unemployment is officially at 14% and per capita income is officially $2200/year.\r\n",
            "\n",
            "\n",
            "\n"
          ]
        },
        {
          "output_type": "stream",
          "name": "stderr",
          "text": [
            "\r[Succeeded / Failed / Skipped / Total] 2 / 168 / 0 / 170:  85%|████████▌ | 170/200 [00:41<00:07,  4.11it/s]"
          ]
        },
        {
          "output_type": "stream",
          "name": "stdout",
          "text": [
            "--------------------------------------------- Result 170 ---------------------------------------------\n",
            "[[2 (100%)]] --> [[[FAILED]]]\n",
            "\n",
            "While most of Sweden's schools are run by the local municipality, there are also a large number of independent schools (), which are publicly funded and must follow government guidelines on the curriculum, but operate independently.\r\n",
            "\n",
            "\n",
            "\n"
          ]
        },
        {
          "output_type": "stream",
          "name": "stderr",
          "text": [
            "[Succeeded / Failed / Skipped / Total] 2 / 170 / 0 / 172:  86%|████████▌ | 172/200 [00:41<00:06,  4.12it/s]"
          ]
        },
        {
          "output_type": "stream",
          "name": "stdout",
          "text": [
            "--------------------------------------------- Result 171 ---------------------------------------------\n",
            "[[2 (100%)]] --> [[[FAILED]]]\n",
            "\n",
            "With the Irish question threatening to hold up any agreement on the transition period, a deal, has been struck, said Barnier.\r\n",
            "\n",
            "\n",
            "\n",
            "--------------------------------------------- Result 172 ---------------------------------------------\n",
            "[[2 (100%)]] --> [[[FAILED]]]\n",
            "\n",
            "VIRGIN Media has asked Ofcom to pause the auction of TV rights for Premier League football.\r\n",
            "\n",
            "\n",
            "\n"
          ]
        },
        {
          "output_type": "stream",
          "name": "stderr",
          "text": [
            "[Succeeded / Failed / Skipped / Total] 2 / 172 / 0 / 174:  87%|████████▋ | 174/200 [00:42<00:06,  4.12it/s]"
          ]
        },
        {
          "output_type": "stream",
          "name": "stdout",
          "text": [
            "--------------------------------------------- Result 173 ---------------------------------------------\n",
            "[[2 (100%)]] --> [[[FAILED]]]\n",
            "\n",
            "U.S. troops in Afghanistan are relying more and more on the superior noses of military working dogs to sniff out deadly improvised explosive devices.\r\n",
            "\n",
            "\n",
            "\n",
            "--------------------------------------------- Result 174 ---------------------------------------------\n",
            "[[2 (100%)]] --> [[[FAILED]]]\n",
            "\n",
            "With the integrated system, every item is accounted for: from the moment the stock arrives, all the way through to delivery.\r\n",
            "\n",
            "\n",
            "\n"
          ]
        },
        {
          "output_type": "stream",
          "name": "stderr",
          "text": [
            "[Succeeded / Failed / Skipped / Total] 2 / 174 / 0 / 176:  88%|████████▊ | 176/200 [00:42<00:05,  4.11it/s]"
          ]
        },
        {
          "output_type": "stream",
          "name": "stdout",
          "text": [
            "--------------------------------------------- Result 175 ---------------------------------------------\n",
            "[[2 (100%)]] --> [[[FAILED]]]\n",
            "\n",
            "When the LTTE lost Jaffna in 1995, it had places to retreat to as the Kumaratunga government had captured that town at the expense of the Eastern Province which the UNP government of the late President D. B. Wijetunge had cleared.\r\n",
            "\n",
            "\n",
            "\n",
            "--------------------------------------------- Result 176 ---------------------------------------------\n",
            "[[2 (100%)]] --> [[[FAILED]]]\n",
            "\n",
            "With the district administration declaring holiday after 1 pm, parents rushed to schools to pick up their wards.\r\n",
            "\n",
            "\n",
            "\n"
          ]
        },
        {
          "output_type": "stream",
          "name": "stderr",
          "text": [
            "[Succeeded / Failed / Skipped / Total] 2 / 175 / 0 / 177:  88%|████████▊ | 177/200 [00:42<00:05,  4.12it/s]"
          ]
        },
        {
          "output_type": "stream",
          "name": "stdout",
          "text": [
            "--------------------------------------------- Result 177 ---------------------------------------------\n",
            "[[2 (100%)]] --> [[[FAILED]]]\n",
            "\n",
            "We transfer your personally identifiable information if Conley acquires or is acquired by, or merges with another company.\r\n",
            "\n",
            "\n",
            "\n"
          ]
        },
        {
          "output_type": "stream",
          "name": "stderr",
          "text": [
            "[Succeeded / Failed / Skipped / Total] 2 / 177 / 0 / 179:  90%|████████▉ | 179/200 [00:43<00:05,  4.12it/s]"
          ]
        },
        {
          "output_type": "stream",
          "name": "stdout",
          "text": [
            "--------------------------------------------- Result 178 ---------------------------------------------\n",
            "[[2 (100%)]] --> [[[FAILED]]]\n",
            "\n",
            "\"We shuffle our program around and try to fit all the work we need to do into seven days instead of eight,\" Mercedes technical director James Allison said.\r\n",
            "\n",
            "\n",
            "\n",
            "--------------------------------------------- Result 179 ---------------------------------------------\n",
            "[[2 (100%)]] --> [[[FAILED]]]\n",
            "\n",
            "\"We share the attorney general's concern about the opioid crisis,\" the company said in a statement.\r\n",
            "\n",
            "\n",
            "\n"
          ]
        },
        {
          "output_type": "stream",
          "name": "stderr",
          "text": [
            "[Succeeded / Failed / Skipped / Total] 2 / 179 / 0 / 181:  90%|█████████ | 181/200 [00:43<00:04,  4.14it/s]"
          ]
        },
        {
          "output_type": "stream",
          "name": "stdout",
          "text": [
            "--------------------------------------------- Result 180 ---------------------------------------------\n",
            "[[2 (98%)]] --> [[[FAILED]]]\n",
            "\n",
            "\"When it comes to covering religion, reporters tend to veer between being overly cynical to being overly credulous,\" he says.\r\n",
            "\n",
            "\n",
            "\n",
            "--------------------------------------------- Result 181 ---------------------------------------------\n",
            "[[2 (90%)]] --> [[[FAILED]]]\n",
            "\n",
            "\"We watched as these beams were being trucked down Blithedale,\" Jovinta Addeo said.\r\n",
            "\n",
            "\n",
            "\n"
          ]
        },
        {
          "output_type": "stream",
          "name": "stderr",
          "text": [
            "[Succeeded / Failed / Skipped / Total] 2 / 181 / 0 / 183:  92%|█████████▏| 183/200 [00:44<00:04,  4.13it/s]"
          ]
        },
        {
          "output_type": "stream",
          "name": "stdout",
          "text": [
            "--------------------------------------------- Result 182 ---------------------------------------------\n",
            "[[2 (100%)]] --> [[[FAILED]]]\n",
            "\n",
            "While the Bay Area has other ranges, club officials estimate the Chabot Gun Club accounts for nearly 25 percent of rifle shooting positions in the region.\r\n",
            "\n",
            "\n",
            "\n",
            "--------------------------------------------- Result 183 ---------------------------------------------\n",
            "[[2 (100%)]] --> [[[FAILED]]]\n",
            "\n",
            "When the team returned to campus, she informed coach Geno Auriemma that she would not use her final year of eligibility.\r\n",
            "\n",
            "\n",
            "\n"
          ]
        },
        {
          "output_type": "stream",
          "name": "stderr",
          "text": [
            "\r[Succeeded / Failed / Skipped / Total] 2 / 182 / 0 / 184:  92%|█████████▏| 184/200 [00:44<00:03,  4.14it/s]"
          ]
        },
        {
          "output_type": "stream",
          "name": "stdout",
          "text": [
            "--------------------------------------------- Result 184 ---------------------------------------------\n",
            "[[2 (100%)]] --> [[[FAILED]]]\n",
            "\n",
            "Without international organizations of women abusers to point our finger at, we relegate misogyny to \"the act of a lone madman.\"\r\n",
            "\n",
            "\n",
            "\n"
          ]
        },
        {
          "output_type": "stream",
          "name": "stderr",
          "text": [
            "[Succeeded / Failed / Skipped / Total] 2 / 183 / 0 / 185:  92%|█████████▎| 185/200 [00:44<00:03,  4.14it/s]"
          ]
        },
        {
          "output_type": "stream",
          "name": "stdout",
          "text": [
            "--------------------------------------------- Result 185 ---------------------------------------------\n",
            "[[2 (100%)]] --> [[[FAILED]]]\n",
            "\n",
            "\"We can safely say that our men and women in uniform can work with greater hope in all parts of the country.\r\n",
            "\n",
            "\n",
            "\n"
          ]
        },
        {
          "output_type": "stream",
          "name": "stderr",
          "text": [
            "[Succeeded / Failed / Skipped / Total] 2 / 185 / 0 / 187:  94%|█████████▎| 187/200 [00:45<00:03,  4.14it/s]"
          ]
        },
        {
          "output_type": "stream",
          "name": "stdout",
          "text": [
            "--------------------------------------------- Result 186 ---------------------------------------------\n",
            "[[2 (100%)]] --> [[[FAILED]]]\n",
            "\n",
            "We camped outside the town, just within view of the Turkish fort on the hill, and beside huge middens of shells, gathered from the mangroves as sustenance for an unknown people long ago.\r\n",
            "\n",
            "\n",
            "\n",
            "--------------------------------------------- Result 187 ---------------------------------------------\n",
            "[[2 (100%)]] --> [[[FAILED]]]\n",
            "\n",
            "U.S. Women's National Team's Julie Ertz complains about a call in Sandy on Thursday, June 7, 2018.\r\n",
            "\n",
            "\n",
            "\n"
          ]
        },
        {
          "output_type": "stream",
          "name": "stderr",
          "text": [
            "[Succeeded / Failed / Skipped / Total] 2 / 187 / 0 / 189:  94%|█████████▍| 189/200 [00:45<00:02,  4.16it/s]"
          ]
        },
        {
          "output_type": "stream",
          "name": "stdout",
          "text": [
            "--------------------------------------------- Result 188 ---------------------------------------------\n",
            "[[2 (100%)]] --> [[[FAILED]]]\n",
            "\n",
            "We are not suggesting that any but the most experienced investors look at EISs and SEISs.\r\n",
            "\n",
            "\n",
            "\n",
            "--------------------------------------------- Result 189 ---------------------------------------------\n",
            "[[2 (100%)]] --> [[[FAILED]]]\n",
            "\n",
            "With All Access, listen to everything, everywhere, in your car and on your computer, smartphone or tablet.\r\n",
            "\n",
            "\n",
            "\n"
          ]
        },
        {
          "output_type": "stream",
          "name": "stderr",
          "text": [
            "\r[Succeeded / Failed / Skipped / Total] 2 / 188 / 0 / 190:  95%|█████████▌| 190/200 [00:45<00:02,  4.16it/s]"
          ]
        },
        {
          "output_type": "stream",
          "name": "stdout",
          "text": [
            "--------------------------------------------- Result 190 ---------------------------------------------\n",
            "[[2 (100%)]] --> [[[FAILED]]]\n",
            "\n",
            "With a physical paper, you will see everything, you can read anything, and when you get to the end, you're done.\r\n",
            "\n",
            "\n",
            "\n"
          ]
        },
        {
          "output_type": "stream",
          "name": "stderr",
          "text": [
            "[Succeeded / Failed / Skipped / Total] 2 / 189 / 0 / 191:  96%|█████████▌| 191/200 [00:45<00:02,  4.15it/s]"
          ]
        },
        {
          "output_type": "stream",
          "name": "stdout",
          "text": [
            "--------------------------------------------- Result 191 ---------------------------------------------\n",
            "[[2 (100%)]] --> [[[FAILED]]]\n",
            "\n",
            "Unfortunately, the Founders also presumed that people charged with making electoral decisions in our representative democracy would have a quite different goal than many today.\r\n",
            "\n",
            "\n",
            "\n"
          ]
        },
        {
          "output_type": "stream",
          "name": "stderr",
          "text": [
            "[Succeeded / Failed / Skipped / Total] 2 / 191 / 0 / 193:  96%|█████████▋| 193/200 [00:46<00:01,  4.15it/s]"
          ]
        },
        {
          "output_type": "stream",
          "name": "stdout",
          "text": [
            "--------------------------------------------- Result 192 ---------------------------------------------\n",
            "[[2 (100%)]] --> [[[FAILED]]]\n",
            "\n",
            "\"We need to get a letter of approval from the EPD to make it a viable option,\" Grant said.\r\n",
            "\n",
            "\n",
            "\n",
            "--------------------------------------------- Result 193 ---------------------------------------------\n",
            "[[2 (95%)]] --> [[[FAILED]]]\n",
            "\n",
            "We've gotten defendants back from Mexico, from Canada, from Europe,\" said Corey.\r\n",
            "\n",
            "\n",
            "\n"
          ]
        },
        {
          "output_type": "stream",
          "name": "stderr",
          "text": [
            "[Succeeded / Failed / Skipped / Total] 2 / 193 / 0 / 195:  98%|█████████▊| 195/200 [00:46<00:01,  4.17it/s]"
          ]
        },
        {
          "output_type": "stream",
          "name": "stdout",
          "text": [
            "--------------------------------------------- Result 194 ---------------------------------------------\n",
            "[[2 (100%)]] --> [[[FAILED]]]\n",
            "\n",
            "When they arrived in 1992, they were assigned a lieutenant from the Interior Ministry's industrial and scientific espionage division as a handler: Jose Cohen.\r\n",
            "\n",
            "\n",
            "\n",
            "--------------------------------------------- Result 195 ---------------------------------------------\n",
            "[[2 (100%)]] --> [[[FAILED]]]\n",
            "\n",
            "With a purple-pink interface for women and brown for men, the site denotes itself with a calculated discretion.\r\n",
            "\n",
            "\n",
            "\n"
          ]
        },
        {
          "output_type": "stream",
          "name": "stderr",
          "text": [
            "[Succeeded / Failed / Skipped / Total] 2 / 195 / 0 / 197:  98%|█████████▊| 197/200 [00:47<00:00,  4.18it/s]"
          ]
        },
        {
          "output_type": "stream",
          "name": "stdout",
          "text": [
            "--------------------------------------------- Result 196 ---------------------------------------------\n",
            "[[2 (100%)]] --> [[[FAILED]]]\n",
            "\n",
            "We need your support to be able to protect your from men like these.\"\r\n",
            "\n",
            "\n",
            "\n",
            "--------------------------------------------- Result 197 ---------------------------------------------\n",
            "[[2 (100%)]] --> [[[FAILED]]]\n",
            "\n",
            "Without the legal practitioners who devoted their time, skill and knowledge, the rate of clearance would certainly have looked very different.\r\n",
            "\n",
            "\n",
            "\n"
          ]
        },
        {
          "output_type": "stream",
          "name": "stderr",
          "text": [
            "[Succeeded / Failed / Skipped / Total] 2 / 197 / 0 / 199: 100%|█████████▉| 199/200 [00:47<00:00,  4.18it/s]"
          ]
        },
        {
          "output_type": "stream",
          "name": "stdout",
          "text": [
            "--------------------------------------------- Result 198 ---------------------------------------------\n",
            "[[2 (100%)]] --> [[[FAILED]]]\n",
            "\n",
            "\"We felt that, over time, fundraising had maybe taken priority over reading and writing at BookFest, and that we should think more about hands-on book-related activities for the kids,\" says Peter Laughton, festival organizer.\r\n",
            "\n",
            "\n",
            "\n",
            "--------------------------------------------- Result 199 ---------------------------------------------\n",
            "[[2 (99%)]] --> [[[FAILED]]]\n",
            "\n",
            "We need to limit radio station ownership to no more than 20 stations.\r\n",
            "\n",
            "\n",
            "\n"
          ]
        },
        {
          "output_type": "stream",
          "name": "stderr",
          "text": [
            "[Succeeded / Failed / Skipped / Total] 2 / 198 / 0 / 200: 100%|██████████| 200/200 [00:47<00:00,  4.18it/s]"
          ]
        },
        {
          "output_type": "stream",
          "name": "stdout",
          "text": [
            "--------------------------------------------- Result 200 ---------------------------------------------\n",
            "[[2 (100%)]] --> [[[FAILED]]]\n",
            "\n",
            "\"We then start moving into the next new set of brands,\" she says.\r\n",
            "\n",
            "\n",
            "\n",
            "\n",
            "+-------------------------------+--------+\n",
            "| Attack Results                |        |\n",
            "+-------------------------------+--------+\n",
            "| Number of successful attacks: | 2      |\n",
            "| Number of failed attacks:     | 198    |\n",
            "| Number of skipped attacks:    | 0      |\n",
            "| Original accuracy:            | 100.0% |\n",
            "| Accuracy under attack:        | 99.0%  |\n",
            "| Attack success rate:          | 1.0%   |\n",
            "| Average perturbed word %:     | 29.69% |\n",
            "| Average num. words per input: | 22.02  |\n",
            "| Avg num queries:              | 239.9  |\n",
            "+-------------------------------+--------+\n"
          ]
        },
        {
          "output_type": "stream",
          "name": "stderr",
          "text": [
            "\n"
          ]
        },
        {
          "output_type": "execute_result",
          "data": {
            "text/plain": [
              "[<textattack.attack_results.failed_attack_result.FailedAttackResult at 0x7fde5bf4f450>,\n",
              " <textattack.attack_results.failed_attack_result.FailedAttackResult at 0x7fde61a5f410>,\n",
              " <textattack.attack_results.failed_attack_result.FailedAttackResult at 0x7fde4c7b1f90>,\n",
              " <textattack.attack_results.failed_attack_result.FailedAttackResult at 0x7fde6be85b50>,\n",
              " <textattack.attack_results.failed_attack_result.FailedAttackResult at 0x7fde649cd150>,\n",
              " <textattack.attack_results.failed_attack_result.FailedAttackResult at 0x7fde614e9250>,\n",
              " <textattack.attack_results.failed_attack_result.FailedAttackResult at 0x7fde5f655110>,\n",
              " <textattack.attack_results.failed_attack_result.FailedAttackResult at 0x7fde6a48ec50>,\n",
              " <textattack.attack_results.failed_attack_result.FailedAttackResult at 0x7fde666bd810>,\n",
              " <textattack.attack_results.failed_attack_result.FailedAttackResult at 0x7fde6dd74e90>,\n",
              " <textattack.attack_results.failed_attack_result.FailedAttackResult at 0x7fde65287d90>,\n",
              " <textattack.attack_results.failed_attack_result.FailedAttackResult at 0x7fde6724cb50>,\n",
              " <textattack.attack_results.failed_attack_result.FailedAttackResult at 0x7fde69188990>,\n",
              " <textattack.attack_results.failed_attack_result.FailedAttackResult at 0x7fde6e06fd50>,\n",
              " <textattack.attack_results.failed_attack_result.FailedAttackResult at 0x7fde5dce0390>,\n",
              " <textattack.attack_results.failed_attack_result.FailedAttackResult at 0x7fde6cea4ed0>,\n",
              " <textattack.attack_results.failed_attack_result.FailedAttackResult at 0x7fde674b3a50>,\n",
              " <textattack.attack_results.failed_attack_result.FailedAttackResult at 0x7fde63f22f50>,\n",
              " <textattack.attack_results.failed_attack_result.FailedAttackResult at 0x7fde6d0ace50>,\n",
              " <textattack.attack_results.failed_attack_result.FailedAttackResult at 0x7fde63d278d0>,\n",
              " <textattack.attack_results.failed_attack_result.FailedAttackResult at 0x7fde67066510>,\n",
              " <textattack.attack_results.successful_attack_result.SuccessfulAttackResult at 0x7fde66976350>,\n",
              " <textattack.attack_results.failed_attack_result.FailedAttackResult at 0x7fde63f5eed0>,\n",
              " <textattack.attack_results.failed_attack_result.FailedAttackResult at 0x7fde6e06ff90>,\n",
              " <textattack.attack_results.failed_attack_result.FailedAttackResult at 0x7fde62a08090>,\n",
              " <textattack.attack_results.failed_attack_result.FailedAttackResult at 0x7fde62aaf0d0>,\n",
              " <textattack.attack_results.successful_attack_result.SuccessfulAttackResult at 0x7fde6f970cd0>,\n",
              " <textattack.attack_results.failed_attack_result.FailedAttackResult at 0x7fde61ea5b10>,\n",
              " <textattack.attack_results.failed_attack_result.FailedAttackResult at 0x7fde61143050>,\n",
              " <textattack.attack_results.failed_attack_result.FailedAttackResult at 0x7fde642ee510>,\n",
              " <textattack.attack_results.failed_attack_result.FailedAttackResult at 0x7fde61ea5310>,\n",
              " <textattack.attack_results.failed_attack_result.FailedAttackResult at 0x7fde5f838a90>,\n",
              " <textattack.attack_results.failed_attack_result.FailedAttackResult at 0x7fde5d339a90>,\n",
              " <textattack.attack_results.failed_attack_result.FailedAttackResult at 0x7fde5e87fdd0>,\n",
              " <textattack.attack_results.failed_attack_result.FailedAttackResult at 0x7fde61a76e50>,\n",
              " <textattack.attack_results.failed_attack_result.FailedAttackResult at 0x7fde73402a90>,\n",
              " <textattack.attack_results.failed_attack_result.FailedAttackResult at 0x7fde5be228d0>,\n",
              " <textattack.attack_results.failed_attack_result.FailedAttackResult at 0x7fde73433bd0>,\n",
              " <textattack.attack_results.failed_attack_result.FailedAttackResult at 0x7fde6154de50>,\n",
              " <textattack.attack_results.failed_attack_result.FailedAttackResult at 0x7fde7201d050>,\n",
              " <textattack.attack_results.failed_attack_result.FailedAttackResult at 0x7fde60fa8a10>,\n",
              " <textattack.attack_results.failed_attack_result.FailedAttackResult at 0x7fde5e4dc350>,\n",
              " <textattack.attack_results.failed_attack_result.FailedAttackResult at 0x7fde63d26e90>,\n",
              " <textattack.attack_results.failed_attack_result.FailedAttackResult at 0x7fde60ab9690>,\n",
              " <textattack.attack_results.failed_attack_result.FailedAttackResult at 0x7fde6f847690>,\n",
              " <textattack.attack_results.failed_attack_result.FailedAttackResult at 0x7fde5e34c690>,\n",
              " <textattack.attack_results.failed_attack_result.FailedAttackResult at 0x7fde6497ea90>,\n",
              " <textattack.attack_results.failed_attack_result.FailedAttackResult at 0x7fde6a4f3e10>,\n",
              " <textattack.attack_results.failed_attack_result.FailedAttackResult at 0x7fde6b349990>,\n",
              " <textattack.attack_results.failed_attack_result.FailedAttackResult at 0x7fde6a1e6350>,\n",
              " <textattack.attack_results.failed_attack_result.FailedAttackResult at 0x7fde5d33e590>,\n",
              " <textattack.attack_results.failed_attack_result.FailedAttackResult at 0x7fde68b79d10>,\n",
              " <textattack.attack_results.failed_attack_result.FailedAttackResult at 0x7fde549ab310>,\n",
              " <textattack.attack_results.failed_attack_result.FailedAttackResult at 0x7fde69f359d0>,\n",
              " <textattack.attack_results.failed_attack_result.FailedAttackResult at 0x7fde69d1e990>,\n",
              " <textattack.attack_results.failed_attack_result.FailedAttackResult at 0x7fde66be1dd0>,\n",
              " <textattack.attack_results.failed_attack_result.FailedAttackResult at 0x7fde65cd82d0>,\n",
              " <textattack.attack_results.failed_attack_result.FailedAttackResult at 0x7fde69d319d0>,\n",
              " <textattack.attack_results.failed_attack_result.FailedAttackResult at 0x7fde676f3d90>,\n",
              " <textattack.attack_results.failed_attack_result.FailedAttackResult at 0x7fde673f3590>,\n",
              " <textattack.attack_results.failed_attack_result.FailedAttackResult at 0x7fde65d52950>,\n",
              " <textattack.attack_results.failed_attack_result.FailedAttackResult at 0x7fde65ddec10>,\n",
              " <textattack.attack_results.failed_attack_result.FailedAttackResult at 0x7fde6cea4790>,\n",
              " <textattack.attack_results.failed_attack_result.FailedAttackResult at 0x7fde67f24c10>,\n",
              " <textattack.attack_results.failed_attack_result.FailedAttackResult at 0x7fde65d52790>,\n",
              " <textattack.attack_results.failed_attack_result.FailedAttackResult at 0x7fde65a4a950>,\n",
              " <textattack.attack_results.failed_attack_result.FailedAttackResult at 0x7fde6587a050>,\n",
              " <textattack.attack_results.failed_attack_result.FailedAttackResult at 0x7fde6314ab50>,\n",
              " <textattack.attack_results.failed_attack_result.FailedAttackResult at 0x7fde65850310>,\n",
              " <textattack.attack_results.failed_attack_result.FailedAttackResult at 0x7fde6403f2d0>,\n",
              " <textattack.attack_results.failed_attack_result.FailedAttackResult at 0x7fde631a57d0>,\n",
              " <textattack.attack_results.failed_attack_result.FailedAttackResult at 0x7fde6a1e6d50>,\n",
              " <textattack.attack_results.failed_attack_result.FailedAttackResult at 0x7fde6154d150>,\n",
              " <textattack.attack_results.failed_attack_result.FailedAttackResult at 0x7fde4f4f4550>,\n",
              " <textattack.attack_results.failed_attack_result.FailedAttackResult at 0x7fde6457c050>,\n",
              " <textattack.attack_results.failed_attack_result.FailedAttackResult at 0x7fe05129b990>,\n",
              " <textattack.attack_results.failed_attack_result.FailedAttackResult at 0x7fde65b08390>,\n",
              " <textattack.attack_results.failed_attack_result.FailedAttackResult at 0x7fde69efcf10>,\n",
              " <textattack.attack_results.failed_attack_result.FailedAttackResult at 0x7fde611c32d0>,\n",
              " <textattack.attack_results.failed_attack_result.FailedAttackResult at 0x7fde62fcd290>,\n",
              " <textattack.attack_results.failed_attack_result.FailedAttackResult at 0x7fde60c4ecd0>,\n",
              " <textattack.attack_results.failed_attack_result.FailedAttackResult at 0x7fde65434150>,\n",
              " <textattack.attack_results.failed_attack_result.FailedAttackResult at 0x7fde629977d0>,\n",
              " <textattack.attack_results.failed_attack_result.FailedAttackResult at 0x7fde74848ad0>,\n",
              " <textattack.attack_results.failed_attack_result.FailedAttackResult at 0x7fde658a7d90>,\n",
              " <textattack.attack_results.failed_attack_result.FailedAttackResult at 0x7fde658a7c10>,\n",
              " <textattack.attack_results.failed_attack_result.FailedAttackResult at 0x7fde61313f10>,\n",
              " <textattack.attack_results.failed_attack_result.FailedAttackResult at 0x7fde64728690>,\n",
              " <textattack.attack_results.failed_attack_result.FailedAttackResult at 0x7fde6f426110>,\n",
              " <textattack.attack_results.failed_attack_result.FailedAttackResult at 0x7fde63767810>,\n",
              " <textattack.attack_results.failed_attack_result.FailedAttackResult at 0x7fde67f1d390>,\n",
              " <textattack.attack_results.failed_attack_result.FailedAttackResult at 0x7fde6374b790>,\n",
              " <textattack.attack_results.failed_attack_result.FailedAttackResult at 0x7fde60787790>,\n",
              " <textattack.attack_results.failed_attack_result.FailedAttackResult at 0x7fde5fb51690>,\n",
              " <textattack.attack_results.failed_attack_result.FailedAttackResult at 0x7fde6187aa90>,\n",
              " <textattack.attack_results.failed_attack_result.FailedAttackResult at 0x7fde649a7310>,\n",
              " <textattack.attack_results.failed_attack_result.FailedAttackResult at 0x7fde708eb250>,\n",
              " <textattack.attack_results.failed_attack_result.FailedAttackResult at 0x7fde634e7210>,\n",
              " <textattack.attack_results.failed_attack_result.FailedAttackResult at 0x7fde72f2b090>,\n",
              " <textattack.attack_results.failed_attack_result.FailedAttackResult at 0x7fde62fcd610>,\n",
              " <textattack.attack_results.failed_attack_result.FailedAttackResult at 0x7fde6dffdcd0>,\n",
              " <textattack.attack_results.failed_attack_result.FailedAttackResult at 0x7fde5d35dc10>,\n",
              " <textattack.attack_results.failed_attack_result.FailedAttackResult at 0x7fde634e76d0>,\n",
              " <textattack.attack_results.failed_attack_result.FailedAttackResult at 0x7fde7313d850>,\n",
              " <textattack.attack_results.failed_attack_result.FailedAttackResult at 0x7fde634dab50>,\n",
              " <textattack.attack_results.failed_attack_result.FailedAttackResult at 0x7fde60c29ad0>,\n",
              " <textattack.attack_results.failed_attack_result.FailedAttackResult at 0x7fde72026d90>,\n",
              " <textattack.attack_results.failed_attack_result.FailedAttackResult at 0x7fde70094e10>,\n",
              " <textattack.attack_results.failed_attack_result.FailedAttackResult at 0x7fde6244bf10>,\n",
              " <textattack.attack_results.failed_attack_result.FailedAttackResult at 0x7fde6f44a7d0>,\n",
              " <textattack.attack_results.failed_attack_result.FailedAttackResult at 0x7fde6d50bc10>,\n",
              " <textattack.attack_results.failed_attack_result.FailedAttackResult at 0x7fde634dac50>,\n",
              " <textattack.attack_results.failed_attack_result.FailedAttackResult at 0x7fde6faa4550>,\n",
              " <textattack.attack_results.failed_attack_result.FailedAttackResult at 0x7fde6f7c4dd0>,\n",
              " <textattack.attack_results.failed_attack_result.FailedAttackResult at 0x7fde6f45aa90>,\n",
              " <textattack.attack_results.failed_attack_result.FailedAttackResult at 0x7fde65880e10>,\n",
              " <textattack.attack_results.failed_attack_result.FailedAttackResult at 0x7fde6aaafc50>,\n",
              " <textattack.attack_results.failed_attack_result.FailedAttackResult at 0x7fde6dc4c850>,\n",
              " <textattack.attack_results.failed_attack_result.FailedAttackResult at 0x7fde65434210>,\n",
              " <textattack.attack_results.failed_attack_result.FailedAttackResult at 0x7fde6e065f50>,\n",
              " <textattack.attack_results.failed_attack_result.FailedAttackResult at 0x7fde7427c850>,\n",
              " <textattack.attack_results.failed_attack_result.FailedAttackResult at 0x7fde6e0b3090>,\n",
              " <textattack.attack_results.failed_attack_result.FailedAttackResult at 0x7fde64aeca10>,\n",
              " <textattack.attack_results.failed_attack_result.FailedAttackResult at 0x7fde62e09e90>,\n",
              " <textattack.attack_results.failed_attack_result.FailedAttackResult at 0x7fde5fcd9f10>,\n",
              " <textattack.attack_results.failed_attack_result.FailedAttackResult at 0x7fde6b0aed90>,\n",
              " <textattack.attack_results.failed_attack_result.FailedAttackResult at 0x7fde6459e1d0>,\n",
              " <textattack.attack_results.failed_attack_result.FailedAttackResult at 0x7fde69defb50>,\n",
              " <textattack.attack_results.failed_attack_result.FailedAttackResult at 0x7fde6e0b3ed0>,\n",
              " <textattack.attack_results.failed_attack_result.FailedAttackResult at 0x7fde6b0aedd0>,\n",
              " <textattack.attack_results.failed_attack_result.FailedAttackResult at 0x7fde61a3cf10>,\n",
              " <textattack.attack_results.failed_attack_result.FailedAttackResult at 0x7fde6543b890>,\n",
              " <textattack.attack_results.failed_attack_result.FailedAttackResult at 0x7fde73e1e810>,\n",
              " <textattack.attack_results.failed_attack_result.FailedAttackResult at 0x7fde67156ad0>,\n",
              " <textattack.attack_results.failed_attack_result.FailedAttackResult at 0x7fde62e73f10>,\n",
              " <textattack.attack_results.failed_attack_result.FailedAttackResult at 0x7fde64797550>,\n",
              " <textattack.attack_results.failed_attack_result.FailedAttackResult at 0x7fde6ecd5690>,\n",
              " <textattack.attack_results.failed_attack_result.FailedAttackResult at 0x7fde6f046b90>,\n",
              " <textattack.attack_results.failed_attack_result.FailedAttackResult at 0x7fde6d502d10>,\n",
              " <textattack.attack_results.failed_attack_result.FailedAttackResult at 0x7fde681d12d0>,\n",
              " <textattack.attack_results.failed_attack_result.FailedAttackResult at 0x7fde6d502650>,\n",
              " <textattack.attack_results.failed_attack_result.FailedAttackResult at 0x7fde67573b50>,\n",
              " <textattack.attack_results.failed_attack_result.FailedAttackResult at 0x7fde659f6b90>,\n",
              " <textattack.attack_results.failed_attack_result.FailedAttackResult at 0x7fde67b86350>,\n",
              " <textattack.attack_results.failed_attack_result.FailedAttackResult at 0x7fde65e89350>,\n",
              " <textattack.attack_results.failed_attack_result.FailedAttackResult at 0x7fde6b4eda10>,\n",
              " <textattack.attack_results.failed_attack_result.FailedAttackResult at 0x7fde6e02ead0>,\n",
              " <textattack.attack_results.failed_attack_result.FailedAttackResult at 0x7fde6031a950>,\n",
              " <textattack.attack_results.failed_attack_result.FailedAttackResult at 0x7fde6a8130d0>,\n",
              " <textattack.attack_results.failed_attack_result.FailedAttackResult at 0x7fde648223d0>,\n",
              " <textattack.attack_results.failed_attack_result.FailedAttackResult at 0x7fde650c4b50>,\n",
              " <textattack.attack_results.failed_attack_result.FailedAttackResult at 0x7fde666fab50>,\n",
              " <textattack.attack_results.failed_attack_result.FailedAttackResult at 0x7fde66c7dc90>,\n",
              " <textattack.attack_results.failed_attack_result.FailedAttackResult at 0x7fde69bd2810>,\n",
              " <textattack.attack_results.failed_attack_result.FailedAttackResult at 0x7fde655c4510>,\n",
              " <textattack.attack_results.failed_attack_result.FailedAttackResult at 0x7fde74000990>,\n",
              " <textattack.attack_results.failed_attack_result.FailedAttackResult at 0x7fde6b4ed190>,\n",
              " <textattack.attack_results.failed_attack_result.FailedAttackResult at 0x7fde6f2e17d0>,\n",
              " <textattack.attack_results.failed_attack_result.FailedAttackResult at 0x7fde6512e410>,\n",
              " <textattack.attack_results.failed_attack_result.FailedAttackResult at 0x7fde6558b750>,\n",
              " <textattack.attack_results.failed_attack_result.FailedAttackResult at 0x7fde63684050>,\n",
              " <textattack.attack_results.failed_attack_result.FailedAttackResult at 0x7fde681ca6d0>,\n",
              " <textattack.attack_results.failed_attack_result.FailedAttackResult at 0x7fde6ca5f050>,\n",
              " <textattack.attack_results.failed_attack_result.FailedAttackResult at 0x7fde62f200d0>,\n",
              " <textattack.attack_results.failed_attack_result.FailedAttackResult at 0x7fde5fe4a210>,\n",
              " <textattack.attack_results.failed_attack_result.FailedAttackResult at 0x7fde6059c450>,\n",
              " <textattack.attack_results.failed_attack_result.FailedAttackResult at 0x7fde65e927d0>,\n",
              " <textattack.attack_results.failed_attack_result.FailedAttackResult at 0x7fde684fb050>,\n",
              " <textattack.attack_results.failed_attack_result.FailedAttackResult at 0x7fde6e7a4e90>,\n",
              " <textattack.attack_results.failed_attack_result.FailedAttackResult at 0x7fde6db4ea10>,\n",
              " <textattack.attack_results.failed_attack_result.FailedAttackResult at 0x7fde6dc0d190>,\n",
              " <textattack.attack_results.failed_attack_result.FailedAttackResult at 0x7fde60c4e0d0>,\n",
              " <textattack.attack_results.failed_attack_result.FailedAttackResult at 0x7fde605a0f50>,\n",
              " <textattack.attack_results.failed_attack_result.FailedAttackResult at 0x7fde67d4e590>,\n",
              " <textattack.attack_results.failed_attack_result.FailedAttackResult at 0x7fde624bc690>,\n",
              " <textattack.attack_results.failed_attack_result.FailedAttackResult at 0x7fde68519d10>,\n",
              " <textattack.attack_results.failed_attack_result.FailedAttackResult at 0x7fde624efed0>,\n",
              " <textattack.attack_results.failed_attack_result.FailedAttackResult at 0x7fde6a0f0d50>,\n",
              " <textattack.attack_results.failed_attack_result.FailedAttackResult at 0x7fde6d44f810>,\n",
              " <textattack.attack_results.failed_attack_result.FailedAttackResult at 0x7fde71fba210>,\n",
              " <textattack.attack_results.failed_attack_result.FailedAttackResult at 0x7fde6a45fe50>,\n",
              " <textattack.attack_results.failed_attack_result.FailedAttackResult at 0x7fde6b207bd0>,\n",
              " <textattack.attack_results.failed_attack_result.FailedAttackResult at 0x7fde6b085d90>,\n",
              " <textattack.attack_results.failed_attack_result.FailedAttackResult at 0x7fde65bc8a50>,\n",
              " <textattack.attack_results.failed_attack_result.FailedAttackResult at 0x7fde607d0390>,\n",
              " <textattack.attack_results.failed_attack_result.FailedAttackResult at 0x7fde645e7750>,\n",
              " <textattack.attack_results.failed_attack_result.FailedAttackResult at 0x7fde67573690>,\n",
              " <textattack.attack_results.failed_attack_result.FailedAttackResult at 0x7fde6dc2a590>,\n",
              " <textattack.attack_results.failed_attack_result.FailedAttackResult at 0x7fde708c4410>,\n",
              " <textattack.attack_results.failed_attack_result.FailedAttackResult at 0x7fde6d56e550>,\n",
              " <textattack.attack_results.failed_attack_result.FailedAttackResult at 0x7fde62aed050>,\n",
              " <textattack.attack_results.failed_attack_result.FailedAttackResult at 0x7fde643aef90>,\n",
              " <textattack.attack_results.failed_attack_result.FailedAttackResult at 0x7fde6e7a4b10>,\n",
              " <textattack.attack_results.failed_attack_result.FailedAttackResult at 0x7fde69c946d0>,\n",
              " <textattack.attack_results.failed_attack_result.FailedAttackResult at 0x7fde6ca6ee10>,\n",
              " <textattack.attack_results.failed_attack_result.FailedAttackResult at 0x7fde667041d0>,\n",
              " <textattack.attack_results.failed_attack_result.FailedAttackResult at 0x7fde6ecd4d50>,\n",
              " <textattack.attack_results.failed_attack_result.FailedAttackResult at 0x7fde115bab90>,\n",
              " <textattack.attack_results.failed_attack_result.FailedAttackResult at 0x7fde659f6310>,\n",
              " <textattack.attack_results.failed_attack_result.FailedAttackResult at 0x7fde69deff90>]"
            ]
          },
          "metadata": {},
          "execution_count": 29
        }
      ],
      "source": [
        "from textattack.attack_recipes import TextFoolerJin2019, PWWSRen2019, DeepWordBugGao2018, GeneticAlgorithmAlzantot2018\n",
        "from textattack import Attacker\n",
        "from textattack import AttackArgs\n",
        "\n",
        "# dataset = custom_dataset\n",
        "attack = PWWSRen2019.build(model_wrapper)\n",
        "attack_args = AttackArgs(num_examples=200, log_to_csv=\"cnn_attack_pwws_lang_recog.csv\")\n",
        "attacker = Attacker(attack, dataset, attack_args)\n",
        "attacker.attack_dataset()"
      ]
    },
    {
      "cell_type": "code",
      "source": [
        "from textattack.attack_recipes import TextFoolerJin2019, PWWSRen2019, DeepWordBugGao2018, GeneticAlgorithmAlzantot2018\n",
        "from textattack import Attacker\n",
        "from textattack import AttackArgs\n",
        "\n",
        "# dataset = custom_dataset\n",
        "attack = TextFoolerJin2019.build(model_wrapper)\n",
        "attack_args = AttackArgs(num_examples=200, log_to_csv=\"cnn_attack_textfooler_lang_recog.csv\")\n",
        "attacker = Attacker(attack, dataset, attack_args)\n",
        "attacker.attack_dataset()"
      ],
      "metadata": {
        "colab": {
          "base_uri": "https://localhost:8080/"
        },
        "id": "Wn49HiI44QR8",
        "outputId": "541b039b-778f-45ae-aaa7-4408b75cc561"
      },
      "execution_count": null,
      "outputs": [
        {
          "output_type": "stream",
          "name": "stderr",
          "text": [
            "textattack: Unknown if model of class <class '__main__.CNN'> compatible with goal function <class 'textattack.goal_functions.classification.untargeted_classification.UntargetedClassification'>.\n",
            "textattack: Logging to CSV at path cnn_attack_textfooler_lang_recog.csv\n"
          ]
        },
        {
          "output_type": "stream",
          "name": "stdout",
          "text": [
            "Attack(\n",
            "  (search_method): GreedyWordSwapWIR(\n",
            "    (wir_method):  delete\n",
            "  )\n",
            "  (goal_function):  UntargetedClassification\n",
            "  (transformation):  WordSwapEmbedding(\n",
            "    (max_candidates):  50\n",
            "    (embedding):  WordEmbedding\n",
            "  )\n",
            "  (constraints): \n",
            "    (0): WordEmbeddingDistance(\n",
            "        (embedding):  WordEmbedding\n",
            "        (min_cos_sim):  0.5\n",
            "        (cased):  False\n",
            "        (include_unknown_words):  True\n",
            "        (compare_against_original):  True\n",
            "      )\n",
            "    (1): PartOfSpeech(\n",
            "        (tagger_type):  nltk\n",
            "        (tagset):  universal\n",
            "        (allow_verb_noun_swap):  True\n",
            "        (compare_against_original):  True\n",
            "      )\n",
            "    (2): UniversalSentenceEncoder(\n",
            "        (metric):  angular\n",
            "        (threshold):  0.840845057\n",
            "        (window_size):  15\n",
            "        (skip_text_shorter_than_window):  True\n",
            "        (compare_against_original):  False\n",
            "      )\n",
            "    (3): RepeatModification\n",
            "    (4): StopwordModification\n",
            "    (5): InputColumnModification(\n",
            "        (matching_column_labels):  ['premise', 'hypothesis']\n",
            "        (columns_to_ignore):  {'premise'}\n",
            "      )\n",
            "  (is_black_box):  True\n",
            ") \n",
            "\n"
          ]
        },
        {
          "output_type": "stream",
          "name": "stderr",
          "text": [
            "[Succeeded / Failed / Skipped / Total] 0 / 1 / 0 / 1:   0%|          | 1/200 [00:20<1:07:21, 20.31s/it]"
          ]
        },
        {
          "output_type": "stream",
          "name": "stdout",
          "text": [
            "--------------------------------------------- Result 1 ---------------------------------------------\n",
            "[[2 (100%)]] --> [[[FAILED]]]\n",
            "\n",
            "United Kingdom and United States sanctions against Zimbabwe illustrate the \"warm-up\" approach, followed by a \"knock-out\" punch.\r\n",
            "\n",
            "\n",
            "\n"
          ]
        },
        {
          "output_type": "stream",
          "name": "stderr",
          "text": [
            "[Succeeded / Failed / Skipped / Total] 0 / 2 / 0 / 2:   1%|          | 2/200 [00:21<35:38, 10.80s/it]"
          ]
        },
        {
          "output_type": "stream",
          "name": "stdout",
          "text": [
            "--------------------------------------------- Result 2 ---------------------------------------------\n",
            "[[2 (100%)]] --> [[[FAILED]]]\n",
            "\n",
            "While presenting the report, Hon. Bright pleaded that in view of the sacrifices Mrs. Jonathan's husband made for the country while he was president, the House should wade into the matter and call the security agencies to order.\r\n",
            "\n",
            "\n",
            "\n"
          ]
        },
        {
          "output_type": "stream",
          "name": "stderr",
          "text": [
            "[Succeeded / Failed / Skipped / Total] 0 / 3 / 0 / 3:   2%|▏         | 3/200 [00:22<24:07,  7.35s/it]"
          ]
        },
        {
          "output_type": "stream",
          "name": "stdout",
          "text": [
            "--------------------------------------------- Result 3 ---------------------------------------------\n",
            "[[2 (100%)]] --> [[[FAILED]]]\n",
            "\n",
            "\"You have the two extremes as far as different reasons for crop insurance,\" he said.\r\n",
            "\n",
            "\n",
            "\n"
          ]
        },
        {
          "output_type": "stream",
          "name": "stderr",
          "text": [
            "[Succeeded / Failed / Skipped / Total] 0 / 4 / 0 / 4:   2%|▏         | 4/200 [00:22<18:35,  5.69s/it]"
          ]
        },
        {
          "output_type": "stream",
          "name": "stdout",
          "text": [
            "--------------------------------------------- Result 4 ---------------------------------------------\n",
            "[[2 (100%)]] --> [[[FAILED]]]\n",
            "\n",
            "While the nation has seen 7.6 percent job growth since 2013, Kansas has lagged far behind, with an anemic rate of 3.5 percent.\r\n",
            "\n",
            "\n",
            "\n"
          ]
        },
        {
          "output_type": "stream",
          "name": "stderr",
          "text": [
            "[Succeeded / Failed / Skipped / Total] 0 / 5 / 0 / 5:   2%|▎         | 5/200 [00:23<15:18,  4.71s/it]"
          ]
        },
        {
          "output_type": "stream",
          "name": "stdout",
          "text": [
            "--------------------------------------------- Result 5 ---------------------------------------------\n",
            "[[2 (100%)]] --> [[[FAILED]]]\n",
            "\n",
            "WASHINGTON, D.C. -- President George Bush has praised efforts by Colombian President Alvaro Uribe to crack down on terrorism in the South American country.\r\n",
            "\n",
            "\n",
            "\n"
          ]
        },
        {
          "output_type": "stream",
          "name": "stderr",
          "text": [
            "[Succeeded / Failed / Skipped / Total] 0 / 6 / 0 / 6:   3%|▎         | 6/200 [00:24<13:17,  4.11s/it]"
          ]
        },
        {
          "output_type": "stream",
          "name": "stdout",
          "text": [
            "--------------------------------------------- Result 6 ---------------------------------------------\n",
            "[[2 (100%)]] --> [[[FAILED]]]\n",
            "\n",
            "While the federal government is up and running, at least for a few weeks, many Greenbelters felt the stress of preparing for a shutdown.\r\n",
            "\n",
            "\n",
            "\n"
          ]
        },
        {
          "output_type": "stream",
          "name": "stderr",
          "text": [
            "[Succeeded / Failed / Skipped / Total] 0 / 7 / 0 / 7:   4%|▎         | 7/200 [00:25<11:36,  3.61s/it]"
          ]
        },
        {
          "output_type": "stream",
          "name": "stdout",
          "text": [
            "--------------------------------------------- Result 7 ---------------------------------------------\n",
            "[[2 (100%)]] --> [[[FAILED]]]\n",
            "\n",
            "Your insistence, your determination to stick to your opinion in the face of all the new evidence makes you look like a closed-mined idiot.\r\n",
            "\n",
            "\n",
            "\n"
          ]
        },
        {
          "output_type": "stream",
          "name": "stderr",
          "text": [
            "[Succeeded / Failed / Skipped / Total] 0 / 8 / 0 / 8:   4%|▍         | 8/200 [00:26<10:32,  3.30s/it]"
          ]
        },
        {
          "output_type": "stream",
          "name": "stdout",
          "text": [
            "--------------------------------------------- Result 8 ---------------------------------------------\n",
            "[[2 (100%)]] --> [[[FAILED]]]\n",
            "\n",
            "\"When we say the rule of law doesn't apply because you are not a U.S. citizen, when we say it doesn't apply because you've admitted killing people, then the rule of law doesn't apply to all of us.\"\r\n",
            "\n",
            "\n",
            "\n"
          ]
        },
        {
          "output_type": "stream",
          "name": "stderr",
          "text": [
            "[Succeeded / Failed / Skipped / Total] 0 / 9 / 0 / 9:   4%|▍         | 9/200 [00:27<09:35,  3.01s/it]"
          ]
        },
        {
          "output_type": "stream",
          "name": "stdout",
          "text": [
            "--------------------------------------------- Result 9 ---------------------------------------------\n",
            "[[2 (100%)]] --> [[[FAILED]]]\n",
            "\n",
            "\"Yet he has not once told the public about the child abuse allegations he faced in 2007 and the discretionary decisions of my office, and more specifically by me as the DA.\"\r\n",
            "\n",
            "\n",
            "\n"
          ]
        },
        {
          "output_type": "stream",
          "name": "stderr",
          "text": [
            "[Succeeded / Failed / Skipped / Total] 0 / 10 / 0 / 10:   5%|▌         | 10/200 [00:27<08:40,  2.74s/it]"
          ]
        },
        {
          "output_type": "stream",
          "name": "stdout",
          "text": [
            "--------------------------------------------- Result 10 ---------------------------------------------\n",
            "[[2 (100%)]] --> [[[FAILED]]]\n",
            "\n",
            "With about 30 percent of carbon emissions coming from the fossil fuel.\r\n",
            "\n",
            "\n",
            "\n"
          ]
        },
        {
          "output_type": "stream",
          "name": "stderr",
          "text": [
            "[Succeeded / Failed / Skipped / Total] 0 / 11 / 0 / 11:   6%|▌         | 11/200 [00:28<08:01,  2.55s/it]"
          ]
        },
        {
          "output_type": "stream",
          "name": "stdout",
          "text": [
            "--------------------------------------------- Result 11 ---------------------------------------------\n",
            "[[2 (100%)]] --> [[[FAILED]]]\n",
            "\n",
            "You'll be able to choose to play as either the male Alexios or the female Kassandra, both of whom are Spartan \"outcasts-turned-mercenaries\" who appear to have joined the Assassins Brotherhood.\r\n",
            "\n",
            "\n",
            "\n"
          ]
        },
        {
          "output_type": "stream",
          "name": "stderr",
          "text": [
            "[Succeeded / Failed / Skipped / Total] 0 / 12 / 0 / 12:   6%|▌         | 12/200 [00:28<07:29,  2.39s/it]"
          ]
        },
        {
          "output_type": "stream",
          "name": "stdout",
          "text": [
            "--------------------------------------------- Result 12 ---------------------------------------------\n",
            "[[2 (100%)]] --> [[[FAILED]]]\n",
            "\n",
            "\"Under the EU mechanism for distributing 160,000 refugees Hungary would have to take in just 1,294 people currently living in Greece and Italy.\r\n",
            "\n",
            "\n",
            "\n"
          ]
        },
        {
          "output_type": "stream",
          "name": "stderr",
          "text": [
            "[Succeeded / Failed / Skipped / Total] 0 / 13 / 0 / 13:   6%|▋         | 13/200 [00:28<06:56,  2.23s/it]"
          ]
        },
        {
          "output_type": "stream",
          "name": "stdout",
          "text": [
            "--------------------------------------------- Result 13 ---------------------------------------------\n",
            "[[2 (100%)]] --> [[[FAILED]]]\n",
            "\n",
            "We are going to have this demonstration tomorrow, it's a peaceful protest.\r\n",
            "\n",
            "\n",
            "\n"
          ]
        },
        {
          "output_type": "stream",
          "name": "stderr",
          "text": [
            "[Succeeded / Failed / Skipped / Total] 0 / 15 / 0 / 15:   8%|▊         | 15/200 [00:30<06:13,  2.02s/it]"
          ]
        },
        {
          "output_type": "stream",
          "name": "stdout",
          "text": [
            "--------------------------------------------- Result 14 ---------------------------------------------\n",
            "[[2 (100%)]] --> [[[FAILED]]]\n",
            "\n",
            "YouTuber Logan Paul says sorry after posting sickening video of suicide victim hanging from a treeThe American vlogger is hugely popular with children and he provoked outrage after he uploaded the video to his 15 million followers.\r\n",
            "\n",
            "\n",
            "\n",
            "--------------------------------------------- Result 15 ---------------------------------------------\n",
            "[[2 (100%)]] --> [[[FAILED]]]\n",
            "\n",
            "Who ever is DPM now will take the office of the PM.\r\n",
            "\n",
            "\n",
            "\n"
          ]
        },
        {
          "output_type": "stream",
          "name": "stderr",
          "text": [
            "[Succeeded / Failed / Skipped / Total] 0 / 16 / 0 / 16:   8%|▊         | 16/200 [00:30<05:56,  1.94s/it]"
          ]
        },
        {
          "output_type": "stream",
          "name": "stdout",
          "text": [
            "--------------------------------------------- Result 16 ---------------------------------------------\n",
            "[[2 (100%)]] --> [[[FAILED]]]\n",
            "\n",
            "We've also previously told you how the health board has flown in consultants from Europe and as far as the Middle East to plug gaps within the service.\r\n",
            "\n",
            "\n",
            "\n"
          ]
        },
        {
          "output_type": "stream",
          "name": "stderr",
          "text": [
            "[Succeeded / Failed / Skipped / Total] 0 / 17 / 0 / 17:   8%|▊         | 17/200 [00:31<05:37,  1.85s/it]"
          ]
        },
        {
          "output_type": "stream",
          "name": "stdout",
          "text": [
            "--------------------------------------------- Result 17 ---------------------------------------------\n",
            "[[2 (100%)]] --> [[[FAILED]]]\n",
            "\n",
            "We are in the hospital suffering,\" Deivis' mother, Sandra Galindez, told me and my colleagues.\r\n",
            "\n",
            "\n",
            "\n"
          ]
        },
        {
          "output_type": "stream",
          "name": "stderr",
          "text": [
            "[Succeeded / Failed / Skipped / Total] 0 / 18 / 0 / 18:   9%|▉         | 18/200 [00:32<05:27,  1.80s/it]"
          ]
        },
        {
          "output_type": "stream",
          "name": "stdout",
          "text": [
            "--------------------------------------------- Result 18 ---------------------------------------------\n",
            "[[2 (100%)]] --> [[[FAILED]]]\n",
            "\n",
            "While the menu has expanded to pizzas and other items in the past decade, Fatiga's strength -- and what makes it one of the truly best eating experiences in Arkansas -- is its selection of Italian subs.\r\n",
            "\n",
            "\n",
            "\n"
          ]
        },
        {
          "output_type": "stream",
          "name": "stderr",
          "text": [
            "[Succeeded / Failed / Skipped / Total] 0 / 19 / 0 / 19:  10%|▉         | 19/200 [00:32<05:13,  1.73s/it]"
          ]
        },
        {
          "output_type": "stream",
          "name": "stdout",
          "text": [
            "--------------------------------------------- Result 19 ---------------------------------------------\n",
            "[[2 (100%)]] --> [[[FAILED]]]\n",
            "\n",
            "\"You can do far more than you ever expected if you just push yourself and keep going, and if someone tells you no, you just continue on.\"\r\n",
            "\n",
            "\n",
            "\n"
          ]
        },
        {
          "output_type": "stream",
          "name": "stderr",
          "text": [
            "[Succeeded / Failed / Skipped / Total] 0 / 20 / 0 / 20:  10%|█         | 20/200 [00:33<05:02,  1.68s/it]"
          ]
        },
        {
          "output_type": "stream",
          "name": "stdout",
          "text": [
            "--------------------------------------------- Result 20 ---------------------------------------------\n",
            "[[2 (100%)]] --> [[[FAILED]]]\n",
            "\n",
            "\"What makes the F1 in Schools Technology Challenge different,\" said Mr Sangari, \"is that it entails a comprehensive and inclusive learning approach.\r\n",
            "\n",
            "\n",
            "\n"
          ]
        },
        {
          "output_type": "stream",
          "name": "stderr",
          "text": [
            "[Succeeded / Failed / Skipped / Total] 0 / 21 / 0 / 21:  10%|█         | 21/200 [00:34<04:55,  1.65s/it]"
          ]
        },
        {
          "output_type": "stream",
          "name": "stdout",
          "text": [
            "--------------------------------------------- Result 21 ---------------------------------------------\n",
            "[[2 (100%)]] --> [[[FAILED]]]\n",
            "\n",
            "Washington has shown signs of shrugging off its role as a world leader, and nations such as Russia and China, which do not see Western humanitarian values as universal, wield growing global clout.\r\n",
            "\n",
            "\n",
            "\n"
          ]
        },
        {
          "output_type": "stream",
          "name": "stderr",
          "text": [
            "[Succeeded / Failed / Skipped / Total] 1 / 21 / 0 / 22:  11%|█         | 22/200 [00:35<04:43,  1.59s/it]"
          ]
        },
        {
          "output_type": "stream",
          "name": "stdout",
          "text": [
            "--------------------------------------------- Result 22 ---------------------------------------------\n",
            "[[2 (100%)]] --> [[6 (82%)]]\n",
            "\n",
            "[[While]] fewer [[people]] may [[have]] [[died]] in [[Las]] Vegas if bump stocks were [[banned]], the devices [[have]] rarely, if ever, been used in prior shootings.\r\n",
            "\n",
            "\n",
            "[[Upon]] fewer [[man]] may [[ter]] [[die]] in [[De]] Vegas if bump stocks were [[averted]], the devices [[ter]] rarely, if ever, been used in prior shootings.\r\n",
            "\n",
            "\n",
            "\n"
          ]
        },
        {
          "output_type": "stream",
          "name": "stderr",
          "text": [
            "[Succeeded / Failed / Skipped / Total] 1 / 22 / 0 / 23:  12%|█▏        | 23/200 [00:35<04:32,  1.54s/it]"
          ]
        },
        {
          "output_type": "stream",
          "name": "stdout",
          "text": [
            "--------------------------------------------- Result 23 ---------------------------------------------\n",
            "[[2 (100%)]] --> [[[FAILED]]]\n",
            "\n",
            "When a dispute occurred, the latter asked for the return of the deposits.\r\n",
            "\n",
            "\n",
            "\n"
          ]
        },
        {
          "output_type": "stream",
          "name": "stderr",
          "text": [
            "[Succeeded / Failed / Skipped / Total] 1 / 23 / 0 / 24:  12%|█▏        | 24/200 [00:36<04:24,  1.50s/it]"
          ]
        },
        {
          "output_type": "stream",
          "name": "stdout",
          "text": [
            "--------------------------------------------- Result 24 ---------------------------------------------\n",
            "[[2 (100%)]] --> [[[FAILED]]]\n",
            "\n",
            "When Uber came to Sri Lanka they will use someone else's assets though it is over Uber's arrival that we will have a big bash!\r\n",
            "\n",
            "\n",
            "\n"
          ]
        },
        {
          "output_type": "stream",
          "name": "stderr",
          "text": [
            "[Succeeded / Failed / Skipped / Total] 1 / 24 / 0 / 25:  12%|█▎        | 25/200 [00:36<04:15,  1.46s/it]"
          ]
        },
        {
          "output_type": "stream",
          "name": "stdout",
          "text": [
            "--------------------------------------------- Result 25 ---------------------------------------------\n",
            "[[2 (100%)]] --> [[[FAILED]]]\n",
            "\n",
            "We'll see a bigger cool down and the chance for some heavy snow across parts of Colorado.\r\n",
            "\n",
            "\n",
            "\n"
          ]
        },
        {
          "output_type": "stream",
          "name": "stderr",
          "text": [
            "[Succeeded / Failed / Skipped / Total] 2 / 25 / 0 / 27:  14%|█▎        | 27/200 [00:37<03:57,  1.38s/it]"
          ]
        },
        {
          "output_type": "stream",
          "name": "stdout",
          "text": [
            "--------------------------------------------- Result 26 ---------------------------------------------\n",
            "[[2 (100%)]] --> [[[FAILED]]]\n",
            "\n",
            "What I learned about Budapest the morning we arrived was that it hid some secret gardens we were about to discover.\r\n",
            "\n",
            "\n",
            "\n",
            "--------------------------------------------- Result 27 ---------------------------------------------\n",
            "[[2 (97%)]] --> [[0 (42%)]]\n",
            "\n",
            "Wildflower, from that [[day]] forward, excelled almost [[like]] no dog I've ever trained.\r\n",
            "\n",
            "\n",
            "Wildflower, from that [[date]] forward, excelled almost [[adore]] no dog I've ever trained.\r\n",
            "\n",
            "\n",
            "\n"
          ]
        },
        {
          "output_type": "stream",
          "name": "stderr",
          "text": [
            "[Succeeded / Failed / Skipped / Total] 2 / 26 / 0 / 28:  14%|█▍        | 28/200 [00:37<03:51,  1.34s/it]"
          ]
        },
        {
          "output_type": "stream",
          "name": "stdout",
          "text": [
            "--------------------------------------------- Result 28 ---------------------------------------------\n",
            "[[2 (100%)]] --> [[[FAILED]]]\n",
            "\n",
            "\"What we're trying to do, is we're trying to build up our capacity to do projects with the Ring of Fire.\"\r\n",
            "\n",
            "\n",
            "\n"
          ]
        },
        {
          "output_type": "stream",
          "name": "stderr",
          "text": [
            "\r[Succeeded / Failed / Skipped / Total] 2 / 27 / 0 / 29:  14%|█▍        | 29/200 [00:38<03:48,  1.33s/it]"
          ]
        },
        {
          "output_type": "stream",
          "name": "stdout",
          "text": [
            "--------------------------------------------- Result 29 ---------------------------------------------\n",
            "[[2 (100%)]] --> [[[FAILED]]]\n",
            "\n",
            "While proponents of the legislation argued the existing regulations hindered economic growth, conservationists fear the price paid for environmental degradation is often lost in the debate.\r\n",
            "\n",
            "\n",
            "\n"
          ]
        },
        {
          "output_type": "stream",
          "name": "stderr",
          "text": [
            "[Succeeded / Failed / Skipped / Total] 2 / 28 / 0 / 30:  15%|█▌        | 30/200 [00:39<03:41,  1.30s/it]"
          ]
        },
        {
          "output_type": "stream",
          "name": "stdout",
          "text": [
            "--------------------------------------------- Result 30 ---------------------------------------------\n",
            "[[2 (100%)]] --> [[[FAILED]]]\n",
            "\n",
            "We desperately need to spend more on health, public services and education.\r\n",
            "\n",
            "\n",
            "\n"
          ]
        },
        {
          "output_type": "stream",
          "name": "stderr",
          "text": [
            "\r[Succeeded / Failed / Skipped / Total] 2 / 29 / 0 / 31:  16%|█▌        | 31/200 [00:39<03:35,  1.27s/it]"
          ]
        },
        {
          "output_type": "stream",
          "name": "stdout",
          "text": [
            "--------------------------------------------- Result 31 ---------------------------------------------\n",
            "[[2 (100%)]] --> [[[FAILED]]]\n",
            "\n",
            "You chose to think of materialism and greed when you walk through those \"heavy glass doors.\"\r\n",
            "\n",
            "\n",
            "\n"
          ]
        },
        {
          "output_type": "stream",
          "name": "stderr",
          "text": [
            "[Succeeded / Failed / Skipped / Total] 2 / 30 / 0 / 32:  16%|█▌        | 32/200 [00:40<03:30,  1.25s/it]"
          ]
        },
        {
          "output_type": "stream",
          "name": "stdout",
          "text": [
            "--------------------------------------------- Result 32 ---------------------------------------------\n",
            "[[2 (100%)]] --> [[[FAILED]]]\n",
            "\n",
            "We also plan to grow in the business, at the moment in 2010 the capacity is 3.2 MMt but we expected to 5.3 MMt by Q1'11 and 5.8 MMt by end of 2011.\r\n",
            "\n",
            "\n",
            "\n"
          ]
        },
        {
          "output_type": "stream",
          "name": "stderr",
          "text": [
            "\r[Succeeded / Failed / Skipped / Total] 2 / 31 / 0 / 33:  16%|█▋        | 33/200 [00:41<03:28,  1.25s/it]"
          ]
        },
        {
          "output_type": "stream",
          "name": "stdout",
          "text": [
            "--------------------------------------------- Result 33 ---------------------------------------------\n",
            "[[2 (100%)]] --> [[[FAILED]]]\n",
            "\n",
            "Zhu Xiaohu, founder of GSR Ventures, said at a speech in April that mini programs will overturn the giants of PC and mobile Internet, and that total investment in mini programs could reach the tens of billions of yuan this year.\r\n",
            "\n",
            "\n",
            "\n"
          ]
        },
        {
          "output_type": "stream",
          "name": "stderr",
          "text": [
            "[Succeeded / Failed / Skipped / Total] 2 / 32 / 0 / 34:  17%|█▋        | 34/200 [00:42<03:26,  1.24s/it]"
          ]
        },
        {
          "output_type": "stream",
          "name": "stdout",
          "text": [
            "--------------------------------------------- Result 34 ---------------------------------------------\n",
            "[[2 (100%)]] --> [[[FAILED]]]\n",
            "\n",
            "What's to keep corporate interests from complaining that our land use laws are at variance with future congressional legisltion, affect inter-state commerce, and don't have to be followed by out of state developers?\r\n",
            "\n",
            "\n",
            "\n"
          ]
        },
        {
          "output_type": "stream",
          "name": "stderr",
          "text": [
            "\r[Succeeded / Failed / Skipped / Total] 2 / 33 / 0 / 35:  18%|█▊        | 35/200 [00:42<03:20,  1.22s/it]"
          ]
        },
        {
          "output_type": "stream",
          "name": "stdout",
          "text": [
            "--------------------------------------------- Result 35 ---------------------------------------------\n",
            "[[2 (100%)]] --> [[[FAILED]]]\n",
            "\n",
            "When a person dies, his soul passes on to the next World.\r\n",
            "\n",
            "\n",
            "\n"
          ]
        },
        {
          "output_type": "stream",
          "name": "stderr",
          "text": [
            "[Succeeded / Failed / Skipped / Total] 2 / 34 / 0 / 36:  18%|█▊        | 36/200 [00:43<03:17,  1.20s/it]"
          ]
        },
        {
          "output_type": "stream",
          "name": "stdout",
          "text": [
            "--------------------------------------------- Result 36 ---------------------------------------------\n",
            "[[2 (100%)]] --> [[[FAILED]]]\n",
            "\n",
            "We've got to do a good job of selling our kids on what we're trying to do and what we're trying to build at Smiths Station.\r\n",
            "\n",
            "\n",
            "\n"
          ]
        },
        {
          "output_type": "stream",
          "name": "stderr",
          "text": [
            "\r[Succeeded / Failed / Skipped / Total] 2 / 35 / 0 / 37:  18%|█▊        | 37/200 [00:44<03:14,  1.20s/it]"
          ]
        },
        {
          "output_type": "stream",
          "name": "stdout",
          "text": [
            "--------------------------------------------- Result 37 ---------------------------------------------\n",
            "[[2 (100%)]] --> [[[FAILED]]]\n",
            "\n",
            "Your next chance to see the team is tomorrow (Tuesday) night at the Brindy, when they again take on the Glacier Kings before heading down-Island for a rematch against Oceanside Friday night.\r\n",
            "\n",
            "\n",
            "\n"
          ]
        },
        {
          "output_type": "stream",
          "name": "stderr",
          "text": [
            "[Succeeded / Failed / Skipped / Total] 2 / 36 / 0 / 38:  19%|█▉        | 38/200 [00:44<03:11,  1.18s/it]"
          ]
        },
        {
          "output_type": "stream",
          "name": "stdout",
          "text": [
            "--------------------------------------------- Result 38 ---------------------------------------------\n",
            "[[2 (100%)]] --> [[[FAILED]]]\n",
            "\n",
            "Yet when Ponderosa swept Longmont just as they had Berthoud earlier in the day, Berthoud was consigned to the fact that the next day's match, their final of the season, would be for nothing but pride.\r\n",
            "\n",
            "\n",
            "\n"
          ]
        },
        {
          "output_type": "stream",
          "name": "stderr",
          "text": [
            "\r[Succeeded / Failed / Skipped / Total] 2 / 37 / 0 / 39:  20%|█▉        | 39/200 [00:45<03:06,  1.16s/it]"
          ]
        },
        {
          "output_type": "stream",
          "name": "stdout",
          "text": [
            "--------------------------------------------- Result 39 ---------------------------------------------\n",
            "[[2 (100%)]] --> [[[FAILED]]]\n",
            "\n",
            "Where were these investors when public fund was being committed to the same project?\r\n",
            "\n",
            "\n",
            "\n"
          ]
        },
        {
          "output_type": "stream",
          "name": "stderr",
          "text": [
            "[Succeeded / Failed / Skipped / Total] 2 / 38 / 0 / 40:  20%|██        | 40/200 [00:45<03:02,  1.14s/it]"
          ]
        },
        {
          "output_type": "stream",
          "name": "stdout",
          "text": [
            "--------------------------------------------- Result 40 ---------------------------------------------\n",
            "[[2 (100%)]] --> [[[FAILED]]]\n",
            "\n",
            "What I can't find anywhere online is the names of the photographers in the exhibition -- I'd run their names if I could find them all.\r\n",
            "\n",
            "\n",
            "\n"
          ]
        },
        {
          "output_type": "stream",
          "name": "stderr",
          "text": [
            "\r[Succeeded / Failed / Skipped / Total] 2 / 39 / 0 / 41:  20%|██        | 41/200 [00:46<02:58,  1.13s/it]"
          ]
        },
        {
          "output_type": "stream",
          "name": "stdout",
          "text": [
            "--------------------------------------------- Result 41 ---------------------------------------------\n",
            "[[2 (100%)]] --> [[[FAILED]]]\n",
            "\n",
            "Walk north on Cadman, past some mansions built on the leafy hillside, and enter the woods.\r\n",
            "\n",
            "\n",
            "\n"
          ]
        },
        {
          "output_type": "stream",
          "name": "stderr",
          "text": [
            "[Succeeded / Failed / Skipped / Total] 2 / 40 / 0 / 42:  21%|██        | 42/200 [00:46<02:55,  1.11s/it]"
          ]
        },
        {
          "output_type": "stream",
          "name": "stdout",
          "text": [
            "--------------------------------------------- Result 42 ---------------------------------------------\n",
            "[[2 (100%)]] --> [[[FAILED]]]\n",
            "\n",
            "While it contained methylone, a chemical nearly identical to MDMA, it was a different drug altogether.\r\n",
            "\n",
            "\n",
            "\n"
          ]
        },
        {
          "output_type": "stream",
          "name": "stderr",
          "text": [
            "\r[Succeeded / Failed / Skipped / Total] 2 / 41 / 0 / 43:  22%|██▏       | 43/200 [00:46<02:51,  1.09s/it]"
          ]
        },
        {
          "output_type": "stream",
          "name": "stdout",
          "text": [
            "--------------------------------------------- Result 43 ---------------------------------------------\n",
            "[[2 (100%)]] --> [[[FAILED]]]\n",
            "\n",
            "We are running more and more trains all the time and that is what is causing the problem, the capacity on the track.\r\n",
            "\n",
            "\n",
            "\n"
          ]
        },
        {
          "output_type": "stream",
          "name": "stderr",
          "text": [
            "[Succeeded / Failed / Skipped / Total] 2 / 42 / 0 / 44:  22%|██▏       | 44/200 [00:47<02:48,  1.08s/it]"
          ]
        },
        {
          "output_type": "stream",
          "name": "stdout",
          "text": [
            "--------------------------------------------- Result 44 ---------------------------------------------\n",
            "[[2 (100%)]] --> [[[FAILED]]]\n",
            "\n",
            "With older artists, the law of diminishing returns often applies, and it's sad when our musical heroes overstay their welcome.\r\n",
            "\n",
            "\n",
            "\n"
          ]
        },
        {
          "output_type": "stream",
          "name": "stderr",
          "text": [
            "\r[Succeeded / Failed / Skipped / Total] 2 / 43 / 0 / 45:  22%|██▎       | 45/200 [00:48<02:46,  1.07s/it]"
          ]
        },
        {
          "output_type": "stream",
          "name": "stdout",
          "text": [
            "--------------------------------------------- Result 45 ---------------------------------------------\n",
            "[[2 (100%)]] --> [[[FAILED]]]\n",
            "\n",
            "We hope Malala can avoid being manipulated on China-related issues while striving for education equality and the global human rights cause.\r\n",
            "\n",
            "\n",
            "\n"
          ]
        },
        {
          "output_type": "stream",
          "name": "stderr",
          "text": [
            "[Succeeded / Failed / Skipped / Total] 2 / 44 / 0 / 46:  23%|██▎       | 46/200 [00:48<02:43,  1.06s/it]"
          ]
        },
        {
          "output_type": "stream",
          "name": "stdout",
          "text": [
            "--------------------------------------------- Result 46 ---------------------------------------------\n",
            "[[2 (100%)]] --> [[[FAILED]]]\n",
            "\n",
            "\"We don't receive any inspections from the Ministry of Manpower in these hills, as these quarries are part of the informal sector.\r\n",
            "\n",
            "\n",
            "\n"
          ]
        },
        {
          "output_type": "stream",
          "name": "stderr",
          "text": [
            "\r[Succeeded / Failed / Skipped / Total] 2 / 45 / 0 / 47:  24%|██▎       | 47/200 [00:49<02:40,  1.05s/it]"
          ]
        },
        {
          "output_type": "stream",
          "name": "stdout",
          "text": [
            "--------------------------------------------- Result 47 ---------------------------------------------\n",
            "[[2 (100%)]] --> [[[FAILED]]]\n",
            "\n",
            "Vince Cate visited the Sandy Ground site and reports that they are finding a great deal of Amerindian material.\r\n",
            "\n",
            "\n",
            "\n"
          ]
        },
        {
          "output_type": "stream",
          "name": "stderr",
          "text": [
            "[Succeeded / Failed / Skipped / Total] 2 / 46 / 0 / 48:  24%|██▍       | 48/200 [00:49<02:38,  1.04s/it]"
          ]
        },
        {
          "output_type": "stream",
          "name": "stdout",
          "text": [
            "--------------------------------------------- Result 48 ---------------------------------------------\n",
            "[[2 (100%)]] --> [[[FAILED]]]\n",
            "\n",
            "\"We got a goot chance to look at a lot of kids and most of them got a lot of playing time.\"\r\n",
            "\n",
            "\n",
            "\n"
          ]
        },
        {
          "output_type": "stream",
          "name": "stderr",
          "text": [
            "\r[Succeeded / Failed / Skipped / Total] 2 / 47 / 0 / 49:  24%|██▍       | 49/200 [00:51<02:37,  1.04s/it]"
          ]
        },
        {
          "output_type": "stream",
          "name": "stdout",
          "text": [
            "--------------------------------------------- Result 49 ---------------------------------------------\n",
            "[[2 (100%)]] --> [[[FAILED]]]\n",
            "\n",
            "Vancouver lawyer Kyla Lee and her firm, Acumen Law Corp., claimed at trial that a Google Plus review calling her the \"worstest lawyer\" led to a decline in client calls.\r\n",
            "\n",
            "\n",
            "\n"
          ]
        },
        {
          "output_type": "stream",
          "name": "stderr",
          "text": [
            "[Succeeded / Failed / Skipped / Total] 2 / 48 / 0 / 50:  25%|██▌       | 50/200 [00:52<02:36,  1.04s/it]"
          ]
        },
        {
          "output_type": "stream",
          "name": "stdout",
          "text": [
            "--------------------------------------------- Result 50 ---------------------------------------------\n",
            "[[2 (100%)]] --> [[[FAILED]]]\n",
            "\n",
            "While the kingdom has borrowed heavily on the Saudi money markets, it can easily float sovereign debt on the international debt market to ease its domestic credit crunch.\r\n",
            "\n",
            "\n",
            "\n"
          ]
        },
        {
          "output_type": "stream",
          "name": "stderr",
          "text": [
            "\r[Succeeded / Failed / Skipped / Total] 2 / 49 / 0 / 51:  26%|██▌       | 51/200 [00:52<02:33,  1.03s/it]"
          ]
        },
        {
          "output_type": "stream",
          "name": "stdout",
          "text": [
            "--------------------------------------------- Result 51 ---------------------------------------------\n",
            "[[2 (100%)]] --> [[[FAILED]]]\n",
            "\n",
            "Will people need to go to the electoral district to vote?\r\n",
            "\n",
            "\n",
            "\n"
          ]
        },
        {
          "output_type": "stream",
          "name": "stderr",
          "text": [
            "[Succeeded / Failed / Skipped / Total] 2 / 50 / 0 / 52:  26%|██▌       | 52/200 [00:53<02:31,  1.02s/it]"
          ]
        },
        {
          "output_type": "stream",
          "name": "stdout",
          "text": [
            "--------------------------------------------- Result 52 ---------------------------------------------\n",
            "[[2 (100%)]] --> [[[FAILED]]]\n",
            "\n",
            "\"We are extremely honored to win this award, as we feel it really highlights our efforts to make it easier for our EuroBonus members to access and redeem their points.\r\n",
            "\n",
            "\n",
            "\n"
          ]
        },
        {
          "output_type": "stream",
          "name": "stderr",
          "text": [
            "\r[Succeeded / Failed / Skipped / Total] 2 / 51 / 0 / 53:  26%|██▋       | 53/200 [00:53<02:28,  1.01s/it]"
          ]
        },
        {
          "output_type": "stream",
          "name": "stdout",
          "text": [
            "--------------------------------------------- Result 53 ---------------------------------------------\n",
            "[[2 (100%)]] --> [[[FAILED]]]\n",
            "\n",
            "When the next chance came his way he slotted coolly into the top right corner.\r\n",
            "\n",
            "\n",
            "\n"
          ]
        },
        {
          "output_type": "stream",
          "name": "stderr",
          "text": [
            "[Succeeded / Failed / Skipped / Total] 2 / 52 / 0 / 54:  27%|██▋       | 54/200 [00:54<02:28,  1.01s/it]"
          ]
        },
        {
          "output_type": "stream",
          "name": "stdout",
          "text": [
            "--------------------------------------------- Result 54 ---------------------------------------------\n",
            "[[2 (100%)]] --> [[[FAILED]]]\n",
            "\n",
            "You should be known to be producing from information gathered from either extension officers or records from the Grain Marketing Board and one should have an offer letter.\"\r\n",
            "\n",
            "\n",
            "\n"
          ]
        },
        {
          "output_type": "stream",
          "name": "stderr",
          "text": [
            "\r[Succeeded / Failed / Skipped / Total] 2 / 53 / 0 / 55:  28%|██▊       | 55/200 [00:55<02:25,  1.00s/it]"
          ]
        },
        {
          "output_type": "stream",
          "name": "stdout",
          "text": [
            "--------------------------------------------- Result 55 ---------------------------------------------\n",
            "[[2 (100%)]] --> [[[FAILED]]]\n",
            "\n",
            "You can go outside and go for a walk or a run without shivering the entire time.\r\n",
            "\n",
            "\n",
            "\n"
          ]
        },
        {
          "output_type": "stream",
          "name": "stderr",
          "text": [
            "[Succeeded / Failed / Skipped / Total] 2 / 54 / 0 / 56:  28%|██▊       | 56/200 [00:56<02:24,  1.00s/it]"
          ]
        },
        {
          "output_type": "stream",
          "name": "stdout",
          "text": [
            "--------------------------------------------- Result 56 ---------------------------------------------\n",
            "[[2 (100%)]] --> [[[FAILED]]]\n",
            "\n",
            "While living at the lodge in the early 1960s, Fox was hired by the former Burnet County Judge to help sell lots for a new subdivision on the lake at Granite Shoals (later renamed Lake LBJ).\r\n",
            "\n",
            "\n",
            "\n"
          ]
        },
        {
          "output_type": "stream",
          "name": "stderr",
          "text": [
            "\r[Succeeded / Failed / Skipped / Total] 2 / 55 / 0 / 57:  28%|██▊       | 57/200 [00:56<02:21,  1.01it/s]"
          ]
        },
        {
          "output_type": "stream",
          "name": "stdout",
          "text": [
            "--------------------------------------------- Result 57 ---------------------------------------------\n",
            "[[2 (100%)]] --> [[[FAILED]]]\n",
            "\n",
            "We also held three seminars and a special meeting of the board of directors to discuss the theme.\r\n",
            "\n",
            "\n",
            "\n"
          ]
        },
        {
          "output_type": "stream",
          "name": "stderr",
          "text": [
            "[Succeeded / Failed / Skipped / Total] 2 / 56 / 0 / 58:  29%|██▉       | 58/200 [00:56<02:19,  1.02it/s]"
          ]
        },
        {
          "output_type": "stream",
          "name": "stdout",
          "text": [
            "--------------------------------------------- Result 58 ---------------------------------------------\n",
            "[[2 (100%)]] --> [[[FAILED]]]\n",
            "\n",
            "\"We were by the water comparing our swimwear and laughing about how ill-fitting and unsupportive our contraptions were,\" the pair told news.\r\n",
            "\n",
            "\n",
            "\n"
          ]
        },
        {
          "output_type": "stream",
          "name": "stderr",
          "text": [
            "\r[Succeeded / Failed / Skipped / Total] 2 / 57 / 0 / 59:  30%|██▉       | 59/200 [00:57<02:17,  1.03it/s]"
          ]
        },
        {
          "output_type": "stream",
          "name": "stdout",
          "text": [
            "--------------------------------------------- Result 59 ---------------------------------------------\n",
            "[[2 (100%)]] --> [[[FAILED]]]\n",
            "\n",
            "Whether Asset Value Investors would hold onto their TBS shares after its demand was accepted \"depends on how the valuation goes.\"\r\n",
            "\n",
            "\n",
            "\n"
          ]
        },
        {
          "output_type": "stream",
          "name": "stderr",
          "text": [
            "[Succeeded / Failed / Skipped / Total] 2 / 58 / 0 / 60:  30%|███       | 60/200 [00:58<02:15,  1.03it/s]"
          ]
        },
        {
          "output_type": "stream",
          "name": "stdout",
          "text": [
            "--------------------------------------------- Result 60 ---------------------------------------------\n",
            "[[2 (100%)]] --> [[[FAILED]]]\n",
            "\n",
            "\"We have also met the panchayat minister to brief him about how the compound wall of the church of this sect is of a height above the permissible limit.\r\n",
            "\n",
            "\n",
            "\n"
          ]
        },
        {
          "output_type": "stream",
          "name": "stderr",
          "text": [
            "\r[Succeeded / Failed / Skipped / Total] 2 / 59 / 0 / 61:  30%|███       | 61/200 [00:58<02:14,  1.04it/s]"
          ]
        },
        {
          "output_type": "stream",
          "name": "stdout",
          "text": [
            "--------------------------------------------- Result 61 ---------------------------------------------\n",
            "[[2 (100%)]] --> [[[FAILED]]]\n",
            "\n",
            "Various congressional committees worked on drafting multiple versions of the bill that would become the Affordable Care Act -- a lengthy process that took over a year.\r\n",
            "\n",
            "\n",
            "\n"
          ]
        },
        {
          "output_type": "stream",
          "name": "stderr",
          "text": [
            "[Succeeded / Failed / Skipped / Total] 2 / 60 / 0 / 62:  31%|███       | 62/200 [00:59<02:12,  1.04it/s]"
          ]
        },
        {
          "output_type": "stream",
          "name": "stdout",
          "text": [
            "--------------------------------------------- Result 62 ---------------------------------------------\n",
            "[[2 (100%)]] --> [[[FAILED]]]\n",
            "\n",
            "Various religious backgrounds will be represented as people from all over the U.S. and Canada travel to John Brown University to attend the Paradosis Conference.\r\n",
            "\n",
            "\n",
            "\n"
          ]
        },
        {
          "output_type": "stream",
          "name": "stderr",
          "text": [
            "\r[Succeeded / Failed / Skipped / Total] 2 / 61 / 0 / 63:  32%|███▏      | 63/200 [01:00<02:10,  1.05it/s]"
          ]
        },
        {
          "output_type": "stream",
          "name": "stdout",
          "text": [
            "--------------------------------------------- Result 63 ---------------------------------------------\n",
            "[[2 (100%)]] --> [[[FAILED]]]\n",
            "\n",
            "\"Unions can be reactive, but if we could be proactive, then we would be happy to have discussions.\r\n",
            "\n",
            "\n",
            "\n"
          ]
        },
        {
          "output_type": "stream",
          "name": "stderr",
          "text": [
            "[Succeeded / Failed / Skipped / Total] 2 / 62 / 0 / 64:  32%|███▏      | 64/200 [01:00<02:08,  1.06it/s]"
          ]
        },
        {
          "output_type": "stream",
          "name": "stdout",
          "text": [
            "--------------------------------------------- Result 64 ---------------------------------------------\n",
            "[[2 (100%)]] --> [[[FAILED]]]\n",
            "\n",
            "Unfortunately people's true mandate was not reflected in the allocation of seats due to unrealistic and horrendous proportionate system.\r\n",
            "\n",
            "\n",
            "\n"
          ]
        },
        {
          "output_type": "stream",
          "name": "stderr",
          "text": [
            "\r[Succeeded / Failed / Skipped / Total] 2 / 63 / 0 / 65:  32%|███▎      | 65/200 [01:01<02:07,  1.06it/s]"
          ]
        },
        {
          "output_type": "stream",
          "name": "stdout",
          "text": [
            "--------------------------------------------- Result 65 ---------------------------------------------\n",
            "[[2 (100%)]] --> [[[FAILED]]]\n",
            "\n",
            "University Union hosted their annual Block Party in the Carrier Dome on Friday night, featuring DJ Orange Calderon, SZA and Gucci Mane.\r\n",
            "\n",
            "\n",
            "\n"
          ]
        },
        {
          "output_type": "stream",
          "name": "stderr",
          "text": [
            "[Succeeded / Failed / Skipped / Total] 2 / 64 / 0 / 66:  33%|███▎      | 66/200 [01:01<02:05,  1.06it/s]"
          ]
        },
        {
          "output_type": "stream",
          "name": "stdout",
          "text": [
            "--------------------------------------------- Result 66 ---------------------------------------------\n",
            "[[2 (100%)]] --> [[[FAILED]]]\n",
            "\n",
            "\"We've recently finished a fabulous office makeover, and we're having an open house to show it off,\" said agency director Ronda B. Goldfein.\r\n",
            "\n",
            "\n",
            "\n"
          ]
        },
        {
          "output_type": "stream",
          "name": "stderr",
          "text": [
            "\r[Succeeded / Failed / Skipped / Total] 2 / 65 / 0 / 67:  34%|███▎      | 67/200 [01:02<02:04,  1.07it/s]"
          ]
        },
        {
          "output_type": "stream",
          "name": "stdout",
          "text": [
            "--------------------------------------------- Result 67 ---------------------------------------------\n",
            "[[2 (100%)]] --> [[[FAILED]]]\n",
            "\n",
            "Youth mental health, suicide and bullying was thrust in to the national spotlight following the highly-publicised death of 14-year-old Amy 'Dolly' Everett in January.\r\n",
            "\n",
            "\n",
            "\n"
          ]
        },
        {
          "output_type": "stream",
          "name": "stderr",
          "text": [
            "[Succeeded / Failed / Skipped / Total] 2 / 66 / 0 / 68:  34%|███▍      | 68/200 [01:03<02:03,  1.07it/s]"
          ]
        },
        {
          "output_type": "stream",
          "name": "stdout",
          "text": [
            "--------------------------------------------- Result 68 ---------------------------------------------\n",
            "[[2 (100%)]] --> [[[FAILED]]]\n",
            "\n",
            "William and Kate Middleton's daughter was born at St. Mary's Hospital on May 2. Just 10 hours after giving birth, the Duchess of Cambridge left the hospital looking gorgeous in a floral white and yellow Jenny Packman dress.\r\n",
            "\n",
            "\n",
            "\n"
          ]
        },
        {
          "output_type": "stream",
          "name": "stderr",
          "text": [
            "\r[Succeeded / Failed / Skipped / Total] 2 / 67 / 0 / 69:  34%|███▍      | 69/200 [01:05<02:03,  1.06it/s]"
          ]
        },
        {
          "output_type": "stream",
          "name": "stdout",
          "text": [
            "--------------------------------------------- Result 69 ---------------------------------------------\n",
            "[[2 (100%)]] --> [[[FAILED]]]\n",
            "\n",
            "We will keep monitoring the situation and make sure that we will be able to maintain the drive for the growth so that we could assure our target of trimming off poverty at the rate of 1% per annum.\r\n",
            "\n",
            "\n",
            "\n"
          ]
        },
        {
          "output_type": "stream",
          "name": "stderr",
          "text": [
            "[Succeeded / Failed / Skipped / Total] 2 / 68 / 0 / 70:  35%|███▌      | 70/200 [01:05<02:02,  1.06it/s]"
          ]
        },
        {
          "output_type": "stream",
          "name": "stdout",
          "text": [
            "--------------------------------------------- Result 70 ---------------------------------------------\n",
            "[[2 (100%)]] --> [[[FAILED]]]\n",
            "\n",
            "\"You would be surprised how many people will drive in from an hour or two hours away to come in and spend an afternoon at Great Shots,\" North said.\r\n",
            "\n",
            "\n",
            "\n"
          ]
        },
        {
          "output_type": "stream",
          "name": "stderr",
          "text": [
            "\r[Succeeded / Failed / Skipped / Total] 2 / 69 / 0 / 71:  36%|███▌      | 71/200 [01:06<02:00,  1.07it/s]"
          ]
        },
        {
          "output_type": "stream",
          "name": "stdout",
          "text": [
            "--------------------------------------------- Result 71 ---------------------------------------------\n",
            "[[2 (100%)]] --> [[[FAILED]]]\n",
            "\n",
            "Usage of a time fuse also seems out of the question, since not only the murderers, but also Vazagashvili himself likely didn't know when he would arrive at his son's grave.\r\n",
            "\n",
            "\n",
            "\n"
          ]
        },
        {
          "output_type": "stream",
          "name": "stderr",
          "text": [
            "[Succeeded / Failed / Skipped / Total] 2 / 70 / 0 / 72:  36%|███▌      | 72/200 [01:06<01:59,  1.07it/s]"
          ]
        },
        {
          "output_type": "stream",
          "name": "stdout",
          "text": [
            "--------------------------------------------- Result 72 ---------------------------------------------\n",
            "[[2 (100%)]] --> [[[FAILED]]]\n",
            "\n",
            "\"You are not a little dictator to do whatever you want - and that's what we have right now in Houston, Texas,\" he said.\r\n",
            "\n",
            "\n",
            "\n"
          ]
        },
        {
          "output_type": "stream",
          "name": "stderr",
          "text": [
            "\r[Succeeded / Failed / Skipped / Total] 2 / 71 / 0 / 73:  36%|███▋      | 73/200 [01:07<01:57,  1.08it/s]"
          ]
        },
        {
          "output_type": "stream",
          "name": "stdout",
          "text": [
            "--------------------------------------------- Result 73 ---------------------------------------------\n",
            "[[2 (100%)]] --> [[[FAILED]]]\n",
            "\n",
            "Until the government receives confirmation of e-cigarette benefits, it would continue treating them as other tobacco products.\r\n",
            "\n",
            "\n",
            "\n"
          ]
        },
        {
          "output_type": "stream",
          "name": "stderr",
          "text": [
            "[Succeeded / Failed / Skipped / Total] 2 / 72 / 0 / 74:  37%|███▋      | 74/200 [01:08<01:56,  1.08it/s]"
          ]
        },
        {
          "output_type": "stream",
          "name": "stdout",
          "text": [
            "--------------------------------------------- Result 74 ---------------------------------------------\n",
            "[[2 (100%)]] --> [[[FAILED]]]\n",
            "\n",
            "\"We hope that it will initiate a more informed debate about what represents fair, proportionate pay for workers at all levels,\" he said.\r\n",
            "\n",
            "\n",
            "\n"
          ]
        },
        {
          "output_type": "stream",
          "name": "stderr",
          "text": [
            "\r[Succeeded / Failed / Skipped / Total] 2 / 73 / 0 / 75:  38%|███▊      | 75/200 [01:09<01:55,  1.09it/s]"
          ]
        },
        {
          "output_type": "stream",
          "name": "stdout",
          "text": [
            "--------------------------------------------- Result 75 ---------------------------------------------\n",
            "[[2 (100%)]] --> [[[FAILED]]]\n",
            "\n",
            "What we asked from RMB in our previous letter, was \"a guarantee from your bank that your capital not be used for the illegal oil exploration in the occupied country\".\r\n",
            "\n",
            "\n",
            "\n"
          ]
        },
        {
          "output_type": "stream",
          "name": "stderr",
          "text": [
            "[Succeeded / Failed / Skipped / Total] 3 / 73 / 0 / 76:  38%|███▊      | 76/200 [01:09<01:53,  1.10it/s]"
          ]
        },
        {
          "output_type": "stream",
          "name": "stdout",
          "text": [
            "--------------------------------------------- Result 76 ---------------------------------------------\n",
            "[[2 (100%)]] --> [[7 (38%)]]\n",
            "\n",
            "[[Visitors]] [[will]] also [[be]] treated to a top-notch, [[interactive]] trick rope [[show]].\r\n",
            "\n",
            "\n",
            "[[Voyage]] [[va]] also [[sunt]] treated to a top-notch, [[interacted]] trick rope [[reveal]].\r\n",
            "\n",
            "\n",
            "\n"
          ]
        },
        {
          "output_type": "stream",
          "name": "stderr",
          "text": [
            "\r[Succeeded / Failed / Skipped / Total] 3 / 74 / 0 / 77:  38%|███▊      | 77/200 [01:09<01:51,  1.10it/s]"
          ]
        },
        {
          "output_type": "stream",
          "name": "stdout",
          "text": [
            "--------------------------------------------- Result 77 ---------------------------------------------\n",
            "[[2 (100%)]] --> [[[FAILED]]]\n",
            "\n",
            "With the summer fast approaching, you're sure to be spending lots of time outdoors.\r\n",
            "\n",
            "\n",
            "\n"
          ]
        },
        {
          "output_type": "stream",
          "name": "stderr",
          "text": [
            "[Succeeded / Failed / Skipped / Total] 3 / 75 / 0 / 78:  39%|███▉      | 78/200 [01:10<01:50,  1.11it/s]"
          ]
        },
        {
          "output_type": "stream",
          "name": "stdout",
          "text": [
            "--------------------------------------------- Result 78 ---------------------------------------------\n",
            "[[2 (100%)]] --> [[[FAILED]]]\n",
            "\n",
            "While they are working to tackle crime, they won't guarantee that the money you invest will be 'safe' in every sense of the word.\r\n",
            "\n",
            "\n",
            "\n"
          ]
        },
        {
          "output_type": "stream",
          "name": "stderr",
          "text": [
            "\r[Succeeded / Failed / Skipped / Total] 3 / 76 / 0 / 79:  40%|███▉      | 79/200 [01:11<01:49,  1.11it/s]"
          ]
        },
        {
          "output_type": "stream",
          "name": "stdout",
          "text": [
            "--------------------------------------------- Result 79 ---------------------------------------------\n",
            "[[2 (100%)]] --> [[[FAILED]]]\n",
            "\n",
            "You wouldn't go to buy fighter jets because there is no possibility of creating a balance of power against \"Israel\" on that level, instead you would go buy air defense systems.\r\n",
            "\n",
            "\n",
            "\n"
          ]
        },
        {
          "output_type": "stream",
          "name": "stderr",
          "text": [
            "[Succeeded / Failed / Skipped / Total] 3 / 77 / 0 / 80:  40%|████      | 80/200 [01:12<01:48,  1.11it/s]"
          ]
        },
        {
          "output_type": "stream",
          "name": "stdout",
          "text": [
            "--------------------------------------------- Result 80 ---------------------------------------------\n",
            "[[2 (100%)]] --> [[[FAILED]]]\n",
            "\n",
            "When asked about funding concerns before the Senate vote on the Mission Act, key lawmakers who helped pass the bill claimed it wouldn't be a challenge.\r\n",
            "\n",
            "\n",
            "\n"
          ]
        },
        {
          "output_type": "stream",
          "name": "stderr",
          "text": [
            "\r[Succeeded / Failed / Skipped / Total] 3 / 78 / 0 / 81:  40%|████      | 81/200 [01:13<01:47,  1.11it/s]"
          ]
        },
        {
          "output_type": "stream",
          "name": "stdout",
          "text": [
            "--------------------------------------------- Result 81 ---------------------------------------------\n",
            "[[2 (100%)]] --> [[[FAILED]]]\n",
            "\n",
            "Victoria Vivians scored 22 points and second-ranked Mississippi State remained in position to add a Southeastern Conference Tournament title to its regular-season championship, beating No. 15 Texas A&M 70-55 on.\r\n",
            "\n",
            "\n",
            "\n"
          ]
        },
        {
          "output_type": "stream",
          "name": "stderr",
          "text": [
            "[Succeeded / Failed / Skipped / Total] 3 / 79 / 0 / 82:  41%|████      | 82/200 [01:13<01:45,  1.11it/s]"
          ]
        },
        {
          "output_type": "stream",
          "name": "stdout",
          "text": [
            "--------------------------------------------- Result 82 ---------------------------------------------\n",
            "[[2 (100%)]] --> [[[FAILED]]]\n",
            "\n",
            "We expected a tough beginning but still believed we could play in the finals, which we did.\r\n",
            "\n",
            "\n",
            "\n"
          ]
        },
        {
          "output_type": "stream",
          "name": "stderr",
          "text": [
            "\r[Succeeded / Failed / Skipped / Total] 3 / 80 / 0 / 83:  42%|████▏     | 83/200 [01:14<01:45,  1.11it/s]"
          ]
        },
        {
          "output_type": "stream",
          "name": "stdout",
          "text": [
            "--------------------------------------------- Result 83 ---------------------------------------------\n",
            "[[2 (100%)]] --> [[[FAILED]]]\n",
            "\n",
            "While today's sea level rise is only about 10% the rate about 13,000 years ago, it is expected to rise rapidly in the coming years, notes the report.\r\n",
            "\n",
            "\n",
            "\n"
          ]
        },
        {
          "output_type": "stream",
          "name": "stderr",
          "text": [
            "[Succeeded / Failed / Skipped / Total] 3 / 81 / 0 / 84:  42%|████▏     | 84/200 [01:15<01:44,  1.11it/s]"
          ]
        },
        {
          "output_type": "stream",
          "name": "stdout",
          "text": [
            "--------------------------------------------- Result 84 ---------------------------------------------\n",
            "[[2 (100%)]] --> [[[FAILED]]]\n",
            "\n",
            "With changes to GATE, many are wondering if they're going to get funding and with the recent scare of an old memo being leaked, fears were raised.\r\n",
            "\n",
            "\n",
            "\n"
          ]
        },
        {
          "output_type": "stream",
          "name": "stderr",
          "text": [
            "\r[Succeeded / Failed / Skipped / Total] 3 / 82 / 0 / 85:  42%|████▎     | 85/200 [01:15<01:42,  1.12it/s]"
          ]
        },
        {
          "output_type": "stream",
          "name": "stdout",
          "text": [
            "--------------------------------------------- Result 85 ---------------------------------------------\n",
            "[[2 (100%)]] --> [[[FAILED]]]\n",
            "\n",
            "When coming from Tanzania, lifts depart from Mtwara and Kilambo to the Rovuma river.\r\n",
            "\n",
            "\n",
            "\n"
          ]
        },
        {
          "output_type": "stream",
          "name": "stderr",
          "text": [
            "[Succeeded / Failed / Skipped / Total] 3 / 83 / 0 / 86:  43%|████▎     | 86/200 [01:16<01:40,  1.13it/s]"
          ]
        },
        {
          "output_type": "stream",
          "name": "stdout",
          "text": [
            "--------------------------------------------- Result 86 ---------------------------------------------\n",
            "[[2 (100%)]] --> [[[FAILED]]]\n",
            "\n",
            "\"We want to deliver your $2.5 million to you before your bank closes, so you can put it in a safe place.\r\n",
            "\n",
            "\n",
            "\n"
          ]
        },
        {
          "output_type": "stream",
          "name": "stderr",
          "text": [
            "\r[Succeeded / Failed / Skipped / Total] 3 / 84 / 0 / 87:  44%|████▎     | 87/200 [01:16<01:39,  1.14it/s]"
          ]
        },
        {
          "output_type": "stream",
          "name": "stdout",
          "text": [
            "--------------------------------------------- Result 87 ---------------------------------------------\n",
            "[[2 (100%)]] --> [[[FAILED]]]\n",
            "\n",
            "What is floated right now will come back, perhaps in a watered-down version, but the progressives will keep coming after you.\r\n",
            "\n",
            "\n",
            "\n"
          ]
        },
        {
          "output_type": "stream",
          "name": "stderr",
          "text": [
            "[Succeeded / Failed / Skipped / Total] 3 / 85 / 0 / 88:  44%|████▍     | 88/200 [01:17<01:38,  1.13it/s]"
          ]
        },
        {
          "output_type": "stream",
          "name": "stdout",
          "text": [
            "--------------------------------------------- Result 88 ---------------------------------------------\n",
            "[[2 (100%)]] --> [[[FAILED]]]\n",
            "\n",
            "What the suit calls the pharmaceutical's \"aggressive marketing,\" the sheriff and his attorney feel have contributed to the rise in opioid use, addiction and overdose.\r\n",
            "\n",
            "\n",
            "\n"
          ]
        },
        {
          "output_type": "stream",
          "name": "stderr",
          "text": [
            "\r[Succeeded / Failed / Skipped / Total] 3 / 86 / 0 / 89:  44%|████▍     | 89/200 [01:18<01:37,  1.14it/s]"
          ]
        },
        {
          "output_type": "stream",
          "name": "stdout",
          "text": [
            "--------------------------------------------- Result 89 ---------------------------------------------\n",
            "[[2 (100%)]] --> [[[FAILED]]]\n",
            "\n",
            "We share border with other countries and cannot afford to just point finger at whichever direction.\r\n",
            "\n",
            "\n",
            "\n"
          ]
        },
        {
          "output_type": "stream",
          "name": "stderr",
          "text": [
            "[Succeeded / Failed / Skipped / Total] 3 / 87 / 0 / 90:  45%|████▌     | 90/200 [01:19<01:37,  1.13it/s]"
          ]
        },
        {
          "output_type": "stream",
          "name": "stdout",
          "text": [
            "--------------------------------------------- Result 90 ---------------------------------------------\n",
            "[[2 (100%)]] --> [[[FAILED]]]\n",
            "\n",
            "\"We came out in the third period, we were ready to play, and we had some unlucky bounces.\r\n",
            "\n",
            "\n",
            "\n"
          ]
        },
        {
          "output_type": "stream",
          "name": "stderr",
          "text": [
            "\r[Succeeded / Failed / Skipped / Total] 3 / 88 / 0 / 91:  46%|████▌     | 91/200 [01:20<01:36,  1.13it/s]"
          ]
        },
        {
          "output_type": "stream",
          "name": "stdout",
          "text": [
            "--------------------------------------------- Result 91 ---------------------------------------------\n",
            "[[2 (100%)]] --> [[[FAILED]]]\n",
            "\n",
            "\"We're just good friends, and he's been incredibly loyal to me,\" Paxton in a 1998 interview.\r\n",
            "\n",
            "\n",
            "\n"
          ]
        },
        {
          "output_type": "stream",
          "name": "stderr",
          "text": [
            "[Succeeded / Failed / Skipped / Total] 3 / 89 / 0 / 92:  46%|████▌     | 92/200 [01:21<01:35,  1.13it/s]"
          ]
        },
        {
          "output_type": "stream",
          "name": "stdout",
          "text": [
            "--------------------------------------------- Result 92 ---------------------------------------------\n",
            "[[2 (100%)]] --> [[[FAILED]]]\n",
            "\n",
            "Where can you ask questions and talk about bullying, harassment and discrimination on campus?\r\n",
            "\n",
            "\n",
            "\n"
          ]
        },
        {
          "output_type": "stream",
          "name": "stderr",
          "text": [
            "\r[Succeeded / Failed / Skipped / Total] 3 / 90 / 0 / 93:  46%|████▋     | 93/200 [01:22<01:34,  1.13it/s]"
          ]
        },
        {
          "output_type": "stream",
          "name": "stdout",
          "text": [
            "--------------------------------------------- Result 93 ---------------------------------------------\n",
            "[[2 (100%)]] --> [[[FAILED]]]\n",
            "\n",
            "Wisdom's small plot, a few steps from his front step, is located right beside the main road in the community.\r\n",
            "\n",
            "\n",
            "\n"
          ]
        },
        {
          "output_type": "stream",
          "name": "stderr",
          "text": [
            "[Succeeded / Failed / Skipped / Total] 3 / 91 / 0 / 94:  47%|████▋     | 94/200 [01:23<01:34,  1.13it/s]"
          ]
        },
        {
          "output_type": "stream",
          "name": "stdout",
          "text": [
            "--------------------------------------------- Result 94 ---------------------------------------------\n",
            "[[2 (100%)]] --> [[[FAILED]]]\n",
            "\n",
            "Women invited her to their homes to deliver lectures on religious subjects.\r\n",
            "\n",
            "\n",
            "\n"
          ]
        },
        {
          "output_type": "stream",
          "name": "stderr",
          "text": [
            "\r[Succeeded / Failed / Skipped / Total] 3 / 92 / 0 / 95:  48%|████▊     | 95/200 [01:23<01:32,  1.13it/s]"
          ]
        },
        {
          "output_type": "stream",
          "name": "stdout",
          "text": [
            "--------------------------------------------- Result 95 ---------------------------------------------\n",
            "[[2 (100%)]] --> [[[FAILED]]]\n",
            "\n",
            "Whoever that was, I don't know any names or who that family was,\" Berube says.\r\n",
            "\n",
            "\n",
            "\n"
          ]
        },
        {
          "output_type": "stream",
          "name": "stderr",
          "text": [
            "[Succeeded / Failed / Skipped / Total] 4 / 92 / 0 / 96:  48%|████▊     | 96/200 [01:24<01:31,  1.13it/s]"
          ]
        },
        {
          "output_type": "stream",
          "name": "stdout",
          "text": [
            "--------------------------------------------- Result 96 ---------------------------------------------\n",
            "[[2 (99%)]] --> [[3 (51%)]]\n",
            "\n",
            "[[Wellness]] Medical [[Supplies]] [[offers]] medical [[equipment]] [[rental]] options for those in [[need]] of short-term [[assistance]].\r\n",
            "\n",
            "\n",
            "[[Wealth]] Medical [[Goods]] [[offering]] medical [[device]] [[hired]] options for those in [[requires]] of short-term [[aides]].\r\n",
            "\n",
            "\n",
            "\n"
          ]
        },
        {
          "output_type": "stream",
          "name": "stderr",
          "text": [
            "\r[Succeeded / Failed / Skipped / Total] 4 / 93 / 0 / 97:  48%|████▊     | 97/200 [01:25<01:30,  1.13it/s]"
          ]
        },
        {
          "output_type": "stream",
          "name": "stdout",
          "text": [
            "--------------------------------------------- Result 97 ---------------------------------------------\n",
            "[[2 (100%)]] --> [[[FAILED]]]\n",
            "\n",
            "\"We have a couple of our junior members that have came in just for certain particular roles that required a younger cast member for,\" said Smith.\r\n",
            "\n",
            "\n",
            "\n"
          ]
        },
        {
          "output_type": "stream",
          "name": "stderr",
          "text": [
            "[Succeeded / Failed / Skipped / Total] 4 / 94 / 0 / 98:  49%|████▉     | 98/200 [01:25<01:29,  1.14it/s]"
          ]
        },
        {
          "output_type": "stream",
          "name": "stdout",
          "text": [
            "--------------------------------------------- Result 98 ---------------------------------------------\n",
            "[[2 (100%)]] --> [[[FAILED]]]\n",
            "\n",
            "Your information will be saved and you can get the SIM card legally.\r\n",
            "\n",
            "\n",
            "\n"
          ]
        },
        {
          "output_type": "stream",
          "name": "stderr",
          "text": [
            "\r[Succeeded / Failed / Skipped / Total] 4 / 95 / 0 / 99:  50%|████▉     | 99/200 [01:26<01:28,  1.14it/s]"
          ]
        },
        {
          "output_type": "stream",
          "name": "stdout",
          "text": [
            "--------------------------------------------- Result 99 ---------------------------------------------\n",
            "[[2 (100%)]] --> [[[FAILED]]]\n",
            "\n",
            "Very close friends of the family would always come from Pittsburgh to visit and we would spend the day and evening together.\r\n",
            "\n",
            "\n",
            "\n"
          ]
        },
        {
          "output_type": "stream",
          "name": "stderr",
          "text": [
            "[Succeeded / Failed / Skipped / Total] 4 / 96 / 0 / 100:  50%|█████     | 100/200 [01:27<01:27,  1.15it/s]"
          ]
        },
        {
          "output_type": "stream",
          "name": "stdout",
          "text": [
            "--------------------------------------------- Result 100 ---------------------------------------------\n",
            "[[2 (100%)]] --> [[[FAILED]]]\n",
            "\n",
            "You know how in the most somber of situations something happens that makes you almost want to giggle?\r\n",
            "\n",
            "\n",
            "\n"
          ]
        },
        {
          "output_type": "stream",
          "name": "stderr",
          "text": [
            "\r[Succeeded / Failed / Skipped / Total] 4 / 97 / 0 / 101:  50%|█████     | 101/200 [01:28<01:26,  1.15it/s]"
          ]
        },
        {
          "output_type": "stream",
          "name": "stdout",
          "text": [
            "--------------------------------------------- Result 101 ---------------------------------------------\n",
            "[[2 (100%)]] --> [[[FAILED]]]\n",
            "\n",
            "\"We want to create new ways for students to get involved where they feel they contribute in the way we operate, or in ideas they can bring forward to us,\" said Hartung.\r\n",
            "\n",
            "\n",
            "\n"
          ]
        },
        {
          "output_type": "stream",
          "name": "stderr",
          "text": [
            "[Succeeded / Failed / Skipped / Total] 4 / 98 / 0 / 102:  51%|█████     | 102/200 [01:28<01:25,  1.15it/s]"
          ]
        },
        {
          "output_type": "stream",
          "name": "stdout",
          "text": [
            "--------------------------------------------- Result 102 ---------------------------------------------\n",
            "[[2 (100%)]] --> [[[FAILED]]]\n",
            "\n",
            "With his wife's diagnosis of ovarian cancer in the 2000s, the nursery became more difficult to keep up with.\r\n",
            "\n",
            "\n",
            "\n"
          ]
        },
        {
          "output_type": "stream",
          "name": "stderr",
          "text": [
            "\r[Succeeded / Failed / Skipped / Total] 4 / 99 / 0 / 103:  52%|█████▏    | 103/200 [01:28<01:23,  1.16it/s]"
          ]
        },
        {
          "output_type": "stream",
          "name": "stdout",
          "text": [
            "--------------------------------------------- Result 103 ---------------------------------------------\n",
            "[[2 (100%)]] --> [[[FAILED]]]\n",
            "\n",
            "Youths are comparable to bamboo shoots, as they will become the country's future leaders and officials.\r\n",
            "\n",
            "\n",
            "\n"
          ]
        },
        {
          "output_type": "stream",
          "name": "stderr",
          "text": [
            "[Succeeded / Failed / Skipped / Total] 4 / 100 / 0 / 104:  52%|█████▏    | 104/200 [01:29<01:22,  1.16it/s]"
          ]
        },
        {
          "output_type": "stream",
          "name": "stdout",
          "text": [
            "--------------------------------------------- Result 104 ---------------------------------------------\n",
            "[[2 (100%)]] --> [[[FAILED]]]\n",
            "\n",
            "We stand with communities across Colorado in calling on Governor Hickenlooper and the state legislature to reject any legislation that will undermine local control.\"\r\n",
            "\n",
            "\n",
            "\n"
          ]
        },
        {
          "output_type": "stream",
          "name": "stderr",
          "text": [
            "\r[Succeeded / Failed / Skipped / Total] 4 / 101 / 0 / 105:  52%|█████▎    | 105/200 [01:29<01:21,  1.17it/s]"
          ]
        },
        {
          "output_type": "stream",
          "name": "stdout",
          "text": [
            "--------------------------------------------- Result 105 ---------------------------------------------\n",
            "[[2 (100%)]] --> [[[FAILED]]]\n",
            "\n",
            "Were they considered likely to succeed or more of a long shot?\r\n",
            "\n",
            "\n",
            "\n"
          ]
        },
        {
          "output_type": "stream",
          "name": "stderr",
          "text": [
            "[Succeeded / Failed / Skipped / Total] 4 / 102 / 0 / 106:  53%|█████▎    | 106/200 [01:30<01:20,  1.17it/s]"
          ]
        },
        {
          "output_type": "stream",
          "name": "stdout",
          "text": [
            "--------------------------------------------- Result 106 ---------------------------------------------\n",
            "[[2 (100%)]] --> [[[FAILED]]]\n",
            "\n",
            "Wahlberg was also part of a number of concentrated efforts to revitalize downtown Bay Shore over the years.\r\n",
            "\n",
            "\n",
            "\n"
          ]
        },
        {
          "output_type": "stream",
          "name": "stderr",
          "text": [
            "\r[Succeeded / Failed / Skipped / Total] 4 / 103 / 0 / 107:  54%|█████▎    | 107/200 [01:30<01:18,  1.18it/s]"
          ]
        },
        {
          "output_type": "stream",
          "name": "stdout",
          "text": [
            "--------------------------------------------- Result 107 ---------------------------------------------\n",
            "[[2 (100%)]] --> [[[FAILED]]]\n",
            "\n",
            "\"You get a cycle where one thing leads to the other.\"\r\n",
            "\n",
            "\n",
            "\n"
          ]
        },
        {
          "output_type": "stream",
          "name": "stderr",
          "text": [
            "[Succeeded / Failed / Skipped / Total] 4 / 104 / 0 / 108:  54%|█████▍    | 108/200 [01:31<01:17,  1.18it/s]"
          ]
        },
        {
          "output_type": "stream",
          "name": "stdout",
          "text": [
            "--------------------------------------------- Result 108 ---------------------------------------------\n",
            "[[2 (100%)]] --> [[[FAILED]]]\n",
            "\n",
            "Yesterday, protestors were met with a small scale counter-protest led by Georgian March, a far-right, ultra-nationalist, neo-nazi group that has a history of staging counter demonstrations and threatening violence.\r\n",
            "\n",
            "\n",
            "\n"
          ]
        },
        {
          "output_type": "stream",
          "name": "stderr",
          "text": [
            "\r[Succeeded / Failed / Skipped / Total] 4 / 105 / 0 / 109:  55%|█████▍    | 109/200 [01:31<01:16,  1.19it/s]"
          ]
        },
        {
          "output_type": "stream",
          "name": "stdout",
          "text": [
            "--------------------------------------------- Result 109 ---------------------------------------------\n",
            "[[2 (100%)]] --> [[[FAILED]]]\n",
            "\n",
            "What the servant owed the master is expressed as a myriad of talents.\r\n",
            "\n",
            "\n",
            "\n"
          ]
        },
        {
          "output_type": "stream",
          "name": "stderr",
          "text": [
            "[Succeeded / Failed / Skipped / Total] 4 / 106 / 0 / 110:  55%|█████▌    | 110/200 [01:32<01:15,  1.19it/s]"
          ]
        },
        {
          "output_type": "stream",
          "name": "stdout",
          "text": [
            "--------------------------------------------- Result 110 ---------------------------------------------\n",
            "[[2 (100%)]] --> [[[FAILED]]]\n",
            "\n",
            "\"We made an effort to promote relations between Iran and Brazil in public and private sectors and we are capable of having useful bilateral relations,\" he concluded.\r\n",
            "\n",
            "\n",
            "\n"
          ]
        },
        {
          "output_type": "stream",
          "name": "stderr",
          "text": [
            "[Succeeded / Failed / Skipped / Total] 4 / 108 / 0 / 112:  56%|█████▌    | 112/200 [01:33<01:13,  1.20it/s]"
          ]
        },
        {
          "output_type": "stream",
          "name": "stdout",
          "text": [
            "--------------------------------------------- Result 111 ---------------------------------------------\n",
            "[[2 (100%)]] --> [[[FAILED]]]\n",
            "\n",
            "\"We made changes in terms of the shape and dynamic of the team at half-time and I thought the boys were brilliant in the second half.\r\n",
            "\n",
            "\n",
            "\n",
            "--------------------------------------------- Result 112 ---------------------------------------------\n",
            "[[2 (100%)]] --> [[[FAILED]]]\n",
            "\n",
            "Your the only Santa and that makes you special to me!\r\n",
            "\n",
            "\n",
            "\n"
          ]
        },
        {
          "output_type": "stream",
          "name": "stderr",
          "text": [
            "\r[Succeeded / Failed / Skipped / Total] 4 / 109 / 0 / 113:  56%|█████▋    | 113/200 [01:34<01:12,  1.20it/s]"
          ]
        },
        {
          "output_type": "stream",
          "name": "stdout",
          "text": [
            "--------------------------------------------- Result 113 ---------------------------------------------\n",
            "[[2 (100%)]] --> [[[FAILED]]]\n",
            "\n",
            "Welcoming the probe, he said the truth would finally come out now and Khaunte would ultimately be exposed.\r\n",
            "\n",
            "\n",
            "\n"
          ]
        },
        {
          "output_type": "stream",
          "name": "stderr",
          "text": [
            "[Succeeded / Failed / Skipped / Total] 4 / 111 / 0 / 115:  57%|█████▊    | 115/200 [01:34<01:09,  1.22it/s]"
          ]
        },
        {
          "output_type": "stream",
          "name": "stdout",
          "text": [
            "--------------------------------------------- Result 114 ---------------------------------------------\n",
            "[[2 (100%)]] --> [[[FAILED]]]\n",
            "\n",
            "\"When that's all they're living in then that's how they perceive the world to be,\" she said of the children in her care.\r\n",
            "\n",
            "\n",
            "\n",
            "--------------------------------------------- Result 115 ---------------------------------------------\n",
            "[[2 (98%)]] --> [[[FAILED]]]\n",
            "\n",
            "Youth unemployment in Australia is currently sitting at 13.3 per cent.\r\n",
            "\n",
            "\n",
            "\n"
          ]
        },
        {
          "output_type": "stream",
          "name": "stderr",
          "text": [
            "[Succeeded / Failed / Skipped / Total] 4 / 112 / 0 / 116:  58%|█████▊    | 116/200 [01:34<01:08,  1.22it/s]"
          ]
        },
        {
          "output_type": "stream",
          "name": "stdout",
          "text": [
            "--------------------------------------------- Result 116 ---------------------------------------------\n",
            "[[2 (100%)]] --> [[[FAILED]]]\n",
            "\n",
            "Winners accumulate points for the next edition, where the winners of the 2017 circuit are defined.\r\n",
            "\n",
            "\n",
            "\n"
          ]
        },
        {
          "output_type": "stream",
          "name": "stderr",
          "text": [
            "\r[Succeeded / Failed / Skipped / Total] 4 / 113 / 0 / 117:  58%|█████▊    | 117/200 [01:35<01:07,  1.23it/s]"
          ]
        },
        {
          "output_type": "stream",
          "name": "stdout",
          "text": [
            "--------------------------------------------- Result 117 ---------------------------------------------\n",
            "[[2 (99%)]] --> [[[FAILED]]]\n",
            "\n",
            "Wednesday, August 16, 2017Excitedly families stood in anticipation as the food packages were distributed.\r\n",
            "\n",
            "\n",
            "\n"
          ]
        },
        {
          "output_type": "stream",
          "name": "stderr",
          "text": [
            "[Succeeded / Failed / Skipped / Total] 5 / 114 / 0 / 119:  60%|█████▉    | 119/200 [01:36<01:05,  1.23it/s]"
          ]
        },
        {
          "output_type": "stream",
          "name": "stdout",
          "text": [
            "--------------------------------------------- Result 118 ---------------------------------------------\n",
            "[[2 (100%)]] --> [[[FAILED]]]\n",
            "\n",
            "Under Carpenter's plan, the Freda Markley Center and Ervin (expected to be renamed the Ervin Early Learning Center) will house pre-school and kindergarten students.\r\n",
            "\n",
            "\n",
            "\n",
            "--------------------------------------------- Result 119 ---------------------------------------------\n",
            "[[2 (100%)]] --> [[8 (65%)]]\n",
            "\n",
            "[[You]] are [[doing]] a sport that any able-bodied [[person]] can [[do]].\r\n",
            "\n",
            "\n",
            "[[Thyself]] are [[ai]] a sport that any able-bodied [[nobody]] can [[ca]].\r\n",
            "\n",
            "\n",
            "\n"
          ]
        },
        {
          "output_type": "stream",
          "name": "stderr",
          "text": [
            "[Succeeded / Failed / Skipped / Total] 5 / 115 / 0 / 120:  60%|██████    | 120/200 [01:37<01:04,  1.24it/s]"
          ]
        },
        {
          "output_type": "stream",
          "name": "stdout",
          "text": [
            "--------------------------------------------- Result 120 ---------------------------------------------\n",
            "[[2 (100%)]] --> [[[FAILED]]]\n",
            "\n",
            "We are also going to build a 200ft pier into the sea and that will be a 200 ft by 30 ft pier and that will allow for interaction with the water.\r\n",
            "\n",
            "\n",
            "\n"
          ]
        },
        {
          "output_type": "stream",
          "name": "stderr",
          "text": [
            "\r[Succeeded / Failed / Skipped / Total] 5 / 116 / 0 / 121:  60%|██████    | 121/200 [01:37<01:03,  1.24it/s]"
          ]
        },
        {
          "output_type": "stream",
          "name": "stdout",
          "text": [
            "--------------------------------------------- Result 121 ---------------------------------------------\n",
            "[[2 (100%)]] --> [[[FAILED]]]\n",
            "\n",
            "We are delighted that Ballinamore have come on board this year.\r\n",
            "\n",
            "\n",
            "\n"
          ]
        },
        {
          "output_type": "stream",
          "name": "stderr",
          "text": [
            "[Succeeded / Failed / Skipped / Total] 5 / 117 / 0 / 122:  61%|██████    | 122/200 [01:37<01:02,  1.25it/s]"
          ]
        },
        {
          "output_type": "stream",
          "name": "stdout",
          "text": [
            "--------------------------------------------- Result 122 ---------------------------------------------\n",
            "[[2 (100%)]] --> [[[FAILED]]]\n",
            "\n",
            "We say it with all conceit and arrogance: the midan is ours.\r\n",
            "\n",
            "\n",
            "\n"
          ]
        },
        {
          "output_type": "stream",
          "name": "stderr",
          "text": [
            "\r[Succeeded / Failed / Skipped / Total] 5 / 118 / 0 / 123:  62%|██████▏   | 123/200 [01:38<01:01,  1.25it/s]"
          ]
        },
        {
          "output_type": "stream",
          "name": "stdout",
          "text": [
            "--------------------------------------------- Result 123 ---------------------------------------------\n",
            "[[2 (100%)]] --> [[[FAILED]]]\n",
            "\n",
            "We are very proud of the work and effort our students put into their program,\" Sanchez said.\r\n",
            "\n",
            "\n",
            "\n"
          ]
        },
        {
          "output_type": "stream",
          "name": "stderr",
          "text": [
            "[Succeeded / Failed / Skipped / Total] 5 / 119 / 0 / 124:  62%|██████▏   | 124/200 [01:38<01:00,  1.26it/s]"
          ]
        },
        {
          "output_type": "stream",
          "name": "stdout",
          "text": [
            "--------------------------------------------- Result 124 ---------------------------------------------\n",
            "[[2 (100%)]] --> [[[FAILED]]]\n",
            "\n",
            "When it was being proposed the city change its bylaws to allow food trucks to serve their wares by the roadside in...\r\n",
            "\n",
            "\n",
            "\n"
          ]
        },
        {
          "output_type": "stream",
          "name": "stderr",
          "text": [
            "\r[Succeeded / Failed / Skipped / Total] 6 / 119 / 0 / 125:  62%|██████▎   | 125/200 [01:38<00:59,  1.26it/s]"
          ]
        },
        {
          "output_type": "stream",
          "name": "stdout",
          "text": [
            "--------------------------------------------- Result 125 ---------------------------------------------\n",
            "[[2 (100%)]] --> [[1 (71%)]]\n",
            "\n",
            "[[When]] the census finally [[took]] [[place]] in 1998, it [[did]] [[have]] soldiers accompanying enumerators.\r\n",
            "\n",
            "\n",
            "[[Once]] the census finally [[fired]] [[places]] in 1998, it [[am]] [[am]] soldiers accompanying enumerators.\r\n",
            "\n",
            "\n",
            "\n"
          ]
        },
        {
          "output_type": "stream",
          "name": "stderr",
          "text": [
            "[Succeeded / Failed / Skipped / Total] 6 / 120 / 0 / 126:  63%|██████▎   | 126/200 [01:39<00:58,  1.26it/s]"
          ]
        },
        {
          "output_type": "stream",
          "name": "stdout",
          "text": [
            "--------------------------------------------- Result 126 ---------------------------------------------\n",
            "[[2 (100%)]] --> [[[FAILED]]]\n",
            "\n",
            "We have always worked to be a positive force on campus, collaborating with other student organizations and supporting their efforts in a spirit of sincere respect and cooperation.\r\n",
            "\n",
            "\n",
            "\n"
          ]
        },
        {
          "output_type": "stream",
          "name": "stderr",
          "text": [
            "\r[Succeeded / Failed / Skipped / Total] 6 / 121 / 0 / 127:  64%|██████▎   | 127/200 [01:40<00:57,  1.27it/s]"
          ]
        },
        {
          "output_type": "stream",
          "name": "stdout",
          "text": [
            "--------------------------------------------- Result 127 ---------------------------------------------\n",
            "[[2 (98%)]] --> [[[FAILED]]]\n",
            "\n",
            "Without regulation, these vaping cartridges could contain just as many carcinogens as cigarettes, or possibly even more.\r\n",
            "\n",
            "\n",
            "\n"
          ]
        },
        {
          "output_type": "stream",
          "name": "stderr",
          "text": [
            "[Succeeded / Failed / Skipped / Total] 6 / 122 / 0 / 128:  64%|██████▍   | 128/200 [01:41<00:56,  1.26it/s]"
          ]
        },
        {
          "output_type": "stream",
          "name": "stdout",
          "text": [
            "--------------------------------------------- Result 128 ---------------------------------------------\n",
            "[[2 (100%)]] --> [[[FAILED]]]\n",
            "\n",
            "\"We did not have a good option for the individual in their 80s or who had other high risk features that made open heart surgery dangerous for them.\r\n",
            "\n",
            "\n",
            "\n"
          ]
        },
        {
          "output_type": "stream",
          "name": "stderr",
          "text": [
            "\r[Succeeded / Failed / Skipped / Total] 6 / 123 / 0 / 129:  64%|██████▍   | 129/200 [01:41<00:55,  1.27it/s]"
          ]
        },
        {
          "output_type": "stream",
          "name": "stdout",
          "text": [
            "--------------------------------------------- Result 129 ---------------------------------------------\n",
            "[[2 (100%)]] --> [[[FAILED]]]\n",
            "\n",
            "We don't even really know for sure how much he did pay.\r\n",
            "\n",
            "\n",
            "\n"
          ]
        },
        {
          "output_type": "stream",
          "name": "stderr",
          "text": [
            "[Succeeded / Failed / Skipped / Total] 6 / 124 / 0 / 130:  65%|██████▌   | 130/200 [01:42<00:54,  1.27it/s]"
          ]
        },
        {
          "output_type": "stream",
          "name": "stdout",
          "text": [
            "--------------------------------------------- Result 130 ---------------------------------------------\n",
            "[[2 (100%)]] --> [[[FAILED]]]\n",
            "\n",
            "\"Why put extra fertilizer onto parts of the fields that don't need it?\"\r\n",
            "\n",
            "\n",
            "\n"
          ]
        },
        {
          "output_type": "stream",
          "name": "stderr",
          "text": [
            "\r[Succeeded / Failed / Skipped / Total] 7 / 124 / 0 / 131:  66%|██████▌   | 131/200 [01:42<00:53,  1.28it/s]"
          ]
        },
        {
          "output_type": "stream",
          "name": "stdout",
          "text": [
            "--------------------------------------------- Result 131 ---------------------------------------------\n",
            "[[2 (100%)]] --> [[7 (50%)]]\n",
            "\n",
            "[[Winners]] of the [[following]] [[Knox]] [[County]] [[Council]] [[Parent]] [[Teacher]] [[Association]] [[Awards]] are:.\r\n",
            "\n",
            "\n",
            "[[Earning]] of the [[consecutive]] [[Montgomery]] [[Commune]] [[Administrations]] [[Mam]] [[Profesor]] [[Alliances]] [[Accolades]] are:.\r\n",
            "\n",
            "\n",
            "\n"
          ]
        },
        {
          "output_type": "stream",
          "name": "stderr",
          "text": [
            "[Succeeded / Failed / Skipped / Total] 7 / 125 / 0 / 132:  66%|██████▌   | 132/200 [01:42<00:53,  1.28it/s]"
          ]
        },
        {
          "output_type": "stream",
          "name": "stdout",
          "text": [
            "--------------------------------------------- Result 132 ---------------------------------------------\n",
            "[[2 (100%)]] --> [[[FAILED]]]\n",
            "\n",
            "Why feel a constant need to retaliate rather than listen in earnest?\r\n",
            "\n",
            "\n",
            "\n"
          ]
        },
        {
          "output_type": "stream",
          "name": "stderr",
          "text": [
            "\r[Succeeded / Failed / Skipped / Total] 7 / 126 / 0 / 133:  66%|██████▋   | 133/200 [01:43<00:52,  1.29it/s]"
          ]
        },
        {
          "output_type": "stream",
          "name": "stdout",
          "text": [
            "--------------------------------------------- Result 133 ---------------------------------------------\n",
            "[[2 (100%)]] --> [[[FAILED]]]\n",
            "\n",
            "With the demand for Cuba extremely high at present, there are other alternatives to consider, writes Simon Calder.\r\n",
            "\n",
            "\n",
            "\n"
          ]
        },
        {
          "output_type": "stream",
          "name": "stderr",
          "text": [
            "[Succeeded / Failed / Skipped / Total] 7 / 127 / 0 / 134:  67%|██████▋   | 134/200 [01:44<00:51,  1.28it/s]"
          ]
        },
        {
          "output_type": "stream",
          "name": "stdout",
          "text": [
            "--------------------------------------------- Result 134 ---------------------------------------------\n",
            "[[2 (100%)]] --> [[[FAILED]]]\n",
            "\n",
            "When she makes pasta for dinner, she stores the leftovers in Tupperware and wraps the containers in grocery bags in the refrigerator to hide them from John David because \"it's almost like he doesn't know when to stop eating or drinking.\"\r\n",
            "\n",
            "\n",
            "\n"
          ]
        },
        {
          "output_type": "stream",
          "name": "stderr",
          "text": [
            "\r[Succeeded / Failed / Skipped / Total] 7 / 128 / 0 / 135:  68%|██████▊   | 135/200 [01:45<00:50,  1.28it/s]"
          ]
        },
        {
          "output_type": "stream",
          "name": "stdout",
          "text": [
            "--------------------------------------------- Result 135 ---------------------------------------------\n",
            "[[2 (100%)]] --> [[[FAILED]]]\n",
            "\n",
            "Works on the 1,000 metre scheme at Kilgortnaleague are due to be completed on Friday, October 21st.\r\n",
            "\n",
            "\n",
            "\n"
          ]
        },
        {
          "output_type": "stream",
          "name": "stderr",
          "text": [
            "[Succeeded / Failed / Skipped / Total] 7 / 129 / 0 / 136:  68%|██████▊   | 136/200 [01:45<00:49,  1.29it/s]"
          ]
        },
        {
          "output_type": "stream",
          "name": "stdout",
          "text": [
            "--------------------------------------------- Result 136 ---------------------------------------------\n",
            "[[2 (100%)]] --> [[[FAILED]]]\n",
            "\n",
            "\"While we respect the fiscal challenges facing the government and the nation, we believe that cutting ARENA's budget would be short-sighted,\" the letter reads.\r\n",
            "\n",
            "\n",
            "\n"
          ]
        },
        {
          "output_type": "stream",
          "name": "stderr",
          "text": [
            "\r[Succeeded / Failed / Skipped / Total] 7 / 130 / 0 / 137:  68%|██████▊   | 137/200 [01:46<00:48,  1.29it/s]"
          ]
        },
        {
          "output_type": "stream",
          "name": "stdout",
          "text": [
            "--------------------------------------------- Result 137 ---------------------------------------------\n",
            "[[2 (100%)]] --> [[[FAILED]]]\n",
            "\n",
            "We put in a bagging system last year so we can bag whole corn, cracked corn and sunflower seed.\"\r\n",
            "\n",
            "\n",
            "\n"
          ]
        },
        {
          "output_type": "stream",
          "name": "stderr",
          "text": [
            "[Succeeded / Failed / Skipped / Total] 7 / 131 / 0 / 138:  69%|██████▉   | 138/200 [01:47<00:48,  1.29it/s]"
          ]
        },
        {
          "output_type": "stream",
          "name": "stdout",
          "text": [
            "--------------------------------------------- Result 138 ---------------------------------------------\n",
            "[[2 (100%)]] --> [[[FAILED]]]\n",
            "\n",
            "With respect to the recent revolution in Georgia, the popular movement there had \"very strong diplomatic support from the west\" which was bolstered by little resistance from the political elite.\r\n",
            "\n",
            "\n",
            "\n"
          ]
        },
        {
          "output_type": "stream",
          "name": "stderr",
          "text": [
            "\r[Succeeded / Failed / Skipped / Total] 7 / 132 / 0 / 139:  70%|██████▉   | 139/200 [01:47<00:47,  1.29it/s]"
          ]
        },
        {
          "output_type": "stream",
          "name": "stdout",
          "text": [
            "--------------------------------------------- Result 139 ---------------------------------------------\n",
            "[[2 (100%)]] --> [[[FAILED]]]\n",
            "\n",
            "When asked the secret to a long life, Irma Koch said simply, \"Don't smoke, and have a happy,.\r\n",
            "\n",
            "\n",
            "\n"
          ]
        },
        {
          "output_type": "stream",
          "name": "stderr",
          "text": [
            "[Succeeded / Failed / Skipped / Total] 7 / 133 / 0 / 140:  70%|███████   | 140/200 [01:48<00:46,  1.29it/s]"
          ]
        },
        {
          "output_type": "stream",
          "name": "stdout",
          "text": [
            "--------------------------------------------- Result 140 ---------------------------------------------\n",
            "[[2 (100%)]] --> [[[FAILED]]]\n",
            "\n",
            "\"We could have been a bit more comfortable but we came here and got three good points.\r\n",
            "\n",
            "\n",
            "\n"
          ]
        },
        {
          "output_type": "stream",
          "name": "stderr",
          "text": [
            "\r[Succeeded / Failed / Skipped / Total] 7 / 134 / 0 / 141:  70%|███████   | 141/200 [01:49<00:45,  1.29it/s]"
          ]
        },
        {
          "output_type": "stream",
          "name": "stdout",
          "text": [
            "--------------------------------------------- Result 141 ---------------------------------------------\n",
            "[[2 (100%)]] --> [[[FAILED]]]\n",
            "\n",
            "When asked about the plans of Global expansion, The Producer Director, Mr. Vikas Puri said\" We have already been doing our wedding shoots globally.\r\n",
            "\n",
            "\n",
            "\n"
          ]
        },
        {
          "output_type": "stream",
          "name": "stderr",
          "text": [
            "[Succeeded / Failed / Skipped / Total] 7 / 135 / 0 / 142:  71%|███████   | 142/200 [01:49<00:44,  1.30it/s]"
          ]
        },
        {
          "output_type": "stream",
          "name": "stdout",
          "text": [
            "--------------------------------------------- Result 142 ---------------------------------------------\n",
            "[[2 (100%)]] --> [[[FAILED]]]\n",
            "\n",
            "While land is undervalued, the claimed social benefits of large monocultures are typically over-stated.\r\n",
            "\n",
            "\n",
            "\n"
          ]
        },
        {
          "output_type": "stream",
          "name": "stderr",
          "text": [
            "\r[Succeeded / Failed / Skipped / Total] 7 / 136 / 0 / 143:  72%|███████▏  | 143/200 [01:50<00:44,  1.29it/s]"
          ]
        },
        {
          "output_type": "stream",
          "name": "stdout",
          "text": [
            "--------------------------------------------- Result 143 ---------------------------------------------\n",
            "[[2 (100%)]] --> [[[FAILED]]]\n",
            "\n",
            "WASHINGTON -- During an April 11 homily in Washington, Salvadoran Archbishop Jose Luis Escobar Alas said the canonization of Blessed Oscar Romero will \"probably\" be in Rome and \"probably\" take place at end of October after a meeting of bishops.\r\n",
            "\n",
            "\n",
            "\n"
          ]
        },
        {
          "output_type": "stream",
          "name": "stderr",
          "text": [
            "[Succeeded / Failed / Skipped / Total] 7 / 137 / 0 / 144:  72%|███████▏  | 144/200 [01:51<00:43,  1.29it/s]"
          ]
        },
        {
          "output_type": "stream",
          "name": "stdout",
          "text": [
            "--------------------------------------------- Result 144 ---------------------------------------------\n",
            "[[2 (100%)]] --> [[[FAILED]]]\n",
            "\n",
            "\"Where we lost our numbers, were in the so-called good weather months, which weren't such good weather this year,\" he said.\r\n",
            "\n",
            "\n",
            "\n"
          ]
        },
        {
          "output_type": "stream",
          "name": "stderr",
          "text": [
            "\r[Succeeded / Failed / Skipped / Total] 7 / 138 / 0 / 145:  72%|███████▎  | 145/200 [01:52<00:42,  1.29it/s]"
          ]
        },
        {
          "output_type": "stream",
          "name": "stdout",
          "text": [
            "--------------------------------------------- Result 145 ---------------------------------------------\n",
            "[[2 (100%)]] --> [[[FAILED]]]\n",
            "\n",
            "\"When tragedy happens like that, people tend to rally,\" she said, adding that August, the month after the fire, was the best month ever for business at Bothell Chiropractic and Wellness.\r\n",
            "\n",
            "\n",
            "\n"
          ]
        },
        {
          "output_type": "stream",
          "name": "stderr",
          "text": [
            "[Succeeded / Failed / Skipped / Total] 7 / 139 / 0 / 146:  73%|███████▎  | 146/200 [01:52<00:41,  1.30it/s]"
          ]
        },
        {
          "output_type": "stream",
          "name": "stdout",
          "text": [
            "--------------------------------------------- Result 146 ---------------------------------------------\n",
            "[[2 (100%)]] --> [[[FAILED]]]\n",
            "\n",
            "We were all looking for and expecting the snipers to be White men.\r\n",
            "\n",
            "\n",
            "\n"
          ]
        },
        {
          "output_type": "stream",
          "name": "stderr",
          "text": [
            "\r[Succeeded / Failed / Skipped / Total] 7 / 140 / 0 / 147:  74%|███████▎  | 147/200 [01:52<00:40,  1.30it/s]"
          ]
        },
        {
          "output_type": "stream",
          "name": "stdout",
          "text": [
            "--------------------------------------------- Result 147 ---------------------------------------------\n",
            "[[2 (100%)]] --> [[[FAILED]]]\n",
            "\n",
            "Your $50 tax credit isn't going to get you far in this election.\r\n",
            "\n",
            "\n",
            "\n"
          ]
        },
        {
          "output_type": "stream",
          "name": "stderr",
          "text": [
            "[Succeeded / Failed / Skipped / Total] 7 / 141 / 0 / 148:  74%|███████▍  | 148/200 [01:53<00:39,  1.31it/s]"
          ]
        },
        {
          "output_type": "stream",
          "name": "stdout",
          "text": [
            "--------------------------------------------- Result 148 ---------------------------------------------\n",
            "[[2 (100%)]] --> [[[FAILED]]]\n",
            "\n",
            "When you get to a point where you realise I'm not living for you.\r\n",
            "\n",
            "\n",
            "\n"
          ]
        },
        {
          "output_type": "stream",
          "name": "stderr",
          "text": [
            "\r[Succeeded / Failed / Skipped / Total] 7 / 142 / 0 / 149:  74%|███████▍  | 149/200 [01:54<00:39,  1.31it/s]"
          ]
        },
        {
          "output_type": "stream",
          "name": "stdout",
          "text": [
            "--------------------------------------------- Result 149 ---------------------------------------------\n",
            "[[2 (100%)]] --> [[[FAILED]]]\n",
            "\n",
            "When it comes to the three business promotion organisations, that is MDC, METCO and IPSE, the survey has highlighted quite significant differences in perceptions.\r\n",
            "\n",
            "\n",
            "\n"
          ]
        },
        {
          "output_type": "stream",
          "name": "stderr",
          "text": [
            "[Succeeded / Failed / Skipped / Total] 7 / 143 / 0 / 150:  75%|███████▌  | 150/200 [01:54<00:38,  1.31it/s]"
          ]
        },
        {
          "output_type": "stream",
          "name": "stdout",
          "text": [
            "--------------------------------------------- Result 150 ---------------------------------------------\n",
            "[[2 (100%)]] --> [[[FAILED]]]\n",
            "\n",
            "What makes it really special is it was David's first and last car.\r\n",
            "\n",
            "\n",
            "\n"
          ]
        },
        {
          "output_type": "stream",
          "name": "stderr",
          "text": [
            "\r[Succeeded / Failed / Skipped / Total] 7 / 144 / 0 / 151:  76%|███████▌  | 151/200 [01:54<00:37,  1.32it/s]"
          ]
        },
        {
          "output_type": "stream",
          "name": "stdout",
          "text": [
            "--------------------------------------------- Result 151 ---------------------------------------------\n",
            "[[2 (100%)]] --> [[[FAILED]]]\n",
            "\n",
            "Vladimir Putin approved a composition of the Public Chamber of the Russian Federation.\r\n",
            "\n",
            "\n",
            "\n"
          ]
        },
        {
          "output_type": "stream",
          "name": "stderr",
          "text": [
            "[Succeeded / Failed / Skipped / Total] 7 / 145 / 0 / 152:  76%|███████▌  | 152/200 [01:55<00:36,  1.31it/s]"
          ]
        },
        {
          "output_type": "stream",
          "name": "stdout",
          "text": [
            "--------------------------------------------- Result 152 ---------------------------------------------\n",
            "[[2 (100%)]] --> [[[FAILED]]]\n",
            "\n",
            "Wessen had complained to the Office of the Attorney General claiming that Lidet has committed a breach of conduct in taking away clients from her father's law firm without his consent.\r\n",
            "\n",
            "\n",
            "\n"
          ]
        },
        {
          "output_type": "stream",
          "name": "stderr",
          "text": [
            "\r[Succeeded / Failed / Skipped / Total] 7 / 146 / 0 / 153:  76%|███████▋  | 153/200 [01:56<00:35,  1.31it/s]"
          ]
        },
        {
          "output_type": "stream",
          "name": "stdout",
          "text": [
            "--------------------------------------------- Result 153 ---------------------------------------------\n",
            "[[2 (100%)]] --> [[[FAILED]]]\n",
            "\n",
            "Well known travel writer Rick Steves is busy writing his guidebook Rick Steve's Iceland, On his blog however he's published a few budget tips for Iceland travels.\r\n",
            "\n",
            "\n",
            "\n"
          ]
        },
        {
          "output_type": "stream",
          "name": "stderr",
          "text": [
            "[Succeeded / Failed / Skipped / Total] 7 / 147 / 0 / 154:  77%|███████▋  | 154/200 [01:57<00:35,  1.31it/s]"
          ]
        },
        {
          "output_type": "stream",
          "name": "stdout",
          "text": [
            "--------------------------------------------- Result 154 ---------------------------------------------\n",
            "[[2 (100%)]] --> [[[FAILED]]]\n",
            "\n",
            "\"Within seconds, minutes, it's going to become deadly,\" said Captain Andy Skaggs of TFD about flooding in washes and streets in Tucson.\r\n",
            "\n",
            "\n",
            "\n"
          ]
        },
        {
          "output_type": "stream",
          "name": "stderr",
          "text": [
            "\r[Succeeded / Failed / Skipped / Total] 7 / 148 / 0 / 155:  78%|███████▊  | 155/200 [01:58<00:34,  1.31it/s]"
          ]
        },
        {
          "output_type": "stream",
          "name": "stdout",
          "text": [
            "--------------------------------------------- Result 155 ---------------------------------------------\n",
            "[[2 (100%)]] --> [[[FAILED]]]\n",
            "\n",
            "We are till date yet to see a five (5) inches cement block laid for the first of the 200 senior high schools as promised ahead of elections 2012.\r\n",
            "\n",
            "\n",
            "\n"
          ]
        },
        {
          "output_type": "stream",
          "name": "stderr",
          "text": [
            "[Succeeded / Failed / Skipped / Total] 7 / 149 / 0 / 156:  78%|███████▊  | 156/200 [01:58<00:33,  1.32it/s]"
          ]
        },
        {
          "output_type": "stream",
          "name": "stdout",
          "text": [
            "--------------------------------------------- Result 156 ---------------------------------------------\n",
            "[[2 (99%)]] --> [[[FAILED]]]\n",
            "\n",
            "User Udugu Wa Kiislamu regularly posts news bulletins from the ISIS-affiliated Wilayat News Network (WNN).\r\n",
            "\n",
            "\n",
            "\n"
          ]
        },
        {
          "output_type": "stream",
          "name": "stderr",
          "text": [
            "\r[Succeeded / Failed / Skipped / Total] 7 / 150 / 0 / 157:  78%|███████▊  | 157/200 [01:58<00:32,  1.32it/s]"
          ]
        },
        {
          "output_type": "stream",
          "name": "stdout",
          "text": [
            "--------------------------------------------- Result 157 ---------------------------------------------\n",
            "[[2 (100%)]] --> [[[FAILED]]]\n",
            "\n",
            "\"We're not in the business of trading good players for prospects when your team has a chance to win the (Stanley) Cup.\r\n",
            "\n",
            "\n",
            "\n"
          ]
        },
        {
          "output_type": "stream",
          "name": "stderr",
          "text": [
            "[Succeeded / Failed / Skipped / Total] 7 / 151 / 0 / 158:  79%|███████▉  | 158/200 [01:59<00:31,  1.32it/s]"
          ]
        },
        {
          "output_type": "stream",
          "name": "stdout",
          "text": [
            "--------------------------------------------- Result 158 ---------------------------------------------\n",
            "[[2 (100%)]] --> [[[FAILED]]]\n",
            "\n",
            "We tried the octopus carpaccio to start, which was soft and delicate, served with the unlikely combination of truffle cream and marinated apples.\r\n",
            "\n",
            "\n",
            "\n"
          ]
        },
        {
          "output_type": "stream",
          "name": "stderr",
          "text": [
            "\r[Succeeded / Failed / Skipped / Total] 7 / 152 / 0 / 159:  80%|███████▉  | 159/200 [02:00<00:31,  1.32it/s]"
          ]
        },
        {
          "output_type": "stream",
          "name": "stdout",
          "text": [
            "--------------------------------------------- Result 159 ---------------------------------------------\n",
            "[[2 (100%)]] --> [[[FAILED]]]\n",
            "\n",
            "Yet, even in the absence of feelings of hunger, she looked forward to what had become ritualized bouts of food stuffing and self induced vomiting.\r\n",
            "\n",
            "\n",
            "\n"
          ]
        },
        {
          "output_type": "stream",
          "name": "stderr",
          "text": [
            "[Succeeded / Failed / Skipped / Total] 7 / 153 / 0 / 160:  80%|████████  | 160/200 [02:01<00:30,  1.32it/s]"
          ]
        },
        {
          "output_type": "stream",
          "name": "stdout",
          "text": [
            "--------------------------------------------- Result 160 ---------------------------------------------\n",
            "[[2 (100%)]] --> [[[FAILED]]]\n",
            "\n",
            "We are proud of our contribution to the growth and development of healthcare in Qatar and proud to be part of the private sector's active partnership in achieving the developmental goals of Qatar.\"\r\n",
            "\n",
            "\n",
            "\n"
          ]
        },
        {
          "output_type": "stream",
          "name": "stderr",
          "text": [
            "\r[Succeeded / Failed / Skipped / Total] 7 / 154 / 0 / 161:  80%|████████  | 161/200 [02:02<00:29,  1.31it/s]"
          ]
        },
        {
          "output_type": "stream",
          "name": "stdout",
          "text": [
            "--------------------------------------------- Result 161 ---------------------------------------------\n",
            "[[2 (100%)]] --> [[[FAILED]]]\n",
            "\n",
            "You are invited to support the Foundation by individual gifts of cash, planned gifts, life insurance, retirement accounts, securities, real estate, grant funding and also corporate contributions.\r\n",
            "\n",
            "\n",
            "\n"
          ]
        },
        {
          "output_type": "stream",
          "name": "stderr",
          "text": [
            "[Succeeded / Failed / Skipped / Total] 7 / 155 / 0 / 162:  81%|████████  | 162/200 [02:02<00:28,  1.32it/s]"
          ]
        },
        {
          "output_type": "stream",
          "name": "stdout",
          "text": [
            "--------------------------------------------- Result 162 ---------------------------------------------\n",
            "[[2 (100%)]] --> [[[FAILED]]]\n",
            "\n",
            "You either drop out right now, or you lose by the biggest landslide in American political history.\"\r\n",
            "\n",
            "\n",
            "\n"
          ]
        },
        {
          "output_type": "stream",
          "name": "stderr",
          "text": [
            "\r[Succeeded / Failed / Skipped / Total] 7 / 156 / 0 / 163:  82%|████████▏ | 163/200 [02:04<00:28,  1.31it/s]"
          ]
        },
        {
          "output_type": "stream",
          "name": "stdout",
          "text": [
            "--------------------------------------------- Result 163 ---------------------------------------------\n",
            "[[2 (100%)]] --> [[[FAILED]]]\n",
            "\n",
            "\"We came across the amazing work of pioneers like Daphne Oram back in the 1940s and 50s -- she pushed ahead with the development of electronic works, and even built her own synthesiser before they had really taken off,\" Melania Jack said.\r\n",
            "\n",
            "\n",
            "\n"
          ]
        },
        {
          "output_type": "stream",
          "name": "stderr",
          "text": [
            "[Succeeded / Failed / Skipped / Total] 7 / 158 / 0 / 165:  82%|████████▎ | 165/200 [02:04<00:26,  1.32it/s]"
          ]
        },
        {
          "output_type": "stream",
          "name": "stdout",
          "text": [
            "--------------------------------------------- Result 164 ---------------------------------------------\n",
            "[[2 (100%)]] --> [[[FAILED]]]\n",
            "\n",
            "Whether it is a tie game, or we have a lead, or we are down one or two goals, we are going to be the best team in the third period every time.\r\n",
            "\n",
            "\n",
            "\n",
            "--------------------------------------------- Result 165 ---------------------------------------------\n",
            "[[2 (100%)]] --> [[[FAILED]]]\n",
            "\n",
            "Whatever the age or occasion, there is something for all the family.\r\n",
            "\n",
            "\n",
            "\n"
          ]
        },
        {
          "output_type": "stream",
          "name": "stderr",
          "text": [
            "[Succeeded / Failed / Skipped / Total] 7 / 159 / 0 / 166:  83%|████████▎ | 166/200 [02:05<00:25,  1.32it/s]"
          ]
        },
        {
          "output_type": "stream",
          "name": "stdout",
          "text": [
            "--------------------------------------------- Result 166 ---------------------------------------------\n",
            "[[2 (100%)]] --> [[[FAILED]]]\n",
            "\n",
            "What he really replied (according to one report) was, \"I have not yet thought of it, but I am determined to make you strike.\"\r\n",
            "\n",
            "\n",
            "\n"
          ]
        },
        {
          "output_type": "stream",
          "name": "stderr",
          "text": [
            "\r[Succeeded / Failed / Skipped / Total] 7 / 160 / 0 / 167:  84%|████████▎ | 167/200 [02:06<00:24,  1.32it/s]"
          ]
        },
        {
          "output_type": "stream",
          "name": "stdout",
          "text": [
            "--------------------------------------------- Result 167 ---------------------------------------------\n",
            "[[2 (100%)]] --> [[[FAILED]]]\n",
            "\n",
            "Yet, the senator did not worry about the legality or repercussions of the continued targeted killings in Somalia, Yemen or Pakistan.\r\n",
            "\n",
            "\n",
            "\n"
          ]
        },
        {
          "output_type": "stream",
          "name": "stderr",
          "text": [
            "[Succeeded / Failed / Skipped / Total] 7 / 162 / 0 / 169:  84%|████████▍ | 169/200 [02:07<00:23,  1.32it/s]"
          ]
        },
        {
          "output_type": "stream",
          "name": "stdout",
          "text": [
            "--------------------------------------------- Result 168 ---------------------------------------------\n",
            "[[2 (100%)]] --> [[[FAILED]]]\n",
            "\n",
            "\"We really needed to get down to 140 to make it small enough to continue to sort of hold the line in terms of our entering LSAT and undergraduate GPA scores,\" said Craig Boise, dean of C-M Law.\r\n",
            "\n",
            "\n",
            "\n",
            "--------------------------------------------- Result 169 ---------------------------------------------\n",
            "[[2 (99%)]] --> [[[FAILED]]]\n",
            "\n",
            "Unemployment is officially at 14% and per capita income is officially $2200/year.\r\n",
            "\n",
            "\n",
            "\n"
          ]
        },
        {
          "output_type": "stream",
          "name": "stderr",
          "text": [
            "[Succeeded / Failed / Skipped / Total] 7 / 163 / 0 / 170:  85%|████████▌ | 170/200 [02:08<00:22,  1.32it/s]"
          ]
        },
        {
          "output_type": "stream",
          "name": "stdout",
          "text": [
            "--------------------------------------------- Result 170 ---------------------------------------------\n",
            "[[2 (100%)]] --> [[[FAILED]]]\n",
            "\n",
            "While most of Sweden's schools are run by the local municipality, there are also a large number of independent schools (), which are publicly funded and must follow government guidelines on the curriculum, but operate independently.\r\n",
            "\n",
            "\n",
            "\n"
          ]
        },
        {
          "output_type": "stream",
          "name": "stderr",
          "text": [
            "\r[Succeeded / Failed / Skipped / Total] 7 / 164 / 0 / 171:  86%|████████▌ | 171/200 [02:09<00:21,  1.32it/s]"
          ]
        },
        {
          "output_type": "stream",
          "name": "stdout",
          "text": [
            "--------------------------------------------- Result 171 ---------------------------------------------\n",
            "[[2 (100%)]] --> [[[FAILED]]]\n",
            "\n",
            "With the Irish question threatening to hold up any agreement on the transition period, a deal, has been struck, said Barnier.\r\n",
            "\n",
            "\n",
            "\n"
          ]
        },
        {
          "output_type": "stream",
          "name": "stderr",
          "text": [
            "[Succeeded / Failed / Skipped / Total] 7 / 165 / 0 / 172:  86%|████████▌ | 172/200 [02:09<00:21,  1.33it/s]"
          ]
        },
        {
          "output_type": "stream",
          "name": "stdout",
          "text": [
            "--------------------------------------------- Result 172 ---------------------------------------------\n",
            "[[2 (100%)]] --> [[[FAILED]]]\n",
            "\n",
            "VIRGIN Media has asked Ofcom to pause the auction of TV rights for Premier League football.\r\n",
            "\n",
            "\n",
            "\n"
          ]
        },
        {
          "output_type": "stream",
          "name": "stderr",
          "text": [
            "\r[Succeeded / Failed / Skipped / Total] 7 / 166 / 0 / 173:  86%|████████▋ | 173/200 [02:10<00:20,  1.32it/s]"
          ]
        },
        {
          "output_type": "stream",
          "name": "stdout",
          "text": [
            "--------------------------------------------- Result 173 ---------------------------------------------\n",
            "[[2 (100%)]] --> [[[FAILED]]]\n",
            "\n",
            "U.S. troops in Afghanistan are relying more and more on the superior noses of military working dogs to sniff out deadly improvised explosive devices.\r\n",
            "\n",
            "\n",
            "\n"
          ]
        },
        {
          "output_type": "stream",
          "name": "stderr",
          "text": [
            "[Succeeded / Failed / Skipped / Total] 7 / 167 / 0 / 174:  87%|████████▋ | 174/200 [02:11<00:19,  1.32it/s]"
          ]
        },
        {
          "output_type": "stream",
          "name": "stdout",
          "text": [
            "--------------------------------------------- Result 174 ---------------------------------------------\n",
            "[[2 (100%)]] --> [[[FAILED]]]\n",
            "\n",
            "With the integrated system, every item is accounted for: from the moment the stock arrives, all the way through to delivery.\r\n",
            "\n",
            "\n",
            "\n"
          ]
        },
        {
          "output_type": "stream",
          "name": "stderr",
          "text": [
            "\r[Succeeded / Failed / Skipped / Total] 7 / 168 / 0 / 175:  88%|████████▊ | 175/200 [02:12<00:18,  1.32it/s]"
          ]
        },
        {
          "output_type": "stream",
          "name": "stdout",
          "text": [
            "--------------------------------------------- Result 175 ---------------------------------------------\n",
            "[[2 (100%)]] --> [[[FAILED]]]\n",
            "\n",
            "When the LTTE lost Jaffna in 1995, it had places to retreat to as the Kumaratunga government had captured that town at the expense of the Eastern Province which the UNP government of the late President D. B. Wijetunge had cleared.\r\n",
            "\n",
            "\n",
            "\n"
          ]
        },
        {
          "output_type": "stream",
          "name": "stderr",
          "text": [
            "[Succeeded / Failed / Skipped / Total] 7 / 169 / 0 / 176:  88%|████████▊ | 176/200 [02:13<00:18,  1.32it/s]"
          ]
        },
        {
          "output_type": "stream",
          "name": "stdout",
          "text": [
            "--------------------------------------------- Result 176 ---------------------------------------------\n",
            "[[2 (100%)]] --> [[[FAILED]]]\n",
            "\n",
            "With the district administration declaring holiday after 1 pm, parents rushed to schools to pick up their wards.\r\n",
            "\n",
            "\n",
            "\n"
          ]
        },
        {
          "output_type": "stream",
          "name": "stderr",
          "text": [
            "\r[Succeeded / Failed / Skipped / Total] 7 / 170 / 0 / 177:  88%|████████▊ | 177/200 [02:13<00:17,  1.32it/s]"
          ]
        },
        {
          "output_type": "stream",
          "name": "stdout",
          "text": [
            "--------------------------------------------- Result 177 ---------------------------------------------\n",
            "[[2 (100%)]] --> [[[FAILED]]]\n",
            "\n",
            "We transfer your personally identifiable information if Conley acquires or is acquired by, or merges with another company.\r\n",
            "\n",
            "\n",
            "\n"
          ]
        },
        {
          "output_type": "stream",
          "name": "stderr",
          "text": [
            "[Succeeded / Failed / Skipped / Total] 7 / 171 / 0 / 178:  89%|████████▉ | 178/200 [02:14<00:16,  1.32it/s]"
          ]
        },
        {
          "output_type": "stream",
          "name": "stdout",
          "text": [
            "--------------------------------------------- Result 178 ---------------------------------------------\n",
            "[[2 (100%)]] --> [[[FAILED]]]\n",
            "\n",
            "\"We shuffle our program around and try to fit all the work we need to do into seven days instead of eight,\" Mercedes technical director James Allison said.\r\n",
            "\n",
            "\n",
            "\n"
          ]
        },
        {
          "output_type": "stream",
          "name": "stderr",
          "text": [
            "\r[Succeeded / Failed / Skipped / Total] 7 / 172 / 0 / 179:  90%|████████▉ | 179/200 [02:15<00:15,  1.32it/s]"
          ]
        },
        {
          "output_type": "stream",
          "name": "stdout",
          "text": [
            "--------------------------------------------- Result 179 ---------------------------------------------\n",
            "[[2 (100%)]] --> [[[FAILED]]]\n",
            "\n",
            "\"We share the attorney general's concern about the opioid crisis,\" the company said in a statement.\r\n",
            "\n",
            "\n",
            "\n"
          ]
        },
        {
          "output_type": "stream",
          "name": "stderr",
          "text": [
            "[Succeeded / Failed / Skipped / Total] 7 / 173 / 0 / 180:  90%|█████████ | 180/200 [02:15<00:15,  1.33it/s]"
          ]
        },
        {
          "output_type": "stream",
          "name": "stdout",
          "text": [
            "--------------------------------------------- Result 180 ---------------------------------------------\n",
            "[[2 (98%)]] --> [[[FAILED]]]\n",
            "\n",
            "\"When it comes to covering religion, reporters tend to veer between being overly cynical to being overly credulous,\" he says.\r\n",
            "\n",
            "\n",
            "\n"
          ]
        },
        {
          "output_type": "stream",
          "name": "stderr",
          "text": [
            "\r[Succeeded / Failed / Skipped / Total] 7 / 174 / 0 / 181:  90%|█████████ | 181/200 [02:16<00:14,  1.33it/s]"
          ]
        },
        {
          "output_type": "stream",
          "name": "stdout",
          "text": [
            "--------------------------------------------- Result 181 ---------------------------------------------\n",
            "[[2 (90%)]] --> [[[FAILED]]]\n",
            "\n",
            "\"We watched as these beams were being trucked down Blithedale,\" Jovinta Addeo said.\r\n",
            "\n",
            "\n",
            "\n"
          ]
        },
        {
          "output_type": "stream",
          "name": "stderr",
          "text": [
            "[Succeeded / Failed / Skipped / Total] 7 / 175 / 0 / 182:  91%|█████████ | 182/200 [02:16<00:13,  1.33it/s]"
          ]
        },
        {
          "output_type": "stream",
          "name": "stdout",
          "text": [
            "--------------------------------------------- Result 182 ---------------------------------------------\n",
            "[[2 (100%)]] --> [[[FAILED]]]\n",
            "\n",
            "While the Bay Area has other ranges, club officials estimate the Chabot Gun Club accounts for nearly 25 percent of rifle shooting positions in the region.\r\n",
            "\n",
            "\n",
            "\n"
          ]
        },
        {
          "output_type": "stream",
          "name": "stderr",
          "text": [
            "\r[Succeeded / Failed / Skipped / Total] 7 / 176 / 0 / 183:  92%|█████████▏| 183/200 [02:17<00:12,  1.33it/s]"
          ]
        },
        {
          "output_type": "stream",
          "name": "stdout",
          "text": [
            "--------------------------------------------- Result 183 ---------------------------------------------\n",
            "[[2 (100%)]] --> [[[FAILED]]]\n",
            "\n",
            "When the team returned to campus, she informed coach Geno Auriemma that she would not use her final year of eligibility.\r\n",
            "\n",
            "\n",
            "\n"
          ]
        },
        {
          "output_type": "stream",
          "name": "stderr",
          "text": [
            "[Succeeded / Failed / Skipped / Total] 7 / 177 / 0 / 184:  92%|█████████▏| 184/200 [02:17<00:11,  1.33it/s]"
          ]
        },
        {
          "output_type": "stream",
          "name": "stdout",
          "text": [
            "--------------------------------------------- Result 184 ---------------------------------------------\n",
            "[[2 (100%)]] --> [[[FAILED]]]\n",
            "\n",
            "Without international organizations of women abusers to point our finger at, we relegate misogyny to \"the act of a lone madman.\"\r\n",
            "\n",
            "\n",
            "\n"
          ]
        },
        {
          "output_type": "stream",
          "name": "stderr",
          "text": [
            "\r[Succeeded / Failed / Skipped / Total] 7 / 178 / 0 / 185:  92%|█████████▎| 185/200 [02:18<00:11,  1.34it/s]"
          ]
        },
        {
          "output_type": "stream",
          "name": "stdout",
          "text": [
            "--------------------------------------------- Result 185 ---------------------------------------------\n",
            "[[2 (100%)]] --> [[[FAILED]]]\n",
            "\n",
            "\"We can safely say that our men and women in uniform can work with greater hope in all parts of the country.\r\n",
            "\n",
            "\n",
            "\n"
          ]
        },
        {
          "output_type": "stream",
          "name": "stderr",
          "text": [
            "[Succeeded / Failed / Skipped / Total] 7 / 179 / 0 / 186:  93%|█████████▎| 186/200 [02:19<00:10,  1.33it/s]"
          ]
        },
        {
          "output_type": "stream",
          "name": "stdout",
          "text": [
            "--------------------------------------------- Result 186 ---------------------------------------------\n",
            "[[2 (100%)]] --> [[[FAILED]]]\n",
            "\n",
            "We camped outside the town, just within view of the Turkish fort on the hill, and beside huge middens of shells, gathered from the mangroves as sustenance for an unknown people long ago.\r\n",
            "\n",
            "\n",
            "\n"
          ]
        },
        {
          "output_type": "stream",
          "name": "stderr",
          "text": [
            "\r[Succeeded / Failed / Skipped / Total] 7 / 180 / 0 / 187:  94%|█████████▎| 187/200 [02:19<00:09,  1.34it/s]"
          ]
        },
        {
          "output_type": "stream",
          "name": "stdout",
          "text": [
            "--------------------------------------------- Result 187 ---------------------------------------------\n",
            "[[2 (100%)]] --> [[[FAILED]]]\n",
            "\n",
            "U.S. Women's National Team's Julie Ertz complains about a call in Sandy on Thursday, June 7, 2018.\r\n",
            "\n",
            "\n",
            "\n"
          ]
        },
        {
          "output_type": "stream",
          "name": "stderr",
          "text": [
            "[Succeeded / Failed / Skipped / Total] 7 / 181 / 0 / 188:  94%|█████████▍| 188/200 [02:20<00:08,  1.34it/s]"
          ]
        },
        {
          "output_type": "stream",
          "name": "stdout",
          "text": [
            "--------------------------------------------- Result 188 ---------------------------------------------\n",
            "[[2 (100%)]] --> [[[FAILED]]]\n",
            "\n",
            "We are not suggesting that any but the most experienced investors look at EISs and SEISs.\r\n",
            "\n",
            "\n",
            "\n"
          ]
        },
        {
          "output_type": "stream",
          "name": "stderr",
          "text": [
            "\r[Succeeded / Failed / Skipped / Total] 7 / 182 / 0 / 189:  94%|█████████▍| 189/200 [02:20<00:08,  1.34it/s]"
          ]
        },
        {
          "output_type": "stream",
          "name": "stdout",
          "text": [
            "--------------------------------------------- Result 189 ---------------------------------------------\n",
            "[[2 (100%)]] --> [[[FAILED]]]\n",
            "\n",
            "With All Access, listen to everything, everywhere, in your car and on your computer, smartphone or tablet.\r\n",
            "\n",
            "\n",
            "\n"
          ]
        },
        {
          "output_type": "stream",
          "name": "stderr",
          "text": [
            "[Succeeded / Failed / Skipped / Total] 7 / 183 / 0 / 190:  95%|█████████▌| 190/200 [02:20<00:07,  1.35it/s]"
          ]
        },
        {
          "output_type": "stream",
          "name": "stdout",
          "text": [
            "--------------------------------------------- Result 190 ---------------------------------------------\n",
            "[[2 (100%)]] --> [[[FAILED]]]\n",
            "\n",
            "With a physical paper, you will see everything, you can read anything, and when you get to the end, you're done.\r\n",
            "\n",
            "\n",
            "\n"
          ]
        },
        {
          "output_type": "stream",
          "name": "stderr",
          "text": [
            "\r[Succeeded / Failed / Skipped / Total] 7 / 184 / 0 / 191:  96%|█████████▌| 191/200 [02:22<00:06,  1.34it/s]"
          ]
        },
        {
          "output_type": "stream",
          "name": "stdout",
          "text": [
            "--------------------------------------------- Result 191 ---------------------------------------------\n",
            "[[2 (100%)]] --> [[[FAILED]]]\n",
            "\n",
            "Unfortunately, the Founders also presumed that people charged with making electoral decisions in our representative democracy would have a quite different goal than many today.\r\n",
            "\n",
            "\n",
            "\n"
          ]
        },
        {
          "output_type": "stream",
          "name": "stderr",
          "text": [
            "[Succeeded / Failed / Skipped / Total] 7 / 185 / 0 / 192:  96%|█████████▌| 192/200 [02:22<00:05,  1.34it/s]"
          ]
        },
        {
          "output_type": "stream",
          "name": "stdout",
          "text": [
            "--------------------------------------------- Result 192 ---------------------------------------------\n",
            "[[2 (100%)]] --> [[[FAILED]]]\n",
            "\n",
            "\"We need to get a letter of approval from the EPD to make it a viable option,\" Grant said.\r\n",
            "\n",
            "\n",
            "\n"
          ]
        },
        {
          "output_type": "stream",
          "name": "stderr",
          "text": [
            "\r[Succeeded / Failed / Skipped / Total] 7 / 186 / 0 / 193:  96%|█████████▋| 193/200 [02:23<00:05,  1.35it/s]"
          ]
        },
        {
          "output_type": "stream",
          "name": "stdout",
          "text": [
            "--------------------------------------------- Result 193 ---------------------------------------------\n",
            "[[2 (95%)]] --> [[[FAILED]]]\n",
            "\n",
            "We've gotten defendants back from Mexico, from Canada, from Europe,\" said Corey.\r\n",
            "\n",
            "\n",
            "\n"
          ]
        },
        {
          "output_type": "stream",
          "name": "stderr",
          "text": [
            "[Succeeded / Failed / Skipped / Total] 7 / 187 / 0 / 194:  97%|█████████▋| 194/200 [02:24<00:04,  1.35it/s]"
          ]
        },
        {
          "output_type": "stream",
          "name": "stdout",
          "text": [
            "--------------------------------------------- Result 194 ---------------------------------------------\n",
            "[[2 (100%)]] --> [[[FAILED]]]\n",
            "\n",
            "When they arrived in 1992, they were assigned a lieutenant from the Interior Ministry's industrial and scientific espionage division as a handler: Jose Cohen.\r\n",
            "\n",
            "\n",
            "\n"
          ]
        },
        {
          "output_type": "stream",
          "name": "stderr",
          "text": [
            "\r[Succeeded / Failed / Skipped / Total] 7 / 188 / 0 / 195:  98%|█████████▊| 195/200 [02:24<00:03,  1.35it/s]"
          ]
        },
        {
          "output_type": "stream",
          "name": "stdout",
          "text": [
            "--------------------------------------------- Result 195 ---------------------------------------------\n",
            "[[2 (100%)]] --> [[[FAILED]]]\n",
            "\n",
            "With a purple-pink interface for women and brown for men, the site denotes itself with a calculated discretion.\r\n",
            "\n",
            "\n",
            "\n"
          ]
        },
        {
          "output_type": "stream",
          "name": "stderr",
          "text": [
            "[Succeeded / Failed / Skipped / Total] 8 / 188 / 0 / 196:  98%|█████████▊| 196/200 [02:24<00:02,  1.35it/s]"
          ]
        },
        {
          "output_type": "stream",
          "name": "stdout",
          "text": [
            "--------------------------------------------- Result 196 ---------------------------------------------\n",
            "[[2 (100%)]] --> [[7 (53%)]]\n",
            "\n",
            "We [[need]] your [[support]] to [[be]] [[able]] to [[protect]] your from [[men]] [[like]] these.\"\r\n",
            "\n",
            "\n",
            "We [[compelled]] your [[pomoc]] to [[fi]] [[apt]] to [[amparo]] your from [[males]] [[enjoy]] these.\"\r\n",
            "\n",
            "\n",
            "\n"
          ]
        },
        {
          "output_type": "stream",
          "name": "stderr",
          "text": [
            "\r[Succeeded / Failed / Skipped / Total] 8 / 189 / 0 / 197:  98%|█████████▊| 197/200 [02:25<00:02,  1.35it/s]"
          ]
        },
        {
          "output_type": "stream",
          "name": "stdout",
          "text": [
            "--------------------------------------------- Result 197 ---------------------------------------------\n",
            "[[2 (100%)]] --> [[[FAILED]]]\n",
            "\n",
            "Without the legal practitioners who devoted their time, skill and knowledge, the rate of clearance would certainly have looked very different.\r\n",
            "\n",
            "\n",
            "\n"
          ]
        },
        {
          "output_type": "stream",
          "name": "stderr",
          "text": [
            "[Succeeded / Failed / Skipped / Total] 8 / 190 / 0 / 198:  99%|█████████▉| 198/200 [02:26<00:01,  1.35it/s]"
          ]
        },
        {
          "output_type": "stream",
          "name": "stdout",
          "text": [
            "--------------------------------------------- Result 198 ---------------------------------------------\n",
            "[[2 (100%)]] --> [[[FAILED]]]\n",
            "\n",
            "\"We felt that, over time, fundraising had maybe taken priority over reading and writing at BookFest, and that we should think more about hands-on book-related activities for the kids,\" says Peter Laughton, festival organizer.\r\n",
            "\n",
            "\n",
            "\n"
          ]
        },
        {
          "output_type": "stream",
          "name": "stderr",
          "text": [
            "\r[Succeeded / Failed / Skipped / Total] 8 / 191 / 0 / 199: 100%|█████████▉| 199/200 [02:27<00:00,  1.35it/s]"
          ]
        },
        {
          "output_type": "stream",
          "name": "stdout",
          "text": [
            "--------------------------------------------- Result 199 ---------------------------------------------\n",
            "[[2 (99%)]] --> [[[FAILED]]]\n",
            "\n",
            "We need to limit radio station ownership to no more than 20 stations.\r\n",
            "\n",
            "\n",
            "\n"
          ]
        },
        {
          "output_type": "stream",
          "name": "stderr",
          "text": [
            "[Succeeded / Failed / Skipped / Total] 8 / 192 / 0 / 200: 100%|██████████| 200/200 [02:27<00:00,  1.36it/s]"
          ]
        },
        {
          "output_type": "stream",
          "name": "stdout",
          "text": [
            "--------------------------------------------- Result 200 ---------------------------------------------\n",
            "[[2 (100%)]] --> [[[FAILED]]]\n",
            "\n",
            "\"We then start moving into the next new set of brands,\" she says.\r\n",
            "\n",
            "\n",
            "\n",
            "\n",
            "+-------------------------------+--------+\n",
            "| Attack Results                |        |\n",
            "+-------------------------------+--------+\n",
            "| Number of successful attacks: | 8      |\n",
            "| Number of failed attacks:     | 192    |\n",
            "| Number of skipped attacks:    | 0      |\n",
            "| Original accuracy:            | 100.0% |\n",
            "| Accuracy under attack:        | 96.0%  |\n",
            "| Attack success rate:          | 4.0%   |\n",
            "| Average perturbed word %:     | 41.1%  |\n",
            "| Average num. words per input: | 22.02  |\n",
            "| Avg num queries:              | 310.2  |\n",
            "+-------------------------------+--------+\n"
          ]
        },
        {
          "output_type": "stream",
          "name": "stderr",
          "text": [
            "\n"
          ]
        },
        {
          "output_type": "execute_result",
          "data": {
            "text/plain": [
              "[<textattack.attack_results.failed_attack_result.FailedAttackResult at 0x7fde6f249d10>,\n",
              " <textattack.attack_results.failed_attack_result.FailedAttackResult at 0x7fde6f6b4050>,\n",
              " <textattack.attack_results.failed_attack_result.FailedAttackResult at 0x7fde607d0e50>,\n",
              " <textattack.attack_results.failed_attack_result.FailedAttackResult at 0x7fde6f4e3ad0>,\n",
              " <textattack.attack_results.failed_attack_result.FailedAttackResult at 0x7fde6da21910>,\n",
              " <textattack.attack_results.failed_attack_result.FailedAttackResult at 0x7fde6e5ddf90>,\n",
              " <textattack.attack_results.failed_attack_result.FailedAttackResult at 0x7fde70e852d0>,\n",
              " <textattack.attack_results.failed_attack_result.FailedAttackResult at 0x7fde71efc050>,\n",
              " <textattack.attack_results.failed_attack_result.FailedAttackResult at 0x7fde64d454d0>,\n",
              " <textattack.attack_results.failed_attack_result.FailedAttackResult at 0x7fde6f26a490>,\n",
              " <textattack.attack_results.failed_attack_result.FailedAttackResult at 0x7fde6fef88d0>,\n",
              " <textattack.attack_results.failed_attack_result.FailedAttackResult at 0x7fde6ebfebd0>,\n",
              " <textattack.attack_results.failed_attack_result.FailedAttackResult at 0x7fde4cf94310>,\n",
              " <textattack.attack_results.failed_attack_result.FailedAttackResult at 0x7fde6aac2950>,\n",
              " <textattack.attack_results.failed_attack_result.FailedAttackResult at 0x7fde49852bd0>,\n",
              " <textattack.attack_results.failed_attack_result.FailedAttackResult at 0x7fde6fef0c10>,\n",
              " <textattack.attack_results.failed_attack_result.FailedAttackResult at 0x7fde6b066ad0>,\n",
              " <textattack.attack_results.failed_attack_result.FailedAttackResult at 0x7fde6c3808d0>,\n",
              " <textattack.attack_results.failed_attack_result.FailedAttackResult at 0x7fde71849810>,\n",
              " <textattack.attack_results.failed_attack_result.FailedAttackResult at 0x7fde6bdbde50>,\n",
              " <textattack.attack_results.failed_attack_result.FailedAttackResult at 0x7fde69332c50>,\n",
              " <textattack.attack_results.successful_attack_result.SuccessfulAttackResult at 0x7fde6ec04190>,\n",
              " <textattack.attack_results.failed_attack_result.FailedAttackResult at 0x7fde67e0fa50>,\n",
              " <textattack.attack_results.failed_attack_result.FailedAttackResult at 0x7fde7391ccd0>,\n",
              " <textattack.attack_results.failed_attack_result.FailedAttackResult at 0x7fde6e5f6c10>,\n",
              " <textattack.attack_results.failed_attack_result.FailedAttackResult at 0x7fde6bde1fd0>,\n",
              " <textattack.attack_results.successful_attack_result.SuccessfulAttackResult at 0x7fde67b86490>,\n",
              " <textattack.attack_results.failed_attack_result.FailedAttackResult at 0x7fde708f2290>,\n",
              " <textattack.attack_results.failed_attack_result.FailedAttackResult at 0x7fde6e4767d0>,\n",
              " <textattack.attack_results.failed_attack_result.FailedAttackResult at 0x7fde67b86f90>,\n",
              " <textattack.attack_results.failed_attack_result.FailedAttackResult at 0x7fde65bc8650>,\n",
              " <textattack.attack_results.failed_attack_result.FailedAttackResult at 0x7fde749e0190>,\n",
              " <textattack.attack_results.failed_attack_result.FailedAttackResult at 0x7fde12091650>,\n",
              " <textattack.attack_results.failed_attack_result.FailedAttackResult at 0x7fde6c151ed0>,\n",
              " <textattack.attack_results.failed_attack_result.FailedAttackResult at 0x7fde727bca90>,\n",
              " <textattack.attack_results.failed_attack_result.FailedAttackResult at 0x7fde749f2b50>,\n",
              " <textattack.attack_results.failed_attack_result.FailedAttackResult at 0x7fde70734f90>,\n",
              " <textattack.attack_results.failed_attack_result.FailedAttackResult at 0x7fde62aafd10>,\n",
              " <textattack.attack_results.failed_attack_result.FailedAttackResult at 0x7fde749e0110>,\n",
              " <textattack.attack_results.failed_attack_result.FailedAttackResult at 0x7fde6f161a90>,\n",
              " <textattack.attack_results.failed_attack_result.FailedAttackResult at 0x7fde708f22d0>,\n",
              " <textattack.attack_results.failed_attack_result.FailedAttackResult at 0x7fde7313dd10>,\n",
              " <textattack.attack_results.failed_attack_result.FailedAttackResult at 0x7fde6faa42d0>,\n",
              " <textattack.attack_results.failed_attack_result.FailedAttackResult at 0x7fde658a2150>,\n",
              " <textattack.attack_results.failed_attack_result.FailedAttackResult at 0x7fde5e8b1e90>,\n",
              " <textattack.attack_results.failed_attack_result.FailedAttackResult at 0x7fde73dbd190>,\n",
              " <textattack.attack_results.failed_attack_result.FailedAttackResult at 0x7fde6c7fef50>,\n",
              " <textattack.attack_results.failed_attack_result.FailedAttackResult at 0x7fde6e02ef50>,\n",
              " <textattack.attack_results.failed_attack_result.FailedAttackResult at 0x7fde5ed47690>,\n",
              " <textattack.attack_results.failed_attack_result.FailedAttackResult at 0x7fde6a346d90>,\n",
              " <textattack.attack_results.failed_attack_result.FailedAttackResult at 0x7fde6e5dde50>,\n",
              " <textattack.attack_results.failed_attack_result.FailedAttackResult at 0x7fde62fcd1d0>,\n",
              " <textattack.attack_results.failed_attack_result.FailedAttackResult at 0x7fde6347ce50>,\n",
              " <textattack.attack_results.failed_attack_result.FailedAttackResult at 0x7fde6b4ed290>,\n",
              " <textattack.attack_results.failed_attack_result.FailedAttackResult at 0x7fde5ed14090>,\n",
              " <textattack.attack_results.failed_attack_result.FailedAttackResult at 0x7fde63494910>,\n",
              " <textattack.attack_results.failed_attack_result.FailedAttackResult at 0x7fde6db48750>,\n",
              " <textattack.attack_results.failed_attack_result.FailedAttackResult at 0x7fde65e898d0>,\n",
              " <textattack.attack_results.failed_attack_result.FailedAttackResult at 0x7fde4c6bd390>,\n",
              " <textattack.attack_results.failed_attack_result.FailedAttackResult at 0x7fde70a07490>,\n",
              " <textattack.attack_results.failed_attack_result.FailedAttackResult at 0x7fde6314aad0>,\n",
              " <textattack.attack_results.failed_attack_result.FailedAttackResult at 0x7fde6d50b290>,\n",
              " <textattack.attack_results.failed_attack_result.FailedAttackResult at 0x7fde6dffde90>,\n",
              " <textattack.attack_results.failed_attack_result.FailedAttackResult at 0x7fde71759e50>,\n",
              " <textattack.attack_results.failed_attack_result.FailedAttackResult at 0x7fde7409e750>,\n",
              " <textattack.attack_results.failed_attack_result.FailedAttackResult at 0x7fde684fb210>,\n",
              " <textattack.attack_results.failed_attack_result.FailedAttackResult at 0x7fde120916d0>,\n",
              " <textattack.attack_results.failed_attack_result.FailedAttackResult at 0x7fde65bf0e50>,\n",
              " <textattack.attack_results.failed_attack_result.FailedAttackResult at 0x7fde50c3d8d0>,\n",
              " <textattack.attack_results.failed_attack_result.FailedAttackResult at 0x7fde6403fbd0>,\n",
              " <textattack.attack_results.failed_attack_result.FailedAttackResult at 0x7fde62108d10>,\n",
              " <textattack.attack_results.failed_attack_result.FailedAttackResult at 0x7fde5f9b94d0>,\n",
              " <textattack.attack_results.failed_attack_result.FailedAttackResult at 0x7fde629a6450>,\n",
              " <textattack.attack_results.failed_attack_result.FailedAttackResult at 0x7fde7383d6d0>,\n",
              " <textattack.attack_results.failed_attack_result.FailedAttackResult at 0x7fde64fd4610>,\n",
              " <textattack.attack_results.successful_attack_result.SuccessfulAttackResult at 0x7fde607d0350>,\n",
              " <textattack.attack_results.failed_attack_result.FailedAttackResult at 0x7fde64bb1190>,\n",
              " <textattack.attack_results.failed_attack_result.FailedAttackResult at 0x7fde6e470d50>,\n",
              " <textattack.attack_results.failed_attack_result.FailedAttackResult at 0x7fde69f35910>,\n",
              " <textattack.attack_results.failed_attack_result.FailedAttackResult at 0x7fde7061f3d0>,\n",
              " <textattack.attack_results.failed_attack_result.FailedAttackResult at 0x7fde66271d10>,\n",
              " <textattack.attack_results.failed_attack_result.FailedAttackResult at 0x7fde6c9e1350>,\n",
              " <textattack.attack_results.failed_attack_result.FailedAttackResult at 0x7fde6587ae10>,\n",
              " <textattack.attack_results.failed_attack_result.FailedAttackResult at 0x7fde5fcd94d0>,\n",
              " <textattack.attack_results.failed_attack_result.FailedAttackResult at 0x7fde708ebdd0>,\n",
              " <textattack.attack_results.failed_attack_result.FailedAttackResult at 0x7fde67b3d910>,\n",
              " <textattack.attack_results.failed_attack_result.FailedAttackResult at 0x7fde646b0d10>,\n",
              " <textattack.attack_results.failed_attack_result.FailedAttackResult at 0x7fde69360b50>,\n",
              " <textattack.attack_results.failed_attack_result.FailedAttackResult at 0x7fde6f6b4690>,\n",
              " <textattack.attack_results.failed_attack_result.FailedAttackResult at 0x7fde69d1e350>,\n",
              " <textattack.attack_results.failed_attack_result.FailedAttackResult at 0x7fde6fcd44d0>,\n",
              " <textattack.attack_results.failed_attack_result.FailedAttackResult at 0x7fde67d717d0>,\n",
              " <textattack.attack_results.failed_attack_result.FailedAttackResult at 0x7fde4bf08ad0>,\n",
              " <textattack.attack_results.failed_attack_result.FailedAttackResult at 0x7fde6376ae50>,\n",
              " <textattack.attack_results.failed_attack_result.FailedAttackResult at 0x7fde6ab69110>,\n",
              " <textattack.attack_results.successful_attack_result.SuccessfulAttackResult at 0x7fde7312fad0>,\n",
              " <textattack.attack_results.failed_attack_result.FailedAttackResult at 0x7fde67f1d310>,\n",
              " <textattack.attack_results.failed_attack_result.FailedAttackResult at 0x7fde5d35de10>,\n",
              " <textattack.attack_results.failed_attack_result.FailedAttackResult at 0x7fde6d3b8410>,\n",
              " <textattack.attack_results.failed_attack_result.FailedAttackResult at 0x7fde6b0ae750>,\n",
              " <textattack.attack_results.failed_attack_result.FailedAttackResult at 0x7fde68674490>,\n",
              " <textattack.attack_results.failed_attack_result.FailedAttackResult at 0x7fde655d7450>,\n",
              " <textattack.attack_results.failed_attack_result.FailedAttackResult at 0x7fde6d920e50>,\n",
              " <textattack.attack_results.failed_attack_result.FailedAttackResult at 0x7fde6c9a3810>,\n",
              " <textattack.attack_results.failed_attack_result.FailedAttackResult at 0x7fde5f80fe10>,\n",
              " <textattack.attack_results.failed_attack_result.FailedAttackResult at 0x7fde6cca9210>,\n",
              " <textattack.attack_results.failed_attack_result.FailedAttackResult at 0x7fde6a4f3490>,\n",
              " <textattack.attack_results.failed_attack_result.FailedAttackResult at 0x7fde6bebea10>,\n",
              " <textattack.attack_results.failed_attack_result.FailedAttackResult at 0x7fde6aac2790>,\n",
              " <textattack.attack_results.failed_attack_result.FailedAttackResult at 0x7fde74096a50>,\n",
              " <textattack.attack_results.failed_attack_result.FailedAttackResult at 0x7fde6297a0d0>,\n",
              " <textattack.attack_results.failed_attack_result.FailedAttackResult at 0x7fde68b18d10>,\n",
              " <textattack.attack_results.failed_attack_result.FailedAttackResult at 0x7fde6031af50>,\n",
              " <textattack.attack_results.failed_attack_result.FailedAttackResult at 0x7fde71ef52d0>,\n",
              " <textattack.attack_results.failed_attack_result.FailedAttackResult at 0x7fde70a04b50>,\n",
              " <textattack.attack_results.failed_attack_result.FailedAttackResult at 0x7fde6fcd9350>,\n",
              " <textattack.attack_results.failed_attack_result.FailedAttackResult at 0x7fde62c4a110>,\n",
              " <textattack.attack_results.failed_attack_result.FailedAttackResult at 0x7fde6e44e0d0>,\n",
              " <textattack.attack_results.successful_attack_result.SuccessfulAttackResult at 0x7fde6d9209d0>,\n",
              " <textattack.attack_results.failed_attack_result.FailedAttackResult at 0x7fde66be1610>,\n",
              " <textattack.attack_results.failed_attack_result.FailedAttackResult at 0x7fde70c2ecd0>,\n",
              " <textattack.attack_results.failed_attack_result.FailedAttackResult at 0x7fde62e51990>,\n",
              " <textattack.attack_results.failed_attack_result.FailedAttackResult at 0x7fde6e439690>,\n",
              " <textattack.attack_results.failed_attack_result.FailedAttackResult at 0x7fde693289d0>,\n",
              " <textattack.attack_results.successful_attack_result.SuccessfulAttackResult at 0x7fde66ecb790>,\n",
              " <textattack.attack_results.failed_attack_result.FailedAttackResult at 0x7fde6dc4cf90>,\n",
              " <textattack.attack_results.failed_attack_result.FailedAttackResult at 0x7fde7140ab50>,\n",
              " <textattack.attack_results.failed_attack_result.FailedAttackResult at 0x7fde116abb10>,\n",
              " <textattack.attack_results.failed_attack_result.FailedAttackResult at 0x7fde1253fb10>,\n",
              " <textattack.attack_results.failed_attack_result.FailedAttackResult at 0x7fde68535950>,\n",
              " <textattack.attack_results.successful_attack_result.SuccessfulAttackResult at 0x7fde60c29f90>,\n",
              " <textattack.attack_results.failed_attack_result.FailedAttackResult at 0x7fde6db48390>,\n",
              " <textattack.attack_results.failed_attack_result.FailedAttackResult at 0x7fde73e7c250>,\n",
              " <textattack.attack_results.failed_attack_result.FailedAttackResult at 0x7fde11f5e810>,\n",
              " <textattack.attack_results.failed_attack_result.FailedAttackResult at 0x7fde6fceb550>,\n",
              " <textattack.attack_results.failed_attack_result.FailedAttackResult at 0x7fde6f5efdd0>,\n",
              " <textattack.attack_results.failed_attack_result.FailedAttackResult at 0x7fde6fcebe10>,\n",
              " <textattack.attack_results.failed_attack_result.FailedAttackResult at 0x7fde120ffad0>,\n",
              " <textattack.attack_results.failed_attack_result.FailedAttackResult at 0x7fde6483db90>,\n",
              " <textattack.attack_results.failed_attack_result.FailedAttackResult at 0x7fde73ddd150>,\n",
              " <textattack.attack_results.failed_attack_result.FailedAttackResult at 0x7fde68535cd0>,\n",
              " <textattack.attack_results.failed_attack_result.FailedAttackResult at 0x7fde73dddb10>,\n",
              " <textattack.attack_results.failed_attack_result.FailedAttackResult at 0x7fde71d2f0d0>,\n",
              " <textattack.attack_results.failed_attack_result.FailedAttackResult at 0x7fde740b1250>,\n",
              " <textattack.attack_results.failed_attack_result.FailedAttackResult at 0x7fde6981df90>,\n",
              " <textattack.attack_results.failed_attack_result.FailedAttackResult at 0x7fde73eb2f50>,\n",
              " <textattack.attack_results.failed_attack_result.FailedAttackResult at 0x7fde70e85310>,\n",
              " <textattack.attack_results.failed_attack_result.FailedAttackResult at 0x7fde675d31d0>,\n",
              " <textattack.attack_results.failed_attack_result.FailedAttackResult at 0x7fde6a0d4d50>,\n",
              " <textattack.attack_results.failed_attack_result.FailedAttackResult at 0x7fde6eb32a10>,\n",
              " <textattack.attack_results.failed_attack_result.FailedAttackResult at 0x7fde6f3eef50>,\n",
              " <textattack.attack_results.failed_attack_result.FailedAttackResult at 0x7fde1207ba90>,\n",
              " <textattack.attack_results.failed_attack_result.FailedAttackResult at 0x7fde12c52990>,\n",
              " <textattack.attack_results.failed_attack_result.FailedAttackResult at 0x7fde6afc7510>,\n",
              " <textattack.attack_results.failed_attack_result.FailedAttackResult at 0x7fde636a7c10>,\n",
              " <textattack.attack_results.failed_attack_result.FailedAttackResult at 0x7fde65bc8f10>,\n",
              " <textattack.attack_results.failed_attack_result.FailedAttackResult at 0x7fde6c803b50>,\n",
              " <textattack.attack_results.failed_attack_result.FailedAttackResult at 0x7fde6b194a50>,\n",
              " <textattack.attack_results.failed_attack_result.FailedAttackResult at 0x7fde6c7a5cd0>,\n",
              " <textattack.attack_results.failed_attack_result.FailedAttackResult at 0x7fde1229ccd0>,\n",
              " <textattack.attack_results.failed_attack_result.FailedAttackResult at 0x7fde122867d0>,\n",
              " <textattack.attack_results.failed_attack_result.FailedAttackResult at 0x7fde6c15d810>,\n",
              " <textattack.attack_results.failed_attack_result.FailedAttackResult at 0x7fde11eab9d0>,\n",
              " <textattack.attack_results.failed_attack_result.FailedAttackResult at 0x7fde120a0ad0>,\n",
              " <textattack.attack_results.failed_attack_result.FailedAttackResult at 0x7fde62e51450>,\n",
              " <textattack.attack_results.failed_attack_result.FailedAttackResult at 0x7fde718491d0>,\n",
              " <textattack.attack_results.failed_attack_result.FailedAttackResult at 0x7fde73e7c850>,\n",
              " <textattack.attack_results.failed_attack_result.FailedAttackResult at 0x7fde11b45110>,\n",
              " <textattack.attack_results.failed_attack_result.FailedAttackResult at 0x7fde6d3824d0>,\n",
              " <textattack.attack_results.failed_attack_result.FailedAttackResult at 0x7fde6d0fac90>,\n",
              " <textattack.attack_results.failed_attack_result.FailedAttackResult at 0x7fde70229850>,\n",
              " <textattack.attack_results.failed_attack_result.FailedAttackResult at 0x7fde6c82a9d0>,\n",
              " <textattack.attack_results.failed_attack_result.FailedAttackResult at 0x7fde70629550>,\n",
              " <textattack.attack_results.failed_attack_result.FailedAttackResult at 0x7fde5bf4f990>,\n",
              " <textattack.attack_results.failed_attack_result.FailedAttackResult at 0x7fde6db483d0>,\n",
              " <textattack.attack_results.failed_attack_result.FailedAttackResult at 0x7fde67b86ed0>,\n",
              " <textattack.attack_results.failed_attack_result.FailedAttackResult at 0x7fde71d2f110>,\n",
              " <textattack.attack_results.failed_attack_result.FailedAttackResult at 0x7fde71318b90>,\n",
              " <textattack.attack_results.failed_attack_result.FailedAttackResult at 0x7fde6a0d4d90>,\n",
              " <textattack.attack_results.failed_attack_result.FailedAttackResult at 0x7fde62e51410>,\n",
              " <textattack.attack_results.failed_attack_result.FailedAttackResult at 0x7fde65012750>,\n",
              " <textattack.attack_results.failed_attack_result.FailedAttackResult at 0x7fde6bb20dd0>,\n",
              " <textattack.attack_results.failed_attack_result.FailedAttackResult at 0x7fde7312fb90>,\n",
              " <textattack.attack_results.failed_attack_result.FailedAttackResult at 0x7fde12563a10>,\n",
              " <textattack.attack_results.failed_attack_result.FailedAttackResult at 0x7fde11b61950>,\n",
              " <textattack.attack_results.failed_attack_result.FailedAttackResult at 0x7fde6b592290>,\n",
              " <textattack.attack_results.failed_attack_result.FailedAttackResult at 0x7fde6f259510>,\n",
              " <textattack.attack_results.failed_attack_result.FailedAttackResult at 0x7fde70908790>,\n",
              " <textattack.attack_results.failed_attack_result.FailedAttackResult at 0x7fde122a6f50>,\n",
              " <textattack.attack_results.failed_attack_result.FailedAttackResult at 0x7fde7409e550>,\n",
              " <textattack.attack_results.failed_attack_result.FailedAttackResult at 0x7fde5ed14110>,\n",
              " <textattack.attack_results.failed_attack_result.FailedAttackResult at 0x7fde6bb31690>,\n",
              " <textattack.attack_results.failed_attack_result.FailedAttackResult at 0x7fde6f7eba50>,\n",
              " <textattack.attack_results.failed_attack_result.FailedAttackResult at 0x7fde6bef1e50>,\n",
              " <textattack.attack_results.failed_attack_result.FailedAttackResult at 0x7fde12563210>,\n",
              " <textattack.attack_results.successful_attack_result.SuccessfulAttackResult at 0x7fde70a04190>,\n",
              " <textattack.attack_results.failed_attack_result.FailedAttackResult at 0x7fde6d125650>,\n",
              " <textattack.attack_results.failed_attack_result.FailedAttackResult at 0x7fde6a434290>,\n",
              " <textattack.attack_results.failed_attack_result.FailedAttackResult at 0x7fde73853f50>,\n",
              " <textattack.attack_results.failed_attack_result.FailedAttackResult at 0x7fde6bb28790>]"
            ]
          },
          "metadata": {},
          "execution_count": 30
        }
      ]
    },
    {
      "cell_type": "code",
      "source": [
        ""
      ],
      "metadata": {
        "id": "i63gcUHL4aZg"
      },
      "execution_count": null,
      "outputs": []
    }
  ],
  "metadata": {
    "kernelspec": {
      "display_name": "Python 3",
      "language": "python",
      "name": "python3"
    },
    "language_info": {
      "codemirror_mode": {
        "name": "ipython",
        "version": 3
      },
      "file_extension": ".py",
      "mimetype": "text/x-python",
      "name": "python",
      "nbconvert_exporter": "python",
      "pygments_lexer": "ipython3",
      "version": "3.7.7"
    },
    "colab": {
      "name": "CNN_2d_Language_Recognition.ipynb",
      "provenance": []
    },
    "accelerator": "GPU",
    "widgets": {
      "application/vnd.jupyter.widget-state+json": {
        "194034b75694480d80a14aacfe806d49": {
          "model_module": "@jupyter-widgets/controls",
          "model_name": "HBoxModel",
          "model_module_version": "1.5.0",
          "state": {
            "_dom_classes": [],
            "_model_module": "@jupyter-widgets/controls",
            "_model_module_version": "1.5.0",
            "_model_name": "HBoxModel",
            "_view_count": null,
            "_view_module": "@jupyter-widgets/controls",
            "_view_module_version": "1.5.0",
            "_view_name": "HBoxView",
            "box_style": "",
            "children": [
              "IPY_MODEL_3c1edb6a5826450486b56eed17c4c19d",
              "IPY_MODEL_d484216e48674324a8f1335e808ef6ef",
              "IPY_MODEL_968c46e91d8041d093d201176e30724c"
            ],
            "layout": "IPY_MODEL_25a3a443b0d74eda8d588b60816d0fe5"
          }
        },
        "3c1edb6a5826450486b56eed17c4c19d": {
          "model_module": "@jupyter-widgets/controls",
          "model_name": "HTMLModel",
          "model_module_version": "1.5.0",
          "state": {
            "_dom_classes": [],
            "_model_module": "@jupyter-widgets/controls",
            "_model_module_version": "1.5.0",
            "_model_name": "HTMLModel",
            "_view_count": null,
            "_view_module": "@jupyter-widgets/controls",
            "_view_module_version": "1.5.0",
            "_view_name": "HTMLView",
            "description": "",
            "description_tooltip": null,
            "layout": "IPY_MODEL_2b435ae9b6cf4303be1389b0f1f4a5fe",
            "placeholder": "​",
            "style": "IPY_MODEL_8f105da64d244636afd8ea66debe57d3",
            "value": "100%"
          }
        },
        "d484216e48674324a8f1335e808ef6ef": {
          "model_module": "@jupyter-widgets/controls",
          "model_name": "FloatProgressModel",
          "model_module_version": "1.5.0",
          "state": {
            "_dom_classes": [],
            "_model_module": "@jupyter-widgets/controls",
            "_model_module_version": "1.5.0",
            "_model_name": "FloatProgressModel",
            "_view_count": null,
            "_view_module": "@jupyter-widgets/controls",
            "_view_module_version": "1.5.0",
            "_view_name": "ProgressView",
            "bar_style": "success",
            "description": "",
            "description_tooltip": null,
            "layout": "IPY_MODEL_96273b1a220e447897c18748605e9332",
            "max": 81000,
            "min": 0,
            "orientation": "horizontal",
            "style": "IPY_MODEL_aa8b6a07f72342d6816151d2a6a3af11",
            "value": 81000
          }
        },
        "968c46e91d8041d093d201176e30724c": {
          "model_module": "@jupyter-widgets/controls",
          "model_name": "HTMLModel",
          "model_module_version": "1.5.0",
          "state": {
            "_dom_classes": [],
            "_model_module": "@jupyter-widgets/controls",
            "_model_module_version": "1.5.0",
            "_model_name": "HTMLModel",
            "_view_count": null,
            "_view_module": "@jupyter-widgets/controls",
            "_view_module_version": "1.5.0",
            "_view_name": "HTMLView",
            "description": "",
            "description_tooltip": null,
            "layout": "IPY_MODEL_7b303e7945494b11bf647880a10ff4f3",
            "placeholder": "​",
            "style": "IPY_MODEL_81ee53ffac764e008144aa2c0963ddd5",
            "value": " 81000/81000 [00:09&lt;00:00, 8845.55ex/s]"
          }
        },
        "25a3a443b0d74eda8d588b60816d0fe5": {
          "model_module": "@jupyter-widgets/base",
          "model_name": "LayoutModel",
          "model_module_version": "1.2.0",
          "state": {
            "_model_module": "@jupyter-widgets/base",
            "_model_module_version": "1.2.0",
            "_model_name": "LayoutModel",
            "_view_count": null,
            "_view_module": "@jupyter-widgets/base",
            "_view_module_version": "1.2.0",
            "_view_name": "LayoutView",
            "align_content": null,
            "align_items": null,
            "align_self": null,
            "border": null,
            "bottom": null,
            "display": null,
            "flex": null,
            "flex_flow": null,
            "grid_area": null,
            "grid_auto_columns": null,
            "grid_auto_flow": null,
            "grid_auto_rows": null,
            "grid_column": null,
            "grid_gap": null,
            "grid_row": null,
            "grid_template_areas": null,
            "grid_template_columns": null,
            "grid_template_rows": null,
            "height": null,
            "justify_content": null,
            "justify_items": null,
            "left": null,
            "margin": null,
            "max_height": null,
            "max_width": null,
            "min_height": null,
            "min_width": null,
            "object_fit": null,
            "object_position": null,
            "order": null,
            "overflow": null,
            "overflow_x": null,
            "overflow_y": null,
            "padding": null,
            "right": null,
            "top": null,
            "visibility": null,
            "width": null
          }
        },
        "2b435ae9b6cf4303be1389b0f1f4a5fe": {
          "model_module": "@jupyter-widgets/base",
          "model_name": "LayoutModel",
          "model_module_version": "1.2.0",
          "state": {
            "_model_module": "@jupyter-widgets/base",
            "_model_module_version": "1.2.0",
            "_model_name": "LayoutModel",
            "_view_count": null,
            "_view_module": "@jupyter-widgets/base",
            "_view_module_version": "1.2.0",
            "_view_name": "LayoutView",
            "align_content": null,
            "align_items": null,
            "align_self": null,
            "border": null,
            "bottom": null,
            "display": null,
            "flex": null,
            "flex_flow": null,
            "grid_area": null,
            "grid_auto_columns": null,
            "grid_auto_flow": null,
            "grid_auto_rows": null,
            "grid_column": null,
            "grid_gap": null,
            "grid_row": null,
            "grid_template_areas": null,
            "grid_template_columns": null,
            "grid_template_rows": null,
            "height": null,
            "justify_content": null,
            "justify_items": null,
            "left": null,
            "margin": null,
            "max_height": null,
            "max_width": null,
            "min_height": null,
            "min_width": null,
            "object_fit": null,
            "object_position": null,
            "order": null,
            "overflow": null,
            "overflow_x": null,
            "overflow_y": null,
            "padding": null,
            "right": null,
            "top": null,
            "visibility": null,
            "width": null
          }
        },
        "8f105da64d244636afd8ea66debe57d3": {
          "model_module": "@jupyter-widgets/controls",
          "model_name": "DescriptionStyleModel",
          "model_module_version": "1.5.0",
          "state": {
            "_model_module": "@jupyter-widgets/controls",
            "_model_module_version": "1.5.0",
            "_model_name": "DescriptionStyleModel",
            "_view_count": null,
            "_view_module": "@jupyter-widgets/base",
            "_view_module_version": "1.2.0",
            "_view_name": "StyleView",
            "description_width": ""
          }
        },
        "96273b1a220e447897c18748605e9332": {
          "model_module": "@jupyter-widgets/base",
          "model_name": "LayoutModel",
          "model_module_version": "1.2.0",
          "state": {
            "_model_module": "@jupyter-widgets/base",
            "_model_module_version": "1.2.0",
            "_model_name": "LayoutModel",
            "_view_count": null,
            "_view_module": "@jupyter-widgets/base",
            "_view_module_version": "1.2.0",
            "_view_name": "LayoutView",
            "align_content": null,
            "align_items": null,
            "align_self": null,
            "border": null,
            "bottom": null,
            "display": null,
            "flex": null,
            "flex_flow": null,
            "grid_area": null,
            "grid_auto_columns": null,
            "grid_auto_flow": null,
            "grid_auto_rows": null,
            "grid_column": null,
            "grid_gap": null,
            "grid_row": null,
            "grid_template_areas": null,
            "grid_template_columns": null,
            "grid_template_rows": null,
            "height": null,
            "justify_content": null,
            "justify_items": null,
            "left": null,
            "margin": null,
            "max_height": null,
            "max_width": null,
            "min_height": null,
            "min_width": null,
            "object_fit": null,
            "object_position": null,
            "order": null,
            "overflow": null,
            "overflow_x": null,
            "overflow_y": null,
            "padding": null,
            "right": null,
            "top": null,
            "visibility": null,
            "width": null
          }
        },
        "aa8b6a07f72342d6816151d2a6a3af11": {
          "model_module": "@jupyter-widgets/controls",
          "model_name": "ProgressStyleModel",
          "model_module_version": "1.5.0",
          "state": {
            "_model_module": "@jupyter-widgets/controls",
            "_model_module_version": "1.5.0",
            "_model_name": "ProgressStyleModel",
            "_view_count": null,
            "_view_module": "@jupyter-widgets/base",
            "_view_module_version": "1.2.0",
            "_view_name": "StyleView",
            "bar_color": null,
            "description_width": ""
          }
        },
        "7b303e7945494b11bf647880a10ff4f3": {
          "model_module": "@jupyter-widgets/base",
          "model_name": "LayoutModel",
          "model_module_version": "1.2.0",
          "state": {
            "_model_module": "@jupyter-widgets/base",
            "_model_module_version": "1.2.0",
            "_model_name": "LayoutModel",
            "_view_count": null,
            "_view_module": "@jupyter-widgets/base",
            "_view_module_version": "1.2.0",
            "_view_name": "LayoutView",
            "align_content": null,
            "align_items": null,
            "align_self": null,
            "border": null,
            "bottom": null,
            "display": null,
            "flex": null,
            "flex_flow": null,
            "grid_area": null,
            "grid_auto_columns": null,
            "grid_auto_flow": null,
            "grid_auto_rows": null,
            "grid_column": null,
            "grid_gap": null,
            "grid_row": null,
            "grid_template_areas": null,
            "grid_template_columns": null,
            "grid_template_rows": null,
            "height": null,
            "justify_content": null,
            "justify_items": null,
            "left": null,
            "margin": null,
            "max_height": null,
            "max_width": null,
            "min_height": null,
            "min_width": null,
            "object_fit": null,
            "object_position": null,
            "order": null,
            "overflow": null,
            "overflow_x": null,
            "overflow_y": null,
            "padding": null,
            "right": null,
            "top": null,
            "visibility": null,
            "width": null
          }
        },
        "81ee53ffac764e008144aa2c0963ddd5": {
          "model_module": "@jupyter-widgets/controls",
          "model_name": "DescriptionStyleModel",
          "model_module_version": "1.5.0",
          "state": {
            "_model_module": "@jupyter-widgets/controls",
            "_model_module_version": "1.5.0",
            "_model_name": "DescriptionStyleModel",
            "_view_count": null,
            "_view_module": "@jupyter-widgets/base",
            "_view_module_version": "1.2.0",
            "_view_name": "StyleView",
            "description_width": ""
          }
        },
        "2648afa898874cb09526a1ce97203874": {
          "model_module": "@jupyter-widgets/controls",
          "model_name": "HBoxModel",
          "model_module_version": "1.5.0",
          "state": {
            "_dom_classes": [],
            "_model_module": "@jupyter-widgets/controls",
            "_model_module_version": "1.5.0",
            "_model_name": "HBoxModel",
            "_view_count": null,
            "_view_module": "@jupyter-widgets/controls",
            "_view_module_version": "1.5.0",
            "_view_name": "HBoxView",
            "box_style": "",
            "children": [
              "IPY_MODEL_72ee8efb1d2247399fa78a566c5c3aab",
              "IPY_MODEL_d9c11c4ae1e9443fb61d6ce1a84d9dbe",
              "IPY_MODEL_59d6abfd6fb942dd8a507c32196bf56d"
            ],
            "layout": "IPY_MODEL_1f635ee6c2644ba5b35f05f785bae788"
          }
        },
        "72ee8efb1d2247399fa78a566c5c3aab": {
          "model_module": "@jupyter-widgets/controls",
          "model_name": "HTMLModel",
          "model_module_version": "1.5.0",
          "state": {
            "_dom_classes": [],
            "_model_module": "@jupyter-widgets/controls",
            "_model_module_version": "1.5.0",
            "_model_name": "HTMLModel",
            "_view_count": null,
            "_view_module": "@jupyter-widgets/controls",
            "_view_module_version": "1.5.0",
            "_view_name": "HTMLView",
            "description": "",
            "description_tooltip": null,
            "layout": "IPY_MODEL_020cdc36a7c74db8add3fe1bca04b6a9",
            "placeholder": "​",
            "style": "IPY_MODEL_42b9a166d56c4d24a089bf2e45bcd791",
            "value": "100%"
          }
        },
        "d9c11c4ae1e9443fb61d6ce1a84d9dbe": {
          "model_module": "@jupyter-widgets/controls",
          "model_name": "FloatProgressModel",
          "model_module_version": "1.5.0",
          "state": {
            "_dom_classes": [],
            "_model_module": "@jupyter-widgets/controls",
            "_model_module_version": "1.5.0",
            "_model_name": "FloatProgressModel",
            "_view_count": null,
            "_view_module": "@jupyter-widgets/controls",
            "_view_module_version": "1.5.0",
            "_view_name": "ProgressView",
            "bar_style": "success",
            "description": "",
            "description_tooltip": null,
            "layout": "IPY_MODEL_948e6f013f4746fe9e36ec7c019204c0",
            "max": 9000,
            "min": 0,
            "orientation": "horizontal",
            "style": "IPY_MODEL_2bb311129cc149e9a75b538c3bcd5063",
            "value": 9000
          }
        },
        "59d6abfd6fb942dd8a507c32196bf56d": {
          "model_module": "@jupyter-widgets/controls",
          "model_name": "HTMLModel",
          "model_module_version": "1.5.0",
          "state": {
            "_dom_classes": [],
            "_model_module": "@jupyter-widgets/controls",
            "_model_module_version": "1.5.0",
            "_model_name": "HTMLModel",
            "_view_count": null,
            "_view_module": "@jupyter-widgets/controls",
            "_view_module_version": "1.5.0",
            "_view_name": "HTMLView",
            "description": "",
            "description_tooltip": null,
            "layout": "IPY_MODEL_521851b3c31c4fd1bed326f07b7d4f7b",
            "placeholder": "​",
            "style": "IPY_MODEL_c331b768c90348369c65265550360f8a",
            "value": " 9000/9000 [00:01&lt;00:00, 8971.74ex/s]"
          }
        },
        "1f635ee6c2644ba5b35f05f785bae788": {
          "model_module": "@jupyter-widgets/base",
          "model_name": "LayoutModel",
          "model_module_version": "1.2.0",
          "state": {
            "_model_module": "@jupyter-widgets/base",
            "_model_module_version": "1.2.0",
            "_model_name": "LayoutModel",
            "_view_count": null,
            "_view_module": "@jupyter-widgets/base",
            "_view_module_version": "1.2.0",
            "_view_name": "LayoutView",
            "align_content": null,
            "align_items": null,
            "align_self": null,
            "border": null,
            "bottom": null,
            "display": null,
            "flex": null,
            "flex_flow": null,
            "grid_area": null,
            "grid_auto_columns": null,
            "grid_auto_flow": null,
            "grid_auto_rows": null,
            "grid_column": null,
            "grid_gap": null,
            "grid_row": null,
            "grid_template_areas": null,
            "grid_template_columns": null,
            "grid_template_rows": null,
            "height": null,
            "justify_content": null,
            "justify_items": null,
            "left": null,
            "margin": null,
            "max_height": null,
            "max_width": null,
            "min_height": null,
            "min_width": null,
            "object_fit": null,
            "object_position": null,
            "order": null,
            "overflow": null,
            "overflow_x": null,
            "overflow_y": null,
            "padding": null,
            "right": null,
            "top": null,
            "visibility": null,
            "width": null
          }
        },
        "020cdc36a7c74db8add3fe1bca04b6a9": {
          "model_module": "@jupyter-widgets/base",
          "model_name": "LayoutModel",
          "model_module_version": "1.2.0",
          "state": {
            "_model_module": "@jupyter-widgets/base",
            "_model_module_version": "1.2.0",
            "_model_name": "LayoutModel",
            "_view_count": null,
            "_view_module": "@jupyter-widgets/base",
            "_view_module_version": "1.2.0",
            "_view_name": "LayoutView",
            "align_content": null,
            "align_items": null,
            "align_self": null,
            "border": null,
            "bottom": null,
            "display": null,
            "flex": null,
            "flex_flow": null,
            "grid_area": null,
            "grid_auto_columns": null,
            "grid_auto_flow": null,
            "grid_auto_rows": null,
            "grid_column": null,
            "grid_gap": null,
            "grid_row": null,
            "grid_template_areas": null,
            "grid_template_columns": null,
            "grid_template_rows": null,
            "height": null,
            "justify_content": null,
            "justify_items": null,
            "left": null,
            "margin": null,
            "max_height": null,
            "max_width": null,
            "min_height": null,
            "min_width": null,
            "object_fit": null,
            "object_position": null,
            "order": null,
            "overflow": null,
            "overflow_x": null,
            "overflow_y": null,
            "padding": null,
            "right": null,
            "top": null,
            "visibility": null,
            "width": null
          }
        },
        "42b9a166d56c4d24a089bf2e45bcd791": {
          "model_module": "@jupyter-widgets/controls",
          "model_name": "DescriptionStyleModel",
          "model_module_version": "1.5.0",
          "state": {
            "_model_module": "@jupyter-widgets/controls",
            "_model_module_version": "1.5.0",
            "_model_name": "DescriptionStyleModel",
            "_view_count": null,
            "_view_module": "@jupyter-widgets/base",
            "_view_module_version": "1.2.0",
            "_view_name": "StyleView",
            "description_width": ""
          }
        },
        "948e6f013f4746fe9e36ec7c019204c0": {
          "model_module": "@jupyter-widgets/base",
          "model_name": "LayoutModel",
          "model_module_version": "1.2.0",
          "state": {
            "_model_module": "@jupyter-widgets/base",
            "_model_module_version": "1.2.0",
            "_model_name": "LayoutModel",
            "_view_count": null,
            "_view_module": "@jupyter-widgets/base",
            "_view_module_version": "1.2.0",
            "_view_name": "LayoutView",
            "align_content": null,
            "align_items": null,
            "align_self": null,
            "border": null,
            "bottom": null,
            "display": null,
            "flex": null,
            "flex_flow": null,
            "grid_area": null,
            "grid_auto_columns": null,
            "grid_auto_flow": null,
            "grid_auto_rows": null,
            "grid_column": null,
            "grid_gap": null,
            "grid_row": null,
            "grid_template_areas": null,
            "grid_template_columns": null,
            "grid_template_rows": null,
            "height": null,
            "justify_content": null,
            "justify_items": null,
            "left": null,
            "margin": null,
            "max_height": null,
            "max_width": null,
            "min_height": null,
            "min_width": null,
            "object_fit": null,
            "object_position": null,
            "order": null,
            "overflow": null,
            "overflow_x": null,
            "overflow_y": null,
            "padding": null,
            "right": null,
            "top": null,
            "visibility": null,
            "width": null
          }
        },
        "2bb311129cc149e9a75b538c3bcd5063": {
          "model_module": "@jupyter-widgets/controls",
          "model_name": "ProgressStyleModel",
          "model_module_version": "1.5.0",
          "state": {
            "_model_module": "@jupyter-widgets/controls",
            "_model_module_version": "1.5.0",
            "_model_name": "ProgressStyleModel",
            "_view_count": null,
            "_view_module": "@jupyter-widgets/base",
            "_view_module_version": "1.2.0",
            "_view_name": "StyleView",
            "bar_color": null,
            "description_width": ""
          }
        },
        "521851b3c31c4fd1bed326f07b7d4f7b": {
          "model_module": "@jupyter-widgets/base",
          "model_name": "LayoutModel",
          "model_module_version": "1.2.0",
          "state": {
            "_model_module": "@jupyter-widgets/base",
            "_model_module_version": "1.2.0",
            "_model_name": "LayoutModel",
            "_view_count": null,
            "_view_module": "@jupyter-widgets/base",
            "_view_module_version": "1.2.0",
            "_view_name": "LayoutView",
            "align_content": null,
            "align_items": null,
            "align_self": null,
            "border": null,
            "bottom": null,
            "display": null,
            "flex": null,
            "flex_flow": null,
            "grid_area": null,
            "grid_auto_columns": null,
            "grid_auto_flow": null,
            "grid_auto_rows": null,
            "grid_column": null,
            "grid_gap": null,
            "grid_row": null,
            "grid_template_areas": null,
            "grid_template_columns": null,
            "grid_template_rows": null,
            "height": null,
            "justify_content": null,
            "justify_items": null,
            "left": null,
            "margin": null,
            "max_height": null,
            "max_width": null,
            "min_height": null,
            "min_width": null,
            "object_fit": null,
            "object_position": null,
            "order": null,
            "overflow": null,
            "overflow_x": null,
            "overflow_y": null,
            "padding": null,
            "right": null,
            "top": null,
            "visibility": null,
            "width": null
          }
        },
        "c331b768c90348369c65265550360f8a": {
          "model_module": "@jupyter-widgets/controls",
          "model_name": "DescriptionStyleModel",
          "model_module_version": "1.5.0",
          "state": {
            "_model_module": "@jupyter-widgets/controls",
            "_model_module_version": "1.5.0",
            "_model_name": "DescriptionStyleModel",
            "_view_count": null,
            "_view_module": "@jupyter-widgets/base",
            "_view_module_version": "1.2.0",
            "_view_name": "StyleView",
            "description_width": ""
          }
        },
        "269c32eb0b8c41f1a7b2bc2183a371a4": {
          "model_module": "@jupyter-widgets/controls",
          "model_name": "HBoxModel",
          "model_module_version": "1.5.0",
          "state": {
            "_dom_classes": [],
            "_model_module": "@jupyter-widgets/controls",
            "_model_module_version": "1.5.0",
            "_model_name": "HBoxModel",
            "_view_count": null,
            "_view_module": "@jupyter-widgets/controls",
            "_view_module_version": "1.5.0",
            "_view_name": "HBoxView",
            "box_style": "",
            "children": [
              "IPY_MODEL_7c6e8a31a73341cfa6474708e4ce4f6d",
              "IPY_MODEL_ca1b60ede4d74c429fe8be42bdf52ff6",
              "IPY_MODEL_d20e06ca6f504dda86841c2c39f6d72c"
            ],
            "layout": "IPY_MODEL_d90682d2e5e04227b579b5ec9f99413a"
          }
        },
        "7c6e8a31a73341cfa6474708e4ce4f6d": {
          "model_module": "@jupyter-widgets/controls",
          "model_name": "HTMLModel",
          "model_module_version": "1.5.0",
          "state": {
            "_dom_classes": [],
            "_model_module": "@jupyter-widgets/controls",
            "_model_module_version": "1.5.0",
            "_model_name": "HTMLModel",
            "_view_count": null,
            "_view_module": "@jupyter-widgets/controls",
            "_view_module_version": "1.5.0",
            "_view_name": "HTMLView",
            "description": "",
            "description_tooltip": null,
            "layout": "IPY_MODEL_62b853f2f27948db8e3988ad1393a383",
            "placeholder": "​",
            "style": "IPY_MODEL_0b24cb1adf124e05b5cc2a7877ada8df",
            "value": "100%"
          }
        },
        "ca1b60ede4d74c429fe8be42bdf52ff6": {
          "model_module": "@jupyter-widgets/controls",
          "model_name": "FloatProgressModel",
          "model_module_version": "1.5.0",
          "state": {
            "_dom_classes": [],
            "_model_module": "@jupyter-widgets/controls",
            "_model_module_version": "1.5.0",
            "_model_name": "FloatProgressModel",
            "_view_count": null,
            "_view_module": "@jupyter-widgets/controls",
            "_view_module_version": "1.5.0",
            "_view_name": "ProgressView",
            "bar_style": "success",
            "description": "",
            "description_tooltip": null,
            "layout": "IPY_MODEL_bbbd9eebeaab4fa2afce80f35a1df652",
            "max": 81000,
            "min": 0,
            "orientation": "horizontal",
            "style": "IPY_MODEL_6b0bf71f84834bd48a92ccf131d915cd",
            "value": 81000
          }
        },
        "d20e06ca6f504dda86841c2c39f6d72c": {
          "model_module": "@jupyter-widgets/controls",
          "model_name": "HTMLModel",
          "model_module_version": "1.5.0",
          "state": {
            "_dom_classes": [],
            "_model_module": "@jupyter-widgets/controls",
            "_model_module_version": "1.5.0",
            "_model_name": "HTMLModel",
            "_view_count": null,
            "_view_module": "@jupyter-widgets/controls",
            "_view_module_version": "1.5.0",
            "_view_name": "HTMLView",
            "description": "",
            "description_tooltip": null,
            "layout": "IPY_MODEL_4d544527b5bd4955acea754e4bad4555",
            "placeholder": "​",
            "style": "IPY_MODEL_cad34ce570a3438cb9753d3a795fc62a",
            "value": " 81000/81000 [00:12&lt;00:00, 6815.53ex/s]"
          }
        },
        "d90682d2e5e04227b579b5ec9f99413a": {
          "model_module": "@jupyter-widgets/base",
          "model_name": "LayoutModel",
          "model_module_version": "1.2.0",
          "state": {
            "_model_module": "@jupyter-widgets/base",
            "_model_module_version": "1.2.0",
            "_model_name": "LayoutModel",
            "_view_count": null,
            "_view_module": "@jupyter-widgets/base",
            "_view_module_version": "1.2.0",
            "_view_name": "LayoutView",
            "align_content": null,
            "align_items": null,
            "align_self": null,
            "border": null,
            "bottom": null,
            "display": null,
            "flex": null,
            "flex_flow": null,
            "grid_area": null,
            "grid_auto_columns": null,
            "grid_auto_flow": null,
            "grid_auto_rows": null,
            "grid_column": null,
            "grid_gap": null,
            "grid_row": null,
            "grid_template_areas": null,
            "grid_template_columns": null,
            "grid_template_rows": null,
            "height": null,
            "justify_content": null,
            "justify_items": null,
            "left": null,
            "margin": null,
            "max_height": null,
            "max_width": null,
            "min_height": null,
            "min_width": null,
            "object_fit": null,
            "object_position": null,
            "order": null,
            "overflow": null,
            "overflow_x": null,
            "overflow_y": null,
            "padding": null,
            "right": null,
            "top": null,
            "visibility": null,
            "width": null
          }
        },
        "62b853f2f27948db8e3988ad1393a383": {
          "model_module": "@jupyter-widgets/base",
          "model_name": "LayoutModel",
          "model_module_version": "1.2.0",
          "state": {
            "_model_module": "@jupyter-widgets/base",
            "_model_module_version": "1.2.0",
            "_model_name": "LayoutModel",
            "_view_count": null,
            "_view_module": "@jupyter-widgets/base",
            "_view_module_version": "1.2.0",
            "_view_name": "LayoutView",
            "align_content": null,
            "align_items": null,
            "align_self": null,
            "border": null,
            "bottom": null,
            "display": null,
            "flex": null,
            "flex_flow": null,
            "grid_area": null,
            "grid_auto_columns": null,
            "grid_auto_flow": null,
            "grid_auto_rows": null,
            "grid_column": null,
            "grid_gap": null,
            "grid_row": null,
            "grid_template_areas": null,
            "grid_template_columns": null,
            "grid_template_rows": null,
            "height": null,
            "justify_content": null,
            "justify_items": null,
            "left": null,
            "margin": null,
            "max_height": null,
            "max_width": null,
            "min_height": null,
            "min_width": null,
            "object_fit": null,
            "object_position": null,
            "order": null,
            "overflow": null,
            "overflow_x": null,
            "overflow_y": null,
            "padding": null,
            "right": null,
            "top": null,
            "visibility": null,
            "width": null
          }
        },
        "0b24cb1adf124e05b5cc2a7877ada8df": {
          "model_module": "@jupyter-widgets/controls",
          "model_name": "DescriptionStyleModel",
          "model_module_version": "1.5.0",
          "state": {
            "_model_module": "@jupyter-widgets/controls",
            "_model_module_version": "1.5.0",
            "_model_name": "DescriptionStyleModel",
            "_view_count": null,
            "_view_module": "@jupyter-widgets/base",
            "_view_module_version": "1.2.0",
            "_view_name": "StyleView",
            "description_width": ""
          }
        },
        "bbbd9eebeaab4fa2afce80f35a1df652": {
          "model_module": "@jupyter-widgets/base",
          "model_name": "LayoutModel",
          "model_module_version": "1.2.0",
          "state": {
            "_model_module": "@jupyter-widgets/base",
            "_model_module_version": "1.2.0",
            "_model_name": "LayoutModel",
            "_view_count": null,
            "_view_module": "@jupyter-widgets/base",
            "_view_module_version": "1.2.0",
            "_view_name": "LayoutView",
            "align_content": null,
            "align_items": null,
            "align_self": null,
            "border": null,
            "bottom": null,
            "display": null,
            "flex": null,
            "flex_flow": null,
            "grid_area": null,
            "grid_auto_columns": null,
            "grid_auto_flow": null,
            "grid_auto_rows": null,
            "grid_column": null,
            "grid_gap": null,
            "grid_row": null,
            "grid_template_areas": null,
            "grid_template_columns": null,
            "grid_template_rows": null,
            "height": null,
            "justify_content": null,
            "justify_items": null,
            "left": null,
            "margin": null,
            "max_height": null,
            "max_width": null,
            "min_height": null,
            "min_width": null,
            "object_fit": null,
            "object_position": null,
            "order": null,
            "overflow": null,
            "overflow_x": null,
            "overflow_y": null,
            "padding": null,
            "right": null,
            "top": null,
            "visibility": null,
            "width": null
          }
        },
        "6b0bf71f84834bd48a92ccf131d915cd": {
          "model_module": "@jupyter-widgets/controls",
          "model_name": "ProgressStyleModel",
          "model_module_version": "1.5.0",
          "state": {
            "_model_module": "@jupyter-widgets/controls",
            "_model_module_version": "1.5.0",
            "_model_name": "ProgressStyleModel",
            "_view_count": null,
            "_view_module": "@jupyter-widgets/base",
            "_view_module_version": "1.2.0",
            "_view_name": "StyleView",
            "bar_color": null,
            "description_width": ""
          }
        },
        "4d544527b5bd4955acea754e4bad4555": {
          "model_module": "@jupyter-widgets/base",
          "model_name": "LayoutModel",
          "model_module_version": "1.2.0",
          "state": {
            "_model_module": "@jupyter-widgets/base",
            "_model_module_version": "1.2.0",
            "_model_name": "LayoutModel",
            "_view_count": null,
            "_view_module": "@jupyter-widgets/base",
            "_view_module_version": "1.2.0",
            "_view_name": "LayoutView",
            "align_content": null,
            "align_items": null,
            "align_self": null,
            "border": null,
            "bottom": null,
            "display": null,
            "flex": null,
            "flex_flow": null,
            "grid_area": null,
            "grid_auto_columns": null,
            "grid_auto_flow": null,
            "grid_auto_rows": null,
            "grid_column": null,
            "grid_gap": null,
            "grid_row": null,
            "grid_template_areas": null,
            "grid_template_columns": null,
            "grid_template_rows": null,
            "height": null,
            "justify_content": null,
            "justify_items": null,
            "left": null,
            "margin": null,
            "max_height": null,
            "max_width": null,
            "min_height": null,
            "min_width": null,
            "object_fit": null,
            "object_position": null,
            "order": null,
            "overflow": null,
            "overflow_x": null,
            "overflow_y": null,
            "padding": null,
            "right": null,
            "top": null,
            "visibility": null,
            "width": null
          }
        },
        "cad34ce570a3438cb9753d3a795fc62a": {
          "model_module": "@jupyter-widgets/controls",
          "model_name": "DescriptionStyleModel",
          "model_module_version": "1.5.0",
          "state": {
            "_model_module": "@jupyter-widgets/controls",
            "_model_module_version": "1.5.0",
            "_model_name": "DescriptionStyleModel",
            "_view_count": null,
            "_view_module": "@jupyter-widgets/base",
            "_view_module_version": "1.2.0",
            "_view_name": "StyleView",
            "description_width": ""
          }
        },
        "de5106beb1154eaea2bb7d3184266011": {
          "model_module": "@jupyter-widgets/controls",
          "model_name": "HBoxModel",
          "model_module_version": "1.5.0",
          "state": {
            "_dom_classes": [],
            "_model_module": "@jupyter-widgets/controls",
            "_model_module_version": "1.5.0",
            "_model_name": "HBoxModel",
            "_view_count": null,
            "_view_module": "@jupyter-widgets/controls",
            "_view_module_version": "1.5.0",
            "_view_name": "HBoxView",
            "box_style": "",
            "children": [
              "IPY_MODEL_502fc58b157f4f3ab81e6eb975ba63aa",
              "IPY_MODEL_6a636b37fa2340df899409cbd7f5e529",
              "IPY_MODEL_f402a08aa4ca4f6381200888791ffedb"
            ],
            "layout": "IPY_MODEL_63d007a885c949598410895c850f8022"
          }
        },
        "502fc58b157f4f3ab81e6eb975ba63aa": {
          "model_module": "@jupyter-widgets/controls",
          "model_name": "HTMLModel",
          "model_module_version": "1.5.0",
          "state": {
            "_dom_classes": [],
            "_model_module": "@jupyter-widgets/controls",
            "_model_module_version": "1.5.0",
            "_model_name": "HTMLModel",
            "_view_count": null,
            "_view_module": "@jupyter-widgets/controls",
            "_view_module_version": "1.5.0",
            "_view_name": "HTMLView",
            "description": "",
            "description_tooltip": null,
            "layout": "IPY_MODEL_1f4c0a9f1f244ea09879e29f2f7b7ad8",
            "placeholder": "​",
            "style": "IPY_MODEL_83afbb22c4e04bfd94e7c9455ab76e6c",
            "value": "100%"
          }
        },
        "6a636b37fa2340df899409cbd7f5e529": {
          "model_module": "@jupyter-widgets/controls",
          "model_name": "FloatProgressModel",
          "model_module_version": "1.5.0",
          "state": {
            "_dom_classes": [],
            "_model_module": "@jupyter-widgets/controls",
            "_model_module_version": "1.5.0",
            "_model_name": "FloatProgressModel",
            "_view_count": null,
            "_view_module": "@jupyter-widgets/controls",
            "_view_module_version": "1.5.0",
            "_view_name": "ProgressView",
            "bar_style": "success",
            "description": "",
            "description_tooltip": null,
            "layout": "IPY_MODEL_de96daf6ce7e47cbb01e11762c5520b3",
            "max": 9000,
            "min": 0,
            "orientation": "horizontal",
            "style": "IPY_MODEL_52b2a557d5b8422396d57b37efddadf2",
            "value": 9000
          }
        },
        "f402a08aa4ca4f6381200888791ffedb": {
          "model_module": "@jupyter-widgets/controls",
          "model_name": "HTMLModel",
          "model_module_version": "1.5.0",
          "state": {
            "_dom_classes": [],
            "_model_module": "@jupyter-widgets/controls",
            "_model_module_version": "1.5.0",
            "_model_name": "HTMLModel",
            "_view_count": null,
            "_view_module": "@jupyter-widgets/controls",
            "_view_module_version": "1.5.0",
            "_view_name": "HTMLView",
            "description": "",
            "description_tooltip": null,
            "layout": "IPY_MODEL_e250e9bbc3e9419e80618d2e18fcaea3",
            "placeholder": "​",
            "style": "IPY_MODEL_8a675db8287c4146bf99e605d3561a1d",
            "value": " 9000/9000 [00:01&lt;00:00, 6898.55ex/s]"
          }
        },
        "63d007a885c949598410895c850f8022": {
          "model_module": "@jupyter-widgets/base",
          "model_name": "LayoutModel",
          "model_module_version": "1.2.0",
          "state": {
            "_model_module": "@jupyter-widgets/base",
            "_model_module_version": "1.2.0",
            "_model_name": "LayoutModel",
            "_view_count": null,
            "_view_module": "@jupyter-widgets/base",
            "_view_module_version": "1.2.0",
            "_view_name": "LayoutView",
            "align_content": null,
            "align_items": null,
            "align_self": null,
            "border": null,
            "bottom": null,
            "display": null,
            "flex": null,
            "flex_flow": null,
            "grid_area": null,
            "grid_auto_columns": null,
            "grid_auto_flow": null,
            "grid_auto_rows": null,
            "grid_column": null,
            "grid_gap": null,
            "grid_row": null,
            "grid_template_areas": null,
            "grid_template_columns": null,
            "grid_template_rows": null,
            "height": null,
            "justify_content": null,
            "justify_items": null,
            "left": null,
            "margin": null,
            "max_height": null,
            "max_width": null,
            "min_height": null,
            "min_width": null,
            "object_fit": null,
            "object_position": null,
            "order": null,
            "overflow": null,
            "overflow_x": null,
            "overflow_y": null,
            "padding": null,
            "right": null,
            "top": null,
            "visibility": null,
            "width": null
          }
        },
        "1f4c0a9f1f244ea09879e29f2f7b7ad8": {
          "model_module": "@jupyter-widgets/base",
          "model_name": "LayoutModel",
          "model_module_version": "1.2.0",
          "state": {
            "_model_module": "@jupyter-widgets/base",
            "_model_module_version": "1.2.0",
            "_model_name": "LayoutModel",
            "_view_count": null,
            "_view_module": "@jupyter-widgets/base",
            "_view_module_version": "1.2.0",
            "_view_name": "LayoutView",
            "align_content": null,
            "align_items": null,
            "align_self": null,
            "border": null,
            "bottom": null,
            "display": null,
            "flex": null,
            "flex_flow": null,
            "grid_area": null,
            "grid_auto_columns": null,
            "grid_auto_flow": null,
            "grid_auto_rows": null,
            "grid_column": null,
            "grid_gap": null,
            "grid_row": null,
            "grid_template_areas": null,
            "grid_template_columns": null,
            "grid_template_rows": null,
            "height": null,
            "justify_content": null,
            "justify_items": null,
            "left": null,
            "margin": null,
            "max_height": null,
            "max_width": null,
            "min_height": null,
            "min_width": null,
            "object_fit": null,
            "object_position": null,
            "order": null,
            "overflow": null,
            "overflow_x": null,
            "overflow_y": null,
            "padding": null,
            "right": null,
            "top": null,
            "visibility": null,
            "width": null
          }
        },
        "83afbb22c4e04bfd94e7c9455ab76e6c": {
          "model_module": "@jupyter-widgets/controls",
          "model_name": "DescriptionStyleModel",
          "model_module_version": "1.5.0",
          "state": {
            "_model_module": "@jupyter-widgets/controls",
            "_model_module_version": "1.5.0",
            "_model_name": "DescriptionStyleModel",
            "_view_count": null,
            "_view_module": "@jupyter-widgets/base",
            "_view_module_version": "1.2.0",
            "_view_name": "StyleView",
            "description_width": ""
          }
        },
        "de96daf6ce7e47cbb01e11762c5520b3": {
          "model_module": "@jupyter-widgets/base",
          "model_name": "LayoutModel",
          "model_module_version": "1.2.0",
          "state": {
            "_model_module": "@jupyter-widgets/base",
            "_model_module_version": "1.2.0",
            "_model_name": "LayoutModel",
            "_view_count": null,
            "_view_module": "@jupyter-widgets/base",
            "_view_module_version": "1.2.0",
            "_view_name": "LayoutView",
            "align_content": null,
            "align_items": null,
            "align_self": null,
            "border": null,
            "bottom": null,
            "display": null,
            "flex": null,
            "flex_flow": null,
            "grid_area": null,
            "grid_auto_columns": null,
            "grid_auto_flow": null,
            "grid_auto_rows": null,
            "grid_column": null,
            "grid_gap": null,
            "grid_row": null,
            "grid_template_areas": null,
            "grid_template_columns": null,
            "grid_template_rows": null,
            "height": null,
            "justify_content": null,
            "justify_items": null,
            "left": null,
            "margin": null,
            "max_height": null,
            "max_width": null,
            "min_height": null,
            "min_width": null,
            "object_fit": null,
            "object_position": null,
            "order": null,
            "overflow": null,
            "overflow_x": null,
            "overflow_y": null,
            "padding": null,
            "right": null,
            "top": null,
            "visibility": null,
            "width": null
          }
        },
        "52b2a557d5b8422396d57b37efddadf2": {
          "model_module": "@jupyter-widgets/controls",
          "model_name": "ProgressStyleModel",
          "model_module_version": "1.5.0",
          "state": {
            "_model_module": "@jupyter-widgets/controls",
            "_model_module_version": "1.5.0",
            "_model_name": "ProgressStyleModel",
            "_view_count": null,
            "_view_module": "@jupyter-widgets/base",
            "_view_module_version": "1.2.0",
            "_view_name": "StyleView",
            "bar_color": null,
            "description_width": ""
          }
        },
        "e250e9bbc3e9419e80618d2e18fcaea3": {
          "model_module": "@jupyter-widgets/base",
          "model_name": "LayoutModel",
          "model_module_version": "1.2.0",
          "state": {
            "_model_module": "@jupyter-widgets/base",
            "_model_module_version": "1.2.0",
            "_model_name": "LayoutModel",
            "_view_count": null,
            "_view_module": "@jupyter-widgets/base",
            "_view_module_version": "1.2.0",
            "_view_name": "LayoutView",
            "align_content": null,
            "align_items": null,
            "align_self": null,
            "border": null,
            "bottom": null,
            "display": null,
            "flex": null,
            "flex_flow": null,
            "grid_area": null,
            "grid_auto_columns": null,
            "grid_auto_flow": null,
            "grid_auto_rows": null,
            "grid_column": null,
            "grid_gap": null,
            "grid_row": null,
            "grid_template_areas": null,
            "grid_template_columns": null,
            "grid_template_rows": null,
            "height": null,
            "justify_content": null,
            "justify_items": null,
            "left": null,
            "margin": null,
            "max_height": null,
            "max_width": null,
            "min_height": null,
            "min_width": null,
            "object_fit": null,
            "object_position": null,
            "order": null,
            "overflow": null,
            "overflow_x": null,
            "overflow_y": null,
            "padding": null,
            "right": null,
            "top": null,
            "visibility": null,
            "width": null
          }
        },
        "8a675db8287c4146bf99e605d3561a1d": {
          "model_module": "@jupyter-widgets/controls",
          "model_name": "DescriptionStyleModel",
          "model_module_version": "1.5.0",
          "state": {
            "_model_module": "@jupyter-widgets/controls",
            "_model_module_version": "1.5.0",
            "_model_name": "DescriptionStyleModel",
            "_view_count": null,
            "_view_module": "@jupyter-widgets/base",
            "_view_module_version": "1.2.0",
            "_view_name": "StyleView",
            "description_width": ""
          }
        },
        "b3b2499c5a614e38b5bc810c5ba3f2b9": {
          "model_module": "@jupyter-widgets/controls",
          "model_name": "HBoxModel",
          "model_module_version": "1.5.0",
          "state": {
            "_dom_classes": [],
            "_model_module": "@jupyter-widgets/controls",
            "_model_module_version": "1.5.0",
            "_model_name": "HBoxModel",
            "_view_count": null,
            "_view_module": "@jupyter-widgets/controls",
            "_view_module_version": "1.5.0",
            "_view_name": "HBoxView",
            "box_style": "",
            "children": [
              "IPY_MODEL_d7c1a71b80d34d65b902bf667040153c",
              "IPY_MODEL_94c4ac4b047c478e914c65da7af3b7a9",
              "IPY_MODEL_336e4851025e4d8b8e63c91301e3f396"
            ],
            "layout": "IPY_MODEL_497c422a7bb54b3a9e06daafe6e237e9"
          }
        },
        "d7c1a71b80d34d65b902bf667040153c": {
          "model_module": "@jupyter-widgets/controls",
          "model_name": "HTMLModel",
          "model_module_version": "1.5.0",
          "state": {
            "_dom_classes": [],
            "_model_module": "@jupyter-widgets/controls",
            "_model_module_version": "1.5.0",
            "_model_name": "HTMLModel",
            "_view_count": null,
            "_view_module": "@jupyter-widgets/controls",
            "_view_module_version": "1.5.0",
            "_view_name": "HTMLView",
            "description": "",
            "description_tooltip": null,
            "layout": "IPY_MODEL_7d1deebfe51e49f3a3e1a7cae91c86e5",
            "placeholder": "​",
            "style": "IPY_MODEL_1c58b64018a44b8189fc4792c2ede0f6",
            "value": "100%"
          }
        },
        "94c4ac4b047c478e914c65da7af3b7a9": {
          "model_module": "@jupyter-widgets/controls",
          "model_name": "FloatProgressModel",
          "model_module_version": "1.5.0",
          "state": {
            "_dom_classes": [],
            "_model_module": "@jupyter-widgets/controls",
            "_model_module_version": "1.5.0",
            "_model_name": "FloatProgressModel",
            "_view_count": null,
            "_view_module": "@jupyter-widgets/controls",
            "_view_module_version": "1.5.0",
            "_view_name": "ProgressView",
            "bar_style": "success",
            "description": "",
            "description_tooltip": null,
            "layout": "IPY_MODEL_4d1cd7baca58497fab24803051565dc0",
            "max": 9000,
            "min": 0,
            "orientation": "horizontal",
            "style": "IPY_MODEL_3a5102ac90114c46978dc068060df1f3",
            "value": 9000
          }
        },
        "336e4851025e4d8b8e63c91301e3f396": {
          "model_module": "@jupyter-widgets/controls",
          "model_name": "HTMLModel",
          "model_module_version": "1.5.0",
          "state": {
            "_dom_classes": [],
            "_model_module": "@jupyter-widgets/controls",
            "_model_module_version": "1.5.0",
            "_model_name": "HTMLModel",
            "_view_count": null,
            "_view_module": "@jupyter-widgets/controls",
            "_view_module_version": "1.5.0",
            "_view_name": "HTMLView",
            "description": "",
            "description_tooltip": null,
            "layout": "IPY_MODEL_6eae0381855545eca9d20a630eac5c49",
            "placeholder": "​",
            "style": "IPY_MODEL_9bd145303f434478a7a33f45dba434d3",
            "value": " 9000/9000 [00:01&lt;00:00, 7073.79ex/s]"
          }
        },
        "497c422a7bb54b3a9e06daafe6e237e9": {
          "model_module": "@jupyter-widgets/base",
          "model_name": "LayoutModel",
          "model_module_version": "1.2.0",
          "state": {
            "_model_module": "@jupyter-widgets/base",
            "_model_module_version": "1.2.0",
            "_model_name": "LayoutModel",
            "_view_count": null,
            "_view_module": "@jupyter-widgets/base",
            "_view_module_version": "1.2.0",
            "_view_name": "LayoutView",
            "align_content": null,
            "align_items": null,
            "align_self": null,
            "border": null,
            "bottom": null,
            "display": null,
            "flex": null,
            "flex_flow": null,
            "grid_area": null,
            "grid_auto_columns": null,
            "grid_auto_flow": null,
            "grid_auto_rows": null,
            "grid_column": null,
            "grid_gap": null,
            "grid_row": null,
            "grid_template_areas": null,
            "grid_template_columns": null,
            "grid_template_rows": null,
            "height": null,
            "justify_content": null,
            "justify_items": null,
            "left": null,
            "margin": null,
            "max_height": null,
            "max_width": null,
            "min_height": null,
            "min_width": null,
            "object_fit": null,
            "object_position": null,
            "order": null,
            "overflow": null,
            "overflow_x": null,
            "overflow_y": null,
            "padding": null,
            "right": null,
            "top": null,
            "visibility": null,
            "width": null
          }
        },
        "7d1deebfe51e49f3a3e1a7cae91c86e5": {
          "model_module": "@jupyter-widgets/base",
          "model_name": "LayoutModel",
          "model_module_version": "1.2.0",
          "state": {
            "_model_module": "@jupyter-widgets/base",
            "_model_module_version": "1.2.0",
            "_model_name": "LayoutModel",
            "_view_count": null,
            "_view_module": "@jupyter-widgets/base",
            "_view_module_version": "1.2.0",
            "_view_name": "LayoutView",
            "align_content": null,
            "align_items": null,
            "align_self": null,
            "border": null,
            "bottom": null,
            "display": null,
            "flex": null,
            "flex_flow": null,
            "grid_area": null,
            "grid_auto_columns": null,
            "grid_auto_flow": null,
            "grid_auto_rows": null,
            "grid_column": null,
            "grid_gap": null,
            "grid_row": null,
            "grid_template_areas": null,
            "grid_template_columns": null,
            "grid_template_rows": null,
            "height": null,
            "justify_content": null,
            "justify_items": null,
            "left": null,
            "margin": null,
            "max_height": null,
            "max_width": null,
            "min_height": null,
            "min_width": null,
            "object_fit": null,
            "object_position": null,
            "order": null,
            "overflow": null,
            "overflow_x": null,
            "overflow_y": null,
            "padding": null,
            "right": null,
            "top": null,
            "visibility": null,
            "width": null
          }
        },
        "1c58b64018a44b8189fc4792c2ede0f6": {
          "model_module": "@jupyter-widgets/controls",
          "model_name": "DescriptionStyleModel",
          "model_module_version": "1.5.0",
          "state": {
            "_model_module": "@jupyter-widgets/controls",
            "_model_module_version": "1.5.0",
            "_model_name": "DescriptionStyleModel",
            "_view_count": null,
            "_view_module": "@jupyter-widgets/base",
            "_view_module_version": "1.2.0",
            "_view_name": "StyleView",
            "description_width": ""
          }
        },
        "4d1cd7baca58497fab24803051565dc0": {
          "model_module": "@jupyter-widgets/base",
          "model_name": "LayoutModel",
          "model_module_version": "1.2.0",
          "state": {
            "_model_module": "@jupyter-widgets/base",
            "_model_module_version": "1.2.0",
            "_model_name": "LayoutModel",
            "_view_count": null,
            "_view_module": "@jupyter-widgets/base",
            "_view_module_version": "1.2.0",
            "_view_name": "LayoutView",
            "align_content": null,
            "align_items": null,
            "align_self": null,
            "border": null,
            "bottom": null,
            "display": null,
            "flex": null,
            "flex_flow": null,
            "grid_area": null,
            "grid_auto_columns": null,
            "grid_auto_flow": null,
            "grid_auto_rows": null,
            "grid_column": null,
            "grid_gap": null,
            "grid_row": null,
            "grid_template_areas": null,
            "grid_template_columns": null,
            "grid_template_rows": null,
            "height": null,
            "justify_content": null,
            "justify_items": null,
            "left": null,
            "margin": null,
            "max_height": null,
            "max_width": null,
            "min_height": null,
            "min_width": null,
            "object_fit": null,
            "object_position": null,
            "order": null,
            "overflow": null,
            "overflow_x": null,
            "overflow_y": null,
            "padding": null,
            "right": null,
            "top": null,
            "visibility": null,
            "width": null
          }
        },
        "3a5102ac90114c46978dc068060df1f3": {
          "model_module": "@jupyter-widgets/controls",
          "model_name": "ProgressStyleModel",
          "model_module_version": "1.5.0",
          "state": {
            "_model_module": "@jupyter-widgets/controls",
            "_model_module_version": "1.5.0",
            "_model_name": "ProgressStyleModel",
            "_view_count": null,
            "_view_module": "@jupyter-widgets/base",
            "_view_module_version": "1.2.0",
            "_view_name": "StyleView",
            "bar_color": null,
            "description_width": ""
          }
        },
        "6eae0381855545eca9d20a630eac5c49": {
          "model_module": "@jupyter-widgets/base",
          "model_name": "LayoutModel",
          "model_module_version": "1.2.0",
          "state": {
            "_model_module": "@jupyter-widgets/base",
            "_model_module_version": "1.2.0",
            "_model_name": "LayoutModel",
            "_view_count": null,
            "_view_module": "@jupyter-widgets/base",
            "_view_module_version": "1.2.0",
            "_view_name": "LayoutView",
            "align_content": null,
            "align_items": null,
            "align_self": null,
            "border": null,
            "bottom": null,
            "display": null,
            "flex": null,
            "flex_flow": null,
            "grid_area": null,
            "grid_auto_columns": null,
            "grid_auto_flow": null,
            "grid_auto_rows": null,
            "grid_column": null,
            "grid_gap": null,
            "grid_row": null,
            "grid_template_areas": null,
            "grid_template_columns": null,
            "grid_template_rows": null,
            "height": null,
            "justify_content": null,
            "justify_items": null,
            "left": null,
            "margin": null,
            "max_height": null,
            "max_width": null,
            "min_height": null,
            "min_width": null,
            "object_fit": null,
            "object_position": null,
            "order": null,
            "overflow": null,
            "overflow_x": null,
            "overflow_y": null,
            "padding": null,
            "right": null,
            "top": null,
            "visibility": null,
            "width": null
          }
        },
        "9bd145303f434478a7a33f45dba434d3": {
          "model_module": "@jupyter-widgets/controls",
          "model_name": "DescriptionStyleModel",
          "model_module_version": "1.5.0",
          "state": {
            "_model_module": "@jupyter-widgets/controls",
            "_model_module_version": "1.5.0",
            "_model_name": "DescriptionStyleModel",
            "_view_count": null,
            "_view_module": "@jupyter-widgets/base",
            "_view_module_version": "1.2.0",
            "_view_name": "StyleView",
            "description_width": ""
          }
        }
      }
    }
  },
  "nbformat": 4,
  "nbformat_minor": 0
}
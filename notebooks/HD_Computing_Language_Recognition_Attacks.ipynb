{
 "cells": [
  {
   "cell_type": "code",
   "execution_count": 7,
   "metadata": {},
   "outputs": [],
   "source": [
    "### for saving the trained language vector to a file\n",
    "import pickle\n",
    "def save_obj(obj, name ):\n",
    "    with open( 'obj/'+ name + '.pkl', 'wb') as f:\n",
    "        pickle.dump(obj, f, pickle.HIGHEST_PROTOCOL)\n",
    "\n",
    "def load_obj(name ):\n",
    "    with open('obj/' + name + '.pkl', 'rb') as f:\n",
    "        return pickle.load(f)    \n",
    "    \n",
    "lang=[\"bul\",\"deu\",\"eng\",\"dan\",\"fra\",\"ita\",\"nld\",\"pol\",\"ron\"]\n"
   ]
  },
  {
   "cell_type": "code",
   "execution_count": 2,
   "metadata": {},
   "outputs": [
    {
     "data": {
      "text/html": [
       "<div>\n",
       "<style scoped>\n",
       "    .dataframe tbody tr th:only-of-type {\n",
       "        vertical-align: middle;\n",
       "    }\n",
       "\n",
       "    .dataframe tbody tr th {\n",
       "        vertical-align: top;\n",
       "    }\n",
       "\n",
       "    .dataframe thead th {\n",
       "        text-align: right;\n",
       "    }\n",
       "</style>\n",
       "<table border=\"1\" class=\"dataframe\">\n",
       "  <thead>\n",
       "    <tr style=\"text-align: right;\">\n",
       "      <th></th>\n",
       "      <th>text</th>\n",
       "      <th>class</th>\n",
       "      <th>lang</th>\n",
       "    </tr>\n",
       "  </thead>\n",
       "  <tbody>\n",
       "    <tr>\n",
       "      <th>0</th>\n",
       "      <td>10 fakta za Dzhanet Iel'n - zhenata, koiato ve...</td>\n",
       "      <td>0</td>\n",
       "      <td>bul</td>\n",
       "    </tr>\n",
       "    <tr>\n",
       "      <th>1</th>\n",
       "      <td>11. Nie viarvame, che edna znachitelna chast o...</td>\n",
       "      <td>0</td>\n",
       "      <td>bul</td>\n",
       "    </tr>\n",
       "    <tr>\n",
       "      <th>2</th>\n",
       "      <td>120 khil. lv. biakha otkradnati kato na kino o...</td>\n",
       "      <td>0</td>\n",
       "      <td>bul</td>\n",
       "    </tr>\n",
       "    <tr>\n",
       "      <th>3</th>\n",
       "      <td>12:10 - t'rsiat Karbovski ot Sofiiskiia univer...</td>\n",
       "      <td>0</td>\n",
       "      <td>bul</td>\n",
       "    </tr>\n",
       "    <tr>\n",
       "      <th>4</th>\n",
       "      <td>12-godishno momichentse se obesi chas sled igr...</td>\n",
       "      <td>0</td>\n",
       "      <td>bul</td>\n",
       "    </tr>\n",
       "    <tr>\n",
       "      <th>...</th>\n",
       "      <td>...</td>\n",
       "      <td>...</td>\n",
       "      <td>...</td>\n",
       "    </tr>\n",
       "    <tr>\n",
       "      <th>80995</th>\n",
       "      <td>Stirile judetului BihorStiri inter(nationale)C...</td>\n",
       "      <td>8</td>\n",
       "      <td>ron</td>\n",
       "    </tr>\n",
       "    <tr>\n",
       "      <th>80996</th>\n",
       "      <td>Stirile judetului BihorStiri inter(nationale)C...</td>\n",
       "      <td>8</td>\n",
       "      <td>ron</td>\n",
       "    </tr>\n",
       "    <tr>\n",
       "      <th>80997</th>\n",
       "      <td>Stirile judetului BihorStiri inter(nationale)C...</td>\n",
       "      <td>8</td>\n",
       "      <td>ron</td>\n",
       "    </tr>\n",
       "    <tr>\n",
       "      <th>80998</th>\n",
       "      <td>Stirile judetului BihorStiri inter(nationale)C...</td>\n",
       "      <td>8</td>\n",
       "      <td>ron</td>\n",
       "    </tr>\n",
       "    <tr>\n",
       "      <th>80999</th>\n",
       "      <td>Stirile judetului BihorStiri inter(nationale)C...</td>\n",
       "      <td>8</td>\n",
       "      <td>ron</td>\n",
       "    </tr>\n",
       "  </tbody>\n",
       "</table>\n",
       "<p>81000 rows × 3 columns</p>\n",
       "</div>"
      ],
      "text/plain": [
       "                                                    text  class lang\n",
       "0      10 fakta za Dzhanet Iel'n - zhenata, koiato ve...      0  bul\n",
       "1      11. Nie viarvame, che edna znachitelna chast o...      0  bul\n",
       "2      120 khil. lv. biakha otkradnati kato na kino o...      0  bul\n",
       "3      12:10 - t'rsiat Karbovski ot Sofiiskiia univer...      0  bul\n",
       "4      12-godishno momichentse se obesi chas sled igr...      0  bul\n",
       "...                                                  ...    ...  ...\n",
       "80995  Stirile judetului BihorStiri inter(nationale)C...      8  ron\n",
       "80996  Stirile judetului BihorStiri inter(nationale)C...      8  ron\n",
       "80997  Stirile judetului BihorStiri inter(nationale)C...      8  ron\n",
       "80998  Stirile judetului BihorStiri inter(nationale)C...      8  ron\n",
       "80999  Stirile judetului BihorStiri inter(nationale)C...      8  ron\n",
       "\n",
       "[81000 rows x 3 columns]"
      ]
     },
     "execution_count": 2,
     "metadata": {},
     "output_type": "execute_result"
    }
   ],
   "source": [
    "import re\n",
    "from itertools import product \n",
    "import string\n",
    "import random\n",
    "import numpy as np\n",
    "from os import listdir\n",
    "from os.path import isfile, join\n",
    "from unidecode import unidecode\n",
    "from tqdm import notebook as nb\n",
    "from numpy import dot\n",
    "from numpy.linalg import norm\n",
    "from scipy import spatial\n",
    "import sys\n",
    "from tqdm.notebook import  tqdm\n",
    "randomSeed=int(1e9)+7\n",
    "import pandas as pd\n",
    "\n",
    "path = \"data/train_data\"\n",
    "onlyfiles = [f for f in listdir(path) if isfile(join(path, f))]\n",
    "class_list = []\n",
    "temp=[]\n",
    "lang_list = []\n",
    "\n",
    "temp_test = []\n",
    "test_class_list = []\n",
    "test_lang_list = []\n",
    "# {\"bul\": 0, \"deu\":1, \"eng\":2, \"dan\":3, \"fra\":4, \"ita\":5, \"nld\":6, \"pol\":7, \"ron\":8}\n",
    "for file in onlyfiles:\n",
    "    counter = 0\n",
    "    file_name = file\n",
    "    class_name = file_name.split(\"_\")[0]\n",
    "    class_name_int = 0\n",
    "    if 'bul' == class_name:\n",
    "        class_name_int = 0\n",
    "    elif 'deu' == class_name:\n",
    "        class_name_int = 1\n",
    "    elif 'eng' == class_name:\n",
    "        class_name_int = 2\n",
    "    elif 'dan' == class_name:\n",
    "        class_name_int = 3\n",
    "    elif 'fra' == class_name:\n",
    "        class_name_int = 4\n",
    "    elif 'ita' == class_name:\n",
    "        class_name_int = 5\n",
    "    elif 'nld' == class_name:\n",
    "        class_name_int = 6\n",
    "    elif 'pol' == class_name:\n",
    "        class_name_int = 7\n",
    "    else:\n",
    "        class_name_int = 8\n",
    "            \n",
    "    with open(path+\"/\"+file, encoding='utf-8') as f:\n",
    "        for line in f:\n",
    "            decoded = unidecode(line)\n",
    "            decoded = decoded.split(\"\\t\")[1]\n",
    "            counter = counter + 1\n",
    "            if counter <= 9000:\n",
    "                temp.append(decoded)\n",
    "                class_list.append(class_name_int)\n",
    "                lang_list.append(class_name)\n",
    "            else:\n",
    "                temp_test.append(decoded)\n",
    "                test_class_list.append(class_name_int)\n",
    "                test_lang_list.append(class_name)\n",
    "\n",
    "df_train = pd.DataFrame(temp, columns =['text'])\n",
    "df_train['class'] = class_list \n",
    "df_train['lang'] = lang_list \n",
    "df_train.to_csv(\"train_dataset_final_1.csv\")\n",
    "\n",
    "df_train"
   ]
  },
  {
   "cell_type": "code",
   "execution_count": 25,
   "metadata": {},
   "outputs": [
    {
     "data": {
      "text/html": [
       "<div>\n",
       "<style scoped>\n",
       "    .dataframe tbody tr th:only-of-type {\n",
       "        vertical-align: middle;\n",
       "    }\n",
       "\n",
       "    .dataframe tbody tr th {\n",
       "        vertical-align: top;\n",
       "    }\n",
       "\n",
       "    .dataframe thead th {\n",
       "        text-align: right;\n",
       "    }\n",
       "</style>\n",
       "<table border=\"1\" class=\"dataframe\">\n",
       "  <thead>\n",
       "    <tr style=\"text-align: right;\">\n",
       "      <th></th>\n",
       "      <th>text</th>\n",
       "      <th>class</th>\n",
       "      <th>lang</th>\n",
       "    </tr>\n",
       "  </thead>\n",
       "  <tbody>\n",
       "    <tr>\n",
       "      <th>0</th>\n",
       "      <td>Tova s'obshchi vchera shefkata Vsichki prava z...</td>\n",
       "      <td>0</td>\n",
       "      <td>bul</td>\n",
       "    </tr>\n",
       "    <tr>\n",
       "      <th>1</th>\n",
       "      <td>Tova s'obshchi govoriteliat na TsIK Kameliia N...</td>\n",
       "      <td>0</td>\n",
       "      <td>bul</td>\n",
       "    </tr>\n",
       "    <tr>\n",
       "      <th>2</th>\n",
       "      <td>Tova s'obshchi za dezhurniiat sinoptik Martin ...</td>\n",
       "      <td>0</td>\n",
       "      <td>bul</td>\n",
       "    </tr>\n",
       "    <tr>\n",
       "      <th>3</th>\n",
       "      <td>Tova s'obshchi za Martina Tsvetanova - dezhure...</td>\n",
       "      <td>0</td>\n",
       "      <td>bul</td>\n",
       "    </tr>\n",
       "    <tr>\n",
       "      <th>4</th>\n",
       "      <td>Tova s'obshchi za Radio \"Fokus\" - Varna d-r Pe...</td>\n",
       "      <td>0</td>\n",
       "      <td>bul</td>\n",
       "    </tr>\n",
       "    <tr>\n",
       "      <th>...</th>\n",
       "      <td>...</td>\n",
       "      <td>...</td>\n",
       "      <td>...</td>\n",
       "    </tr>\n",
       "    <tr>\n",
       "      <th>8995</th>\n",
       "      <td>Zwischen Regierungen, Unternehmen, Burgern und...</td>\n",
       "      <td>1</td>\n",
       "      <td>deu</td>\n",
       "    </tr>\n",
       "    <tr>\n",
       "      <th>8996</th>\n",
       "      <td>Zwischen Schloss- und Kaiserstrasse wird sie a...</td>\n",
       "      <td>1</td>\n",
       "      <td>deu</td>\n",
       "    </tr>\n",
       "    <tr>\n",
       "      <th>8997</th>\n",
       "      <td>Zwischen und nach den Auftritten wird die Band...</td>\n",
       "      <td>1</td>\n",
       "      <td>deu</td>\n",
       "    </tr>\n",
       "    <tr>\n",
       "      <th>8998</th>\n",
       "      <td>Zwischenzeitlich rutschte er als Industrieller...</td>\n",
       "      <td>1</td>\n",
       "      <td>deu</td>\n",
       "    </tr>\n",
       "    <tr>\n",
       "      <th>8999</th>\n",
       "      <td>Zypern-Zwangsabgabe schockt FinanzmarkteDer Sc...</td>\n",
       "      <td>1</td>\n",
       "      <td>deu</td>\n",
       "    </tr>\n",
       "  </tbody>\n",
       "</table>\n",
       "<p>9000 rows × 3 columns</p>\n",
       "</div>"
      ],
      "text/plain": [
       "                                                   text  class lang\n",
       "0     Tova s'obshchi vchera shefkata Vsichki prava z...      0  bul\n",
       "1     Tova s'obshchi govoriteliat na TsIK Kameliia N...      0  bul\n",
       "2     Tova s'obshchi za dezhurniiat sinoptik Martin ...      0  bul\n",
       "3     Tova s'obshchi za Martina Tsvetanova - dezhure...      0  bul\n",
       "4     Tova s'obshchi za Radio \"Fokus\" - Varna d-r Pe...      0  bul\n",
       "...                                                 ...    ...  ...\n",
       "8995  Zwischen Regierungen, Unternehmen, Burgern und...      1  deu\n",
       "8996  Zwischen Schloss- und Kaiserstrasse wird sie a...      1  deu\n",
       "8997  Zwischen und nach den Auftritten wird die Band...      1  deu\n",
       "8998  Zwischenzeitlich rutschte er als Industrieller...      1  deu\n",
       "8999  Zypern-Zwangsabgabe schockt FinanzmarkteDer Sc...      1  deu\n",
       "\n",
       "[9000 rows x 3 columns]"
      ]
     },
     "execution_count": 25,
     "metadata": {},
     "output_type": "execute_result"
    }
   ],
   "source": [
    "df_test = pd.DataFrame(temp_test, columns =['text'])\n",
    "df_test['class'] = test_class_list \n",
    "df_test['lang'] = test_lang_list \n",
    "df_test.to_csv(\"test_dataset_final_1.csv\")\n",
    "df_test"
   ]
  },
  {
   "cell_type": "code",
   "execution_count": 8,
   "metadata": {},
   "outputs": [],
   "source": [
    "import pandas as pd\n",
    "df_train = pd.read_csv(\"train_dataset_final.csv\")\n",
    "df_test = pd.read_csv(\"test_dataset_final.csv\")"
   ]
  },
  {
   "cell_type": "code",
   "execution_count": 9,
   "metadata": {},
   "outputs": [],
   "source": [
    "import re\n",
    "from itertools import product \n",
    "import string\n",
    "import random\n",
    "import numpy as np\n",
    "from os import listdir\n",
    "from os.path import isfile, join\n",
    "from unidecode import unidecode\n",
    "from tqdm import notebook as nb\n",
    "from numpy import dot\n",
    "from numpy.linalg import norm\n",
    "from scipy import spatial\n",
    "import sys\n",
    "from tqdm.notebook import  tqdm\n",
    "randomSeed=int(1e9)+7\n",
    "\n",
    "def cosineSimiliraty(a,b):\n",
    "    cos_sim = dot(a, b)/(norm(a)*norm(b))\n",
    "    #cos_sim = 1 - spatial.distance.cosine(a, b)\n",
    "    return cos_sim\n",
    "\n",
    "def filter(text):\n",
    "    text=text.lower()\n",
    "    output_text = re.sub('[^a-z- ]+', '', text)\n",
    "    output_text=output_text.replace('-','')\n",
    "    return output_text\n",
    "\n",
    "def rand_bin_array(d = 10000):\n",
    "    K=d//2\n",
    "    arr = np.ones(d)\n",
    "    arr[K:]  = -1\n",
    "    np.random.shuffle(arr)\n",
    "    return arr\n",
    "    \n",
    "def getAlphabet(d=10000):\n",
    "    alphabet = {} \n",
    "    keys = [i for i in string.ascii_lowercase]+[\" \"] #+[i for i in string.ascii_uppercase]\n",
    "    for i in keys:\n",
    "        alphabet[i]=rand_bin_array(d=d)\n",
    "    return alphabet\n",
    "\n",
    "def genTextVector(text,alphabet,window=4,d=10000):\n",
    "    final = np.zeros(d)\n",
    "    text = list(text)\n",
    "    for i in range(len(text)-window+1):\n",
    "        cur = text[i:i+window]\n",
    "        temp = np.ones(d)\n",
    "        for j in range(1,window+1):\n",
    "            arr = alphabet[cur[j-1]]#.copy()\n",
    "            for k in range(j):\n",
    "                #arr=np.roll(arr, 1)\n",
    "                arr=np.random.RandomState(seed=randomSeed).permutation(arr)\n",
    "            temp*=arr\n",
    "        \n",
    "        final+=temp\n",
    "    return final/np.linalg.norm(final,ord=2)\n",
    "\n",
    "def train():\n",
    "    global lang_vectors\n",
    "    toolbar_width = df_train.shape[0]\n",
    "    print(\"Total samples: \",toolbar_width)\n",
    "\n",
    "    \n",
    "    lang_vectors={}\n",
    "    k=0\n",
    "    with tqdm(total=toolbar_width) as pbar:\n",
    "        for language in lang:\n",
    "            df_lang = df_train[df_train['lang'] == language]\n",
    "            lang_vector = np.zeros(d)\n",
    "            for index, row in df_lang.iterrows():\n",
    "                newText = row['text']\n",
    "                filteredText=filter(newText)\n",
    "                lang_vector+=genTextVector(filteredText,alphabet,d=d)\n",
    "                pbar.update(1)\n",
    "            lang_vectors[language]=lang_vector/np.linalg.norm(lang_vector,ord=2)\n",
    "            k+=1\n",
    "\n",
    "        \n",
    "\n",
    "def test(text):\n",
    "    testFilteredText = genTextVector(filter(text), alphabet)\n",
    "    results = {}\n",
    "    for language in lang:\n",
    "        results[language] = cosineSimiliraty(lang_vectors[language], testFilteredText)\n",
    "        \n",
    "    best=max(results, key=results.get)\n",
    "    return best,results\n",
    "\n",
    "if __name__ == '__main__':\n",
    "    random.seed(randomSeed)\n",
    "    np.random.seed(randomSeed)\n",
    "    d=10000\n",
    "    alphabet = getAlphabet(d=d)\n",
    "    \n",
    "\n"
   ]
  },
  {
   "cell_type": "code",
   "execution_count": 10,
   "metadata": {},
   "outputs": [
    {
     "name": "stdout",
     "output_type": "stream",
     "text": [
      "Total samples:  81000\n"
     ]
    },
    {
     "data": {
      "application/vnd.jupyter.widget-view+json": {
       "model_id": "056faa917c6f442f99e28887146ed5de",
       "version_major": 2,
       "version_minor": 0
      },
      "text/plain": [
       "HBox(children=(FloatProgress(value=0.0, max=81000.0), HTML(value='')))"
      ]
     },
     "metadata": {},
     "output_type": "display_data"
    },
    {
     "name": "stdout",
     "output_type": "stream",
     "text": [
      "\n"
     ]
    }
   ],
   "source": [
    "## If a new training is reqired run this. Train files are saved and can be loaded in next cell\n",
    "\n",
    "train()"
   ]
  },
  {
   "cell_type": "code",
   "execution_count": 31,
   "metadata": {},
   "outputs": [
    {
     "data": {
      "text/plain": [
       "10000"
      ]
     },
     "execution_count": 31,
     "metadata": {},
     "output_type": "execute_result"
    }
   ],
   "source": [
    "len(lang_vectors['bul'])"
   ]
  },
  {
   "cell_type": "code",
   "execution_count": 11,
   "metadata": {},
   "outputs": [],
   "source": [
    "#### Load the lang_vectors file from saved train file\n",
    "\n",
    "save_obj(lang_vectors,\"task_1_9_languages_window_4\")\n",
    "# lang_vectors = load_obj(\"task_1_9_languages_window_4\")"
   ]
  },
  {
   "cell_type": "code",
   "execution_count": 12,
   "metadata": {},
   "outputs": [
    {
     "name": "stdout",
     "output_type": "stream",
     "text": [
      "Best :  eng 0.27094943969029184\n"
     ]
    },
    {
     "data": {
      "text/plain": [
       "{'bul': 0.0513294661834461,\n",
       " 'deu': 0.03426969347629254,\n",
       " 'eng': 0.27094943969029184,\n",
       " 'dan': 0.04503235087658671,\n",
       " 'fra': 0.08363647390545957,\n",
       " 'ita': 0.09354239861637562,\n",
       " 'nld': 0.0435045812929891,\n",
       " 'pol': 0.053096727356183,\n",
       " 'ron': 0.06507935790992074}"
      ]
     },
     "execution_count": 12,
     "metadata": {},
     "output_type": "execute_result"
    }
   ],
   "source": [
    "### test for a individual sample\n",
    "\n",
    "\n",
    "\n",
    "### Bulgarian text\n",
    "#newText=\"120 хил. лв. бяха откраднати като на кино от обменно бюро близо до автогарата в Дулово, след като бандитите - двама маскирани мъже, проследили и нападнали служител, който пренасял в торба пари, съобщиха от прокуратурата.\"\n",
    "\n",
    "### German text\n",
    "# newText=\"Once we demonstrate that aspect of secrecy and we describes how Member State ministers even vote, then those ministers are detained burden back home in their Member States and bitterly national gens feel linkage to all lawsuit European.\"\n",
    "\n",
    "newText = \"About 200 multitude descend out to defend navigate and to dance to the enceinte stria phone of post-war music.\"\n",
    "### English text\n",
    "#newText=\"A 1 Territory government would start, again using world’s best practice to deal with intractable, damaged and lost youth to turn them back into productive citizens and repay their victims for their crimes.\"\n",
    "\n",
    "\n",
    "best,results=test(newText)\n",
    "print(\"Best : \",best,results[best])\n",
    "results"
   ]
  },
  {
   "cell_type": "code",
   "execution_count": null,
   "metadata": {},
   "outputs": [],
   "source": [
    "correct = 0\n",
    "import pandas as pd\n",
    "df_test = pd.read_csv(\"attack_test_data.csv\")\n",
    "\n",
    "for index, row in df_test.iterrows():\n",
    "    best, results=test(row['text'])\n",
    "    if best == row['lang']:\n",
    "        correct = correct + 1\n",
    "        \n",
    "print(\"final accuracy\", correct/200)"
   ]
  },
  {
   "cell_type": "code",
   "execution_count": 25,
   "metadata": {},
   "outputs": [],
   "source": [
    "test_data = []\n",
    "for index, row in df_test.iterrows():\n",
    "    line = row['text']\n",
    "    actual = row['lang']\n",
    "    test_data.append([actual,line])"
   ]
  },
  {
   "cell_type": "code",
   "execution_count": 26,
   "metadata": {},
   "outputs": [
    {
     "name": "stdout",
     "output_type": "stream",
     "text": [
      "Total test data:  9000\n"
     ]
    },
    {
     "data": {
      "application/vnd.jupyter.widget-view+json": {
       "model_id": "f0f8037317414e7787821782b1144f5a",
       "version_major": 2,
       "version_minor": 0
      },
      "text/plain": [
       "HBox(children=(FloatProgress(value=0.0, max=9000.0), HTML(value='')))"
      ]
     },
     "metadata": {},
     "output_type": "display_data"
    },
    {
     "name": "stdout",
     "output_type": "stream",
     "text": [
      "\n"
     ]
    }
   ],
   "source": [
    "\n",
    "\n",
    "total=len(test_data) \n",
    "print(\"Total test data: \",total)\n",
    "\n",
    "final_results = {}\n",
    "for language in lang:\n",
    "    language_list = {}\n",
    "    for language_element in lang:\n",
    "        language_list[language_element] = 0\n",
    "        \n",
    "    final_results[language] = language_list\n",
    "\n",
    "with tqdm(total=total) as pbar:\n",
    "    for line in test_data:\n",
    "        actual = line[0]\n",
    "        text = line[1]\n",
    "        predicted,_= test(text)\n",
    "        final_results[actual][predicted]+=1\n",
    "        pbar.update(1)\n"
   ]
  },
  {
   "cell_type": "code",
   "execution_count": 28,
   "metadata": {
    "scrolled": true
   },
   "outputs": [
    {
     "data": {
      "image/png": "[encoded data removed]",
      "text/plain": [
       "<Figure size 720x576 with 2 Axes>"
      ]
     },
     "metadata": {},
     "output_type": "display_data"
    }
   ],
   "source": [
    "import seaborn as sn\n",
    "import pandas as pd\n",
    "import matplotlib.pyplot as plt\n",
    "sn.set(font_scale=1.4)\n",
    "array = np.array([final_results[x][y] for x in final_results for y in final_results[x] ])\n",
    "array=array.reshape(9,9)\n",
    "df_cm = pd.DataFrame(array, index = [i for i in lang],\n",
    "                  columns = [i for i in lang])\n",
    "\n",
    "plt.figure(figsize = (10,8))\n",
    "\n",
    "\n",
    "sn.heatmap(df_cm, annot=True,fmt='g')\n",
    "plt.title('+1 -1 representation encoding \\n', fontsize=20)\n",
    "plt.xlabel(\"Predicted\", fontsize=18)\n",
    "plt.ylabel(\"Actual\", fontsize=18)\n",
    "plt.show()"
   ]
  },
  {
   "cell_type": "code",
   "execution_count": 29,
   "metadata": {},
   "outputs": [
    {
     "name": "stdout",
     "output_type": "stream",
     "text": [
      "Accuracy :  98.27777777777777%\n"
     ]
    }
   ],
   "source": [
    "tot_correct=0\n",
    "total=0\n",
    "for i in range(9):\n",
    "    for j in range(9):\n",
    "        total+=array[i][j]\n",
    "    tot_correct+=array[i][i]\n",
    "print(\"Accuracy : \",str(tot_correct/total*100)+\"%\")"
   ]
  },
  {
   "cell_type": "code",
   "execution_count": 30,
   "metadata": {},
   "outputs": [],
   "source": [
    "class HDModel():\n",
    "    def __init__(self, lang_vectors, alphabet, seed, dimension):\n",
    "        self.lang_vectors = lang_vectors\n",
    "        self.alphabet = alphabet\n",
    "        self.seed = seed\n",
    "        self.dimension = dimension\n",
    "        \n",
    "    def genTextVector(self, text, window=4):\n",
    "        final = np.zeros(self.dimension)\n",
    "        text = filter(text)\n",
    "        text = list(text)\n",
    "        for i in range(len(text)-window+1):\n",
    "            cur = text[i:i+window]\n",
    "            temp = np.ones(self.dimension)\n",
    "            for j in range(1,window+1):\n",
    "                arr = alphabet[cur[j-1]]\n",
    "                for k in range(j):\n",
    "                    arr=np.random.RandomState(seed=self.seed).permutation(arr)\n",
    "                temp*=arr\n",
    "\n",
    "            final+=temp\n",
    "        return final/np.linalg.norm(final,ord=2)\n",
    "\n",
    "    def load_obj(self, name):\n",
    "        with open('obj/' + name + '.pkl', 'rb') as f:\n",
    "            return pickle.load(f)"
   ]
  },
  {
   "cell_type": "code",
   "execution_count": 31,
   "metadata": {},
   "outputs": [],
   "source": [
    "import pandas as pd\n",
    "import pickle\n",
    "import random\n",
    "\n",
    "from textattack.models.wrappers import ModelWrapper\n",
    "\n",
    "\n",
    "class HDModelWrapper(ModelWrapper):\n",
    "    \"\"\"Loads a scikit-learn model and tokenizer (tokenizer implements\n",
    "    `transform` and model implements `predict_proba`).\n",
    "    May need to be extended and modified for different types of\n",
    "    tokenizers.\n",
    "    \"\"\"\n",
    "\n",
    "    def __init__(self, model):\n",
    "        self.model = model\n",
    "        \n",
    "    def __call__(self, text_input_list, batch_size=None):\n",
    "        results_out = []\n",
    "#         print(text_input_list)\n",
    "        for text in text_input_list:\n",
    "            testFilteredText = self.model.genTextVector(text)\n",
    "            results_temp = []\n",
    "            for language in lang:\n",
    "                results_temp.append(cosineSimiliraty(lang_vectors[language], testFilteredText))\n",
    "        \n",
    "            results_out.append(results_temp)\n",
    "            best=max(results, key=results.get)\n",
    "#         results_out = np.array(results_out)\n",
    "        return results_out\n",
    "        \n",
    "    def get_grad(self, text_input):\n",
    "        raise NotImplementedError()\n",
    "        \n",
    "    def cosineSimiliraty(self, a,b):\n",
    "        cos_sim = dot(a, b)/(norm(a)*norm(b))\n",
    "        #cos_sim = 1 - spatial.distance.cosine(a, b)\n",
    "        return cos_sim"
   ]
  },
  {
   "cell_type": "code",
   "execution_count": 32,
   "metadata": {},
   "outputs": [],
   "source": [
    "model = HDModel(lang_vectors, alphabet, randomSeed, 10000)\n",
    "model_wrapper = HDModelWrapper(model)"
   ]
  },
  {
   "cell_type": "code",
   "execution_count": 33,
   "metadata": {},
   "outputs": [],
   "source": [
    "import textattack\n",
    "df_attack = pd.read_csv(\"attack_test_data.csv\")\n",
    "\n",
    "data = []\n",
    "for index, row in df_attack.iterrows():\n",
    "    data.append((row['text'], row['class']))\n",
    "\n",
    "dataset = textattack.datasets.Dataset(data)"
   ]
  },
  {
   "cell_type": "code",
   "execution_count": 37,
   "metadata": {},
   "outputs": [
    {
     "data": {
      "text/plain": [
       "[('United Kingdom and United States sanctions against Zimbabwe illustrate the \"warm-up\" approach, followed by a \"knock-out\" punch.\\r\\n',\n",
       "  2),\n",
       " (\"While presenting the report, Hon. Bright pleaded that in view of the sacrifices Mrs. Jonathan's husband made for the country while he was president, the House should wade into the matter and call the security agencies to order.\\r\\n\",\n",
       "  2),\n",
       " ('\"You have the two extremes as far as different reasons for crop insurance,\" he said.\\r\\n',\n",
       "  2),\n",
       " ('While the nation has seen 7.6 percent job growth since 2013, Kansas has lagged far behind, with an anemic rate of 3.5 percent.\\r\\n',\n",
       "  2),\n",
       " ('WASHINGTON, D.C. -- President George Bush has praised efforts by Colombian President Alvaro Uribe to crack down on terrorism in the South American country.\\r\\n',\n",
       "  2),\n",
       " ('While the federal government is up and running, at least for a few weeks, many Greenbelters felt the stress of preparing for a shutdown.\\r\\n',\n",
       "  2),\n",
       " ('Your insistence, your determination to stick to your opinion in the face of all the new evidence makes you look like a closed-mined idiot.\\r\\n',\n",
       "  2),\n",
       " ('\"When we say the rule of law doesn\\'t apply because you are not a U.S. citizen, when we say it doesn\\'t apply because you\\'ve admitted killing people, then the rule of law doesn\\'t apply to all of us.\"\\r\\n',\n",
       "  2),\n",
       " ('\"Yet he has not once told the public about the child abuse allegations he faced in 2007 and the discretionary decisions of my office, and more specifically by me as the DA.\"\\r\\n',\n",
       "  2),\n",
       " ('With about 30 percent of carbon emissions coming from the fossil fuel.\\r\\n',\n",
       "  2),\n",
       " ('You\\'ll be able to choose to play as either the male Alexios or the female Kassandra, both of whom are Spartan \"outcasts-turned-mercenaries\" who appear to have joined the Assassins Brotherhood.\\r\\n',\n",
       "  2),\n",
       " ('\"Under the EU mechanism for distributing 160,000 refugees Hungary would have to take in just 1,294 people currently living in Greece and Italy.\\r\\n',\n",
       "  2),\n",
       " (\"We are going to have this demonstration tomorrow, it's a peaceful protest.\\r\\n\",\n",
       "  2),\n",
       " ('YouTuber Logan Paul says sorry after posting sickening video of suicide victim hanging from a treeThe American vlogger is hugely popular with children and he provoked outrage after he uploaded the video to his 15 million followers.\\r\\n',\n",
       "  2),\n",
       " ('Who ever is DPM now will take the office of the PM.\\r\\n', 2),\n",
       " (\"We've also previously told you how the health board has flown in consultants from Europe and as far as the Middle East to plug gaps within the service.\\r\\n\",\n",
       "  2),\n",
       " ('We are in the hospital suffering,\" Deivis\\' mother, Sandra Galindez, told me and my colleagues.\\r\\n',\n",
       "  2),\n",
       " (\"While the menu has expanded to pizzas and other items in the past decade, Fatiga's strength -- and what makes it one of the truly best eating experiences in Arkansas -- is its selection of Italian subs.\\r\\n\",\n",
       "  2),\n",
       " ('\"You can do far more than you ever expected if you just push yourself and keep going, and if someone tells you no, you just continue on.\"\\r\\n',\n",
       "  2),\n",
       " ('\"What makes the F1 in Schools Technology Challenge different,\" said Mr Sangari, \"is that it entails a comprehensive and inclusive learning approach.\\r\\n',\n",
       "  2),\n",
       " ('Washington has shown signs of shrugging off its role as a world leader, and nations such as Russia and China, which do not see Western humanitarian values as universal, wield growing global clout.\\r\\n',\n",
       "  2),\n",
       " ('While fewer people may have died in Las Vegas if bump stocks were banned, the devices have rarely, if ever, been used in prior shootings.\\r\\n',\n",
       "  2),\n",
       " ('When a dispute occurred, the latter asked for the return of the deposits.\\r\\n',\n",
       "  2),\n",
       " (\"When Uber came to Sri Lanka they will use someone else's assets though it is over Uber's arrival that we will have a big bash!\\r\\n\",\n",
       "  2),\n",
       " (\"We'll see a bigger cool down and the chance for some heavy snow across parts of Colorado.\\r\\n\",\n",
       "  2),\n",
       " ('What I learned about Budapest the morning we arrived was that it hid some secret gardens we were about to discover.\\r\\n',\n",
       "  2),\n",
       " (\"Wildflower, from that day forward, excelled almost like no dog I've ever trained.\\r\\n\",\n",
       "  2),\n",
       " ('\"What we\\'re trying to do, is we\\'re trying to build up our capacity to do projects with the Ring of Fire.\"\\r\\n',\n",
       "  2),\n",
       " ('While proponents of the legislation argued the existing regulations hindered economic growth, conservationists fear the price paid for environmental degradation is often lost in the debate.\\r\\n',\n",
       "  2),\n",
       " ('We desperately need to spend more on health, public services and education.\\r\\n',\n",
       "  2),\n",
       " ('You chose to think of materialism and greed when you walk through those \"heavy glass doors.\"\\r\\n',\n",
       "  2),\n",
       " (\"We also plan to grow in the business, at the moment in 2010 the capacity is 3.2 MMt but we expected to 5.3 MMt by Q1'11 and 5.8 MMt by end of 2011.\\r\\n\",\n",
       "  2),\n",
       " ('Zhu Xiaohu, founder of GSR Ventures, said at a speech in April that mini programs will overturn the giants of PC and mobile Internet, and that total investment in mini programs could reach the tens of billions of yuan this year.\\r\\n',\n",
       "  2),\n",
       " (\"What's to keep corporate interests from complaining that our land use laws are at variance with future congressional legisltion, affect inter-state commerce, and don't have to be followed by out of state developers?\\r\\n\",\n",
       "  2),\n",
       " ('When a person dies, his soul passes on to the next World.\\r\\n', 2),\n",
       " (\"We've got to do a good job of selling our kids on what we're trying to do and what we're trying to build at Smiths Station.\\r\\n\",\n",
       "  2),\n",
       " ('Your next chance to see the team is tomorrow (Tuesday) night at the Brindy, when they again take on the Glacier Kings before heading down-Island for a rematch against Oceanside Friday night.\\r\\n',\n",
       "  2),\n",
       " (\"Yet when Ponderosa swept Longmont just as they had Berthoud earlier in the day, Berthoud was consigned to the fact that the next day's match, their final of the season, would be for nothing but pride.\\r\\n\",\n",
       "  2),\n",
       " ('Where were these investors when public fund was being committed to the same project?\\r\\n',\n",
       "  2),\n",
       " (\"What I can't find anywhere online is the names of the photographers in the exhibition -- I'd run their names if I could find them all.\\r\\n\",\n",
       "  2),\n",
       " ('Walk north on Cadman, past some mansions built on the leafy hillside, and enter the woods.\\r\\n',\n",
       "  2),\n",
       " ('While it contained methylone, a chemical nearly identical to MDMA, it was a different drug altogether.\\r\\n',\n",
       "  2),\n",
       " ('We are running more and more trains all the time and that is what is causing the problem, the capacity on the track.\\r\\n',\n",
       "  2),\n",
       " (\"With older artists, the law of diminishing returns often applies, and it's sad when our musical heroes overstay their welcome.\\r\\n\",\n",
       "  2),\n",
       " ('We hope Malala can avoid being manipulated on China-related issues while striving for education equality and the global human rights cause.\\r\\n',\n",
       "  2),\n",
       " ('\"We don\\'t receive any inspections from the Ministry of Manpower in these hills, as these quarries are part of the informal sector.\\r\\n',\n",
       "  2),\n",
       " ('Vince Cate visited the Sandy Ground site and reports that they are finding a great deal of Amerindian material.\\r\\n',\n",
       "  2),\n",
       " ('\"We got a goot chance to look at a lot of kids and most of them got a lot of playing time.\"\\r\\n',\n",
       "  2),\n",
       " ('Vancouver lawyer Kyla Lee and her firm, Acumen Law Corp., claimed at trial that a Google Plus review calling her the \"worstest lawyer\" led to a decline in client calls.\\r\\n',\n",
       "  2),\n",
       " ('While the kingdom has borrowed heavily on the Saudi money markets, it can easily float sovereign debt on the international debt market to ease its domestic credit crunch.\\r\\n',\n",
       "  2),\n",
       " ('Will people need to go to the electoral district to vote?\\r\\n', 2),\n",
       " ('\"We are extremely honored to win this award, as we feel it really highlights our efforts to make it easier for our EuroBonus members to access and redeem their points.\\r\\n',\n",
       "  2),\n",
       " ('When the next chance came his way he slotted coolly into the top right corner.\\r\\n',\n",
       "  2),\n",
       " ('You should be known to be producing from information gathered from either extension officers or records from the Grain Marketing Board and one should have an offer letter.\"\\r\\n',\n",
       "  2),\n",
       " ('You can go outside and go for a walk or a run without shivering the entire time.\\r\\n',\n",
       "  2),\n",
       " ('While living at the lodge in the early 1960s, Fox was hired by the former Burnet County Judge to help sell lots for a new subdivision on the lake at Granite Shoals (later renamed Lake LBJ).\\r\\n',\n",
       "  2),\n",
       " ('We also held three seminars and a special meeting of the board of directors to discuss the theme.\\r\\n',\n",
       "  2),\n",
       " ('\"We were by the water comparing our swimwear and laughing about how ill-fitting and unsupportive our contraptions were,\" the pair told news.\\r\\n',\n",
       "  2),\n",
       " ('Whether Asset Value Investors would hold onto their TBS shares after its demand was accepted \"depends on how the valuation goes.\"\\r\\n',\n",
       "  2),\n",
       " ('\"We have also met the panchayat minister to brief him about how the compound wall of the church of this sect is of a height above the permissible limit.\\r\\n',\n",
       "  2),\n",
       " ('Various congressional committees worked on drafting multiple versions of the bill that would become the Affordable Care Act -- a lengthy process that took over a year.\\r\\n',\n",
       "  2),\n",
       " ('Various religious backgrounds will be represented as people from all over the U.S. and Canada travel to John Brown University to attend the Paradosis Conference.\\r\\n',\n",
       "  2),\n",
       " ('\"Unions can be reactive, but if we could be proactive, then we would be happy to have discussions.\\r\\n',\n",
       "  2),\n",
       " (\"Unfortunately people's true mandate was not reflected in the allocation of seats due to unrealistic and horrendous proportionate system.\\r\\n\",\n",
       "  2),\n",
       " ('University Union hosted their annual Block Party in the Carrier Dome on Friday night, featuring DJ Orange Calderon, SZA and Gucci Mane.\\r\\n',\n",
       "  2),\n",
       " ('\"We\\'ve recently finished a fabulous office makeover, and we\\'re having an open house to show it off,\" said agency director Ronda B. Goldfein.\\r\\n',\n",
       "  2),\n",
       " (\"Youth mental health, suicide and bullying was thrust in to the national spotlight following the highly-publicised death of 14-year-old Amy 'Dolly' Everett in January.\\r\\n\",\n",
       "  2),\n",
       " (\"William and Kate Middleton's daughter was born at St. Mary's Hospital on May 2. Just 10 hours after giving birth, the Duchess of Cambridge left the hospital looking gorgeous in a floral white and yellow Jenny Packman dress.\\r\\n\",\n",
       "  2),\n",
       " ('We will keep monitoring the situation and make sure that we will be able to maintain the drive for the growth so that we could assure our target of trimming off poverty at the rate of 1% per annum.\\r\\n',\n",
       "  2),\n",
       " ('\"You would be surprised how many people will drive in from an hour or two hours away to come in and spend an afternoon at Great Shots,\" North said.\\r\\n',\n",
       "  2),\n",
       " (\"Usage of a time fuse also seems out of the question, since not only the murderers, but also Vazagashvili himself likely didn't know when he would arrive at his son's grave.\\r\\n\",\n",
       "  2),\n",
       " ('\"You are not a little dictator to do whatever you want - and that\\'s what we have right now in Houston, Texas,\" he said.\\r\\n',\n",
       "  2),\n",
       " ('Until the government receives confirmation of e-cigarette benefits, it would continue treating them as other tobacco products.\\r\\n',\n",
       "  2),\n",
       " ('\"We hope that it will initiate a more informed debate about what represents fair, proportionate pay for workers at all levels,\" he said.\\r\\n',\n",
       "  2),\n",
       " ('What we asked from RMB in our previous letter, was \"a guarantee from your bank that your capital not be used for the illegal oil exploration in the occupied country\".\\r\\n',\n",
       "  2),\n",
       " ('Visitors will also be treated to a top-notch, interactive trick rope show.\\r\\n',\n",
       "  2),\n",
       " (\"With the summer fast approaching, you're sure to be spending lots of time outdoors.\\r\\n\",\n",
       "  2),\n",
       " (\"While they are working to tackle crime, they won't guarantee that the money you invest will be 'safe' in every sense of the word.\\r\\n\",\n",
       "  2),\n",
       " ('You wouldn\\'t go to buy fighter jets because there is no possibility of creating a balance of power against \"Israel\" on that level, instead you would go buy air defense systems.\\r\\n',\n",
       "  2),\n",
       " (\"When asked about funding concerns before the Senate vote on the Mission Act, key lawmakers who helped pass the bill claimed it wouldn't be a challenge.\\r\\n\",\n",
       "  2),\n",
       " ('Victoria Vivians scored 22 points and second-ranked Mississippi State remained in position to add a Southeastern Conference Tournament title to its regular-season championship, beating No. 15 Texas A&M 70-55 on.\\r\\n',\n",
       "  2),\n",
       " ('We expected a tough beginning but still believed we could play in the finals, which we did.\\r\\n',\n",
       "  2),\n",
       " (\"While today's sea level rise is only about 10% the rate about 13,000 years ago, it is expected to rise rapidly in the coming years, notes the report.\\r\\n\",\n",
       "  2),\n",
       " (\"With changes to GATE, many are wondering if they're going to get funding and with the recent scare of an old memo being leaked, fears were raised.\\r\\n\",\n",
       "  2),\n",
       " ('When coming from Tanzania, lifts depart from Mtwara and Kilambo to the Rovuma river.\\r\\n',\n",
       "  2),\n",
       " ('\"We want to deliver your $2.5 million to you before your bank closes, so you can put it in a safe place.\\r\\n',\n",
       "  2),\n",
       " ('What is floated right now will come back, perhaps in a watered-down version, but the progressives will keep coming after you.\\r\\n',\n",
       "  2),\n",
       " ('What the suit calls the pharmaceutical\\'s \"aggressive marketing,\" the sheriff and his attorney feel have contributed to the rise in opioid use, addiction and overdose.\\r\\n',\n",
       "  2),\n",
       " ('We share border with other countries and cannot afford to just point finger at whichever direction.\\r\\n',\n",
       "  2),\n",
       " ('\"We came out in the third period, we were ready to play, and we had some unlucky bounces.\\r\\n',\n",
       "  2),\n",
       " ('\"We\\'re just good friends, and he\\'s been incredibly loyal to me,\" Paxton in a 1998 interview.\\r\\n',\n",
       "  2),\n",
       " ('Where can you ask questions and talk about bullying, harassment and discrimination on campus?\\r\\n',\n",
       "  2),\n",
       " (\"Wisdom's small plot, a few steps from his front step, is located right beside the main road in the community.\\r\\n\",\n",
       "  2),\n",
       " ('Women invited her to their homes to deliver lectures on religious subjects.\\r\\n',\n",
       "  2),\n",
       " ('Whoever that was, I don\\'t know any names or who that family was,\" Berube says.\\r\\n',\n",
       "  2),\n",
       " ('Wellness Medical Supplies offers medical equipment rental options for those in need of short-term assistance.\\r\\n',\n",
       "  2),\n",
       " ('\"We have a couple of our junior members that have came in just for certain particular roles that required a younger cast member for,\" said Smith.\\r\\n',\n",
       "  2),\n",
       " ('Your information will be saved and you can get the SIM card legally.\\r\\n',\n",
       "  2),\n",
       " ('Very close friends of the family would always come from Pittsburgh to visit and we would spend the day and evening together.\\r\\n',\n",
       "  2),\n",
       " ('You know how in the most somber of situations something happens that makes you almost want to giggle?\\r\\n',\n",
       "  2),\n",
       " ('\"We want to create new ways for students to get involved where they feel they contribute in the way we operate, or in ideas they can bring forward to us,\" said Hartung.\\r\\n',\n",
       "  2),\n",
       " (\"With his wife's diagnosis of ovarian cancer in the 2000s, the nursery became more difficult to keep up with.\\r\\n\",\n",
       "  2),\n",
       " (\"Youths are comparable to bamboo shoots, as they will become the country's future leaders and officials.\\r\\n\",\n",
       "  2),\n",
       " ('We stand with communities across Colorado in calling on Governor Hickenlooper and the state legislature to reject any legislation that will undermine local control.\"\\r\\n',\n",
       "  2),\n",
       " ('Were they considered likely to succeed or more of a long shot?\\r\\n', 2),\n",
       " ('Wahlberg was also part of a number of concentrated efforts to revitalize downtown Bay Shore over the years.\\r\\n',\n",
       "  2),\n",
       " ('\"You get a cycle where one thing leads to the other.\"\\r\\n', 2),\n",
       " ('Yesterday, protestors were met with a small scale counter-protest led by Georgian March, a far-right, ultra-nationalist, neo-nazi group that has a history of staging counter demonstrations and threatening violence.\\r\\n',\n",
       "  2),\n",
       " ('What the servant owed the master is expressed as a myriad of talents.\\r\\n',\n",
       "  2),\n",
       " ('\"We made an effort to promote relations between Iran and Brazil in public and private sectors and we are capable of having useful bilateral relations,\" he concluded.\\r\\n',\n",
       "  2),\n",
       " ('\"We made changes in terms of the shape and dynamic of the team at half-time and I thought the boys were brilliant in the second half.\\r\\n',\n",
       "  2),\n",
       " ('Your the only Santa and that makes you special to me!\\r\\n', 2),\n",
       " ('Welcoming the probe, he said the truth would finally come out now and Khaunte would ultimately be exposed.\\r\\n',\n",
       "  2),\n",
       " ('\"When that\\'s all they\\'re living in then that\\'s how they perceive the world to be,\" she said of the children in her care.\\r\\n',\n",
       "  2),\n",
       " ('Youth unemployment in Australia is currently sitting at 13.3 per cent.\\r\\n',\n",
       "  2),\n",
       " ('Winners accumulate points for the next edition, where the winners of the 2017 circuit are defined.\\r\\n',\n",
       "  2),\n",
       " ('Wednesday, August 16, 2017Excitedly families stood in anticipation as the food packages were distributed.\\r\\n',\n",
       "  2),\n",
       " (\"Under Carpenter's plan, the Freda Markley Center and Ervin (expected to be renamed the Ervin Early Learning Center) will house pre-school and kindergarten students.\\r\\n\",\n",
       "  2),\n",
       " ('You are doing a sport that any able-bodied person can do.\\r\\n', 2),\n",
       " ('We are also going to build a 200ft pier into the sea and that will be a 200 ft by 30 ft pier and that will allow for interaction with the water.\\r\\n',\n",
       "  2),\n",
       " ('We are delighted that Ballinamore have come on board this year.\\r\\n', 2),\n",
       " ('We say it with all conceit and arrogance: the midan is ours.\\r\\n', 2),\n",
       " ('We are very proud of the work and effort our students put into their program,\" Sanchez said.\\r\\n',\n",
       "  2),\n",
       " ('When it was being proposed the city change its bylaws to allow food trucks to serve their wares by the roadside in...\\r\\n',\n",
       "  2),\n",
       " ('When the census finally took place in 1998, it did have soldiers accompanying enumerators.\\r\\n',\n",
       "  2),\n",
       " ('We have always worked to be a positive force on campus, collaborating with other student organizations and supporting their efforts in a spirit of sincere respect and cooperation.\\r\\n',\n",
       "  2),\n",
       " ('Without regulation, these vaping cartridges could contain just as many carcinogens as cigarettes, or possibly even more.\\r\\n',\n",
       "  2),\n",
       " ('\"We did not have a good option for the individual in their 80s or who had other high risk features that made open heart surgery dangerous for them.\\r\\n',\n",
       "  2),\n",
       " (\"We don't even really know for sure how much he did pay.\\r\\n\", 2),\n",
       " ('\"Why put extra fertilizer onto parts of the fields that don\\'t need it?\"\\r\\n',\n",
       "  2),\n",
       " ('Winners of the following Knox County Council Parent Teacher Association Awards are:.\\r\\n',\n",
       "  2),\n",
       " ('Why feel a constant need to retaliate rather than listen in earnest?\\r\\n',\n",
       "  2),\n",
       " ('With the demand for Cuba extremely high at present, there are other alternatives to consider, writes Simon Calder.\\r\\n',\n",
       "  2),\n",
       " ('When she makes pasta for dinner, she stores the leftovers in Tupperware and wraps the containers in grocery bags in the refrigerator to hide them from John David because \"it\\'s almost like he doesn\\'t know when to stop eating or drinking.\"\\r\\n',\n",
       "  2),\n",
       " ('Works on the 1,000 metre scheme at Kilgortnaleague are due to be completed on Friday, October 21st.\\r\\n',\n",
       "  2),\n",
       " ('\"While we respect the fiscal challenges facing the government and the nation, we believe that cutting ARENA\\'s budget would be short-sighted,\" the letter reads.\\r\\n',\n",
       "  2),\n",
       " ('We put in a bagging system last year so we can bag whole corn, cracked corn and sunflower seed.\"\\r\\n',\n",
       "  2),\n",
       " ('With respect to the recent revolution in Georgia, the popular movement there had \"very strong diplomatic support from the west\" which was bolstered by little resistance from the political elite.\\r\\n',\n",
       "  2),\n",
       " ('When asked the secret to a long life, Irma Koch said simply, \"Don\\'t smoke, and have a happy,.\\r\\n',\n",
       "  2),\n",
       " ('\"We could have been a bit more comfortable but we came here and got three good points.\\r\\n',\n",
       "  2),\n",
       " ('When asked about the plans of Global expansion, The Producer Director, Mr. Vikas Puri said\" We have already been doing our wedding shoots globally.\\r\\n',\n",
       "  2),\n",
       " ('While land is undervalued, the claimed social benefits of large monocultures are typically over-stated.\\r\\n',\n",
       "  2),\n",
       " ('WASHINGTON -- During an April 11 homily in Washington, Salvadoran Archbishop Jose Luis Escobar Alas said the canonization of Blessed Oscar Romero will \"probably\" be in Rome and \"probably\" take place at end of October after a meeting of bishops.\\r\\n',\n",
       "  2),\n",
       " ('\"Where we lost our numbers, were in the so-called good weather months, which weren\\'t such good weather this year,\" he said.\\r\\n',\n",
       "  2),\n",
       " ('\"When tragedy happens like that, people tend to rally,\" she said, adding that August, the month after the fire, was the best month ever for business at Bothell Chiropractic and Wellness.\\r\\n',\n",
       "  2),\n",
       " ('We were all looking for and expecting the snipers to be White men.\\r\\n', 2),\n",
       " (\"Your $50 tax credit isn't going to get you far in this election.\\r\\n\", 2),\n",
       " (\"When you get to a point where you realise I'm not living for you.\\r\\n\", 2),\n",
       " ('When it comes to the three business promotion organisations, that is MDC, METCO and IPSE, the survey has highlighted quite significant differences in perceptions.\\r\\n',\n",
       "  2),\n",
       " (\"What makes it really special is it was David's first and last car.\\r\\n\", 2),\n",
       " ('Vladimir Putin approved a composition of the Public Chamber of the Russian Federation.\\r\\n',\n",
       "  2),\n",
       " (\"Wessen had complained to the Office of the Attorney General claiming that Lidet has committed a breach of conduct in taking away clients from her father's law firm without his consent.\\r\\n\",\n",
       "  2),\n",
       " (\"Well known travel writer Rick Steves is busy writing his guidebook Rick Steve's Iceland, On his blog however he's published a few budget tips for Iceland travels.\\r\\n\",\n",
       "  2),\n",
       " ('\"Within seconds, minutes, it\\'s going to become deadly,\" said Captain Andy Skaggs of TFD about flooding in washes and streets in Tucson.\\r\\n',\n",
       "  2),\n",
       " ('We are till date yet to see a five (5) inches cement block laid for the first of the 200 senior high schools as promised ahead of elections 2012.\\r\\n',\n",
       "  2),\n",
       " ('User Udugu Wa Kiislamu regularly posts news bulletins from the ISIS-affiliated Wilayat News Network (WNN).\\r\\n',\n",
       "  2),\n",
       " ('\"We\\'re not in the business of trading good players for prospects when your team has a chance to win the (Stanley) Cup.\\r\\n',\n",
       "  2),\n",
       " ('We tried the octopus carpaccio to start, which was soft and delicate, served with the unlikely combination of truffle cream and marinated apples.\\r\\n',\n",
       "  2),\n",
       " ('Yet, even in the absence of feelings of hunger, she looked forward to what had become ritualized bouts of food stuffing and self induced vomiting.\\r\\n',\n",
       "  2),\n",
       " ('We are proud of our contribution to the growth and development of healthcare in Qatar and proud to be part of the private sector\\'s active partnership in achieving the developmental goals of Qatar.\"\\r\\n',\n",
       "  2),\n",
       " ('You are invited to support the Foundation by individual gifts of cash, planned gifts, life insurance, retirement accounts, securities, real estate, grant funding and also corporate contributions.\\r\\n',\n",
       "  2),\n",
       " ('You either drop out right now, or you lose by the biggest landslide in American political history.\"\\r\\n',\n",
       "  2),\n",
       " ('\"We came across the amazing work of pioneers like Daphne Oram back in the 1940s and 50s -- she pushed ahead with the development of electronic works, and even built her own synthesiser before they had really taken off,\" Melania Jack said.\\r\\n',\n",
       "  2),\n",
       " ('Whether it is a tie game, or we have a lead, or we are down one or two goals, we are going to be the best team in the third period every time.\\r\\n',\n",
       "  2),\n",
       " ('Whatever the age or occasion, there is something for all the family.\\r\\n',\n",
       "  2),\n",
       " ('What he really replied (according to one report) was, \"I have not yet thought of it, but I am determined to make you strike.\"\\r\\n',\n",
       "  2),\n",
       " ('Yet, the senator did not worry about the legality or repercussions of the continued targeted killings in Somalia, Yemen or Pakistan.\\r\\n',\n",
       "  2),\n",
       " ('\"We really needed to get down to 140 to make it small enough to continue to sort of hold the line in terms of our entering LSAT and undergraduate GPA scores,\" said Craig Boise, dean of C-M Law.\\r\\n',\n",
       "  2),\n",
       " ('Unemployment is officially at 14% and per capita income is officially $2200/year.\\r\\n',\n",
       "  2),\n",
       " (\"While most of Sweden's schools are run by the local municipality, there are also a large number of independent schools (), which are publicly funded and must follow government guidelines on the curriculum, but operate independently.\\r\\n\",\n",
       "  2),\n",
       " ('With the Irish question threatening to hold up any agreement on the transition period, a deal, has been struck, said Barnier.\\r\\n',\n",
       "  2),\n",
       " ('VIRGIN Media has asked Ofcom to pause the auction of TV rights for Premier League football.\\r\\n',\n",
       "  2),\n",
       " ('U.S. troops in Afghanistan are relying more and more on the superior noses of military working dogs to sniff out deadly improvised explosive devices.\\r\\n',\n",
       "  2),\n",
       " ('With the integrated system, every item is accounted for: from the moment the stock arrives, all the way through to delivery.\\r\\n',\n",
       "  2),\n",
       " ('When the LTTE lost Jaffna in 1995, it had places to retreat to as the Kumaratunga government had captured that town at the expense of the Eastern Province which the UNP government of the late President D. B. Wijetunge had cleared.\\r\\n',\n",
       "  2),\n",
       " ('With the district administration declaring holiday after 1 pm, parents rushed to schools to pick up their wards.\\r\\n',\n",
       "  2),\n",
       " ('We transfer your personally identifiable information if Conley acquires or is acquired by, or merges with another company.\\r\\n',\n",
       "  2),\n",
       " ('\"We shuffle our program around and try to fit all the work we need to do into seven days instead of eight,\" Mercedes technical director James Allison said.\\r\\n',\n",
       "  2),\n",
       " ('\"We share the attorney general\\'s concern about the opioid crisis,\" the company said in a statement.\\r\\n',\n",
       "  2),\n",
       " ('\"When it comes to covering religion, reporters tend to veer between being overly cynical to being overly credulous,\" he says.\\r\\n',\n",
       "  2),\n",
       " ('\"We watched as these beams were being trucked down Blithedale,\" Jovinta Addeo said.\\r\\n',\n",
       "  2),\n",
       " ('While the Bay Area has other ranges, club officials estimate the Chabot Gun Club accounts for nearly 25 percent of rifle shooting positions in the region.\\r\\n',\n",
       "  2),\n",
       " ('When the team returned to campus, she informed coach Geno Auriemma that she would not use her final year of eligibility.\\r\\n',\n",
       "  2),\n",
       " ('Without international organizations of women abusers to point our finger at, we relegate misogyny to \"the act of a lone madman.\"\\r\\n',\n",
       "  2),\n",
       " ('\"We can safely say that our men and women in uniform can work with greater hope in all parts of the country.\\r\\n',\n",
       "  2),\n",
       " ('We camped outside the town, just within view of the Turkish fort on the hill, and beside huge middens of shells, gathered from the mangroves as sustenance for an unknown people long ago.\\r\\n',\n",
       "  2),\n",
       " (\"U.S. Women's National Team's Julie Ertz complains about a call in Sandy on Thursday, June 7, 2018.\\r\\n\",\n",
       "  2),\n",
       " ('We are not suggesting that any but the most experienced investors look at EISs and SEISs.\\r\\n',\n",
       "  2),\n",
       " ('With All Access, listen to everything, everywhere, in your car and on your computer, smartphone or tablet.\\r\\n',\n",
       "  2),\n",
       " (\"With a physical paper, you will see everything, you can read anything, and when you get to the end, you're done.\\r\\n\",\n",
       "  2),\n",
       " ('Unfortunately, the Founders also presumed that people charged with making electoral decisions in our representative democracy would have a quite different goal than many today.\\r\\n',\n",
       "  2),\n",
       " ('\"We need to get a letter of approval from the EPD to make it a viable option,\" Grant said.\\r\\n',\n",
       "  2),\n",
       " ('We\\'ve gotten defendants back from Mexico, from Canada, from Europe,\" said Corey.\\r\\n',\n",
       "  2),\n",
       " (\"When they arrived in 1992, they were assigned a lieutenant from the Interior Ministry's industrial and scientific espionage division as a handler: Jose Cohen.\\r\\n\",\n",
       "  2),\n",
       " ('With a purple-pink interface for women and brown for men, the site denotes itself with a calculated discretion.\\r\\n',\n",
       "  2),\n",
       " ('We need your support to be able to protect your from men like these.\"\\r\\n',\n",
       "  2),\n",
       " ('Without the legal practitioners who devoted their time, skill and knowledge, the rate of clearance would certainly have looked very different.\\r\\n',\n",
       "  2),\n",
       " ('\"We felt that, over time, fundraising had maybe taken priority over reading and writing at BookFest, and that we should think more about hands-on book-related activities for the kids,\" says Peter Laughton, festival organizer.\\r\\n',\n",
       "  2),\n",
       " ('We need to limit radio station ownership to no more than 20 stations.\\r\\n',\n",
       "  2),\n",
       " ('\"We then start moving into the next new set of brands,\" she says.\\r\\n', 2)]"
      ]
     },
     "execution_count": 37,
     "metadata": {},
     "output_type": "execute_result"
    }
   ],
   "source": [
    "data"
   ]
  },
  {
   "cell_type": "code",
   "execution_count": 19,
   "metadata": {},
   "outputs": [
    {
     "name": "stderr",
     "output_type": "stream",
     "text": [
      "[nltk_data] Downloading package omw-1.4 to /home/harsha/nltk_data...\n",
      "[nltk_data]   Unzipping corpora/omw-1.4.zip.\n"
     ]
    },
    {
     "data": {
      "text/plain": [
       "True"
      ]
     },
     "execution_count": 19,
     "metadata": {},
     "output_type": "execute_result"
    }
   ],
   "source": [
    "import nltk\n",
    "nltk.download('omw-1.4')"
   ]
  },
  {
   "cell_type": "code",
   "execution_count": 24,
   "metadata": {},
   "outputs": [
    {
     "name": "stderr",
     "output_type": "stream",
     "text": [
      "textattack: Unknown if model of class <class '__main__.HDModel'> compatible with goal function <class 'textattack.goal_functions.classification.untargeted_classification.UntargetedClassification'>.\n",
      "textattack: Logging to CSV at path hd_attack_textfooler_window_4.csv\n",
      "  0%|                                                   | 0/200 [00:00<?, ?it/s]"
     ]
    },
    {
     "name": "stdout",
     "output_type": "stream",
     "text": [
      "Attack(\n",
      "  (search_method): GreedyWordSwapWIR(\n",
      "    (wir_method):  delete\n",
      "  )\n",
      "  (goal_function):  UntargetedClassification\n",
      "  (transformation):  WordSwapEmbedding(\n",
      "    (max_candidates):  50\n",
      "    (embedding):  WordEmbedding\n",
      "  )\n",
      "  (constraints): \n",
      "    (0): WordEmbeddingDistance(\n",
      "        (embedding):  WordEmbedding\n",
      "        (min_cos_sim):  0.5\n",
      "        (cased):  False\n",
      "        (include_unknown_words):  True\n",
      "        (compare_against_original):  True\n",
      "      )\n",
      "    (1): PartOfSpeech(\n",
      "        (tagger_type):  nltk\n",
      "        (tagset):  universal\n",
      "        (allow_verb_noun_swap):  True\n",
      "        (compare_against_original):  True\n",
      "      )\n",
      "    (2): UniversalSentenceEncoder(\n",
      "        (metric):  angular\n",
      "        (threshold):  0.840845057\n",
      "        (window_size):  15\n",
      "        (skip_text_shorter_than_window):  True\n",
      "        (compare_against_original):  False\n",
      "      )\n",
      "    (3): RepeatModification\n",
      "    (4): StopwordModification\n",
      "    (5): InputColumnModification(\n",
      "        (matching_column_labels):  ['premise', 'hypothesis']\n",
      "        (columns_to_ignore):  {'premise'}\n",
      "      )\n",
      "  (is_black_box):  True\n",
      ") \n",
      "\n"
     ]
    },
    {
     "name": "stderr",
     "output_type": "stream",
     "text": [
      "2022-04-30 11:30:55.183535: W tensorflow/stream_executor/platform/default/dso_loader.cc:64] Could not load dynamic library 'libcuda.so.1'; dlerror: libcuda.so.1: cannot open shared object file: No such file or directory\n",
      "2022-04-30 11:30:55.183564: W tensorflow/stream_executor/cuda/cuda_driver.cc:269] failed call to cuInit: UNKNOWN ERROR (303)\n",
      "2022-04-30 11:30:55.183582: I tensorflow/stream_executor/cuda/cuda_diagnostics.cc:156] kernel driver does not appear to be running on this host (mylaptop): /proc/driver/nvidia/version does not exist\n",
      "2022-04-30 11:30:55.183762: I tensorflow/core/platform/cpu_feature_guard.cc:151] This TensorFlow binary is optimized with oneAPI Deep Neural Network Library (oneDNN) to use the following CPU instructions in performance-critical operations:  AVX2 FMA\n",
      "To enable them in other operations, rebuild TensorFlow with the appropriate compiler flags.\n",
      "  0%|▏                                      | 1/200 [06:47<22:30:37, 407.23s/it]/home/harsha/.local/lib/python3.8/site-packages/textattack/loggers/csv_logger.py:41: FutureWarning: The frame.append method is deprecated and will be removed from pandas in a future version. Use pandas.concat instead.\n",
      "  self.df = self.df.append(row, ignore_index=True)\n",
      "[Succeeded / Failed / Skipped / Total] 0 / 1 / 0 / 1:   0%| | 1/200 [06:47<22:30"
     ]
    },
    {
     "name": "stdout",
     "output_type": "stream",
     "text": [
      "--------------------------------------------- Result 1 ---------------------------------------------\n",
      "[[2 (13%)]] --> [[[FAILED]]]\n",
      "\n",
      "United Kingdom and United States sanctions against Zimbabwe illustrate the \"warm-up\" approach, followed by a \"knock-out\" punch.\n",
      "\n",
      "\n",
      "\n"
     ]
    },
    {
     "name": "stderr",
     "output_type": "stream",
     "text": [
      "[Succeeded / Failed / Skipped / Total] 0 / 1 / 0 / 1:   1%| | 2/200 [13:23<22:05/home/harsha/.local/lib/python3.8/site-packages/textattack/loggers/csv_logger.py:41: FutureWarning: The frame.append method is deprecated and will be removed from pandas in a future version. Use pandas.concat instead.\n",
      "  self.df = self.df.append(row, ignore_index=True)\n",
      "[Succeeded / Failed / Skipped / Total] 0 / 2 / 0 / 2:   1%| | 2/200 [13:23<22:05"
     ]
    },
    {
     "name": "stdout",
     "output_type": "stream",
     "text": [
      "--------------------------------------------- Result 2 ---------------------------------------------\n",
      "[[2 (17%)]] --> [[[FAILED]]]\n",
      "\n",
      "While presenting the report, Hon. Bright pleaded that in view of the sacrifices Mrs. Jonathan's husband made for the country while he was president, the House should wade into the matter and call the security agencies to order.\n",
      "\n",
      "\n",
      "\n"
     ]
    },
    {
     "name": "stderr",
     "output_type": "stream",
     "text": [
      "[Succeeded / Failed / Skipped / Total] 0 / 2 / 0 / 2:   2%| | 3/200 [14:12<15:33/home/harsha/.local/lib/python3.8/site-packages/textattack/loggers/csv_logger.py:41: FutureWarning: The frame.append method is deprecated and will be removed from pandas in a future version. Use pandas.concat instead.\n",
      "  self.df = self.df.append(row, ignore_index=True)\n",
      "[Succeeded / Failed / Skipped / Total] 0 / 3 / 0 / 3:   2%| | 3/200 [14:12<15:33"
     ]
    },
    {
     "name": "stdout",
     "output_type": "stream",
     "text": [
      "--------------------------------------------- Result 3 ---------------------------------------------\n",
      "[[2 (13%)]] --> [[[FAILED]]]\n",
      "\n",
      "\"You have the two extremes as far as different reasons for crop insurance,\" he said.\n",
      "\n",
      "\n",
      "\n"
     ]
    },
    {
     "name": "stderr",
     "output_type": "stream",
     "text": [
      "[Succeeded / Failed / Skipped / Total] 0 / 3 / 0 / 3:   2%| | 4/200 [16:24<13:23/home/harsha/.local/lib/python3.8/site-packages/textattack/loggers/csv_logger.py:41: FutureWarning: The frame.append method is deprecated and will be removed from pandas in a future version. Use pandas.concat instead.\n",
      "  self.df = self.df.append(row, ignore_index=True)\n",
      "[Succeeded / Failed / Skipped / Total] 0 / 4 / 0 / 4:   2%| | 4/200 [16:24<13:23"
     ]
    },
    {
     "name": "stdout",
     "output_type": "stream",
     "text": [
      "--------------------------------------------- Result 4 ---------------------------------------------\n",
      "[[2 (13%)]] --> [[[FAILED]]]\n",
      "\n",
      "While the nation has seen 7.6 percent job growth since 2013, Kansas has lagged far behind, with an anemic rate of 3.5 percent.\n",
      "\n",
      "\n",
      "\n"
     ]
    },
    {
     "name": "stderr",
     "output_type": "stream",
     "text": [
      "[Succeeded / Failed / Skipped / Total] 0 / 4 / 0 / 4:   2%| | 5/200 [18:51<12:15/home/harsha/.local/lib/python3.8/site-packages/textattack/loggers/csv_logger.py:41: FutureWarning: The frame.append method is deprecated and will be removed from pandas in a future version. Use pandas.concat instead.\n",
      "  self.df = self.df.append(row, ignore_index=True)\n",
      "[Succeeded / Failed / Skipped / Total] 0 / 5 / 0 / 5:   2%| | 5/200 [18:51<12:15"
     ]
    },
    {
     "name": "stdout",
     "output_type": "stream",
     "text": [
      "--------------------------------------------- Result 5 ---------------------------------------------\n",
      "[[2 (13%)]] --> [[[FAILED]]]\n",
      "\n",
      "WASHINGTON, D.C. -- President George Bush has praised efforts by Colombian President Alvaro Uribe to crack down on terrorism in the South American country.\n",
      "\n",
      "\n",
      "\n"
     ]
    },
    {
     "name": "stderr",
     "output_type": "stream",
     "text": [
      "[Succeeded / Failed / Skipped / Total] 0 / 5 / 0 / 5:   3%| | 6/200 [20:15<10:54/home/harsha/.local/lib/python3.8/site-packages/textattack/loggers/csv_logger.py:41: FutureWarning: The frame.append method is deprecated and will be removed from pandas in a future version. Use pandas.concat instead.\n",
      "  self.df = self.df.append(row, ignore_index=True)\n",
      "[Succeeded / Failed / Skipped / Total] 0 / 6 / 0 / 6:   3%| | 6/200 [20:15<10:54"
     ]
    },
    {
     "name": "stdout",
     "output_type": "stream",
     "text": [
      "--------------------------------------------- Result 6 ---------------------------------------------\n",
      "[[2 (15%)]] --> [[[FAILED]]]\n",
      "\n",
      "While the federal government is up and running, at least for a few weeks, many Greenbelters felt the stress of preparing for a shutdown.\n",
      "\n",
      "\n",
      "\n"
     ]
    },
    {
     "name": "stderr",
     "output_type": "stream",
     "text": [
      "[Succeeded / Failed / Skipped / Total] 0 / 6 / 0 / 6:   4%| | 7/200 [21:47<10:00/home/harsha/.local/lib/python3.8/site-packages/textattack/loggers/csv_logger.py:41: FutureWarning: The frame.append method is deprecated and will be removed from pandas in a future version. Use pandas.concat instead.\n",
      "  self.df = self.df.append(row, ignore_index=True)\n",
      "[Succeeded / Failed / Skipped / Total] 0 / 7 / 0 / 7:   4%| | 7/200 [21:47<10:00"
     ]
    },
    {
     "name": "stdout",
     "output_type": "stream",
     "text": [
      "--------------------------------------------- Result 7 ---------------------------------------------\n",
      "[[2 (14%)]] --> [[[FAILED]]]\n",
      "\n",
      "Your insistence, your determination to stick to your opinion in the face of all the new evidence makes you look like a closed-mined idiot.\n",
      "\n",
      "\n",
      "\n"
     ]
    },
    {
     "name": "stderr",
     "output_type": "stream",
     "text": [
      "[Succeeded / Failed / Skipped / Total] 0 / 7 / 0 / 7:   4%| | 8/200 [25:38<10:15/home/harsha/.local/lib/python3.8/site-packages/textattack/loggers/csv_logger.py:41: FutureWarning: The frame.append method is deprecated and will be removed from pandas in a future version. Use pandas.concat instead.\n",
      "  self.df = self.df.append(row, ignore_index=True)\n",
      "[Succeeded / Failed / Skipped / Total] 0 / 8 / 0 / 8:   4%| | 8/200 [25:38<10:15"
     ]
    },
    {
     "name": "stdout",
     "output_type": "stream",
     "text": [
      "--------------------------------------------- Result 8 ---------------------------------------------\n",
      "[[2 (14%)]] --> [[[FAILED]]]\n",
      "\n",
      "\"When we say the rule of law doesn't apply because you are not a U.S. citizen, when we say it doesn't apply because you've admitted killing people, then the rule of law doesn't apply to all of us.\"\n",
      "\n",
      "\n",
      "\n"
     ]
    },
    {
     "name": "stderr",
     "output_type": "stream",
     "text": [
      "[Succeeded / Failed / Skipped / Total] 0 / 8 / 0 / 8:   4%| | 9/200 [28:21<10:01/home/harsha/.local/lib/python3.8/site-packages/textattack/loggers/csv_logger.py:41: FutureWarning: The frame.append method is deprecated and will be removed from pandas in a future version. Use pandas.concat instead.\n",
      "  self.df = self.df.append(row, ignore_index=True)\n",
      "[Succeeded / Failed / Skipped / Total] 0 / 9 / 0 / 9:   4%| | 9/200 [28:21<10:01"
     ]
    },
    {
     "name": "stdout",
     "output_type": "stream",
     "text": [
      "--------------------------------------------- Result 9 ---------------------------------------------\n",
      "[[2 (16%)]] --> [[[FAILED]]]\n",
      "\n",
      "\"Yet he has not once told the public about the child abuse allegations he faced in 2007 and the discretionary decisions of my office, and more specifically by me as the DA.\"\n",
      "\n",
      "\n",
      "\n"
     ]
    },
    {
     "name": "stderr",
     "output_type": "stream",
     "text": [
      "[Succeeded / Failed / Skipped / Total] 0 / 9 / 0 / 9:   5%| | 10/200 [28:46<9:06/home/harsha/.local/lib/python3.8/site-packages/textattack/loggers/csv_logger.py:41: FutureWarning: The frame.append method is deprecated and will be removed from pandas in a future version. Use pandas.concat instead.\n",
      "  self.df = self.df.append(row, ignore_index=True)\n",
      "[Succeeded / Failed / Skipped / Total] 0 / 10 / 0 / 10:   5%| | 10/200 [28:46<9:"
     ]
    },
    {
     "name": "stdout",
     "output_type": "stream",
     "text": [
      "--------------------------------------------- Result 10 ---------------------------------------------\n",
      "[[2 (13%)]] --> [[[FAILED]]]\n",
      "\n",
      "With about 30 percent of carbon emissions coming from the fossil fuel.\n",
      "\n",
      "\n",
      "\n"
     ]
    },
    {
     "name": "stderr",
     "output_type": "stream",
     "text": [
      "[Succeeded / Failed / Skipped / Total] 0 / 10 / 0 / 10:   6%| | 11/200 [30:56<8:/home/harsha/.local/lib/python3.8/site-packages/textattack/loggers/csv_logger.py:41: FutureWarning: The frame.append method is deprecated and will be removed from pandas in a future version. Use pandas.concat instead.\n",
      "  self.df = self.df.append(row, ignore_index=True)\n",
      "[Succeeded / Failed / Skipped / Total] 0 / 11 / 0 / 11:   6%| | 11/200 [30:56<8:"
     ]
    },
    {
     "name": "stdout",
     "output_type": "stream",
     "text": [
      "--------------------------------------------- Result 11 ---------------------------------------------\n",
      "[[2 (15%)]] --> [[[FAILED]]]\n",
      "\n",
      "You'll be able to choose to play as either the male Alexios or the female Kassandra, both of whom are Spartan \"outcasts-turned-mercenaries\" who appear to have joined the Assassins Brotherhood.\n",
      "\n",
      "\n",
      "\n"
     ]
    },
    {
     "name": "stderr",
     "output_type": "stream",
     "text": [
      "[Succeeded / Failed / Skipped / Total] 0 / 11 / 0 / 11:   6%| | 12/200 [32:39<8:/home/harsha/.local/lib/python3.8/site-packages/textattack/loggers/csv_logger.py:41: FutureWarning: The frame.append method is deprecated and will be removed from pandas in a future version. Use pandas.concat instead.\n",
      "  self.df = self.df.append(row, ignore_index=True)\n",
      "[Succeeded / Failed / Skipped / Total] 0 / 12 / 0 / 12:   6%| | 12/200 [32:39<8:"
     ]
    },
    {
     "name": "stdout",
     "output_type": "stream",
     "text": [
      "--------------------------------------------- Result 12 ---------------------------------------------\n",
      "[[2 (14%)]] --> [[[FAILED]]]\n",
      "\n",
      "\"Under the EU mechanism for distributing 160,000 refugees Hungary would have to take in just 1,294 people currently living in Greece and Italy.\n",
      "\n",
      "\n",
      "\n"
     ]
    },
    {
     "name": "stderr",
     "output_type": "stream",
     "text": [
      "[Succeeded / Failed / Skipped / Total] 0 / 12 / 0 / 12:   6%| | 13/200 [32:58<7:/home/harsha/.local/lib/python3.8/site-packages/textattack/loggers/csv_logger.py:41: FutureWarning: The frame.append method is deprecated and will be removed from pandas in a future version. Use pandas.concat instead.\n",
      "  self.df = self.df.append(row, ignore_index=True)\n",
      "[Succeeded / Failed / Skipped / Total] 1 / 12 / 0 / 13:   6%| | 13/200 [32:58<7:"
     ]
    },
    {
     "name": "stdout",
     "output_type": "stream",
     "text": [
      "--------------------------------------------- Result 13 ---------------------------------------------\n",
      "[[2 (12%)]] --> [[4 (12%)]]\n",
      "\n",
      "[[We]] are [[going]] to [[have]] this [[demonstration]] tomorrow, it's a [[peaceful]] protest.\n",
      "\n",
      "\n",
      "[[Our]] are [[left]] to [[enjoy]] this [[demo]] tomorrow, it's a [[serene]] protest.\n",
      "\n",
      "\n",
      "\n"
     ]
    },
    {
     "name": "stderr",
     "output_type": "stream",
     "text": [
      "[Succeeded / Failed / Skipped / Total] 1 / 12 / 0 / 13:   7%| | 14/200 [37:36<8:/home/harsha/.local/lib/python3.8/site-packages/textattack/loggers/csv_logger.py:41: FutureWarning: The frame.append method is deprecated and will be removed from pandas in a future version. Use pandas.concat instead.\n",
      "  self.df = self.df.append(row, ignore_index=True)\n",
      "[Succeeded / Failed / Skipped / Total] 1 / 13 / 0 / 14:   7%| | 14/200 [37:36<8:"
     ]
    },
    {
     "name": "stdout",
     "output_type": "stream",
     "text": [
      "--------------------------------------------- Result 14 ---------------------------------------------\n",
      "[[2 (14%)]] --> [[[FAILED]]]\n",
      "\n",
      "YouTuber Logan Paul says sorry after posting sickening video of suicide victim hanging from a treeThe American vlogger is hugely popular with children and he provoked outrage after he uploaded the video to his 15 million followers.\n",
      "\n",
      "\n",
      "\n"
     ]
    },
    {
     "name": "stderr",
     "output_type": "stream",
     "text": [
      "[Succeeded / Failed / Skipped / Total] 1 / 13 / 0 / 14:   8%| | 15/200 [37:49<7:/home/harsha/.local/lib/python3.8/site-packages/textattack/loggers/csv_logger.py:41: FutureWarning: The frame.append method is deprecated and will be removed from pandas in a future version. Use pandas.concat instead.\n",
      "  self.df = self.df.append(row, ignore_index=True)\n",
      "[Succeeded / Failed / Skipped / Total] 1 / 14 / 0 / 15:   8%| | 15/200 [37:49<7:"
     ]
    },
    {
     "name": "stdout",
     "output_type": "stream",
     "text": [
      "--------------------------------------------- Result 15 ---------------------------------------------\n",
      "[[2 (15%)]] --> [[[FAILED]]]\n",
      "\n",
      "Who ever is DPM now will take the office of the PM.\n",
      "\n",
      "\n",
      "\n"
     ]
    },
    {
     "name": "stderr",
     "output_type": "stream",
     "text": [
      "[Succeeded / Failed / Skipped / Total] 1 / 14 / 0 / 15:   8%| | 16/200 [40:10<7:/home/harsha/.local/lib/python3.8/site-packages/textattack/loggers/csv_logger.py:41: FutureWarning: The frame.append method is deprecated and will be removed from pandas in a future version. Use pandas.concat instead.\n",
      "  self.df = self.df.append(row, ignore_index=True)\n",
      "[Succeeded / Failed / Skipped / Total] 1 / 15 / 0 / 16:   8%| | 16/200 [40:10<7:"
     ]
    },
    {
     "name": "stdout",
     "output_type": "stream",
     "text": [
      "--------------------------------------------- Result 16 ---------------------------------------------\n",
      "[[2 (15%)]] --> [[[FAILED]]]\n",
      "\n",
      "We've also previously told you how the health board has flown in consultants from Europe and as far as the Middle East to plug gaps within the service.\n",
      "\n",
      "\n",
      "\n"
     ]
    },
    {
     "name": "stderr",
     "output_type": "stream",
     "text": [
      "[Succeeded / Failed / Skipped / Total] 1 / 15 / 0 / 16:   8%| | 17/200 [40:48<7:/home/harsha/.local/lib/python3.8/site-packages/textattack/loggers/csv_logger.py:41: FutureWarning: The frame.append method is deprecated and will be removed from pandas in a future version. Use pandas.concat instead.\n",
      "  self.df = self.df.append(row, ignore_index=True)\n",
      "[Succeeded / Failed / Skipped / Total] 1 / 16 / 0 / 17:   8%| | 17/200 [40:48<7:"
     ]
    },
    {
     "name": "stdout",
     "output_type": "stream",
     "text": [
      "--------------------------------------------- Result 17 ---------------------------------------------\n",
      "[[2 (13%)]] --> [[[FAILED]]]\n",
      "\n",
      "We are in the hospital suffering,\" Deivis' mother, Sandra Galindez, told me and my colleagues.\n",
      "\n",
      "\n",
      "\n"
     ]
    },
    {
     "name": "stderr",
     "output_type": "stream",
     "text": [
      "[Succeeded / Failed / Skipped / Total] 1 / 16 / 0 / 17:   9%| | 18/200 [44:19<7:/home/harsha/.local/lib/python3.8/site-packages/textattack/loggers/csv_logger.py:41: FutureWarning: The frame.append method is deprecated and will be removed from pandas in a future version. Use pandas.concat instead.\n",
      "  self.df = self.df.append(row, ignore_index=True)\n",
      "[Succeeded / Failed / Skipped / Total] 1 / 17 / 0 / 18:   9%| | 18/200 [44:19<7:"
     ]
    },
    {
     "name": "stdout",
     "output_type": "stream",
     "text": [
      "--------------------------------------------- Result 18 ---------------------------------------------\n",
      "[[2 (16%)]] --> [[[FAILED]]]\n",
      "\n",
      "While the menu has expanded to pizzas and other items in the past decade, Fatiga's strength -- and what makes it one of the truly best eating experiences in Arkansas -- is its selection of Italian subs.\n",
      "\n",
      "\n",
      "\n"
     ]
    },
    {
     "name": "stderr",
     "output_type": "stream",
     "text": [
      "[Succeeded / Failed / Skipped / Total] 1 / 17 / 0 / 18:  10%| | 19/200 [46:07<7:/home/harsha/.local/lib/python3.8/site-packages/textattack/loggers/csv_logger.py:41: FutureWarning: The frame.append method is deprecated and will be removed from pandas in a future version. Use pandas.concat instead.\n",
      "  self.df = self.df.append(row, ignore_index=True)\n",
      "[Succeeded / Failed / Skipped / Total] 1 / 18 / 0 / 19:  10%| | 19/200 [46:07<7:"
     ]
    },
    {
     "name": "stdout",
     "output_type": "stream",
     "text": [
      "--------------------------------------------- Result 19 ---------------------------------------------\n",
      "[[2 (13%)]] --> [[[FAILED]]]\n",
      "\n",
      "\"You can do far more than you ever expected if you just push yourself and keep going, and if someone tells you no, you just continue on.\"\n",
      "\n",
      "\n",
      "\n"
     ]
    },
    {
     "name": "stderr",
     "output_type": "stream",
     "text": [
      "[Succeeded / Failed / Skipped / Total] 1 / 18 / 0 / 19:  10%| | 20/200 [48:28<7:/home/harsha/.local/lib/python3.8/site-packages/textattack/loggers/csv_logger.py:41: FutureWarning: The frame.append method is deprecated and will be removed from pandas in a future version. Use pandas.concat instead.\n",
      "  self.df = self.df.append(row, ignore_index=True)\n",
      "[Succeeded / Failed / Skipped / Total] 1 / 19 / 0 / 20:  10%| | 20/200 [48:28<7:"
     ]
    },
    {
     "name": "stdout",
     "output_type": "stream",
     "text": [
      "--------------------------------------------- Result 20 ---------------------------------------------\n",
      "[[2 (13%)]] --> [[[FAILED]]]\n",
      "\n",
      "\"What makes the F1 in Schools Technology Challenge different,\" said Mr Sangari, \"is that it entails a comprehensive and inclusive learning approach.\n",
      "\n",
      "\n",
      "\n"
     ]
    },
    {
     "name": "stderr",
     "output_type": "stream",
     "text": [
      "[Succeeded / Failed / Skipped / Total] 1 / 19 / 0 / 20:  10%| | 21/200 [51:02<7:/home/harsha/.local/lib/python3.8/site-packages/textattack/loggers/csv_logger.py:41: FutureWarning: The frame.append method is deprecated and will be removed from pandas in a future version. Use pandas.concat instead.\n",
      "  self.df = self.df.append(row, ignore_index=True)\n",
      "[Succeeded / Failed / Skipped / Total] 2 / 19 / 0 / 21:  10%| | 21/200 [51:02<7:"
     ]
    },
    {
     "name": "stdout",
     "output_type": "stream",
     "text": [
      "--------------------------------------------- Result 21 ---------------------------------------------\n",
      "[[2 (13%)]] --> [[1 (12%)]]\n",
      "\n",
      "[[Washington]] [[has]] [[shown]] [[signs]] of shrugging off its [[role]] as a [[world]] leader, and [[nations]] such as Russia and [[China]], which [[do]] not [[see]] Western humanitarian [[values]] as universal, wield [[growing]] global clout.\n",
      "\n",
      "\n",
      "[[Spokane]] [[possesses]] [[demonstrate]] [[label]] of shrugging off its [[features]] as a [[globe]] leader, and [[estados]] such as Russia and [[Wah]], which [[fait]] not [[listen]] Western humanitarian [[interest]] as universal, wield [[rises]] global clout.\n",
      "\n",
      "\n",
      "\n"
     ]
    },
    {
     "name": "stderr",
     "output_type": "stream",
     "text": [
      "[Succeeded / Failed / Skipped / Total] 2 / 19 / 0 / 21:  11%| | 22/200 [52:11<7:/home/harsha/.local/lib/python3.8/site-packages/textattack/loggers/csv_logger.py:41: FutureWarning: The frame.append method is deprecated and will be removed from pandas in a future version. Use pandas.concat instead.\n",
      "  self.df = self.df.append(row, ignore_index=True)\n",
      "[Succeeded / Failed / Skipped / Total] 3 / 19 / 0 / 22:  11%| | 22/200 [52:11<7:"
     ]
    },
    {
     "name": "stdout",
     "output_type": "stream",
     "text": [
      "--------------------------------------------- Result 22 ---------------------------------------------\n",
      "[[2 (13%)]] --> [[6 (12%)]]\n",
      "\n",
      "[[While]] fewer [[people]] may [[have]] died in [[Las]] [[Vegas]] if bump stocks were [[banned]], the devices [[have]] rarely, if ever, been used in prior [[shootings]].\n",
      "\n",
      "\n",
      "[[Despite]] fewer [[men]] may [[possessed]] died in [[De]] [[Harrah]] if bump stocks were [[prohibit]], the devices [[possessed]] rarely, if ever, been used in prior [[killings]].\n",
      "\n",
      "\n",
      "\n"
     ]
    },
    {
     "name": "stderr",
     "output_type": "stream",
     "text": [
      "[Succeeded / Failed / Skipped / Total] 3 / 19 / 0 / 22:  12%| | 23/200 [52:50<6:/home/harsha/.local/lib/python3.8/site-packages/textattack/loggers/csv_logger.py:41: FutureWarning: The frame.append method is deprecated and will be removed from pandas in a future version. Use pandas.concat instead.\n",
      "  self.df = self.df.append(row, ignore_index=True)\n",
      "[Succeeded / Failed / Skipped / Total] 3 / 20 / 0 / 23:  12%| | 23/200 [52:50<6:"
     ]
    },
    {
     "name": "stdout",
     "output_type": "stream",
     "text": [
      "--------------------------------------------- Result 23 ---------------------------------------------\n",
      "[[2 (15%)]] --> [[[FAILED]]]\n",
      "\n",
      "When a dispute occurred, the latter asked for the return of the deposits.\n",
      "\n",
      "\n",
      "\n"
     ]
    },
    {
     "name": "stderr",
     "output_type": "stream",
     "text": [
      "[Succeeded / Failed / Skipped / Total] 3 / 20 / 0 / 23:  12%| | 24/200 [53:54<6:/home/harsha/.local/lib/python3.8/site-packages/textattack/loggers/csv_logger.py:41: FutureWarning: The frame.append method is deprecated and will be removed from pandas in a future version. Use pandas.concat instead.\n",
      "  self.df = self.df.append(row, ignore_index=True)\n",
      "[Succeeded / Failed / Skipped / Total] 4 / 20 / 0 / 24:  12%| | 24/200 [53:54<6:"
     ]
    },
    {
     "name": "stdout",
     "output_type": "stream",
     "text": [
      "--------------------------------------------- Result 24 ---------------------------------------------\n",
      "[[2 (13%)]] --> [[4 (12%)]]\n",
      "\n",
      "When Uber [[came]] to [[Sri]] Lanka they [[will]] [[use]] someone else's assets [[though]] it is over Uber's arrival that we [[will]] [[have]] a big [[bash]]!\n",
      "\n",
      "\n",
      "When Uber [[gotten]] to [[Lanka]] Lanka they [[desire]] [[uso]] someone else's assets [[despite]] it is over Uber's arrival that we [[desire]] [[possesses]] a big [[bashes]]!\n",
      "\n",
      "\n",
      "\n"
     ]
    },
    {
     "name": "stderr",
     "output_type": "stream",
     "text": [
      "[Succeeded / Failed / Skipped / Total] 4 / 20 / 0 / 24:  12%|▏| 25/200 [54:49<6:/home/harsha/.local/lib/python3.8/site-packages/textattack/loggers/csv_logger.py:41: FutureWarning: The frame.append method is deprecated and will be removed from pandas in a future version. Use pandas.concat instead.\n",
      "  self.df = self.df.append(row, ignore_index=True)\n",
      "[Succeeded / Failed / Skipped / Total] 4 / 21 / 0 / 25:  12%|▏| 25/200 [54:49<6:"
     ]
    },
    {
     "name": "stdout",
     "output_type": "stream",
     "text": [
      "--------------------------------------------- Result 25 ---------------------------------------------\n",
      "[[2 (13%)]] --> [[[FAILED]]]\n",
      "\n",
      "We'll see a bigger cool down and the chance for some heavy snow across parts of Colorado.\n",
      "\n",
      "\n",
      "\n"
     ]
    },
    {
     "name": "stderr",
     "output_type": "stream",
     "text": [
      "[Succeeded / Failed / Skipped / Total] 4 / 21 / 0 / 25:  13%|▏| 26/200 [56:02<6:/home/harsha/.local/lib/python3.8/site-packages/textattack/loggers/csv_logger.py:41: FutureWarning: The frame.append method is deprecated and will be removed from pandas in a future version. Use pandas.concat instead.\n",
      "  self.df = self.df.append(row, ignore_index=True)\n",
      "[Succeeded / Failed / Skipped / Total] 4 / 22 / 0 / 26:  13%|▏| 26/200 [56:02<6:"
     ]
    },
    {
     "name": "stdout",
     "output_type": "stream",
     "text": [
      "--------------------------------------------- Result 26 ---------------------------------------------\n",
      "[[2 (14%)]] --> [[[FAILED]]]\n",
      "\n",
      "What I learned about Budapest the morning we arrived was that it hid some secret gardens we were about to discover.\n",
      "\n",
      "\n",
      "\n"
     ]
    },
    {
     "name": "stderr",
     "output_type": "stream",
     "text": [
      "[Succeeded / Failed / Skipped / Total] 4 / 22 / 0 / 26:  14%|▏| 27/200 [56:16<6:/home/harsha/.local/lib/python3.8/site-packages/textattack/loggers/csv_logger.py:41: FutureWarning: The frame.append method is deprecated and will be removed from pandas in a future version. Use pandas.concat instead.\n",
      "  self.df = self.df.append(row, ignore_index=True)\n",
      "[Succeeded / Failed / Skipped / Total] 5 / 22 / 0 / 27:  14%|▏| 27/200 [56:16<6:"
     ]
    },
    {
     "name": "stdout",
     "output_type": "stream",
     "text": [
      "--------------------------------------------- Result 27 ---------------------------------------------\n",
      "[[2 (12%)]] --> [[4 (11%)]]\n",
      "\n",
      "[[Wildflower]], from that [[day]] [[forward]], [[excelled]] almost [[like]] no dog I've ever [[trained]].\n",
      "\n",
      "\n",
      "[[Dogwood]], from that [[moment]] [[impatiently]], [[flourished]] almost [[adore]] no dog I've ever [[adept]].\n",
      "\n",
      "\n",
      "\n"
     ]
    },
    {
     "name": "stderr",
     "output_type": "stream",
     "text": [
      "[Succeeded / Failed / Skipped / Total] 5 / 22 / 0 / 27:  14%|▏| 28/200 [57:23<5:/home/harsha/.local/lib/python3.8/site-packages/textattack/loggers/csv_logger.py:41: FutureWarning: The frame.append method is deprecated and will be removed from pandas in a future version. Use pandas.concat instead.\n",
      "  self.df = self.df.append(row, ignore_index=True)\n",
      "[Succeeded / Failed / Skipped / Total] 5 / 23 / 0 / 28:  14%|▏| 28/200 [57:23<5:"
     ]
    },
    {
     "name": "stdout",
     "output_type": "stream",
     "text": [
      "--------------------------------------------- Result 28 ---------------------------------------------\n",
      "[[2 (14%)]] --> [[[FAILED]]]\n",
      "\n",
      "\"What we're trying to do, is we're trying to build up our capacity to do projects with the Ring of Fire.\"\n",
      "\n",
      "\n",
      "\n"
     ]
    },
    {
     "name": "stderr",
     "output_type": "stream",
     "text": [
      "[Succeeded / Failed / Skipped / Total] 5 / 23 / 0 / 28:  14%|▏| 29/200 [1:02:14</home/harsha/.local/lib/python3.8/site-packages/textattack/loggers/csv_logger.py:41: FutureWarning: The frame.append method is deprecated and will be removed from pandas in a future version. Use pandas.concat instead.\n",
      "  self.df = self.df.append(row, ignore_index=True)\n",
      "[Succeeded / Failed / Skipped / Total] 5 / 24 / 0 / 29:  14%|▏| 29/200 [1:02:14<"
     ]
    },
    {
     "name": "stdout",
     "output_type": "stream",
     "text": [
      "--------------------------------------------- Result 29 ---------------------------------------------\n",
      "[[2 (15%)]] --> [[[FAILED]]]\n",
      "\n",
      "While proponents of the legislation argued the existing regulations hindered economic growth, conservationists fear the price paid for environmental degradation is often lost in the debate.\n",
      "\n",
      "\n",
      "\n"
     ]
    },
    {
     "name": "stderr",
     "output_type": "stream",
     "text": [
      "[Succeeded / Failed / Skipped / Total] 5 / 24 / 0 / 29:  15%|▏| 30/200 [1:02:42</home/harsha/.local/lib/python3.8/site-packages/textattack/loggers/csv_logger.py:41: FutureWarning: The frame.append method is deprecated and will be removed from pandas in a future version. Use pandas.concat instead.\n",
      "  self.df = self.df.append(row, ignore_index=True)\n",
      "[Succeeded / Failed / Skipped / Total] 6 / 24 / 0 / 30:  15%|▏| 30/200 [1:02:42<"
     ]
    },
    {
     "name": "stdout",
     "output_type": "stream",
     "text": [
      "--------------------------------------------- Result 30 ---------------------------------------------\n",
      "[[2 (12%)]] --> [[4 (12%)]]\n",
      "\n",
      "We desperately [[need]] to [[spend]] more on [[health]], [[public]] [[services]] and [[education]].\n",
      "\n",
      "\n",
      "We desperately [[prerequisite]] to [[invest]] more on [[sante]], [[demographics]] [[facility]] and [[nurturing]].\n",
      "\n",
      "\n",
      "\n"
     ]
    },
    {
     "name": "stderr",
     "output_type": "stream",
     "text": [
      "[Succeeded / Failed / Skipped / Total] 6 / 24 / 0 / 30:  16%|▏| 31/200 [1:03:47</home/harsha/.local/lib/python3.8/site-packages/textattack/loggers/csv_logger.py:41: FutureWarning: The frame.append method is deprecated and will be removed from pandas in a future version. Use pandas.concat instead.\n",
      "  self.df = self.df.append(row, ignore_index=True)\n",
      "[Succeeded / Failed / Skipped / Total] 6 / 25 / 0 / 31:  16%|▏| 31/200 [1:03:47<"
     ]
    },
    {
     "name": "stdout",
     "output_type": "stream",
     "text": [
      "--------------------------------------------- Result 31 ---------------------------------------------\n",
      "[[2 (13%)]] --> [[[FAILED]]]\n",
      "\n",
      "You chose to think of materialism and greed when you walk through those \"heavy glass doors.\"\n",
      "\n",
      "\n",
      "\n"
     ]
    },
    {
     "name": "stderr",
     "output_type": "stream",
     "text": [
      "[Succeeded / Failed / Skipped / Total] 6 / 25 / 0 / 31:  16%|▏| 32/200 [1:05:36</home/harsha/.local/lib/python3.8/site-packages/textattack/loggers/csv_logger.py:41: FutureWarning: The frame.append method is deprecated and will be removed from pandas in a future version. Use pandas.concat instead.\n",
      "  self.df = self.df.append(row, ignore_index=True)\n",
      "[Succeeded / Failed / Skipped / Total] 6 / 26 / 0 / 32:  16%|▏| 32/200 [1:05:36<"
     ]
    },
    {
     "name": "stdout",
     "output_type": "stream",
     "text": [
      "--------------------------------------------- Result 32 ---------------------------------------------\n",
      "[[2 (15%)]] --> [[[FAILED]]]\n",
      "\n",
      "We also plan to grow in the business, at the moment in 2010 the capacity is 3.2 MMt but we expected to 5.3 MMt by Q1'11 and 5.8 MMt by end of 2011.\n",
      "\n",
      "\n",
      "\n"
     ]
    },
    {
     "name": "stderr",
     "output_type": "stream",
     "text": [
      "[Succeeded / Failed / Skipped / Total] 6 / 26 / 0 / 32:  16%|▏| 33/200 [1:10:51</home/harsha/.local/lib/python3.8/site-packages/textattack/loggers/csv_logger.py:41: FutureWarning: The frame.append method is deprecated and will be removed from pandas in a future version. Use pandas.concat instead.\n",
      "  self.df = self.df.append(row, ignore_index=True)\n",
      "[Succeeded / Failed / Skipped / Total] 6 / 27 / 0 / 33:  16%|▏| 33/200 [1:10:51<"
     ]
    },
    {
     "name": "stdout",
     "output_type": "stream",
     "text": [
      "--------------------------------------------- Result 33 ---------------------------------------------\n",
      "[[2 (14%)]] --> [[[FAILED]]]\n",
      "\n",
      "Zhu Xiaohu, founder of GSR Ventures, said at a speech in April that mini programs will overturn the giants of PC and mobile Internet, and that total investment in mini programs could reach the tens of billions of yuan this year.\n",
      "\n",
      "\n",
      "\n"
     ]
    },
    {
     "name": "stderr",
     "output_type": "stream",
     "text": [
      "[Succeeded / Failed / Skipped / Total] 6 / 27 / 0 / 33:  17%|▏| 34/200 [1:14:04</home/harsha/.local/lib/python3.8/site-packages/textattack/loggers/csv_logger.py:41: FutureWarning: The frame.append method is deprecated and will be removed from pandas in a future version. Use pandas.concat instead.\n",
      "  self.df = self.df.append(row, ignore_index=True)\n",
      "[Succeeded / Failed / Skipped / Total] 7 / 27 / 0 / 34:  17%|▏| 34/200 [1:14:04<"
     ]
    },
    {
     "name": "stdout",
     "output_type": "stream",
     "text": [
      "--------------------------------------------- Result 34 ---------------------------------------------\n",
      "[[2 (13%)]] --> [[4 (12%)]]\n",
      "\n",
      "What's to [[keep]] corporate [[interests]] from [[complaining]] that our [[land]] [[use]] [[laws]] are at variance with future [[congressional]] legisltion, [[affect]] inter-state commerce, and don't [[have]] to [[be]] [[followed]] by out of state developers?\n",
      "\n",
      "\n",
      "What's to [[kept]] corporate [[interest]] from [[complains]] that our [[soils]] [[utilise]] [[statute]] are at variance with future [[democrat]] legisltion, [[detriment]] inter-state commerce, and don't [[possesses]] to [[sont]] [[supervise]] by out of state developers?\n",
      "\n",
      "\n",
      "\n"
     ]
    },
    {
     "name": "stderr",
     "output_type": "stream",
     "text": [
      "[Succeeded / Failed / Skipped / Total] 7 / 27 / 0 / 34:  18%|▏| 35/200 [1:14:21</home/harsha/.local/lib/python3.8/site-packages/textattack/loggers/csv_logger.py:41: FutureWarning: The frame.append method is deprecated and will be removed from pandas in a future version. Use pandas.concat instead.\n",
      "  self.df = self.df.append(row, ignore_index=True)\n",
      "[Succeeded / Failed / Skipped / Total] 7 / 28 / 0 / 35:  18%|▏| 35/200 [1:14:21<"
     ]
    },
    {
     "name": "stdout",
     "output_type": "stream",
     "text": [
      "--------------------------------------------- Result 35 ---------------------------------------------\n",
      "[[2 (13%)]] --> [[[FAILED]]]\n",
      "\n",
      "When a person dies, his soul passes on to the next World.\n",
      "\n",
      "\n",
      "\n"
     ]
    },
    {
     "name": "stderr",
     "output_type": "stream",
     "text": [
      "[Succeeded / Failed / Skipped / Total] 7 / 28 / 0 / 35:  18%|▏| 36/200 [1:16:15</home/harsha/.local/lib/python3.8/site-packages/textattack/loggers/csv_logger.py:41: FutureWarning: The frame.append method is deprecated and will be removed from pandas in a future version. Use pandas.concat instead.\n",
      "  self.df = self.df.append(row, ignore_index=True)\n",
      "[Succeeded / Failed / Skipped / Total] 7 / 29 / 0 / 36:  18%|▏| 36/200 [1:16:15<"
     ]
    },
    {
     "name": "stdout",
     "output_type": "stream",
     "text": [
      "--------------------------------------------- Result 36 ---------------------------------------------\n",
      "[[2 (13%)]] --> [[[FAILED]]]\n",
      "\n",
      "We've got to do a good job of selling our kids on what we're trying to do and what we're trying to build at Smiths Station.\n",
      "\n",
      "\n",
      "\n"
     ]
    },
    {
     "name": "stderr",
     "output_type": "stream",
     "text": [
      "[Succeeded / Failed / Skipped / Total] 7 / 29 / 0 / 36:  18%|▏| 37/200 [1:18:18</home/harsha/.local/lib/python3.8/site-packages/textattack/loggers/csv_logger.py:41: FutureWarning: The frame.append method is deprecated and will be removed from pandas in a future version. Use pandas.concat instead.\n",
      "  self.df = self.df.append(row, ignore_index=True)\n",
      "[Succeeded / Failed / Skipped / Total] 7 / 30 / 0 / 37:  18%|▏| 37/200 [1:18:18<"
     ]
    },
    {
     "name": "stdout",
     "output_type": "stream",
     "text": [
      "--------------------------------------------- Result 37 ---------------------------------------------\n",
      "[[2 (15%)]] --> [[[FAILED]]]\n",
      "\n",
      "Your next chance to see the team is tomorrow (Tuesday) night at the Brindy, when they again take on the Glacier Kings before heading down-Island for a rematch against Oceanside Friday night.\n",
      "\n",
      "\n",
      "\n"
     ]
    },
    {
     "name": "stderr",
     "output_type": "stream",
     "text": [
      "[Succeeded / Failed / Skipped / Total] 7 / 30 / 0 / 37:  19%|▏| 38/200 [1:20:38</home/harsha/.local/lib/python3.8/site-packages/textattack/loggers/csv_logger.py:41: FutureWarning: The frame.append method is deprecated and will be removed from pandas in a future version. Use pandas.concat instead.\n",
      "  self.df = self.df.append(row, ignore_index=True)\n",
      "[Succeeded / Failed / Skipped / Total] 7 / 31 / 0 / 38:  19%|▏| 38/200 [1:20:38<"
     ]
    },
    {
     "name": "stdout",
     "output_type": "stream",
     "text": [
      "--------------------------------------------- Result 38 ---------------------------------------------\n",
      "[[2 (16%)]] --> [[[FAILED]]]\n",
      "\n",
      "Yet when Ponderosa swept Longmont just as they had Berthoud earlier in the day, Berthoud was consigned to the fact that the next day's match, their final of the season, would be for nothing but pride.\n",
      "\n",
      "\n",
      "\n"
     ]
    },
    {
     "name": "stderr",
     "output_type": "stream",
     "text": [
      "[Succeeded / Failed / Skipped / Total] 7 / 31 / 0 / 38:  20%|▏| 39/200 [1:21:08</home/harsha/.local/lib/python3.8/site-packages/textattack/loggers/csv_logger.py:41: FutureWarning: The frame.append method is deprecated and will be removed from pandas in a future version. Use pandas.concat instead.\n",
      "  self.df = self.df.append(row, ignore_index=True)\n",
      "[Succeeded / Failed / Skipped / Total] 7 / 32 / 0 / 39:  20%|▏| 39/200 [1:21:08<"
     ]
    },
    {
     "name": "stdout",
     "output_type": "stream",
     "text": [
      "--------------------------------------------- Result 39 ---------------------------------------------\n",
      "[[2 (14%)]] --> [[[FAILED]]]\n",
      "\n",
      "Where were these investors when public fund was being committed to the same project?\n",
      "\n",
      "\n",
      "\n"
     ]
    },
    {
     "name": "stderr",
     "output_type": "stream",
     "text": [
      "[Succeeded / Failed / Skipped / Total] 7 / 32 / 0 / 39:  20%|▏| 40/200 [1:22:28</home/harsha/.local/lib/python3.8/site-packages/textattack/loggers/csv_logger.py:41: FutureWarning: The frame.append method is deprecated and will be removed from pandas in a future version. Use pandas.concat instead.\n",
      "  self.df = self.df.append(row, ignore_index=True)\n",
      "[Succeeded / Failed / Skipped / Total] 7 / 33 / 0 / 40:  20%|▏| 40/200 [1:22:28<"
     ]
    },
    {
     "name": "stdout",
     "output_type": "stream",
     "text": [
      "--------------------------------------------- Result 40 ---------------------------------------------\n",
      "[[2 (16%)]] --> [[[FAILED]]]\n",
      "\n",
      "What I can't find anywhere online is the names of the photographers in the exhibition -- I'd run their names if I could find them all.\n",
      "\n",
      "\n",
      "\n"
     ]
    },
    {
     "name": "stderr",
     "output_type": "stream",
     "text": [
      "[Succeeded / Failed / Skipped / Total] 7 / 33 / 0 / 40:  20%|▏| 41/200 [1:23:09</home/harsha/.local/lib/python3.8/site-packages/textattack/loggers/csv_logger.py:41: FutureWarning: The frame.append method is deprecated and will be removed from pandas in a future version. Use pandas.concat instead.\n",
      "  self.df = self.df.append(row, ignore_index=True)\n",
      "[Succeeded / Failed / Skipped / Total] 7 / 34 / 0 / 41:  20%|▏| 41/200 [1:23:09<"
     ]
    },
    {
     "name": "stdout",
     "output_type": "stream",
     "text": [
      "--------------------------------------------- Result 41 ---------------------------------------------\n",
      "[[2 (14%)]] --> [[[FAILED]]]\n",
      "\n",
      "Walk north on Cadman, past some mansions built on the leafy hillside, and enter the woods.\n",
      "\n",
      "\n",
      "\n"
     ]
    },
    {
     "name": "stderr",
     "output_type": "stream",
     "text": [
      "[Succeeded / Failed / Skipped / Total] 7 / 34 / 0 / 41:  21%|▏| 42/200 [1:23:55</home/harsha/.local/lib/python3.8/site-packages/textattack/loggers/csv_logger.py:41: FutureWarning: The frame.append method is deprecated and will be removed from pandas in a future version. Use pandas.concat instead.\n",
      "  self.df = self.df.append(row, ignore_index=True)\n",
      "[Succeeded / Failed / Skipped / Total] 8 / 34 / 0 / 42:  21%|▏| 42/200 [1:23:55<"
     ]
    },
    {
     "name": "stdout",
     "output_type": "stream",
     "text": [
      "--------------------------------------------- Result 42 ---------------------------------------------\n",
      "[[2 (12%)]] --> [[4 (11%)]]\n",
      "\n",
      "[[While]] it [[contained]] methylone, a chemical [[nearly]] identical to MDMA, it was a [[different]] drug [[altogether]].\n",
      "\n",
      "\n",
      "[[Despite]] it [[described]] methylone, a chemical [[approximately]] identical to MDMA, it was a [[multiplicity]] drug [[abundantly]].\n",
      "\n",
      "\n",
      "\n"
     ]
    },
    {
     "name": "stderr",
     "output_type": "stream",
     "text": [
      "[Succeeded / Failed / Skipped / Total] 8 / 34 / 0 / 42:  22%|▏| 43/200 [1:24:34</home/harsha/.local/lib/python3.8/site-packages/textattack/loggers/csv_logger.py:41: FutureWarning: The frame.append method is deprecated and will be removed from pandas in a future version. Use pandas.concat instead.\n",
      "  self.df = self.df.append(row, ignore_index=True)\n",
      "[Succeeded / Failed / Skipped / Total] 8 / 35 / 0 / 43:  22%|▏| 43/200 [1:24:34<"
     ]
    },
    {
     "name": "stdout",
     "output_type": "stream",
     "text": [
      "--------------------------------------------- Result 43 ---------------------------------------------\n",
      "[[2 (16%)]] --> [[[FAILED]]]\n",
      "\n",
      "We are running more and more trains all the time and that is what is causing the problem, the capacity on the track.\n",
      "\n",
      "\n",
      "\n"
     ]
    },
    {
     "name": "stderr",
     "output_type": "stream",
     "text": [
      "[Succeeded / Failed / Skipped / Total] 8 / 35 / 0 / 43:  22%|▏| 44/200 [1:26:13</home/harsha/.local/lib/python3.8/site-packages/textattack/loggers/csv_logger.py:41: FutureWarning: The frame.append method is deprecated and will be removed from pandas in a future version. Use pandas.concat instead.\n",
      "  self.df = self.df.append(row, ignore_index=True)\n",
      "[Succeeded / Failed / Skipped / Total] 8 / 36 / 0 / 44:  22%|▏| 44/200 [1:26:13<"
     ]
    },
    {
     "name": "stdout",
     "output_type": "stream",
     "text": [
      "--------------------------------------------- Result 44 ---------------------------------------------\n",
      "[[2 (14%)]] --> [[[FAILED]]]\n",
      "\n",
      "With older artists, the law of diminishing returns often applies, and it's sad when our musical heroes overstay their welcome.\n",
      "\n",
      "\n",
      "\n"
     ]
    },
    {
     "name": "stderr",
     "output_type": "stream",
     "text": [
      "[Succeeded / Failed / Skipped / Total] 8 / 36 / 0 / 44:  22%|▏| 45/200 [1:28:13</home/harsha/.local/lib/python3.8/site-packages/textattack/loggers/csv_logger.py:41: FutureWarning: The frame.append method is deprecated and will be removed from pandas in a future version. Use pandas.concat instead.\n",
      "  self.df = self.df.append(row, ignore_index=True)\n",
      "[Succeeded / Failed / Skipped / Total] 8 / 37 / 0 / 45:  22%|▏| 45/200 [1:28:13<"
     ]
    },
    {
     "name": "stdout",
     "output_type": "stream",
     "text": [
      "--------------------------------------------- Result 45 ---------------------------------------------\n",
      "[[2 (13%)]] --> [[[FAILED]]]\n",
      "\n",
      "We hope Malala can avoid being manipulated on China-related issues while striving for education equality and the global human rights cause.\n",
      "\n",
      "\n",
      "\n"
     ]
    },
    {
     "name": "stderr",
     "output_type": "stream",
     "text": [
      "[Succeeded / Failed / Skipped / Total] 8 / 37 / 0 / 45:  23%|▏| 46/200 [1:29:28</home/harsha/.local/lib/python3.8/site-packages/textattack/loggers/csv_logger.py:41: FutureWarning: The frame.append method is deprecated and will be removed from pandas in a future version. Use pandas.concat instead.\n",
      "  self.df = self.df.append(row, ignore_index=True)\n",
      "[Succeeded / Failed / Skipped / Total] 8 / 38 / 0 / 46:  23%|▏| 46/200 [1:29:28<"
     ]
    },
    {
     "name": "stdout",
     "output_type": "stream",
     "text": [
      "--------------------------------------------- Result 46 ---------------------------------------------\n",
      "[[2 (15%)]] --> [[[FAILED]]]\n",
      "\n",
      "\"We don't receive any inspections from the Ministry of Manpower in these hills, as these quarries are part of the informal sector.\n",
      "\n",
      "\n",
      "\n"
     ]
    },
    {
     "name": "stderr",
     "output_type": "stream",
     "text": [
      "[Succeeded / Failed / Skipped / Total] 8 / 38 / 0 / 46:  24%|▏| 47/200 [1:31:08</home/harsha/.local/lib/python3.8/site-packages/textattack/loggers/csv_logger.py:41: FutureWarning: The frame.append method is deprecated and will be removed from pandas in a future version. Use pandas.concat instead.\n",
      "  self.df = self.df.append(row, ignore_index=True)\n",
      "[Succeeded / Failed / Skipped / Total] 8 / 39 / 0 / 47:  24%|▏| 47/200 [1:31:08<"
     ]
    },
    {
     "name": "stdout",
     "output_type": "stream",
     "text": [
      "--------------------------------------------- Result 47 ---------------------------------------------\n",
      "[[2 (14%)]] --> [[[FAILED]]]\n",
      "\n",
      "Vince Cate visited the Sandy Ground site and reports that they are finding a great deal of Amerindian material.\n",
      "\n",
      "\n",
      "\n"
     ]
    },
    {
     "name": "stderr",
     "output_type": "stream",
     "text": [
      "[Succeeded / Failed / Skipped / Total] 8 / 39 / 0 / 47:  24%|▏| 48/200 [1:32:09</home/harsha/.local/lib/python3.8/site-packages/textattack/loggers/csv_logger.py:41: FutureWarning: The frame.append method is deprecated and will be removed from pandas in a future version. Use pandas.concat instead.\n",
      "  self.df = self.df.append(row, ignore_index=True)\n",
      "[Succeeded / Failed / Skipped / Total] 8 / 40 / 0 / 48:  24%|▏| 48/200 [1:32:09<"
     ]
    },
    {
     "name": "stdout",
     "output_type": "stream",
     "text": [
      "--------------------------------------------- Result 48 ---------------------------------------------\n",
      "[[2 (13%)]] --> [[[FAILED]]]\n",
      "\n",
      "\"We got a goot chance to look at a lot of kids and most of them got a lot of playing time.\"\n",
      "\n",
      "\n",
      "\n"
     ]
    },
    {
     "name": "stderr",
     "output_type": "stream",
     "text": [
      "[Succeeded / Failed / Skipped / Total] 8 / 40 / 0 / 48:  24%|▏| 49/200 [1:36:53</home/harsha/.local/lib/python3.8/site-packages/textattack/loggers/csv_logger.py:41: FutureWarning: The frame.append method is deprecated and will be removed from pandas in a future version. Use pandas.concat instead.\n",
      "  self.df = self.df.append(row, ignore_index=True)\n",
      "[Succeeded / Failed / Skipped / Total] 9 / 40 / 0 / 49:  24%|▏| 49/200 [1:36:53<"
     ]
    },
    {
     "name": "stdout",
     "output_type": "stream",
     "text": [
      "--------------------------------------------- Result 49 ---------------------------------------------\n",
      "[[2 (13%)]] --> [[1 (12%)]]\n",
      "\n",
      "[[Vancouver]] [[lawyer]] [[Kyla]] [[Lee]] and her [[firm]], Acumen [[Law]] [[Corp]]., [[claimed]] at [[trial]] that a Google [[Plus]] [[review]] [[calling]] her the \"worstest lawyer\" [[led]] to a [[decline]] in [[client]] [[calls]].\n",
      "\n",
      "\n",
      "[[Kitchener]] [[defender]] [[Noelle]] [[Lu]] and her [[enterprise]], Acumen [[Statute]] [[Enterprises]]., [[demanded]] at [[experimental]] that a Google [[Grander]] [[scrutinized]] [[request]] her the \"worstest lawyer\" [[driven]] to a [[drop]] in [[clientele]] [[demanded]].\n",
      "\n",
      "\n",
      "\n"
     ]
    },
    {
     "name": "stderr",
     "output_type": "stream",
     "text": [
      "[Succeeded / Failed / Skipped / Total] 9 / 40 / 0 / 49:  25%|▎| 50/200 [1:40:09</home/harsha/.local/lib/python3.8/site-packages/textattack/loggers/csv_logger.py:41: FutureWarning: The frame.append method is deprecated and will be removed from pandas in a future version. Use pandas.concat instead.\n",
      "  self.df = self.df.append(row, ignore_index=True)\n",
      "[Succeeded / Failed / Skipped / Total] 9 / 41 / 0 / 50:  25%|▎| 50/200 [1:40:09<"
     ]
    },
    {
     "name": "stdout",
     "output_type": "stream",
     "text": [
      "--------------------------------------------- Result 50 ---------------------------------------------\n",
      "[[2 (14%)]] --> [[[FAILED]]]\n",
      "\n",
      "While the kingdom has borrowed heavily on the Saudi money markets, it can easily float sovereign debt on the international debt market to ease its domestic credit crunch.\n",
      "\n",
      "\n",
      "\n"
     ]
    },
    {
     "name": "stderr",
     "output_type": "stream",
     "text": [
      "[Succeeded / Failed / Skipped / Total] 9 / 41 / 0 / 50:  26%|▎| 51/200 [1:40:41</home/harsha/.local/lib/python3.8/site-packages/textattack/loggers/csv_logger.py:41: FutureWarning: The frame.append method is deprecated and will be removed from pandas in a future version. Use pandas.concat instead.\n",
      "  self.df = self.df.append(row, ignore_index=True)\n",
      "[Succeeded / Failed / Skipped / Total] 9 / 42 / 0 / 51:  26%|▎| 51/200 [1:40:41<"
     ]
    },
    {
     "name": "stdout",
     "output_type": "stream",
     "text": [
      "--------------------------------------------- Result 51 ---------------------------------------------\n",
      "[[2 (14%)]] --> [[[FAILED]]]\n",
      "\n",
      "Will people need to go to the electoral district to vote?\n",
      "\n",
      "\n",
      "\n"
     ]
    },
    {
     "name": "stderr",
     "output_type": "stream",
     "text": [
      "[Succeeded / Failed / Skipped / Total] 9 / 42 / 0 / 51:  26%|▎| 52/200 [1:43:52</home/harsha/.local/lib/python3.8/site-packages/textattack/loggers/csv_logger.py:41: FutureWarning: The frame.append method is deprecated and will be removed from pandas in a future version. Use pandas.concat instead.\n",
      "  self.df = self.df.append(row, ignore_index=True)\n",
      "[Succeeded / Failed / Skipped / Total] 9 / 43 / 0 / 52:  26%|▎| 52/200 [1:43:52<"
     ]
    },
    {
     "name": "stdout",
     "output_type": "stream",
     "text": [
      "--------------------------------------------- Result 52 ---------------------------------------------\n",
      "[[2 (13%)]] --> [[[FAILED]]]\n",
      "\n",
      "\"We are extremely honored to win this award, as we feel it really highlights our efforts to make it easier for our EuroBonus members to access and redeem their points.\n",
      "\n",
      "\n",
      "\n"
     ]
    },
    {
     "name": "stderr",
     "output_type": "stream",
     "text": [
      "[Succeeded / Failed / Skipped / Total] 9 / 43 / 0 / 52:  26%|▎| 53/200 [1:44:47</home/harsha/.local/lib/python3.8/site-packages/textattack/loggers/csv_logger.py:41: FutureWarning: The frame.append method is deprecated and will be removed from pandas in a future version. Use pandas.concat instead.\n",
      "  self.df = self.df.append(row, ignore_index=True)\n",
      "[Succeeded / Failed / Skipped / Total] 9 / 44 / 0 / 53:  26%|▎| 53/200 [1:44:47<"
     ]
    },
    {
     "name": "stdout",
     "output_type": "stream",
     "text": [
      "--------------------------------------------- Result 53 ---------------------------------------------\n",
      "[[2 (14%)]] --> [[[FAILED]]]\n",
      "\n",
      "When the next chance came his way he slotted coolly into the top right corner.\n",
      "\n",
      "\n",
      "\n"
     ]
    },
    {
     "name": "stderr",
     "output_type": "stream",
     "text": [
      "[Succeeded / Failed / Skipped / Total] 9 / 44 / 0 / 53:  27%|▎| 54/200 [1:48:54</home/harsha/.local/lib/python3.8/site-packages/textattack/loggers/csv_logger.py:41: FutureWarning: The frame.append method is deprecated and will be removed from pandas in a future version. Use pandas.concat instead.\n",
      "  self.df = self.df.append(row, ignore_index=True)\n",
      "[Succeeded / Failed / Skipped / Total] 9 / 45 / 0 / 54:  27%|▎| 54/200 [1:48:54<"
     ]
    },
    {
     "name": "stdout",
     "output_type": "stream",
     "text": [
      "--------------------------------------------- Result 54 ---------------------------------------------\n",
      "[[2 (13%)]] --> [[[FAILED]]]\n",
      "\n",
      "You should be known to be producing from information gathered from either extension officers or records from the Grain Marketing Board and one should have an offer letter.\"\n",
      "\n",
      "\n",
      "\n"
     ]
    },
    {
     "name": "stderr",
     "output_type": "stream",
     "text": [
      "[Succeeded / Failed / Skipped / Total] 9 / 45 / 0 / 54:  28%|▎| 55/200 [1:49:35</home/harsha/.local/lib/python3.8/site-packages/textattack/loggers/csv_logger.py:41: FutureWarning: The frame.append method is deprecated and will be removed from pandas in a future version. Use pandas.concat instead.\n",
      "  self.df = self.df.append(row, ignore_index=True)\n",
      "[Succeeded / Failed / Skipped / Total] 9 / 46 / 0 / 55:  28%|▎| 55/200 [1:49:35<"
     ]
    },
    {
     "name": "stdout",
     "output_type": "stream",
     "text": [
      "--------------------------------------------- Result 55 ---------------------------------------------\n",
      "[[2 (14%)]] --> [[[FAILED]]]\n",
      "\n",
      "You can go outside and go for a walk or a run without shivering the entire time.\n",
      "\n",
      "\n",
      "\n"
     ]
    },
    {
     "name": "stderr",
     "output_type": "stream",
     "text": [
      "[Succeeded / Failed / Skipped / Total] 9 / 46 / 0 / 55:  28%|▎| 56/200 [1:52:41</home/harsha/.local/lib/python3.8/site-packages/textattack/loggers/csv_logger.py:41: FutureWarning: The frame.append method is deprecated and will be removed from pandas in a future version. Use pandas.concat instead.\n",
      "  self.df = self.df.append(row, ignore_index=True)\n",
      "[Succeeded / Failed / Skipped / Total] 9 / 47 / 0 / 56:  28%|▎| 56/200 [1:52:41<"
     ]
    },
    {
     "name": "stdout",
     "output_type": "stream",
     "text": [
      "--------------------------------------------- Result 56 ---------------------------------------------\n",
      "[[2 (15%)]] --> [[[FAILED]]]\n",
      "\n",
      "While living at the lodge in the early 1960s, Fox was hired by the former Burnet County Judge to help sell lots for a new subdivision on the lake at Granite Shoals (later renamed Lake LBJ).\n",
      "\n",
      "\n",
      "\n"
     ]
    },
    {
     "name": "stderr",
     "output_type": "stream",
     "text": [
      "[Succeeded / Failed / Skipped / Total] 9 / 47 / 0 / 56:  28%|▎| 57/200 [1:53:54</home/harsha/.local/lib/python3.8/site-packages/textattack/loggers/csv_logger.py:41: FutureWarning: The frame.append method is deprecated and will be removed from pandas in a future version. Use pandas.concat instead.\n",
      "  self.df = self.df.append(row, ignore_index=True)\n",
      "[Succeeded / Failed / Skipped / Total] 9 / 48 / 0 / 57:  28%|▎| 57/200 [1:53:54<"
     ]
    },
    {
     "name": "stdout",
     "output_type": "stream",
     "text": [
      "--------------------------------------------- Result 57 ---------------------------------------------\n",
      "[[2 (16%)]] --> [[[FAILED]]]\n",
      "\n",
      "We also held three seminars and a special meeting of the board of directors to discuss the theme.\n",
      "\n",
      "\n",
      "\n"
     ]
    },
    {
     "name": "stderr",
     "output_type": "stream",
     "text": [
      "[Succeeded / Failed / Skipped / Total] 9 / 48 / 0 / 57:  29%|▎| 58/200 [1:54:54</home/harsha/.local/lib/python3.8/site-packages/textattack/loggers/csv_logger.py:41: FutureWarning: The frame.append method is deprecated and will be removed from pandas in a future version. Use pandas.concat instead.\n",
      "  self.df = self.df.append(row, ignore_index=True)\n",
      "[Succeeded / Failed / Skipped / Total] 9 / 49 / 0 / 58:  29%|▎| 58/200 [1:54:54<"
     ]
    },
    {
     "name": "stdout",
     "output_type": "stream",
     "text": [
      "--------------------------------------------- Result 58 ---------------------------------------------\n",
      "[[2 (15%)]] --> [[[FAILED]]]\n",
      "\n",
      "\"We were by the water comparing our swimwear and laughing about how ill-fitting and unsupportive our contraptions were,\" the pair told news.\n",
      "\n",
      "\n",
      "\n"
     ]
    },
    {
     "name": "stderr",
     "output_type": "stream",
     "text": [
      "[Succeeded / Failed / Skipped / Total] 9 / 49 / 0 / 58:  30%|▎| 59/200 [1:56:14</home/harsha/.local/lib/python3.8/site-packages/textattack/loggers/csv_logger.py:41: FutureWarning: The frame.append method is deprecated and will be removed from pandas in a future version. Use pandas.concat instead.\n",
      "  self.df = self.df.append(row, ignore_index=True)\n",
      "[Succeeded / Failed / Skipped / Total] 9 / 50 / 0 / 59:  30%|▎| 59/200 [1:56:15<"
     ]
    },
    {
     "name": "stdout",
     "output_type": "stream",
     "text": [
      "--------------------------------------------- Result 59 ---------------------------------------------\n",
      "[[2 (13%)]] --> [[[FAILED]]]\n",
      "\n",
      "Whether Asset Value Investors would hold onto their TBS shares after its demand was accepted \"depends on how the valuation goes.\"\n",
      "\n",
      "\n",
      "\n"
     ]
    },
    {
     "name": "stderr",
     "output_type": "stream",
     "text": [
      "[Succeeded / Failed / Skipped / Total] 9 / 50 / 0 / 59:  30%|▎| 60/200 [1:58:18</home/harsha/.local/lib/python3.8/site-packages/textattack/loggers/csv_logger.py:41: FutureWarning: The frame.append method is deprecated and will be removed from pandas in a future version. Use pandas.concat instead.\n",
      "  self.df = self.df.append(row, ignore_index=True)\n",
      "[Succeeded / Failed / Skipped / Total] 9 / 51 / 0 / 60:  30%|▎| 60/200 [1:58:18<"
     ]
    },
    {
     "name": "stdout",
     "output_type": "stream",
     "text": [
      "--------------------------------------------- Result 60 ---------------------------------------------\n",
      "[[2 (16%)]] --> [[[FAILED]]]\n",
      "\n",
      "\"We have also met the panchayat minister to brief him about how the compound wall of the church of this sect is of a height above the permissible limit.\n",
      "\n",
      "\n",
      "\n"
     ]
    },
    {
     "name": "stderr",
     "output_type": "stream",
     "text": [
      "[Succeeded / Failed / Skipped / Total] 9 / 51 / 0 / 60:  30%|▎| 61/200 [2:01:11</home/harsha/.local/lib/python3.8/site-packages/textattack/loggers/csv_logger.py:41: FutureWarning: The frame.append method is deprecated and will be removed from pandas in a future version. Use pandas.concat instead.\n",
      "  self.df = self.df.append(row, ignore_index=True)\n",
      "[Succeeded / Failed / Skipped / Total] 9 / 52 / 0 / 61:  30%|▎| 61/200 [2:01:11<"
     ]
    },
    {
     "name": "stdout",
     "output_type": "stream",
     "text": [
      "--------------------------------------------- Result 61 ---------------------------------------------\n",
      "[[2 (14%)]] --> [[[FAILED]]]\n",
      "\n",
      "Various congressional committees worked on drafting multiple versions of the bill that would become the Affordable Care Act -- a lengthy process that took over a year.\n",
      "\n",
      "\n",
      "\n"
     ]
    },
    {
     "name": "stderr",
     "output_type": "stream",
     "text": [
      "[Succeeded / Failed / Skipped / Total] 9 / 52 / 0 / 61:  31%|▎| 62/200 [2:03:50</home/harsha/.local/lib/python3.8/site-packages/textattack/loggers/csv_logger.py:41: FutureWarning: The frame.append method is deprecated and will be removed from pandas in a future version. Use pandas.concat instead.\n",
      "  self.df = self.df.append(row, ignore_index=True)\n",
      "[Succeeded / Failed / Skipped / Total] 9 / 53 / 0 / 62:  31%|▎| 62/200 [2:03:50<"
     ]
    },
    {
     "name": "stdout",
     "output_type": "stream",
     "text": [
      "--------------------------------------------- Result 62 ---------------------------------------------\n",
      "[[2 (14%)]] --> [[[FAILED]]]\n",
      "\n",
      "Various religious backgrounds will be represented as people from all over the U.S. and Canada travel to John Brown University to attend the Paradosis Conference.\n",
      "\n",
      "\n",
      "\n"
     ]
    },
    {
     "name": "stderr",
     "output_type": "stream",
     "text": [
      "[Succeeded / Failed / Skipped / Total] 9 / 53 / 0 / 62:  32%|▎| 63/200 [2:04:39</home/harsha/.local/lib/python3.8/site-packages/textattack/loggers/csv_logger.py:41: FutureWarning: The frame.append method is deprecated and will be removed from pandas in a future version. Use pandas.concat instead.\n",
      "  self.df = self.df.append(row, ignore_index=True)\n",
      "[Succeeded / Failed / Skipped / Total] 9 / 54 / 0 / 63:  32%|▎| 63/200 [2:04:39<"
     ]
    },
    {
     "name": "stdout",
     "output_type": "stream",
     "text": [
      "--------------------------------------------- Result 63 ---------------------------------------------\n",
      "[[2 (13%)]] --> [[[FAILED]]]\n",
      "\n",
      "\"Unions can be reactive, but if we could be proactive, then we would be happy to have discussions.\n",
      "\n",
      "\n",
      "\n"
     ]
    },
    {
     "name": "stderr",
     "output_type": "stream",
     "text": [
      "[Succeeded / Failed / Skipped / Total] 9 / 54 / 0 / 63:  32%|▎| 64/200 [2:06:02</home/harsha/.local/lib/python3.8/site-packages/textattack/loggers/csv_logger.py:41: FutureWarning: The frame.append method is deprecated and will be removed from pandas in a future version. Use pandas.concat instead.\n",
      "  self.df = self.df.append(row, ignore_index=True)\n",
      "[Succeeded / Failed / Skipped / Total] 9 / 55 / 0 / 64:  32%|▎| 64/200 [2:06:02<"
     ]
    },
    {
     "name": "stdout",
     "output_type": "stream",
     "text": [
      "--------------------------------------------- Result 64 ---------------------------------------------\n",
      "[[2 (14%)]] --> [[[FAILED]]]\n",
      "\n",
      "Unfortunately people's true mandate was not reflected in the allocation of seats due to unrealistic and horrendous proportionate system.\n",
      "\n",
      "\n",
      "\n"
     ]
    },
    {
     "name": "stderr",
     "output_type": "stream",
     "text": [
      "[Succeeded / Failed / Skipped / Total] 9 / 55 / 0 / 64:  32%|▎| 65/200 [2:08:02</home/harsha/.local/lib/python3.8/site-packages/textattack/loggers/csv_logger.py:41: FutureWarning: The frame.append method is deprecated and will be removed from pandas in a future version. Use pandas.concat instead.\n",
      "  self.df = self.df.append(row, ignore_index=True)\n",
      "[Succeeded / Failed / Skipped / Total] 9 / 56 / 0 / 65:  32%|▎| 65/200 [2:08:02<"
     ]
    },
    {
     "name": "stdout",
     "output_type": "stream",
     "text": [
      "--------------------------------------------- Result 65 ---------------------------------------------\n",
      "[[2 (13%)]] --> [[[FAILED]]]\n",
      "\n",
      "University Union hosted their annual Block Party in the Carrier Dome on Friday night, featuring DJ Orange Calderon, SZA and Gucci Mane.\n",
      "\n",
      "\n",
      "\n"
     ]
    },
    {
     "name": "stderr",
     "output_type": "stream",
     "text": [
      "[Succeeded / Failed / Skipped / Total] 9 / 56 / 0 / 65:  33%|▎| 66/200 [2:09:05</home/harsha/.local/lib/python3.8/site-packages/textattack/loggers/csv_logger.py:41: FutureWarning: The frame.append method is deprecated and will be removed from pandas in a future version. Use pandas.concat instead.\n",
      "  self.df = self.df.append(row, ignore_index=True)\n",
      "[Succeeded / Failed / Skipped / Total] 10 / 56 / 0 / 66:  33%|▎| 66/200 [2:09:05"
     ]
    },
    {
     "name": "stdout",
     "output_type": "stream",
     "text": [
      "--------------------------------------------- Result 66 ---------------------------------------------\n",
      "[[2 (12%)]] --> [[5 (11%)]]\n",
      "\n",
      "\"We've recently finished a [[fabulous]] [[office]] [[makeover]], and we're [[having]] an open house to show it off,\" [[said]] [[agency]] [[director]] Ronda [[B]]. Goldfein.\n",
      "\n",
      "\n",
      "\"We've recently finished a [[delightful]] [[room]] [[transform]], and we're [[adopt]] an open house to show it off,\" [[asserts]] [[establishments]] [[chef]] Ronda [[segundo]]. Goldfein.\n",
      "\n",
      "\n",
      "\n"
     ]
    },
    {
     "name": "stderr",
     "output_type": "stream",
     "text": [
      "[Succeeded / Failed / Skipped / Total] 10 / 56 / 0 / 66:  34%|▎| 67/200 [2:10:49/home/harsha/.local/lib/python3.8/site-packages/textattack/loggers/csv_logger.py:41: FutureWarning: The frame.append method is deprecated and will be removed from pandas in a future version. Use pandas.concat instead.\n",
      "  self.df = self.df.append(row, ignore_index=True)\n",
      "[Succeeded / Failed / Skipped / Total] 10 / 57 / 0 / 67:  34%|▎| 67/200 [2:10:49"
     ]
    },
    {
     "name": "stdout",
     "output_type": "stream",
     "text": [
      "--------------------------------------------- Result 67 ---------------------------------------------\n",
      "[[2 (14%)]] --> [[[FAILED]]]\n",
      "\n",
      "Youth mental health, suicide and bullying was thrust in to the national spotlight following the highly-publicised death of 14-year-old Amy 'Dolly' Everett in January.\n",
      "\n",
      "\n",
      "\n"
     ]
    },
    {
     "name": "stderr",
     "output_type": "stream",
     "text": [
      "[Succeeded / Failed / Skipped / Total] 10 / 57 / 0 / 67:  34%|▎| 68/200 [2:15:32/home/harsha/.local/lib/python3.8/site-packages/textattack/loggers/csv_logger.py:41: FutureWarning: The frame.append method is deprecated and will be removed from pandas in a future version. Use pandas.concat instead.\n",
      "  self.df = self.df.append(row, ignore_index=True)\n",
      "[Succeeded / Failed / Skipped / Total] 10 / 58 / 0 / 68:  34%|▎| 68/200 [2:15:32"
     ]
    },
    {
     "name": "stdout",
     "output_type": "stream",
     "text": [
      "--------------------------------------------- Result 68 ---------------------------------------------\n",
      "[[2 (14%)]] --> [[[FAILED]]]\n",
      "\n",
      "William and Kate Middleton's daughter was born at St. Mary's Hospital on May 2. Just 10 hours after giving birth, the Duchess of Cambridge left the hospital looking gorgeous in a floral white and yellow Jenny Packman dress.\n",
      "\n",
      "\n",
      "\n"
     ]
    },
    {
     "name": "stderr",
     "output_type": "stream",
     "text": [
      "[Succeeded / Failed / Skipped / Total] 10 / 58 / 0 / 68:  34%|▎| 69/200 [2:20:30/home/harsha/.local/lib/python3.8/site-packages/textattack/loggers/csv_logger.py:41: FutureWarning: The frame.append method is deprecated and will be removed from pandas in a future version. Use pandas.concat instead.\n",
      "  self.df = self.df.append(row, ignore_index=True)\n",
      "[Succeeded / Failed / Skipped / Total] 10 / 59 / 0 / 69:  34%|▎| 69/200 [2:20:30"
     ]
    },
    {
     "name": "stdout",
     "output_type": "stream",
     "text": [
      "--------------------------------------------- Result 69 ---------------------------------------------\n",
      "[[2 (16%)]] --> [[[FAILED]]]\n",
      "\n",
      "We will keep monitoring the situation and make sure that we will be able to maintain the drive for the growth so that we could assure our target of trimming off poverty at the rate of 1% per annum.\n",
      "\n",
      "\n",
      "\n"
     ]
    },
    {
     "name": "stderr",
     "output_type": "stream",
     "text": [
      "[Succeeded / Failed / Skipped / Total] 10 / 59 / 0 / 69:  35%|▎| 70/200 [2:22:55/home/harsha/.local/lib/python3.8/site-packages/textattack/loggers/csv_logger.py:41: FutureWarning: The frame.append method is deprecated and will be removed from pandas in a future version. Use pandas.concat instead.\n",
      "  self.df = self.df.append(row, ignore_index=True)\n",
      "[Succeeded / Failed / Skipped / Total] 11 / 59 / 0 / 70:  35%|▎| 70/200 [2:22:55"
     ]
    },
    {
     "name": "stdout",
     "output_type": "stream",
     "text": [
      "--------------------------------------------- Result 70 ---------------------------------------------\n",
      "[[2 (13%)]] --> [[8 (11%)]]\n",
      "\n",
      "\"[[You]] would [[be]] [[surprised]] how [[many]] [[people]] [[will]] [[drive]] in from an [[hour]] or two [[hours]] away to [[come]] in and [[spend]] an [[afternoon]] at [[Great]] [[Shots]],\" [[North]] [[said]].\n",
      "\n",
      "\n",
      "\"[[Thyself]] would [[worden]] [[astonishment]] how [[myriad]] [[populace]] [[desired]] [[promenade]] in from an [[minute]] or two [[h]] away to [[entrance]] in and [[outlay]] an [[nr]] at [[Grande]] [[Gunfire]],\" [[Norte]] [[proclaimed]].\n",
      "\n",
      "\n",
      "\n"
     ]
    },
    {
     "name": "stderr",
     "output_type": "stream",
     "text": [
      "[Succeeded / Failed / Skipped / Total] 11 / 59 / 0 / 70:  36%|▎| 71/200 [2:25:03/home/harsha/.local/lib/python3.8/site-packages/textattack/loggers/csv_logger.py:41: FutureWarning: The frame.append method is deprecated and will be removed from pandas in a future version. Use pandas.concat instead.\n",
      "  self.df = self.df.append(row, ignore_index=True)\n",
      "[Succeeded / Failed / Skipped / Total] 11 / 60 / 0 / 71:  36%|▎| 71/200 [2:25:03"
     ]
    },
    {
     "name": "stdout",
     "output_type": "stream",
     "text": [
      "--------------------------------------------- Result 71 ---------------------------------------------\n",
      "[[2 (14%)]] --> [[[FAILED]]]\n",
      "\n",
      "Usage of a time fuse also seems out of the question, since not only the murderers, but also Vazagashvili himself likely didn't know when he would arrive at his son's grave.\n",
      "\n",
      "\n",
      "\n"
     ]
    },
    {
     "name": "stderr",
     "output_type": "stream",
     "text": [
      "[Succeeded / Failed / Skipped / Total] 11 / 60 / 0 / 71:  36%|▎| 72/200 [2:26:11/home/harsha/.local/lib/python3.8/site-packages/textattack/loggers/csv_logger.py:41: FutureWarning: The frame.append method is deprecated and will be removed from pandas in a future version. Use pandas.concat instead.\n",
      "  self.df = self.df.append(row, ignore_index=True)\n",
      "[Succeeded / Failed / Skipped / Total] 11 / 61 / 0 / 72:  36%|▎| 72/200 [2:26:11"
     ]
    },
    {
     "name": "stdout",
     "output_type": "stream",
     "text": [
      "--------------------------------------------- Result 72 ---------------------------------------------\n",
      "[[2 (13%)]] --> [[[FAILED]]]\n",
      "\n",
      "\"You are not a little dictator to do whatever you want - and that's what we have right now in Houston, Texas,\" he said.\n",
      "\n",
      "\n",
      "\n"
     ]
    },
    {
     "name": "stderr",
     "output_type": "stream",
     "text": [
      "[Succeeded / Failed / Skipped / Total] 11 / 61 / 0 / 72:  36%|▎| 73/200 [2:27:37/home/harsha/.local/lib/python3.8/site-packages/textattack/loggers/csv_logger.py:41: FutureWarning: The frame.append method is deprecated and will be removed from pandas in a future version. Use pandas.concat instead.\n",
      "  self.df = self.df.append(row, ignore_index=True)\n",
      "[Succeeded / Failed / Skipped / Total] 11 / 62 / 0 / 73:  36%|▎| 73/200 [2:27:37"
     ]
    },
    {
     "name": "stdout",
     "output_type": "stream",
     "text": [
      "--------------------------------------------- Result 73 ---------------------------------------------\n",
      "[[2 (14%)]] --> [[[FAILED]]]\n",
      "\n",
      "Until the government receives confirmation of e-cigarette benefits, it would continue treating them as other tobacco products.\n",
      "\n",
      "\n",
      "\n"
     ]
    },
    {
     "name": "stderr",
     "output_type": "stream",
     "text": [
      "[Succeeded / Failed / Skipped / Total] 11 / 62 / 0 / 73:  37%|▎| 74/200 [2:28:23/home/harsha/.local/lib/python3.8/site-packages/textattack/loggers/csv_logger.py:41: FutureWarning: The frame.append method is deprecated and will be removed from pandas in a future version. Use pandas.concat instead.\n",
      "  self.df = self.df.append(row, ignore_index=True)\n",
      "[Succeeded / Failed / Skipped / Total] 12 / 62 / 0 / 74:  37%|▎| 74/200 [2:28:23"
     ]
    },
    {
     "name": "stdout",
     "output_type": "stream",
     "text": [
      "--------------------------------------------- Result 74 ---------------------------------------------\n",
      "[[2 (12%)]] --> [[4 (12%)]]\n",
      "\n",
      "\"We [[hope]] that it [[will]] initiate a more informed debate about what represents fair, proportionate pay for workers at all levels,\" he [[said]].\n",
      "\n",
      "\n",
      "\"We [[desires]] that it [[desire]] initiate a more informed debate about what represents fair, proportionate pay for workers at all levels,\" he [[declares]].\n",
      "\n",
      "\n",
      "\n"
     ]
    },
    {
     "name": "stderr",
     "output_type": "stream",
     "text": [
      "[Succeeded / Failed / Skipped / Total] 12 / 62 / 0 / 74:  38%|▍| 75/200 [2:30:35/home/harsha/.local/lib/python3.8/site-packages/textattack/loggers/csv_logger.py:41: FutureWarning: The frame.append method is deprecated and will be removed from pandas in a future version. Use pandas.concat instead.\n",
      "  self.df = self.df.append(row, ignore_index=True)\n",
      "[Succeeded / Failed / Skipped / Total] 12 / 63 / 0 / 75:  38%|▍| 75/200 [2:30:35"
     ]
    },
    {
     "name": "stdout",
     "output_type": "stream",
     "text": [
      "--------------------------------------------- Result 75 ---------------------------------------------\n",
      "[[2 (14%)]] --> [[[FAILED]]]\n",
      "\n",
      "What we asked from RMB in our previous letter, was \"a guarantee from your bank that your capital not be used for the illegal oil exploration in the occupied country\".\n",
      "\n",
      "\n",
      "\n"
     ]
    },
    {
     "name": "stderr",
     "output_type": "stream",
     "text": [
      "[Succeeded / Failed / Skipped / Total] 12 / 63 / 0 / 75:  38%|▍| 76/200 [2:30:50/home/harsha/.local/lib/python3.8/site-packages/textattack/loggers/csv_logger.py:41: FutureWarning: The frame.append method is deprecated and will be removed from pandas in a future version. Use pandas.concat instead.\n",
      "  self.df = self.df.append(row, ignore_index=True)\n",
      "[Succeeded / Failed / Skipped / Total] 13 / 63 / 0 / 76:  38%|▍| 76/200 [2:30:50"
     ]
    },
    {
     "name": "stdout",
     "output_type": "stream",
     "text": [
      "--------------------------------------------- Result 76 ---------------------------------------------\n",
      "[[2 (12%)]] --> [[4 (12%)]]\n",
      "\n",
      "Visitors [[will]] also be [[treated]] to a top-notch, interactive trick rope show.\n",
      "\n",
      "\n",
      "Visitors [[desire]] also be [[handles]] to a top-notch, interactive trick rope show.\n",
      "\n",
      "\n",
      "\n"
     ]
    },
    {
     "name": "stderr",
     "output_type": "stream",
     "text": [
      "[Succeeded / Failed / Skipped / Total] 13 / 63 / 0 / 76:  38%|▍| 77/200 [2:31:28/home/harsha/.local/lib/python3.8/site-packages/textattack/loggers/csv_logger.py:41: FutureWarning: The frame.append method is deprecated and will be removed from pandas in a future version. Use pandas.concat instead.\n",
      "  self.df = self.df.append(row, ignore_index=True)\n",
      "[Succeeded / Failed / Skipped / Total] 13 / 64 / 0 / 77:  38%|▍| 77/200 [2:31:28"
     ]
    },
    {
     "name": "stdout",
     "output_type": "stream",
     "text": [
      "--------------------------------------------- Result 77 ---------------------------------------------\n",
      "[[2 (14%)]] --> [[[FAILED]]]\n",
      "\n",
      "With the summer fast approaching, you're sure to be spending lots of time outdoors.\n",
      "\n",
      "\n",
      "\n"
     ]
    },
    {
     "name": "stderr",
     "output_type": "stream",
     "text": [
      "[Succeeded / Failed / Skipped / Total] 13 / 64 / 0 / 77:  39%|▍| 78/200 [2:33:24/home/harsha/.local/lib/python3.8/site-packages/textattack/loggers/csv_logger.py:41: FutureWarning: The frame.append method is deprecated and will be removed from pandas in a future version. Use pandas.concat instead.\n",
      "  self.df = self.df.append(row, ignore_index=True)\n",
      "[Succeeded / Failed / Skipped / Total] 13 / 65 / 0 / 78:  39%|▍| 78/200 [2:33:24"
     ]
    },
    {
     "name": "stdout",
     "output_type": "stream",
     "text": [
      "--------------------------------------------- Result 78 ---------------------------------------------\n",
      "[[2 (15%)]] --> [[[FAILED]]]\n",
      "\n",
      "While they are working to tackle crime, they won't guarantee that the money you invest will be 'safe' in every sense of the word.\n",
      "\n",
      "\n",
      "\n"
     ]
    },
    {
     "name": "stderr",
     "output_type": "stream",
     "text": [
      "[Succeeded / Failed / Skipped / Total] 13 / 65 / 0 / 78:  40%|▍| 79/200 [2:36:20/home/harsha/.local/lib/python3.8/site-packages/textattack/loggers/csv_logger.py:41: FutureWarning: The frame.append method is deprecated and will be removed from pandas in a future version. Use pandas.concat instead.\n",
      "  self.df = self.df.append(row, ignore_index=True)\n",
      "[Succeeded / Failed / Skipped / Total] 13 / 66 / 0 / 79:  40%|▍| 79/200 [2:36:20"
     ]
    },
    {
     "name": "stdout",
     "output_type": "stream",
     "text": [
      "--------------------------------------------- Result 79 ---------------------------------------------\n",
      "[[2 (13%)]] --> [[[FAILED]]]\n",
      "\n",
      "You wouldn't go to buy fighter jets because there is no possibility of creating a balance of power against \"Israel\" on that level, instead you would go buy air defense systems.\n",
      "\n",
      "\n",
      "\n"
     ]
    },
    {
     "name": "stderr",
     "output_type": "stream",
     "text": [
      "[Succeeded / Failed / Skipped / Total] 13 / 66 / 0 / 79:  40%|▍| 80/200 [2:39:46/home/harsha/.local/lib/python3.8/site-packages/textattack/loggers/csv_logger.py:41: FutureWarning: The frame.append method is deprecated and will be removed from pandas in a future version. Use pandas.concat instead.\n",
      "  self.df = self.df.append(row, ignore_index=True)\n",
      "[Succeeded / Failed / Skipped / Total] 13 / 67 / 0 / 80:  40%|▍| 80/200 [2:39:46"
     ]
    },
    {
     "name": "stdout",
     "output_type": "stream",
     "text": [
      "--------------------------------------------- Result 80 ---------------------------------------------\n",
      "[[2 (15%)]] --> [[[FAILED]]]\n",
      "\n",
      "When asked about funding concerns before the Senate vote on the Mission Act, key lawmakers who helped pass the bill claimed it wouldn't be a challenge.\n",
      "\n",
      "\n",
      "\n"
     ]
    },
    {
     "name": "stderr",
     "output_type": "stream",
     "text": [
      "[Succeeded / Failed / Skipped / Total] 13 / 67 / 0 / 80:  40%|▍| 81/200 [2:42:56/home/harsha/.local/lib/python3.8/site-packages/textattack/loggers/csv_logger.py:41: FutureWarning: The frame.append method is deprecated and will be removed from pandas in a future version. Use pandas.concat instead.\n",
      "  self.df = self.df.append(row, ignore_index=True)\n",
      "[Succeeded / Failed / Skipped / Total] 13 / 68 / 0 / 81:  40%|▍| 81/200 [2:42:56"
     ]
    },
    {
     "name": "stdout",
     "output_type": "stream",
     "text": [
      "--------------------------------------------- Result 81 ---------------------------------------------\n",
      "[[2 (12%)]] --> [[[FAILED]]]\n",
      "\n",
      "Victoria Vivians scored 22 points and second-ranked Mississippi State remained in position to add a Southeastern Conference Tournament title to its regular-season championship, beating No. 15 Texas A&M 70-55 on.\n",
      "\n",
      "\n",
      "\n"
     ]
    },
    {
     "name": "stderr",
     "output_type": "stream",
     "text": [
      "[Succeeded / Failed / Skipped / Total] 13 / 68 / 0 / 81:  41%|▍| 82/200 [2:44:01/home/harsha/.local/lib/python3.8/site-packages/textattack/loggers/csv_logger.py:41: FutureWarning: The frame.append method is deprecated and will be removed from pandas in a future version. Use pandas.concat instead.\n",
      "  self.df = self.df.append(row, ignore_index=True)\n",
      "[Succeeded / Failed / Skipped / Total] 13 / 69 / 0 / 82:  41%|▍| 82/200 [2:44:01"
     ]
    },
    {
     "name": "stdout",
     "output_type": "stream",
     "text": [
      "--------------------------------------------- Result 82 ---------------------------------------------\n",
      "[[2 (13%)]] --> [[[FAILED]]]\n",
      "\n",
      "We expected a tough beginning but still believed we could play in the finals, which we did.\n",
      "\n",
      "\n",
      "\n"
     ]
    },
    {
     "name": "stderr",
     "output_type": "stream",
     "text": [
      "[Succeeded / Failed / Skipped / Total] 13 / 69 / 0 / 82:  42%|▍| 83/200 [2:46:26/home/harsha/.local/lib/python3.8/site-packages/textattack/loggers/csv_logger.py:41: FutureWarning: The frame.append method is deprecated and will be removed from pandas in a future version. Use pandas.concat instead.\n",
      "  self.df = self.df.append(row, ignore_index=True)\n",
      "[Succeeded / Failed / Skipped / Total] 13 / 70 / 0 / 83:  42%|▍| 83/200 [2:46:26"
     ]
    },
    {
     "name": "stdout",
     "output_type": "stream",
     "text": [
      "--------------------------------------------- Result 83 ---------------------------------------------\n",
      "[[2 (15%)]] --> [[[FAILED]]]\n",
      "\n",
      "While today's sea level rise is only about 10% the rate about 13,000 years ago, it is expected to rise rapidly in the coming years, notes the report.\n",
      "\n",
      "\n",
      "\n"
     ]
    },
    {
     "name": "stderr",
     "output_type": "stream",
     "text": [
      "[Succeeded / Failed / Skipped / Total] 13 / 70 / 0 / 83:  42%|▍| 84/200 [2:49:05/home/harsha/.local/lib/python3.8/site-packages/textattack/loggers/csv_logger.py:41: FutureWarning: The frame.append method is deprecated and will be removed from pandas in a future version. Use pandas.concat instead.\n",
      "  self.df = self.df.append(row, ignore_index=True)\n",
      "[Succeeded / Failed / Skipped / Total] 13 / 71 / 0 / 84:  42%|▍| 84/200 [2:49:05"
     ]
    },
    {
     "name": "stdout",
     "output_type": "stream",
     "text": [
      "--------------------------------------------- Result 84 ---------------------------------------------\n",
      "[[2 (15%)]] --> [[[FAILED]]]\n",
      "\n",
      "With changes to GATE, many are wondering if they're going to get funding and with the recent scare of an old memo being leaked, fears were raised.\n",
      "\n",
      "\n",
      "\n"
     ]
    },
    {
     "name": "stderr",
     "output_type": "stream",
     "text": [
      "[Succeeded / Failed / Skipped / Total] 13 / 71 / 0 / 84:  42%|▍| 85/200 [2:49:39/home/harsha/.local/lib/python3.8/site-packages/textattack/loggers/csv_logger.py:41: FutureWarning: The frame.append method is deprecated and will be removed from pandas in a future version. Use pandas.concat instead.\n",
      "  self.df = self.df.append(row, ignore_index=True)\n",
      "[Succeeded / Failed / Skipped / Total] 13 / 72 / 0 / 85:  42%|▍| 85/200 [2:49:39"
     ]
    },
    {
     "name": "stdout",
     "output_type": "stream",
     "text": [
      "--------------------------------------------- Result 85 ---------------------------------------------\n",
      "[[2 (13%)]] --> [[[FAILED]]]\n",
      "\n",
      "When coming from Tanzania, lifts depart from Mtwara and Kilambo to the Rovuma river.\n",
      "\n",
      "\n",
      "\n"
     ]
    },
    {
     "name": "stderr",
     "output_type": "stream",
     "text": [
      "[Succeeded / Failed / Skipped / Total] 13 / 72 / 0 / 85:  43%|▍| 86/200 [2:50:47/home/harsha/.local/lib/python3.8/site-packages/textattack/loggers/csv_logger.py:41: FutureWarning: The frame.append method is deprecated and will be removed from pandas in a future version. Use pandas.concat instead.\n",
      "  self.df = self.df.append(row, ignore_index=True)\n",
      "[Succeeded / Failed / Skipped / Total] 14 / 72 / 0 / 86:  43%|▍| 86/200 [2:50:47"
     ]
    },
    {
     "name": "stdout",
     "output_type": "stream",
     "text": [
      "--------------------------------------------- Result 86 ---------------------------------------------\n",
      "[[2 (12%)]] --> [[1 (12%)]]\n",
      "\n",
      "\"We [[want]] to [[deliver]] your $2.5 [[million]] to you before your [[bank]] [[closes]], [[so]] you can [[put]] it in a [[safe]] [[place]].\n",
      "\n",
      "\n",
      "\"We [[desirous]] to [[render]] your $2.5 [[billion]] to you before your [[ribera]] [[locks]], [[bah]] you can [[render]] it in a [[innocuous]] [[stead]].\n",
      "\n",
      "\n",
      "\n"
     ]
    },
    {
     "name": "stderr",
     "output_type": "stream",
     "text": [
      "[Succeeded / Failed / Skipped / Total] 14 / 72 / 0 / 86:  44%|▍| 87/200 [2:51:57/home/harsha/.local/lib/python3.8/site-packages/textattack/loggers/csv_logger.py:41: FutureWarning: The frame.append method is deprecated and will be removed from pandas in a future version. Use pandas.concat instead.\n",
      "  self.df = self.df.append(row, ignore_index=True)\n",
      "[Succeeded / Failed / Skipped / Total] 14 / 73 / 0 / 87:  44%|▍| 87/200 [2:51:57"
     ]
    },
    {
     "name": "stdout",
     "output_type": "stream",
     "text": [
      "--------------------------------------------- Result 87 ---------------------------------------------\n",
      "[[2 (13%)]] --> [[[FAILED]]]\n",
      "\n",
      "What is floated right now will come back, perhaps in a watered-down version, but the progressives will keep coming after you.\n",
      "\n",
      "\n",
      "\n"
     ]
    },
    {
     "name": "stderr",
     "output_type": "stream",
     "text": [
      "[Succeeded / Failed / Skipped / Total] 14 / 73 / 0 / 87:  44%|▍| 88/200 [2:54:31/home/harsha/.local/lib/python3.8/site-packages/textattack/loggers/csv_logger.py:41: FutureWarning: The frame.append method is deprecated and will be removed from pandas in a future version. Use pandas.concat instead.\n",
      "  self.df = self.df.append(row, ignore_index=True)\n",
      "[Succeeded / Failed / Skipped / Total] 14 / 74 / 0 / 88:  44%|▍| 88/200 [2:54:31"
     ]
    },
    {
     "name": "stdout",
     "output_type": "stream",
     "text": [
      "--------------------------------------------- Result 88 ---------------------------------------------\n",
      "[[2 (16%)]] --> [[[FAILED]]]\n",
      "\n",
      "What the suit calls the pharmaceutical's \"aggressive marketing,\" the sheriff and his attorney feel have contributed to the rise in opioid use, addiction and overdose.\n",
      "\n",
      "\n",
      "\n"
     ]
    },
    {
     "name": "stderr",
     "output_type": "stream",
     "text": [
      "[Succeeded / Failed / Skipped / Total] 14 / 74 / 0 / 88:  44%|▍| 89/200 [2:55:19/home/harsha/.local/lib/python3.8/site-packages/textattack/loggers/csv_logger.py:41: FutureWarning: The frame.append method is deprecated and will be removed from pandas in a future version. Use pandas.concat instead.\n",
      "  self.df = self.df.append(row, ignore_index=True)\n",
      "[Succeeded / Failed / Skipped / Total] 15 / 74 / 0 / 89:  44%|▍| 89/200 [2:55:19"
     ]
    },
    {
     "name": "stdout",
     "output_type": "stream",
     "text": [
      "--------------------------------------------- Result 89 ---------------------------------------------\n",
      "[[2 (12%)]] --> [[3 (12%)]]\n",
      "\n",
      "[[We]] [[share]] border with other [[countries]] and cannot [[afford]] to just [[point]] finger at [[whichever]] [[direction]].\n",
      "\n",
      "\n",
      "[[Ourselves]] [[percentage]] border with other [[estado]] and cannot [[deliver]] to just [[dot]] finger at [[elsewhere]] [[directorate]].\n",
      "\n",
      "\n",
      "\n"
     ]
    },
    {
     "name": "stderr",
     "output_type": "stream",
     "text": [
      "[Succeeded / Failed / Skipped / Total] 15 / 74 / 0 / 89:  45%|▍| 90/200 [2:56:02/home/harsha/.local/lib/python3.8/site-packages/textattack/loggers/csv_logger.py:41: FutureWarning: The frame.append method is deprecated and will be removed from pandas in a future version. Use pandas.concat instead.\n",
      "  self.df = self.df.append(row, ignore_index=True)\n",
      "[Succeeded / Failed / Skipped / Total] 15 / 75 / 0 / 90:  45%|▍| 90/200 [2:56:02"
     ]
    },
    {
     "name": "stdout",
     "output_type": "stream",
     "text": [
      "--------------------------------------------- Result 90 ---------------------------------------------\n",
      "[[2 (13%)]] --> [[[FAILED]]]\n",
      "\n",
      "\"We came out in the third period, we were ready to play, and we had some unlucky bounces.\n",
      "\n",
      "\n",
      "\n"
     ]
    },
    {
     "name": "stderr",
     "output_type": "stream",
     "text": [
      "[Succeeded / Failed / Skipped / Total] 15 / 75 / 0 / 90:  46%|▍| 91/200 [2:56:33/home/harsha/.local/lib/python3.8/site-packages/textattack/loggers/csv_logger.py:41: FutureWarning: The frame.append method is deprecated and will be removed from pandas in a future version. Use pandas.concat instead.\n",
      "  self.df = self.df.append(row, ignore_index=True)\n",
      "[Succeeded / Failed / Skipped / Total] 16 / 75 / 0 / 91:  46%|▍| 91/200 [2:56:33"
     ]
    },
    {
     "name": "stdout",
     "output_type": "stream",
     "text": [
      "--------------------------------------------- Result 91 ---------------------------------------------\n",
      "[[2 (12%)]] --> [[6 (12%)]]\n",
      "\n",
      "\"We're just [[good]] [[friends]], and he's been [[incredibly]] [[loyal]] to me,\" Paxton in a 1998 [[interview]].\n",
      "\n",
      "\n",
      "\"We're just [[exemplary]] [[fella]], and he's been [[deliriously]] [[veritable]] to me,\" Paxton in a 1998 [[interrogate]].\n",
      "\n",
      "\n",
      "\n"
     ]
    },
    {
     "name": "stderr",
     "output_type": "stream",
     "text": [
      "[Succeeded / Failed / Skipped / Total] 16 / 75 / 0 / 91:  46%|▍| 92/200 [2:57:31/home/harsha/.local/lib/python3.8/site-packages/textattack/loggers/csv_logger.py:41: FutureWarning: The frame.append method is deprecated and will be removed from pandas in a future version. Use pandas.concat instead.\n",
      "  self.df = self.df.append(row, ignore_index=True)\n",
      "[Succeeded / Failed / Skipped / Total] 16 / 76 / 0 / 92:  46%|▍| 92/200 [2:57:31"
     ]
    },
    {
     "name": "stdout",
     "output_type": "stream",
     "text": [
      "--------------------------------------------- Result 92 ---------------------------------------------\n",
      "[[2 (13%)]] --> [[[FAILED]]]\n",
      "\n",
      "Where can you ask questions and talk about bullying, harassment and discrimination on campus?\n",
      "\n",
      "\n",
      "\n"
     ]
    },
    {
     "name": "stderr",
     "output_type": "stream",
     "text": [
      "[Succeeded / Failed / Skipped / Total] 16 / 76 / 0 / 92:  46%|▍| 93/200 [2:58:43/home/harsha/.local/lib/python3.8/site-packages/textattack/loggers/csv_logger.py:41: FutureWarning: The frame.append method is deprecated and will be removed from pandas in a future version. Use pandas.concat instead.\n",
      "  self.df = self.df.append(row, ignore_index=True)\n",
      "[Succeeded / Failed / Skipped / Total] 16 / 77 / 0 / 93:  46%|▍| 93/200 [2:58:43"
     ]
    },
    {
     "name": "stdout",
     "output_type": "stream",
     "text": [
      "--------------------------------------------- Result 93 ---------------------------------------------\n",
      "[[2 (14%)]] --> [[[FAILED]]]\n",
      "\n",
      "Wisdom's small plot, a few steps from his front step, is located right beside the main road in the community.\n",
      "\n",
      "\n",
      "\n"
     ]
    },
    {
     "name": "stderr",
     "output_type": "stream",
     "text": [
      "[Succeeded / Failed / Skipped / Total] 16 / 77 / 0 / 93:  47%|▍| 94/200 [2:59:36/home/harsha/.local/lib/python3.8/site-packages/textattack/loggers/csv_logger.py:41: FutureWarning: The frame.append method is deprecated and will be removed from pandas in a future version. Use pandas.concat instead.\n",
      "  self.df = self.df.append(row, ignore_index=True)\n",
      "[Succeeded / Failed / Skipped / Total] 16 / 78 / 0 / 94:  47%|▍| 94/200 [2:59:36"
     ]
    },
    {
     "name": "stdout",
     "output_type": "stream",
     "text": [
      "--------------------------------------------- Result 94 ---------------------------------------------\n",
      "[[2 (13%)]] --> [[[FAILED]]]\n",
      "\n",
      "Women invited her to their homes to deliver lectures on religious subjects.\n",
      "\n",
      "\n",
      "\n"
     ]
    },
    {
     "name": "stderr",
     "output_type": "stream",
     "text": [
      "[Succeeded / Failed / Skipped / Total] 16 / 78 / 0 / 94:  48%|▍| 95/200 [2:59:58/home/harsha/.local/lib/python3.8/site-packages/textattack/loggers/csv_logger.py:41: FutureWarning: The frame.append method is deprecated and will be removed from pandas in a future version. Use pandas.concat instead.\n",
      "  self.df = self.df.append(row, ignore_index=True)\n",
      "[Succeeded / Failed / Skipped / Total] 16 / 79 / 0 / 95:  48%|▍| 95/200 [2:59:58"
     ]
    },
    {
     "name": "stdout",
     "output_type": "stream",
     "text": [
      "--------------------------------------------- Result 95 ---------------------------------------------\n",
      "[[2 (12%)]] --> [[[FAILED]]]\n",
      "\n",
      "Whoever that was, I don't know any names or who that family was,\" Berube says.\n",
      "\n",
      "\n",
      "\n"
     ]
    },
    {
     "name": "stderr",
     "output_type": "stream",
     "text": [
      "[Succeeded / Failed / Skipped / Total] 16 / 79 / 0 / 95:  48%|▍| 96/200 [3:00:55/home/harsha/.local/lib/python3.8/site-packages/textattack/loggers/csv_logger.py:41: FutureWarning: The frame.append method is deprecated and will be removed from pandas in a future version. Use pandas.concat instead.\n",
      "  self.df = self.df.append(row, ignore_index=True)\n",
      "[Succeeded / Failed / Skipped / Total] 17 / 79 / 0 / 96:  48%|▍| 96/200 [3:00:55"
     ]
    },
    {
     "name": "stdout",
     "output_type": "stream",
     "text": [
      "--------------------------------------------- Result 96 ---------------------------------------------\n",
      "[[2 (12%)]] --> [[8 (11%)]]\n",
      "\n",
      "[[Wellness]] Medical [[Supplies]] [[offers]] medical [[equipment]] rental [[options]] for those in [[need]] of short-term assistance.\n",
      "\n",
      "\n",
      "[[Riches]] Medical [[Staples]] [[establishes]] medical [[machine]] rental [[surrogate]] for those in [[prerequisite]] of short-term assistance.\n",
      "\n",
      "\n",
      "\n"
     ]
    },
    {
     "name": "stderr",
     "output_type": "stream",
     "text": [
      "[Succeeded / Failed / Skipped / Total] 17 / 79 / 0 / 96:  48%|▍| 97/200 [3:02:07/home/harsha/.local/lib/python3.8/site-packages/textattack/loggers/csv_logger.py:41: FutureWarning: The frame.append method is deprecated and will be removed from pandas in a future version. Use pandas.concat instead.\n",
      "  self.df = self.df.append(row, ignore_index=True)\n",
      "[Succeeded / Failed / Skipped / Total] 18 / 79 / 0 / 97:  48%|▍| 97/200 [3:02:07"
     ]
    },
    {
     "name": "stdout",
     "output_type": "stream",
     "text": [
      "--------------------------------------------- Result 97 ---------------------------------------------\n",
      "[[2 (12%)]] --> [[3 (12%)]]\n",
      "\n",
      "\"We [[have]] a [[couple]] of our junior members that [[have]] [[came]] in just for certain particular roles that required a younger [[cast]] member for,\" [[said]] Smith.\n",
      "\n",
      "\n",
      "\"We [[possesses]] a [[doublet]] of our junior members that [[possesses]] [[gotten]] in just for certain particular roles that required a younger [[smelter]] member for,\" [[declares]] Smith.\n",
      "\n",
      "\n",
      "\n"
     ]
    },
    {
     "name": "stderr",
     "output_type": "stream",
     "text": [
      "[Succeeded / Failed / Skipped / Total] 18 / 79 / 0 / 97:  49%|▍| 98/200 [3:02:45/home/harsha/.local/lib/python3.8/site-packages/textattack/loggers/csv_logger.py:41: FutureWarning: The frame.append method is deprecated and will be removed from pandas in a future version. Use pandas.concat instead.\n",
      "  self.df = self.df.append(row, ignore_index=True)\n",
      "[Succeeded / Failed / Skipped / Total] 18 / 80 / 0 / 98:  49%|▍| 98/200 [3:02:45"
     ]
    },
    {
     "name": "stdout",
     "output_type": "stream",
     "text": [
      "--------------------------------------------- Result 98 ---------------------------------------------\n",
      "[[2 (14%)]] --> [[[FAILED]]]\n",
      "\n",
      "Your information will be saved and you can get the SIM card legally.\n",
      "\n",
      "\n",
      "\n"
     ]
    },
    {
     "name": "stderr",
     "output_type": "stream",
     "text": [
      "[Succeeded / Failed / Skipped / Total] 18 / 80 / 0 / 98:  50%|▍| 99/200 [3:04:40/home/harsha/.local/lib/python3.8/site-packages/textattack/loggers/csv_logger.py:41: FutureWarning: The frame.append method is deprecated and will be removed from pandas in a future version. Use pandas.concat instead.\n",
      "  self.df = self.df.append(row, ignore_index=True)\n",
      "[Succeeded / Failed / Skipped / Total] 18 / 81 / 0 / 99:  50%|▍| 99/200 [3:04:40"
     ]
    },
    {
     "name": "stdout",
     "output_type": "stream",
     "text": [
      "--------------------------------------------- Result 99 ---------------------------------------------\n",
      "[[2 (15%)]] --> [[[FAILED]]]\n",
      "\n",
      "Very close friends of the family would always come from Pittsburgh to visit and we would spend the day and evening together.\n",
      "\n",
      "\n",
      "\n"
     ]
    },
    {
     "name": "stderr",
     "output_type": "stream",
     "text": [
      "[Succeeded / Failed / Skipped / Total] 18 / 81 / 0 / 99:  50%|▌| 100/200 [3:05:4/home/harsha/.local/lib/python3.8/site-packages/textattack/loggers/csv_logger.py:41: FutureWarning: The frame.append method is deprecated and will be removed from pandas in a future version. Use pandas.concat instead.\n",
      "  self.df = self.df.append(row, ignore_index=True)\n",
      "[Succeeded / Failed / Skipped / Total] 18 / 82 / 0 / 100:  50%|▌| 100/200 [3:05:"
     ]
    },
    {
     "name": "stdout",
     "output_type": "stream",
     "text": [
      "--------------------------------------------- Result 100 ---------------------------------------------\n",
      "[[2 (14%)]] --> [[[FAILED]]]\n",
      "\n",
      "You know how in the most somber of situations something happens that makes you almost want to giggle?\n",
      "\n",
      "\n",
      "\n"
     ]
    },
    {
     "name": "stderr",
     "output_type": "stream",
     "text": [
      "[Succeeded / Failed / Skipped / Total] 18 / 82 / 0 / 100:  50%|▌| 101/200 [3:10:/home/harsha/.local/lib/python3.8/site-packages/textattack/loggers/csv_logger.py:41: FutureWarning: The frame.append method is deprecated and will be removed from pandas in a future version. Use pandas.concat instead.\n",
      "  self.df = self.df.append(row, ignore_index=True)\n",
      "[Succeeded / Failed / Skipped / Total] 18 / 83 / 0 / 101:  50%|▌| 101/200 [3:10:"
     ]
    },
    {
     "name": "stdout",
     "output_type": "stream",
     "text": [
      "--------------------------------------------- Result 101 ---------------------------------------------\n",
      "[[2 (15%)]] --> [[[FAILED]]]\n",
      "\n",
      "\"We want to create new ways for students to get involved where they feel they contribute in the way we operate, or in ideas they can bring forward to us,\" said Hartung.\n",
      "\n",
      "\n",
      "\n"
     ]
    },
    {
     "name": "stderr",
     "output_type": "stream",
     "text": [
      "[Succeeded / Failed / Skipped / Total] 18 / 83 / 0 / 101:  51%|▌| 102/200 [3:10:/home/harsha/.local/lib/python3.8/site-packages/textattack/loggers/csv_logger.py:41: FutureWarning: The frame.append method is deprecated and will be removed from pandas in a future version. Use pandas.concat instead.\n",
      "  self.df = self.df.append(row, ignore_index=True)\n",
      "[Succeeded / Failed / Skipped / Total] 18 / 84 / 0 / 102:  51%|▌| 102/200 [3:10:"
     ]
    },
    {
     "name": "stdout",
     "output_type": "stream",
     "text": [
      "--------------------------------------------- Result 102 ---------------------------------------------\n",
      "[[2 (14%)]] --> [[[FAILED]]]\n",
      "\n",
      "With his wife's diagnosis of ovarian cancer in the 2000s, the nursery became more difficult to keep up with.\n",
      "\n",
      "\n",
      "\n"
     ]
    },
    {
     "name": "stderr",
     "output_type": "stream",
     "text": [
      "[Succeeded / Failed / Skipped / Total] 18 / 84 / 0 / 102:  52%|▌| 103/200 [3:11:/home/harsha/.local/lib/python3.8/site-packages/textattack/loggers/csv_logger.py:41: FutureWarning: The frame.append method is deprecated and will be removed from pandas in a future version. Use pandas.concat instead.\n",
      "  self.df = self.df.append(row, ignore_index=True)\n",
      "[Succeeded / Failed / Skipped / Total] 18 / 85 / 0 / 103:  52%|▌| 103/200 [3:11:"
     ]
    },
    {
     "name": "stdout",
     "output_type": "stream",
     "text": [
      "--------------------------------------------- Result 103 ---------------------------------------------\n",
      "[[2 (14%)]] --> [[[FAILED]]]\n",
      "\n",
      "Youths are comparable to bamboo shoots, as they will become the country's future leaders and officials.\n",
      "\n",
      "\n",
      "\n"
     ]
    },
    {
     "name": "stderr",
     "output_type": "stream",
     "text": [
      "[Succeeded / Failed / Skipped / Total] 18 / 85 / 0 / 103:  52%|▌| 104/200 [3:14:/home/harsha/.local/lib/python3.8/site-packages/textattack/loggers/csv_logger.py:41: FutureWarning: The frame.append method is deprecated and will be removed from pandas in a future version. Use pandas.concat instead.\n",
      "  self.df = self.df.append(row, ignore_index=True)\n",
      "[Succeeded / Failed / Skipped / Total] 18 / 86 / 0 / 104:  52%|▌| 104/200 [3:14:"
     ]
    },
    {
     "name": "stdout",
     "output_type": "stream",
     "text": [
      "--------------------------------------------- Result 104 ---------------------------------------------\n",
      "[[2 (14%)]] --> [[[FAILED]]]\n",
      "\n",
      "We stand with communities across Colorado in calling on Governor Hickenlooper and the state legislature to reject any legislation that will undermine local control.\"\n",
      "\n",
      "\n",
      "\n"
     ]
    },
    {
     "name": "stderr",
     "output_type": "stream",
     "text": [
      "[Succeeded / Failed / Skipped / Total] 18 / 86 / 0 / 104:  52%|▌| 105/200 [3:14:/home/harsha/.local/lib/python3.8/site-packages/textattack/loggers/csv_logger.py:41: FutureWarning: The frame.append method is deprecated and will be removed from pandas in a future version. Use pandas.concat instead.\n",
      "  self.df = self.df.append(row, ignore_index=True)\n",
      "[Succeeded / Failed / Skipped / Total] 18 / 87 / 0 / 105:  52%|▌| 105/200 [3:14:"
     ]
    },
    {
     "name": "stdout",
     "output_type": "stream",
     "text": [
      "--------------------------------------------- Result 105 ---------------------------------------------\n",
      "[[2 (13%)]] --> [[[FAILED]]]\n",
      "\n",
      "Were they considered likely to succeed or more of a long shot?\n",
      "\n",
      "\n",
      "\n"
     ]
    },
    {
     "name": "stderr",
     "output_type": "stream",
     "text": [
      "[Succeeded / Failed / Skipped / Total] 18 / 87 / 0 / 105:  53%|▌| 106/200 [3:15:/home/harsha/.local/lib/python3.8/site-packages/textattack/loggers/csv_logger.py:41: FutureWarning: The frame.append method is deprecated and will be removed from pandas in a future version. Use pandas.concat instead.\n",
      "  self.df = self.df.append(row, ignore_index=True)\n",
      "[Succeeded / Failed / Skipped / Total] 18 / 88 / 0 / 106:  53%|▌| 106/200 [3:15:"
     ]
    },
    {
     "name": "stdout",
     "output_type": "stream",
     "text": [
      "--------------------------------------------- Result 106 ---------------------------------------------\n",
      "[[2 (13%)]] --> [[[FAILED]]]\n",
      "\n",
      "Wahlberg was also part of a number of concentrated efforts to revitalize downtown Bay Shore over the years.\n",
      "\n",
      "\n",
      "\n"
     ]
    },
    {
     "name": "stderr",
     "output_type": "stream",
     "text": [
      "[Succeeded / Failed / Skipped / Total] 18 / 88 / 0 / 106:  54%|▌| 107/200 [3:16:/home/harsha/.local/lib/python3.8/site-packages/textattack/loggers/csv_logger.py:41: FutureWarning: The frame.append method is deprecated and will be removed from pandas in a future version. Use pandas.concat instead.\n",
      "  self.df = self.df.append(row, ignore_index=True)\n",
      "[Succeeded / Failed / Skipped / Total] 18 / 89 / 0 / 107:  54%|▌| 107/200 [3:16:"
     ]
    },
    {
     "name": "stdout",
     "output_type": "stream",
     "text": [
      "--------------------------------------------- Result 107 ---------------------------------------------\n",
      "[[2 (14%)]] --> [[[FAILED]]]\n",
      "\n",
      "\"You get a cycle where one thing leads to the other.\"\n",
      "\n",
      "\n",
      "\n"
     ]
    },
    {
     "name": "stderr",
     "output_type": "stream",
     "text": [
      "[Succeeded / Failed / Skipped / Total] 18 / 89 / 0 / 107:  54%|▌| 108/200 [3:20:/home/harsha/.local/lib/python3.8/site-packages/textattack/loggers/csv_logger.py:41: FutureWarning: The frame.append method is deprecated and will be removed from pandas in a future version. Use pandas.concat instead.\n",
      "  self.df = self.df.append(row, ignore_index=True)\n",
      "[Succeeded / Failed / Skipped / Total] 19 / 89 / 0 / 108:  54%|▌| 108/200 [3:20:"
     ]
    },
    {
     "name": "stdout",
     "output_type": "stream",
     "text": [
      "--------------------------------------------- Result 108 ---------------------------------------------\n",
      "[[2 (13%)]] --> [[4 (11%)]]\n",
      "\n",
      "[[Yesterday]], protestors were [[met]] with a [[small]] [[scale]] counter-protest [[led]] by [[Georgian]] [[March]], a far-right, ultra-nationalist, neo-nazi [[group]] that [[has]] a [[history]] of [[staging]] [[counter]] [[demonstrations]] and [[threatening]] [[violence]].\n",
      "\n",
      "\n",
      "[[Friday]], protestors were [[obeyed]] with a [[tiniest]] [[echelon]] counter-protest [[driven]] by [[Georgie]] [[Marci]], a far-right, ultra-nationalist, neo-nazi [[stencil]] that [[possesses]] a [[myth]] of [[phases]] [[neutralise]] [[protest]] and [[endangered]] [[harassment]].\n",
      "\n",
      "\n",
      "\n"
     ]
    },
    {
     "name": "stderr",
     "output_type": "stream",
     "text": [
      "[Succeeded / Failed / Skipped / Total] 19 / 89 / 0 / 108:  55%|▌| 109/200 [3:20:/home/harsha/.local/lib/python3.8/site-packages/textattack/loggers/csv_logger.py:41: FutureWarning: The frame.append method is deprecated and will be removed from pandas in a future version. Use pandas.concat instead.\n",
      "  self.df = self.df.append(row, ignore_index=True)\n",
      "[Succeeded / Failed / Skipped / Total] 19 / 90 / 0 / 109:  55%|▌| 109/200 [3:20:"
     ]
    },
    {
     "name": "stdout",
     "output_type": "stream",
     "text": [
      "--------------------------------------------- Result 109 ---------------------------------------------\n",
      "[[2 (15%)]] --> [[[FAILED]]]\n",
      "\n",
      "What the servant owed the master is expressed as a myriad of talents.\n",
      "\n",
      "\n",
      "\n"
     ]
    },
    {
     "name": "stderr",
     "output_type": "stream",
     "text": [
      "[Succeeded / Failed / Skipped / Total] 19 / 90 / 0 / 109:  55%|▌| 110/200 [3:23:/home/harsha/.local/lib/python3.8/site-packages/textattack/loggers/csv_logger.py:41: FutureWarning: The frame.append method is deprecated and will be removed from pandas in a future version. Use pandas.concat instead.\n",
      "  self.df = self.df.append(row, ignore_index=True)\n",
      "[Succeeded / Failed / Skipped / Total] 19 / 91 / 0 / 110:  55%|▌| 110/200 [3:23:"
     ]
    },
    {
     "name": "stdout",
     "output_type": "stream",
     "text": [
      "--------------------------------------------- Result 110 ---------------------------------------------\n",
      "[[2 (13%)]] --> [[[FAILED]]]\n",
      "\n",
      "\"We made an effort to promote relations between Iran and Brazil in public and private sectors and we are capable of having useful bilateral relations,\" he concluded.\n",
      "\n",
      "\n",
      "\n"
     ]
    },
    {
     "name": "stderr",
     "output_type": "stream",
     "text": [
      "[Succeeded / Failed / Skipped / Total] 19 / 91 / 0 / 110:  56%|▌| 111/200 [3:25:/home/harsha/.local/lib/python3.8/site-packages/textattack/loggers/csv_logger.py:41: FutureWarning: The frame.append method is deprecated and will be removed from pandas in a future version. Use pandas.concat instead.\n",
      "  self.df = self.df.append(row, ignore_index=True)\n",
      "[Succeeded / Failed / Skipped / Total] 19 / 92 / 0 / 111:  56%|▌| 111/200 [3:25:"
     ]
    },
    {
     "name": "stdout",
     "output_type": "stream",
     "text": [
      "--------------------------------------------- Result 111 ---------------------------------------------\n",
      "[[2 (16%)]] --> [[[FAILED]]]\n",
      "\n",
      "\"We made changes in terms of the shape and dynamic of the team at half-time and I thought the boys were brilliant in the second half.\n",
      "\n",
      "\n",
      "\n"
     ]
    },
    {
     "name": "stderr",
     "output_type": "stream",
     "text": [
      "[Succeeded / Failed / Skipped / Total] 19 / 92 / 0 / 111:  56%|▌| 112/200 [3:25:/home/harsha/.local/lib/python3.8/site-packages/textattack/loggers/csv_logger.py:41: FutureWarning: The frame.append method is deprecated and will be removed from pandas in a future version. Use pandas.concat instead.\n",
      "  self.df = self.df.append(row, ignore_index=True)\n",
      "[Succeeded / Failed / Skipped / Total] 19 / 93 / 0 / 112:  56%|▌| 112/200 [3:25:"
     ]
    },
    {
     "name": "stdout",
     "output_type": "stream",
     "text": [
      "--------------------------------------------- Result 112 ---------------------------------------------\n",
      "[[2 (14%)]] --> [[[FAILED]]]\n",
      "\n",
      "Your the only Santa and that makes you special to me!\n",
      "\n",
      "\n",
      "\n"
     ]
    },
    {
     "name": "stderr",
     "output_type": "stream",
     "text": [
      "[Succeeded / Failed / Skipped / Total] 19 / 93 / 0 / 112:  56%|▌| 113/200 [3:27:/home/harsha/.local/lib/python3.8/site-packages/textattack/loggers/csv_logger.py:41: FutureWarning: The frame.append method is deprecated and will be removed from pandas in a future version. Use pandas.concat instead.\n",
      "  self.df = self.df.append(row, ignore_index=True)\n",
      "[Succeeded / Failed / Skipped / Total] 19 / 94 / 0 / 113:  56%|▌| 113/200 [3:27:"
     ]
    },
    {
     "name": "stdout",
     "output_type": "stream",
     "text": [
      "--------------------------------------------- Result 113 ---------------------------------------------\n",
      "[[2 (14%)]] --> [[[FAILED]]]\n",
      "\n",
      "Welcoming the probe, he said the truth would finally come out now and Khaunte would ultimately be exposed.\n",
      "\n",
      "\n",
      "\n"
     ]
    },
    {
     "name": "stderr",
     "output_type": "stream",
     "text": [
      "[Succeeded / Failed / Skipped / Total] 19 / 94 / 0 / 113:  57%|▌| 114/200 [3:28:/home/harsha/.local/lib/python3.8/site-packages/textattack/loggers/csv_logger.py:41: FutureWarning: The frame.append method is deprecated and will be removed from pandas in a future version. Use pandas.concat instead.\n",
      "  self.df = self.df.append(row, ignore_index=True)\n",
      "[Succeeded / Failed / Skipped / Total] 19 / 95 / 0 / 114:  57%|▌| 115/200 [3:28:/home/harsha/.local/lib/python3.8/site-packages/textattack/loggers/csv_logger.py:41: FutureWarning: The frame.append method is deprecated and will be removed from pandas in a future version. Use pandas.concat instead.\n",
      "  self.df = self.df.append(row, ignore_index=True)\n",
      "[Succeeded / Failed / Skipped / Total] 19 / 95 / 1 / 115:  57%|▌| 115/200 [3:28:"
     ]
    },
    {
     "name": "stdout",
     "output_type": "stream",
     "text": [
      "--------------------------------------------- Result 114 ---------------------------------------------\n",
      "[[2 (16%)]] --> [[[FAILED]]]\n",
      "\n",
      "\"When that's all they're living in then that's how they perceive the world to be,\" she said of the children in her care.\n",
      "\n",
      "\n",
      "\n",
      "--------------------------------------------- Result 115 ---------------------------------------------\n",
      "[[5 (11%)]] --> [[[SKIPPED]]]\n",
      "\n",
      "Youth unemployment in Australia is currently sitting at 13.3 per cent.\n",
      "\n",
      "\n",
      "\n"
     ]
    },
    {
     "name": "stderr",
     "output_type": "stream",
     "text": [
      "[Succeeded / Failed / Skipped / Total] 19 / 95 / 1 / 115:  58%|▌| 116/200 [3:28:/home/harsha/.local/lib/python3.8/site-packages/textattack/loggers/csv_logger.py:41: FutureWarning: The frame.append method is deprecated and will be removed from pandas in a future version. Use pandas.concat instead.\n",
      "  self.df = self.df.append(row, ignore_index=True)\n",
      "[Succeeded / Failed / Skipped / Total] 19 / 96 / 1 / 116:  58%|▌| 116/200 [3:28:"
     ]
    },
    {
     "name": "stdout",
     "output_type": "stream",
     "text": [
      "--------------------------------------------- Result 116 ---------------------------------------------\n",
      "[[2 (15%)]] --> [[[FAILED]]]\n",
      "\n",
      "Winners accumulate points for the next edition, where the winners of the 2017 circuit are defined.\n",
      "\n",
      "\n",
      "\n"
     ]
    },
    {
     "name": "stderr",
     "output_type": "stream",
     "text": [
      "[Succeeded / Failed / Skipped / Total] 19 / 96 / 1 / 116:  58%|▌| 117/200 [3:29:/home/harsha/.local/lib/python3.8/site-packages/textattack/loggers/csv_logger.py:41: FutureWarning: The frame.append method is deprecated and will be removed from pandas in a future version. Use pandas.concat instead.\n",
      "  self.df = self.df.append(row, ignore_index=True)\n",
      "[Succeeded / Failed / Skipped / Total] 19 / 97 / 1 / 117:  58%|▌| 117/200 [3:29:"
     ]
    },
    {
     "name": "stdout",
     "output_type": "stream",
     "text": [
      "--------------------------------------------- Result 117 ---------------------------------------------\n",
      "[[2 (13%)]] --> [[[FAILED]]]\n",
      "\n",
      "Wednesday, August 16, 2017Excitedly families stood in anticipation as the food packages were distributed.\n",
      "\n",
      "\n",
      "\n"
     ]
    },
    {
     "name": "stderr",
     "output_type": "stream",
     "text": [
      "[Succeeded / Failed / Skipped / Total] 19 / 97 / 1 / 117:  59%|▌| 118/200 [3:32:/home/harsha/.local/lib/python3.8/site-packages/textattack/loggers/csv_logger.py:41: FutureWarning: The frame.append method is deprecated and will be removed from pandas in a future version. Use pandas.concat instead.\n",
      "  self.df = self.df.append(row, ignore_index=True)\n",
      "[Succeeded / Failed / Skipped / Total] 19 / 98 / 1 / 118:  59%|▌| 118/200 [3:32:"
     ]
    },
    {
     "name": "stdout",
     "output_type": "stream",
     "text": [
      "--------------------------------------------- Result 118 ---------------------------------------------\n",
      "[[2 (14%)]] --> [[[FAILED]]]\n",
      "\n",
      "Under Carpenter's plan, the Freda Markley Center and Ervin (expected to be renamed the Ervin Early Learning Center) will house pre-school and kindergarten students.\n",
      "\n",
      "\n",
      "\n"
     ]
    },
    {
     "name": "stderr",
     "output_type": "stream",
     "text": [
      "[Succeeded / Failed / Skipped / Total] 19 / 98 / 1 / 118:  60%|▌| 119/200 [3:33:/home/harsha/.local/lib/python3.8/site-packages/textattack/loggers/csv_logger.py:41: FutureWarning: The frame.append method is deprecated and will be removed from pandas in a future version. Use pandas.concat instead.\n",
      "  self.df = self.df.append(row, ignore_index=True)\n",
      "[Succeeded / Failed / Skipped / Total] 20 / 98 / 1 / 119:  60%|▌| 119/200 [3:33:"
     ]
    },
    {
     "name": "stdout",
     "output_type": "stream",
     "text": [
      "--------------------------------------------- Result 119 ---------------------------------------------\n",
      "[[2 (12%)]] --> [[3 (12%)]]\n",
      "\n",
      "[[You]] are [[doing]] a [[sport]] that any able-bodied [[person]] can [[do]].\n",
      "\n",
      "\n",
      "[[Thyself]] are [[render]] a [[gym]] that any able-bodied [[somebody]] can [[did]].\n",
      "\n",
      "\n",
      "\n"
     ]
    },
    {
     "name": "stderr",
     "output_type": "stream",
     "text": [
      "[Succeeded / Failed / Skipped / Total] 20 / 98 / 1 / 119:  60%|▌| 120/200 [3:35:/home/harsha/.local/lib/python3.8/site-packages/textattack/loggers/csv_logger.py:41: FutureWarning: The frame.append method is deprecated and will be removed from pandas in a future version. Use pandas.concat instead.\n",
      "  self.df = self.df.append(row, ignore_index=True)\n",
      "[Succeeded / Failed / Skipped / Total] 20 / 99 / 1 / 120:  60%|▌| 120/200 [3:35:"
     ]
    },
    {
     "name": "stdout",
     "output_type": "stream",
     "text": [
      "--------------------------------------------- Result 120 ---------------------------------------------\n",
      "[[2 (15%)]] --> [[[FAILED]]]\n",
      "\n",
      "We are also going to build a 200ft pier into the sea and that will be a 200 ft by 30 ft pier and that will allow for interaction with the water.\n",
      "\n",
      "\n",
      "\n"
     ]
    },
    {
     "name": "stderr",
     "output_type": "stream",
     "text": [
      "[Succeeded / Failed / Skipped / Total] 20 / 99 / 1 / 120:  60%|▌| 121/200 [3:35:/home/harsha/.local/lib/python3.8/site-packages/textattack/loggers/csv_logger.py:41: FutureWarning: The frame.append method is deprecated and will be removed from pandas in a future version. Use pandas.concat instead.\n",
      "  self.df = self.df.append(row, ignore_index=True)\n",
      "[Succeeded / Failed / Skipped / Total] 21 / 99 / 1 / 121:  60%|▌| 121/200 [3:35:"
     ]
    },
    {
     "name": "stdout",
     "output_type": "stream",
     "text": [
      "--------------------------------------------- Result 121 ---------------------------------------------\n",
      "[[2 (12%)]] --> [[4 (12%)]]\n",
      "\n",
      "[[We]] are delighted that Ballinamore [[have]] [[come]] on [[board]] this [[year]].\n",
      "\n",
      "\n",
      "[[Our]] are delighted that Ballinamore [[possesses]] [[entrances]] on [[stencil]] this [[enjoyment]].\n",
      "\n",
      "\n",
      "\n"
     ]
    },
    {
     "name": "stderr",
     "output_type": "stream",
     "text": [
      "[Succeeded / Failed / Skipped / Total] 21 / 99 / 1 / 121:  61%|▌| 122/200 [3:35:/home/harsha/.local/lib/python3.8/site-packages/textattack/loggers/csv_logger.py:41: FutureWarning: The frame.append method is deprecated and will be removed from pandas in a future version. Use pandas.concat instead.\n",
      "  self.df = self.df.append(row, ignore_index=True)\n",
      "[Succeeded / Failed / Skipped / Total] 21 / 100 / 1 / 122:  61%|▌| 122/200 [3:35"
     ]
    },
    {
     "name": "stdout",
     "output_type": "stream",
     "text": [
      "--------------------------------------------- Result 122 ---------------------------------------------\n",
      "[[2 (14%)]] --> [[[FAILED]]]\n",
      "\n",
      "We say it with all conceit and arrogance: the midan is ours.\n",
      "\n",
      "\n",
      "\n"
     ]
    },
    {
     "name": "stderr",
     "output_type": "stream",
     "text": [
      "[Succeeded / Failed / Skipped / Total] 21 / 100 / 1 / 122:  62%|▌| 123/200 [3:36/home/harsha/.local/lib/python3.8/site-packages/textattack/loggers/csv_logger.py:41: FutureWarning: The frame.append method is deprecated and will be removed from pandas in a future version. Use pandas.concat instead.\n",
      "  self.df = self.df.append(row, ignore_index=True)\n",
      "[Succeeded / Failed / Skipped / Total] 21 / 101 / 1 / 123:  62%|▌| 123/200 [3:36"
     ]
    },
    {
     "name": "stdout",
     "output_type": "stream",
     "text": [
      "--------------------------------------------- Result 123 ---------------------------------------------\n",
      "[[2 (14%)]] --> [[[FAILED]]]\n",
      "\n",
      "We are very proud of the work and effort our students put into their program,\" Sanchez said.\n",
      "\n",
      "\n",
      "\n"
     ]
    },
    {
     "name": "stderr",
     "output_type": "stream",
     "text": [
      "[Succeeded / Failed / Skipped / Total] 21 / 101 / 1 / 123:  62%|▌| 124/200 [3:38/home/harsha/.local/lib/python3.8/site-packages/textattack/loggers/csv_logger.py:41: FutureWarning: The frame.append method is deprecated and will be removed from pandas in a future version. Use pandas.concat instead.\n",
      "  self.df = self.df.append(row, ignore_index=True)\n",
      "[Succeeded / Failed / Skipped / Total] 21 / 102 / 1 / 124:  62%|▌| 124/200 [3:38"
     ]
    },
    {
     "name": "stdout",
     "output_type": "stream",
     "text": [
      "--------------------------------------------- Result 124 ---------------------------------------------\n",
      "[[2 (15%)]] --> [[[FAILED]]]\n",
      "\n",
      "When it was being proposed the city change its bylaws to allow food trucks to serve their wares by the roadside in...\n",
      "\n",
      "\n",
      "\n"
     ]
    },
    {
     "name": "stderr",
     "output_type": "stream",
     "text": [
      "[Succeeded / Failed / Skipped / Total] 21 / 102 / 1 / 124:  62%|▋| 125/200 [3:39/home/harsha/.local/lib/python3.8/site-packages/textattack/loggers/csv_logger.py:41: FutureWarning: The frame.append method is deprecated and will be removed from pandas in a future version. Use pandas.concat instead.\n",
      "  self.df = self.df.append(row, ignore_index=True)\n",
      "[Succeeded / Failed / Skipped / Total] 21 / 103 / 1 / 125:  62%|▋| 125/200 [3:39"
     ]
    },
    {
     "name": "stdout",
     "output_type": "stream",
     "text": [
      "--------------------------------------------- Result 125 ---------------------------------------------\n",
      "[[2 (13%)]] --> [[[FAILED]]]\n",
      "\n",
      "When the census finally took place in 1998, it did have soldiers accompanying enumerators.\n",
      "\n",
      "\n",
      "\n"
     ]
    },
    {
     "name": "stderr",
     "output_type": "stream",
     "text": [
      "[Succeeded / Failed / Skipped / Total] 21 / 103 / 1 / 125:  63%|▋| 126/200 [3:43/home/harsha/.local/lib/python3.8/site-packages/textattack/loggers/csv_logger.py:41: FutureWarning: The frame.append method is deprecated and will be removed from pandas in a future version. Use pandas.concat instead.\n",
      "  self.df = self.df.append(row, ignore_index=True)\n",
      "[Succeeded / Failed / Skipped / Total] 21 / 104 / 1 / 126:  63%|▋| 126/200 [3:43"
     ]
    },
    {
     "name": "stdout",
     "output_type": "stream",
     "text": [
      "--------------------------------------------- Result 126 ---------------------------------------------\n",
      "[[2 (14%)]] --> [[[FAILED]]]\n",
      "\n",
      "We have always worked to be a positive force on campus, collaborating with other student organizations and supporting their efforts in a spirit of sincere respect and cooperation.\n",
      "\n",
      "\n",
      "\n"
     ]
    },
    {
     "name": "stderr",
     "output_type": "stream",
     "text": [
      "[Succeeded / Failed / Skipped / Total] 21 / 104 / 1 / 126:  64%|▋| 127/200 [3:44/home/harsha/.local/lib/python3.8/site-packages/textattack/loggers/csv_logger.py:41: FutureWarning: The frame.append method is deprecated and will be removed from pandas in a future version. Use pandas.concat instead.\n",
      "  self.df = self.df.append(row, ignore_index=True)\n",
      "[Succeeded / Failed / Skipped / Total] 21 / 105 / 1 / 127:  64%|▋| 127/200 [3:44"
     ]
    },
    {
     "name": "stdout",
     "output_type": "stream",
     "text": [
      "--------------------------------------------- Result 127 ---------------------------------------------\n",
      "[[2 (12%)]] --> [[[FAILED]]]\n",
      "\n",
      "Without regulation, these vaping cartridges could contain just as many carcinogens as cigarettes, or possibly even more.\n",
      "\n",
      "\n",
      "\n"
     ]
    },
    {
     "name": "stderr",
     "output_type": "stream",
     "text": [
      "[Succeeded / Failed / Skipped / Total] 21 / 105 / 1 / 127:  64%|▋| 128/200 [3:47/home/harsha/.local/lib/python3.8/site-packages/textattack/loggers/csv_logger.py:41: FutureWarning: The frame.append method is deprecated and will be removed from pandas in a future version. Use pandas.concat instead.\n",
      "  self.df = self.df.append(row, ignore_index=True)\n",
      "[Succeeded / Failed / Skipped / Total] 21 / 106 / 1 / 128:  64%|▋| 128/200 [3:47"
     ]
    },
    {
     "name": "stdout",
     "output_type": "stream",
     "text": [
      "--------------------------------------------- Result 128 ---------------------------------------------\n",
      "[[2 (14%)]] --> [[[FAILED]]]\n",
      "\n",
      "\"We did not have a good option for the individual in their 80s or who had other high risk features that made open heart surgery dangerous for them.\n",
      "\n",
      "\n",
      "\n"
     ]
    },
    {
     "name": "stderr",
     "output_type": "stream",
     "text": [
      "[Succeeded / Failed / Skipped / Total] 21 / 106 / 1 / 128:  64%|▋| 129/200 [3:47/home/harsha/.local/lib/python3.8/site-packages/textattack/loggers/csv_logger.py:41: FutureWarning: The frame.append method is deprecated and will be removed from pandas in a future version. Use pandas.concat instead.\n",
      "  self.df = self.df.append(row, ignore_index=True)\n",
      "[Succeeded / Failed / Skipped / Total] 22 / 106 / 1 / 129:  64%|▋| 129/200 [3:47"
     ]
    },
    {
     "name": "stdout",
     "output_type": "stream",
     "text": [
      "--------------------------------------------- Result 129 ---------------------------------------------\n",
      "[[2 (12%)]] --> [[3 (11%)]]\n",
      "\n",
      "We don't even [[really]] know for [[sure]] how much he did pay.\n",
      "\n",
      "\n",
      "We don't even [[definitely]] know for [[doubtless]] how much he did pay.\n",
      "\n",
      "\n",
      "\n"
     ]
    },
    {
     "name": "stderr",
     "output_type": "stream",
     "text": [
      "[Succeeded / Failed / Skipped / Total] 22 / 106 / 1 / 129:  65%|▋| 130/200 [3:47/home/harsha/.local/lib/python3.8/site-packages/textattack/loggers/csv_logger.py:41: FutureWarning: The frame.append method is deprecated and will be removed from pandas in a future version. Use pandas.concat instead.\n",
      "  self.df = self.df.append(row, ignore_index=True)\n",
      "[Succeeded / Failed / Skipped / Total] 22 / 107 / 1 / 130:  65%|▋| 130/200 [3:47"
     ]
    },
    {
     "name": "stdout",
     "output_type": "stream",
     "text": [
      "--------------------------------------------- Result 130 ---------------------------------------------\n",
      "[[2 (13%)]] --> [[[FAILED]]]\n",
      "\n",
      "\"Why put extra fertilizer onto parts of the fields that don't need it?\"\n",
      "\n",
      "\n",
      "\n"
     ]
    },
    {
     "name": "stderr",
     "output_type": "stream",
     "text": [
      "[Succeeded / Failed / Skipped / Total] 22 / 107 / 1 / 130:  66%|▋| 131/200 [3:48/home/harsha/.local/lib/python3.8/site-packages/textattack/loggers/csv_logger.py:41: FutureWarning: The frame.append method is deprecated and will be removed from pandas in a future version. Use pandas.concat instead.\n",
      "  self.df = self.df.append(row, ignore_index=True)\n",
      "[Succeeded / Failed / Skipped / Total] 22 / 108 / 1 / 131:  66%|▋| 131/200 [3:48"
     ]
    },
    {
     "name": "stdout",
     "output_type": "stream",
     "text": [
      "--------------------------------------------- Result 131 ---------------------------------------------\n",
      "[[2 (13%)]] --> [[[FAILED]]]\n",
      "\n",
      "Winners of the following Knox County Council Parent Teacher Association Awards are:.\n",
      "\n",
      "\n",
      "\n"
     ]
    },
    {
     "name": "stderr",
     "output_type": "stream",
     "text": [
      "[Succeeded / Failed / Skipped / Total] 22 / 108 / 1 / 131:  66%|▋| 132/200 [3:49/home/harsha/.local/lib/python3.8/site-packages/textattack/loggers/csv_logger.py:41: FutureWarning: The frame.append method is deprecated and will be removed from pandas in a future version. Use pandas.concat instead.\n",
      "  self.df = self.df.append(row, ignore_index=True)\n",
      "[Succeeded / Failed / Skipped / Total] 23 / 108 / 1 / 132:  66%|▋| 132/200 [3:49"
     ]
    },
    {
     "name": "stdout",
     "output_type": "stream",
     "text": [
      "--------------------------------------------- Result 132 ---------------------------------------------\n",
      "[[2 (12%)]] --> [[5 (11%)]]\n",
      "\n",
      "Why feel a constant [[need]] to [[retaliate]] [[rather]] than listen in [[earnest]]?\n",
      "\n",
      "\n",
      "Why feel a constant [[prerequisite]] to [[feud]] [[abundantly]] than listen in [[vehement]]?\n",
      "\n",
      "\n",
      "\n"
     ]
    },
    {
     "name": "stderr",
     "output_type": "stream",
     "text": [
      "[Succeeded / Failed / Skipped / Total] 23 / 108 / 1 / 132:  66%|▋| 133/200 [3:50/home/harsha/.local/lib/python3.8/site-packages/textattack/loggers/csv_logger.py:41: FutureWarning: The frame.append method is deprecated and will be removed from pandas in a future version. Use pandas.concat instead.\n",
      "  self.df = self.df.append(row, ignore_index=True)\n",
      "[Succeeded / Failed / Skipped / Total] 23 / 109 / 1 / 133:  66%|▋| 133/200 [3:50"
     ]
    },
    {
     "name": "stdout",
     "output_type": "stream",
     "text": [
      "--------------------------------------------- Result 133 ---------------------------------------------\n",
      "[[2 (13%)]] --> [[[FAILED]]]\n",
      "\n",
      "With the demand for Cuba extremely high at present, there are other alternatives to consider, writes Simon Calder.\n",
      "\n",
      "\n",
      "\n"
     ]
    },
    {
     "name": "stderr",
     "output_type": "stream",
     "text": [
      "[Succeeded / Failed / Skipped / Total] 23 / 109 / 1 / 133:  67%|▋| 134/200 [3:56/home/harsha/.local/lib/python3.8/site-packages/textattack/loggers/csv_logger.py:41: FutureWarning: The frame.append method is deprecated and will be removed from pandas in a future version. Use pandas.concat instead.\n",
      "  self.df = self.df.append(row, ignore_index=True)\n",
      "[Succeeded / Failed / Skipped / Total] 23 / 110 / 1 / 134:  67%|▋| 134/200 [3:56"
     ]
    },
    {
     "name": "stdout",
     "output_type": "stream",
     "text": [
      "--------------------------------------------- Result 134 ---------------------------------------------\n",
      "[[2 (15%)]] --> [[[FAILED]]]\n",
      "\n",
      "When she makes pasta for dinner, she stores the leftovers in Tupperware and wraps the containers in grocery bags in the refrigerator to hide them from John David because \"it's almost like he doesn't know when to stop eating or drinking.\"\n",
      "\n",
      "\n",
      "\n"
     ]
    },
    {
     "name": "stderr",
     "output_type": "stream",
     "text": [
      "[Succeeded / Failed / Skipped / Total] 23 / 110 / 1 / 134:  68%|▋| 135/200 [3:57/home/harsha/.local/lib/python3.8/site-packages/textattack/loggers/csv_logger.py:41: FutureWarning: The frame.append method is deprecated and will be removed from pandas in a future version. Use pandas.concat instead.\n",
      "  self.df = self.df.append(row, ignore_index=True)\n",
      "[Succeeded / Failed / Skipped / Total] 23 / 111 / 1 / 135:  68%|▋| 135/200 [3:57"
     ]
    },
    {
     "name": "stdout",
     "output_type": "stream",
     "text": [
      "--------------------------------------------- Result 135 ---------------------------------------------\n",
      "[[2 (13%)]] --> [[[FAILED]]]\n",
      "\n",
      "Works on the 1,000 metre scheme at Kilgortnaleague are due to be completed on Friday, October 21st.\n",
      "\n",
      "\n",
      "\n"
     ]
    },
    {
     "name": "stderr",
     "output_type": "stream",
     "text": [
      "[Succeeded / Failed / Skipped / Total] 23 / 111 / 1 / 135:  68%|▋| 136/200 [3:59/home/harsha/.local/lib/python3.8/site-packages/textattack/loggers/csv_logger.py:41: FutureWarning: The frame.append method is deprecated and will be removed from pandas in a future version. Use pandas.concat instead.\n",
      "  self.df = self.df.append(row, ignore_index=True)\n",
      "[Succeeded / Failed / Skipped / Total] 23 / 112 / 1 / 136:  68%|▋| 136/200 [3:59"
     ]
    },
    {
     "name": "stdout",
     "output_type": "stream",
     "text": [
      "--------------------------------------------- Result 136 ---------------------------------------------\n",
      "[[2 (16%)]] --> [[[FAILED]]]\n",
      "\n",
      "\"While we respect the fiscal challenges facing the government and the nation, we believe that cutting ARENA's budget would be short-sighted,\" the letter reads.\n",
      "\n",
      "\n",
      "\n"
     ]
    },
    {
     "name": "stderr",
     "output_type": "stream",
     "text": [
      "[Succeeded / Failed / Skipped / Total] 23 / 112 / 1 / 136:  68%|▋| 137/200 [4:00/home/harsha/.local/lib/python3.8/site-packages/textattack/loggers/csv_logger.py:41: FutureWarning: The frame.append method is deprecated and will be removed from pandas in a future version. Use pandas.concat instead.\n",
      "  self.df = self.df.append(row, ignore_index=True)\n",
      "[Succeeded / Failed / Skipped / Total] 24 / 112 / 1 / 137:  68%|▋| 137/200 [4:00"
     ]
    },
    {
     "name": "stdout",
     "output_type": "stream",
     "text": [
      "--------------------------------------------- Result 137 ---------------------------------------------\n",
      "[[2 (12%)]] --> [[1 (12%)]]\n",
      "\n",
      "[[We]] [[put]] in a [[bagging]] [[system]] last [[year]] [[so]] we can bag whole corn, cracked [[corn]] and sunflower seed.\"\n",
      "\n",
      "\n",
      "[[Myself]] [[render]] in a [[packet]] [[scheme]] last [[annum]] [[tad]] we can bag whole corn, cracked [[sorghum]] and sunflower seed.\"\n",
      "\n",
      "\n",
      "\n"
     ]
    },
    {
     "name": "stderr",
     "output_type": "stream",
     "text": [
      "[Succeeded / Failed / Skipped / Total] 24 / 112 / 1 / 137:  69%|▋| 138/200 [4:03/home/harsha/.local/lib/python3.8/site-packages/textattack/loggers/csv_logger.py:41: FutureWarning: The frame.append method is deprecated and will be removed from pandas in a future version. Use pandas.concat instead.\n",
      "  self.df = self.df.append(row, ignore_index=True)\n",
      "[Succeeded / Failed / Skipped / Total] 24 / 113 / 1 / 138:  69%|▋| 138/200 [4:03"
     ]
    },
    {
     "name": "stdout",
     "output_type": "stream",
     "text": [
      "--------------------------------------------- Result 138 ---------------------------------------------\n",
      "[[2 (15%)]] --> [[[FAILED]]]\n",
      "\n",
      "With respect to the recent revolution in Georgia, the popular movement there had \"very strong diplomatic support from the west\" which was bolstered by little resistance from the political elite.\n",
      "\n",
      "\n",
      "\n"
     ]
    },
    {
     "name": "stderr",
     "output_type": "stream",
     "text": [
      "[Succeeded / Failed / Skipped / Total] 24 / 113 / 1 / 138:  70%|▋| 139/200 [4:04/home/harsha/.local/lib/python3.8/site-packages/textattack/loggers/csv_logger.py:41: FutureWarning: The frame.append method is deprecated and will be removed from pandas in a future version. Use pandas.concat instead.\n",
      "  self.df = self.df.append(row, ignore_index=True)\n",
      "[Succeeded / Failed / Skipped / Total] 24 / 114 / 1 / 139:  70%|▋| 139/200 [4:04"
     ]
    },
    {
     "name": "stdout",
     "output_type": "stream",
     "text": [
      "--------------------------------------------- Result 139 ---------------------------------------------\n",
      "[[2 (13%)]] --> [[[FAILED]]]\n",
      "\n",
      "When asked the secret to a long life, Irma Koch said simply, \"Don't smoke, and have a happy,.\n",
      "\n",
      "\n",
      "\n"
     ]
    },
    {
     "name": "stderr",
     "output_type": "stream",
     "text": [
      "[Succeeded / Failed / Skipped / Total] 24 / 114 / 1 / 139:  70%|▋| 140/200 [4:05/home/harsha/.local/lib/python3.8/site-packages/textattack/loggers/csv_logger.py:41: FutureWarning: The frame.append method is deprecated and will be removed from pandas in a future version. Use pandas.concat instead.\n",
      "  self.df = self.df.append(row, ignore_index=True)\n",
      "[Succeeded / Failed / Skipped / Total] 24 / 115 / 1 / 140:  70%|▋| 140/200 [4:05"
     ]
    },
    {
     "name": "stdout",
     "output_type": "stream",
     "text": [
      "--------------------------------------------- Result 140 ---------------------------------------------\n",
      "[[2 (12%)]] --> [[[FAILED]]]\n",
      "\n",
      "\"We could have been a bit more comfortable but we came here and got three good points.\n",
      "\n",
      "\n",
      "\n"
     ]
    },
    {
     "name": "stderr",
     "output_type": "stream",
     "text": [
      "[Succeeded / Failed / Skipped / Total] 24 / 115 / 1 / 140:  70%|▋| 141/200 [4:08/home/harsha/.local/lib/python3.8/site-packages/textattack/loggers/csv_logger.py:41: FutureWarning: The frame.append method is deprecated and will be removed from pandas in a future version. Use pandas.concat instead.\n",
      "  self.df = self.df.append(row, ignore_index=True)\n",
      "[Succeeded / Failed / Skipped / Total] 24 / 116 / 1 / 141:  70%|▋| 141/200 [4:08"
     ]
    },
    {
     "name": "stdout",
     "output_type": "stream",
     "text": [
      "--------------------------------------------- Result 141 ---------------------------------------------\n",
      "[[2 (14%)]] --> [[[FAILED]]]\n",
      "\n",
      "When asked about the plans of Global expansion, The Producer Director, Mr. Vikas Puri said\" We have already been doing our wedding shoots globally.\n",
      "\n",
      "\n",
      "\n"
     ]
    },
    {
     "name": "stderr",
     "output_type": "stream",
     "text": [
      "[Succeeded / Failed / Skipped / Total] 24 / 116 / 1 / 141:  71%|▋| 142/200 [4:09/home/harsha/.local/lib/python3.8/site-packages/textattack/loggers/csv_logger.py:41: FutureWarning: The frame.append method is deprecated and will be removed from pandas in a future version. Use pandas.concat instead.\n",
      "  self.df = self.df.append(row, ignore_index=True)\n",
      "[Succeeded / Failed / Skipped / Total] 24 / 117 / 1 / 142:  71%|▋| 142/200 [4:09"
     ]
    },
    {
     "name": "stdout",
     "output_type": "stream",
     "text": [
      "--------------------------------------------- Result 142 ---------------------------------------------\n",
      "[[2 (13%)]] --> [[[FAILED]]]\n",
      "\n",
      "While land is undervalued, the claimed social benefits of large monocultures are typically over-stated.\n",
      "\n",
      "\n",
      "\n"
     ]
    },
    {
     "name": "stderr",
     "output_type": "stream",
     "text": [
      "[Succeeded / Failed / Skipped / Total] 24 / 117 / 1 / 142:  72%|▋| 143/200 [4:15/home/harsha/.local/lib/python3.8/site-packages/textattack/loggers/csv_logger.py:41: FutureWarning: The frame.append method is deprecated and will be removed from pandas in a future version. Use pandas.concat instead.\n",
      "  self.df = self.df.append(row, ignore_index=True)\n",
      "[Succeeded / Failed / Skipped / Total] 25 / 117 / 1 / 143:  72%|▋| 143/200 [4:15"
     ]
    },
    {
     "name": "stdout",
     "output_type": "stream",
     "text": [
      "--------------------------------------------- Result 143 ---------------------------------------------\n",
      "[[2 (13%)]] --> [[1 (12%)]]\n",
      "\n",
      "[[WASHINGTON]] -- [[During]] an [[April]] 11 homily in [[Washington]], Salvadoran [[Archbishop]] [[Jose]] [[Luis]] [[Escobar]] [[Alas]] [[said]] the canonization of Blessed [[Oscar]] [[Romero]] [[will]] \"[[probably]]\" [[be]] in [[Rome]] and \"[[probably]]\" [[take]] [[place]] at [[end]] of [[October]] after a [[meeting]] of [[bishops]].\n",
      "\n",
      "\n",
      "[[SPOKANE]] -- [[Under]] an [[December]] 11 homily in [[Spokane]], Salvadoran [[Diocese]] [[Velasquez]] [[Francois]] [[Espinoza]] [[Miserably]] [[proclaims]] the canonization of Blessed [[Emmys]] [[Espinoza]] [[wanna]] \"[[undoubtedly]]\" [[fi]] in [[Romani]] and \"[[undeniably]]\" [[shoulder]] [[stead]] at [[finalised]] of [[September]] after a [[assembly]] of [[archdiocese]].\n",
      "\n",
      "\n",
      "\n"
     ]
    },
    {
     "name": "stderr",
     "output_type": "stream",
     "text": [
      "[Succeeded / Failed / Skipped / Total] 25 / 117 / 1 / 143:  72%|▋| 144/200 [4:16/home/harsha/.local/lib/python3.8/site-packages/textattack/loggers/csv_logger.py:41: FutureWarning: The frame.append method is deprecated and will be removed from pandas in a future version. Use pandas.concat instead.\n",
      "  self.df = self.df.append(row, ignore_index=True)\n",
      "[Succeeded / Failed / Skipped / Total] 25 / 118 / 1 / 144:  72%|▋| 144/200 [4:16"
     ]
    },
    {
     "name": "stdout",
     "output_type": "stream",
     "text": [
      "--------------------------------------------- Result 144 ---------------------------------------------\n",
      "[[2 (13%)]] --> [[[FAILED]]]\n",
      "\n",
      "\"Where we lost our numbers, were in the so-called good weather months, which weren't such good weather this year,\" he said.\n",
      "\n",
      "\n",
      "\n"
     ]
    },
    {
     "name": "stderr",
     "output_type": "stream",
     "text": [
      "[Succeeded / Failed / Skipped / Total] 25 / 118 / 1 / 144:  72%|▋| 145/200 [4:19/home/harsha/.local/lib/python3.8/site-packages/textattack/loggers/csv_logger.py:41: FutureWarning: The frame.append method is deprecated and will be removed from pandas in a future version. Use pandas.concat instead.\n",
      "  self.df = self.df.append(row, ignore_index=True)\n",
      "[Succeeded / Failed / Skipped / Total] 25 / 119 / 1 / 145:  72%|▋| 145/200 [4:19"
     ]
    },
    {
     "name": "stdout",
     "output_type": "stream",
     "text": [
      "--------------------------------------------- Result 145 ---------------------------------------------\n",
      "[[2 (15%)]] --> [[[FAILED]]]\n",
      "\n",
      "\"When tragedy happens like that, people tend to rally,\" she said, adding that August, the month after the fire, was the best month ever for business at Bothell Chiropractic and Wellness.\n",
      "\n",
      "\n",
      "\n"
     ]
    },
    {
     "name": "stderr",
     "output_type": "stream",
     "text": [
      "[Succeeded / Failed / Skipped / Total] 25 / 119 / 1 / 145:  73%|▋| 146/200 [4:20/home/harsha/.local/lib/python3.8/site-packages/textattack/loggers/csv_logger.py:41: FutureWarning: The frame.append method is deprecated and will be removed from pandas in a future version. Use pandas.concat instead.\n",
      "  self.df = self.df.append(row, ignore_index=True)\n",
      "[Succeeded / Failed / Skipped / Total] 25 / 120 / 1 / 146:  73%|▋| 146/200 [4:20"
     ]
    },
    {
     "name": "stdout",
     "output_type": "stream",
     "text": [
      "--------------------------------------------- Result 146 ---------------------------------------------\n",
      "[[2 (15%)]] --> [[[FAILED]]]\n",
      "\n",
      "We were all looking for and expecting the snipers to be White men.\n",
      "\n",
      "\n",
      "\n"
     ]
    },
    {
     "name": "stderr",
     "output_type": "stream",
     "text": [
      "[Succeeded / Failed / Skipped / Total] 25 / 120 / 1 / 146:  74%|▋| 147/200 [4:21/home/harsha/.local/lib/python3.8/site-packages/textattack/loggers/csv_logger.py:41: FutureWarning: The frame.append method is deprecated and will be removed from pandas in a future version. Use pandas.concat instead.\n",
      "  self.df = self.df.append(row, ignore_index=True)\n",
      "[Succeeded / Failed / Skipped / Total] 25 / 121 / 1 / 147:  74%|▋| 147/200 [4:21"
     ]
    },
    {
     "name": "stdout",
     "output_type": "stream",
     "text": [
      "--------------------------------------------- Result 147 ---------------------------------------------\n",
      "[[2 (12%)]] --> [[[FAILED]]]\n",
      "\n",
      "Your $50 tax credit isn't going to get you far in this election.\n",
      "\n",
      "\n",
      "\n"
     ]
    },
    {
     "name": "stderr",
     "output_type": "stream",
     "text": [
      "[Succeeded / Failed / Skipped / Total] 25 / 121 / 1 / 147:  74%|▋| 148/200 [4:21/home/harsha/.local/lib/python3.8/site-packages/textattack/loggers/csv_logger.py:41: FutureWarning: The frame.append method is deprecated and will be removed from pandas in a future version. Use pandas.concat instead.\n",
      "  self.df = self.df.append(row, ignore_index=True)\n",
      "[Succeeded / Failed / Skipped / Total] 25 / 122 / 1 / 148:  74%|▋| 148/200 [4:21"
     ]
    },
    {
     "name": "stdout",
     "output_type": "stream",
     "text": [
      "--------------------------------------------- Result 148 ---------------------------------------------\n",
      "[[2 (12%)]] --> [[[FAILED]]]\n",
      "\n",
      "When you get to a point where you realise I'm not living for you.\n",
      "\n",
      "\n",
      "\n"
     ]
    },
    {
     "name": "stderr",
     "output_type": "stream",
     "text": [
      "[Succeeded / Failed / Skipped / Total] 25 / 122 / 1 / 148:  74%|▋| 149/200 [4:24/home/harsha/.local/lib/python3.8/site-packages/textattack/loggers/csv_logger.py:41: FutureWarning: The frame.append method is deprecated and will be removed from pandas in a future version. Use pandas.concat instead.\n",
      "  self.df = self.df.append(row, ignore_index=True)\n",
      "[Succeeded / Failed / Skipped / Total] 25 / 123 / 1 / 149:  74%|▋| 149/200 [4:24"
     ]
    },
    {
     "name": "stdout",
     "output_type": "stream",
     "text": [
      "--------------------------------------------- Result 149 ---------------------------------------------\n",
      "[[2 (15%)]] --> [[[FAILED]]]\n",
      "\n",
      "When it comes to the three business promotion organisations, that is MDC, METCO and IPSE, the survey has highlighted quite significant differences in perceptions.\n",
      "\n",
      "\n",
      "\n"
     ]
    },
    {
     "name": "stderr",
     "output_type": "stream",
     "text": [
      "[Succeeded / Failed / Skipped / Total] 25 / 123 / 1 / 149:  75%|▊| 150/200 [4:24/home/harsha/.local/lib/python3.8/site-packages/textattack/loggers/csv_logger.py:41: FutureWarning: The frame.append method is deprecated and will be removed from pandas in a future version. Use pandas.concat instead.\n",
      "  self.df = self.df.append(row, ignore_index=True)\n",
      "[Succeeded / Failed / Skipped / Total] 25 / 124 / 1 / 150:  75%|▊| 150/200 [4:24"
     ]
    },
    {
     "name": "stdout",
     "output_type": "stream",
     "text": [
      "--------------------------------------------- Result 150 ---------------------------------------------\n",
      "[[2 (12%)]] --> [[[FAILED]]]\n",
      "\n",
      "What makes it really special is it was David's first and last car.\n",
      "\n",
      "\n",
      "\n"
     ]
    },
    {
     "name": "stderr",
     "output_type": "stream",
     "text": [
      "[Succeeded / Failed / Skipped / Total] 25 / 124 / 1 / 150:  76%|▊| 151/200 [4:25/home/harsha/.local/lib/python3.8/site-packages/textattack/loggers/csv_logger.py:41: FutureWarning: The frame.append method is deprecated and will be removed from pandas in a future version. Use pandas.concat instead.\n",
      "  self.df = self.df.append(row, ignore_index=True)\n",
      "[Succeeded / Failed / Skipped / Total] 25 / 125 / 1 / 151:  76%|▊| 151/200 [4:25"
     ]
    },
    {
     "name": "stdout",
     "output_type": "stream",
     "text": [
      "--------------------------------------------- Result 151 ---------------------------------------------\n",
      "[[2 (14%)]] --> [[[FAILED]]]\n",
      "\n",
      "Vladimir Putin approved a composition of the Public Chamber of the Russian Federation.\n",
      "\n",
      "\n",
      "\n"
     ]
    },
    {
     "name": "stderr",
     "output_type": "stream",
     "text": [
      "[Succeeded / Failed / Skipped / Total] 25 / 125 / 1 / 151:  76%|▊| 152/200 [4:29/home/harsha/.local/lib/python3.8/site-packages/textattack/loggers/csv_logger.py:41: FutureWarning: The frame.append method is deprecated and will be removed from pandas in a future version. Use pandas.concat instead.\n",
      "  self.df = self.df.append(row, ignore_index=True)\n",
      "[Succeeded / Failed / Skipped / Total] 25 / 126 / 1 / 152:  76%|▊| 152/200 [4:29"
     ]
    },
    {
     "name": "stdout",
     "output_type": "stream",
     "text": [
      "--------------------------------------------- Result 152 ---------------------------------------------\n",
      "[[2 (15%)]] --> [[[FAILED]]]\n",
      "\n",
      "Wessen had complained to the Office of the Attorney General claiming that Lidet has committed a breach of conduct in taking away clients from her father's law firm without his consent.\n",
      "\n",
      "\n",
      "\n"
     ]
    },
    {
     "name": "stderr",
     "output_type": "stream",
     "text": [
      "[Succeeded / Failed / Skipped / Total] 25 / 126 / 1 / 152:  76%|▊| 153/200 [4:30/home/harsha/.local/lib/python3.8/site-packages/textattack/loggers/csv_logger.py:41: FutureWarning: The frame.append method is deprecated and will be removed from pandas in a future version. Use pandas.concat instead.\n",
      "  self.df = self.df.append(row, ignore_index=True)\n",
      "[Succeeded / Failed / Skipped / Total] 26 / 126 / 1 / 153:  76%|▊| 153/200 [4:30"
     ]
    },
    {
     "name": "stdout",
     "output_type": "stream",
     "text": [
      "--------------------------------------------- Result 153 ---------------------------------------------\n",
      "[[2 (12%)]] --> [[3 (12%)]]\n",
      "\n",
      "Well known travel writer Rick Steves is busy [[writing]] his guidebook Rick Steve's [[Iceland]], On his blog however he's published a few budget tips for [[Iceland]] [[travels]].\n",
      "\n",
      "\n",
      "Well known travel writer Rick Steves is busy [[handwritten]] his guidebook Rick Steve's [[Estonian]], On his blog however he's published a few budget tips for [[Icelandic]] [[adventure]].\n",
      "\n",
      "\n",
      "\n"
     ]
    },
    {
     "name": "stderr",
     "output_type": "stream",
     "text": [
      "[Succeeded / Failed / Skipped / Total] 26 / 126 / 1 / 153:  77%|▊| 154/200 [4:31/home/harsha/.local/lib/python3.8/site-packages/textattack/loggers/csv_logger.py:41: FutureWarning: The frame.append method is deprecated and will be removed from pandas in a future version. Use pandas.concat instead.\n",
      "  self.df = self.df.append(row, ignore_index=True)\n",
      "[Succeeded / Failed / Skipped / Total] 27 / 126 / 1 / 154:  77%|▊| 154/200 [4:31"
     ]
    },
    {
     "name": "stdout",
     "output_type": "stream",
     "text": [
      "--------------------------------------------- Result 154 ---------------------------------------------\n",
      "[[2 (13%)]] --> [[1 (12%)]]\n",
      "\n",
      "\"[[Within]] [[seconds]], minutes, it's [[going]] to [[become]] deadly,\" [[said]] [[Captain]] [[Andy]] [[Skaggs]] of TFD about [[flooding]] in [[washes]] and [[streets]] in [[Tucson]].\n",
      "\n",
      "\n",
      "\"[[Under]] [[minute]], minutes, it's [[gonna]] to [[gotten]] deadly,\" [[asserts]] [[Chef]] [[Andi]] [[Delbert]] of TFD about [[deluge]] in [[launder]] and [[estrada]] in [[Lubbock]].\n",
      "\n",
      "\n",
      "\n"
     ]
    },
    {
     "name": "stderr",
     "output_type": "stream",
     "text": [
      "[Succeeded / Failed / Skipped / Total] 27 / 126 / 1 / 154:  78%|▊| 155/200 [4:33/home/harsha/.local/lib/python3.8/site-packages/textattack/loggers/csv_logger.py:41: FutureWarning: The frame.append method is deprecated and will be removed from pandas in a future version. Use pandas.concat instead.\n",
      "  self.df = self.df.append(row, ignore_index=True)\n",
      "[Succeeded / Failed / Skipped / Total] 27 / 127 / 1 / 155:  78%|▊| 155/200 [4:33"
     ]
    },
    {
     "name": "stdout",
     "output_type": "stream",
     "text": [
      "--------------------------------------------- Result 155 ---------------------------------------------\n",
      "[[2 (14%)]] --> [[[FAILED]]]\n",
      "\n",
      "We are till date yet to see a five (5) inches cement block laid for the first of the 200 senior high schools as promised ahead of elections 2012.\n",
      "\n",
      "\n",
      "\n"
     ]
    },
    {
     "name": "stderr",
     "output_type": "stream",
     "text": [
      "[Succeeded / Failed / Skipped / Total] 27 / 127 / 1 / 155:  78%|▊| 156/200 [4:34/home/harsha/.local/lib/python3.8/site-packages/textattack/loggers/csv_logger.py:41: FutureWarning: The frame.append method is deprecated and will be removed from pandas in a future version. Use pandas.concat instead.\n",
      "  self.df = self.df.append(row, ignore_index=True)\n",
      "[Succeeded / Failed / Skipped / Total] 27 / 128 / 1 / 156:  78%|▊| 156/200 [4:34"
     ]
    },
    {
     "name": "stdout",
     "output_type": "stream",
     "text": [
      "--------------------------------------------- Result 156 ---------------------------------------------\n",
      "[[2 (12%)]] --> [[[FAILED]]]\n",
      "\n",
      "User Udugu Wa Kiislamu regularly posts news bulletins from the ISIS-affiliated Wilayat News Network (WNN).\n",
      "\n",
      "\n",
      "\n"
     ]
    },
    {
     "name": "stderr",
     "output_type": "stream",
     "text": [
      "[Succeeded / Failed / Skipped / Total] 27 / 128 / 1 / 156:  78%|▊| 157/200 [4:36/home/harsha/.local/lib/python3.8/site-packages/textattack/loggers/csv_logger.py:41: FutureWarning: The frame.append method is deprecated and will be removed from pandas in a future version. Use pandas.concat instead.\n",
      "  self.df = self.df.append(row, ignore_index=True)\n",
      "[Succeeded / Failed / Skipped / Total] 27 / 129 / 1 / 157:  78%|▊| 157/200 [4:36"
     ]
    },
    {
     "name": "stdout",
     "output_type": "stream",
     "text": [
      "--------------------------------------------- Result 157 ---------------------------------------------\n",
      "[[2 (15%)]] --> [[[FAILED]]]\n",
      "\n",
      "\"We're not in the business of trading good players for prospects when your team has a chance to win the (Stanley) Cup.\n",
      "\n",
      "\n",
      "\n"
     ]
    },
    {
     "name": "stderr",
     "output_type": "stream",
     "text": [
      "[Succeeded / Failed / Skipped / Total] 27 / 129 / 1 / 157:  79%|▊| 158/200 [4:38/home/harsha/.local/lib/python3.8/site-packages/textattack/loggers/csv_logger.py:41: FutureWarning: The frame.append method is deprecated and will be removed from pandas in a future version. Use pandas.concat instead.\n",
      "  self.df = self.df.append(row, ignore_index=True)\n",
      "[Succeeded / Failed / Skipped / Total] 27 / 130 / 1 / 158:  79%|▊| 158/200 [4:38"
     ]
    },
    {
     "name": "stdout",
     "output_type": "stream",
     "text": [
      "--------------------------------------------- Result 158 ---------------------------------------------\n",
      "[[2 (15%)]] --> [[[FAILED]]]\n",
      "\n",
      "We tried the octopus carpaccio to start, which was soft and delicate, served with the unlikely combination of truffle cream and marinated apples.\n",
      "\n",
      "\n",
      "\n"
     ]
    },
    {
     "name": "stderr",
     "output_type": "stream",
     "text": [
      "[Succeeded / Failed / Skipped / Total] 27 / 130 / 1 / 158:  80%|▊| 159/200 [4:41/home/harsha/.local/lib/python3.8/site-packages/textattack/loggers/csv_logger.py:41: FutureWarning: The frame.append method is deprecated and will be removed from pandas in a future version. Use pandas.concat instead.\n",
      "  self.df = self.df.append(row, ignore_index=True)\n",
      "[Succeeded / Failed / Skipped / Total] 27 / 131 / 1 / 159:  80%|▊| 159/200 [4:41"
     ]
    },
    {
     "name": "stdout",
     "output_type": "stream",
     "text": [
      "--------------------------------------------- Result 159 ---------------------------------------------\n",
      "[[2 (14%)]] --> [[[FAILED]]]\n",
      "\n",
      "Yet, even in the absence of feelings of hunger, she looked forward to what had become ritualized bouts of food stuffing and self induced vomiting.\n",
      "\n",
      "\n",
      "\n"
     ]
    },
    {
     "name": "stderr",
     "output_type": "stream",
     "text": [
      "[Succeeded / Failed / Skipped / Total] 27 / 131 / 1 / 159:  80%|▊| 160/200 [4:44/home/harsha/.local/lib/python3.8/site-packages/textattack/loggers/csv_logger.py:41: FutureWarning: The frame.append method is deprecated and will be removed from pandas in a future version. Use pandas.concat instead.\n",
      "  self.df = self.df.append(row, ignore_index=True)\n",
      "[Succeeded / Failed / Skipped / Total] 27 / 132 / 1 / 160:  80%|▊| 160/200 [4:44"
     ]
    },
    {
     "name": "stdout",
     "output_type": "stream",
     "text": [
      "--------------------------------------------- Result 160 ---------------------------------------------\n",
      "[[2 (15%)]] --> [[[FAILED]]]\n",
      "\n",
      "We are proud of our contribution to the growth and development of healthcare in Qatar and proud to be part of the private sector's active partnership in achieving the developmental goals of Qatar.\"\n",
      "\n",
      "\n",
      "\n"
     ]
    },
    {
     "name": "stderr",
     "output_type": "stream",
     "text": [
      "[Succeeded / Failed / Skipped / Total] 27 / 132 / 1 / 160:  80%|▊| 161/200 [4:48/home/harsha/.local/lib/python3.8/site-packages/textattack/loggers/csv_logger.py:41: FutureWarning: The frame.append method is deprecated and will be removed from pandas in a future version. Use pandas.concat instead.\n",
      "  self.df = self.df.append(row, ignore_index=True)\n",
      "[Succeeded / Failed / Skipped / Total] 27 / 133 / 1 / 161:  80%|▊| 161/200 [4:48"
     ]
    },
    {
     "name": "stdout",
     "output_type": "stream",
     "text": [
      "--------------------------------------------- Result 161 ---------------------------------------------\n",
      "[[2 (13%)]] --> [[[FAILED]]]\n",
      "\n",
      "You are invited to support the Foundation by individual gifts of cash, planned gifts, life insurance, retirement accounts, securities, real estate, grant funding and also corporate contributions.\n",
      "\n",
      "\n",
      "\n"
     ]
    },
    {
     "name": "stderr",
     "output_type": "stream",
     "text": [
      "[Succeeded / Failed / Skipped / Total] 27 / 133 / 1 / 161:  81%|▊| 162/200 [4:49/home/harsha/.local/lib/python3.8/site-packages/textattack/loggers/csv_logger.py:41: FutureWarning: The frame.append method is deprecated and will be removed from pandas in a future version. Use pandas.concat instead.\n",
      "  self.df = self.df.append(row, ignore_index=True)\n",
      "[Succeeded / Failed / Skipped / Total] 27 / 134 / 1 / 162:  81%|▊| 162/200 [4:49"
     ]
    },
    {
     "name": "stdout",
     "output_type": "stream",
     "text": [
      "--------------------------------------------- Result 162 ---------------------------------------------\n",
      "[[2 (12%)]] --> [[[FAILED]]]\n",
      "\n",
      "You either drop out right now, or you lose by the biggest landslide in American political history.\"\n",
      "\n",
      "\n",
      "\n"
     ]
    },
    {
     "name": "stderr",
     "output_type": "stream",
     "text": [
      "[Succeeded / Failed / Skipped / Total] 27 / 134 / 1 / 162:  82%|▊| 163/200 [4:55/home/harsha/.local/lib/python3.8/site-packages/textattack/loggers/csv_logger.py:41: FutureWarning: The frame.append method is deprecated and will be removed from pandas in a future version. Use pandas.concat instead.\n",
      "  self.df = self.df.append(row, ignore_index=True)\n",
      "[Succeeded / Failed / Skipped / Total] 27 / 135 / 1 / 163:  82%|▊| 163/200 [4:55"
     ]
    },
    {
     "name": "stdout",
     "output_type": "stream",
     "text": [
      "--------------------------------------------- Result 163 ---------------------------------------------\n",
      "[[2 (15%)]] --> [[[FAILED]]]\n",
      "\n",
      "\"We came across the amazing work of pioneers like Daphne Oram back in the 1940s and 50s -- she pushed ahead with the development of electronic works, and even built her own synthesiser before they had really taken off,\" Melania Jack said.\n",
      "\n",
      "\n",
      "\n"
     ]
    },
    {
     "name": "stderr",
     "output_type": "stream",
     "text": [
      "[Succeeded / Failed / Skipped / Total] 27 / 135 / 1 / 163:  82%|▊| 164/200 [4:57/home/harsha/.local/lib/python3.8/site-packages/textattack/loggers/csv_logger.py:41: FutureWarning: The frame.append method is deprecated and will be removed from pandas in a future version. Use pandas.concat instead.\n",
      "  self.df = self.df.append(row, ignore_index=True)\n",
      "[Succeeded / Failed / Skipped / Total] 27 / 136 / 1 / 164:  82%|▊| 164/200 [4:57"
     ]
    },
    {
     "name": "stdout",
     "output_type": "stream",
     "text": [
      "--------------------------------------------- Result 164 ---------------------------------------------\n",
      "[[2 (14%)]] --> [[[FAILED]]]\n",
      "\n",
      "Whether it is a tie game, or we have a lead, or we are down one or two goals, we are going to be the best team in the third period every time.\n",
      "\n",
      "\n",
      "\n"
     ]
    },
    {
     "name": "stderr",
     "output_type": "stream",
     "text": [
      "[Succeeded / Failed / Skipped / Total] 27 / 136 / 1 / 164:  82%|▊| 165/200 [4:57/home/harsha/.local/lib/python3.8/site-packages/textattack/loggers/csv_logger.py:41: FutureWarning: The frame.append method is deprecated and will be removed from pandas in a future version. Use pandas.concat instead.\n",
      "  self.df = self.df.append(row, ignore_index=True)\n",
      "[Succeeded / Failed / Skipped / Total] 27 / 137 / 1 / 165:  82%|▊| 165/200 [4:57"
     ]
    },
    {
     "name": "stdout",
     "output_type": "stream",
     "text": [
      "--------------------------------------------- Result 165 ---------------------------------------------\n",
      "[[2 (16%)]] --> [[[FAILED]]]\n",
      "\n",
      "Whatever the age or occasion, there is something for all the family.\n",
      "\n",
      "\n",
      "\n"
     ]
    },
    {
     "name": "stderr",
     "output_type": "stream",
     "text": [
      "[Succeeded / Failed / Skipped / Total] 27 / 137 / 1 / 165:  83%|▊| 166/200 [4:58/home/harsha/.local/lib/python3.8/site-packages/textattack/loggers/csv_logger.py:41: FutureWarning: The frame.append method is deprecated and will be removed from pandas in a future version. Use pandas.concat instead.\n",
      "  self.df = self.df.append(row, ignore_index=True)\n",
      "[Succeeded / Failed / Skipped / Total] 27 / 138 / 1 / 166:  83%|▊| 166/200 [4:58"
     ]
    },
    {
     "name": "stdout",
     "output_type": "stream",
     "text": [
      "--------------------------------------------- Result 166 ---------------------------------------------\n",
      "[[2 (13%)]] --> [[[FAILED]]]\n",
      "\n",
      "What he really replied (according to one report) was, \"I have not yet thought of it, but I am determined to make you strike.\"\n",
      "\n",
      "\n",
      "\n"
     ]
    },
    {
     "name": "stderr",
     "output_type": "stream",
     "text": [
      "[Succeeded / Failed / Skipped / Total] 27 / 138 / 1 / 166:  84%|▊| 167/200 [5:00/home/harsha/.local/lib/python3.8/site-packages/textattack/loggers/csv_logger.py:41: FutureWarning: The frame.append method is deprecated and will be removed from pandas in a future version. Use pandas.concat instead.\n",
      "  self.df = self.df.append(row, ignore_index=True)\n",
      "[Succeeded / Failed / Skipped / Total] 27 / 139 / 1 / 167:  84%|▊| 167/200 [5:00"
     ]
    },
    {
     "name": "stdout",
     "output_type": "stream",
     "text": [
      "--------------------------------------------- Result 167 ---------------------------------------------\n",
      "[[2 (15%)]] --> [[[FAILED]]]\n",
      "\n",
      "Yet, the senator did not worry about the legality or repercussions of the continued targeted killings in Somalia, Yemen or Pakistan.\n",
      "\n",
      "\n",
      "\n"
     ]
    },
    {
     "name": "stderr",
     "output_type": "stream",
     "text": [
      "[Succeeded / Failed / Skipped / Total] 27 / 139 / 1 / 167:  84%|▊| 168/200 [5:05/home/harsha/.local/lib/python3.8/site-packages/textattack/loggers/csv_logger.py:41: FutureWarning: The frame.append method is deprecated and will be removed from pandas in a future version. Use pandas.concat instead.\n",
      "  self.df = self.df.append(row, ignore_index=True)\n",
      "[Succeeded / Failed / Skipped / Total] 27 / 140 / 1 / 168:  84%|▊| 168/200 [5:05"
     ]
    },
    {
     "name": "stdout",
     "output_type": "stream",
     "text": [
      "--------------------------------------------- Result 168 ---------------------------------------------\n",
      "[[2 (14%)]] --> [[[FAILED]]]\n",
      "\n",
      "\"We really needed to get down to 140 to make it small enough to continue to sort of hold the line in terms of our entering LSAT and undergraduate GPA scores,\" said Craig Boise, dean of C-M Law.\n",
      "\n",
      "\n",
      "\n"
     ]
    },
    {
     "name": "stderr",
     "output_type": "stream",
     "text": [
      "[Succeeded / Failed / Skipped / Total] 27 / 140 / 1 / 168:  84%|▊| 169/200 [5:05/home/harsha/.local/lib/python3.8/site-packages/textattack/loggers/csv_logger.py:41: FutureWarning: The frame.append method is deprecated and will be removed from pandas in a future version. Use pandas.concat instead.\n",
      "  self.df = self.df.append(row, ignore_index=True)\n",
      "[Succeeded / Failed / Skipped / Total] 27 / 141 / 1 / 169:  84%|▊| 169/200 [5:05"
     ]
    },
    {
     "name": "stdout",
     "output_type": "stream",
     "text": [
      "--------------------------------------------- Result 169 ---------------------------------------------\n",
      "[[2 (12%)]] --> [[[FAILED]]]\n",
      "\n",
      "Unemployment is officially at 14% and per capita income is officially $2200/year.\n",
      "\n",
      "\n",
      "\n"
     ]
    },
    {
     "name": "stderr",
     "output_type": "stream",
     "text": [
      "[Succeeded / Failed / Skipped / Total] 27 / 141 / 1 / 169:  85%|▊| 170/200 [5:09/home/harsha/.local/lib/python3.8/site-packages/textattack/loggers/csv_logger.py:41: FutureWarning: The frame.append method is deprecated and will be removed from pandas in a future version. Use pandas.concat instead.\n",
      "  self.df = self.df.append(row, ignore_index=True)\n",
      "[Succeeded / Failed / Skipped / Total] 27 / 142 / 1 / 170:  85%|▊| 170/200 [5:09"
     ]
    },
    {
     "name": "stdout",
     "output_type": "stream",
     "text": [
      "--------------------------------------------- Result 170 ---------------------------------------------\n",
      "[[2 (14%)]] --> [[[FAILED]]]\n",
      "\n",
      "While most of Sweden's schools are run by the local municipality, there are also a large number of independent schools (), which are publicly funded and must follow government guidelines on the curriculum, but operate independently.\n",
      "\n",
      "\n",
      "\n"
     ]
    },
    {
     "name": "stderr",
     "output_type": "stream",
     "text": [
      "[Succeeded / Failed / Skipped / Total] 27 / 142 / 1 / 170:  86%|▊| 171/200 [5:11/home/harsha/.local/lib/python3.8/site-packages/textattack/loggers/csv_logger.py:41: FutureWarning: The frame.append method is deprecated and will be removed from pandas in a future version. Use pandas.concat instead.\n",
      "  self.df = self.df.append(row, ignore_index=True)\n",
      "[Succeeded / Failed / Skipped / Total] 27 / 143 / 1 / 171:  86%|▊| 171/200 [5:11"
     ]
    },
    {
     "name": "stdout",
     "output_type": "stream",
     "text": [
      "--------------------------------------------- Result 171 ---------------------------------------------\n",
      "[[2 (14%)]] --> [[[FAILED]]]\n",
      "\n",
      "With the Irish question threatening to hold up any agreement on the transition period, a deal, has been struck, said Barnier.\n",
      "\n",
      "\n",
      "\n"
     ]
    },
    {
     "name": "stderr",
     "output_type": "stream",
     "text": [
      "[Succeeded / Failed / Skipped / Total] 27 / 143 / 1 / 171:  86%|▊| 172/200 [5:12/home/harsha/.local/lib/python3.8/site-packages/textattack/loggers/csv_logger.py:41: FutureWarning: The frame.append method is deprecated and will be removed from pandas in a future version. Use pandas.concat instead.\n",
      "  self.df = self.df.append(row, ignore_index=True)\n",
      "[Succeeded / Failed / Skipped / Total] 27 / 144 / 1 / 172:  86%|▊| 172/200 [5:12"
     ]
    },
    {
     "name": "stdout",
     "output_type": "stream",
     "text": [
      "--------------------------------------------- Result 172 ---------------------------------------------\n",
      "[[2 (13%)]] --> [[[FAILED]]]\n",
      "\n",
      "VIRGIN Media has asked Ofcom to pause the auction of TV rights for Premier League football.\n",
      "\n",
      "\n",
      "\n"
     ]
    },
    {
     "name": "stderr",
     "output_type": "stream",
     "text": [
      "[Succeeded / Failed / Skipped / Total] 27 / 144 / 1 / 172:  86%|▊| 173/200 [5:14/home/harsha/.local/lib/python3.8/site-packages/textattack/loggers/csv_logger.py:41: FutureWarning: The frame.append method is deprecated and will be removed from pandas in a future version. Use pandas.concat instead.\n",
      "  self.df = self.df.append(row, ignore_index=True)\n",
      "[Succeeded / Failed / Skipped / Total] 27 / 145 / 1 / 173:  86%|▊| 173/200 [5:14"
     ]
    },
    {
     "name": "stdout",
     "output_type": "stream",
     "text": [
      "--------------------------------------------- Result 173 ---------------------------------------------\n",
      "[[2 (13%)]] --> [[[FAILED]]]\n",
      "\n",
      "U.S. troops in Afghanistan are relying more and more on the superior noses of military working dogs to sniff out deadly improvised explosive devices.\n",
      "\n",
      "\n",
      "\n"
     ]
    },
    {
     "name": "stderr",
     "output_type": "stream",
     "text": [
      "[Succeeded / Failed / Skipped / Total] 27 / 145 / 1 / 173:  87%|▊| 174/200 [5:16/home/harsha/.local/lib/python3.8/site-packages/textattack/loggers/csv_logger.py:41: FutureWarning: The frame.append method is deprecated and will be removed from pandas in a future version. Use pandas.concat instead.\n",
      "  self.df = self.df.append(row, ignore_index=True)\n",
      "[Succeeded / Failed / Skipped / Total] 27 / 146 / 1 / 174:  87%|▊| 174/200 [5:16"
     ]
    },
    {
     "name": "stdout",
     "output_type": "stream",
     "text": [
      "--------------------------------------------- Result 174 ---------------------------------------------\n",
      "[[2 (16%)]] --> [[[FAILED]]]\n",
      "\n",
      "With the integrated system, every item is accounted for: from the moment the stock arrives, all the way through to delivery.\n",
      "\n",
      "\n",
      "\n"
     ]
    },
    {
     "name": "stderr",
     "output_type": "stream",
     "text": [
      "[Succeeded / Failed / Skipped / Total] 27 / 146 / 1 / 174:  88%|▉| 175/200 [5:21/home/harsha/.local/lib/python3.8/site-packages/textattack/loggers/csv_logger.py:41: FutureWarning: The frame.append method is deprecated and will be removed from pandas in a future version. Use pandas.concat instead.\n",
      "  self.df = self.df.append(row, ignore_index=True)\n",
      "[Succeeded / Failed / Skipped / Total] 27 / 147 / 1 / 175:  88%|▉| 175/200 [5:21"
     ]
    },
    {
     "name": "stdout",
     "output_type": "stream",
     "text": [
      "--------------------------------------------- Result 175 ---------------------------------------------\n",
      "[[2 (16%)]] --> [[[FAILED]]]\n",
      "\n",
      "When the LTTE lost Jaffna in 1995, it had places to retreat to as the Kumaratunga government had captured that town at the expense of the Eastern Province which the UNP government of the late President D. B. Wijetunge had cleared.\n",
      "\n",
      "\n",
      "\n"
     ]
    },
    {
     "name": "stderr",
     "output_type": "stream",
     "text": [
      "[Succeeded / Failed / Skipped / Total] 27 / 147 / 1 / 175:  88%|▉| 176/200 [5:22/home/harsha/.local/lib/python3.8/site-packages/textattack/loggers/csv_logger.py:41: FutureWarning: The frame.append method is deprecated and will be removed from pandas in a future version. Use pandas.concat instead.\n",
      "  self.df = self.df.append(row, ignore_index=True)\n",
      "[Succeeded / Failed / Skipped / Total] 27 / 148 / 1 / 176:  88%|▉| 176/200 [5:22"
     ]
    },
    {
     "name": "stdout",
     "output_type": "stream",
     "text": [
      "--------------------------------------------- Result 176 ---------------------------------------------\n",
      "[[2 (14%)]] --> [[[FAILED]]]\n",
      "\n",
      "With the district administration declaring holiday after 1 pm, parents rushed to schools to pick up their wards.\n",
      "\n",
      "\n",
      "\n"
     ]
    },
    {
     "name": "stderr",
     "output_type": "stream",
     "text": [
      "[Succeeded / Failed / Skipped / Total] 27 / 148 / 1 / 176:  88%|▉| 177/200 [5:23/home/harsha/.local/lib/python3.8/site-packages/textattack/loggers/csv_logger.py:41: FutureWarning: The frame.append method is deprecated and will be removed from pandas in a future version. Use pandas.concat instead.\n",
      "  self.df = self.df.append(row, ignore_index=True)\n",
      "[Succeeded / Failed / Skipped / Total] 28 / 148 / 1 / 177:  88%|▉| 177/200 [5:23"
     ]
    },
    {
     "name": "stdout",
     "output_type": "stream",
     "text": [
      "--------------------------------------------- Result 177 ---------------------------------------------\n",
      "[[2 (12%)]] --> [[4 (11%)]]\n",
      "\n",
      "We transfer your [[personally]] identifiable [[information]] if [[Conley]] acquires or is [[acquired]] by, or merges with another [[company]].\n",
      "\n",
      "\n",
      "We transfer your [[independently]] identifiable [[data]] if [[Aldridge]] acquires or is [[acquires]] by, or merges with another [[entrepreneurs]].\n",
      "\n",
      "\n",
      "\n"
     ]
    },
    {
     "name": "stderr",
     "output_type": "stream",
     "text": [
      "[Succeeded / Failed / Skipped / Total] 28 / 148 / 1 / 177:  89%|▉| 178/200 [5:26/home/harsha/.local/lib/python3.8/site-packages/textattack/loggers/csv_logger.py:41: FutureWarning: The frame.append method is deprecated and will be removed from pandas in a future version. Use pandas.concat instead.\n",
      "  self.df = self.df.append(row, ignore_index=True)\n",
      "[Succeeded / Failed / Skipped / Total] 28 / 149 / 1 / 178:  89%|▉| 178/200 [5:26"
     ]
    },
    {
     "name": "stdout",
     "output_type": "stream",
     "text": [
      "--------------------------------------------- Result 178 ---------------------------------------------\n",
      "[[2 (13%)]] --> [[[FAILED]]]\n",
      "\n",
      "\"We shuffle our program around and try to fit all the work we need to do into seven days instead of eight,\" Mercedes technical director James Allison said.\n",
      "\n",
      "\n",
      "\n"
     ]
    },
    {
     "name": "stderr",
     "output_type": "stream",
     "text": [
      "[Succeeded / Failed / Skipped / Total] 28 / 149 / 1 / 178:  90%|▉| 179/200 [5:27/home/harsha/.local/lib/python3.8/site-packages/textattack/loggers/csv_logger.py:41: FutureWarning: The frame.append method is deprecated and will be removed from pandas in a future version. Use pandas.concat instead.\n",
      "  self.df = self.df.append(row, ignore_index=True)\n",
      "[Succeeded / Failed / Skipped / Total] 28 / 150 / 1 / 179:  90%|▉| 179/200 [5:27"
     ]
    },
    {
     "name": "stdout",
     "output_type": "stream",
     "text": [
      "--------------------------------------------- Result 179 ---------------------------------------------\n",
      "[[2 (15%)]] --> [[[FAILED]]]\n",
      "\n",
      "\"We share the attorney general's concern about the opioid crisis,\" the company said in a statement.\n",
      "\n",
      "\n",
      "\n"
     ]
    },
    {
     "name": "stderr",
     "output_type": "stream",
     "text": [
      "[Succeeded / Failed / Skipped / Total] 28 / 150 / 1 / 179:  90%|▉| 180/200 [5:29/home/harsha/.local/lib/python3.8/site-packages/textattack/loggers/csv_logger.py:41: FutureWarning: The frame.append method is deprecated and will be removed from pandas in a future version. Use pandas.concat instead.\n",
      "  self.df = self.df.append(row, ignore_index=True)\n",
      "[Succeeded / Failed / Skipped / Total] 28 / 151 / 1 / 180:  90%|▉| 180/200 [5:29"
     ]
    },
    {
     "name": "stdout",
     "output_type": "stream",
     "text": [
      "--------------------------------------------- Result 180 ---------------------------------------------\n",
      "[[2 (13%)]] --> [[[FAILED]]]\n",
      "\n",
      "\"When it comes to covering religion, reporters tend to veer between being overly cynical to being overly credulous,\" he says.\n",
      "\n",
      "\n",
      "\n"
     ]
    },
    {
     "name": "stderr",
     "output_type": "stream",
     "text": [
      "[Succeeded / Failed / Skipped / Total] 28 / 151 / 1 / 180:  90%|▉| 181/200 [5:29/home/harsha/.local/lib/python3.8/site-packages/textattack/loggers/csv_logger.py:41: FutureWarning: The frame.append method is deprecated and will be removed from pandas in a future version. Use pandas.concat instead.\n",
      "  self.df = self.df.append(row, ignore_index=True)\n",
      "[Succeeded / Failed / Skipped / Total] 28 / 152 / 1 / 181:  90%|▉| 181/200 [5:29"
     ]
    },
    {
     "name": "stdout",
     "output_type": "stream",
     "text": [
      "--------------------------------------------- Result 181 ---------------------------------------------\n",
      "[[2 (12%)]] --> [[[FAILED]]]\n",
      "\n",
      "\"We watched as these beams were being trucked down Blithedale,\" Jovinta Addeo said.\n",
      "\n",
      "\n",
      "\n"
     ]
    },
    {
     "name": "stderr",
     "output_type": "stream",
     "text": [
      "[Succeeded / Failed / Skipped / Total] 28 / 152 / 1 / 181:  91%|▉| 182/200 [5:32/home/harsha/.local/lib/python3.8/site-packages/textattack/loggers/csv_logger.py:41: FutureWarning: The frame.append method is deprecated and will be removed from pandas in a future version. Use pandas.concat instead.\n",
      "  self.df = self.df.append(row, ignore_index=True)\n",
      "[Succeeded / Failed / Skipped / Total] 28 / 153 / 1 / 182:  91%|▉| 182/200 [5:32"
     ]
    },
    {
     "name": "stdout",
     "output_type": "stream",
     "text": [
      "--------------------------------------------- Result 182 ---------------------------------------------\n",
      "[[2 (15%)]] --> [[[FAILED]]]\n",
      "\n",
      "While the Bay Area has other ranges, club officials estimate the Chabot Gun Club accounts for nearly 25 percent of rifle shooting positions in the region.\n",
      "\n",
      "\n",
      "\n"
     ]
    },
    {
     "name": "stderr",
     "output_type": "stream",
     "text": [
      "[Succeeded / Failed / Skipped / Total] 28 / 153 / 1 / 182:  92%|▉| 183/200 [5:34/home/harsha/.local/lib/python3.8/site-packages/textattack/loggers/csv_logger.py:41: FutureWarning: The frame.append method is deprecated and will be removed from pandas in a future version. Use pandas.concat instead.\n",
      "  self.df = self.df.append(row, ignore_index=True)\n",
      "[Succeeded / Failed / Skipped / Total] 28 / 154 / 1 / 183:  92%|▉| 183/200 [5:34"
     ]
    },
    {
     "name": "stdout",
     "output_type": "stream",
     "text": [
      "--------------------------------------------- Result 183 ---------------------------------------------\n",
      "[[2 (13%)]] --> [[[FAILED]]]\n",
      "\n",
      "When the team returned to campus, she informed coach Geno Auriemma that she would not use her final year of eligibility.\n",
      "\n",
      "\n",
      "\n"
     ]
    },
    {
     "name": "stderr",
     "output_type": "stream",
     "text": [
      "[Succeeded / Failed / Skipped / Total] 28 / 154 / 1 / 183:  92%|▉| 184/200 [5:35/home/harsha/.local/lib/python3.8/site-packages/textattack/loggers/csv_logger.py:41: FutureWarning: The frame.append method is deprecated and will be removed from pandas in a future version. Use pandas.concat instead.\n",
      "  self.df = self.df.append(row, ignore_index=True)\n",
      "[Succeeded / Failed / Skipped / Total] 28 / 155 / 1 / 184:  92%|▉| 184/200 [5:35"
     ]
    },
    {
     "name": "stdout",
     "output_type": "stream",
     "text": [
      "--------------------------------------------- Result 184 ---------------------------------------------\n",
      "[[2 (13%)]] --> [[[FAILED]]]\n",
      "\n",
      "Without international organizations of women abusers to point our finger at, we relegate misogyny to \"the act of a lone madman.\"\n",
      "\n",
      "\n",
      "\n"
     ]
    },
    {
     "name": "stderr",
     "output_type": "stream",
     "text": [
      "[Succeeded / Failed / Skipped / Total] 28 / 155 / 1 / 184:  92%|▉| 185/200 [5:37/home/harsha/.local/lib/python3.8/site-packages/textattack/loggers/csv_logger.py:41: FutureWarning: The frame.append method is deprecated and will be removed from pandas in a future version. Use pandas.concat instead.\n",
      "  self.df = self.df.append(row, ignore_index=True)\n",
      "[Succeeded / Failed / Skipped / Total] 28 / 156 / 1 / 185:  92%|▉| 185/200 [5:37"
     ]
    },
    {
     "name": "stdout",
     "output_type": "stream",
     "text": [
      "--------------------------------------------- Result 185 ---------------------------------------------\n",
      "[[2 (14%)]] --> [[[FAILED]]]\n",
      "\n",
      "\"We can safely say that our men and women in uniform can work with greater hope in all parts of the country.\n",
      "\n",
      "\n",
      "\n"
     ]
    },
    {
     "name": "stderr",
     "output_type": "stream",
     "text": [
      "[Succeeded / Failed / Skipped / Total] 28 / 156 / 1 / 185:  93%|▉| 186/200 [5:40/home/harsha/.local/lib/python3.8/site-packages/textattack/loggers/csv_logger.py:41: FutureWarning: The frame.append method is deprecated and will be removed from pandas in a future version. Use pandas.concat instead.\n",
      "  self.df = self.df.append(row, ignore_index=True)\n",
      "[Succeeded / Failed / Skipped / Total] 28 / 157 / 1 / 186:  93%|▉| 186/200 [5:40"
     ]
    },
    {
     "name": "stdout",
     "output_type": "stream",
     "text": [
      "--------------------------------------------- Result 186 ---------------------------------------------\n",
      "[[2 (16%)]] --> [[[FAILED]]]\n",
      "\n",
      "We camped outside the town, just within view of the Turkish fort on the hill, and beside huge middens of shells, gathered from the mangroves as sustenance for an unknown people long ago.\n",
      "\n",
      "\n",
      "\n"
     ]
    },
    {
     "name": "stderr",
     "output_type": "stream",
     "text": [
      "[Succeeded / Failed / Skipped / Total] 28 / 157 / 1 / 186:  94%|▉| 187/200 [5:40/home/harsha/.local/lib/python3.8/site-packages/textattack/loggers/csv_logger.py:41: FutureWarning: The frame.append method is deprecated and will be removed from pandas in a future version. Use pandas.concat instead.\n",
      "  self.df = self.df.append(row, ignore_index=True)\n",
      "[Succeeded / Failed / Skipped / Total] 29 / 157 / 1 / 187:  94%|▉| 187/200 [5:40"
     ]
    },
    {
     "name": "stdout",
     "output_type": "stream",
     "text": [
      "--------------------------------------------- Result 187 ---------------------------------------------\n",
      "[[2 (12%)]] --> [[8 (11%)]]\n",
      "\n",
      "U.S. Women's [[National]] Team's Julie Ertz complains about a [[call]] in Sandy on [[Thursday]], June 7, 2018.\n",
      "\n",
      "\n",
      "U.S. Women's [[Kraj]] Team's Julie Ertz complains about a [[dawa]] in Sandy on [[Wednesday]], June 7, 2018.\n",
      "\n",
      "\n",
      "\n"
     ]
    },
    {
     "name": "stderr",
     "output_type": "stream",
     "text": [
      "[Succeeded / Failed / Skipped / Total] 29 / 157 / 1 / 187:  94%|▉| 188/200 [5:41/home/harsha/.local/lib/python3.8/site-packages/textattack/loggers/csv_logger.py:41: FutureWarning: The frame.append method is deprecated and will be removed from pandas in a future version. Use pandas.concat instead.\n",
      "  self.df = self.df.append(row, ignore_index=True)\n",
      "[Succeeded / Failed / Skipped / Total] 29 / 158 / 1 / 188:  94%|▉| 188/200 [5:41"
     ]
    },
    {
     "name": "stdout",
     "output_type": "stream",
     "text": [
      "--------------------------------------------- Result 188 ---------------------------------------------\n",
      "[[2 (14%)]] --> [[[FAILED]]]\n",
      "\n",
      "We are not suggesting that any but the most experienced investors look at EISs and SEISs.\n",
      "\n",
      "\n",
      "\n"
     ]
    },
    {
     "name": "stderr",
     "output_type": "stream",
     "text": [
      "[Succeeded / Failed / Skipped / Total] 29 / 158 / 1 / 188:  94%|▉| 189/200 [5:42/home/harsha/.local/lib/python3.8/site-packages/textattack/loggers/csv_logger.py:41: FutureWarning: The frame.append method is deprecated and will be removed from pandas in a future version. Use pandas.concat instead.\n",
      "  self.df = self.df.append(row, ignore_index=True)\n",
      "[Succeeded / Failed / Skipped / Total] 29 / 159 / 1 / 189:  94%|▉| 189/200 [5:42"
     ]
    },
    {
     "name": "stdout",
     "output_type": "stream",
     "text": [
      "--------------------------------------------- Result 189 ---------------------------------------------\n",
      "[[2 (12%)]] --> [[[FAILED]]]\n",
      "\n",
      "With All Access, listen to everything, everywhere, in your car and on your computer, smartphone or tablet.\n",
      "\n",
      "\n",
      "\n"
     ]
    },
    {
     "name": "stderr",
     "output_type": "stream",
     "text": [
      "[Succeeded / Failed / Skipped / Total] 29 / 159 / 1 / 189:  95%|▉| 190/200 [5:43/home/harsha/.local/lib/python3.8/site-packages/textattack/loggers/csv_logger.py:41: FutureWarning: The frame.append method is deprecated and will be removed from pandas in a future version. Use pandas.concat instead.\n",
      "  self.df = self.df.append(row, ignore_index=True)\n",
      "[Succeeded / Failed / Skipped / Total] 29 / 160 / 1 / 190:  95%|▉| 190/200 [5:43"
     ]
    },
    {
     "name": "stdout",
     "output_type": "stream",
     "text": [
      "--------------------------------------------- Result 190 ---------------------------------------------\n",
      "[[2 (14%)]] --> [[[FAILED]]]\n",
      "\n",
      "With a physical paper, you will see everything, you can read anything, and when you get to the end, you're done.\n",
      "\n",
      "\n",
      "\n"
     ]
    },
    {
     "name": "stderr",
     "output_type": "stream",
     "text": [
      "[Succeeded / Failed / Skipped / Total] 29 / 160 / 1 / 190:  96%|▉| 191/200 [5:46/home/harsha/.local/lib/python3.8/site-packages/textattack/loggers/csv_logger.py:41: FutureWarning: The frame.append method is deprecated and will be removed from pandas in a future version. Use pandas.concat instead.\n",
      "  self.df = self.df.append(row, ignore_index=True)\n",
      "[Succeeded / Failed / Skipped / Total] 29 / 161 / 1 / 191:  96%|▉| 191/200 [5:46"
     ]
    },
    {
     "name": "stdout",
     "output_type": "stream",
     "text": [
      "--------------------------------------------- Result 191 ---------------------------------------------\n",
      "[[2 (13%)]] --> [[[FAILED]]]\n",
      "\n",
      "Unfortunately, the Founders also presumed that people charged with making electoral decisions in our representative democracy would have a quite different goal than many today.\n",
      "\n",
      "\n",
      "\n"
     ]
    },
    {
     "name": "stderr",
     "output_type": "stream",
     "text": [
      "[Succeeded / Failed / Skipped / Total] 29 / 161 / 1 / 191:  96%|▉| 192/200 [5:47/home/harsha/.local/lib/python3.8/site-packages/textattack/loggers/csv_logger.py:41: FutureWarning: The frame.append method is deprecated and will be removed from pandas in a future version. Use pandas.concat instead.\n",
      "  self.df = self.df.append(row, ignore_index=True)\n",
      "[Succeeded / Failed / Skipped / Total] 29 / 162 / 1 / 192:  96%|▉| 193/200 [5:47/home/harsha/.local/lib/python3.8/site-packages/textattack/loggers/csv_logger.py:41: FutureWarning: The frame.append method is deprecated and will be removed from pandas in a future version. Use pandas.concat instead.\n",
      "  self.df = self.df.append(row, ignore_index=True)\n",
      "[Succeeded / Failed / Skipped / Total] 29 / 162 / 2 / 193:  96%|▉| 193/200 [5:47"
     ]
    },
    {
     "name": "stdout",
     "output_type": "stream",
     "text": [
      "--------------------------------------------- Result 192 ---------------------------------------------\n",
      "[[2 (14%)]] --> [[[FAILED]]]\n",
      "\n",
      "\"We need to get a letter of approval from the EPD to make it a viable option,\" Grant said.\n",
      "\n",
      "\n",
      "\n",
      "--------------------------------------------- Result 193 ---------------------------------------------\n",
      "[[1 (11%)]] --> [[[SKIPPED]]]\n",
      "\n",
      "We've gotten defendants back from Mexico, from Canada, from Europe,\" said Corey.\n",
      "\n",
      "\n",
      "\n"
     ]
    },
    {
     "name": "stderr",
     "output_type": "stream",
     "text": [
      "[Succeeded / Failed / Skipped / Total] 29 / 162 / 2 / 193:  97%|▉| 194/200 [5:49/home/harsha/.local/lib/python3.8/site-packages/textattack/loggers/csv_logger.py:41: FutureWarning: The frame.append method is deprecated and will be removed from pandas in a future version. Use pandas.concat instead.\n",
      "  self.df = self.df.append(row, ignore_index=True)\n",
      "[Succeeded / Failed / Skipped / Total] 29 / 163 / 2 / 194:  97%|▉| 194/200 [5:49"
     ]
    },
    {
     "name": "stdout",
     "output_type": "stream",
     "text": [
      "--------------------------------------------- Result 194 ---------------------------------------------\n",
      "[[2 (14%)]] --> [[[FAILED]]]\n",
      "\n",
      "When they arrived in 1992, they were assigned a lieutenant from the Interior Ministry's industrial and scientific espionage division as a handler: Jose Cohen.\n",
      "\n",
      "\n",
      "\n"
     ]
    },
    {
     "name": "stderr",
     "output_type": "stream",
     "text": [
      "[Succeeded / Failed / Skipped / Total] 29 / 163 / 2 / 194:  98%|▉| 195/200 [5:50/home/harsha/.local/lib/python3.8/site-packages/textattack/loggers/csv_logger.py:41: FutureWarning: The frame.append method is deprecated and will be removed from pandas in a future version. Use pandas.concat instead.\n",
      "  self.df = self.df.append(row, ignore_index=True)\n",
      "[Succeeded / Failed / Skipped / Total] 29 / 164 / 2 / 195:  98%|▉| 195/200 [5:50"
     ]
    },
    {
     "name": "stdout",
     "output_type": "stream",
     "text": [
      "--------------------------------------------- Result 195 ---------------------------------------------\n",
      "[[2 (13%)]] --> [[[FAILED]]]\n",
      "\n",
      "With a purple-pink interface for women and brown for men, the site denotes itself with a calculated discretion.\n",
      "\n",
      "\n",
      "\n"
     ]
    },
    {
     "name": "stderr",
     "output_type": "stream",
     "text": [
      "[Succeeded / Failed / Skipped / Total] 29 / 164 / 2 / 195:  98%|▉| 196/200 [5:51/home/harsha/.local/lib/python3.8/site-packages/textattack/loggers/csv_logger.py:41: FutureWarning: The frame.append method is deprecated and will be removed from pandas in a future version. Use pandas.concat instead.\n",
      "  self.df = self.df.append(row, ignore_index=True)\n",
      "[Succeeded / Failed / Skipped / Total] 30 / 164 / 2 / 196:  98%|▉| 196/200 [5:51"
     ]
    },
    {
     "name": "stdout",
     "output_type": "stream",
     "text": [
      "--------------------------------------------- Result 196 ---------------------------------------------\n",
      "[[2 (13%)]] --> [[4 (12%)]]\n",
      "\n",
      "[[We]] [[need]] your [[support]] to [[be]] [[able]] to [[protect]] your from [[men]] [[like]] these.\"\n",
      "\n",
      "\n",
      "[[Our]] [[request]] your [[pomoc]] to [[sont]] [[incompetent]] to [[assurances]] your from [[males]] [[enjoy]] these.\"\n",
      "\n",
      "\n",
      "\n"
     ]
    },
    {
     "name": "stderr",
     "output_type": "stream",
     "text": [
      "[Succeeded / Failed / Skipped / Total] 30 / 164 / 2 / 196:  98%|▉| 197/200 [5:53/home/harsha/.local/lib/python3.8/site-packages/textattack/loggers/csv_logger.py:41: FutureWarning: The frame.append method is deprecated and will be removed from pandas in a future version. Use pandas.concat instead.\n",
      "  self.df = self.df.append(row, ignore_index=True)\n",
      "[Succeeded / Failed / Skipped / Total] 30 / 165 / 2 / 197:  98%|▉| 197/200 [5:53"
     ]
    },
    {
     "name": "stdout",
     "output_type": "stream",
     "text": [
      "--------------------------------------------- Result 197 ---------------------------------------------\n",
      "[[2 (15%)]] --> [[[FAILED]]]\n",
      "\n",
      "Without the legal practitioners who devoted their time, skill and knowledge, the rate of clearance would certainly have looked very different.\n",
      "\n",
      "\n",
      "\n"
     ]
    },
    {
     "name": "stderr",
     "output_type": "stream",
     "text": [
      "[Succeeded / Failed / Skipped / Total] 30 / 165 / 2 / 197:  99%|▉| 198/200 [5:58/home/harsha/.local/lib/python3.8/site-packages/textattack/loggers/csv_logger.py:41: FutureWarning: The frame.append method is deprecated and will be removed from pandas in a future version. Use pandas.concat instead.\n",
      "  self.df = self.df.append(row, ignore_index=True)\n",
      "[Succeeded / Failed / Skipped / Total] 30 / 166 / 2 / 198:  99%|▉| 198/200 [5:58"
     ]
    },
    {
     "name": "stdout",
     "output_type": "stream",
     "text": [
      "--------------------------------------------- Result 198 ---------------------------------------------\n",
      "[[2 (14%)]] --> [[[FAILED]]]\n",
      "\n",
      "\"We felt that, over time, fundraising had maybe taken priority over reading and writing at BookFest, and that we should think more about hands-on book-related activities for the kids,\" says Peter Laughton, festival organizer.\n",
      "\n",
      "\n",
      "\n"
     ]
    },
    {
     "name": "stderr",
     "output_type": "stream",
     "text": [
      "[Succeeded / Failed / Skipped / Total] 30 / 166 / 2 / 198: 100%|▉| 199/200 [5:59/home/harsha/.local/lib/python3.8/site-packages/textattack/loggers/csv_logger.py:41: FutureWarning: The frame.append method is deprecated and will be removed from pandas in a future version. Use pandas.concat instead.\n",
      "  self.df = self.df.append(row, ignore_index=True)\n",
      "[Succeeded / Failed / Skipped / Total] 31 / 166 / 2 / 199: 100%|▉| 199/200 [5:59"
     ]
    },
    {
     "name": "stdout",
     "output_type": "stream",
     "text": [
      "--------------------------------------------- Result 199 ---------------------------------------------\n",
      "[[2 (12%)]] --> [[0 (11%)]]\n",
      "\n",
      "[[We]] [[need]] to [[limit]] [[radio]] [[station]] [[ownership]] to no more than 20 [[stations]].\n",
      "\n",
      "\n",
      "[[Our]] [[prerequisite]] to [[shorten]] [[walkie]] [[poste]] [[possessor]] to no more than 20 [[centres]].\n",
      "\n",
      "\n",
      "\n"
     ]
    },
    {
     "name": "stderr",
     "output_type": "stream",
     "text": [
      "[Succeeded / Failed / Skipped / Total] 31 / 166 / 2 / 199: 100%|█| 200/200 [5:59/home/harsha/.local/lib/python3.8/site-packages/textattack/loggers/csv_logger.py:41: FutureWarning: The frame.append method is deprecated and will be removed from pandas in a future version. Use pandas.concat instead.\n",
      "  self.df = self.df.append(row, ignore_index=True)\n",
      "[Succeeded / Failed / Skipped / Total] 31 / 167 / 2 / 200: 100%|█| 200/200 [5:59"
     ]
    },
    {
     "name": "stdout",
     "output_type": "stream",
     "text": [
      "--------------------------------------------- Result 200 ---------------------------------------------\n",
      "[[2 (14%)]] --> [[[FAILED]]]\n",
      "\n",
      "\"We then start moving into the next new set of brands,\" she says.\n",
      "\n",
      "\n",
      "\n",
      "\n",
      "+-------------------------------+--------+\n",
      "| Attack Results                |        |\n",
      "+-------------------------------+--------+\n",
      "| Number of successful attacks: | 31     |\n",
      "| Number of failed attacks:     | 167    |\n",
      "| Number of skipped attacks:    | 2      |\n",
      "| Original accuracy:            | 99.0%  |\n",
      "| Accuracy under attack:        | 83.5%  |\n",
      "| Attack success rate:          | 15.66% |\n",
      "| Average perturbed word %:     | 37.62% |\n",
      "| Average num. words per input: | 22.02  |\n",
      "| Avg num queries:              | 299.89 |\n",
      "+-------------------------------+--------+\n"
     ]
    },
    {
     "name": "stderr",
     "output_type": "stream",
     "text": [
      "\n"
     ]
    },
    {
     "data": {
      "text/plain": [
       "[<textattack.attack_results.failed_attack_result.FailedAttackResult at 0x7fef78f1ce20>,\n",
       " <textattack.attack_results.failed_attack_result.FailedAttackResult at 0x7fef5bd916a0>,\n",
       " <textattack.attack_results.failed_attack_result.FailedAttackResult at 0x7feea1932280>,\n",
       " <textattack.attack_results.failed_attack_result.FailedAttackResult at 0x7fee96422790>,\n",
       " <textattack.attack_results.failed_attack_result.FailedAttackResult at 0x7feea7c916a0>,\n",
       " <textattack.attack_results.failed_attack_result.FailedAttackResult at 0x7fee82cc8220>,\n",
       " <textattack.attack_results.failed_attack_result.FailedAttackResult at 0x7feea65d2040>,\n",
       " <textattack.attack_results.failed_attack_result.FailedAttackResult at 0x7fee82beceb0>,\n",
       " <textattack.attack_results.failed_attack_result.FailedAttackResult at 0x7feeaf207460>,\n",
       " <textattack.attack_results.failed_attack_result.FailedAttackResult at 0x7feeaf207df0>,\n",
       " <textattack.attack_results.failed_attack_result.FailedAttackResult at 0x7fee95df3fd0>,\n",
       " <textattack.attack_results.failed_attack_result.FailedAttackResult at 0x7fee9d7c0ca0>,\n",
       " <textattack.attack_results.successful_attack_result.SuccessfulAttackResult at 0x7feea20cc490>,\n",
       " <textattack.attack_results.failed_attack_result.FailedAttackResult at 0x7feeafc29ee0>,\n",
       " <textattack.attack_results.failed_attack_result.FailedAttackResult at 0x7feeafc29a00>,\n",
       " <textattack.attack_results.failed_attack_result.FailedAttackResult at 0x7fee843f3a00>,\n",
       " <textattack.attack_results.failed_attack_result.FailedAttackResult at 0x7feeaf0e2d00>,\n",
       " <textattack.attack_results.failed_attack_result.FailedAttackResult at 0x7feeaf0e2b50>,\n",
       " <textattack.attack_results.failed_attack_result.FailedAttackResult at 0x7feeb0e9abe0>,\n",
       " <textattack.attack_results.failed_attack_result.FailedAttackResult at 0x7fee95df3af0>,\n",
       " <textattack.attack_results.successful_attack_result.SuccessfulAttackResult at 0x7feeafbf6100>,\n",
       " <textattack.attack_results.successful_attack_result.SuccessfulAttackResult at 0x7feeafbf66a0>,\n",
       " <textattack.attack_results.failed_attack_result.FailedAttackResult at 0x7feeaf0e2be0>,\n",
       " <textattack.attack_results.successful_attack_result.SuccessfulAttackResult at 0x7feeaf0e2970>,\n",
       " <textattack.attack_results.failed_attack_result.FailedAttackResult at 0x7fee95cecb50>,\n",
       " <textattack.attack_results.failed_attack_result.FailedAttackResult at 0x7feea0581730>,\n",
       " <textattack.attack_results.successful_attack_result.SuccessfulAttackResult at 0x7feea2666880>,\n",
       " <textattack.attack_results.failed_attack_result.FailedAttackResult at 0x7feea3c8b850>,\n",
       " <textattack.attack_results.failed_attack_result.FailedAttackResult at 0x7fee9e23a7c0>,\n",
       " <textattack.attack_results.successful_attack_result.SuccessfulAttackResult at 0x7feeb1396340>,\n",
       " <textattack.attack_results.failed_attack_result.FailedAttackResult at 0x7feea3becbb0>,\n",
       " <textattack.attack_results.failed_attack_result.FailedAttackResult at 0x7feeb2bd4250>,\n",
       " <textattack.attack_results.failed_attack_result.FailedAttackResult at 0x7feea5dc65e0>,\n",
       " <textattack.attack_results.successful_attack_result.SuccessfulAttackResult at 0x7feea8d7a430>,\n",
       " <textattack.attack_results.failed_attack_result.FailedAttackResult at 0x7feea39c9d00>,\n",
       " <textattack.attack_results.failed_attack_result.FailedAttackResult at 0x7feeb0b17e20>,\n",
       " <textattack.attack_results.failed_attack_result.FailedAttackResult at 0x7fee9ba19af0>,\n",
       " <textattack.attack_results.failed_attack_result.FailedAttackResult at 0x7feea513cee0>,\n",
       " <textattack.attack_results.failed_attack_result.FailedAttackResult at 0x7feeaf903d30>,\n",
       " <textattack.attack_results.failed_attack_result.FailedAttackResult at 0x7feeafc296d0>,\n",
       " <textattack.attack_results.failed_attack_result.FailedAttackResult at 0x7feea938ad00>,\n",
       " <textattack.attack_results.successful_attack_result.SuccessfulAttackResult at 0x7fef78f366a0>,\n",
       " <textattack.attack_results.failed_attack_result.FailedAttackResult at 0x7fee9fda93d0>,\n",
       " <textattack.attack_results.failed_attack_result.FailedAttackResult at 0x7feeadc12130>,\n",
       " <textattack.attack_results.failed_attack_result.FailedAttackResult at 0x7feea5dc67c0>,\n",
       " <textattack.attack_results.failed_attack_result.FailedAttackResult at 0x7fee9aabcd30>,\n",
       " <textattack.attack_results.failed_attack_result.FailedAttackResult at 0x7fee96d6a6a0>,\n",
       " <textattack.attack_results.failed_attack_result.FailedAttackResult at 0x7feea398c940>,\n",
       " <textattack.attack_results.successful_attack_result.SuccessfulAttackResult at 0x7feea15dff10>,\n",
       " <textattack.attack_results.failed_attack_result.FailedAttackResult at 0x7feea5d3c400>,\n",
       " <textattack.attack_results.failed_attack_result.FailedAttackResult at 0x7fee82bec370>,\n",
       " <textattack.attack_results.failed_attack_result.FailedAttackResult at 0x7feeacecba60>,\n",
       " <textattack.attack_results.failed_attack_result.FailedAttackResult at 0x7feea095e2e0>,\n",
       " <textattack.attack_results.failed_attack_result.FailedAttackResult at 0x7feea5737880>,\n",
       " <textattack.attack_results.failed_attack_result.FailedAttackResult at 0x7feea9e88130>,\n",
       " <textattack.attack_results.failed_attack_result.FailedAttackResult at 0x7feeaf207f40>,\n",
       " <textattack.attack_results.failed_attack_result.FailedAttackResult at 0x7feeaf0e2e20>,\n",
       " <textattack.attack_results.failed_attack_result.FailedAttackResult at 0x7feeae40e940>,\n",
       " <textattack.attack_results.failed_attack_result.FailedAttackResult at 0x7feea51a08e0>,\n",
       " <textattack.attack_results.failed_attack_result.FailedAttackResult at 0x7feea3323be0>,\n",
       " <textattack.attack_results.failed_attack_result.FailedAttackResult at 0x7fee95df3a00>,\n",
       " <textattack.attack_results.failed_attack_result.FailedAttackResult at 0x7feeafbdcfa0>,\n",
       " <textattack.attack_results.failed_attack_result.FailedAttackResult at 0x7feeafbe63a0>,\n",
       " <textattack.attack_results.failed_attack_result.FailedAttackResult at 0x7feeafbe6b20>,\n",
       " <textattack.attack_results.failed_attack_result.FailedAttackResult at 0x7feeafbf67c0>,\n",
       " <textattack.attack_results.successful_attack_result.SuccessfulAttackResult at 0x7feea2666940>,\n",
       " <textattack.attack_results.failed_attack_result.FailedAttackResult at 0x7feeaf0e2b20>,\n",
       " <textattack.attack_results.failed_attack_result.FailedAttackResult at 0x7feea3d44070>,\n",
       " <textattack.attack_results.failed_attack_result.FailedAttackResult at 0x7feeafbf68e0>,\n",
       " <textattack.attack_results.successful_attack_result.SuccessfulAttackResult at 0x7feeb0e42fa0>,\n",
       " <textattack.attack_results.failed_attack_result.FailedAttackResult at 0x7feeb0e423a0>,\n",
       " <textattack.attack_results.failed_attack_result.FailedAttackResult at 0x7fee95df3fa0>,\n",
       " <textattack.attack_results.failed_attack_result.FailedAttackResult at 0x7feeb265f8b0>,\n",
       " <textattack.attack_results.successful_attack_result.SuccessfulAttackResult at 0x7feeb265f9d0>,\n",
       " <textattack.attack_results.failed_attack_result.FailedAttackResult at 0x7feeafbe6340>,\n",
       " <textattack.attack_results.successful_attack_result.SuccessfulAttackResult at 0x7feeac865820>,\n",
       " <textattack.attack_results.failed_attack_result.FailedAttackResult at 0x7feeac865790>,\n",
       " <textattack.attack_results.failed_attack_result.FailedAttackResult at 0x7feeace28730>,\n",
       " <textattack.attack_results.failed_attack_result.FailedAttackResult at 0x7feeaf0e2cd0>,\n",
       " <textattack.attack_results.failed_attack_result.FailedAttackResult at 0x7feeaf0e2ee0>,\n",
       " <textattack.attack_results.failed_attack_result.FailedAttackResult at 0x7feeb0225b50>,\n",
       " <textattack.attack_results.failed_attack_result.FailedAttackResult at 0x7feeaeb2cb20>,\n",
       " <textattack.attack_results.failed_attack_result.FailedAttackResult at 0x7feea2120b20>,\n",
       " <textattack.attack_results.failed_attack_result.FailedAttackResult at 0x7feea2120070>,\n",
       " <textattack.attack_results.failed_attack_result.FailedAttackResult at 0x7feeaed4f910>,\n",
       " <textattack.attack_results.successful_attack_result.SuccessfulAttackResult at 0x7feea21204c0>,\n",
       " <textattack.attack_results.failed_attack_result.FailedAttackResult at 0x7feeaeb2ceb0>,\n",
       " <textattack.attack_results.failed_attack_result.FailedAttackResult at 0x7feeb0e42070>,\n",
       " <textattack.attack_results.successful_attack_result.SuccessfulAttackResult at 0x7feeac0afa00>,\n",
       " <textattack.attack_results.failed_attack_result.FailedAttackResult at 0x7feeaf0e28e0>,\n",
       " <textattack.attack_results.successful_attack_result.SuccessfulAttackResult at 0x7feeaa9343a0>,\n",
       " <textattack.attack_results.failed_attack_result.FailedAttackResult at 0x7feeac0af850>,\n",
       " <textattack.attack_results.failed_attack_result.FailedAttackResult at 0x7feeb13e2a90>,\n",
       " <textattack.attack_results.failed_attack_result.FailedAttackResult at 0x7feeb0e427c0>,\n",
       " <textattack.attack_results.failed_attack_result.FailedAttackResult at 0x7feeb13e21f0>,\n",
       " <textattack.attack_results.successful_attack_result.SuccessfulAttackResult at 0x7feeaa9347f0>,\n",
       " <textattack.attack_results.successful_attack_result.SuccessfulAttackResult at 0x7feeb26661f0>,\n",
       " <textattack.attack_results.failed_attack_result.FailedAttackResult at 0x7feea9a4a700>,\n",
       " <textattack.attack_results.failed_attack_result.FailedAttackResult at 0x7feeaeb2c970>,\n",
       " <textattack.attack_results.failed_attack_result.FailedAttackResult at 0x7feeaeb2cc10>,\n",
       " <textattack.attack_results.failed_attack_result.FailedAttackResult at 0x7feeb10d6970>,\n",
       " <textattack.attack_results.failed_attack_result.FailedAttackResult at 0x7feea9a4a880>,\n",
       " <textattack.attack_results.failed_attack_result.FailedAttackResult at 0x7feeaab00250>,\n",
       " <textattack.attack_results.failed_attack_result.FailedAttackResult at 0x7feeaab00100>,\n",
       " <textattack.attack_results.failed_attack_result.FailedAttackResult at 0x7feeaeb2c430>,\n",
       " <textattack.attack_results.failed_attack_result.FailedAttackResult at 0x7feeac0aff10>,\n",
       " <textattack.attack_results.failed_attack_result.FailedAttackResult at 0x7feeaed4fb20>,\n",
       " <textattack.attack_results.successful_attack_result.SuccessfulAttackResult at 0x7feeabe87d30>,\n",
       " <textattack.attack_results.failed_attack_result.FailedAttackResult at 0x7feeacdd9250>,\n",
       " <textattack.attack_results.failed_attack_result.FailedAttackResult at 0x7feeaaf62a90>,\n",
       " <textattack.attack_results.failed_attack_result.FailedAttackResult at 0x7feeb13e2e50>,\n",
       " <textattack.attack_results.failed_attack_result.FailedAttackResult at 0x7feeb0e42ca0>,\n",
       " <textattack.attack_results.failed_attack_result.FailedAttackResult at 0x7feeb0e42a90>,\n",
       " <textattack.attack_results.failed_attack_result.FailedAttackResult at 0x7feeabe87ee0>,\n",
       " <textattack.attack_results.skipped_attack_result.SkippedAttackResult at 0x7feeabe87dc0>,\n",
       " <textattack.attack_results.failed_attack_result.FailedAttackResult at 0x7feeabe87b20>,\n",
       " <textattack.attack_results.failed_attack_result.FailedAttackResult at 0x7feeaab00880>,\n",
       " <textattack.attack_results.failed_attack_result.FailedAttackResult at 0x7feeacdd9f70>,\n",
       " <textattack.attack_results.successful_attack_result.SuccessfulAttackResult at 0x7feeaed4f3a0>,\n",
       " <textattack.attack_results.failed_attack_result.FailedAttackResult at 0x7feeb0e42370>,\n",
       " <textattack.attack_results.successful_attack_result.SuccessfulAttackResult at 0x7feeb10d6be0>,\n",
       " <textattack.attack_results.failed_attack_result.FailedAttackResult at 0x7feeaab00760>,\n",
       " <textattack.attack_results.failed_attack_result.FailedAttackResult at 0x7feeaed4ff70>,\n",
       " <textattack.attack_results.failed_attack_result.FailedAttackResult at 0x7feeb0e9a880>,\n",
       " <textattack.attack_results.failed_attack_result.FailedAttackResult at 0x7feeaf94a070>,\n",
       " <textattack.attack_results.failed_attack_result.FailedAttackResult at 0x7feeaf94a940>,\n",
       " <textattack.attack_results.failed_attack_result.FailedAttackResult at 0x7feeb2645280>,\n",
       " <textattack.attack_results.failed_attack_result.FailedAttackResult at 0x7feea6f9c9a0>,\n",
       " <textattack.attack_results.successful_attack_result.SuccessfulAttackResult at 0x7feeaa934e50>,\n",
       " <textattack.attack_results.failed_attack_result.FailedAttackResult at 0x7feeac0af1f0>,\n",
       " <textattack.attack_results.failed_attack_result.FailedAttackResult at 0x7feea6f9cfa0>,\n",
       " <textattack.attack_results.successful_attack_result.SuccessfulAttackResult at 0x7feeb10d6bb0>,\n",
       " <textattack.attack_results.failed_attack_result.FailedAttackResult at 0x7feea7038dc0>,\n",
       " <textattack.attack_results.failed_attack_result.FailedAttackResult at 0x7feeb2645400>,\n",
       " <textattack.attack_results.failed_attack_result.FailedAttackResult at 0x7feeaacb46a0>,\n",
       " <textattack.attack_results.failed_attack_result.FailedAttackResult at 0x7feeaacb4040>,\n",
       " <textattack.attack_results.successful_attack_result.SuccessfulAttackResult at 0x7feeb240c5b0>,\n",
       " <textattack.attack_results.failed_attack_result.FailedAttackResult at 0x7feeb0e42df0>,\n",
       " <textattack.attack_results.failed_attack_result.FailedAttackResult at 0x7feeabe87160>,\n",
       " <textattack.attack_results.failed_attack_result.FailedAttackResult at 0x7feeb0e42a60>,\n",
       " <textattack.attack_results.failed_attack_result.FailedAttackResult at 0x7feeabbf1a60>,\n",
       " <textattack.attack_results.failed_attack_result.FailedAttackResult at 0x7feeaacb42b0>,\n",
       " <textattack.attack_results.successful_attack_result.SuccessfulAttackResult at 0x7feeacbb2fd0>,\n",
       " <textattack.attack_results.failed_attack_result.FailedAttackResult at 0x7feeb2645940>,\n",
       " <textattack.attack_results.failed_attack_result.FailedAttackResult at 0x7feeac1e3c40>,\n",
       " <textattack.attack_results.failed_attack_result.FailedAttackResult at 0x7feeac0af670>,\n",
       " <textattack.attack_results.failed_attack_result.FailedAttackResult at 0x7feeb0e429a0>,\n",
       " <textattack.attack_results.failed_attack_result.FailedAttackResult at 0x7feeac0af820>,\n",
       " <textattack.attack_results.failed_attack_result.FailedAttackResult at 0x7feeac0affa0>,\n",
       " <textattack.attack_results.failed_attack_result.FailedAttackResult at 0x7feea6f9cc40>,\n",
       " <textattack.attack_results.failed_attack_result.FailedAttackResult at 0x7feeacdd91c0>,\n",
       " <textattack.attack_results.failed_attack_result.FailedAttackResult at 0x7feeb2645f70>,\n",
       " <textattack.attack_results.successful_attack_result.SuccessfulAttackResult at 0x7feeaab00040>,\n",
       " <textattack.attack_results.successful_attack_result.SuccessfulAttackResult at 0x7feeb0e424c0>,\n",
       " <textattack.attack_results.failed_attack_result.FailedAttackResult at 0x7feead3e3910>,\n",
       " <textattack.attack_results.failed_attack_result.FailedAttackResult at 0x7feeb2645580>,\n",
       " <textattack.attack_results.failed_attack_result.FailedAttackResult at 0x7feeac1e33d0>,\n",
       " <textattack.attack_results.failed_attack_result.FailedAttackResult at 0x7feeaccd8e20>,\n",
       " <textattack.attack_results.failed_attack_result.FailedAttackResult at 0x7feeaccd8790>,\n",
       " <textattack.attack_results.failed_attack_result.FailedAttackResult at 0x7feeaccd8160>,\n",
       " <textattack.attack_results.failed_attack_result.FailedAttackResult at 0x7feea9a4a310>,\n",
       " <textattack.attack_results.failed_attack_result.FailedAttackResult at 0x7feea6f9c040>,\n",
       " <textattack.attack_results.failed_attack_result.FailedAttackResult at 0x7feeafcdef40>,\n",
       " <textattack.attack_results.failed_attack_result.FailedAttackResult at 0x7feeabbf1e50>,\n",
       " <textattack.attack_results.failed_attack_result.FailedAttackResult at 0x7feeaab007f0>,\n",
       " <textattack.attack_results.failed_attack_result.FailedAttackResult at 0x7feeaccd80a0>,\n",
       " <textattack.attack_results.failed_attack_result.FailedAttackResult at 0x7feeac0aff70>,\n",
       " <textattack.attack_results.failed_attack_result.FailedAttackResult at 0x7feeac0afdc0>,\n",
       " <textattack.attack_results.failed_attack_result.FailedAttackResult at 0x7feeace2cc40>,\n",
       " <textattack.attack_results.failed_attack_result.FailedAttackResult at 0x7feeac0afe80>,\n",
       " <textattack.attack_results.failed_attack_result.FailedAttackResult at 0x7feea6f9c970>,\n",
       " <textattack.attack_results.failed_attack_result.FailedAttackResult at 0x7feea6f9c4f0>,\n",
       " <textattack.attack_results.failed_attack_result.FailedAttackResult at 0x7feeaf0e2a90>,\n",
       " <textattack.attack_results.failed_attack_result.FailedAttackResult at 0x7feea513c040>,\n",
       " <textattack.attack_results.failed_attack_result.FailedAttackResult at 0x7feea2120580>,\n",
       " <textattack.attack_results.failed_attack_result.FailedAttackResult at 0x7feeac0af4c0>,\n",
       " <textattack.attack_results.successful_attack_result.SuccessfulAttackResult at 0x7feea2702400>,\n",
       " <textattack.attack_results.failed_attack_result.FailedAttackResult at 0x7feeac865d90>,\n",
       " <textattack.attack_results.failed_attack_result.FailedAttackResult at 0x7feeaeb2c8e0>,\n",
       " <textattack.attack_results.failed_attack_result.FailedAttackResult at 0x7feea62d9cd0>,\n",
       " <textattack.attack_results.failed_attack_result.FailedAttackResult at 0x7feea9dd12e0>,\n",
       " <textattack.attack_results.failed_attack_result.FailedAttackResult at 0x7feea9e88520>,\n",
       " <textattack.attack_results.failed_attack_result.FailedAttackResult at 0x7feeadc96f40>,\n",
       " <textattack.attack_results.failed_attack_result.FailedAttackResult at 0x7feeafcdeeb0>,\n",
       " <textattack.attack_results.failed_attack_result.FailedAttackResult at 0x7feeac0af9d0>,\n",
       " <textattack.attack_results.failed_attack_result.FailedAttackResult at 0x7feea2120b80>,\n",
       " <textattack.attack_results.successful_attack_result.SuccessfulAttackResult at 0x7feea2120130>,\n",
       " <textattack.attack_results.failed_attack_result.FailedAttackResult at 0x7feeb0e4e2b0>,\n",
       " <textattack.attack_results.failed_attack_result.FailedAttackResult at 0x7feeb0e42e50>,\n",
       " <textattack.attack_results.failed_attack_result.FailedAttackResult at 0x7feeb0e42880>,\n",
       " <textattack.attack_results.failed_attack_result.FailedAttackResult at 0x7feeaccd8ac0>,\n",
       " <textattack.attack_results.failed_attack_result.FailedAttackResult at 0x7feeaccd8190>,\n",
       " <textattack.attack_results.skipped_attack_result.SkippedAttackResult at 0x7feeaccd8070>,\n",
       " <textattack.attack_results.failed_attack_result.FailedAttackResult at 0x7feea2120fa0>,\n",
       " <textattack.attack_results.failed_attack_result.FailedAttackResult at 0x7feeace282b0>,\n",
       " <textattack.attack_results.successful_attack_result.SuccessfulAttackResult at 0x7feeb0b992e0>,\n",
       " <textattack.attack_results.failed_attack_result.FailedAttackResult at 0x7feeabe872e0>,\n",
       " <textattack.attack_results.failed_attack_result.FailedAttackResult at 0x7feeb13e2d30>,\n",
       " <textattack.attack_results.successful_attack_result.SuccessfulAttackResult at 0x7feeb0e42bb0>,\n",
       " <textattack.attack_results.failed_attack_result.FailedAttackResult at 0x7feeb1f5db80>]"
      ]
     },
     "execution_count": 24,
     "metadata": {},
     "output_type": "execute_result"
    }
   ],
   "source": [
    "from textattack.datasets import HuggingFaceDataset\n",
    "from textattack.attack_recipes import TextFoolerJin2019, DeepWordBugGao2018, TextBuggerLi2018, GeneticAlgorithmAlzantot2018, PWWSRen2019\n",
    "from textattack import Attacker\n",
    "from textattack import AttackArgs\n",
    "\n",
    "# dataset = custom_dataset\n",
    "attack = DeepWordBugGao2018.build(model_wrapper)\n",
    "\n",
    "# dataset = HuggingFaceDataset(\"newsgroup\", None, \"test\")\n",
    "\n",
    "attack_args = AttackArgs(num_examples=200, log_to_csv=\"hd_attack_deepwordbug_window_5.csv\")\n",
    "attacker = Attacker(attack, dataset, attack_args)\n",
    "attacker.attack_dataset()\n",
    "\n"
   ]
  },
  {
   "cell_type": "code",
   "execution_count": null,
   "metadata": {},
   "outputs": [],
   "source": []
  },
  {
   "cell_type": "code",
   "execution_count": null,
   "metadata": {},
   "outputs": [],
   "source": []
  },
  {
   "cell_type": "code",
   "execution_count": null,
   "metadata": {},
   "outputs": [],
   "source": []
  }
 ],
 "metadata": {
  "kernelspec": {
   "display_name": "Python 3 (ipykernel)",
   "language": "python",
   "name": "python3"
  },
  "language_info": {
   "codemirror_mode": {
    "name": "ipython",
    "version": 3
   },
   "file_extension": ".py",
   "mimetype": "text/x-python",
   "name": "python",
   "nbconvert_exporter": "python",
   "pygments_lexer": "ipython3",
   "version": "3.8.10"
  }
 },
 "nbformat": 4,
 "nbformat_minor": 4
}
